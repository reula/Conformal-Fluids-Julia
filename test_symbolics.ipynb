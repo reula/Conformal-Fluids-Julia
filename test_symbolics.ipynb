{
 "cells": [
  {
   "cell_type": "code",
   "execution_count": 1,
   "id": "c090afcf-7c2e-433c-8e3d-b5c419595555",
   "metadata": {},
   "outputs": [],
   "source": [
    "using Symbolics\n",
    "using LinearAlgebra"
   ]
  },
  {
   "cell_type": "code",
   "execution_count": 45,
   "id": "255786fc-e5b0-4f62-b8c0-15641d98d153",
   "metadata": {},
   "outputs": [
    {
     "data": {
      "text/plain": [
       "f (generic function with 1 method)"
      ]
     },
     "execution_count": 45,
     "metadata": {},
     "output_type": "execute_result"
    }
   ],
   "source": [
    "function f_old(v)\n",
    "    return [-v[2],v[1]]\n",
    "end\n",
    "\n",
    "function f(v)\n",
    "    g = [-1 0; 0 1]\n",
    "    return Symbolics.scalarize(g*v)\n",
    "end"
   ]
  },
  {
   "cell_type": "code",
   "execution_count": 47,
   "id": "59dddee9-a1f2-4845-90e8-04ef891210c0",
   "metadata": {},
   "outputs": [
    {
     "data": {
      "text/latex": [
       "\\begin{equation}\n",
       "\\left[\n",
       "\\begin{array}{cc}\n",
       "-1 & 0 \\\\\n",
       "0 & 1 \\\\\n",
       "\\end{array}\n",
       "\\right] vs\n",
       "\\end{equation}\n"
      ],
      "text/plain": [
       "([-1 0; 0 1]*vs)[Base.OneTo(2)]"
      ]
     },
     "execution_count": 47,
     "metadata": {},
     "output_type": "execute_result"
    }
   ],
   "source": [
    "@variables vs[1:2], us[1:2]\n",
    "g = [-1 0; 0 1]\n",
    "g*vs"
   ]
  },
  {
   "cell_type": "code",
   "execution_count": 43,
   "id": "c9ecebb4-84d2-4854-b244-45ad7a5229b2",
   "metadata": {},
   "outputs": [
    {
     "data": {
      "text/latex": [
       "\\begin{equation}\n",
       "\\left[\n",
       "\\begin{array}{c}\n",
       " - vs{_1} \\\\\n",
       "vs{_2} \\\\\n",
       "\\end{array}\n",
       "\\right]\n",
       "\\end{equation}\n"
      ],
      "text/plain": [
       "2-element Vector{Num}:\n",
       " -vs[1]\n",
       "  vs[2]"
      ]
     },
     "execution_count": 43,
     "metadata": {},
     "output_type": "execute_result"
    }
   ],
   "source": [
    "\n",
    "Symbolics.scalarize(g*vs)"
   ]
  },
  {
   "cell_type": "code",
   "execution_count": 49,
   "id": "c92a6321-5891-43f9-8dcc-90b9fa0f3452",
   "metadata": {},
   "outputs": [
    {
     "ename": "LoadError",
     "evalue": "MethodError: no method matching similar(::Type{Matrix{Num}}, ::Tuple{Base.OneTo{Int64}, UnitRange{Int64}})\n\u001b[0mClosest candidates are:\n\u001b[0m  similar(\u001b[91m::AbstractArray{T, N} where N\u001b[39m, ::Tuple) where T at abstractarray.jl:740\n\u001b[0m  similar(::Type{T}, \u001b[91m::Union{Integer, AbstractUnitRange}...\u001b[39m) where T<:AbstractArray at abstractarray.jl:783\n\u001b[0m  similar(::Type{A}, \u001b[91m::Union{Tuple{StaticArrays.SOneTo, Vararg{Union{Integer, Base.OneTo, StaticArrays.SOneTo}, N} where N}, Tuple{Union{Integer, Base.OneTo}, StaticArrays.SOneTo, Vararg{Union{Integer, Base.OneTo, StaticArrays.SOneTo}, N} where N}, Tuple{Union{Integer, Base.OneTo}, Union{Integer, Base.OneTo}, StaticArrays.SOneTo, Vararg{Union{Integer, Base.OneTo, StaticArrays.SOneTo}, N} where N}}\u001b[39m) where A<:AbstractArray at /Users/reula/.julia/packages/StaticArrays/OWJK7/src/abstractarray.jl:177\n\u001b[0m  ...",
     "output_type": "error",
     "traceback": [
      "MethodError: no method matching similar(::Type{Matrix{Num}}, ::Tuple{Base.OneTo{Int64}, UnitRange{Int64}})\n\u001b[0mClosest candidates are:\n\u001b[0m  similar(\u001b[91m::AbstractArray{T, N} where N\u001b[39m, ::Tuple) where T at abstractarray.jl:740\n\u001b[0m  similar(::Type{T}, \u001b[91m::Union{Integer, AbstractUnitRange}...\u001b[39m) where T<:AbstractArray at abstractarray.jl:783\n\u001b[0m  similar(::Type{A}, \u001b[91m::Union{Tuple{StaticArrays.SOneTo, Vararg{Union{Integer, Base.OneTo, StaticArrays.SOneTo}, N} where N}, Tuple{Union{Integer, Base.OneTo}, StaticArrays.SOneTo, Vararg{Union{Integer, Base.OneTo, StaticArrays.SOneTo}, N} where N}, Tuple{Union{Integer, Base.OneTo}, Union{Integer, Base.OneTo}, StaticArrays.SOneTo, Vararg{Union{Integer, Base.OneTo, StaticArrays.SOneTo}, N} where N}}\u001b[39m) where A<:AbstractArray at /Users/reula/.julia/packages/StaticArrays/OWJK7/src/abstractarray.jl:177\n\u001b[0m  ...",
      "",
      "Stacktrace:",
      " [1] _array_for(#unused#::Type{Num}, itr::Base.Iterators.ProductIterator{Tuple{Vector{Num}, Symbolics.Arr{Num, 1}}}, #unused#::Base.HasShape{2})",
      "   @ Base ./array.jl:670",
      " [2] jacobian(ops::Vector{Num}, vars::Symbolics.Arr{Num, 1}; simplify::Bool)",
      "   @ Symbolics ~/.julia/packages/Symbolics/ohRLi/src/diff.jl:369",
      " [3] jacobian(ops::Vector{Num}, vars::Symbolics.Arr{Num, 1})",
      "   @ Symbolics ~/.julia/packages/Symbolics/ohRLi/src/diff.jl:369",
      " [4] top-level scope",
      "   @ In[49]:1",
      " [5] eval",
      "   @ ./boot.jl:360 [inlined]",
      " [6] include_string(mapexpr::typeof(REPL.softscope), mod::Module, code::String, filename::String)",
      "   @ Base ./loading.jl:1094"
     ]
    }
   ],
   "source": [
    "JFS_f = Symbolics.jacobian(f_old(vs),vs);\n",
    "#JF_f_exp = Symbolics.build_function(JFS_f, f, vs);\n",
    "#JFac_f = eval(JF_f_exp[1]);"
   ]
  },
  {
   "cell_type": "code",
   "execution_count": 55,
   "id": "debcea06-5488-491d-b6f3-54ea56e9ede8",
   "metadata": {},
   "outputs": [
    {
     "data": {
      "text/plain": [
       "3"
      ]
     },
     "execution_count": 55,
     "metadata": {},
     "output_type": "execute_result"
    }
   ],
   "source": [
    "function norm_g(v)\n",
    "    g = [-1 0; 0 1]\n",
    "    return Symbolics.scalarize(v'*g*v)\n",
    "end\n",
    "norm_g([1;2])"
   ]
  },
  {
   "cell_type": "code",
   "execution_count": 56,
   "id": "5d91a9da-0d0d-482e-9c8c-0380cb78496c",
   "metadata": {},
   "outputs": [
    {
     "ename": "LoadError",
     "evalue": "MethodError: no method matching similar(::Type{Vector{Num}}, ::Tuple{UnitRange{Int64}})\n\u001b[0mClosest candidates are:\n\u001b[0m  similar(\u001b[91m::AbstractArray{T, N} where N\u001b[39m, ::Tuple) where T at abstractarray.jl:740\n\u001b[0m  similar(::Type{T}, \u001b[91m::Union{Integer, AbstractUnitRange}...\u001b[39m) where T<:AbstractArray at abstractarray.jl:783\n\u001b[0m  similar(::Type{A}, \u001b[91m::Union{Tuple{StaticArrays.SOneTo, Vararg{Union{Integer, Base.OneTo, StaticArrays.SOneTo}, N} where N}, Tuple{Union{Integer, Base.OneTo}, StaticArrays.SOneTo, Vararg{Union{Integer, Base.OneTo, StaticArrays.SOneTo}, N} where N}, Tuple{Union{Integer, Base.OneTo}, Union{Integer, Base.OneTo}, StaticArrays.SOneTo, Vararg{Union{Integer, Base.OneTo, StaticArrays.SOneTo}, N} where N}}\u001b[39m) where A<:AbstractArray at /Users/reula/.julia/packages/StaticArrays/OWJK7/src/abstractarray.jl:177\n\u001b[0m  ...",
     "output_type": "error",
     "traceback": [
      "MethodError: no method matching similar(::Type{Vector{Num}}, ::Tuple{UnitRange{Int64}})\n\u001b[0mClosest candidates are:\n\u001b[0m  similar(\u001b[91m::AbstractArray{T, N} where N\u001b[39m, ::Tuple) where T at abstractarray.jl:740\n\u001b[0m  similar(::Type{T}, \u001b[91m::Union{Integer, AbstractUnitRange}...\u001b[39m) where T<:AbstractArray at abstractarray.jl:783\n\u001b[0m  similar(::Type{A}, \u001b[91m::Union{Tuple{StaticArrays.SOneTo, Vararg{Union{Integer, Base.OneTo, StaticArrays.SOneTo}, N} where N}, Tuple{Union{Integer, Base.OneTo}, StaticArrays.SOneTo, Vararg{Union{Integer, Base.OneTo, StaticArrays.SOneTo}, N} where N}, Tuple{Union{Integer, Base.OneTo}, Union{Integer, Base.OneTo}, StaticArrays.SOneTo, Vararg{Union{Integer, Base.OneTo, StaticArrays.SOneTo}, N} where N}}\u001b[39m) where A<:AbstractArray at /Users/reula/.julia/packages/StaticArrays/OWJK7/src/abstractarray.jl:177\n\u001b[0m  ...",
      "",
      "Stacktrace:",
      " [1] _array_for(#unused#::Type{Num}, itr::Symbolics.Arr{Num, 1}, #unused#::Base.HasShape{1})",
      "   @ Base ./array.jl:670",
      " [2] gradient(O::Num, vars::Symbolics.Arr{Num, 1}; simplify::Bool)",
      "   @ Symbolics ~/.julia/packages/Symbolics/ohRLi/src/diff.jl:359",
      " [3] gradient(O::Num, vars::Symbolics.Arr{Num, 1})",
      "   @ Symbolics ~/.julia/packages/Symbolics/ohRLi/src/diff.jl:359",
      " [4] top-level scope",
      "   @ In[56]:1",
      " [5] eval",
      "   @ ./boot.jl:360 [inlined]",
      " [6] include_string(mapexpr::typeof(REPL.softscope), mod::Module, code::String, filename::String)",
      "   @ Base ./loading.jl:1094"
     ]
    }
   ],
   "source": [
    "Grad_norm_g = Symbolics.gradient(norm_g(vs),vs);"
   ]
  },
  {
   "cell_type": "code",
   "execution_count": 97,
   "id": "1ce95e7c-5635-45f8-af37-b750267a37ea",
   "metadata": {},
   "outputs": [
    {
     "data": {
      "text/plain": [
       "1-element Vector{Symbolics.Arr{Num, 1}}:\n",
       " v[1:2]"
      ]
     },
     "execution_count": 97,
     "metadata": {},
     "output_type": "execute_result"
    }
   ],
   "source": [
    "function f(x)\n",
    "    #return sum(x.*x)\n",
    "    #return x[1]^2+x[2]^2\n",
    "    return Symbolics.scalarize(sum(x.*x))\n",
    "end\n",
    "\n",
    "@variables v[1:2]"
   ]
  },
  {
   "cell_type": "code",
   "execution_count": 98,
   "id": "47e68d31-0f16-4ed4-99e2-dba86b1164e5",
   "metadata": {},
   "outputs": [
    {
     "data": {
      "text/latex": [
       "\\begin{equation}\n",
       "v{_1}^{2} + v{_2}^{2}\n",
       "\\end{equation}\n"
      ],
      "text/plain": [
       "v[1]^2 + v[2]^2"
      ]
     },
     "execution_count": 98,
     "metadata": {},
     "output_type": "execute_result"
    }
   ],
   "source": [
    "f(v)"
   ]
  },
  {
   "cell_type": "code",
   "execution_count": 106,
   "id": "8a1fd5ad-824d-416e-82df-fbf5ba076ddc",
   "metadata": {},
   "outputs": [],
   "source": [
    "#∇f = Symbolics.gradient(f(v),[v[1],v[2]]);\n",
    "s = [v[i] for i ∈ 1:2]\n",
    "∇f = Symbolics.gradient(f(v),s);"
   ]
  },
  {
   "cell_type": "code",
   "execution_count": 107,
   "id": "f2a0e0c3-7be4-4f16-8767-09ec2c4cd179",
   "metadata": {},
   "outputs": [
    {
     "data": {
      "text/latex": [
       "\\begin{equation}\n",
       "\\left[\n",
       "\\begin{array}{c}\n",
       "2 v{_1} \\\\\n",
       "2 v{_2} \\\\\n",
       "\\end{array}\n",
       "\\right]\n",
       "\\end{equation}\n"
      ],
      "text/plain": [
       "2-element Vector{Num}:\n",
       " 2v[1]\n",
       " 2v[2]"
      ]
     },
     "execution_count": 107,
     "metadata": {},
     "output_type": "execute_result"
    }
   ],
   "source": [
    "∇f"
   ]
  },
  {
   "cell_type": "code",
   "execution_count": 130,
   "id": "ba2e5a0b-33a6-4b19-ad95-0c9e476e5060",
   "metadata": {},
   "outputs": [
    {
     "data": {
      "text/latex": [
       "\\begin{equation}\n",
       "\\left( v{_1} l{{_1}}ˏ{_1} + v{_2} l{{_1}}ˏ{_2} \\right) v{_1} + \\left( v{_1} l{{_2}}ˏ{_1} + v{_2} l{{_2}}ˏ{_2} \\right) v{_2}\n",
       "\\end{equation}\n"
      ],
      "text/plain": [
       "(v[1]*l[1, 1] + v[2]*l[1, 2])*v[1] + (v[1]*l[2, 1] + v[2]*l[2, 2])*v[2]"
      ]
     },
     "execution_count": 130,
     "metadata": {},
     "output_type": "execute_result"
    }
   ],
   "source": [
    "#g = [-1. 0.; 0. 1.]\n",
    "\n",
    "@variables l[1:2,1:2] \n",
    "\n",
    "function h(x,g)   \n",
    "    #xs = Symbolics.scalarize(x)\n",
    "    #return xs'*g*xs\n",
    "    Symbolics.scalarize(x)'*Symbolics.scalarize(g*x)\n",
    "end\n",
    "#h(v,l)\n",
    "\n",
    "Symbolics.scalarize(v)'*Symbolics.scalarize(l*v)"
   ]
  },
  {
   "cell_type": "code",
   "execution_count": 132,
   "id": "e87b9fc7-192a-4339-95bf-62bcd941d1c0",
   "metadata": {},
   "outputs": [
    {
     "data": {
      "text/latex": [
       "\\begin{equation}\n",
       "\\left[\n",
       "\\begin{array}{c}\n",
       "\\left( l{{_1}}ˏ{_2} + l{{_2}}ˏ{_1} \\right) v{_2} + 2 v{_1} l{{_1}}ˏ{_1} \\\\\n",
       "\\left( l{{_1}}ˏ{_2} + l{{_2}}ˏ{_1} \\right) v{_1} + 2 v{_2} l{{_2}}ˏ{_2} \\\\\n",
       "\\end{array}\n",
       "\\right]\n",
       "\\end{equation}\n"
      ],
      "text/plain": [
       "2-element Vector{Num}:\n",
       " (l[1, 2] + l[2, 1])*v[2] + 2v[1]*l[1, 1]\n",
       " (l[1, 2] + l[2, 1])*v[1] + 2v[2]*l[2, 2]"
      ]
     },
     "execution_count": 132,
     "metadata": {},
     "output_type": "execute_result"
    }
   ],
   "source": [
    "∇h = Symbolics.gradient(h(v,l),s;simplify=true)"
   ]
  },
  {
   "cell_type": "code",
   "execution_count": 138,
   "id": "85516960-46bd-455e-8395-0a20a1bbfc04",
   "metadata": {},
   "outputs": [
    {
     "data": {
      "text/plain": [
       "2-element Vector{Float64}:\n",
       " -2.0\n",
       "  2.0"
      ]
     },
     "execution_count": 138,
     "metadata": {},
     "output_type": "execute_result"
    }
   ],
   "source": [
    "∇h_exp = Symbolics.build_function(∇h,v,l);\n",
    "∇h_e = eval(∇h_exp[1]);\n",
    "∇h_e([1.,1],[-1.0 0.0;0.0 1.0])"
   ]
  },
  {
   "cell_type": "code",
   "execution_count": 140,
   "id": "e313fb7a-a878-4a54-b43f-8cb1611e9fa3",
   "metadata": {},
   "outputs": [
    {
     "data": {
      "text/plain": [
       "st (generic function with 1 method)"
      ]
     },
     "execution_count": 140,
     "metadata": {},
     "output_type": "execute_result"
    }
   ],
   "source": [
    "function st(t)\n",
    "    u = ones(2)\n",
    "    u[1] = -1.0\n",
    "    g = Diagonal(u) + zeros(2,2)\n",
    "    return τ₂= tr(Symbolics.scalarize(t)*g'*Symbolics.scalarize(t)*g)\n",
    "end"
   ]
  },
  {
   "cell_type": "code",
   "execution_count": 141,
   "id": "c4fa9ff7-88f7-498b-a400-b3f0e7bd8410",
   "metadata": {},
   "outputs": [
    {
     "data": {
      "text/plain": [
       "2.0"
      ]
     },
     "execution_count": 141,
     "metadata": {},
     "output_type": "execute_result"
    }
   ],
   "source": [
    "st([1. 0.; 0. 1.])"
   ]
  },
  {
   "cell_type": "code",
   "execution_count": 144,
   "id": "6dbeace0-9c1a-404e-8d74-528aa2aa44b2",
   "metadata": {},
   "outputs": [
    {
     "data": {
      "text/plain": [
       "1-element Vector{Symbolics.Arr{Num, 2}}:\n",
       " ts[1:2,1:2]"
      ]
     },
     "execution_count": 144,
     "metadata": {},
     "output_type": "execute_result"
    }
   ],
   "source": [
    "@variables ts[1:2,1:2]"
   ]
  },
  {
   "cell_type": "code",
   "execution_count": 174,
   "id": "c7c74b74-bfd5-40de-aa4d-f757f8999921",
   "metadata": {},
   "outputs": [
    {
     "data": {
      "text/latex": [
       "\\begin{equation}\n",
       "\\left[\n",
       "\\begin{array}{c}\n",
       "2 ts{{_1}}ˏ{_1} \\\\\n",
       " - 2.0 ts{{_1}}ˏ{_2} \\\\\n",
       " - 2.0 ts{{_2}}ˏ{_1} \\\\\n",
       "2 ts{{_2}}ˏ{_2} \\\\\n",
       "\\end{array}\n",
       "\\right]\n",
       "\\end{equation}\n"
      ],
      "text/plain": [
       "4-element Vector{Num}:\n",
       " 2ts[1, 1]\n",
       "        -2.0ts[1, 2]\n",
       "        -2.0ts[2, 1]\n",
       " 2ts[2, 2]"
      ]
     },
     "execution_count": 174,
     "metadata": {},
     "output_type": "execute_result"
    }
   ],
   "source": [
    "tst = vec([ts[i,j] for i ∈ 1:2, j ∈ 1:2])\n",
    "∇st = Symbolics.gradient(st(ts),tst;simplify=true)"
   ]
  },
  {
   "cell_type": "code",
   "execution_count": 173,
   "id": "ee76f643-86df-411f-9bb7-71943edca073",
   "metadata": {},
   "outputs": [
    {
     "data": {
      "text/latex": [
       "\\begin{equation}\n",
       "\\left[\n",
       "\\begin{array}{cc}\n",
       "2 ts{{_1}}ˏ{_1} &  - 2.0 ts{{_1}}ˏ{_2} \\\\\n",
       " - 2.0 ts{{_2}}ˏ{_1} & 2 ts{{_2}}ˏ{_2} \\\\\n",
       "\\end{array}\n",
       "\\right]\n",
       "\\end{equation}\n"
      ],
      "text/plain": [
       "2×2 adjoint(::Matrix{Num}) with eltype Num:\n",
       " 2ts[1, 1]                   -2.0ts[1, 2]\n",
       "        -2.0ts[2, 1]  2ts[2, 2]"
      ]
     },
     "execution_count": 173,
     "metadata": {},
     "output_type": "execute_result"
    }
   ],
   "source": [
    "r = [1.; 2; 3; 4]\n",
    "reshape(∇st, 2,2)'"
   ]
  },
  {
   "cell_type": "code",
   "execution_count": 169,
   "id": "a5571113-e848-4926-9f3a-9225e618f569",
   "metadata": {},
   "outputs": [
    {
     "ename": "LoadError",
     "evalue": "BoundsError: attempt to access Tuple{NTuple{4, Float64}} at index [2]",
     "output_type": "error",
     "traceback": [
      "BoundsError: attempt to access Tuple{NTuple{4, Float64}} at index [2]",
      "",
      "Stacktrace:",
      " [1] getindex",
      "   @ ./tuple.jl:29 [inlined]",
      " [2] getindex",
      "   @ ./range.jl:313 [inlined]",
      " [3] typed_hvcat(#unused#::Type{NTuple{4, Float64}}, rows::Tuple{Int64, Int64}, as::NTuple{4, Float64})",
      "   @ Base ./abstractarray.jl:1954",
      " [4] hvcat(rows::Tuple{Int64, Int64}, xs::NTuple{4, Float64})",
      "   @ Base ./abstractarray.jl:1932",
      " [5] top-level scope",
      "   @ In[169]:1",
      " [6] eval",
      "   @ ./boot.jl:360 [inlined]",
      " [7] include_string(mapexpr::typeof(REPL.softscope), mod::Module, code::String, filename::String)",
      "   @ Base ./loading.jl:1094"
     ]
    }
   ],
   "source": [
    "hvcat((2,2), Tuple(r[i] for i ∈ 1:4))"
   ]
  },
  {
   "cell_type": "code",
   "execution_count": 170,
   "id": "2c14126e-24c7-4e0a-95e7-163da7d13730",
   "metadata": {},
   "outputs": [
    {
     "ename": "LoadError",
     "evalue": "BoundsError: attempt to access Tuple{NTuple{4, Int64}} at index [2]",
     "output_type": "error",
     "traceback": [
      "BoundsError: attempt to access Tuple{NTuple{4, Int64}} at index [2]",
      "",
      "Stacktrace:",
      " [1] getindex",
      "   @ ./tuple.jl:29 [inlined]",
      " [2] getindex",
      "   @ ./range.jl:313 [inlined]",
      " [3] typed_hvcat(#unused#::Type{NTuple{4, Int64}}, rows::Tuple{Int64, Int64}, as::NTuple{4, Int64})",
      "   @ Base ./abstractarray.jl:1954",
      " [4] hvcat(rows::Tuple{Int64, Int64}, xs::NTuple{4, Int64})",
      "   @ Base ./abstractarray.jl:1932",
      " [5] top-level scope",
      "   @ In[170]:1",
      " [6] eval",
      "   @ ./boot.jl:360 [inlined]",
      " [7] include_string(mapexpr::typeof(REPL.softscope), mod::Module, code::String, filename::String)",
      "   @ Base ./loading.jl:1094"
     ]
    }
   ],
   "source": [
    "hvcat((2,2), (1, 2, 3, 4))"
   ]
  },
  {
   "cell_type": "code",
   "execution_count": null,
   "id": "d78073f8-5c85-40e5-aa70-a2578f895e64",
   "metadata": {},
   "outputs": [],
   "source": []
  }
 ],
 "metadata": {
  "kernelspec": {
   "display_name": "Julia 1.6.1",
   "language": "julia",
   "name": "julia-1.6"
  },
  "language_info": {
   "file_extension": ".jl",
   "mimetype": "application/julia",
   "name": "julia",
   "version": "1.6.1"
  }
 },
 "nbformat": 4,
 "nbformat_minor": 5
}
