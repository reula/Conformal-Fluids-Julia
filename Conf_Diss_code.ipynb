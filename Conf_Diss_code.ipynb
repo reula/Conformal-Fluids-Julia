{
 "cells": [
  {
   "cell_type": "markdown",
   "metadata": {},
   "source": [
    "## Conformally invariant dissipative relativistic fluid\n",
    "\n",
    "Here we solve numerically the equations deduced in \\ref{xxx}\n",
    "\n",
    "### To Do:\n",
    "\n",
    "1. Use KT also (probably has a mistake to check first)\n",
    "2. Compare with the other code\n",
    "3. Try some other data\n",
    "4. Find some interesting (physically) data. The double shock is interesting and could be measured. "
   ]
  },
  {
   "cell_type": "code",
   "execution_count": 1,
   "metadata": {
    "tags": []
   },
   "outputs": [],
   "source": [
    "import Pkg; \n",
    "#Pkg.activate(mktempdir())\n",
    "#Pkg.add([\n",
    "#    Pkg.PackageSpec(name=\"DifferentialEquations\", version=\"6.16.0\"),\n",
    "#    Pkg.PackageSpec(name=\"Symbolics\", version=\"0.1.22\"),\n",
    "#    Pkg.PackageSpec(name=\"ForwardDiff\", version=\"0.10\"),\n",
    "#    Pkg.PackageSpec(name=\"Plots\", version=\"1\"),\n",
    "#    Pkg.PackageSpec(name=\"LaTeXStrings\", version=\"1\"),\n",
    "#    Pkg.PackageSpec(name=\"NonlinearSolve\", version=\"0.3\"),\n",
    "#    Pkg.PackageSpec(name=\"StaticArrays\", version=\"0.12\")\n",
    "    #Pkg.PackageSpec(name=\"OrdinaryDiffEq\", version=\"6.17.0\"),\n",
    "#    ])\n",
    "#Pkg.add(\"NonlinearSolve\")\n",
    "#Pkg.add(\"StaticArrays\")\n",
    "#Pkg.add(\"IJuliaBell\")\n",
    "#Pkg.add(\"Symbolics@0.1.22\")\n",
    "#Pkg.add(\"OrdinaryDiffEq@6.17.0\")\n",
    "#using NonlinearSolve \n",
    "using StaticArrays\n",
    "using Symbolics\n",
    "using OrdinaryDiffEq\n",
    "using Plots\n",
    "using FileIO\n",
    "using IJuliaBell"
   ]
  },
  {
   "cell_type": "code",
   "execution_count": 2,
   "metadata": {},
   "outputs": [],
   "source": [
    "#mkdir(\"Resultados/Soluciones\")"
   ]
  },
  {
   "cell_type": "markdown",
   "metadata": {},
   "source": [
    "We add the modules needed for the computation:\n",
    "\n",
    "    choques_utils are the mp5 and kt shock capturing schemes\n",
    "    \n",
    "    Flux_functions_ext contain the fluxes and sources for the system\n",
    "    \n",
    "    inversion_ext the inversion between conservative and fluid quantities\n",
    "    \n",
    "The ext means that we are considering a vector of 10 variables, 5 conservative and 5 fluid variables. The fluid variables are evolved with a zero time derivative, and are updated inside the evolution equation using the inversion function."
   ]
  },
  {
   "cell_type": "code",
   "execution_count": 3,
   "metadata": {},
   "outputs": [
    {
     "data": {
      "text/plain": [
       "#11 (generic function with 1 method)"
      ]
     },
     "execution_count": 3,
     "metadata": {},
     "output_type": "execute_result"
    }
   ],
   "source": [
    "include(\"inversion_ext.jl\")"
   ]
  },
  {
   "cell_type": "code",
   "execution_count": 4,
   "metadata": {},
   "outputs": [
    {
     "data": {
      "text/plain": [
       "create_initial_data (generic function with 1 method)"
      ]
     },
     "execution_count": 4,
     "metadata": {},
     "output_type": "execute_result"
    }
   ],
   "source": [
    "include(\"choques_utils.jl\") # all functions needed for evolution\n",
    "include(\"Flux_function_ext.jl\")\n",
    "include(\"initial_data.jl\")"
   ]
  },
  {
   "cell_type": "markdown",
   "metadata": {
    "tags": []
   },
   "source": [
    "Some set of parameters:\n",
    "\n",
    "This have all $v_0(x) = flu_0[i,2] = 0.1 + 0.1 * (x[i] - x0)^4 * (x[i] - x1)^4 / (x1-x0)^8 * 250 $ in the interval $[0.4,0.6]$\n",
    "\n",
    "$\\mu = flu_0[i,1] = -1.$\n",
    "\n",
    "\n",
    "n_0 χ = [- 1.; 0.; - 1.] Speed = 1 dt/dx = 0.1 T = 2    **This is Euler**\n",
    "\n",
    "p_1 χ = [- 1.; - 2.; - 10.] Speed = 1 dt/dx = 0.1\n",
    "\n",
    "p_2 χ = [- 1.; - 2.; - 10.] Speed = 1 dt/dx = 0.01\n",
    "\n",
    "p_3 χ = [- 1.; - 2.; - 10.] Speed = 10 dt/dx = 0.01\n",
    "\n",
    "p_4 χ = [- 1.; - 0.5; - 200.] Speed = 1 dt/dx = 0.1\n",
    "\n",
    "p_5 χ = [- 1.; -0.5; - 5.] Speed = 1 dt/dx = 0.1 (con fuente) T = 2\n",
    "\n",
    "\n",
    "We now change to a zero background speed and put the pulse near zero so that they don't cross at bad places.\n",
    "\n",
    "n0_0 χ = [- 1.; 0.; - 1.] Speed = 1 dt/dx = 0.1 T = 2    **This is Euler**"
   ]
  },
  {
   "cell_type": "code",
   "execution_count": 5,
   "metadata": {},
   "outputs": [
    {
     "data": {
      "text/plain": [
       "true"
      ]
     },
     "execution_count": 5,
     "metadata": {},
     "output_type": "execute_result"
    }
   ],
   "source": [
    "Euler = false\n",
    "sod = false    # No implementado\n",
    "speed_pulse = false # a simple speed pulse (no muy interesante pues hay pulsos en las dos direcciones)\n",
    "temperature_pulse = false # a simple temperature μ pulse (no implementado)\n",
    "small_pulse_to_the_right = false # low velocity perturbation pulse in just one direction\n",
    "big_pulse_to_the_right = false # Choques (la velocidad no es muy alta todavía)\n",
    "constant_fields = false # todo constante\n",
    "big_pulse_negative_I = false\n",
    "only_diss = false\n",
    "# poner a continuación la que uno quiere usar con un true (así todos los demás quedan en false)\n",
    "\n",
    "big_pulse_to_the_right = true\n",
    "#big_pulse_to_the_right_E = true\n",
    "#big_pulse_negative_I = true   #no parece funcionar\n",
    "#small_pulse_to_the_right = true\n",
    "#only_diss = true\n",
    "#speed_pulse = true\n",
    "#constant_fields = true\n",
    "\n",
    "Euler = true"
   ]
  },
  {
   "cell_type": "code",
   "execution_count": 6,
   "metadata": {},
   "outputs": [
    {
     "data": {
      "text/plain": [
       "\"big_right_long_E\""
      ]
     },
     "execution_count": 6,
     "metadata": {},
     "output_type": "execute_result"
    }
   ],
   "source": [
    "if speed_pulse\n",
    "    name = \"speed_pulse\"\n",
    "    out_name = \"speed_pulse\" \n",
    "    L=2.4 # Length of the integration region\n",
    "    M=600 # number of space-points in the discretization\n",
    "    tf=4. # final time\n",
    "    dx = L/M\n",
    "    dt = 0.01 * dx # this depends on the maximal propagation speed\n",
    "    tol = 10^(-10) # error tolerance in inversion function (Newton-Raphson)\n",
    "    iter_max = 40  # maximum number of NR iterations\n",
    "\n",
    "    χ = [-1,-1,-20.] # the equation parameters \n",
    "    ξ = -100*π*[1, -15, -1] # new source parámeters     1/κ, 1/λ, 1/η \n",
    "    \n",
    "elseif sod\n",
    "    name = \"sod\" \n",
    "    out_name = \"sod\" \n",
    "    L=1. # Length of the integration region\n",
    "    M=400 # number of space-points in the discretization\n",
    "    tf=2. # final time\n",
    "    dx = L/M\n",
    "    dt = 0.1 * dx # this depends on the maximal propagation speed\n",
    "    tol = 10^(-10) # error tolerance in inversion function (Newton-Raphson)\n",
    "    iter_max = 40  # maximum number of NR iterations\n",
    "\n",
    "    χ = [-1,-1,-20.] # the equation parameters \n",
    "    ξ = -100*π*[1, -15, -1] # new source parámeters     1/κ, 1/λ, 1/η \n",
    "\n",
    "elseif  small_pulse_to_the_right\n",
    "    name = \"small_pulse_to_the_right\"\n",
    "    out_name = \"small_right_p\" \n",
    "    L=1. # Length of the integration region\n",
    "    M=600 # number of space-points in the discretization\n",
    "    tf=4. # 4. final time\n",
    "    dx = L/M\n",
    "    dt = 0.1 * dx # this depends on the maximal propagation speed\n",
    "    tol = 10^(-10) # error tolerance in inversion function (Newton-Raphson)\n",
    "    iter_max = 40  # maximum number of NR iterations\n",
    "    χ = [-1,-1,-20.] # the equation parameters \n",
    "    ξ = 100*π*[1, -15, -1] # new source parámeters     1/κ, 1/λ, 1/η \n",
    "    \n",
    "elseif  big_pulse_to_the_right\n",
    "    name = \"big_right_long\"\n",
    "    out_name = \"big_right_long\" \n",
    "    L=80. # Length of the integration region\n",
    "    M=600 # number of space-points in the discretization\n",
    "    tf=4. # final time\n",
    "    dx = L/M\n",
    "    dt = 0.1 * dx # this depends on the maximal propagation speed\n",
    "    tol = 10^(-10) # error tolerance in inversion function (Newton-Raphson)\n",
    "    iter_max = 400  # maximum number of NR iterations\n",
    "    \n",
    "    χ = [-1,-1,-20.] # the equation parameters \n",
    "    ξ = -100*π*[1, -15, -1] # new source parámeters     1/κ, 1/λ, 1/η \n",
    "    \n",
    "elseif  constant_fields\n",
    "    name = \"constant_fields\"\n",
    "    out_name = \"constant_fields\" \n",
    "    L=1. # Length of the integration region\n",
    "    M=6 # number of space-points in the discretization\n",
    "    tf=10. # final time\n",
    "    dx = L/M\n",
    "    dt = 0.1 * dx # this depends on the maximal propagation speed\n",
    "    tol = 10^(-10) # error tolerance in inversion function (Newton-Raphson)\n",
    "    iter_max = 400  # maximum number of NR iterations\n",
    "    \n",
    "    χ = [-1,-1,-20.] # the equation parameters \n",
    "    ξ = -100*π*[1, -15, -1] # new source parámeters     1/κ, 1/λ, 1/η \n",
    "    \n",
    "    \n",
    "elseif  big_pulse_negative_I\n",
    "    name = \"big_right_p_neg_I\" \n",
    "    out_name = name\n",
    "    L=4. # Length of the integration region\n",
    "    M=600 # number of space-points in the discretization\n",
    "    tf=0.4 # final time\n",
    "    dx = L/M\n",
    "    dt = 0.1 * dx # this depends on the maximal propagation speed\n",
    "    tol = 10^(-10) # error tolerance in inversion function (Newton-Raphson)\n",
    "    iter_max = 400  # maximum number of NR iterations\n",
    "    \n",
    "    χ = [-1,-1,-20.] # the equation parameters \n",
    "    ξ = -100*π*[1, -15, -1] # new source parámeters     1/κ, 1/λ, 1/η \n",
    "    \n",
    "elseif  only_diss\n",
    "    name = \"only_diss\"\n",
    "    out_name = name\n",
    "    L=4. # Length of the integration region\n",
    "    M=600 # number of space-points in the discretization\n",
    "    tf=1. # final time\n",
    "    dx = L/M\n",
    "    dt = 0.1 * dx # this depends on the maximal propagation speed\n",
    "    tol = 10^(-10) # error tolerance in inversion function (Newton-Raphson)\n",
    "    iter_max = 400  # maximum number of NR iterations\n",
    "    \n",
    "    χ = [-1,-1,-20.] # the equation parameters \n",
    "    ξ = -100*π*[1, -15, -1] # new source parámeters     1/κ, 1/λ, 1/η  \n",
    "end\n",
    "\n",
    "U=10 # number of fields (double the number of fields, one for fluid and the other for conservative quantities)\n",
    "N_FIELDS = U\n",
    "u_i=zeros(M*U) # flux variables for the initial data (these are used for the flux function)\n",
    "du=zeros(M*U) # for the rhs\n",
    "x = zeros(M) # the coordinates\n",
    "    \n",
    "par_eq = (χ, ξ) # parameters to use on the equations \n",
    "par_inv = (χ, tol, iter_max, U, M, F_alt!, Jac_alt) # parameters for the inversion\n",
    "    \n",
    "if Euler\n",
    "    χ[2] = 0.\n",
    "    χ[3] = 0.\n",
    "    out_name = name*\"_E\"\n",
    "#    par_eq = (χ, ξ) # parameters to use on the equations \n",
    "#    par_inv = (χ, tol, iter_max, U, M, F_alt!, Jac_alt) # parameters for the inversion \n",
    "end"
   ]
  },
  {
   "cell_type": "code",
   "execution_count": 7,
   "metadata": {
    "tags": []
   },
   "outputs": [],
   "source": [
    "fast = true\n",
    "if fast \n",
    "    #we initialize empty arrays\n",
    "    F_P = Array{Float64}(undef, U);\n",
    "\n",
    "    F_P = copy(F_P);\n",
    "    F_M = copy(F_P);\n",
    "    F_Pm3 = copy(F_P);\n",
    "    F_Pm2 = copy(F_P);\n",
    "    F_Pm1 = copy(F_P);\n",
    "    F_Pp1 = copy(F_P);\n",
    "    F_Pp2 = copy(F_P);\n",
    "    F_Pp3 = copy(F_P);\n",
    "    F_Mm3 = copy(F_P);\n",
    "    F_Mm2 = copy(F_P);\n",
    "    F_Mm1 = copy(F_P);\n",
    "    F_Mp1 = copy(F_P);\n",
    "    F_Mp2 = copy(F_P);\n",
    "    F_Mp3 = copy(F_P);\n",
    "\n",
    "    F_LP = copy(F_P);\n",
    "    F_LM = copy(F_P);\n",
    "    F_RM = copy(F_P);\n",
    "    F_RP = copy(F_P);\n",
    "    H_m = copy(F_P);\n",
    "    H_p = copy(F_P);\n",
    "    sourcevec = copy(F_P);\n",
    "    \n",
    "    par_mem = (F_Mm3, F_Mm2, F_Mm1, F_M, F_Mp1, F_Mp2, F_Mp3, F_Pm3, F_Pm2, \n",
    "    F_Pm1, F_P, F_Pp1, F_Pp2, F_Pp3, F_LP, F_LM, F_RP, F_RM, H_m, H_p, sourcevec); \n",
    "end\n",
    "U;"
   ]
  },
  {
   "cell_type": "code",
   "execution_count": 8,
   "metadata": {},
   "outputs": [],
   "source": [
    "if fast \n",
    "        par = (par_eq, par_inv, 1. /dx, U, M, Flux_imp!, Speed_max, Is!, c_to_f!, par_mem);\n",
    "        #par = (par_eq, par_inv, 1. /dx, U, M, Flux_imp!, Speed_max, Is_dummy!, c_to_f!, par_mem);\n",
    "    #if Euler\n",
    "    #    par = (par_eq, par_inv, 1. /dx, U, M, Flux_imp!, Speed_max, Is_dummy!, c_to_f!, par_mem);\n",
    "    #end\n",
    "else\n",
    "    #full list of parameters for the evolution function\n",
    "        par = (par_eq, par_inv, 1. /dx, U, M, Flux_imp, Speed_max, Is, c_to_f!, par_mem);\n",
    "        #par = (par_eq, par_inv, 1. /dx, U, M, Flux_imp, Speed_max, Is_dummy, c_to_f!, par_mem);\n",
    "        #par_cut = (par_eq, par_inv, 1. /dx, U, M, Flux_cut, Speed_max, Is, c_to_f!, par_mem);\n",
    "end\n",
    "U;"
   ]
  },
  {
   "cell_type": "code",
   "execution_count": 9,
   "metadata": {
    "tags": []
   },
   "outputs": [
    {
     "name": "stdout",
     "output_type": "stream",
     "text": [
      "unknown data_name\n"
     ]
    },
    {
     "ename": "LoadError",
     "evalue": "MethodError: no method matching reshape(::Nothing, ::Tuple{Int64, Int64})\n\u001b[0mClosest candidates are:\n\u001b[0m  reshape(\u001b[91m::OffsetArrays.OffsetArray\u001b[39m, ::Tuple{Vararg{Int64, N}} where N) at /Users/reula/.julia/packages/OffsetArrays/rbmit/src/OffsetArrays.jl:352\n\u001b[0m  reshape(\u001b[91m::OffsetArrays.OffsetArray\u001b[39m, ::Tuple{Vararg{Union{Colon, Int64}, N} where N}) at /Users/reula/.julia/packages/OffsetArrays/rbmit/src/OffsetArrays.jl:356\n\u001b[0m  reshape(\u001b[91m::OffsetArrays.OffsetArray\u001b[39m, ::Tuple{Union{Integer, Base.OneTo}, Vararg{Union{Integer, Base.OneTo}, N} where N}) at /Users/reula/.julia/packages/OffsetArrays/rbmit/src/OffsetArrays.jl:351\n\u001b[0m  ...",
     "output_type": "error",
     "traceback": [
      "MethodError: no method matching reshape(::Nothing, ::Tuple{Int64, Int64})\n\u001b[0mClosest candidates are:\n\u001b[0m  reshape(\u001b[91m::OffsetArrays.OffsetArray\u001b[39m, ::Tuple{Vararg{Int64, N}} where N) at /Users/reula/.julia/packages/OffsetArrays/rbmit/src/OffsetArrays.jl:352\n\u001b[0m  reshape(\u001b[91m::OffsetArrays.OffsetArray\u001b[39m, ::Tuple{Vararg{Union{Colon, Int64}, N} where N}) at /Users/reula/.julia/packages/OffsetArrays/rbmit/src/OffsetArrays.jl:356\n\u001b[0m  reshape(\u001b[91m::OffsetArrays.OffsetArray\u001b[39m, ::Tuple{Union{Integer, Base.OneTo}, Vararg{Union{Integer, Base.OneTo}, N} where N}) at /Users/reula/.julia/packages/OffsetArrays/rbmit/src/OffsetArrays.jl:351\n\u001b[0m  ...",
      "",
      "Stacktrace:",
      " [1] top-level scope",
      "   @ In[9]:4",
      " [2] eval",
      "   @ ./boot.jl:360 [inlined]",
      " [3] include_string(mapexpr::typeof(REPL.softscope), mod::Module, code::String, filename::String)",
      "   @ Base ./loading.jl:1094"
     ]
    }
   ],
   "source": [
    "par_inidat = χ, U, M, Euler, F_alt!, Jac_alt\n",
    "\n",
    "u_i = create_initial_data(name, u_i, par_inidat)\n",
    "con_0 = view(reshape(u_i,(M,U)),:,1:U÷2)\n",
    "flu_0 = view(reshape(u_i,(M,U)),:,U÷2+1:U);\n",
    "χ"
   ]
  },
  {
   "cell_type": "code",
   "execution_count": 10,
   "metadata": {},
   "outputs": [
    {
     "ename": "LoadError",
     "evalue": "UndefVarError: flu_0 not defined",
     "output_type": "error",
     "traceback": [
      "UndefVarError: flu_0 not defined",
      "",
      "Stacktrace:",
      " [1] top-level scope",
      "   @ In[10]:1",
      " [2] eval",
      "   @ ./boot.jl:360 [inlined]",
      " [3] include_string(mapexpr::typeof(REPL.softscope), mod::Module, code::String, filename::String)",
      "   @ Base ./loading.jl:1094"
     ]
    }
   ],
   "source": [
    "plot(flu_0[:,1]) #plot(flu_0[:,1] .- 6)\n",
    "plot!(con_0[:,1])"
   ]
  },
  {
   "cell_type": "code",
   "execution_count": 11,
   "metadata": {
    "tags": []
   },
   "outputs": [
    {
     "ename": "LoadError",
     "evalue": "UndefVarError: flu_0 not defined",
     "output_type": "error",
     "traceback": [
      "UndefVarError: flu_0 not defined",
      "",
      "Stacktrace:",
      " [1] top-level scope",
      "   @ In[11]:1",
      " [2] eval",
      "   @ ./boot.jl:360 [inlined]",
      " [3] include_string(mapexpr::typeof(REPL.softscope), mod::Module, code::String, filename::String)",
      "   @ Base ./loading.jl:1094"
     ]
    }
   ],
   "source": [
    "plot(x,flu_0[:,2], label=\"fluid\")\n",
    "plot!(x,con_0[:,2], label=\"cons\")"
   ]
  },
  {
   "cell_type": "code",
   "execution_count": 12,
   "metadata": {
    "tags": []
   },
   "outputs": [
    {
     "data": {
      "text/plain": [
       "evolution (generic function with 1 method)"
      ]
     },
     "execution_count": 12,
     "metadata": {},
     "output_type": "execute_result"
    }
   ],
   "source": [
    "function evolution(du,u,par,t)\n",
    "    # this is the function that is taken by the time-integrator\n",
    "    par_eq, par_inv, h_1, U, M, Flux, Speed_max, Source, c_to_f = par\n",
    "    χ, ξ = par_eq\n",
    "    \n",
    "    if Euler\n",
    "    c_to_f_direct!(u,(U, M))\n",
    "    else\n",
    "    c_to_f!(u,par_inv)\n",
    "    end\n",
    "    \n",
    "    par_mp5 = (h_1, U, M, χ, par_eq, Flux, Speed_max, Source)\n",
    "    for j ∈ 1:M\n",
    "        mp5(du,u,par_mp5,j,t)\n",
    "    end\n",
    "    return du[:]\n",
    "end"
   ]
  },
  {
   "cell_type": "code",
   "execution_count": 13,
   "metadata": {},
   "outputs": [
    {
     "data": {
      "text/plain": [
       "evolution_fast (generic function with 1 method)"
      ]
     },
     "execution_count": 13,
     "metadata": {},
     "output_type": "execute_result"
    }
   ],
   "source": [
    "function evolution_fast(du,u,par,t)\n",
    "    # this is the function that is taken by the time-integrator\n",
    "    par_eq, par_inv, h, U, M, Flux, Speed_max, Source, c_to_f, par_mem = par\n",
    "    \n",
    "    χ, ξ = par_eq\n",
    "    \n",
    "    if Euler\n",
    "    c_to_f_direct!(u,(U, M))\n",
    "    else\n",
    "    c_to_f!(u,par_inv)\n",
    "    end\n",
    "    \n",
    "    par_mp5 = (h, U, M, χ, par_eq, Flux, Speed_max, Source, par_mem)\n",
    "    \n",
    "    mp5!(du,u,par_mp5,t)\n",
    "    return du[:]\n",
    "end"
   ]
  },
  {
   "cell_type": "markdown",
   "metadata": {},
   "source": [
    "Me make a smaller `dt` evolution for a while in case that the field has to adjust to the sources in a very fast exponential way."
   ]
  },
  {
   "cell_type": "code",
   "execution_count": 14,
   "metadata": {
    "tags": []
   },
   "outputs": [],
   "source": [
    "if !Euler && big_pulse_to_the_right && false\n",
    "    u_r = zeros(U*M) # Initialization for the second, longer dt step.\n",
    "    prob_i = ODEProblem(evolution_fast,u_i,(0.0,0.01*tf),par); # solves without changing e and s\n",
    "\n",
    "    \n",
    "    #sol = solve(prob_euler_direct,SSPRK33(),dt=dt,saveat=0.01*t); # This, I think, is a TVD method\n",
    "    sol_i = solve(prob_i,SSPRK33(),dt=0.01*dt,saveat=0.001*tf); \n",
    "    u_r = sol_i(0.01*tf)\n",
    "\n",
    "    field = 1\n",
    "    #plot(x,reshape(sol(0.),(M,U))[:,field])\n",
    "    #plot!(x,reshape(sol(t/8),(M,U))[:,field])\n",
    "    #plot!(x,reshape(sol(t/4),(M,U))[:,field])\n",
    "    #plot!(x,reshape(sol(t/2),(M,U))[:,field])\n",
    "    plot(x,reshape(sol_i(tf/1),(M,U))[:,field])\n",
    "\n",
    "    prob = ODEProblem(evolution_fast,u_r,(0.1*tf,0.5*t),par);\n",
    "    sol = solve(prob,SSPRK33(),dt=dt,saveat=0.01*t);\n",
    "\n",
    "    @bell sleep(3)\n",
    "\n",
    "\n",
    "    sol_i;\n",
    "\n",
    "    field = 4\n",
    "    plot(x,reshape(sol_i(0.1*t),(M,U))[:,field])\n",
    "    u_r = sol_i(0.1*t)\n",
    "    plot!(x,reshape(u_r,(M,U))[:,field])\n",
    "end"
   ]
  },
  {
   "cell_type": "code",
   "execution_count": 15,
   "metadata": {
    "tags": []
   },
   "outputs": [
    {
     "ename": "LoadError",
     "evalue": "StackOverflowError:",
     "output_type": "error",
     "traceback": [
      "StackOverflowError:",
      "",
      "Stacktrace:",
      " [1] recursive_unitless_bottom_eltype(a::Type{Any}) (repeats 79984 times)",
      "   @ RecursiveArrayTools ~/.julia/packages/RecursiveArrayTools/85a1k/src/utils.jl:91"
     ]
    }
   ],
   "source": [
    "prob = ODEProblem(evolution_fast,u_i,(0.0,tf),par);\n",
    "sol = solve(prob,SSPRK33(),dt=dt,saveat=0.01*tf);\n",
    "    #sol = solve(prob,SSPRK33(),saveat=0.01*t);\n",
    "#sol = solve(prob,SSPRK33(),dt=dt,save_everystep=false) # to get just the end values\n",
    "#sol = solve(prob,RK4(),dt=dt);\n",
    "@bell sleep(3)"
   ]
  },
  {
   "cell_type": "code",
   "execution_count": 16,
   "metadata": {
    "tags": []
   },
   "outputs": [
    {
     "ename": "LoadError",
     "evalue": "UndefVarError: sol not defined",
     "output_type": "error",
     "traceback": [
      "UndefVarError: sol not defined",
      "",
      "Stacktrace:",
      " [1] top-level scope",
      "   @ In[16]:1",
      " [2] eval",
      "   @ ./boot.jl:360 [inlined]",
      " [3] include_string(mapexpr::typeof(REPL.softscope), mod::Module, code::String, filename::String)",
      "   @ Base ./loading.jl:1094"
     ]
    }
   ],
   "source": [
    "save(\"Resultados/Soluciones/$out_name\"*\"_fast.jld2\", Dict(\"$out_name\"*\"_fast\" => sol))\n",
    "#sol = load(\"Resultados/Soluciones/$name.jld2\",\"$name\");"
   ]
  },
  {
   "cell_type": "code",
   "execution_count": 17,
   "metadata": {},
   "outputs": [
    {
     "data": {
      "text/plain": [
       "3-element Vector{Float64}:\n",
       " -1.0\n",
       "  0.0\n",
       "  0.0"
      ]
     },
     "execution_count": 17,
     "metadata": {},
     "output_type": "execute_result"
    }
   ],
   "source": [
    "par;\n",
    "χ"
   ]
  },
  {
   "cell_type": "code",
   "execution_count": 18,
   "metadata": {},
   "outputs": [
    {
     "ename": "LoadError",
     "evalue": "UndefVarError: sol not defined",
     "output_type": "error",
     "traceback": [
      "UndefVarError: sol not defined",
      "",
      "Stacktrace:",
      " [1] top-level scope",
      "   @ In[18]:4",
      " [2] eval",
      "   @ ./boot.jl:360 [inlined]",
      " [3] include_string(mapexpr::typeof(REPL.softscope), mod::Module, code::String, filename::String)",
      "   @ Base ./loading.jl:1094"
     ]
    }
   ],
   "source": [
    "#sol(t) = sol_nr_p5(t) - sol_nr_n0(t)\n",
    "#sol(t) = sol_n0_0(t)\n",
    "field = 1\n",
    "plot(x,reshape(sol(0.),(M,U))[:,field], label=\"ti\", ls=:dot)\n",
    "plot!(x,reshape(sol(tf/8),(M,U))[:,field])\n",
    "plot!(x,reshape(sol(tf/4),(M,U))[:,field])\n",
    "plot!(x,reshape(sol(tf/2),(M,U))[:,field])\n",
    "plot!(x,reshape(sol(tf),(M,U))[:,field], label=\"tf\", ls=:dash)"
   ]
  },
  {
   "cell_type": "code",
   "execution_count": 19,
   "metadata": {},
   "outputs": [
    {
     "ename": "LoadError",
     "evalue": "UndefVarError: sol not defined",
     "output_type": "error",
     "traceback": [
      "UndefVarError: sol not defined",
      "",
      "Stacktrace:",
      " [1] macro expansion",
      "   @ ./In[19]:7 [inlined]",
      " [2] top-level scope",
      "   @ ~/.julia/packages/Plots/XuV6v/src/animation.jl:183",
      " [3] eval",
      "   @ ./boot.jl:360 [inlined]",
      " [4] include_string(mapexpr::typeof(REPL.softscope), mod::Module, code::String, filename::String)",
      "   @ Base ./loading.jl:1094"
     ]
    }
   ],
   "source": [
    "##### ssol(t) = sol_dir_n0(t)\n",
    "#ssol(t) = sol(t)\n",
    "t=tf\n",
    "shift = 0# U÷2 # 0 is conserv otherwise is fluid\n",
    "anim = @animate for i ∈ 1:100\n",
    "    t = tf*(0.01*i)\n",
    "    plot((reshape(sol(t),(M,U))[:,shift+1] .- 6.0),label=\"e\"\n",
    "        #, yaxis = (\"conserv\", (-1.5,1.5))\n",
    "    )\n",
    "    plot!((reshape(sol(t),(M,U))[:,shift+2] .- 0.),label=\"s\")\n",
    "    plot!(0.20 *reshape(sol(t),(M,U))[:,shift+3] .- 0.,label=\"c1\")\n",
    "    plot!(0.20 *reshape(sol(t),(M,U))[:,shift+4],label=\"c2\")\n",
    "    plot!(0.20 *reshape(sol(t),(M,U))[:,shift+5] .- 0.,label=\"c3\")\n",
    "end\n",
    "\n",
    "gif(anim, \"Resultados/Movies/con_$out_name.gif\", fps = 10)"
   ]
  },
  {
   "cell_type": "code",
   "execution_count": 20,
   "metadata": {},
   "outputs": [
    {
     "ename": "LoadError",
     "evalue": "UndefVarError: sol not defined",
     "output_type": "error",
     "traceback": [
      "UndefVarError: sol not defined",
      "",
      "Stacktrace:",
      " [1] ssol(t::Float64)",
      "   @ Main ./In[20]:2",
      " [2] macro expansion",
      "   @ ./In[20]:9 [inlined]",
      " [3] top-level scope",
      "   @ ~/.julia/packages/Plots/XuV6v/src/animation.jl:183",
      " [4] eval",
      "   @ ./boot.jl:360 [inlined]",
      " [5] include_string(mapexpr::typeof(REPL.softscope), mod::Module, code::String, filename::String)",
      "   @ Base ./loading.jl:1094"
     ]
    }
   ],
   "source": [
    "#ssol(t) = sol_dir_n0(t)\n",
    "ssol(t) = sol(t)\n",
    "shift = U÷2 # 0 is conserv otherwise is fluid\n",
    "t = tf \n",
    "A1 = χ[2]       #1\n",
    "A2 = -χ[3]*16/5 #-16A2 # A2 = 1.1474099846235424\n",
    "A3 = χ[3]*4     #20A1 #-1.43426248077943\n",
    "anim = @animate for i ∈ 1:100\n",
    "    plot((reshape(ssol(t*0.01*i),(M,U))[:,shift+1] .+ 1),label=\"μ\"\n",
    "        #,yaxis = (\"fluid\", (-1.25,1.25))\n",
    "    )\n",
    "    plot!((reshape(ssol(t*0.01*i),(M,U))[:,shift+2]) ,label=\"v\", ls=:dot)\n",
    "    plot!(reshape(ssol(t*0.01*i),(M,U))[:,shift+3].*50 ,label=\"x1\", ls=:dot)\n",
    "    plot!(reshape(ssol(t*0.01*i),(M,U))[:,shift+4].*500 ,label=\"x2\", ls=:dash)\n",
    "    plot!(reshape(ssol(t*0.01*i),(M,U))[:,shift+5].*500 ,label=\"x3\")\n",
    "    #plot!(1.0 .*(A1 .* reshape(ssol(t*0.01*i),(M,U))[:,shift+ 1] .+ A2 .* reshape(ssol(t*0.01*i),(M,U))[:,shift+3]  .+ A3 .* reshape(ssol(t*0.01*i),(M,U))[:,shift+5] .- 1.),label=\"modo cero\")\n",
    "end\n",
    "\n",
    "gif(anim, \"Resultados/Movies/flu_$out_name.gif\", fps = 10)"
   ]
  },
  {
   "cell_type": "code",
   "execution_count": 21,
   "metadata": {},
   "outputs": [
    {
     "ename": "LoadError",
     "evalue": "UndefVarError: sol not defined",
     "output_type": "error",
     "traceback": [
      "UndefVarError: sol not defined",
      "",
      "Stacktrace:",
      " [1] ssol(t::Float64)",
      "   @ Main ./In[21]:2",
      " [2] top-level scope",
      "   @ In[21]:5",
      " [3] eval",
      "   @ ./boot.jl:360 [inlined]",
      " [4] include_string(mapexpr::typeof(REPL.softscope), mod::Module, code::String, filename::String)",
      "   @ Base ./loading.jl:1094"
     ]
    }
   ],
   "source": [
    "##### ssol(t) = sol_dir_n0(t)\n",
    "ssol(t) = sol(t)\n",
    "t = tf\n",
    "shift = 0# U÷2 # 0 is conserv otherwise is fluid\n",
    "    plot(reshape(ssol(t),(M,U))[:,shift+1] .- 6.0,label=\"e\" \n",
    "    #,xlim = (0,60)\n",
    "    , yaxis = (\"conserv\"\n",
    "    #, (-0.25,0.2)\n",
    "    )\n",
    "    )\n",
    "    plot!(reshape(ssol(t),(M,U))[:,shift+2] .- 0.,label=\"s\")\n",
    "    plot!(reshape(ssol(t),(M,U))[:,shift+3] .- 0.,label=\"c1\")\n",
    "    plot!(reshape(ssol(t),(M,U))[:,shift+4],label=\"c2\")\n",
    "    plot!(reshape(ssol(t),(M,U))[:,shift+5] .- 0.,label=\"c3\")"
   ]
  },
  {
   "cell_type": "code",
   "execution_count": 22,
   "metadata": {},
   "outputs": [
    {
     "ename": "LoadError",
     "evalue": "UndefVarError: sol not defined",
     "output_type": "error",
     "traceback": [
      "UndefVarError: sol not defined",
      "",
      "Stacktrace:",
      " [1] ssol(t::Float64)",
      "   @ Main ./In[21]:2",
      " [2] macro expansion",
      "   @ ./In[22]:10 [inlined]",
      " [3] top-level scope",
      "   @ ~/.julia/packages/Plots/XuV6v/src/animation.jl:183",
      " [4] eval",
      "   @ ./boot.jl:360 [inlined]",
      " [5] include_string(mapexpr::typeof(REPL.softscope), mod::Module, code::String, filename::String)",
      "   @ Base ./loading.jl:1094"
     ]
    }
   ],
   "source": [
    "t = tf\n",
    "A1 = 1\n",
    "A2 = -16\n",
    "A3 = 20\n",
    "B1 = χ[2]\n",
    "B2 = -χ[3]*16/5\n",
    "B3 = χ[3]*4\n",
    "shift = 5\n",
    "anim = @animate for i ∈ 1:100\n",
    "    plot(A1 .* reshape(ssol(t*0.01*i),(M,U))[:,shift+ 1] .+ A2 .* reshape(ssol(t*0.01*i),(M,U))[:,shift+3]  .+ A3 .* reshape(ssol(t*0.01*i),(M,U))[:,shift+5] .+ 1\n",
    "    ,label=\"extraño modo cero\"\n",
    "    , yaxis = (\"fluid\", (-0.1 , 0.10))\n",
    "    )\n",
    "    #plot!(1.1/1.4*(B1 .* reshape(ssol(t*0.01*i),(M,U))[:,shift+ 1] .+ B2 .* reshape(ssol(t*0.01*i),(M,U))[:,shift+3]  .+ B3 .* reshape(ssol(t*0.01*i),(M,U))[:,shift+5])\n",
    "    #    ,label=\"modo cero\")\n",
    "    plot!((B1 .* reshape(ssol(t*0.01*i),(M,U))[:,shift+ 1] .+ B2 .* reshape(ssol(t*0.01*i),(M,U))[:,shift+3]  .+ B3 .* reshape(ssol(t*0.01*i),(M,U))[:,shift+5] .- 1.)\n",
    "        ,label=\"modo cero\")\n",
    "end\n",
    "\n",
    "gif(anim, \"Resultados/Movies/zero_source$out_name.gif\", fps = 10)"
   ]
  },
  {
   "cell_type": "code",
   "execution_count": 23,
   "metadata": {},
   "outputs": [
    {
     "ename": "LoadError",
     "evalue": "UndefVarError: sol not defined",
     "output_type": "error",
     "traceback": [
      "UndefVarError: sol not defined",
      "",
      "Stacktrace:",
      " [1] top-level scope",
      "   @ In[23]:1",
      " [2] eval",
      "   @ ./boot.jl:360 [inlined]",
      " [3] include_string(mapexpr::typeof(REPL.softscope), mod::Module, code::String, filename::String)",
      "   @ Base ./loading.jl:1094"
     ]
    }
   ],
   "source": [
    "T00_0 = sum(reshape(sol(0),(M,U))[:,1])/M\n",
    "T01_0 = sum(reshape(sol(0),(M,U))[:,2])/M\n",
    "T00 = [sum(reshape(sol(tf*0.01*i) .- T00_0,(M,U))[:,1]) for i in 1:100]/M\n",
    "T01 = [sum(reshape(sol(tf*0.01*i) .- T01_0,(M,U))[:,2]) for i in 1:100]/M\n",
    "\n",
    "plot(T00)\n",
    "plot!(T01)"
   ]
  },
  {
   "cell_type": "code",
   "execution_count": 24,
   "metadata": {},
   "outputs": [
    {
     "ename": "LoadError",
     "evalue": "UndefVarError: sol not defined",
     "output_type": "error",
     "traceback": [
      "UndefVarError: sol not defined",
      "",
      "Stacktrace:",
      " [1] (::var\"#13#14\")(i::Int64)",
      "   @ Main ./none:0",
      " [2] iterate",
      "   @ ./generator.jl:47 [inlined]",
      " [3] collect(itr::Base.Generator{UnitRange{Int64}, var\"#13#14\"})",
      "   @ Base ./array.jl:678",
      " [4] top-level scope",
      "   @ In[24]:1",
      " [5] eval",
      "   @ ./boot.jl:360 [inlined]",
      " [6] include_string(mapexpr::typeof(REPL.softscope), mod::Module, code::String, filename::String)",
      "   @ Base ./loading.jl:1094"
     ]
    }
   ],
   "source": [
    "a000 = [sum(reshape(sol(tf*0.01*i),(M,U))[:,3]) for i in 1:100]/M\n",
    "a001 = [sum(reshape(sol(tf*0.01*i),(M,U))[:,4]) for i in 1:100]/M\n",
    "a011 = [sum(reshape(sol(tf*0.01*i),(M,U))[:,5]) for i in 1:100]/M\n",
    "\n",
    "\n",
    "plot(a000, ls=:dash, label=\"<A000>\")\n",
    "plot!(10*a001, ls=:dot, lw=4, label=\"<A001>\")\n",
    "plot!(a011, label=\"<A011>\")"
   ]
  },
  {
   "cell_type": "code",
   "execution_count": 25,
   "metadata": {},
   "outputs": [
    {
     "ename": "LoadError",
     "evalue": "UndefVarError: sol not defined",
     "output_type": "error",
     "traceback": [
      "UndefVarError: sol not defined",
      "",
      "Stacktrace:",
      " [1] (::var\"#15#16\")(i::Int64)",
      "   @ Main ./none:0",
      " [2] iterate",
      "   @ ./generator.jl:47 [inlined]",
      " [3] collect(itr::Base.Generator{UnitRange{Int64}, var\"#15#16\"})",
      "   @ Base ./array.jl:678",
      " [4] top-level scope",
      "   @ In[25]:1",
      " [5] eval",
      "   @ ./boot.jl:360 [inlined]",
      " [6] include_string(mapexpr::typeof(REPL.softscope), mod::Module, code::String, filename::String)",
      "   @ Base ./loading.jl:1094"
     ]
    }
   ],
   "source": [
    "x1 = [sum(reshape(sol(tf*0.01*i),(M,U))[:,8]) for i in 1:100]/M\n",
    "x2 = [sum(reshape(sol(tf*0.01*i),(M,U))[:,9]) for i in 1:100]/M\n",
    "x3 = [sum(reshape(sol(tf*0.01*i),(M,U))[:,10]) for i in 1:100]/M\n",
    "plot(x1, ls=:dash, label=\"<ν>\")\n",
    "plot!(x2, ls=:dot, lw=4, label=\"<r1>\")\n",
    "plot!(x3, label=\"<τ11>\")"
   ]
  },
  {
   "cell_type": "markdown",
   "metadata": {},
   "source": [
    "Vemos el modo cero y otra combinación que queda bastante pequeña, aunque se ve que parte al menos propaga."
   ]
  },
  {
   "cell_type": "markdown",
   "metadata": {},
   "source": [
    "#### Aquí siguen celdas que solo importan para pruebas."
   ]
  },
  {
   "cell_type": "markdown",
   "metadata": {},
   "source": [
    "## Euler equations\n",
    "\n",
    "We recuperate Euler's equations setting $\\chi_1 = 0$ and the dissipative variables to zero. That way the systems decouple. And we get: (the notation here is a bit misleading,\n",
    "here $\\rho \\approx e$ Different from $E = (\\rho + p) = 4/3 \\rho$, since $p = \\frac{1}{3}\\rho$ and so $s = Ev = 4/3 e v$\n",
    "\n",
    "$F_e = \\frac{4}{3}ργ^2v = s$\n",
    "\n",
    "$F_s = \\frac{4}{3}ρ(γ^2v^2 + \\frac{1}{4}) = \\frac{1}{3}ργ^2(4 v^2 + \\frac{1}{\\gamma^2} = \n",
    "\\frac{1}{3}ργ^2(3v^2 + 1) $\n",
    "\n",
    "$e = \\frac{4}{3}ρ(γ^2 - \\frac{1}{4}) = \\frac{1}{3}ργ^2(4 - \\frac{1}{\\gamma^2}) = \\frac{1}{3}ργ^2(3 + v^2)$\n",
    "\n",
    "$s = \\frac{4}{3}ργ^2v$\n",
    "\n",
    "$4\\frac{e}{s}v - (3 + v^2) = 0$\n",
    "\n",
    "$v = 2\\frac{e}{s} \\pm \\sqrt{4(\\frac{e}{s})^2 -3}$\n",
    "\n",
    "$v_- =  \\frac{3}{2\\frac{e}{s} + \\sqrt{4(\\frac{e}{s})^2 -3}} \\approx \\frac{3s}{4e}$\n"
   ]
  },
  {
   "cell_type": "code",
   "execution_count": 26,
   "metadata": {
    "tags": []
   },
   "outputs": [
    {
     "data": {
      "text/plain": [
       "evolution_euler_direct_fast (generic function with 1 method)"
      ]
     },
     "execution_count": 26,
     "metadata": {},
     "output_type": "execute_result"
    }
   ],
   "source": [
    "function evolution_euler_direct(du,u,par,t) # here χ₁=0!\n",
    "    # this is the function that is taken by the time-integrator\n",
    "    par_eq, par_inv, h_1, U, M, Flux, Speed_max, Source, c_to_f = par\n",
    "    χ = par_eq\n",
    "    \n",
    "    p_direct = (χ, U, M) #these are the parameters for direct\n",
    "    c_to_f_direct!(u,p_direct)\n",
    "    #c_to_f!(u,par_inv)\n",
    "    \n",
    "    par_mp5 = (h_1, U, M, χ, χ, Flux, Speed_max, Source)\n",
    "    for j ∈ 1:M\n",
    "        mp5(du,u,par_mp5,j)\n",
    "    end\n",
    "    return du[:]\n",
    "end\n",
    "function evolution_euler_direct_fast(du,u,par,t)\n",
    "    # this is the function that is taken by the time-integrator\n",
    "    par_eq, par_inv, h, U, M, Flux, Speed_max, Source, c_to_f, par_mem = par\n",
    "    \n",
    "    χ, ξ = par_eq\n",
    "    \n",
    "    #p_direct = (χ, U, M) #these are the parameters for direct\n",
    "    #c_to_f_direct!(u,p_direct)\n",
    "    c_to_f!(u,par_inv)\n",
    "    \n",
    "    par_mp5 = (h, U, M, χ, par_eq, Flux, Speed_max, Source, par_mem)\n",
    "    \n",
    "    mp5!(du,u,par_mp5,t)\n",
    "    return du[:]\n",
    "end"
   ]
  },
  {
   "cell_type": "code",
   "execution_count": 27,
   "metadata": {
    "tags": []
   },
   "outputs": [
    {
     "ename": "LoadError",
     "evalue": "StackOverflowError:",
     "output_type": "error",
     "traceback": [
      "StackOverflowError:",
      "",
      "Stacktrace:",
      " [1] recursive_unitless_bottom_eltype(a::Type{Any}) (repeats 79984 times)",
      "   @ RecursiveArrayTools ~/.julia/packages/RecursiveArrayTools/85a1k/src/utils.jl:91"
     ]
    }
   ],
   "source": [
    "\n",
    "prob_euler_direct = ODEProblem(evolution_euler_direct,u_i,(0.0,tf),par);\n",
    "sol_e = solve(prob_euler_direct,SSPRK33(),dt=dt,saveat=0.01*tf);"
   ]
  },
  {
   "cell_type": "code",
   "execution_count": null,
   "metadata": {},
   "outputs": [],
   "source": []
  },
  {
   "cell_type": "code",
   "execution_count": null,
   "metadata": {},
   "outputs": [],
   "source": []
  },
  {
   "cell_type": "code",
   "execution_count": null,
   "metadata": {},
   "outputs": [],
   "source": []
  },
  {
   "cell_type": "code",
   "execution_count": 28,
   "metadata": {
    "tags": []
   },
   "outputs": [
    {
     "ename": "LoadError",
     "evalue": "UndefVarError: sol_nr_n0 not defined",
     "output_type": "error",
     "traceback": [
      "UndefVarError: sol_nr_n0 not defined",
      "",
      "Stacktrace:",
      " [1] dsol(t::Float64)",
      "   @ Main ./In[28]:2",
      " [2] top-level scope",
      "   @ In[28]:3",
      " [3] eval",
      "   @ ./boot.jl:360 [inlined]",
      " [4] include_string(mapexpr::typeof(REPL.softscope), mod::Module, code::String, filename::String)",
      "   @ Base ./loading.jl:1094"
     ]
    }
   ],
   "source": [
    "#sol = sol_dir_n0;\n",
    "dsol(t) = sol_nr_n0(t) - sol_dir_n0(t);\n",
    "reshape(dsol(0.),(M,U))[:,1];"
   ]
  },
  {
   "cell_type": "code",
   "execution_count": 29,
   "metadata": {
    "tags": []
   },
   "outputs": [
    {
     "ename": "LoadError",
     "evalue": "UndefVarError: sol_nr_n0 not defined",
     "output_type": "error",
     "traceback": [
      "UndefVarError: sol_nr_n0 not defined",
      "",
      "Stacktrace:",
      " [1] top-level scope",
      "   @ In[29]:2",
      " [2] eval",
      "   @ ./boot.jl:360 [inlined]",
      " [3] include_string(mapexpr::typeof(REPL.softscope), mod::Module, code::String, filename::String)",
      "   @ Base ./loading.jl:1094"
     ]
    }
   ],
   "source": [
    "field = 1\n",
    "plot(reshape(sol_nr_n0(0.),(M,U))[:,field] .- reshape(sol_dir_n0(0.),(M,U))[:,field])\n",
    "plot!(reshape(sol_nr_n0(t/8),(M,U))[:,field] .- reshape(sol_dir_n0(t/8),(M,U))[:,field])\n",
    "plot!(reshape(sol_nr_n0(t/4),(M,U))[:,field] .- reshape(sol_dir_n0(t/4),(M,U))[:,field])\n",
    "plot!(reshape(sol_nr_n0(t/2.1),(M,U))[:,field] .- reshape(sol_dir_n0(t/2.1),(M,U))[:,field])\n",
    "#plot!(reshape(sol_nr_n0(t/1.1),(M,U))[:,field] .- reshape(sol_dir_n0(t/1.1),(M,U))[:,field])"
   ]
  },
  {
   "cell_type": "code",
   "execution_count": 30,
   "metadata": {
    "tags": []
   },
   "outputs": [
    {
     "ename": "LoadError",
     "evalue": "UndefVarError: sol_nr_n0 not defined",
     "output_type": "error",
     "traceback": [
      "UndefVarError: sol_nr_n0 not defined",
      "",
      "Stacktrace:",
      " [1] dsol(t::Float64)",
      "   @ Main ./In[28]:2",
      " [2] macro expansion",
      "   @ ./In[30]:2 [inlined]",
      " [3] top-level scope",
      "   @ ~/.julia/packages/Plots/XuV6v/src/animation.jl:183",
      " [4] eval",
      "   @ ./boot.jl:360 [inlined]",
      " [5] include_string(mapexpr::typeof(REPL.softscope), mod::Module, code::String, filename::String)",
      "   @ Base ./loading.jl:1094"
     ]
    }
   ],
   "source": [
    "anim = @animate for i ∈ 1:100\n",
    "    plot(reshape(dsol(t*0.01*i),(M,U))[:,1],label=\"e\", yaxis = (\"conserv\", (-1e-7,1e-7)))\n",
    "    plot!(reshape(dsol(t*0.01*i),(M,U))[:,2],label=\"s\")\n",
    "    plot!(reshape(dsol(t*0.01*i),(M,U))[:,3],label=\"c1\")\n",
    "    plot!(reshape(dsol(t*0.01*i),(M,U))[:,4],label=\"c2\")\n",
    "    plot!(reshape(dsol(t*0.01*i),(M,U))[:,5],label=\"c3\")\n",
    "end\n",
    "\n",
    "gif(anim, \"ff_n0_dif_anim_fps10.gif\", fps = 10)"
   ]
  },
  {
   "cell_type": "code",
   "execution_count": 31,
   "metadata": {
    "tags": []
   },
   "outputs": [
    {
     "ename": "LoadError",
     "evalue": "UndefVarError: sol_nr_n0 not defined",
     "output_type": "error",
     "traceback": [
      "UndefVarError: sol_nr_n0 not defined",
      "",
      "Stacktrace:",
      " [1] dsol(t::Float64)",
      "   @ Main ./In[28]:2",
      " [2] macro expansion",
      "   @ ./In[31]:2 [inlined]",
      " [3] top-level scope",
      "   @ ~/.julia/packages/Plots/XuV6v/src/animation.jl:183",
      " [4] eval",
      "   @ ./boot.jl:360 [inlined]",
      " [5] include_string(mapexpr::typeof(REPL.softscope), mod::Module, code::String, filename::String)",
      "   @ Base ./loading.jl:1094"
     ]
    }
   ],
   "source": [
    "anim = @animate for i ∈ 1:100\n",
    "    plot(reshape(dsol(t*0.01*i),(M,U))[:,5+1],label=\"μ\", yaxis = (\"fluid\", (-1e-8,1e-8)))\n",
    "    plot!(reshape(dsol(t*0.01*i),(M,U))[:,5+2],label=\"v\")\n",
    "    plot!(reshape(dsol(t*0.01*i),(M,U))[:,5+3],label=\"X1\")\n",
    "    plot!(reshape(dsol(t*0.01*i),(M,U))[:,5+4],label=\"X2\")\n",
    "    plot!(reshape(dsol(t*0.01*i),(M,U))[:,5+5],label=\"X3\")\n",
    "end\n",
    "\n",
    "gif(anim, \"ff_n0_dif_anim_fps10.gif\", fps = 10)"
   ]
  },
  {
   "cell_type": "code",
   "execution_count": null,
   "metadata": {},
   "outputs": [],
   "source": []
  },
  {
   "cell_type": "code",
   "execution_count": 32,
   "metadata": {
    "tags": []
   },
   "outputs": [],
   "source": [
    "# the initial data\n",
    "# we give initial data in the fluid variables and then transform to conservatives\n",
    "\n",
    "u_i=zeros(M*U)\n",
    "con_0 = view(reshape(u_i,(M,U)),:,1:U÷2)\n",
    "flu_0 = view(reshape(u_i,(M,U)),:,U÷2+1:U)\n",
    "\n",
    "if speed_pulse\n",
    "    \n",
    "\n",
    "    x0 = 0.0; x1 = 0.2 #x0 = 0.4; x1 = 0.6\n",
    "    v0 = 0.0; δv = 0.1 \n",
    "\n",
    "    for i in 1:M\n",
    "        x[i] = dx*(i-1)\n",
    "        if x[i] > x0 && x[i] < x1\n",
    "            flu_0[i,2] = v0 + δv *(x[i] - x0)^4 * (x[i] - x1)^4 / (x1-x0)^8 * 250                   #Sz\n",
    "            flu_0[i,1] = -0.0 # * sin(pi*(x[i] - x0)/(x1-x0))^4 * sin(2*pi*(x[i] - x0)/(x1-x0))     #By\n",
    "        else\n",
    "            flu_0[i,2] = v0\n",
    "        end\n",
    "    \n",
    "        flu_0[i,1] = -1.   #\n",
    "    #flu_0[i,2] = flu_0[i,2] + 0.1  # v\n",
    "    \n",
    "    end\n",
    "f_to_c!(u_i, (χ, U, M)); # populate the conservative variables from the fluid ones\n",
    "end\n",
    "\n",
    "if small_pulse_to_the_right\n",
    "\n",
    "    e0 = 6.; δe = 0.1\n",
    "    x0 = 0.; x1 = 0.2\n",
    "    λ = 1. /sqrt(3.)\n",
    "    for i in 1:M\n",
    "        x[i] = dx*(i-1)\n",
    "        if x[i] > x0 && x[i] < x1\n",
    "            con_0[i,1] = e0 + δe *(x[i] - x0)^4 * (x[i] - x1)^4 / (x1-x0)^8 * 250                   #Sz\n",
    "            con_0[i,2] = λ*(con_0[i,1] - e0)\n",
    "        else\n",
    "            con_0[i,1] = e0\n",
    "            con_0[i,2] = 0.\n",
    "        end\n",
    "            flu_0[i,1] = -1.\n",
    "    end\n",
    "    par_inv = (χ, tol, 10000, U, M)\n",
    "    u_i = c_to_f!(u_i,par_inv);\n",
    "    reshape(u_i,U,M)\n",
    "end\n",
    "\n",
    "if big_pulse_to_the_right || big_pulse_negative_I\n",
    "    \n",
    "\n",
    "    e0 = 6.; δe = 4.0\n",
    "    x0 = 0.; x1 = 0.2\n",
    "    λ = 1. /sqrt(3.)\n",
    "    for i in 1:M\n",
    "        x[i] = dx*(i-1)\n",
    "        if x[i] > x0 && x[i] < x1\n",
    "            con_0[i,1] = e0 + δe *(x[i] - x0)^4 * (x[i] - x1)^4 / (x1-x0)^8 * 250                   #Sz\n",
    "            con_0[i,2] = λ*(con_0[i,1] - e0)\n",
    "        else\n",
    "            con_0[i,1] = e0\n",
    "            con_0[i,2] = 0.\n",
    "        end\n",
    "            flu_0[i,1] = -sqrt(con_0[i,1])/6\n",
    "    end\n",
    "    \n",
    "    if !Euler\n",
    "        χ_int = [- 1.0; -0.; - 10.0] #primero nos aproximamos a la solución con χ₁=0\n",
    "        par_inv = (χ, tol, 1000, U, M)\n",
    "        u_i = c_to_f!(u_i,par_inv);\n",
    "        χ = [- 1.0; -0.5; - 10.0] #luego buscamos la buena con la semilla anterior\n",
    "        par_inv = (χ, tol, 1000, U, M)\n",
    "        u_i = c_to_f!(u_i,par_inv);\n",
    "        #check!\n",
    "        if max(abs, f_to_c!(u_i,(χ,U,M)) - u_i) > 0.001\n",
    "            error(\"Not converging\")\n",
    "        end\n",
    "    else\n",
    "        u_i = c_to_f!(u_i,par_inv);\n",
    "    end\n",
    "        reshape(u_i,U,M)\n",
    "end\n",
    "\n",
    "if only_diss\n",
    "\n",
    "    e0 = 6.; δe = 0.0\n",
    "    x0 = 0.; x1 = 0.2\n",
    "    x10 = 0.1\n",
    "    x20 = 0.1\n",
    "    x30 = 0.1\n",
    "    #λ = 1. /sqrt(3.)\n",
    "    for i in 1:M\n",
    "        x[i] = dx*(i-1)\n",
    "        if x[i] > x0 && x[i] < x1\n",
    "            con_0[i,1] = e0\n",
    "            con_0[i,3] = x10 *(x[i] - x0)^4 * (x[i] - x1)^4 / (x1-x0)^8 * 250                   #Sz\n",
    "            con_0[i,4] = x20 *(x[i] - x0)^4 * (x[i] - x1)^4 / (x1-x0)^8 * 250 \n",
    "            con_0[i,5] = x30 *(x[i] - x0)^4 * (x[i] - x1)^4 / (x1-x0)^8 * 250 \n",
    "        else\n",
    "            con_0[i,1] = e0\n",
    "        end\n",
    "        flu_0[i,1] = -1.\n",
    "    end\n",
    "        u_i = c_to_f!(u_i,par_inv);\n",
    "        reshape(u_i,U,M);\n",
    "end"
   ]
  }
 ],
 "metadata": {
  "author": "\\rho",
  "kernelspec": {
   "display_name": "Julia (4 threads) 1.6.1",
   "language": "julia",
   "name": "julia-(4-threads)-1.6"
  },
  "language_info": {
   "file_extension": ".jl",
   "mimetype": "application/julia",
   "name": "julia",
   "version": "1.6.1"
  },
  "latex_envs": {
   "LaTeX_envs_menu_present": true,
   "autoclose": false,
   "autocomplete": true,
   "bibliofile": "biblio.bib",
   "cite_by": "apalike",
   "current_citInitial": 1,
   "eqLabelWithNumbers": true,
   "eqNumInitial": 1,
   "hotkeys": {
    "equation": "Ctrl-E",
    "itemize": "Ctrl-I"
   },
   "labels_anchors": false,
   "latex_user_defs": false,
   "report_style_numbering": false,
   "user_envs_cfg": false
  }
 },
 "nbformat": 4,
 "nbformat_minor": 4
}
