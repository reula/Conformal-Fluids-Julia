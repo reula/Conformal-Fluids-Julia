{
 "cells": [
  {
   "cell_type": "markdown",
   "metadata": {},
   "source": [
    "## Conformally invariant dissipative relativistic fluid\n",
    "\n",
    "Here we solve numerically the equations deduced in \\ref{xxx}\n",
    "\n",
    "### To Do:\n",
    "\n",
    "1. Use KT also (probably has a mistake to check first)\n",
    "2. Compare with the other code\n",
    "3. Try some other data\n",
    "4. Find some interesting (physically) data. The double shock is interesting and could be measured. "
   ]
  },
  {
   "cell_type": "code",
   "execution_count": 1,
   "metadata": {
    "jupyter": {
     "source_hidden": true
    },
    "tags": []
   },
   "outputs": [],
   "source": [
    "import Pkg; \n",
    "#Pkg.activate(mktempdir())\n",
    "#Pkg.add([\n",
    "#    Pkg.PackageSpec(name=\"DifferentialEquations\", version=\"6.16.0\"),\n",
    "#    Pkg.PackageSpec(name=\"Symbolics\", version=\"0.1.22\"),\n",
    "#    Pkg.PackageSpec(name=\"ForwardDiff\", version=\"0.10\"),\n",
    "#    Pkg.PackageSpec(name=\"Plots\", version=\"1\"),\n",
    "#    Pkg.PackageSpec(name=\"LaTeXStrings\", version=\"1\"),\n",
    "#    Pkg.PackageSpec(name=\"NonlinearSolve\", version=\"0.3\"),\n",
    "#    Pkg.PackageSpec(name=\"StaticArrays\", version=\"0.12\")\n",
    "    #Pkg.PackageSpec(name=\"OrdinaryDiffEq\", version=\"6.17.0\"),\n",
    "#    ])\n",
    "#Pkg.add(\"NonlinearSolve\")\n",
    "#Pkg.add(\"StaticArrays\")\n",
    "Pkg.add(\"IJuliaBell\")\n",
    "#Pkg.add(\"Symbolics@0.1.22\")\n",
    "#Pkg.add(\"OrdinaryDiffEq@6.17.0\")\n",
    "#using NonlinearSolve \n",
    "using StaticArrays\n",
    "using Symbolics\n",
    "using OrdinaryDiffEq\n",
    "using Plots\n",
    "using FileIO\n",
    "using IJuliaBell"
   ]
  },
  {
   "cell_type": "code",
   "execution_count": 2,
   "metadata": {},
   "outputs": [],
   "source": [
    "#mkdir(\"Resultados/Soluciones\")"
   ]
  },
  {
   "cell_type": "markdown",
   "metadata": {},
   "source": [
    "We add the modules needed for the computation:\n",
    "\n",
    "    choques_utils are the mp5 and kt shock capturing schemes\n",
    "    \n",
    "    Flux_functions_ext contain the fluxes and sources for the system\n",
    "    \n",
    "    inversion_ext the inversion between conservative and fluid quantities\n",
    "    \n",
    "The ext means that we are considering a vector of 10 variables, 5 conservative and 5 fluid variables. The fluid variables are evolved with a zero time derivative, and are updated inside the evolution equation using the inversion function."
   ]
  },
  {
   "cell_type": "code",
   "execution_count": 28,
   "metadata": {},
   "outputs": [
    {
     "data": {
      "text/plain": [
       "split_u!"
      ]
     },
     "execution_count": 28,
     "metadata": {},
     "output_type": "execute_result"
    }
   ],
   "source": [
    "include(\"inversion_ext.jl\")"
   ]
  },
  {
   "cell_type": "code",
   "execution_count": 156,
   "metadata": {},
   "outputs": [
    {
     "data": {
      "text/plain": [
       "create_initial_data (generic function with 1 method)"
      ]
     },
     "execution_count": 156,
     "metadata": {},
     "output_type": "execute_result"
    }
   ],
   "source": [
    "include(\"choques_utils.jl\") # all functions needed for evolution\n",
    "include(\"Flux_function_ext.jl\")\n",
    "include(\"initial_data.jl\")"
   ]
  },
  {
   "cell_type": "markdown",
   "metadata": {
    "tags": []
   },
   "source": [
    "Some set of parameters:\n",
    "\n",
    "This have all $v_0(x) = flu_0[i,2] = 0.1 + 0.1 * (x[i] - x0)^4 * (x[i] - x1)^4 / (x1-x0)^8 * 250 $ in the interval $[0.4,0.6]$\n",
    "\n",
    "$\\mu = flu_0[i,1] = -1.$\n",
    "\n",
    "\n",
    "n_0 χ = [- 1.; 0.; - 1.] Speed = 1 dt/dx = 0.1 T = 2    **This is Euler**\n",
    "\n",
    "p_1 χ = [- 1.; - 2.; - 10.] Speed = 1 dt/dx = 0.1\n",
    "\n",
    "p_2 χ = [- 1.; - 2.; - 10.] Speed = 1 dt/dx = 0.01\n",
    "\n",
    "p_3 χ = [- 1.; - 2.; - 10.] Speed = 10 dt/dx = 0.01\n",
    "\n",
    "p_4 χ = [- 1.; - 0.5; - 200.] Speed = 1 dt/dx = 0.1\n",
    "\n",
    "p_5 χ = [- 1.; -0.5; - 5.] Speed = 1 dt/dx = 0.1 (con fuente) T = 2\n",
    "\n",
    "\n",
    "We now change to a zero background speed and put the pulse near zero so that they don't cross at bad places.\n",
    "\n",
    "n0_0 χ = [- 1.; 0.; - 1.] Speed = 1 dt/dx = 0.1 T = 2    **This is Euler**"
   ]
  },
  {
   "cell_type": "code",
   "execution_count": 157,
   "metadata": {},
   "outputs": [
    {
     "data": {
      "text/plain": [
       "true"
      ]
     },
     "execution_count": 157,
     "metadata": {},
     "output_type": "execute_result"
    }
   ],
   "source": [
    "Euler = false\n",
    "sod = false    # No implementado\n",
    "speed_pulse = false # a simple speed pulse (no muy interesante pues hay pulsos en las dos direcciones)\n",
    "temperature_pulse = false # a simple temperature μ pulse (no implementado)\n",
    "small_pulse_to_the_right = false # low velocity perturbation pulse in just one direction\n",
    "big_pulse_to_the_right = false # Choques (la velocidad no es muy alta todavía)\n",
    "big_pulse_negative_I = false\n",
    "only_diss = false\n",
    "# poner a continuación la que uno quiere usar con un true (así todos los demás quedan en false)\n",
    "\n",
    "#big_pulse_to_the_right = true\n",
    "#big_pulse_to_the_right_E = true\n",
    "#big_pulse_negative_I = true   #no parece funcionar\n",
    "small_pulse_to_the_right = true\n",
    "#only_diss = true\n",
    "\n",
    "#Euler = true"
   ]
  },
  {
   "cell_type": "code",
   "execution_count": 247,
   "metadata": {},
   "outputs": [
    {
     "data": {
      "text/plain": [
       "([-1.0, -0.5, -10.0], 1.0000000000000006e-10, 40, 10, 600)"
      ]
     },
     "execution_count": 247,
     "metadata": {},
     "output_type": "execute_result"
    }
   ],
   "source": [
    "if speed_pulse\n",
    "    name = \"speed_pulse\"\n",
    "    out_name = \"speed_pulse\" \n",
    "    L=2.4 # Length of the integration region\n",
    "    M=600 # number of space-points in the discretization\n",
    "    tf=2. # final time\n",
    "    dx = L/M\n",
    "    dt = 0.1 * dx # this depends on the maximal propagation speed\n",
    "    tol = 10^(-10) # error tolerance in inversion function (Newton-Raphson)\n",
    "    iter_max = 40  # maximum number of NR iterations\n",
    "\n",
    "    χ = [- 1.0; - 0.1; - 5.0] # the equation parameters \n",
    "    ξ = [1/15π, 1/1π, 1] # source parámeters κ, λ, η \n",
    "    \n",
    "elseif sod\n",
    "    name = \"sod\" \n",
    "    out_name = \"sod\" \n",
    "    L=1. # Length of the integration region\n",
    "    M=400 # number of space-points in the discretization\n",
    "    tf=2. # final time\n",
    "    dx = L/M\n",
    "    dt = 0.1 * dx # this depends on the maximal propagation speed\n",
    "    tol = 10^(-10) # error tolerance in inversion function (Newton-Raphson)\n",
    "    iter_max = 40  # maximum number of NR iterations\n",
    "\n",
    "    χ = [- 1.0; - 0.1; - 5.0] # the equation parameters \n",
    "    ξ = [1/15π, 1/1π, 1] # source parámeters κ, λ, η \n",
    "\n",
    "elseif  small_pulse_to_the_right\n",
    "    name = \"small_pulse_to_the_right\"\n",
    "    out_name = \"small_right_p\" \n",
    "    L=1. # Length of the integration region\n",
    "    M=600 # number of space-points in the discretization\n",
    "    tf=4. # 4. final time\n",
    "    dx = L/M\n",
    "    dt = 0.1 * dx # this depends on the maximal propagation speed\n",
    "    tol = 10^(-10) # error tolerance in inversion function (Newton-Raphson)\n",
    "    iter_max = 40  # maximum number of NR iterations\n",
    "    χ = [- 1.0; - 0.5; - 10.0] # the equation parameters \n",
    "    ξ = [1/15π, 1/1π, 0.01/1π] # source parámeters κ, λ, η \n",
    "    \n",
    "elseif  big_pulse_to_the_right\n",
    "    name = \"big_pulse_to_the_right\"\n",
    "    out_name = \"big_right_p\" \n",
    "    L=4. # Length of the integration region\n",
    "    M=600 # number of space-points in the discretization\n",
    "    tf=4. # final time\n",
    "    dx = L/M\n",
    "    dt = 0.1 * dx # this depends on the maximal propagation speed\n",
    "    tol = 10^(-10) # error tolerance in inversion function (Newton-Raphson)\n",
    "    iter_max = 400  # maximum number of NR iterations\n",
    "    \n",
    "    χ = [- 1.0; - 0.5; - 10.0] # the equation parameters \n",
    "    ξ = [1/15π, 1/1π, 1] # source parámeters κ, λ, η \n",
    "    \n",
    "elseif  big_pulse_negative_I\n",
    "    name = \"big_right_p_neg_I\" \n",
    "    out_name = name\n",
    "    L=4. # Length of the integration region\n",
    "    M=600 # number of space-points in the discretization\n",
    "    tf=0.4 # final time\n",
    "    dx = L/M\n",
    "    dt = 0.1 * dx # this depends on the maximal propagation speed\n",
    "    tol = 10^(-10) # error tolerance in inversion function (Newton-Raphson)\n",
    "    iter_max = 400  # maximum number of NR iterations\n",
    "    \n",
    "    χ = [- 1.0; - 0.5; - 10.0] # the equation parameters \n",
    "    ξ = [1/15π, 1/1π, 1] # source parámeters κ, λ, η \n",
    "    \n",
    "elseif  only_diss\n",
    "    name = \"only_diss\"\n",
    "    out_name = name\n",
    "    L=4. # Length of the integration region\n",
    "    M=600 # number of space-points in the discretization\n",
    "    tf=1. # final time\n",
    "    dx = L/M\n",
    "    dt = 0.1 * dx # this depends on the maximal propagation speed\n",
    "    tol = 10^(-10) # error tolerance in inversion function (Newton-Raphson)\n",
    "    iter_max = 400  # maximum number of NR iterations\n",
    "    \n",
    "    χ = [- 1.0; - 0.0; - 10.0] # the equation parameters \n",
    "    ξ = [1/15π, -1/1π, 0.01/1π]# source parámeters κ, λ, η     \n",
    "end\n",
    "\n",
    "if Euler\n",
    "    χ[2] = 0.\n",
    "    out_name = name*\"_E\"\n",
    "end\n",
    "\n",
    "U=10 # number of fields (double the number of fields, one for fluid and the other for conservative quantities)\n",
    "N_FIELDS = U\n",
    "u_i=zeros(M*U) # flux variables for the initial data (these are used for the flux function)\n",
    "du=zeros(M*U) # for the rhs\n",
    "x = zeros(M) # the coordinates\n",
    "    \n",
    "par_eq = (χ, ξ) # parameters to use on the equations \n",
    "par_inv = (χ, tol, iter_max, U, M) # parameters for the inversion\n",
    "    "
   ]
  },
  {
   "cell_type": "code",
   "execution_count": 248,
   "metadata": {
    "jupyter": {
     "source_hidden": true
    },
    "tags": []
   },
   "outputs": [],
   "source": [
    "fast = true\n",
    "if fast \n",
    "    #we initialize empty arrays\n",
    "    F_P = Array{Float64}(undef, U);\n",
    "\n",
    "    F_P = copy(F_P);\n",
    "    F_M = copy(F_P);\n",
    "    F_Pm3 = copy(F_P);\n",
    "    F_Pm2 = copy(F_P);\n",
    "    F_Pm1 = copy(F_P);\n",
    "    F_Pp1 = copy(F_P);\n",
    "    F_Pp2 = copy(F_P);\n",
    "    F_Pp3 = copy(F_P);\n",
    "    F_Mm3 = copy(F_P);\n",
    "    F_Mm2 = copy(F_P);\n",
    "    F_Mm1 = copy(F_P);\n",
    "    F_Mp1 = copy(F_P);\n",
    "    F_Mp2 = copy(F_P);\n",
    "    F_Mp3 = copy(F_P);\n",
    "\n",
    "    F_LP = copy(F_P);\n",
    "    F_LM = copy(F_P);\n",
    "    F_RM = copy(F_P);\n",
    "    F_RP = copy(F_P);\n",
    "    H_m = copy(F_P);\n",
    "    H_p = copy(F_P);\n",
    "    sourcevec = copy(F_P);\n",
    "    \n",
    "    par_mem = (F_Mm3, F_Mm2, F_Mm1, F_M, F_Mp1, F_Mp2, F_Mp3, F_Pm3, F_Pm2, \n",
    "    F_Pm1, F_P, F_Pp1, F_Pp2, F_Pp3, F_LP, F_LM, F_RP, F_RM, H_m, H_p, sourcevec); \n",
    "end\n",
    "U;"
   ]
  },
  {
   "cell_type": "code",
   "execution_count": 249,
   "metadata": {},
   "outputs": [],
   "source": [
    "if fast \n",
    "    #full list of parameters for the evolution function\n",
    "    if χ[2] < 0\n",
    "        #par = (par_eq, par_inv, 1. /dx, U, M, Flux!, Speed_max, Is!, c_to_f!, par_mem);\n",
    "        par = (par_eq, par_inv, 1. /dx, U, M, Flux!, Speed_max, Is_dummy!, c_to_f!, par_mem);\n",
    "    else\n",
    "        par = (par_eq, par_inv, 1. /dx, U, M, Flux!, Speed_max, Is_dummy!, c_to_f!, par_mem);\n",
    "    end\n",
    "        #par_cut = (par_eq, par_inv, 1. /dx, U, M, Flux_cut!, Speed_max, Is, c_to_f!, par_mem);\n",
    "else\n",
    "    #full list of parameters for the evolution function\n",
    "    if χ[2] < 0\n",
    "        par = (par_eq, par_inv, 1. /dx, U, M, Flux, Speed_max, Is, c_to_f!, par_mem);\n",
    "    else\n",
    "        par = (par_eq, par_inv, 1. /dx, U, M, Flux, Speed_max, Is_dummy, c_to_f!, par_mem);\n",
    "    end\n",
    "        #par_cut = (par_eq, par_inv, 1. /dx, U, M, Flux_cut, Speed_max, Is, c_to_f!, par_mem);\n",
    "end\n",
    "U;"
   ]
  },
  {
   "cell_type": "code",
   "execution_count": 250,
   "metadata": {
    "jupyter": {
     "source_hidden": true
    },
    "tags": []
   },
   "outputs": [
    {
     "data": {
      "text/plain": [
       "3-element Vector{Float64}:\n",
       "  -1.0\n",
       "  -0.5\n",
       " -10.0"
      ]
     },
     "execution_count": 250,
     "metadata": {},
     "output_type": "execute_result"
    }
   ],
   "source": [
    "par_inidat = χ, U, M, Euler\n",
    "\n",
    "u_i = create_initial_data(name, u_i, par_inidat)\n",
    "con_0 = view(reshape(u_i,(M,U)),:,1:U÷2)\n",
    "flu_0 = view(reshape(u_i,(M,U)),:,U÷2+1:U);\n",
    "χ"
   ]
  },
  {
   "cell_type": "code",
   "execution_count": 251,
   "metadata": {},
   "outputs": [
    {
     "data": {
      "image/svg+xml": [
       "<?xml version=\"1.0\" encoding=\"utf-8\"?>\n",
       "<svg xmlns=\"http://www.w3.org/2000/svg\" xmlns:xlink=\"http://www.w3.org/1999/xlink\" width=\"600\" height=\"400\" viewBox=\"0 0 2400 1600\">\n",
       "<defs>\n",
       "  <clipPath id=\"clip820\">\n",
       "    <rect x=\"0\" y=\"0\" width=\"2400\" height=\"1600\"/>\n",
       "  </clipPath>\n",
       "</defs>\n",
       "<path clip-path=\"url(#clip820)\" d=\"\n",
       "M0 1600 L2400 1600 L2400 0 L0 0  Z\n",
       "  \" fill=\"#ffffff\" fill-rule=\"evenodd\" fill-opacity=\"1\"/>\n",
       "<defs>\n",
       "  <clipPath id=\"clip821\">\n",
       "    <rect x=\"480\" y=\"0\" width=\"1681\" height=\"1600\"/>\n",
       "  </clipPath>\n",
       "</defs>\n",
       "<path clip-path=\"url(#clip820)\" d=\"\n",
       "M216.436 1486.45 L2352.76 1486.45 L2352.76 47.2441 L216.436 47.2441  Z\n",
       "  \" fill=\"#ffffff\" fill-rule=\"evenodd\" fill-opacity=\"1\"/>\n",
       "<defs>\n",
       "  <clipPath id=\"clip822\">\n",
       "    <rect x=\"216\" y=\"47\" width=\"2137\" height=\"1440\"/>\n",
       "  </clipPath>\n",
       "</defs>\n",
       "<polyline clip-path=\"url(#clip822)\" style=\"stroke:#000000; stroke-width:2; stroke-opacity:0.1; fill:none\" points=\"\n",
       "  273.533,1486.45 273.533,47.2441 \n",
       "  \"/>\n",
       "<polyline clip-path=\"url(#clip822)\" style=\"stroke:#000000; stroke-width:2; stroke-opacity:0.1; fill:none\" points=\"\n",
       "  609.993,1486.45 609.993,47.2441 \n",
       "  \"/>\n",
       "<polyline clip-path=\"url(#clip822)\" style=\"stroke:#000000; stroke-width:2; stroke-opacity:0.1; fill:none\" points=\"\n",
       "  946.453,1486.45 946.453,47.2441 \n",
       "  \"/>\n",
       "<polyline clip-path=\"url(#clip822)\" style=\"stroke:#000000; stroke-width:2; stroke-opacity:0.1; fill:none\" points=\"\n",
       "  1282.91,1486.45 1282.91,47.2441 \n",
       "  \"/>\n",
       "<polyline clip-path=\"url(#clip822)\" style=\"stroke:#000000; stroke-width:2; stroke-opacity:0.1; fill:none\" points=\"\n",
       "  1619.37,1486.45 1619.37,47.2441 \n",
       "  \"/>\n",
       "<polyline clip-path=\"url(#clip822)\" style=\"stroke:#000000; stroke-width:2; stroke-opacity:0.1; fill:none\" points=\"\n",
       "  1955.83,1486.45 1955.83,47.2441 \n",
       "  \"/>\n",
       "<polyline clip-path=\"url(#clip822)\" style=\"stroke:#000000; stroke-width:2; stroke-opacity:0.1; fill:none\" points=\"\n",
       "  2292.29,1486.45 2292.29,47.2441 \n",
       "  \"/>\n",
       "<polyline clip-path=\"url(#clip820)\" style=\"stroke:#000000; stroke-width:4; stroke-opacity:1; fill:none\" points=\"\n",
       "  216.436,1486.45 2352.76,1486.45 \n",
       "  \"/>\n",
       "<polyline clip-path=\"url(#clip820)\" style=\"stroke:#000000; stroke-width:4; stroke-opacity:1; fill:none\" points=\"\n",
       "  273.533,1486.45 273.533,1469.18 \n",
       "  \"/>\n",
       "<polyline clip-path=\"url(#clip820)\" style=\"stroke:#000000; stroke-width:4; stroke-opacity:1; fill:none\" points=\"\n",
       "  609.993,1486.45 609.993,1469.18 \n",
       "  \"/>\n",
       "<polyline clip-path=\"url(#clip820)\" style=\"stroke:#000000; stroke-width:4; stroke-opacity:1; fill:none\" points=\"\n",
       "  946.453,1486.45 946.453,1469.18 \n",
       "  \"/>\n",
       "<polyline clip-path=\"url(#clip820)\" style=\"stroke:#000000; stroke-width:4; stroke-opacity:1; fill:none\" points=\"\n",
       "  1282.91,1486.45 1282.91,1469.18 \n",
       "  \"/>\n",
       "<polyline clip-path=\"url(#clip820)\" style=\"stroke:#000000; stroke-width:4; stroke-opacity:1; fill:none\" points=\"\n",
       "  1619.37,1486.45 1619.37,1469.18 \n",
       "  \"/>\n",
       "<polyline clip-path=\"url(#clip820)\" style=\"stroke:#000000; stroke-width:4; stroke-opacity:1; fill:none\" points=\"\n",
       "  1955.83,1486.45 1955.83,1469.18 \n",
       "  \"/>\n",
       "<polyline clip-path=\"url(#clip820)\" style=\"stroke:#000000; stroke-width:4; stroke-opacity:1; fill:none\" points=\"\n",
       "  2292.29,1486.45 2292.29,1469.18 \n",
       "  \"/>\n",
       "<path clip-path=\"url(#clip820)\" d=\"M 0 0 M273.533 1515.64 Q269.922 1515.64 268.093 1519.2 Q266.288 1522.75 266.288 1529.87 Q266.288 1536.98 268.093 1540.55 Q269.922 1544.09 273.533 1544.09 Q277.167 1544.09 278.973 1540.55 Q280.802 1536.98 280.802 1529.87 Q280.802 1522.75 278.973 1519.2 Q277.167 1515.64 273.533 1515.64 M273.533 1511.93 Q279.343 1511.93 282.399 1516.54 Q285.478 1521.12 285.478 1529.87 Q285.478 1538.6 282.399 1543.21 Q279.343 1547.79 273.533 1547.79 Q267.723 1547.79 264.644 1543.21 Q261.589 1538.6 261.589 1529.87 Q261.589 1521.12 264.644 1516.54 Q267.723 1511.93 273.533 1511.93 Z\" fill=\"#000000\" fill-rule=\"evenodd\" fill-opacity=\"1\" /><path clip-path=\"url(#clip820)\" d=\"M 0 0 M569.6 1543.18 L577.239 1543.18 L577.239 1516.82 L568.929 1518.49 L568.929 1514.23 L577.193 1512.56 L581.868 1512.56 L581.868 1543.18 L589.507 1543.18 L589.507 1547.12 L569.6 1547.12 L569.6 1543.18 Z\" fill=\"#000000\" fill-rule=\"evenodd\" fill-opacity=\"1\" /><path clip-path=\"url(#clip820)\" d=\"M 0 0 M608.952 1515.64 Q605.341 1515.64 603.512 1519.2 Q601.706 1522.75 601.706 1529.87 Q601.706 1536.98 603.512 1540.55 Q605.341 1544.09 608.952 1544.09 Q612.586 1544.09 614.391 1540.55 Q616.22 1536.98 616.22 1529.87 Q616.22 1522.75 614.391 1519.2 Q612.586 1515.64 608.952 1515.64 M608.952 1511.93 Q614.762 1511.93 617.817 1516.54 Q620.896 1521.12 620.896 1529.87 Q620.896 1538.6 617.817 1543.21 Q614.762 1547.79 608.952 1547.79 Q603.141 1547.79 600.063 1543.21 Q597.007 1538.6 597.007 1529.87 Q597.007 1521.12 600.063 1516.54 Q603.141 1511.93 608.952 1511.93 Z\" fill=\"#000000\" fill-rule=\"evenodd\" fill-opacity=\"1\" /><path clip-path=\"url(#clip820)\" d=\"M 0 0 M639.114 1515.64 Q635.502 1515.64 633.674 1519.2 Q631.868 1522.75 631.868 1529.87 Q631.868 1536.98 633.674 1540.55 Q635.502 1544.09 639.114 1544.09 Q642.748 1544.09 644.553 1540.55 Q646.382 1536.98 646.382 1529.87 Q646.382 1522.75 644.553 1519.2 Q642.748 1515.64 639.114 1515.64 M639.114 1511.93 Q644.924 1511.93 647.979 1516.54 Q651.058 1521.12 651.058 1529.87 Q651.058 1538.6 647.979 1543.21 Q644.924 1547.79 639.114 1547.79 Q633.303 1547.79 630.225 1543.21 Q627.169 1538.6 627.169 1529.87 Q627.169 1521.12 630.225 1516.54 Q633.303 1511.93 639.114 1511.93 Z\" fill=\"#000000\" fill-rule=\"evenodd\" fill-opacity=\"1\" /><path clip-path=\"url(#clip820)\" d=\"M 0 0 M910.146 1543.18 L926.465 1543.18 L926.465 1547.12 L904.521 1547.12 L904.521 1543.18 Q907.183 1540.43 911.766 1535.8 Q916.373 1531.15 917.553 1529.81 Q919.798 1527.28 920.678 1525.55 Q921.581 1523.79 921.581 1522.1 Q921.581 1519.34 919.636 1517.61 Q917.715 1515.87 914.613 1515.87 Q912.414 1515.87 909.961 1516.63 Q907.53 1517.4 904.752 1518.95 L904.752 1514.23 Q907.576 1513.09 910.03 1512.51 Q912.484 1511.93 914.521 1511.93 Q919.891 1511.93 923.086 1514.62 Q926.28 1517.31 926.28 1521.8 Q926.28 1523.93 925.47 1525.85 Q924.683 1527.74 922.576 1530.34 Q921.998 1531.01 918.896 1534.23 Q915.794 1537.42 910.146 1543.18 Z\" fill=\"#000000\" fill-rule=\"evenodd\" fill-opacity=\"1\" /><path clip-path=\"url(#clip820)\" d=\"M 0 0 M946.28 1515.64 Q942.669 1515.64 940.84 1519.2 Q939.035 1522.75 939.035 1529.87 Q939.035 1536.98 940.84 1540.55 Q942.669 1544.09 946.28 1544.09 Q949.914 1544.09 951.72 1540.55 Q953.548 1536.98 953.548 1529.87 Q953.548 1522.75 951.72 1519.2 Q949.914 1515.64 946.28 1515.64 M946.28 1511.93 Q952.09 1511.93 955.146 1516.54 Q958.224 1521.12 958.224 1529.87 Q958.224 1538.6 955.146 1543.21 Q952.09 1547.79 946.28 1547.79 Q940.47 1547.79 937.391 1543.21 Q934.335 1538.6 934.335 1529.87 Q934.335 1521.12 937.391 1516.54 Q940.47 1511.93 946.28 1511.93 Z\" fill=\"#000000\" fill-rule=\"evenodd\" fill-opacity=\"1\" /><path clip-path=\"url(#clip820)\" d=\"M 0 0 M976.442 1515.64 Q972.831 1515.64 971.002 1519.2 Q969.196 1522.75 969.196 1529.87 Q969.196 1536.98 971.002 1540.55 Q972.831 1544.09 976.442 1544.09 Q980.076 1544.09 981.881 1540.55 Q983.71 1536.98 983.71 1529.87 Q983.71 1522.75 981.881 1519.2 Q980.076 1515.64 976.442 1515.64 M976.442 1511.93 Q982.252 1511.93 985.307 1516.54 Q988.386 1521.12 988.386 1529.87 Q988.386 1538.6 985.307 1543.21 Q982.252 1547.79 976.442 1547.79 Q970.632 1547.79 967.553 1543.21 Q964.497 1538.6 964.497 1529.87 Q964.497 1521.12 967.553 1516.54 Q970.632 1511.93 976.442 1511.93 Z\" fill=\"#000000\" fill-rule=\"evenodd\" fill-opacity=\"1\" /><path clip-path=\"url(#clip820)\" d=\"M 0 0 M1256.68 1528.49 Q1260.03 1529.2 1261.91 1531.47 Q1263.8 1533.74 1263.8 1537.07 Q1263.8 1542.19 1260.29 1544.99 Q1256.77 1547.79 1250.29 1547.79 Q1248.11 1547.79 1245.8 1547.35 Q1243.5 1546.93 1241.05 1546.08 L1241.05 1541.56 Q1242.99 1542.7 1245.31 1543.28 Q1247.62 1543.86 1250.15 1543.86 Q1254.55 1543.86 1256.84 1542.12 Q1259.15 1540.38 1259.15 1537.07 Q1259.15 1534.02 1257 1532.31 Q1254.87 1530.57 1251.05 1530.57 L1247.02 1530.57 L1247.02 1526.73 L1251.24 1526.73 Q1254.68 1526.73 1256.51 1525.36 Q1258.34 1523.97 1258.34 1521.38 Q1258.34 1518.72 1256.44 1517.31 Q1254.57 1515.87 1251.05 1515.87 Q1249.13 1515.87 1246.93 1516.29 Q1244.73 1516.7 1242.09 1517.58 L1242.09 1513.42 Q1244.75 1512.68 1247.07 1512.31 Q1249.41 1511.93 1251.47 1511.93 Q1256.79 1511.93 1259.89 1514.37 Q1262.99 1516.77 1262.99 1520.89 Q1262.99 1523.76 1261.35 1525.75 Q1259.71 1527.72 1256.68 1528.49 Z\" fill=\"#000000\" fill-rule=\"evenodd\" fill-opacity=\"1\" /><path clip-path=\"url(#clip820)\" d=\"M 0 0 M1282.67 1515.64 Q1279.06 1515.64 1277.23 1519.2 Q1275.43 1522.75 1275.43 1529.87 Q1275.43 1536.98 1277.23 1540.55 Q1279.06 1544.09 1282.67 1544.09 Q1286.3 1544.09 1288.11 1540.55 Q1289.94 1536.98 1289.94 1529.87 Q1289.94 1522.75 1288.11 1519.2 Q1286.3 1515.64 1282.67 1515.64 M1282.67 1511.93 Q1288.48 1511.93 1291.54 1516.54 Q1294.61 1521.12 1294.61 1529.87 Q1294.61 1538.6 1291.54 1543.21 Q1288.48 1547.79 1282.67 1547.79 Q1276.86 1547.79 1273.78 1543.21 Q1270.73 1538.6 1270.73 1529.87 Q1270.73 1521.12 1273.78 1516.54 Q1276.86 1511.93 1282.67 1511.93 Z\" fill=\"#000000\" fill-rule=\"evenodd\" fill-opacity=\"1\" /><path clip-path=\"url(#clip820)\" d=\"M 0 0 M1312.83 1515.64 Q1309.22 1515.64 1307.39 1519.2 Q1305.59 1522.75 1305.59 1529.87 Q1305.59 1536.98 1307.39 1540.55 Q1309.22 1544.09 1312.83 1544.09 Q1316.47 1544.09 1318.27 1540.55 Q1320.1 1536.98 1320.1 1529.87 Q1320.1 1522.75 1318.27 1519.2 Q1316.47 1515.64 1312.83 1515.64 M1312.83 1511.93 Q1318.64 1511.93 1321.7 1516.54 Q1324.78 1521.12 1324.78 1529.87 Q1324.78 1538.6 1321.7 1543.21 Q1318.64 1547.79 1312.83 1547.79 Q1307.02 1547.79 1303.94 1543.21 Q1300.89 1538.6 1300.89 1529.87 Q1300.89 1521.12 1303.94 1516.54 Q1307.02 1511.93 1312.83 1511.93 Z\" fill=\"#000000\" fill-rule=\"evenodd\" fill-opacity=\"1\" /><path clip-path=\"url(#clip820)\" d=\"M 0 0 M1592.46 1516.63 L1580.66 1535.08 L1592.46 1535.08 L1592.46 1516.63 M1591.24 1512.56 L1597.12 1512.56 L1597.12 1535.08 L1602.05 1535.08 L1602.05 1538.97 L1597.12 1538.97 L1597.12 1547.12 L1592.46 1547.12 L1592.46 1538.97 L1576.86 1538.97 L1576.86 1534.46 L1591.24 1512.56 Z\" fill=\"#000000\" fill-rule=\"evenodd\" fill-opacity=\"1\" /><path clip-path=\"url(#clip820)\" d=\"M 0 0 M1619.78 1515.64 Q1616.17 1515.64 1614.34 1519.2 Q1612.53 1522.75 1612.53 1529.87 Q1612.53 1536.98 1614.34 1540.55 Q1616.17 1544.09 1619.78 1544.09 Q1623.41 1544.09 1625.22 1540.55 Q1627.05 1536.98 1627.05 1529.87 Q1627.05 1522.75 1625.22 1519.2 Q1623.41 1515.64 1619.78 1515.64 M1619.78 1511.93 Q1625.59 1511.93 1628.64 1516.54 Q1631.72 1521.12 1631.72 1529.87 Q1631.72 1538.6 1628.64 1543.21 Q1625.59 1547.79 1619.78 1547.79 Q1613.97 1547.79 1610.89 1543.21 Q1607.83 1538.6 1607.83 1529.87 Q1607.83 1521.12 1610.89 1516.54 Q1613.97 1511.93 1619.78 1511.93 Z\" fill=\"#000000\" fill-rule=\"evenodd\" fill-opacity=\"1\" /><path clip-path=\"url(#clip820)\" d=\"M 0 0 M1649.94 1515.64 Q1646.33 1515.64 1644.5 1519.2 Q1642.7 1522.75 1642.7 1529.87 Q1642.7 1536.98 1644.5 1540.55 Q1646.33 1544.09 1649.94 1544.09 Q1653.57 1544.09 1655.38 1540.55 Q1657.21 1536.98 1657.21 1529.87 Q1657.21 1522.75 1655.38 1519.2 Q1653.57 1515.64 1649.94 1515.64 M1649.94 1511.93 Q1655.75 1511.93 1658.81 1516.54 Q1661.89 1521.12 1661.89 1529.87 Q1661.89 1538.6 1658.81 1543.21 Q1655.75 1547.79 1649.94 1547.79 Q1644.13 1547.79 1641.05 1543.21 Q1638 1538.6 1638 1529.87 Q1638 1521.12 1641.05 1516.54 Q1644.13 1511.93 1649.94 1511.93 Z\" fill=\"#000000\" fill-rule=\"evenodd\" fill-opacity=\"1\" /><path clip-path=\"url(#clip820)\" d=\"M 0 0 M1915.45 1512.56 L1933.81 1512.56 L1933.81 1516.5 L1919.73 1516.5 L1919.73 1524.97 Q1920.75 1524.62 1921.77 1524.46 Q1922.79 1524.27 1923.81 1524.27 Q1929.6 1524.27 1932.98 1527.44 Q1936.35 1530.62 1936.35 1536.03 Q1936.35 1541.61 1932.88 1544.71 Q1929.41 1547.79 1923.09 1547.79 Q1920.92 1547.79 1918.65 1547.42 Q1916.4 1547.05 1913.99 1546.31 L1913.99 1541.61 Q1916.08 1542.74 1918.3 1543.3 Q1920.52 1543.86 1923 1543.86 Q1927 1543.86 1929.34 1541.75 Q1931.68 1539.64 1931.68 1536.03 Q1931.68 1532.42 1929.34 1530.31 Q1927 1528.21 1923 1528.21 Q1921.12 1528.21 1919.25 1528.62 Q1917.4 1529.04 1915.45 1529.92 L1915.45 1512.56 Z\" fill=\"#000000\" fill-rule=\"evenodd\" fill-opacity=\"1\" /><path clip-path=\"url(#clip820)\" d=\"M 0 0 M1955.57 1515.64 Q1951.96 1515.64 1950.13 1519.2 Q1948.32 1522.75 1948.32 1529.87 Q1948.32 1536.98 1950.13 1540.55 Q1951.96 1544.09 1955.57 1544.09 Q1959.2 1544.09 1961.01 1540.55 Q1962.84 1536.98 1962.84 1529.87 Q1962.84 1522.75 1961.01 1519.2 Q1959.2 1515.64 1955.57 1515.64 M1955.57 1511.93 Q1961.38 1511.93 1964.43 1516.54 Q1967.51 1521.12 1967.51 1529.87 Q1967.51 1538.6 1964.43 1543.21 Q1961.38 1547.79 1955.57 1547.79 Q1949.76 1547.79 1946.68 1543.21 Q1943.62 1538.6 1943.62 1529.87 Q1943.62 1521.12 1946.68 1516.54 Q1949.76 1511.93 1955.57 1511.93 Z\" fill=\"#000000\" fill-rule=\"evenodd\" fill-opacity=\"1\" /><path clip-path=\"url(#clip820)\" d=\"M 0 0 M1985.73 1515.64 Q1982.12 1515.64 1980.29 1519.2 Q1978.48 1522.75 1978.48 1529.87 Q1978.48 1536.98 1980.29 1540.55 Q1982.12 1544.09 1985.73 1544.09 Q1989.36 1544.09 1991.17 1540.55 Q1993 1536.98 1993 1529.87 Q1993 1522.75 1991.17 1519.2 Q1989.36 1515.64 1985.73 1515.64 M1985.73 1511.93 Q1991.54 1511.93 1994.6 1516.54 Q1997.67 1521.12 1997.67 1529.87 Q1997.67 1538.6 1994.6 1543.21 Q1991.54 1547.79 1985.73 1547.79 Q1979.92 1547.79 1976.84 1543.21 Q1973.79 1538.6 1973.79 1529.87 Q1973.79 1521.12 1976.84 1516.54 Q1979.92 1511.93 1985.73 1511.93 Z\" fill=\"#000000\" fill-rule=\"evenodd\" fill-opacity=\"1\" /><path clip-path=\"url(#clip820)\" d=\"M 0 0 M2262.62 1527.98 Q2259.47 1527.98 2257.62 1530.13 Q2255.79 1532.28 2255.79 1536.03 Q2255.79 1539.76 2257.62 1541.93 Q2259.47 1544.09 2262.62 1544.09 Q2265.77 1544.09 2267.6 1541.93 Q2269.45 1539.76 2269.45 1536.03 Q2269.45 1532.28 2267.6 1530.13 Q2265.77 1527.98 2262.62 1527.98 M2271.9 1513.32 L2271.9 1517.58 Q2270.14 1516.75 2268.34 1516.31 Q2266.55 1515.87 2264.79 1515.87 Q2260.16 1515.87 2257.71 1519 Q2255.28 1522.12 2254.93 1528.44 Q2256.3 1526.43 2258.36 1525.36 Q2260.42 1524.27 2262.9 1524.27 Q2268.1 1524.27 2271.11 1527.44 Q2274.15 1530.59 2274.15 1536.03 Q2274.15 1541.36 2271 1544.57 Q2267.85 1547.79 2262.62 1547.79 Q2256.62 1547.79 2253.45 1543.21 Q2250.28 1538.6 2250.28 1529.87 Q2250.28 1521.68 2254.17 1516.82 Q2258.06 1511.93 2264.61 1511.93 Q2266.37 1511.93 2268.15 1512.28 Q2269.96 1512.63 2271.9 1513.32 Z\" fill=\"#000000\" fill-rule=\"evenodd\" fill-opacity=\"1\" /><path clip-path=\"url(#clip820)\" d=\"M 0 0 M2292.2 1515.64 Q2288.59 1515.64 2286.76 1519.2 Q2284.96 1522.75 2284.96 1529.87 Q2284.96 1536.98 2286.76 1540.55 Q2288.59 1544.09 2292.2 1544.09 Q2295.84 1544.09 2297.64 1540.55 Q2299.47 1536.98 2299.47 1529.87 Q2299.47 1522.75 2297.64 1519.2 Q2295.84 1515.64 2292.2 1515.64 M2292.2 1511.93 Q2298.01 1511.93 2301.07 1516.54 Q2304.15 1521.12 2304.15 1529.87 Q2304.15 1538.6 2301.07 1543.21 Q2298.01 1547.79 2292.2 1547.79 Q2286.39 1547.79 2283.31 1543.21 Q2280.26 1538.6 2280.26 1529.87 Q2280.26 1521.12 2283.31 1516.54 Q2286.39 1511.93 2292.2 1511.93 Z\" fill=\"#000000\" fill-rule=\"evenodd\" fill-opacity=\"1\" /><path clip-path=\"url(#clip820)\" d=\"M 0 0 M2322.36 1515.64 Q2318.75 1515.64 2316.92 1519.2 Q2315.12 1522.75 2315.12 1529.87 Q2315.12 1536.98 2316.92 1540.55 Q2318.75 1544.09 2322.36 1544.09 Q2326 1544.09 2327.8 1540.55 Q2329.63 1536.98 2329.63 1529.87 Q2329.63 1522.75 2327.8 1519.2 Q2326 1515.64 2322.36 1515.64 M2322.36 1511.93 Q2328.17 1511.93 2331.23 1516.54 Q2334.31 1521.12 2334.31 1529.87 Q2334.31 1538.6 2331.23 1543.21 Q2328.17 1547.79 2322.36 1547.79 Q2316.55 1547.79 2313.47 1543.21 Q2310.42 1538.6 2310.42 1529.87 Q2310.42 1521.12 2313.47 1516.54 Q2316.55 1511.93 2322.36 1511.93 Z\" fill=\"#000000\" fill-rule=\"evenodd\" fill-opacity=\"1\" /><polyline clip-path=\"url(#clip822)\" style=\"stroke:#000000; stroke-width:2; stroke-opacity:0.1; fill:none\" points=\"\n",
       "  216.436,1400.97 2352.76,1400.97 \n",
       "  \"/>\n",
       "<polyline clip-path=\"url(#clip822)\" style=\"stroke:#000000; stroke-width:2; stroke-opacity:0.1; fill:none\" points=\"\n",
       "  216.436,1064.85 2352.76,1064.85 \n",
       "  \"/>\n",
       "<polyline clip-path=\"url(#clip822)\" style=\"stroke:#000000; stroke-width:2; stroke-opacity:0.1; fill:none\" points=\"\n",
       "  216.436,728.719 2352.76,728.719 \n",
       "  \"/>\n",
       "<polyline clip-path=\"url(#clip822)\" style=\"stroke:#000000; stroke-width:2; stroke-opacity:0.1; fill:none\" points=\"\n",
       "  216.436,392.592 2352.76,392.592 \n",
       "  \"/>\n",
       "<polyline clip-path=\"url(#clip822)\" style=\"stroke:#000000; stroke-width:2; stroke-opacity:0.1; fill:none\" points=\"\n",
       "  216.436,56.4644 2352.76,56.4644 \n",
       "  \"/>\n",
       "<polyline clip-path=\"url(#clip820)\" style=\"stroke:#000000; stroke-width:4; stroke-opacity:1; fill:none\" points=\"\n",
       "  216.436,1486.45 216.436,47.2441 \n",
       "  \"/>\n",
       "<polyline clip-path=\"url(#clip820)\" style=\"stroke:#000000; stroke-width:4; stroke-opacity:1; fill:none\" points=\"\n",
       "  216.436,1400.97 242.072,1400.97 \n",
       "  \"/>\n",
       "<polyline clip-path=\"url(#clip820)\" style=\"stroke:#000000; stroke-width:4; stroke-opacity:1; fill:none\" points=\"\n",
       "  216.436,1064.85 242.072,1064.85 \n",
       "  \"/>\n",
       "<polyline clip-path=\"url(#clip820)\" style=\"stroke:#000000; stroke-width:4; stroke-opacity:1; fill:none\" points=\"\n",
       "  216.436,728.719 242.072,728.719 \n",
       "  \"/>\n",
       "<polyline clip-path=\"url(#clip820)\" style=\"stroke:#000000; stroke-width:4; stroke-opacity:1; fill:none\" points=\"\n",
       "  216.436,392.592 242.072,392.592 \n",
       "  \"/>\n",
       "<polyline clip-path=\"url(#clip820)\" style=\"stroke:#000000; stroke-width:4; stroke-opacity:1; fill:none\" points=\"\n",
       "  216.436,56.4644 242.072,56.4644 \n",
       "  \"/>\n",
       "<path clip-path=\"url(#clip820)\" d=\"M 0 0 M62.9365 1386.77 Q59.3254 1386.77 57.4967 1390.34 Q55.6912 1393.88 55.6912 1401.01 Q55.6912 1408.11 57.4967 1411.68 Q59.3254 1415.22 62.9365 1415.22 Q66.5707 1415.22 68.3763 1411.68 Q70.205 1408.11 70.205 1401.01 Q70.205 1393.88 68.3763 1390.34 Q66.5707 1386.77 62.9365 1386.77 M62.9365 1383.07 Q68.7467 1383.07 71.8022 1387.67 Q74.8809 1392.26 74.8809 1401.01 Q74.8809 1409.73 71.8022 1414.34 Q68.7467 1418.92 62.9365 1418.92 Q57.1264 1418.92 54.0477 1414.34 Q50.9921 1409.73 50.9921 1401.01 Q50.9921 1392.26 54.0477 1387.67 Q57.1264 1383.07 62.9365 1383.07 Z\" fill=\"#000000\" fill-rule=\"evenodd\" fill-opacity=\"1\" /><path clip-path=\"url(#clip820)\" d=\"M 0 0 M83.0984 1412.37 L87.9827 1412.37 L87.9827 1418.25 L83.0984 1418.25 L83.0984 1412.37 Z\" fill=\"#000000\" fill-rule=\"evenodd\" fill-opacity=\"1\" /><path clip-path=\"url(#clip820)\" d=\"M 0 0 M108.168 1386.77 Q104.557 1386.77 102.728 1390.34 Q100.922 1393.88 100.922 1401.01 Q100.922 1408.11 102.728 1411.68 Q104.557 1415.22 108.168 1415.22 Q111.802 1415.22 113.608 1411.68 Q115.436 1408.11 115.436 1401.01 Q115.436 1393.88 113.608 1390.34 Q111.802 1386.77 108.168 1386.77 M108.168 1383.07 Q113.978 1383.07 117.033 1387.67 Q120.112 1392.26 120.112 1401.01 Q120.112 1409.73 117.033 1414.34 Q113.978 1418.92 108.168 1418.92 Q102.358 1418.92 99.2789 1414.34 Q96.2234 1409.73 96.2234 1401.01 Q96.2234 1392.26 99.2789 1387.67 Q102.358 1383.07 108.168 1383.07 Z\" fill=\"#000000\" fill-rule=\"evenodd\" fill-opacity=\"1\" /><path clip-path=\"url(#clip820)\" d=\"M 0 0 M138.33 1386.77 Q134.719 1386.77 132.89 1390.34 Q131.084 1393.88 131.084 1401.01 Q131.084 1408.11 132.89 1411.68 Q134.719 1415.22 138.33 1415.22 Q141.964 1415.22 143.769 1411.68 Q145.598 1408.11 145.598 1401.01 Q145.598 1393.88 143.769 1390.34 Q141.964 1386.77 138.33 1386.77 M138.33 1383.07 Q144.14 1383.07 147.195 1387.67 Q150.274 1392.26 150.274 1401.01 Q150.274 1409.73 147.195 1414.34 Q144.14 1418.92 138.33 1418.92 Q132.519 1418.92 129.441 1414.34 Q126.385 1409.73 126.385 1401.01 Q126.385 1392.26 129.441 1387.67 Q132.519 1383.07 138.33 1383.07 Z\" fill=\"#000000\" fill-rule=\"evenodd\" fill-opacity=\"1\" /><path clip-path=\"url(#clip820)\" d=\"M 0 0 M168.491 1386.77 Q164.88 1386.77 163.052 1390.34 Q161.246 1393.88 161.246 1401.01 Q161.246 1408.11 163.052 1411.68 Q164.88 1415.22 168.491 1415.22 Q172.126 1415.22 173.931 1411.68 Q175.76 1408.11 175.76 1401.01 Q175.76 1393.88 173.931 1390.34 Q172.126 1386.77 168.491 1386.77 M168.491 1383.07 Q174.302 1383.07 177.357 1387.67 Q180.436 1392.26 180.436 1401.01 Q180.436 1409.73 177.357 1414.34 Q174.302 1418.92 168.491 1418.92 Q162.681 1418.92 159.603 1414.34 Q156.547 1409.73 156.547 1401.01 Q156.547 1392.26 159.603 1387.67 Q162.681 1383.07 168.491 1383.07 Z\" fill=\"#000000\" fill-rule=\"evenodd\" fill-opacity=\"1\" /><path clip-path=\"url(#clip820)\" d=\"M 0 0 M63.9319 1050.64 Q60.3208 1050.64 58.4921 1054.21 Q56.6865 1057.75 56.6865 1064.88 Q56.6865 1071.99 58.4921 1075.55 Q60.3208 1079.09 63.9319 1079.09 Q67.5661 1079.09 69.3717 1075.55 Q71.2004 1071.99 71.2004 1064.88 Q71.2004 1057.75 69.3717 1054.21 Q67.5661 1050.64 63.9319 1050.64 M63.9319 1046.94 Q69.742 1046.94 72.7976 1051.55 Q75.8763 1056.13 75.8763 1064.88 Q75.8763 1073.61 72.7976 1078.21 Q69.742 1082.8 63.9319 1082.8 Q58.1217 1082.8 55.043 1078.21 Q51.9875 1073.61 51.9875 1064.88 Q51.9875 1056.13 55.043 1051.55 Q58.1217 1046.94 63.9319 1046.94 Z\" fill=\"#000000\" fill-rule=\"evenodd\" fill-opacity=\"1\" /><path clip-path=\"url(#clip820)\" d=\"M 0 0 M84.0938 1076.25 L88.978 1076.25 L88.978 1082.13 L84.0938 1082.13 L84.0938 1076.25 Z\" fill=\"#000000\" fill-rule=\"evenodd\" fill-opacity=\"1\" /><path clip-path=\"url(#clip820)\" d=\"M 0 0 M109.163 1050.64 Q105.552 1050.64 103.723 1054.21 Q101.918 1057.75 101.918 1064.88 Q101.918 1071.99 103.723 1075.55 Q105.552 1079.09 109.163 1079.09 Q112.797 1079.09 114.603 1075.55 Q116.432 1071.99 116.432 1064.88 Q116.432 1057.75 114.603 1054.21 Q112.797 1050.64 109.163 1050.64 M109.163 1046.94 Q114.973 1046.94 118.029 1051.55 Q121.107 1056.13 121.107 1064.88 Q121.107 1073.61 118.029 1078.21 Q114.973 1082.8 109.163 1082.8 Q103.353 1082.8 100.274 1078.21 Q97.2187 1073.61 97.2187 1064.88 Q97.2187 1056.13 100.274 1051.55 Q103.353 1046.94 109.163 1046.94 Z\" fill=\"#000000\" fill-rule=\"evenodd\" fill-opacity=\"1\" /><path clip-path=\"url(#clip820)\" d=\"M 0 0 M133.353 1078.19 L149.672 1078.19 L149.672 1082.13 L127.728 1082.13 L127.728 1078.19 Q130.39 1075.44 134.973 1070.81 Q139.58 1066.15 140.76 1064.81 Q143.006 1062.29 143.885 1060.55 Q144.788 1058.79 144.788 1057.1 Q144.788 1054.35 142.843 1052.61 Q140.922 1050.88 137.82 1050.88 Q135.621 1050.88 133.168 1051.64 Q130.737 1052.4 127.959 1053.95 L127.959 1049.23 Q130.783 1048.1 133.237 1047.52 Q135.691 1046.94 137.728 1046.94 Q143.098 1046.94 146.293 1049.63 Q149.487 1052.31 149.487 1056.8 Q149.487 1058.93 148.677 1060.85 Q147.89 1062.75 145.783 1065.34 Q145.205 1066.01 142.103 1069.23 Q139.001 1072.43 133.353 1078.19 Z\" fill=\"#000000\" fill-rule=\"evenodd\" fill-opacity=\"1\" /><path clip-path=\"url(#clip820)\" d=\"M 0 0 M159.533 1047.57 L177.89 1047.57 L177.89 1051.5 L163.816 1051.5 L163.816 1059.97 Q164.834 1059.63 165.853 1059.46 Q166.871 1059.28 167.89 1059.28 Q173.677 1059.28 177.056 1062.45 Q180.436 1065.62 180.436 1071.04 Q180.436 1076.62 176.964 1079.72 Q173.491 1082.8 167.172 1082.8 Q164.996 1082.8 162.728 1082.43 Q160.482 1082.06 158.075 1081.32 L158.075 1076.62 Q160.158 1077.75 162.38 1078.31 Q164.603 1078.86 167.079 1078.86 Q171.084 1078.86 173.422 1076.76 Q175.76 1074.65 175.76 1071.04 Q175.76 1067.43 173.422 1065.32 Q171.084 1063.21 167.079 1063.21 Q165.204 1063.21 163.329 1063.63 Q161.478 1064.05 159.533 1064.93 L159.533 1047.57 Z\" fill=\"#000000\" fill-rule=\"evenodd\" fill-opacity=\"1\" /><path clip-path=\"url(#clip820)\" d=\"M 0 0 M62.9365 714.517 Q59.3254 714.517 57.4967 718.082 Q55.6912 721.624 55.6912 728.753 Q55.6912 735.86 57.4967 739.425 Q59.3254 742.966 62.9365 742.966 Q66.5707 742.966 68.3763 739.425 Q70.205 735.86 70.205 728.753 Q70.205 721.624 68.3763 718.082 Q66.5707 714.517 62.9365 714.517 M62.9365 710.814 Q68.7467 710.814 71.8022 715.42 Q74.8809 720.004 74.8809 728.753 Q74.8809 737.48 71.8022 742.087 Q68.7467 746.67 62.9365 746.67 Q57.1264 746.67 54.0477 742.087 Q50.9921 737.48 50.9921 728.753 Q50.9921 720.004 54.0477 715.42 Q57.1264 710.814 62.9365 710.814 Z\" fill=\"#000000\" fill-rule=\"evenodd\" fill-opacity=\"1\" /><path clip-path=\"url(#clip820)\" d=\"M 0 0 M83.0984 740.119 L87.9827 740.119 L87.9827 745.999 L83.0984 745.999 L83.0984 740.119 Z\" fill=\"#000000\" fill-rule=\"evenodd\" fill-opacity=\"1\" /><path clip-path=\"url(#clip820)\" d=\"M 0 0 M108.168 714.517 Q104.557 714.517 102.728 718.082 Q100.922 721.624 100.922 728.753 Q100.922 735.86 102.728 739.425 Q104.557 742.966 108.168 742.966 Q111.802 742.966 113.608 739.425 Q115.436 735.86 115.436 728.753 Q115.436 721.624 113.608 718.082 Q111.802 714.517 108.168 714.517 M108.168 710.814 Q113.978 710.814 117.033 715.42 Q120.112 720.004 120.112 728.753 Q120.112 737.48 117.033 742.087 Q113.978 746.67 108.168 746.67 Q102.358 746.67 99.2789 742.087 Q96.2234 737.48 96.2234 728.753 Q96.2234 720.004 99.2789 715.42 Q102.358 710.814 108.168 710.814 Z\" fill=\"#000000\" fill-rule=\"evenodd\" fill-opacity=\"1\" /><path clip-path=\"url(#clip820)\" d=\"M 0 0 M128.376 711.439 L146.732 711.439 L146.732 715.374 L132.658 715.374 L132.658 723.846 Q133.677 723.499 134.695 723.337 Q135.714 723.152 136.732 723.152 Q142.519 723.152 145.899 726.323 Q149.279 729.494 149.279 734.911 Q149.279 740.49 145.806 743.591 Q142.334 746.67 136.015 746.67 Q133.839 746.67 131.57 746.3 Q129.325 745.929 126.918 745.189 L126.918 740.49 Q129.001 741.624 131.223 742.179 Q133.445 742.735 135.922 742.735 Q139.927 742.735 142.265 740.628 Q144.603 738.522 144.603 734.911 Q144.603 731.3 142.265 729.193 Q139.927 727.087 135.922 727.087 Q134.047 727.087 132.172 727.503 Q130.32 727.92 128.376 728.8 L128.376 711.439 Z\" fill=\"#000000\" fill-rule=\"evenodd\" fill-opacity=\"1\" /><path clip-path=\"url(#clip820)\" d=\"M 0 0 M168.491 714.517 Q164.88 714.517 163.052 718.082 Q161.246 721.624 161.246 728.753 Q161.246 735.86 163.052 739.425 Q164.88 742.966 168.491 742.966 Q172.126 742.966 173.931 739.425 Q175.76 735.86 175.76 728.753 Q175.76 721.624 173.931 718.082 Q172.126 714.517 168.491 714.517 M168.491 710.814 Q174.302 710.814 177.357 715.42 Q180.436 720.004 180.436 728.753 Q180.436 737.48 177.357 742.087 Q174.302 746.67 168.491 746.67 Q162.681 746.67 159.603 742.087 Q156.547 737.48 156.547 728.753 Q156.547 720.004 159.603 715.42 Q162.681 710.814 168.491 710.814 Z\" fill=\"#000000\" fill-rule=\"evenodd\" fill-opacity=\"1\" /><path clip-path=\"url(#clip820)\" d=\"M 0 0 M63.9319 378.39 Q60.3208 378.39 58.4921 381.955 Q56.6865 385.497 56.6865 392.626 Q56.6865 399.733 58.4921 403.298 Q60.3208 406.839 63.9319 406.839 Q67.5661 406.839 69.3717 403.298 Q71.2004 399.733 71.2004 392.626 Q71.2004 385.497 69.3717 381.955 Q67.5661 378.39 63.9319 378.39 M63.9319 374.687 Q69.742 374.687 72.7976 379.293 Q75.8763 383.876 75.8763 392.626 Q75.8763 401.353 72.7976 405.96 Q69.742 410.543 63.9319 410.543 Q58.1217 410.543 55.043 405.96 Q51.9875 401.353 51.9875 392.626 Q51.9875 383.876 55.043 379.293 Q58.1217 374.687 63.9319 374.687 Z\" fill=\"#000000\" fill-rule=\"evenodd\" fill-opacity=\"1\" /><path clip-path=\"url(#clip820)\" d=\"M 0 0 M84.0938 403.992 L88.978 403.992 L88.978 409.872 L84.0938 409.872 L84.0938 403.992 Z\" fill=\"#000000\" fill-rule=\"evenodd\" fill-opacity=\"1\" /><path clip-path=\"url(#clip820)\" d=\"M 0 0 M109.163 378.39 Q105.552 378.39 103.723 381.955 Q101.918 385.497 101.918 392.626 Q101.918 399.733 103.723 403.298 Q105.552 406.839 109.163 406.839 Q112.797 406.839 114.603 403.298 Q116.432 399.733 116.432 392.626 Q116.432 385.497 114.603 381.955 Q112.797 378.39 109.163 378.39 M109.163 374.687 Q114.973 374.687 118.029 379.293 Q121.107 383.876 121.107 392.626 Q121.107 401.353 118.029 405.96 Q114.973 410.543 109.163 410.543 Q103.353 410.543 100.274 405.96 Q97.2187 401.353 97.2187 392.626 Q97.2187 383.876 100.274 379.293 Q103.353 374.687 109.163 374.687 Z\" fill=\"#000000\" fill-rule=\"evenodd\" fill-opacity=\"1\" /><path clip-path=\"url(#clip820)\" d=\"M 0 0 M128.144 375.312 L150.367 375.312 L150.367 377.302 L137.82 409.872 L132.936 409.872 L144.742 379.247 L128.144 379.247 L128.144 375.312 Z\" fill=\"#000000\" fill-rule=\"evenodd\" fill-opacity=\"1\" /><path clip-path=\"url(#clip820)\" d=\"M 0 0 M159.533 375.312 L177.89 375.312 L177.89 379.247 L163.816 379.247 L163.816 387.719 Q164.834 387.372 165.853 387.21 Q166.871 387.024 167.89 387.024 Q173.677 387.024 177.056 390.196 Q180.436 393.367 180.436 398.784 Q180.436 404.362 176.964 407.464 Q173.491 410.543 167.172 410.543 Q164.996 410.543 162.728 410.172 Q160.482 409.802 158.075 409.061 L158.075 404.362 Q160.158 405.497 162.38 406.052 Q164.603 406.608 167.079 406.608 Q171.084 406.608 173.422 404.501 Q175.76 402.395 175.76 398.784 Q175.76 395.173 173.422 393.066 Q171.084 390.96 167.079 390.96 Q165.204 390.96 163.329 391.376 Q161.478 391.793 159.533 392.673 L159.533 375.312 Z\" fill=\"#000000\" fill-rule=\"evenodd\" fill-opacity=\"1\" /><path clip-path=\"url(#clip820)\" d=\"M 0 0 M62.9365 42.263 Q59.3254 42.263 57.4967 45.8278 Q55.6912 49.3695 55.6912 56.4991 Q55.6912 63.6055 57.4967 67.1703 Q59.3254 70.712 62.9365 70.712 Q66.5707 70.712 68.3763 67.1703 Q70.205 63.6055 70.205 56.4991 Q70.205 49.3695 68.3763 45.8278 Q66.5707 42.263 62.9365 42.263 M62.9365 38.5594 Q68.7467 38.5594 71.8022 43.1658 Q74.8809 47.7491 74.8809 56.4991 Q74.8809 65.2259 71.8022 69.8323 Q68.7467 74.4156 62.9365 74.4156 Q57.1264 74.4156 54.0477 69.8323 Q50.9921 65.2259 50.9921 56.4991 Q50.9921 47.7491 54.0477 43.1658 Q57.1264 38.5594 62.9365 38.5594 Z\" fill=\"#000000\" fill-rule=\"evenodd\" fill-opacity=\"1\" /><path clip-path=\"url(#clip820)\" d=\"M 0 0 M83.0984 67.8648 L87.9827 67.8648 L87.9827 73.7444 L83.0984 73.7444 L83.0984 67.8648 Z\" fill=\"#000000\" fill-rule=\"evenodd\" fill-opacity=\"1\" /><path clip-path=\"url(#clip820)\" d=\"M 0 0 M98.978 69.8092 L106.617 69.8092 L106.617 43.4436 L98.3067 45.1102 L98.3067 40.851 L106.571 39.1844 L111.246 39.1844 L111.246 69.8092 L118.885 69.8092 L118.885 73.7444 L98.978 73.7444 L98.978 69.8092 Z\" fill=\"#000000\" fill-rule=\"evenodd\" fill-opacity=\"1\" /><path clip-path=\"url(#clip820)\" d=\"M 0 0 M138.33 42.263 Q134.719 42.263 132.89 45.8278 Q131.084 49.3695 131.084 56.4991 Q131.084 63.6055 132.89 67.1703 Q134.719 70.712 138.33 70.712 Q141.964 70.712 143.769 67.1703 Q145.598 63.6055 145.598 56.4991 Q145.598 49.3695 143.769 45.8278 Q141.964 42.263 138.33 42.263 M138.33 38.5594 Q144.14 38.5594 147.195 43.1658 Q150.274 47.7491 150.274 56.4991 Q150.274 65.2259 147.195 69.8323 Q144.14 74.4156 138.33 74.4156 Q132.519 74.4156 129.441 69.8323 Q126.385 65.2259 126.385 56.4991 Q126.385 47.7491 129.441 43.1658 Q132.519 38.5594 138.33 38.5594 Z\" fill=\"#000000\" fill-rule=\"evenodd\" fill-opacity=\"1\" /><path clip-path=\"url(#clip820)\" d=\"M 0 0 M168.491 42.263 Q164.88 42.263 163.052 45.8278 Q161.246 49.3695 161.246 56.4991 Q161.246 63.6055 163.052 67.1703 Q164.88 70.712 168.491 70.712 Q172.126 70.712 173.931 67.1703 Q175.76 63.6055 175.76 56.4991 Q175.76 49.3695 173.931 45.8278 Q172.126 42.263 168.491 42.263 M168.491 38.5594 Q174.302 38.5594 177.357 43.1658 Q180.436 47.7491 180.436 56.4991 Q180.436 65.2259 177.357 69.8323 Q174.302 74.4156 168.491 74.4156 Q162.681 74.4156 159.603 69.8323 Q156.547 65.2259 156.547 56.4991 Q156.547 47.7491 159.603 43.1658 Q162.681 38.5594 168.491 38.5594 Z\" fill=\"#000000\" fill-rule=\"evenodd\" fill-opacity=\"1\" /><polyline clip-path=\"url(#clip822)\" style=\"stroke:#009af9; stroke-width:4; stroke-opacity:1; fill:none\" points=\"\n",
       "  276.898,1445.72 280.262,1445.72 283.627,1445.71 286.992,1445.71 290.356,1445.69 293.721,1445.64 297.085,1445.57 300.45,1445.46 303.815,1445.29 307.179,1445.06 \n",
       "  310.544,1444.76 313.908,1444.37 317.273,1443.87 320.638,1443.27 324.002,1442.55 327.367,1441.7 330.731,1440.71 334.096,1439.58 337.461,1438.3 340.825,1436.86 \n",
       "  344.19,1435.27 347.554,1433.53 350.919,1431.62 354.284,1429.56 357.648,1427.35 361.013,1424.98 364.377,1422.48 367.742,1419.83 371.107,1417.06 374.471,1414.16 \n",
       "  377.836,1411.16 381.2,1408.06 384.565,1404.86 387.93,1401.6 391.294,1398.27 394.659,1394.9 398.023,1391.5 401.388,1388.08 404.753,1384.66 408.117,1381.25 \n",
       "  411.482,1377.87 414.846,1374.54 418.211,1371.26 421.576,1368.07 424.94,1364.96 428.305,1361.97 431.669,1359.09 435.034,1356.34 438.399,1353.74 441.763,1351.31 \n",
       "  445.128,1349.04 448.492,1346.95 451.857,1345.06 455.222,1343.37 458.586,1341.88 461.951,1340.61 465.315,1339.57 468.68,1338.75 472.045,1338.16 475.409,1337.81 \n",
       "  478.774,1337.69 482.138,1337.81 485.503,1338.16 488.868,1338.75 492.232,1339.57 495.597,1340.61 498.961,1341.88 502.326,1343.37 505.691,1345.06 509.055,1346.95 \n",
       "  512.42,1349.04 515.784,1351.31 519.149,1353.74 522.514,1356.34 525.878,1359.09 529.243,1361.97 532.607,1364.96 535.972,1368.07 539.337,1371.26 542.701,1374.54 \n",
       "  546.066,1377.87 549.43,1381.25 552.795,1384.66 556.16,1388.08 559.524,1391.5 562.889,1394.9 566.253,1398.27 569.618,1401.6 572.983,1404.86 576.347,1408.06 \n",
       "  579.712,1411.16 583.076,1414.16 586.441,1417.06 589.806,1419.83 593.17,1422.48 596.535,1424.98 599.9,1427.35 603.264,1429.56 606.629,1431.62 609.993,1433.53 \n",
       "  613.358,1435.27 616.723,1436.86 620.087,1438.3 623.452,1439.58 626.816,1440.71 630.181,1441.7 633.546,1442.55 636.91,1443.27 640.275,1443.87 643.639,1444.37 \n",
       "  647.004,1444.76 650.369,1445.06 653.733,1445.29 657.098,1445.46 660.462,1445.57 663.827,1445.64 667.192,1445.69 670.556,1445.71 673.921,1445.71 677.285,1445.72 \n",
       "  680.65,1445.72 684.015,1445.72 687.379,1445.72 690.744,1445.72 694.108,1445.72 697.473,1445.72 700.838,1445.72 704.202,1445.72 707.567,1445.72 710.931,1445.72 \n",
       "  714.296,1445.72 717.661,1445.72 721.025,1445.72 724.39,1445.72 727.754,1445.72 731.119,1445.72 734.484,1445.72 737.848,1445.72 741.213,1445.72 744.577,1445.72 \n",
       "  747.942,1445.72 751.307,1445.72 754.671,1445.72 758.036,1445.72 761.4,1445.72 764.765,1445.72 768.13,1445.72 771.494,1445.72 774.859,1445.72 778.223,1445.72 \n",
       "  781.588,1445.72 784.953,1445.72 788.317,1445.72 791.682,1445.72 795.046,1445.72 798.411,1445.72 801.776,1445.72 805.14,1445.72 808.505,1445.72 811.869,1445.72 \n",
       "  815.234,1445.72 818.599,1445.72 821.963,1445.72 825.328,1445.72 828.692,1445.72 832.057,1445.72 835.422,1445.72 838.786,1445.72 842.151,1445.72 845.515,1445.72 \n",
       "  848.88,1445.72 852.245,1445.72 855.609,1445.72 858.974,1445.72 862.338,1445.72 865.703,1445.72 869.068,1445.72 872.432,1445.72 875.797,1445.72 879.161,1445.72 \n",
       "  882.526,1445.72 885.891,1445.72 889.255,1445.72 892.62,1445.72 895.984,1445.72 899.349,1445.72 902.714,1445.72 906.078,1445.72 909.443,1445.72 912.807,1445.72 \n",
       "  916.172,1445.72 919.537,1445.72 922.901,1445.72 926.266,1445.72 929.63,1445.72 932.995,1445.72 936.36,1445.72 939.724,1445.72 943.089,1445.72 946.453,1445.72 \n",
       "  949.818,1445.72 953.183,1445.72 956.547,1445.72 959.912,1445.72 963.276,1445.72 966.641,1445.72 970.006,1445.72 973.37,1445.72 976.735,1445.72 980.099,1445.72 \n",
       "  983.464,1445.72 986.829,1445.72 990.193,1445.72 993.558,1445.72 996.922,1445.72 1000.29,1445.72 1003.65,1445.72 1007.02,1445.72 1010.38,1445.72 1013.75,1445.72 \n",
       "  1017.11,1445.72 1020.47,1445.72 1023.84,1445.72 1027.2,1445.72 1030.57,1445.72 1033.93,1445.72 1037.3,1445.72 1040.66,1445.72 1044.03,1445.72 1047.39,1445.72 \n",
       "  1050.76,1445.72 1054.12,1445.72 1057.49,1445.72 1060.85,1445.72 1064.21,1445.72 1067.58,1445.72 1070.94,1445.72 1074.31,1445.72 1077.67,1445.72 1081.04,1445.72 \n",
       "  1084.4,1445.72 1087.77,1445.72 1091.13,1445.72 1094.5,1445.72 1097.86,1445.72 1101.23,1445.72 1104.59,1445.72 1107.95,1445.72 1111.32,1445.72 1114.68,1445.72 \n",
       "  1118.05,1445.72 1121.41,1445.72 1124.78,1445.72 1128.14,1445.72 1131.51,1445.72 1134.87,1445.72 1138.24,1445.72 1141.6,1445.72 1144.96,1445.72 1148.33,1445.72 \n",
       "  1151.69,1445.72 1155.06,1445.72 1158.42,1445.72 1161.79,1445.72 1165.15,1445.72 1168.52,1445.72 1171.88,1445.72 1175.25,1445.72 1178.61,1445.72 1181.98,1445.72 \n",
       "  1185.34,1445.72 1188.7,1445.72 1192.07,1445.72 1195.43,1445.72 1198.8,1445.72 1202.16,1445.72 1205.53,1445.72 1208.89,1445.72 1212.26,1445.72 1215.62,1445.72 \n",
       "  1218.99,1445.72 1222.35,1445.72 1225.72,1445.72 1229.08,1445.72 1232.44,1445.72 1235.81,1445.72 1239.17,1445.72 1242.54,1445.72 1245.9,1445.72 1249.27,1445.72 \n",
       "  1252.63,1445.72 1256,1445.72 1259.36,1445.72 1262.73,1445.72 1266.09,1445.72 1269.46,1445.72 1272.82,1445.72 1276.18,1445.72 1279.55,1445.72 1282.91,1445.72 \n",
       "  1286.28,1445.72 1289.64,1445.72 1293.01,1445.72 1296.37,1445.72 1299.74,1445.72 1303.1,1445.72 1306.47,1445.72 1309.83,1445.72 1313.2,1445.72 1316.56,1445.72 \n",
       "  1319.92,1445.72 1323.29,1445.72 1326.65,1445.72 1330.02,1445.72 1333.38,1445.72 1336.75,1445.72 1340.11,1445.72 1343.48,1445.72 1346.84,1445.72 1350.21,1445.72 \n",
       "  1353.57,1445.72 1356.93,1445.72 1360.3,1445.72 1363.66,1445.72 1367.03,1445.72 1370.39,1445.72 1373.76,1445.72 1377.12,1445.72 1380.49,1445.72 1383.85,1445.72 \n",
       "  1387.22,1445.72 1390.58,1445.72 1393.95,1445.72 1397.31,1445.72 1400.67,1445.72 1404.04,1445.72 1407.4,1445.72 1410.77,1445.72 1414.13,1445.72 1417.5,1445.72 \n",
       "  1420.86,1445.72 1424.23,1445.72 1427.59,1445.72 1430.96,1445.72 1434.32,1445.72 1437.69,1445.72 1441.05,1445.72 1444.41,1445.72 1447.78,1445.72 1451.14,1445.72 \n",
       "  1454.51,1445.72 1457.87,1445.72 1461.24,1445.72 1464.6,1445.72 1467.97,1445.72 1471.33,1445.72 1474.7,1445.72 1478.06,1445.72 1481.43,1445.72 1484.79,1445.72 \n",
       "  1488.15,1445.72 1491.52,1445.72 1494.88,1445.72 1498.25,1445.72 1501.61,1445.72 1504.98,1445.72 1508.34,1445.72 1511.71,1445.72 1515.07,1445.72 1518.44,1445.72 \n",
       "  1521.8,1445.72 1525.16,1445.72 1528.53,1445.72 1531.89,1445.72 1535.26,1445.72 1538.62,1445.72 1541.99,1445.72 1545.35,1445.72 1548.72,1445.72 1552.08,1445.72 \n",
       "  1555.45,1445.72 1558.81,1445.72 1562.18,1445.72 1565.54,1445.72 1568.9,1445.72 1572.27,1445.72 1575.63,1445.72 1579,1445.72 1582.36,1445.72 1585.73,1445.72 \n",
       "  1589.09,1445.72 1592.46,1445.72 1595.82,1445.72 1599.19,1445.72 1602.55,1445.72 1605.92,1445.72 1609.28,1445.72 1612.64,1445.72 1616.01,1445.72 1619.37,1445.72 \n",
       "  1622.74,1445.72 1626.1,1445.72 1629.47,1445.72 1632.83,1445.72 1636.2,1445.72 1639.56,1445.72 1642.93,1445.72 1646.29,1445.72 1649.66,1445.72 1653.02,1445.72 \n",
       "  1656.38,1445.72 1659.75,1445.72 1663.11,1445.72 1666.48,1445.72 1669.84,1445.72 1673.21,1445.72 1676.57,1445.72 1679.94,1445.72 1683.3,1445.72 1686.67,1445.72 \n",
       "  1690.03,1445.72 1693.39,1445.72 1696.76,1445.72 1700.12,1445.72 1703.49,1445.72 1706.85,1445.72 1710.22,1445.72 1713.58,1445.72 1716.95,1445.72 1720.31,1445.72 \n",
       "  1723.68,1445.72 1727.04,1445.72 1730.41,1445.72 1733.77,1445.72 1737.13,1445.72 1740.5,1445.72 1743.86,1445.72 1747.23,1445.72 1750.59,1445.72 1753.96,1445.72 \n",
       "  1757.32,1445.72 1760.69,1445.72 1764.05,1445.72 1767.42,1445.72 1770.78,1445.72 1774.15,1445.72 1777.51,1445.72 1780.87,1445.72 1784.24,1445.72 1787.6,1445.72 \n",
       "  1790.97,1445.72 1794.33,1445.72 1797.7,1445.72 1801.06,1445.72 1804.43,1445.72 1807.79,1445.72 1811.16,1445.72 1814.52,1445.72 1817.89,1445.72 1821.25,1445.72 \n",
       "  1824.61,1445.72 1827.98,1445.72 1831.34,1445.72 1834.71,1445.72 1838.07,1445.72 1841.44,1445.72 1844.8,1445.72 1848.17,1445.72 1851.53,1445.72 1854.9,1445.72 \n",
       "  1858.26,1445.72 1861.63,1445.72 1864.99,1445.72 1868.35,1445.72 1871.72,1445.72 1875.08,1445.72 1878.45,1445.72 1881.81,1445.72 1885.18,1445.72 1888.54,1445.72 \n",
       "  1891.91,1445.72 1895.27,1445.72 1898.64,1445.72 1902,1445.72 1905.36,1445.72 1908.73,1445.72 1912.09,1445.72 1915.46,1445.72 1918.82,1445.72 1922.19,1445.72 \n",
       "  1925.55,1445.72 1928.92,1445.72 1932.28,1445.72 1935.65,1445.72 1939.01,1445.72 1942.38,1445.72 1945.74,1445.72 1949.1,1445.72 1952.47,1445.72 1955.83,1445.72 \n",
       "  1959.2,1445.72 1962.56,1445.72 1965.93,1445.72 1969.29,1445.72 1972.66,1445.72 1976.02,1445.72 1979.39,1445.72 1982.75,1445.72 1986.12,1445.72 1989.48,1445.72 \n",
       "  1992.84,1445.72 1996.21,1445.72 1999.57,1445.72 2002.94,1445.72 2006.3,1445.72 2009.67,1445.72 2013.03,1445.72 2016.4,1445.72 2019.76,1445.72 2023.13,1445.72 \n",
       "  2026.49,1445.72 2029.86,1445.72 2033.22,1445.72 2036.58,1445.72 2039.95,1445.72 2043.31,1445.72 2046.68,1445.72 2050.04,1445.72 2053.41,1445.72 2056.77,1445.72 \n",
       "  2060.14,1445.72 2063.5,1445.72 2066.87,1445.72 2070.23,1445.72 2073.59,1445.72 2076.96,1445.72 2080.32,1445.72 2083.69,1445.72 2087.05,1445.72 2090.42,1445.72 \n",
       "  2093.78,1445.72 2097.15,1445.72 2100.51,1445.72 2103.88,1445.72 2107.24,1445.72 2110.61,1445.72 2113.97,1445.72 2117.33,1445.72 2120.7,1445.72 2124.06,1445.72 \n",
       "  2127.43,1445.72 2130.79,1445.72 2134.16,1445.72 2137.52,1445.72 2140.89,1445.72 2144.25,1445.72 2147.62,1445.72 2150.98,1445.72 2154.35,1445.72 2157.71,1445.72 \n",
       "  2161.07,1445.72 2164.44,1445.72 2167.8,1445.72 2171.17,1445.72 2174.53,1445.72 2177.9,1445.72 2181.26,1445.72 2184.63,1445.72 2187.99,1445.72 2191.36,1445.72 \n",
       "  2194.72,1445.72 2198.09,1445.72 2201.45,1445.72 2204.81,1445.72 2208.18,1445.72 2211.54,1445.72 2214.91,1445.72 2218.27,1445.72 2221.64,1445.72 2225,1445.72 \n",
       "  2228.37,1445.72 2231.73,1445.72 2235.1,1445.72 2238.46,1445.72 2241.82,1445.72 2245.19,1445.72 2248.55,1445.72 2251.92,1445.72 2255.28,1445.72 2258.65,1445.72 \n",
       "  2262.01,1445.72 2265.38,1445.72 2268.74,1445.72 2272.11,1445.72 2275.47,1445.72 2278.84,1445.72 2282.2,1445.72 2285.56,1445.72 2288.93,1445.72 2292.29,1445.72 \n",
       "  \n",
       "  \"/>\n",
       "<polyline clip-path=\"url(#clip822)\" style=\"stroke:#e26f46; stroke-width:4; stroke-opacity:1; fill:none\" points=\"\n",
       "  276.898,1400.97 280.262,1400.97 283.627,1400.95 286.992,1400.85 290.356,1400.61 293.721,1400.12 297.085,1399.26 300.45,1397.91 303.815,1395.93 307.179,1393.19 \n",
       "  310.544,1389.53 313.908,1384.82 317.273,1378.92 320.638,1371.71 324.002,1363.06 327.367,1352.87 330.731,1341.04 334.096,1327.49 337.461,1312.15 340.825,1294.96 \n",
       "  344.19,1275.9 347.554,1254.93 350.919,1232.07 354.284,1207.31 357.648,1180.69 361.013,1152.25 364.377,1122.07 367.742,1090.2 371.107,1056.75 374.471,1021.82 \n",
       "  377.836,985.533 381.2,948.013 384.565,909.404 387.93,869.861 391.294,829.543 394.659,788.621 398.023,747.27 401.388,705.672 404.753,664.014 408.117,622.485 \n",
       "  411.482,581.276 414.846,540.579 418.211,500.586 421.576,461.487 424.94,423.469 428.305,386.714 431.669,351.402 435.034,317.704 438.399,285.784 441.763,255.799 \n",
       "  445.128,227.898 448.492,202.217 451.857,178.884 455.222,158.015 458.586,139.714 461.951,124.07 465.315,111.163 468.68,101.057 472.045,93.8021 475.409,89.4346 \n",
       "  478.774,87.9763 482.138,89.4346 485.503,93.8021 488.868,101.057 492.232,111.163 495.597,124.07 498.961,139.714 502.326,158.015 505.691,178.884 509.055,202.217 \n",
       "  512.42,227.898 515.784,255.799 519.149,285.784 522.514,317.704 525.878,351.402 529.243,386.714 532.607,423.469 535.972,461.487 539.337,500.586 542.701,540.579 \n",
       "  546.066,581.276 549.43,622.485 552.795,664.014 556.16,705.672 559.524,747.27 562.889,788.621 566.253,829.543 569.618,869.861 572.983,909.404 576.347,948.013 \n",
       "  579.712,985.533 583.076,1021.82 586.441,1056.75 589.806,1090.2 593.17,1122.07 596.535,1152.25 599.9,1180.69 603.264,1207.31 606.629,1232.07 609.993,1254.93 \n",
       "  613.358,1275.9 616.723,1294.96 620.087,1312.15 623.452,1327.49 626.816,1341.04 630.181,1352.87 633.546,1363.06 636.91,1371.71 640.275,1378.92 643.639,1384.82 \n",
       "  647.004,1389.53 650.369,1393.19 653.733,1395.93 657.098,1397.91 660.462,1399.26 663.827,1400.12 667.192,1400.61 670.556,1400.85 673.921,1400.95 677.285,1400.97 \n",
       "  680.65,1400.97 684.015,1400.97 687.379,1400.97 690.744,1400.97 694.108,1400.97 697.473,1400.97 700.838,1400.97 704.202,1400.97 707.567,1400.97 710.931,1400.97 \n",
       "  714.296,1400.97 717.661,1400.97 721.025,1400.97 724.39,1400.97 727.754,1400.97 731.119,1400.97 734.484,1400.97 737.848,1400.97 741.213,1400.97 744.577,1400.97 \n",
       "  747.942,1400.97 751.307,1400.97 754.671,1400.97 758.036,1400.97 761.4,1400.97 764.765,1400.97 768.13,1400.97 771.494,1400.97 774.859,1400.97 778.223,1400.97 \n",
       "  781.588,1400.97 784.953,1400.97 788.317,1400.97 791.682,1400.97 795.046,1400.97 798.411,1400.97 801.776,1400.97 805.14,1400.97 808.505,1400.97 811.869,1400.97 \n",
       "  815.234,1400.97 818.599,1400.97 821.963,1400.97 825.328,1400.97 828.692,1400.97 832.057,1400.97 835.422,1400.97 838.786,1400.97 842.151,1400.97 845.515,1400.97 \n",
       "  848.88,1400.97 852.245,1400.97 855.609,1400.97 858.974,1400.97 862.338,1400.97 865.703,1400.97 869.068,1400.97 872.432,1400.97 875.797,1400.97 879.161,1400.97 \n",
       "  882.526,1400.97 885.891,1400.97 889.255,1400.97 892.62,1400.97 895.984,1400.97 899.349,1400.97 902.714,1400.97 906.078,1400.97 909.443,1400.97 912.807,1400.97 \n",
       "  916.172,1400.97 919.537,1400.97 922.901,1400.97 926.266,1400.97 929.63,1400.97 932.995,1400.97 936.36,1400.97 939.724,1400.97 943.089,1400.97 946.453,1400.97 \n",
       "  949.818,1400.97 953.183,1400.97 956.547,1400.97 959.912,1400.97 963.276,1400.97 966.641,1400.97 970.006,1400.97 973.37,1400.97 976.735,1400.97 980.099,1400.97 \n",
       "  983.464,1400.97 986.829,1400.97 990.193,1400.97 993.558,1400.97 996.922,1400.97 1000.29,1400.97 1003.65,1400.97 1007.02,1400.97 1010.38,1400.97 1013.75,1400.97 \n",
       "  1017.11,1400.97 1020.47,1400.97 1023.84,1400.97 1027.2,1400.97 1030.57,1400.97 1033.93,1400.97 1037.3,1400.97 1040.66,1400.97 1044.03,1400.97 1047.39,1400.97 \n",
       "  1050.76,1400.97 1054.12,1400.97 1057.49,1400.97 1060.85,1400.97 1064.21,1400.97 1067.58,1400.97 1070.94,1400.97 1074.31,1400.97 1077.67,1400.97 1081.04,1400.97 \n",
       "  1084.4,1400.97 1087.77,1400.97 1091.13,1400.97 1094.5,1400.97 1097.86,1400.97 1101.23,1400.97 1104.59,1400.97 1107.95,1400.97 1111.32,1400.97 1114.68,1400.97 \n",
       "  1118.05,1400.97 1121.41,1400.97 1124.78,1400.97 1128.14,1400.97 1131.51,1400.97 1134.87,1400.97 1138.24,1400.97 1141.6,1400.97 1144.96,1400.97 1148.33,1400.97 \n",
       "  1151.69,1400.97 1155.06,1400.97 1158.42,1400.97 1161.79,1400.97 1165.15,1400.97 1168.52,1400.97 1171.88,1400.97 1175.25,1400.97 1178.61,1400.97 1181.98,1400.97 \n",
       "  1185.34,1400.97 1188.7,1400.97 1192.07,1400.97 1195.43,1400.97 1198.8,1400.97 1202.16,1400.97 1205.53,1400.97 1208.89,1400.97 1212.26,1400.97 1215.62,1400.97 \n",
       "  1218.99,1400.97 1222.35,1400.97 1225.72,1400.97 1229.08,1400.97 1232.44,1400.97 1235.81,1400.97 1239.17,1400.97 1242.54,1400.97 1245.9,1400.97 1249.27,1400.97 \n",
       "  1252.63,1400.97 1256,1400.97 1259.36,1400.97 1262.73,1400.97 1266.09,1400.97 1269.46,1400.97 1272.82,1400.97 1276.18,1400.97 1279.55,1400.97 1282.91,1400.97 \n",
       "  1286.28,1400.97 1289.64,1400.97 1293.01,1400.97 1296.37,1400.97 1299.74,1400.97 1303.1,1400.97 1306.47,1400.97 1309.83,1400.97 1313.2,1400.97 1316.56,1400.97 \n",
       "  1319.92,1400.97 1323.29,1400.97 1326.65,1400.97 1330.02,1400.97 1333.38,1400.97 1336.75,1400.97 1340.11,1400.97 1343.48,1400.97 1346.84,1400.97 1350.21,1400.97 \n",
       "  1353.57,1400.97 1356.93,1400.97 1360.3,1400.97 1363.66,1400.97 1367.03,1400.97 1370.39,1400.97 1373.76,1400.97 1377.12,1400.97 1380.49,1400.97 1383.85,1400.97 \n",
       "  1387.22,1400.97 1390.58,1400.97 1393.95,1400.97 1397.31,1400.97 1400.67,1400.97 1404.04,1400.97 1407.4,1400.97 1410.77,1400.97 1414.13,1400.97 1417.5,1400.97 \n",
       "  1420.86,1400.97 1424.23,1400.97 1427.59,1400.97 1430.96,1400.97 1434.32,1400.97 1437.69,1400.97 1441.05,1400.97 1444.41,1400.97 1447.78,1400.97 1451.14,1400.97 \n",
       "  1454.51,1400.97 1457.87,1400.97 1461.24,1400.97 1464.6,1400.97 1467.97,1400.97 1471.33,1400.97 1474.7,1400.97 1478.06,1400.97 1481.43,1400.97 1484.79,1400.97 \n",
       "  1488.15,1400.97 1491.52,1400.97 1494.88,1400.97 1498.25,1400.97 1501.61,1400.97 1504.98,1400.97 1508.34,1400.97 1511.71,1400.97 1515.07,1400.97 1518.44,1400.97 \n",
       "  1521.8,1400.97 1525.16,1400.97 1528.53,1400.97 1531.89,1400.97 1535.26,1400.97 1538.62,1400.97 1541.99,1400.97 1545.35,1400.97 1548.72,1400.97 1552.08,1400.97 \n",
       "  1555.45,1400.97 1558.81,1400.97 1562.18,1400.97 1565.54,1400.97 1568.9,1400.97 1572.27,1400.97 1575.63,1400.97 1579,1400.97 1582.36,1400.97 1585.73,1400.97 \n",
       "  1589.09,1400.97 1592.46,1400.97 1595.82,1400.97 1599.19,1400.97 1602.55,1400.97 1605.92,1400.97 1609.28,1400.97 1612.64,1400.97 1616.01,1400.97 1619.37,1400.97 \n",
       "  1622.74,1400.97 1626.1,1400.97 1629.47,1400.97 1632.83,1400.97 1636.2,1400.97 1639.56,1400.97 1642.93,1400.97 1646.29,1400.97 1649.66,1400.97 1653.02,1400.97 \n",
       "  1656.38,1400.97 1659.75,1400.97 1663.11,1400.97 1666.48,1400.97 1669.84,1400.97 1673.21,1400.97 1676.57,1400.97 1679.94,1400.97 1683.3,1400.97 1686.67,1400.97 \n",
       "  1690.03,1400.97 1693.39,1400.97 1696.76,1400.97 1700.12,1400.97 1703.49,1400.97 1706.85,1400.97 1710.22,1400.97 1713.58,1400.97 1716.95,1400.97 1720.31,1400.97 \n",
       "  1723.68,1400.97 1727.04,1400.97 1730.41,1400.97 1733.77,1400.97 1737.13,1400.97 1740.5,1400.97 1743.86,1400.97 1747.23,1400.97 1750.59,1400.97 1753.96,1400.97 \n",
       "  1757.32,1400.97 1760.69,1400.97 1764.05,1400.97 1767.42,1400.97 1770.78,1400.97 1774.15,1400.97 1777.51,1400.97 1780.87,1400.97 1784.24,1400.97 1787.6,1400.97 \n",
       "  1790.97,1400.97 1794.33,1400.97 1797.7,1400.97 1801.06,1400.97 1804.43,1400.97 1807.79,1400.97 1811.16,1400.97 1814.52,1400.97 1817.89,1400.97 1821.25,1400.97 \n",
       "  1824.61,1400.97 1827.98,1400.97 1831.34,1400.97 1834.71,1400.97 1838.07,1400.97 1841.44,1400.97 1844.8,1400.97 1848.17,1400.97 1851.53,1400.97 1854.9,1400.97 \n",
       "  1858.26,1400.97 1861.63,1400.97 1864.99,1400.97 1868.35,1400.97 1871.72,1400.97 1875.08,1400.97 1878.45,1400.97 1881.81,1400.97 1885.18,1400.97 1888.54,1400.97 \n",
       "  1891.91,1400.97 1895.27,1400.97 1898.64,1400.97 1902,1400.97 1905.36,1400.97 1908.73,1400.97 1912.09,1400.97 1915.46,1400.97 1918.82,1400.97 1922.19,1400.97 \n",
       "  1925.55,1400.97 1928.92,1400.97 1932.28,1400.97 1935.65,1400.97 1939.01,1400.97 1942.38,1400.97 1945.74,1400.97 1949.1,1400.97 1952.47,1400.97 1955.83,1400.97 \n",
       "  1959.2,1400.97 1962.56,1400.97 1965.93,1400.97 1969.29,1400.97 1972.66,1400.97 1976.02,1400.97 1979.39,1400.97 1982.75,1400.97 1986.12,1400.97 1989.48,1400.97 \n",
       "  1992.84,1400.97 1996.21,1400.97 1999.57,1400.97 2002.94,1400.97 2006.3,1400.97 2009.67,1400.97 2013.03,1400.97 2016.4,1400.97 2019.76,1400.97 2023.13,1400.97 \n",
       "  2026.49,1400.97 2029.86,1400.97 2033.22,1400.97 2036.58,1400.97 2039.95,1400.97 2043.31,1400.97 2046.68,1400.97 2050.04,1400.97 2053.41,1400.97 2056.77,1400.97 \n",
       "  2060.14,1400.97 2063.5,1400.97 2066.87,1400.97 2070.23,1400.97 2073.59,1400.97 2076.96,1400.97 2080.32,1400.97 2083.69,1400.97 2087.05,1400.97 2090.42,1400.97 \n",
       "  2093.78,1400.97 2097.15,1400.97 2100.51,1400.97 2103.88,1400.97 2107.24,1400.97 2110.61,1400.97 2113.97,1400.97 2117.33,1400.97 2120.7,1400.97 2124.06,1400.97 \n",
       "  2127.43,1400.97 2130.79,1400.97 2134.16,1400.97 2137.52,1400.97 2140.89,1400.97 2144.25,1400.97 2147.62,1400.97 2150.98,1400.97 2154.35,1400.97 2157.71,1400.97 \n",
       "  2161.07,1400.97 2164.44,1400.97 2167.8,1400.97 2171.17,1400.97 2174.53,1400.97 2177.9,1400.97 2181.26,1400.97 2184.63,1400.97 2187.99,1400.97 2191.36,1400.97 \n",
       "  2194.72,1400.97 2198.09,1400.97 2201.45,1400.97 2204.81,1400.97 2208.18,1400.97 2211.54,1400.97 2214.91,1400.97 2218.27,1400.97 2221.64,1400.97 2225,1400.97 \n",
       "  2228.37,1400.97 2231.73,1400.97 2235.1,1400.97 2238.46,1400.97 2241.82,1400.97 2245.19,1400.97 2248.55,1400.97 2251.92,1400.97 2255.28,1400.97 2258.65,1400.97 \n",
       "  2262.01,1400.97 2265.38,1400.97 2268.74,1400.97 2272.11,1400.97 2275.47,1400.97 2278.84,1400.97 2282.2,1400.97 2285.56,1400.97 2288.93,1400.97 2292.29,1400.97 \n",
       "  \n",
       "  \"/>\n",
       "<path clip-path=\"url(#clip820)\" d=\"\n",
       "M1991.75 276.658 L2281.55 276.658 L2281.55 95.2176 L1991.75 95.2176  Z\n",
       "  \" fill=\"#ffffff\" fill-rule=\"evenodd\" fill-opacity=\"1\"/>\n",
       "<polyline clip-path=\"url(#clip820)\" style=\"stroke:#000000; stroke-width:4; stroke-opacity:1; fill:none\" points=\"\n",
       "  1991.75,276.658 2281.55,276.658 2281.55,95.2176 1991.75,95.2176 1991.75,276.658 \n",
       "  \"/>\n",
       "<polyline clip-path=\"url(#clip820)\" style=\"stroke:#009af9; stroke-width:4; stroke-opacity:1; fill:none\" points=\"\n",
       "  2015.48,155.698 2157.9,155.698 \n",
       "  \"/>\n",
       "<path clip-path=\"url(#clip820)\" d=\"M 0 0 M2195.48 175.385 Q2193.68 180.015 2191.97 181.427 Q2190.25 182.839 2187.38 182.839 L2183.98 182.839 L2183.98 179.274 L2186.48 179.274 Q2188.24 179.274 2189.21 178.44 Q2190.18 177.607 2191.36 174.505 L2192.13 172.561 L2181.64 147.052 L2186.16 147.052 L2194.26 167.329 L2202.36 147.052 L2206.87 147.052 L2195.48 175.385 Z\" fill=\"#000000\" fill-rule=\"evenodd\" fill-opacity=\"1\" /><path clip-path=\"url(#clip820)\" d=\"M 0 0 M2214.16 169.042 L2221.8 169.042 L2221.8 142.677 L2213.49 144.343 L2213.49 140.084 L2221.76 138.418 L2226.43 138.418 L2226.43 169.042 L2234.07 169.042 L2234.07 172.978 L2214.16 172.978 L2214.16 169.042 Z\" fill=\"#000000\" fill-rule=\"evenodd\" fill-opacity=\"1\" /><polyline clip-path=\"url(#clip820)\" style=\"stroke:#e26f46; stroke-width:4; stroke-opacity:1; fill:none\" points=\"\n",
       "  2015.48,216.178 2157.9,216.178 \n",
       "  \"/>\n",
       "<path clip-path=\"url(#clip820)\" d=\"M 0 0 M2195.48 235.865 Q2193.68 240.495 2191.97 241.907 Q2190.25 243.319 2187.38 243.319 L2183.98 243.319 L2183.98 239.754 L2186.48 239.754 Q2188.24 239.754 2189.21 238.92 Q2190.18 238.087 2191.36 234.985 L2192.13 233.041 L2181.64 207.532 L2186.16 207.532 L2194.26 227.809 L2202.36 207.532 L2206.87 207.532 L2195.48 235.865 Z\" fill=\"#000000\" fill-rule=\"evenodd\" fill-opacity=\"1\" /><path clip-path=\"url(#clip820)\" d=\"M 0 0 M2217.38 229.522 L2233.7 229.522 L2233.7 233.458 L2211.76 233.458 L2211.76 229.522 Q2214.42 226.768 2219 222.138 Q2223.61 217.485 2224.79 216.143 Q2227.03 213.62 2227.91 211.884 Q2228.82 210.124 2228.82 208.435 Q2228.82 205.68 2226.87 203.944 Q2224.95 202.208 2221.85 202.208 Q2219.65 202.208 2217.2 202.972 Q2214.77 203.735 2211.99 205.286 L2211.99 200.564 Q2214.81 199.43 2217.27 198.851 Q2219.72 198.273 2221.76 198.273 Q2227.13 198.273 2230.32 200.958 Q2233.52 203.643 2233.52 208.134 Q2233.52 210.263 2232.71 212.185 Q2231.92 214.083 2229.81 216.675 Q2229.23 217.347 2226.13 220.564 Q2223.03 223.759 2217.38 229.522 Z\" fill=\"#000000\" fill-rule=\"evenodd\" fill-opacity=\"1\" /></svg>\n"
      ]
     },
     "execution_count": 251,
     "metadata": {},
     "output_type": "execute_result"
    }
   ],
   "source": [
    "plot(flu_0[:,1] .+ 1) #plot(flu_0[:,1] .- 6)\n",
    "plot!(con_0[:,1] .-6)"
   ]
  },
  {
   "cell_type": "code",
   "execution_count": 252,
   "metadata": {
    "jupyter": {
     "source_hidden": true
    },
    "tags": []
   },
   "outputs": [
    {
     "data": {
      "image/svg+xml": [
       "<?xml version=\"1.0\" encoding=\"utf-8\"?>\n",
       "<svg xmlns=\"http://www.w3.org/2000/svg\" xmlns:xlink=\"http://www.w3.org/1999/xlink\" width=\"600\" height=\"400\" viewBox=\"0 0 2400 1600\">\n",
       "<defs>\n",
       "  <clipPath id=\"clip860\">\n",
       "    <rect x=\"0\" y=\"0\" width=\"2400\" height=\"1600\"/>\n",
       "  </clipPath>\n",
       "</defs>\n",
       "<path clip-path=\"url(#clip860)\" d=\"\n",
       "M0 1600 L2400 1600 L2400 0 L0 0  Z\n",
       "  \" fill=\"#ffffff\" fill-rule=\"evenodd\" fill-opacity=\"1\"/>\n",
       "<defs>\n",
       "  <clipPath id=\"clip861\">\n",
       "    <rect x=\"480\" y=\"0\" width=\"1681\" height=\"1600\"/>\n",
       "  </clipPath>\n",
       "</defs>\n",
       "<path clip-path=\"url(#clip860)\" d=\"\n",
       "M186.76 1486.45 L2352.76 1486.45 L2352.76 47.2441 L186.76 47.2441  Z\n",
       "  \" fill=\"#ffffff\" fill-rule=\"evenodd\" fill-opacity=\"1\"/>\n",
       "<defs>\n",
       "  <clipPath id=\"clip862\">\n",
       "    <rect x=\"186\" y=\"47\" width=\"2167\" height=\"1440\"/>\n",
       "  </clipPath>\n",
       "</defs>\n",
       "<polyline clip-path=\"url(#clip862)\" style=\"stroke:#000000; stroke-width:2; stroke-opacity:0.1; fill:none\" points=\"\n",
       "  248.062,1486.45 248.062,47.2441 \n",
       "  \"/>\n",
       "<polyline clip-path=\"url(#clip862)\" style=\"stroke:#000000; stroke-width:2; stroke-opacity:0.1; fill:none\" points=\"\n",
       "  759.763,1486.45 759.763,47.2441 \n",
       "  \"/>\n",
       "<polyline clip-path=\"url(#clip862)\" style=\"stroke:#000000; stroke-width:2; stroke-opacity:0.1; fill:none\" points=\"\n",
       "  1271.46,1486.45 1271.46,47.2441 \n",
       "  \"/>\n",
       "<polyline clip-path=\"url(#clip862)\" style=\"stroke:#000000; stroke-width:2; stroke-opacity:0.1; fill:none\" points=\"\n",
       "  1783.16,1486.45 1783.16,47.2441 \n",
       "  \"/>\n",
       "<polyline clip-path=\"url(#clip862)\" style=\"stroke:#000000; stroke-width:2; stroke-opacity:0.1; fill:none\" points=\"\n",
       "  2294.87,1486.45 2294.87,47.2441 \n",
       "  \"/>\n",
       "<polyline clip-path=\"url(#clip860)\" style=\"stroke:#000000; stroke-width:4; stroke-opacity:1; fill:none\" points=\"\n",
       "  186.76,1486.45 2352.76,1486.45 \n",
       "  \"/>\n",
       "<polyline clip-path=\"url(#clip860)\" style=\"stroke:#000000; stroke-width:4; stroke-opacity:1; fill:none\" points=\"\n",
       "  248.062,1486.45 248.062,1469.18 \n",
       "  \"/>\n",
       "<polyline clip-path=\"url(#clip860)\" style=\"stroke:#000000; stroke-width:4; stroke-opacity:1; fill:none\" points=\"\n",
       "  759.763,1486.45 759.763,1469.18 \n",
       "  \"/>\n",
       "<polyline clip-path=\"url(#clip860)\" style=\"stroke:#000000; stroke-width:4; stroke-opacity:1; fill:none\" points=\"\n",
       "  1271.46,1486.45 1271.46,1469.18 \n",
       "  \"/>\n",
       "<polyline clip-path=\"url(#clip860)\" style=\"stroke:#000000; stroke-width:4; stroke-opacity:1; fill:none\" points=\"\n",
       "  1783.16,1486.45 1783.16,1469.18 \n",
       "  \"/>\n",
       "<polyline clip-path=\"url(#clip860)\" style=\"stroke:#000000; stroke-width:4; stroke-opacity:1; fill:none\" points=\"\n",
       "  2294.87,1486.45 2294.87,1469.18 \n",
       "  \"/>\n",
       "<path clip-path=\"url(#clip860)\" d=\"M 0 0 M210.365 1515.64 Q206.754 1515.64 204.926 1519.2 Q203.12 1522.75 203.12 1529.87 Q203.12 1536.98 204.926 1540.55 Q206.754 1544.09 210.365 1544.09 Q214 1544.09 215.805 1540.55 Q217.634 1536.98 217.634 1529.87 Q217.634 1522.75 215.805 1519.2 Q214 1515.64 210.365 1515.64 M210.365 1511.93 Q216.175 1511.93 219.231 1516.54 Q222.31 1521.12 222.31 1529.87 Q222.31 1538.6 219.231 1543.21 Q216.175 1547.79 210.365 1547.79 Q204.555 1547.79 201.476 1543.21 Q198.421 1538.6 198.421 1529.87 Q198.421 1521.12 201.476 1516.54 Q204.555 1511.93 210.365 1511.93 Z\" fill=\"#000000\" fill-rule=\"evenodd\" fill-opacity=\"1\" /><path clip-path=\"url(#clip860)\" d=\"M 0 0 M230.527 1541.24 L235.411 1541.24 L235.411 1547.12 L230.527 1547.12 L230.527 1541.24 Z\" fill=\"#000000\" fill-rule=\"evenodd\" fill-opacity=\"1\" /><path clip-path=\"url(#clip860)\" d=\"M 0 0 M255.597 1515.64 Q251.985 1515.64 250.157 1519.2 Q248.351 1522.75 248.351 1529.87 Q248.351 1536.98 250.157 1540.55 Q251.985 1544.09 255.597 1544.09 Q259.231 1544.09 261.036 1540.55 Q262.865 1536.98 262.865 1529.87 Q262.865 1522.75 261.036 1519.2 Q259.231 1515.64 255.597 1515.64 M255.597 1511.93 Q261.407 1511.93 264.462 1516.54 Q267.541 1521.12 267.541 1529.87 Q267.541 1538.6 264.462 1543.21 Q261.407 1547.79 255.597 1547.79 Q249.786 1547.79 246.708 1543.21 Q243.652 1538.6 243.652 1529.87 Q243.652 1521.12 246.708 1516.54 Q249.786 1511.93 255.597 1511.93 Z\" fill=\"#000000\" fill-rule=\"evenodd\" fill-opacity=\"1\" /><path clip-path=\"url(#clip860)\" d=\"M 0 0 M285.758 1515.64 Q282.147 1515.64 280.319 1519.2 Q278.513 1522.75 278.513 1529.87 Q278.513 1536.98 280.319 1540.55 Q282.147 1544.09 285.758 1544.09 Q289.393 1544.09 291.198 1540.55 Q293.027 1536.98 293.027 1529.87 Q293.027 1522.75 291.198 1519.2 Q289.393 1515.64 285.758 1515.64 M285.758 1511.93 Q291.569 1511.93 294.624 1516.54 Q297.703 1521.12 297.703 1529.87 Q297.703 1538.6 294.624 1543.21 Q291.569 1547.79 285.758 1547.79 Q279.948 1547.79 276.87 1543.21 Q273.814 1538.6 273.814 1529.87 Q273.814 1521.12 276.87 1516.54 Q279.948 1511.93 285.758 1511.93 Z\" fill=\"#000000\" fill-rule=\"evenodd\" fill-opacity=\"1\" /><path clip-path=\"url(#clip860)\" d=\"M 0 0 M722.564 1515.64 Q718.953 1515.64 717.124 1519.2 Q715.319 1522.75 715.319 1529.87 Q715.319 1536.98 717.124 1540.55 Q718.953 1544.09 722.564 1544.09 Q726.198 1544.09 728.004 1540.55 Q729.832 1536.98 729.832 1529.87 Q729.832 1522.75 728.004 1519.2 Q726.198 1515.64 722.564 1515.64 M722.564 1511.93 Q728.374 1511.93 731.43 1516.54 Q734.508 1521.12 734.508 1529.87 Q734.508 1538.6 731.43 1543.21 Q728.374 1547.79 722.564 1547.79 Q716.754 1547.79 713.675 1543.21 Q710.62 1538.6 710.62 1529.87 Q710.62 1521.12 713.675 1516.54 Q716.754 1511.93 722.564 1511.93 Z\" fill=\"#000000\" fill-rule=\"evenodd\" fill-opacity=\"1\" /><path clip-path=\"url(#clip860)\" d=\"M 0 0 M742.726 1541.24 L747.61 1541.24 L747.61 1547.12 L742.726 1547.12 L742.726 1541.24 Z\" fill=\"#000000\" fill-rule=\"evenodd\" fill-opacity=\"1\" /><path clip-path=\"url(#clip860)\" d=\"M 0 0 M761.823 1543.18 L778.142 1543.18 L778.142 1547.12 L756.198 1547.12 L756.198 1543.18 Q758.86 1540.43 763.443 1535.8 Q768.05 1531.15 769.23 1529.81 Q771.476 1527.28 772.355 1525.55 Q773.258 1523.79 773.258 1522.1 Q773.258 1519.34 771.314 1517.61 Q769.392 1515.87 766.291 1515.87 Q764.091 1515.87 761.638 1516.63 Q759.207 1517.4 756.429 1518.95 L756.429 1514.23 Q759.254 1513.09 761.707 1512.51 Q764.161 1511.93 766.198 1511.93 Q771.568 1511.93 774.763 1514.62 Q777.957 1517.31 777.957 1521.8 Q777.957 1523.93 777.147 1525.85 Q776.36 1527.74 774.253 1530.34 Q773.675 1531.01 770.573 1534.23 Q767.471 1537.42 761.823 1543.18 Z\" fill=\"#000000\" fill-rule=\"evenodd\" fill-opacity=\"1\" /><path clip-path=\"url(#clip860)\" d=\"M 0 0 M788.003 1512.56 L806.36 1512.56 L806.36 1516.5 L792.286 1516.5 L792.286 1524.97 Q793.304 1524.62 794.323 1524.46 Q795.341 1524.27 796.36 1524.27 Q802.147 1524.27 805.526 1527.44 Q808.906 1530.62 808.906 1536.03 Q808.906 1541.61 805.434 1544.71 Q801.962 1547.79 795.642 1547.79 Q793.466 1547.79 791.198 1547.42 Q788.952 1547.05 786.545 1546.31 L786.545 1541.61 Q788.628 1542.74 790.851 1543.3 Q793.073 1543.86 795.55 1543.86 Q799.554 1543.86 801.892 1541.75 Q804.23 1539.64 804.23 1536.03 Q804.23 1532.42 801.892 1530.31 Q799.554 1528.21 795.55 1528.21 Q793.675 1528.21 791.8 1528.62 Q789.948 1529.04 788.003 1529.92 L788.003 1512.56 Z\" fill=\"#000000\" fill-rule=\"evenodd\" fill-opacity=\"1\" /><path clip-path=\"url(#clip860)\" d=\"M 0 0 M1233.77 1515.64 Q1230.16 1515.64 1228.33 1519.2 Q1226.52 1522.75 1226.52 1529.87 Q1226.52 1536.98 1228.33 1540.55 Q1230.16 1544.09 1233.77 1544.09 Q1237.4 1544.09 1239.21 1540.55 Q1241.04 1536.98 1241.04 1529.87 Q1241.04 1522.75 1239.21 1519.2 Q1237.4 1515.64 1233.77 1515.64 M1233.77 1511.93 Q1239.58 1511.93 1242.63 1516.54 Q1245.71 1521.12 1245.71 1529.87 Q1245.71 1538.6 1242.63 1543.21 Q1239.58 1547.79 1233.77 1547.79 Q1227.96 1547.79 1224.88 1543.21 Q1221.82 1538.6 1221.82 1529.87 Q1221.82 1521.12 1224.88 1516.54 Q1227.96 1511.93 1233.77 1511.93 Z\" fill=\"#000000\" fill-rule=\"evenodd\" fill-opacity=\"1\" /><path clip-path=\"url(#clip860)\" d=\"M 0 0 M1253.93 1541.24 L1258.81 1541.24 L1258.81 1547.12 L1253.93 1547.12 L1253.93 1541.24 Z\" fill=\"#000000\" fill-rule=\"evenodd\" fill-opacity=\"1\" /><path clip-path=\"url(#clip860)\" d=\"M 0 0 M1269.04 1512.56 L1287.4 1512.56 L1287.4 1516.5 L1273.33 1516.5 L1273.33 1524.97 Q1274.35 1524.62 1275.36 1524.46 Q1276.38 1524.27 1277.4 1524.27 Q1283.19 1524.27 1286.57 1527.44 Q1289.95 1530.62 1289.95 1536.03 Q1289.95 1541.61 1286.48 1544.71 Q1283 1547.79 1276.68 1547.79 Q1274.51 1547.79 1272.24 1547.42 Q1269.99 1547.05 1267.59 1546.31 L1267.59 1541.61 Q1269.67 1542.74 1271.89 1543.3 Q1274.11 1543.86 1276.59 1543.86 Q1280.6 1543.86 1282.93 1541.75 Q1285.27 1539.64 1285.27 1536.03 Q1285.27 1532.42 1282.93 1530.31 Q1280.6 1528.21 1276.59 1528.21 Q1274.72 1528.21 1272.84 1528.62 Q1270.99 1529.04 1269.04 1529.92 L1269.04 1512.56 Z\" fill=\"#000000\" fill-rule=\"evenodd\" fill-opacity=\"1\" /><path clip-path=\"url(#clip860)\" d=\"M 0 0 M1309.16 1515.64 Q1305.55 1515.64 1303.72 1519.2 Q1301.91 1522.75 1301.91 1529.87 Q1301.91 1536.98 1303.72 1540.55 Q1305.55 1544.09 1309.16 1544.09 Q1312.79 1544.09 1314.6 1540.55 Q1316.43 1536.98 1316.43 1529.87 Q1316.43 1522.75 1314.6 1519.2 Q1312.79 1515.64 1309.16 1515.64 M1309.16 1511.93 Q1314.97 1511.93 1318.03 1516.54 Q1321.1 1521.12 1321.1 1529.87 Q1321.1 1538.6 1318.03 1543.21 Q1314.97 1547.79 1309.16 1547.79 Q1303.35 1547.79 1300.27 1543.21 Q1297.22 1538.6 1297.22 1529.87 Q1297.22 1521.12 1300.27 1516.54 Q1303.35 1511.93 1309.16 1511.93 Z\" fill=\"#000000\" fill-rule=\"evenodd\" fill-opacity=\"1\" /><path clip-path=\"url(#clip860)\" d=\"M 0 0 M1745.97 1515.64 Q1742.35 1515.64 1740.53 1519.2 Q1738.72 1522.75 1738.72 1529.87 Q1738.72 1536.98 1740.53 1540.55 Q1742.35 1544.09 1745.97 1544.09 Q1749.6 1544.09 1751.41 1540.55 Q1753.23 1536.98 1753.23 1529.87 Q1753.23 1522.75 1751.41 1519.2 Q1749.6 1515.64 1745.97 1515.64 M1745.97 1511.93 Q1751.78 1511.93 1754.83 1516.54 Q1757.91 1521.12 1757.91 1529.87 Q1757.91 1538.6 1754.83 1543.21 Q1751.78 1547.79 1745.97 1547.79 Q1740.16 1547.79 1737.08 1543.21 Q1734.02 1538.6 1734.02 1529.87 Q1734.02 1521.12 1737.08 1516.54 Q1740.16 1511.93 1745.97 1511.93 Z\" fill=\"#000000\" fill-rule=\"evenodd\" fill-opacity=\"1\" /><path clip-path=\"url(#clip860)\" d=\"M 0 0 M1766.13 1541.24 L1771.01 1541.24 L1771.01 1547.12 L1766.13 1547.12 L1766.13 1541.24 Z\" fill=\"#000000\" fill-rule=\"evenodd\" fill-opacity=\"1\" /><path clip-path=\"url(#clip860)\" d=\"M 0 0 M1780.02 1512.56 L1802.24 1512.56 L1802.24 1514.55 L1789.69 1547.12 L1784.81 1547.12 L1796.61 1516.5 L1780.02 1516.5 L1780.02 1512.56 Z\" fill=\"#000000\" fill-rule=\"evenodd\" fill-opacity=\"1\" /><path clip-path=\"url(#clip860)\" d=\"M 0 0 M1811.41 1512.56 L1829.76 1512.56 L1829.76 1516.5 L1815.69 1516.5 L1815.69 1524.97 Q1816.71 1524.62 1817.72 1524.46 Q1818.74 1524.27 1819.76 1524.27 Q1825.55 1524.27 1828.93 1527.44 Q1832.31 1530.62 1832.31 1536.03 Q1832.31 1541.61 1828.84 1544.71 Q1825.36 1547.79 1819.04 1547.79 Q1816.87 1547.79 1814.6 1547.42 Q1812.35 1547.05 1809.95 1546.31 L1809.95 1541.61 Q1812.03 1542.74 1814.25 1543.3 Q1816.47 1543.86 1818.95 1543.86 Q1822.96 1543.86 1825.29 1541.75 Q1827.63 1539.64 1827.63 1536.03 Q1827.63 1532.42 1825.29 1530.31 Q1822.96 1528.21 1818.95 1528.21 Q1817.08 1528.21 1815.2 1528.62 Q1813.35 1529.04 1811.41 1529.92 L1811.41 1512.56 Z\" fill=\"#000000\" fill-rule=\"evenodd\" fill-opacity=\"1\" /><path clip-path=\"url(#clip860)\" d=\"M 0 0 M2246.94 1543.18 L2254.58 1543.18 L2254.58 1516.82 L2246.27 1518.49 L2246.27 1514.23 L2254.53 1512.56 L2259.21 1512.56 L2259.21 1543.18 L2266.84 1543.18 L2266.84 1547.12 L2246.94 1547.12 L2246.94 1543.18 Z\" fill=\"#000000\" fill-rule=\"evenodd\" fill-opacity=\"1\" /><path clip-path=\"url(#clip860)\" d=\"M 0 0 M2276.29 1541.24 L2281.17 1541.24 L2281.17 1547.12 L2276.29 1547.12 L2276.29 1541.24 Z\" fill=\"#000000\" fill-rule=\"evenodd\" fill-opacity=\"1\" /><path clip-path=\"url(#clip860)\" d=\"M 0 0 M2301.36 1515.64 Q2297.75 1515.64 2295.92 1519.2 Q2294.11 1522.75 2294.11 1529.87 Q2294.11 1536.98 2295.92 1540.55 Q2297.75 1544.09 2301.36 1544.09 Q2304.99 1544.09 2306.8 1540.55 Q2308.63 1536.98 2308.63 1529.87 Q2308.63 1522.75 2306.8 1519.2 Q2304.99 1515.64 2301.36 1515.64 M2301.36 1511.93 Q2307.17 1511.93 2310.22 1516.54 Q2313.3 1521.12 2313.3 1529.87 Q2313.3 1538.6 2310.22 1543.21 Q2307.17 1547.79 2301.36 1547.79 Q2295.55 1547.79 2292.47 1543.21 Q2289.41 1538.6 2289.41 1529.87 Q2289.41 1521.12 2292.47 1516.54 Q2295.55 1511.93 2301.36 1511.93 Z\" fill=\"#000000\" fill-rule=\"evenodd\" fill-opacity=\"1\" /><path clip-path=\"url(#clip860)\" d=\"M 0 0 M2331.52 1515.64 Q2327.91 1515.64 2326.08 1519.2 Q2324.28 1522.75 2324.28 1529.87 Q2324.28 1536.98 2326.08 1540.55 Q2327.91 1544.09 2331.52 1544.09 Q2335.15 1544.09 2336.96 1540.55 Q2338.79 1536.98 2338.79 1529.87 Q2338.79 1522.75 2336.96 1519.2 Q2335.15 1515.64 2331.52 1515.64 M2331.52 1511.93 Q2337.33 1511.93 2340.39 1516.54 Q2343.46 1521.12 2343.46 1529.87 Q2343.46 1538.6 2340.39 1543.21 Q2337.33 1547.79 2331.52 1547.79 Q2325.71 1547.79 2322.63 1543.21 Q2319.58 1538.6 2319.58 1529.87 Q2319.58 1521.12 2322.63 1516.54 Q2325.71 1511.93 2331.52 1511.93 Z\" fill=\"#000000\" fill-rule=\"evenodd\" fill-opacity=\"1\" /><polyline clip-path=\"url(#clip862)\" style=\"stroke:#000000; stroke-width:2; stroke-opacity:0.1; fill:none\" points=\"\n",
       "  186.76,1445.72 2352.76,1445.72 \n",
       "  \"/>\n",
       "<polyline clip-path=\"url(#clip862)\" style=\"stroke:#000000; stroke-width:2; stroke-opacity:0.1; fill:none\" points=\"\n",
       "  186.76,1204.9 2352.76,1204.9 \n",
       "  \"/>\n",
       "<polyline clip-path=\"url(#clip862)\" style=\"stroke:#000000; stroke-width:2; stroke-opacity:0.1; fill:none\" points=\"\n",
       "  186.76,964.093 2352.76,964.093 \n",
       "  \"/>\n",
       "<polyline clip-path=\"url(#clip862)\" style=\"stroke:#000000; stroke-width:2; stroke-opacity:0.1; fill:none\" points=\"\n",
       "  186.76,723.282 2352.76,723.282 \n",
       "  \"/>\n",
       "<polyline clip-path=\"url(#clip862)\" style=\"stroke:#000000; stroke-width:2; stroke-opacity:0.1; fill:none\" points=\"\n",
       "  186.76,482.47 2352.76,482.47 \n",
       "  \"/>\n",
       "<polyline clip-path=\"url(#clip862)\" style=\"stroke:#000000; stroke-width:2; stroke-opacity:0.1; fill:none\" points=\"\n",
       "  186.76,241.659 2352.76,241.659 \n",
       "  \"/>\n",
       "<polyline clip-path=\"url(#clip860)\" style=\"stroke:#000000; stroke-width:4; stroke-opacity:1; fill:none\" points=\"\n",
       "  186.76,1486.45 186.76,47.2441 \n",
       "  \"/>\n",
       "<polyline clip-path=\"url(#clip860)\" style=\"stroke:#000000; stroke-width:4; stroke-opacity:1; fill:none\" points=\"\n",
       "  186.76,1445.72 212.752,1445.72 \n",
       "  \"/>\n",
       "<polyline clip-path=\"url(#clip860)\" style=\"stroke:#000000; stroke-width:4; stroke-opacity:1; fill:none\" points=\"\n",
       "  186.76,1204.9 212.752,1204.9 \n",
       "  \"/>\n",
       "<polyline clip-path=\"url(#clip860)\" style=\"stroke:#000000; stroke-width:4; stroke-opacity:1; fill:none\" points=\"\n",
       "  186.76,964.093 212.752,964.093 \n",
       "  \"/>\n",
       "<polyline clip-path=\"url(#clip860)\" style=\"stroke:#000000; stroke-width:4; stroke-opacity:1; fill:none\" points=\"\n",
       "  186.76,723.282 212.752,723.282 \n",
       "  \"/>\n",
       "<polyline clip-path=\"url(#clip860)\" style=\"stroke:#000000; stroke-width:4; stroke-opacity:1; fill:none\" points=\"\n",
       "  186.76,482.47 212.752,482.47 \n",
       "  \"/>\n",
       "<polyline clip-path=\"url(#clip860)\" style=\"stroke:#000000; stroke-width:4; stroke-opacity:1; fill:none\" points=\"\n",
       "  186.76,241.659 212.752,241.659 \n",
       "  \"/>\n",
       "<path clip-path=\"url(#clip860)\" d=\"M 0 0 M63.4226 1431.51 Q59.8115 1431.51 57.9828 1435.08 Q56.1773 1438.62 56.1773 1445.75 Q56.1773 1452.86 57.9828 1456.42 Q59.8115 1459.96 63.4226 1459.96 Q67.0569 1459.96 68.8624 1456.42 Q70.6911 1452.86 70.6911 1445.75 Q70.6911 1438.62 68.8624 1435.08 Q67.0569 1431.51 63.4226 1431.51 M63.4226 1427.81 Q69.2328 1427.81 72.2883 1432.42 Q75.367 1437 75.367 1445.75 Q75.367 1454.48 72.2883 1459.08 Q69.2328 1463.67 63.4226 1463.67 Q57.6125 1463.67 54.5338 1459.08 Q51.4782 1454.48 51.4782 1445.75 Q51.4782 1437 54.5338 1432.42 Q57.6125 1427.81 63.4226 1427.81 Z\" fill=\"#000000\" fill-rule=\"evenodd\" fill-opacity=\"1\" /><path clip-path=\"url(#clip860)\" d=\"M 0 0 M83.5845 1457.12 L88.4688 1457.12 L88.4688 1463 L83.5845 1463 L83.5845 1457.12 Z\" fill=\"#000000\" fill-rule=\"evenodd\" fill-opacity=\"1\" /><path clip-path=\"url(#clip860)\" d=\"M 0 0 M108.654 1431.51 Q105.043 1431.51 103.214 1435.08 Q101.409 1438.62 101.409 1445.75 Q101.409 1452.86 103.214 1456.42 Q105.043 1459.96 108.654 1459.96 Q112.288 1459.96 114.094 1456.42 Q115.922 1452.86 115.922 1445.75 Q115.922 1438.62 114.094 1435.08 Q112.288 1431.51 108.654 1431.51 M108.654 1427.81 Q114.464 1427.81 117.52 1432.42 Q120.598 1437 120.598 1445.75 Q120.598 1454.48 117.52 1459.08 Q114.464 1463.67 108.654 1463.67 Q102.844 1463.67 99.765 1459.08 Q96.7095 1454.48 96.7095 1445.75 Q96.7095 1437 99.765 1432.42 Q102.844 1427.81 108.654 1427.81 Z\" fill=\"#000000\" fill-rule=\"evenodd\" fill-opacity=\"1\" /><path clip-path=\"url(#clip860)\" d=\"M 0 0 M138.816 1431.51 Q135.205 1431.51 133.376 1435.08 Q131.57 1438.62 131.57 1445.75 Q131.57 1452.86 133.376 1456.42 Q135.205 1459.96 138.816 1459.96 Q142.45 1459.96 144.256 1456.42 Q146.084 1452.86 146.084 1445.75 Q146.084 1438.62 144.256 1435.08 Q142.45 1431.51 138.816 1431.51 M138.816 1427.81 Q144.626 1427.81 147.681 1432.42 Q150.76 1437 150.76 1445.75 Q150.76 1454.48 147.681 1459.08 Q144.626 1463.67 138.816 1463.67 Q133.006 1463.67 129.927 1459.08 Q126.871 1454.48 126.871 1445.75 Q126.871 1437 129.927 1432.42 Q133.006 1427.81 138.816 1427.81 Z\" fill=\"#000000\" fill-rule=\"evenodd\" fill-opacity=\"1\" /><path clip-path=\"url(#clip860)\" d=\"M 0 0 M64.6495 1190.7 Q61.0384 1190.7 59.2097 1194.27 Q57.4041 1197.81 57.4041 1204.94 Q57.4041 1212.05 59.2097 1215.61 Q61.0384 1219.15 64.6495 1219.15 Q68.2837 1219.15 70.0892 1215.61 Q71.9179 1212.05 71.9179 1204.94 Q71.9179 1197.81 70.0892 1194.27 Q68.2837 1190.7 64.6495 1190.7 M64.6495 1187 Q70.4596 1187 73.5152 1191.61 Q76.5938 1196.19 76.5938 1204.94 Q76.5938 1213.67 73.5152 1218.27 Q70.4596 1222.86 64.6495 1222.86 Q58.8393 1222.86 55.7606 1218.27 Q52.7051 1213.67 52.7051 1204.94 Q52.7051 1196.19 55.7606 1191.61 Q58.8393 1187 64.6495 1187 Z\" fill=\"#000000\" fill-rule=\"evenodd\" fill-opacity=\"1\" /><path clip-path=\"url(#clip860)\" d=\"M 0 0 M84.8114 1216.3 L89.6956 1216.3 L89.6956 1222.18 L84.8114 1222.18 L84.8114 1216.3 Z\" fill=\"#000000\" fill-rule=\"evenodd\" fill-opacity=\"1\" /><path clip-path=\"url(#clip860)\" d=\"M 0 0 M109.881 1190.7 Q106.27 1190.7 104.441 1194.27 Q102.635 1197.81 102.635 1204.94 Q102.635 1212.05 104.441 1215.61 Q106.27 1219.15 109.881 1219.15 Q113.515 1219.15 115.32 1215.61 Q117.149 1212.05 117.149 1204.94 Q117.149 1197.81 115.32 1194.27 Q113.515 1190.7 109.881 1190.7 M109.881 1187 Q115.691 1187 118.746 1191.61 Q121.825 1196.19 121.825 1204.94 Q121.825 1213.67 118.746 1218.27 Q115.691 1222.86 109.881 1222.86 Q104.071 1222.86 100.992 1218.27 Q97.9363 1213.67 97.9363 1204.94 Q97.9363 1196.19 100.992 1191.61 Q104.071 1187 109.881 1187 Z\" fill=\"#000000\" fill-rule=\"evenodd\" fill-opacity=\"1\" /><path clip-path=\"url(#clip860)\" d=\"M 0 0 M130.853 1218.25 L138.492 1218.25 L138.492 1191.88 L130.182 1193.55 L130.182 1189.29 L138.445 1187.62 L143.121 1187.62 L143.121 1218.25 L150.76 1218.25 L150.76 1222.18 L130.853 1222.18 L130.853 1218.25 Z\" fill=\"#000000\" fill-rule=\"evenodd\" fill-opacity=\"1\" /><path clip-path=\"url(#clip860)\" d=\"M 0 0 M65.0198 949.892 Q61.4087 949.892 59.58 953.456 Q57.7745 956.998 57.7745 964.128 Q57.7745 971.234 59.58 974.799 Q61.4087 978.341 65.0198 978.341 Q68.6541 978.341 70.4596 974.799 Q72.2883 971.234 72.2883 964.128 Q72.2883 956.998 70.4596 953.456 Q68.6541 949.892 65.0198 949.892 M65.0198 946.188 Q70.83 946.188 73.8855 950.794 Q76.9642 955.378 76.9642 964.128 Q76.9642 972.854 73.8855 977.461 Q70.83 982.044 65.0198 982.044 Q59.2097 982.044 56.131 977.461 Q53.0754 972.854 53.0754 964.128 Q53.0754 955.378 56.131 950.794 Q59.2097 946.188 65.0198 946.188 Z\" fill=\"#000000\" fill-rule=\"evenodd\" fill-opacity=\"1\" /><path clip-path=\"url(#clip860)\" d=\"M 0 0 M85.1818 975.493 L90.066 975.493 L90.066 981.373 L85.1818 981.373 L85.1818 975.493 Z\" fill=\"#000000\" fill-rule=\"evenodd\" fill-opacity=\"1\" /><path clip-path=\"url(#clip860)\" d=\"M 0 0 M110.251 949.892 Q106.64 949.892 104.811 953.456 Q103.006 956.998 103.006 964.128 Q103.006 971.234 104.811 974.799 Q106.64 978.341 110.251 978.341 Q113.885 978.341 115.691 974.799 Q117.52 971.234 117.52 964.128 Q117.52 956.998 115.691 953.456 Q113.885 949.892 110.251 949.892 M110.251 946.188 Q116.061 946.188 119.117 950.794 Q122.195 955.378 122.195 964.128 Q122.195 972.854 119.117 977.461 Q116.061 982.044 110.251 982.044 Q104.441 982.044 101.362 977.461 Q98.3067 972.854 98.3067 964.128 Q98.3067 955.378 101.362 950.794 Q104.441 946.188 110.251 946.188 Z\" fill=\"#000000\" fill-rule=\"evenodd\" fill-opacity=\"1\" /><path clip-path=\"url(#clip860)\" d=\"M 0 0 M134.441 977.438 L150.76 977.438 L150.76 981.373 L128.816 981.373 L128.816 977.438 Q131.478 974.683 136.061 970.054 Q140.668 965.401 141.848 964.058 Q144.093 961.535 144.973 959.799 Q145.876 958.04 145.876 956.35 Q145.876 953.595 143.931 951.859 Q142.01 950.123 138.908 950.123 Q136.709 950.123 134.256 950.887 Q131.825 951.651 129.047 953.202 L129.047 948.48 Q131.871 947.345 134.325 946.767 Q136.779 946.188 138.816 946.188 Q144.186 946.188 147.38 948.873 Q150.575 951.558 150.575 956.049 Q150.575 958.179 149.765 960.1 Q148.978 961.998 146.871 964.591 Q146.293 965.262 143.191 968.479 Q140.089 971.674 134.441 977.438 Z\" fill=\"#000000\" fill-rule=\"evenodd\" fill-opacity=\"1\" /><path clip-path=\"url(#clip860)\" d=\"M 0 0 M64.0708 709.08 Q60.4597 709.08 58.631 712.645 Q56.8254 716.187 56.8254 723.316 Q56.8254 730.423 58.631 733.988 Q60.4597 737.529 64.0708 737.529 Q67.705 737.529 69.5105 733.988 Q71.3392 730.423 71.3392 723.316 Q71.3392 716.187 69.5105 712.645 Q67.705 709.08 64.0708 709.08 M64.0708 705.377 Q69.8809 705.377 72.9365 709.983 Q76.0151 714.566 76.0151 723.316 Q76.0151 732.043 72.9365 736.65 Q69.8809 741.233 64.0708 741.233 Q58.2606 741.233 55.1819 736.65 Q52.1264 732.043 52.1264 723.316 Q52.1264 714.566 55.1819 709.983 Q58.2606 705.377 64.0708 705.377 Z\" fill=\"#000000\" fill-rule=\"evenodd\" fill-opacity=\"1\" /><path clip-path=\"url(#clip860)\" d=\"M 0 0 M84.2327 734.682 L89.1169 734.682 L89.1169 740.562 L84.2327 740.562 L84.2327 734.682 Z\" fill=\"#000000\" fill-rule=\"evenodd\" fill-opacity=\"1\" /><path clip-path=\"url(#clip860)\" d=\"M 0 0 M109.302 709.08 Q105.691 709.08 103.862 712.645 Q102.057 716.187 102.057 723.316 Q102.057 730.423 103.862 733.988 Q105.691 737.529 109.302 737.529 Q112.936 737.529 114.742 733.988 Q116.57 730.423 116.57 723.316 Q116.57 716.187 114.742 712.645 Q112.936 709.08 109.302 709.08 M109.302 705.377 Q115.112 705.377 118.168 709.983 Q121.246 714.566 121.246 723.316 Q121.246 732.043 118.168 736.65 Q115.112 741.233 109.302 741.233 Q103.492 741.233 100.413 736.65 Q97.3576 732.043 97.3576 723.316 Q97.3576 714.566 100.413 709.983 Q103.492 705.377 109.302 705.377 Z\" fill=\"#000000\" fill-rule=\"evenodd\" fill-opacity=\"1\" /><path clip-path=\"url(#clip860)\" d=\"M 0 0 M143.631 721.927 Q146.987 722.645 148.862 724.913 Q150.76 727.182 150.76 730.515 Q150.76 735.631 147.242 738.432 Q143.723 741.233 137.242 741.233 Q135.066 741.233 132.751 740.793 Q130.459 740.376 128.006 739.52 L128.006 735.006 Q129.95 736.14 132.265 736.719 Q134.58 737.298 137.103 737.298 Q141.501 737.298 143.793 735.562 Q146.107 733.825 146.107 730.515 Q146.107 727.46 143.955 725.747 Q141.825 724.011 138.006 724.011 L133.978 724.011 L133.978 720.168 L138.191 720.168 Q141.64 720.168 143.468 718.802 Q145.297 717.414 145.297 714.821 Q145.297 712.159 143.399 710.747 Q141.524 709.312 138.006 709.312 Q136.084 709.312 133.885 709.728 Q131.686 710.145 129.047 711.025 L129.047 706.858 Q131.709 706.117 134.024 705.747 Q136.362 705.377 138.422 705.377 Q143.746 705.377 146.848 707.807 Q149.95 710.214 149.95 714.335 Q149.95 717.205 148.306 719.196 Q146.663 721.164 143.631 721.927 Z\" fill=\"#000000\" fill-rule=\"evenodd\" fill-opacity=\"1\" /><path clip-path=\"url(#clip860)\" d=\"M 0 0 M62.9365 468.269 Q59.3254 468.269 57.4967 471.834 Q55.6912 475.375 55.6912 482.505 Q55.6912 489.611 57.4967 493.176 Q59.3254 496.718 62.9365 496.718 Q66.5707 496.718 68.3763 493.176 Q70.205 489.611 70.205 482.505 Q70.205 475.375 68.3763 471.834 Q66.5707 468.269 62.9365 468.269 M62.9365 464.565 Q68.7467 464.565 71.8022 469.172 Q74.8809 473.755 74.8809 482.505 Q74.8809 491.232 71.8022 495.838 Q68.7467 500.421 62.9365 500.421 Q57.1264 500.421 54.0477 495.838 Q50.9921 491.232 50.9921 482.505 Q50.9921 473.755 54.0477 469.172 Q57.1264 464.565 62.9365 464.565 Z\" fill=\"#000000\" fill-rule=\"evenodd\" fill-opacity=\"1\" /><path clip-path=\"url(#clip860)\" d=\"M 0 0 M83.0984 493.871 L87.9827 493.871 L87.9827 499.75 L83.0984 499.75 L83.0984 493.871 Z\" fill=\"#000000\" fill-rule=\"evenodd\" fill-opacity=\"1\" /><path clip-path=\"url(#clip860)\" d=\"M 0 0 M108.168 468.269 Q104.557 468.269 102.728 471.834 Q100.922 475.375 100.922 482.505 Q100.922 489.611 102.728 493.176 Q104.557 496.718 108.168 496.718 Q111.802 496.718 113.608 493.176 Q115.436 489.611 115.436 482.505 Q115.436 475.375 113.608 471.834 Q111.802 468.269 108.168 468.269 M108.168 464.565 Q113.978 464.565 117.033 469.172 Q120.112 473.755 120.112 482.505 Q120.112 491.232 117.033 495.838 Q113.978 500.421 108.168 500.421 Q102.358 500.421 99.2789 495.838 Q96.2234 491.232 96.2234 482.505 Q96.2234 473.755 99.2789 469.172 Q102.358 464.565 108.168 464.565 Z\" fill=\"#000000\" fill-rule=\"evenodd\" fill-opacity=\"1\" /><path clip-path=\"url(#clip860)\" d=\"M 0 0 M141.177 469.264 L129.371 487.713 L141.177 487.713 L141.177 469.264 M139.95 465.19 L145.83 465.19 L145.83 487.713 L150.76 487.713 L150.76 491.602 L145.83 491.602 L145.83 499.75 L141.177 499.75 L141.177 491.602 L125.575 491.602 L125.575 487.088 L139.95 465.19 Z\" fill=\"#000000\" fill-rule=\"evenodd\" fill-opacity=\"1\" /><path clip-path=\"url(#clip860)\" d=\"M 0 0 M64.418 227.457 Q60.8069 227.457 58.9782 231.022 Q57.1726 234.564 57.1726 241.694 Q57.1726 248.8 58.9782 252.365 Q60.8069 255.906 64.418 255.906 Q68.0522 255.906 69.8578 252.365 Q71.6865 248.8 71.6865 241.694 Q71.6865 234.564 69.8578 231.022 Q68.0522 227.457 64.418 227.457 M64.418 223.754 Q70.2281 223.754 73.2837 228.36 Q76.3624 232.944 76.3624 241.694 Q76.3624 250.42 73.2837 255.027 Q70.2281 259.61 64.418 259.61 Q58.6078 259.61 55.5291 255.027 Q52.4736 250.42 52.4736 241.694 Q52.4736 232.944 55.5291 228.36 Q58.6078 223.754 64.418 223.754 Z\" fill=\"#000000\" fill-rule=\"evenodd\" fill-opacity=\"1\" /><path clip-path=\"url(#clip860)\" d=\"M 0 0 M84.5799 253.059 L89.4641 253.059 L89.4641 258.939 L84.5799 258.939 L84.5799 253.059 Z\" fill=\"#000000\" fill-rule=\"evenodd\" fill-opacity=\"1\" /><path clip-path=\"url(#clip860)\" d=\"M 0 0 M109.649 227.457 Q106.038 227.457 104.209 231.022 Q102.404 234.564 102.404 241.694 Q102.404 248.8 104.209 252.365 Q106.038 255.906 109.649 255.906 Q113.283 255.906 115.089 252.365 Q116.918 248.8 116.918 241.694 Q116.918 234.564 115.089 231.022 Q113.283 227.457 109.649 227.457 M109.649 223.754 Q115.459 223.754 118.515 228.36 Q121.594 232.944 121.594 241.694 Q121.594 250.42 118.515 255.027 Q115.459 259.61 109.649 259.61 Q103.839 259.61 100.76 255.027 Q97.7048 250.42 97.7048 241.694 Q97.7048 232.944 100.76 228.36 Q103.839 223.754 109.649 223.754 Z\" fill=\"#000000\" fill-rule=\"evenodd\" fill-opacity=\"1\" /><path clip-path=\"url(#clip860)\" d=\"M 0 0 M129.857 224.379 L148.214 224.379 L148.214 228.314 L134.14 228.314 L134.14 236.786 Q135.158 236.439 136.177 236.277 Q137.195 236.092 138.214 236.092 Q144.001 236.092 147.38 239.263 Q150.76 242.434 150.76 247.851 Q150.76 253.43 147.288 256.531 Q143.816 259.61 137.496 259.61 Q135.32 259.61 133.052 259.24 Q130.807 258.869 128.399 258.129 L128.399 253.43 Q130.482 254.564 132.705 255.119 Q134.927 255.675 137.404 255.675 Q141.408 255.675 143.746 253.568 Q146.084 251.462 146.084 247.851 Q146.084 244.24 143.746 242.133 Q141.408 240.027 137.404 240.027 Q135.529 240.027 133.654 240.444 Q131.802 240.86 129.857 241.74 L129.857 224.379 Z\" fill=\"#000000\" fill-rule=\"evenodd\" fill-opacity=\"1\" /><polyline clip-path=\"url(#clip862)\" style=\"stroke:#009af9; stroke-width:4; stroke-opacity:1; fill:none\" points=\"\n",
       "  248.062,1445.72 251.473,1445.72 254.885,1445.71 258.296,1445.7 261.707,1445.67 265.119,1445.61 268.53,1445.5 271.941,1445.32 275.353,1445.07 278.764,1444.72 \n",
       "  282.175,1444.25 285.587,1443.64 288.998,1442.89 292.409,1441.97 295.821,1440.86 299.232,1439.55 302.643,1438.04 306.055,1436.3 309.466,1434.34 312.877,1432.14 \n",
       "  316.289,1429.71 319.7,1427.03 323.111,1424.11 326.523,1420.95 329.934,1417.55 333.345,1413.93 336.757,1410.08 340.168,1406.03 343.579,1401.77 346.991,1397.34 \n",
       "  350.402,1392.73 353.813,1387.97 357.225,1383.08 360.636,1378.07 364.047,1372.97 367.459,1367.8 370.87,1362.59 374.281,1357.34 377.693,1352.09 381.104,1346.87 \n",
       "  384.515,1341.69 387.927,1336.58 391.338,1331.56 394.749,1326.66 398.161,1321.9 401.572,1317.3 404.983,1312.89 408.395,1308.68 411.806,1304.7 415.218,1300.96 \n",
       "  418.629,1297.48 422.04,1294.29 425.452,1291.38 428.863,1288.79 432.274,1286.51 435.686,1284.57 439.097,1282.96 442.508,1281.71 445.92,1280.81 449.331,1280.27 \n",
       "  452.742,1280.08 456.154,1280.27 459.565,1280.81 462.976,1281.71 466.388,1282.96 469.799,1284.57 473.21,1286.51 476.622,1288.79 480.033,1291.38 483.444,1294.29 \n",
       "  486.856,1297.48 490.267,1300.96 493.678,1304.7 497.09,1308.68 500.501,1312.89 503.912,1317.3 507.324,1321.9 510.735,1326.66 514.146,1331.56 517.558,1336.58 \n",
       "  520.969,1341.69 524.38,1346.87 527.792,1352.09 531.203,1357.34 534.614,1362.59 538.026,1367.8 541.437,1372.97 544.848,1378.07 548.26,1383.08 551.671,1387.97 \n",
       "  555.082,1392.73 558.494,1397.34 561.905,1401.77 565.316,1406.03 568.728,1410.08 572.139,1413.93 575.55,1417.55 578.962,1420.95 582.373,1424.11 585.784,1427.03 \n",
       "  589.196,1429.71 592.607,1432.14 596.018,1434.34 599.43,1436.3 602.841,1438.04 606.253,1439.55 609.664,1440.86 613.075,1441.97 616.487,1442.89 619.898,1443.64 \n",
       "  623.309,1444.25 626.721,1444.72 630.132,1445.07 633.543,1445.32 636.955,1445.5 640.366,1445.61 643.777,1445.67 647.189,1445.7 650.6,1445.71 654.011,1445.72 \n",
       "  657.423,1445.72 660.834,1445.72 664.245,1445.72 667.657,1445.72 671.068,1445.72 674.479,1445.72 677.891,1445.72 681.302,1445.72 684.713,1445.72 688.125,1445.72 \n",
       "  691.536,1445.72 694.947,1445.72 698.359,1445.72 701.77,1445.72 705.181,1445.72 708.593,1445.72 712.004,1445.72 715.415,1445.72 718.827,1445.72 722.238,1445.72 \n",
       "  725.649,1445.72 729.061,1445.72 732.472,1445.72 735.883,1445.72 739.295,1445.72 742.706,1445.72 746.117,1445.72 749.529,1445.72 752.94,1445.72 756.351,1445.72 \n",
       "  759.763,1445.72 763.174,1445.72 766.585,1445.72 769.997,1445.72 773.408,1445.72 776.819,1445.72 780.231,1445.72 783.642,1445.72 787.053,1445.72 790.465,1445.72 \n",
       "  793.876,1445.72 797.288,1445.72 800.699,1445.72 804.11,1445.72 807.522,1445.72 810.933,1445.72 814.344,1445.72 817.756,1445.72 821.167,1445.72 824.578,1445.72 \n",
       "  827.99,1445.72 831.401,1445.72 834.812,1445.72 838.224,1445.72 841.635,1445.72 845.046,1445.72 848.458,1445.72 851.869,1445.72 855.28,1445.72 858.692,1445.72 \n",
       "  862.103,1445.72 865.514,1445.72 868.926,1445.72 872.337,1445.72 875.748,1445.72 879.16,1445.72 882.571,1445.72 885.982,1445.72 889.394,1445.72 892.805,1445.72 \n",
       "  896.216,1445.72 899.628,1445.72 903.039,1445.72 906.45,1445.72 909.862,1445.72 913.273,1445.72 916.684,1445.72 920.096,1445.72 923.507,1445.72 926.918,1445.72 \n",
       "  930.33,1445.72 933.741,1445.72 937.152,1445.72 940.564,1445.72 943.975,1445.72 947.386,1445.72 950.798,1445.72 954.209,1445.72 957.62,1445.72 961.032,1445.72 \n",
       "  964.443,1445.72 967.854,1445.72 971.266,1445.72 974.677,1445.72 978.088,1445.72 981.5,1445.72 984.911,1445.72 988.323,1445.72 991.734,1445.72 995.145,1445.72 \n",
       "  998.557,1445.72 1001.97,1445.72 1005.38,1445.72 1008.79,1445.72 1012.2,1445.72 1015.61,1445.72 1019.02,1445.72 1022.44,1445.72 1025.85,1445.72 1029.26,1445.72 \n",
       "  1032.67,1445.72 1036.08,1445.72 1039.49,1445.72 1042.9,1445.72 1046.32,1445.72 1049.73,1445.72 1053.14,1445.72 1056.55,1445.72 1059.96,1445.72 1063.37,1445.72 \n",
       "  1066.78,1445.72 1070.19,1445.72 1073.61,1445.72 1077.02,1445.72 1080.43,1445.72 1083.84,1445.72 1087.25,1445.72 1090.66,1445.72 1094.07,1445.72 1097.49,1445.72 \n",
       "  1100.9,1445.72 1104.31,1445.72 1107.72,1445.72 1111.13,1445.72 1114.54,1445.72 1117.95,1445.72 1121.36,1445.72 1124.78,1445.72 1128.19,1445.72 1131.6,1445.72 \n",
       "  1135.01,1445.72 1138.42,1445.72 1141.83,1445.72 1145.24,1445.72 1148.66,1445.72 1152.07,1445.72 1155.48,1445.72 1158.89,1445.72 1162.3,1445.72 1165.71,1445.72 \n",
       "  1169.12,1445.72 1172.53,1445.72 1175.95,1445.72 1179.36,1445.72 1182.77,1445.72 1186.18,1445.72 1189.59,1445.72 1193,1445.72 1196.41,1445.72 1199.83,1445.72 \n",
       "  1203.24,1445.72 1206.65,1445.72 1210.06,1445.72 1213.47,1445.72 1216.88,1445.72 1220.29,1445.72 1223.7,1445.72 1227.12,1445.72 1230.53,1445.72 1233.94,1445.72 \n",
       "  1237.35,1445.72 1240.76,1445.72 1244.17,1445.72 1247.58,1445.72 1251,1445.72 1254.41,1445.72 1257.82,1445.72 1261.23,1445.72 1264.64,1445.72 1268.05,1445.72 \n",
       "  1271.46,1445.72 1274.88,1445.72 1278.29,1445.72 1281.7,1445.72 1285.11,1445.72 1288.52,1445.72 1291.93,1445.72 1295.34,1445.72 1298.75,1445.72 1302.17,1445.72 \n",
       "  1305.58,1445.72 1308.99,1445.72 1312.4,1445.72 1315.81,1445.72 1319.22,1445.72 1322.63,1445.72 1326.05,1445.72 1329.46,1445.72 1332.87,1445.72 1336.28,1445.72 \n",
       "  1339.69,1445.72 1343.1,1445.72 1346.51,1445.72 1349.92,1445.72 1353.34,1445.72 1356.75,1445.72 1360.16,1445.72 1363.57,1445.72 1366.98,1445.72 1370.39,1445.72 \n",
       "  1373.8,1445.72 1377.22,1445.72 1380.63,1445.72 1384.04,1445.72 1387.45,1445.72 1390.86,1445.72 1394.27,1445.72 1397.68,1445.72 1401.09,1445.72 1404.51,1445.72 \n",
       "  1407.92,1445.72 1411.33,1445.72 1414.74,1445.72 1418.15,1445.72 1421.56,1445.72 1424.97,1445.72 1428.39,1445.72 1431.8,1445.72 1435.21,1445.72 1438.62,1445.72 \n",
       "  1442.03,1445.72 1445.44,1445.72 1448.85,1445.72 1452.26,1445.72 1455.68,1445.72 1459.09,1445.72 1462.5,1445.72 1465.91,1445.72 1469.32,1445.72 1472.73,1445.72 \n",
       "  1476.14,1445.72 1479.56,1445.72 1482.97,1445.72 1486.38,1445.72 1489.79,1445.72 1493.2,1445.72 1496.61,1445.72 1500.02,1445.72 1503.43,1445.72 1506.85,1445.72 \n",
       "  1510.26,1445.72 1513.67,1445.72 1517.08,1445.72 1520.49,1445.72 1523.9,1445.72 1527.31,1445.72 1530.73,1445.72 1534.14,1445.72 1537.55,1445.72 1540.96,1445.72 \n",
       "  1544.37,1445.72 1547.78,1445.72 1551.19,1445.72 1554.6,1445.72 1558.02,1445.72 1561.43,1445.72 1564.84,1445.72 1568.25,1445.72 1571.66,1445.72 1575.07,1445.72 \n",
       "  1578.48,1445.72 1581.9,1445.72 1585.31,1445.72 1588.72,1445.72 1592.13,1445.72 1595.54,1445.72 1598.95,1445.72 1602.36,1445.72 1605.77,1445.72 1609.19,1445.72 \n",
       "  1612.6,1445.72 1616.01,1445.72 1619.42,1445.72 1622.83,1445.72 1626.24,1445.72 1629.65,1445.72 1633.07,1445.72 1636.48,1445.72 1639.89,1445.72 1643.3,1445.72 \n",
       "  1646.71,1445.72 1650.12,1445.72 1653.53,1445.72 1656.95,1445.72 1660.36,1445.72 1663.77,1445.72 1667.18,1445.72 1670.59,1445.72 1674,1445.72 1677.41,1445.72 \n",
       "  1680.82,1445.72 1684.24,1445.72 1687.65,1445.72 1691.06,1445.72 1694.47,1445.72 1697.88,1445.72 1701.29,1445.72 1704.7,1445.72 1708.12,1445.72 1711.53,1445.72 \n",
       "  1714.94,1445.72 1718.35,1445.72 1721.76,1445.72 1725.17,1445.72 1728.58,1445.72 1731.99,1445.72 1735.41,1445.72 1738.82,1445.72 1742.23,1445.72 1745.64,1445.72 \n",
       "  1749.05,1445.72 1752.46,1445.72 1755.87,1445.72 1759.29,1445.72 1762.7,1445.72 1766.11,1445.72 1769.52,1445.72 1772.93,1445.72 1776.34,1445.72 1779.75,1445.72 \n",
       "  1783.16,1445.72 1786.58,1445.72 1789.99,1445.72 1793.4,1445.72 1796.81,1445.72 1800.22,1445.72 1803.63,1445.72 1807.04,1445.72 1810.46,1445.72 1813.87,1445.72 \n",
       "  1817.28,1445.72 1820.69,1445.72 1824.1,1445.72 1827.51,1445.72 1830.92,1445.72 1834.33,1445.72 1837.75,1445.72 1841.16,1445.72 1844.57,1445.72 1847.98,1445.72 \n",
       "  1851.39,1445.72 1854.8,1445.72 1858.21,1445.72 1861.63,1445.72 1865.04,1445.72 1868.45,1445.72 1871.86,1445.72 1875.27,1445.72 1878.68,1445.72 1882.09,1445.72 \n",
       "  1885.5,1445.72 1888.92,1445.72 1892.33,1445.72 1895.74,1445.72 1899.15,1445.72 1902.56,1445.72 1905.97,1445.72 1909.38,1445.72 1912.8,1445.72 1916.21,1445.72 \n",
       "  1919.62,1445.72 1923.03,1445.72 1926.44,1445.72 1929.85,1445.72 1933.26,1445.72 1936.67,1445.72 1940.09,1445.72 1943.5,1445.72 1946.91,1445.72 1950.32,1445.72 \n",
       "  1953.73,1445.72 1957.14,1445.72 1960.55,1445.72 1963.97,1445.72 1967.38,1445.72 1970.79,1445.72 1974.2,1445.72 1977.61,1445.72 1981.02,1445.72 1984.43,1445.72 \n",
       "  1987.84,1445.72 1991.26,1445.72 1994.67,1445.72 1998.08,1445.72 2001.49,1445.72 2004.9,1445.72 2008.31,1445.72 2011.72,1445.72 2015.14,1445.72 2018.55,1445.72 \n",
       "  2021.96,1445.72 2025.37,1445.72 2028.78,1445.72 2032.19,1445.72 2035.6,1445.72 2039.02,1445.72 2042.43,1445.72 2045.84,1445.72 2049.25,1445.72 2052.66,1445.72 \n",
       "  2056.07,1445.72 2059.48,1445.72 2062.89,1445.72 2066.31,1445.72 2069.72,1445.72 2073.13,1445.72 2076.54,1445.72 2079.95,1445.72 2083.36,1445.72 2086.77,1445.72 \n",
       "  2090.19,1445.72 2093.6,1445.72 2097.01,1445.72 2100.42,1445.72 2103.83,1445.72 2107.24,1445.72 2110.65,1445.72 2114.06,1445.72 2117.48,1445.72 2120.89,1445.72 \n",
       "  2124.3,1445.72 2127.71,1445.72 2131.12,1445.72 2134.53,1445.72 2137.94,1445.72 2141.36,1445.72 2144.77,1445.72 2148.18,1445.72 2151.59,1445.72 2155,1445.72 \n",
       "  2158.41,1445.72 2161.82,1445.72 2165.23,1445.72 2168.65,1445.72 2172.06,1445.72 2175.47,1445.72 2178.88,1445.72 2182.29,1445.72 2185.7,1445.72 2189.11,1445.72 \n",
       "  2192.53,1445.72 2195.94,1445.72 2199.35,1445.72 2202.76,1445.72 2206.17,1445.72 2209.58,1445.72 2212.99,1445.72 2216.4,1445.72 2219.82,1445.72 2223.23,1445.72 \n",
       "  2226.64,1445.72 2230.05,1445.72 2233.46,1445.72 2236.87,1445.72 2240.28,1445.72 2243.7,1445.72 2247.11,1445.72 2250.52,1445.72 2253.93,1445.72 2257.34,1445.72 \n",
       "  2260.75,1445.72 2264.16,1445.72 2267.57,1445.72 2270.99,1445.72 2274.4,1445.72 2277.81,1445.72 2281.22,1445.72 2284.63,1445.72 2288.04,1445.72 2291.45,1445.72 \n",
       "  \n",
       "  \"/>\n",
       "<polyline clip-path=\"url(#clip862)\" style=\"stroke:#e26f46; stroke-width:4; stroke-opacity:1; fill:none\" points=\"\n",
       "  248.062,1445.72 251.473,1445.71 254.885,1445.69 258.296,1445.59 261.707,1445.34 265.119,1444.83 268.53,1443.95 271.941,1442.55 275.353,1440.51 278.764,1437.66 \n",
       "  282.175,1433.88 285.587,1429.01 288.998,1422.91 292.409,1415.45 295.821,1406.51 299.232,1395.97 302.643,1383.74 306.055,1369.73 309.466,1353.86 312.877,1336.09 \n",
       "  316.289,1316.38 319.7,1294.7 323.111,1271.05 326.523,1245.45 329.934,1217.92 333.345,1188.52 336.757,1157.31 340.168,1124.35 343.579,1089.76 346.991,1053.65 \n",
       "  350.402,1016.12 353.813,977.32 357.225,937.396 360.636,896.505 364.047,854.813 367.459,812.496 370.87,769.736 374.281,726.721 377.693,683.643 381.104,640.699 \n",
       "  384.515,598.086 387.927,556.002 391.338,514.646 394.749,474.215 398.161,434.901 401.572,396.894 404.983,360.379 408.395,325.532 411.806,292.524 415.218,261.518 \n",
       "  418.629,232.666 422.04,206.11 425.452,181.982 428.863,160.402 432.274,141.477 435.686,125.3 439.097,111.953 442.508,101.503 445.92,94.0006 449.331,89.4842 \n",
       "  452.742,87.9763 456.154,89.4842 459.565,94.0006 462.976,101.503 466.388,111.953 469.799,125.3 473.21,141.477 476.622,160.402 480.033,181.982 483.444,206.11 \n",
       "  486.856,232.666 490.267,261.518 493.678,292.524 497.09,325.532 500.501,360.379 503.912,396.894 507.324,434.901 510.735,474.215 514.146,514.646 517.558,556.002 \n",
       "  520.969,598.086 524.38,640.699 527.792,683.643 531.203,726.721 534.614,769.736 538.026,812.496 541.437,854.813 544.848,896.505 548.26,937.396 551.671,977.32 \n",
       "  555.082,1016.12 558.494,1053.65 561.905,1089.76 565.316,1124.35 568.728,1157.31 572.139,1188.52 575.55,1217.92 578.962,1245.45 582.373,1271.05 585.784,1294.7 \n",
       "  589.196,1316.38 592.607,1336.09 596.018,1353.86 599.43,1369.73 602.841,1383.74 606.253,1395.97 609.664,1406.51 613.075,1415.45 616.487,1422.91 619.898,1429.01 \n",
       "  623.309,1433.88 626.721,1437.66 630.132,1440.51 633.543,1442.55 636.955,1443.95 640.366,1444.83 643.777,1445.34 647.189,1445.59 650.6,1445.69 654.011,1445.71 \n",
       "  657.423,1445.72 660.834,1445.72 664.245,1445.72 667.657,1445.72 671.068,1445.72 674.479,1445.72 677.891,1445.72 681.302,1445.72 684.713,1445.72 688.125,1445.72 \n",
       "  691.536,1445.72 694.947,1445.72 698.359,1445.72 701.77,1445.72 705.181,1445.72 708.593,1445.72 712.004,1445.72 715.415,1445.72 718.827,1445.72 722.238,1445.72 \n",
       "  725.649,1445.72 729.061,1445.72 732.472,1445.72 735.883,1445.72 739.295,1445.72 742.706,1445.72 746.117,1445.72 749.529,1445.72 752.94,1445.72 756.351,1445.72 \n",
       "  759.763,1445.72 763.174,1445.72 766.585,1445.72 769.997,1445.72 773.408,1445.72 776.819,1445.72 780.231,1445.72 783.642,1445.72 787.053,1445.72 790.465,1445.72 \n",
       "  793.876,1445.72 797.288,1445.72 800.699,1445.72 804.11,1445.72 807.522,1445.72 810.933,1445.72 814.344,1445.72 817.756,1445.72 821.167,1445.72 824.578,1445.72 \n",
       "  827.99,1445.72 831.401,1445.72 834.812,1445.72 838.224,1445.72 841.635,1445.72 845.046,1445.72 848.458,1445.72 851.869,1445.72 855.28,1445.72 858.692,1445.72 \n",
       "  862.103,1445.72 865.514,1445.72 868.926,1445.72 872.337,1445.72 875.748,1445.72 879.16,1445.72 882.571,1445.72 885.982,1445.72 889.394,1445.72 892.805,1445.72 \n",
       "  896.216,1445.72 899.628,1445.72 903.039,1445.72 906.45,1445.72 909.862,1445.72 913.273,1445.72 916.684,1445.72 920.096,1445.72 923.507,1445.72 926.918,1445.72 \n",
       "  930.33,1445.72 933.741,1445.72 937.152,1445.72 940.564,1445.72 943.975,1445.72 947.386,1445.72 950.798,1445.72 954.209,1445.72 957.62,1445.72 961.032,1445.72 \n",
       "  964.443,1445.72 967.854,1445.72 971.266,1445.72 974.677,1445.72 978.088,1445.72 981.5,1445.72 984.911,1445.72 988.323,1445.72 991.734,1445.72 995.145,1445.72 \n",
       "  998.557,1445.72 1001.97,1445.72 1005.38,1445.72 1008.79,1445.72 1012.2,1445.72 1015.61,1445.72 1019.02,1445.72 1022.44,1445.72 1025.85,1445.72 1029.26,1445.72 \n",
       "  1032.67,1445.72 1036.08,1445.72 1039.49,1445.72 1042.9,1445.72 1046.32,1445.72 1049.73,1445.72 1053.14,1445.72 1056.55,1445.72 1059.96,1445.72 1063.37,1445.72 \n",
       "  1066.78,1445.72 1070.19,1445.72 1073.61,1445.72 1077.02,1445.72 1080.43,1445.72 1083.84,1445.72 1087.25,1445.72 1090.66,1445.72 1094.07,1445.72 1097.49,1445.72 \n",
       "  1100.9,1445.72 1104.31,1445.72 1107.72,1445.72 1111.13,1445.72 1114.54,1445.72 1117.95,1445.72 1121.36,1445.72 1124.78,1445.72 1128.19,1445.72 1131.6,1445.72 \n",
       "  1135.01,1445.72 1138.42,1445.72 1141.83,1445.72 1145.24,1445.72 1148.66,1445.72 1152.07,1445.72 1155.48,1445.72 1158.89,1445.72 1162.3,1445.72 1165.71,1445.72 \n",
       "  1169.12,1445.72 1172.53,1445.72 1175.95,1445.72 1179.36,1445.72 1182.77,1445.72 1186.18,1445.72 1189.59,1445.72 1193,1445.72 1196.41,1445.72 1199.83,1445.72 \n",
       "  1203.24,1445.72 1206.65,1445.72 1210.06,1445.72 1213.47,1445.72 1216.88,1445.72 1220.29,1445.72 1223.7,1445.72 1227.12,1445.72 1230.53,1445.72 1233.94,1445.72 \n",
       "  1237.35,1445.72 1240.76,1445.72 1244.17,1445.72 1247.58,1445.72 1251,1445.72 1254.41,1445.72 1257.82,1445.72 1261.23,1445.72 1264.64,1445.72 1268.05,1445.72 \n",
       "  1271.46,1445.72 1274.88,1445.72 1278.29,1445.72 1281.7,1445.72 1285.11,1445.72 1288.52,1445.72 1291.93,1445.72 1295.34,1445.72 1298.75,1445.72 1302.17,1445.72 \n",
       "  1305.58,1445.72 1308.99,1445.72 1312.4,1445.72 1315.81,1445.72 1319.22,1445.72 1322.63,1445.72 1326.05,1445.72 1329.46,1445.72 1332.87,1445.72 1336.28,1445.72 \n",
       "  1339.69,1445.72 1343.1,1445.72 1346.51,1445.72 1349.92,1445.72 1353.34,1445.72 1356.75,1445.72 1360.16,1445.72 1363.57,1445.72 1366.98,1445.72 1370.39,1445.72 \n",
       "  1373.8,1445.72 1377.22,1445.72 1380.63,1445.72 1384.04,1445.72 1387.45,1445.72 1390.86,1445.72 1394.27,1445.72 1397.68,1445.72 1401.09,1445.72 1404.51,1445.72 \n",
       "  1407.92,1445.72 1411.33,1445.72 1414.74,1445.72 1418.15,1445.72 1421.56,1445.72 1424.97,1445.72 1428.39,1445.72 1431.8,1445.72 1435.21,1445.72 1438.62,1445.72 \n",
       "  1442.03,1445.72 1445.44,1445.72 1448.85,1445.72 1452.26,1445.72 1455.68,1445.72 1459.09,1445.72 1462.5,1445.72 1465.91,1445.72 1469.32,1445.72 1472.73,1445.72 \n",
       "  1476.14,1445.72 1479.56,1445.72 1482.97,1445.72 1486.38,1445.72 1489.79,1445.72 1493.2,1445.72 1496.61,1445.72 1500.02,1445.72 1503.43,1445.72 1506.85,1445.72 \n",
       "  1510.26,1445.72 1513.67,1445.72 1517.08,1445.72 1520.49,1445.72 1523.9,1445.72 1527.31,1445.72 1530.73,1445.72 1534.14,1445.72 1537.55,1445.72 1540.96,1445.72 \n",
       "  1544.37,1445.72 1547.78,1445.72 1551.19,1445.72 1554.6,1445.72 1558.02,1445.72 1561.43,1445.72 1564.84,1445.72 1568.25,1445.72 1571.66,1445.72 1575.07,1445.72 \n",
       "  1578.48,1445.72 1581.9,1445.72 1585.31,1445.72 1588.72,1445.72 1592.13,1445.72 1595.54,1445.72 1598.95,1445.72 1602.36,1445.72 1605.77,1445.72 1609.19,1445.72 \n",
       "  1612.6,1445.72 1616.01,1445.72 1619.42,1445.72 1622.83,1445.72 1626.24,1445.72 1629.65,1445.72 1633.07,1445.72 1636.48,1445.72 1639.89,1445.72 1643.3,1445.72 \n",
       "  1646.71,1445.72 1650.12,1445.72 1653.53,1445.72 1656.95,1445.72 1660.36,1445.72 1663.77,1445.72 1667.18,1445.72 1670.59,1445.72 1674,1445.72 1677.41,1445.72 \n",
       "  1680.82,1445.72 1684.24,1445.72 1687.65,1445.72 1691.06,1445.72 1694.47,1445.72 1697.88,1445.72 1701.29,1445.72 1704.7,1445.72 1708.12,1445.72 1711.53,1445.72 \n",
       "  1714.94,1445.72 1718.35,1445.72 1721.76,1445.72 1725.17,1445.72 1728.58,1445.72 1731.99,1445.72 1735.41,1445.72 1738.82,1445.72 1742.23,1445.72 1745.64,1445.72 \n",
       "  1749.05,1445.72 1752.46,1445.72 1755.87,1445.72 1759.29,1445.72 1762.7,1445.72 1766.11,1445.72 1769.52,1445.72 1772.93,1445.72 1776.34,1445.72 1779.75,1445.72 \n",
       "  1783.16,1445.72 1786.58,1445.72 1789.99,1445.72 1793.4,1445.72 1796.81,1445.72 1800.22,1445.72 1803.63,1445.72 1807.04,1445.72 1810.46,1445.72 1813.87,1445.72 \n",
       "  1817.28,1445.72 1820.69,1445.72 1824.1,1445.72 1827.51,1445.72 1830.92,1445.72 1834.33,1445.72 1837.75,1445.72 1841.16,1445.72 1844.57,1445.72 1847.98,1445.72 \n",
       "  1851.39,1445.72 1854.8,1445.72 1858.21,1445.72 1861.63,1445.72 1865.04,1445.72 1868.45,1445.72 1871.86,1445.72 1875.27,1445.72 1878.68,1445.72 1882.09,1445.72 \n",
       "  1885.5,1445.72 1888.92,1445.72 1892.33,1445.72 1895.74,1445.72 1899.15,1445.72 1902.56,1445.72 1905.97,1445.72 1909.38,1445.72 1912.8,1445.72 1916.21,1445.72 \n",
       "  1919.62,1445.72 1923.03,1445.72 1926.44,1445.72 1929.85,1445.72 1933.26,1445.72 1936.67,1445.72 1940.09,1445.72 1943.5,1445.72 1946.91,1445.72 1950.32,1445.72 \n",
       "  1953.73,1445.72 1957.14,1445.72 1960.55,1445.72 1963.97,1445.72 1967.38,1445.72 1970.79,1445.72 1974.2,1445.72 1977.61,1445.72 1981.02,1445.72 1984.43,1445.72 \n",
       "  1987.84,1445.72 1991.26,1445.72 1994.67,1445.72 1998.08,1445.72 2001.49,1445.72 2004.9,1445.72 2008.31,1445.72 2011.72,1445.72 2015.14,1445.72 2018.55,1445.72 \n",
       "  2021.96,1445.72 2025.37,1445.72 2028.78,1445.72 2032.19,1445.72 2035.6,1445.72 2039.02,1445.72 2042.43,1445.72 2045.84,1445.72 2049.25,1445.72 2052.66,1445.72 \n",
       "  2056.07,1445.72 2059.48,1445.72 2062.89,1445.72 2066.31,1445.72 2069.72,1445.72 2073.13,1445.72 2076.54,1445.72 2079.95,1445.72 2083.36,1445.72 2086.77,1445.72 \n",
       "  2090.19,1445.72 2093.6,1445.72 2097.01,1445.72 2100.42,1445.72 2103.83,1445.72 2107.24,1445.72 2110.65,1445.72 2114.06,1445.72 2117.48,1445.72 2120.89,1445.72 \n",
       "  2124.3,1445.72 2127.71,1445.72 2131.12,1445.72 2134.53,1445.72 2137.94,1445.72 2141.36,1445.72 2144.77,1445.72 2148.18,1445.72 2151.59,1445.72 2155,1445.72 \n",
       "  2158.41,1445.72 2161.82,1445.72 2165.23,1445.72 2168.65,1445.72 2172.06,1445.72 2175.47,1445.72 2178.88,1445.72 2182.29,1445.72 2185.7,1445.72 2189.11,1445.72 \n",
       "  2192.53,1445.72 2195.94,1445.72 2199.35,1445.72 2202.76,1445.72 2206.17,1445.72 2209.58,1445.72 2212.99,1445.72 2216.4,1445.72 2219.82,1445.72 2223.23,1445.72 \n",
       "  2226.64,1445.72 2230.05,1445.72 2233.46,1445.72 2236.87,1445.72 2240.28,1445.72 2243.7,1445.72 2247.11,1445.72 2250.52,1445.72 2253.93,1445.72 2257.34,1445.72 \n",
       "  2260.75,1445.72 2264.16,1445.72 2267.57,1445.72 2270.99,1445.72 2274.4,1445.72 2277.81,1445.72 2281.22,1445.72 2284.63,1445.72 2288.04,1445.72 2291.45,1445.72 \n",
       "  \n",
       "  \"/>\n",
       "<path clip-path=\"url(#clip860)\" d=\"\n",
       "M1987.46 276.658 L2280.56 276.658 L2280.56 95.2176 L1987.46 95.2176  Z\n",
       "  \" fill=\"#ffffff\" fill-rule=\"evenodd\" fill-opacity=\"1\"/>\n",
       "<polyline clip-path=\"url(#clip860)\" style=\"stroke:#000000; stroke-width:4; stroke-opacity:1; fill:none\" points=\"\n",
       "  1987.46,276.658 2280.56,276.658 2280.56,95.2176 1987.46,95.2176 1987.46,276.658 \n",
       "  \"/>\n",
       "<polyline clip-path=\"url(#clip860)\" style=\"stroke:#009af9; stroke-width:4; stroke-opacity:1; fill:none\" points=\"\n",
       "  2011.53,155.698 2155.93,155.698 \n",
       "  \"/>\n",
       "<path clip-path=\"url(#clip860)\" d=\"M 0 0 M2193.84 175.385 Q2192.03 180.015 2190.32 181.427 Q2188.6 182.839 2185.73 182.839 L2182.33 182.839 L2182.33 179.274 L2184.83 179.274 Q2186.59 179.274 2187.56 178.44 Q2188.53 177.607 2189.71 174.505 L2190.48 172.561 L2179.99 147.052 L2184.51 147.052 L2192.61 167.329 L2200.71 147.052 L2205.22 147.052 L2193.84 175.385 Z\" fill=\"#000000\" fill-rule=\"evenodd\" fill-opacity=\"1\" /><path clip-path=\"url(#clip860)\" d=\"M 0 0 M2212.52 169.042 L2220.15 169.042 L2220.15 142.677 L2211.84 144.343 L2211.84 140.084 L2220.11 138.418 L2224.78 138.418 L2224.78 169.042 L2232.42 169.042 L2232.42 172.978 L2212.52 172.978 L2212.52 169.042 Z\" fill=\"#000000\" fill-rule=\"evenodd\" fill-opacity=\"1\" /><polyline clip-path=\"url(#clip860)\" style=\"stroke:#e26f46; stroke-width:4; stroke-opacity:1; fill:none\" points=\"\n",
       "  2011.53,216.178 2155.93,216.178 \n",
       "  \"/>\n",
       "<path clip-path=\"url(#clip860)\" d=\"M 0 0 M2193.84 235.865 Q2192.03 240.495 2190.32 241.907 Q2188.6 243.319 2185.73 243.319 L2182.33 243.319 L2182.33 239.754 L2184.83 239.754 Q2186.59 239.754 2187.56 238.92 Q2188.53 238.087 2189.71 234.985 L2190.48 233.041 L2179.99 207.532 L2184.51 207.532 L2192.61 227.809 L2200.71 207.532 L2205.22 207.532 L2193.84 235.865 Z\" fill=\"#000000\" fill-rule=\"evenodd\" fill-opacity=\"1\" /><path clip-path=\"url(#clip860)\" d=\"M 0 0 M2215.73 229.522 L2232.05 229.522 L2232.05 233.458 L2210.11 233.458 L2210.11 229.522 Q2212.77 226.768 2217.35 222.138 Q2221.96 217.485 2223.14 216.143 Q2225.39 213.62 2226.27 211.884 Q2227.17 210.124 2227.17 208.435 Q2227.17 205.68 2225.22 203.944 Q2223.3 202.208 2220.2 202.208 Q2218 202.208 2215.55 202.972 Q2213.12 203.735 2210.34 205.286 L2210.34 200.564 Q2213.16 199.43 2215.62 198.851 Q2218.07 198.273 2220.11 198.273 Q2225.48 198.273 2228.67 200.958 Q2231.87 203.643 2231.87 208.134 Q2231.87 210.263 2231.06 212.185 Q2230.27 214.083 2228.16 216.675 Q2227.58 217.347 2224.48 220.564 Q2221.38 223.759 2215.73 229.522 Z\" fill=\"#000000\" fill-rule=\"evenodd\" fill-opacity=\"1\" /></svg>\n"
      ]
     },
     "execution_count": 252,
     "metadata": {},
     "output_type": "execute_result"
    }
   ],
   "source": [
    "plot(x,flu_0[:,2])\n",
    "plot!(x,con_0[:,2])"
   ]
  },
  {
   "cell_type": "code",
   "execution_count": 253,
   "metadata": {
    "jupyter": {
     "source_hidden": true
    },
    "tags": []
   },
   "outputs": [
    {
     "data": {
      "text/plain": [
       "evolution (generic function with 1 method)"
      ]
     },
     "execution_count": 253,
     "metadata": {},
     "output_type": "execute_result"
    }
   ],
   "source": [
    "function evolution(du,u,par,t)\n",
    "    # this is the function that is taken by the time-integrator\n",
    "    par_eq, par_inv, h_1, U, M, Flux, Speed_max, Source, c_to_f = par\n",
    "    χ, ξ = par_eq\n",
    "    \n",
    "    #p_direct = (χ, U, M) #these are the parameters for direct\n",
    "    #c_to_f_direct!(u,p_direct)\n",
    "    c_to_f!(u,par_inv)\n",
    "    \n",
    "    par_mp5 = (h_1, U, M, χ, par_eq, Flux, Speed_max, Source)\n",
    "    for j ∈ 1:M\n",
    "        mp5(du,u,par_mp5,j,t)\n",
    "    end\n",
    "    return du[:]\n",
    "end"
   ]
  },
  {
   "cell_type": "code",
   "execution_count": 254,
   "metadata": {},
   "outputs": [
    {
     "data": {
      "text/plain": [
       "evolution_fast (generic function with 1 method)"
      ]
     },
     "execution_count": 254,
     "metadata": {},
     "output_type": "execute_result"
    }
   ],
   "source": [
    "function evolution_fast(du,u,par,t)\n",
    "    # this is the function that is taken by the time-integrator\n",
    "    par_eq, par_inv, h, U, M, Flux, Speed_max, Source, c_to_f, par_mem = par\n",
    "    \n",
    "    χ, ξ = par_eq\n",
    "    \n",
    "    #p_direct = (χ, U, M) #these are the parameters for direct\n",
    "    #c_to_f_direct!(u,p_direct)\n",
    "    c_to_f!(u,par_inv)\n",
    "    \n",
    "    par_mp5 = (h, U, M, χ, par_eq, Flux, Speed_max, Source, par_mem)\n",
    "    \n",
    "    mp5!(du,u,par_mp5,t)\n",
    "    return du[:]\n",
    "end"
   ]
  },
  {
   "cell_type": "markdown",
   "metadata": {},
   "source": [
    "Me make a smaller `dt` evolution for a while in case that the field has to adjust to the sources in a very fast exponential way."
   ]
  },
  {
   "cell_type": "code",
   "execution_count": 255,
   "metadata": {
    "jupyter": {
     "source_hidden": true
    },
    "tags": []
   },
   "outputs": [],
   "source": [
    "if !Euler && big_pulse_to_the_right\n",
    "    u_r = zeros(U*M) # Initialization for the second, longer dt step.\n",
    "    prob_i = ODEProblem(evolution,u_i,(0.0,0.1*t),par); # solves without changing e and s\n",
    "\n",
    "    \n",
    "    #sol = solve(prob_euler_direct,SSPRK33(),dt=dt,saveat=0.01*t); # This, I think, is a TVD method\n",
    "    sol_i = solve(prob_i,SSPRK33(),dt=0.1*dt,saveat=0.01*t); \n",
    "    u_r = sol_i(0.1*t)\n",
    "\n",
    "    field = 1\n",
    "    #plot(x,reshape(sol(0.),(M,U))[:,field])\n",
    "    #plot!(x,reshape(sol(t/8),(M,U))[:,field])\n",
    "    #plot!(x,reshape(sol(t/4),(M,U))[:,field])\n",
    "    #plot!(x,reshape(sol(t/2),(M,U))[:,field])\n",
    "    plot(x,reshape(sol_i(t/1),(M,U))[:,field])\n",
    "\n",
    "    prob = ODEProblem(evolution,u_r,(0.1*t,0.5*t),par);\n",
    "    sol = solve(prob,SSPRK33(),dt=dt,saveat=0.01*t);\n",
    "\n",
    "    @bell sleep(3)\n",
    "\n",
    "\n",
    "    sol_i;\n",
    "\n",
    "    field = 4\n",
    "    plot(x,reshape(sol_i(0.1*t),(M,U))[:,field])\n",
    "    u_r = sol_i(0.1*t)\n",
    "    plot!(x,reshape(u_r,(M,U))[:,field])\n",
    "end"
   ]
  },
  {
   "cell_type": "code",
   "execution_count": null,
   "metadata": {
    "tags": []
   },
   "outputs": [],
   "source": [
    "prob = ODEProblem(evolution_fast,u_i,(0.0,t),par);\n",
    "sol = solve(prob,SSPRK33(),dt=dt,saveat=0.01*t);\n",
    "    #sol = solve(prob,SSPRK33(),saveat=0.01*t);\n",
    "#sol = solve(prob,SSPRK33(),dt=dt,save_everystep=false) # to get just the end values\n",
    "#sol = solve(prob,RK4(),dt=dt);\n",
    "@bell sleep(3)"
   ]
  },
  {
   "cell_type": "code",
   "execution_count": null,
   "metadata": {
    "tags": []
   },
   "outputs": [],
   "source": [
    "save(\"Resultados/Soluciones/$out_name*_fast.jld2\", Dict(\"$out_name*_fast\" => sol))\n",
    "#sol = load(\"Resultados/Soluciones/$name.jld2\",\"$name\");"
   ]
  },
  {
   "cell_type": "code",
   "execution_count": null,
   "metadata": {},
   "outputs": [],
   "source": [
    "par;\n",
    "χ"
   ]
  },
  {
   "cell_type": "code",
   "execution_count": null,
   "metadata": {},
   "outputs": [],
   "source": [
    "#sol(t) = sol_nr_p5(t) - sol_nr_n0(t)\n",
    "#sol(t) = sol_n0_0(t)\n",
    "field = 5\n",
    "plot(x,reshape(sol(0.),(M,U))[:,field])\n",
    "#plot!(x,reshape(sol(t/8),(M,U))[:,field])\n",
    "#plot!(x,reshape(sol(t/4),(M,U))[:,field])\n",
    "#plot!(x,reshape(sol(t/2),(M,U))[:,field])\n",
    "plot!(x,reshape(sol(tf),(M,U))[:,field])"
   ]
  },
  {
   "cell_type": "code",
   "execution_count": null,
   "metadata": {},
   "outputs": [],
   "source": [
    "##### ssol(t) = sol_dir_n0(t)\n",
    "#ssol(t) = sol(t)\n",
    "t=tf\n",
    "shift = 0# U÷2 # 0 is conserv otherwise is fluid\n",
    "anim = @animate for i ∈ 1:100\n",
    "    plot(5 .*(reshape(sol(t*0.01*i),(M,U))[:,shift+1] .- 6.0),label=\"e\", yaxis = (\"conserv\", (-0.5,1.5)))\n",
    "    plot!(5 .*(reshape(sol(t*0.01*i),(M,U))[:,shift+2] .- 0.),label=\"s\")\n",
    "    plot!(reshape(sol(t*0.01*i),(M,U))[:,shift+3],label=\"c1\")\n",
    "    plot!(reshape(sol(t*0.01*i),(M,U))[:,shift+4],label=\"c2\")\n",
    "    plot!(reshape(sol(t*0.01*i),(M,U))[:,shift+5],label=\"c3\")\n",
    "end\n",
    "\n",
    "gif(anim, \"Resultados/Movies/con_$out_name.gif\", fps = 10)"
   ]
  },
  {
   "cell_type": "code",
   "execution_count": null,
   "metadata": {},
   "outputs": [],
   "source": [
    "#ssol(t) = sol_dir_n0(t)\n",
    "ssol(t) = sol(t)\n",
    "shift = U÷2 # 0 is conserv otherwise is fluid\n",
    "t = tf\n",
    "A1 = χ[2] #1\n",
    "A2 = -χ[3]*16/5 #-16A2 # A2 = 1.1474099846235424\n",
    "A3 = χ[3]*4 #20A1 #-1.43426248077943\n",
    "anim = @animate for i ∈ 1:100\n",
    "    plot(20 .*(reshape(ssol(t*0.01*i),(M,U))[:,shift+1] .+ 1),label=\"μ\", yaxis = (\"fluid\", (-0.5,0.25)))\n",
    "    plot!(20 .*(reshape(ssol(t*0.01*i),(M,U))[:,shift+2]) ,label=\"v\")\n",
    "    plot!(reshape(ssol(t*0.01*i),(M,U))[:,shift+3].*50 ,label=\"x1\")\n",
    "    plot!(reshape(ssol(t*0.01*i),(M,U))[:,shift+4].*50 ,label=\"x2\")\n",
    "    plot!(reshape(ssol(t*0.01*i),(M,U))[:,shift+5].*50 ,label=\"x3\")\n",
    "    plot!(A1 .* reshape(ssol(t*0.01*i),(M,U))[:,shift+ 1] .+ A2 .* reshape(ssol(t*0.01*i),(M,U))[:,shift+3]  .+ A3 .* reshape(ssol(t*0.01*i),(M,U))[:,shift+5],label=\"modo cero\")\n",
    "end\n",
    "\n",
    "gif(anim, \"Resultados/Movies/flu_$out_name.gif\", fps = 10)"
   ]
  },
  {
   "cell_type": "code",
   "execution_count": null,
   "metadata": {},
   "outputs": [],
   "source": [
    "##### ssol(t) = sol_dir_n0(t)\n",
    "ssol(t) = sol(t)\n",
    "t = tf\n",
    "shift = 0# U÷2 # 0 is conserv otherwise is fluid\n",
    "    plot(reshape(ssol(t),(M,U))[:,shift+1] .- 6.0,label=\"e\", \n",
    "    xlim = (0,600), yaxis = (\"conserv\", (-0.25,0.2)))\n",
    "    plot!(reshape(ssol(t),(M,U))[:,shift+2] .- 0.,label=\"s\")\n",
    "    plot!(reshape(ssol(t),(M,U))[:,shift+3],label=\"c1\")\n",
    "    plot!(reshape(ssol(t),(M,U))[:,shift+4],label=\"c2\")\n",
    "    plot!(reshape(ssol(t),(M,U))[:,shift+5] .- 1.,label=\"c3\")"
   ]
  },
  {
   "cell_type": "code",
   "execution_count": null,
   "metadata": {},
   "outputs": [],
   "source": [
    "t = tf\n",
    "#A1 = -0.07171312403897132\n",
    "#A2 = 1.1474099846235424\n",
    "#A3 = -1.43426248077943\n",
    "A1 = 1\n",
    "A2 = -χ[3]/χ[2]*16/5\n",
    "A3 = χ[3]/χ[2]*4\n",
    "shift = 5\n",
    "anim = @animate for i ∈ 1:100\n",
    "    plot(A1 .* reshape(ssol(t*0.01*i),(M,U))[:,shift+ 1] .+ A2 .* reshape(ssol(t*0.01*i),(M,U))[:,shift+3]  .+ A3 .* reshape(ssol(t*0.01*i),(M,U))[:,shift+5])\n",
    "    #,label=\"modo cero\", yaxis = (\"fluid\", (-1.025 , -0.925)))\n",
    "end\n",
    "\n",
    "gif(anim, \"Resultados/Movies/zero_$out_name.gif\", fps = 10)"
   ]
  },
  {
   "cell_type": "markdown",
   "metadata": {},
   "source": [
    "#### Aquí siguen celdas que solo importan para pruebas."
   ]
  },
  {
   "cell_type": "markdown",
   "metadata": {},
   "source": [
    "## Euler equations\n",
    "\n",
    "We recuperate Euler's equations setting $\\chi_1 = 0$ and the dissipative variables to zero. That way the systems decouple. And we get: (the notation here is a bit misleading,\n",
    "here $\\rho \\approx e$ Different from $E = (\\rho + p) = 4/3 \\rho$, since $p = \\frac{1}{3}\\rho$ and so $s = Ev = 4/3 e v$\n",
    "\n",
    "$F_e = \\frac{4}{3}ργ^2v = s$\n",
    "\n",
    "$F_s = \\frac{4}{3}ρ(γ^2v^2 + \\frac{1}{4}) = \\frac{1}{3}ργ^2(4 v^2 + \\frac{1}{\\gamma^2} = \n",
    "\\frac{1}{3}ργ^2(3v^2 + 1) $\n",
    "\n",
    "$e = \\frac{4}{3}ρ(γ^2 - \\frac{1}{4}) = \\frac{1}{3}ργ^2(4 - \\frac{1}{\\gamma^2}) = \\frac{1}{3}ργ^2(3 + v^2)$\n",
    "\n",
    "$s = \\frac{4}{3}ργ^2v$\n",
    "\n",
    "$4\\frac{e}{s}v - (3 + v^2) = 0$\n",
    "\n",
    "$v = 2\\frac{e}{s} \\pm \\sqrt{4(\\frac{e}{s})^2 -3}$\n",
    "\n",
    "$v_- =  \\frac{3}{2\\frac{e}{s} + \\sqrt{4(\\frac{e}{s})^2 -3}} \\approx \\frac{3s}{4e}$\n"
   ]
  },
  {
   "cell_type": "code",
   "execution_count": 21,
   "metadata": {
    "jupyter": {
     "source_hidden": true
    },
    "tags": []
   },
   "outputs": [
    {
     "data": {
      "text/plain": [
       "evolution_euler_direct (generic function with 1 method)"
      ]
     },
     "execution_count": 21,
     "metadata": {},
     "output_type": "execute_result"
    }
   ],
   "source": [
    "function evolution_euler_direct(du,u,par,t) # here χ₁=0!\n",
    "    # this is the function that is taken by the time-integrator\n",
    "    par_eq, par_inv, h_1, U, M, Flux, Speed_max, Source, c_to_f = par\n",
    "    χ = par_eq\n",
    "    \n",
    "    p_direct = (χ, U, M) #these are the parameters for direct\n",
    "    c_to_f_direct!(u,p_direct)\n",
    "    #c_to_f!(u,par_inv)\n",
    "    \n",
    "    par_mp5 = (h_1, U, M, χ, χ, Flux, Speed_max, Source)\n",
    "    for j ∈ 1:M\n",
    "        mp5(du,u,par_mp5,j)\n",
    "    end\n",
    "    return du[:]\n",
    "end"
   ]
  },
  {
   "cell_type": "code",
   "execution_count": 22,
   "metadata": {
    "jupyter": {
     "source_hidden": true
    },
    "tags": []
   },
   "outputs": [],
   "source": [
    "\n",
    "prob_euler_direct = ODEProblem(evolution_euler_direct,u_i,(0.0,t),par);"
   ]
  },
  {
   "cell_type": "code",
   "execution_count": 23,
   "metadata": {
    "jupyter": {
     "source_hidden": true
    },
    "tags": []
   },
   "outputs": [
    {
     "ename": "LoadError",
     "evalue": "UndefVarError: sol_nr_n0 not defined",
     "output_type": "error",
     "traceback": [
      "UndefVarError: sol_nr_n0 not defined",
      "",
      "Stacktrace:",
      " [1] dsol(t::Float64)",
      "   @ Main ./In[23]:2",
      " [2] top-level scope",
      "   @ In[23]:3",
      " [3] eval",
      "   @ ./boot.jl:360 [inlined]",
      " [4] include_string(mapexpr::typeof(REPL.softscope), mod::Module, code::String, filename::String)",
      "   @ Base ./loading.jl:1094"
     ]
    }
   ],
   "source": [
    "#sol = sol_dir_n0;\n",
    "dsol(t) = sol_nr_n0(t) - sol_dir_n0(t);\n",
    "reshape(dsol(0.),(M,U))[:,1];"
   ]
  },
  {
   "cell_type": "code",
   "execution_count": 24,
   "metadata": {
    "jupyter": {
     "source_hidden": true
    },
    "tags": []
   },
   "outputs": [
    {
     "ename": "LoadError",
     "evalue": "UndefVarError: sol_nr_n0 not defined",
     "output_type": "error",
     "traceback": [
      "UndefVarError: sol_nr_n0 not defined",
      "",
      "Stacktrace:",
      " [1] top-level scope",
      "   @ In[24]:2",
      " [2] eval",
      "   @ ./boot.jl:360 [inlined]",
      " [3] include_string(mapexpr::typeof(REPL.softscope), mod::Module, code::String, filename::String)",
      "   @ Base ./loading.jl:1094"
     ]
    }
   ],
   "source": [
    "field = 1\n",
    "plot(reshape(sol_nr_n0(0.),(M,U))[:,field] .- reshape(sol_dir_n0(0.),(M,U))[:,field])\n",
    "plot!(reshape(sol_nr_n0(t/8),(M,U))[:,field] .- reshape(sol_dir_n0(t/8),(M,U))[:,field])\n",
    "plot!(reshape(sol_nr_n0(t/4),(M,U))[:,field] .- reshape(sol_dir_n0(t/4),(M,U))[:,field])\n",
    "plot!(reshape(sol_nr_n0(t/2.1),(M,U))[:,field] .- reshape(sol_dir_n0(t/2.1),(M,U))[:,field])\n",
    "#plot!(reshape(sol_nr_n0(t/1.1),(M,U))[:,field] .- reshape(sol_dir_n0(t/1.1),(M,U))[:,field])"
   ]
  },
  {
   "cell_type": "code",
   "execution_count": 25,
   "metadata": {
    "jupyter": {
     "source_hidden": true
    },
    "tags": []
   },
   "outputs": [
    {
     "ename": "LoadError",
     "evalue": "UndefVarError: sol_nr_n0 not defined",
     "output_type": "error",
     "traceback": [
      "UndefVarError: sol_nr_n0 not defined",
      "",
      "Stacktrace:",
      " [1] dsol(t::Float64)",
      "   @ Main ./In[23]:2",
      " [2] macro expansion",
      "   @ ./In[25]:2 [inlined]",
      " [3] top-level scope",
      "   @ ~/.julia/packages/Plots/lzHOt/src/animation.jl:183",
      " [4] eval",
      "   @ ./boot.jl:360 [inlined]",
      " [5] include_string(mapexpr::typeof(REPL.softscope), mod::Module, code::String, filename::String)",
      "   @ Base ./loading.jl:1094"
     ]
    }
   ],
   "source": [
    "anim = @animate for i ∈ 1:100\n",
    "    plot(reshape(dsol(t*0.01*i),(M,U))[:,1],label=\"e\", yaxis = (\"conserv\", (-1e-7,1e-7)))\n",
    "    plot!(reshape(dsol(t*0.01*i),(M,U))[:,2],label=\"s\")\n",
    "    plot!(reshape(dsol(t*0.01*i),(M,U))[:,3],label=\"c1\")\n",
    "    plot!(reshape(dsol(t*0.01*i),(M,U))[:,4],label=\"c2\")\n",
    "    plot!(reshape(dsol(t*0.01*i),(M,U))[:,5],label=\"c3\")\n",
    "end\n",
    "\n",
    "gif(anim, \"ff_n0_dif_anim_fps10.gif\", fps = 10)"
   ]
  },
  {
   "cell_type": "code",
   "execution_count": 26,
   "metadata": {
    "jupyter": {
     "source_hidden": true
    },
    "tags": []
   },
   "outputs": [
    {
     "ename": "LoadError",
     "evalue": "UndefVarError: sol_nr_n0 not defined",
     "output_type": "error",
     "traceback": [
      "UndefVarError: sol_nr_n0 not defined",
      "",
      "Stacktrace:",
      " [1] dsol(t::Float64)",
      "   @ Main ./In[23]:2",
      " [2] macro expansion",
      "   @ ./In[26]:2 [inlined]",
      " [3] top-level scope",
      "   @ ~/.julia/packages/Plots/lzHOt/src/animation.jl:183",
      " [4] eval",
      "   @ ./boot.jl:360 [inlined]",
      " [5] include_string(mapexpr::typeof(REPL.softscope), mod::Module, code::String, filename::String)",
      "   @ Base ./loading.jl:1094"
     ]
    }
   ],
   "source": [
    "anim = @animate for i ∈ 1:100\n",
    "    plot(reshape(dsol(t*0.01*i),(M,U))[:,5+1],label=\"μ\", yaxis = (\"fluid\", (-1e-8,1e-8)))\n",
    "    plot!(reshape(dsol(t*0.01*i),(M,U))[:,5+2],label=\"v\")\n",
    "    plot!(reshape(dsol(t*0.01*i),(M,U))[:,5+3],label=\"X1\")\n",
    "    plot!(reshape(dsol(t*0.01*i),(M,U))[:,5+4],label=\"X2\")\n",
    "    plot!(reshape(dsol(t*0.01*i),(M,U))[:,5+5],label=\"X3\")\n",
    "end\n",
    "\n",
    "gif(anim, \"ff_n0_dif_anim_fps10.gif\", fps = 10)"
   ]
  },
  {
   "cell_type": "code",
   "execution_count": null,
   "metadata": {},
   "outputs": [],
   "source": []
  },
  {
   "cell_type": "code",
   "execution_count": 27,
   "metadata": {
    "jupyter": {
     "source_hidden": true
    },
    "tags": []
   },
   "outputs": [],
   "source": [
    "# the initial data\n",
    "# we give initial data in the fluid variables and then transform to conservatives\n",
    "\n",
    "u_i=zeros(M*U)\n",
    "con_0 = view(reshape(u_i,(M,U)),:,1:U÷2)\n",
    "flu_0 = view(reshape(u_i,(M,U)),:,U÷2+1:U)\n",
    "\n",
    "if speed_pulse\n",
    "    \n",
    "\n",
    "    x0 = 0.0; x1 = 0.2 #x0 = 0.4; x1 = 0.6\n",
    "    v0 = 0.0; δv = 0.1 \n",
    "\n",
    "    for i in 1:M\n",
    "        x[i] = dx*(i-1)\n",
    "        if x[i] > x0 && x[i] < x1\n",
    "            flu_0[i,2] = v0 + δv *(x[i] - x0)^4 * (x[i] - x1)^4 / (x1-x0)^8 * 250                   #Sz\n",
    "            flu_0[i,1] = -0.0 # * sin(pi*(x[i] - x0)/(x1-x0))^4 * sin(2*pi*(x[i] - x0)/(x1-x0))     #By\n",
    "        else\n",
    "            flu_0[i,2] = v0\n",
    "        end\n",
    "    \n",
    "        flu_0[i,1] = -1.   #\n",
    "    #flu_0[i,2] = flu_0[i,2] + 0.1  # v\n",
    "    \n",
    "    end\n",
    "f_to_c!(u_i, (χ, U, M)); # populate the conservative variables from the fluid ones\n",
    "end\n",
    "\n",
    "if small_pulse_to_the_right\n",
    "\n",
    "    e0 = 6.; δe = 0.1\n",
    "    x0 = 0.; x1 = 0.2\n",
    "    λ = 1. /sqrt(3.)\n",
    "    for i in 1:M\n",
    "        x[i] = dx*(i-1)\n",
    "        if x[i] > x0 && x[i] < x1\n",
    "            con_0[i,1] = e0 + δe *(x[i] - x0)^4 * (x[i] - x1)^4 / (x1-x0)^8 * 250                   #Sz\n",
    "            con_0[i,2] = λ*(con_0[i,1] - e0)\n",
    "        else\n",
    "            con_0[i,1] = e0\n",
    "            con_0[i,2] = 0.\n",
    "        end\n",
    "            flu_0[i,1] = -1.\n",
    "    end\n",
    "    par_inv = (χ, tol, 10000, U, M)\n",
    "    u_i = c_to_f!(u_i,par_inv);\n",
    "    reshape(u_i,U,M)\n",
    "end\n",
    "\n",
    "if big_pulse_to_the_right || big_pulse_negative_I\n",
    "    \n",
    "\n",
    "    e0 = 6.; δe = 4.0\n",
    "    x0 = 0.; x1 = 0.2\n",
    "    λ = 1. /sqrt(3.)\n",
    "    for i in 1:M\n",
    "        x[i] = dx*(i-1)\n",
    "        if x[i] > x0 && x[i] < x1\n",
    "            con_0[i,1] = e0 + δe *(x[i] - x0)^4 * (x[i] - x1)^4 / (x1-x0)^8 * 250                   #Sz\n",
    "            con_0[i,2] = λ*(con_0[i,1] - e0)\n",
    "        else\n",
    "            con_0[i,1] = e0\n",
    "            con_0[i,2] = 0.\n",
    "        end\n",
    "            flu_0[i,1] = -sqrt(con_0[i,1])/6\n",
    "    end\n",
    "    \n",
    "    if !Euler\n",
    "        χ_int = [- 1.0; -0.; - 10.0] #primero nos aproximamos a la solución con χ₁=0\n",
    "        par_inv = (χ, tol, 1000, U, M)\n",
    "        u_i = c_to_f!(u_i,par_inv);\n",
    "        χ = [- 1.0; -0.5; - 10.0] #luego buscamos la buena con la semilla anterior\n",
    "        par_inv = (χ, tol, 1000, U, M)\n",
    "        u_i = c_to_f!(u_i,par_inv);\n",
    "        #check!\n",
    "        if max(abs, f_to_c!(u_i,(χ,U,M)) - u_i) > 0.001\n",
    "            error(\"Not converging\")\n",
    "        end\n",
    "    else\n",
    "        u_i = c_to_f!(u_i,par_inv);\n",
    "    end\n",
    "        reshape(u_i,U,M)\n",
    "end\n",
    "\n",
    "if only_diss\n",
    "\n",
    "    e0 = 6.; δe = 0.0\n",
    "    x0 = 0.; x1 = 0.2\n",
    "    x10 = 0.1\n",
    "    x20 = 0.1\n",
    "    x30 = 0.1\n",
    "    #λ = 1. /sqrt(3.)\n",
    "    for i in 1:M\n",
    "        x[i] = dx*(i-1)\n",
    "        if x[i] > x0 && x[i] < x1\n",
    "            con_0[i,1] = e0\n",
    "            con_0[i,3] = x10 *(x[i] - x0)^4 * (x[i] - x1)^4 / (x1-x0)^8 * 250                   #Sz\n",
    "            con_0[i,4] = x20 *(x[i] - x0)^4 * (x[i] - x1)^4 / (x1-x0)^8 * 250 \n",
    "            con_0[i,5] = x30 *(x[i] - x0)^4 * (x[i] - x1)^4 / (x1-x0)^8 * 250 \n",
    "        else\n",
    "            con_0[i,1] = e0\n",
    "        end\n",
    "        flu_0[i,1] = -1.\n",
    "    end\n",
    "        u_i = c_to_f!(u_i,par_inv);\n",
    "        reshape(u_i,U,M);\n",
    "end"
   ]
  }
 ],
 "metadata": {
  "author": "\\rho",
  "kernelspec": {
   "display_name": "Julia (4 threads) 1.6.1",
   "language": "julia",
   "name": "julia-(4-threads)-1.6"
  },
  "language_info": {
   "file_extension": ".jl",
   "mimetype": "application/julia",
   "name": "julia",
   "version": "1.6.1"
  },
  "latex_envs": {
   "LaTeX_envs_menu_present": true,
   "autoclose": false,
   "autocomplete": true,
   "bibliofile": "biblio.bib",
   "cite_by": "apalike",
   "current_citInitial": 1,
   "eqLabelWithNumbers": true,
   "eqNumInitial": 1,
   "hotkeys": {
    "equation": "Ctrl-E",
    "itemize": "Ctrl-I"
   },
   "labels_anchors": false,
   "latex_user_defs": false,
   "report_style_numbering": false,
   "user_envs_cfg": false
  }
 },
 "nbformat": 4,
 "nbformat_minor": 4
}
