{
 "cells": [
  {
   "cell_type": "markdown",
   "metadata": {},
   "source": [
    "## Conformally invariant dissipative relativistic fluid\n",
    "\n",
    "Here we solve numerically the equations deduced in \\ref{xxx}\n",
    "\n",
    "### To Do:\n",
    "\n",
    "1. Use KT also (probably has a mistake to check first)\n",
    "2. Compare with the other code\n",
    "3. Try some other data\n",
    "4. Find some interesting (physically) data. The double shock is interesting and could be measured. "
   ]
  },
  {
   "cell_type": "code",
   "execution_count": 1,
   "metadata": {
    "tags": []
   },
   "outputs": [],
   "source": [
    "import Pkg; \n",
    "#Pkg.activate(mktempdir())\n",
    "#Pkg.add([\n",
    "#    Pkg.PackageSpec(name=\"DifferentialEquations\", version=\"6.16.0\"),\n",
    "#    Pkg.PackageSpec(name=\"Symbolics\", version=\"0.1.22\"),\n",
    "#    Pkg.PackageSpec(name=\"ForwardDiff\", version=\"0.10\"),\n",
    "#    Pkg.PackageSpec(name=\"Plots\", version=\"1\"),\n",
    "#    Pkg.PackageSpec(name=\"LaTeXStrings\", version=\"1\"),\n",
    "#    Pkg.PackageSpec(name=\"NonlinearSolve\", version=\"0.3\"),\n",
    "#    Pkg.PackageSpec(name=\"StaticArrays\", version=\"0.12\")\n",
    "    #Pkg.PackageSpec(name=\"OrdinaryDiffEq\", version=\"6.17.0\"),\n",
    "#    ])\n",
    "#Pkg.add(\"NonlinearSolve\")\n",
    "#Pkg.add(\"StaticArrays\")\n",
    "#Pkg.add(\"IJuliaBell\")\n",
    "#Pkg.add(\"Symbolics@0.1.22\")\n",
    "#Pkg.add(\"OrdinaryDiffEq@6.17.0\")\n",
    "#using NonlinearSolve \n",
    "using StaticArrays\n",
    "using Symbolics\n",
    "using OrdinaryDiffEq\n",
    "using Plots\n",
    "using FileIO\n",
    "using IJuliaBell"
   ]
  },
  {
   "cell_type": "code",
   "execution_count": 2,
   "metadata": {},
   "outputs": [],
   "source": [
    "#mkdir(\"Resultados/Soluciones\")"
   ]
  },
  {
   "cell_type": "markdown",
   "metadata": {},
   "source": [
    "We add the modules needed for the computation:\n",
    "\n",
    "    choques_utils are the mp5 and kt shock capturing schemes\n",
    "    \n",
    "    Flux_functions_ext contain the fluxes and sources for the system\n",
    "    \n",
    "    inversion_ext the inversion between conservative and fluid quantities\n",
    "    \n",
    "The ext means that we are considering a vector of 10 variables, 5 conservative and 5 fluid variables. The fluid variables are evolved with a zero time derivative, and are updated inside the evolution equation using the inversion function."
   ]
  },
  {
   "cell_type": "code",
   "execution_count": 3,
   "metadata": {},
   "outputs": [
    {
     "data": {
      "text/plain": [
       "5×5 Matrix{Rational{Int64}}:\n",
       " 1//1  0//1  0//1  0//1  0//1\n",
       " 0//1  1//1  0//1  0//1  0//1\n",
       " 0//1  0//1  3//4  0//1  1//4\n",
       " 0//1  0//1  0//1  1//2  0//1\n",
       " 0//1  0//1  1//4  0//1  3//4"
      ]
     },
     "execution_count": 3,
     "metadata": {},
     "output_type": "execute_result"
    }
   ],
   "source": [
    "include(\"inversion_ext.jl\")"
   ]
  },
  {
   "cell_type": "code",
   "execution_count": 4,
   "metadata": {},
   "outputs": [
    {
     "data": {
      "text/plain": [
       "10"
      ]
     },
     "execution_count": 4,
     "metadata": {},
     "output_type": "execute_result"
    }
   ],
   "source": [
    "U=10 # number of fields (double the number of fields, one for fluid and the other for conservative quantities)"
   ]
  },
  {
   "cell_type": "code",
   "execution_count": 5,
   "metadata": {},
   "outputs": [
    {
     "data": {
      "text/plain": [
       "Speed_max (generic function with 1 method)"
      ]
     },
     "execution_count": 5,
     "metadata": {},
     "output_type": "execute_result"
    }
   ],
   "source": [
    "include(\"choques_utils.jl\") # all functions needed for evolution\n",
    "include(\"Flux_function_ext.jl\")"
   ]
  },
  {
   "cell_type": "markdown",
   "metadata": {},
   "source": [
    "## Create initial data"
   ]
  },
  {
   "cell_type": "code",
   "execution_count": 48,
   "metadata": {},
   "outputs": [
    {
     "data": {
      "text/plain": [
       "create_initial_data (generic function with 1 method)"
      ]
     },
     "execution_count": 48,
     "metadata": {},
     "output_type": "execute_result"
    }
   ],
   "source": [
    "include(\"initial_data.jl\")"
   ]
  },
  {
   "cell_type": "markdown",
   "metadata": {
    "tags": []
   },
   "source": [
    "The initial data is created by giving a string characterizing it.\n",
    "\n",
    "According to the string, inside the function we create the initial data\n",
    "\n",
    "Some set of parameters:\n",
    "\n",
    "For instance: $v_0(x) = flu_0[i,2] = 0.1 + 0.1 * (x[i] - x0)^4 * (x[i] - x1)^4 / (x1-x0)^8 * 250 $ in the interval $[0.4,0.6]$\n",
    "\n",
    "$\\mu = flu_0[i,1] = -1.$\n",
    "\n",
    "You might give instead the conserved fields and find the fluid ones or viceversa. \n",
    "\n",
    "Below we look at different possibilities. \n",
    "Notice that here we also include several other evolution parameters since they can change according to the initial data chosen.\n"
   ]
  },
  {
   "cell_type": "code",
   "execution_count": 49,
   "metadata": {},
   "outputs": [
    {
     "data": {
      "text/plain": [
       "true"
      ]
     },
     "execution_count": 49,
     "metadata": {},
     "output_type": "execute_result"
    }
   ],
   "source": [
    "Euler = false\n",
    "sod = false    # No implementado\n",
    "speed_pulse = false # a simple speed pulse (no muy interesante pues hay pulsos en las dos direcciones)\n",
    "temperature_pulse = false # a simple temperature μ pulse (no implementado)\n",
    "small_pulse_to_the_right = false # low velocity perturbation pulse in just one direction\n",
    "big_pulse_to_the_right = false # Choques (la velocidad no es muy alta todavía)\n",
    "constant_fields = false # todo constante\n",
    "big_pulse_negative_I = false\n",
    "only_diss = false\n",
    "# poner a continuación la que uno quiere usar con un true (así todos los demás quedan en false)\n",
    "\n",
    "#big_pulse_to_the_right = true\n",
    "#big_pulse_to_the_right_E = true\n",
    "#big_pulse_negative_I = true   #no parece funcionar\n",
    "#small_pulse_to_the_right = true\n",
    "#only_diss = true\n",
    "#speed_pulse = true\n",
    "#constant_fields = true\n",
    "square = true\n",
    "\n",
    "#Euler = true"
   ]
  },
  {
   "cell_type": "code",
   "execution_count": 50,
   "metadata": {},
   "outputs": [
    {
     "data": {
      "text/plain": [
       "4.0"
      ]
     },
     "execution_count": 50,
     "metadata": {},
     "output_type": "execute_result"
    }
   ],
   "source": [
    "if speed_pulse\n",
    "    name = \"speed_pulse\"\n",
    "    out_name = \"speed_pulse_long\" \n",
    "    L=2.4 # Length of the integration region\n",
    "    M=600 # number of space-points in the discretization\n",
    "    tf=16. # final time\n",
    "    dx = L/M\n",
    "    dt = 0.01 * dx # this depends on the maximal propagation speed\n",
    "    tol = 10^(-10) # error tolerance in inversion function (Newton-Raphson)\n",
    "    iter_max = 40  # maximum number of NR iterations\n",
    "\n",
    "    χ = [1.,1.,0.01]# [1.,1.,0.06]# the equation parameters \n",
    "    ξ = 100π*[-10; 15; -1] # new source parámeters     1/κ, 1/λ, 1/η \n",
    "    \n",
    "elseif square\n",
    "    name = \"square\"\n",
    "    out_name = \"square_pulse_short\" \n",
    "    L=1. # Length of the integration region\n",
    "    M=600 # number of space-points in the discretization\n",
    "    tf=4. # final time\n",
    "    dx = L/M\n",
    "    dt = 0.1 * dx # this depends on the maximal propagation speed\n",
    "    tol = 10^(-10) # error tolerance in inversion function (Newton-Raphson)\n",
    "    iter_max = 40  # maximum number of NR iterations\n",
    "\n",
    "    χ = [1.,1.,0.01]# [1.,1.,0.06]# the equation parameters \n",
    "    ξ = 100π*[-10; 15; -1] # new source parámeters     1/κ, 1/λ, 1/η \n",
    "    \n",
    "elseif sod # not yet implemnted it would be important!\n",
    "    name = \"sod\" \n",
    "    out_name = \"sod\" \n",
    "    L=1. # Length of the integration region\n",
    "    M=400 # number of space-points in the discretization\n",
    "    tf=2. # final time\n",
    "    dx = L/M\n",
    "    dt = 0.1 * dx # this depends on the maximal propagation speed\n",
    "    tol = 10^(-10) # error tolerance in inversion function (Newton-Raphson)\n",
    "    iter_max = 40  # maximum number of NR iterations\n",
    "\n",
    "    χ = [-1,-1,-20.] # the equation parameters \n",
    "    ξ = -100*π*[1, -15, -1] # new source parámeters     1/κ, 1/λ, 1/η \n",
    "\n",
    "elseif  small_pulse_to_the_right\n",
    "    name = \"small_pulse_to_the_right\"\n",
    "    out_name = \"small_right_p\" \n",
    "    L=1. # Length of the integration region\n",
    "    M=600 # number of space-points in the discretization\n",
    "    tf=4. # 4. final time\n",
    "    dx = L/M\n",
    "    dt = 0.1 * dx # this depends on the maximal propagation speed\n",
    "    tol = 10^(-10) # error tolerance in inversion function (Newton-Raphson)\n",
    "    iter_max = 40  # maximum number of NR iterations\n",
    "    χ = [-1,-1,-20.] # the equation parameters \n",
    "    ξ = -100*π*[1, -15, -1] # new source parámeters     1/κ, 1/λ, 1/η \n",
    "    \n",
    "elseif  big_pulse_to_the_right\n",
    "    name = \"big_pulse_to_the_right\"\n",
    "    out_name = \"big_right_long\" \n",
    "    L=4. # Length of the integration region\n",
    "    M=600 # number of space-points in the discretization\n",
    "    tf=80. # final time\n",
    "    dx = L/M\n",
    "    dt = 0.1 * dx # this depends on the maximal propagation speed\n",
    "    tol = 10^(-6) # error tolerance in inversion function (Newton-Raphson)\n",
    "    iter_max = 40  # maximum number of NR iterations\n",
    "    \n",
    "    χ = [1.,1.,0.01]# [1.,1.,0.06]# the equation parameters \n",
    "    ξ = 100π*[-10; 15; -1] # new source parámeters     1/κ, 1/λ, 1/η \n",
    "    \n",
    "elseif  constant_fields\n",
    "    name = \"constant_fields\"\n",
    "    out_name = \"constant_fields\" \n",
    "    L=1. # Length of the integration region\n",
    "    M=6 # number of space-points in the discretization\n",
    "    tf=10. # final time\n",
    "    dx = L/M\n",
    "    dt = 0.1 * dx # this depends on the maximal propagation speed\n",
    "    tol = 10^(-10) # error tolerance in inversion function (Newton-Raphson)\n",
    "    iter_max = 400  # maximum number of NR iterations\n",
    "    \n",
    "    χ = [-1,-1,-20.] # the equation parameters \n",
    "    ξ = -100*π*[1, -15, -1] # new source parámeters     1/κ, 1/λ, 1/η \n",
    "    \n",
    "elseif  only_diss # only runs the source\n",
    "    name = \"only_diss\"\n",
    "    out_name = name\n",
    "    L=4. # Length of the integration region\n",
    "    M=600 # number of space-points in the discretization\n",
    "    tf=1. # final time\n",
    "    dx = L/M\n",
    "    dt = 0.1 * dx # this depends on the maximal propagation speed\n",
    "    tol = 10^(-10) # error tolerance in inversion function (Newton-Raphson)\n",
    "    iter_max = 400  # maximum number of NR iterations\n",
    "    \n",
    "    χ = [-1,-1,-20.] # the equation parameters \n",
    "    ξ = -100*π*[1, -15, -1]; # new source parámeters     1/κ, 1/λ, 1/η  \n",
    "end\n",
    "tf"
   ]
  },
  {
   "cell_type": "code",
   "execution_count": 51,
   "metadata": {},
   "outputs": [],
   "source": [
    "par_eq = (χ, ξ) # parameters to use on the equations \n",
    "par_inv = (χ, tol, iter_max, U, M, f2c!, Jf2c) # parameters for the inversion\n",
    "    \n",
    "if Euler\n",
    "    χ[2] = 0.\n",
    "    χ[3] = 0.\n",
    "    out_name = name*\"_E\"\n",
    "#    par_eq = (χ, ξ) # parameters to use on the equations \n",
    "#    par_inv = (χ, tol, iter_max, U, M, f2c!, Jac_alt) # parameters for the inversion \n",
    "end"
   ]
  },
  {
   "cell_type": "markdown",
   "metadata": {},
   "source": [
    "The fields used for evolution. "
   ]
  },
  {
   "cell_type": "code",
   "execution_count": 52,
   "metadata": {
    "tags": []
   },
   "outputs": [
    {
     "data": {
      "text/plain": [
       "3-element Vector{Float64}:\n",
       " 1.0\n",
       " 1.0\n",
       " 0.01"
      ]
     },
     "execution_count": 52,
     "metadata": {},
     "output_type": "execute_result"
    }
   ],
   "source": [
    "u_i = zeros(M*U) # flux variables for the initial data (these are used for the flux function)\n",
    "du = zeros(M*U) # for the rhs\n",
    "par_inidat = χ, U, M, dx, Euler, f2c!, Jf2c\n",
    "u_i = create_initial_data(name, u_i, par_inidat)\n",
    "con_0 = view(reshape(u_i,(M,U)),:,1:U÷2)\n",
    "flu_0 = view(reshape(u_i,(M,U)),:,U÷2+1:U);\n",
    "χ"
   ]
  },
  {
   "cell_type": "code",
   "execution_count": 53,
   "metadata": {},
   "outputs": [
    {
     "data": {
      "image/svg+xml": [
       "<?xml version=\"1.0\" encoding=\"utf-8\"?>\n",
       "<svg xmlns=\"http://www.w3.org/2000/svg\" xmlns:xlink=\"http://www.w3.org/1999/xlink\" width=\"600\" height=\"400\" viewBox=\"0 0 2400 1600\">\n",
       "<defs>\n",
       "  <clipPath id=\"clip210\">\n",
       "    <rect x=\"0\" y=\"0\" width=\"2400\" height=\"1600\"/>\n",
       "  </clipPath>\n",
       "</defs>\n",
       "<path clip-path=\"url(#clip210)\" d=\"\n",
       "M0 1600 L2400 1600 L2400 0 L0 0  Z\n",
       "  \" fill=\"#ffffff\" fill-rule=\"evenodd\" fill-opacity=\"1\"/>\n",
       "<defs>\n",
       "  <clipPath id=\"clip211\">\n",
       "    <rect x=\"480\" y=\"0\" width=\"1681\" height=\"1600\"/>\n",
       "  </clipPath>\n",
       "</defs>\n",
       "<path clip-path=\"url(#clip210)\" d=\"\n",
       "M156.274 1486.45 L2352.76 1486.45 L2352.76 47.2441 L156.274 47.2441  Z\n",
       "  \" fill=\"#ffffff\" fill-rule=\"evenodd\" fill-opacity=\"1\"/>\n",
       "<defs>\n",
       "  <clipPath id=\"clip212\">\n",
       "    <rect x=\"156\" y=\"47\" width=\"2197\" height=\"1440\"/>\n",
       "  </clipPath>\n",
       "</defs>\n",
       "<polyline clip-path=\"url(#clip212)\" style=\"stroke:#000000; stroke-linecap:butt; stroke-linejoin:round; stroke-width:2; stroke-opacity:0.1; fill:none\" points=\"\n",
       "  218.439,1486.45 218.439,47.2441 \n",
       "  \"/>\n",
       "<polyline clip-path=\"url(#clip212)\" style=\"stroke:#000000; stroke-linecap:butt; stroke-linejoin:round; stroke-width:2; stroke-opacity:0.1; fill:none\" points=\"\n",
       "  737.342,1486.45 737.342,47.2441 \n",
       "  \"/>\n",
       "<polyline clip-path=\"url(#clip212)\" style=\"stroke:#000000; stroke-linecap:butt; stroke-linejoin:round; stroke-width:2; stroke-opacity:0.1; fill:none\" points=\"\n",
       "  1256.24,1486.45 1256.24,47.2441 \n",
       "  \"/>\n",
       "<polyline clip-path=\"url(#clip212)\" style=\"stroke:#000000; stroke-linecap:butt; stroke-linejoin:round; stroke-width:2; stroke-opacity:0.1; fill:none\" points=\"\n",
       "  1775.15,1486.45 1775.15,47.2441 \n",
       "  \"/>\n",
       "<polyline clip-path=\"url(#clip212)\" style=\"stroke:#000000; stroke-linecap:butt; stroke-linejoin:round; stroke-width:2; stroke-opacity:0.1; fill:none\" points=\"\n",
       "  2294.05,1486.45 2294.05,47.2441 \n",
       "  \"/>\n",
       "<polyline clip-path=\"url(#clip210)\" style=\"stroke:#000000; stroke-linecap:butt; stroke-linejoin:round; stroke-width:4; stroke-opacity:1; fill:none\" points=\"\n",
       "  156.274,1486.45 2352.76,1486.45 \n",
       "  \"/>\n",
       "<polyline clip-path=\"url(#clip210)\" style=\"stroke:#000000; stroke-linecap:butt; stroke-linejoin:round; stroke-width:4; stroke-opacity:1; fill:none\" points=\"\n",
       "  218.439,1486.45 218.439,1469.18 \n",
       "  \"/>\n",
       "<polyline clip-path=\"url(#clip210)\" style=\"stroke:#000000; stroke-linecap:butt; stroke-linejoin:round; stroke-width:4; stroke-opacity:1; fill:none\" points=\"\n",
       "  737.342,1486.45 737.342,1469.18 \n",
       "  \"/>\n",
       "<polyline clip-path=\"url(#clip210)\" style=\"stroke:#000000; stroke-linecap:butt; stroke-linejoin:round; stroke-width:4; stroke-opacity:1; fill:none\" points=\"\n",
       "  1256.24,1486.45 1256.24,1469.18 \n",
       "  \"/>\n",
       "<polyline clip-path=\"url(#clip210)\" style=\"stroke:#000000; stroke-linecap:butt; stroke-linejoin:round; stroke-width:4; stroke-opacity:1; fill:none\" points=\"\n",
       "  1775.15,1486.45 1775.15,1469.18 \n",
       "  \"/>\n",
       "<polyline clip-path=\"url(#clip210)\" style=\"stroke:#000000; stroke-linecap:butt; stroke-linejoin:round; stroke-width:4; stroke-opacity:1; fill:none\" points=\"\n",
       "  2294.05,1486.45 2294.05,1469.18 \n",
       "  \"/>\n",
       "<path clip-path=\"url(#clip210)\" d=\"M180.742 1515.64 Q177.131 1515.64 175.302 1519.2 Q173.497 1522.75 173.497 1529.87 Q173.497 1536.98 175.302 1540.55 Q177.131 1544.09 180.742 1544.09 Q184.376 1544.09 186.182 1540.55 Q188.011 1536.98 188.011 1529.87 Q188.011 1522.75 186.182 1519.2 Q184.376 1515.64 180.742 1515.64 M180.742 1511.93 Q186.552 1511.93 189.608 1516.54 Q192.687 1521.12 192.687 1529.87 Q192.687 1538.6 189.608 1543.21 Q186.552 1547.79 180.742 1547.79 Q174.932 1547.79 171.853 1543.21 Q168.798 1538.6 168.798 1529.87 Q168.798 1521.12 171.853 1516.54 Q174.932 1511.93 180.742 1511.93 Z\" fill=\"#000000\" fill-rule=\"evenodd\" fill-opacity=\"1\" /><path clip-path=\"url(#clip210)\" d=\"M200.904 1541.24 L205.788 1541.24 L205.788 1547.12 L200.904 1547.12 L200.904 1541.24 Z\" fill=\"#000000\" fill-rule=\"evenodd\" fill-opacity=\"1\" /><path clip-path=\"url(#clip210)\" d=\"M225.973 1515.64 Q222.362 1515.64 220.534 1519.2 Q218.728 1522.75 218.728 1529.87 Q218.728 1536.98 220.534 1540.55 Q222.362 1544.09 225.973 1544.09 Q229.608 1544.09 231.413 1540.55 Q233.242 1536.98 233.242 1529.87 Q233.242 1522.75 231.413 1519.2 Q229.608 1515.64 225.973 1515.64 M225.973 1511.93 Q231.784 1511.93 234.839 1516.54 Q237.918 1521.12 237.918 1529.87 Q237.918 1538.6 234.839 1543.21 Q231.784 1547.79 225.973 1547.79 Q220.163 1547.79 217.085 1543.21 Q214.029 1538.6 214.029 1529.87 Q214.029 1521.12 217.085 1516.54 Q220.163 1511.93 225.973 1511.93 Z\" fill=\"#000000\" fill-rule=\"evenodd\" fill-opacity=\"1\" /><path clip-path=\"url(#clip210)\" d=\"M256.135 1515.64 Q252.524 1515.64 250.696 1519.2 Q248.89 1522.75 248.89 1529.87 Q248.89 1536.98 250.696 1540.55 Q252.524 1544.09 256.135 1544.09 Q259.77 1544.09 261.575 1540.55 Q263.404 1536.98 263.404 1529.87 Q263.404 1522.75 261.575 1519.2 Q259.77 1515.64 256.135 1515.64 M256.135 1511.93 Q261.945 1511.93 265.001 1516.54 Q268.08 1521.12 268.08 1529.87 Q268.08 1538.6 265.001 1543.21 Q261.945 1547.79 256.135 1547.79 Q250.325 1547.79 247.246 1543.21 Q244.191 1538.6 244.191 1529.87 Q244.191 1521.12 247.246 1516.54 Q250.325 1511.93 256.135 1511.93 Z\" fill=\"#000000\" fill-rule=\"evenodd\" fill-opacity=\"1\" /><path clip-path=\"url(#clip210)\" d=\"M700.143 1515.64 Q696.532 1515.64 694.703 1519.2 Q692.898 1522.75 692.898 1529.87 Q692.898 1536.98 694.703 1540.55 Q696.532 1544.09 700.143 1544.09 Q703.777 1544.09 705.583 1540.55 Q707.411 1536.98 707.411 1529.87 Q707.411 1522.75 705.583 1519.2 Q703.777 1515.64 700.143 1515.64 M700.143 1511.93 Q705.953 1511.93 709.009 1516.54 Q712.087 1521.12 712.087 1529.87 Q712.087 1538.6 709.009 1543.21 Q705.953 1547.79 700.143 1547.79 Q694.333 1547.79 691.254 1543.21 Q688.198 1538.6 688.198 1529.87 Q688.198 1521.12 691.254 1516.54 Q694.333 1511.93 700.143 1511.93 Z\" fill=\"#000000\" fill-rule=\"evenodd\" fill-opacity=\"1\" /><path clip-path=\"url(#clip210)\" d=\"M720.305 1541.24 L725.189 1541.24 L725.189 1547.12 L720.305 1547.12 L720.305 1541.24 Z\" fill=\"#000000\" fill-rule=\"evenodd\" fill-opacity=\"1\" /><path clip-path=\"url(#clip210)\" d=\"M739.402 1543.18 L755.721 1543.18 L755.721 1547.12 L733.777 1547.12 L733.777 1543.18 Q736.439 1540.43 741.022 1535.8 Q745.629 1531.15 746.809 1529.81 Q749.055 1527.28 749.934 1525.55 Q750.837 1523.79 750.837 1522.1 Q750.837 1519.34 748.893 1517.61 Q746.971 1515.87 743.869 1515.87 Q741.67 1515.87 739.217 1516.63 Q736.786 1517.4 734.008 1518.95 L734.008 1514.23 Q736.832 1513.09 739.286 1512.51 Q741.74 1511.93 743.777 1511.93 Q749.147 1511.93 752.342 1514.62 Q755.536 1517.31 755.536 1521.8 Q755.536 1523.93 754.726 1525.85 Q753.939 1527.74 751.832 1530.34 Q751.254 1531.01 748.152 1534.23 Q745.05 1537.42 739.402 1543.18 Z\" fill=\"#000000\" fill-rule=\"evenodd\" fill-opacity=\"1\" /><path clip-path=\"url(#clip210)\" d=\"M765.582 1512.56 L783.939 1512.56 L783.939 1516.5 L769.865 1516.5 L769.865 1524.97 Q770.883 1524.62 771.902 1524.46 Q772.92 1524.27 773.939 1524.27 Q779.726 1524.27 783.105 1527.44 Q786.485 1530.62 786.485 1536.03 Q786.485 1541.61 783.013 1544.71 Q779.541 1547.79 773.221 1547.79 Q771.045 1547.79 768.777 1547.42 Q766.531 1547.05 764.124 1546.31 L764.124 1541.61 Q766.207 1542.74 768.43 1543.3 Q770.652 1543.86 773.129 1543.86 Q777.133 1543.86 779.471 1541.75 Q781.809 1539.64 781.809 1536.03 Q781.809 1532.42 779.471 1530.31 Q777.133 1528.21 773.129 1528.21 Q771.254 1528.21 769.379 1528.62 Q767.527 1529.04 765.582 1529.92 L765.582 1512.56 Z\" fill=\"#000000\" fill-rule=\"evenodd\" fill-opacity=\"1\" /><path clip-path=\"url(#clip210)\" d=\"M1218.55 1515.64 Q1214.94 1515.64 1213.11 1519.2 Q1211.3 1522.75 1211.3 1529.87 Q1211.3 1536.98 1213.11 1540.55 Q1214.94 1544.09 1218.55 1544.09 Q1222.18 1544.09 1223.99 1540.55 Q1225.82 1536.98 1225.82 1529.87 Q1225.82 1522.75 1223.99 1519.2 Q1222.18 1515.64 1218.55 1515.64 M1218.55 1511.93 Q1224.36 1511.93 1227.41 1516.54 Q1230.49 1521.12 1230.49 1529.87 Q1230.49 1538.6 1227.41 1543.21 Q1224.36 1547.79 1218.55 1547.79 Q1212.74 1547.79 1209.66 1543.21 Q1206.6 1538.6 1206.6 1529.87 Q1206.6 1521.12 1209.66 1516.54 Q1212.74 1511.93 1218.55 1511.93 Z\" fill=\"#000000\" fill-rule=\"evenodd\" fill-opacity=\"1\" /><path clip-path=\"url(#clip210)\" d=\"M1238.71 1541.24 L1243.59 1541.24 L1243.59 1547.12 L1238.71 1547.12 L1238.71 1541.24 Z\" fill=\"#000000\" fill-rule=\"evenodd\" fill-opacity=\"1\" /><path clip-path=\"url(#clip210)\" d=\"M1253.83 1512.56 L1272.18 1512.56 L1272.18 1516.5 L1258.11 1516.5 L1258.11 1524.97 Q1259.13 1524.62 1260.15 1524.46 Q1261.16 1524.27 1262.18 1524.27 Q1267.97 1524.27 1271.35 1527.44 Q1274.73 1530.62 1274.73 1536.03 Q1274.73 1541.61 1271.26 1544.71 Q1267.78 1547.79 1261.46 1547.79 Q1259.29 1547.79 1257.02 1547.42 Q1254.77 1547.05 1252.37 1546.31 L1252.37 1541.61 Q1254.45 1542.74 1256.67 1543.3 Q1258.9 1543.86 1261.37 1543.86 Q1265.38 1543.86 1267.71 1541.75 Q1270.05 1539.64 1270.05 1536.03 Q1270.05 1532.42 1267.71 1530.31 Q1265.38 1528.21 1261.37 1528.21 Q1259.5 1528.21 1257.62 1528.62 Q1255.77 1529.04 1253.83 1529.92 L1253.83 1512.56 Z\" fill=\"#000000\" fill-rule=\"evenodd\" fill-opacity=\"1\" /><path clip-path=\"url(#clip210)\" d=\"M1293.94 1515.64 Q1290.33 1515.64 1288.5 1519.2 Q1286.7 1522.75 1286.7 1529.87 Q1286.7 1536.98 1288.5 1540.55 Q1290.33 1544.09 1293.94 1544.09 Q1297.58 1544.09 1299.38 1540.55 Q1301.21 1536.98 1301.21 1529.87 Q1301.21 1522.75 1299.38 1519.2 Q1297.58 1515.64 1293.94 1515.64 M1293.94 1511.93 Q1299.75 1511.93 1302.81 1516.54 Q1305.89 1521.12 1305.89 1529.87 Q1305.89 1538.6 1302.81 1543.21 Q1299.75 1547.79 1293.94 1547.79 Q1288.13 1547.79 1285.05 1543.21 Q1282 1538.6 1282 1529.87 Q1282 1521.12 1285.05 1516.54 Q1288.13 1511.93 1293.94 1511.93 Z\" fill=\"#000000\" fill-rule=\"evenodd\" fill-opacity=\"1\" /><path clip-path=\"url(#clip210)\" d=\"M1737.95 1515.64 Q1734.34 1515.64 1732.51 1519.2 Q1730.7 1522.75 1730.7 1529.87 Q1730.7 1536.98 1732.51 1540.55 Q1734.34 1544.09 1737.95 1544.09 Q1741.58 1544.09 1743.39 1540.55 Q1745.22 1536.98 1745.22 1529.87 Q1745.22 1522.75 1743.39 1519.2 Q1741.58 1515.64 1737.95 1515.64 M1737.95 1511.93 Q1743.76 1511.93 1746.81 1516.54 Q1749.89 1521.12 1749.89 1529.87 Q1749.89 1538.6 1746.81 1543.21 Q1743.76 1547.79 1737.95 1547.79 Q1732.14 1547.79 1729.06 1543.21 Q1726 1538.6 1726 1529.87 Q1726 1521.12 1729.06 1516.54 Q1732.14 1511.93 1737.95 1511.93 Z\" fill=\"#000000\" fill-rule=\"evenodd\" fill-opacity=\"1\" /><path clip-path=\"url(#clip210)\" d=\"M1758.11 1541.24 L1762.99 1541.24 L1762.99 1547.12 L1758.11 1547.12 L1758.11 1541.24 Z\" fill=\"#000000\" fill-rule=\"evenodd\" fill-opacity=\"1\" /><path clip-path=\"url(#clip210)\" d=\"M1772 1512.56 L1794.22 1512.56 L1794.22 1514.55 L1781.68 1547.12 L1776.79 1547.12 L1788.6 1516.5 L1772 1516.5 L1772 1512.56 Z\" fill=\"#000000\" fill-rule=\"evenodd\" fill-opacity=\"1\" /><path clip-path=\"url(#clip210)\" d=\"M1803.39 1512.56 L1821.74 1512.56 L1821.74 1516.5 L1807.67 1516.5 L1807.67 1524.97 Q1808.69 1524.62 1809.71 1524.46 Q1810.73 1524.27 1811.74 1524.27 Q1817.53 1524.27 1820.91 1527.44 Q1824.29 1530.62 1824.29 1536.03 Q1824.29 1541.61 1820.82 1544.71 Q1817.35 1547.79 1811.03 1547.79 Q1808.85 1547.79 1806.58 1547.42 Q1804.34 1547.05 1801.93 1546.31 L1801.93 1541.61 Q1804.01 1542.74 1806.24 1543.3 Q1808.46 1543.86 1810.93 1543.86 Q1814.94 1543.86 1817.28 1541.75 Q1819.62 1539.64 1819.62 1536.03 Q1819.62 1532.42 1817.28 1530.31 Q1814.94 1528.21 1810.93 1528.21 Q1809.06 1528.21 1807.18 1528.62 Q1805.33 1529.04 1803.39 1529.92 L1803.39 1512.56 Z\" fill=\"#000000\" fill-rule=\"evenodd\" fill-opacity=\"1\" /><path clip-path=\"url(#clip210)\" d=\"M2246.12 1543.18 L2253.76 1543.18 L2253.76 1516.82 L2245.45 1518.49 L2245.45 1514.23 L2253.72 1512.56 L2258.39 1512.56 L2258.39 1543.18 L2266.03 1543.18 L2266.03 1547.12 L2246.12 1547.12 L2246.12 1543.18 Z\" fill=\"#000000\" fill-rule=\"evenodd\" fill-opacity=\"1\" /><path clip-path=\"url(#clip210)\" d=\"M2275.47 1541.24 L2280.36 1541.24 L2280.36 1547.12 L2275.47 1547.12 L2275.47 1541.24 Z\" fill=\"#000000\" fill-rule=\"evenodd\" fill-opacity=\"1\" /><path clip-path=\"url(#clip210)\" d=\"M2300.54 1515.64 Q2296.93 1515.64 2295.1 1519.2 Q2293.3 1522.75 2293.3 1529.87 Q2293.3 1536.98 2295.1 1540.55 Q2296.93 1544.09 2300.54 1544.09 Q2304.18 1544.09 2305.98 1540.55 Q2307.81 1536.98 2307.81 1529.87 Q2307.81 1522.75 2305.98 1519.2 Q2304.18 1515.64 2300.54 1515.64 M2300.54 1511.93 Q2306.35 1511.93 2309.41 1516.54 Q2312.49 1521.12 2312.49 1529.87 Q2312.49 1538.6 2309.41 1543.21 Q2306.35 1547.79 2300.54 1547.79 Q2294.73 1547.79 2291.65 1543.21 Q2288.6 1538.6 2288.6 1529.87 Q2288.6 1521.12 2291.65 1516.54 Q2294.73 1511.93 2300.54 1511.93 Z\" fill=\"#000000\" fill-rule=\"evenodd\" fill-opacity=\"1\" /><path clip-path=\"url(#clip210)\" d=\"M2330.71 1515.64 Q2327.09 1515.64 2325.27 1519.2 Q2323.46 1522.75 2323.46 1529.87 Q2323.46 1536.98 2325.27 1540.55 Q2327.09 1544.09 2330.71 1544.09 Q2334.34 1544.09 2336.15 1540.55 Q2337.97 1536.98 2337.97 1529.87 Q2337.97 1522.75 2336.15 1519.2 Q2334.34 1515.64 2330.71 1515.64 M2330.71 1511.93 Q2336.52 1511.93 2339.57 1516.54 Q2342.65 1521.12 2342.65 1529.87 Q2342.65 1538.6 2339.57 1543.21 Q2336.52 1547.79 2330.71 1547.79 Q2324.9 1547.79 2321.82 1543.21 Q2318.76 1538.6 2318.76 1529.87 Q2318.76 1521.12 2321.82 1516.54 Q2324.9 1511.93 2330.71 1511.93 Z\" fill=\"#000000\" fill-rule=\"evenodd\" fill-opacity=\"1\" /><polyline clip-path=\"url(#clip212)\" style=\"stroke:#000000; stroke-linecap:butt; stroke-linejoin:round; stroke-width:2; stroke-opacity:0.1; fill:none\" points=\"\n",
       "  156.274,1182.93 2352.76,1182.93 \n",
       "  \"/>\n",
       "<polyline clip-path=\"url(#clip212)\" style=\"stroke:#000000; stroke-linecap:butt; stroke-linejoin:round; stroke-width:2; stroke-opacity:0.1; fill:none\" points=\"\n",
       "  156.274,854.442 2352.76,854.442 \n",
       "  \"/>\n",
       "<polyline clip-path=\"url(#clip212)\" style=\"stroke:#000000; stroke-linecap:butt; stroke-linejoin:round; stroke-width:2; stroke-opacity:0.1; fill:none\" points=\"\n",
       "  156.274,525.957 2352.76,525.957 \n",
       "  \"/>\n",
       "<polyline clip-path=\"url(#clip212)\" style=\"stroke:#000000; stroke-linecap:butt; stroke-linejoin:round; stroke-width:2; stroke-opacity:0.1; fill:none\" points=\"\n",
       "  156.274,197.471 2352.76,197.471 \n",
       "  \"/>\n",
       "<polyline clip-path=\"url(#clip210)\" style=\"stroke:#000000; stroke-linecap:butt; stroke-linejoin:round; stroke-width:4; stroke-opacity:1; fill:none\" points=\"\n",
       "  156.274,1486.45 156.274,47.2441 \n",
       "  \"/>\n",
       "<polyline clip-path=\"url(#clip210)\" style=\"stroke:#000000; stroke-linecap:butt; stroke-linejoin:round; stroke-width:4; stroke-opacity:1; fill:none\" points=\"\n",
       "  156.274,1182.93 182.632,1182.93 \n",
       "  \"/>\n",
       "<polyline clip-path=\"url(#clip210)\" style=\"stroke:#000000; stroke-linecap:butt; stroke-linejoin:round; stroke-width:4; stroke-opacity:1; fill:none\" points=\"\n",
       "  156.274,854.442 182.632,854.442 \n",
       "  \"/>\n",
       "<polyline clip-path=\"url(#clip210)\" style=\"stroke:#000000; stroke-linecap:butt; stroke-linejoin:round; stroke-width:4; stroke-opacity:1; fill:none\" points=\"\n",
       "  156.274,525.957 182.632,525.957 \n",
       "  \"/>\n",
       "<polyline clip-path=\"url(#clip210)\" style=\"stroke:#000000; stroke-linecap:butt; stroke-linejoin:round; stroke-width:4; stroke-opacity:1; fill:none\" points=\"\n",
       "  156.274,197.471 182.632,197.471 \n",
       "  \"/>\n",
       "<path clip-path=\"url(#clip210)\" d=\"M63.0985 1168.73 Q59.4875 1168.73 57.6588 1172.29 Q55.8532 1175.83 55.8532 1182.96 Q55.8532 1190.07 57.6588 1193.63 Q59.4875 1197.18 63.0985 1197.18 Q66.7328 1197.18 68.5383 1193.63 Q70.367 1190.07 70.367 1182.96 Q70.367 1175.83 68.5383 1172.29 Q66.7328 1168.73 63.0985 1168.73 M63.0985 1165.02 Q68.9087 1165.02 71.9642 1169.63 Q75.0429 1174.21 75.0429 1182.96 Q75.0429 1191.69 71.9642 1196.3 Q68.9087 1200.88 63.0985 1200.88 Q57.2884 1200.88 54.2097 1196.3 Q51.1542 1191.69 51.1542 1182.96 Q51.1542 1174.21 54.2097 1169.63 Q57.2884 1165.02 63.0985 1165.02 Z\" fill=\"#000000\" fill-rule=\"evenodd\" fill-opacity=\"1\" /><path clip-path=\"url(#clip210)\" d=\"M83.2605 1194.33 L88.1447 1194.33 L88.1447 1200.21 L83.2605 1200.21 L83.2605 1194.33 Z\" fill=\"#000000\" fill-rule=\"evenodd\" fill-opacity=\"1\" /><path clip-path=\"url(#clip210)\" d=\"M108.33 1168.73 Q104.719 1168.73 102.89 1172.29 Q101.084 1175.83 101.084 1182.96 Q101.084 1190.07 102.89 1193.63 Q104.719 1197.18 108.33 1197.18 Q111.964 1197.18 113.77 1193.63 Q115.598 1190.07 115.598 1182.96 Q115.598 1175.83 113.77 1172.29 Q111.964 1168.73 108.33 1168.73 M108.33 1165.02 Q114.14 1165.02 117.195 1169.63 Q120.274 1174.21 120.274 1182.96 Q120.274 1191.69 117.195 1196.3 Q114.14 1200.88 108.33 1200.88 Q102.52 1200.88 99.4409 1196.3 Q96.3854 1191.69 96.3854 1182.96 Q96.3854 1174.21 99.4409 1169.63 Q102.52 1165.02 108.33 1165.02 Z\" fill=\"#000000\" fill-rule=\"evenodd\" fill-opacity=\"1\" /><path clip-path=\"url(#clip210)\" d=\"M63.7467 840.241 Q60.1356 840.241 58.3069 843.806 Q56.5014 847.347 56.5014 854.477 Q56.5014 861.583 58.3069 865.148 Q60.1356 868.69 63.7467 868.69 Q67.3809 868.69 69.1865 865.148 Q71.0152 861.583 71.0152 854.477 Q71.0152 847.347 69.1865 843.806 Q67.3809 840.241 63.7467 840.241 M63.7467 836.537 Q69.5568 836.537 72.6124 841.144 Q75.6911 845.727 75.6911 854.477 Q75.6911 863.204 72.6124 867.81 Q69.5568 872.393 63.7467 872.393 Q57.9365 872.393 54.8578 867.81 Q51.8023 863.204 51.8023 854.477 Q51.8023 845.727 54.8578 841.144 Q57.9365 836.537 63.7467 836.537 Z\" fill=\"#000000\" fill-rule=\"evenodd\" fill-opacity=\"1\" /><path clip-path=\"url(#clip210)\" d=\"M83.9086 865.842 L88.7928 865.842 L88.7928 871.722 L83.9086 871.722 L83.9086 865.842 Z\" fill=\"#000000\" fill-rule=\"evenodd\" fill-opacity=\"1\" /><path clip-path=\"url(#clip210)\" d=\"M113.145 853.088 Q116.501 853.806 118.376 856.074 Q120.274 858.343 120.274 861.676 Q120.274 866.792 116.756 869.592 Q113.237 872.393 106.756 872.393 Q104.58 872.393 102.265 871.954 Q99.9733 871.537 97.5197 870.68 L97.5197 866.167 Q99.4641 867.301 101.779 867.88 Q104.094 868.458 106.617 868.458 Q111.015 868.458 113.307 866.722 Q115.621 864.986 115.621 861.676 Q115.621 858.62 113.469 856.907 Q111.339 855.171 107.52 855.171 L103.492 855.171 L103.492 851.329 L107.705 851.329 Q111.154 851.329 112.983 849.963 Q114.811 848.574 114.811 845.981 Q114.811 843.319 112.913 841.907 Q111.038 840.472 107.52 840.472 Q105.598 840.472 103.399 840.889 Q101.2 841.306 98.5613 842.185 L98.5613 838.019 Q101.223 837.278 103.538 836.907 Q105.876 836.537 107.936 836.537 Q113.26 836.537 116.362 838.968 Q119.464 841.375 119.464 845.495 Q119.464 848.366 117.82 850.356 Q116.177 852.324 113.145 853.088 Z\" fill=\"#000000\" fill-rule=\"evenodd\" fill-opacity=\"1\" /><path clip-path=\"url(#clip210)\" d=\"M62.9365 511.755 Q59.3254 511.755 57.4967 515.32 Q55.6912 518.862 55.6912 525.991 Q55.6912 533.098 57.4967 536.663 Q59.3254 540.204 62.9365 540.204 Q66.5707 540.204 68.3763 536.663 Q70.205 533.098 70.205 525.991 Q70.205 518.862 68.3763 515.32 Q66.5707 511.755 62.9365 511.755 M62.9365 508.052 Q68.7467 508.052 71.8022 512.658 Q74.8809 517.242 74.8809 525.991 Q74.8809 534.718 71.8022 539.325 Q68.7467 543.908 62.9365 543.908 Q57.1264 543.908 54.0477 539.325 Q50.9921 534.718 50.9921 525.991 Q50.9921 517.242 54.0477 512.658 Q57.1264 508.052 62.9365 508.052 Z\" fill=\"#000000\" fill-rule=\"evenodd\" fill-opacity=\"1\" /><path clip-path=\"url(#clip210)\" d=\"M83.0984 537.357 L87.9827 537.357 L87.9827 543.237 L83.0984 543.237 L83.0984 537.357 Z\" fill=\"#000000\" fill-rule=\"evenodd\" fill-opacity=\"1\" /><path clip-path=\"url(#clip210)\" d=\"M108.746 524.093 Q105.598 524.093 103.746 526.246 Q101.918 528.399 101.918 532.149 Q101.918 535.876 103.746 538.052 Q105.598 540.204 108.746 540.204 Q111.895 540.204 113.723 538.052 Q115.575 535.876 115.575 532.149 Q115.575 528.399 113.723 526.246 Q111.895 524.093 108.746 524.093 M118.029 509.441 L118.029 513.7 Q116.27 512.867 114.464 512.427 Q112.682 511.987 110.922 511.987 Q106.293 511.987 103.839 515.112 Q101.409 518.237 101.061 524.556 Q102.427 522.542 104.487 521.478 Q106.547 520.39 109.024 520.39 Q114.233 520.39 117.242 523.561 Q120.274 526.709 120.274 532.149 Q120.274 537.473 117.126 540.69 Q113.978 543.908 108.746 543.908 Q102.751 543.908 99.5798 539.325 Q96.4085 534.718 96.4085 525.991 Q96.4085 517.797 100.297 512.936 Q104.186 508.052 110.737 508.052 Q112.496 508.052 114.279 508.399 Q116.084 508.746 118.029 509.441 Z\" fill=\"#000000\" fill-rule=\"evenodd\" fill-opacity=\"1\" /><path clip-path=\"url(#clip210)\" d=\"M63.2837 183.27 Q59.6726 183.27 57.8439 186.835 Q56.0384 190.377 56.0384 197.506 Q56.0384 204.613 57.8439 208.177 Q59.6726 211.719 63.2837 211.719 Q66.918 211.719 68.7235 208.177 Q70.5522 204.613 70.5522 197.506 Q70.5522 190.377 68.7235 186.835 Q66.918 183.27 63.2837 183.27 M63.2837 179.566 Q69.0939 179.566 72.1494 184.173 Q75.2281 188.756 75.2281 197.506 Q75.2281 206.233 72.1494 210.839 Q69.0939 215.423 63.2837 215.423 Q57.4736 215.423 54.3949 210.839 Q51.3393 206.233 51.3393 197.506 Q51.3393 188.756 54.3949 184.173 Q57.4736 179.566 63.2837 179.566 Z\" fill=\"#000000\" fill-rule=\"evenodd\" fill-opacity=\"1\" /><path clip-path=\"url(#clip210)\" d=\"M83.4457 208.872 L88.3299 208.872 L88.3299 214.751 L83.4457 214.751 L83.4457 208.872 Z\" fill=\"#000000\" fill-rule=\"evenodd\" fill-opacity=\"1\" /><path clip-path=\"url(#clip210)\" d=\"M98.6539 214.034 L98.6539 209.775 Q100.413 210.608 102.219 211.048 Q104.024 211.488 105.76 211.488 Q110.39 211.488 112.82 208.386 Q115.274 205.261 115.621 198.918 Q114.279 200.909 112.219 201.974 Q110.158 203.038 107.658 203.038 Q102.473 203.038 99.4409 199.914 Q96.4317 196.765 96.4317 191.326 Q96.4317 186.002 99.5798 182.784 Q102.728 179.566 107.959 179.566 Q113.955 179.566 117.103 184.173 Q120.274 188.756 120.274 197.506 Q120.274 205.677 116.385 210.562 Q112.52 215.423 105.969 215.423 Q104.209 215.423 102.404 215.075 Q100.598 214.728 98.6539 214.034 M107.959 199.381 Q111.108 199.381 112.936 197.228 Q114.788 195.076 114.788 191.326 Q114.788 187.599 112.936 185.446 Q111.108 183.27 107.959 183.27 Q104.811 183.27 102.959 185.446 Q101.131 187.599 101.131 191.326 Q101.131 195.076 102.959 197.228 Q104.811 199.381 107.959 199.381 Z\" fill=\"#000000\" fill-rule=\"evenodd\" fill-opacity=\"1\" /><polyline clip-path=\"url(#clip212)\" style=\"stroke:#009af9; stroke-linecap:butt; stroke-linejoin:round; stroke-width:4; stroke-opacity:1; fill:none\" points=\"\n",
       "  218.439,1182.93 221.898,1182.93 225.357,1182.93 228.817,1182.93 232.276,1182.93 235.736,1182.93 239.195,1182.93 242.654,1182.93 246.114,1182.93 249.573,1182.93 \n",
       "  253.032,1182.93 256.492,1182.93 259.951,1182.93 263.41,1182.93 266.87,1182.93 270.329,1182.93 273.788,1182.93 277.248,1182.93 280.707,1182.93 284.166,1182.93 \n",
       "  287.626,1182.93 291.085,1182.93 294.545,1182.93 298.004,1182.93 301.463,1182.93 304.923,1182.93 308.382,1182.93 311.841,1182.93 315.301,1182.93 318.76,1182.93 \n",
       "  322.219,1182.93 325.679,1182.93 329.138,1182.93 332.597,1182.93 336.057,1182.93 339.516,1182.93 342.975,1182.93 346.435,1182.93 349.894,1182.93 353.354,1182.93 \n",
       "  356.813,1182.93 360.272,1182.93 363.732,1182.93 367.191,1182.93 370.65,1182.93 374.11,1182.93 377.569,1182.93 381.028,1182.93 384.488,1182.93 387.947,1182.93 \n",
       "  391.406,1182.93 394.866,1182.93 398.325,1182.93 401.784,1182.93 405.244,1182.93 408.703,1182.93 412.163,1182.93 415.622,1182.93 419.081,1182.93 422.541,1182.93 \n",
       "  426,1182.93 429.459,1182.93 432.919,1182.93 436.378,1182.93 439.837,1182.93 443.297,1182.93 446.756,1182.93 450.215,1182.93 453.675,1182.93 457.134,1182.93 \n",
       "  460.593,1182.93 464.053,1182.93 467.512,1182.93 470.972,1182.93 474.431,1182.93 477.89,1182.93 481.35,1182.93 484.809,1182.93 488.268,1182.93 491.728,1182.93 \n",
       "  495.187,1182.93 498.646,1182.93 502.106,1182.93 505.565,1182.93 509.024,1182.93 512.484,1182.93 515.943,1182.93 519.402,1182.93 522.862,1182.93 526.321,1182.93 \n",
       "  529.781,1182.93 533.24,1182.93 536.699,1182.93 540.159,1182.93 543.618,1182.93 547.077,1182.93 550.537,1182.93 553.996,1182.93 557.455,1182.93 560.915,1182.93 \n",
       "  564.374,1182.93 567.833,1182.93 571.293,1182.93 574.752,1182.93 578.211,1182.93 581.671,1182.93 585.13,1182.93 588.59,1182.93 592.049,1182.93 595.508,1182.93 \n",
       "  598.968,1182.93 602.427,1182.93 605.886,1182.93 609.346,1182.93 612.805,1182.93 616.264,1182.93 619.724,1182.93 623.183,1182.93 626.642,1182.93 630.102,1182.93 \n",
       "  633.561,1182.93 637.02,1182.93 640.48,1182.93 643.939,1182.93 647.399,1182.93 650.858,1182.93 654.317,1182.93 657.777,1182.93 661.236,1182.93 664.695,1182.93 \n",
       "  668.155,1182.93 671.614,1182.93 675.073,1182.93 678.533,1182.93 681.992,1182.93 685.451,1182.93 688.911,1182.93 692.37,1182.93 695.829,1182.93 699.289,1182.93 \n",
       "  702.748,1182.93 706.208,1182.93 709.667,1182.93 713.126,1182.93 716.586,1182.93 720.045,1182.93 723.504,1182.93 726.964,1182.93 730.423,1182.93 733.882,1182.93 \n",
       "  737.342,1182.93 740.801,1182.93 744.26,1182.93 747.72,1182.93 751.179,1182.93 754.638,1182.93 758.098,1182.93 761.557,1182.93 765.017,1182.93 768.476,1182.93 \n",
       "  771.935,1182.93 775.395,1182.93 778.854,1182.93 782.313,1182.93 785.773,1182.93 789.232,1182.93 792.691,1182.93 796.151,1182.93 799.61,1182.93 803.069,1182.93 \n",
       "  806.529,1182.93 809.988,1182.93 813.447,1182.93 816.907,1182.93 820.366,1182.93 823.826,1182.93 827.285,1182.93 830.744,1182.93 834.204,1182.93 837.663,1182.93 \n",
       "  841.122,1182.93 844.582,1182.93 848.041,1182.93 851.5,1182.93 854.96,1182.93 858.419,1182.93 861.878,1182.93 865.338,1182.93 868.797,1182.93 872.257,1182.93 \n",
       "  875.716,1182.93 879.175,1182.93 882.635,1182.93 886.094,1182.93 889.553,1182.93 893.013,1182.93 896.472,1182.93 899.931,1182.93 903.391,1182.93 906.85,1182.93 \n",
       "  910.309,1182.93 913.769,1182.93 917.228,1182.93 920.687,1182.93 924.147,1182.93 927.606,1182.93 931.066,1182.93 934.525,1182.93 937.984,1182.93 941.444,1182.93 \n",
       "  944.903,1182.93 948.362,1182.93 951.822,1182.93 955.281,1182.93 958.74,1182.93 962.2,1182.93 965.659,1182.93 969.118,1182.93 972.578,1182.93 976.037,1182.93 \n",
       "  979.496,1182.93 982.956,1182.93 986.415,1182.93 989.875,1182.93 993.334,1182.93 996.793,1182.93 1000.25,1182.93 1003.71,1182.93 1007.17,1182.93 1010.63,1182.93 \n",
       "  1014.09,1182.93 1017.55,1182.93 1021.01,1182.93 1024.47,1182.93 1027.93,1182.93 1031.39,1182.93 1034.85,1182.93 1038.31,1182.93 1041.76,1182.93 1045.22,1182.93 \n",
       "  1048.68,1182.93 1052.14,87.9763 1055.6,87.9763 1059.06,87.9763 1062.52,87.9763 1065.98,87.9763 1069.44,87.9763 1072.9,87.9763 1076.36,87.9763 1079.82,87.9763 \n",
       "  1083.28,87.9763 1086.74,87.9763 1090.2,87.9763 1093.66,87.9763 1097.11,87.9763 1100.57,87.9763 1104.03,87.9763 1107.49,87.9763 1110.95,87.9763 1114.41,87.9763 \n",
       "  1117.87,87.9763 1121.33,87.9763 1124.79,87.9763 1128.25,87.9763 1131.71,87.9763 1135.17,87.9763 1138.63,87.9763 1142.09,87.9763 1145.55,87.9763 1149,87.9763 \n",
       "  1152.46,87.9763 1155.92,87.9763 1159.38,87.9763 1162.84,87.9763 1166.3,87.9763 1169.76,87.9763 1173.22,87.9763 1176.68,87.9763 1180.14,87.9763 1183.6,87.9763 \n",
       "  1187.06,87.9763 1190.52,87.9763 1193.98,87.9763 1197.44,87.9763 1200.9,87.9763 1204.35,87.9763 1207.81,87.9763 1211.27,87.9763 1214.73,87.9763 1218.19,87.9763 \n",
       "  1221.65,87.9763 1225.11,87.9763 1228.57,87.9763 1232.03,87.9763 1235.49,87.9763 1238.95,87.9763 1242.41,87.9763 1245.87,87.9763 1249.33,87.9763 1252.79,87.9763 \n",
       "  1256.24,87.9763 1259.7,87.9763 1263.16,87.9763 1266.62,87.9763 1270.08,87.9763 1273.54,87.9763 1277,87.9763 1280.46,87.9763 1283.92,87.9763 1287.38,87.9763 \n",
       "  1290.84,87.9763 1294.3,87.9763 1297.76,87.9763 1301.22,87.9763 1304.68,87.9763 1308.14,87.9763 1311.59,87.9763 1315.05,87.9763 1318.51,87.9763 1321.97,87.9763 \n",
       "  1325.43,87.9763 1328.89,87.9763 1332.35,87.9763 1335.81,87.9763 1339.27,87.9763 1342.73,87.9763 1346.19,87.9763 1349.65,87.9763 1353.11,87.9763 1356.57,87.9763 \n",
       "  1360.03,87.9763 1363.48,87.9763 1366.94,87.9763 1370.4,87.9763 1373.86,87.9763 1377.32,87.9763 1380.78,87.9763 1384.24,87.9763 1387.7,87.9763 1391.16,87.9763 \n",
       "  1394.62,87.9763 1398.08,87.9763 1401.54,87.9763 1405,87.9763 1408.46,87.9763 1411.92,87.9763 1415.37,87.9763 1418.83,87.9763 1422.29,87.9763 1425.75,87.9763 \n",
       "  1429.21,87.9763 1432.67,87.9763 1436.13,87.9763 1439.59,87.9763 1443.05,87.9763 1446.51,87.9763 1449.97,87.9763 1453.43,87.9763 1456.89,87.9763 1460.35,87.9763 \n",
       "  1463.81,1182.93 1467.27,1182.93 1470.72,1182.93 1474.18,1182.93 1477.64,1182.93 1481.1,1182.93 1484.56,1182.93 1488.02,1182.93 1491.48,1182.93 1494.94,1182.93 \n",
       "  1498.4,1182.93 1501.86,1182.93 1505.32,1182.93 1508.78,1182.93 1512.24,1182.93 1515.7,1182.93 1519.16,1182.93 1522.61,1182.93 1526.07,1182.93 1529.53,1182.93 \n",
       "  1532.99,1182.93 1536.45,1182.93 1539.91,1182.93 1543.37,1182.93 1546.83,1182.93 1550.29,1182.93 1553.75,1182.93 1557.21,1182.93 1560.67,1182.93 1564.13,1182.93 \n",
       "  1567.59,1182.93 1571.05,1182.93 1574.51,1182.93 1577.96,1182.93 1581.42,1182.93 1584.88,1182.93 1588.34,1182.93 1591.8,1182.93 1595.26,1182.93 1598.72,1182.93 \n",
       "  1602.18,1182.93 1605.64,1182.93 1609.1,1182.93 1612.56,1182.93 1616.02,1182.93 1619.48,1182.93 1622.94,1182.93 1626.4,1182.93 1629.85,1182.93 1633.31,1182.93 \n",
       "  1636.77,1182.93 1640.23,1182.93 1643.69,1182.93 1647.15,1182.93 1650.61,1182.93 1654.07,1182.93 1657.53,1182.93 1660.99,1182.93 1664.45,1182.93 1667.91,1182.93 \n",
       "  1671.37,1182.93 1674.83,1182.93 1678.29,1182.93 1681.75,1182.93 1685.2,1182.93 1688.66,1182.93 1692.12,1182.93 1695.58,1182.93 1699.04,1182.93 1702.5,1182.93 \n",
       "  1705.96,1182.93 1709.42,1182.93 1712.88,1182.93 1716.34,1182.93 1719.8,1182.93 1723.26,1182.93 1726.72,1182.93 1730.18,1182.93 1733.64,1182.93 1737.09,1182.93 \n",
       "  1740.55,1182.93 1744.01,1182.93 1747.47,1182.93 1750.93,1182.93 1754.39,1182.93 1757.85,1182.93 1761.31,1182.93 1764.77,1182.93 1768.23,1182.93 1771.69,1182.93 \n",
       "  1775.15,1182.93 1778.61,1182.93 1782.07,1182.93 1785.53,1182.93 1788.99,1182.93 1792.44,1182.93 1795.9,1182.93 1799.36,1182.93 1802.82,1182.93 1806.28,1182.93 \n",
       "  1809.74,1182.93 1813.2,1182.93 1816.66,1182.93 1820.12,1182.93 1823.58,1182.93 1827.04,1182.93 1830.5,1182.93 1833.96,1182.93 1837.42,1182.93 1840.88,1182.93 \n",
       "  1844.33,1182.93 1847.79,1182.93 1851.25,1182.93 1854.71,1182.93 1858.17,1182.93 1861.63,1182.93 1865.09,1182.93 1868.55,1182.93 1872.01,1182.93 1875.47,1182.93 \n",
       "  1878.93,1182.93 1882.39,1182.93 1885.85,1182.93 1889.31,1182.93 1892.77,1182.93 1896.23,1182.93 1899.68,1182.93 1903.14,1182.93 1906.6,1182.93 1910.06,1182.93 \n",
       "  1913.52,1182.93 1916.98,1182.93 1920.44,1182.93 1923.9,1182.93 1927.36,1182.93 1930.82,1182.93 1934.28,1182.93 1937.74,1182.93 1941.2,1182.93 1944.66,1182.93 \n",
       "  1948.12,1182.93 1951.57,1182.93 1955.03,1182.93 1958.49,1182.93 1961.95,1182.93 1965.41,1182.93 1968.87,1182.93 1972.33,1182.93 1975.79,1182.93 1979.25,1182.93 \n",
       "  1982.71,1182.93 1986.17,1182.93 1989.63,1182.93 1993.09,1182.93 1996.55,1182.93 2000.01,1182.93 2003.47,1182.93 2006.92,1182.93 2010.38,1182.93 2013.84,1182.93 \n",
       "  2017.3,1182.93 2020.76,1182.93 2024.22,1182.93 2027.68,1182.93 2031.14,1182.93 2034.6,1182.93 2038.06,1182.93 2041.52,1182.93 2044.98,1182.93 2048.44,1182.93 \n",
       "  2051.9,1182.93 2055.36,1182.93 2058.81,1182.93 2062.27,1182.93 2065.73,1182.93 2069.19,1182.93 2072.65,1182.93 2076.11,1182.93 2079.57,1182.93 2083.03,1182.93 \n",
       "  2086.49,1182.93 2089.95,1182.93 2093.41,1182.93 2096.87,1182.93 2100.33,1182.93 2103.79,1182.93 2107.25,1182.93 2110.7,1182.93 2114.16,1182.93 2117.62,1182.93 \n",
       "  2121.08,1182.93 2124.54,1182.93 2128,1182.93 2131.46,1182.93 2134.92,1182.93 2138.38,1182.93 2141.84,1182.93 2145.3,1182.93 2148.76,1182.93 2152.22,1182.93 \n",
       "  2155.68,1182.93 2159.14,1182.93 2162.6,1182.93 2166.05,1182.93 2169.51,1182.93 2172.97,1182.93 2176.43,1182.93 2179.89,1182.93 2183.35,1182.93 2186.81,1182.93 \n",
       "  2190.27,1182.93 2193.73,1182.93 2197.19,1182.93 2200.65,1182.93 2204.11,1182.93 2207.57,1182.93 2211.03,1182.93 2214.49,1182.93 2217.94,1182.93 2221.4,1182.93 \n",
       "  2224.86,1182.93 2228.32,1182.93 2231.78,1182.93 2235.24,1182.93 2238.7,1182.93 2242.16,1182.93 2245.62,1182.93 2249.08,1182.93 2252.54,1182.93 2256,1182.93 \n",
       "  2259.46,1182.93 2262.92,1182.93 2266.38,1182.93 2269.84,1182.93 2273.29,1182.93 2276.75,1182.93 2280.21,1182.93 2283.67,1182.93 2287.13,1182.93 2290.59,1182.93 \n",
       "  \n",
       "  \"/>\n",
       "<polyline clip-path=\"url(#clip212)\" style=\"stroke:#e26f46; stroke-linecap:butt; stroke-linejoin:round; stroke-width:4; stroke-opacity:1; fill:none\" points=\"\n",
       "  218.439,1365.42 221.898,1365.42 225.357,1365.42 228.817,1365.42 232.276,1365.42 235.736,1365.42 239.195,1365.42 242.654,1365.42 246.114,1365.42 249.573,1365.42 \n",
       "  253.032,1365.42 256.492,1365.42 259.951,1365.42 263.41,1365.42 266.87,1365.42 270.329,1365.42 273.788,1365.42 277.248,1365.42 280.707,1365.42 284.166,1365.42 \n",
       "  287.626,1365.42 291.085,1365.42 294.545,1365.42 298.004,1365.42 301.463,1365.42 304.923,1365.42 308.382,1365.42 311.841,1365.42 315.301,1365.42 318.76,1365.42 \n",
       "  322.219,1365.42 325.679,1365.42 329.138,1365.42 332.597,1365.42 336.057,1365.42 339.516,1365.42 342.975,1365.42 346.435,1365.42 349.894,1365.42 353.354,1365.42 \n",
       "  356.813,1365.42 360.272,1365.42 363.732,1365.42 367.191,1365.42 370.65,1365.42 374.11,1365.42 377.569,1365.42 381.028,1365.42 384.488,1365.42 387.947,1365.42 \n",
       "  391.406,1365.42 394.866,1365.42 398.325,1365.42 401.784,1365.42 405.244,1365.42 408.703,1365.42 412.163,1365.42 415.622,1365.42 419.081,1365.42 422.541,1365.42 \n",
       "  426,1365.42 429.459,1365.42 432.919,1365.42 436.378,1365.42 439.837,1365.42 443.297,1365.42 446.756,1365.42 450.215,1365.42 453.675,1365.42 457.134,1365.42 \n",
       "  460.593,1365.42 464.053,1365.42 467.512,1365.42 470.972,1365.42 474.431,1365.42 477.89,1365.42 481.35,1365.42 484.809,1365.42 488.268,1365.42 491.728,1365.42 \n",
       "  495.187,1365.42 498.646,1365.42 502.106,1365.42 505.565,1365.42 509.024,1365.42 512.484,1365.42 515.943,1365.42 519.402,1365.42 522.862,1365.42 526.321,1365.42 \n",
       "  529.781,1365.42 533.24,1365.42 536.699,1365.42 540.159,1365.42 543.618,1365.42 547.077,1365.42 550.537,1365.42 553.996,1365.42 557.455,1365.42 560.915,1365.42 \n",
       "  564.374,1365.42 567.833,1365.42 571.293,1365.42 574.752,1365.42 578.211,1365.42 581.671,1365.42 585.13,1365.42 588.59,1365.42 592.049,1365.42 595.508,1365.42 \n",
       "  598.968,1365.42 602.427,1365.42 605.886,1365.42 609.346,1365.42 612.805,1365.42 616.264,1365.42 619.724,1365.42 623.183,1365.42 626.642,1365.42 630.102,1365.42 \n",
       "  633.561,1365.42 637.02,1365.42 640.48,1365.42 643.939,1365.42 647.399,1365.42 650.858,1365.42 654.317,1365.42 657.777,1365.42 661.236,1365.42 664.695,1365.42 \n",
       "  668.155,1365.42 671.614,1365.42 675.073,1365.42 678.533,1365.42 681.992,1365.42 685.451,1365.42 688.911,1365.42 692.37,1365.42 695.829,1365.42 699.289,1365.42 \n",
       "  702.748,1365.42 706.208,1365.42 709.667,1365.42 713.126,1365.42 716.586,1365.42 720.045,1365.42 723.504,1365.42 726.964,1365.42 730.423,1365.42 733.882,1365.42 \n",
       "  737.342,1365.42 740.801,1365.42 744.26,1365.42 747.72,1365.42 751.179,1365.42 754.638,1365.42 758.098,1365.42 761.557,1365.42 765.017,1365.42 768.476,1365.42 \n",
       "  771.935,1365.42 775.395,1365.42 778.854,1365.42 782.313,1365.42 785.773,1365.42 789.232,1365.42 792.691,1365.42 796.151,1365.42 799.61,1365.42 803.069,1365.42 \n",
       "  806.529,1365.42 809.988,1365.42 813.447,1365.42 816.907,1365.42 820.366,1365.42 823.826,1365.42 827.285,1365.42 830.744,1365.42 834.204,1365.42 837.663,1365.42 \n",
       "  841.122,1365.42 844.582,1365.42 848.041,1365.42 851.5,1365.42 854.96,1365.42 858.419,1365.42 861.878,1365.42 865.338,1365.42 868.797,1365.42 872.257,1365.42 \n",
       "  875.716,1365.42 879.175,1365.42 882.635,1365.42 886.094,1365.42 889.553,1365.42 893.013,1365.42 896.472,1365.42 899.931,1365.42 903.391,1365.42 906.85,1365.42 \n",
       "  910.309,1365.42 913.769,1365.42 917.228,1365.42 920.687,1365.42 924.147,1365.42 927.606,1365.42 931.066,1365.42 934.525,1365.42 937.984,1365.42 941.444,1365.42 \n",
       "  944.903,1365.42 948.362,1365.42 951.822,1365.42 955.281,1365.42 958.74,1365.42 962.2,1365.42 965.659,1365.42 969.118,1365.42 972.578,1365.42 976.037,1365.42 \n",
       "  979.496,1365.42 982.956,1365.42 986.415,1365.42 989.875,1365.42 993.334,1365.42 996.793,1365.42 1000.25,1365.42 1003.71,1365.42 1007.17,1365.42 1010.63,1365.42 \n",
       "  1014.09,1365.42 1017.55,1365.42 1021.01,1365.42 1024.47,1365.42 1027.93,1365.42 1031.39,1365.42 1034.85,1365.42 1038.31,1365.42 1041.76,1365.42 1045.22,1365.42 \n",
       "  1048.68,1365.42 1052.14,1445.72 1055.6,1445.72 1059.06,1445.72 1062.52,1445.72 1065.98,1445.72 1069.44,1445.72 1072.9,1445.72 1076.36,1445.72 1079.82,1445.72 \n",
       "  1083.28,1445.72 1086.74,1445.72 1090.2,1445.72 1093.66,1445.72 1097.11,1445.72 1100.57,1445.72 1104.03,1445.72 1107.49,1445.72 1110.95,1445.72 1114.41,1445.72 \n",
       "  1117.87,1445.72 1121.33,1445.72 1124.79,1445.72 1128.25,1445.72 1131.71,1445.72 1135.17,1445.72 1138.63,1445.72 1142.09,1445.72 1145.55,1445.72 1149,1445.72 \n",
       "  1152.46,1445.72 1155.92,1445.72 1159.38,1445.72 1162.84,1445.72 1166.3,1445.72 1169.76,1445.72 1173.22,1445.72 1176.68,1445.72 1180.14,1445.72 1183.6,1445.72 \n",
       "  1187.06,1445.72 1190.52,1445.72 1193.98,1445.72 1197.44,1445.72 1200.9,1445.72 1204.35,1445.72 1207.81,1445.72 1211.27,1445.72 1214.73,1445.72 1218.19,1445.72 \n",
       "  1221.65,1445.72 1225.11,1445.72 1228.57,1445.72 1232.03,1445.72 1235.49,1445.72 1238.95,1445.72 1242.41,1445.72 1245.87,1445.72 1249.33,1445.72 1252.79,1445.72 \n",
       "  1256.24,1445.72 1259.7,1445.72 1263.16,1445.72 1266.62,1445.72 1270.08,1445.72 1273.54,1445.72 1277,1445.72 1280.46,1445.72 1283.92,1445.72 1287.38,1445.72 \n",
       "  1290.84,1445.72 1294.3,1445.72 1297.76,1445.72 1301.22,1445.72 1304.68,1445.72 1308.14,1445.72 1311.59,1445.72 1315.05,1445.72 1318.51,1445.72 1321.97,1445.72 \n",
       "  1325.43,1445.72 1328.89,1445.72 1332.35,1445.72 1335.81,1445.72 1339.27,1445.72 1342.73,1445.72 1346.19,1445.72 1349.65,1445.72 1353.11,1445.72 1356.57,1445.72 \n",
       "  1360.03,1445.72 1363.48,1445.72 1366.94,1445.72 1370.4,1445.72 1373.86,1445.72 1377.32,1445.72 1380.78,1445.72 1384.24,1445.72 1387.7,1445.72 1391.16,1445.72 \n",
       "  1394.62,1445.72 1398.08,1445.72 1401.54,1445.72 1405,1445.72 1408.46,1445.72 1411.92,1445.72 1415.37,1445.72 1418.83,1445.72 1422.29,1445.72 1425.75,1445.72 \n",
       "  1429.21,1445.72 1432.67,1445.72 1436.13,1445.72 1439.59,1445.72 1443.05,1445.72 1446.51,1445.72 1449.97,1445.72 1453.43,1445.72 1456.89,1445.72 1460.35,1445.72 \n",
       "  1463.81,1365.42 1467.27,1365.42 1470.72,1365.42 1474.18,1365.42 1477.64,1365.42 1481.1,1365.42 1484.56,1365.42 1488.02,1365.42 1491.48,1365.42 1494.94,1365.42 \n",
       "  1498.4,1365.42 1501.86,1365.42 1505.32,1365.42 1508.78,1365.42 1512.24,1365.42 1515.7,1365.42 1519.16,1365.42 1522.61,1365.42 1526.07,1365.42 1529.53,1365.42 \n",
       "  1532.99,1365.42 1536.45,1365.42 1539.91,1365.42 1543.37,1365.42 1546.83,1365.42 1550.29,1365.42 1553.75,1365.42 1557.21,1365.42 1560.67,1365.42 1564.13,1365.42 \n",
       "  1567.59,1365.42 1571.05,1365.42 1574.51,1365.42 1577.96,1365.42 1581.42,1365.42 1584.88,1365.42 1588.34,1365.42 1591.8,1365.42 1595.26,1365.42 1598.72,1365.42 \n",
       "  1602.18,1365.42 1605.64,1365.42 1609.1,1365.42 1612.56,1365.42 1616.02,1365.42 1619.48,1365.42 1622.94,1365.42 1626.4,1365.42 1629.85,1365.42 1633.31,1365.42 \n",
       "  1636.77,1365.42 1640.23,1365.42 1643.69,1365.42 1647.15,1365.42 1650.61,1365.42 1654.07,1365.42 1657.53,1365.42 1660.99,1365.42 1664.45,1365.42 1667.91,1365.42 \n",
       "  1671.37,1365.42 1674.83,1365.42 1678.29,1365.42 1681.75,1365.42 1685.2,1365.42 1688.66,1365.42 1692.12,1365.42 1695.58,1365.42 1699.04,1365.42 1702.5,1365.42 \n",
       "  1705.96,1365.42 1709.42,1365.42 1712.88,1365.42 1716.34,1365.42 1719.8,1365.42 1723.26,1365.42 1726.72,1365.42 1730.18,1365.42 1733.64,1365.42 1737.09,1365.42 \n",
       "  1740.55,1365.42 1744.01,1365.42 1747.47,1365.42 1750.93,1365.42 1754.39,1365.42 1757.85,1365.42 1761.31,1365.42 1764.77,1365.42 1768.23,1365.42 1771.69,1365.42 \n",
       "  1775.15,1365.42 1778.61,1365.42 1782.07,1365.42 1785.53,1365.42 1788.99,1365.42 1792.44,1365.42 1795.9,1365.42 1799.36,1365.42 1802.82,1365.42 1806.28,1365.42 \n",
       "  1809.74,1365.42 1813.2,1365.42 1816.66,1365.42 1820.12,1365.42 1823.58,1365.42 1827.04,1365.42 1830.5,1365.42 1833.96,1365.42 1837.42,1365.42 1840.88,1365.42 \n",
       "  1844.33,1365.42 1847.79,1365.42 1851.25,1365.42 1854.71,1365.42 1858.17,1365.42 1861.63,1365.42 1865.09,1365.42 1868.55,1365.42 1872.01,1365.42 1875.47,1365.42 \n",
       "  1878.93,1365.42 1882.39,1365.42 1885.85,1365.42 1889.31,1365.42 1892.77,1365.42 1896.23,1365.42 1899.68,1365.42 1903.14,1365.42 1906.6,1365.42 1910.06,1365.42 \n",
       "  1913.52,1365.42 1916.98,1365.42 1920.44,1365.42 1923.9,1365.42 1927.36,1365.42 1930.82,1365.42 1934.28,1365.42 1937.74,1365.42 1941.2,1365.42 1944.66,1365.42 \n",
       "  1948.12,1365.42 1951.57,1365.42 1955.03,1365.42 1958.49,1365.42 1961.95,1365.42 1965.41,1365.42 1968.87,1365.42 1972.33,1365.42 1975.79,1365.42 1979.25,1365.42 \n",
       "  1982.71,1365.42 1986.17,1365.42 1989.63,1365.42 1993.09,1365.42 1996.55,1365.42 2000.01,1365.42 2003.47,1365.42 2006.92,1365.42 2010.38,1365.42 2013.84,1365.42 \n",
       "  2017.3,1365.42 2020.76,1365.42 2024.22,1365.42 2027.68,1365.42 2031.14,1365.42 2034.6,1365.42 2038.06,1365.42 2041.52,1365.42 2044.98,1365.42 2048.44,1365.42 \n",
       "  2051.9,1365.42 2055.36,1365.42 2058.81,1365.42 2062.27,1365.42 2065.73,1365.42 2069.19,1365.42 2072.65,1365.42 2076.11,1365.42 2079.57,1365.42 2083.03,1365.42 \n",
       "  2086.49,1365.42 2089.95,1365.42 2093.41,1365.42 2096.87,1365.42 2100.33,1365.42 2103.79,1365.42 2107.25,1365.42 2110.7,1365.42 2114.16,1365.42 2117.62,1365.42 \n",
       "  2121.08,1365.42 2124.54,1365.42 2128,1365.42 2131.46,1365.42 2134.92,1365.42 2138.38,1365.42 2141.84,1365.42 2145.3,1365.42 2148.76,1365.42 2152.22,1365.42 \n",
       "  2155.68,1365.42 2159.14,1365.42 2162.6,1365.42 2166.05,1365.42 2169.51,1365.42 2172.97,1365.42 2176.43,1365.42 2179.89,1365.42 2183.35,1365.42 2186.81,1365.42 \n",
       "  2190.27,1365.42 2193.73,1365.42 2197.19,1365.42 2200.65,1365.42 2204.11,1365.42 2207.57,1365.42 2211.03,1365.42 2214.49,1365.42 2217.94,1365.42 2221.4,1365.42 \n",
       "  2224.86,1365.42 2228.32,1365.42 2231.78,1365.42 2235.24,1365.42 2238.7,1365.42 2242.16,1365.42 2245.62,1365.42 2249.08,1365.42 2252.54,1365.42 2256,1365.42 \n",
       "  2259.46,1365.42 2262.92,1365.42 2266.38,1365.42 2269.84,1365.42 2273.29,1365.42 2276.75,1365.42 2280.21,1365.42 2283.67,1365.42 2287.13,1365.42 2290.59,1365.42 \n",
       "  \n",
       "  \"/>\n",
       "<path clip-path=\"url(#clip210)\" d=\"\n",
       "M1983.06 276.658 L2279.54 276.658 L2279.54 95.2176 L1983.06 95.2176  Z\n",
       "  \" fill=\"#ffffff\" fill-rule=\"evenodd\" fill-opacity=\"1\"/>\n",
       "<polyline clip-path=\"url(#clip210)\" style=\"stroke:#000000; stroke-linecap:butt; stroke-linejoin:round; stroke-width:4; stroke-opacity:1; fill:none\" points=\"\n",
       "  1983.06,276.658 2279.54,276.658 2279.54,95.2176 1983.06,95.2176 1983.06,276.658 \n",
       "  \"/>\n",
       "<polyline clip-path=\"url(#clip210)\" style=\"stroke:#009af9; stroke-linecap:butt; stroke-linejoin:round; stroke-width:4; stroke-opacity:1; fill:none\" points=\"\n",
       "  2007.46,155.698 2153.89,155.698 \n",
       "  \"/>\n",
       "<path clip-path=\"url(#clip210)\" d=\"M2192.14 175.385 Q2190.34 180.015 2188.62 181.427 Q2186.91 182.839 2184.04 182.839 L2180.64 182.839 L2180.64 179.274 L2183.14 179.274 Q2184.9 179.274 2185.87 178.44 Q2186.84 177.607 2188.02 174.505 L2188.78 172.561 L2178.3 147.052 L2182.81 147.052 L2190.91 167.329 L2199.02 147.052 L2203.53 147.052 L2192.14 175.385 Z\" fill=\"#000000\" fill-rule=\"evenodd\" fill-opacity=\"1\" /><path clip-path=\"url(#clip210)\" d=\"M2210.82 169.042 L2218.46 169.042 L2218.46 142.677 L2210.15 144.343 L2210.15 140.084 L2218.41 138.418 L2223.09 138.418 L2223.09 169.042 L2230.73 169.042 L2230.73 172.978 L2210.82 172.978 L2210.82 169.042 Z\" fill=\"#000000\" fill-rule=\"evenodd\" fill-opacity=\"1\" /><polyline clip-path=\"url(#clip210)\" style=\"stroke:#e26f46; stroke-linecap:butt; stroke-linejoin:round; stroke-width:4; stroke-opacity:1; fill:none\" points=\"\n",
       "  2007.46,216.178 2153.89,216.178 \n",
       "  \"/>\n",
       "<path clip-path=\"url(#clip210)\" d=\"M2192.14 235.865 Q2190.34 240.495 2188.62 241.907 Q2186.91 243.319 2184.04 243.319 L2180.64 243.319 L2180.64 239.754 L2183.14 239.754 Q2184.9 239.754 2185.87 238.92 Q2186.84 238.087 2188.02 234.985 L2188.78 233.041 L2178.3 207.532 L2182.81 207.532 L2190.91 227.809 L2199.02 207.532 L2203.53 207.532 L2192.14 235.865 Z\" fill=\"#000000\" fill-rule=\"evenodd\" fill-opacity=\"1\" /><path clip-path=\"url(#clip210)\" d=\"M2214.04 229.522 L2230.36 229.522 L2230.36 233.458 L2208.41 233.458 L2208.41 229.522 Q2211.08 226.768 2215.66 222.138 Q2220.27 217.485 2221.45 216.143 Q2223.69 213.62 2224.57 211.884 Q2225.47 210.124 2225.47 208.435 Q2225.47 205.68 2223.53 203.944 Q2221.61 202.208 2218.51 202.208 Q2216.31 202.208 2213.85 202.972 Q2211.42 203.735 2208.65 205.286 L2208.65 200.564 Q2211.47 199.43 2213.92 198.851 Q2216.38 198.273 2218.41 198.273 Q2223.78 198.273 2226.98 200.958 Q2230.17 203.643 2230.17 208.134 Q2230.17 210.263 2229.36 212.185 Q2228.58 214.083 2226.47 216.675 Q2225.89 217.347 2222.79 220.564 Q2219.69 223.759 2214.04 229.522 Z\" fill=\"#000000\" fill-rule=\"evenodd\" fill-opacity=\"1\" /></svg>\n"
      ]
     },
     "execution_count": 53,
     "metadata": {},
     "output_type": "execute_result"
    }
   ],
   "source": [
    "x = [(i-1)*dx for i in 1:M]\n",
    "#plot(x,flu_0[:,1]) \n",
    "plot(x,flu_0[:,1] .+ 6.)\n",
    "plot!(x,con_0[:,1])# .- 0.17)"
   ]
  },
  {
   "cell_type": "code",
   "execution_count": 54,
   "metadata": {
    "tags": []
   },
   "outputs": [
    {
     "data": {
      "image/svg+xml": [
       "<?xml version=\"1.0\" encoding=\"utf-8\"?>\n",
       "<svg xmlns=\"http://www.w3.org/2000/svg\" xmlns:xlink=\"http://www.w3.org/1999/xlink\" width=\"600\" height=\"400\" viewBox=\"0 0 2400 1600\">\n",
       "<defs>\n",
       "  <clipPath id=\"clip250\">\n",
       "    <rect x=\"0\" y=\"0\" width=\"2400\" height=\"1600\"/>\n",
       "  </clipPath>\n",
       "</defs>\n",
       "<path clip-path=\"url(#clip250)\" d=\"\n",
       "M0 1600 L2400 1600 L2400 0 L0 0  Z\n",
       "  \" fill=\"#ffffff\" fill-rule=\"evenodd\" fill-opacity=\"1\"/>\n",
       "<defs>\n",
       "  <clipPath id=\"clip251\">\n",
       "    <rect x=\"480\" y=\"0\" width=\"1681\" height=\"1600\"/>\n",
       "  </clipPath>\n",
       "</defs>\n",
       "<path clip-path=\"url(#clip250)\" d=\"\n",
       "M186.274 1486.45 L2352.76 1486.45 L2352.76 47.2441 L186.274 47.2441  Z\n",
       "  \" fill=\"#ffffff\" fill-rule=\"evenodd\" fill-opacity=\"1\"/>\n",
       "<defs>\n",
       "  <clipPath id=\"clip252\">\n",
       "    <rect x=\"186\" y=\"47\" width=\"2167\" height=\"1440\"/>\n",
       "  </clipPath>\n",
       "</defs>\n",
       "<polyline clip-path=\"url(#clip252)\" style=\"stroke:#000000; stroke-linecap:butt; stroke-linejoin:round; stroke-width:2; stroke-opacity:0.1; fill:none\" points=\"\n",
       "  247.59,1486.45 247.59,47.2441 \n",
       "  \"/>\n",
       "<polyline clip-path=\"url(#clip252)\" style=\"stroke:#000000; stroke-linecap:butt; stroke-linejoin:round; stroke-width:2; stroke-opacity:0.1; fill:none\" points=\"\n",
       "  759.405,1486.45 759.405,47.2441 \n",
       "  \"/>\n",
       "<polyline clip-path=\"url(#clip252)\" style=\"stroke:#000000; stroke-linecap:butt; stroke-linejoin:round; stroke-width:2; stroke-opacity:0.1; fill:none\" points=\"\n",
       "  1271.22,1486.45 1271.22,47.2441 \n",
       "  \"/>\n",
       "<polyline clip-path=\"url(#clip252)\" style=\"stroke:#000000; stroke-linecap:butt; stroke-linejoin:round; stroke-width:2; stroke-opacity:0.1; fill:none\" points=\"\n",
       "  1783.04,1486.45 1783.04,47.2441 \n",
       "  \"/>\n",
       "<polyline clip-path=\"url(#clip252)\" style=\"stroke:#000000; stroke-linecap:butt; stroke-linejoin:round; stroke-width:2; stroke-opacity:0.1; fill:none\" points=\"\n",
       "  2294.85,1486.45 2294.85,47.2441 \n",
       "  \"/>\n",
       "<polyline clip-path=\"url(#clip250)\" style=\"stroke:#000000; stroke-linecap:butt; stroke-linejoin:round; stroke-width:4; stroke-opacity:1; fill:none\" points=\"\n",
       "  186.274,1486.45 2352.76,1486.45 \n",
       "  \"/>\n",
       "<polyline clip-path=\"url(#clip250)\" style=\"stroke:#000000; stroke-linecap:butt; stroke-linejoin:round; stroke-width:4; stroke-opacity:1; fill:none\" points=\"\n",
       "  247.59,1486.45 247.59,1469.18 \n",
       "  \"/>\n",
       "<polyline clip-path=\"url(#clip250)\" style=\"stroke:#000000; stroke-linecap:butt; stroke-linejoin:round; stroke-width:4; stroke-opacity:1; fill:none\" points=\"\n",
       "  759.405,1486.45 759.405,1469.18 \n",
       "  \"/>\n",
       "<polyline clip-path=\"url(#clip250)\" style=\"stroke:#000000; stroke-linecap:butt; stroke-linejoin:round; stroke-width:4; stroke-opacity:1; fill:none\" points=\"\n",
       "  1271.22,1486.45 1271.22,1469.18 \n",
       "  \"/>\n",
       "<polyline clip-path=\"url(#clip250)\" style=\"stroke:#000000; stroke-linecap:butt; stroke-linejoin:round; stroke-width:4; stroke-opacity:1; fill:none\" points=\"\n",
       "  1783.04,1486.45 1783.04,1469.18 \n",
       "  \"/>\n",
       "<polyline clip-path=\"url(#clip250)\" style=\"stroke:#000000; stroke-linecap:butt; stroke-linejoin:round; stroke-width:4; stroke-opacity:1; fill:none\" points=\"\n",
       "  2294.85,1486.45 2294.85,1469.18 \n",
       "  \"/>\n",
       "<path clip-path=\"url(#clip250)\" d=\"M209.893 1515.64 Q206.282 1515.64 204.453 1519.2 Q202.648 1522.75 202.648 1529.87 Q202.648 1536.98 204.453 1540.55 Q206.282 1544.09 209.893 1544.09 Q213.527 1544.09 215.333 1540.55 Q217.161 1536.98 217.161 1529.87 Q217.161 1522.75 215.333 1519.2 Q213.527 1515.64 209.893 1515.64 M209.893 1511.93 Q215.703 1511.93 218.759 1516.54 Q221.837 1521.12 221.837 1529.87 Q221.837 1538.6 218.759 1543.21 Q215.703 1547.79 209.893 1547.79 Q204.083 1547.79 201.004 1543.21 Q197.949 1538.6 197.949 1529.87 Q197.949 1521.12 201.004 1516.54 Q204.083 1511.93 209.893 1511.93 Z\" fill=\"#000000\" fill-rule=\"evenodd\" fill-opacity=\"1\" /><path clip-path=\"url(#clip250)\" d=\"M230.055 1541.24 L234.939 1541.24 L234.939 1547.12 L230.055 1547.12 L230.055 1541.24 Z\" fill=\"#000000\" fill-rule=\"evenodd\" fill-opacity=\"1\" /><path clip-path=\"url(#clip250)\" d=\"M255.124 1515.64 Q251.513 1515.64 249.684 1519.2 Q247.879 1522.75 247.879 1529.87 Q247.879 1536.98 249.684 1540.55 Q251.513 1544.09 255.124 1544.09 Q258.758 1544.09 260.564 1540.55 Q262.393 1536.98 262.393 1529.87 Q262.393 1522.75 260.564 1519.2 Q258.758 1515.64 255.124 1515.64 M255.124 1511.93 Q260.934 1511.93 263.99 1516.54 Q267.069 1521.12 267.069 1529.87 Q267.069 1538.6 263.99 1543.21 Q260.934 1547.79 255.124 1547.79 Q249.314 1547.79 246.235 1543.21 Q243.18 1538.6 243.18 1529.87 Q243.18 1521.12 246.235 1516.54 Q249.314 1511.93 255.124 1511.93 Z\" fill=\"#000000\" fill-rule=\"evenodd\" fill-opacity=\"1\" /><path clip-path=\"url(#clip250)\" d=\"M285.286 1515.64 Q281.675 1515.64 279.846 1519.2 Q278.041 1522.75 278.041 1529.87 Q278.041 1536.98 279.846 1540.55 Q281.675 1544.09 285.286 1544.09 Q288.92 1544.09 290.726 1540.55 Q292.555 1536.98 292.555 1529.87 Q292.555 1522.75 290.726 1519.2 Q288.92 1515.64 285.286 1515.64 M285.286 1511.93 Q291.096 1511.93 294.152 1516.54 Q297.23 1521.12 297.23 1529.87 Q297.23 1538.6 294.152 1543.21 Q291.096 1547.79 285.286 1547.79 Q279.476 1547.79 276.397 1543.21 Q273.342 1538.6 273.342 1529.87 Q273.342 1521.12 276.397 1516.54 Q279.476 1511.93 285.286 1511.93 Z\" fill=\"#000000\" fill-rule=\"evenodd\" fill-opacity=\"1\" /><path clip-path=\"url(#clip250)\" d=\"M722.206 1515.64 Q718.595 1515.64 716.767 1519.2 Q714.961 1522.75 714.961 1529.87 Q714.961 1536.98 716.767 1540.55 Q718.595 1544.09 722.206 1544.09 Q725.841 1544.09 727.646 1540.55 Q729.475 1536.98 729.475 1529.87 Q729.475 1522.75 727.646 1519.2 Q725.841 1515.64 722.206 1515.64 M722.206 1511.93 Q728.017 1511.93 731.072 1516.54 Q734.151 1521.12 734.151 1529.87 Q734.151 1538.6 731.072 1543.21 Q728.017 1547.79 722.206 1547.79 Q716.396 1547.79 713.318 1543.21 Q710.262 1538.6 710.262 1529.87 Q710.262 1521.12 713.318 1516.54 Q716.396 1511.93 722.206 1511.93 Z\" fill=\"#000000\" fill-rule=\"evenodd\" fill-opacity=\"1\" /><path clip-path=\"url(#clip250)\" d=\"M742.368 1541.24 L747.253 1541.24 L747.253 1547.12 L742.368 1547.12 L742.368 1541.24 Z\" fill=\"#000000\" fill-rule=\"evenodd\" fill-opacity=\"1\" /><path clip-path=\"url(#clip250)\" d=\"M761.465 1543.18 L777.785 1543.18 L777.785 1547.12 L755.84 1547.12 L755.84 1543.18 Q758.502 1540.43 763.086 1535.8 Q767.692 1531.15 768.873 1529.81 Q771.118 1527.28 771.998 1525.55 Q772.901 1523.79 772.901 1522.1 Q772.901 1519.34 770.956 1517.61 Q769.035 1515.87 765.933 1515.87 Q763.734 1515.87 761.28 1516.63 Q758.85 1517.4 756.072 1518.95 L756.072 1514.23 Q758.896 1513.09 761.35 1512.51 Q763.803 1511.93 765.84 1511.93 Q771.211 1511.93 774.405 1514.62 Q777.6 1517.31 777.6 1521.8 Q777.6 1523.93 776.789 1525.85 Q776.002 1527.74 773.896 1530.34 Q773.317 1531.01 770.215 1534.23 Q767.114 1537.42 761.465 1543.18 Z\" fill=\"#000000\" fill-rule=\"evenodd\" fill-opacity=\"1\" /><path clip-path=\"url(#clip250)\" d=\"M787.646 1512.56 L806.002 1512.56 L806.002 1516.5 L791.928 1516.5 L791.928 1524.97 Q792.947 1524.62 793.965 1524.46 Q794.984 1524.27 796.002 1524.27 Q801.789 1524.27 805.169 1527.44 Q808.549 1530.62 808.549 1536.03 Q808.549 1541.61 805.076 1544.71 Q801.604 1547.79 795.285 1547.79 Q793.109 1547.79 790.84 1547.42 Q788.595 1547.05 786.188 1546.31 L786.188 1541.61 Q788.271 1542.74 790.493 1543.3 Q792.715 1543.86 795.192 1543.86 Q799.197 1543.86 801.535 1541.75 Q803.873 1539.64 803.873 1536.03 Q803.873 1532.42 801.535 1530.31 Q799.197 1528.21 795.192 1528.21 Q793.317 1528.21 791.442 1528.62 Q789.59 1529.04 787.646 1529.92 L787.646 1512.56 Z\" fill=\"#000000\" fill-rule=\"evenodd\" fill-opacity=\"1\" /><path clip-path=\"url(#clip250)\" d=\"M1233.52 1515.64 Q1229.91 1515.64 1228.08 1519.2 Q1226.28 1522.75 1226.28 1529.87 Q1226.28 1536.98 1228.08 1540.55 Q1229.91 1544.09 1233.52 1544.09 Q1237.16 1544.09 1238.96 1540.55 Q1240.79 1536.98 1240.79 1529.87 Q1240.79 1522.75 1238.96 1519.2 Q1237.16 1515.64 1233.52 1515.64 M1233.52 1511.93 Q1239.33 1511.93 1242.39 1516.54 Q1245.47 1521.12 1245.47 1529.87 Q1245.47 1538.6 1242.39 1543.21 Q1239.33 1547.79 1233.52 1547.79 Q1227.71 1547.79 1224.64 1543.21 Q1221.58 1538.6 1221.58 1529.87 Q1221.58 1521.12 1224.64 1516.54 Q1227.71 1511.93 1233.52 1511.93 Z\" fill=\"#000000\" fill-rule=\"evenodd\" fill-opacity=\"1\" /><path clip-path=\"url(#clip250)\" d=\"M1253.69 1541.24 L1258.57 1541.24 L1258.57 1547.12 L1253.69 1547.12 L1253.69 1541.24 Z\" fill=\"#000000\" fill-rule=\"evenodd\" fill-opacity=\"1\" /><path clip-path=\"url(#clip250)\" d=\"M1268.8 1512.56 L1287.16 1512.56 L1287.16 1516.5 L1273.08 1516.5 L1273.08 1524.97 Q1274.1 1524.62 1275.12 1524.46 Q1276.14 1524.27 1277.16 1524.27 Q1282.95 1524.27 1286.33 1527.44 Q1289.7 1530.62 1289.7 1536.03 Q1289.7 1541.61 1286.23 1544.71 Q1282.76 1547.79 1276.44 1547.79 Q1274.26 1547.79 1272 1547.42 Q1269.75 1547.05 1267.34 1546.31 L1267.34 1541.61 Q1269.43 1542.74 1271.65 1543.3 Q1273.87 1543.86 1276.35 1543.86 Q1280.35 1543.86 1282.69 1541.75 Q1285.03 1539.64 1285.03 1536.03 Q1285.03 1532.42 1282.69 1530.31 Q1280.35 1528.21 1276.35 1528.21 Q1274.47 1528.21 1272.6 1528.62 Q1270.75 1529.04 1268.8 1529.92 L1268.8 1512.56 Z\" fill=\"#000000\" fill-rule=\"evenodd\" fill-opacity=\"1\" /><path clip-path=\"url(#clip250)\" d=\"M1308.92 1515.64 Q1305.31 1515.64 1303.48 1519.2 Q1301.67 1522.75 1301.67 1529.87 Q1301.67 1536.98 1303.48 1540.55 Q1305.31 1544.09 1308.92 1544.09 Q1312.55 1544.09 1314.36 1540.55 Q1316.19 1536.98 1316.19 1529.87 Q1316.19 1522.75 1314.36 1519.2 Q1312.55 1515.64 1308.92 1515.64 M1308.92 1511.93 Q1314.73 1511.93 1317.78 1516.54 Q1320.86 1521.12 1320.86 1529.87 Q1320.86 1538.6 1317.78 1543.21 Q1314.73 1547.79 1308.92 1547.79 Q1303.11 1547.79 1300.03 1543.21 Q1296.97 1538.6 1296.97 1529.87 Q1296.97 1521.12 1300.03 1516.54 Q1303.11 1511.93 1308.92 1511.93 Z\" fill=\"#000000\" fill-rule=\"evenodd\" fill-opacity=\"1\" /><path clip-path=\"url(#clip250)\" d=\"M1745.84 1515.64 Q1742.23 1515.64 1740.4 1519.2 Q1738.59 1522.75 1738.59 1529.87 Q1738.59 1536.98 1740.4 1540.55 Q1742.23 1544.09 1745.84 1544.09 Q1749.47 1544.09 1751.28 1540.55 Q1753.11 1536.98 1753.11 1529.87 Q1753.11 1522.75 1751.28 1519.2 Q1749.47 1515.64 1745.84 1515.64 M1745.84 1511.93 Q1751.65 1511.93 1754.7 1516.54 Q1757.78 1521.12 1757.78 1529.87 Q1757.78 1538.6 1754.7 1543.21 Q1751.65 1547.79 1745.84 1547.79 Q1740.03 1547.79 1736.95 1543.21 Q1733.89 1538.6 1733.89 1529.87 Q1733.89 1521.12 1736.95 1516.54 Q1740.03 1511.93 1745.84 1511.93 Z\" fill=\"#000000\" fill-rule=\"evenodd\" fill-opacity=\"1\" /><path clip-path=\"url(#clip250)\" d=\"M1766 1541.24 L1770.88 1541.24 L1770.88 1547.12 L1766 1547.12 L1766 1541.24 Z\" fill=\"#000000\" fill-rule=\"evenodd\" fill-opacity=\"1\" /><path clip-path=\"url(#clip250)\" d=\"M1779.89 1512.56 L1802.11 1512.56 L1802.11 1514.55 L1789.56 1547.12 L1784.68 1547.12 L1796.49 1516.5 L1779.89 1516.5 L1779.89 1512.56 Z\" fill=\"#000000\" fill-rule=\"evenodd\" fill-opacity=\"1\" /><path clip-path=\"url(#clip250)\" d=\"M1811.28 1512.56 L1829.63 1512.56 L1829.63 1516.5 L1815.56 1516.5 L1815.56 1524.97 Q1816.58 1524.62 1817.6 1524.46 Q1818.62 1524.27 1819.63 1524.27 Q1825.42 1524.27 1828.8 1527.44 Q1832.18 1530.62 1832.18 1536.03 Q1832.18 1541.61 1828.71 1544.71 Q1825.24 1547.79 1818.92 1547.79 Q1816.74 1547.79 1814.47 1547.42 Q1812.23 1547.05 1809.82 1546.31 L1809.82 1541.61 Q1811.9 1542.74 1814.12 1543.3 Q1816.35 1543.86 1818.82 1543.86 Q1822.83 1543.86 1825.17 1541.75 Q1827.5 1539.64 1827.5 1536.03 Q1827.5 1532.42 1825.17 1530.31 Q1822.83 1528.21 1818.82 1528.21 Q1816.95 1528.21 1815.07 1528.62 Q1813.22 1529.04 1811.28 1529.92 L1811.28 1512.56 Z\" fill=\"#000000\" fill-rule=\"evenodd\" fill-opacity=\"1\" /><path clip-path=\"url(#clip250)\" d=\"M2246.92 1543.18 L2254.56 1543.18 L2254.56 1516.82 L2246.25 1518.49 L2246.25 1514.23 L2254.52 1512.56 L2259.19 1512.56 L2259.19 1543.18 L2266.83 1543.18 L2266.83 1547.12 L2246.92 1547.12 L2246.92 1543.18 Z\" fill=\"#000000\" fill-rule=\"evenodd\" fill-opacity=\"1\" /><path clip-path=\"url(#clip250)\" d=\"M2276.28 1541.24 L2281.16 1541.24 L2281.16 1547.12 L2276.28 1547.12 L2276.28 1541.24 Z\" fill=\"#000000\" fill-rule=\"evenodd\" fill-opacity=\"1\" /><path clip-path=\"url(#clip250)\" d=\"M2301.35 1515.64 Q2297.73 1515.64 2295.91 1519.2 Q2294.1 1522.75 2294.1 1529.87 Q2294.1 1536.98 2295.91 1540.55 Q2297.73 1544.09 2301.35 1544.09 Q2304.98 1544.09 2306.79 1540.55 Q2308.61 1536.98 2308.61 1529.87 Q2308.61 1522.75 2306.79 1519.2 Q2304.98 1515.64 2301.35 1515.64 M2301.35 1511.93 Q2307.16 1511.93 2310.21 1516.54 Q2313.29 1521.12 2313.29 1529.87 Q2313.29 1538.6 2310.21 1543.21 Q2307.16 1547.79 2301.35 1547.79 Q2295.54 1547.79 2292.46 1543.21 Q2289.4 1538.6 2289.4 1529.87 Q2289.4 1521.12 2292.46 1516.54 Q2295.54 1511.93 2301.35 1511.93 Z\" fill=\"#000000\" fill-rule=\"evenodd\" fill-opacity=\"1\" /><path clip-path=\"url(#clip250)\" d=\"M2331.51 1515.64 Q2327.9 1515.64 2326.07 1519.2 Q2324.26 1522.75 2324.26 1529.87 Q2324.26 1536.98 2326.07 1540.55 Q2327.9 1544.09 2331.51 1544.09 Q2335.14 1544.09 2336.95 1540.55 Q2338.78 1536.98 2338.78 1529.87 Q2338.78 1522.75 2336.95 1519.2 Q2335.14 1515.64 2331.51 1515.64 M2331.51 1511.93 Q2337.32 1511.93 2340.37 1516.54 Q2343.45 1521.12 2343.45 1529.87 Q2343.45 1538.6 2340.37 1543.21 Q2337.32 1547.79 2331.51 1547.79 Q2325.7 1547.79 2322.62 1543.21 Q2319.56 1538.6 2319.56 1529.87 Q2319.56 1521.12 2322.62 1516.54 Q2325.7 1511.93 2331.51 1511.93 Z\" fill=\"#000000\" fill-rule=\"evenodd\" fill-opacity=\"1\" /><polyline clip-path=\"url(#clip252)\" style=\"stroke:#000000; stroke-linecap:butt; stroke-linejoin:round; stroke-width:2; stroke-opacity:0.1; fill:none\" points=\"\n",
       "  186.274,1445.72 2352.76,1445.72 \n",
       "  \"/>\n",
       "<polyline clip-path=\"url(#clip252)\" style=\"stroke:#000000; stroke-linecap:butt; stroke-linejoin:round; stroke-width:2; stroke-opacity:0.1; fill:none\" points=\"\n",
       "  186.274,1106.28 2352.76,1106.28 \n",
       "  \"/>\n",
       "<polyline clip-path=\"url(#clip252)\" style=\"stroke:#000000; stroke-linecap:butt; stroke-linejoin:round; stroke-width:2; stroke-opacity:0.1; fill:none\" points=\"\n",
       "  186.274,766.846 2352.76,766.846 \n",
       "  \"/>\n",
       "<polyline clip-path=\"url(#clip252)\" style=\"stroke:#000000; stroke-linecap:butt; stroke-linejoin:round; stroke-width:2; stroke-opacity:0.1; fill:none\" points=\"\n",
       "  186.274,427.411 2352.76,427.411 \n",
       "  \"/>\n",
       "<polyline clip-path=\"url(#clip252)\" style=\"stroke:#000000; stroke-linecap:butt; stroke-linejoin:round; stroke-width:2; stroke-opacity:0.1; fill:none\" points=\"\n",
       "  186.274,87.9763 2352.76,87.9763 \n",
       "  \"/>\n",
       "<polyline clip-path=\"url(#clip250)\" style=\"stroke:#000000; stroke-linecap:butt; stroke-linejoin:round; stroke-width:4; stroke-opacity:1; fill:none\" points=\"\n",
       "  186.274,1486.45 186.274,47.2441 \n",
       "  \"/>\n",
       "<polyline clip-path=\"url(#clip250)\" style=\"stroke:#000000; stroke-linecap:butt; stroke-linejoin:round; stroke-width:4; stroke-opacity:1; fill:none\" points=\"\n",
       "  186.274,1445.72 212.272,1445.72 \n",
       "  \"/>\n",
       "<polyline clip-path=\"url(#clip250)\" style=\"stroke:#000000; stroke-linecap:butt; stroke-linejoin:round; stroke-width:4; stroke-opacity:1; fill:none\" points=\"\n",
       "  186.274,1106.28 212.272,1106.28 \n",
       "  \"/>\n",
       "<polyline clip-path=\"url(#clip250)\" style=\"stroke:#000000; stroke-linecap:butt; stroke-linejoin:round; stroke-width:4; stroke-opacity:1; fill:none\" points=\"\n",
       "  186.274,766.846 212.272,766.846 \n",
       "  \"/>\n",
       "<polyline clip-path=\"url(#clip250)\" style=\"stroke:#000000; stroke-linecap:butt; stroke-linejoin:round; stroke-width:4; stroke-opacity:1; fill:none\" points=\"\n",
       "  186.274,427.411 212.272,427.411 \n",
       "  \"/>\n",
       "<polyline clip-path=\"url(#clip250)\" style=\"stroke:#000000; stroke-linecap:butt; stroke-linejoin:round; stroke-width:4; stroke-opacity:1; fill:none\" points=\"\n",
       "  186.274,87.9763 212.272,87.9763 \n",
       "  \"/>\n",
       "<path clip-path=\"url(#clip250)\" d=\"M62.9365 1431.51 Q59.3254 1431.51 57.4967 1435.08 Q55.6912 1438.62 55.6912 1445.75 Q55.6912 1452.86 57.4967 1456.42 Q59.3254 1459.96 62.9365 1459.96 Q66.5707 1459.96 68.3763 1456.42 Q70.205 1452.86 70.205 1445.75 Q70.205 1438.62 68.3763 1435.08 Q66.5707 1431.51 62.9365 1431.51 M62.9365 1427.81 Q68.7467 1427.81 71.8022 1432.42 Q74.8809 1437 74.8809 1445.75 Q74.8809 1454.48 71.8022 1459.08 Q68.7467 1463.67 62.9365 1463.67 Q57.1264 1463.67 54.0477 1459.08 Q50.9921 1454.48 50.9921 1445.75 Q50.9921 1437 54.0477 1432.42 Q57.1264 1427.81 62.9365 1427.81 Z\" fill=\"#000000\" fill-rule=\"evenodd\" fill-opacity=\"1\" /><path clip-path=\"url(#clip250)\" d=\"M83.0984 1457.12 L87.9827 1457.12 L87.9827 1463 L83.0984 1463 L83.0984 1457.12 Z\" fill=\"#000000\" fill-rule=\"evenodd\" fill-opacity=\"1\" /><path clip-path=\"url(#clip250)\" d=\"M108.168 1431.51 Q104.557 1431.51 102.728 1435.08 Q100.922 1438.62 100.922 1445.75 Q100.922 1452.86 102.728 1456.42 Q104.557 1459.96 108.168 1459.96 Q111.802 1459.96 113.608 1456.42 Q115.436 1452.86 115.436 1445.75 Q115.436 1438.62 113.608 1435.08 Q111.802 1431.51 108.168 1431.51 M108.168 1427.81 Q113.978 1427.81 117.033 1432.42 Q120.112 1437 120.112 1445.75 Q120.112 1454.48 117.033 1459.08 Q113.978 1463.67 108.168 1463.67 Q102.358 1463.67 99.2789 1459.08 Q96.2234 1454.48 96.2234 1445.75 Q96.2234 1437 99.2789 1432.42 Q102.358 1427.81 108.168 1427.81 Z\" fill=\"#000000\" fill-rule=\"evenodd\" fill-opacity=\"1\" /><path clip-path=\"url(#clip250)\" d=\"M138.33 1431.51 Q134.719 1431.51 132.89 1435.08 Q131.084 1438.62 131.084 1445.75 Q131.084 1452.86 132.89 1456.42 Q134.719 1459.96 138.33 1459.96 Q141.964 1459.96 143.769 1456.42 Q145.598 1452.86 145.598 1445.75 Q145.598 1438.62 143.769 1435.08 Q141.964 1431.51 138.33 1431.51 M138.33 1427.81 Q144.14 1427.81 147.195 1432.42 Q150.274 1437 150.274 1445.75 Q150.274 1454.48 147.195 1459.08 Q144.14 1463.67 138.33 1463.67 Q132.519 1463.67 129.441 1459.08 Q126.385 1454.48 126.385 1445.75 Q126.385 1437 129.441 1432.42 Q132.519 1427.81 138.33 1427.81 Z\" fill=\"#000000\" fill-rule=\"evenodd\" fill-opacity=\"1\" /><path clip-path=\"url(#clip250)\" d=\"M63.9319 1092.08 Q60.3208 1092.08 58.4921 1095.64 Q56.6865 1099.19 56.6865 1106.32 Q56.6865 1113.42 58.4921 1116.99 Q60.3208 1120.53 63.9319 1120.53 Q67.5661 1120.53 69.3717 1116.99 Q71.2004 1113.42 71.2004 1106.32 Q71.2004 1099.19 69.3717 1095.64 Q67.5661 1092.08 63.9319 1092.08 M63.9319 1088.38 Q69.742 1088.38 72.7976 1092.98 Q75.8763 1097.57 75.8763 1106.32 Q75.8763 1115.04 72.7976 1119.65 Q69.742 1124.23 63.9319 1124.23 Q58.1217 1124.23 55.043 1119.65 Q51.9875 1115.04 51.9875 1106.32 Q51.9875 1097.57 55.043 1092.98 Q58.1217 1088.38 63.9319 1088.38 Z\" fill=\"#000000\" fill-rule=\"evenodd\" fill-opacity=\"1\" /><path clip-path=\"url(#clip250)\" d=\"M84.0938 1117.68 L88.978 1117.68 L88.978 1123.56 L84.0938 1123.56 L84.0938 1117.68 Z\" fill=\"#000000\" fill-rule=\"evenodd\" fill-opacity=\"1\" /><path clip-path=\"url(#clip250)\" d=\"M103.191 1119.63 L119.51 1119.63 L119.51 1123.56 L97.566 1123.56 L97.566 1119.63 Q100.228 1116.87 104.811 1112.24 Q109.418 1107.59 110.598 1106.25 Q112.844 1103.72 113.723 1101.99 Q114.626 1100.23 114.626 1098.54 Q114.626 1095.78 112.682 1094.05 Q110.76 1092.31 107.658 1092.31 Q105.459 1092.31 103.006 1093.07 Q100.575 1093.84 97.7974 1095.39 L97.7974 1090.67 Q100.621 1089.53 103.075 1088.95 Q105.529 1088.38 107.566 1088.38 Q112.936 1088.38 116.131 1091.06 Q119.325 1093.75 119.325 1098.24 Q119.325 1100.37 118.515 1102.29 Q117.728 1104.19 115.621 1106.78 Q115.043 1107.45 111.941 1110.67 Q108.839 1113.86 103.191 1119.63 Z\" fill=\"#000000\" fill-rule=\"evenodd\" fill-opacity=\"1\" /><path clip-path=\"url(#clip250)\" d=\"M129.371 1089 L147.728 1089 L147.728 1092.94 L133.654 1092.94 L133.654 1101.41 Q134.672 1101.06 135.691 1100.9 Q136.709 1100.71 137.728 1100.71 Q143.515 1100.71 146.894 1103.89 Q150.274 1107.06 150.274 1112.47 Q150.274 1118.05 146.802 1121.15 Q143.33 1124.23 137.01 1124.23 Q134.834 1124.23 132.566 1123.86 Q130.32 1123.49 127.913 1122.75 L127.913 1118.05 Q129.996 1119.19 132.219 1119.74 Q134.441 1120.3 136.918 1120.3 Q140.922 1120.3 143.26 1118.19 Q145.598 1116.08 145.598 1112.47 Q145.598 1108.86 143.26 1106.76 Q140.922 1104.65 136.918 1104.65 Q135.043 1104.65 133.168 1105.07 Q131.316 1105.48 129.371 1106.36 L129.371 1089 Z\" fill=\"#000000\" fill-rule=\"evenodd\" fill-opacity=\"1\" /><path clip-path=\"url(#clip250)\" d=\"M62.9365 752.645 Q59.3254 752.645 57.4967 756.209 Q55.6912 759.751 55.6912 766.881 Q55.6912 773.987 57.4967 777.552 Q59.3254 781.094 62.9365 781.094 Q66.5707 781.094 68.3763 777.552 Q70.205 773.987 70.205 766.881 Q70.205 759.751 68.3763 756.209 Q66.5707 752.645 62.9365 752.645 M62.9365 748.941 Q68.7467 748.941 71.8022 753.547 Q74.8809 758.131 74.8809 766.881 Q74.8809 775.608 71.8022 780.214 Q68.7467 784.797 62.9365 784.797 Q57.1264 784.797 54.0477 780.214 Q50.9921 775.608 50.9921 766.881 Q50.9921 758.131 54.0477 753.547 Q57.1264 748.941 62.9365 748.941 Z\" fill=\"#000000\" fill-rule=\"evenodd\" fill-opacity=\"1\" /><path clip-path=\"url(#clip250)\" d=\"M83.0984 778.246 L87.9827 778.246 L87.9827 784.126 L83.0984 784.126 L83.0984 778.246 Z\" fill=\"#000000\" fill-rule=\"evenodd\" fill-opacity=\"1\" /><path clip-path=\"url(#clip250)\" d=\"M98.2141 749.566 L116.57 749.566 L116.57 753.501 L102.496 753.501 L102.496 761.973 Q103.515 761.626 104.534 761.464 Q105.552 761.279 106.571 761.279 Q112.358 761.279 115.737 764.45 Q119.117 767.621 119.117 773.038 Q119.117 778.617 115.645 781.719 Q112.172 784.797 105.853 784.797 Q103.677 784.797 101.409 784.427 Q99.1632 784.057 96.7558 783.316 L96.7558 778.617 Q98.8391 779.751 101.061 780.307 Q103.284 780.862 105.76 780.862 Q109.765 780.862 112.103 778.756 Q114.441 776.649 114.441 773.038 Q114.441 769.427 112.103 767.321 Q109.765 765.214 105.76 765.214 Q103.885 765.214 102.01 765.631 Q100.159 766.047 98.2141 766.927 L98.2141 749.566 Z\" fill=\"#000000\" fill-rule=\"evenodd\" fill-opacity=\"1\" /><path clip-path=\"url(#clip250)\" d=\"M138.33 752.645 Q134.719 752.645 132.89 756.209 Q131.084 759.751 131.084 766.881 Q131.084 773.987 132.89 777.552 Q134.719 781.094 138.33 781.094 Q141.964 781.094 143.769 777.552 Q145.598 773.987 145.598 766.881 Q145.598 759.751 143.769 756.209 Q141.964 752.645 138.33 752.645 M138.33 748.941 Q144.14 748.941 147.195 753.547 Q150.274 758.131 150.274 766.881 Q150.274 775.608 147.195 780.214 Q144.14 784.797 138.33 784.797 Q132.519 784.797 129.441 780.214 Q126.385 775.608 126.385 766.881 Q126.385 758.131 129.441 753.547 Q132.519 748.941 138.33 748.941 Z\" fill=\"#000000\" fill-rule=\"evenodd\" fill-opacity=\"1\" /><path clip-path=\"url(#clip250)\" d=\"M63.9319 413.21 Q60.3208 413.21 58.4921 416.775 Q56.6865 420.316 56.6865 427.446 Q56.6865 434.552 58.4921 438.117 Q60.3208 441.659 63.9319 441.659 Q67.5661 441.659 69.3717 438.117 Q71.2004 434.552 71.2004 427.446 Q71.2004 420.316 69.3717 416.775 Q67.5661 413.21 63.9319 413.21 M63.9319 409.506 Q69.742 409.506 72.7976 414.113 Q75.8763 418.696 75.8763 427.446 Q75.8763 436.173 72.7976 440.779 Q69.742 445.362 63.9319 445.362 Q58.1217 445.362 55.043 440.779 Q51.9875 436.173 51.9875 427.446 Q51.9875 418.696 55.043 414.113 Q58.1217 409.506 63.9319 409.506 Z\" fill=\"#000000\" fill-rule=\"evenodd\" fill-opacity=\"1\" /><path clip-path=\"url(#clip250)\" d=\"M84.0938 438.812 L88.978 438.812 L88.978 444.691 L84.0938 444.691 L84.0938 438.812 Z\" fill=\"#000000\" fill-rule=\"evenodd\" fill-opacity=\"1\" /><path clip-path=\"url(#clip250)\" d=\"M97.9826 410.131 L120.205 410.131 L120.205 412.122 L107.658 444.691 L102.774 444.691 L114.58 414.066 L97.9826 414.066 L97.9826 410.131 Z\" fill=\"#000000\" fill-rule=\"evenodd\" fill-opacity=\"1\" /><path clip-path=\"url(#clip250)\" d=\"M129.371 410.131 L147.728 410.131 L147.728 414.066 L133.654 414.066 L133.654 422.538 Q134.672 422.191 135.691 422.029 Q136.709 421.844 137.728 421.844 Q143.515 421.844 146.894 425.015 Q150.274 428.187 150.274 433.603 Q150.274 439.182 146.802 442.284 Q143.33 445.362 137.01 445.362 Q134.834 445.362 132.566 444.992 Q130.32 444.622 127.913 443.881 L127.913 439.182 Q129.996 440.316 132.219 440.872 Q134.441 441.427 136.918 441.427 Q140.922 441.427 143.26 439.321 Q145.598 437.214 145.598 433.603 Q145.598 429.992 143.26 427.886 Q140.922 425.779 136.918 425.779 Q135.043 425.779 133.168 426.196 Q131.316 426.613 129.371 427.492 L129.371 410.131 Z\" fill=\"#000000\" fill-rule=\"evenodd\" fill-opacity=\"1\" /><path clip-path=\"url(#clip250)\" d=\"M53.7467 101.321 L61.3856 101.321 L61.3856 74.9555 L53.0754 76.6222 L53.0754 72.3629 L61.3393 70.6963 L66.0152 70.6963 L66.0152 101.321 L73.654 101.321 L73.654 105.256 L53.7467 105.256 L53.7467 101.321 Z\" fill=\"#000000\" fill-rule=\"evenodd\" fill-opacity=\"1\" /><path clip-path=\"url(#clip250)\" d=\"M83.0984 99.3767 L87.9827 99.3767 L87.9827 105.256 L83.0984 105.256 L83.0984 99.3767 Z\" fill=\"#000000\" fill-rule=\"evenodd\" fill-opacity=\"1\" /><path clip-path=\"url(#clip250)\" d=\"M108.168 73.775 Q104.557 73.775 102.728 77.3398 Q100.922 80.8814 100.922 88.011 Q100.922 95.1174 102.728 98.6822 Q104.557 102.224 108.168 102.224 Q111.802 102.224 113.608 98.6822 Q115.436 95.1174 115.436 88.011 Q115.436 80.8814 113.608 77.3398 Q111.802 73.775 108.168 73.775 M108.168 70.0713 Q113.978 70.0713 117.033 74.6777 Q120.112 79.261 120.112 88.011 Q120.112 96.7378 117.033 101.344 Q113.978 105.928 108.168 105.928 Q102.358 105.928 99.2789 101.344 Q96.2234 96.7378 96.2234 88.011 Q96.2234 79.261 99.2789 74.6777 Q102.358 70.0713 108.168 70.0713 Z\" fill=\"#000000\" fill-rule=\"evenodd\" fill-opacity=\"1\" /><path clip-path=\"url(#clip250)\" d=\"M138.33 73.775 Q134.719 73.775 132.89 77.3398 Q131.084 80.8814 131.084 88.011 Q131.084 95.1174 132.89 98.6822 Q134.719 102.224 138.33 102.224 Q141.964 102.224 143.769 98.6822 Q145.598 95.1174 145.598 88.011 Q145.598 80.8814 143.769 77.3398 Q141.964 73.775 138.33 73.775 M138.33 70.0713 Q144.14 70.0713 147.195 74.6777 Q150.274 79.261 150.274 88.011 Q150.274 96.7378 147.195 101.344 Q144.14 105.928 138.33 105.928 Q132.519 105.928 129.441 101.344 Q126.385 96.7378 126.385 88.011 Q126.385 79.261 129.441 74.6777 Q132.519 70.0713 138.33 70.0713 Z\" fill=\"#000000\" fill-rule=\"evenodd\" fill-opacity=\"1\" /><polyline clip-path=\"url(#clip252)\" style=\"stroke:#009af9; stroke-linecap:butt; stroke-linejoin:round; stroke-width:4; stroke-opacity:1; fill:none\" points=\"\n",
       "  247.59,1445.72 251.002,1445.72 254.414,1445.72 257.826,1445.72 261.238,1445.72 264.65,1445.72 268.062,1445.72 271.474,1445.72 274.886,1445.72 278.298,1445.72 \n",
       "  281.711,1445.72 285.123,1445.72 288.535,1445.72 291.947,1445.72 295.359,1445.72 298.771,1445.72 302.183,1445.72 305.595,1445.72 309.007,1445.72 312.42,1445.72 \n",
       "  315.832,1445.72 319.244,1445.72 322.656,1445.72 326.068,1445.72 329.48,1445.72 332.892,1445.72 336.304,1445.72 339.716,1445.72 343.128,1445.72 346.541,1445.72 \n",
       "  349.953,1445.72 353.365,1445.72 356.777,1445.72 360.189,1445.72 363.601,1445.72 367.013,1445.72 370.425,1445.72 373.837,1445.72 377.25,1445.72 380.662,1445.72 \n",
       "  384.074,1445.72 387.486,1445.72 390.898,1445.72 394.31,1445.72 397.722,1445.72 401.134,1445.72 404.546,1445.72 407.958,1445.72 411.371,1445.72 414.783,1445.72 \n",
       "  418.195,1445.72 421.607,1445.72 425.019,1445.72 428.431,1445.72 431.843,1445.72 435.255,1445.72 438.667,1445.72 442.08,1445.72 445.492,1445.72 448.904,1445.72 \n",
       "  452.316,1445.72 455.728,1445.72 459.14,1445.72 462.552,1445.72 465.964,1445.72 469.376,1445.72 472.788,1445.72 476.201,1445.72 479.613,1445.72 483.025,1445.72 \n",
       "  486.437,1445.72 489.849,1445.72 493.261,1445.72 496.673,1445.72 500.085,1445.72 503.497,1445.72 506.91,1445.72 510.322,1445.72 513.734,1445.72 517.146,1445.72 \n",
       "  520.558,1445.72 523.97,1445.72 527.382,1445.72 530.794,1445.72 534.206,1445.72 537.618,1445.72 541.031,1445.72 544.443,1445.72 547.855,1445.72 551.267,1445.72 \n",
       "  554.679,1445.72 558.091,1445.72 561.503,1445.72 564.915,1445.72 568.327,1445.72 571.739,1445.72 575.152,1445.72 578.564,1445.72 581.976,1445.72 585.388,1445.72 \n",
       "  588.8,1445.72 592.212,1445.72 595.624,1445.72 599.036,1445.72 602.448,1445.72 605.861,1445.72 609.273,1445.72 612.685,1445.72 616.097,1445.72 619.509,1445.72 \n",
       "  622.921,1445.72 626.333,1445.72 629.745,1445.72 633.157,1445.72 636.569,1445.72 639.982,1445.72 643.394,1445.72 646.806,1445.72 650.218,1445.72 653.63,1445.72 \n",
       "  657.042,1445.72 660.454,1445.72 663.866,1445.72 667.278,1445.72 670.691,1445.72 674.103,1445.72 677.515,1445.72 680.927,1445.72 684.339,1445.72 687.751,1445.72 \n",
       "  691.163,1445.72 694.575,1445.72 697.987,1445.72 701.399,1445.72 704.812,1445.72 708.224,1445.72 711.636,1445.72 715.048,1445.72 718.46,1445.72 721.872,1445.72 \n",
       "  725.284,1445.72 728.696,1445.72 732.108,1445.72 735.521,1445.72 738.933,1445.72 742.345,1445.72 745.757,1445.72 749.169,1445.72 752.581,1445.72 755.993,1445.72 \n",
       "  759.405,1445.72 762.817,1445.72 766.229,1445.72 769.642,1445.72 773.054,1445.72 776.466,1445.72 779.878,1445.72 783.29,1445.72 786.702,1445.72 790.114,1445.72 \n",
       "  793.526,1445.72 796.938,1445.72 800.351,1445.72 803.763,1445.72 807.175,1445.72 810.587,1445.72 813.999,1445.72 817.411,1445.72 820.823,1445.72 824.235,1445.72 \n",
       "  827.647,1445.72 831.059,1445.72 834.472,1445.72 837.884,1445.72 841.296,1445.72 844.708,1445.72 848.12,1445.72 851.532,1445.72 854.944,1445.72 858.356,1445.72 \n",
       "  861.768,1445.72 865.181,1445.72 868.593,1445.72 872.005,1445.72 875.417,1445.72 878.829,1445.72 882.241,1445.72 885.653,1445.72 889.065,1445.72 892.477,1445.72 \n",
       "  895.889,1445.72 899.302,1445.72 902.714,1445.72 906.126,1445.72 909.538,1445.72 912.95,1445.72 916.362,1445.72 919.774,1445.72 923.186,1445.72 926.598,1445.72 \n",
       "  930.011,1445.72 933.423,1445.72 936.835,1445.72 940.247,1445.72 943.659,1445.72 947.071,1445.72 950.483,1445.72 953.895,1445.72 957.307,1445.72 960.719,1445.72 \n",
       "  964.132,1445.72 967.544,1445.72 970.956,1445.72 974.368,1445.72 977.78,1445.72 981.192,1445.72 984.604,1445.72 988.016,1445.72 991.428,1445.72 994.841,1445.72 \n",
       "  998.253,1445.72 1001.66,1445.72 1005.08,1445.72 1008.49,1445.72 1011.9,1445.72 1015.31,1445.72 1018.73,1445.72 1022.14,1445.72 1025.55,1445.72 1028.96,1445.72 \n",
       "  1032.37,1445.72 1035.79,1445.72 1039.2,1445.72 1042.61,1445.72 1046.02,1445.72 1049.43,1445.72 1052.85,1445.72 1056.26,1445.72 1059.67,1445.72 1063.08,1445.72 \n",
       "  1066.49,1445.72 1069.91,1445.72 1073.32,1445.72 1076.73,1445.72 1080.14,1445.72 1083.56,1445.72 1086.97,1445.72 1090.38,1445.72 1093.79,1445.72 1097.2,1445.72 \n",
       "  1100.62,1445.72 1104.03,1445.72 1107.44,1445.72 1110.85,1445.72 1114.26,1445.72 1117.68,1445.72 1121.09,1445.72 1124.5,1445.72 1127.91,1445.72 1131.32,1445.72 \n",
       "  1134.74,1445.72 1138.15,1445.72 1141.56,1445.72 1144.97,1445.72 1148.39,1445.72 1151.8,1445.72 1155.21,1445.72 1158.62,1445.72 1162.03,1445.72 1165.45,1445.72 \n",
       "  1168.86,1445.72 1172.27,1445.72 1175.68,1445.72 1179.09,1445.72 1182.51,1445.72 1185.92,1445.72 1189.33,1445.72 1192.74,1445.72 1196.15,1445.72 1199.57,1445.72 \n",
       "  1202.98,1445.72 1206.39,1445.72 1209.8,1445.72 1213.22,1445.72 1216.63,1445.72 1220.04,1445.72 1223.45,1445.72 1226.86,1445.72 1230.28,1445.72 1233.69,1445.72 \n",
       "  1237.1,1445.72 1240.51,1445.72 1243.92,1445.72 1247.34,1445.72 1250.75,1445.72 1254.16,1445.72 1257.57,1445.72 1260.98,1445.72 1264.4,1445.72 1267.81,1445.72 \n",
       "  1271.22,1445.72 1274.63,1445.72 1278.05,1445.72 1281.46,1445.72 1284.87,1445.72 1288.28,1445.72 1291.69,1445.72 1295.11,1445.72 1298.52,1445.72 1301.93,1445.72 \n",
       "  1305.34,1445.72 1308.75,1445.72 1312.17,1445.72 1315.58,1445.72 1318.99,1445.72 1322.4,1445.72 1325.81,1445.72 1329.23,1445.72 1332.64,1445.72 1336.05,1445.72 \n",
       "  1339.46,1445.72 1342.88,1445.72 1346.29,1445.72 1349.7,1445.72 1353.11,1445.72 1356.52,1445.72 1359.94,1445.72 1363.35,1445.72 1366.76,1445.72 1370.17,1445.72 \n",
       "  1373.58,1445.72 1377,1445.72 1380.41,1445.72 1383.82,1445.72 1387.23,1445.72 1390.64,1445.72 1394.06,1445.72 1397.47,1445.72 1400.88,1445.72 1404.29,1445.72 \n",
       "  1407.71,1445.72 1411.12,1445.72 1414.53,1445.72 1417.94,1445.72 1421.35,1445.72 1424.77,1445.72 1428.18,1445.72 1431.59,1445.72 1435,1445.72 1438.41,1445.72 \n",
       "  1441.83,1445.72 1445.24,1445.72 1448.65,1445.72 1452.06,1445.72 1455.47,1445.72 1458.89,1445.72 1462.3,1445.72 1465.71,1445.72 1469.12,1445.72 1472.54,1445.72 \n",
       "  1475.95,1445.72 1479.36,1445.72 1482.77,1445.72 1486.18,1445.72 1489.6,1445.72 1493.01,1445.72 1496.42,1445.72 1499.83,1445.72 1503.24,1445.72 1506.66,1445.72 \n",
       "  1510.07,1445.72 1513.48,1445.72 1516.89,1445.72 1520.3,1445.72 1523.72,1445.72 1527.13,1445.72 1530.54,1445.72 1533.95,1445.72 1537.37,1445.72 1540.78,1445.72 \n",
       "  1544.19,1445.72 1547.6,1445.72 1551.01,1445.72 1554.43,1445.72 1557.84,1445.72 1561.25,1445.72 1564.66,1445.72 1568.07,1445.72 1571.49,1445.72 1574.9,1445.72 \n",
       "  1578.31,1445.72 1581.72,1445.72 1585.13,1445.72 1588.55,1445.72 1591.96,1445.72 1595.37,1445.72 1598.78,1445.72 1602.2,1445.72 1605.61,1445.72 1609.02,1445.72 \n",
       "  1612.43,1445.72 1615.84,1445.72 1619.26,1445.72 1622.67,1445.72 1626.08,1445.72 1629.49,1445.72 1632.9,1445.72 1636.32,1445.72 1639.73,1445.72 1643.14,1445.72 \n",
       "  1646.55,1445.72 1649.96,1445.72 1653.38,1445.72 1656.79,1445.72 1660.2,1445.72 1663.61,1445.72 1667.03,1445.72 1670.44,1445.72 1673.85,1445.72 1677.26,1445.72 \n",
       "  1680.67,1445.72 1684.09,1445.72 1687.5,1445.72 1690.91,1445.72 1694.32,1445.72 1697.73,1445.72 1701.15,1445.72 1704.56,1445.72 1707.97,1445.72 1711.38,1445.72 \n",
       "  1714.79,1445.72 1718.21,1445.72 1721.62,1445.72 1725.03,1445.72 1728.44,1445.72 1731.86,1445.72 1735.27,1445.72 1738.68,1445.72 1742.09,1445.72 1745.5,1445.72 \n",
       "  1748.92,1445.72 1752.33,1445.72 1755.74,1445.72 1759.15,1445.72 1762.56,1445.72 1765.98,1445.72 1769.39,1445.72 1772.8,1445.72 1776.21,1445.72 1779.62,1445.72 \n",
       "  1783.04,1445.72 1786.45,1445.72 1789.86,1445.72 1793.27,1445.72 1796.69,1445.72 1800.1,1445.72 1803.51,1445.72 1806.92,1445.72 1810.33,1445.72 1813.75,1445.72 \n",
       "  1817.16,1445.72 1820.57,1445.72 1823.98,1445.72 1827.39,1445.72 1830.81,1445.72 1834.22,1445.72 1837.63,1445.72 1841.04,1445.72 1844.45,1445.72 1847.87,1445.72 \n",
       "  1851.28,1445.72 1854.69,1445.72 1858.1,1445.72 1861.52,1445.72 1864.93,1445.72 1868.34,1445.72 1871.75,1445.72 1875.16,1445.72 1878.58,1445.72 1881.99,1445.72 \n",
       "  1885.4,1445.72 1888.81,1445.72 1892.22,1445.72 1895.64,1445.72 1899.05,1445.72 1902.46,1445.72 1905.87,1445.72 1909.28,1445.72 1912.7,1445.72 1916.11,1445.72 \n",
       "  1919.52,1445.72 1922.93,1445.72 1926.35,1445.72 1929.76,1445.72 1933.17,1445.72 1936.58,1445.72 1939.99,1445.72 1943.41,1445.72 1946.82,1445.72 1950.23,1445.72 \n",
       "  1953.64,1445.72 1957.05,1445.72 1960.47,1445.72 1963.88,1445.72 1967.29,1445.72 1970.7,1445.72 1974.11,1445.72 1977.53,1445.72 1980.94,1445.72 1984.35,1445.72 \n",
       "  1987.76,1445.72 1991.18,1445.72 1994.59,1445.72 1998,1445.72 2001.41,1445.72 2004.82,1445.72 2008.24,1445.72 2011.65,1445.72 2015.06,1445.72 2018.47,1445.72 \n",
       "  2021.88,1445.72 2025.3,1445.72 2028.71,1445.72 2032.12,1445.72 2035.53,1445.72 2038.94,1445.72 2042.36,1445.72 2045.77,1445.72 2049.18,1445.72 2052.59,1445.72 \n",
       "  2056.01,1445.72 2059.42,1445.72 2062.83,1445.72 2066.24,1445.72 2069.65,1445.72 2073.07,1445.72 2076.48,1445.72 2079.89,1445.72 2083.3,1445.72 2086.71,1445.72 \n",
       "  2090.13,1445.72 2093.54,1445.72 2096.95,1445.72 2100.36,1445.72 2103.77,1445.72 2107.19,1445.72 2110.6,1445.72 2114.01,1445.72 2117.42,1445.72 2120.84,1445.72 \n",
       "  2124.25,1445.72 2127.66,1445.72 2131.07,1445.72 2134.48,1445.72 2137.9,1445.72 2141.31,1445.72 2144.72,1445.72 2148.13,1445.72 2151.54,1445.72 2154.96,1445.72 \n",
       "  2158.37,1445.72 2161.78,1445.72 2165.19,1445.72 2168.6,1445.72 2172.02,1445.72 2175.43,1445.72 2178.84,1445.72 2182.25,1445.72 2185.67,1445.72 2189.08,1445.72 \n",
       "  2192.49,1445.72 2195.9,1445.72 2199.31,1445.72 2202.73,1445.72 2206.14,1445.72 2209.55,1445.72 2212.96,1445.72 2216.37,1445.72 2219.79,1445.72 2223.2,1445.72 \n",
       "  2226.61,1445.72 2230.02,1445.72 2233.43,1445.72 2236.85,1445.72 2240.26,1445.72 2243.67,1445.72 2247.08,1445.72 2250.5,1445.72 2253.91,1445.72 2257.32,1445.72 \n",
       "  2260.73,1445.72 2264.14,1445.72 2267.56,1445.72 2270.97,1445.72 2274.38,1445.72 2277.79,1445.72 2281.2,1445.72 2284.62,1445.72 2288.03,1445.72 2291.44,1445.72 \n",
       "  \n",
       "  \"/>\n",
       "<polyline clip-path=\"url(#clip252)\" style=\"stroke:#e26f46; stroke-linecap:butt; stroke-linejoin:round; stroke-width:4; stroke-opacity:1; fill:none\" points=\"\n",
       "  247.59,1445.72 251.002,1445.72 254.414,1445.72 257.826,1445.72 261.238,1445.72 264.65,1445.72 268.062,1445.72 271.474,1445.72 274.886,1445.72 278.298,1445.72 \n",
       "  281.711,1445.72 285.123,1445.72 288.535,1445.72 291.947,1445.72 295.359,1445.72 298.771,1445.72 302.183,1445.72 305.595,1445.72 309.007,1445.72 312.42,1445.72 \n",
       "  315.832,1445.72 319.244,1445.72 322.656,1445.72 326.068,1445.72 329.48,1445.72 332.892,1445.72 336.304,1445.72 339.716,1445.72 343.128,1445.72 346.541,1445.72 \n",
       "  349.953,1445.72 353.365,1445.72 356.777,1445.72 360.189,1445.72 363.601,1445.72 367.013,1445.72 370.425,1445.72 373.837,1445.72 377.25,1445.72 380.662,1445.72 \n",
       "  384.074,1445.72 387.486,1445.72 390.898,1445.72 394.31,1445.72 397.722,1445.72 401.134,1445.72 404.546,1445.72 407.958,1445.72 411.371,1445.72 414.783,1445.72 \n",
       "  418.195,1445.72 421.607,1445.72 425.019,1445.72 428.431,1445.72 431.843,1445.72 435.255,1445.72 438.667,1445.72 442.08,1445.72 445.492,1445.72 448.904,1445.72 \n",
       "  452.316,1445.72 455.728,1445.72 459.14,1445.72 462.552,1445.72 465.964,1445.72 469.376,1445.72 472.788,1445.72 476.201,1445.72 479.613,1445.72 483.025,1445.72 \n",
       "  486.437,1445.72 489.849,1445.72 493.261,1445.72 496.673,1445.72 500.085,1445.72 503.497,1445.72 506.91,1445.72 510.322,1445.72 513.734,1445.72 517.146,1445.72 \n",
       "  520.558,1445.72 523.97,1445.72 527.382,1445.72 530.794,1445.72 534.206,1445.72 537.618,1445.72 541.031,1445.72 544.443,1445.72 547.855,1445.72 551.267,1445.72 \n",
       "  554.679,1445.72 558.091,1445.72 561.503,1445.72 564.915,1445.72 568.327,1445.72 571.739,1445.72 575.152,1445.72 578.564,1445.72 581.976,1445.72 585.388,1445.72 \n",
       "  588.8,1445.72 592.212,1445.72 595.624,1445.72 599.036,1445.72 602.448,1445.72 605.861,1445.72 609.273,1445.72 612.685,1445.72 616.097,1445.72 619.509,1445.72 \n",
       "  622.921,1445.72 626.333,1445.72 629.745,1445.72 633.157,1445.72 636.569,1445.72 639.982,1445.72 643.394,1445.72 646.806,1445.72 650.218,1445.72 653.63,1445.72 \n",
       "  657.042,1445.72 660.454,1445.72 663.866,1445.72 667.278,1445.72 670.691,1445.72 674.103,1445.72 677.515,1445.72 680.927,1445.72 684.339,1445.72 687.751,1445.72 \n",
       "  691.163,1445.72 694.575,1445.72 697.987,1445.72 701.399,1445.72 704.812,1445.72 708.224,1445.72 711.636,1445.72 715.048,1445.72 718.46,1445.72 721.872,1445.72 \n",
       "  725.284,1445.72 728.696,1445.72 732.108,1445.72 735.521,1445.72 738.933,1445.72 742.345,1445.72 745.757,1445.72 749.169,1445.72 752.581,1445.72 755.993,1445.72 \n",
       "  759.405,1445.72 762.817,1445.72 766.229,1445.72 769.642,1445.72 773.054,1445.72 776.466,1445.72 779.878,1445.72 783.29,1445.72 786.702,1445.72 790.114,1445.72 \n",
       "  793.526,1445.72 796.938,1445.72 800.351,1445.72 803.763,1445.72 807.175,1445.72 810.587,1445.72 813.999,1445.72 817.411,1445.72 820.823,1445.72 824.235,1445.72 \n",
       "  827.647,1445.72 831.059,1445.72 834.472,1445.72 837.884,1445.72 841.296,1445.72 844.708,1445.72 848.12,1445.72 851.532,1445.72 854.944,1445.72 858.356,1445.72 \n",
       "  861.768,1445.72 865.181,1445.72 868.593,1445.72 872.005,1445.72 875.417,1445.72 878.829,1445.72 882.241,1445.72 885.653,1445.72 889.065,1445.72 892.477,1445.72 \n",
       "  895.889,1445.72 899.302,1445.72 902.714,1445.72 906.126,1445.72 909.538,1445.72 912.95,1445.72 916.362,1445.72 919.774,1445.72 923.186,1445.72 926.598,1445.72 \n",
       "  930.011,1445.72 933.423,1445.72 936.835,1445.72 940.247,1445.72 943.659,1445.72 947.071,1445.72 950.483,1445.72 953.895,1445.72 957.307,1445.72 960.719,1445.72 \n",
       "  964.132,1445.72 967.544,1445.72 970.956,1445.72 974.368,1445.72 977.78,1445.72 981.192,1445.72 984.604,1445.72 988.016,1445.72 991.428,1445.72 994.841,1445.72 \n",
       "  998.253,1445.72 1001.66,1445.72 1005.08,1445.72 1008.49,1445.72 1011.9,1445.72 1015.31,1445.72 1018.73,1445.72 1022.14,1445.72 1025.55,1445.72 1028.96,1445.72 \n",
       "  1032.37,1445.72 1035.79,1445.72 1039.2,1445.72 1042.61,1445.72 1046.02,1445.72 1049.43,1445.72 1052.85,1445.72 1056.26,1445.72 1059.67,1445.72 1063.08,1445.72 \n",
       "  1066.49,1445.72 1069.91,1445.72 1073.32,1445.72 1076.73,1445.72 1080.14,1445.72 1083.56,1445.72 1086.97,1445.72 1090.38,1445.72 1093.79,1445.72 1097.2,1445.72 \n",
       "  1100.62,1445.72 1104.03,1445.72 1107.44,1445.72 1110.85,1445.72 1114.26,1445.72 1117.68,1445.72 1121.09,1445.72 1124.5,1445.72 1127.91,1445.72 1131.32,1445.72 \n",
       "  1134.74,1445.72 1138.15,1445.72 1141.56,1445.72 1144.97,1445.72 1148.39,1445.72 1151.8,1445.72 1155.21,1445.72 1158.62,1445.72 1162.03,1445.72 1165.45,1445.72 \n",
       "  1168.86,1445.72 1172.27,1445.72 1175.68,1445.72 1179.09,1445.72 1182.51,1445.72 1185.92,1445.72 1189.33,1445.72 1192.74,1445.72 1196.15,1445.72 1199.57,1445.72 \n",
       "  1202.98,1445.72 1206.39,1445.72 1209.8,1445.72 1213.22,1445.72 1216.63,1445.72 1220.04,1445.72 1223.45,1445.72 1226.86,1445.72 1230.28,1445.72 1233.69,1445.72 \n",
       "  1237.1,1445.72 1240.51,1445.72 1243.92,1445.72 1247.34,1445.72 1250.75,1445.72 1254.16,1445.72 1257.57,1445.72 1260.98,1445.72 1264.4,1445.72 1267.81,1445.72 \n",
       "  1271.22,1445.72 1274.63,1445.72 1278.05,1445.72 1281.46,1445.72 1284.87,1445.72 1288.28,1445.72 1291.69,1445.72 1295.11,1445.72 1298.52,1445.72 1301.93,1445.72 \n",
       "  1305.34,1445.72 1308.75,1445.72 1312.17,1445.72 1315.58,1445.72 1318.99,1445.72 1322.4,1445.72 1325.81,1445.72 1329.23,1445.72 1332.64,1445.72 1336.05,1445.72 \n",
       "  1339.46,1445.72 1342.88,1445.72 1346.29,1445.72 1349.7,1445.72 1353.11,1445.72 1356.52,1445.72 1359.94,1445.72 1363.35,1445.72 1366.76,1445.72 1370.17,1445.72 \n",
       "  1373.58,1445.72 1377,1445.72 1380.41,1445.72 1383.82,1445.72 1387.23,1445.72 1390.64,1445.72 1394.06,1445.72 1397.47,1445.72 1400.88,1445.72 1404.29,1445.72 \n",
       "  1407.71,1445.72 1411.12,1445.72 1414.53,1445.72 1417.94,1445.72 1421.35,1445.72 1424.77,1445.72 1428.18,1445.72 1431.59,1445.72 1435,1445.72 1438.41,1445.72 \n",
       "  1441.83,1445.72 1445.24,1445.72 1448.65,1445.72 1452.06,1445.72 1455.47,1445.72 1458.89,1445.72 1462.3,1445.72 1465.71,1445.72 1469.12,1445.72 1472.54,1445.72 \n",
       "  1475.95,1445.72 1479.36,1445.72 1482.77,1445.72 1486.18,1445.72 1489.6,1445.72 1493.01,1445.72 1496.42,1445.72 1499.83,1445.72 1503.24,1445.72 1506.66,1445.72 \n",
       "  1510.07,1445.72 1513.48,1445.72 1516.89,1445.72 1520.3,1445.72 1523.72,1445.72 1527.13,1445.72 1530.54,1445.72 1533.95,1445.72 1537.37,1445.72 1540.78,1445.72 \n",
       "  1544.19,1445.72 1547.6,1445.72 1551.01,1445.72 1554.43,1445.72 1557.84,1445.72 1561.25,1445.72 1564.66,1445.72 1568.07,1445.72 1571.49,1445.72 1574.9,1445.72 \n",
       "  1578.31,1445.72 1581.72,1445.72 1585.13,1445.72 1588.55,1445.72 1591.96,1445.72 1595.37,1445.72 1598.78,1445.72 1602.2,1445.72 1605.61,1445.72 1609.02,1445.72 \n",
       "  1612.43,1445.72 1615.84,1445.72 1619.26,1445.72 1622.67,1445.72 1626.08,1445.72 1629.49,1445.72 1632.9,1445.72 1636.32,1445.72 1639.73,1445.72 1643.14,1445.72 \n",
       "  1646.55,1445.72 1649.96,1445.72 1653.38,1445.72 1656.79,1445.72 1660.2,1445.72 1663.61,1445.72 1667.03,1445.72 1670.44,1445.72 1673.85,1445.72 1677.26,1445.72 \n",
       "  1680.67,1445.72 1684.09,1445.72 1687.5,1445.72 1690.91,1445.72 1694.32,1445.72 1697.73,1445.72 1701.15,1445.72 1704.56,1445.72 1707.97,1445.72 1711.38,1445.72 \n",
       "  1714.79,1445.72 1718.21,1445.72 1721.62,1445.72 1725.03,1445.72 1728.44,1445.72 1731.86,1445.72 1735.27,1445.72 1738.68,1445.72 1742.09,1445.72 1745.5,1445.72 \n",
       "  1748.92,1445.72 1752.33,1445.72 1755.74,1445.72 1759.15,1445.72 1762.56,1445.72 1765.98,1445.72 1769.39,1445.72 1772.8,1445.72 1776.21,1445.72 1779.62,1445.72 \n",
       "  1783.04,1445.72 1786.45,1445.72 1789.86,1445.72 1793.27,1445.72 1796.69,1445.72 1800.1,1445.72 1803.51,1445.72 1806.92,1445.72 1810.33,1445.72 1813.75,1445.72 \n",
       "  1817.16,1445.72 1820.57,1445.72 1823.98,1445.72 1827.39,1445.72 1830.81,1445.72 1834.22,1445.72 1837.63,1445.72 1841.04,1445.72 1844.45,1445.72 1847.87,1445.72 \n",
       "  1851.28,1445.72 1854.69,1445.72 1858.1,1445.72 1861.52,1445.72 1864.93,1445.72 1868.34,1445.72 1871.75,1445.72 1875.16,1445.72 1878.58,1445.72 1881.99,1445.72 \n",
       "  1885.4,1445.72 1888.81,1445.72 1892.22,1445.72 1895.64,1445.72 1899.05,1445.72 1902.46,1445.72 1905.87,1445.72 1909.28,1445.72 1912.7,1445.72 1916.11,1445.72 \n",
       "  1919.52,1445.72 1922.93,1445.72 1926.35,1445.72 1929.76,1445.72 1933.17,1445.72 1936.58,1445.72 1939.99,1445.72 1943.41,1445.72 1946.82,1445.72 1950.23,1445.72 \n",
       "  1953.64,1445.72 1957.05,1445.72 1960.47,1445.72 1963.88,1445.72 1967.29,1445.72 1970.7,1445.72 1974.11,1445.72 1977.53,1445.72 1980.94,1445.72 1984.35,1445.72 \n",
       "  1987.76,1445.72 1991.18,1445.72 1994.59,1445.72 1998,1445.72 2001.41,1445.72 2004.82,1445.72 2008.24,1445.72 2011.65,1445.72 2015.06,1445.72 2018.47,1445.72 \n",
       "  2021.88,1445.72 2025.3,1445.72 2028.71,1445.72 2032.12,1445.72 2035.53,1445.72 2038.94,1445.72 2042.36,1445.72 2045.77,1445.72 2049.18,1445.72 2052.59,1445.72 \n",
       "  2056.01,1445.72 2059.42,1445.72 2062.83,1445.72 2066.24,1445.72 2069.65,1445.72 2073.07,1445.72 2076.48,1445.72 2079.89,1445.72 2083.3,1445.72 2086.71,1445.72 \n",
       "  2090.13,1445.72 2093.54,1445.72 2096.95,1445.72 2100.36,1445.72 2103.77,1445.72 2107.19,1445.72 2110.6,1445.72 2114.01,1445.72 2117.42,1445.72 2120.84,1445.72 \n",
       "  2124.25,1445.72 2127.66,1445.72 2131.07,1445.72 2134.48,1445.72 2137.9,1445.72 2141.31,1445.72 2144.72,1445.72 2148.13,1445.72 2151.54,1445.72 2154.96,1445.72 \n",
       "  2158.37,1445.72 2161.78,1445.72 2165.19,1445.72 2168.6,1445.72 2172.02,1445.72 2175.43,1445.72 2178.84,1445.72 2182.25,1445.72 2185.67,1445.72 2189.08,1445.72 \n",
       "  2192.49,1445.72 2195.9,1445.72 2199.31,1445.72 2202.73,1445.72 2206.14,1445.72 2209.55,1445.72 2212.96,1445.72 2216.37,1445.72 2219.79,1445.72 2223.2,1445.72 \n",
       "  2226.61,1445.72 2230.02,1445.72 2233.43,1445.72 2236.85,1445.72 2240.26,1445.72 2243.67,1445.72 2247.08,1445.72 2250.5,1445.72 2253.91,1445.72 2257.32,1445.72 \n",
       "  2260.73,1445.72 2264.14,1445.72 2267.56,1445.72 2270.97,1445.72 2274.38,1445.72 2277.79,1445.72 2281.2,1445.72 2284.62,1445.72 2288.03,1445.72 2291.44,1445.72 \n",
       "  \n",
       "  \"/>\n",
       "<path clip-path=\"url(#clip250)\" d=\"\n",
       "M1934.94 276.658 L2280.54 276.658 L2280.54 95.2176 L1934.94 95.2176  Z\n",
       "  \" fill=\"#ffffff\" fill-rule=\"evenodd\" fill-opacity=\"1\"/>\n",
       "<polyline clip-path=\"url(#clip250)\" style=\"stroke:#000000; stroke-linecap:butt; stroke-linejoin:round; stroke-width:4; stroke-opacity:1; fill:none\" points=\"\n",
       "  1934.94,276.658 2280.54,276.658 2280.54,95.2176 1934.94,95.2176 1934.94,276.658 \n",
       "  \"/>\n",
       "<polyline clip-path=\"url(#clip250)\" style=\"stroke:#009af9; stroke-linecap:butt; stroke-linejoin:round; stroke-width:4; stroke-opacity:1; fill:none\" points=\"\n",
       "  1959.01,155.698 2103.44,155.698 \n",
       "  \"/>\n",
       "<path clip-path=\"url(#clip250)\" d=\"M2144.02 136.959 L2144.02 140.501 L2139.94 140.501 Q2137.65 140.501 2136.75 141.427 Q2135.87 142.353 2135.87 144.76 L2135.87 147.052 L2142.88 147.052 L2142.88 150.362 L2135.87 150.362 L2135.87 172.978 L2131.59 172.978 L2131.59 150.362 L2127.51 150.362 L2127.51 147.052 L2131.59 147.052 L2131.59 145.246 Q2131.59 140.918 2133.6 138.95 Q2135.61 136.959 2139.99 136.959 L2144.02 136.959 Z\" fill=\"#000000\" fill-rule=\"evenodd\" fill-opacity=\"1\" /><path clip-path=\"url(#clip250)\" d=\"M2147.58 136.959 L2151.84 136.959 L2151.84 172.978 L2147.58 172.978 L2147.58 136.959 Z\" fill=\"#000000\" fill-rule=\"evenodd\" fill-opacity=\"1\" /><path clip-path=\"url(#clip250)\" d=\"M2160.31 162.746 L2160.31 147.052 L2164.57 147.052 L2164.57 162.584 Q2164.57 166.265 2166.01 168.116 Q2167.44 169.945 2170.31 169.945 Q2173.76 169.945 2175.75 167.746 Q2177.77 165.547 2177.77 161.751 L2177.77 147.052 L2182.03 147.052 L2182.03 172.978 L2177.77 172.978 L2177.77 168.996 Q2176.22 171.357 2174.16 172.515 Q2172.12 173.649 2169.41 173.649 Q2164.94 173.649 2162.63 170.871 Q2160.31 168.093 2160.31 162.746 M2171.03 146.427 L2171.03 146.427 Z\" fill=\"#000000\" fill-rule=\"evenodd\" fill-opacity=\"1\" /><path clip-path=\"url(#clip250)\" d=\"M2190.8 147.052 L2195.06 147.052 L2195.06 172.978 L2190.8 172.978 L2190.8 147.052 M2190.8 136.959 L2195.06 136.959 L2195.06 142.353 L2190.8 142.353 L2190.8 136.959 Z\" fill=\"#000000\" fill-rule=\"evenodd\" fill-opacity=\"1\" /><path clip-path=\"url(#clip250)\" d=\"M2221.03 150.987 L2221.03 136.959 L2225.29 136.959 L2225.29 172.978 L2221.03 172.978 L2221.03 169.089 Q2219.69 171.403 2217.63 172.538 Q2215.59 173.649 2212.72 173.649 Q2208.02 173.649 2205.06 169.899 Q2202.12 166.149 2202.12 160.038 Q2202.12 153.927 2205.06 150.177 Q2208.02 146.427 2212.72 146.427 Q2215.59 146.427 2217.63 147.561 Q2219.69 148.672 2221.03 150.987 M2206.52 160.038 Q2206.52 164.737 2208.44 167.422 Q2210.38 170.084 2213.76 170.084 Q2217.14 170.084 2219.09 167.422 Q2221.03 164.737 2221.03 160.038 Q2221.03 155.339 2219.09 152.677 Q2217.14 149.992 2213.76 149.992 Q2210.38 149.992 2208.44 152.677 Q2206.52 155.339 2206.52 160.038 Z\" fill=\"#000000\" fill-rule=\"evenodd\" fill-opacity=\"1\" /><polyline clip-path=\"url(#clip250)\" style=\"stroke:#e26f46; stroke-linecap:butt; stroke-linejoin:round; stroke-width:4; stroke-opacity:1; fill:none\" points=\"\n",
       "  1959.01,216.178 2103.44,216.178 \n",
       "  \"/>\n",
       "<path clip-path=\"url(#clip250)\" d=\"M2148.02 208.527 L2148.02 212.509 Q2146.22 211.513 2144.39 211.027 Q2142.58 210.518 2140.73 210.518 Q2136.59 210.518 2134.29 213.157 Q2132 215.772 2132 220.518 Q2132 225.263 2134.29 227.902 Q2136.59 230.518 2140.73 230.518 Q2142.58 230.518 2144.39 230.032 Q2146.22 229.522 2148.02 228.527 L2148.02 232.462 Q2146.24 233.296 2144.32 233.712 Q2142.42 234.129 2140.27 234.129 Q2134.41 234.129 2130.96 230.448 Q2127.51 226.768 2127.51 220.518 Q2127.51 214.175 2130.98 210.541 Q2134.48 206.907 2140.54 206.907 Q2142.51 206.907 2144.39 207.323 Q2146.26 207.717 2148.02 208.527 Z\" fill=\"#000000\" fill-rule=\"evenodd\" fill-opacity=\"1\" /><path clip-path=\"url(#clip250)\" d=\"M2165.47 210.518 Q2162.05 210.518 2160.06 213.203 Q2158.07 215.865 2158.07 220.518 Q2158.07 225.171 2160.04 227.856 Q2162.03 230.518 2165.47 230.518 Q2168.88 230.518 2170.87 227.833 Q2172.86 225.147 2172.86 220.518 Q2172.86 215.911 2170.87 213.226 Q2168.88 210.518 2165.47 210.518 M2165.47 206.907 Q2171.03 206.907 2174.2 210.518 Q2177.37 214.129 2177.37 220.518 Q2177.37 226.884 2174.2 230.518 Q2171.03 234.129 2165.47 234.129 Q2159.9 234.129 2156.72 230.518 Q2153.58 226.884 2153.58 220.518 Q2153.58 214.129 2156.72 210.518 Q2159.9 206.907 2165.47 206.907 Z\" fill=\"#000000\" fill-rule=\"evenodd\" fill-opacity=\"1\" /><path clip-path=\"url(#clip250)\" d=\"M2205.98 217.809 L2205.98 233.458 L2201.72 233.458 L2201.72 217.948 Q2201.72 214.268 2200.29 212.439 Q2198.85 210.61 2195.98 210.61 Q2192.53 210.61 2190.54 212.81 Q2188.55 215.009 2188.55 218.805 L2188.55 233.458 L2184.27 233.458 L2184.27 207.532 L2188.55 207.532 L2188.55 211.56 Q2190.08 209.222 2192.14 208.064 Q2194.22 206.907 2196.93 206.907 Q2201.4 206.907 2203.69 209.685 Q2205.98 212.439 2205.98 217.809 Z\" fill=\"#000000\" fill-rule=\"evenodd\" fill-opacity=\"1\" /><path clip-path=\"url(#clip250)\" d=\"M2231.01 208.296 L2231.01 212.323 Q2229.2 211.397 2227.26 210.935 Q2225.31 210.472 2223.23 210.472 Q2220.06 210.472 2218.46 211.444 Q2216.89 212.416 2216.89 214.36 Q2216.89 215.842 2218.02 216.698 Q2219.16 217.532 2222.58 218.296 L2224.04 218.62 Q2228.58 219.592 2230.47 221.374 Q2232.4 223.134 2232.4 226.305 Q2232.4 229.916 2229.53 232.022 Q2226.68 234.129 2221.68 234.129 Q2219.59 234.129 2217.33 233.712 Q2215.08 233.319 2212.58 232.508 L2212.58 228.11 Q2214.94 229.337 2217.23 229.962 Q2219.53 230.564 2221.77 230.564 Q2224.78 230.564 2226.4 229.546 Q2228.02 228.504 2228.02 226.629 Q2228.02 224.893 2226.84 223.967 Q2225.68 223.041 2221.72 222.184 L2220.24 221.837 Q2216.28 221.004 2214.53 219.291 Q2212.77 217.555 2212.77 214.546 Q2212.77 210.888 2215.36 208.898 Q2217.95 206.907 2222.72 206.907 Q2225.08 206.907 2227.16 207.254 Q2229.25 207.601 2231.01 208.296 Z\" fill=\"#000000\" fill-rule=\"evenodd\" fill-opacity=\"1\" /></svg>\n"
      ]
     },
     "execution_count": 54,
     "metadata": {},
     "output_type": "execute_result"
    }
   ],
   "source": [
    "plot(x,flu_0[:,2], label=\"fluid\")\n",
    "plot!(x,con_0[:,2], label=\"cons\")"
   ]
  },
  {
   "cell_type": "markdown",
   "metadata": {},
   "source": [
    "## Evolution\n",
    "\n",
    "First some memory allocations to make the functions fast:"
   ]
  },
  {
   "cell_type": "code",
   "execution_count": 55,
   "metadata": {
    "tags": []
   },
   "outputs": [],
   "source": [
    "#we initialize empty arrays\n",
    "    F_P = Array{Float64}(undef, U);\n",
    "\n",
    "    F_P = copy(F_P);\n",
    "    F_M = copy(F_P);\n",
    "    F_Pm3 = copy(F_P);\n",
    "    F_Pm2 = copy(F_P);\n",
    "    F_Pm1 = copy(F_P);\n",
    "    F_Pp1 = copy(F_P);\n",
    "    F_Pp2 = copy(F_P);\n",
    "    F_Pp3 = copy(F_P);\n",
    "    F_Mm3 = copy(F_P);\n",
    "    F_Mm2 = copy(F_P);\n",
    "    F_Mm1 = copy(F_P);\n",
    "    F_Mp1 = copy(F_P);\n",
    "    F_Mp2 = copy(F_P);\n",
    "    F_Mp3 = copy(F_P);\n",
    "\n",
    "    F_LP = copy(F_P);\n",
    "    F_LM = copy(F_P);\n",
    "    F_RM = copy(F_P);\n",
    "    F_RP = copy(F_P);\n",
    "    H_m = copy(F_P);\n",
    "    H_p = copy(F_P);\n",
    "    sourcevec = copy(F_P);\n",
    "    \n",
    "    par_mem = (F_Mm3, F_Mm2, F_Mm1, F_M, F_Mp1, F_Mp2, F_Mp3, F_Pm3, F_Pm2, \n",
    "    F_Pm1, F_P, F_Pp1, F_Pp2, F_Pp3, F_LP, F_LM, F_RP, F_RM, H_m, H_p, sourcevec); "
   ]
  },
  {
   "cell_type": "markdown",
   "metadata": {},
   "source": [
    "Final set of parameters to pass to the ODE integrator"
   ]
  },
  {
   "cell_type": "code",
   "execution_count": 56,
   "metadata": {},
   "outputs": [],
   "source": [
    "par = (par_eq, par_inv, 1.0/dx, U, M, Flux_imp!, Speed_max, Is!, c_to_f!, par_mem);\n",
    "        #par = (par_eq, par_inv, 1. /dx, U, M, Flux_imp!, Speed_max, Is_dummy!, c_to_f!, par_mem);\n",
    "    #if Euler\n",
    "    #    par = (par_eq, par_inv, 1. /dx, U, M, Flux_imp!, Speed_max, Is_dummy!, c_to_f!, par_mem);\n",
    "    #end"
   ]
  },
  {
   "cell_type": "code",
   "execution_count": 57,
   "metadata": {},
   "outputs": [
    {
     "data": {
      "text/plain": [
       "evolution_fast (generic function with 1 method)"
      ]
     },
     "execution_count": 57,
     "metadata": {},
     "output_type": "execute_result"
    }
   ],
   "source": [
    "function evolution_fast(du,u,par,t)\n",
    "    # this is the function that is taken by the time-integrator\n",
    "    par_eq, par_inv, h, U, M, Flux, Speed_max, Source, c_to_f, par_mem = par\n",
    "    \n",
    "    χ, ξ = par_eq\n",
    "    \n",
    "    if Euler\n",
    "    c_to_f_direct!(u,(U, M))\n",
    "    else\n",
    "    c_to_f!(u,par_inv)\n",
    "    end\n",
    "    \n",
    "    par_mp5 = (h, U, M, χ, par_eq, Flux, Speed_max, Source, par_mem)\n",
    "    \n",
    "    mp5!(du,u,par_mp5,t)\n",
    "    return du[:]\n",
    "end"
   ]
  },
  {
   "cell_type": "code",
   "execution_count": null,
   "metadata": {
    "tags": []
   },
   "outputs": [],
   "source": [
    "prob = ODEProblem(evolution_fast,u_i,(0.0,tf),par);\n",
    "sol = solve(prob,SSPRK33(),dt=dt,saveat=0.01*tf);\n",
    "    #sol = solve(prob,SSPRK33(),saveat=0.01*t);\n",
    "#sol = solve(prob,SSPRK33(),dt=dt,save_everystep=false) # to get just the end values\n",
    "#sol = solve(prob,RK4(),dt=dt);\n",
    "@bell sleep(3)"
   ]
  },
  {
   "cell_type": "markdown",
   "metadata": {},
   "source": [
    "### Save the solution (be carefull not to overwrite old ones!) This is changed when choosing the initial data."
   ]
  },
  {
   "cell_type": "code",
   "execution_count": null,
   "metadata": {
    "tags": []
   },
   "outputs": [],
   "source": [
    "save(\"Resultados/Soluciones/$out_name.jld2\", Dict(\"$out_name\" => sol))\n",
    "#sol = load(\"Resultados/Soluciones/$name.jld2\",\"$name\");"
   ]
  },
  {
   "cell_type": "markdown",
   "metadata": {},
   "source": [
    "### Results analysis"
   ]
  },
  {
   "cell_type": "code",
   "execution_count": null,
   "metadata": {},
   "outputs": [],
   "source": [
    "#sol(t) = sol_nr_p5(t) - sol_nr_n0(t)\n",
    "#sol(t) = sol_n0_0(t)\n",
    "field = 1\n",
    "plot(x,reshape(sol(0.),(M,U))[:,field], label=\"ti\", ls=:dot)\n",
    "plot!(x,reshape(sol(tf/8),(M,U))[:,field])\n",
    "plot!(x,reshape(sol(tf/4),(M,U))[:,field])\n",
    "plot!(x,reshape(sol(tf/2),(M,U))[:,field])\n",
    "plot!(x,reshape(sol(tf),(M,U))[:,field], label=\"tf\", ls=:dash)"
   ]
  },
  {
   "cell_type": "code",
   "execution_count": null,
   "metadata": {},
   "outputs": [],
   "source": [
    "##### ssol(t) = sol_dir_n0(t)\n",
    "#ssol(t) = sol(t)\n",
    "t=tf\n",
    "shift = 0# U÷2 # 0 is conserv otherwise is fluid\n",
    "anim = @animate for i ∈ 1:100\n",
    "    t = tf*(0.01*i)\n",
    "    plot((reshape(sol(t),(M,U))[:,shift+1] .- 0.17),label=\"e\"\n",
    "        , yaxis = (\"conserv\", (-0.15,0.01))\n",
    "    )\n",
    "    plot!((reshape(sol(t),(M,U))[:,shift+2] .- 0.),label=\"s\")\n",
    "    plot!(0.20 *reshape(sol(t),(M,U))[:,shift+3] .- 0.,label=\"c1\")\n",
    "    plot!(0.20 *reshape(sol(t),(M,U))[:,shift+4],label=\"c2\")\n",
    "    plot!(0.20 *reshape(sol(t),(M,U))[:,shift+5] .- 0.,label=\"c3\")\n",
    "end\n",
    "\n",
    "gif(anim, \"Resultados/Movies/con_$out_name.gif\", fps = 10)"
   ]
  },
  {
   "cell_type": "code",
   "execution_count": null,
   "metadata": {},
   "outputs": [],
   "source": [
    "#ssol(t) = sol_dir_n0(t)\n",
    "ssol(t) = sol(t)\n",
    "shift = U÷2 # 0 is conserv otherwise is fluid\n",
    "t = tf \n",
    "A1 = χ[2]       #1\n",
    "A2 = -χ[3]*16/5 #-16A2 # A2 = 1.1474099846235424\n",
    "A3 = χ[3]*4     #20A1 #-1.43426248077943\n",
    "anim = @animate for i ∈ 1:100\n",
    "    plot((reshape(ssol(t*0.01*i),(M,U))[:,shift+1] .+ 6),label=\"μ\"\n",
    "        ,yaxis = (\"fluid\", (-1,2))\n",
    "    )\n",
    "    plot!((reshape(ssol(t*0.01*i),(M,U))[:,shift+2]) ,label=\"v\", ls=:dot)\n",
    "    plot!(reshape(ssol(t*0.01*i),(M,U))[:,shift+3].*10 ,label=\"x1\", ls=:dot)\n",
    "    plot!(reshape(ssol(t*0.01*i),(M,U))[:,shift+4].*100 ,label=\"x2\", ls=:dash)\n",
    "    plot!(reshape(ssol(t*0.01*i),(M,U))[:,shift+5].*10 ,label=\"x3\")\n",
    "    #plot!(1.0 .*(A1 .* reshape(ssol(t*0.01*i),(M,U))[:,shift+ 1] .+ A2 .* reshape(ssol(t*0.01*i),(M,U))[:,shift+3]  .+ A3 .* reshape(ssol(t*0.01*i),(M,U))[:,shift+5] .- 1.),label=\"modo cero\")\n",
    "end\n",
    "\n",
    "gif(anim, \"Resultados/Movies/flu_$out_name.gif\", fps = 10)"
   ]
  },
  {
   "cell_type": "code",
   "execution_count": null,
   "metadata": {},
   "outputs": [],
   "source": [
    "##### ssol(t) = sol_dir_n0(t)\n",
    "ssol(t) = sol(t)\n",
    "t = tf\n",
    "shift = 0# U÷2 # 0 is conserv otherwise is fluid\n",
    "    plot(reshape(ssol(t),(M,U))[:,shift+1] .+ 0.170,label=\"e\" \n",
    "    #,xlim = (0,60)\n",
    "    , yaxis = (\"conserv\"\n",
    "    #, (-0.25,0.2)\n",
    "    )\n",
    "    )\n",
    "    plot!(reshape(ssol(t),(M,U))[:,shift+2] .- 0.,label=\"s\")\n",
    "    plot!(reshape(ssol(t),(M,U))[:,shift+3] .- 0.,label=\"c1\")\n",
    "    plot!(reshape(ssol(t),(M,U))[:,shift+4],label=\"c2\")\n",
    "    plot!(reshape(ssol(t),(M,U))[:,shift+5] .- 0.,label=\"c3\")"
   ]
  },
  {
   "cell_type": "markdown",
   "metadata": {},
   "source": [
    "### Zero mode: \n",
    "\n",
    "This part is outdated, new values have to be computed now. Not done yet."
   ]
  },
  {
   "cell_type": "code",
   "execution_count": 22,
   "metadata": {},
   "outputs": [
    {
     "name": "stderr",
     "output_type": "stream",
     "text": [
      "┌ Info: Saved animation to \n",
      "│   fn = /Users/reula/Julia/Fluidos_Conformes/Resultados/Movies/zero_sourcesquare_pulse_short.gif\n",
      "└ @ Plots /Users/reula/.julia/packages/Plots/XuV6v/src/animation.jl:104\n"
     ]
    },
    {
     "data": {
      "text/html": [
       "<img src=\"data:image/gif;base64,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\" />"
      ],
      "text/plain": [
       "Plots.AnimatedGif(\"/Users/reula/Julia/Fluidos_Conformes/Resultados/Movies/zero_sourcesquare_pulse_short.gif\")"
      ]
     },
     "execution_count": 22,
     "metadata": {},
     "output_type": "execute_result"
    }
   ],
   "source": [
    "# This part is outdated, new values have to be computed now. Not done yet.\n",
    "\n",
    "\n",
    "t = tf\n",
    "A1 = 1\n",
    "A2 = -16\n",
    "A3 = 20\n",
    "B1 = χ[2]\n",
    "B2 = -χ[3]*16/5\n",
    "B3 = χ[3]*4\n",
    "shift = 5\n",
    "anim = @animate for i ∈ 1:100\n",
    "    plot(A1 .* reshape(ssol(t*0.01*i),(M,U))[:,shift+ 1] .+ A2 .* reshape(ssol(t*0.01*i),(M,U))[:,shift+3]  .+ A3 .* reshape(ssol(t*0.01*i),(M,U))[:,shift+5] .+ 1\n",
    "    ,label=\"extraño modo cero\"\n",
    "    , yaxis = (\"fluid\", (-0.1 , 0.10))\n",
    "    )\n",
    "    #plot!(1.1/1.4*(B1 .* reshape(ssol(t*0.01*i),(M,U))[:,shift+ 1] .+ B2 .* reshape(ssol(t*0.01*i),(M,U))[:,shift+3]  .+ B3 .* reshape(ssol(t*0.01*i),(M,U))[:,shift+5])\n",
    "    #    ,label=\"modo cero\")\n",
    "    plot!((B1 .* reshape(ssol(t*0.01*i),(M,U))[:,shift+ 1] .+ B2 .* reshape(ssol(t*0.01*i),(M,U))[:,shift+3]  .+ B3 .* reshape(ssol(t*0.01*i),(M,U))[:,shift+5] .- 1.)\n",
    "        ,label=\"modo cero\")\n",
    "end\n",
    "\n",
    "gif(anim, \"Resultados/Movies/zero_source$out_name.gif\", fps = 10)"
   ]
  },
  {
   "cell_type": "markdown",
   "metadata": {},
   "source": [
    "### Conservation Check"
   ]
  },
  {
   "cell_type": "code",
   "execution_count": null,
   "metadata": {},
   "outputs": [],
   "source": [
    "T00_0 = sum(reshape(sol(0),(M,U))[:,1])/M\n",
    "T01_0 = sum(reshape(sol(0),(M,U))[:,2])/M\n",
    "T00 = [sum(reshape(sol(tf*0.01*i) .- T00_0,(M,U))[:,1]) for i in 1:100]/M\n",
    "T01 = [sum(reshape(sol(tf*0.01*i) .- T01_0,(M,U))[:,2]) for i in 1:100]/M\n",
    "\n",
    "plot(T00)\n",
    "plot!(T01)\n",
    "savefig(\"Resultados/Movies/flu_$out_name\"*\"T0\")"
   ]
  },
  {
   "cell_type": "code",
   "execution_count": null,
   "metadata": {},
   "outputs": [],
   "source": [
    "a000 = [sum(reshape(sol(tf*0.01*i),(M,U))[:,3]) for i in 1:100]/M\n",
    "a001 = [sum(reshape(sol(tf*0.01*i),(M,U))[:,4]) for i in 1:100]/M\n",
    "a011 = [sum(reshape(sol(tf*0.01*i),(M,U))[:,5]) for i in 1:100]/M\n",
    "\n",
    "\n",
    "plot(a000 .- a000[1], ls=:dash, label=\"<A000>\")\n",
    "plot!(1*(a001.- a001[1]), ls=:dot, lw=4, label=\"<A001>\")\n",
    "plot!(a011.- a011[1], label=\"<A011>\")\n",
    "savefig(\"Resultados/Movies/flu_$out_name\"*\"A0\")"
   ]
  },
  {
   "cell_type": "markdown",
   "metadata": {},
   "source": [
    "They should be going down, at least after an initial time, don't seem to stabilize. Though the grows is only linear..."
   ]
  },
  {
   "cell_type": "code",
   "execution_count": null,
   "metadata": {},
   "outputs": [],
   "source": [
    "x1 = [sum(abs.(reshape(sol(tf*0.01*i),(M,U))[:,8])) for i in 1:100]/M\n",
    "x2 = [sum(abs.(reshape(sol(tf*0.01*i),(M,U))[:,9])) for i in 1:100]/M\n",
    "x3 = [sum(abs.(reshape(sol(tf*0.01*i),(M,U))[:,10])) for i in 1:100]/M\n",
    "plot(x1*10, ls=:dash, label=\"<ν>\")\n",
    "plot!(x2*10, ls=:dot, lw=4, label=\"<r1>\")\n",
    "plot!(x3, label=\"<τ11>\")\n",
    "savefig(\"Resultados/Movies/flu_$out_name\"*\"X\")"
   ]
  },
  {
   "cell_type": "markdown",
   "metadata": {},
   "source": [
    "The fluid fields out of equilibrium go to zero, also quite slow, lot of structure."
   ]
  },
  {
   "cell_type": "code",
   "execution_count": 26,
   "metadata": {},
   "outputs": [
    {
     "data": {
      "text/plain": [
       "4.0"
      ]
     },
     "execution_count": 26,
     "metadata": {},
     "output_type": "execute_result"
    }
   ],
   "source": [
    "tf"
   ]
  },
  {
   "cell_type": "code",
   "execution_count": null,
   "metadata": {},
   "outputs": [],
   "source": []
  }
 ],
 "metadata": {
  "author": "\\rho",
  "kernelspec": {
   "display_name": "Julia 1.6.1",
   "language": "julia",
   "name": "julia-1.6"
  },
  "language_info": {
   "file_extension": ".jl",
   "mimetype": "application/julia",
   "name": "julia",
   "version": "1.6.1"
  },
  "latex_envs": {
   "LaTeX_envs_menu_present": true,
   "autoclose": false,
   "autocomplete": true,
   "bibliofile": "biblio.bib",
   "cite_by": "apalike",
   "current_citInitial": 1,
   "eqLabelWithNumbers": true,
   "eqNumInitial": 1,
   "hotkeys": {
    "equation": "Ctrl-E",
    "itemize": "Ctrl-I"
   },
   "labels_anchors": false,
   "latex_user_defs": false,
   "report_style_numbering": false,
   "user_envs_cfg": false
  }
 },
 "nbformat": 4,
 "nbformat_minor": 4
}
