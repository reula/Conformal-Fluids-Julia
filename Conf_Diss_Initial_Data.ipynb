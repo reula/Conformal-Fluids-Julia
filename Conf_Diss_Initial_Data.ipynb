{
 "cells": [
  {
   "cell_type": "markdown",
   "metadata": {},
   "source": [
    "## Conformally invariant dissipative relativistic fluid\n",
    "\n",
    "Here we solve numerically the equations deduced in \\ref{xxx}\n",
    "\n",
    "### To Do:\n",
    "\n",
    "1. Use KT also (probably has a mistake to check first)\n",
    "2. Compare with the other code\n",
    "3. Try some other data\n",
    "4. Find some interesting (physically) data. The double shock is interesting and could be measured. "
   ]
  },
  {
   "cell_type": "code",
   "execution_count": 1,
   "metadata": {},
   "outputs": [],
   "source": [
    "using OrdinaryDiffEq\n",
    "using Plots\n",
    "using FileIO"
   ]
  },
  {
   "cell_type": "code",
   "execution_count": 2,
   "metadata": {},
   "outputs": [],
   "source": [
    "#mkdir(\"Resultados/Soluciones\")"
   ]
  },
  {
   "cell_type": "markdown",
   "metadata": {},
   "source": [
    "We add the modules needed for the computation:\n",
    "\n",
    "    choques_utils are the mp5 and kt shock capturing schemes\n",
    "    \n",
    "    Flux_functions_ext contain the fluxes and sources for the system\n",
    "    \n",
    "    inversion_ext the inversion between conservative and fluid quantities\n",
    "    \n",
    "The ext means that we are considering a vector of 10 variables, 5 conservative and 5 fluid variables. The fluid variables are evolved with a zero time derivative, and are updated inside the evolution equation using the inversion function."
   ]
  },
  {
   "cell_type": "code",
   "execution_count": 1,
   "metadata": {},
   "outputs": [
    {
     "name": "stderr",
     "output_type": "stream",
     "text": [
      "\u001b[32m\u001b[1m Activating\u001b[22m\u001b[39m environment at `~/Julia/Fluidos_Conformes/Conf_Fluids/Project.toml`\n",
      "\u001b[32m\u001b[1m   Updating\u001b[22m\u001b[39m registry at `~/.julia/registries/General`\n",
      "######################################################################### 100.0%\n",
      "\u001b[32m\u001b[1m  Resolving\u001b[22m\u001b[39m package versions...\n"
     ]
    },
    {
     "ename": "LoadError",
     "evalue": "LoadError: \u001b[91mUnsatisfiable requirements detected for package DocStringExtensions [ffbed154]:\u001b[39m\n\u001b[91m DocStringExtensions [ffbed154] log:\u001b[39m\n\u001b[91m ├─DocStringExtensions [ffbed154] has no known versions!\u001b[39m\n\u001b[91m └─found to have no compatible versions left with Symbolics [0c5d862f] \u001b[39m\n\u001b[91m   └─Symbolics [0c5d862f] log:\u001b[39m\n\u001b[91m     ├─possible versions are: 0.1.0-0.1.22 or uninstalled\u001b[39m\n\u001b[91m     ├─restricted to versions * by Conf_Fluids [feb31b11], leaving only versions 0.1.0-0.1.22\u001b[39m\n\u001b[91m     │ └─Conf_Fluids [feb31b11] log:\u001b[39m\n\u001b[91m     │   ├─possible versions are: 0.1.0 or uninstalled\u001b[39m\n\u001b[91m     │   └─Conf_Fluids [feb31b11] is fixed to version 0.1.0\u001b[39m\n\u001b[91m     └─restricted to versions 0.1.11 by an explicit requirement, leaving only versions 0.1.11\u001b[39m\nin expression starting at /Users/reula/Julia/Fluidos_Conformes/inversion_ext.jl:3",
     "output_type": "error",
     "traceback": [
      "LoadError: \u001b[91mUnsatisfiable requirements detected for package DocStringExtensions [ffbed154]:\u001b[39m\n\u001b[91m DocStringExtensions [ffbed154] log:\u001b[39m\n\u001b[91m ├─DocStringExtensions [ffbed154] has no known versions!\u001b[39m\n\u001b[91m └─found to have no compatible versions left with Symbolics [0c5d862f] \u001b[39m\n\u001b[91m   └─Symbolics [0c5d862f] log:\u001b[39m\n\u001b[91m     ├─possible versions are: 0.1.0-0.1.22 or uninstalled\u001b[39m\n\u001b[91m     ├─restricted to versions * by Conf_Fluids [feb31b11], leaving only versions 0.1.0-0.1.22\u001b[39m\n\u001b[91m     │ └─Conf_Fluids [feb31b11] log:\u001b[39m\n\u001b[91m     │   ├─possible versions are: 0.1.0 or uninstalled\u001b[39m\n\u001b[91m     │   └─Conf_Fluids [feb31b11] is fixed to version 0.1.0\u001b[39m\n\u001b[91m     └─restricted to versions 0.1.11 by an explicit requirement, leaving only versions 0.1.11\u001b[39m\nin expression starting at /Users/reula/Julia/Fluidos_Conformes/inversion_ext.jl:3",
      "",
      "Stacktrace:",
      " [1] propagate_constraints!(::Pkg.Resolve.Graph, ::Set{Int64}; log_events::Bool) at /Users/julia/buildbot/worker/package_macos64/build/usr/share/julia/stdlib/v1.5/Pkg/src/Resolve/graphtype.jl:1005",
      " [2] propagate_constraints! at /Users/julia/buildbot/worker/package_macos64/build/usr/share/julia/stdlib/v1.5/Pkg/src/Resolve/graphtype.jl:946 [inlined] (repeats 2 times)",
      " [3] simplify_graph!(::Pkg.Resolve.Graph, ::Set{Int64}; clean_graph::Bool) at /Users/julia/buildbot/worker/package_macos64/build/usr/share/julia/stdlib/v1.5/Pkg/src/Resolve/graphtype.jl:1460",
      " [4] simplify_graph! at /Users/julia/buildbot/worker/package_macos64/build/usr/share/julia/stdlib/v1.5/Pkg/src/Resolve/graphtype.jl:1460 [inlined] (repeats 2 times)",
      " [5] resolve_versions!(::Pkg.Types.Context, ::Array{Pkg.Types.PackageSpec,1}) at /Users/julia/buildbot/worker/package_macos64/build/usr/share/julia/stdlib/v1.5/Pkg/src/Operations.jl:375",
      " [6] targeted_resolve at /Users/julia/buildbot/worker/package_macos64/build/usr/share/julia/stdlib/v1.5/Pkg/src/Operations.jl:1114 [inlined]",
      " [7] tiered_resolve(::Pkg.Types.Context, ::Array{Pkg.Types.PackageSpec,1}) at /Users/julia/buildbot/worker/package_macos64/build/usr/share/julia/stdlib/v1.5/Pkg/src/Operations.jl:1100",
      " [8] _resolve at /Users/julia/buildbot/worker/package_macos64/build/usr/share/julia/stdlib/v1.5/Pkg/src/Operations.jl:1120 [inlined]",
      " [9] add(::Pkg.Types.Context, ::Array{Pkg.Types.PackageSpec,1}, ::Array{Base.UUID,1}; preserve::Pkg.Types.PreserveLevel, platform::Pkg.BinaryPlatforms.MacOS) at /Users/julia/buildbot/worker/package_macos64/build/usr/share/julia/stdlib/v1.5/Pkg/src/Operations.jl:1135",
      " [10] add(::Pkg.Types.Context, ::Array{Pkg.Types.PackageSpec,1}; preserve::Pkg.Types.PreserveLevel, platform::Pkg.BinaryPlatforms.MacOS, kwargs::Base.Iterators.Pairs{Union{},Union{},Tuple{},NamedTuple{(),Tuple{}}}) at /Users/julia/buildbot/worker/package_macos64/build/usr/share/julia/stdlib/v1.5/Pkg/src/API.jl:188",
      " [11] add(::Pkg.Types.Context, ::Array{Pkg.Types.PackageSpec,1}) at /Users/julia/buildbot/worker/package_macos64/build/usr/share/julia/stdlib/v1.5/Pkg/src/API.jl:139",
      " [12] #add#21 at /Users/julia/buildbot/worker/package_macos64/build/usr/share/julia/stdlib/v1.5/Pkg/src/API.jl:67 [inlined]",
      " [13] add at /Users/julia/buildbot/worker/package_macos64/build/usr/share/julia/stdlib/v1.5/Pkg/src/API.jl:67 [inlined]",
      " [14] #add#20 at /Users/julia/buildbot/worker/package_macos64/build/usr/share/julia/stdlib/v1.5/Pkg/src/API.jl:66 [inlined]",
      " [15] add at /Users/julia/buildbot/worker/package_macos64/build/usr/share/julia/stdlib/v1.5/Pkg/src/API.jl:66 [inlined]",
      " [16] add(::String; kwargs::Base.Iterators.Pairs{Union{},Union{},Tuple{},NamedTuple{(),Tuple{}}}) at /Users/julia/buildbot/worker/package_macos64/build/usr/share/julia/stdlib/v1.5/Pkg/src/API.jl:65",
      " [17] add(::String) at /Users/julia/buildbot/worker/package_macos64/build/usr/share/julia/stdlib/v1.5/Pkg/src/API.jl:65",
      " [18] top-level scope at /Users/reula/Julia/Fluidos_Conformes/inversion_ext.jl:3",
      " [19] include(::String) at ./client.jl:457",
      " [20] top-level scope at In[1]:1",
      " [21] include_string(::Function, ::Module, ::String, ::String) at ./loading.jl:1091"
     ]
    }
   ],
   "source": [
    "include(\"inversion_ext.jl\")"
   ]
  },
  {
   "cell_type": "code",
   "execution_count": 2,
   "metadata": {},
   "outputs": [
    {
     "data": {
      "text/plain": [
       "Speed_max (generic function with 1 method)"
      ]
     },
     "execution_count": 2,
     "metadata": {},
     "output_type": "execute_result"
    }
   ],
   "source": [
    "include(\"choques_utils.jl\") # all functions needed for evolution\n",
    "include(\"Flux_function_ext.jl\")"
   ]
  },
  {
   "cell_type": "markdown",
   "metadata": {},
   "source": [
    "Some set of parameters:\n",
    "\n",
    "This have all $v_0(x) = flu_0[i,2] = 0.1 + 0.1 * (x[i] - x0)^4 * (x[i] - x1)^4 / (x1-x0)^8 * 250 $ in the interval $[0.4,0.6]$\n",
    "\n",
    "$\\mu = flu_0[i,1] = -1.$\n",
    "\n",
    "\n",
    "n_0 χ = [- 1.; 0.; - 1.] Speed = 1 dt/dx = 0.1 T = 2    **This is Euler**\n",
    "\n",
    "p_1 χ = [- 1.; - 2.; - 10.] Speed = 1 dt/dx = 0.1\n",
    "\n",
    "p_2 χ = [- 1.; - 2.; - 10.] Speed = 1 dt/dx = 0.01\n",
    "\n",
    "p_3 χ = [- 1.; - 2.; - 10.] Speed = 10 dt/dx = 0.01\n",
    "\n",
    "p_4 χ = [- 1.; - 0.5; - 200.] Speed = 1 dt/dx = 0.1\n",
    "\n",
    "p_5 χ = [- 1.; -0.5; - 5.] Speed = 1 dt/dx = 0.1 (con fuente) T = 2\n",
    "\n",
    "\n",
    "We now change to a zero background speed and put the pulse near zero so that they don't cross at bad places.\n",
    "\n",
    "n0_0 χ = [- 1.; 0.; - 1.] Speed = 1 dt/dx = 0.1 T = 2    **This is Euler**"
   ]
  },
  {
   "cell_type": "code",
   "execution_count": 3,
   "metadata": {},
   "outputs": [
    {
     "data": {
      "text/plain": [
       "true"
      ]
     },
     "execution_count": 3,
     "metadata": {},
     "output_type": "execute_result"
    }
   ],
   "source": [
    "Euler = false\n",
    "sod = false    # No implementado\n",
    "speed_pulse = false # a simple speed pulse (no muy interesante pues hay pulsos en las dos direcciones)\n",
    "temperature_pulse = false # a simple temperature μ pulse (no implementado)\n",
    "small_pulse_to_the_right = false # low velocity perturbation pulse in just one direction\n",
    "big_pulse_to_the_right = false # Choques (la velocidad no es muy alta todavía)\n",
    "big_pulse_negative_I = false\n",
    "# poner a continuación la que uno quiere usar con un true (así todos los demás quedan en false)\n",
    "\n",
    "#big_pulse_to_the_right = true\n",
    "#big_pulse_to_the_right_E = true\n",
    "#big_pulse_negative_I = true   #no parece funcionar\n",
    "#small_pulse_to_the_right = true\n",
    "small_pulse_to_the_right = true\n",
    "#Euler = true"
   ]
  },
  {
   "cell_type": "code",
   "execution_count": 4,
   "metadata": {},
   "outputs": [
    {
     "data": {
      "text/plain": [
       "([-1.0, -0.5, -10.0], 1.0000000000000006e-10, 40, 10, 600)"
      ]
     },
     "execution_count": 4,
     "metadata": {},
     "output_type": "execute_result"
    }
   ],
   "source": [
    "if speed_pulse\n",
    "    name = \"speed_pulse\" \n",
    "    L=2.4 # Length of the integration region\n",
    "    M=600 # number of space-points in the discretization\n",
    "    t=2. # final time\n",
    "    dx = L/M\n",
    "    dt = 0.1 * dx # this depends on the maximal propagation speed\n",
    "    tol = 10^(-10) # error tolerance in inversion function (Newton-Raphson)\n",
    "    iter_max = 40  # maximum number of NR iterations\n",
    "\n",
    "    χ = [- 1.0; - 0.1; - 5.0] # the equation parameters \n",
    "    ξ = (49.735919716217296, 16.578639905405765) # (λ, κ) dissipative parameters\n",
    "\n",
    "    \n",
    "elseif sod\n",
    "    name = \"sod\" \n",
    "    L=1. # Length of the integration region\n",
    "    M=400 # number of space-points in the discretization\n",
    "    t=2. # final time\n",
    "    dx = L/M\n",
    "    dt = 0.1 * dx # this depends on the maximal propagation speed\n",
    "    tol = 10^(-10) # error tolerance in inversion function (Newton-Raphson)\n",
    "    iter_max = 40  # maximum number of NR iterations\n",
    "\n",
    "    χ = [- 1.0; - 0.1; - 5.0] # the equation parameters \n",
    "    ξ = (49.735919716217296, 16.578639905405765) # (λ, κ) dissipative parameters\n",
    "\n",
    "\n",
    "elseif  small_pulse_to_the_right\n",
    "    name = \"small_right_p\" \n",
    "    L=4. # Length of the integration region\n",
    "    M=600 # number of space-points in the discretization\n",
    "    t=4. # final time\n",
    "    dx = L/M\n",
    "    dt = 0.1 * dx # this depends on the maximal propagation speed\n",
    "    tol = 10^(-10) # error tolerance in inversion function (Newton-Raphson)\n",
    "    iter_max = 40  # maximum number of NR iterations\n",
    "\n",
    "    χ = [- 1.0; - 0.5; - 10.0] # the equation parameters \n",
    "    ξ = (49.735919716217296, 16.578639905405765) # (λ, κ) dissipative parameters\n",
    "    \n",
    "elseif  big_pulse_to_the_right\n",
    "    name = \"big_right_p\" \n",
    "    L=4. # Length of the integration region\n",
    "    M=600 # number of space-points in the discretization\n",
    "    t=4. # final time\n",
    "    dx = L/M\n",
    "    dt = 0.1 * dx # this depends on the maximal propagation speed\n",
    "    tol = 10^(-10) # error tolerance in inversion function (Newton-Raphson)\n",
    "    iter_max = 400  # maximum number of NR iterations\n",
    "    \n",
    "    χ = [- 1.0; - 0.5; - 10.0] # the equation parameters \n",
    "    ξ = (49.735919716217296, 16.578639905405765) # (λ, κ) dissipative parameters\n",
    "    \n",
    "elseif  big_pulse_negative_I\n",
    "    name = \"big_right_p_neg_I\" \n",
    "    L=4. # Length of the integration region\n",
    "    M=600 # number of space-points in the discretization\n",
    "    t=0.4 # final time\n",
    "    dx = L/M\n",
    "    dt = 0.1 * dx # this depends on the maximal propagation speed\n",
    "    tol = 10^(-10) # error tolerance in inversion function (Newton-Raphson)\n",
    "    iter_max = 400  # maximum number of NR iterations\n",
    "    \n",
    "    χ = [- 1.0; - 0.5; - 10.0] # the equation parameters \n",
    "    ξ = (49.735919716217296, 16.578639905405765) # (λ, κ) dissipative parameters\n",
    "end\n",
    "\n",
    "if Euler\n",
    "    χ[2] = 0.\n",
    "    name = name*\"_E\"\n",
    "end\n",
    "\n",
    "U=10 # number of fields (double the number of fields, one for fluid and the other for conservative quantities)\n",
    "u_i=zeros(M*U) # flux variables for the initial data (these are used for the flux function)\n",
    "du=zeros(M*U) # for the rhs\n",
    "x = zeros(M) # the coordinates\n",
    "    \n",
    "par_eq = (χ, ξ) # parameters to use on the equations\n",
    "par_inv = (χ, tol, iter_max, U, M) # parameters for the inversion\n",
    "    "
   ]
  },
  {
   "cell_type": "code",
   "execution_count": 5,
   "metadata": {},
   "outputs": [
    {
     "ename": "LoadError",
     "evalue": "\u001b[91mUndefVarError: c_to_f! not defined\u001b[39m",
     "output_type": "error",
     "traceback": [
      "\u001b[91mUndefVarError: c_to_f! not defined\u001b[39m",
      "",
      "Stacktrace:",
      " [1] top-level scope at In[5]:3",
      " [2] include_string(::Function, ::Module, ::String, ::String) at ./loading.jl:1091"
     ]
    }
   ],
   "source": [
    "#full list of parameters for the evolution function\n",
    "if χ[2] < 0\n",
    "    par = (par_eq, par_inv, 1. /dx, U, M, Flux, Speed_max, Is, c_to_f!) \n",
    "else\n",
    "    par = (par_eq, par_inv, 1. /dx, U, M, Flux, Speed_max, Is_dummy, c_to_f!)\n",
    "end"
   ]
  },
  {
   "cell_type": "code",
   "execution_count": 6,
   "metadata": {},
   "outputs": [
    {
     "ename": "LoadError",
     "evalue": "\u001b[91mUndefVarError: c_to_f! not defined\u001b[39m",
     "output_type": "error",
     "traceback": [
      "\u001b[91mUndefVarError: c_to_f! not defined\u001b[39m",
      "",
      "Stacktrace:",
      " [1] top-level scope at ./In[6]:49",
      " [2] include_string(::Function, ::Module, ::String, ::String) at ./loading.jl:1091"
     ]
    }
   ],
   "source": [
    "# the initial data\n",
    "# we give initial data in the fluid variables and then transform to conservatives\n",
    "\n",
    "if speed_pulse\n",
    "    \n",
    "    u_i=zeros(M*U)\n",
    "    con_0 = view(reshape(u_i,(M,U)),:,1:U÷2)\n",
    "    flu_0 = view(reshape(u_i,(M,U)),:,U÷2+1:U)\n",
    "    x0 = 0.0; x1 = 0.2 #x0 = 0.4; x1 = 0.6\n",
    "    v0 = 0.0; δv = 0.1 \n",
    "\n",
    "    for i in 1:M\n",
    "        x[i] = dx*(i-1)\n",
    "        if x[i] > x0 && x[i] < x1\n",
    "            flu_0[i,2] = v0 + δv *(x[i] - x0)^4 * (x[i] - x1)^4 / (x1-x0)^8 * 250                   #Sz\n",
    "            flu_0[i,1] = -0.0 # * sin(pi*(x[i] - x0)/(x1-x0))^4 * sin(2*pi*(x[i] - x0)/(x1-x0))     #By\n",
    "        else\n",
    "            flu_0[i,2] = v0\n",
    "        end\n",
    "    \n",
    "        flu_0[i,1] = -1.   #\n",
    "    #flu_0[i,2] = flu_0[i,2] + 0.1  # v\n",
    "    \n",
    "    end\n",
    "f_to_c!(u_i, (χ, U, M)); # populate the conservative variables from the fluid ones\n",
    "end\n",
    "\n",
    "if small_pulse_to_the_right\n",
    "\n",
    "    u_i=zeros(M*U)\n",
    "    con_0 = view(reshape(u_i,(M,U)),:,1:U÷2)\n",
    "    flu_0 = view(reshape(u_i,(M,U)),:,U÷2+1:U)\n",
    "\n",
    "    e0 = 6.; δe = 0.1\n",
    "    x0 = 0.; x1 = 0.2\n",
    "    λ = 1. /sqrt(3.)\n",
    "    for i in 1:M\n",
    "        x[i] = dx*(i-1)\n",
    "        if x[i] > x0 && x[i] < x1\n",
    "            con_0[i,1] = e0 + δe *(x[i] - x0)^4 * (x[i] - x1)^4 / (x1-x0)^8 * 250                   #Sz\n",
    "            con_0[i,2] = λ*(con_0[i,1] - e0)\n",
    "        else\n",
    "            con_0[i,1] = e0\n",
    "            con_0[i,2] = 0.\n",
    "        end\n",
    "            flu_0[i,1] = -1.\n",
    "    end\n",
    "    par_inv = (χ, tol, 10000, U, M)\n",
    "    u_i = c_to_f!(u_i,par_inv);\n",
    "    reshape(u_i,U,M)\n",
    "end\n",
    "\n",
    "if big_pulse_to_the_right || big_pulse_negative_I\n",
    "    \n",
    "    u_i=zeros(M*U)    \n",
    "    con_0 = view(reshape(u_i,(M,U)),:,1:U÷2)\n",
    "    flu_0 = view(reshape(u_i,(M,U)),:,U÷2+1:U)\n",
    "\n",
    "    e0 = 6.; δe = 4.0\n",
    "    x0 = 0.; x1 = 0.2\n",
    "    λ = 1. /sqrt(3.)\n",
    "    for i in 1:M\n",
    "        x[i] = dx*(i-1)\n",
    "        if x[i] > x0 && x[i] < x1\n",
    "            con_0[i,1] = e0 + δe *(x[i] - x0)^4 * (x[i] - x1)^4 / (x1-x0)^8 * 250                   #Sz\n",
    "            con_0[i,2] = λ*(con_0[i,1] - e0)\n",
    "        else\n",
    "            con_0[i,1] = e0\n",
    "            con_0[i,2] = 0.\n",
    "        end\n",
    "            flu_0[i,1] = -sqrt(con_0[i,1])/6\n",
    "    end\n",
    "    \n",
    "    if !Euler\n",
    "        χ_int = [- 1.0; -0.; - 10.0] #primero nos aproximamos a la solución con χ₁=0\n",
    "        par_inv = (χ, tol, 1000, U, M)\n",
    "        u_i = c_to_f!(u_i,par_inv);\n",
    "        χ = [- 1.0; -0.5; - 10.0] #luego buscamos la buena con la semilla anterior\n",
    "        par_inv = (χ, tol, 1000, U, M)\n",
    "        u_i = c_to_f!(u_i,par_inv);\n",
    "        #check!\n",
    "        if max(abs, f_to_c!(u_i,(χ,U,M)) - u_i) > 0.001\n",
    "            error(\"Not converging\")\n",
    "        end\n",
    "    else\n",
    "        u_i = c_to_f!(u_i,par_inv);\n",
    "    end\n",
    "        reshape(u_i,U,M)\n",
    "end"
   ]
  },
  {
   "cell_type": "code",
   "execution_count": 7,
   "metadata": {},
   "outputs": [
    {
     "ename": "LoadError",
     "evalue": "\u001b[91mUndefVarError: plot not defined\u001b[39m",
     "output_type": "error",
     "traceback": [
      "\u001b[91mUndefVarError: plot not defined\u001b[39m",
      "",
      "Stacktrace:",
      " [1] top-level scope at In[7]:1",
      " [2] include_string(::Function, ::Module, ::String, ::String) at ./loading.jl:1091"
     ]
    }
   ],
   "source": [
    "plot(flu_0[:,1] .+1) #plot(flu_0[:,1] .- 6)\n",
    "plot!(con_0[:,1] .-6)"
   ]
  },
  {
   "cell_type": "code",
   "execution_count": 8,
   "metadata": {},
   "outputs": [
    {
     "ename": "LoadError",
     "evalue": "\u001b[91mUndefVarError: plot not defined\u001b[39m",
     "output_type": "error",
     "traceback": [
      "\u001b[91mUndefVarError: plot not defined\u001b[39m",
      "",
      "Stacktrace:",
      " [1] top-level scope at In[8]:1",
      " [2] include_string(::Function, ::Module, ::String, ::String) at ./loading.jl:1091"
     ]
    }
   ],
   "source": [
    "plot(x,flu_0[:,2])\n",
    "plot!(x,con_0[:,2])"
   ]
  },
  {
   "cell_type": "code",
   "execution_count": 9,
   "metadata": {},
   "outputs": [
    {
     "data": {
      "text/plain": [
       "evolution (generic function with 1 method)"
      ]
     },
     "execution_count": 9,
     "metadata": {},
     "output_type": "execute_result"
    }
   ],
   "source": [
    "function evolution(du,u,par,t)\n",
    "    # this is the function that is taken by the time-integrator\n",
    "    par_eq, par_inv, h_1, U, M, Flux, Speed_max, Source, c_to_f = par\n",
    "    χ, ζ = par_eq\n",
    "    \n",
    "    #p_direct = (χ, U, M) #these are the parameters for direct\n",
    "    #c_to_f_direct!(u,p_direct)\n",
    "    c_to_f!(u,par_inv)\n",
    "    \n",
    "    par_mp5 = (h_1, U, M, χ, ζ, Flux, Speed_max, Source)\n",
    "    for j ∈ 1:M\n",
    "        mp5(du,u,par_mp5,j,t)\n",
    "    end\n",
    "    return du[:]\n",
    "end"
   ]
  },
  {
   "cell_type": "markdown",
   "metadata": {},
   "source": [
    "Me make a smaller `dt` evolution for a while in case that the field has to adjust to the sources in a very fast exponential way."
   ]
  },
  {
   "cell_type": "code",
   "execution_count": 10,
   "metadata": {},
   "outputs": [
    {
     "ename": "LoadError",
     "evalue": "\u001b[91mUndefVarError: ODEProblem not defined\u001b[39m",
     "output_type": "error",
     "traceback": [
      "\u001b[91mUndefVarError: ODEProblem not defined\u001b[39m",
      "",
      "Stacktrace:",
      " [1] top-level scope at In[10]:3",
      " [2] include_string(::Function, ::Module, ::String, ::String) at ./loading.jl:1091"
     ]
    }
   ],
   "source": [
    "if !Euler\n",
    "    u_r = zeros(U*M) # Initialization for the second, longer dt step.\n",
    "    prob_i = ODEProblem(evolution,u_i,(0.0,0.01*t),par);\n",
    "    prob = ODEProblem(evolution,u_r,(0.01*t,t),par);\n",
    "\n",
    "    #sol = solve(prob_euler_direct,SSPRK33(),dt=dt,saveat=0.01*t); # This, I think, is a TVD method\n",
    "    sol_i = solve(prob_i,SSPRK33(),dt=0.01*dt,saveat=0.01*t); \n",
    "    u_r = sol_i(0.01*t)\n",
    "\n",
    "\n",
    "else\n",
    "    prob = ODEProblem(evolution,u_i,(0.0,t),par);\n",
    "end\n",
    "\n",
    "    #sol = solve(prob,SSPRK33(),dt=dt,saveat=0.01*t);\n",
    "    sol = solve(prob,SSPRK33(),saveat=0.01*t);\n",
    "#sol = solve(prob,SSPRK33(),dt=dt,save_everystep=false) # to get just the end values\n",
    "#sol = solve(prob,RK4(),dt=dt);"
   ]
  },
  {
   "cell_type": "code",
   "execution_count": 11,
   "metadata": {},
   "outputs": [
    {
     "ename": "LoadError",
     "evalue": "\u001b[91mUndefVarError: sol not defined\u001b[39m",
     "output_type": "error",
     "traceback": [
      "\u001b[91mUndefVarError: sol not defined\u001b[39m",
      "",
      "Stacktrace:",
      " [1] top-level scope at In[11]:1",
      " [2] include_string(::Function, ::Module, ::String, ::String) at ./loading.jl:1091"
     ]
    }
   ],
   "source": [
    "save(\"Resultados/Soluciones/$name.jld2\", Dict(\"$name\" => sol))\n",
    "#sol = load(\"Resultados/Soluciones/$name.jld2\",\"$name\");"
   ]
  },
  {
   "cell_type": "code",
   "execution_count": 12,
   "metadata": {},
   "outputs": [
    {
     "ename": "LoadError",
     "evalue": "\u001b[91mUndefVarError: sol not defined\u001b[39m",
     "output_type": "error",
     "traceback": [
      "\u001b[91mUndefVarError: sol not defined\u001b[39m",
      "",
      "Stacktrace:",
      " [1] top-level scope at In[12]:8",
      " [2] include_string(::Function, ::Module, ::String, ::String) at ./loading.jl:1091"
     ]
    }
   ],
   "source": [
    "#sol(t) = sol_nr_p5(t) - sol_nr_n0(t)\n",
    "#sol(t) = sol_n0_0(t)\n",
    "field = 1\n",
    "#plot(x,reshape(sol(0.),(M,U))[:,field])\n",
    "#plot!(x,reshape(sol(t/8),(M,U))[:,field])\n",
    "#plot!(x,reshape(sol(t/4),(M,U))[:,field])\n",
    "#plot!(x,reshape(sol(t/2),(M,U))[:,field])\n",
    "plot(x,reshape(sol(t/1),(M,U))[:,field])"
   ]
  },
  {
   "cell_type": "code",
   "execution_count": 13,
   "metadata": {},
   "outputs": [
    {
     "ename": "LoadError",
     "evalue": "LoadError: \u001b[91mUndefVarError: @animate not defined\u001b[39m\nin expression starting at In[13]:5",
     "output_type": "error",
     "traceback": [
      "LoadError: \u001b[91mUndefVarError: @animate not defined\u001b[39m\nin expression starting at In[13]:5",
      "",
      "Stacktrace:",
      " [1] top-level scope",
      " [2] include_string(::Function, ::Module, ::String, ::String) at ./loading.jl:1091"
     ]
    }
   ],
   "source": [
    "##### ssol(t) = sol_dir_n0(t)\n",
    "#ssol(t) = sol(t)\n",
    "t=4\n",
    "shift = 0# U÷2 # 0 is conserv otherwise is fluid\n",
    "anim = @animate for i ∈ 1:100\n",
    "    plot(reshape(sol(t*0.01*i),(M,U))[:,shift+1] .- 6.0,label=\"e\", yaxis = (\"conserv\", (-1,5)))\n",
    "    plot!(reshape(sol(t*0.01*i),(M,U))[:,shift+2] .- 0.,label=\"s\")\n",
    "    plot!(reshape(sol(t*0.01*i),(M,U))[:,shift+3],label=\"c1\")\n",
    "    plot!(reshape(sol(t*0.01*i),(M,U))[:,shift+4],label=\"c2\")\n",
    "    plot!(reshape(sol(t*0.01*i),(M,U))[:,shift+5],label=\"c3\")\n",
    "end\n",
    "\n",
    "gif(anim, \"Resultados/Movies/$name.gif\", fps = 10)"
   ]
  },
  {
   "cell_type": "code",
   "execution_count": 14,
   "metadata": {},
   "outputs": [
    {
     "ename": "LoadError",
     "evalue": "LoadError: \u001b[91mUndefVarError: @animate not defined\u001b[39m\nin expression starting at In[14]:4",
     "output_type": "error",
     "traceback": [
      "LoadError: \u001b[91mUndefVarError: @animate not defined\u001b[39m\nin expression starting at In[14]:4",
      "",
      "Stacktrace:",
      " [1] top-level scope",
      " [2] include_string(::Function, ::Module, ::String, ::String) at ./loading.jl:1091"
     ]
    }
   ],
   "source": [
    "#ssol(t) = sol_dir_n0(t)\n",
    "ssol(t) = sol(t)\n",
    "shift = U÷2 # 0 is conserv otherwise is fluid\n",
    "anim = @animate for i ∈ 1:100\n",
    "    plot(reshape(ssol(t*0.01*i),(M,U))[:,shift+1] .+ 1,label=\"μ\", yaxis = (\"fluid\", (-1.5,0.5)))\n",
    "    plot!(2 .* (reshape(ssol(t*0.01*i),(M,U))[:,shift+2]) ,label=\"v\")\n",
    "    plot!(reshape(ssol(t*0.01*i),(M,U))[:,shift+3].*50 ,label=\"x1\")\n",
    "    plot!(reshape(ssol(t*0.01*i),(M,U))[:,shift+4].*50 ,label=\"x2\")\n",
    "    plot!(reshape(ssol(t*0.01*i),(M,U))[:,shift+5].*50 ,label=\"x3\")\n",
    "end\n",
    "\n",
    "gif(anim, \"Resultados/Movies/$name.gif\", fps = 10)"
   ]
  },
  {
   "cell_type": "code",
   "execution_count": 15,
   "metadata": {},
   "outputs": [
    {
     "ename": "LoadError",
     "evalue": "\u001b[91mUndefVarError: sol not defined\u001b[39m",
     "output_type": "error",
     "traceback": [
      "\u001b[91mUndefVarError: sol not defined\u001b[39m",
      "",
      "Stacktrace:",
      " [1] ssol(::Int64) at ./In[15]:2",
      " [2] top-level scope at In[15]:5",
      " [3] include_string(::Function, ::Module, ::String, ::String) at ./loading.jl:1091"
     ]
    }
   ],
   "source": [
    "##### ssol(t) = sol_dir_n0(t)\n",
    "ssol(t) = sol(t)\n",
    "t = 2\n",
    "shift = 0# U÷2 # 0 is conserv otherwise is fluid\n",
    "    plot(reshape(ssol(t),(M,U))[:,shift+1] .- 6.0,label=\"e\", xlim = (160,280), yaxis = (\"conserv\", (-5,5)))\n",
    "    plot!(reshape(ssol(t),(M,U))[:,shift+2] .- 0.,label=\"s\")\n",
    "    plot!(reshape(ssol(t),(M,U))[:,shift+3],label=\"c1\")\n",
    "    plot!(reshape(ssol(t),(M,U))[:,shift+4],label=\"c2\")\n",
    "    plot!(reshape(ssol(t),(M,U))[:,shift+5],label=\"c3\")"
   ]
  },
  {
   "cell_type": "markdown",
   "metadata": {},
   "source": [
    "#### Aquí siguen celdas que solo importan para pruebas."
   ]
  },
  {
   "cell_type": "markdown",
   "metadata": {},
   "source": [
    "## Euler equations\n",
    "\n",
    "We recuperate Euler's equations setting $\\chi_1 = 0$ and the dissipative variables to zero. That way the systems decouple. And we get: (the notation here is a bit misleading,\n",
    "here $\\rho \\approx e$ Different from $E = (\\rho + p) = 4/3 \\rho$, since $p = \\frac{1}{3}\\rho$ and so $s = Ev = 4/3 e v$\n",
    "\n",
    "$F_e = \\frac{4}{3}ργ^2v = s$\n",
    "\n",
    "$F_s = \\frac{4}{3}ρ(γ^2v^2 + \\frac{1}{4}) = \\frac{1}{3}ργ^2(4 v^2 + \\frac{1}{\\gamma^2} = \n",
    "\\frac{1}{3}ργ^2(3v^2 + 1) $\n",
    "\n",
    "$e = \\frac{4}{3}ρ(γ^2 - \\frac{1}{4}) = \\frac{1}{3}ργ^2(4 - \\frac{1}{\\gamma^2}) = \\frac{1}{3}ργ^2(3 + v^2)$\n",
    "\n",
    "$s = \\frac{4}{3}ργ^2v$\n",
    "\n",
    "$4\\frac{e}{s}v - (3 + v^2) = 0$\n",
    "\n",
    "$v = 2\\frac{e}{s} \\pm \\sqrt{4(\\frac{e}{s})^2 -3}$\n",
    "\n",
    "$v_- =  \\frac{3}{2\\frac{e}{s} + \\sqrt{4(\\frac{e}{s})^2 -3}} \\approx \\frac{3s}{4e}$\n"
   ]
  },
  {
   "cell_type": "code",
   "execution_count": null,
   "metadata": {},
   "outputs": [],
   "source": [
    "function evolution_euler_direct(du,u,par,t) # here χ₁=0!\n",
    "    # this is the function that is taken by the time-integrator\n",
    "    par_eq, par_inv, h_1, U, M, Flux, Speed_max, Source, c_to_f = par\n",
    "    χ = par_eq\n",
    "    \n",
    "    p_direct = (χ, U, M) #these are the parameters for direct\n",
    "    c_to_f_direct!(u,p_direct)\n",
    "    #c_to_f!(u,par_inv)\n",
    "    \n",
    "    par_mp5 = (h_1, U, M, χ, χ, Flux, Speed_max, Source)\n",
    "    for j ∈ 1:M\n",
    "        mp5(du,u,par_mp5,j)\n",
    "    end\n",
    "    return du[:]\n",
    "end"
   ]
  },
  {
   "cell_type": "code",
   "execution_count": null,
   "metadata": {},
   "outputs": [],
   "source": [
    "\n",
    "prob_euler_direct = ODEProblem(evolution_euler_direct,u_i,(0.0,t),par);"
   ]
  },
  {
   "cell_type": "code",
   "execution_count": null,
   "metadata": {},
   "outputs": [],
   "source": [
    "#sol = sol_dir_n0;\n",
    "dsol(t) = sol_nr_n0(t) - sol_dir_n0(t);\n",
    "reshape(dsol(0.),(M,U))[:,1];"
   ]
  },
  {
   "cell_type": "code",
   "execution_count": null,
   "metadata": {},
   "outputs": [],
   "source": [
    "field = 1\n",
    "plot(reshape(sol_nr_n0(0.),(M,U))[:,field] .- reshape(sol_dir_n0(0.),(M,U))[:,field])\n",
    "plot!(reshape(sol_nr_n0(t/8),(M,U))[:,field] .- reshape(sol_dir_n0(t/8),(M,U))[:,field])\n",
    "plot!(reshape(sol_nr_n0(t/4),(M,U))[:,field] .- reshape(sol_dir_n0(t/4),(M,U))[:,field])\n",
    "plot!(reshape(sol_nr_n0(t/2.1),(M,U))[:,field] .- reshape(sol_dir_n0(t/2.1),(M,U))[:,field])\n",
    "#plot!(reshape(sol_nr_n0(t/1.1),(M,U))[:,field] .- reshape(sol_dir_n0(t/1.1),(M,U))[:,field])"
   ]
  },
  {
   "cell_type": "code",
   "execution_count": null,
   "metadata": {},
   "outputs": [],
   "source": [
    "anim = @animate for i ∈ 1:100\n",
    "    plot(reshape(dsol(t*0.01*i),(M,U))[:,1],label=\"e\", yaxis = (\"conserv\", (-1e-7,1e-7)))\n",
    "    plot!(reshape(dsol(t*0.01*i),(M,U))[:,2],label=\"s\")\n",
    "    plot!(reshape(dsol(t*0.01*i),(M,U))[:,3],label=\"c1\")\n",
    "    plot!(reshape(dsol(t*0.01*i),(M,U))[:,4],label=\"c2\")\n",
    "    plot!(reshape(dsol(t*0.01*i),(M,U))[:,5],label=\"c3\")\n",
    "end\n",
    "\n",
    "gif(anim, \"ff_n0_dif_anim_fps10.gif\", fps = 10)"
   ]
  },
  {
   "cell_type": "code",
   "execution_count": null,
   "metadata": {},
   "outputs": [],
   "source": [
    "anim = @animate for i ∈ 1:100\n",
    "    plot(reshape(dsol(t*0.01*i),(M,U))[:,5+1],label=\"μ\", yaxis = (\"fluid\", (-1e-8,1e-8)))\n",
    "    plot!(reshape(dsol(t*0.01*i),(M,U))[:,5+2],label=\"v\")\n",
    "    plot!(reshape(dsol(t*0.01*i),(M,U))[:,5+3],label=\"X1\")\n",
    "    plot!(reshape(dsol(t*0.01*i),(M,U))[:,5+4],label=\"X2\")\n",
    "    plot!(reshape(dsol(t*0.01*i),(M,U))[:,5+5],label=\"X3\")\n",
    "end\n",
    "\n",
    "gif(anim, \"ff_n0_dif_anim_fps10.gif\", fps = 10)"
   ]
  },
  {
   "cell_type": "code",
   "execution_count": null,
   "metadata": {},
   "outputs": [],
   "source": []
  }
 ],
 "metadata": {
  "author": "\\rho",
  "kernelspec": {
   "display_name": "Julia 1.5.3",
   "language": "julia",
   "name": "julia-1.5"
  },
  "language_info": {
   "file_extension": ".jl",
   "mimetype": "application/julia",
   "name": "julia",
   "version": "1.5.3"
  },
  "latex_envs": {
   "LaTeX_envs_menu_present": true,
   "autoclose": false,
   "autocomplete": true,
   "bibliofile": "biblio.bib",
   "cite_by": "apalike",
   "current_citInitial": 1,
   "eqLabelWithNumbers": true,
   "eqNumInitial": 1,
   "hotkeys": {
    "equation": "Ctrl-E",
    "itemize": "Ctrl-I"
   },
   "labels_anchors": false,
   "latex_user_defs": false,
   "report_style_numbering": false,
   "user_envs_cfg": false
  }
 },
 "nbformat": 4,
 "nbformat_minor": 4
}
