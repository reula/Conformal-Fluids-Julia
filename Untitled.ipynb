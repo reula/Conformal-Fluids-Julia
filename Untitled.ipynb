{
 "cells": [
  {
   "cell_type": "code",
   "execution_count": 9,
   "metadata": {},
   "outputs": [
    {
     "name": "stderr",
     "output_type": "stream",
     "text": [
      "┌ Info: Precompiling DifferentialEquations [0c46a032-eb83-5123-abaf-570d42b7fbaa]\n",
      "└ @ Base loading.jl:1278\n",
      "┌ Warning: The call to compilecache failed to create a usable precompiled cache file for DifferentialEquations [0c46a032-eb83-5123-abaf-570d42b7fbaa]\n",
      "│   exception = ErrorException(\"Required dependency ParameterizedFunctions [65888b18-ceab-5e60-b2b9-181511a3b968] failed to load from a cache file.\")\n",
      "└ @ Base loading.jl:1042\n"
     ]
    }
   ],
   "source": [
    "using Plots, FileIO, DifferentialEquations"
   ]
  },
  {
   "cell_type": "code",
   "execution_count": 1,
   "metadata": {},
   "outputs": [
    {
     "data": {
      "text/plain": [
       "2-element Array{Float64,1}:\n",
       " -6.262372100366313\n",
       " -1.647976852655059"
      ]
     },
     "execution_count": 1,
     "metadata": {},
     "output_type": "execute_result"
    }
   ],
   "source": [
    "N=2\n",
    "function F(f,c)\n",
    "    μ = f[1]  # esto es -μ\n",
    "    #T = (μ)^(-1//2) # use μ positive, so I changed μ -> -μ\n",
    "    v = f[2]\n",
    "\n",
    "    γ = (1 - v^2)^(-1//2)\n",
    "    ρ = -6 / μ^2 \n",
    "    #return  [γ; ρ] \n",
    "    return [- c[1] + 4//3* ρ*(γ^2 - 1/4) ; - c[2] + 4//3* ρ*γ^2*v]\n",
    "end\n",
    "\n",
    "F([1;0.5],[0.;0.])\n",
    "F([0.20031384490471524; 0.20015692245235764],[0.;0.])\n",
    "F([1.0028246041424371; 0.19999950750566617],[0.;0.])\n",
    "F([1.0056491804628436; 0.1999980300275157],[0.;0.])"
   ]
  },
  {
   "cell_type": "code",
   "execution_count": 2,
   "metadata": {},
   "outputs": [
    {
     "data": {
      "text/plain": [
       "2-element Array{Float64,1}:\n",
       " -6.262372100366313\n",
       " -1.647976852655059"
      ]
     },
     "execution_count": 2,
     "metadata": {},
     "output_type": "execute_result"
    }
   ],
   "source": [
    "M = 10^3\n",
    "flu0 = zeros(N,M)\n",
    "con0 = zeros(N,M)\n",
    "for j ∈ 1:M\n",
    "    flu0[1,j] = 1.0 + 0.9* sin(π*j/(M+1))\n",
    "    flu0[2,j] = 0.1 + 0.1* cos(π*j/(M+1))\n",
    "    con0[:,j] = F(flu0[:,j],[0.,0.]) # + 0.001 * rand(N)\n",
    "#    yy[:,j] = convert(Array{Float64,1},F(u0[:,j],yy[:,j],p))\n",
    "end\n",
    "flu0[:,2]\n",
    "con0[:,2]\n",
    "#plot(con0[2,:])\n",
    "#plot(flu0[2,:])"
   ]
  },
  {
   "cell_type": "code",
   "execution_count": 4,
   "metadata": {},
   "outputs": [
    {
     "data": {
      "text/plain": [
       "\"/Users/reula/Julia/Fluidos_Conformes\""
      ]
     },
     "execution_count": 4,
     "metadata": {},
     "output_type": "execute_result"
    }
   ],
   "source": [
    "pwd()\n",
    "#cd(Results/)"
   ]
  },
  {
   "cell_type": "code",
   "execution_count": 8,
   "metadata": {},
   "outputs": [
    {
     "name": "stderr",
     "output_type": "stream",
     "text": [
      "Error encountered while loading \"/Users/reula/Julia/Fluidos_Conformes/Resultados/Soluciones/solright_p.jld2\".\n",
      "\n",
      "Fatal error:\n"
     ]
    },
    {
     "ename": "LoadError",
     "evalue": "\u001b[91mMethodError: no method matching constructrr(::JLD2.JLDFile{JLD2.MmapIO}, ::JLD2.UnknownType{JLD2.UnknownType{String}}, ::JLD2.CompoundDatatype, ::Array{JLD2.ReadAttribute,1})\u001b[39m\n\u001b[91m\u001b[0mClosest candidates are:\u001b[39m\n\u001b[91m\u001b[0m  constructrr(::JLD2.JLDFile, \u001b[91m::Type{T}\u001b[39m, ::JLD2.CompoundDatatype, ::Array{JLD2.ReadAttribute,1}) where T<:DataType at /Users/reula/.julia/packages/JLD2/4AJn8/src/data.jl:971\u001b[39m\n\u001b[91m\u001b[0m  constructrr(::JLD2.JLDFile, \u001b[91m::DataType\u001b[39m, ::JLD2.CompoundDatatype, ::Array{JLD2.ReadAttribute,1}) at /Users/reula/.julia/packages/JLD2/4AJn8/src/data.jl:368\u001b[39m\n\u001b[91m\u001b[0m  constructrr(::JLD2.JLDFile, \u001b[91m::DataType\u001b[39m, ::JLD2.CompoundDatatype, ::Array{JLD2.ReadAttribute,1}, \u001b[91m::Bool\u001b[39m) at /Users/reula/.julia/packages/JLD2/4AJn8/src/data.jl:368\u001b[39m\n\u001b[91m\u001b[0m  ...\u001b[39m",
     "output_type": "error",
     "traceback": [
      "\u001b[91mMethodError: no method matching constructrr(::JLD2.JLDFile{JLD2.MmapIO}, ::JLD2.UnknownType{JLD2.UnknownType{String}}, ::JLD2.CompoundDatatype, ::Array{JLD2.ReadAttribute,1})\u001b[39m\n\u001b[91m\u001b[0mClosest candidates are:\u001b[39m\n\u001b[91m\u001b[0m  constructrr(::JLD2.JLDFile, \u001b[91m::Type{T}\u001b[39m, ::JLD2.CompoundDatatype, ::Array{JLD2.ReadAttribute,1}) where T<:DataType at /Users/reula/.julia/packages/JLD2/4AJn8/src/data.jl:971\u001b[39m\n\u001b[91m\u001b[0m  constructrr(::JLD2.JLDFile, \u001b[91m::DataType\u001b[39m, ::JLD2.CompoundDatatype, ::Array{JLD2.ReadAttribute,1}) at /Users/reula/.julia/packages/JLD2/4AJn8/src/data.jl:368\u001b[39m\n\u001b[91m\u001b[0m  constructrr(::JLD2.JLDFile, \u001b[91m::DataType\u001b[39m, ::JLD2.CompoundDatatype, ::Array{JLD2.ReadAttribute,1}, \u001b[91m::Bool\u001b[39m) at /Users/reula/.julia/packages/JLD2/4AJn8/src/data.jl:368\u001b[39m\n\u001b[91m\u001b[0m  ...\u001b[39m",
      "",
      "Stacktrace:",
      " [1] handle_error(::MethodError, ::File{DataFormat{:JLD2}}) at /Users/reula/.julia/packages/FileIO/TyKdX/src/error_handling.jl:82",
      " [2] handle_exceptions(::Array{Any,1}, ::String) at /Users/reula/.julia/packages/FileIO/TyKdX/src/error_handling.jl:77",
      " [3] load(::FileIO.Formatted; options::Base.Iterators.Pairs{Union{},Union{},Tuple{},NamedTuple{(),Tuple{}}}) at /Users/reula/.julia/packages/FileIO/TyKdX/src/loadsave.jl:210",
      " [4] load at /Users/reula/.julia/packages/FileIO/TyKdX/src/loadsave.jl:187 [inlined]",
      " [5] #load#16 at /Users/reula/.julia/packages/FileIO/TyKdX/src/loadsave.jl:136 [inlined]",
      " [6] load(::String) at /Users/reula/.julia/packages/FileIO/TyKdX/src/loadsave.jl:136",
      " [7] top-level scope at In[8]:1",
      " [8] include_string(::Function, ::Module, ::String, ::String) at ./loading.jl:1091"
     ]
    }
   ],
   "source": [
    "sol = load(\"Resultados/Soluciones/solright_p.jld2\")"
   ]
  },
  {
   "cell_type": "code",
   "execution_count": null,
   "metadata": {},
   "outputs": [],
   "source": [
    "JLD2.@load \"Resultados/Soluciones/solright_p.jld2\" sol"
   ]
  },
  {
   "cell_type": "code",
   "execution_count": null,
   "metadata": {},
   "outputs": [],
   "source": []
  }
 ],
 "metadata": {
  "kernelspec": {
   "display_name": "Julia 1.5.3",
   "language": "julia",
   "name": "julia-1.5"
  },
  "language_info": {
   "file_extension": ".jl",
   "mimetype": "application/julia",
   "name": "julia",
   "version": "1.5.3"
  },
  "latex_envs": {
   "LaTeX_envs_menu_present": true,
   "autoclose": false,
   "autocomplete": true,
   "bibliofile": "biblio.bib",
   "cite_by": "apalike",
   "current_citInitial": 1,
   "eqLabelWithNumbers": true,
   "eqNumInitial": 1,
   "hotkeys": {
    "equation": "Ctrl-E",
    "itemize": "Ctrl-I"
   },
   "labels_anchors": false,
   "latex_user_defs": false,
   "report_style_numbering": false,
   "user_envs_cfg": false
  }
 },
 "nbformat": 4,
 "nbformat_minor": 4
}
