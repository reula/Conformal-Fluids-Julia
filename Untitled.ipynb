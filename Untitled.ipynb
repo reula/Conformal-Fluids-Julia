{
 "cells": [
  {
   "cell_type": "code",
   "execution_count": 1,
   "id": "b0d852a1-2f1f-4216-b528-0c674e9c29b6",
   "metadata": {},
   "outputs": [
    {
     "data": {
      "text/plain": [
       "4-element Vector{Int64}:\n",
       " 2\n",
       " 2\n",
       " 2\n",
       " 2"
      ]
     },
     "execution_count": 1,
     "metadata": {},
     "output_type": "execute_result"
    }
   ],
   "source": [
    "V = fill(2,4)"
   ]
  },
  {
   "cell_type": "code",
   "execution_count": 2,
   "id": "56bf9bde-5c6e-4bf4-a63a-b2778d6fbb22",
   "metadata": {},
   "outputs": [
    {
     "data": {
      "text/plain": [
       "Vector{Int64} (alias for Array{Int64, 1})"
      ]
     },
     "execution_count": 2,
     "metadata": {},
     "output_type": "execute_result"
    }
   ],
   "source": [
    "typeof(V)"
   ]
  },
  {
   "cell_type": "code",
   "execution_count": 6,
   "id": "d64b65b3-a2ac-418a-ae6c-a08f5b7ea2fc",
   "metadata": {},
   "outputs": [
    {
     "data": {
      "text/plain": [
       "4-element Vector{ComplexF64}:\n",
       " 2.0 + 0.0im\n",
       " 2.0 + 0.0im\n",
       " 2.0 + 0.0im\n",
       " 2.0 + 0.0im"
      ]
     },
     "execution_count": 6,
     "metadata": {},
     "output_type": "execute_result"
    }
   ],
   "source": [
    "Vf = fill(2. +0im,4)"
   ]
  },
  {
   "cell_type": "code",
   "execution_count": 7,
   "id": "888658a4-9512-4543-8a8c-dbe96accbf4e",
   "metadata": {},
   "outputs": [
    {
     "data": {
      "text/plain": [
       "Vector{ComplexF64} (alias for Array{Complex{Float64}, 1})"
      ]
     },
     "execution_count": 7,
     "metadata": {},
     "output_type": "execute_result"
    }
   ],
   "source": [
    "typeof(Vf)"
   ]
  },
  {
   "cell_type": "code",
   "execution_count": 11,
   "id": "bdaca303-63c3-4895-aee2-60730f196d2c",
   "metadata": {},
   "outputs": [
    {
     "data": {
      "text/plain": [
       "Vector{Float64} (alias for Array{Float64, 1})"
      ]
     },
     "execution_count": 11,
     "metadata": {},
     "output_type": "execute_result"
    }
   ],
   "source": [
    "typeof(sqrt.(V))"
   ]
  },
  {
   "cell_type": "code",
   "execution_count": 12,
   "id": "74f37ba6-2ec3-4656-8411-3ea026dbe064",
   "metadata": {},
   "outputs": [
    {
     "data": {
      "text/plain": [
       "4.0"
      ]
     },
     "execution_count": 12,
     "metadata": {},
     "output_type": "execute_result"
    }
   ],
   "source": [
    "sqrt(V'*V)"
   ]
  },
  {
   "cell_type": "code",
   "execution_count": 27,
   "id": "6289900c-2087-450b-9be7-d1c135a3ad1b",
   "metadata": {},
   "outputs": [
    {
     "data": {
      "text/plain": [
       "5×5×3 Array{Int64, 3}:\n",
       "[:, :, 1] =\n",
       " 0  0   0   0   0\n",
       " 1  2   3   4   5\n",
       " 2  4   6   8  10\n",
       " 3  6   9  12  15\n",
       " 4  8  12  16  20\n",
       "\n",
       "[:, :, 2] =\n",
       " 0   0   0   0   0\n",
       " 2   4   6   8  10\n",
       " 4   8  12  16  20\n",
       " 6  12  18  24  30\n",
       " 8  16  24  32  40\n",
       "\n",
       "[:, :, 3] =\n",
       "  0   0   0   0   0\n",
       "  3   6   9  12  15\n",
       "  6  12  18  24  30\n",
       "  9  18  27  36  45\n",
       " 12  24  36  48  60"
      ]
     },
     "execution_count": 27,
     "metadata": {},
     "output_type": "execute_result"
    }
   ],
   "source": [
    "VM = [i*j*k for i ∈ 0:4, j ∈ 1:5, k ∈ 1:3]"
   ]
  },
  {
   "cell_type": "code",
   "execution_count": 18,
   "id": "55b4eef7-8eef-40e7-b397-7352e1e3a3b7",
   "metadata": {},
   "outputs": [
    {
     "data": {
      "text/plain": [
       "0"
      ]
     },
     "execution_count": 18,
     "metadata": {},
     "output_type": "execute_result"
    }
   ],
   "source": [
    "VM[1,1]"
   ]
  },
  {
   "cell_type": "code",
   "execution_count": 20,
   "id": "a8fb65e8-e4dd-4232-b3d0-f71d14d25115",
   "metadata": {},
   "outputs": [
    {
     "data": {
      "text/plain": [
       "π = 3.1415926535897..."
      ]
     },
     "execution_count": 20,
     "metadata": {},
     "output_type": "execute_result"
    }
   ],
   "source": [
    "π"
   ]
  },
  {
   "cell_type": "code",
   "execution_count": 21,
   "id": "454c3e81-7edd-4396-bcc2-33fe9b80e19f",
   "metadata": {},
   "outputs": [
    {
     "data": {
      "text/plain": [
       "Irrational{:π}"
      ]
     },
     "execution_count": 21,
     "metadata": {},
     "output_type": "execute_result"
    }
   ],
   "source": [
    "typeof(π)"
   ]
  },
  {
   "cell_type": "code",
   "execution_count": 22,
   "id": "19b69ec1-bc16-4673-a6a3-29a41ce19dc6",
   "metadata": {},
   "outputs": [
    {
     "data": {
      "text/plain": [
       "Rational{Int64}"
      ]
     },
     "execution_count": 22,
     "metadata": {},
     "output_type": "execute_result"
    }
   ],
   "source": [
    "typeof(1//1)"
   ]
  },
  {
   "cell_type": "code",
   "execution_count": 25,
   "id": "d7847bfa-82bd-435d-a54b-f1d954ff266a",
   "metadata": {},
   "outputs": [
    {
     "data": {
      "text/plain": [
       "5//6"
      ]
     },
     "execution_count": 25,
     "metadata": {},
     "output_type": "execute_result"
    }
   ],
   "source": [
    "1//2 * 5//3"
   ]
  },
  {
   "cell_type": "code",
   "execution_count": 26,
   "id": "e85dc8a6-3061-4de8-a458-2a91ac4a8777",
   "metadata": {},
   "outputs": [
    {
     "data": {
      "text/plain": [
       "0.8333333333333334"
      ]
     },
     "execution_count": 26,
     "metadata": {},
     "output_type": "execute_result"
    }
   ],
   "source": [
    "1/2 * (5/3)"
   ]
  },
  {
   "cell_type": "code",
   "execution_count": 28,
   "id": "2d9fac23-9deb-463a-aa59-831bf8cb3b49",
   "metadata": {},
   "outputs": [
    {
     "data": {
      "text/plain": [
       "4-element Vector{String}:\n",
       " \"hola\"\n",
       " \"hola\"\n",
       " \"hola\"\n",
       " \"hola\""
      ]
     },
     "execution_count": 28,
     "metadata": {},
     "output_type": "execute_result"
    }
   ],
   "source": [
    "fill(\"hola\", 4)"
   ]
  },
  {
   "cell_type": "code",
   "execution_count": 29,
   "id": "9806a3fb-688c-4b42-8a1d-19f1c65b0de8",
   "metadata": {},
   "outputs": [
    {
     "data": {
      "text/plain": [
       "\"holapepe\""
      ]
     },
     "execution_count": 29,
     "metadata": {},
     "output_type": "execute_result"
    }
   ],
   "source": [
    "\"hola\"*\"pepe\""
   ]
  },
  {
   "cell_type": "code",
   "execution_count": 31,
   "id": "35640773-9d7b-4e38-93c4-b9494a54af40",
   "metadata": {},
   "outputs": [],
   "source": [
    "S = zeros(4)\n",
    "for i ∈ 1:4\n",
    "    S[i] = i\n",
    "end"
   ]
  },
  {
   "cell_type": "code",
   "execution_count": 33,
   "id": "55a6fdcb-1f03-4c38-a27c-5ac251696bd9",
   "metadata": {},
   "outputs": [
    {
     "data": {
      "text/plain": [
       "2.0"
      ]
     },
     "execution_count": 33,
     "metadata": {},
     "output_type": "execute_result"
    }
   ],
   "source": [
    "S[2]"
   ]
  },
  {
   "cell_type": "code",
   "execution_count": null,
   "id": "f413f740-ee80-48ca-b609-d8537bb2e38e",
   "metadata": {},
   "outputs": [],
   "source": []
  }
 ],
 "metadata": {
  "kernelspec": {
   "display_name": "Julia 1.6.1",
   "language": "julia",
   "name": "julia-1.6"
  },
  "language_info": {
   "file_extension": ".jl",
   "mimetype": "application/julia",
   "name": "julia",
   "version": "1.6.1"
  }
 },
 "nbformat": 4,
 "nbformat_minor": 5
}
