{
 "cells": [
  {
   "cell_type": "code",
   "execution_count": 1,
   "metadata": {},
   "outputs": [
    {
     "name": "stderr",
     "output_type": "stream",
     "text": [
      "\u001b[32m\u001b[1m Activating\u001b[22m\u001b[39m environment at `~/Julia/Fluidos_Conformes/Conf_Fluids/Project.toml`\n",
      "\u001b[32m\u001b[1m   Updating\u001b[22m\u001b[39m registry at `~/.julia/registries/General`\n",
      "######################################################################### 100.0%\n",
      "\u001b[32m\u001b[1m  Resolving\u001b[22m\u001b[39m package versions...\n",
      "\u001b[32m\u001b[1mNo Changes\u001b[22m\u001b[39m to `~/Julia/Fluidos_Conformes/Conf_Fluids/Project.toml`\n",
      "\u001b[32m\u001b[1mNo Changes\u001b[22m\u001b[39m to `~/Julia/Fluidos_Conformes/Conf_Fluids/Manifest.toml`\n",
      "┌ Info: Precompiling Symbolics [0c5d862f-8b57-4792-8d23-62f2024744c7]\n",
      "└ @ Base loading.jl:1278\n",
      "┌ Warning: The call to compilecache failed to create a usable precompiled cache file for Distributions [31c24e10-a181-5473-b8eb-7969acd0382f]\n",
      "│   exception = Required dependency StatsFuns [4c63d2b9-4356-54db-8cca-17b64c39e42c] failed to load from a cache file.\n",
      "└ @ Base loading.jl:1042\n",
      "┌ Warning: The call to compilecache failed to create a usable precompiled cache file for Symbolics [0c5d862f-8b57-4792-8d23-62f2024744c7]\n",
      "│   exception = ErrorException(\"Required dependency SciMLBase [0bca4576-84f4-4d90-8ffe-ffa030f20462] failed to load from a cache file.\")\n",
      "└ @ Base loading.jl:1042\n"
     ]
    },
    {
     "data": {
      "text/plain": [
       "f_to_c!"
      ]
     },
     "execution_count": 1,
     "metadata": {},
     "output_type": "execute_result"
    }
   ],
   "source": [
    "include(\"inversion.jl\")"
   ]
  },
  {
   "cell_type": "code",
   "execution_count": 3,
   "metadata": {},
   "outputs": [
    {
     "data": {
      "text/plain": [
       "5×1 Array{Float64,2}:\n",
       "  0.0\n",
       " -1.3877787807814457e-17\n",
       "  0.0\n",
       "  0.0\n",
       "  0.0"
      ]
     },
     "execution_count": 3,
     "metadata": {},
     "output_type": "execute_result"
    }
   ],
   "source": [
    "N=5\n",
    "M=1\n",
    "χ = [-1.0; -1.0; -5.0]\n",
    "p = (χ, N, M)\n",
    "flu = [-10.0; 0.2; 1.1; 1.5; 1.2]\n",
    "con = [0.1366314976448222; 0.07009306769467444; 0.06115332989597844; 0.07178418128379448; 0.04927907295689818]\n",
    "f_to_c!(flu,con+rand(N),p) - con"
   ]
  },
  {
   "cell_type": "code",
   "execution_count": 4,
   "metadata": {},
   "outputs": [],
   "source": [
    "tol = 10^(-16)\n",
    "iter_max = 40\n",
    "χ = [-1.0; -1.0; -5.0]\n",
    "M=1\n",
    "N=5\n",
    "p = (χ, tol, iter_max, N, M)\n",
    "flu = [-10.0; 0.2; 1.1; 1.5; 1.2]\n",
    "con = [0.1366314976448222; 0.07009306769467444; 0.06115332989597844; 0.07178418128379448; 0.04927907295689818]\n",
    "flu_i = flu + 0.1*rand(5);"
   ]
  },
  {
   "cell_type": "code",
   "execution_count": 6,
   "metadata": {},
   "outputs": [
    {
     "name": "stdout",
     "output_type": "stream",
     "text": [
      "  0.000023 seconds (46 allocations: 4.281 KiB)\n"
     ]
    },
    {
     "data": {
      "text/plain": [
       "5×1 Array{Float64,2}:\n",
       "  5.289887639037261e-9\n",
       "  4.6559006650070955e-11\n",
       " -6.14539952259463e-9\n",
       " -3.752195221196075e-9\n",
       "  1.0208649481313614e-9"
      ]
     },
     "execution_count": 6,
     "metadata": {},
     "output_type": "execute_result"
    }
   ],
   "source": [
    "@time c_to_f!(flu_i, con, p) - flu"
   ]
  },
  {
   "cell_type": "code",
   "execution_count": null,
   "metadata": {},
   "outputs": [],
   "source": []
  }
 ],
 "metadata": {
  "kernelspec": {
   "display_name": "Julia 1.5.3",
   "language": "julia",
   "name": "julia-1.5"
  },
  "language_info": {
   "file_extension": ".jl",
   "mimetype": "application/julia",
   "name": "julia",
   "version": "1.5.3"
  },
  "latex_envs": {
   "LaTeX_envs_menu_present": true,
   "autoclose": false,
   "autocomplete": true,
   "bibliofile": "biblio.bib",
   "cite_by": "apalike",
   "current_citInitial": 1,
   "eqLabelWithNumbers": true,
   "eqNumInitial": 1,
   "hotkeys": {
    "equation": "Ctrl-E",
    "itemize": "Ctrl-I"
   },
   "labels_anchors": false,
   "latex_user_defs": false,
   "report_style_numbering": false,
   "user_envs_cfg": false
  }
 },
 "nbformat": 4,
 "nbformat_minor": 4
}
