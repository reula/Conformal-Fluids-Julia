{
 "cells": [
  {
   "cell_type": "code",
   "execution_count": 1,
   "id": "3255204c-f6f8-40bb-9b1e-608d26a795eb",
   "metadata": {},
   "outputs": [],
   "source": [
    "using Plots, Symbolics\n",
    "using LinearAlgebra"
   ]
  },
  {
   "cell_type": "code",
   "execution_count": 38,
   "id": "80737726-7ec4-40a5-af1a-a0d68c7cb121",
   "metadata": {},
   "outputs": [
    {
     "data": {
      "text/plain": [
       "F (generic function with 1 method)"
      ]
     },
     "execution_count": 38,
     "metadata": {},
     "output_type": "execute_result"
    }
   ],
   "source": [
    "function F(u,p) \n",
    "    (χ,ζ,a,k,σ) = p\n",
    "    return[χ[1]*(σ + k*a[1])*u[1] + χ[2]*k*a[2]*u[2] ; χ[3]*(σ + k*a[3])*u[2] + χ[2]*k*a[2]*u[1] - ζ*u[2]]\n",
    "end"
   ]
  },
  {
   "cell_type": "code",
   "execution_count": 39,
   "id": "09ac4ba4-97e6-4e4e-b3df-e83f5187a306",
   "metadata": {},
   "outputs": [
    {
     "data": {
      "text/plain": [
       "2-element Vector{Int64}:\n",
       " 0\n",
       " 5"
      ]
     },
     "execution_count": 39,
     "metadata": {},
     "output_type": "execute_result"
    }
   ],
   "source": [
    "\n",
    "χ_n = [-1;1;1]\n",
    "ζ_n = 1\n",
    "a_n = [1;1;2]\n",
    "k_n = 1\n",
    "σ_n = 1\n",
    "p_n = (χ_n, ζ_n, a_n, k_n, σ_n)\n",
    "F([1;2],p_n)"
   ]
  },
  {
   "cell_type": "code",
   "execution_count": 40,
   "id": "e85fdf98-e56c-4d95-a508-e0f8616b47f1",
   "metadata": {},
   "outputs": [
    {
     "data": {
      "text/latex": [
       "\\begin{equation}\n",
       "\\left[\n",
       "\\begin{array}{c}\n",
       "\\left( \\sigma + k as{_1} \\right) us{_1} {\\chi}s{_1} + k as{_2} us{_2} {\\chi}s{_2} \\\\\n",
       " - \\zeta us{_2} + \\left( \\sigma + k as{_3} \\right) us{_2} {\\chi}s{_3} + k as{_2} us{_1} {\\chi}s{_2} \\\\\n",
       "\\end{array}\n",
       "\\right]\n",
       "\\end{equation}\n"
      ],
      "text/plain": [
       "2-element Vector{Num}:\n",
       "           (σ + k*as[1])*us[1]*χs[1] + k*as[2]*us[2]*χs[2]\n",
       " (σ + k*as[3])*us[2]*χs[3] + k*as[2]*us[1]*χs[2] - ζ*us[2]"
      ]
     },
     "execution_count": 40,
     "metadata": {},
     "output_type": "execute_result"
    }
   ],
   "source": [
    "@variables us[1:2], χs[1:3], ζ, as[1:3], σ, k\n",
    "ust = [us[i] for i ∈ 1:2]\n",
    "χst = [χs[i] for i ∈ 1:3]\n",
    "ast = [as[i] for i ∈ 1:3]\n",
    "pst = (χst,ζ,ast,k,σ)\n",
    "p = (χs,ζ,as,k,σ)\n",
    "F(us,p)"
   ]
  },
  {
   "cell_type": "code",
   "execution_count": 41,
   "id": "15a1e23c-3a9d-40fe-aa87-5fd7cf6b9500",
   "metadata": {},
   "outputs": [
    {
     "data": {
      "text/latex": [
       "\\begin{equation}\n",
       "\\left[\n",
       "\\begin{array}{cc}\n",
       "\\left( \\sigma + k as{_1} \\right) {\\chi}s{_1} & k as{_2} {\\chi}s{_2} \\\\\n",
       "k as{_2} {\\chi}s{_2} &  - \\zeta + \\left( \\sigma + k as{_3} \\right) {\\chi}s{_3} \\\\\n",
       "\\end{array}\n",
       "\\right]\n",
       "\\end{equation}\n"
      ],
      "text/plain": [
       "2×2 Matrix{Num}:\n",
       " (σ + k*as[1])*χs[1]            k*as[2]*χs[2]\n",
       "       k*as[2]*χs[2]  (σ + k*as[3])*χs[3] - ζ"
      ]
     },
     "execution_count": 41,
     "metadata": {},
     "output_type": "execute_result"
    }
   ],
   "source": [
    "JF = Symbolics.jacobian(F(us,p),ust)"
   ]
  },
  {
   "cell_type": "code",
   "execution_count": 42,
   "id": "c1fa7cc0-6a03-42b6-9923-67c7adc06d7b",
   "metadata": {},
   "outputs": [],
   "source": [
    "JF_exp = Symbolics.build_function(JF, us, p);\n",
    "JFac = eval(JF_exp[1]);"
   ]
  },
  {
   "cell_type": "code",
   "execution_count": 54,
   "id": "8055567e-cd9c-4cb8-aa77-0000cf9e8af6",
   "metadata": {},
   "outputs": [
    {
     "data": {
      "text/latex": [
       "\\begin{equation}\n",
       "\\sigma^{2} - {\\zeta}z \\sigma + k \\sigma as{_1} + k \\sigma as{_3} + k^{2} as{_1} as{_3} - as{_2}^{2} k^{2} \\kappa - k {\\zeta}z as{_1}\n",
       "\\end{equation}\n"
      ],
      "text/plain": [
       "σ^2 + k*σ*as[1] + k*σ*as[3] + (k^2)*as[1]*as[3] - ζz*σ - κ*(k^2)*(as[2]^2) - k*ζz*as[1]"
      ]
     },
     "execution_count": 54,
     "metadata": {},
     "output_type": "execute_result"
    }
   ],
   "source": [
    "@variables ζz, κ\n",
    "K = simplify(expand(det(JF)))\n",
    "KK = simplify(substitute(K, [ζ => ζz*χs[3], χs[2]*χs[2]=>κ*χs[1]*χs[3]])/χs[1]/χs[3])"
   ]
  },
  {
   "cell_type": "code",
   "execution_count": 55,
   "id": "e1e6b710-ab8c-41fb-8edc-da62cebb272c",
   "metadata": {},
   "outputs": [
    {
     "data": {
      "text/plain": [
       "(::Differential) (generic function with 2 methods)"
      ]
     },
     "execution_count": 55,
     "metadata": {},
     "output_type": "execute_result"
    }
   ],
   "source": [
    "Dσ = Differential(σ)"
   ]
  },
  {
   "cell_type": "code",
   "execution_count": 64,
   "id": "f088c732-2e30-44c3-aea3-52ab927baf60",
   "metadata": {},
   "outputs": [
    {
     "data": {
      "text/latex": [
       "\\begin{equation}\n",
       "k^{2} as{_1} as{_3} - as{_2}^{2} k^{2} \\kappa - k {\\zeta}z as{_1}\n",
       "\\end{equation}\n"
      ],
      "text/plain": [
       "(k^2)*as[1]*as[3] - κ*(k^2)*(as[2]^2) - k*ζz*as[1]"
      ]
     },
     "execution_count": 64,
     "metadata": {},
     "output_type": "execute_result"
    }
   ],
   "source": [
    "b = substitute(expand_derivatives(Dσ(KK)),[σ=>0])\n",
    "c = substitute(KK,[σ=>0])"
   ]
  },
  {
   "cell_type": "code",
   "execution_count": 66,
   "id": "46963f15-b5c7-40ed-b429-b74f0a58c073",
   "metadata": {},
   "outputs": [
    {
     "data": {
      "text/latex": [
       "\\begin{equation}\n",
       "0.5 {\\zeta}z + \\frac{1}{2} \\sqrt{\\left(  - {\\zeta}z + k as{_1} + k as{_3} \\right)^{2} + 4.0 as{_2}^{2} k^{2} \\kappa + 4.0 k {\\zeta}z as{_1} - 4 k^{2} as{_1} as{_3}} - \\frac{1}{2} k as{_1} - \\frac{1}{2} k as{_3}\n",
       "\\end{equation}\n"
      ],
      "text/plain": [
       "0.5ζz + (1//2)*sqrt((k*as[1] + k*as[3] - ζz)^2 + 4.0κ*(k^2)*(as[2]^2) + 4.0k*ζz*as[1] - 4(k^2)*as[1]*as[3]) - (1//2)*k*as[1] - (1//2)*k*as[3]"
      ]
     },
     "execution_count": 66,
     "metadata": {},
     "output_type": "execute_result"
    }
   ],
   "source": [
    "σs = (-b + sqrt(b^2 - 4c))/2"
   ]
  },
  {
   "cell_type": "code",
   "execution_count": 67,
   "id": "26c51350-2f89-4d37-9577-f8acc9f65e2e",
   "metadata": {},
   "outputs": [
    {
     "data": {
      "text/plain": [
       "Sp (generic function with 1 method)"
      ]
     },
     "execution_count": 67,
     "metadata": {},
     "output_type": "execute_result"
    }
   ],
   "source": [
    "Sp(k,κ,a,ζ) = (-(a[1]+a[3])*k - im*ζ + sqrt((a[1]-a[3] + im*ζ)^2 + 4κ*k^2*a[2]^2))/2"
   ]
  },
  {
   "cell_type": "code",
   "execution_count": 77,
   "id": "1fb121ae-09a0-419d-87e7-b132cc2cdbb3",
   "metadata": {},
   "outputs": [
    {
     "data": {
      "text/plain": [
       "Sm (generic function with 1 method)"
      ]
     },
     "execution_count": 77,
     "metadata": {},
     "output_type": "execute_result"
    }
   ],
   "source": [
    "Sm(k,κ,a,ζ) = (-(a[1]+a[3])*k - im*ζ - sqrt(((a[1]-a[3])*k + im*ζ)^2 + 4κ*k^2*a[2]^2))/2"
   ]
  },
  {
   "cell_type": "code",
   "execution_count": 78,
   "id": "d3ea5b0b-396f-4f24-bce9-efe9d98d38de",
   "metadata": {},
   "outputs": [
    {
     "data": {
      "image/svg+xml": [
       "<?xml version=\"1.0\" encoding=\"utf-8\"?>\n",
       "<svg xmlns=\"http://www.w3.org/2000/svg\" xmlns:xlink=\"http://www.w3.org/1999/xlink\" width=\"600\" height=\"400\" viewBox=\"0 0 2400 1600\">\n",
       "<defs>\n",
       "  <clipPath id=\"clip760\">\n",
       "    <rect x=\"0\" y=\"0\" width=\"2400\" height=\"1600\"/>\n",
       "  </clipPath>\n",
       "</defs>\n",
       "<path clip-path=\"url(#clip760)\" d=\"\n",
       "M0 1600 L2400 1600 L2400 0 L0 0  Z\n",
       "  \" fill=\"#ffffff\" fill-rule=\"evenodd\" fill-opacity=\"1\"/>\n",
       "<defs>\n",
       "  <clipPath id=\"clip761\">\n",
       "    <rect x=\"480\" y=\"0\" width=\"1681\" height=\"1600\"/>\n",
       "  </clipPath>\n",
       "</defs>\n",
       "<path clip-path=\"url(#clip760)\" d=\"\n",
       "M224.098 1486.45 L2352.76 1486.45 L2352.76 47.2441 L224.098 47.2441  Z\n",
       "  \" fill=\"#ffffff\" fill-rule=\"evenodd\" fill-opacity=\"1\"/>\n",
       "<defs>\n",
       "  <clipPath id=\"clip762\">\n",
       "    <rect x=\"224\" y=\"47\" width=\"2130\" height=\"1440\"/>\n",
       "  </clipPath>\n",
       "</defs>\n",
       "<polyline clip-path=\"url(#clip762)\" style=\"stroke:#000000; stroke-linecap:butt; stroke-linejoin:round; stroke-width:2; stroke-opacity:0.1; fill:none\" points=\"\n",
       "  224.098,1486.45 224.098,47.2441 \n",
       "  \"/>\n",
       "<polyline clip-path=\"url(#clip762)\" style=\"stroke:#000000; stroke-linecap:butt; stroke-linejoin:round; stroke-width:2; stroke-opacity:0.1; fill:none\" points=\"\n",
       "  756.262,1486.45 756.262,47.2441 \n",
       "  \"/>\n",
       "<polyline clip-path=\"url(#clip762)\" style=\"stroke:#000000; stroke-linecap:butt; stroke-linejoin:round; stroke-width:2; stroke-opacity:0.1; fill:none\" points=\"\n",
       "  1288.43,1486.45 1288.43,47.2441 \n",
       "  \"/>\n",
       "<polyline clip-path=\"url(#clip762)\" style=\"stroke:#000000; stroke-linecap:butt; stroke-linejoin:round; stroke-width:2; stroke-opacity:0.1; fill:none\" points=\"\n",
       "  1820.59,1486.45 1820.59,47.2441 \n",
       "  \"/>\n",
       "<polyline clip-path=\"url(#clip762)\" style=\"stroke:#000000; stroke-linecap:butt; stroke-linejoin:round; stroke-width:2; stroke-opacity:0.1; fill:none\" points=\"\n",
       "  2352.76,1486.45 2352.76,47.2441 \n",
       "  \"/>\n",
       "<polyline clip-path=\"url(#clip760)\" style=\"stroke:#000000; stroke-linecap:butt; stroke-linejoin:round; stroke-width:4; stroke-opacity:1; fill:none\" points=\"\n",
       "  224.098,1486.45 2352.76,1486.45 \n",
       "  \"/>\n",
       "<polyline clip-path=\"url(#clip760)\" style=\"stroke:#000000; stroke-linecap:butt; stroke-linejoin:round; stroke-width:4; stroke-opacity:1; fill:none\" points=\"\n",
       "  224.098,1486.45 224.098,1467.55 \n",
       "  \"/>\n",
       "<polyline clip-path=\"url(#clip760)\" style=\"stroke:#000000; stroke-linecap:butt; stroke-linejoin:round; stroke-width:4; stroke-opacity:1; fill:none\" points=\"\n",
       "  756.262,1486.45 756.262,1467.55 \n",
       "  \"/>\n",
       "<polyline clip-path=\"url(#clip760)\" style=\"stroke:#000000; stroke-linecap:butt; stroke-linejoin:round; stroke-width:4; stroke-opacity:1; fill:none\" points=\"\n",
       "  1288.43,1486.45 1288.43,1467.55 \n",
       "  \"/>\n",
       "<polyline clip-path=\"url(#clip760)\" style=\"stroke:#000000; stroke-linecap:butt; stroke-linejoin:round; stroke-width:4; stroke-opacity:1; fill:none\" points=\"\n",
       "  1820.59,1486.45 1820.59,1467.55 \n",
       "  \"/>\n",
       "<polyline clip-path=\"url(#clip760)\" style=\"stroke:#000000; stroke-linecap:butt; stroke-linejoin:round; stroke-width:4; stroke-opacity:1; fill:none\" points=\"\n",
       "  2352.76,1486.45 2352.76,1467.55 \n",
       "  \"/>\n",
       "<path clip-path=\"url(#clip760)\" d=\"M224.098 1517.37 Q220.487 1517.37 218.658 1520.93 Q216.853 1524.47 216.853 1531.6 Q216.853 1538.71 218.658 1542.27 Q220.487 1545.82 224.098 1545.82 Q227.732 1545.82 229.538 1542.27 Q231.366 1538.71 231.366 1531.6 Q231.366 1524.47 229.538 1520.93 Q227.732 1517.37 224.098 1517.37 M224.098 1513.66 Q229.908 1513.66 232.964 1518.27 Q236.042 1522.85 236.042 1531.6 Q236.042 1540.33 232.964 1544.94 Q229.908 1549.52 224.098 1549.52 Q218.288 1549.52 215.209 1544.94 Q212.153 1540.33 212.153 1531.6 Q212.153 1522.85 215.209 1518.27 Q218.288 1513.66 224.098 1513.66 Z\" fill=\"#000000\" fill-rule=\"evenodd\" fill-opacity=\"1\" /><path clip-path=\"url(#clip760)\" d=\"M746.54 1514.29 L764.897 1514.29 L764.897 1518.22 L750.823 1518.22 L750.823 1526.7 Q751.841 1526.35 752.86 1526.19 Q753.878 1526 754.897 1526 Q760.684 1526 764.063 1529.17 Q767.443 1532.34 767.443 1537.76 Q767.443 1543.34 763.971 1546.44 Q760.498 1549.52 754.179 1549.52 Q752.003 1549.52 749.735 1549.15 Q747.489 1548.78 745.082 1548.04 L745.082 1543.34 Q747.165 1544.47 749.387 1545.03 Q751.61 1545.58 754.086 1545.58 Q758.091 1545.58 760.429 1543.48 Q762.767 1541.37 762.767 1537.76 Q762.767 1534.15 760.429 1532.04 Q758.091 1529.94 754.086 1529.94 Q752.211 1529.94 750.336 1530.35 Q748.485 1530.77 746.54 1531.65 L746.54 1514.29 Z\" fill=\"#000000\" fill-rule=\"evenodd\" fill-opacity=\"1\" /><path clip-path=\"url(#clip760)\" d=\"M1263.11 1544.91 L1270.75 1544.91 L1270.75 1518.55 L1262.44 1520.21 L1262.44 1515.95 L1270.71 1514.29 L1275.38 1514.29 L1275.38 1544.91 L1283.02 1544.91 L1283.02 1548.85 L1263.11 1548.85 L1263.11 1544.91 Z\" fill=\"#000000\" fill-rule=\"evenodd\" fill-opacity=\"1\" /><path clip-path=\"url(#clip760)\" d=\"M1302.47 1517.37 Q1298.86 1517.37 1297.03 1520.93 Q1295.22 1524.47 1295.22 1531.6 Q1295.22 1538.71 1297.03 1542.27 Q1298.86 1545.82 1302.47 1545.82 Q1306.1 1545.82 1307.91 1542.27 Q1309.73 1538.71 1309.73 1531.6 Q1309.73 1524.47 1307.91 1520.93 Q1306.1 1517.37 1302.47 1517.37 M1302.47 1513.66 Q1308.28 1513.66 1311.33 1518.27 Q1314.41 1522.85 1314.41 1531.6 Q1314.41 1540.33 1311.33 1544.94 Q1308.28 1549.52 1302.47 1549.52 Q1296.66 1549.52 1293.58 1544.94 Q1290.52 1540.33 1290.52 1531.6 Q1290.52 1522.85 1293.58 1518.27 Q1296.66 1513.66 1302.47 1513.66 Z\" fill=\"#000000\" fill-rule=\"evenodd\" fill-opacity=\"1\" /><path clip-path=\"url(#clip760)\" d=\"M1795.78 1544.91 L1803.42 1544.91 L1803.42 1518.55 L1795.11 1520.21 L1795.11 1515.95 L1803.37 1514.29 L1808.05 1514.29 L1808.05 1544.91 L1815.68 1544.91 L1815.68 1548.85 L1795.78 1548.85 L1795.78 1544.91 Z\" fill=\"#000000\" fill-rule=\"evenodd\" fill-opacity=\"1\" /><path clip-path=\"url(#clip760)\" d=\"M1825.17 1514.29 L1843.53 1514.29 L1843.53 1518.22 L1829.46 1518.22 L1829.46 1526.7 Q1830.48 1526.35 1831.49 1526.19 Q1832.51 1526 1833.53 1526 Q1839.32 1526 1842.7 1529.17 Q1846.08 1532.34 1846.08 1537.76 Q1846.08 1543.34 1842.61 1546.44 Q1839.13 1549.52 1832.81 1549.52 Q1830.64 1549.52 1828.37 1549.15 Q1826.12 1548.78 1823.72 1548.04 L1823.72 1543.34 Q1825.8 1544.47 1828.02 1545.03 Q1830.24 1545.58 1832.72 1545.58 Q1836.73 1545.58 1839.06 1543.48 Q1841.4 1541.37 1841.4 1537.76 Q1841.4 1534.15 1839.06 1532.04 Q1836.73 1529.94 1832.72 1529.94 Q1830.85 1529.94 1828.97 1530.35 Q1827.12 1530.77 1825.17 1531.65 L1825.17 1514.29 Z\" fill=\"#000000\" fill-rule=\"evenodd\" fill-opacity=\"1\" /><path clip-path=\"url(#clip760)\" d=\"M2331.53 1544.91 L2347.85 1544.91 L2347.85 1548.85 L2325.9 1548.85 L2325.9 1544.91 Q2328.57 1542.16 2333.15 1537.53 Q2337.76 1532.88 2338.94 1531.53 Q2341.18 1529.01 2342.06 1527.27 Q2342.96 1525.51 2342.96 1523.82 Q2342.96 1521.07 2341.02 1519.33 Q2339.1 1517.6 2336 1517.6 Q2333.8 1517.6 2331.34 1518.36 Q2328.91 1519.13 2326.14 1520.68 L2326.14 1515.95 Q2328.96 1514.82 2331.41 1514.24 Q2333.87 1513.66 2335.9 1513.66 Q2341.27 1513.66 2344.47 1516.35 Q2347.66 1519.03 2347.66 1523.52 Q2347.66 1525.65 2346.85 1527.57 Q2346.07 1529.47 2343.96 1532.07 Q2343.38 1532.74 2340.28 1535.95 Q2337.18 1539.15 2331.53 1544.91 Z\" fill=\"#000000\" fill-rule=\"evenodd\" fill-opacity=\"1\" /><path clip-path=\"url(#clip760)\" d=\"M2367.66 1517.37 Q2364.05 1517.37 2362.22 1520.93 Q2360.42 1524.47 2360.42 1531.6 Q2360.42 1538.71 2362.22 1542.27 Q2364.05 1545.82 2367.66 1545.82 Q2371.3 1545.82 2373.1 1542.27 Q2374.93 1538.71 2374.93 1531.6 Q2374.93 1524.47 2373.1 1520.93 Q2371.3 1517.37 2367.66 1517.37 M2367.66 1513.66 Q2373.47 1513.66 2376.53 1518.27 Q2379.61 1522.85 2379.61 1531.6 Q2379.61 1540.33 2376.53 1544.94 Q2373.47 1549.52 2367.66 1549.52 Q2361.85 1549.52 2358.77 1544.94 Q2355.72 1540.33 2355.72 1531.6 Q2355.72 1522.85 2358.77 1518.27 Q2361.85 1513.66 2367.66 1513.66 Z\" fill=\"#000000\" fill-rule=\"evenodd\" fill-opacity=\"1\" /><polyline clip-path=\"url(#clip762)\" style=\"stroke:#000000; stroke-linecap:butt; stroke-linejoin:round; stroke-width:2; stroke-opacity:0.1; fill:none\" points=\"\n",
       "  224.098,1445.72 2352.76,1445.72 \n",
       "  \"/>\n",
       "<polyline clip-path=\"url(#clip762)\" style=\"stroke:#000000; stroke-linecap:butt; stroke-linejoin:round; stroke-width:2; stroke-opacity:0.1; fill:none\" points=\"\n",
       "  224.098,1106.28 2352.76,1106.28 \n",
       "  \"/>\n",
       "<polyline clip-path=\"url(#clip762)\" style=\"stroke:#000000; stroke-linecap:butt; stroke-linejoin:round; stroke-width:2; stroke-opacity:0.1; fill:none\" points=\"\n",
       "  224.098,766.846 2352.76,766.846 \n",
       "  \"/>\n",
       "<polyline clip-path=\"url(#clip762)\" style=\"stroke:#000000; stroke-linecap:butt; stroke-linejoin:round; stroke-width:2; stroke-opacity:0.1; fill:none\" points=\"\n",
       "  224.098,427.411 2352.76,427.411 \n",
       "  \"/>\n",
       "<polyline clip-path=\"url(#clip762)\" style=\"stroke:#000000; stroke-linecap:butt; stroke-linejoin:round; stroke-width:2; stroke-opacity:0.1; fill:none\" points=\"\n",
       "  224.098,87.9763 2352.76,87.9763 \n",
       "  \"/>\n",
       "<polyline clip-path=\"url(#clip760)\" style=\"stroke:#000000; stroke-linecap:butt; stroke-linejoin:round; stroke-width:4; stroke-opacity:1; fill:none\" points=\"\n",
       "  224.098,1486.45 224.098,47.2441 \n",
       "  \"/>\n",
       "<polyline clip-path=\"url(#clip760)\" style=\"stroke:#000000; stroke-linecap:butt; stroke-linejoin:round; stroke-width:4; stroke-opacity:1; fill:none\" points=\"\n",
       "  224.098,1445.72 242.996,1445.72 \n",
       "  \"/>\n",
       "<polyline clip-path=\"url(#clip760)\" style=\"stroke:#000000; stroke-linecap:butt; stroke-linejoin:round; stroke-width:4; stroke-opacity:1; fill:none\" points=\"\n",
       "  224.098,1106.28 242.996,1106.28 \n",
       "  \"/>\n",
       "<polyline clip-path=\"url(#clip760)\" style=\"stroke:#000000; stroke-linecap:butt; stroke-linejoin:round; stroke-width:4; stroke-opacity:1; fill:none\" points=\"\n",
       "  224.098,766.846 242.996,766.846 \n",
       "  \"/>\n",
       "<polyline clip-path=\"url(#clip760)\" style=\"stroke:#000000; stroke-linecap:butt; stroke-linejoin:round; stroke-width:4; stroke-opacity:1; fill:none\" points=\"\n",
       "  224.098,427.411 242.996,427.411 \n",
       "  \"/>\n",
       "<polyline clip-path=\"url(#clip760)\" style=\"stroke:#000000; stroke-linecap:butt; stroke-linejoin:round; stroke-width:4; stroke-opacity:1; fill:none\" points=\"\n",
       "  224.098,87.9763 242.996,87.9763 \n",
       "  \"/>\n",
       "<path clip-path=\"url(#clip760)\" d=\"M50.9921 1446.17 L80.6679 1446.17 L80.6679 1450.1 L50.9921 1450.1 L50.9921 1446.17 Z\" fill=\"#000000\" fill-rule=\"evenodd\" fill-opacity=\"1\" /><path clip-path=\"url(#clip760)\" d=\"M91.5706 1459.06 L99.2095 1459.06 L99.2095 1432.69 L90.8993 1434.36 L90.8993 1430.1 L99.1632 1428.44 L103.839 1428.44 L103.839 1459.06 L111.478 1459.06 L111.478 1463 L91.5706 1463 L91.5706 1459.06 Z\" fill=\"#000000\" fill-rule=\"evenodd\" fill-opacity=\"1\" /><path clip-path=\"url(#clip760)\" d=\"M120.922 1457.12 L125.807 1457.12 L125.807 1463 L120.922 1463 L120.922 1457.12 Z\" fill=\"#000000\" fill-rule=\"evenodd\" fill-opacity=\"1\" /><path clip-path=\"url(#clip760)\" d=\"M145.992 1431.51 Q142.381 1431.51 140.552 1435.08 Q138.746 1438.62 138.746 1445.75 Q138.746 1452.86 140.552 1456.42 Q142.381 1459.96 145.992 1459.96 Q149.626 1459.96 151.431 1456.42 Q153.26 1452.86 153.26 1445.75 Q153.26 1438.62 151.431 1435.08 Q149.626 1431.51 145.992 1431.51 M145.992 1427.81 Q151.802 1427.81 154.857 1432.42 Q157.936 1437 157.936 1445.75 Q157.936 1454.48 154.857 1459.08 Q151.802 1463.67 145.992 1463.67 Q140.181 1463.67 137.103 1459.08 Q134.047 1454.48 134.047 1445.75 Q134.047 1437 137.103 1432.42 Q140.181 1427.81 145.992 1427.81 Z\" fill=\"#000000\" fill-rule=\"evenodd\" fill-opacity=\"1\" /><path clip-path=\"url(#clip760)\" d=\"M176.153 1431.51 Q172.542 1431.51 170.714 1435.08 Q168.908 1438.62 168.908 1445.75 Q168.908 1452.86 170.714 1456.42 Q172.542 1459.96 176.153 1459.96 Q179.788 1459.96 181.593 1456.42 Q183.422 1452.86 183.422 1445.75 Q183.422 1438.62 181.593 1435.08 Q179.788 1431.51 176.153 1431.51 M176.153 1427.81 Q181.964 1427.81 185.019 1432.42 Q188.098 1437 188.098 1445.75 Q188.098 1454.48 185.019 1459.08 Q181.964 1463.67 176.153 1463.67 Q170.343 1463.67 167.265 1459.08 Q164.209 1454.48 164.209 1445.75 Q164.209 1437 167.265 1432.42 Q170.343 1427.81 176.153 1427.81 Z\" fill=\"#000000\" fill-rule=\"evenodd\" fill-opacity=\"1\" /><path clip-path=\"url(#clip760)\" d=\"M51.9875 1106.73 L81.6633 1106.73 L81.6633 1110.67 L51.9875 1110.67 L51.9875 1106.73 Z\" fill=\"#000000\" fill-rule=\"evenodd\" fill-opacity=\"1\" /><path clip-path=\"url(#clip760)\" d=\"M101.756 1092.08 Q98.1447 1092.08 96.316 1095.64 Q94.5104 1099.19 94.5104 1106.32 Q94.5104 1113.42 96.316 1116.99 Q98.1447 1120.53 101.756 1120.53 Q105.39 1120.53 107.196 1116.99 Q109.024 1113.42 109.024 1106.32 Q109.024 1099.19 107.196 1095.64 Q105.39 1092.08 101.756 1092.08 M101.756 1088.38 Q107.566 1088.38 110.621 1092.98 Q113.7 1097.57 113.7 1106.32 Q113.7 1115.04 110.621 1119.65 Q107.566 1124.23 101.756 1124.23 Q95.9456 1124.23 92.8669 1119.65 Q89.8114 1115.04 89.8114 1106.32 Q89.8114 1097.57 92.8669 1092.98 Q95.9456 1088.38 101.756 1088.38 Z\" fill=\"#000000\" fill-rule=\"evenodd\" fill-opacity=\"1\" /><path clip-path=\"url(#clip760)\" d=\"M121.918 1117.68 L126.802 1117.68 L126.802 1123.56 L121.918 1123.56 L121.918 1117.68 Z\" fill=\"#000000\" fill-rule=\"evenodd\" fill-opacity=\"1\" /><path clip-path=\"url(#clip760)\" d=\"M135.806 1089 L158.029 1089 L158.029 1090.99 L145.482 1123.56 L140.598 1123.56 L152.404 1092.94 L135.806 1092.94 L135.806 1089 Z\" fill=\"#000000\" fill-rule=\"evenodd\" fill-opacity=\"1\" /><path clip-path=\"url(#clip760)\" d=\"M167.195 1089 L185.552 1089 L185.552 1092.94 L171.478 1092.94 L171.478 1101.41 Q172.496 1101.06 173.515 1100.9 Q174.533 1100.71 175.552 1100.71 Q181.339 1100.71 184.718 1103.89 Q188.098 1107.06 188.098 1112.47 Q188.098 1118.05 184.626 1121.15 Q181.153 1124.23 174.834 1124.23 Q172.658 1124.23 170.39 1123.86 Q168.144 1123.49 165.737 1122.75 L165.737 1118.05 Q167.82 1119.19 170.042 1119.74 Q172.265 1120.3 174.741 1120.3 Q178.746 1120.3 181.084 1118.19 Q183.422 1116.08 183.422 1112.47 Q183.422 1108.86 181.084 1106.76 Q178.746 1104.65 174.741 1104.65 Q172.866 1104.65 170.991 1105.07 Q169.14 1105.48 167.195 1106.36 L167.195 1089 Z\" fill=\"#000000\" fill-rule=\"evenodd\" fill-opacity=\"1\" /><path clip-path=\"url(#clip760)\" d=\"M50.9921 767.297 L80.6679 767.297 L80.6679 771.233 L50.9921 771.233 L50.9921 767.297 Z\" fill=\"#000000\" fill-rule=\"evenodd\" fill-opacity=\"1\" /><path clip-path=\"url(#clip760)\" d=\"M100.76 752.645 Q97.1493 752.645 95.3206 756.209 Q93.515 759.751 93.515 766.881 Q93.515 773.987 95.3206 777.552 Q97.1493 781.094 100.76 781.094 Q104.395 781.094 106.2 777.552 Q108.029 773.987 108.029 766.881 Q108.029 759.751 106.2 756.209 Q104.395 752.645 100.76 752.645 M100.76 748.941 Q106.571 748.941 109.626 753.547 Q112.705 758.131 112.705 766.881 Q112.705 775.608 109.626 780.214 Q106.571 784.797 100.76 784.797 Q94.9502 784.797 91.8715 780.214 Q88.816 775.608 88.816 766.881 Q88.816 758.131 91.8715 753.547 Q94.9502 748.941 100.76 748.941 Z\" fill=\"#000000\" fill-rule=\"evenodd\" fill-opacity=\"1\" /><path clip-path=\"url(#clip760)\" d=\"M120.922 778.246 L125.807 778.246 L125.807 784.126 L120.922 784.126 L120.922 778.246 Z\" fill=\"#000000\" fill-rule=\"evenodd\" fill-opacity=\"1\" /><path clip-path=\"url(#clip760)\" d=\"M136.038 749.566 L154.394 749.566 L154.394 753.501 L140.32 753.501 L140.32 761.973 Q141.339 761.626 142.357 761.464 Q143.376 761.279 144.394 761.279 Q150.181 761.279 153.561 764.45 Q156.941 767.621 156.941 773.038 Q156.941 778.617 153.468 781.719 Q149.996 784.797 143.677 784.797 Q141.501 784.797 139.232 784.427 Q136.987 784.057 134.58 783.316 L134.58 778.617 Q136.663 779.751 138.885 780.307 Q141.107 780.862 143.584 780.862 Q147.589 780.862 149.927 778.756 Q152.265 776.649 152.265 773.038 Q152.265 769.427 149.927 767.321 Q147.589 765.214 143.584 765.214 Q141.709 765.214 139.834 765.631 Q137.982 766.047 136.038 766.927 L136.038 749.566 Z\" fill=\"#000000\" fill-rule=\"evenodd\" fill-opacity=\"1\" /><path clip-path=\"url(#clip760)\" d=\"M176.153 752.645 Q172.542 752.645 170.714 756.209 Q168.908 759.751 168.908 766.881 Q168.908 773.987 170.714 777.552 Q172.542 781.094 176.153 781.094 Q179.788 781.094 181.593 777.552 Q183.422 773.987 183.422 766.881 Q183.422 759.751 181.593 756.209 Q179.788 752.645 176.153 752.645 M176.153 748.941 Q181.964 748.941 185.019 753.547 Q188.098 758.131 188.098 766.881 Q188.098 775.608 185.019 780.214 Q181.964 784.797 176.153 784.797 Q170.343 784.797 167.265 780.214 Q164.209 775.608 164.209 766.881 Q164.209 758.131 167.265 753.547 Q170.343 748.941 176.153 748.941 Z\" fill=\"#000000\" fill-rule=\"evenodd\" fill-opacity=\"1\" /><path clip-path=\"url(#clip760)\" d=\"M51.9875 427.863 L81.6633 427.863 L81.6633 431.798 L51.9875 431.798 L51.9875 427.863 Z\" fill=\"#000000\" fill-rule=\"evenodd\" fill-opacity=\"1\" /><path clip-path=\"url(#clip760)\" d=\"M101.756 413.21 Q98.1447 413.21 96.316 416.775 Q94.5104 420.316 94.5104 427.446 Q94.5104 434.552 96.316 438.117 Q98.1447 441.659 101.756 441.659 Q105.39 441.659 107.196 438.117 Q109.024 434.552 109.024 427.446 Q109.024 420.316 107.196 416.775 Q105.39 413.21 101.756 413.21 M101.756 409.506 Q107.566 409.506 110.621 414.113 Q113.7 418.696 113.7 427.446 Q113.7 436.173 110.621 440.779 Q107.566 445.362 101.756 445.362 Q95.9456 445.362 92.8669 440.779 Q89.8114 436.173 89.8114 427.446 Q89.8114 418.696 92.8669 414.113 Q95.9456 409.506 101.756 409.506 Z\" fill=\"#000000\" fill-rule=\"evenodd\" fill-opacity=\"1\" /><path clip-path=\"url(#clip760)\" d=\"M121.918 438.812 L126.802 438.812 L126.802 444.691 L121.918 444.691 L121.918 438.812 Z\" fill=\"#000000\" fill-rule=\"evenodd\" fill-opacity=\"1\" /><path clip-path=\"url(#clip760)\" d=\"M141.015 440.756 L157.334 440.756 L157.334 444.691 L135.39 444.691 L135.39 440.756 Q138.052 438.001 142.635 433.372 Q147.242 428.719 148.422 427.376 Q150.668 424.853 151.547 423.117 Q152.45 421.358 152.45 419.668 Q152.45 416.914 150.505 415.177 Q148.584 413.441 145.482 413.441 Q143.283 413.441 140.83 414.205 Q138.399 414.969 135.621 416.52 L135.621 411.798 Q138.445 410.664 140.899 410.085 Q143.353 409.506 145.39 409.506 Q150.76 409.506 153.955 412.191 Q157.149 414.876 157.149 419.367 Q157.149 421.497 156.339 423.418 Q155.552 425.316 153.445 427.909 Q152.867 428.58 149.765 431.798 Q146.663 434.992 141.015 440.756 Z\" fill=\"#000000\" fill-rule=\"evenodd\" fill-opacity=\"1\" /><path clip-path=\"url(#clip760)\" d=\"M167.195 410.131 L185.552 410.131 L185.552 414.066 L171.478 414.066 L171.478 422.538 Q172.496 422.191 173.515 422.029 Q174.533 421.844 175.552 421.844 Q181.339 421.844 184.718 425.015 Q188.098 428.187 188.098 433.603 Q188.098 439.182 184.626 442.284 Q181.153 445.362 174.834 445.362 Q172.658 445.362 170.39 444.992 Q168.144 444.622 165.737 443.881 L165.737 439.182 Q167.82 440.316 170.042 440.872 Q172.265 441.427 174.741 441.427 Q178.746 441.427 181.084 439.321 Q183.422 437.214 183.422 433.603 Q183.422 429.992 181.084 427.886 Q178.746 425.779 174.741 425.779 Q172.866 425.779 170.991 426.196 Q169.14 426.613 167.195 427.492 L167.195 410.131 Z\" fill=\"#000000\" fill-rule=\"evenodd\" fill-opacity=\"1\" /><path clip-path=\"url(#clip760)\" d=\"M100.76 73.775 Q97.1493 73.775 95.3206 77.3398 Q93.515 80.8814 93.515 88.011 Q93.515 95.1174 95.3206 98.6822 Q97.1493 102.224 100.76 102.224 Q104.395 102.224 106.2 98.6822 Q108.029 95.1174 108.029 88.011 Q108.029 80.8814 106.2 77.3398 Q104.395 73.775 100.76 73.775 M100.76 70.0713 Q106.571 70.0713 109.626 74.6777 Q112.705 79.261 112.705 88.011 Q112.705 96.7378 109.626 101.344 Q106.571 105.928 100.76 105.928 Q94.9502 105.928 91.8715 101.344 Q88.816 96.7378 88.816 88.011 Q88.816 79.261 91.8715 74.6777 Q94.9502 70.0713 100.76 70.0713 Z\" fill=\"#000000\" fill-rule=\"evenodd\" fill-opacity=\"1\" /><path clip-path=\"url(#clip760)\" d=\"M120.922 99.3767 L125.807 99.3767 L125.807 105.256 L120.922 105.256 L120.922 99.3767 Z\" fill=\"#000000\" fill-rule=\"evenodd\" fill-opacity=\"1\" /><path clip-path=\"url(#clip760)\" d=\"M145.992 73.775 Q142.381 73.775 140.552 77.3398 Q138.746 80.8814 138.746 88.011 Q138.746 95.1174 140.552 98.6822 Q142.381 102.224 145.992 102.224 Q149.626 102.224 151.431 98.6822 Q153.26 95.1174 153.26 88.011 Q153.26 80.8814 151.431 77.3398 Q149.626 73.775 145.992 73.775 M145.992 70.0713 Q151.802 70.0713 154.857 74.6777 Q157.936 79.261 157.936 88.011 Q157.936 96.7378 154.857 101.344 Q151.802 105.928 145.992 105.928 Q140.181 105.928 137.103 101.344 Q134.047 96.7378 134.047 88.011 Q134.047 79.261 137.103 74.6777 Q140.181 70.0713 145.992 70.0713 Z\" fill=\"#000000\" fill-rule=\"evenodd\" fill-opacity=\"1\" /><path clip-path=\"url(#clip760)\" d=\"M176.153 73.775 Q172.542 73.775 170.714 77.3398 Q168.908 80.8814 168.908 88.011 Q168.908 95.1174 170.714 98.6822 Q172.542 102.224 176.153 102.224 Q179.788 102.224 181.593 98.6822 Q183.422 95.1174 183.422 88.011 Q183.422 80.8814 181.593 77.3398 Q179.788 73.775 176.153 73.775 M176.153 70.0713 Q181.964 70.0713 185.019 74.6777 Q188.098 79.261 188.098 88.011 Q188.098 96.7378 185.019 101.344 Q181.964 105.928 176.153 105.928 Q170.343 105.928 167.265 101.344 Q164.209 96.7378 164.209 88.011 Q164.209 79.261 167.265 74.6777 Q170.343 70.0713 176.153 70.0713 Z\" fill=\"#000000\" fill-rule=\"evenodd\" fill-opacity=\"1\" /><polyline clip-path=\"url(#clip762)\" style=\"stroke:#009af9; stroke-linecap:butt; stroke-linejoin:round; stroke-width:4; stroke-opacity:1; fill:none\" points=\"\n",
       "  224.098,87.9763 244.886,766.846 437.102,766.846 552.616,766.846 650.281,766.846 756.373,766.846 854.18,766.846 959.04,766.846 1080.53,766.846 1188.5,766.846 \n",
       "  1283.17,766.846 1386.4,766.846 1490.23,766.846 1605.04,766.846 1714.27,766.846 1827.85,766.846 1923.46,766.846 2040.19,766.846 2149.91,766.846 2325.7,766.846 \n",
       "  2352.76,766.846 \n",
       "  \"/>\n",
       "<polyline clip-path=\"url(#clip762)\" style=\"stroke:#e26f46; stroke-linecap:butt; stroke-linejoin:round; stroke-width:4; stroke-opacity:1; fill:none\" points=\"\n",
       "  224.098,1445.72 244.886,766.846 437.102,766.846 552.616,766.846 650.281,766.846 756.373,766.846 854.18,766.846 959.04,766.846 1080.53,766.846 1188.5,766.846 \n",
       "  1283.17,766.846 1386.4,766.846 1490.23,766.846 1605.04,766.846 1714.27,766.846 1827.85,766.846 1923.46,766.846 2040.19,766.846 2149.91,766.846 2325.7,766.846 \n",
       "  2352.76,766.846 \n",
       "  \"/>\n",
       "<path clip-path=\"url(#clip760)\" d=\"\n",
       "M1989.37 250.738 L2281.8 250.738 L2281.8 95.2176 L1989.37 95.2176  Z\n",
       "  \" fill=\"#ffffff\" fill-rule=\"evenodd\" fill-opacity=\"1\"/>\n",
       "<polyline clip-path=\"url(#clip760)\" style=\"stroke:#000000; stroke-linecap:butt; stroke-linejoin:round; stroke-width:4; stroke-opacity:1; fill:none\" points=\"\n",
       "  1989.37,250.738 2281.8,250.738 2281.8,95.2176 1989.37,95.2176 1989.37,250.738 \n",
       "  \"/>\n",
       "<polyline clip-path=\"url(#clip760)\" style=\"stroke:#009af9; stroke-linecap:butt; stroke-linejoin:round; stroke-width:4; stroke-opacity:1; fill:none\" points=\"\n",
       "  2013.37,147.058 2157.37,147.058 \n",
       "  \"/>\n",
       "<path clip-path=\"url(#clip760)\" d=\"M2195.21 166.745 Q2193.41 171.375 2191.69 172.787 Q2189.98 174.199 2187.11 174.199 L2183.71 174.199 L2183.71 170.634 L2186.21 170.634 Q2187.97 170.634 2188.94 169.8 Q2189.91 168.967 2191.09 165.865 L2191.86 163.921 L2181.37 138.412 L2185.88 138.412 L2193.99 158.689 L2202.09 138.412 L2206.6 138.412 L2195.21 166.745 Z\" fill=\"#000000\" fill-rule=\"evenodd\" fill-opacity=\"1\" /><path clip-path=\"url(#clip760)\" d=\"M2213.89 160.402 L2221.53 160.402 L2221.53 134.037 L2213.22 135.703 L2213.22 131.444 L2221.49 129.778 L2226.16 129.778 L2226.16 160.402 L2233.8 160.402 L2233.8 164.338 L2213.89 164.338 L2213.89 160.402 Z\" fill=\"#000000\" fill-rule=\"evenodd\" fill-opacity=\"1\" /><polyline clip-path=\"url(#clip760)\" style=\"stroke:#e26f46; stroke-linecap:butt; stroke-linejoin:round; stroke-width:4; stroke-opacity:1; fill:none\" points=\"\n",
       "  2013.37,198.898 2157.37,198.898 \n",
       "  \"/>\n",
       "<path clip-path=\"url(#clip760)\" d=\"M2195.21 218.585 Q2193.41 223.215 2191.69 224.627 Q2189.98 226.039 2187.11 226.039 L2183.71 226.039 L2183.71 222.474 L2186.21 222.474 Q2187.97 222.474 2188.94 221.64 Q2189.91 220.807 2191.09 217.705 L2191.86 215.761 L2181.37 190.252 L2185.88 190.252 L2193.99 210.529 L2202.09 190.252 L2206.6 190.252 L2195.21 218.585 Z\" fill=\"#000000\" fill-rule=\"evenodd\" fill-opacity=\"1\" /><path clip-path=\"url(#clip760)\" d=\"M2217.11 212.242 L2233.43 212.242 L2233.43 216.178 L2211.49 216.178 L2211.49 212.242 Q2214.15 209.488 2218.73 204.858 Q2223.34 200.205 2224.52 198.863 Q2226.76 196.34 2227.64 194.604 Q2228.55 192.844 2228.55 191.155 Q2228.55 188.4 2226.6 186.664 Q2224.68 184.928 2221.58 184.928 Q2219.38 184.928 2216.93 185.692 Q2214.5 186.455 2211.72 188.006 L2211.72 183.284 Q2214.54 182.15 2217 181.571 Q2219.45 180.993 2221.49 180.993 Q2226.86 180.993 2230.05 183.678 Q2233.25 186.363 2233.25 190.854 Q2233.25 192.983 2232.43 194.905 Q2231.65 196.803 2229.54 199.395 Q2228.96 200.067 2225.86 203.284 Q2222.76 206.479 2217.11 212.242 Z\" fill=\"#000000\" fill-rule=\"evenodd\" fill-opacity=\"1\" /></svg>\n"
      ]
     },
     "execution_count": 78,
     "metadata": {},
     "output_type": "execute_result"
    }
   ],
   "source": [
    "a = [1;2;1]\n",
    "k = 1\n",
    "ζ = 1\n",
    "#plot(κ -> real(Sp(k,κ,a,ζ)), xlim=(0,20))\n",
    "#plot!(κ -> real(Sm(k,κ,a,ζ)), xlim=(0,20))\n",
    "plot(κ -> imag(Sp(k,κ,a,ζ)), xlim=(0,20))\n",
    "plot!(κ -> imag(Sm(k,κ,a,ζ)), xlim=(0,20))"
   ]
  },
  {
   "cell_type": "code",
   "execution_count": 80,
   "id": "b258b946-0cb8-42d7-84e6-6f72361dd89a",
   "metadata": {},
   "outputs": [
    {
     "data": {
      "image/svg+xml": [
       "<?xml version=\"1.0\" encoding=\"utf-8\"?>\n",
       "<svg xmlns=\"http://www.w3.org/2000/svg\" xmlns:xlink=\"http://www.w3.org/1999/xlink\" width=\"600\" height=\"400\" viewBox=\"0 0 2400 1600\">\n",
       "<defs>\n",
       "  <clipPath id=\"clip840\">\n",
       "    <rect x=\"0\" y=\"0\" width=\"2400\" height=\"1600\"/>\n",
       "  </clipPath>\n",
       "</defs>\n",
       "<path clip-path=\"url(#clip840)\" d=\"\n",
       "M0 1600 L2400 1600 L2400 0 L0 0  Z\n",
       "  \" fill=\"#ffffff\" fill-rule=\"evenodd\" fill-opacity=\"1\"/>\n",
       "<defs>\n",
       "  <clipPath id=\"clip841\">\n",
       "    <rect x=\"480\" y=\"0\" width=\"1681\" height=\"1600\"/>\n",
       "  </clipPath>\n",
       "</defs>\n",
       "<path clip-path=\"url(#clip840)\" d=\"\n",
       "M224.098 1486.45 L2352.76 1486.45 L2352.76 47.2441 L224.098 47.2441  Z\n",
       "  \" fill=\"#ffffff\" fill-rule=\"evenodd\" fill-opacity=\"1\"/>\n",
       "<defs>\n",
       "  <clipPath id=\"clip842\">\n",
       "    <rect x=\"224\" y=\"47\" width=\"2130\" height=\"1440\"/>\n",
       "  </clipPath>\n",
       "</defs>\n",
       "<polyline clip-path=\"url(#clip842)\" style=\"stroke:#000000; stroke-linecap:butt; stroke-linejoin:round; stroke-width:2; stroke-opacity:0.1; fill:none\" points=\"\n",
       "  224.098,1486.45 224.098,47.2441 \n",
       "  \"/>\n",
       "<polyline clip-path=\"url(#clip842)\" style=\"stroke:#000000; stroke-linecap:butt; stroke-linejoin:round; stroke-width:2; stroke-opacity:0.1; fill:none\" points=\"\n",
       "  649.829,1486.45 649.829,47.2441 \n",
       "  \"/>\n",
       "<polyline clip-path=\"url(#clip842)\" style=\"stroke:#000000; stroke-linecap:butt; stroke-linejoin:round; stroke-width:2; stroke-opacity:0.1; fill:none\" points=\"\n",
       "  1075.56,1486.45 1075.56,47.2441 \n",
       "  \"/>\n",
       "<polyline clip-path=\"url(#clip842)\" style=\"stroke:#000000; stroke-linecap:butt; stroke-linejoin:round; stroke-width:2; stroke-opacity:0.1; fill:none\" points=\"\n",
       "  1501.29,1486.45 1501.29,47.2441 \n",
       "  \"/>\n",
       "<polyline clip-path=\"url(#clip842)\" style=\"stroke:#000000; stroke-linecap:butt; stroke-linejoin:round; stroke-width:2; stroke-opacity:0.1; fill:none\" points=\"\n",
       "  1927.02,1486.45 1927.02,47.2441 \n",
       "  \"/>\n",
       "<polyline clip-path=\"url(#clip842)\" style=\"stroke:#000000; stroke-linecap:butt; stroke-linejoin:round; stroke-width:2; stroke-opacity:0.1; fill:none\" points=\"\n",
       "  2352.76,1486.45 2352.76,47.2441 \n",
       "  \"/>\n",
       "<polyline clip-path=\"url(#clip840)\" style=\"stroke:#000000; stroke-linecap:butt; stroke-linejoin:round; stroke-width:4; stroke-opacity:1; fill:none\" points=\"\n",
       "  224.098,1486.45 2352.76,1486.45 \n",
       "  \"/>\n",
       "<polyline clip-path=\"url(#clip840)\" style=\"stroke:#000000; stroke-linecap:butt; stroke-linejoin:round; stroke-width:4; stroke-opacity:1; fill:none\" points=\"\n",
       "  224.098,1486.45 224.098,1467.55 \n",
       "  \"/>\n",
       "<polyline clip-path=\"url(#clip840)\" style=\"stroke:#000000; stroke-linecap:butt; stroke-linejoin:round; stroke-width:4; stroke-opacity:1; fill:none\" points=\"\n",
       "  649.829,1486.45 649.829,1467.55 \n",
       "  \"/>\n",
       "<polyline clip-path=\"url(#clip840)\" style=\"stroke:#000000; stroke-linecap:butt; stroke-linejoin:round; stroke-width:4; stroke-opacity:1; fill:none\" points=\"\n",
       "  1075.56,1486.45 1075.56,1467.55 \n",
       "  \"/>\n",
       "<polyline clip-path=\"url(#clip840)\" style=\"stroke:#000000; stroke-linecap:butt; stroke-linejoin:round; stroke-width:4; stroke-opacity:1; fill:none\" points=\"\n",
       "  1501.29,1486.45 1501.29,1467.55 \n",
       "  \"/>\n",
       "<polyline clip-path=\"url(#clip840)\" style=\"stroke:#000000; stroke-linecap:butt; stroke-linejoin:round; stroke-width:4; stroke-opacity:1; fill:none\" points=\"\n",
       "  1927.02,1486.45 1927.02,1467.55 \n",
       "  \"/>\n",
       "<polyline clip-path=\"url(#clip840)\" style=\"stroke:#000000; stroke-linecap:butt; stroke-linejoin:round; stroke-width:4; stroke-opacity:1; fill:none\" points=\"\n",
       "  2352.76,1486.45 2352.76,1467.55 \n",
       "  \"/>\n",
       "<path clip-path=\"url(#clip840)\" d=\"M224.098 1517.37 Q220.487 1517.37 218.658 1520.93 Q216.853 1524.47 216.853 1531.6 Q216.853 1538.71 218.658 1542.27 Q220.487 1545.82 224.098 1545.82 Q227.732 1545.82 229.538 1542.27 Q231.366 1538.71 231.366 1531.6 Q231.366 1524.47 229.538 1520.93 Q227.732 1517.37 224.098 1517.37 M224.098 1513.66 Q229.908 1513.66 232.964 1518.27 Q236.042 1522.85 236.042 1531.6 Q236.042 1540.33 232.964 1544.94 Q229.908 1549.52 224.098 1549.52 Q218.288 1549.52 215.209 1544.94 Q212.153 1540.33 212.153 1531.6 Q212.153 1522.85 215.209 1518.27 Q218.288 1513.66 224.098 1513.66 Z\" fill=\"#000000\" fill-rule=\"evenodd\" fill-opacity=\"1\" /><path clip-path=\"url(#clip840)\" d=\"M644.482 1544.91 L660.802 1544.91 L660.802 1548.85 L638.857 1548.85 L638.857 1544.91 Q641.519 1542.16 646.103 1537.53 Q650.709 1532.88 651.89 1531.53 Q654.135 1529.01 655.015 1527.27 Q655.917 1525.51 655.917 1523.82 Q655.917 1521.07 653.973 1519.33 Q652.052 1517.6 648.95 1517.6 Q646.751 1517.6 644.297 1518.36 Q641.867 1519.13 639.089 1520.68 L639.089 1515.95 Q641.913 1514.82 644.367 1514.24 Q646.82 1513.66 648.857 1513.66 Q654.228 1513.66 657.422 1516.35 Q660.616 1519.03 660.616 1523.52 Q660.616 1525.65 659.806 1527.57 Q659.019 1529.47 656.913 1532.07 Q656.334 1532.74 653.232 1535.95 Q650.13 1539.15 644.482 1544.91 Z\" fill=\"#000000\" fill-rule=\"evenodd\" fill-opacity=\"1\" /><path clip-path=\"url(#clip840)\" d=\"M1078.57 1518.36 L1066.76 1536.81 L1078.57 1536.81 L1078.57 1518.36 M1077.34 1514.29 L1083.22 1514.29 L1083.22 1536.81 L1088.15 1536.81 L1088.15 1540.7 L1083.22 1540.7 L1083.22 1548.85 L1078.57 1548.85 L1078.57 1540.7 L1062.97 1540.7 L1062.97 1536.19 L1077.34 1514.29 Z\" fill=\"#000000\" fill-rule=\"evenodd\" fill-opacity=\"1\" /><path clip-path=\"url(#clip840)\" d=\"M1501.7 1529.7 Q1498.55 1529.7 1496.7 1531.86 Q1494.87 1534.01 1494.87 1537.76 Q1494.87 1541.49 1496.7 1543.66 Q1498.55 1545.82 1501.7 1545.82 Q1504.85 1545.82 1506.67 1543.66 Q1508.53 1541.49 1508.53 1537.76 Q1508.53 1534.01 1506.67 1531.86 Q1504.85 1529.7 1501.7 1529.7 M1510.98 1515.05 L1510.98 1519.31 Q1509.22 1518.48 1507.42 1518.04 Q1505.63 1517.6 1503.87 1517.6 Q1499.24 1517.6 1496.79 1520.72 Q1494.36 1523.85 1494.01 1530.17 Q1495.38 1528.15 1497.44 1527.09 Q1499.5 1526 1501.98 1526 Q1507.18 1526 1510.19 1529.17 Q1513.23 1532.32 1513.23 1537.76 Q1513.23 1543.08 1510.08 1546.3 Q1506.93 1549.52 1501.7 1549.52 Q1495.7 1549.52 1492.53 1544.94 Q1489.36 1540.33 1489.36 1531.6 Q1489.36 1523.41 1493.25 1518.55 Q1497.14 1513.66 1503.69 1513.66 Q1505.45 1513.66 1507.23 1514.01 Q1509.04 1514.36 1510.98 1515.05 Z\" fill=\"#000000\" fill-rule=\"evenodd\" fill-opacity=\"1\" /><path clip-path=\"url(#clip840)\" d=\"M1927.02 1532.44 Q1923.69 1532.44 1921.77 1534.22 Q1919.87 1536 1919.87 1539.13 Q1919.87 1542.25 1921.77 1544.03 Q1923.69 1545.82 1927.02 1545.82 Q1930.36 1545.82 1932.28 1544.03 Q1934.2 1542.23 1934.2 1539.13 Q1934.2 1536 1932.28 1534.22 Q1930.38 1532.44 1927.02 1532.44 M1922.35 1530.45 Q1919.34 1529.7 1917.65 1527.64 Q1915.98 1525.58 1915.98 1522.62 Q1915.98 1518.48 1918.92 1516.07 Q1921.89 1513.66 1927.02 1513.66 Q1932.19 1513.66 1935.13 1516.07 Q1938.07 1518.48 1938.07 1522.62 Q1938.07 1525.58 1936.38 1527.64 Q1934.71 1529.7 1931.72 1530.45 Q1935.1 1531.23 1936.98 1533.52 Q1938.88 1535.82 1938.88 1539.13 Q1938.88 1544.15 1935.8 1546.83 Q1932.74 1549.52 1927.02 1549.52 Q1921.31 1549.52 1918.23 1546.83 Q1915.17 1544.15 1915.17 1539.13 Q1915.17 1535.82 1917.07 1533.52 Q1918.97 1531.23 1922.35 1530.45 M1920.64 1523.06 Q1920.64 1525.75 1922.3 1527.25 Q1923.99 1528.76 1927.02 1528.76 Q1930.03 1528.76 1931.72 1527.25 Q1933.44 1525.75 1933.44 1523.06 Q1933.44 1520.38 1931.72 1518.87 Q1930.03 1517.37 1927.02 1517.37 Q1923.99 1517.37 1922.3 1518.87 Q1920.64 1520.38 1920.64 1523.06 Z\" fill=\"#000000\" fill-rule=\"evenodd\" fill-opacity=\"1\" /><path clip-path=\"url(#clip840)\" d=\"M2327.44 1544.91 L2335.08 1544.91 L2335.08 1518.55 L2326.77 1520.21 L2326.77 1515.95 L2335.04 1514.29 L2339.71 1514.29 L2339.71 1544.91 L2347.35 1544.91 L2347.35 1548.85 L2327.44 1548.85 L2327.44 1544.91 Z\" fill=\"#000000\" fill-rule=\"evenodd\" fill-opacity=\"1\" /><path clip-path=\"url(#clip840)\" d=\"M2366.8 1517.37 Q2363.18 1517.37 2361.36 1520.93 Q2359.55 1524.47 2359.55 1531.6 Q2359.55 1538.71 2361.36 1542.27 Q2363.18 1545.82 2366.8 1545.82 Q2370.43 1545.82 2372.23 1542.27 Q2374.06 1538.71 2374.06 1531.6 Q2374.06 1524.47 2372.23 1520.93 Q2370.43 1517.37 2366.8 1517.37 M2366.8 1513.66 Q2372.61 1513.66 2375.66 1518.27 Q2378.74 1522.85 2378.74 1531.6 Q2378.74 1540.33 2375.66 1544.94 Q2372.61 1549.52 2366.8 1549.52 Q2360.99 1549.52 2357.91 1544.94 Q2354.85 1540.33 2354.85 1531.6 Q2354.85 1522.85 2357.91 1518.27 Q2360.99 1513.66 2366.8 1513.66 Z\" fill=\"#000000\" fill-rule=\"evenodd\" fill-opacity=\"1\" /><polyline clip-path=\"url(#clip842)\" style=\"stroke:#000000; stroke-linecap:butt; stroke-linejoin:round; stroke-width:2; stroke-opacity:0.1; fill:none\" points=\"\n",
       "  224.098,1445.72 2352.76,1445.72 \n",
       "  \"/>\n",
       "<polyline clip-path=\"url(#clip842)\" style=\"stroke:#000000; stroke-linecap:butt; stroke-linejoin:round; stroke-width:2; stroke-opacity:0.1; fill:none\" points=\"\n",
       "  224.098,1106.28 2352.76,1106.28 \n",
       "  \"/>\n",
       "<polyline clip-path=\"url(#clip842)\" style=\"stroke:#000000; stroke-linecap:butt; stroke-linejoin:round; stroke-width:2; stroke-opacity:0.1; fill:none\" points=\"\n",
       "  224.098,766.846 2352.76,766.846 \n",
       "  \"/>\n",
       "<polyline clip-path=\"url(#clip842)\" style=\"stroke:#000000; stroke-linecap:butt; stroke-linejoin:round; stroke-width:2; stroke-opacity:0.1; fill:none\" points=\"\n",
       "  224.098,427.411 2352.76,427.411 \n",
       "  \"/>\n",
       "<polyline clip-path=\"url(#clip842)\" style=\"stroke:#000000; stroke-linecap:butt; stroke-linejoin:round; stroke-width:2; stroke-opacity:0.1; fill:none\" points=\"\n",
       "  224.098,87.9763 2352.76,87.9763 \n",
       "  \"/>\n",
       "<polyline clip-path=\"url(#clip840)\" style=\"stroke:#000000; stroke-linecap:butt; stroke-linejoin:round; stroke-width:4; stroke-opacity:1; fill:none\" points=\"\n",
       "  224.098,1486.45 224.098,47.2441 \n",
       "  \"/>\n",
       "<polyline clip-path=\"url(#clip840)\" style=\"stroke:#000000; stroke-linecap:butt; stroke-linejoin:round; stroke-width:4; stroke-opacity:1; fill:none\" points=\"\n",
       "  224.098,1445.72 242.996,1445.72 \n",
       "  \"/>\n",
       "<polyline clip-path=\"url(#clip840)\" style=\"stroke:#000000; stroke-linecap:butt; stroke-linejoin:round; stroke-width:4; stroke-opacity:1; fill:none\" points=\"\n",
       "  224.098,1106.28 242.996,1106.28 \n",
       "  \"/>\n",
       "<polyline clip-path=\"url(#clip840)\" style=\"stroke:#000000; stroke-linecap:butt; stroke-linejoin:round; stroke-width:4; stroke-opacity:1; fill:none\" points=\"\n",
       "  224.098,766.846 242.996,766.846 \n",
       "  \"/>\n",
       "<polyline clip-path=\"url(#clip840)\" style=\"stroke:#000000; stroke-linecap:butt; stroke-linejoin:round; stroke-width:4; stroke-opacity:1; fill:none\" points=\"\n",
       "  224.098,427.411 242.996,427.411 \n",
       "  \"/>\n",
       "<polyline clip-path=\"url(#clip840)\" style=\"stroke:#000000; stroke-linecap:butt; stroke-linejoin:round; stroke-width:4; stroke-opacity:1; fill:none\" points=\"\n",
       "  224.098,87.9763 242.996,87.9763 \n",
       "  \"/>\n",
       "<path clip-path=\"url(#clip840)\" d=\"M50.9921 1446.17 L80.6679 1446.17 L80.6679 1450.1 L50.9921 1450.1 L50.9921 1446.17 Z\" fill=\"#000000\" fill-rule=\"evenodd\" fill-opacity=\"1\" /><path clip-path=\"url(#clip840)\" d=\"M91.5706 1459.06 L99.2095 1459.06 L99.2095 1432.69 L90.8993 1434.36 L90.8993 1430.1 L99.1632 1428.44 L103.839 1428.44 L103.839 1459.06 L111.478 1459.06 L111.478 1463 L91.5706 1463 L91.5706 1459.06 Z\" fill=\"#000000\" fill-rule=\"evenodd\" fill-opacity=\"1\" /><path clip-path=\"url(#clip840)\" d=\"M120.922 1457.12 L125.807 1457.12 L125.807 1463 L120.922 1463 L120.922 1457.12 Z\" fill=\"#000000\" fill-rule=\"evenodd\" fill-opacity=\"1\" /><path clip-path=\"url(#clip840)\" d=\"M145.992 1431.51 Q142.381 1431.51 140.552 1435.08 Q138.746 1438.62 138.746 1445.75 Q138.746 1452.86 140.552 1456.42 Q142.381 1459.96 145.992 1459.96 Q149.626 1459.96 151.431 1456.42 Q153.26 1452.86 153.26 1445.75 Q153.26 1438.62 151.431 1435.08 Q149.626 1431.51 145.992 1431.51 M145.992 1427.81 Q151.802 1427.81 154.857 1432.42 Q157.936 1437 157.936 1445.75 Q157.936 1454.48 154.857 1459.08 Q151.802 1463.67 145.992 1463.67 Q140.181 1463.67 137.103 1459.08 Q134.047 1454.48 134.047 1445.75 Q134.047 1437 137.103 1432.42 Q140.181 1427.81 145.992 1427.81 Z\" fill=\"#000000\" fill-rule=\"evenodd\" fill-opacity=\"1\" /><path clip-path=\"url(#clip840)\" d=\"M176.153 1431.51 Q172.542 1431.51 170.714 1435.08 Q168.908 1438.62 168.908 1445.75 Q168.908 1452.86 170.714 1456.42 Q172.542 1459.96 176.153 1459.96 Q179.788 1459.96 181.593 1456.42 Q183.422 1452.86 183.422 1445.75 Q183.422 1438.62 181.593 1435.08 Q179.788 1431.51 176.153 1431.51 M176.153 1427.81 Q181.964 1427.81 185.019 1432.42 Q188.098 1437 188.098 1445.75 Q188.098 1454.48 185.019 1459.08 Q181.964 1463.67 176.153 1463.67 Q170.343 1463.67 167.265 1459.08 Q164.209 1454.48 164.209 1445.75 Q164.209 1437 167.265 1432.42 Q170.343 1427.81 176.153 1427.81 Z\" fill=\"#000000\" fill-rule=\"evenodd\" fill-opacity=\"1\" /><path clip-path=\"url(#clip840)\" d=\"M51.9875 1106.73 L81.6633 1106.73 L81.6633 1110.67 L51.9875 1110.67 L51.9875 1106.73 Z\" fill=\"#000000\" fill-rule=\"evenodd\" fill-opacity=\"1\" /><path clip-path=\"url(#clip840)\" d=\"M101.756 1092.08 Q98.1447 1092.08 96.316 1095.64 Q94.5104 1099.19 94.5104 1106.32 Q94.5104 1113.42 96.316 1116.99 Q98.1447 1120.53 101.756 1120.53 Q105.39 1120.53 107.196 1116.99 Q109.024 1113.42 109.024 1106.32 Q109.024 1099.19 107.196 1095.64 Q105.39 1092.08 101.756 1092.08 M101.756 1088.38 Q107.566 1088.38 110.621 1092.98 Q113.7 1097.57 113.7 1106.32 Q113.7 1115.04 110.621 1119.65 Q107.566 1124.23 101.756 1124.23 Q95.9456 1124.23 92.8669 1119.65 Q89.8114 1115.04 89.8114 1106.32 Q89.8114 1097.57 92.8669 1092.98 Q95.9456 1088.38 101.756 1088.38 Z\" fill=\"#000000\" fill-rule=\"evenodd\" fill-opacity=\"1\" /><path clip-path=\"url(#clip840)\" d=\"M121.918 1117.68 L126.802 1117.68 L126.802 1123.56 L121.918 1123.56 L121.918 1117.68 Z\" fill=\"#000000\" fill-rule=\"evenodd\" fill-opacity=\"1\" /><path clip-path=\"url(#clip840)\" d=\"M135.806 1089 L158.029 1089 L158.029 1090.99 L145.482 1123.56 L140.598 1123.56 L152.404 1092.94 L135.806 1092.94 L135.806 1089 Z\" fill=\"#000000\" fill-rule=\"evenodd\" fill-opacity=\"1\" /><path clip-path=\"url(#clip840)\" d=\"M167.195 1089 L185.552 1089 L185.552 1092.94 L171.478 1092.94 L171.478 1101.41 Q172.496 1101.06 173.515 1100.9 Q174.533 1100.71 175.552 1100.71 Q181.339 1100.71 184.718 1103.89 Q188.098 1107.06 188.098 1112.47 Q188.098 1118.05 184.626 1121.15 Q181.153 1124.23 174.834 1124.23 Q172.658 1124.23 170.39 1123.86 Q168.144 1123.49 165.737 1122.75 L165.737 1118.05 Q167.82 1119.19 170.042 1119.74 Q172.265 1120.3 174.741 1120.3 Q178.746 1120.3 181.084 1118.19 Q183.422 1116.08 183.422 1112.47 Q183.422 1108.86 181.084 1106.76 Q178.746 1104.65 174.741 1104.65 Q172.866 1104.65 170.991 1105.07 Q169.14 1105.48 167.195 1106.36 L167.195 1089 Z\" fill=\"#000000\" fill-rule=\"evenodd\" fill-opacity=\"1\" /><path clip-path=\"url(#clip840)\" d=\"M50.9921 767.297 L80.6679 767.297 L80.6679 771.233 L50.9921 771.233 L50.9921 767.297 Z\" fill=\"#000000\" fill-rule=\"evenodd\" fill-opacity=\"1\" /><path clip-path=\"url(#clip840)\" d=\"M100.76 752.645 Q97.1493 752.645 95.3206 756.209 Q93.515 759.751 93.515 766.881 Q93.515 773.987 95.3206 777.552 Q97.1493 781.094 100.76 781.094 Q104.395 781.094 106.2 777.552 Q108.029 773.987 108.029 766.881 Q108.029 759.751 106.2 756.209 Q104.395 752.645 100.76 752.645 M100.76 748.941 Q106.571 748.941 109.626 753.547 Q112.705 758.131 112.705 766.881 Q112.705 775.608 109.626 780.214 Q106.571 784.797 100.76 784.797 Q94.9502 784.797 91.8715 780.214 Q88.816 775.608 88.816 766.881 Q88.816 758.131 91.8715 753.547 Q94.9502 748.941 100.76 748.941 Z\" fill=\"#000000\" fill-rule=\"evenodd\" fill-opacity=\"1\" /><path clip-path=\"url(#clip840)\" d=\"M120.922 778.246 L125.807 778.246 L125.807 784.126 L120.922 784.126 L120.922 778.246 Z\" fill=\"#000000\" fill-rule=\"evenodd\" fill-opacity=\"1\" /><path clip-path=\"url(#clip840)\" d=\"M136.038 749.566 L154.394 749.566 L154.394 753.501 L140.32 753.501 L140.32 761.973 Q141.339 761.626 142.357 761.464 Q143.376 761.279 144.394 761.279 Q150.181 761.279 153.561 764.45 Q156.941 767.621 156.941 773.038 Q156.941 778.617 153.468 781.719 Q149.996 784.797 143.677 784.797 Q141.501 784.797 139.232 784.427 Q136.987 784.057 134.58 783.316 L134.58 778.617 Q136.663 779.751 138.885 780.307 Q141.107 780.862 143.584 780.862 Q147.589 780.862 149.927 778.756 Q152.265 776.649 152.265 773.038 Q152.265 769.427 149.927 767.321 Q147.589 765.214 143.584 765.214 Q141.709 765.214 139.834 765.631 Q137.982 766.047 136.038 766.927 L136.038 749.566 Z\" fill=\"#000000\" fill-rule=\"evenodd\" fill-opacity=\"1\" /><path clip-path=\"url(#clip840)\" d=\"M176.153 752.645 Q172.542 752.645 170.714 756.209 Q168.908 759.751 168.908 766.881 Q168.908 773.987 170.714 777.552 Q172.542 781.094 176.153 781.094 Q179.788 781.094 181.593 777.552 Q183.422 773.987 183.422 766.881 Q183.422 759.751 181.593 756.209 Q179.788 752.645 176.153 752.645 M176.153 748.941 Q181.964 748.941 185.019 753.547 Q188.098 758.131 188.098 766.881 Q188.098 775.608 185.019 780.214 Q181.964 784.797 176.153 784.797 Q170.343 784.797 167.265 780.214 Q164.209 775.608 164.209 766.881 Q164.209 758.131 167.265 753.547 Q170.343 748.941 176.153 748.941 Z\" fill=\"#000000\" fill-rule=\"evenodd\" fill-opacity=\"1\" /><path clip-path=\"url(#clip840)\" d=\"M51.9875 427.863 L81.6633 427.863 L81.6633 431.798 L51.9875 431.798 L51.9875 427.863 Z\" fill=\"#000000\" fill-rule=\"evenodd\" fill-opacity=\"1\" /><path clip-path=\"url(#clip840)\" d=\"M101.756 413.21 Q98.1447 413.21 96.316 416.775 Q94.5104 420.316 94.5104 427.446 Q94.5104 434.552 96.316 438.117 Q98.1447 441.659 101.756 441.659 Q105.39 441.659 107.196 438.117 Q109.024 434.552 109.024 427.446 Q109.024 420.316 107.196 416.775 Q105.39 413.21 101.756 413.21 M101.756 409.506 Q107.566 409.506 110.621 414.113 Q113.7 418.696 113.7 427.446 Q113.7 436.173 110.621 440.779 Q107.566 445.362 101.756 445.362 Q95.9456 445.362 92.8669 440.779 Q89.8114 436.173 89.8114 427.446 Q89.8114 418.696 92.8669 414.113 Q95.9456 409.506 101.756 409.506 Z\" fill=\"#000000\" fill-rule=\"evenodd\" fill-opacity=\"1\" /><path clip-path=\"url(#clip840)\" d=\"M121.918 438.812 L126.802 438.812 L126.802 444.691 L121.918 444.691 L121.918 438.812 Z\" fill=\"#000000\" fill-rule=\"evenodd\" fill-opacity=\"1\" /><path clip-path=\"url(#clip840)\" d=\"M141.015 440.756 L157.334 440.756 L157.334 444.691 L135.39 444.691 L135.39 440.756 Q138.052 438.001 142.635 433.372 Q147.242 428.719 148.422 427.376 Q150.668 424.853 151.547 423.117 Q152.45 421.358 152.45 419.668 Q152.45 416.914 150.505 415.177 Q148.584 413.441 145.482 413.441 Q143.283 413.441 140.83 414.205 Q138.399 414.969 135.621 416.52 L135.621 411.798 Q138.445 410.664 140.899 410.085 Q143.353 409.506 145.39 409.506 Q150.76 409.506 153.955 412.191 Q157.149 414.876 157.149 419.367 Q157.149 421.497 156.339 423.418 Q155.552 425.316 153.445 427.909 Q152.867 428.58 149.765 431.798 Q146.663 434.992 141.015 440.756 Z\" fill=\"#000000\" fill-rule=\"evenodd\" fill-opacity=\"1\" /><path clip-path=\"url(#clip840)\" d=\"M167.195 410.131 L185.552 410.131 L185.552 414.066 L171.478 414.066 L171.478 422.538 Q172.496 422.191 173.515 422.029 Q174.533 421.844 175.552 421.844 Q181.339 421.844 184.718 425.015 Q188.098 428.187 188.098 433.603 Q188.098 439.182 184.626 442.284 Q181.153 445.362 174.834 445.362 Q172.658 445.362 170.39 444.992 Q168.144 444.622 165.737 443.881 L165.737 439.182 Q167.82 440.316 170.042 440.872 Q172.265 441.427 174.741 441.427 Q178.746 441.427 181.084 439.321 Q183.422 437.214 183.422 433.603 Q183.422 429.992 181.084 427.886 Q178.746 425.779 174.741 425.779 Q172.866 425.779 170.991 426.196 Q169.14 426.613 167.195 427.492 L167.195 410.131 Z\" fill=\"#000000\" fill-rule=\"evenodd\" fill-opacity=\"1\" /><path clip-path=\"url(#clip840)\" d=\"M100.76 73.775 Q97.1493 73.775 95.3206 77.3398 Q93.515 80.8814 93.515 88.011 Q93.515 95.1174 95.3206 98.6822 Q97.1493 102.224 100.76 102.224 Q104.395 102.224 106.2 98.6822 Q108.029 95.1174 108.029 88.011 Q108.029 80.8814 106.2 77.3398 Q104.395 73.775 100.76 73.775 M100.76 70.0713 Q106.571 70.0713 109.626 74.6777 Q112.705 79.261 112.705 88.011 Q112.705 96.7378 109.626 101.344 Q106.571 105.928 100.76 105.928 Q94.9502 105.928 91.8715 101.344 Q88.816 96.7378 88.816 88.011 Q88.816 79.261 91.8715 74.6777 Q94.9502 70.0713 100.76 70.0713 Z\" fill=\"#000000\" fill-rule=\"evenodd\" fill-opacity=\"1\" /><path clip-path=\"url(#clip840)\" d=\"M120.922 99.3767 L125.807 99.3767 L125.807 105.256 L120.922 105.256 L120.922 99.3767 Z\" fill=\"#000000\" fill-rule=\"evenodd\" fill-opacity=\"1\" /><path clip-path=\"url(#clip840)\" d=\"M145.992 73.775 Q142.381 73.775 140.552 77.3398 Q138.746 80.8814 138.746 88.011 Q138.746 95.1174 140.552 98.6822 Q142.381 102.224 145.992 102.224 Q149.626 102.224 151.431 98.6822 Q153.26 95.1174 153.26 88.011 Q153.26 80.8814 151.431 77.3398 Q149.626 73.775 145.992 73.775 M145.992 70.0713 Q151.802 70.0713 154.857 74.6777 Q157.936 79.261 157.936 88.011 Q157.936 96.7378 154.857 101.344 Q151.802 105.928 145.992 105.928 Q140.181 105.928 137.103 101.344 Q134.047 96.7378 134.047 88.011 Q134.047 79.261 137.103 74.6777 Q140.181 70.0713 145.992 70.0713 Z\" fill=\"#000000\" fill-rule=\"evenodd\" fill-opacity=\"1\" /><path clip-path=\"url(#clip840)\" d=\"M176.153 73.775 Q172.542 73.775 170.714 77.3398 Q168.908 80.8814 168.908 88.011 Q168.908 95.1174 170.714 98.6822 Q172.542 102.224 176.153 102.224 Q179.788 102.224 181.593 98.6822 Q183.422 95.1174 183.422 88.011 Q183.422 80.8814 181.593 77.3398 Q179.788 73.775 176.153 73.775 M176.153 70.0713 Q181.964 70.0713 185.019 74.6777 Q188.098 79.261 188.098 88.011 Q188.098 96.7378 185.019 101.344 Q181.964 105.928 176.153 105.928 Q170.343 105.928 167.265 101.344 Q164.209 96.7378 164.209 88.011 Q164.209 79.261 167.265 74.6777 Q170.343 70.0713 176.153 70.0713 Z\" fill=\"#000000\" fill-rule=\"evenodd\" fill-opacity=\"1\" /><polyline clip-path=\"url(#clip842)\" style=\"stroke:#009af9; stroke-linecap:butt; stroke-linejoin:round; stroke-width:4; stroke-opacity:1; fill:none\" points=\"\n",
       "  224.098,87.9763 226.696,88.7861 229.295,91.2213 231.893,95.2995 234.492,101.051 237.09,108.52 239.689,117.765 240.988,123.077 242.287,128.864 243.587,135.138 \n",
       "  244.886,141.915 247.889,159.598 250.893,180.308 253.896,204.382 256.899,232.271 259.903,264.612 262.906,302.334 264.408,323.635 265.91,346.884 267.411,372.429 \n",
       "  268.913,400.747 270.415,432.544 271.916,468.931 273.418,511.866 274.92,565.494 276.421,643.006 277.923,766.846 279.425,766.846 280.926,766.846 283.93,766.846 \n",
       "  286.933,766.846 289.937,766.846 292.94,766.846 304.953,766.846 316.967,766.846 328.98,766.846 340.994,766.846 389.048,766.846 437.102,766.846 494.859,766.846 \n",
       "  552.616,766.846 601.448,766.846 650.281,766.846 756.373,766.846 854.18,766.846 959.04,766.846 1080.53,766.846 1188.5,766.846 1283.17,766.846 1386.4,766.846 \n",
       "  1490.23,766.846 1605.04,766.846 1714.27,766.846 1827.85,766.846 1923.46,766.846 2040.19,766.846 2149.91,766.846 2325.7,766.846 2352.76,766.846 \n",
       "  \"/>\n",
       "<polyline clip-path=\"url(#clip842)\" style=\"stroke:#e26f46; stroke-linecap:butt; stroke-linejoin:round; stroke-width:4; stroke-opacity:1; fill:none\" points=\"\n",
       "  224.098,1445.72 226.696,1444.91 229.295,1442.47 231.893,1438.39 234.492,1432.64 237.09,1425.17 239.689,1415.93 240.988,1410.61 242.287,1404.83 243.587,1398.55 \n",
       "  244.886,1391.78 247.889,1374.09 250.893,1353.38 253.896,1329.31 256.899,1301.42 259.903,1269.08 262.906,1231.36 264.408,1210.06 265.91,1186.81 267.411,1161.26 \n",
       "  268.913,1132.95 270.415,1101.15 271.916,1064.76 273.418,1021.83 274.92,968.198 276.421,890.686 277.923,766.846 279.425,766.846 280.926,766.846 283.93,766.846 \n",
       "  286.933,766.846 289.937,766.846 292.94,766.846 304.953,766.846 316.967,766.846 328.98,766.846 340.994,766.846 389.048,766.846 437.102,766.846 494.859,766.846 \n",
       "  552.616,766.846 601.448,766.846 650.281,766.846 756.373,766.846 854.18,766.846 959.04,766.846 1080.53,766.846 1188.5,766.846 1283.17,766.846 1386.4,766.846 \n",
       "  1490.23,766.846 1605.04,766.846 1714.27,766.846 1827.85,766.846 1923.46,766.846 2040.19,766.846 2149.91,766.846 2325.7,766.846 2352.76,766.846 \n",
       "  \"/>\n",
       "<path clip-path=\"url(#clip840)\" d=\"\n",
       "M1989.37 250.738 L2281.8 250.738 L2281.8 95.2176 L1989.37 95.2176  Z\n",
       "  \" fill=\"#ffffff\" fill-rule=\"evenodd\" fill-opacity=\"1\"/>\n",
       "<polyline clip-path=\"url(#clip840)\" style=\"stroke:#000000; stroke-linecap:butt; stroke-linejoin:round; stroke-width:4; stroke-opacity:1; fill:none\" points=\"\n",
       "  1989.37,250.738 2281.8,250.738 2281.8,95.2176 1989.37,95.2176 1989.37,250.738 \n",
       "  \"/>\n",
       "<polyline clip-path=\"url(#clip840)\" style=\"stroke:#009af9; stroke-linecap:butt; stroke-linejoin:round; stroke-width:4; stroke-opacity:1; fill:none\" points=\"\n",
       "  2013.37,147.058 2157.37,147.058 \n",
       "  \"/>\n",
       "<path clip-path=\"url(#clip840)\" d=\"M2195.21 166.745 Q2193.41 171.375 2191.69 172.787 Q2189.98 174.199 2187.11 174.199 L2183.71 174.199 L2183.71 170.634 L2186.21 170.634 Q2187.97 170.634 2188.94 169.8 Q2189.91 168.967 2191.09 165.865 L2191.86 163.921 L2181.37 138.412 L2185.88 138.412 L2193.99 158.689 L2202.09 138.412 L2206.6 138.412 L2195.21 166.745 Z\" fill=\"#000000\" fill-rule=\"evenodd\" fill-opacity=\"1\" /><path clip-path=\"url(#clip840)\" d=\"M2213.89 160.402 L2221.53 160.402 L2221.53 134.037 L2213.22 135.703 L2213.22 131.444 L2221.49 129.778 L2226.16 129.778 L2226.16 160.402 L2233.8 160.402 L2233.8 164.338 L2213.89 164.338 L2213.89 160.402 Z\" fill=\"#000000\" fill-rule=\"evenodd\" fill-opacity=\"1\" /><polyline clip-path=\"url(#clip840)\" style=\"stroke:#e26f46; stroke-linecap:butt; stroke-linejoin:round; stroke-width:4; stroke-opacity:1; fill:none\" points=\"\n",
       "  2013.37,198.898 2157.37,198.898 \n",
       "  \"/>\n",
       "<path clip-path=\"url(#clip840)\" d=\"M2195.21 218.585 Q2193.41 223.215 2191.69 224.627 Q2189.98 226.039 2187.11 226.039 L2183.71 226.039 L2183.71 222.474 L2186.21 222.474 Q2187.97 222.474 2188.94 221.64 Q2189.91 220.807 2191.09 217.705 L2191.86 215.761 L2181.37 190.252 L2185.88 190.252 L2193.99 210.529 L2202.09 190.252 L2206.6 190.252 L2195.21 218.585 Z\" fill=\"#000000\" fill-rule=\"evenodd\" fill-opacity=\"1\" /><path clip-path=\"url(#clip840)\" d=\"M2217.11 212.242 L2233.43 212.242 L2233.43 216.178 L2211.49 216.178 L2211.49 212.242 Q2214.15 209.488 2218.73 204.858 Q2223.34 200.205 2224.52 198.863 Q2226.76 196.34 2227.64 194.604 Q2228.55 192.844 2228.55 191.155 Q2228.55 188.4 2226.6 186.664 Q2224.68 184.928 2221.58 184.928 Q2219.38 184.928 2216.93 185.692 Q2214.5 186.455 2211.72 188.006 L2211.72 183.284 Q2214.54 182.15 2217 181.571 Q2219.45 180.993 2221.49 180.993 Q2226.86 180.993 2230.05 183.678 Q2233.25 186.363 2233.25 190.854 Q2233.25 192.983 2232.43 194.905 Q2231.65 196.803 2229.54 199.395 Q2228.96 200.067 2225.86 203.284 Q2222.76 206.479 2217.11 212.242 Z\" fill=\"#000000\" fill-rule=\"evenodd\" fill-opacity=\"1\" /></svg>\n"
      ]
     },
     "execution_count": 80,
     "metadata": {},
     "output_type": "execute_result"
    }
   ],
   "source": [
    "a = [1;2;1]\n",
    "k = 1\n",
    "ζ = 1\n",
    "κ = 1\n",
    "#plot(κ -> real(Sp(k,κ,a,ζ)), xlim=(0,20))\n",
    "#plot!(κ -> real(Sm(k,κ,a,ζ)), xlim=(0,20))\n",
    "plot(k -> imag(Sp(k,κ,a,ζ)), xlim=(0,10))\n",
    "plot!(k -> imag(Sm(k,κ,a,ζ)), xlim=(0,10))"
   ]
  },
  {
   "cell_type": "code",
   "execution_count": 88,
   "id": "a1423998-984d-452c-8c1c-6fb7e6d9e85a",
   "metadata": {},
   "outputs": [
    {
     "data": {
      "image/svg+xml": [
       "<?xml version=\"1.0\" encoding=\"utf-8\"?>\n",
       "<svg xmlns=\"http://www.w3.org/2000/svg\" xmlns:xlink=\"http://www.w3.org/1999/xlink\" width=\"600\" height=\"400\" viewBox=\"0 0 2400 1600\">\n",
       "<defs>\n",
       "  <clipPath id=\"clip160\">\n",
       "    <rect x=\"0\" y=\"0\" width=\"2400\" height=\"1600\"/>\n",
       "  </clipPath>\n",
       "</defs>\n",
       "<path clip-path=\"url(#clip160)\" d=\"\n",
       "M0 1600 L2400 1600 L2400 0 L0 0  Z\n",
       "  \" fill=\"#ffffff\" fill-rule=\"evenodd\" fill-opacity=\"1\"/>\n",
       "<defs>\n",
       "  <clipPath id=\"clip161\">\n",
       "    <rect x=\"480\" y=\"0\" width=\"1681\" height=\"1600\"/>\n",
       "  </clipPath>\n",
       "</defs>\n",
       "<path clip-path=\"url(#clip160)\" d=\"\n",
       "M178.867 1486.45 L2352.76 1486.45 L2352.76 47.2441 L178.867 47.2441  Z\n",
       "  \" fill=\"#ffffff\" fill-rule=\"evenodd\" fill-opacity=\"1\"/>\n",
       "<defs>\n",
       "  <clipPath id=\"clip162\">\n",
       "    <rect x=\"178\" y=\"47\" width=\"2175\" height=\"1440\"/>\n",
       "  </clipPath>\n",
       "</defs>\n",
       "<polyline clip-path=\"url(#clip162)\" style=\"stroke:#000000; stroke-linecap:butt; stroke-linejoin:round; stroke-width:2; stroke-opacity:0.1; fill:none\" points=\"\n",
       "  178.867,1486.45 178.867,47.2441 \n",
       "  \"/>\n",
       "<polyline clip-path=\"url(#clip162)\" style=\"stroke:#000000; stroke-linecap:butt; stroke-linejoin:round; stroke-width:2; stroke-opacity:0.1; fill:none\" points=\"\n",
       "  722.339,1486.45 722.339,47.2441 \n",
       "  \"/>\n",
       "<polyline clip-path=\"url(#clip162)\" style=\"stroke:#000000; stroke-linecap:butt; stroke-linejoin:round; stroke-width:2; stroke-opacity:0.1; fill:none\" points=\"\n",
       "  1265.81,1486.45 1265.81,47.2441 \n",
       "  \"/>\n",
       "<polyline clip-path=\"url(#clip162)\" style=\"stroke:#000000; stroke-linecap:butt; stroke-linejoin:round; stroke-width:2; stroke-opacity:0.1; fill:none\" points=\"\n",
       "  1809.28,1486.45 1809.28,47.2441 \n",
       "  \"/>\n",
       "<polyline clip-path=\"url(#clip162)\" style=\"stroke:#000000; stroke-linecap:butt; stroke-linejoin:round; stroke-width:2; stroke-opacity:0.1; fill:none\" points=\"\n",
       "  2352.76,1486.45 2352.76,47.2441 \n",
       "  \"/>\n",
       "<polyline clip-path=\"url(#clip160)\" style=\"stroke:#000000; stroke-linecap:butt; stroke-linejoin:round; stroke-width:4; stroke-opacity:1; fill:none\" points=\"\n",
       "  178.867,1486.45 2352.76,1486.45 \n",
       "  \"/>\n",
       "<polyline clip-path=\"url(#clip160)\" style=\"stroke:#000000; stroke-linecap:butt; stroke-linejoin:round; stroke-width:4; stroke-opacity:1; fill:none\" points=\"\n",
       "  178.867,1486.45 178.867,1467.55 \n",
       "  \"/>\n",
       "<polyline clip-path=\"url(#clip160)\" style=\"stroke:#000000; stroke-linecap:butt; stroke-linejoin:round; stroke-width:4; stroke-opacity:1; fill:none\" points=\"\n",
       "  722.339,1486.45 722.339,1467.55 \n",
       "  \"/>\n",
       "<polyline clip-path=\"url(#clip160)\" style=\"stroke:#000000; stroke-linecap:butt; stroke-linejoin:round; stroke-width:4; stroke-opacity:1; fill:none\" points=\"\n",
       "  1265.81,1486.45 1265.81,1467.55 \n",
       "  \"/>\n",
       "<polyline clip-path=\"url(#clip160)\" style=\"stroke:#000000; stroke-linecap:butt; stroke-linejoin:round; stroke-width:4; stroke-opacity:1; fill:none\" points=\"\n",
       "  1809.28,1486.45 1809.28,1467.55 \n",
       "  \"/>\n",
       "<polyline clip-path=\"url(#clip160)\" style=\"stroke:#000000; stroke-linecap:butt; stroke-linejoin:round; stroke-width:4; stroke-opacity:1; fill:none\" points=\"\n",
       "  2352.76,1486.45 2352.76,1467.55 \n",
       "  \"/>\n",
       "<path clip-path=\"url(#clip160)\" d=\"M178.867 1517.37 Q175.256 1517.37 173.427 1520.93 Q171.621 1524.47 171.621 1531.6 Q171.621 1538.71 173.427 1542.27 Q175.256 1545.82 178.867 1545.82 Q182.501 1545.82 184.306 1542.27 Q186.135 1538.71 186.135 1531.6 Q186.135 1524.47 184.306 1520.93 Q182.501 1517.37 178.867 1517.37 M178.867 1513.66 Q184.677 1513.66 187.732 1518.27 Q190.811 1522.85 190.811 1531.6 Q190.811 1540.33 187.732 1544.94 Q184.677 1549.52 178.867 1549.52 Q173.056 1549.52 169.978 1544.94 Q166.922 1540.33 166.922 1531.6 Q166.922 1522.85 169.978 1518.27 Q173.056 1513.66 178.867 1513.66 Z\" fill=\"#000000\" fill-rule=\"evenodd\" fill-opacity=\"1\" /><path clip-path=\"url(#clip160)\" d=\"M712.617 1514.29 L730.973 1514.29 L730.973 1518.22 L716.899 1518.22 L716.899 1526.7 Q717.918 1526.35 718.936 1526.19 Q719.955 1526 720.973 1526 Q726.76 1526 730.14 1529.17 Q733.519 1532.34 733.519 1537.76 Q733.519 1543.34 730.047 1546.44 Q726.575 1549.52 720.256 1549.52 Q718.08 1549.52 715.811 1549.15 Q713.566 1548.78 711.158 1548.04 L711.158 1543.34 Q713.242 1544.47 715.464 1545.03 Q717.686 1545.58 720.163 1545.58 Q724.168 1545.58 726.506 1543.48 Q728.844 1541.37 728.844 1537.76 Q728.844 1534.15 726.506 1532.04 Q724.168 1529.94 720.163 1529.94 Q718.288 1529.94 716.413 1530.35 Q714.561 1530.77 712.617 1531.65 L712.617 1514.29 Z\" fill=\"#000000\" fill-rule=\"evenodd\" fill-opacity=\"1\" /><path clip-path=\"url(#clip160)\" d=\"M1240.5 1544.91 L1248.14 1544.91 L1248.14 1518.55 L1239.83 1520.21 L1239.83 1515.95 L1248.09 1514.29 L1252.77 1514.29 L1252.77 1544.91 L1260.41 1544.91 L1260.41 1548.85 L1240.5 1548.85 L1240.5 1544.91 Z\" fill=\"#000000\" fill-rule=\"evenodd\" fill-opacity=\"1\" /><path clip-path=\"url(#clip160)\" d=\"M1279.85 1517.37 Q1276.24 1517.37 1274.41 1520.93 Q1272.61 1524.47 1272.61 1531.6 Q1272.61 1538.71 1274.41 1542.27 Q1276.24 1545.82 1279.85 1545.82 Q1283.48 1545.82 1285.29 1542.27 Q1287.12 1538.71 1287.12 1531.6 Q1287.12 1524.47 1285.29 1520.93 Q1283.48 1517.37 1279.85 1517.37 M1279.85 1513.66 Q1285.66 1513.66 1288.72 1518.27 Q1291.79 1522.85 1291.79 1531.6 Q1291.79 1540.33 1288.72 1544.94 Q1285.66 1549.52 1279.85 1549.52 Q1274.04 1549.52 1270.96 1544.94 Q1267.91 1540.33 1267.91 1531.6 Q1267.91 1522.85 1270.96 1518.27 Q1274.04 1513.66 1279.85 1513.66 Z\" fill=\"#000000\" fill-rule=\"evenodd\" fill-opacity=\"1\" /><path clip-path=\"url(#clip160)\" d=\"M1784.47 1544.91 L1792.11 1544.91 L1792.11 1518.55 L1783.8 1520.21 L1783.8 1515.95 L1792.06 1514.29 L1796.74 1514.29 L1796.74 1544.91 L1804.38 1544.91 L1804.38 1548.85 L1784.47 1548.85 L1784.47 1544.91 Z\" fill=\"#000000\" fill-rule=\"evenodd\" fill-opacity=\"1\" /><path clip-path=\"url(#clip160)\" d=\"M1813.87 1514.29 L1832.22 1514.29 L1832.22 1518.22 L1818.15 1518.22 L1818.15 1526.7 Q1819.17 1526.35 1820.19 1526.19 Q1821.2 1526 1822.22 1526 Q1828.01 1526 1831.39 1529.17 Q1834.77 1532.34 1834.77 1537.76 Q1834.77 1543.34 1831.3 1546.44 Q1827.83 1549.52 1821.51 1549.52 Q1819.33 1549.52 1817.06 1549.15 Q1814.82 1548.78 1812.41 1548.04 L1812.41 1543.34 Q1814.49 1544.47 1816.71 1545.03 Q1818.94 1545.58 1821.41 1545.58 Q1825.42 1545.58 1827.76 1543.48 Q1830.09 1541.37 1830.09 1537.76 Q1830.09 1534.15 1827.76 1532.04 Q1825.42 1529.94 1821.41 1529.94 Q1819.54 1529.94 1817.66 1530.35 Q1815.81 1530.77 1813.87 1531.65 L1813.87 1514.29 Z\" fill=\"#000000\" fill-rule=\"evenodd\" fill-opacity=\"1\" /><path clip-path=\"url(#clip160)\" d=\"M2331.53 1544.91 L2347.85 1544.91 L2347.85 1548.85 L2325.9 1548.85 L2325.9 1544.91 Q2328.57 1542.16 2333.15 1537.53 Q2337.76 1532.88 2338.94 1531.53 Q2341.18 1529.01 2342.06 1527.27 Q2342.96 1525.51 2342.96 1523.82 Q2342.96 1521.07 2341.02 1519.33 Q2339.1 1517.6 2336 1517.6 Q2333.8 1517.6 2331.34 1518.36 Q2328.91 1519.13 2326.14 1520.68 L2326.14 1515.95 Q2328.96 1514.82 2331.41 1514.24 Q2333.87 1513.66 2335.9 1513.66 Q2341.27 1513.66 2344.47 1516.35 Q2347.66 1519.03 2347.66 1523.52 Q2347.66 1525.65 2346.85 1527.57 Q2346.07 1529.47 2343.96 1532.07 Q2343.38 1532.74 2340.28 1535.95 Q2337.18 1539.15 2331.53 1544.91 Z\" fill=\"#000000\" fill-rule=\"evenodd\" fill-opacity=\"1\" /><path clip-path=\"url(#clip160)\" d=\"M2367.66 1517.37 Q2364.05 1517.37 2362.22 1520.93 Q2360.42 1524.47 2360.42 1531.6 Q2360.42 1538.71 2362.22 1542.27 Q2364.05 1545.82 2367.66 1545.82 Q2371.3 1545.82 2373.1 1542.27 Q2374.93 1538.71 2374.93 1531.6 Q2374.93 1524.47 2373.1 1520.93 Q2371.3 1517.37 2367.66 1517.37 M2367.66 1513.66 Q2373.47 1513.66 2376.53 1518.27 Q2379.61 1522.85 2379.61 1531.6 Q2379.61 1540.33 2376.53 1544.94 Q2373.47 1549.52 2367.66 1549.52 Q2361.85 1549.52 2358.77 1544.94 Q2355.72 1540.33 2355.72 1531.6 Q2355.72 1522.85 2358.77 1518.27 Q2361.85 1513.66 2367.66 1513.66 Z\" fill=\"#000000\" fill-rule=\"evenodd\" fill-opacity=\"1\" /><polyline clip-path=\"url(#clip162)\" style=\"stroke:#000000; stroke-linecap:butt; stroke-linejoin:round; stroke-width:2; stroke-opacity:0.1; fill:none\" points=\"\n",
       "  178.867,1459.57 2352.76,1459.57 \n",
       "  \"/>\n",
       "<polyline clip-path=\"url(#clip162)\" style=\"stroke:#000000; stroke-linecap:butt; stroke-linejoin:round; stroke-width:2; stroke-opacity:0.1; fill:none\" points=\"\n",
       "  178.867,1116.67 2352.76,1116.67 \n",
       "  \"/>\n",
       "<polyline clip-path=\"url(#clip162)\" style=\"stroke:#000000; stroke-linecap:butt; stroke-linejoin:round; stroke-width:2; stroke-opacity:0.1; fill:none\" points=\"\n",
       "  178.867,773.774 2352.76,773.774 \n",
       "  \"/>\n",
       "<polyline clip-path=\"url(#clip162)\" style=\"stroke:#000000; stroke-linecap:butt; stroke-linejoin:round; stroke-width:2; stroke-opacity:0.1; fill:none\" points=\"\n",
       "  178.867,430.875 2352.76,430.875 \n",
       "  \"/>\n",
       "<polyline clip-path=\"url(#clip162)\" style=\"stroke:#000000; stroke-linecap:butt; stroke-linejoin:round; stroke-width:2; stroke-opacity:0.1; fill:none\" points=\"\n",
       "  178.867,87.9763 2352.76,87.9763 \n",
       "  \"/>\n",
       "<polyline clip-path=\"url(#clip160)\" style=\"stroke:#000000; stroke-linecap:butt; stroke-linejoin:round; stroke-width:4; stroke-opacity:1; fill:none\" points=\"\n",
       "  178.867,1486.45 178.867,47.2441 \n",
       "  \"/>\n",
       "<polyline clip-path=\"url(#clip160)\" style=\"stroke:#000000; stroke-linecap:butt; stroke-linejoin:round; stroke-width:4; stroke-opacity:1; fill:none\" points=\"\n",
       "  178.867,1459.57 197.764,1459.57 \n",
       "  \"/>\n",
       "<polyline clip-path=\"url(#clip160)\" style=\"stroke:#000000; stroke-linecap:butt; stroke-linejoin:round; stroke-width:4; stroke-opacity:1; fill:none\" points=\"\n",
       "  178.867,1116.67 197.764,1116.67 \n",
       "  \"/>\n",
       "<polyline clip-path=\"url(#clip160)\" style=\"stroke:#000000; stroke-linecap:butt; stroke-linejoin:round; stroke-width:4; stroke-opacity:1; fill:none\" points=\"\n",
       "  178.867,773.774 197.764,773.774 \n",
       "  \"/>\n",
       "<polyline clip-path=\"url(#clip160)\" style=\"stroke:#000000; stroke-linecap:butt; stroke-linejoin:round; stroke-width:4; stroke-opacity:1; fill:none\" points=\"\n",
       "  178.867,430.875 197.764,430.875 \n",
       "  \"/>\n",
       "<polyline clip-path=\"url(#clip160)\" style=\"stroke:#000000; stroke-linecap:butt; stroke-linejoin:round; stroke-width:4; stroke-opacity:1; fill:none\" points=\"\n",
       "  178.867,87.9763 197.764,87.9763 \n",
       "  \"/>\n",
       "<path clip-path=\"url(#clip160)\" d=\"M50.9921 1460.02 L80.6679 1460.02 L80.6679 1463.96 L50.9921 1463.96 L50.9921 1460.02 Z\" fill=\"#000000\" fill-rule=\"evenodd\" fill-opacity=\"1\" /><path clip-path=\"url(#clip160)\" d=\"M94.7882 1472.92 L111.108 1472.92 L111.108 1476.85 L89.1632 1476.85 L89.1632 1472.92 Q91.8252 1470.16 96.4085 1465.53 Q101.015 1460.88 102.196 1459.54 Q104.441 1457.01 105.321 1455.28 Q106.223 1453.52 106.223 1451.83 Q106.223 1449.07 104.279 1447.34 Q102.358 1445.6 99.2558 1445.6 Q97.0567 1445.6 94.603 1446.37 Q92.1725 1447.13 89.3947 1448.68 L89.3947 1443.96 Q92.2188 1442.82 94.6724 1442.25 Q97.1261 1441.67 99.1632 1441.67 Q104.534 1441.67 107.728 1444.35 Q110.922 1447.04 110.922 1451.53 Q110.922 1453.66 110.112 1455.58 Q109.325 1457.48 107.219 1460.07 Q106.64 1460.74 103.538 1463.96 Q100.436 1467.15 94.7882 1472.92 Z\" fill=\"#000000\" fill-rule=\"evenodd\" fill-opacity=\"1\" /><path clip-path=\"url(#clip160)\" d=\"M130.922 1445.37 Q127.311 1445.37 125.482 1448.94 Q123.677 1452.48 123.677 1459.61 Q123.677 1466.71 125.482 1470.28 Q127.311 1473.82 130.922 1473.82 Q134.556 1473.82 136.362 1470.28 Q138.191 1466.71 138.191 1459.61 Q138.191 1452.48 136.362 1448.94 Q134.556 1445.37 130.922 1445.37 M130.922 1441.67 Q136.732 1441.67 139.788 1446.27 Q142.867 1450.86 142.867 1459.61 Q142.867 1468.33 139.788 1472.94 Q136.732 1477.52 130.922 1477.52 Q125.112 1477.52 122.033 1472.94 Q118.978 1468.33 118.978 1459.61 Q118.978 1450.86 122.033 1446.27 Q125.112 1441.67 130.922 1441.67 Z\" fill=\"#000000\" fill-rule=\"evenodd\" fill-opacity=\"1\" /><path clip-path=\"url(#clip160)\" d=\"M51.9875 1117.12 L81.6633 1117.12 L81.6633 1121.06 L51.9875 1121.06 L51.9875 1117.12 Z\" fill=\"#000000\" fill-rule=\"evenodd\" fill-opacity=\"1\" /><path clip-path=\"url(#clip160)\" d=\"M92.566 1130.02 L100.205 1130.02 L100.205 1103.65 L91.8947 1105.32 L91.8947 1101.06 L100.159 1099.39 L104.834 1099.39 L104.834 1130.02 L112.473 1130.02 L112.473 1133.95 L92.566 1133.95 L92.566 1130.02 Z\" fill=\"#000000\" fill-rule=\"evenodd\" fill-opacity=\"1\" /><path clip-path=\"url(#clip160)\" d=\"M121.964 1099.39 L140.32 1099.39 L140.32 1103.33 L126.246 1103.33 L126.246 1111.8 Q127.265 1111.45 128.283 1111.29 Q129.302 1111.11 130.32 1111.11 Q136.107 1111.11 139.487 1114.28 Q142.867 1117.45 142.867 1122.86 Q142.867 1128.44 139.394 1131.55 Q135.922 1134.62 129.603 1134.62 Q127.427 1134.62 125.158 1134.25 Q122.913 1133.88 120.506 1133.14 L120.506 1128.44 Q122.589 1129.58 124.811 1130.13 Q127.033 1130.69 129.51 1130.69 Q133.515 1130.69 135.853 1128.58 Q138.191 1126.48 138.191 1122.86 Q138.191 1119.25 135.853 1117.15 Q133.515 1115.04 129.51 1115.04 Q127.635 1115.04 125.76 1115.46 Q123.908 1115.87 121.964 1116.75 L121.964 1099.39 Z\" fill=\"#000000\" fill-rule=\"evenodd\" fill-opacity=\"1\" /><path clip-path=\"url(#clip160)\" d=\"M50.9921 774.225 L80.6679 774.225 L80.6679 778.16 L50.9921 778.16 L50.9921 774.225 Z\" fill=\"#000000\" fill-rule=\"evenodd\" fill-opacity=\"1\" /><path clip-path=\"url(#clip160)\" d=\"M91.5706 787.119 L99.2095 787.119 L99.2095 760.753 L90.8993 762.42 L90.8993 758.161 L99.1632 756.494 L103.839 756.494 L103.839 787.119 L111.478 787.119 L111.478 791.054 L91.5706 791.054 L91.5706 787.119 Z\" fill=\"#000000\" fill-rule=\"evenodd\" fill-opacity=\"1\" /><path clip-path=\"url(#clip160)\" d=\"M130.922 759.573 Q127.311 759.573 125.482 763.137 Q123.677 766.679 123.677 773.809 Q123.677 780.915 125.482 784.48 Q127.311 788.022 130.922 788.022 Q134.556 788.022 136.362 784.48 Q138.191 780.915 138.191 773.809 Q138.191 766.679 136.362 763.137 Q134.556 759.573 130.922 759.573 M130.922 755.869 Q136.732 755.869 139.788 760.475 Q142.867 765.059 142.867 773.809 Q142.867 782.535 139.788 787.142 Q136.732 791.725 130.922 791.725 Q125.112 791.725 122.033 787.142 Q118.978 782.535 118.978 773.809 Q118.978 765.059 122.033 760.475 Q125.112 755.869 130.922 755.869 Z\" fill=\"#000000\" fill-rule=\"evenodd\" fill-opacity=\"1\" /><path clip-path=\"url(#clip160)\" d=\"M82.1494 431.326 L111.825 431.326 L111.825 435.262 L82.1494 435.262 L82.1494 431.326 Z\" fill=\"#000000\" fill-rule=\"evenodd\" fill-opacity=\"1\" /><path clip-path=\"url(#clip160)\" d=\"M121.964 413.595 L140.32 413.595 L140.32 417.53 L126.246 417.53 L126.246 426.002 Q127.265 425.655 128.283 425.493 Q129.302 425.308 130.32 425.308 Q136.107 425.308 139.487 428.479 Q142.867 431.651 142.867 437.067 Q142.867 442.646 139.394 445.748 Q135.922 448.826 129.603 448.826 Q127.427 448.826 125.158 448.456 Q122.913 448.086 120.506 447.345 L120.506 442.646 Q122.589 443.78 124.811 444.336 Q127.033 444.891 129.51 444.891 Q133.515 444.891 135.853 442.785 Q138.191 440.678 138.191 437.067 Q138.191 433.456 135.853 431.35 Q133.515 429.243 129.51 429.243 Q127.635 429.243 125.76 429.66 Q123.908 430.077 121.964 430.956 L121.964 413.595 Z\" fill=\"#000000\" fill-rule=\"evenodd\" fill-opacity=\"1\" /><path clip-path=\"url(#clip160)\" d=\"M130.922 73.775 Q127.311 73.775 125.482 77.3398 Q123.677 80.8814 123.677 88.011 Q123.677 95.1174 125.482 98.6822 Q127.311 102.224 130.922 102.224 Q134.556 102.224 136.362 98.6822 Q138.191 95.1174 138.191 88.011 Q138.191 80.8814 136.362 77.3398 Q134.556 73.775 130.922 73.775 M130.922 70.0713 Q136.732 70.0713 139.788 74.6777 Q142.867 79.261 142.867 88.011 Q142.867 96.7378 139.788 101.344 Q136.732 105.928 130.922 105.928 Q125.112 105.928 122.033 101.344 Q118.978 96.7378 118.978 88.011 Q118.978 79.261 122.033 74.6777 Q125.112 70.0713 130.922 70.0713 Z\" fill=\"#000000\" fill-rule=\"evenodd\" fill-opacity=\"1\" /><polyline clip-path=\"url(#clip162)\" style=\"stroke:#009af9; stroke-linecap:butt; stroke-linejoin:round; stroke-width:4; stroke-opacity:1; fill:none\" points=\"\n",
       "  178.867,87.9763 189.482,91.325 200.096,94.6737 298.247,125.637 396.397,156.601 455.381,175.208 514.365,193.816 539.3,201.682 564.235,209.549 576.703,213.482 \n",
       "  589.17,217.415 595.404,219.382 601.638,221.348 604.755,222.331 607.872,223.315 609.43,223.806 610.989,224.298 611.768,224.544 612.547,224.79 613.326,225.035 \n",
       "  614.106,218.963 614.952,214.903 615.799,212.145 616.645,209.941 617.491,208.063 619.184,204.918 620.877,202.295 624.263,197.987 627.649,194.462 634.421,188.784 \n",
       "  641.192,184.233 647.964,180.4 654.735,177.074 661.507,174.129 668.279,171.483 681.822,166.878 695.365,162.958 708.909,159.547 722.452,156.532 747.423,151.761 \n",
       "  772.395,147.756 797.366,144.32 822.338,141.324 875.882,135.998 929.426,131.749 991.462,127.756 1053.5,124.482 1163.76,119.89 1260.45,116.758 1365.86,114 \n",
       "  1471.91,111.727 1589.15,109.647 1700.71,107.986 1816.7,106.514 1914.34,105.436 2033.54,104.28 2145.6,103.327 2325.13,102.014 2352.76,101.832 \n",
       "  \"/>\n",
       "<polyline clip-path=\"url(#clip162)\" style=\"stroke:#e26f46; stroke-linecap:butt; stroke-linejoin:round; stroke-width:4; stroke-opacity:1; fill:none\" points=\"\n",
       "  178.867,87.9763 189.482,91.325 200.096,94.6737 298.247,125.637 396.397,156.601 455.381,175.208 514.365,193.816 539.3,201.682 564.235,209.549 589.17,217.415 \n",
       "  614.106,231.6 627.649,264.646 641.192,283.42 654.735,299.124 668.279,313.259 695.365,338.875 722.452,362.39 772.395,402.678 822.338,440.621 929.426,517.762 \n",
       "  1053.5,603.311 1163.76,677.471 1260.45,741.607 1365.86,810.877 1471.91,880.057 1589.15,956.112 1700.71,1028.16 1816.7,1102.81 1914.34,1165.5 2033.54,1241.86 \n",
       "  2145.6,1313.52 2325.13,1428.1 2352.76,1445.72 \n",
       "  \"/>\n",
       "<polyline clip-path=\"url(#clip162)\" style=\"stroke:#3da44d; stroke-linecap:butt; stroke-linejoin:round; stroke-width:4; stroke-opacity:1; fill:none\" points=\"\n",
       "  178.867,87.9763 200.096,94.6737 396.397,156.601 514.365,193.816 614.106,225.281 722.452,259.461 822.338,290.972 875.882,307.864 929.426,324.755 960.444,334.541 \n",
       "  991.462,344.326 1006.97,349.219 1022.48,354.111 1030.23,356.558 1037.99,359.004 1039.93,359.615 1041.87,360.227 1043.8,360.839 1045.74,361.45 1046.71,361.756 \n",
       "  1047.68,362.062 1048.65,356.074 1049.62,348.268 1051.56,339.964 1053.5,334.215 1056.94,326.486 1060.39,320.404 1063.83,315.281 1067.28,310.805 1074.17,303.168 \n",
       "  1081.06,296.728 1094.85,286.115 1108.63,277.456 1136.19,263.66 1163.76,252.783 1187.93,244.804 1212.1,237.875 1236.27,231.754 1260.45,226.277 1313.16,216.04 \n",
       "  1365.86,207.544 1418.88,200.278 1471.91,193.991 1589.15,182.611 1700.71,174.066 1816.7,166.811 1914.34,161.658 2033.54,156.268 2145.6,151.913 2325.13,146.036 \n",
       "  2352.76,145.23 \n",
       "  \"/>\n",
       "<polyline clip-path=\"url(#clip162)\" style=\"stroke:#c271d2; stroke-linecap:butt; stroke-linejoin:round; stroke-width:4; stroke-opacity:1; fill:none\" points=\"\n",
       "  178.867,87.9763 200.096,94.6737 396.397,156.601 514.365,193.816 614.106,225.281 722.452,259.461 822.338,290.972 875.882,307.864 929.426,324.755 960.444,334.541 \n",
       "  991.462,344.326 1006.97,349.219 1022.48,354.111 1037.99,359.004 1053.5,393.578 1081.06,448.457 1108.63,485.12 1136.19,516.309 1163.76,544.578 1212.1,589.988 \n",
       "  1260.45,632.089 1365.86,717.333 1471.91,797.793 1589.15,883.147 1700.71,962.077 1816.7,1042.51 1914.34,1109.27 2033.54,1189.88 2145.6,1264.93 2325.13,1384.08 \n",
       "  2352.76,1402.32 \n",
       "  \"/>\n",
       "<polyline clip-path=\"url(#clip162)\" style=\"stroke:#ac8d18; stroke-linecap:butt; stroke-linejoin:round; stroke-width:4; stroke-opacity:1; fill:none\" points=\"\n",
       "  178.867,87.9763 200.096,94.6737 396.397,156.601 514.365,193.816 614.106,225.281 722.452,259.461 822.338,290.972 929.426,324.755 1053.5,363.896 1163.76,398.68 \n",
       "  1260.45,429.183 1365.86,462.439 1471.91,495.892 1589.15,532.879 1700.71,568.071 1816.7,604.663 1914.34,635.466 2033.54,673.072 2145.6,708.423 2325.13,765.058 \n",
       "  2352.76,773.774 \n",
       "  \"/>\n",
       "<polyline clip-path=\"url(#clip162)\" style=\"stroke:#00a9ad; stroke-linecap:butt; stroke-linejoin:round; stroke-width:4; stroke-opacity:1; fill:none\" points=\"\n",
       "  178.867,87.9763 200.096,94.6737 396.397,156.601 514.365,193.816 614.106,225.281 722.452,259.461 822.338,290.972 929.426,324.755 1053.5,363.896 1163.76,398.68 \n",
       "  1260.45,429.183 1365.86,462.439 1471.91,495.892 1589.15,532.879 1700.71,568.071 1816.7,604.663 1914.34,635.466 2033.54,673.072 2145.6,708.423 2325.13,765.058 \n",
       "  2352.76,773.774 \n",
       "  \"/>\n",
       "<path clip-path=\"url(#clip160)\" d=\"\n",
       "M1986.15 458.098 L2280.29 458.098 L2280.29 95.2176 L1986.15 95.2176  Z\n",
       "  \" fill=\"#ffffff\" fill-rule=\"evenodd\" fill-opacity=\"1\"/>\n",
       "<polyline clip-path=\"url(#clip160)\" style=\"stroke:#000000; stroke-linecap:butt; stroke-linejoin:round; stroke-width:4; stroke-opacity:1; fill:none\" points=\"\n",
       "  1986.15,458.098 2280.29,458.098 2280.29,95.2176 1986.15,95.2176 1986.15,458.098 \n",
       "  \"/>\n",
       "<polyline clip-path=\"url(#clip160)\" style=\"stroke:#009af9; stroke-linecap:butt; stroke-linejoin:round; stroke-width:4; stroke-opacity:1; fill:none\" points=\"\n",
       "  2010.15,147.058 2154.15,147.058 \n",
       "  \"/>\n",
       "<path clip-path=\"url(#clip160)\" d=\"M2191.99 166.745 Q2190.19 171.375 2188.47 172.787 Q2186.76 174.199 2183.89 174.199 L2180.49 174.199 L2180.49 170.634 L2182.99 170.634 Q2184.75 170.634 2185.72 169.8 Q2186.69 168.967 2187.87 165.865 L2188.64 163.921 L2178.15 138.412 L2182.66 138.412 L2190.77 158.689 L2198.87 138.412 L2203.38 138.412 L2191.99 166.745 Z\" fill=\"#000000\" fill-rule=\"evenodd\" fill-opacity=\"1\" /><path clip-path=\"url(#clip160)\" d=\"M2210.67 160.402 L2218.31 160.402 L2218.31 134.037 L2210 135.703 L2210 131.444 L2218.27 129.778 L2222.94 129.778 L2222.94 160.402 L2230.58 160.402 L2230.58 164.338 L2210.67 164.338 L2210.67 160.402 Z\" fill=\"#000000\" fill-rule=\"evenodd\" fill-opacity=\"1\" /><polyline clip-path=\"url(#clip160)\" style=\"stroke:#e26f46; stroke-linecap:butt; stroke-linejoin:round; stroke-width:4; stroke-opacity:1; fill:none\" points=\"\n",
       "  2010.15,198.898 2154.15,198.898 \n",
       "  \"/>\n",
       "<path clip-path=\"url(#clip160)\" d=\"M2191.99 218.585 Q2190.19 223.215 2188.47 224.627 Q2186.76 226.039 2183.89 226.039 L2180.49 226.039 L2180.49 222.474 L2182.99 222.474 Q2184.75 222.474 2185.72 221.64 Q2186.69 220.807 2187.87 217.705 L2188.64 215.761 L2178.15 190.252 L2182.66 190.252 L2190.77 210.529 L2198.87 190.252 L2203.38 190.252 L2191.99 218.585 Z\" fill=\"#000000\" fill-rule=\"evenodd\" fill-opacity=\"1\" /><path clip-path=\"url(#clip160)\" d=\"M2213.89 212.242 L2230.21 212.242 L2230.21 216.178 L2208.27 216.178 L2208.27 212.242 Q2210.93 209.488 2215.51 204.858 Q2220.12 200.205 2221.3 198.863 Q2223.54 196.34 2224.42 194.604 Q2225.33 192.844 2225.33 191.155 Q2225.33 188.4 2223.38 186.664 Q2221.46 184.928 2218.36 184.928 Q2216.16 184.928 2213.71 185.692 Q2211.27 186.455 2208.5 188.006 L2208.5 183.284 Q2211.32 182.15 2213.77 181.571 Q2216.23 180.993 2218.27 180.993 Q2223.64 180.993 2226.83 183.678 Q2230.02 186.363 2230.02 190.854 Q2230.02 192.983 2229.21 194.905 Q2228.43 196.803 2226.32 199.395 Q2225.74 200.067 2222.64 203.284 Q2219.54 206.479 2213.89 212.242 Z\" fill=\"#000000\" fill-rule=\"evenodd\" fill-opacity=\"1\" /><polyline clip-path=\"url(#clip160)\" style=\"stroke:#3da44d; stroke-linecap:butt; stroke-linejoin:round; stroke-width:4; stroke-opacity:1; fill:none\" points=\"\n",
       "  2010.15,250.738 2154.15,250.738 \n",
       "  \"/>\n",
       "<path clip-path=\"url(#clip160)\" d=\"M2191.99 270.425 Q2190.19 275.055 2188.47 276.467 Q2186.76 277.879 2183.89 277.879 L2180.49 277.879 L2180.49 274.314 L2182.99 274.314 Q2184.75 274.314 2185.72 273.48 Q2186.69 272.647 2187.87 269.545 L2188.64 267.601 L2178.15 242.092 L2182.66 242.092 L2190.77 262.369 L2198.87 242.092 L2203.38 242.092 L2191.99 270.425 Z\" fill=\"#000000\" fill-rule=\"evenodd\" fill-opacity=\"1\" /><path clip-path=\"url(#clip160)\" d=\"M2224.03 249.383 Q2227.39 250.101 2229.26 252.369 Q2231.16 254.638 2231.16 257.971 Q2231.16 263.087 2227.64 265.888 Q2224.12 268.689 2217.64 268.689 Q2215.46 268.689 2213.15 268.249 Q2210.86 267.832 2208.4 266.976 L2208.4 262.462 Q2210.35 263.596 2212.66 264.175 Q2214.98 264.754 2217.5 264.754 Q2221.9 264.754 2224.19 263.018 Q2226.51 261.281 2226.51 257.971 Q2226.51 254.916 2224.35 253.203 Q2222.22 251.467 2218.4 251.467 L2214.38 251.467 L2214.38 247.624 L2218.59 247.624 Q2222.04 247.624 2223.87 246.258 Q2225.7 244.87 2225.7 242.277 Q2225.7 239.615 2223.8 238.203 Q2221.92 236.768 2218.4 236.768 Q2216.48 236.768 2214.28 237.184 Q2212.08 237.601 2209.45 238.481 L2209.45 234.314 Q2212.11 233.573 2214.42 233.203 Q2216.76 232.833 2218.82 232.833 Q2224.14 232.833 2227.25 235.263 Q2230.35 237.67 2230.35 241.791 Q2230.35 244.661 2228.7 246.652 Q2227.06 248.62 2224.03 249.383 Z\" fill=\"#000000\" fill-rule=\"evenodd\" fill-opacity=\"1\" /><polyline clip-path=\"url(#clip160)\" style=\"stroke:#c271d2; stroke-linecap:butt; stroke-linejoin:round; stroke-width:4; stroke-opacity:1; fill:none\" points=\"\n",
       "  2010.15,302.578 2154.15,302.578 \n",
       "  \"/>\n",
       "<path clip-path=\"url(#clip160)\" d=\"M2191.99 322.265 Q2190.19 326.895 2188.47 328.307 Q2186.76 329.719 2183.89 329.719 L2180.49 329.719 L2180.49 326.154 L2182.99 326.154 Q2184.75 326.154 2185.72 325.32 Q2186.69 324.487 2187.87 321.385 L2188.64 319.441 L2178.15 293.932 L2182.66 293.932 L2190.77 314.209 L2198.87 293.932 L2203.38 293.932 L2191.99 322.265 Z\" fill=\"#000000\" fill-rule=\"evenodd\" fill-opacity=\"1\" /><path clip-path=\"url(#clip160)\" d=\"M2222.71 289.372 L2210.9 307.821 L2222.71 307.821 L2222.71 289.372 M2221.48 285.298 L2227.36 285.298 L2227.36 307.821 L2232.29 307.821 L2232.29 311.709 L2227.36 311.709 L2227.36 319.858 L2222.71 319.858 L2222.71 311.709 L2207.11 311.709 L2207.11 307.196 L2221.48 285.298 Z\" fill=\"#000000\" fill-rule=\"evenodd\" fill-opacity=\"1\" /><polyline clip-path=\"url(#clip160)\" style=\"stroke:#ac8d18; stroke-linecap:butt; stroke-linejoin:round; stroke-width:4; stroke-opacity:1; fill:none\" points=\"\n",
       "  2010.15,354.418 2154.15,354.418 \n",
       "  \"/>\n",
       "<path clip-path=\"url(#clip160)\" d=\"M2191.99 374.105 Q2190.19 378.735 2188.47 380.147 Q2186.76 381.559 2183.89 381.559 L2180.49 381.559 L2180.49 377.994 L2182.99 377.994 Q2184.75 377.994 2185.72 377.16 Q2186.69 376.327 2187.87 373.225 L2188.64 371.281 L2178.15 345.772 L2182.66 345.772 L2190.77 366.049 L2198.87 345.772 L2203.38 345.772 L2191.99 374.105 Z\" fill=\"#000000\" fill-rule=\"evenodd\" fill-opacity=\"1\" /><path clip-path=\"url(#clip160)\" d=\"M2209.91 337.138 L2228.27 337.138 L2228.27 341.073 L2214.19 341.073 L2214.19 349.545 Q2215.21 349.198 2216.23 349.036 Q2217.25 348.85 2218.27 348.85 Q2224.05 348.85 2227.43 352.022 Q2230.81 355.193 2230.81 360.61 Q2230.81 366.188 2227.34 369.29 Q2223.87 372.369 2217.55 372.369 Q2215.37 372.369 2213.1 371.998 Q2210.86 371.628 2208.45 370.887 L2208.45 366.188 Q2210.53 367.323 2212.76 367.878 Q2214.98 368.434 2217.46 368.434 Q2221.46 368.434 2223.8 366.327 Q2226.14 364.221 2226.14 360.61 Q2226.14 356.999 2223.8 354.892 Q2221.46 352.786 2217.46 352.786 Q2215.58 352.786 2213.71 353.202 Q2211.85 353.619 2209.91 354.499 L2209.91 337.138 Z\" fill=\"#000000\" fill-rule=\"evenodd\" fill-opacity=\"1\" /><polyline clip-path=\"url(#clip160)\" style=\"stroke:#00a9ad; stroke-linecap:butt; stroke-linejoin:round; stroke-width:4; stroke-opacity:1; fill:none\" points=\"\n",
       "  2010.15,406.258 2154.15,406.258 \n",
       "  \"/>\n",
       "<path clip-path=\"url(#clip160)\" d=\"M2191.99 425.945 Q2190.19 430.575 2188.47 431.987 Q2186.76 433.399 2183.89 433.399 L2180.49 433.399 L2180.49 429.834 L2182.99 429.834 Q2184.75 429.834 2185.72 429 Q2186.69 428.167 2187.87 425.065 L2188.64 423.121 L2178.15 397.612 L2182.66 397.612 L2190.77 417.889 L2198.87 397.612 L2203.38 397.612 L2191.99 425.945 Z\" fill=\"#000000\" fill-rule=\"evenodd\" fill-opacity=\"1\" /><path clip-path=\"url(#clip160)\" d=\"M2220.44 404.394 Q2217.29 404.394 2215.44 406.547 Q2213.61 408.7 2213.61 412.45 Q2213.61 416.176 2215.44 418.352 Q2217.29 420.505 2220.44 420.505 Q2223.59 420.505 2225.42 418.352 Q2227.27 416.176 2227.27 412.45 Q2227.27 408.7 2225.42 406.547 Q2223.59 404.394 2220.44 404.394 M2229.72 389.741 L2229.72 394.001 Q2227.96 393.167 2226.16 392.728 Q2224.38 392.288 2222.62 392.288 Q2217.99 392.288 2215.53 395.413 Q2213.1 398.538 2212.76 404.857 Q2214.12 402.843 2216.18 401.778 Q2218.24 400.69 2220.72 400.69 Q2225.93 400.69 2228.94 403.862 Q2231.97 407.01 2231.97 412.45 Q2231.97 417.774 2228.82 420.991 Q2225.67 424.209 2220.44 424.209 Q2214.45 424.209 2211.27 419.626 Q2208.1 415.019 2208.1 406.292 Q2208.1 398.098 2211.99 393.237 Q2215.88 388.353 2222.43 388.353 Q2224.19 388.353 2225.97 388.7 Q2227.78 389.047 2229.72 389.741 Z\" fill=\"#000000\" fill-rule=\"evenodd\" fill-opacity=\"1\" /></svg>\n"
      ]
     },
     "execution_count": 88,
     "metadata": {},
     "output_type": "execute_result"
    }
   ],
   "source": [
    "a = [1;2;1]\n",
    "k = 1\n",
    "ζ = 1\n",
    "κ = 1\n",
    "#plot(κ -> real(Sp(k,κ,a,ζ)), xlim=(0,20))\n",
    "#plot!(κ -> real(Sm(k,κ,a,ζ)), xlim=(0,20))\n",
    "plot(ζ -> imag(Sp(1,κ,a,ζ)), xlim=(0,20))\n",
    "plot!(ζ -> imag(Sm(1,κ,a,ζ)))\n",
    "plot!(ζ -> imag(Sp(2,κ,a,ζ)), xlim=(0,20))\n",
    "plot!(ζ -> imag(Sm(2,κ,a,ζ)))\n",
    "plot!(ζ -> imag(Sp(5,κ,a,ζ)), xlim=(0,20))\n",
    "plot!(ζ -> imag(Sm(5,κ,a,ζ)))"
   ]
  },
  {
   "cell_type": "code",
   "execution_count": null,
   "id": "63479d47-77cc-4e6a-b340-b65c708531ee",
   "metadata": {},
   "outputs": [],
   "source": []
  }
 ],
 "metadata": {
  "kernelspec": {
   "display_name": "Julia 1.7.2",
   "language": "julia",
   "name": "julia-1.7"
  },
  "language_info": {
   "file_extension": ".jl",
   "mimetype": "application/julia",
   "name": "julia",
   "version": "1.7.2"
  }
 },
 "nbformat": 4,
 "nbformat_minor": 5
}
