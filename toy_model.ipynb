{
 "cells": [
  {
   "cell_type": "markdown",
   "id": "56682cd6-19e7-44b8-b9a9-32917b5f0d41",
   "metadata": {},
   "source": [
    "### Cálculos con el Toy Model"
   ]
  },
  {
   "cell_type": "code",
   "execution_count": 1,
   "id": "3255204c-f6f8-40bb-9b1e-608d26a795eb",
   "metadata": {},
   "outputs": [],
   "source": [
    "using Plots, Symbolics\n",
    "using LinearAlgebra"
   ]
  },
  {
   "cell_type": "code",
   "execution_count": 38,
   "id": "80737726-7ec4-40a5-af1a-a0d68c7cb121",
   "metadata": {},
   "outputs": [
    {
     "data": {
      "text/plain": [
       "F (generic function with 1 method)"
      ]
     },
     "execution_count": 38,
     "metadata": {},
     "output_type": "execute_result"
    }
   ],
   "source": [
    "function F(u,p) \n",
    "    (χ,ζ,a,k,σ) = p\n",
    "    return[χ[1]*(σ + k*a[1])*u[1] + χ[2]*k*a[2]*u[2] ; χ[3]*(σ + k*a[3])*u[2] + χ[2]*k*a[2]*u[1] - ζ*u[2]]\n",
    "end"
   ]
  },
  {
   "cell_type": "code",
   "execution_count": 39,
   "id": "09ac4ba4-97e6-4e4e-b3df-e83f5187a306",
   "metadata": {},
   "outputs": [
    {
     "data": {
      "text/plain": [
       "2-element Vector{Int64}:\n",
       " 0\n",
       " 5"
      ]
     },
     "execution_count": 39,
     "metadata": {},
     "output_type": "execute_result"
    }
   ],
   "source": [
    "\n",
    "χ_n = [-1;1;1]\n",
    "ζ_n = 1\n",
    "a_n = [1;1;2]\n",
    "k_n = 1\n",
    "σ_n = 1\n",
    "p_n = (χ_n, ζ_n, a_n, k_n, σ_n)\n",
    "F([1;2],p_n)"
   ]
  },
  {
   "cell_type": "code",
   "execution_count": 40,
   "id": "e85fdf98-e56c-4d95-a508-e0f8616b47f1",
   "metadata": {},
   "outputs": [
    {
     "data": {
      "text/latex": [
       "\\begin{equation}\n",
       "\\left[\n",
       "\\begin{array}{c}\n",
       "\\left( \\sigma + k as{_1} \\right) us{_1} {\\chi}s{_1} + k as{_2} us{_2} {\\chi}s{_2} \\\\\n",
       " - \\zeta us{_2} + \\left( \\sigma + k as{_3} \\right) us{_2} {\\chi}s{_3} + k as{_2} us{_1} {\\chi}s{_2} \\\\\n",
       "\\end{array}\n",
       "\\right]\n",
       "\\end{equation}\n"
      ],
      "text/plain": [
       "2-element Vector{Num}:\n",
       "           (σ + k*as[1])*us[1]*χs[1] + k*as[2]*us[2]*χs[2]\n",
       " (σ + k*as[3])*us[2]*χs[3] + k*as[2]*us[1]*χs[2] - ζ*us[2]"
      ]
     },
     "execution_count": 40,
     "metadata": {},
     "output_type": "execute_result"
    }
   ],
   "source": [
    "@variables us[1:2], χs[1:3], ζ, as[1:3], σ, k\n",
    "ust = [us[i] for i ∈ 1:2]\n",
    "χst = [χs[i] for i ∈ 1:3]\n",
    "ast = [as[i] for i ∈ 1:3]\n",
    "pst = (χst,ζ,ast,k,σ)\n",
    "p = (χs,ζ,as,k,σ)\n",
    "F(us,p)"
   ]
  },
  {
   "cell_type": "code",
   "execution_count": 41,
   "id": "15a1e23c-3a9d-40fe-aa87-5fd7cf6b9500",
   "metadata": {},
   "outputs": [
    {
     "data": {
      "text/latex": [
       "\\begin{equation}\n",
       "\\left[\n",
       "\\begin{array}{cc}\n",
       "\\left( \\sigma + k as{_1} \\right) {\\chi}s{_1} & k as{_2} {\\chi}s{_2} \\\\\n",
       "k as{_2} {\\chi}s{_2} &  - \\zeta + \\left( \\sigma + k as{_3} \\right) {\\chi}s{_3} \\\\\n",
       "\\end{array}\n",
       "\\right]\n",
       "\\end{equation}\n"
      ],
      "text/plain": [
       "2×2 Matrix{Num}:\n",
       " (σ + k*as[1])*χs[1]            k*as[2]*χs[2]\n",
       "       k*as[2]*χs[2]  (σ + k*as[3])*χs[3] - ζ"
      ]
     },
     "execution_count": 41,
     "metadata": {},
     "output_type": "execute_result"
    }
   ],
   "source": [
    "JF = Symbolics.jacobian(F(us,p),ust)"
   ]
  },
  {
   "cell_type": "code",
   "execution_count": 42,
   "id": "c1fa7cc0-6a03-42b6-9923-67c7adc06d7b",
   "metadata": {},
   "outputs": [],
   "source": [
    "JF_exp = Symbolics.build_function(JF, us, p);\n",
    "JFac = eval(JF_exp[1]);"
   ]
  },
  {
   "cell_type": "code",
   "execution_count": 54,
   "id": "8055567e-cd9c-4cb8-aa77-0000cf9e8af6",
   "metadata": {},
   "outputs": [
    {
     "data": {
      "text/latex": [
       "\\begin{equation}\n",
       "\\sigma^{2} - {\\zeta}z \\sigma + k \\sigma as{_1} + k \\sigma as{_3} + k^{2} as{_1} as{_3} - as{_2}^{2} k^{2} \\kappa - k {\\zeta}z as{_1}\n",
       "\\end{equation}\n"
      ],
      "text/plain": [
       "σ^2 + k*σ*as[1] + k*σ*as[3] + (k^2)*as[1]*as[3] - ζz*σ - κ*(k^2)*(as[2]^2) - k*ζz*as[1]"
      ]
     },
     "execution_count": 54,
     "metadata": {},
     "output_type": "execute_result"
    }
   ],
   "source": [
    "@variables ζz, κ\n",
    "K = simplify(expand(det(JF)))\n",
    "KK = simplify(substitute(K, [ζ => ζz*χs[3], χs[2]*χs[2]=>κ*χs[1]*χs[3]])/χs[1]/χs[3])"
   ]
  },
  {
   "cell_type": "code",
   "execution_count": 55,
   "id": "e1e6b710-ab8c-41fb-8edc-da62cebb272c",
   "metadata": {},
   "outputs": [
    {
     "data": {
      "text/plain": [
       "(::Differential) (generic function with 2 methods)"
      ]
     },
     "execution_count": 55,
     "metadata": {},
     "output_type": "execute_result"
    }
   ],
   "source": [
    "Dσ = Differential(σ)"
   ]
  },
  {
   "cell_type": "code",
   "execution_count": 64,
   "id": "f088c732-2e30-44c3-aea3-52ab927baf60",
   "metadata": {},
   "outputs": [
    {
     "data": {
      "text/latex": [
       "\\begin{equation}\n",
       "k^{2} as{_1} as{_3} - as{_2}^{2} k^{2} \\kappa - k {\\zeta}z as{_1}\n",
       "\\end{equation}\n"
      ],
      "text/plain": [
       "(k^2)*as[1]*as[3] - κ*(k^2)*(as[2]^2) - k*ζz*as[1]"
      ]
     },
     "execution_count": 64,
     "metadata": {},
     "output_type": "execute_result"
    }
   ],
   "source": [
    "b = substitute(expand_derivatives(Dσ(KK)),[σ=>0])\n",
    "c = substitute(KK,[σ=>0])"
   ]
  },
  {
   "cell_type": "code",
   "execution_count": 66,
   "id": "46963f15-b5c7-40ed-b429-b74f0a58c073",
   "metadata": {},
   "outputs": [
    {
     "data": {
      "text/latex": [
       "\\begin{equation}\n",
       "0.5 {\\zeta}z + \\frac{1}{2} \\sqrt{\\left(  - {\\zeta}z + k as{_1} + k as{_3} \\right)^{2} + 4.0 as{_2}^{2} k^{2} \\kappa + 4.0 k {\\zeta}z as{_1} - 4 k^{2} as{_1} as{_3}} - \\frac{1}{2} k as{_1} - \\frac{1}{2} k as{_3}\n",
       "\\end{equation}\n"
      ],
      "text/plain": [
       "0.5ζz + (1//2)*sqrt((k*as[1] + k*as[3] - ζz)^2 + 4.0κ*(k^2)*(as[2]^2) + 4.0k*ζz*as[1] - 4(k^2)*as[1]*as[3]) - (1//2)*k*as[1] - (1//2)*k*as[3]"
      ]
     },
     "execution_count": 66,
     "metadata": {},
     "output_type": "execute_result"
    }
   ],
   "source": [
    "σs = (-b + sqrt(b^2 - 4c))/2"
   ]
  },
  {
   "cell_type": "markdown",
   "id": "88d1f910-2dc1-437a-afb5-ae19a803f116",
   "metadata": {},
   "source": [
    "**A partir de aquí la hice a mano, usando la estructura particular que tiene**\n",
    "\n",
    "Supongo que se puede hacer más analíticamente pues es de la forma:\n",
    "\n",
    "$$\n",
    "\\sigma_{\\pm} = [-(a+d)k + i\\zeta \\pm \\sqrt{((a-d)k - i\\zeta)^2 + 4k^2\\kappa b^2}]/2\n",
    "$$"
   ]
  },
  {
   "cell_type": "code",
   "execution_count": 115,
   "id": "26c51350-2f89-4d37-9577-f8acc9f65e2e",
   "metadata": {},
   "outputs": [
    {
     "data": {
      "text/plain": [
       "Sp (generic function with 1 method)"
      ]
     },
     "execution_count": 115,
     "metadata": {},
     "output_type": "execute_result"
    }
   ],
   "source": [
    "Sp(k,κ,a,ζ) = (-(a[1]+a[3])*k - im*ζ + sqrt(((a[1]-a[3])*k + im*ζ)^2 + 4κ*k^2*a[2]^2))/2"
   ]
  },
  {
   "cell_type": "code",
   "execution_count": 116,
   "id": "1fb121ae-09a0-419d-87e7-b132cc2cdbb3",
   "metadata": {},
   "outputs": [
    {
     "data": {
      "text/plain": [
       "Sm (generic function with 1 method)"
      ]
     },
     "execution_count": 116,
     "metadata": {},
     "output_type": "execute_result"
    }
   ],
   "source": [
    "Sm(k,κ,a,ζ) = (-(a[1]+a[3])*k - im*ζ - sqrt(((a[1]-a[3])*k + im*ζ)^2 + 4κ*k^2*a[2]^2))/2"
   ]
  },
  {
   "cell_type": "code",
   "execution_count": 117,
   "id": "d3ea5b0b-396f-4f24-bce9-efe9d98d38de",
   "metadata": {},
   "outputs": [
    {
     "data": {
      "image/svg+xml": [
       "<?xml version=\"1.0\" encoding=\"utf-8\"?>\n",
       "<svg xmlns=\"http://www.w3.org/2000/svg\" xmlns:xlink=\"http://www.w3.org/1999/xlink\" width=\"600\" height=\"400\" viewBox=\"0 0 2400 1600\">\n",
       "<defs>\n",
       "  <clipPath id=\"clip120\">\n",
       "    <rect x=\"0\" y=\"0\" width=\"2400\" height=\"1600\"/>\n",
       "  </clipPath>\n",
       "</defs>\n",
       "<path clip-path=\"url(#clip120)\" d=\"\n",
       "M0 1600 L2400 1600 L2400 0 L0 0  Z\n",
       "  \" fill=\"#ffffff\" fill-rule=\"evenodd\" fill-opacity=\"1\"/>\n",
       "<defs>\n",
       "  <clipPath id=\"clip121\">\n",
       "    <rect x=\"480\" y=\"0\" width=\"1681\" height=\"1600\"/>\n",
       "  </clipPath>\n",
       "</defs>\n",
       "<path clip-path=\"url(#clip120)\" d=\"\n",
       "M224.098 1486.45 L2352.76 1486.45 L2352.76 47.2441 L224.098 47.2441  Z\n",
       "  \" fill=\"#ffffff\" fill-rule=\"evenodd\" fill-opacity=\"1\"/>\n",
       "<defs>\n",
       "  <clipPath id=\"clip122\">\n",
       "    <rect x=\"224\" y=\"47\" width=\"2130\" height=\"1440\"/>\n",
       "  </clipPath>\n",
       "</defs>\n",
       "<polyline clip-path=\"url(#clip122)\" style=\"stroke:#000000; stroke-linecap:butt; stroke-linejoin:round; stroke-width:2; stroke-opacity:0.1; fill:none\" points=\"\n",
       "  224.098,1486.45 224.098,47.2441 \n",
       "  \"/>\n",
       "<polyline clip-path=\"url(#clip122)\" style=\"stroke:#000000; stroke-linecap:butt; stroke-linejoin:round; stroke-width:2; stroke-opacity:0.1; fill:none\" points=\"\n",
       "  756.262,1486.45 756.262,47.2441 \n",
       "  \"/>\n",
       "<polyline clip-path=\"url(#clip122)\" style=\"stroke:#000000; stroke-linecap:butt; stroke-linejoin:round; stroke-width:2; stroke-opacity:0.1; fill:none\" points=\"\n",
       "  1288.43,1486.45 1288.43,47.2441 \n",
       "  \"/>\n",
       "<polyline clip-path=\"url(#clip122)\" style=\"stroke:#000000; stroke-linecap:butt; stroke-linejoin:round; stroke-width:2; stroke-opacity:0.1; fill:none\" points=\"\n",
       "  1820.59,1486.45 1820.59,47.2441 \n",
       "  \"/>\n",
       "<polyline clip-path=\"url(#clip122)\" style=\"stroke:#000000; stroke-linecap:butt; stroke-linejoin:round; stroke-width:2; stroke-opacity:0.1; fill:none\" points=\"\n",
       "  2352.76,1486.45 2352.76,47.2441 \n",
       "  \"/>\n",
       "<polyline clip-path=\"url(#clip120)\" style=\"stroke:#000000; stroke-linecap:butt; stroke-linejoin:round; stroke-width:4; stroke-opacity:1; fill:none\" points=\"\n",
       "  224.098,1486.45 2352.76,1486.45 \n",
       "  \"/>\n",
       "<polyline clip-path=\"url(#clip120)\" style=\"stroke:#000000; stroke-linecap:butt; stroke-linejoin:round; stroke-width:4; stroke-opacity:1; fill:none\" points=\"\n",
       "  224.098,1486.45 224.098,1467.55 \n",
       "  \"/>\n",
       "<polyline clip-path=\"url(#clip120)\" style=\"stroke:#000000; stroke-linecap:butt; stroke-linejoin:round; stroke-width:4; stroke-opacity:1; fill:none\" points=\"\n",
       "  756.262,1486.45 756.262,1467.55 \n",
       "  \"/>\n",
       "<polyline clip-path=\"url(#clip120)\" style=\"stroke:#000000; stroke-linecap:butt; stroke-linejoin:round; stroke-width:4; stroke-opacity:1; fill:none\" points=\"\n",
       "  1288.43,1486.45 1288.43,1467.55 \n",
       "  \"/>\n",
       "<polyline clip-path=\"url(#clip120)\" style=\"stroke:#000000; stroke-linecap:butt; stroke-linejoin:round; stroke-width:4; stroke-opacity:1; fill:none\" points=\"\n",
       "  1820.59,1486.45 1820.59,1467.55 \n",
       "  \"/>\n",
       "<polyline clip-path=\"url(#clip120)\" style=\"stroke:#000000; stroke-linecap:butt; stroke-linejoin:round; stroke-width:4; stroke-opacity:1; fill:none\" points=\"\n",
       "  2352.76,1486.45 2352.76,1467.55 \n",
       "  \"/>\n",
       "<path clip-path=\"url(#clip120)\" d=\"M224.098 1517.37 Q220.487 1517.37 218.658 1520.93 Q216.853 1524.47 216.853 1531.6 Q216.853 1538.71 218.658 1542.27 Q220.487 1545.82 224.098 1545.82 Q227.732 1545.82 229.538 1542.27 Q231.366 1538.71 231.366 1531.6 Q231.366 1524.47 229.538 1520.93 Q227.732 1517.37 224.098 1517.37 M224.098 1513.66 Q229.908 1513.66 232.964 1518.27 Q236.042 1522.85 236.042 1531.6 Q236.042 1540.33 232.964 1544.94 Q229.908 1549.52 224.098 1549.52 Q218.288 1549.52 215.209 1544.94 Q212.153 1540.33 212.153 1531.6 Q212.153 1522.85 215.209 1518.27 Q218.288 1513.66 224.098 1513.66 Z\" fill=\"#000000\" fill-rule=\"evenodd\" fill-opacity=\"1\" /><path clip-path=\"url(#clip120)\" d=\"M746.54 1514.29 L764.897 1514.29 L764.897 1518.22 L750.823 1518.22 L750.823 1526.7 Q751.841 1526.35 752.86 1526.19 Q753.878 1526 754.897 1526 Q760.684 1526 764.063 1529.17 Q767.443 1532.34 767.443 1537.76 Q767.443 1543.34 763.971 1546.44 Q760.498 1549.52 754.179 1549.52 Q752.003 1549.52 749.735 1549.15 Q747.489 1548.78 745.082 1548.04 L745.082 1543.34 Q747.165 1544.47 749.387 1545.03 Q751.61 1545.58 754.086 1545.58 Q758.091 1545.58 760.429 1543.48 Q762.767 1541.37 762.767 1537.76 Q762.767 1534.15 760.429 1532.04 Q758.091 1529.94 754.086 1529.94 Q752.211 1529.94 750.336 1530.35 Q748.485 1530.77 746.54 1531.65 L746.54 1514.29 Z\" fill=\"#000000\" fill-rule=\"evenodd\" fill-opacity=\"1\" /><path clip-path=\"url(#clip120)\" d=\"M1263.11 1544.91 L1270.75 1544.91 L1270.75 1518.55 L1262.44 1520.21 L1262.44 1515.95 L1270.71 1514.29 L1275.38 1514.29 L1275.38 1544.91 L1283.02 1544.91 L1283.02 1548.85 L1263.11 1548.85 L1263.11 1544.91 Z\" fill=\"#000000\" fill-rule=\"evenodd\" fill-opacity=\"1\" /><path clip-path=\"url(#clip120)\" d=\"M1302.47 1517.37 Q1298.86 1517.37 1297.03 1520.93 Q1295.22 1524.47 1295.22 1531.6 Q1295.22 1538.71 1297.03 1542.27 Q1298.86 1545.82 1302.47 1545.82 Q1306.1 1545.82 1307.91 1542.27 Q1309.73 1538.71 1309.73 1531.6 Q1309.73 1524.47 1307.91 1520.93 Q1306.1 1517.37 1302.47 1517.37 M1302.47 1513.66 Q1308.28 1513.66 1311.33 1518.27 Q1314.41 1522.85 1314.41 1531.6 Q1314.41 1540.33 1311.33 1544.94 Q1308.28 1549.52 1302.47 1549.52 Q1296.66 1549.52 1293.58 1544.94 Q1290.52 1540.33 1290.52 1531.6 Q1290.52 1522.85 1293.58 1518.27 Q1296.66 1513.66 1302.47 1513.66 Z\" fill=\"#000000\" fill-rule=\"evenodd\" fill-opacity=\"1\" /><path clip-path=\"url(#clip120)\" d=\"M1795.78 1544.91 L1803.42 1544.91 L1803.42 1518.55 L1795.11 1520.21 L1795.11 1515.95 L1803.37 1514.29 L1808.05 1514.29 L1808.05 1544.91 L1815.68 1544.91 L1815.68 1548.85 L1795.78 1548.85 L1795.78 1544.91 Z\" fill=\"#000000\" fill-rule=\"evenodd\" fill-opacity=\"1\" /><path clip-path=\"url(#clip120)\" d=\"M1825.17 1514.29 L1843.53 1514.29 L1843.53 1518.22 L1829.46 1518.22 L1829.46 1526.7 Q1830.48 1526.35 1831.49 1526.19 Q1832.51 1526 1833.53 1526 Q1839.32 1526 1842.7 1529.17 Q1846.08 1532.34 1846.08 1537.76 Q1846.08 1543.34 1842.61 1546.44 Q1839.13 1549.52 1832.81 1549.52 Q1830.64 1549.52 1828.37 1549.15 Q1826.12 1548.78 1823.72 1548.04 L1823.72 1543.34 Q1825.8 1544.47 1828.02 1545.03 Q1830.24 1545.58 1832.72 1545.58 Q1836.73 1545.58 1839.06 1543.48 Q1841.4 1541.37 1841.4 1537.76 Q1841.4 1534.15 1839.06 1532.04 Q1836.73 1529.94 1832.72 1529.94 Q1830.85 1529.94 1828.97 1530.35 Q1827.12 1530.77 1825.17 1531.65 L1825.17 1514.29 Z\" fill=\"#000000\" fill-rule=\"evenodd\" fill-opacity=\"1\" /><path clip-path=\"url(#clip120)\" d=\"M2331.53 1544.91 L2347.85 1544.91 L2347.85 1548.85 L2325.9 1548.85 L2325.9 1544.91 Q2328.57 1542.16 2333.15 1537.53 Q2337.76 1532.88 2338.94 1531.53 Q2341.18 1529.01 2342.06 1527.27 Q2342.96 1525.51 2342.96 1523.82 Q2342.96 1521.07 2341.02 1519.33 Q2339.1 1517.6 2336 1517.6 Q2333.8 1517.6 2331.34 1518.36 Q2328.91 1519.13 2326.14 1520.68 L2326.14 1515.95 Q2328.96 1514.82 2331.41 1514.24 Q2333.87 1513.66 2335.9 1513.66 Q2341.27 1513.66 2344.47 1516.35 Q2347.66 1519.03 2347.66 1523.52 Q2347.66 1525.65 2346.85 1527.57 Q2346.07 1529.47 2343.96 1532.07 Q2343.38 1532.74 2340.28 1535.95 Q2337.18 1539.15 2331.53 1544.91 Z\" fill=\"#000000\" fill-rule=\"evenodd\" fill-opacity=\"1\" /><path clip-path=\"url(#clip120)\" d=\"M2367.66 1517.37 Q2364.05 1517.37 2362.22 1520.93 Q2360.42 1524.47 2360.42 1531.6 Q2360.42 1538.71 2362.22 1542.27 Q2364.05 1545.82 2367.66 1545.82 Q2371.3 1545.82 2373.1 1542.27 Q2374.93 1538.71 2374.93 1531.6 Q2374.93 1524.47 2373.1 1520.93 Q2371.3 1517.37 2367.66 1517.37 M2367.66 1513.66 Q2373.47 1513.66 2376.53 1518.27 Q2379.61 1522.85 2379.61 1531.6 Q2379.61 1540.33 2376.53 1544.94 Q2373.47 1549.52 2367.66 1549.52 Q2361.85 1549.52 2358.77 1544.94 Q2355.72 1540.33 2355.72 1531.6 Q2355.72 1522.85 2358.77 1518.27 Q2361.85 1513.66 2367.66 1513.66 Z\" fill=\"#000000\" fill-rule=\"evenodd\" fill-opacity=\"1\" /><polyline clip-path=\"url(#clip122)\" style=\"stroke:#000000; stroke-linecap:butt; stroke-linejoin:round; stroke-width:2; stroke-opacity:0.1; fill:none\" points=\"\n",
       "  224.098,1445.72 2352.76,1445.72 \n",
       "  \"/>\n",
       "<polyline clip-path=\"url(#clip122)\" style=\"stroke:#000000; stroke-linecap:butt; stroke-linejoin:round; stroke-width:2; stroke-opacity:0.1; fill:none\" points=\"\n",
       "  224.098,1106.28 2352.76,1106.28 \n",
       "  \"/>\n",
       "<polyline clip-path=\"url(#clip122)\" style=\"stroke:#000000; stroke-linecap:butt; stroke-linejoin:round; stroke-width:2; stroke-opacity:0.1; fill:none\" points=\"\n",
       "  224.098,766.846 2352.76,766.846 \n",
       "  \"/>\n",
       "<polyline clip-path=\"url(#clip122)\" style=\"stroke:#000000; stroke-linecap:butt; stroke-linejoin:round; stroke-width:2; stroke-opacity:0.1; fill:none\" points=\"\n",
       "  224.098,427.411 2352.76,427.411 \n",
       "  \"/>\n",
       "<polyline clip-path=\"url(#clip122)\" style=\"stroke:#000000; stroke-linecap:butt; stroke-linejoin:round; stroke-width:2; stroke-opacity:0.1; fill:none\" points=\"\n",
       "  224.098,87.9763 2352.76,87.9763 \n",
       "  \"/>\n",
       "<polyline clip-path=\"url(#clip120)\" style=\"stroke:#000000; stroke-linecap:butt; stroke-linejoin:round; stroke-width:4; stroke-opacity:1; fill:none\" points=\"\n",
       "  224.098,1486.45 224.098,47.2441 \n",
       "  \"/>\n",
       "<polyline clip-path=\"url(#clip120)\" style=\"stroke:#000000; stroke-linecap:butt; stroke-linejoin:round; stroke-width:4; stroke-opacity:1; fill:none\" points=\"\n",
       "  224.098,1445.72 242.996,1445.72 \n",
       "  \"/>\n",
       "<polyline clip-path=\"url(#clip120)\" style=\"stroke:#000000; stroke-linecap:butt; stroke-linejoin:round; stroke-width:4; stroke-opacity:1; fill:none\" points=\"\n",
       "  224.098,1106.28 242.996,1106.28 \n",
       "  \"/>\n",
       "<polyline clip-path=\"url(#clip120)\" style=\"stroke:#000000; stroke-linecap:butt; stroke-linejoin:round; stroke-width:4; stroke-opacity:1; fill:none\" points=\"\n",
       "  224.098,766.846 242.996,766.846 \n",
       "  \"/>\n",
       "<polyline clip-path=\"url(#clip120)\" style=\"stroke:#000000; stroke-linecap:butt; stroke-linejoin:round; stroke-width:4; stroke-opacity:1; fill:none\" points=\"\n",
       "  224.098,427.411 242.996,427.411 \n",
       "  \"/>\n",
       "<polyline clip-path=\"url(#clip120)\" style=\"stroke:#000000; stroke-linecap:butt; stroke-linejoin:round; stroke-width:4; stroke-opacity:1; fill:none\" points=\"\n",
       "  224.098,87.9763 242.996,87.9763 \n",
       "  \"/>\n",
       "<path clip-path=\"url(#clip120)\" d=\"M50.9921 1446.17 L80.6679 1446.17 L80.6679 1450.1 L50.9921 1450.1 L50.9921 1446.17 Z\" fill=\"#000000\" fill-rule=\"evenodd\" fill-opacity=\"1\" /><path clip-path=\"url(#clip120)\" d=\"M91.5706 1459.06 L99.2095 1459.06 L99.2095 1432.69 L90.8993 1434.36 L90.8993 1430.1 L99.1632 1428.44 L103.839 1428.44 L103.839 1459.06 L111.478 1459.06 L111.478 1463 L91.5706 1463 L91.5706 1459.06 Z\" fill=\"#000000\" fill-rule=\"evenodd\" fill-opacity=\"1\" /><path clip-path=\"url(#clip120)\" d=\"M120.922 1457.12 L125.807 1457.12 L125.807 1463 L120.922 1463 L120.922 1457.12 Z\" fill=\"#000000\" fill-rule=\"evenodd\" fill-opacity=\"1\" /><path clip-path=\"url(#clip120)\" d=\"M145.992 1431.51 Q142.381 1431.51 140.552 1435.08 Q138.746 1438.62 138.746 1445.75 Q138.746 1452.86 140.552 1456.42 Q142.381 1459.96 145.992 1459.96 Q149.626 1459.96 151.431 1456.42 Q153.26 1452.86 153.26 1445.75 Q153.26 1438.62 151.431 1435.08 Q149.626 1431.51 145.992 1431.51 M145.992 1427.81 Q151.802 1427.81 154.857 1432.42 Q157.936 1437 157.936 1445.75 Q157.936 1454.48 154.857 1459.08 Q151.802 1463.67 145.992 1463.67 Q140.181 1463.67 137.103 1459.08 Q134.047 1454.48 134.047 1445.75 Q134.047 1437 137.103 1432.42 Q140.181 1427.81 145.992 1427.81 Z\" fill=\"#000000\" fill-rule=\"evenodd\" fill-opacity=\"1\" /><path clip-path=\"url(#clip120)\" d=\"M176.153 1431.51 Q172.542 1431.51 170.714 1435.08 Q168.908 1438.62 168.908 1445.75 Q168.908 1452.86 170.714 1456.42 Q172.542 1459.96 176.153 1459.96 Q179.788 1459.96 181.593 1456.42 Q183.422 1452.86 183.422 1445.75 Q183.422 1438.62 181.593 1435.08 Q179.788 1431.51 176.153 1431.51 M176.153 1427.81 Q181.964 1427.81 185.019 1432.42 Q188.098 1437 188.098 1445.75 Q188.098 1454.48 185.019 1459.08 Q181.964 1463.67 176.153 1463.67 Q170.343 1463.67 167.265 1459.08 Q164.209 1454.48 164.209 1445.75 Q164.209 1437 167.265 1432.42 Q170.343 1427.81 176.153 1427.81 Z\" fill=\"#000000\" fill-rule=\"evenodd\" fill-opacity=\"1\" /><path clip-path=\"url(#clip120)\" d=\"M51.9875 1106.73 L81.6633 1106.73 L81.6633 1110.67 L51.9875 1110.67 L51.9875 1106.73 Z\" fill=\"#000000\" fill-rule=\"evenodd\" fill-opacity=\"1\" /><path clip-path=\"url(#clip120)\" d=\"M101.756 1092.08 Q98.1447 1092.08 96.316 1095.64 Q94.5104 1099.19 94.5104 1106.32 Q94.5104 1113.42 96.316 1116.99 Q98.1447 1120.53 101.756 1120.53 Q105.39 1120.53 107.196 1116.99 Q109.024 1113.42 109.024 1106.32 Q109.024 1099.19 107.196 1095.64 Q105.39 1092.08 101.756 1092.08 M101.756 1088.38 Q107.566 1088.38 110.621 1092.98 Q113.7 1097.57 113.7 1106.32 Q113.7 1115.04 110.621 1119.65 Q107.566 1124.23 101.756 1124.23 Q95.9456 1124.23 92.8669 1119.65 Q89.8114 1115.04 89.8114 1106.32 Q89.8114 1097.57 92.8669 1092.98 Q95.9456 1088.38 101.756 1088.38 Z\" fill=\"#000000\" fill-rule=\"evenodd\" fill-opacity=\"1\" /><path clip-path=\"url(#clip120)\" d=\"M121.918 1117.68 L126.802 1117.68 L126.802 1123.56 L121.918 1123.56 L121.918 1117.68 Z\" fill=\"#000000\" fill-rule=\"evenodd\" fill-opacity=\"1\" /><path clip-path=\"url(#clip120)\" d=\"M135.806 1089 L158.029 1089 L158.029 1090.99 L145.482 1123.56 L140.598 1123.56 L152.404 1092.94 L135.806 1092.94 L135.806 1089 Z\" fill=\"#000000\" fill-rule=\"evenodd\" fill-opacity=\"1\" /><path clip-path=\"url(#clip120)\" d=\"M167.195 1089 L185.552 1089 L185.552 1092.94 L171.478 1092.94 L171.478 1101.41 Q172.496 1101.06 173.515 1100.9 Q174.533 1100.71 175.552 1100.71 Q181.339 1100.71 184.718 1103.89 Q188.098 1107.06 188.098 1112.47 Q188.098 1118.05 184.626 1121.15 Q181.153 1124.23 174.834 1124.23 Q172.658 1124.23 170.39 1123.86 Q168.144 1123.49 165.737 1122.75 L165.737 1118.05 Q167.82 1119.19 170.042 1119.74 Q172.265 1120.3 174.741 1120.3 Q178.746 1120.3 181.084 1118.19 Q183.422 1116.08 183.422 1112.47 Q183.422 1108.86 181.084 1106.76 Q178.746 1104.65 174.741 1104.65 Q172.866 1104.65 170.991 1105.07 Q169.14 1105.48 167.195 1106.36 L167.195 1089 Z\" fill=\"#000000\" fill-rule=\"evenodd\" fill-opacity=\"1\" /><path clip-path=\"url(#clip120)\" d=\"M50.9921 767.297 L80.6679 767.297 L80.6679 771.233 L50.9921 771.233 L50.9921 767.297 Z\" fill=\"#000000\" fill-rule=\"evenodd\" fill-opacity=\"1\" /><path clip-path=\"url(#clip120)\" d=\"M100.76 752.645 Q97.1493 752.645 95.3206 756.209 Q93.515 759.751 93.515 766.881 Q93.515 773.987 95.3206 777.552 Q97.1493 781.094 100.76 781.094 Q104.395 781.094 106.2 777.552 Q108.029 773.987 108.029 766.881 Q108.029 759.751 106.2 756.209 Q104.395 752.645 100.76 752.645 M100.76 748.941 Q106.571 748.941 109.626 753.547 Q112.705 758.131 112.705 766.881 Q112.705 775.608 109.626 780.214 Q106.571 784.797 100.76 784.797 Q94.9502 784.797 91.8715 780.214 Q88.816 775.608 88.816 766.881 Q88.816 758.131 91.8715 753.547 Q94.9502 748.941 100.76 748.941 Z\" fill=\"#000000\" fill-rule=\"evenodd\" fill-opacity=\"1\" /><path clip-path=\"url(#clip120)\" d=\"M120.922 778.246 L125.807 778.246 L125.807 784.126 L120.922 784.126 L120.922 778.246 Z\" fill=\"#000000\" fill-rule=\"evenodd\" fill-opacity=\"1\" /><path clip-path=\"url(#clip120)\" d=\"M136.038 749.566 L154.394 749.566 L154.394 753.501 L140.32 753.501 L140.32 761.973 Q141.339 761.626 142.357 761.464 Q143.376 761.279 144.394 761.279 Q150.181 761.279 153.561 764.45 Q156.941 767.621 156.941 773.038 Q156.941 778.617 153.468 781.719 Q149.996 784.797 143.677 784.797 Q141.501 784.797 139.232 784.427 Q136.987 784.057 134.58 783.316 L134.58 778.617 Q136.663 779.751 138.885 780.307 Q141.107 780.862 143.584 780.862 Q147.589 780.862 149.927 778.756 Q152.265 776.649 152.265 773.038 Q152.265 769.427 149.927 767.321 Q147.589 765.214 143.584 765.214 Q141.709 765.214 139.834 765.631 Q137.982 766.047 136.038 766.927 L136.038 749.566 Z\" fill=\"#000000\" fill-rule=\"evenodd\" fill-opacity=\"1\" /><path clip-path=\"url(#clip120)\" d=\"M176.153 752.645 Q172.542 752.645 170.714 756.209 Q168.908 759.751 168.908 766.881 Q168.908 773.987 170.714 777.552 Q172.542 781.094 176.153 781.094 Q179.788 781.094 181.593 777.552 Q183.422 773.987 183.422 766.881 Q183.422 759.751 181.593 756.209 Q179.788 752.645 176.153 752.645 M176.153 748.941 Q181.964 748.941 185.019 753.547 Q188.098 758.131 188.098 766.881 Q188.098 775.608 185.019 780.214 Q181.964 784.797 176.153 784.797 Q170.343 784.797 167.265 780.214 Q164.209 775.608 164.209 766.881 Q164.209 758.131 167.265 753.547 Q170.343 748.941 176.153 748.941 Z\" fill=\"#000000\" fill-rule=\"evenodd\" fill-opacity=\"1\" /><path clip-path=\"url(#clip120)\" d=\"M51.9875 427.863 L81.6633 427.863 L81.6633 431.798 L51.9875 431.798 L51.9875 427.863 Z\" fill=\"#000000\" fill-rule=\"evenodd\" fill-opacity=\"1\" /><path clip-path=\"url(#clip120)\" d=\"M101.756 413.21 Q98.1447 413.21 96.316 416.775 Q94.5104 420.316 94.5104 427.446 Q94.5104 434.552 96.316 438.117 Q98.1447 441.659 101.756 441.659 Q105.39 441.659 107.196 438.117 Q109.024 434.552 109.024 427.446 Q109.024 420.316 107.196 416.775 Q105.39 413.21 101.756 413.21 M101.756 409.506 Q107.566 409.506 110.621 414.113 Q113.7 418.696 113.7 427.446 Q113.7 436.173 110.621 440.779 Q107.566 445.362 101.756 445.362 Q95.9456 445.362 92.8669 440.779 Q89.8114 436.173 89.8114 427.446 Q89.8114 418.696 92.8669 414.113 Q95.9456 409.506 101.756 409.506 Z\" fill=\"#000000\" fill-rule=\"evenodd\" fill-opacity=\"1\" /><path clip-path=\"url(#clip120)\" d=\"M121.918 438.812 L126.802 438.812 L126.802 444.691 L121.918 444.691 L121.918 438.812 Z\" fill=\"#000000\" fill-rule=\"evenodd\" fill-opacity=\"1\" /><path clip-path=\"url(#clip120)\" d=\"M141.015 440.756 L157.334 440.756 L157.334 444.691 L135.39 444.691 L135.39 440.756 Q138.052 438.001 142.635 433.372 Q147.242 428.719 148.422 427.376 Q150.668 424.853 151.547 423.117 Q152.45 421.358 152.45 419.668 Q152.45 416.914 150.505 415.177 Q148.584 413.441 145.482 413.441 Q143.283 413.441 140.83 414.205 Q138.399 414.969 135.621 416.52 L135.621 411.798 Q138.445 410.664 140.899 410.085 Q143.353 409.506 145.39 409.506 Q150.76 409.506 153.955 412.191 Q157.149 414.876 157.149 419.367 Q157.149 421.497 156.339 423.418 Q155.552 425.316 153.445 427.909 Q152.867 428.58 149.765 431.798 Q146.663 434.992 141.015 440.756 Z\" fill=\"#000000\" fill-rule=\"evenodd\" fill-opacity=\"1\" /><path clip-path=\"url(#clip120)\" d=\"M167.195 410.131 L185.552 410.131 L185.552 414.066 L171.478 414.066 L171.478 422.538 Q172.496 422.191 173.515 422.029 Q174.533 421.844 175.552 421.844 Q181.339 421.844 184.718 425.015 Q188.098 428.187 188.098 433.603 Q188.098 439.182 184.626 442.284 Q181.153 445.362 174.834 445.362 Q172.658 445.362 170.39 444.992 Q168.144 444.622 165.737 443.881 L165.737 439.182 Q167.82 440.316 170.042 440.872 Q172.265 441.427 174.741 441.427 Q178.746 441.427 181.084 439.321 Q183.422 437.214 183.422 433.603 Q183.422 429.992 181.084 427.886 Q178.746 425.779 174.741 425.779 Q172.866 425.779 170.991 426.196 Q169.14 426.613 167.195 427.492 L167.195 410.131 Z\" fill=\"#000000\" fill-rule=\"evenodd\" fill-opacity=\"1\" /><path clip-path=\"url(#clip120)\" d=\"M100.76 73.775 Q97.1493 73.775 95.3206 77.3398 Q93.515 80.8814 93.515 88.011 Q93.515 95.1174 95.3206 98.6822 Q97.1493 102.224 100.76 102.224 Q104.395 102.224 106.2 98.6822 Q108.029 95.1174 108.029 88.011 Q108.029 80.8814 106.2 77.3398 Q104.395 73.775 100.76 73.775 M100.76 70.0713 Q106.571 70.0713 109.626 74.6777 Q112.705 79.261 112.705 88.011 Q112.705 96.7378 109.626 101.344 Q106.571 105.928 100.76 105.928 Q94.9502 105.928 91.8715 101.344 Q88.816 96.7378 88.816 88.011 Q88.816 79.261 91.8715 74.6777 Q94.9502 70.0713 100.76 70.0713 Z\" fill=\"#000000\" fill-rule=\"evenodd\" fill-opacity=\"1\" /><path clip-path=\"url(#clip120)\" d=\"M120.922 99.3767 L125.807 99.3767 L125.807 105.256 L120.922 105.256 L120.922 99.3767 Z\" fill=\"#000000\" fill-rule=\"evenodd\" fill-opacity=\"1\" /><path clip-path=\"url(#clip120)\" d=\"M145.992 73.775 Q142.381 73.775 140.552 77.3398 Q138.746 80.8814 138.746 88.011 Q138.746 95.1174 140.552 98.6822 Q142.381 102.224 145.992 102.224 Q149.626 102.224 151.431 98.6822 Q153.26 95.1174 153.26 88.011 Q153.26 80.8814 151.431 77.3398 Q149.626 73.775 145.992 73.775 M145.992 70.0713 Q151.802 70.0713 154.857 74.6777 Q157.936 79.261 157.936 88.011 Q157.936 96.7378 154.857 101.344 Q151.802 105.928 145.992 105.928 Q140.181 105.928 137.103 101.344 Q134.047 96.7378 134.047 88.011 Q134.047 79.261 137.103 74.6777 Q140.181 70.0713 145.992 70.0713 Z\" fill=\"#000000\" fill-rule=\"evenodd\" fill-opacity=\"1\" /><path clip-path=\"url(#clip120)\" d=\"M176.153 73.775 Q172.542 73.775 170.714 77.3398 Q168.908 80.8814 168.908 88.011 Q168.908 95.1174 170.714 98.6822 Q172.542 102.224 176.153 102.224 Q179.788 102.224 181.593 98.6822 Q183.422 95.1174 183.422 88.011 Q183.422 80.8814 181.593 77.3398 Q179.788 73.775 176.153 73.775 M176.153 70.0713 Q181.964 70.0713 185.019 74.6777 Q188.098 79.261 188.098 88.011 Q188.098 96.7378 185.019 101.344 Q181.964 105.928 176.153 105.928 Q170.343 105.928 167.265 101.344 Q164.209 96.7378 164.209 88.011 Q164.209 79.261 167.265 74.6777 Q170.343 70.0713 176.153 70.0713 Z\" fill=\"#000000\" fill-rule=\"evenodd\" fill-opacity=\"1\" /><polyline clip-path=\"url(#clip122)\" style=\"stroke:#009af9; stroke-linecap:butt; stroke-linejoin:round; stroke-width:4; stroke-opacity:1; fill:none\" points=\"\n",
       "  224.098,87.9763 244.886,766.846 437.102,766.846 552.616,766.846 650.281,766.846 756.373,766.846 854.18,766.846 959.04,766.846 1080.53,766.846 1188.5,766.846 \n",
       "  1283.17,766.846 1386.4,766.846 1490.23,766.846 1605.04,766.846 1714.27,766.846 1827.85,766.846 1923.46,766.846 2040.19,766.846 2149.91,766.846 2325.7,766.846 \n",
       "  2352.76,766.846 \n",
       "  \"/>\n",
       "<polyline clip-path=\"url(#clip122)\" style=\"stroke:#e26f46; stroke-linecap:butt; stroke-linejoin:round; stroke-width:4; stroke-opacity:1; fill:none\" points=\"\n",
       "  224.098,1445.72 244.886,766.846 437.102,766.846 552.616,766.846 650.281,766.846 756.373,766.846 854.18,766.846 959.04,766.846 1080.53,766.846 1188.5,766.846 \n",
       "  1283.17,766.846 1386.4,766.846 1490.23,766.846 1605.04,766.846 1714.27,766.846 1827.85,766.846 1923.46,766.846 2040.19,766.846 2149.91,766.846 2325.7,766.846 \n",
       "  2352.76,766.846 \n",
       "  \"/>\n",
       "<path clip-path=\"url(#clip120)\" d=\"\n",
       "M1989.37 250.738 L2281.8 250.738 L2281.8 95.2176 L1989.37 95.2176  Z\n",
       "  \" fill=\"#ffffff\" fill-rule=\"evenodd\" fill-opacity=\"1\"/>\n",
       "<polyline clip-path=\"url(#clip120)\" style=\"stroke:#000000; stroke-linecap:butt; stroke-linejoin:round; stroke-width:4; stroke-opacity:1; fill:none\" points=\"\n",
       "  1989.37,250.738 2281.8,250.738 2281.8,95.2176 1989.37,95.2176 1989.37,250.738 \n",
       "  \"/>\n",
       "<polyline clip-path=\"url(#clip120)\" style=\"stroke:#009af9; stroke-linecap:butt; stroke-linejoin:round; stroke-width:4; stroke-opacity:1; fill:none\" points=\"\n",
       "  2013.37,147.058 2157.37,147.058 \n",
       "  \"/>\n",
       "<path clip-path=\"url(#clip120)\" d=\"M2195.21 166.745 Q2193.41 171.375 2191.69 172.787 Q2189.98 174.199 2187.11 174.199 L2183.71 174.199 L2183.71 170.634 L2186.21 170.634 Q2187.97 170.634 2188.94 169.8 Q2189.91 168.967 2191.09 165.865 L2191.86 163.921 L2181.37 138.412 L2185.88 138.412 L2193.99 158.689 L2202.09 138.412 L2206.6 138.412 L2195.21 166.745 Z\" fill=\"#000000\" fill-rule=\"evenodd\" fill-opacity=\"1\" /><path clip-path=\"url(#clip120)\" d=\"M2213.89 160.402 L2221.53 160.402 L2221.53 134.037 L2213.22 135.703 L2213.22 131.444 L2221.49 129.778 L2226.16 129.778 L2226.16 160.402 L2233.8 160.402 L2233.8 164.338 L2213.89 164.338 L2213.89 160.402 Z\" fill=\"#000000\" fill-rule=\"evenodd\" fill-opacity=\"1\" /><polyline clip-path=\"url(#clip120)\" style=\"stroke:#e26f46; stroke-linecap:butt; stroke-linejoin:round; stroke-width:4; stroke-opacity:1; fill:none\" points=\"\n",
       "  2013.37,198.898 2157.37,198.898 \n",
       "  \"/>\n",
       "<path clip-path=\"url(#clip120)\" d=\"M2195.21 218.585 Q2193.41 223.215 2191.69 224.627 Q2189.98 226.039 2187.11 226.039 L2183.71 226.039 L2183.71 222.474 L2186.21 222.474 Q2187.97 222.474 2188.94 221.64 Q2189.91 220.807 2191.09 217.705 L2191.86 215.761 L2181.37 190.252 L2185.88 190.252 L2193.99 210.529 L2202.09 190.252 L2206.6 190.252 L2195.21 218.585 Z\" fill=\"#000000\" fill-rule=\"evenodd\" fill-opacity=\"1\" /><path clip-path=\"url(#clip120)\" d=\"M2217.11 212.242 L2233.43 212.242 L2233.43 216.178 L2211.49 216.178 L2211.49 212.242 Q2214.15 209.488 2218.73 204.858 Q2223.34 200.205 2224.52 198.863 Q2226.76 196.34 2227.64 194.604 Q2228.55 192.844 2228.55 191.155 Q2228.55 188.4 2226.6 186.664 Q2224.68 184.928 2221.58 184.928 Q2219.38 184.928 2216.93 185.692 Q2214.5 186.455 2211.72 188.006 L2211.72 183.284 Q2214.54 182.15 2217 181.571 Q2219.45 180.993 2221.49 180.993 Q2226.86 180.993 2230.05 183.678 Q2233.25 186.363 2233.25 190.854 Q2233.25 192.983 2232.43 194.905 Q2231.65 196.803 2229.54 199.395 Q2228.96 200.067 2225.86 203.284 Q2222.76 206.479 2217.11 212.242 Z\" fill=\"#000000\" fill-rule=\"evenodd\" fill-opacity=\"1\" /></svg>\n"
      ]
     },
     "execution_count": 117,
     "metadata": {},
     "output_type": "execute_result"
    }
   ],
   "source": [
    "a = [1;2;1]\n",
    "k = 1\n",
    "ζ = 1\n",
    "#plot(κ -> real(Sp(k,κ,a,ζ)), xlim=(0,20))\n",
    "#plot!(κ -> real(Sm(k,κ,a,ζ)), xlim=(0,20))\n",
    "plot(κ -> imag(Sp(k,κ,a,ζ)), xlim=(0,20))\n",
    "plot!(κ -> imag(Sm(k,κ,a,ζ)), xlim=(0,20))"
   ]
  },
  {
   "cell_type": "code",
   "execution_count": 118,
   "id": "b258b946-0cb8-42d7-84e6-6f72361dd89a",
   "metadata": {},
   "outputs": [
    {
     "data": {
      "image/svg+xml": [
       "<?xml version=\"1.0\" encoding=\"utf-8\"?>\n",
       "<svg xmlns=\"http://www.w3.org/2000/svg\" xmlns:xlink=\"http://www.w3.org/1999/xlink\" width=\"600\" height=\"400\" viewBox=\"0 0 2400 1600\">\n",
       "<defs>\n",
       "  <clipPath id=\"clip160\">\n",
       "    <rect x=\"0\" y=\"0\" width=\"2400\" height=\"1600\"/>\n",
       "  </clipPath>\n",
       "</defs>\n",
       "<path clip-path=\"url(#clip160)\" d=\"\n",
       "M0 1600 L2400 1600 L2400 0 L0 0  Z\n",
       "  \" fill=\"#ffffff\" fill-rule=\"evenodd\" fill-opacity=\"1\"/>\n",
       "<defs>\n",
       "  <clipPath id=\"clip161\">\n",
       "    <rect x=\"480\" y=\"0\" width=\"1681\" height=\"1600\"/>\n",
       "  </clipPath>\n",
       "</defs>\n",
       "<path clip-path=\"url(#clip160)\" d=\"\n",
       "M224.098 1486.45 L2352.76 1486.45 L2352.76 47.2441 L224.098 47.2441  Z\n",
       "  \" fill=\"#ffffff\" fill-rule=\"evenodd\" fill-opacity=\"1\"/>\n",
       "<defs>\n",
       "  <clipPath id=\"clip162\">\n",
       "    <rect x=\"224\" y=\"47\" width=\"2130\" height=\"1440\"/>\n",
       "  </clipPath>\n",
       "</defs>\n",
       "<polyline clip-path=\"url(#clip162)\" style=\"stroke:#000000; stroke-linecap:butt; stroke-linejoin:round; stroke-width:2; stroke-opacity:0.1; fill:none\" points=\"\n",
       "  224.098,1486.45 224.098,47.2441 \n",
       "  \"/>\n",
       "<polyline clip-path=\"url(#clip162)\" style=\"stroke:#000000; stroke-linecap:butt; stroke-linejoin:round; stroke-width:2; stroke-opacity:0.1; fill:none\" points=\"\n",
       "  649.829,1486.45 649.829,47.2441 \n",
       "  \"/>\n",
       "<polyline clip-path=\"url(#clip162)\" style=\"stroke:#000000; stroke-linecap:butt; stroke-linejoin:round; stroke-width:2; stroke-opacity:0.1; fill:none\" points=\"\n",
       "  1075.56,1486.45 1075.56,47.2441 \n",
       "  \"/>\n",
       "<polyline clip-path=\"url(#clip162)\" style=\"stroke:#000000; stroke-linecap:butt; stroke-linejoin:round; stroke-width:2; stroke-opacity:0.1; fill:none\" points=\"\n",
       "  1501.29,1486.45 1501.29,47.2441 \n",
       "  \"/>\n",
       "<polyline clip-path=\"url(#clip162)\" style=\"stroke:#000000; stroke-linecap:butt; stroke-linejoin:round; stroke-width:2; stroke-opacity:0.1; fill:none\" points=\"\n",
       "  1927.02,1486.45 1927.02,47.2441 \n",
       "  \"/>\n",
       "<polyline clip-path=\"url(#clip162)\" style=\"stroke:#000000; stroke-linecap:butt; stroke-linejoin:round; stroke-width:2; stroke-opacity:0.1; fill:none\" points=\"\n",
       "  2352.76,1486.45 2352.76,47.2441 \n",
       "  \"/>\n",
       "<polyline clip-path=\"url(#clip160)\" style=\"stroke:#000000; stroke-linecap:butt; stroke-linejoin:round; stroke-width:4; stroke-opacity:1; fill:none\" points=\"\n",
       "  224.098,1486.45 2352.76,1486.45 \n",
       "  \"/>\n",
       "<polyline clip-path=\"url(#clip160)\" style=\"stroke:#000000; stroke-linecap:butt; stroke-linejoin:round; stroke-width:4; stroke-opacity:1; fill:none\" points=\"\n",
       "  224.098,1486.45 224.098,1467.55 \n",
       "  \"/>\n",
       "<polyline clip-path=\"url(#clip160)\" style=\"stroke:#000000; stroke-linecap:butt; stroke-linejoin:round; stroke-width:4; stroke-opacity:1; fill:none\" points=\"\n",
       "  649.829,1486.45 649.829,1467.55 \n",
       "  \"/>\n",
       "<polyline clip-path=\"url(#clip160)\" style=\"stroke:#000000; stroke-linecap:butt; stroke-linejoin:round; stroke-width:4; stroke-opacity:1; fill:none\" points=\"\n",
       "  1075.56,1486.45 1075.56,1467.55 \n",
       "  \"/>\n",
       "<polyline clip-path=\"url(#clip160)\" style=\"stroke:#000000; stroke-linecap:butt; stroke-linejoin:round; stroke-width:4; stroke-opacity:1; fill:none\" points=\"\n",
       "  1501.29,1486.45 1501.29,1467.55 \n",
       "  \"/>\n",
       "<polyline clip-path=\"url(#clip160)\" style=\"stroke:#000000; stroke-linecap:butt; stroke-linejoin:round; stroke-width:4; stroke-opacity:1; fill:none\" points=\"\n",
       "  1927.02,1486.45 1927.02,1467.55 \n",
       "  \"/>\n",
       "<polyline clip-path=\"url(#clip160)\" style=\"stroke:#000000; stroke-linecap:butt; stroke-linejoin:round; stroke-width:4; stroke-opacity:1; fill:none\" points=\"\n",
       "  2352.76,1486.45 2352.76,1467.55 \n",
       "  \"/>\n",
       "<path clip-path=\"url(#clip160)\" d=\"M224.098 1517.37 Q220.487 1517.37 218.658 1520.93 Q216.853 1524.47 216.853 1531.6 Q216.853 1538.71 218.658 1542.27 Q220.487 1545.82 224.098 1545.82 Q227.732 1545.82 229.538 1542.27 Q231.366 1538.71 231.366 1531.6 Q231.366 1524.47 229.538 1520.93 Q227.732 1517.37 224.098 1517.37 M224.098 1513.66 Q229.908 1513.66 232.964 1518.27 Q236.042 1522.85 236.042 1531.6 Q236.042 1540.33 232.964 1544.94 Q229.908 1549.52 224.098 1549.52 Q218.288 1549.52 215.209 1544.94 Q212.153 1540.33 212.153 1531.6 Q212.153 1522.85 215.209 1518.27 Q218.288 1513.66 224.098 1513.66 Z\" fill=\"#000000\" fill-rule=\"evenodd\" fill-opacity=\"1\" /><path clip-path=\"url(#clip160)\" d=\"M644.482 1544.91 L660.802 1544.91 L660.802 1548.85 L638.857 1548.85 L638.857 1544.91 Q641.519 1542.16 646.103 1537.53 Q650.709 1532.88 651.89 1531.53 Q654.135 1529.01 655.015 1527.27 Q655.917 1525.51 655.917 1523.82 Q655.917 1521.07 653.973 1519.33 Q652.052 1517.6 648.95 1517.6 Q646.751 1517.6 644.297 1518.36 Q641.867 1519.13 639.089 1520.68 L639.089 1515.95 Q641.913 1514.82 644.367 1514.24 Q646.82 1513.66 648.857 1513.66 Q654.228 1513.66 657.422 1516.35 Q660.616 1519.03 660.616 1523.52 Q660.616 1525.65 659.806 1527.57 Q659.019 1529.47 656.913 1532.07 Q656.334 1532.74 653.232 1535.95 Q650.13 1539.15 644.482 1544.91 Z\" fill=\"#000000\" fill-rule=\"evenodd\" fill-opacity=\"1\" /><path clip-path=\"url(#clip160)\" d=\"M1078.57 1518.36 L1066.76 1536.81 L1078.57 1536.81 L1078.57 1518.36 M1077.34 1514.29 L1083.22 1514.29 L1083.22 1536.81 L1088.15 1536.81 L1088.15 1540.7 L1083.22 1540.7 L1083.22 1548.85 L1078.57 1548.85 L1078.57 1540.7 L1062.97 1540.7 L1062.97 1536.19 L1077.34 1514.29 Z\" fill=\"#000000\" fill-rule=\"evenodd\" fill-opacity=\"1\" /><path clip-path=\"url(#clip160)\" d=\"M1501.7 1529.7 Q1498.55 1529.7 1496.7 1531.86 Q1494.87 1534.01 1494.87 1537.76 Q1494.87 1541.49 1496.7 1543.66 Q1498.55 1545.82 1501.7 1545.82 Q1504.85 1545.82 1506.67 1543.66 Q1508.53 1541.49 1508.53 1537.76 Q1508.53 1534.01 1506.67 1531.86 Q1504.85 1529.7 1501.7 1529.7 M1510.98 1515.05 L1510.98 1519.31 Q1509.22 1518.48 1507.42 1518.04 Q1505.63 1517.6 1503.87 1517.6 Q1499.24 1517.6 1496.79 1520.72 Q1494.36 1523.85 1494.01 1530.17 Q1495.38 1528.15 1497.44 1527.09 Q1499.5 1526 1501.98 1526 Q1507.18 1526 1510.19 1529.17 Q1513.23 1532.32 1513.23 1537.76 Q1513.23 1543.08 1510.08 1546.3 Q1506.93 1549.52 1501.7 1549.52 Q1495.7 1549.52 1492.53 1544.94 Q1489.36 1540.33 1489.36 1531.6 Q1489.36 1523.41 1493.25 1518.55 Q1497.14 1513.66 1503.69 1513.66 Q1505.45 1513.66 1507.23 1514.01 Q1509.04 1514.36 1510.98 1515.05 Z\" fill=\"#000000\" fill-rule=\"evenodd\" fill-opacity=\"1\" /><path clip-path=\"url(#clip160)\" d=\"M1927.02 1532.44 Q1923.69 1532.44 1921.77 1534.22 Q1919.87 1536 1919.87 1539.13 Q1919.87 1542.25 1921.77 1544.03 Q1923.69 1545.82 1927.02 1545.82 Q1930.36 1545.82 1932.28 1544.03 Q1934.2 1542.23 1934.2 1539.13 Q1934.2 1536 1932.28 1534.22 Q1930.38 1532.44 1927.02 1532.44 M1922.35 1530.45 Q1919.34 1529.7 1917.65 1527.64 Q1915.98 1525.58 1915.98 1522.62 Q1915.98 1518.48 1918.92 1516.07 Q1921.89 1513.66 1927.02 1513.66 Q1932.19 1513.66 1935.13 1516.07 Q1938.07 1518.48 1938.07 1522.62 Q1938.07 1525.58 1936.38 1527.64 Q1934.71 1529.7 1931.72 1530.45 Q1935.1 1531.23 1936.98 1533.52 Q1938.88 1535.82 1938.88 1539.13 Q1938.88 1544.15 1935.8 1546.83 Q1932.74 1549.52 1927.02 1549.52 Q1921.31 1549.52 1918.23 1546.83 Q1915.17 1544.15 1915.17 1539.13 Q1915.17 1535.82 1917.07 1533.52 Q1918.97 1531.23 1922.35 1530.45 M1920.64 1523.06 Q1920.64 1525.75 1922.3 1527.25 Q1923.99 1528.76 1927.02 1528.76 Q1930.03 1528.76 1931.72 1527.25 Q1933.44 1525.75 1933.44 1523.06 Q1933.44 1520.38 1931.72 1518.87 Q1930.03 1517.37 1927.02 1517.37 Q1923.99 1517.37 1922.3 1518.87 Q1920.64 1520.38 1920.64 1523.06 Z\" fill=\"#000000\" fill-rule=\"evenodd\" fill-opacity=\"1\" /><path clip-path=\"url(#clip160)\" d=\"M2327.44 1544.91 L2335.08 1544.91 L2335.08 1518.55 L2326.77 1520.21 L2326.77 1515.95 L2335.04 1514.29 L2339.71 1514.29 L2339.71 1544.91 L2347.35 1544.91 L2347.35 1548.85 L2327.44 1548.85 L2327.44 1544.91 Z\" fill=\"#000000\" fill-rule=\"evenodd\" fill-opacity=\"1\" /><path clip-path=\"url(#clip160)\" d=\"M2366.8 1517.37 Q2363.18 1517.37 2361.36 1520.93 Q2359.55 1524.47 2359.55 1531.6 Q2359.55 1538.71 2361.36 1542.27 Q2363.18 1545.82 2366.8 1545.82 Q2370.43 1545.82 2372.23 1542.27 Q2374.06 1538.71 2374.06 1531.6 Q2374.06 1524.47 2372.23 1520.93 Q2370.43 1517.37 2366.8 1517.37 M2366.8 1513.66 Q2372.61 1513.66 2375.66 1518.27 Q2378.74 1522.85 2378.74 1531.6 Q2378.74 1540.33 2375.66 1544.94 Q2372.61 1549.52 2366.8 1549.52 Q2360.99 1549.52 2357.91 1544.94 Q2354.85 1540.33 2354.85 1531.6 Q2354.85 1522.85 2357.91 1518.27 Q2360.99 1513.66 2366.8 1513.66 Z\" fill=\"#000000\" fill-rule=\"evenodd\" fill-opacity=\"1\" /><polyline clip-path=\"url(#clip162)\" style=\"stroke:#000000; stroke-linecap:butt; stroke-linejoin:round; stroke-width:2; stroke-opacity:0.1; fill:none\" points=\"\n",
       "  224.098,1445.72 2352.76,1445.72 \n",
       "  \"/>\n",
       "<polyline clip-path=\"url(#clip162)\" style=\"stroke:#000000; stroke-linecap:butt; stroke-linejoin:round; stroke-width:2; stroke-opacity:0.1; fill:none\" points=\"\n",
       "  224.098,1106.28 2352.76,1106.28 \n",
       "  \"/>\n",
       "<polyline clip-path=\"url(#clip162)\" style=\"stroke:#000000; stroke-linecap:butt; stroke-linejoin:round; stroke-width:2; stroke-opacity:0.1; fill:none\" points=\"\n",
       "  224.098,766.846 2352.76,766.846 \n",
       "  \"/>\n",
       "<polyline clip-path=\"url(#clip162)\" style=\"stroke:#000000; stroke-linecap:butt; stroke-linejoin:round; stroke-width:2; stroke-opacity:0.1; fill:none\" points=\"\n",
       "  224.098,427.411 2352.76,427.411 \n",
       "  \"/>\n",
       "<polyline clip-path=\"url(#clip162)\" style=\"stroke:#000000; stroke-linecap:butt; stroke-linejoin:round; stroke-width:2; stroke-opacity:0.1; fill:none\" points=\"\n",
       "  224.098,87.9763 2352.76,87.9763 \n",
       "  \"/>\n",
       "<polyline clip-path=\"url(#clip160)\" style=\"stroke:#000000; stroke-linecap:butt; stroke-linejoin:round; stroke-width:4; stroke-opacity:1; fill:none\" points=\"\n",
       "  224.098,1486.45 224.098,47.2441 \n",
       "  \"/>\n",
       "<polyline clip-path=\"url(#clip160)\" style=\"stroke:#000000; stroke-linecap:butt; stroke-linejoin:round; stroke-width:4; stroke-opacity:1; fill:none\" points=\"\n",
       "  224.098,1445.72 242.996,1445.72 \n",
       "  \"/>\n",
       "<polyline clip-path=\"url(#clip160)\" style=\"stroke:#000000; stroke-linecap:butt; stroke-linejoin:round; stroke-width:4; stroke-opacity:1; fill:none\" points=\"\n",
       "  224.098,1106.28 242.996,1106.28 \n",
       "  \"/>\n",
       "<polyline clip-path=\"url(#clip160)\" style=\"stroke:#000000; stroke-linecap:butt; stroke-linejoin:round; stroke-width:4; stroke-opacity:1; fill:none\" points=\"\n",
       "  224.098,766.846 242.996,766.846 \n",
       "  \"/>\n",
       "<polyline clip-path=\"url(#clip160)\" style=\"stroke:#000000; stroke-linecap:butt; stroke-linejoin:round; stroke-width:4; stroke-opacity:1; fill:none\" points=\"\n",
       "  224.098,427.411 242.996,427.411 \n",
       "  \"/>\n",
       "<polyline clip-path=\"url(#clip160)\" style=\"stroke:#000000; stroke-linecap:butt; stroke-linejoin:round; stroke-width:4; stroke-opacity:1; fill:none\" points=\"\n",
       "  224.098,87.9763 242.996,87.9763 \n",
       "  \"/>\n",
       "<path clip-path=\"url(#clip160)\" d=\"M50.9921 1446.17 L80.6679 1446.17 L80.6679 1450.1 L50.9921 1450.1 L50.9921 1446.17 Z\" fill=\"#000000\" fill-rule=\"evenodd\" fill-opacity=\"1\" /><path clip-path=\"url(#clip160)\" d=\"M91.5706 1459.06 L99.2095 1459.06 L99.2095 1432.69 L90.8993 1434.36 L90.8993 1430.1 L99.1632 1428.44 L103.839 1428.44 L103.839 1459.06 L111.478 1459.06 L111.478 1463 L91.5706 1463 L91.5706 1459.06 Z\" fill=\"#000000\" fill-rule=\"evenodd\" fill-opacity=\"1\" /><path clip-path=\"url(#clip160)\" d=\"M120.922 1457.12 L125.807 1457.12 L125.807 1463 L120.922 1463 L120.922 1457.12 Z\" fill=\"#000000\" fill-rule=\"evenodd\" fill-opacity=\"1\" /><path clip-path=\"url(#clip160)\" d=\"M145.992 1431.51 Q142.381 1431.51 140.552 1435.08 Q138.746 1438.62 138.746 1445.75 Q138.746 1452.86 140.552 1456.42 Q142.381 1459.96 145.992 1459.96 Q149.626 1459.96 151.431 1456.42 Q153.26 1452.86 153.26 1445.75 Q153.26 1438.62 151.431 1435.08 Q149.626 1431.51 145.992 1431.51 M145.992 1427.81 Q151.802 1427.81 154.857 1432.42 Q157.936 1437 157.936 1445.75 Q157.936 1454.48 154.857 1459.08 Q151.802 1463.67 145.992 1463.67 Q140.181 1463.67 137.103 1459.08 Q134.047 1454.48 134.047 1445.75 Q134.047 1437 137.103 1432.42 Q140.181 1427.81 145.992 1427.81 Z\" fill=\"#000000\" fill-rule=\"evenodd\" fill-opacity=\"1\" /><path clip-path=\"url(#clip160)\" d=\"M176.153 1431.51 Q172.542 1431.51 170.714 1435.08 Q168.908 1438.62 168.908 1445.75 Q168.908 1452.86 170.714 1456.42 Q172.542 1459.96 176.153 1459.96 Q179.788 1459.96 181.593 1456.42 Q183.422 1452.86 183.422 1445.75 Q183.422 1438.62 181.593 1435.08 Q179.788 1431.51 176.153 1431.51 M176.153 1427.81 Q181.964 1427.81 185.019 1432.42 Q188.098 1437 188.098 1445.75 Q188.098 1454.48 185.019 1459.08 Q181.964 1463.67 176.153 1463.67 Q170.343 1463.67 167.265 1459.08 Q164.209 1454.48 164.209 1445.75 Q164.209 1437 167.265 1432.42 Q170.343 1427.81 176.153 1427.81 Z\" fill=\"#000000\" fill-rule=\"evenodd\" fill-opacity=\"1\" /><path clip-path=\"url(#clip160)\" d=\"M51.9875 1106.73 L81.6633 1106.73 L81.6633 1110.67 L51.9875 1110.67 L51.9875 1106.73 Z\" fill=\"#000000\" fill-rule=\"evenodd\" fill-opacity=\"1\" /><path clip-path=\"url(#clip160)\" d=\"M101.756 1092.08 Q98.1447 1092.08 96.316 1095.64 Q94.5104 1099.19 94.5104 1106.32 Q94.5104 1113.42 96.316 1116.99 Q98.1447 1120.53 101.756 1120.53 Q105.39 1120.53 107.196 1116.99 Q109.024 1113.42 109.024 1106.32 Q109.024 1099.19 107.196 1095.64 Q105.39 1092.08 101.756 1092.08 M101.756 1088.38 Q107.566 1088.38 110.621 1092.98 Q113.7 1097.57 113.7 1106.32 Q113.7 1115.04 110.621 1119.65 Q107.566 1124.23 101.756 1124.23 Q95.9456 1124.23 92.8669 1119.65 Q89.8114 1115.04 89.8114 1106.32 Q89.8114 1097.57 92.8669 1092.98 Q95.9456 1088.38 101.756 1088.38 Z\" fill=\"#000000\" fill-rule=\"evenodd\" fill-opacity=\"1\" /><path clip-path=\"url(#clip160)\" d=\"M121.918 1117.68 L126.802 1117.68 L126.802 1123.56 L121.918 1123.56 L121.918 1117.68 Z\" fill=\"#000000\" fill-rule=\"evenodd\" fill-opacity=\"1\" /><path clip-path=\"url(#clip160)\" d=\"M135.806 1089 L158.029 1089 L158.029 1090.99 L145.482 1123.56 L140.598 1123.56 L152.404 1092.94 L135.806 1092.94 L135.806 1089 Z\" fill=\"#000000\" fill-rule=\"evenodd\" fill-opacity=\"1\" /><path clip-path=\"url(#clip160)\" d=\"M167.195 1089 L185.552 1089 L185.552 1092.94 L171.478 1092.94 L171.478 1101.41 Q172.496 1101.06 173.515 1100.9 Q174.533 1100.71 175.552 1100.71 Q181.339 1100.71 184.718 1103.89 Q188.098 1107.06 188.098 1112.47 Q188.098 1118.05 184.626 1121.15 Q181.153 1124.23 174.834 1124.23 Q172.658 1124.23 170.39 1123.86 Q168.144 1123.49 165.737 1122.75 L165.737 1118.05 Q167.82 1119.19 170.042 1119.74 Q172.265 1120.3 174.741 1120.3 Q178.746 1120.3 181.084 1118.19 Q183.422 1116.08 183.422 1112.47 Q183.422 1108.86 181.084 1106.76 Q178.746 1104.65 174.741 1104.65 Q172.866 1104.65 170.991 1105.07 Q169.14 1105.48 167.195 1106.36 L167.195 1089 Z\" fill=\"#000000\" fill-rule=\"evenodd\" fill-opacity=\"1\" /><path clip-path=\"url(#clip160)\" d=\"M50.9921 767.297 L80.6679 767.297 L80.6679 771.233 L50.9921 771.233 L50.9921 767.297 Z\" fill=\"#000000\" fill-rule=\"evenodd\" fill-opacity=\"1\" /><path clip-path=\"url(#clip160)\" d=\"M100.76 752.645 Q97.1493 752.645 95.3206 756.209 Q93.515 759.751 93.515 766.881 Q93.515 773.987 95.3206 777.552 Q97.1493 781.094 100.76 781.094 Q104.395 781.094 106.2 777.552 Q108.029 773.987 108.029 766.881 Q108.029 759.751 106.2 756.209 Q104.395 752.645 100.76 752.645 M100.76 748.941 Q106.571 748.941 109.626 753.547 Q112.705 758.131 112.705 766.881 Q112.705 775.608 109.626 780.214 Q106.571 784.797 100.76 784.797 Q94.9502 784.797 91.8715 780.214 Q88.816 775.608 88.816 766.881 Q88.816 758.131 91.8715 753.547 Q94.9502 748.941 100.76 748.941 Z\" fill=\"#000000\" fill-rule=\"evenodd\" fill-opacity=\"1\" /><path clip-path=\"url(#clip160)\" d=\"M120.922 778.246 L125.807 778.246 L125.807 784.126 L120.922 784.126 L120.922 778.246 Z\" fill=\"#000000\" fill-rule=\"evenodd\" fill-opacity=\"1\" /><path clip-path=\"url(#clip160)\" d=\"M136.038 749.566 L154.394 749.566 L154.394 753.501 L140.32 753.501 L140.32 761.973 Q141.339 761.626 142.357 761.464 Q143.376 761.279 144.394 761.279 Q150.181 761.279 153.561 764.45 Q156.941 767.621 156.941 773.038 Q156.941 778.617 153.468 781.719 Q149.996 784.797 143.677 784.797 Q141.501 784.797 139.232 784.427 Q136.987 784.057 134.58 783.316 L134.58 778.617 Q136.663 779.751 138.885 780.307 Q141.107 780.862 143.584 780.862 Q147.589 780.862 149.927 778.756 Q152.265 776.649 152.265 773.038 Q152.265 769.427 149.927 767.321 Q147.589 765.214 143.584 765.214 Q141.709 765.214 139.834 765.631 Q137.982 766.047 136.038 766.927 L136.038 749.566 Z\" fill=\"#000000\" fill-rule=\"evenodd\" fill-opacity=\"1\" /><path clip-path=\"url(#clip160)\" d=\"M176.153 752.645 Q172.542 752.645 170.714 756.209 Q168.908 759.751 168.908 766.881 Q168.908 773.987 170.714 777.552 Q172.542 781.094 176.153 781.094 Q179.788 781.094 181.593 777.552 Q183.422 773.987 183.422 766.881 Q183.422 759.751 181.593 756.209 Q179.788 752.645 176.153 752.645 M176.153 748.941 Q181.964 748.941 185.019 753.547 Q188.098 758.131 188.098 766.881 Q188.098 775.608 185.019 780.214 Q181.964 784.797 176.153 784.797 Q170.343 784.797 167.265 780.214 Q164.209 775.608 164.209 766.881 Q164.209 758.131 167.265 753.547 Q170.343 748.941 176.153 748.941 Z\" fill=\"#000000\" fill-rule=\"evenodd\" fill-opacity=\"1\" /><path clip-path=\"url(#clip160)\" d=\"M51.9875 427.863 L81.6633 427.863 L81.6633 431.798 L51.9875 431.798 L51.9875 427.863 Z\" fill=\"#000000\" fill-rule=\"evenodd\" fill-opacity=\"1\" /><path clip-path=\"url(#clip160)\" d=\"M101.756 413.21 Q98.1447 413.21 96.316 416.775 Q94.5104 420.316 94.5104 427.446 Q94.5104 434.552 96.316 438.117 Q98.1447 441.659 101.756 441.659 Q105.39 441.659 107.196 438.117 Q109.024 434.552 109.024 427.446 Q109.024 420.316 107.196 416.775 Q105.39 413.21 101.756 413.21 M101.756 409.506 Q107.566 409.506 110.621 414.113 Q113.7 418.696 113.7 427.446 Q113.7 436.173 110.621 440.779 Q107.566 445.362 101.756 445.362 Q95.9456 445.362 92.8669 440.779 Q89.8114 436.173 89.8114 427.446 Q89.8114 418.696 92.8669 414.113 Q95.9456 409.506 101.756 409.506 Z\" fill=\"#000000\" fill-rule=\"evenodd\" fill-opacity=\"1\" /><path clip-path=\"url(#clip160)\" d=\"M121.918 438.812 L126.802 438.812 L126.802 444.691 L121.918 444.691 L121.918 438.812 Z\" fill=\"#000000\" fill-rule=\"evenodd\" fill-opacity=\"1\" /><path clip-path=\"url(#clip160)\" d=\"M141.015 440.756 L157.334 440.756 L157.334 444.691 L135.39 444.691 L135.39 440.756 Q138.052 438.001 142.635 433.372 Q147.242 428.719 148.422 427.376 Q150.668 424.853 151.547 423.117 Q152.45 421.358 152.45 419.668 Q152.45 416.914 150.505 415.177 Q148.584 413.441 145.482 413.441 Q143.283 413.441 140.83 414.205 Q138.399 414.969 135.621 416.52 L135.621 411.798 Q138.445 410.664 140.899 410.085 Q143.353 409.506 145.39 409.506 Q150.76 409.506 153.955 412.191 Q157.149 414.876 157.149 419.367 Q157.149 421.497 156.339 423.418 Q155.552 425.316 153.445 427.909 Q152.867 428.58 149.765 431.798 Q146.663 434.992 141.015 440.756 Z\" fill=\"#000000\" fill-rule=\"evenodd\" fill-opacity=\"1\" /><path clip-path=\"url(#clip160)\" d=\"M167.195 410.131 L185.552 410.131 L185.552 414.066 L171.478 414.066 L171.478 422.538 Q172.496 422.191 173.515 422.029 Q174.533 421.844 175.552 421.844 Q181.339 421.844 184.718 425.015 Q188.098 428.187 188.098 433.603 Q188.098 439.182 184.626 442.284 Q181.153 445.362 174.834 445.362 Q172.658 445.362 170.39 444.992 Q168.144 444.622 165.737 443.881 L165.737 439.182 Q167.82 440.316 170.042 440.872 Q172.265 441.427 174.741 441.427 Q178.746 441.427 181.084 439.321 Q183.422 437.214 183.422 433.603 Q183.422 429.992 181.084 427.886 Q178.746 425.779 174.741 425.779 Q172.866 425.779 170.991 426.196 Q169.14 426.613 167.195 427.492 L167.195 410.131 Z\" fill=\"#000000\" fill-rule=\"evenodd\" fill-opacity=\"1\" /><path clip-path=\"url(#clip160)\" d=\"M100.76 73.775 Q97.1493 73.775 95.3206 77.3398 Q93.515 80.8814 93.515 88.011 Q93.515 95.1174 95.3206 98.6822 Q97.1493 102.224 100.76 102.224 Q104.395 102.224 106.2 98.6822 Q108.029 95.1174 108.029 88.011 Q108.029 80.8814 106.2 77.3398 Q104.395 73.775 100.76 73.775 M100.76 70.0713 Q106.571 70.0713 109.626 74.6777 Q112.705 79.261 112.705 88.011 Q112.705 96.7378 109.626 101.344 Q106.571 105.928 100.76 105.928 Q94.9502 105.928 91.8715 101.344 Q88.816 96.7378 88.816 88.011 Q88.816 79.261 91.8715 74.6777 Q94.9502 70.0713 100.76 70.0713 Z\" fill=\"#000000\" fill-rule=\"evenodd\" fill-opacity=\"1\" /><path clip-path=\"url(#clip160)\" d=\"M120.922 99.3767 L125.807 99.3767 L125.807 105.256 L120.922 105.256 L120.922 99.3767 Z\" fill=\"#000000\" fill-rule=\"evenodd\" fill-opacity=\"1\" /><path clip-path=\"url(#clip160)\" d=\"M145.992 73.775 Q142.381 73.775 140.552 77.3398 Q138.746 80.8814 138.746 88.011 Q138.746 95.1174 140.552 98.6822 Q142.381 102.224 145.992 102.224 Q149.626 102.224 151.431 98.6822 Q153.26 95.1174 153.26 88.011 Q153.26 80.8814 151.431 77.3398 Q149.626 73.775 145.992 73.775 M145.992 70.0713 Q151.802 70.0713 154.857 74.6777 Q157.936 79.261 157.936 88.011 Q157.936 96.7378 154.857 101.344 Q151.802 105.928 145.992 105.928 Q140.181 105.928 137.103 101.344 Q134.047 96.7378 134.047 88.011 Q134.047 79.261 137.103 74.6777 Q140.181 70.0713 145.992 70.0713 Z\" fill=\"#000000\" fill-rule=\"evenodd\" fill-opacity=\"1\" /><path clip-path=\"url(#clip160)\" d=\"M176.153 73.775 Q172.542 73.775 170.714 77.3398 Q168.908 80.8814 168.908 88.011 Q168.908 95.1174 170.714 98.6822 Q172.542 102.224 176.153 102.224 Q179.788 102.224 181.593 98.6822 Q183.422 95.1174 183.422 88.011 Q183.422 80.8814 181.593 77.3398 Q179.788 73.775 176.153 73.775 M176.153 70.0713 Q181.964 70.0713 185.019 74.6777 Q188.098 79.261 188.098 88.011 Q188.098 96.7378 185.019 101.344 Q181.964 105.928 176.153 105.928 Q170.343 105.928 167.265 101.344 Q164.209 96.7378 164.209 88.011 Q164.209 79.261 167.265 74.6777 Q170.343 70.0713 176.153 70.0713 Z\" fill=\"#000000\" fill-rule=\"evenodd\" fill-opacity=\"1\" /><polyline clip-path=\"url(#clip162)\" style=\"stroke:#009af9; stroke-linecap:butt; stroke-linejoin:round; stroke-width:4; stroke-opacity:1; fill:none\" points=\"\n",
       "  224.098,87.9763 226.696,88.7861 229.295,91.2213 231.893,95.2995 234.492,101.051 237.09,108.52 239.689,117.765 240.988,123.077 242.287,128.864 243.587,135.138 \n",
       "  244.886,141.915 247.889,159.598 250.893,180.308 253.896,204.382 256.899,232.271 259.903,264.612 262.906,302.334 264.408,323.635 265.91,346.884 267.411,372.429 \n",
       "  268.913,400.747 270.415,432.544 271.916,468.931 273.418,511.866 274.92,565.494 276.421,643.006 277.923,766.846 279.425,766.846 280.926,766.846 283.93,766.846 \n",
       "  286.933,766.846 289.937,766.846 292.94,766.846 304.953,766.846 316.967,766.846 328.98,766.846 340.994,766.846 389.048,766.846 437.102,766.846 494.859,766.846 \n",
       "  552.616,766.846 601.448,766.846 650.281,766.846 756.373,766.846 854.18,766.846 959.04,766.846 1080.53,766.846 1188.5,766.846 1283.17,766.846 1386.4,766.846 \n",
       "  1490.23,766.846 1605.04,766.846 1714.27,766.846 1827.85,766.846 1923.46,766.846 2040.19,766.846 2149.91,766.846 2325.7,766.846 2352.76,766.846 \n",
       "  \"/>\n",
       "<polyline clip-path=\"url(#clip162)\" style=\"stroke:#e26f46; stroke-linecap:butt; stroke-linejoin:round; stroke-width:4; stroke-opacity:1; fill:none\" points=\"\n",
       "  224.098,1445.72 226.696,1444.91 229.295,1442.47 231.893,1438.39 234.492,1432.64 237.09,1425.17 239.689,1415.93 240.988,1410.61 242.287,1404.83 243.587,1398.55 \n",
       "  244.886,1391.78 247.889,1374.09 250.893,1353.38 253.896,1329.31 256.899,1301.42 259.903,1269.08 262.906,1231.36 264.408,1210.06 265.91,1186.81 267.411,1161.26 \n",
       "  268.913,1132.95 270.415,1101.15 271.916,1064.76 273.418,1021.83 274.92,968.198 276.421,890.686 277.923,766.846 279.425,766.846 280.926,766.846 283.93,766.846 \n",
       "  286.933,766.846 289.937,766.846 292.94,766.846 304.953,766.846 316.967,766.846 328.98,766.846 340.994,766.846 389.048,766.846 437.102,766.846 494.859,766.846 \n",
       "  552.616,766.846 601.448,766.846 650.281,766.846 756.373,766.846 854.18,766.846 959.04,766.846 1080.53,766.846 1188.5,766.846 1283.17,766.846 1386.4,766.846 \n",
       "  1490.23,766.846 1605.04,766.846 1714.27,766.846 1827.85,766.846 1923.46,766.846 2040.19,766.846 2149.91,766.846 2325.7,766.846 2352.76,766.846 \n",
       "  \"/>\n",
       "<path clip-path=\"url(#clip160)\" d=\"\n",
       "M1989.37 250.738 L2281.8 250.738 L2281.8 95.2176 L1989.37 95.2176  Z\n",
       "  \" fill=\"#ffffff\" fill-rule=\"evenodd\" fill-opacity=\"1\"/>\n",
       "<polyline clip-path=\"url(#clip160)\" style=\"stroke:#000000; stroke-linecap:butt; stroke-linejoin:round; stroke-width:4; stroke-opacity:1; fill:none\" points=\"\n",
       "  1989.37,250.738 2281.8,250.738 2281.8,95.2176 1989.37,95.2176 1989.37,250.738 \n",
       "  \"/>\n",
       "<polyline clip-path=\"url(#clip160)\" style=\"stroke:#009af9; stroke-linecap:butt; stroke-linejoin:round; stroke-width:4; stroke-opacity:1; fill:none\" points=\"\n",
       "  2013.37,147.058 2157.37,147.058 \n",
       "  \"/>\n",
       "<path clip-path=\"url(#clip160)\" d=\"M2195.21 166.745 Q2193.41 171.375 2191.69 172.787 Q2189.98 174.199 2187.11 174.199 L2183.71 174.199 L2183.71 170.634 L2186.21 170.634 Q2187.97 170.634 2188.94 169.8 Q2189.91 168.967 2191.09 165.865 L2191.86 163.921 L2181.37 138.412 L2185.88 138.412 L2193.99 158.689 L2202.09 138.412 L2206.6 138.412 L2195.21 166.745 Z\" fill=\"#000000\" fill-rule=\"evenodd\" fill-opacity=\"1\" /><path clip-path=\"url(#clip160)\" d=\"M2213.89 160.402 L2221.53 160.402 L2221.53 134.037 L2213.22 135.703 L2213.22 131.444 L2221.49 129.778 L2226.16 129.778 L2226.16 160.402 L2233.8 160.402 L2233.8 164.338 L2213.89 164.338 L2213.89 160.402 Z\" fill=\"#000000\" fill-rule=\"evenodd\" fill-opacity=\"1\" /><polyline clip-path=\"url(#clip160)\" style=\"stroke:#e26f46; stroke-linecap:butt; stroke-linejoin:round; stroke-width:4; stroke-opacity:1; fill:none\" points=\"\n",
       "  2013.37,198.898 2157.37,198.898 \n",
       "  \"/>\n",
       "<path clip-path=\"url(#clip160)\" d=\"M2195.21 218.585 Q2193.41 223.215 2191.69 224.627 Q2189.98 226.039 2187.11 226.039 L2183.71 226.039 L2183.71 222.474 L2186.21 222.474 Q2187.97 222.474 2188.94 221.64 Q2189.91 220.807 2191.09 217.705 L2191.86 215.761 L2181.37 190.252 L2185.88 190.252 L2193.99 210.529 L2202.09 190.252 L2206.6 190.252 L2195.21 218.585 Z\" fill=\"#000000\" fill-rule=\"evenodd\" fill-opacity=\"1\" /><path clip-path=\"url(#clip160)\" d=\"M2217.11 212.242 L2233.43 212.242 L2233.43 216.178 L2211.49 216.178 L2211.49 212.242 Q2214.15 209.488 2218.73 204.858 Q2223.34 200.205 2224.52 198.863 Q2226.76 196.34 2227.64 194.604 Q2228.55 192.844 2228.55 191.155 Q2228.55 188.4 2226.6 186.664 Q2224.68 184.928 2221.58 184.928 Q2219.38 184.928 2216.93 185.692 Q2214.5 186.455 2211.72 188.006 L2211.72 183.284 Q2214.54 182.15 2217 181.571 Q2219.45 180.993 2221.49 180.993 Q2226.86 180.993 2230.05 183.678 Q2233.25 186.363 2233.25 190.854 Q2233.25 192.983 2232.43 194.905 Q2231.65 196.803 2229.54 199.395 Q2228.96 200.067 2225.86 203.284 Q2222.76 206.479 2217.11 212.242 Z\" fill=\"#000000\" fill-rule=\"evenodd\" fill-opacity=\"1\" /></svg>\n"
      ]
     },
     "execution_count": 118,
     "metadata": {},
     "output_type": "execute_result"
    }
   ],
   "source": [
    "a = [1;2;1]\n",
    "k = 1\n",
    "ζ = 1\n",
    "κ = 1\n",
    "#plot(κ -> real(Sp(k,κ,a,ζ)), xlim=(0,20))\n",
    "#plot!(κ -> real(Sm(k,κ,a,ζ)), xlim=(0,20))\n",
    "plot(k -> imag(Sp(k,κ,a,ζ)), xlim=(0,10))\n",
    "plot!(k -> imag(Sm(k,κ,a,ζ)), xlim=(0,10))"
   ]
  },
  {
   "cell_type": "code",
   "execution_count": 119,
   "id": "a1423998-984d-452c-8c1c-6fb7e6d9e85a",
   "metadata": {},
   "outputs": [
    {
     "data": {
      "image/svg+xml": [
       "<?xml version=\"1.0\" encoding=\"utf-8\"?>\n",
       "<svg xmlns=\"http://www.w3.org/2000/svg\" xmlns:xlink=\"http://www.w3.org/1999/xlink\" width=\"600\" height=\"400\" viewBox=\"0 0 2400 1600\">\n",
       "<defs>\n",
       "  <clipPath id=\"clip200\">\n",
       "    <rect x=\"0\" y=\"0\" width=\"2400\" height=\"1600\"/>\n",
       "  </clipPath>\n",
       "</defs>\n",
       "<path clip-path=\"url(#clip200)\" d=\"\n",
       "M0 1600 L2400 1600 L2400 0 L0 0  Z\n",
       "  \" fill=\"#ffffff\" fill-rule=\"evenodd\" fill-opacity=\"1\"/>\n",
       "<defs>\n",
       "  <clipPath id=\"clip201\">\n",
       "    <rect x=\"480\" y=\"0\" width=\"1681\" height=\"1600\"/>\n",
       "  </clipPath>\n",
       "</defs>\n",
       "<path clip-path=\"url(#clip200)\" d=\"\n",
       "M178.867 1486.45 L2352.76 1486.45 L2352.76 47.2441 L178.867 47.2441  Z\n",
       "  \" fill=\"#ffffff\" fill-rule=\"evenodd\" fill-opacity=\"1\"/>\n",
       "<defs>\n",
       "  <clipPath id=\"clip202\">\n",
       "    <rect x=\"178\" y=\"47\" width=\"2175\" height=\"1440\"/>\n",
       "  </clipPath>\n",
       "</defs>\n",
       "<polyline clip-path=\"url(#clip202)\" style=\"stroke:#000000; stroke-linecap:butt; stroke-linejoin:round; stroke-width:2; stroke-opacity:0.1; fill:none\" points=\"\n",
       "  178.867,1486.45 178.867,47.2441 \n",
       "  \"/>\n",
       "<polyline clip-path=\"url(#clip202)\" style=\"stroke:#000000; stroke-linecap:butt; stroke-linejoin:round; stroke-width:2; stroke-opacity:0.1; fill:none\" points=\"\n",
       "  613.644,1486.45 613.644,47.2441 \n",
       "  \"/>\n",
       "<polyline clip-path=\"url(#clip202)\" style=\"stroke:#000000; stroke-linecap:butt; stroke-linejoin:round; stroke-width:2; stroke-opacity:0.1; fill:none\" points=\"\n",
       "  1048.42,1486.45 1048.42,47.2441 \n",
       "  \"/>\n",
       "<polyline clip-path=\"url(#clip202)\" style=\"stroke:#000000; stroke-linecap:butt; stroke-linejoin:round; stroke-width:2; stroke-opacity:0.1; fill:none\" points=\"\n",
       "  1483.2,1486.45 1483.2,47.2441 \n",
       "  \"/>\n",
       "<polyline clip-path=\"url(#clip202)\" style=\"stroke:#000000; stroke-linecap:butt; stroke-linejoin:round; stroke-width:2; stroke-opacity:0.1; fill:none\" points=\"\n",
       "  1917.98,1486.45 1917.98,47.2441 \n",
       "  \"/>\n",
       "<polyline clip-path=\"url(#clip202)\" style=\"stroke:#000000; stroke-linecap:butt; stroke-linejoin:round; stroke-width:2; stroke-opacity:0.1; fill:none\" points=\"\n",
       "  2352.76,1486.45 2352.76,47.2441 \n",
       "  \"/>\n",
       "<polyline clip-path=\"url(#clip200)\" style=\"stroke:#000000; stroke-linecap:butt; stroke-linejoin:round; stroke-width:4; stroke-opacity:1; fill:none\" points=\"\n",
       "  178.867,1486.45 2352.76,1486.45 \n",
       "  \"/>\n",
       "<polyline clip-path=\"url(#clip200)\" style=\"stroke:#000000; stroke-linecap:butt; stroke-linejoin:round; stroke-width:4; stroke-opacity:1; fill:none\" points=\"\n",
       "  178.867,1486.45 178.867,1467.55 \n",
       "  \"/>\n",
       "<polyline clip-path=\"url(#clip200)\" style=\"stroke:#000000; stroke-linecap:butt; stroke-linejoin:round; stroke-width:4; stroke-opacity:1; fill:none\" points=\"\n",
       "  613.644,1486.45 613.644,1467.55 \n",
       "  \"/>\n",
       "<polyline clip-path=\"url(#clip200)\" style=\"stroke:#000000; stroke-linecap:butt; stroke-linejoin:round; stroke-width:4; stroke-opacity:1; fill:none\" points=\"\n",
       "  1048.42,1486.45 1048.42,1467.55 \n",
       "  \"/>\n",
       "<polyline clip-path=\"url(#clip200)\" style=\"stroke:#000000; stroke-linecap:butt; stroke-linejoin:round; stroke-width:4; stroke-opacity:1; fill:none\" points=\"\n",
       "  1483.2,1486.45 1483.2,1467.55 \n",
       "  \"/>\n",
       "<polyline clip-path=\"url(#clip200)\" style=\"stroke:#000000; stroke-linecap:butt; stroke-linejoin:round; stroke-width:4; stroke-opacity:1; fill:none\" points=\"\n",
       "  1917.98,1486.45 1917.98,1467.55 \n",
       "  \"/>\n",
       "<polyline clip-path=\"url(#clip200)\" style=\"stroke:#000000; stroke-linecap:butt; stroke-linejoin:round; stroke-width:4; stroke-opacity:1; fill:none\" points=\"\n",
       "  2352.76,1486.45 2352.76,1467.55 \n",
       "  \"/>\n",
       "<path clip-path=\"url(#clip200)\" d=\"M178.867 1517.37 Q175.256 1517.37 173.427 1520.93 Q171.621 1524.47 171.621 1531.6 Q171.621 1538.71 173.427 1542.27 Q175.256 1545.82 178.867 1545.82 Q182.501 1545.82 184.306 1542.27 Q186.135 1538.71 186.135 1531.6 Q186.135 1524.47 184.306 1520.93 Q182.501 1517.37 178.867 1517.37 M178.867 1513.66 Q184.677 1513.66 187.732 1518.27 Q190.811 1522.85 190.811 1531.6 Q190.811 1540.33 187.732 1544.94 Q184.677 1549.52 178.867 1549.52 Q173.056 1549.52 169.978 1544.94 Q166.922 1540.33 166.922 1531.6 Q166.922 1522.85 169.978 1518.27 Q173.056 1513.66 178.867 1513.66 Z\" fill=\"#000000\" fill-rule=\"evenodd\" fill-opacity=\"1\" /><path clip-path=\"url(#clip200)\" d=\"M588.332 1544.91 L595.971 1544.91 L595.971 1518.55 L587.661 1520.21 L587.661 1515.95 L595.925 1514.29 L600.601 1514.29 L600.601 1544.91 L608.239 1544.91 L608.239 1548.85 L588.332 1548.85 L588.332 1544.91 Z\" fill=\"#000000\" fill-rule=\"evenodd\" fill-opacity=\"1\" /><path clip-path=\"url(#clip200)\" d=\"M627.684 1517.37 Q624.073 1517.37 622.244 1520.93 Q620.438 1524.47 620.438 1531.6 Q620.438 1538.71 622.244 1542.27 Q624.073 1545.82 627.684 1545.82 Q631.318 1545.82 633.124 1542.27 Q634.952 1538.71 634.952 1531.6 Q634.952 1524.47 633.124 1520.93 Q631.318 1517.37 627.684 1517.37 M627.684 1513.66 Q633.494 1513.66 636.549 1518.27 Q639.628 1522.85 639.628 1531.6 Q639.628 1540.33 636.549 1544.94 Q633.494 1549.52 627.684 1549.52 Q621.874 1549.52 618.795 1544.94 Q615.739 1540.33 615.739 1531.6 Q615.739 1522.85 618.795 1518.27 Q621.874 1513.66 627.684 1513.66 Z\" fill=\"#000000\" fill-rule=\"evenodd\" fill-opacity=\"1\" /><path clip-path=\"url(#clip200)\" d=\"M1027.2 1544.91 L1043.51 1544.91 L1043.51 1548.85 L1021.57 1548.85 L1021.57 1544.91 Q1024.23 1542.16 1028.82 1537.53 Q1033.42 1532.88 1034.6 1531.53 Q1036.85 1529.01 1037.73 1527.27 Q1038.63 1525.51 1038.63 1523.82 Q1038.63 1521.07 1036.69 1519.33 Q1034.77 1517.6 1031.66 1517.6 Q1029.46 1517.6 1027.01 1518.36 Q1024.58 1519.13 1021.8 1520.68 L1021.8 1515.95 Q1024.63 1514.82 1027.08 1514.24 Q1029.53 1513.66 1031.57 1513.66 Q1036.94 1513.66 1040.14 1516.35 Q1043.33 1519.03 1043.33 1523.52 Q1043.33 1525.65 1042.52 1527.57 Q1041.73 1529.47 1039.63 1532.07 Q1039.05 1532.74 1035.95 1535.95 Q1032.84 1539.15 1027.2 1544.91 Z\" fill=\"#000000\" fill-rule=\"evenodd\" fill-opacity=\"1\" /><path clip-path=\"url(#clip200)\" d=\"M1063.33 1517.37 Q1059.72 1517.37 1057.89 1520.93 Q1056.08 1524.47 1056.08 1531.6 Q1056.08 1538.71 1057.89 1542.27 Q1059.72 1545.82 1063.33 1545.82 Q1066.96 1545.82 1068.77 1542.27 Q1070.6 1538.71 1070.6 1531.6 Q1070.6 1524.47 1068.77 1520.93 Q1066.96 1517.37 1063.33 1517.37 M1063.33 1513.66 Q1069.14 1513.66 1072.2 1518.27 Q1075.27 1522.85 1075.27 1531.6 Q1075.27 1540.33 1072.2 1544.94 Q1069.14 1549.52 1063.33 1549.52 Q1057.52 1549.52 1054.44 1544.94 Q1051.39 1540.33 1051.39 1531.6 Q1051.39 1522.85 1054.44 1518.27 Q1057.52 1513.66 1063.33 1513.66 Z\" fill=\"#000000\" fill-rule=\"evenodd\" fill-opacity=\"1\" /><path clip-path=\"url(#clip200)\" d=\"M1472.04 1530.21 Q1475.4 1530.93 1477.27 1533.2 Q1479.17 1535.47 1479.17 1538.8 Q1479.17 1543.92 1475.65 1546.72 Q1472.14 1549.52 1465.65 1549.52 Q1463.48 1549.52 1461.16 1549.08 Q1458.87 1548.66 1456.42 1547.81 L1456.42 1543.29 Q1458.36 1544.43 1460.68 1545.01 Q1462.99 1545.58 1465.52 1545.58 Q1469.91 1545.58 1472.2 1543.85 Q1474.52 1542.11 1474.52 1538.8 Q1474.52 1535.75 1472.37 1534.03 Q1470.24 1532.3 1466.42 1532.3 L1462.39 1532.3 L1462.39 1528.45 L1466.6 1528.45 Q1470.05 1528.45 1471.88 1527.09 Q1473.71 1525.7 1473.71 1523.11 Q1473.71 1520.45 1471.81 1519.03 Q1469.94 1517.6 1466.42 1517.6 Q1464.5 1517.6 1462.3 1518.01 Q1460.1 1518.43 1457.46 1519.31 L1457.46 1515.14 Q1460.12 1514.4 1462.44 1514.03 Q1464.77 1513.66 1466.83 1513.66 Q1472.16 1513.66 1475.26 1516.09 Q1478.36 1518.5 1478.36 1522.62 Q1478.36 1525.49 1476.72 1527.48 Q1475.08 1529.45 1472.04 1530.21 Z\" fill=\"#000000\" fill-rule=\"evenodd\" fill-opacity=\"1\" /><path clip-path=\"url(#clip200)\" d=\"M1498.04 1517.37 Q1494.43 1517.37 1492.6 1520.93 Q1490.79 1524.47 1490.79 1531.6 Q1490.79 1538.71 1492.6 1542.27 Q1494.43 1545.82 1498.04 1545.82 Q1501.67 1545.82 1503.48 1542.27 Q1505.31 1538.71 1505.31 1531.6 Q1505.31 1524.47 1503.48 1520.93 Q1501.67 1517.37 1498.04 1517.37 M1498.04 1513.66 Q1503.85 1513.66 1506.9 1518.27 Q1509.98 1522.85 1509.98 1531.6 Q1509.98 1540.33 1506.9 1544.94 Q1503.85 1549.52 1498.04 1549.52 Q1492.23 1549.52 1489.15 1544.94 Q1486.09 1540.33 1486.09 1531.6 Q1486.09 1522.85 1489.15 1518.27 Q1492.23 1513.66 1498.04 1513.66 Z\" fill=\"#000000\" fill-rule=\"evenodd\" fill-opacity=\"1\" /><path clip-path=\"url(#clip200)\" d=\"M1906.15 1518.36 L1894.34 1536.81 L1906.15 1536.81 L1906.15 1518.36 M1904.92 1514.29 L1910.8 1514.29 L1910.8 1536.81 L1915.73 1536.81 L1915.73 1540.7 L1910.8 1540.7 L1910.8 1548.85 L1906.15 1548.85 L1906.15 1540.7 L1890.55 1540.7 L1890.55 1536.19 L1904.92 1514.29 Z\" fill=\"#000000\" fill-rule=\"evenodd\" fill-opacity=\"1\" /><path clip-path=\"url(#clip200)\" d=\"M1933.46 1517.37 Q1929.85 1517.37 1928.02 1520.93 Q1926.22 1524.47 1926.22 1531.6 Q1926.22 1538.71 1928.02 1542.27 Q1929.85 1545.82 1933.46 1545.82 Q1937.1 1545.82 1938.9 1542.27 Q1940.73 1538.71 1940.73 1531.6 Q1940.73 1524.47 1938.9 1520.93 Q1937.1 1517.37 1933.46 1517.37 M1933.46 1513.66 Q1939.27 1513.66 1942.33 1518.27 Q1945.41 1522.85 1945.41 1531.6 Q1945.41 1540.33 1942.33 1544.94 Q1939.27 1549.52 1933.46 1549.52 Q1927.65 1549.52 1924.58 1544.94 Q1921.52 1540.33 1921.52 1531.6 Q1921.52 1522.85 1924.58 1518.27 Q1927.65 1513.66 1933.46 1513.66 Z\" fill=\"#000000\" fill-rule=\"evenodd\" fill-opacity=\"1\" /><path clip-path=\"url(#clip200)\" d=\"M2327.46 1514.29 L2345.81 1514.29 L2345.81 1518.22 L2331.74 1518.22 L2331.74 1526.7 Q2332.76 1526.35 2333.77 1526.19 Q2334.79 1526 2335.81 1526 Q2341.6 1526 2344.98 1529.17 Q2348.36 1532.34 2348.36 1537.76 Q2348.36 1543.34 2344.89 1546.44 Q2341.41 1549.52 2335.09 1549.52 Q2332.92 1549.52 2330.65 1549.15 Q2328.4 1548.78 2326 1548.04 L2326 1543.34 Q2328.08 1544.47 2330.3 1545.03 Q2332.52 1545.58 2335 1545.58 Q2339.01 1545.58 2341.34 1543.48 Q2343.68 1541.37 2343.68 1537.76 Q2343.68 1534.15 2341.34 1532.04 Q2339.01 1529.94 2335 1529.94 Q2333.13 1529.94 2331.25 1530.35 Q2329.4 1530.77 2327.46 1531.65 L2327.46 1514.29 Z\" fill=\"#000000\" fill-rule=\"evenodd\" fill-opacity=\"1\" /><path clip-path=\"url(#clip200)\" d=\"M2367.57 1517.37 Q2363.96 1517.37 2362.13 1520.93 Q2360.33 1524.47 2360.33 1531.6 Q2360.33 1538.71 2362.13 1542.27 Q2363.96 1545.82 2367.57 1545.82 Q2371.2 1545.82 2373.01 1542.27 Q2374.84 1538.71 2374.84 1531.6 Q2374.84 1524.47 2373.01 1520.93 Q2371.2 1517.37 2367.57 1517.37 M2367.57 1513.66 Q2373.38 1513.66 2376.44 1518.27 Q2379.52 1522.85 2379.52 1531.6 Q2379.52 1540.33 2376.44 1544.94 Q2373.38 1549.52 2367.57 1549.52 Q2361.76 1549.52 2358.68 1544.94 Q2355.63 1540.33 2355.63 1531.6 Q2355.63 1522.85 2358.68 1518.27 Q2361.76 1513.66 2367.57 1513.66 Z\" fill=\"#000000\" fill-rule=\"evenodd\" fill-opacity=\"1\" /><polyline clip-path=\"url(#clip202)\" style=\"stroke:#000000; stroke-linecap:butt; stroke-linejoin:round; stroke-width:2; stroke-opacity:0.1; fill:none\" points=\"\n",
       "  178.867,1221.48 2352.76,1221.48 \n",
       "  \"/>\n",
       "<polyline clip-path=\"url(#clip202)\" style=\"stroke:#000000; stroke-linecap:butt; stroke-linejoin:round; stroke-width:2; stroke-opacity:0.1; fill:none\" points=\"\n",
       "  178.867,938.106 2352.76,938.106 \n",
       "  \"/>\n",
       "<polyline clip-path=\"url(#clip202)\" style=\"stroke:#000000; stroke-linecap:butt; stroke-linejoin:round; stroke-width:2; stroke-opacity:0.1; fill:none\" points=\"\n",
       "  178.867,654.73 2352.76,654.73 \n",
       "  \"/>\n",
       "<polyline clip-path=\"url(#clip202)\" style=\"stroke:#000000; stroke-linecap:butt; stroke-linejoin:round; stroke-width:2; stroke-opacity:0.1; fill:none\" points=\"\n",
       "  178.867,371.353 2352.76,371.353 \n",
       "  \"/>\n",
       "<polyline clip-path=\"url(#clip202)\" style=\"stroke:#000000; stroke-linecap:butt; stroke-linejoin:round; stroke-width:2; stroke-opacity:0.1; fill:none\" points=\"\n",
       "  178.867,87.9763 2352.76,87.9763 \n",
       "  \"/>\n",
       "<polyline clip-path=\"url(#clip200)\" style=\"stroke:#000000; stroke-linecap:butt; stroke-linejoin:round; stroke-width:4; stroke-opacity:1; fill:none\" points=\"\n",
       "  178.867,1486.45 178.867,47.2441 \n",
       "  \"/>\n",
       "<polyline clip-path=\"url(#clip200)\" style=\"stroke:#000000; stroke-linecap:butt; stroke-linejoin:round; stroke-width:4; stroke-opacity:1; fill:none\" points=\"\n",
       "  178.867,1221.48 197.764,1221.48 \n",
       "  \"/>\n",
       "<polyline clip-path=\"url(#clip200)\" style=\"stroke:#000000; stroke-linecap:butt; stroke-linejoin:round; stroke-width:4; stroke-opacity:1; fill:none\" points=\"\n",
       "  178.867,938.106 197.764,938.106 \n",
       "  \"/>\n",
       "<polyline clip-path=\"url(#clip200)\" style=\"stroke:#000000; stroke-linecap:butt; stroke-linejoin:round; stroke-width:4; stroke-opacity:1; fill:none\" points=\"\n",
       "  178.867,654.73 197.764,654.73 \n",
       "  \"/>\n",
       "<polyline clip-path=\"url(#clip200)\" style=\"stroke:#000000; stroke-linecap:butt; stroke-linejoin:round; stroke-width:4; stroke-opacity:1; fill:none\" points=\"\n",
       "  178.867,371.353 197.764,371.353 \n",
       "  \"/>\n",
       "<polyline clip-path=\"url(#clip200)\" style=\"stroke:#000000; stroke-linecap:butt; stroke-linejoin:round; stroke-width:4; stroke-opacity:1; fill:none\" points=\"\n",
       "  178.867,87.9763 197.764,87.9763 \n",
       "  \"/>\n",
       "<path clip-path=\"url(#clip200)\" d=\"M50.9921 1221.93 L80.6679 1221.93 L80.6679 1225.87 L50.9921 1225.87 L50.9921 1221.93 Z\" fill=\"#000000\" fill-rule=\"evenodd\" fill-opacity=\"1\" /><path clip-path=\"url(#clip200)\" d=\"M103.608 1208.28 L91.8021 1226.73 L103.608 1226.73 L103.608 1208.28 M102.381 1204.2 L108.26 1204.2 L108.26 1226.73 L113.191 1226.73 L113.191 1230.62 L108.26 1230.62 L108.26 1238.76 L103.608 1238.76 L103.608 1230.62 L88.0058 1230.62 L88.0058 1226.1 L102.381 1204.2 Z\" fill=\"#000000\" fill-rule=\"evenodd\" fill-opacity=\"1\" /><path clip-path=\"url(#clip200)\" d=\"M130.922 1207.28 Q127.311 1207.28 125.482 1210.85 Q123.677 1214.39 123.677 1221.52 Q123.677 1228.62 125.482 1232.19 Q127.311 1235.73 130.922 1235.73 Q134.556 1235.73 136.362 1232.19 Q138.191 1228.62 138.191 1221.52 Q138.191 1214.39 136.362 1210.85 Q134.556 1207.28 130.922 1207.28 M130.922 1203.58 Q136.732 1203.58 139.788 1208.18 Q142.867 1212.77 142.867 1221.52 Q142.867 1230.24 139.788 1234.85 Q136.732 1239.43 130.922 1239.43 Q125.112 1239.43 122.033 1234.85 Q118.978 1230.24 118.978 1221.52 Q118.978 1212.77 122.033 1208.18 Q125.112 1203.58 130.922 1203.58 Z\" fill=\"#000000\" fill-rule=\"evenodd\" fill-opacity=\"1\" /><path clip-path=\"url(#clip200)\" d=\"M50.9921 938.558 L80.6679 938.558 L80.6679 942.493 L50.9921 942.493 L50.9921 938.558 Z\" fill=\"#000000\" fill-rule=\"evenodd\" fill-opacity=\"1\" /><path clip-path=\"url(#clip200)\" d=\"M104.927 936.752 Q108.283 937.47 110.158 939.738 Q112.057 942.007 112.057 945.34 Q112.057 950.456 108.538 953.257 Q105.02 956.058 98.5382 956.058 Q96.3623 956.058 94.0475 955.618 Q91.7558 955.201 89.3021 954.345 L89.3021 949.831 Q91.2465 950.965 93.5613 951.544 Q95.8761 952.123 98.3993 952.123 Q102.797 952.123 105.089 950.386 Q107.404 948.65 107.404 945.34 Q107.404 942.285 105.251 940.572 Q103.121 938.836 99.3021 938.836 L95.2743 938.836 L95.2743 934.993 L99.4872 934.993 Q102.936 934.993 104.765 933.627 Q106.594 932.238 106.594 929.646 Q106.594 926.984 104.696 925.572 Q102.821 924.137 99.3021 924.137 Q97.3808 924.137 95.1817 924.553 Q92.9826 924.97 90.3438 925.85 L90.3438 921.683 Q93.0058 920.942 95.3206 920.572 Q97.6585 920.201 99.7187 920.201 Q105.043 920.201 108.145 922.632 Q111.246 925.039 111.246 929.16 Q111.246 932.03 109.603 934.021 Q107.959 935.988 104.927 936.752 Z\" fill=\"#000000\" fill-rule=\"evenodd\" fill-opacity=\"1\" /><path clip-path=\"url(#clip200)\" d=\"M130.922 923.905 Q127.311 923.905 125.482 927.47 Q123.677 931.012 123.677 938.141 Q123.677 945.248 125.482 948.812 Q127.311 952.354 130.922 952.354 Q134.556 952.354 136.362 948.812 Q138.191 945.248 138.191 938.141 Q138.191 931.012 136.362 927.47 Q134.556 923.905 130.922 923.905 M130.922 920.201 Q136.732 920.201 139.788 924.808 Q142.867 929.391 142.867 938.141 Q142.867 946.868 139.788 951.474 Q136.732 956.058 130.922 956.058 Q125.112 956.058 122.033 951.474 Q118.978 946.868 118.978 938.141 Q118.978 929.391 122.033 924.808 Q125.112 920.201 130.922 920.201 Z\" fill=\"#000000\" fill-rule=\"evenodd\" fill-opacity=\"1\" /><path clip-path=\"url(#clip200)\" d=\"M50.9921 655.181 L80.6679 655.181 L80.6679 659.116 L50.9921 659.116 L50.9921 655.181 Z\" fill=\"#000000\" fill-rule=\"evenodd\" fill-opacity=\"1\" /><path clip-path=\"url(#clip200)\" d=\"M94.7882 668.075 L111.108 668.075 L111.108 672.01 L89.1632 672.01 L89.1632 668.075 Q91.8252 665.32 96.4085 660.69 Q101.015 656.038 102.196 654.695 Q104.441 652.172 105.321 650.436 Q106.223 648.677 106.223 646.987 Q106.223 644.232 104.279 642.496 Q102.358 640.76 99.2558 640.76 Q97.0567 640.76 94.603 641.524 Q92.1725 642.288 89.3947 643.839 L89.3947 639.116 Q92.2188 637.982 94.6724 637.403 Q97.1261 636.825 99.1632 636.825 Q104.534 636.825 107.728 639.51 Q110.922 642.195 110.922 646.686 Q110.922 648.815 110.112 650.737 Q109.325 652.635 107.219 655.227 Q106.64 655.899 103.538 659.116 Q100.436 662.311 94.7882 668.075 Z\" fill=\"#000000\" fill-rule=\"evenodd\" fill-opacity=\"1\" /><path clip-path=\"url(#clip200)\" d=\"M130.922 640.528 Q127.311 640.528 125.482 644.093 Q123.677 647.635 123.677 654.764 Q123.677 661.871 125.482 665.436 Q127.311 668.977 130.922 668.977 Q134.556 668.977 136.362 665.436 Q138.191 661.871 138.191 654.764 Q138.191 647.635 136.362 644.093 Q134.556 640.528 130.922 640.528 M130.922 636.825 Q136.732 636.825 139.788 641.431 Q142.867 646.014 142.867 654.764 Q142.867 663.491 139.788 668.098 Q136.732 672.681 130.922 672.681 Q125.112 672.681 122.033 668.098 Q118.978 663.491 118.978 654.764 Q118.978 646.014 122.033 641.431 Q125.112 636.825 130.922 636.825 Z\" fill=\"#000000\" fill-rule=\"evenodd\" fill-opacity=\"1\" /><path clip-path=\"url(#clip200)\" d=\"M50.9921 371.804 L80.6679 371.804 L80.6679 375.74 L50.9921 375.74 L50.9921 371.804 Z\" fill=\"#000000\" fill-rule=\"evenodd\" fill-opacity=\"1\" /><path clip-path=\"url(#clip200)\" d=\"M91.5706 384.698 L99.2095 384.698 L99.2095 358.332 L90.8993 359.999 L90.8993 355.74 L99.1632 354.073 L103.839 354.073 L103.839 384.698 L111.478 384.698 L111.478 388.633 L91.5706 388.633 L91.5706 384.698 Z\" fill=\"#000000\" fill-rule=\"evenodd\" fill-opacity=\"1\" /><path clip-path=\"url(#clip200)\" d=\"M130.922 357.152 Q127.311 357.152 125.482 360.716 Q123.677 364.258 123.677 371.388 Q123.677 378.494 125.482 382.059 Q127.311 385.601 130.922 385.601 Q134.556 385.601 136.362 382.059 Q138.191 378.494 138.191 371.388 Q138.191 364.258 136.362 360.716 Q134.556 357.152 130.922 357.152 M130.922 353.448 Q136.732 353.448 139.788 358.054 Q142.867 362.638 142.867 371.388 Q142.867 380.115 139.788 384.721 Q136.732 389.304 130.922 389.304 Q125.112 389.304 122.033 384.721 Q118.978 380.115 118.978 371.388 Q118.978 362.638 122.033 358.054 Q125.112 353.448 130.922 353.448 Z\" fill=\"#000000\" fill-rule=\"evenodd\" fill-opacity=\"1\" /><path clip-path=\"url(#clip200)\" d=\"M130.922 73.775 Q127.311 73.775 125.482 77.3398 Q123.677 80.8814 123.677 88.011 Q123.677 95.1174 125.482 98.6822 Q127.311 102.224 130.922 102.224 Q134.556 102.224 136.362 98.6822 Q138.191 95.1174 138.191 88.011 Q138.191 80.8814 136.362 77.3398 Q134.556 73.775 130.922 73.775 M130.922 70.0713 Q136.732 70.0713 139.788 74.6777 Q142.867 79.261 142.867 88.011 Q142.867 96.7378 139.788 101.344 Q136.732 105.928 130.922 105.928 Q125.112 105.928 122.033 101.344 Q118.978 96.7378 118.978 88.011 Q118.978 79.261 122.033 74.6777 Q125.112 70.0713 130.922 70.0713 Z\" fill=\"#000000\" fill-rule=\"evenodd\" fill-opacity=\"1\" /><polyline clip-path=\"url(#clip202)\" style=\"stroke:#009af9; stroke-linecap:butt; stroke-linejoin:round; stroke-width:4; stroke-opacity:1; fill:none\" points=\"\n",
       "  178.867,87.9763 183.113,89.36 187.359,90.7437 226.619,103.538 265.879,116.332 289.472,124.021 313.066,131.71 323.04,134.96 333.014,138.211 338.001,139.836 \n",
       "  342.988,141.461 345.482,142.274 347.975,143.087 349.222,143.493 350.469,143.899 351.092,144.102 351.715,144.305 352.027,144.407 352.339,144.509 352.651,144.61 \n",
       "  352.962,142.101 353.301,140.423 353.639,139.284 353.978,138.373 354.317,137.597 354.994,136.298 355.671,135.214 357.025,133.434 358.38,131.977 361.088,129.631 \n",
       "  363.797,127.75 366.506,126.166 369.214,124.792 371.923,123.575 374.631,122.482 380.049,120.579 385.466,118.959 390.883,117.55 396.301,116.304 406.289,114.333 \n",
       "  416.278,112.678 426.266,111.258 436.255,110.02 457.673,107.819 479.09,106.063 503.905,104.414 528.719,103.061 572.823,101.163 611.499,99.8692 653.665,98.7296 \n",
       "  696.083,97.7904 742.98,96.9306 787.602,96.2444 833.999,95.6362 873.054,95.1906 920.737,94.7131 965.561,94.3192 1037.37,93.7769 1048.42,93.7016 \n",
       "  \"/>\n",
       "<polyline clip-path=\"url(#clip202)\" style=\"stroke:#e26f46; stroke-linecap:butt; stroke-linejoin:round; stroke-width:4; stroke-opacity:1; fill:none\" points=\"\n",
       "  178.867,87.9763 183.113,89.36 187.359,90.7437 226.619,103.538 265.879,116.332 289.472,124.021 313.066,131.71 323.04,134.96 333.014,138.211 342.988,141.461 \n",
       "  352.962,147.323 358.38,160.977 363.797,168.735 369.214,175.224 374.631,181.065 385.466,191.649 396.301,201.366 416.278,218.013 436.255,233.692 479.09,265.567 \n",
       "  528.719,300.916 572.823,331.56 611.499,358.062 653.665,386.684 696.083,415.27 742.98,446.696 787.602,476.466 833.999,507.314 873.054,533.215 920.737,564.771 \n",
       "  965.561,594.38 1037.37,641.726 1048.42,649.004 \n",
       "  \"/>\n",
       "<polyline clip-path=\"url(#clip202)\" style=\"stroke:#3da44d; stroke-linecap:butt; stroke-linejoin:round; stroke-width:4; stroke-opacity:1; fill:none\" points=\"\n",
       "  178.867,87.9763 187.359,90.7437 195.85,93.5111 274.371,119.1 352.891,144.688 400.078,160.066 447.265,175.444 467.213,181.945 487.162,188.446 497.136,191.696 \n",
       "  507.11,194.946 512.097,196.572 517.084,198.197 519.577,199.009 522.071,199.822 523.318,200.228 524.564,200.635 525.188,200.838 525.811,201.041 526.434,201.244 \n",
       "  527.058,196.225 527.735,192.87 528.412,190.591 529.089,188.769 529.766,187.218 531.121,184.619 532.475,182.451 535.184,178.891 537.892,175.977 543.31,171.285 \n",
       "  548.727,167.524 554.144,164.357 559.562,161.608 564.979,159.174 570.396,156.988 581.231,153.182 592.066,149.942 602.9,147.124 613.735,144.632 633.712,140.689 \n",
       "  653.689,137.379 673.666,134.539 693.643,132.064 736.479,127.662 779.314,124.15 828.943,120.851 878.571,118.145 966.78,114.35 1044.13,111.762 1128.46,109.483 \n",
       "  1213.3,107.604 1307.09,105.885 1396.34,104.513 1489.13,103.296 1567.24,102.405 1662.61,101.45 1752.25,100.662 1895.88,99.5775 1917.98,99.427 \n",
       "  \"/>\n",
       "<polyline clip-path=\"url(#clip202)\" style=\"stroke:#c271d2; stroke-linecap:butt; stroke-linejoin:round; stroke-width:4; stroke-opacity:1; fill:none\" points=\"\n",
       "  178.867,87.9763 187.359,90.7437 195.85,93.5111 274.371,119.1 352.891,144.688 400.078,160.066 447.265,175.444 467.213,181.945 487.162,188.446 507.11,194.946 \n",
       "  527.058,206.669 537.892,233.979 548.727,249.494 559.562,262.472 570.396,274.153 592.066,295.323 613.735,314.756 653.689,348.05 693.643,379.407 779.314,443.158 \n",
       "  878.571,513.856 966.78,575.144 1044.13,628.147 1128.46,685.392 1213.3,742.563 1307.09,805.416 1396.34,864.955 1489.13,926.652 1567.24,978.454 1662.61,1041.57 \n",
       "  1752.25,1100.78 1895.88,1195.48 1917.98,1210.03 \n",
       "  \"/>\n",
       "<polyline clip-path=\"url(#clip202)\" style=\"stroke:#ac8d18; stroke-linecap:butt; stroke-linejoin:round; stroke-width:4; stroke-opacity:1; fill:none\" points=\"\n",
       "  178.867,87.9763 200.096,94.8948 396.397,158.866 514.365,197.311 614.106,229.815 722.452,265.124 822.338,297.675 875.882,315.124 929.426,332.574 960.444,342.682 \n",
       "  991.462,352.79 1006.97,357.844 1022.48,362.899 1030.23,365.426 1037.99,367.953 1039.93,368.585 1041.87,369.216 1043.8,369.848 1045.74,370.48 1046.71,370.796 \n",
       "  1047.68,371.112 1048.65,364.926 1049.62,356.863 1051.56,348.284 1053.5,342.345 1056.94,334.362 1060.39,328.078 1063.83,322.786 1067.28,318.162 1074.17,310.273 \n",
       "  1081.06,303.621 1094.85,292.657 1108.63,283.713 1136.19,269.46 1163.76,258.225 1187.93,249.982 1212.1,242.824 1236.27,236.501 1260.45,230.843 1313.16,220.269 \n",
       "  1365.86,211.492 1418.88,203.986 1471.91,197.491 1589.15,185.736 1700.71,176.908 1816.7,169.414 1914.34,164.091 2033.54,158.523 2145.6,154.024 2325.13,147.953 \n",
       "  2352.76,147.12 \n",
       "  \"/>\n",
       "<polyline clip-path=\"url(#clip202)\" style=\"stroke:#00a9ad; stroke-linecap:butt; stroke-linejoin:round; stroke-width:4; stroke-opacity:1; fill:none\" points=\"\n",
       "  178.867,87.9763 200.096,94.8948 396.397,158.866 514.365,197.311 614.106,229.815 722.452,265.124 822.338,297.675 875.882,315.124 929.426,332.574 960.444,342.682 \n",
       "  991.462,352.79 1006.97,357.844 1022.48,362.899 1037.99,367.953 1053.5,403.669 1081.06,460.36 1108.63,498.234 1136.19,530.452 1163.76,559.654 1212.1,606.564 \n",
       "  1260.45,650.055 1365.86,738.113 1471.91,821.23 1589.15,909.402 1700.71,990.938 1816.7,1074.03 1914.34,1142.99 2033.54,1226.26 2145.6,1303.79 2325.13,1426.88 \n",
       "  2352.76,1445.72 \n",
       "  \"/>\n",
       "<path clip-path=\"url(#clip200)\" d=\"\n",
       "M1986.15 458.098 L2280.29 458.098 L2280.29 95.2176 L1986.15 95.2176  Z\n",
       "  \" fill=\"#ffffff\" fill-rule=\"evenodd\" fill-opacity=\"1\"/>\n",
       "<polyline clip-path=\"url(#clip200)\" style=\"stroke:#000000; stroke-linecap:butt; stroke-linejoin:round; stroke-width:4; stroke-opacity:1; fill:none\" points=\"\n",
       "  1986.15,458.098 2280.29,458.098 2280.29,95.2176 1986.15,95.2176 1986.15,458.098 \n",
       "  \"/>\n",
       "<polyline clip-path=\"url(#clip200)\" style=\"stroke:#009af9; stroke-linecap:butt; stroke-linejoin:round; stroke-width:4; stroke-opacity:1; fill:none\" points=\"\n",
       "  2010.15,147.058 2154.15,147.058 \n",
       "  \"/>\n",
       "<path clip-path=\"url(#clip200)\" d=\"M2191.99 166.745 Q2190.19 171.375 2188.47 172.787 Q2186.76 174.199 2183.89 174.199 L2180.49 174.199 L2180.49 170.634 L2182.99 170.634 Q2184.75 170.634 2185.72 169.8 Q2186.69 168.967 2187.87 165.865 L2188.64 163.921 L2178.15 138.412 L2182.66 138.412 L2190.77 158.689 L2198.87 138.412 L2203.38 138.412 L2191.99 166.745 Z\" fill=\"#000000\" fill-rule=\"evenodd\" fill-opacity=\"1\" /><path clip-path=\"url(#clip200)\" d=\"M2210.67 160.402 L2218.31 160.402 L2218.31 134.037 L2210 135.703 L2210 131.444 L2218.27 129.778 L2222.94 129.778 L2222.94 160.402 L2230.58 160.402 L2230.58 164.338 L2210.67 164.338 L2210.67 160.402 Z\" fill=\"#000000\" fill-rule=\"evenodd\" fill-opacity=\"1\" /><polyline clip-path=\"url(#clip200)\" style=\"stroke:#e26f46; stroke-linecap:butt; stroke-linejoin:round; stroke-width:4; stroke-opacity:1; fill:none\" points=\"\n",
       "  2010.15,198.898 2154.15,198.898 \n",
       "  \"/>\n",
       "<path clip-path=\"url(#clip200)\" d=\"M2191.99 218.585 Q2190.19 223.215 2188.47 224.627 Q2186.76 226.039 2183.89 226.039 L2180.49 226.039 L2180.49 222.474 L2182.99 222.474 Q2184.75 222.474 2185.72 221.64 Q2186.69 220.807 2187.87 217.705 L2188.64 215.761 L2178.15 190.252 L2182.66 190.252 L2190.77 210.529 L2198.87 190.252 L2203.38 190.252 L2191.99 218.585 Z\" fill=\"#000000\" fill-rule=\"evenodd\" fill-opacity=\"1\" /><path clip-path=\"url(#clip200)\" d=\"M2213.89 212.242 L2230.21 212.242 L2230.21 216.178 L2208.27 216.178 L2208.27 212.242 Q2210.93 209.488 2215.51 204.858 Q2220.12 200.205 2221.3 198.863 Q2223.54 196.34 2224.42 194.604 Q2225.33 192.844 2225.33 191.155 Q2225.33 188.4 2223.38 186.664 Q2221.46 184.928 2218.36 184.928 Q2216.16 184.928 2213.71 185.692 Q2211.27 186.455 2208.5 188.006 L2208.5 183.284 Q2211.32 182.15 2213.77 181.571 Q2216.23 180.993 2218.27 180.993 Q2223.64 180.993 2226.83 183.678 Q2230.02 186.363 2230.02 190.854 Q2230.02 192.983 2229.21 194.905 Q2228.43 196.803 2226.32 199.395 Q2225.74 200.067 2222.64 203.284 Q2219.54 206.479 2213.89 212.242 Z\" fill=\"#000000\" fill-rule=\"evenodd\" fill-opacity=\"1\" /><polyline clip-path=\"url(#clip200)\" style=\"stroke:#3da44d; stroke-linecap:butt; stroke-linejoin:round; stroke-width:4; stroke-opacity:1; fill:none\" points=\"\n",
       "  2010.15,250.738 2154.15,250.738 \n",
       "  \"/>\n",
       "<path clip-path=\"url(#clip200)\" d=\"M2191.99 270.425 Q2190.19 275.055 2188.47 276.467 Q2186.76 277.879 2183.89 277.879 L2180.49 277.879 L2180.49 274.314 L2182.99 274.314 Q2184.75 274.314 2185.72 273.48 Q2186.69 272.647 2187.87 269.545 L2188.64 267.601 L2178.15 242.092 L2182.66 242.092 L2190.77 262.369 L2198.87 242.092 L2203.38 242.092 L2191.99 270.425 Z\" fill=\"#000000\" fill-rule=\"evenodd\" fill-opacity=\"1\" /><path clip-path=\"url(#clip200)\" d=\"M2224.03 249.383 Q2227.39 250.101 2229.26 252.369 Q2231.16 254.638 2231.16 257.971 Q2231.16 263.087 2227.64 265.888 Q2224.12 268.689 2217.64 268.689 Q2215.46 268.689 2213.15 268.249 Q2210.86 267.832 2208.4 266.976 L2208.4 262.462 Q2210.35 263.596 2212.66 264.175 Q2214.98 264.754 2217.5 264.754 Q2221.9 264.754 2224.19 263.018 Q2226.51 261.281 2226.51 257.971 Q2226.51 254.916 2224.35 253.203 Q2222.22 251.467 2218.4 251.467 L2214.38 251.467 L2214.38 247.624 L2218.59 247.624 Q2222.04 247.624 2223.87 246.258 Q2225.7 244.87 2225.7 242.277 Q2225.7 239.615 2223.8 238.203 Q2221.92 236.768 2218.4 236.768 Q2216.48 236.768 2214.28 237.184 Q2212.08 237.601 2209.45 238.481 L2209.45 234.314 Q2212.11 233.573 2214.42 233.203 Q2216.76 232.833 2218.82 232.833 Q2224.14 232.833 2227.25 235.263 Q2230.35 237.67 2230.35 241.791 Q2230.35 244.661 2228.7 246.652 Q2227.06 248.62 2224.03 249.383 Z\" fill=\"#000000\" fill-rule=\"evenodd\" fill-opacity=\"1\" /><polyline clip-path=\"url(#clip200)\" style=\"stroke:#c271d2; stroke-linecap:butt; stroke-linejoin:round; stroke-width:4; stroke-opacity:1; fill:none\" points=\"\n",
       "  2010.15,302.578 2154.15,302.578 \n",
       "  \"/>\n",
       "<path clip-path=\"url(#clip200)\" d=\"M2191.99 322.265 Q2190.19 326.895 2188.47 328.307 Q2186.76 329.719 2183.89 329.719 L2180.49 329.719 L2180.49 326.154 L2182.99 326.154 Q2184.75 326.154 2185.72 325.32 Q2186.69 324.487 2187.87 321.385 L2188.64 319.441 L2178.15 293.932 L2182.66 293.932 L2190.77 314.209 L2198.87 293.932 L2203.38 293.932 L2191.99 322.265 Z\" fill=\"#000000\" fill-rule=\"evenodd\" fill-opacity=\"1\" /><path clip-path=\"url(#clip200)\" d=\"M2222.71 289.372 L2210.9 307.821 L2222.71 307.821 L2222.71 289.372 M2221.48 285.298 L2227.36 285.298 L2227.36 307.821 L2232.29 307.821 L2232.29 311.709 L2227.36 311.709 L2227.36 319.858 L2222.71 319.858 L2222.71 311.709 L2207.11 311.709 L2207.11 307.196 L2221.48 285.298 Z\" fill=\"#000000\" fill-rule=\"evenodd\" fill-opacity=\"1\" /><polyline clip-path=\"url(#clip200)\" style=\"stroke:#ac8d18; stroke-linecap:butt; stroke-linejoin:round; stroke-width:4; stroke-opacity:1; fill:none\" points=\"\n",
       "  2010.15,354.418 2154.15,354.418 \n",
       "  \"/>\n",
       "<path clip-path=\"url(#clip200)\" d=\"M2191.99 374.105 Q2190.19 378.735 2188.47 380.147 Q2186.76 381.559 2183.89 381.559 L2180.49 381.559 L2180.49 377.994 L2182.99 377.994 Q2184.75 377.994 2185.72 377.16 Q2186.69 376.327 2187.87 373.225 L2188.64 371.281 L2178.15 345.772 L2182.66 345.772 L2190.77 366.049 L2198.87 345.772 L2203.38 345.772 L2191.99 374.105 Z\" fill=\"#000000\" fill-rule=\"evenodd\" fill-opacity=\"1\" /><path clip-path=\"url(#clip200)\" d=\"M2209.91 337.138 L2228.27 337.138 L2228.27 341.073 L2214.19 341.073 L2214.19 349.545 Q2215.21 349.198 2216.23 349.036 Q2217.25 348.85 2218.27 348.85 Q2224.05 348.85 2227.43 352.022 Q2230.81 355.193 2230.81 360.61 Q2230.81 366.188 2227.34 369.29 Q2223.87 372.369 2217.55 372.369 Q2215.37 372.369 2213.1 371.998 Q2210.86 371.628 2208.45 370.887 L2208.45 366.188 Q2210.53 367.323 2212.76 367.878 Q2214.98 368.434 2217.46 368.434 Q2221.46 368.434 2223.8 366.327 Q2226.14 364.221 2226.14 360.61 Q2226.14 356.999 2223.8 354.892 Q2221.46 352.786 2217.46 352.786 Q2215.58 352.786 2213.71 353.202 Q2211.85 353.619 2209.91 354.499 L2209.91 337.138 Z\" fill=\"#000000\" fill-rule=\"evenodd\" fill-opacity=\"1\" /><polyline clip-path=\"url(#clip200)\" style=\"stroke:#00a9ad; stroke-linecap:butt; stroke-linejoin:round; stroke-width:4; stroke-opacity:1; fill:none\" points=\"\n",
       "  2010.15,406.258 2154.15,406.258 \n",
       "  \"/>\n",
       "<path clip-path=\"url(#clip200)\" d=\"M2191.99 425.945 Q2190.19 430.575 2188.47 431.987 Q2186.76 433.399 2183.89 433.399 L2180.49 433.399 L2180.49 429.834 L2182.99 429.834 Q2184.75 429.834 2185.72 429 Q2186.69 428.167 2187.87 425.065 L2188.64 423.121 L2178.15 397.612 L2182.66 397.612 L2190.77 417.889 L2198.87 397.612 L2203.38 397.612 L2191.99 425.945 Z\" fill=\"#000000\" fill-rule=\"evenodd\" fill-opacity=\"1\" /><path clip-path=\"url(#clip200)\" d=\"M2220.44 404.394 Q2217.29 404.394 2215.44 406.547 Q2213.61 408.7 2213.61 412.45 Q2213.61 416.176 2215.44 418.352 Q2217.29 420.505 2220.44 420.505 Q2223.59 420.505 2225.42 418.352 Q2227.27 416.176 2227.27 412.45 Q2227.27 408.7 2225.42 406.547 Q2223.59 404.394 2220.44 404.394 M2229.72 389.741 L2229.72 394.001 Q2227.96 393.167 2226.16 392.728 Q2224.38 392.288 2222.62 392.288 Q2217.99 392.288 2215.53 395.413 Q2213.1 398.538 2212.76 404.857 Q2214.12 402.843 2216.18 401.778 Q2218.24 400.69 2220.72 400.69 Q2225.93 400.69 2228.94 403.862 Q2231.97 407.01 2231.97 412.45 Q2231.97 417.774 2228.82 420.991 Q2225.67 424.209 2220.44 424.209 Q2214.45 424.209 2211.27 419.626 Q2208.1 415.019 2208.1 406.292 Q2208.1 398.098 2211.99 393.237 Q2215.88 388.353 2222.43 388.353 Q2224.19 388.353 2225.97 388.7 Q2227.78 389.047 2229.72 389.741 Z\" fill=\"#000000\" fill-rule=\"evenodd\" fill-opacity=\"1\" /></svg>\n"
      ]
     },
     "execution_count": 119,
     "metadata": {},
     "output_type": "execute_result"
    }
   ],
   "source": [
    "a = [1;2;1]\n",
    "k = 1\n",
    "ζ = 1\n",
    "κ = 1\n",
    "#plot(κ -> real(Sp(k,κ,a,ζ)), xlim=(0,20))\n",
    "#plot!(κ -> real(Sm(k,κ,a,ζ)), xlim=(0,20))\n",
    "plot(ζ -> imag(Sp(1,κ,a,ζ)), xlim=(0,20))\n",
    "plot!(ζ -> imag(Sm(1,κ,a,ζ)))\n",
    "plot!(ζ -> imag(Sp(2,κ,a,ζ)), xlim=(0,40))\n",
    "plot!(ζ -> imag(Sm(2,κ,a,ζ)))\n",
    "plot!(ζ -> imag(Sp(5,κ,a,ζ)), xlim=(0,50))\n",
    "plot!(ζ -> imag(Sm(5,κ,a,ζ)))"
   ]
  },
  {
   "cell_type": "markdown",
   "id": "a8ce53ff-ddf3-46b3-9817-e211a3d2dfd0",
   "metadata": {},
   "source": [
    "$$\n",
    "\\frac{u[2]}{u[1]} = \\frac{ka_2\\chi_1}{(i\\zeta/\\chi_2 - \\sigma - ka_3)\\chi_2}\n",
    "$$"
   ]
  },
  {
   "cell_type": "code",
   "execution_count": 126,
   "id": "63479d47-77cc-4e6a-b340-b65c708531ee",
   "metadata": {},
   "outputs": [
    {
     "data": {
      "image/svg+xml": [
       "<?xml version=\"1.0\" encoding=\"utf-8\"?>\n",
       "<svg xmlns=\"http://www.w3.org/2000/svg\" xmlns:xlink=\"http://www.w3.org/1999/xlink\" width=\"600\" height=\"400\" viewBox=\"0 0 2400 1600\">\n",
       "<defs>\n",
       "  <clipPath id=\"clip480\">\n",
       "    <rect x=\"0\" y=\"0\" width=\"2400\" height=\"1600\"/>\n",
       "  </clipPath>\n",
       "</defs>\n",
       "<path clip-path=\"url(#clip480)\" d=\"\n",
       "M0 1600 L2400 1600 L2400 0 L0 0  Z\n",
       "  \" fill=\"#ffffff\" fill-rule=\"evenodd\" fill-opacity=\"1\"/>\n",
       "<defs>\n",
       "  <clipPath id=\"clip481\">\n",
       "    <rect x=\"480\" y=\"0\" width=\"1681\" height=\"1600\"/>\n",
       "  </clipPath>\n",
       "</defs>\n",
       "<path clip-path=\"url(#clip480)\" d=\"\n",
       "M193.936 1486.45 L2352.76 1486.45 L2352.76 123.472 L193.936 123.472  Z\n",
       "  \" fill=\"#ffffff\" fill-rule=\"evenodd\" fill-opacity=\"1\"/>\n",
       "<defs>\n",
       "  <clipPath id=\"clip482\">\n",
       "    <rect x=\"193\" y=\"123\" width=\"2160\" height=\"1364\"/>\n",
       "  </clipPath>\n",
       "</defs>\n",
       "<polyline clip-path=\"url(#clip482)\" style=\"stroke:#000000; stroke-linecap:butt; stroke-linejoin:round; stroke-width:2; stroke-opacity:0.1; fill:none\" points=\"\n",
       "  193.936,1486.45 193.936,123.472 \n",
       "  \"/>\n",
       "<polyline clip-path=\"url(#clip482)\" style=\"stroke:#000000; stroke-linecap:butt; stroke-linejoin:round; stroke-width:2; stroke-opacity:0.1; fill:none\" points=\"\n",
       "  733.641,1486.45 733.641,123.472 \n",
       "  \"/>\n",
       "<polyline clip-path=\"url(#clip482)\" style=\"stroke:#000000; stroke-linecap:butt; stroke-linejoin:round; stroke-width:2; stroke-opacity:0.1; fill:none\" points=\"\n",
       "  1273.35,1486.45 1273.35,123.472 \n",
       "  \"/>\n",
       "<polyline clip-path=\"url(#clip482)\" style=\"stroke:#000000; stroke-linecap:butt; stroke-linejoin:round; stroke-width:2; stroke-opacity:0.1; fill:none\" points=\"\n",
       "  1813.05,1486.45 1813.05,123.472 \n",
       "  \"/>\n",
       "<polyline clip-path=\"url(#clip482)\" style=\"stroke:#000000; stroke-linecap:butt; stroke-linejoin:round; stroke-width:2; stroke-opacity:0.1; fill:none\" points=\"\n",
       "  2352.76,1486.45 2352.76,123.472 \n",
       "  \"/>\n",
       "<polyline clip-path=\"url(#clip480)\" style=\"stroke:#000000; stroke-linecap:butt; stroke-linejoin:round; stroke-width:4; stroke-opacity:1; fill:none\" points=\"\n",
       "  193.936,1486.45 2352.76,1486.45 \n",
       "  \"/>\n",
       "<polyline clip-path=\"url(#clip480)\" style=\"stroke:#000000; stroke-linecap:butt; stroke-linejoin:round; stroke-width:4; stroke-opacity:1; fill:none\" points=\"\n",
       "  193.936,1486.45 193.936,1467.55 \n",
       "  \"/>\n",
       "<polyline clip-path=\"url(#clip480)\" style=\"stroke:#000000; stroke-linecap:butt; stroke-linejoin:round; stroke-width:4; stroke-opacity:1; fill:none\" points=\"\n",
       "  733.641,1486.45 733.641,1467.55 \n",
       "  \"/>\n",
       "<polyline clip-path=\"url(#clip480)\" style=\"stroke:#000000; stroke-linecap:butt; stroke-linejoin:round; stroke-width:4; stroke-opacity:1; fill:none\" points=\"\n",
       "  1273.35,1486.45 1273.35,1467.55 \n",
       "  \"/>\n",
       "<polyline clip-path=\"url(#clip480)\" style=\"stroke:#000000; stroke-linecap:butt; stroke-linejoin:round; stroke-width:4; stroke-opacity:1; fill:none\" points=\"\n",
       "  1813.05,1486.45 1813.05,1467.55 \n",
       "  \"/>\n",
       "<polyline clip-path=\"url(#clip480)\" style=\"stroke:#000000; stroke-linecap:butt; stroke-linejoin:round; stroke-width:4; stroke-opacity:1; fill:none\" points=\"\n",
       "  2352.76,1486.45 2352.76,1467.55 \n",
       "  \"/>\n",
       "<path clip-path=\"url(#clip480)\" d=\"M193.936 1517.37 Q190.325 1517.37 188.496 1520.93 Q186.691 1524.47 186.691 1531.6 Q186.691 1538.71 188.496 1542.27 Q190.325 1545.82 193.936 1545.82 Q197.57 1545.82 199.376 1542.27 Q201.204 1538.71 201.204 1531.6 Q201.204 1524.47 199.376 1520.93 Q197.57 1517.37 193.936 1517.37 M193.936 1513.66 Q199.746 1513.66 202.802 1518.27 Q205.88 1522.85 205.88 1531.6 Q205.88 1540.33 202.802 1544.94 Q199.746 1549.52 193.936 1549.52 Q188.126 1549.52 185.047 1544.94 Q181.992 1540.33 181.992 1531.6 Q181.992 1522.85 185.047 1518.27 Q188.126 1513.66 193.936 1513.66 Z\" fill=\"#000000\" fill-rule=\"evenodd\" fill-opacity=\"1\" /><path clip-path=\"url(#clip480)\" d=\"M723.919 1514.29 L742.275 1514.29 L742.275 1518.22 L728.201 1518.22 L728.201 1526.7 Q729.22 1526.35 730.238 1526.19 Q731.257 1526 732.275 1526 Q738.062 1526 741.442 1529.17 Q744.821 1532.34 744.821 1537.76 Q744.821 1543.34 741.349 1546.44 Q737.877 1549.52 731.558 1549.52 Q729.382 1549.52 727.113 1549.15 Q724.868 1548.78 722.46 1548.04 L722.46 1543.34 Q724.544 1544.47 726.766 1545.03 Q728.988 1545.58 731.465 1545.58 Q735.47 1545.58 737.808 1543.48 Q740.146 1541.37 740.146 1537.76 Q740.146 1534.15 737.808 1532.04 Q735.47 1529.94 731.465 1529.94 Q729.59 1529.94 727.715 1530.35 Q725.863 1530.77 723.919 1531.65 L723.919 1514.29 Z\" fill=\"#000000\" fill-rule=\"evenodd\" fill-opacity=\"1\" /><path clip-path=\"url(#clip480)\" d=\"M1248.03 1544.91 L1255.67 1544.91 L1255.67 1518.55 L1247.36 1520.21 L1247.36 1515.95 L1255.63 1514.29 L1260.3 1514.29 L1260.3 1544.91 L1267.94 1544.91 L1267.94 1548.85 L1248.03 1548.85 L1248.03 1544.91 Z\" fill=\"#000000\" fill-rule=\"evenodd\" fill-opacity=\"1\" /><path clip-path=\"url(#clip480)\" d=\"M1287.39 1517.37 Q1283.77 1517.37 1281.95 1520.93 Q1280.14 1524.47 1280.14 1531.6 Q1280.14 1538.71 1281.95 1542.27 Q1283.77 1545.82 1287.39 1545.82 Q1291.02 1545.82 1292.83 1542.27 Q1294.65 1538.71 1294.65 1531.6 Q1294.65 1524.47 1292.83 1520.93 Q1291.02 1517.37 1287.39 1517.37 M1287.39 1513.66 Q1293.2 1513.66 1296.25 1518.27 Q1299.33 1522.85 1299.33 1531.6 Q1299.33 1540.33 1296.25 1544.94 Q1293.2 1549.52 1287.39 1549.52 Q1281.58 1549.52 1278.5 1544.94 Q1275.44 1540.33 1275.44 1531.6 Q1275.44 1522.85 1278.5 1518.27 Q1281.58 1513.66 1287.39 1513.66 Z\" fill=\"#000000\" fill-rule=\"evenodd\" fill-opacity=\"1\" /><path clip-path=\"url(#clip480)\" d=\"M1788.24 1544.91 L1795.88 1544.91 L1795.88 1518.55 L1787.56 1520.21 L1787.56 1515.95 L1795.83 1514.29 L1800.5 1514.29 L1800.5 1544.91 L1808.14 1544.91 L1808.14 1548.85 L1788.24 1548.85 L1788.24 1544.91 Z\" fill=\"#000000\" fill-rule=\"evenodd\" fill-opacity=\"1\" /><path clip-path=\"url(#clip480)\" d=\"M1817.63 1514.29 L1835.99 1514.29 L1835.99 1518.22 L1821.92 1518.22 L1821.92 1526.7 Q1822.94 1526.35 1823.95 1526.19 Q1824.97 1526 1825.99 1526 Q1831.78 1526 1835.16 1529.17 Q1838.54 1532.34 1838.54 1537.76 Q1838.54 1543.34 1835.06 1546.44 Q1831.59 1549.52 1825.27 1549.52 Q1823.1 1549.52 1820.83 1549.15 Q1818.58 1548.78 1816.18 1548.04 L1816.18 1543.34 Q1818.26 1544.47 1820.48 1545.03 Q1822.7 1545.58 1825.18 1545.58 Q1829.19 1545.58 1831.52 1543.48 Q1833.86 1541.37 1833.86 1537.76 Q1833.86 1534.15 1831.52 1532.04 Q1829.19 1529.94 1825.18 1529.94 Q1823.31 1529.94 1821.43 1530.35 Q1819.58 1530.77 1817.63 1531.65 L1817.63 1514.29 Z\" fill=\"#000000\" fill-rule=\"evenodd\" fill-opacity=\"1\" /><path clip-path=\"url(#clip480)\" d=\"M2331.53 1544.91 L2347.85 1544.91 L2347.85 1548.85 L2325.9 1548.85 L2325.9 1544.91 Q2328.57 1542.16 2333.15 1537.53 Q2337.76 1532.88 2338.94 1531.53 Q2341.18 1529.01 2342.06 1527.27 Q2342.96 1525.51 2342.96 1523.82 Q2342.96 1521.07 2341.02 1519.33 Q2339.1 1517.6 2336 1517.6 Q2333.8 1517.6 2331.34 1518.36 Q2328.91 1519.13 2326.14 1520.68 L2326.14 1515.95 Q2328.96 1514.82 2331.41 1514.24 Q2333.87 1513.66 2335.9 1513.66 Q2341.27 1513.66 2344.47 1516.35 Q2347.66 1519.03 2347.66 1523.52 Q2347.66 1525.65 2346.85 1527.57 Q2346.07 1529.47 2343.96 1532.07 Q2343.38 1532.74 2340.28 1535.95 Q2337.18 1539.15 2331.53 1544.91 Z\" fill=\"#000000\" fill-rule=\"evenodd\" fill-opacity=\"1\" /><path clip-path=\"url(#clip480)\" d=\"M2367.66 1517.37 Q2364.05 1517.37 2362.22 1520.93 Q2360.42 1524.47 2360.42 1531.6 Q2360.42 1538.71 2362.22 1542.27 Q2364.05 1545.82 2367.66 1545.82 Q2371.3 1545.82 2373.1 1542.27 Q2374.93 1538.71 2374.93 1531.6 Q2374.93 1524.47 2373.1 1520.93 Q2371.3 1517.37 2367.66 1517.37 M2367.66 1513.66 Q2373.47 1513.66 2376.53 1518.27 Q2379.61 1522.85 2379.61 1531.6 Q2379.61 1540.33 2376.53 1544.94 Q2373.47 1549.52 2367.66 1549.52 Q2361.85 1549.52 2358.77 1544.94 Q2355.72 1540.33 2355.72 1531.6 Q2355.72 1522.85 2358.77 1518.27 Q2361.85 1513.66 2367.66 1513.66 Z\" fill=\"#000000\" fill-rule=\"evenodd\" fill-opacity=\"1\" /><polyline clip-path=\"url(#clip482)\" style=\"stroke:#000000; stroke-linecap:butt; stroke-linejoin:round; stroke-width:2; stroke-opacity:0.1; fill:none\" points=\"\n",
       "  193.936,1447.87 2352.76,1447.87 \n",
       "  \"/>\n",
       "<polyline clip-path=\"url(#clip482)\" style=\"stroke:#000000; stroke-linecap:butt; stroke-linejoin:round; stroke-width:2; stroke-opacity:0.1; fill:none\" points=\"\n",
       "  193.936,1126.42 2352.76,1126.42 \n",
       "  \"/>\n",
       "<polyline clip-path=\"url(#clip482)\" style=\"stroke:#000000; stroke-linecap:butt; stroke-linejoin:round; stroke-width:2; stroke-opacity:0.1; fill:none\" points=\"\n",
       "  193.936,804.96 2352.76,804.96 \n",
       "  \"/>\n",
       "<polyline clip-path=\"url(#clip482)\" style=\"stroke:#000000; stroke-linecap:butt; stroke-linejoin:round; stroke-width:2; stroke-opacity:0.1; fill:none\" points=\"\n",
       "  193.936,483.503 2352.76,483.503 \n",
       "  \"/>\n",
       "<polyline clip-path=\"url(#clip482)\" style=\"stroke:#000000; stroke-linecap:butt; stroke-linejoin:round; stroke-width:2; stroke-opacity:0.1; fill:none\" points=\"\n",
       "  193.936,162.047 2352.76,162.047 \n",
       "  \"/>\n",
       "<polyline clip-path=\"url(#clip480)\" style=\"stroke:#000000; stroke-linecap:butt; stroke-linejoin:round; stroke-width:4; stroke-opacity:1; fill:none\" points=\"\n",
       "  193.936,1486.45 193.936,123.472 \n",
       "  \"/>\n",
       "<polyline clip-path=\"url(#clip480)\" style=\"stroke:#000000; stroke-linecap:butt; stroke-linejoin:round; stroke-width:4; stroke-opacity:1; fill:none\" points=\"\n",
       "  193.936,1447.87 212.834,1447.87 \n",
       "  \"/>\n",
       "<polyline clip-path=\"url(#clip480)\" style=\"stroke:#000000; stroke-linecap:butt; stroke-linejoin:round; stroke-width:4; stroke-opacity:1; fill:none\" points=\"\n",
       "  193.936,1126.42 212.834,1126.42 \n",
       "  \"/>\n",
       "<polyline clip-path=\"url(#clip480)\" style=\"stroke:#000000; stroke-linecap:butt; stroke-linejoin:round; stroke-width:4; stroke-opacity:1; fill:none\" points=\"\n",
       "  193.936,804.96 212.834,804.96 \n",
       "  \"/>\n",
       "<polyline clip-path=\"url(#clip480)\" style=\"stroke:#000000; stroke-linecap:butt; stroke-linejoin:round; stroke-width:4; stroke-opacity:1; fill:none\" points=\"\n",
       "  193.936,483.503 212.834,483.503 \n",
       "  \"/>\n",
       "<polyline clip-path=\"url(#clip480)\" style=\"stroke:#000000; stroke-linecap:butt; stroke-linejoin:round; stroke-width:4; stroke-opacity:1; fill:none\" points=\"\n",
       "  193.936,162.047 212.834,162.047 \n",
       "  \"/>\n",
       "<path clip-path=\"url(#clip480)\" d=\"M50.9921 1448.32 L80.6679 1448.32 L80.6679 1452.26 L50.9921 1452.26 L50.9921 1448.32 Z\" fill=\"#000000\" fill-rule=\"evenodd\" fill-opacity=\"1\" /><path clip-path=\"url(#clip480)\" d=\"M91.5706 1461.22 L99.2095 1461.22 L99.2095 1434.85 L90.8993 1436.52 L90.8993 1432.26 L99.1632 1430.59 L103.839 1430.59 L103.839 1461.22 L111.478 1461.22 L111.478 1465.15 L91.5706 1465.15 L91.5706 1461.22 Z\" fill=\"#000000\" fill-rule=\"evenodd\" fill-opacity=\"1\" /><path clip-path=\"url(#clip480)\" d=\"M120.922 1459.27 L125.807 1459.27 L125.807 1465.15 L120.922 1465.15 L120.922 1459.27 Z\" fill=\"#000000\" fill-rule=\"evenodd\" fill-opacity=\"1\" /><path clip-path=\"url(#clip480)\" d=\"M145.992 1433.67 Q142.381 1433.67 140.552 1437.24 Q138.746 1440.78 138.746 1447.91 Q138.746 1455.01 140.552 1458.58 Q142.381 1462.12 145.992 1462.12 Q149.626 1462.12 151.431 1458.58 Q153.26 1455.01 153.26 1447.91 Q153.26 1440.78 151.431 1437.24 Q149.626 1433.67 145.992 1433.67 M145.992 1429.97 Q151.802 1429.97 154.857 1434.57 Q157.936 1439.16 157.936 1447.91 Q157.936 1456.63 154.857 1461.24 Q151.802 1465.82 145.992 1465.82 Q140.181 1465.82 137.103 1461.24 Q134.047 1456.63 134.047 1447.91 Q134.047 1439.16 137.103 1434.57 Q140.181 1429.97 145.992 1429.97 Z\" fill=\"#000000\" fill-rule=\"evenodd\" fill-opacity=\"1\" /><path clip-path=\"url(#clip480)\" d=\"M51.9875 1126.87 L81.6633 1126.87 L81.6633 1130.8 L51.9875 1130.8 L51.9875 1126.87 Z\" fill=\"#000000\" fill-rule=\"evenodd\" fill-opacity=\"1\" /><path clip-path=\"url(#clip480)\" d=\"M101.756 1112.22 Q98.1447 1112.22 96.316 1115.78 Q94.5104 1119.32 94.5104 1126.45 Q94.5104 1133.56 96.316 1137.12 Q98.1447 1140.66 101.756 1140.66 Q105.39 1140.66 107.196 1137.12 Q109.024 1133.56 109.024 1126.45 Q109.024 1119.32 107.196 1115.78 Q105.39 1112.22 101.756 1112.22 M101.756 1108.51 Q107.566 1108.51 110.621 1113.12 Q113.7 1117.7 113.7 1126.45 Q113.7 1135.18 110.621 1139.78 Q107.566 1144.37 101.756 1144.37 Q95.9456 1144.37 92.8669 1139.78 Q89.8114 1135.18 89.8114 1126.45 Q89.8114 1117.7 92.8669 1113.12 Q95.9456 1108.51 101.756 1108.51 Z\" fill=\"#000000\" fill-rule=\"evenodd\" fill-opacity=\"1\" /><path clip-path=\"url(#clip480)\" d=\"M121.918 1137.82 L126.802 1137.82 L126.802 1143.7 L121.918 1143.7 L121.918 1137.82 Z\" fill=\"#000000\" fill-rule=\"evenodd\" fill-opacity=\"1\" /><path clip-path=\"url(#clip480)\" d=\"M137.033 1109.14 L155.39 1109.14 L155.39 1113.07 L141.316 1113.07 L141.316 1121.54 Q142.334 1121.2 143.353 1121.03 Q144.371 1120.85 145.39 1120.85 Q151.177 1120.85 154.556 1124.02 Q157.936 1127.19 157.936 1132.61 Q157.936 1138.19 154.464 1141.29 Q150.992 1144.37 144.672 1144.37 Q142.496 1144.37 140.228 1144 Q137.982 1143.63 135.575 1142.89 L135.575 1138.19 Q137.658 1139.32 139.881 1139.88 Q142.103 1140.43 144.58 1140.43 Q148.584 1140.43 150.922 1138.33 Q153.26 1136.22 153.26 1132.61 Q153.26 1129 150.922 1126.89 Q148.584 1124.78 144.58 1124.78 Q142.705 1124.78 140.83 1125.2 Q138.978 1125.62 137.033 1126.5 L137.033 1109.14 Z\" fill=\"#000000\" fill-rule=\"evenodd\" fill-opacity=\"1\" /><path clip-path=\"url(#clip480)\" d=\"M100.76 790.759 Q97.1493 790.759 95.3206 794.323 Q93.515 797.865 93.515 804.995 Q93.515 812.101 95.3206 815.666 Q97.1493 819.208 100.76 819.208 Q104.395 819.208 106.2 815.666 Q108.029 812.101 108.029 804.995 Q108.029 797.865 106.2 794.323 Q104.395 790.759 100.76 790.759 M100.76 787.055 Q106.571 787.055 109.626 791.661 Q112.705 796.245 112.705 804.995 Q112.705 813.722 109.626 818.328 Q106.571 822.911 100.76 822.911 Q94.9502 822.911 91.8715 818.328 Q88.816 813.722 88.816 804.995 Q88.816 796.245 91.8715 791.661 Q94.9502 787.055 100.76 787.055 Z\" fill=\"#000000\" fill-rule=\"evenodd\" fill-opacity=\"1\" /><path clip-path=\"url(#clip480)\" d=\"M120.922 816.36 L125.807 816.36 L125.807 822.24 L120.922 822.24 L120.922 816.36 Z\" fill=\"#000000\" fill-rule=\"evenodd\" fill-opacity=\"1\" /><path clip-path=\"url(#clip480)\" d=\"M145.992 790.759 Q142.381 790.759 140.552 794.323 Q138.746 797.865 138.746 804.995 Q138.746 812.101 140.552 815.666 Q142.381 819.208 145.992 819.208 Q149.626 819.208 151.431 815.666 Q153.26 812.101 153.26 804.995 Q153.26 797.865 151.431 794.323 Q149.626 790.759 145.992 790.759 M145.992 787.055 Q151.802 787.055 154.857 791.661 Q157.936 796.245 157.936 804.995 Q157.936 813.722 154.857 818.328 Q151.802 822.911 145.992 822.911 Q140.181 822.911 137.103 818.328 Q134.047 813.722 134.047 804.995 Q134.047 796.245 137.103 791.661 Q140.181 787.055 145.992 787.055 Z\" fill=\"#000000\" fill-rule=\"evenodd\" fill-opacity=\"1\" /><path clip-path=\"url(#clip480)\" d=\"M101.756 469.302 Q98.1447 469.302 96.316 472.867 Q94.5104 476.409 94.5104 483.538 Q94.5104 490.645 96.316 494.209 Q98.1447 497.751 101.756 497.751 Q105.39 497.751 107.196 494.209 Q109.024 490.645 109.024 483.538 Q109.024 476.409 107.196 472.867 Q105.39 469.302 101.756 469.302 M101.756 465.598 Q107.566 465.598 110.621 470.205 Q113.7 474.788 113.7 483.538 Q113.7 492.265 110.621 496.871 Q107.566 501.455 101.756 501.455 Q95.9456 501.455 92.8669 496.871 Q89.8114 492.265 89.8114 483.538 Q89.8114 474.788 92.8669 470.205 Q95.9456 465.598 101.756 465.598 Z\" fill=\"#000000\" fill-rule=\"evenodd\" fill-opacity=\"1\" /><path clip-path=\"url(#clip480)\" d=\"M121.918 494.904 L126.802 494.904 L126.802 500.783 L121.918 500.783 L121.918 494.904 Z\" fill=\"#000000\" fill-rule=\"evenodd\" fill-opacity=\"1\" /><path clip-path=\"url(#clip480)\" d=\"M137.033 466.223 L155.39 466.223 L155.39 470.159 L141.316 470.159 L141.316 478.631 Q142.334 478.284 143.353 478.122 Q144.371 477.936 145.39 477.936 Q151.177 477.936 154.556 481.108 Q157.936 484.279 157.936 489.696 Q157.936 495.274 154.464 498.376 Q150.992 501.455 144.672 501.455 Q142.496 501.455 140.228 501.084 Q137.982 500.714 135.575 499.973 L135.575 495.274 Q137.658 496.408 139.881 496.964 Q142.103 497.52 144.58 497.52 Q148.584 497.52 150.922 495.413 Q153.26 493.307 153.26 489.696 Q153.26 486.084 150.922 483.978 Q148.584 481.872 144.58 481.872 Q142.705 481.872 140.83 482.288 Q138.978 482.705 137.033 483.584 L137.033 466.223 Z\" fill=\"#000000\" fill-rule=\"evenodd\" fill-opacity=\"1\" /><path clip-path=\"url(#clip480)\" d=\"M91.5706 175.392 L99.2095 175.392 L99.2095 149.026 L90.8993 150.693 L90.8993 146.434 L99.1632 144.767 L103.839 144.767 L103.839 175.392 L111.478 175.392 L111.478 179.327 L91.5706 179.327 L91.5706 175.392 Z\" fill=\"#000000\" fill-rule=\"evenodd\" fill-opacity=\"1\" /><path clip-path=\"url(#clip480)\" d=\"M120.922 173.447 L125.807 173.447 L125.807 179.327 L120.922 179.327 L120.922 173.447 Z\" fill=\"#000000\" fill-rule=\"evenodd\" fill-opacity=\"1\" /><path clip-path=\"url(#clip480)\" d=\"M145.992 147.846 Q142.381 147.846 140.552 151.41 Q138.746 154.952 138.746 162.082 Q138.746 169.188 140.552 172.753 Q142.381 176.295 145.992 176.295 Q149.626 176.295 151.431 172.753 Q153.26 169.188 153.26 162.082 Q153.26 154.952 151.431 151.41 Q149.626 147.846 145.992 147.846 M145.992 144.142 Q151.802 144.142 154.857 148.748 Q157.936 153.332 157.936 162.082 Q157.936 170.808 154.857 175.415 Q151.802 179.998 145.992 179.998 Q140.181 179.998 137.103 175.415 Q134.047 170.808 134.047 162.082 Q134.047 153.332 137.103 148.748 Q140.181 144.142 145.992 144.142 Z\" fill=\"#000000\" fill-rule=\"evenodd\" fill-opacity=\"1\" /><path clip-path=\"url(#clip480)\" d=\"M1089.54 28.9478 L1089.54 35.9153 Q1086.38 34.1734 1083.18 33.3227 Q1080.02 32.4315 1076.78 32.4315 Q1069.52 32.4315 1065.51 37.0496 Q1061.5 41.6271 1061.5 49.9314 Q1061.5 58.2358 1065.51 62.8538 Q1069.52 67.4314 1076.78 67.4314 Q1080.02 67.4314 1083.18 66.5807 Q1086.38 65.6895 1089.54 63.9476 L1089.54 70.8341 Q1086.42 72.2924 1083.05 73.0216 Q1079.73 73.7508 1075.97 73.7508 Q1065.72 73.7508 1059.68 67.3098 Q1053.65 60.8689 1053.65 49.9314 Q1053.65 38.832 1059.72 32.472 Q1065.84 26.1121 1076.45 26.1121 Q1079.9 26.1121 1083.18 26.8413 Q1086.46 27.5299 1089.54 28.9478 Z\" fill=\"#000000\" fill-rule=\"evenodd\" fill-opacity=\"1\" /><path clip-path=\"url(#clip480)\" d=\"M1120.08 32.4315 Q1114.08 32.4315 1110.6 37.1306 Q1107.12 41.7891 1107.12 49.9314 Q1107.12 58.0738 1110.56 62.7728 Q1114.04 67.4314 1120.08 67.4314 Q1126.03 67.4314 1129.52 62.7323 Q1133 58.0333 1133 49.9314 Q1133 41.8701 1129.52 37.1711 Q1126.03 32.4315 1120.08 32.4315 M1120.08 26.1121 Q1129.8 26.1121 1135.35 32.4315 Q1140.9 38.7509 1140.9 49.9314 Q1140.9 61.0714 1135.35 67.4314 Q1129.8 73.7508 1120.08 73.7508 Q1110.32 73.7508 1104.77 67.4314 Q1099.26 61.0714 1099.26 49.9314 Q1099.26 38.7509 1104.77 32.4315 Q1110.32 26.1121 1120.08 26.1121 Z\" fill=\"#000000\" fill-rule=\"evenodd\" fill-opacity=\"1\" /><path clip-path=\"url(#clip480)\" d=\"M1190.97 45.1919 L1190.97 72.576 L1183.52 72.576 L1183.52 45.4349 Q1183.52 38.994 1181.01 35.7938 Q1178.49 32.5936 1173.47 32.5936 Q1167.44 32.5936 1163.95 36.4419 Q1160.47 40.2903 1160.47 46.9338 L1160.47 72.576 L1152.97 72.576 L1152.97 27.2059 L1160.47 27.2059 L1160.47 34.2544 Q1163.14 30.163 1166.75 28.1376 Q1170.39 26.1121 1175.13 26.1121 Q1182.95 26.1121 1186.96 30.9732 Q1190.97 35.7938 1190.97 45.1919 Z\" fill=\"#000000\" fill-rule=\"evenodd\" fill-opacity=\"1\" /><path clip-path=\"url(#clip480)\" d=\"M1238.49 28.9478 L1238.49 35.9153 Q1235.33 34.1734 1232.13 33.3227 Q1228.97 32.4315 1225.73 32.4315 Q1218.48 32.4315 1214.47 37.0496 Q1210.46 41.6271 1210.46 49.9314 Q1210.46 58.2358 1214.47 62.8538 Q1218.48 67.4314 1225.73 67.4314 Q1228.97 67.4314 1232.13 66.5807 Q1235.33 65.6895 1238.49 63.9476 L1238.49 70.8341 Q1235.37 72.2924 1232.01 73.0216 Q1228.68 73.7508 1224.92 73.7508 Q1214.67 73.7508 1208.63 67.3098 Q1202.6 60.8689 1202.6 49.9314 Q1202.6 38.832 1208.67 32.472 Q1214.79 26.1121 1225.4 26.1121 Q1228.85 26.1121 1232.13 26.8413 Q1235.41 27.5299 1238.49 28.9478 Z\" fill=\"#000000\" fill-rule=\"evenodd\" fill-opacity=\"1\" /><path clip-path=\"url(#clip480)\" d=\"M1251.45 27.2059 L1258.9 27.2059 L1258.9 72.576 L1251.45 72.576 L1251.45 27.2059 M1251.45 9.54393 L1258.9 9.54393 L1258.9 18.9825 L1251.45 18.9825 L1251.45 9.54393 Z\" fill=\"#000000\" fill-rule=\"evenodd\" fill-opacity=\"1\" /><path clip-path=\"url(#clip480)\" d=\"M1313.31 48.0275 L1313.31 51.6733 L1279.04 51.6733 Q1279.52 59.3701 1283.66 63.421 Q1287.83 67.4314 1295.24 67.4314 Q1299.54 67.4314 1303.55 66.3781 Q1307.6 65.3249 1311.57 63.2184 L1311.57 70.267 Q1307.56 71.9684 1303.34 72.8596 Q1299.13 73.7508 1294.8 73.7508 Q1283.94 73.7508 1277.58 67.4314 Q1271.26 61.1119 1271.26 50.3365 Q1271.26 39.1965 1277.26 32.6746 Q1283.29 26.1121 1293.5 26.1121 Q1302.65 26.1121 1307.96 32.0264 Q1313.31 37.9003 1313.31 48.0275 M1305.85 45.84 Q1305.77 39.7232 1302.41 36.0774 Q1299.09 32.4315 1293.58 32.4315 Q1287.34 32.4315 1283.57 35.9558 Q1279.85 39.4801 1279.28 45.8805 L1305.85 45.84 Z\" fill=\"#000000\" fill-rule=\"evenodd\" fill-opacity=\"1\" /><path clip-path=\"url(#clip480)\" d=\"M1363.26 45.1919 L1363.26 72.576 L1355.8 72.576 L1355.8 45.4349 Q1355.8 38.994 1353.29 35.7938 Q1350.78 32.5936 1345.76 32.5936 Q1339.72 32.5936 1336.24 36.4419 Q1332.75 40.2903 1332.75 46.9338 L1332.75 72.576 L1325.26 72.576 L1325.26 27.2059 L1332.75 27.2059 L1332.75 34.2544 Q1335.43 30.163 1339.03 28.1376 Q1342.68 26.1121 1347.42 26.1121 Q1355.23 26.1121 1359.25 30.9732 Q1363.26 35.7938 1363.26 45.1919 Z\" fill=\"#000000\" fill-rule=\"evenodd\" fill-opacity=\"1\" /><path clip-path=\"url(#clip480)\" d=\"M1385.5 14.324 L1385.5 27.2059 L1400.85 27.2059 L1400.85 32.9987 L1385.5 32.9987 L1385.5 57.6282 Q1385.5 63.1779 1386.99 64.7578 Q1388.53 66.3376 1393.19 66.3376 L1400.85 66.3376 L1400.85 72.576 L1393.19 72.576 Q1384.56 72.576 1381.28 69.3758 Q1378 66.1351 1378 57.6282 L1378 32.9987 L1372.53 32.9987 L1372.53 27.2059 L1378 27.2059 L1378 14.324 L1385.5 14.324 Z\" fill=\"#000000\" fill-rule=\"evenodd\" fill-opacity=\"1\" /><path clip-path=\"url(#clip480)\" d=\"M1449.46 48.0275 L1449.46 51.6733 L1415.19 51.6733 Q1415.67 59.3701 1419.81 63.421 Q1423.98 67.4314 1431.39 67.4314 Q1435.69 67.4314 1439.7 66.3781 Q1443.75 65.3249 1447.72 63.2184 L1447.72 70.267 Q1443.71 71.9684 1439.49 72.8596 Q1435.28 73.7508 1430.95 73.7508 Q1420.09 73.7508 1413.73 67.4314 Q1407.41 61.1119 1407.41 50.3365 Q1407.41 39.1965 1413.41 32.6746 Q1419.44 26.1121 1429.65 26.1121 Q1438.81 26.1121 1444.11 32.0264 Q1449.46 37.9003 1449.46 48.0275 M1442.01 45.84 Q1441.92 39.7232 1438.56 36.0774 Q1435.24 32.4315 1429.73 32.4315 Q1423.49 32.4315 1419.73 35.9558 Q1416 39.4801 1415.43 45.8805 L1442.01 45.84 Z\" fill=\"#000000\" fill-rule=\"evenodd\" fill-opacity=\"1\" /><path clip-path=\"url(#clip480)\" d=\"M1490.62 28.5427 L1490.62 35.5912 Q1487.46 33.9709 1484.05 33.1607 Q1480.65 32.3505 1477.01 32.3505 Q1471.46 32.3505 1468.66 34.0519 Q1465.91 35.7533 1465.91 39.156 Q1465.91 41.7486 1467.89 43.2475 Q1469.88 44.7058 1475.87 46.0426 L1478.42 46.6097 Q1486.36 48.3111 1489.68 51.4303 Q1493.05 54.509 1493.05 60.0587 Q1493.05 66.3781 1488.02 70.0644 Q1483.04 73.7508 1474.29 73.7508 Q1470.65 73.7508 1466.68 73.0216 Q1462.75 72.3329 1458.37 70.9151 L1458.37 63.2184 Q1462.5 65.3654 1466.51 66.4591 Q1470.52 67.5124 1474.45 67.5124 Q1479.72 67.5124 1482.55 65.73 Q1485.39 63.9071 1485.39 60.6258 Q1485.39 57.5877 1483.32 55.9673 Q1481.3 54.3469 1474.37 52.8481 L1471.78 52.2405 Q1464.85 50.7821 1461.77 47.7845 Q1458.7 44.7463 1458.7 39.4801 Q1458.7 33.0797 1463.23 29.5959 Q1467.77 26.1121 1476.11 26.1121 Q1480.25 26.1121 1483.89 26.7198 Q1487.54 27.3274 1490.62 28.5427 Z\" fill=\"#000000\" fill-rule=\"evenodd\" fill-opacity=\"1\" /><polyline clip-path=\"url(#clip482)\" style=\"stroke:#009af9; stroke-linecap:butt; stroke-linejoin:round; stroke-width:4; stroke-opacity:1; fill:none\" points=\"\n",
       "  193.936,804.96 196.571,828.477 199.207,851.826 201.842,874.844 204.477,897.376 207.113,919.276 209.748,940.415 211.066,950.662 212.383,960.676 213.701,970.448 \n",
       "  215.019,979.965 218.065,1000.94 221.111,1020.43 224.156,1038.37 227.202,1054.72 230.248,1069.5 233.294,1082.73 236.34,1094.45 239.386,1104.73 242.432,1113.62 \n",
       "  245.478,1121.23 248.524,1127.62 251.57,1132.89 257.662,1140.44 263.754,1144.57 269.845,1145.91 275.937,1145.04 282.029,1142.44 288.121,1138.52 300.305,1127.96 \n",
       "  312.488,1115.34 336.856,1088.32 361.223,1062.48 373.407,1050.55 385.591,1039.35 391.683,1034.04 397.774,1028.9 400.82,1026.4 403.866,1023.94 406.912,1021.53 \n",
       "  409.958,1021.73 411.789,1027.27 413.619,1029.41 415.45,1030.67 417.28,1031.46 420.941,1032.18 424.602,1032.21 431.924,1031.08 439.246,1029.03 453.89,1023.52 \n",
       "  468.533,1017.15 497.821,1003.87 527.109,991.073 576.633,971.759 626.158,955.459 679.956,940.684 733.753,928.367 783.35,918.745 832.946,910.459 886.119,902.778 \n",
       "  939.292,896.112 1000.9,889.418 1062.5,883.624 1172,875.049 1268.02,868.918 1372.7,863.338 1478.01,858.622 1594.44,854.217 1705.23,850.645 1820.41,847.439 \n",
       "  1917.38,845.068 2035.76,842.509 2147.04,840.383 2325.32,837.436 2352.76,837.025 \n",
       "  \"/>\n",
       "<polyline clip-path=\"url(#clip482)\" style=\"stroke:#e26f46; stroke-linecap:butt; stroke-linejoin:round; stroke-width:4; stroke-opacity:1; fill:none\" points=\"\n",
       "  193.936,804.96 196.571,828.477 199.207,851.826 201.842,874.844 204.477,897.376 207.113,919.276 209.748,940.415 211.066,950.662 212.383,960.676 213.701,970.448 \n",
       "  215.019,979.965 218.065,1000.94 221.111,1020.43 224.156,1038.37 227.202,1054.72 230.248,1069.5 233.294,1082.73 236.34,1094.45 239.386,1104.73 242.432,1113.62 \n",
       "  245.478,1121.23 248.524,1127.62 251.57,1132.89 257.662,1140.44 263.754,1144.57 269.845,1145.91 275.937,1145.04 282.029,1142.44 288.121,1138.52 300.305,1127.96 \n",
       "  312.488,1115.34 336.856,1088.32 361.223,1062.48 373.407,1050.55 385.591,1039.35 391.683,1034.04 397.774,1028.9 400.82,1026.4 403.866,1023.94 406.912,1021.53 \n",
       "  409.958,1016.58 410.873,1011.44 411.789,1008.23 412.704,1005.61 413.619,1003.31 415.45,999.302 417.28,995.798 420.941,989.722 424.602,984.454 431.924,975.441 \n",
       "  439.246,967.781 453.89,955.06 468.533,944.662 497.821,928.274 527.109,915.703 551.871,907.066 576.633,899.759 601.396,893.479 626.158,888.014 679.956,878.26 \n",
       "  733.753,870.607 783.35,864.87 832.946,860.07 939.292,852.017 1062.5,845.225 1172,840.657 1268.02,837.431 1372.7,834.521 1478.01,832.079 1594.44,829.81 \n",
       "  1705.23,827.978 1820.41,826.341 1917.38,825.133 2035.76,823.832 2147.04,822.753 2325.32,821.261 2352.76,821.053 \n",
       "  \"/>\n",
       "<polyline clip-path=\"url(#clip482)\" style=\"stroke:#3da44d; stroke-linecap:butt; stroke-linejoin:round; stroke-width:4; stroke-opacity:1; fill:none\" stroke-dasharray=\"16, 10\" points=\"\n",
       "  193.936,1447.87 196.571,1447.06 199.207,1444.63 201.842,1440.62 204.477,1435.09 207.113,1428.1 209.748,1419.76 212.383,1410.17 215.019,1399.44 227.202,1338.79 \n",
       "  239.386,1268.94 251.57,1199.55 263.754,1136.18 269.845,1107.54 275.937,1081.03 282.029,1056.64 288.121,1034.28 300.305,995.112 312.488,962.407 324.672,935.012 \n",
       "  336.856,911.889 349.04,892.139 361.223,874.979 373.407,859.687 385.591,845.468 391.683,838.404 397.774,830.996 400.82,826.965 403.866,822.464 405.389,819.894 \n",
       "  406.912,816.925 408.435,813.125 409.958,804.96 417.28,804.96 424.602,804.96 431.924,804.96 439.246,804.96 453.89,804.96 468.533,804.96 497.821,804.96 \n",
       "  527.109,804.96 576.633,804.96 626.158,804.96 733.753,804.96 832.946,804.96 939.292,804.96 1062.5,804.96 1172,804.96 1268.02,804.96 1372.7,804.96 \n",
       "  1478.01,804.96 1594.44,804.96 1705.23,804.96 1820.41,804.96 1917.38,804.96 2035.76,804.96 2147.04,804.96 2325.32,804.96 2352.76,804.96 \n",
       "  \"/>\n",
       "<polyline clip-path=\"url(#clip482)\" style=\"stroke:#c271d2; stroke-linecap:butt; stroke-linejoin:round; stroke-width:4; stroke-opacity:1; fill:none\" stroke-dasharray=\"16, 10\" points=\"\n",
       "  193.936,162.047 196.571,162.86 199.207,165.289 201.842,169.298 204.477,174.833 207.113,181.817 209.748,190.159 212.383,199.752 215.019,210.477 227.202,271.133 \n",
       "  239.386,340.979 251.57,410.369 263.754,473.739 269.845,502.385 275.937,528.888 282.029,553.278 288.121,575.644 300.305,614.808 312.488,647.513 324.672,674.908 \n",
       "  336.856,698.031 349.04,717.781 361.223,734.941 373.407,750.233 385.591,764.452 391.683,771.516 397.774,778.924 400.82,782.955 403.866,787.456 405.389,790.026 \n",
       "  406.912,792.995 408.435,796.795 409.958,804.96 417.28,804.96 424.602,804.96 431.924,804.96 439.246,804.96 453.89,804.96 468.533,804.96 497.821,804.96 \n",
       "  527.109,804.96 576.633,804.96 626.158,804.96 733.753,804.96 832.946,804.96 939.292,804.96 1062.5,804.96 1172,804.96 1268.02,804.96 1372.7,804.96 \n",
       "  1478.01,804.96 1594.44,804.96 1705.23,804.96 1820.41,804.96 1917.38,804.96 2035.76,804.96 2147.04,804.96 2325.32,804.96 2352.76,804.96 \n",
       "  \"/>\n",
       "<polyline clip-path=\"url(#clip482)\" style=\"stroke:#ac8d18; stroke-linecap:butt; stroke-linejoin:round; stroke-width:4; stroke-opacity:1; fill:none\" points=\"\n",
       "  193.936,804.96 196.571,816.729 199.207,828.477 201.842,840.182 204.477,851.826 207.113,863.386 209.748,874.844 212.383,886.18 215.019,897.376 227.202,946.827 \n",
       "  239.386,991.458 245.478,1011.64 251.57,1030.3 257.662,1047.38 263.754,1062.89 269.845,1076.83 275.937,1089.24 282.029,1100.17 288.121,1109.69 294.213,1117.88 \n",
       "  300.305,1124.82 306.397,1130.6 312.488,1135.3 324.672,1141.86 336.856,1145.18 349.04,1145.87 361.223,1144.49 385.591,1137.28 409.958,1126.35 439.246,1110.85 \n",
       "  468.533,1094.55 497.821,1078.49 527.109,1063.19 551.871,1051.03 576.633,1039.63 589.014,1034.21 601.396,1028.99 607.586,1026.45 613.777,1023.95 619.967,1021.5 \n",
       "  626.158,1022.37 632.883,1029.23 639.607,1031.28 646.332,1032.09 653.057,1032.26 666.506,1031.45 679.956,1029.74 706.854,1024.94 733.753,1019.24 783.35,1008.02 \n",
       "  832.946,996.935 939.292,975.415 1062.5,954.841 1172,939.934 1268.02,928.951 1372.7,918.75 1478.01,909.99 1594.44,901.706 1705.23,894.923 1820.41,888.79 \n",
       "  1917.38,884.229 2035.76,879.281 2147.04,875.155 2325.32,869.411 2352.76,868.608 \n",
       "  \"/>\n",
       "<polyline clip-path=\"url(#clip482)\" style=\"stroke:#00a9ad; stroke-linecap:butt; stroke-linejoin:round; stroke-width:4; stroke-opacity:1; fill:none\" points=\"\n",
       "  193.936,804.96 196.571,816.729 199.207,828.477 201.842,840.182 204.477,851.826 207.113,863.386 209.748,874.844 212.383,886.18 215.019,897.376 227.202,946.827 \n",
       "  239.386,991.458 245.478,1011.64 251.57,1030.3 257.662,1047.38 263.754,1062.89 269.845,1076.83 275.937,1089.24 282.029,1100.17 288.121,1109.69 294.213,1117.88 \n",
       "  300.305,1124.82 306.397,1130.6 312.488,1135.3 324.672,1141.86 336.856,1145.18 349.04,1145.87 361.223,1144.49 385.591,1137.28 409.958,1126.35 439.246,1110.85 \n",
       "  468.533,1094.55 497.821,1078.49 527.109,1063.19 551.871,1051.03 576.633,1039.63 589.014,1034.21 601.396,1028.99 607.586,1026.45 613.777,1023.95 619.967,1021.5 \n",
       "  626.158,1015.8 629.52,1008.42 632.883,1003.82 636.245,1000.04 639.607,996.732 646.332,990.979 653.057,985.978 666.506,977.394 679.956,970.072 706.854,957.846 \n",
       "  733.753,947.791 783.35,932.911 832.946,921.197 886.119,911.008 939.292,902.577 1000.9,894.428 1062.5,887.591 1172,877.783 1268.02,870.962 1372.7,864.873 \n",
       "  1478.01,859.802 1594.44,855.122 1705.23,851.362 1820.41,848.013 1917.38,845.55 2035.76,842.903 2147.04,840.713 2325.32,837.689 2352.76,837.269 \n",
       "  \"/>\n",
       "<polyline clip-path=\"url(#clip482)\" style=\"stroke:#ed5d92; stroke-linecap:butt; stroke-linejoin:round; stroke-width:4; stroke-opacity:1; fill:none\" stroke-dasharray=\"16, 10\" points=\"\n",
       "  193.936,1447.87 196.571,1447.67 199.207,1447.06 201.842,1446.05 204.477,1444.63 207.113,1442.82 209.748,1440.62 212.383,1438.04 215.019,1435.09 227.202,1416.9 \n",
       "  239.386,1392.24 251.57,1362.63 263.754,1329.65 288.121,1259.4 312.488,1190.58 336.856,1128.25 361.223,1074.25 385.591,1028.58 409.958,990.352 424.602,970.487 \n",
       "  439.246,952.644 453.89,936.585 468.533,922.087 497.821,896.984 527.109,875.909 551.871,860.291 576.633,845.82 589.014,838.648 601.396,831.135 607.586,827.047 \n",
       "  613.777,822.48 616.872,819.868 619.967,816.841 621.515,815.055 623.063,812.93 624.61,810.055 626.158,804.96 639.607,804.96 653.057,804.96 666.506,804.96 \n",
       "  679.956,804.96 706.854,804.96 733.753,804.96 783.35,804.96 832.946,804.96 939.292,804.96 1062.5,804.96 1172,804.96 1268.02,804.96 1372.7,804.96 \n",
       "  1478.01,804.96 1594.44,804.96 1705.23,804.96 1820.41,804.96 1917.38,804.96 2035.76,804.96 2147.04,804.96 2325.32,804.96 2352.76,804.96 \n",
       "  \"/>\n",
       "<polyline clip-path=\"url(#clip482)\" style=\"stroke:#c68125; stroke-linecap:butt; stroke-linejoin:round; stroke-width:4; stroke-opacity:1; fill:none\" stroke-dasharray=\"16, 10\" points=\"\n",
       "  193.936,162.047 196.571,162.25 199.207,162.86 201.842,163.874 204.477,165.289 207.113,167.099 209.748,169.298 212.383,171.879 215.019,174.833 227.202,193.019 \n",
       "  239.386,217.68 251.57,247.293 263.754,280.265 288.121,350.524 312.488,419.34 336.856,481.672 361.223,535.669 385.591,581.343 409.958,619.568 424.602,639.433 \n",
       "  439.246,657.276 453.89,673.335 468.533,687.833 497.821,712.936 527.109,734.011 551.871,749.629 576.633,764.1 589.014,771.272 601.396,778.785 607.586,782.873 \n",
       "  613.777,787.44 616.872,790.052 619.967,793.079 621.515,794.865 623.063,796.99 624.61,799.865 626.158,804.96 639.607,804.96 653.057,804.96 666.506,804.96 \n",
       "  679.956,804.96 706.854,804.96 733.753,804.96 783.35,804.96 832.946,804.96 939.292,804.96 1062.5,804.96 1172,804.96 1268.02,804.96 1372.7,804.96 \n",
       "  1478.01,804.96 1594.44,804.96 1705.23,804.96 1820.41,804.96 1917.38,804.96 2035.76,804.96 2147.04,804.96 2325.32,804.96 2352.76,804.96 \n",
       "  \"/>\n",
       "<path clip-path=\"url(#clip480)\" d=\"\n",
       "M1986.65 635.465 L2280.8 635.465 L2280.8 168.905 L1986.65 168.905  Z\n",
       "  \" fill=\"#ffffff\" fill-rule=\"evenodd\" fill-opacity=\"1\"/>\n",
       "<polyline clip-path=\"url(#clip480)\" style=\"stroke:#000000; stroke-linecap:butt; stroke-linejoin:round; stroke-width:4; stroke-opacity:1; fill:none\" points=\"\n",
       "  1986.65,635.465 2280.8,635.465 2280.8,168.905 1986.65,168.905 1986.65,635.465 \n",
       "  \"/>\n",
       "<polyline clip-path=\"url(#clip480)\" style=\"stroke:#009af9; stroke-linecap:butt; stroke-linejoin:round; stroke-width:4; stroke-opacity:1; fill:none\" points=\"\n",
       "  2010.65,220.745 2154.65,220.745 \n",
       "  \"/>\n",
       "<path clip-path=\"url(#clip480)\" d=\"M2192.49 240.432 Q2190.69 245.062 2188.98 246.474 Q2187.26 247.886 2184.39 247.886 L2180.99 247.886 L2180.99 244.321 L2183.49 244.321 Q2185.25 244.321 2186.22 243.488 Q2187.19 242.654 2188.37 239.552 L2189.14 237.608 L2178.65 212.099 L2183.17 212.099 L2191.27 232.377 L2199.37 212.099 L2203.88 212.099 L2192.49 240.432 Z\" fill=\"#000000\" fill-rule=\"evenodd\" fill-opacity=\"1\" /><path clip-path=\"url(#clip480)\" d=\"M2211.17 234.089 L2218.81 234.089 L2218.81 207.724 L2210.5 209.391 L2210.5 205.131 L2218.77 203.465 L2223.44 203.465 L2223.44 234.089 L2231.08 234.089 L2231.08 238.025 L2211.17 238.025 L2211.17 234.089 Z\" fill=\"#000000\" fill-rule=\"evenodd\" fill-opacity=\"1\" /><polyline clip-path=\"url(#clip480)\" style=\"stroke:#e26f46; stroke-linecap:butt; stroke-linejoin:round; stroke-width:4; stroke-opacity:1; fill:none\" points=\"\n",
       "  2010.65,272.585 2154.65,272.585 \n",
       "  \"/>\n",
       "<path clip-path=\"url(#clip480)\" d=\"M2192.49 292.272 Q2190.69 296.902 2188.98 298.314 Q2187.26 299.726 2184.39 299.726 L2180.99 299.726 L2180.99 296.161 L2183.49 296.161 Q2185.25 296.161 2186.22 295.328 Q2187.19 294.494 2188.37 291.392 L2189.14 289.448 L2178.65 263.939 L2183.17 263.939 L2191.27 284.217 L2199.37 263.939 L2203.88 263.939 L2192.49 292.272 Z\" fill=\"#000000\" fill-rule=\"evenodd\" fill-opacity=\"1\" /><path clip-path=\"url(#clip480)\" d=\"M2214.39 285.929 L2230.71 285.929 L2230.71 289.865 L2208.77 289.865 L2208.77 285.929 Q2211.43 283.175 2216.01 278.545 Q2220.62 273.893 2221.8 272.55 Q2224.05 270.027 2224.92 268.291 Q2225.83 266.531 2225.83 264.842 Q2225.83 262.087 2223.88 260.351 Q2221.96 258.615 2218.86 258.615 Q2216.66 258.615 2214.21 259.379 Q2211.78 260.143 2209 261.694 L2209 256.971 Q2211.82 255.837 2214.28 255.258 Q2216.73 254.68 2218.77 254.68 Q2224.14 254.68 2227.33 257.365 Q2230.53 260.05 2230.53 264.541 Q2230.53 266.67 2229.72 268.592 Q2228.93 270.49 2226.82 273.082 Q2226.24 273.754 2223.14 276.971 Q2220.04 280.166 2214.39 285.929 Z\" fill=\"#000000\" fill-rule=\"evenodd\" fill-opacity=\"1\" /><polyline clip-path=\"url(#clip480)\" style=\"stroke:#3da44d; stroke-linecap:butt; stroke-linejoin:round; stroke-width:4; stroke-opacity:1; fill:none\" stroke-dasharray=\"16, 10\" points=\"\n",
       "  2010.65,324.425 2154.65,324.425 \n",
       "  \"/>\n",
       "<path clip-path=\"url(#clip480)\" d=\"M2192.49 344.112 Q2190.69 348.742 2188.98 350.154 Q2187.26 351.566 2184.39 351.566 L2180.99 351.566 L2180.99 348.001 L2183.49 348.001 Q2185.25 348.001 2186.22 347.168 Q2187.19 346.334 2188.37 343.232 L2189.14 341.288 L2178.65 315.779 L2183.17 315.779 L2191.27 336.057 L2199.37 315.779 L2203.88 315.779 L2192.49 344.112 Z\" fill=\"#000000\" fill-rule=\"evenodd\" fill-opacity=\"1\" /><path clip-path=\"url(#clip480)\" d=\"M2224.53 323.07 Q2227.89 323.788 2229.76 326.057 Q2231.66 328.325 2231.66 331.658 Q2231.66 336.774 2228.14 339.575 Q2224.62 342.376 2218.14 342.376 Q2215.97 342.376 2213.65 341.936 Q2211.36 341.519 2208.91 340.663 L2208.91 336.149 Q2210.85 337.283 2213.17 337.862 Q2215.48 338.441 2218 338.441 Q2222.4 338.441 2224.69 336.705 Q2227.01 334.969 2227.01 331.658 Q2227.01 328.603 2224.86 326.89 Q2222.73 325.154 2218.91 325.154 L2214.88 325.154 L2214.88 321.311 L2219.09 321.311 Q2222.54 321.311 2224.37 319.946 Q2226.2 318.557 2226.2 315.964 Q2226.2 313.302 2224.3 311.89 Q2222.42 310.455 2218.91 310.455 Q2216.99 310.455 2214.79 310.871 Q2212.59 311.288 2209.95 312.168 L2209.95 308.001 Q2212.61 307.26 2214.92 306.89 Q2217.26 306.52 2219.32 306.52 Q2224.65 306.52 2227.75 308.95 Q2230.85 311.358 2230.85 315.478 Q2230.85 318.348 2229.21 320.339 Q2227.56 322.307 2224.53 323.07 Z\" fill=\"#000000\" fill-rule=\"evenodd\" fill-opacity=\"1\" /><polyline clip-path=\"url(#clip480)\" style=\"stroke:#c271d2; stroke-linecap:butt; stroke-linejoin:round; stroke-width:4; stroke-opacity:1; fill:none\" stroke-dasharray=\"16, 10\" points=\"\n",
       "  2010.65,376.265 2154.65,376.265 \n",
       "  \"/>\n",
       "<path clip-path=\"url(#clip480)\" d=\"M2192.49 395.952 Q2190.69 400.582 2188.98 401.994 Q2187.26 403.406 2184.39 403.406 L2180.99 403.406 L2180.99 399.841 L2183.49 399.841 Q2185.25 399.841 2186.22 399.008 Q2187.19 398.174 2188.37 395.072 L2189.14 393.128 L2178.65 367.619 L2183.17 367.619 L2191.27 387.897 L2199.37 367.619 L2203.88 367.619 L2192.49 395.952 Z\" fill=\"#000000\" fill-rule=\"evenodd\" fill-opacity=\"1\" /><path clip-path=\"url(#clip480)\" d=\"M2223.21 363.059 L2211.41 381.508 L2223.21 381.508 L2223.21 363.059 M2221.99 358.985 L2227.86 358.985 L2227.86 381.508 L2232.8 381.508 L2232.8 385.397 L2227.86 385.397 L2227.86 393.545 L2223.21 393.545 L2223.21 385.397 L2207.61 385.397 L2207.61 380.883 L2221.99 358.985 Z\" fill=\"#000000\" fill-rule=\"evenodd\" fill-opacity=\"1\" /><polyline clip-path=\"url(#clip480)\" style=\"stroke:#ac8d18; stroke-linecap:butt; stroke-linejoin:round; stroke-width:4; stroke-opacity:1; fill:none\" points=\"\n",
       "  2010.65,428.105 2154.65,428.105 \n",
       "  \"/>\n",
       "<path clip-path=\"url(#clip480)\" d=\"M2192.49 447.792 Q2190.69 452.422 2188.98 453.834 Q2187.26 455.246 2184.39 455.246 L2180.99 455.246 L2180.99 451.681 L2183.49 451.681 Q2185.25 451.681 2186.22 450.848 Q2187.19 450.014 2188.37 446.912 L2189.14 444.968 L2178.65 419.459 L2183.17 419.459 L2191.27 439.737 L2199.37 419.459 L2203.88 419.459 L2192.49 447.792 Z\" fill=\"#000000\" fill-rule=\"evenodd\" fill-opacity=\"1\" /><path clip-path=\"url(#clip480)\" d=\"M2210.41 410.825 L2228.77 410.825 L2228.77 414.76 L2214.69 414.76 L2214.69 423.232 Q2215.71 422.885 2216.73 422.723 Q2217.75 422.538 2218.77 422.538 Q2224.55 422.538 2227.93 425.709 Q2231.31 428.88 2231.31 434.297 Q2231.31 439.875 2227.84 442.977 Q2224.37 446.056 2218.05 446.056 Q2215.87 446.056 2213.61 445.686 Q2211.36 445.315 2208.95 444.574 L2208.95 439.875 Q2211.04 441.01 2213.26 441.565 Q2215.48 442.121 2217.96 442.121 Q2221.96 442.121 2224.3 440.014 Q2226.64 437.908 2226.64 434.297 Q2226.64 430.686 2224.3 428.579 Q2221.96 426.473 2217.96 426.473 Q2216.08 426.473 2214.21 426.889 Q2212.36 427.306 2210.41 428.186 L2210.41 410.825 Z\" fill=\"#000000\" fill-rule=\"evenodd\" fill-opacity=\"1\" /><polyline clip-path=\"url(#clip480)\" style=\"stroke:#00a9ad; stroke-linecap:butt; stroke-linejoin:round; stroke-width:4; stroke-opacity:1; fill:none\" points=\"\n",
       "  2010.65,479.945 2154.65,479.945 \n",
       "  \"/>\n",
       "<path clip-path=\"url(#clip480)\" d=\"M2192.49 499.632 Q2190.69 504.262 2188.98 505.674 Q2187.26 507.086 2184.39 507.086 L2180.99 507.086 L2180.99 503.521 L2183.49 503.521 Q2185.25 503.521 2186.22 502.688 Q2187.19 501.854 2188.37 498.752 L2189.14 496.808 L2178.65 471.299 L2183.17 471.299 L2191.27 491.577 L2199.37 471.299 L2203.88 471.299 L2192.49 499.632 Z\" fill=\"#000000\" fill-rule=\"evenodd\" fill-opacity=\"1\" /><path clip-path=\"url(#clip480)\" d=\"M2220.94 478.081 Q2217.8 478.081 2215.94 480.234 Q2214.11 482.387 2214.11 486.137 Q2214.11 489.864 2215.94 492.039 Q2217.8 494.192 2220.94 494.192 Q2224.09 494.192 2225.92 492.039 Q2227.77 489.864 2227.77 486.137 Q2227.77 482.387 2225.92 480.234 Q2224.09 478.081 2220.94 478.081 M2230.23 463.429 L2230.23 467.688 Q2228.47 466.854 2226.66 466.415 Q2224.88 465.975 2223.12 465.975 Q2218.49 465.975 2216.04 469.1 Q2213.61 472.225 2213.26 478.544 Q2214.62 476.53 2216.68 475.466 Q2218.74 474.378 2221.22 474.378 Q2226.43 474.378 2229.44 477.549 Q2232.47 480.697 2232.47 486.137 Q2232.47 491.461 2229.32 494.678 Q2226.17 497.896 2220.94 497.896 Q2214.95 497.896 2211.78 493.313 Q2208.61 488.706 2208.61 479.979 Q2208.61 471.785 2212.49 466.924 Q2216.38 462.04 2222.93 462.04 Q2224.69 462.04 2226.48 462.387 Q2228.28 462.734 2230.23 463.429 Z\" fill=\"#000000\" fill-rule=\"evenodd\" fill-opacity=\"1\" /><polyline clip-path=\"url(#clip480)\" style=\"stroke:#ed5d92; stroke-linecap:butt; stroke-linejoin:round; stroke-width:4; stroke-opacity:1; fill:none\" stroke-dasharray=\"16, 10\" points=\"\n",
       "  2010.65,531.785 2154.65,531.785 \n",
       "  \"/>\n",
       "<path clip-path=\"url(#clip480)\" d=\"M2192.49 551.472 Q2190.69 556.102 2188.98 557.514 Q2187.26 558.926 2184.39 558.926 L2180.99 558.926 L2180.99 555.361 L2183.49 555.361 Q2185.25 555.361 2186.22 554.528 Q2187.19 553.694 2188.37 550.592 L2189.14 548.648 L2178.65 523.139 L2183.17 523.139 L2191.27 543.417 L2199.37 523.139 L2203.88 523.139 L2192.49 551.472 Z\" fill=\"#000000\" fill-rule=\"evenodd\" fill-opacity=\"1\" /><path clip-path=\"url(#clip480)\" d=\"M2209.18 514.505 L2231.41 514.505 L2231.41 516.495 L2218.86 549.065 L2213.98 549.065 L2225.78 518.44 L2209.18 518.44 L2209.18 514.505 Z\" fill=\"#000000\" fill-rule=\"evenodd\" fill-opacity=\"1\" /><polyline clip-path=\"url(#clip480)\" style=\"stroke:#c68125; stroke-linecap:butt; stroke-linejoin:round; stroke-width:4; stroke-opacity:1; fill:none\" stroke-dasharray=\"16, 10\" points=\"\n",
       "  2010.65,583.625 2154.65,583.625 \n",
       "  \"/>\n",
       "<path clip-path=\"url(#clip480)\" d=\"M2192.49 603.312 Q2190.69 607.942 2188.98 609.354 Q2187.26 610.766 2184.39 610.766 L2180.99 610.766 L2180.99 607.201 L2183.49 607.201 Q2185.25 607.201 2186.22 606.368 Q2187.19 605.534 2188.37 602.432 L2189.14 600.488 L2178.65 574.979 L2183.17 574.979 L2191.27 595.257 L2199.37 574.979 L2203.88 574.979 L2192.49 603.312 Z\" fill=\"#000000\" fill-rule=\"evenodd\" fill-opacity=\"1\" /><path clip-path=\"url(#clip480)\" d=\"M2220.36 584.493 Q2217.03 584.493 2215.11 586.275 Q2213.21 588.057 2213.21 591.182 Q2213.21 594.307 2215.11 596.09 Q2217.03 597.872 2220.36 597.872 Q2223.7 597.872 2225.62 596.09 Q2227.54 594.284 2227.54 591.182 Q2227.54 588.057 2225.62 586.275 Q2223.72 584.493 2220.36 584.493 M2215.69 582.502 Q2212.68 581.761 2210.99 579.701 Q2209.32 577.641 2209.32 574.678 Q2209.32 570.534 2212.26 568.127 Q2215.23 565.72 2220.36 565.72 Q2225.53 565.72 2228.47 568.127 Q2231.41 570.534 2231.41 574.678 Q2231.41 577.641 2229.72 579.701 Q2228.05 581.761 2225.06 582.502 Q2228.44 583.289 2230.32 585.581 Q2232.22 587.872 2232.22 591.182 Q2232.22 596.206 2229.14 598.891 Q2226.08 601.576 2220.36 601.576 Q2214.65 601.576 2211.57 598.891 Q2208.51 596.206 2208.51 591.182 Q2208.51 587.872 2210.41 585.581 Q2212.31 583.289 2215.69 582.502 M2213.98 575.118 Q2213.98 577.803 2215.64 579.308 Q2217.33 580.812 2220.36 580.812 Q2223.37 580.812 2225.06 579.308 Q2226.78 577.803 2226.78 575.118 Q2226.78 572.433 2225.06 570.928 Q2223.37 569.423 2220.36 569.423 Q2217.33 569.423 2215.64 570.928 Q2213.98 572.433 2213.98 575.118 Z\" fill=\"#000000\" fill-rule=\"evenodd\" fill-opacity=\"1\" /></svg>\n"
      ]
     },
     "execution_count": 126,
     "metadata": {},
     "output_type": "execute_result"
    }
   ],
   "source": [
    "plot(title=\"concientes\")\n",
    "a = [1;2;1]\n",
    "k = 1\n",
    "ζ = 1\n",
    "κ = 1\n",
    "for k in 0.5:0.5:1\n",
    "plot!(ζ -> imag((k*a[2])/(im*ζ - Sp(k,κ,a,ζ) - k*a[3])), xlim=(0,20))\n",
    "plot!(ζ -> imag((k*a[2])/(im*ζ - Sm(k,κ,a,ζ) - k*a[3])), xlim=(0,20))\n",
    "plot!(ζ -> real((k*a[2])/(im*ζ - Sp(k,κ,a,ζ) - k*a[3])), xlim=(0,20), ls=:dash)\n",
    "plot!(ζ -> real((k*a[2])/(im*ζ - Sm(k,κ,a,ζ) - k*a[3])), xlim=(0,20), ls=:dash)\n",
    "end\n",
    "plot!(lw=1)"
   ]
  },
  {
   "cell_type": "code",
   "execution_count": null,
   "id": "73799c28-d9ff-411f-a77d-3110c82f44b7",
   "metadata": {},
   "outputs": [],
   "source": []
  }
 ],
 "metadata": {
  "kernelspec": {
   "display_name": "Julia 1.7.2",
   "language": "julia",
   "name": "julia-1.7"
  },
  "language_info": {
   "file_extension": ".jl",
   "mimetype": "application/julia",
   "name": "julia",
   "version": "1.7.2"
  }
 },
 "nbformat": 4,
 "nbformat_minor": 5
}
