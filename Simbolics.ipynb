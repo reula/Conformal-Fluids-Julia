{
 "cells": [
  {
   "cell_type": "code",
   "execution_count": 2,
   "id": "ac6b5b92-5328-498d-ab22-0b262d16a04b",
   "metadata": {},
   "outputs": [],
   "source": [
    "using Symbolics\n",
    "using LinearAlgebra\n",
    "using Latexify\n",
    "using Plots"
   ]
  },
  {
   "cell_type": "code",
   "execution_count": 8,
   "id": "21a7c9d7-f1ed-48d5-ac63-c8f4338f7aa4",
   "metadata": {},
   "outputs": [
    {
     "data": {
      "text/plain": [
       "4×4 Diagonal{Float64, Vector{Float64}}:\n",
       " -1.0   ⋅    ⋅    ⋅ \n",
       "   ⋅   1.0   ⋅    ⋅ \n",
       "   ⋅    ⋅   1.0   ⋅ \n",
       "   ⋅    ⋅    ⋅   1.0"
      ]
     },
     "execution_count": 8,
     "metadata": {},
     "output_type": "execute_result"
    }
   ],
   "source": [
    "D = 4 #dimensions\n",
    "ζ_v = Vector{Float64}(undef,D)\n",
    "ζ_t = Array{Float64}(undef,D,D)\n",
    "g = Diagonal([-1.0, 1, 1, 1])"
   ]
  },
  {
   "cell_type": "code",
   "execution_count": 10,
   "id": "3a47d60e-7586-4948-9b1a-8ccb6265d0d8",
   "metadata": {},
   "outputs": [
    {
     "name": "stdout",
     "output_type": "stream",
     "text": [
      "158.0\n",
      "312.0\n"
     ]
    },
    {
     "data": {
      "text/plain": [
       "0.0"
      ]
     },
     "execution_count": 10,
     "metadata": {},
     "output_type": "execute_result"
    }
   ],
   "source": [
    "ζ_t = [-1 2 3 4;\n",
    "        0 1 5 6;\n",
    "        0 0 1 8;\n",
    "        0 0 0 -1]\n",
    "ζ_s = UpperTriangular(ζ_t)\n",
    "ζ_s\n",
    "println(tr(ζ_s'*g'*g*ζ_s))\n",
    "ζ_h = Hermitian(ζ_s)\n",
    "println(tr(ζ_h'*g'*g*ζ_h))\n",
    "ζ_v'*g*ζ_v"
   ]
  },
  {
   "cell_type": "code",
   "execution_count": 39,
   "id": "f8666e49-b8d0-43d6-9063-4115eea7b2ad",
   "metadata": {},
   "outputs": [
    {
     "data": {
      "text/plain": [
       "Φ (generic function with 1 method)"
      ]
     },
     "execution_count": 39,
     "metadata": {},
     "output_type": "execute_result"
    }
   ],
   "source": [
    "function Φ(ζ_v, ζ_s, p)\n",
    "    χ₀,χ₁,χ₂ = p\n",
    "    ζ_h = Hermitian(ζ_s)\n",
    "    μ = ζ_v'*g*ζ_v\n",
    "    ν = (g*ζ_v)'*ζ_s*(g*ζ_v)\n",
    "    τ = tr(ζ_s*g'*ζ_s*g)\n",
    "    return χ₀*ζ_v'*g*ζ_v + χ₁*ν + χ₂*ν*τ\n",
    "end"
   ]
  },
  {
   "cell_type": "code",
   "execution_count": 46,
   "id": "05d1aa0e-76e4-48e7-b1fc-17d68b1c1eea",
   "metadata": {},
   "outputs": [
    {
     "data": {
      "text/plain": [
       "4×4 Hermitian{Int64, UpperTriangular{Int64, Matrix{Int64}}}:\n",
       " 0  1   0  0\n",
       " 1  1   0  0\n",
       " 0  0  -1  0\n",
       " 0  0   0  0"
      ]
     },
     "execution_count": 46,
     "metadata": {},
     "output_type": "execute_result"
    }
   ],
   "source": [
    "ζ_v = [-1,0.1,0,0]\n",
    "ζ_t = [0 1 0 0;\n",
    "       0 1 0 0;\n",
    "       0 0 -1 0;\n",
    "       0 0 0 0]\n",
    "ζ_s = UpperTriangular(ζ_t)\n",
    "ζ_h = Hermitian(ζ_s)"
   ]
  },
  {
   "cell_type": "code",
   "execution_count": 45,
   "id": "daf0b517-b9d1-41b9-915a-dcaf091052ab",
   "metadata": {},
   "outputs": [
    {
     "data": {
      "text/plain": [
       "-0.99"
      ]
     },
     "execution_count": 45,
     "metadata": {},
     "output_type": "execute_result"
    }
   ],
   "source": [
    "Φ(ζ_v, ζ_s, [1.,0.,0.])"
   ]
  },
  {
   "cell_type": "code",
   "execution_count": 50,
   "id": "17bd1646-5179-4051-847b-8ff1c376e414",
   "metadata": {},
   "outputs": [
    {
     "data": {
      "text/plain": [
       "3-element Vector{Vector{Num}}:\n",
       " [zv₁, zv₂, zv₃, zv₄]\n",
       " [zs₁, zs₂, zs₃, zs₄, zs₅, zs₆, zs₇, zs₈, zs₉, zs₁₀]\n",
       " [pv₁, pv₂, pv₃]"
      ]
     },
     "execution_count": 50,
     "metadata": {},
     "output_type": "execute_result"
    }
   ],
   "source": [
    "@variables zv[1:D], zs[1:D*(D+1)÷2], pv[1:3]"
   ]
  },
  {
   "cell_type": "code",
   "execution_count": 11,
   "id": "3011ba54-d7d9-48cd-a244-f6bc42a38930",
   "metadata": {},
   "outputs": [
    {
     "ename": "LoadError",
     "evalue": "UndefVarError: Φ not defined",
     "output_type": "error",
     "traceback": [
      "UndefVarError: Φ not defined",
      "",
      "Stacktrace:",
      " [1] top-level scope",
      "   @ In[11]:1",
      " [2] eval",
      "   @ ./boot.jl:360 [inlined]",
      " [3] include_string(mapexpr::typeof(REPL.softscope), mod::Module, code::String, filename::String)",
      "   @ Base ./loading.jl:1094"
     ]
    }
   ],
   "source": [
    "JΦ_v = Symbolics.jacobian(Φ(zv, zs, pv),zv);\n",
    "JΦ_v_exp = Symbolics.build_function(JΦ_v,,zv, zs,pv);\n",
    "JΦ_v = eval(JΦ_v_exp[1]);"
   ]
  },
  {
   "cell_type": "code",
   "execution_count": 72,
   "id": "b6638ae2-5134-43fc-bec6-6415089a420a",
   "metadata": {},
   "outputs": [
    {
     "data": {
      "text/plain": [
       "3×3 Matrix{Float64}:\n",
       " 1.0  2.0  3.0\n",
       " 2.0  4.0  5.0\n",
       " 3.0  5.0  6.0"
      ]
     },
     "execution_count": 72,
     "metadata": {},
     "output_type": "execute_result"
    }
   ],
   "source": [
    "function vector2symmat!(v,sm)\n",
    "    M = length(sm[1,:]) # N = M*(M+1)/2 \n",
    "    N = length(v)\n",
    "    if M*(M+1)÷2 != N\n",
    "        error(\"Dimension missmatch, M = $M, N= $N\")\n",
    "    end\n",
    "    L = 1\n",
    "    for i in 1:M\n",
    "        for j in i:M\n",
    "            sm[i,j] = v[L]\n",
    "            sm[j,i] = sm[i,j]\n",
    "            L=L+1\n",
    "        end\n",
    "    end\n",
    "end\n",
    "\n",
    "v = [1;2;3;4;5;6]\n",
    "sm = zeros(3,3)\n",
    "\n",
    "vector2symmat!(v,sm)\n",
    "\n",
    "sm"
   ]
  },
  {
   "cell_type": "code",
   "execution_count": null,
   "id": "c694b32b-285a-432f-8eee-5acc04e34181",
   "metadata": {},
   "outputs": [],
   "source": []
  },
  {
   "cell_type": "code",
   "execution_count": null,
   "id": "c3b8e568-952f-48d6-b0b2-645041cf8d4f",
   "metadata": {},
   "outputs": [],
   "source": []
  }
 ],
 "metadata": {
  "kernelspec": {
   "display_name": "Julia 1.6.1",
   "language": "julia",
   "name": "julia-1.6"
  },
  "language_info": {
   "file_extension": ".jl",
   "mimetype": "application/julia",
   "name": "julia",
   "version": "1.6.1"
  }
 },
 "nbformat": 4,
 "nbformat_minor": 5
}
