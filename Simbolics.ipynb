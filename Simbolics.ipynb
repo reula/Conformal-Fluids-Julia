{
 "cells": [
  {
   "cell_type": "markdown",
   "id": "5dee7b7d",
   "metadata": {},
   "source": [
    "### Symbolic treatment of the fluid equations\n",
    "\n",
    "In this notebook we obtain the equations, and all relevant quantities starting from the generating function and in arbitrary dimensions. \n",
    "We spacialize for the conformal case, but this is not needed. \n",
    "\n",
    "We use a flat, constant metric, but it is not difficult to add an arbitrary metric latter on, even curvature."
   ]
  },
  {
   "cell_type": "code",
   "execution_count": 193,
   "id": "ac6b5b92-5328-498d-ab22-0b262d16a04b",
   "metadata": {},
   "outputs": [],
   "source": [
    "using Symbolics\n",
    "using LinearAlgebra\n",
    "using Latexify\n",
    "using Plots"
   ]
  },
  {
   "cell_type": "code",
   "execution_count": 321,
   "id": "b27abcb2-313a-47a0-b1ef-528d2ff130e5",
   "metadata": {},
   "outputs": [
    {
     "data": {
      "text/plain": [
       "Φ (generic function with 1 method)"
      ]
     },
     "execution_count": 321,
     "metadata": {},
     "output_type": "execute_result"
    }
   ],
   "source": [
    "include(\"symbolics_ext.jl\")"
   ]
  },
  {
   "cell_type": "markdown",
   "id": "6eb3e1f1",
   "metadata": {},
   "source": [
    "The variables are going to be a vector-tensor $\\zeta_A = (\\zeta_a, \\zeta_{ab})$ with the tensor part being symmetric and (latter) trace free. We are going to use both representations, either a big vector or a pair vector-tensor.\n",
    "With functions going from one to the other.\n",
    "\n",
    "We first define some tensors and take a symmetrize them using the upper triangular part as the relevant tensor part, contrary to take the average of the components"
   ]
  },
  {
   "cell_type": "code",
   "execution_count": 313,
   "id": "21a7c9d7-f1ed-48d5-ac63-c8f4338f7aa4",
   "metadata": {},
   "outputs": [
    {
     "data": {
      "text/plain": [
       "3×3 Matrix{Float64}:\n",
       " -1.0  0.0  0.0\n",
       "  0.0  1.0  0.0\n",
       "  0.0  0.0  1.0"
      ]
     },
     "execution_count": 313,
     "metadata": {},
     "output_type": "execute_result"
    }
   ],
   "source": [
    "#D = Int64(4) #dimensions\n",
    "D = Int64(3) #dimensions\n",
    "L = (D+(D*(D+1)÷2))\n",
    "ζ = Vector{Float64}(undef,L)\n",
    "ζ_v = Vector{Float64}(undef,D)\n",
    "ζ_t = Array{Float64}(undef,D,D)\n",
    "g = make_g(D)"
   ]
  },
  {
   "cell_type": "code",
   "execution_count": 276,
   "id": "b6638ae2-5134-43fc-bec6-6415089a420a",
   "metadata": {},
   "outputs": [
    {
     "data": {
      "text/plain": [
       "3×3 Matrix{Float64}:\n",
       " 1.0  2.0  3.0\n",
       " 2.0  4.0  5.0\n",
       " 3.0  5.0  6.0"
      ]
     },
     "execution_count": 276,
     "metadata": {},
     "output_type": "execute_result"
    }
   ],
   "source": [
    "v = [1;2;3;4;5;6]\n",
    "sm = zeros(3,3)\n",
    "\n",
    "vector2symmat!(v,sm)\n",
    "sm"
   ]
  },
  {
   "cell_type": "code",
   "execution_count": 277,
   "id": "c694b32b-285a-432f-8eee-5acc04e34181",
   "metadata": {},
   "outputs": [
    {
     "data": {
      "text/plain": [
       "6-element Vector{Float64}:\n",
       " 1.0\n",
       " 2.0\n",
       " 3.0\n",
       " 4.0\n",
       " 5.0\n",
       " 6.0"
      ]
     },
     "execution_count": 277,
     "metadata": {},
     "output_type": "execute_result"
    }
   ],
   "source": [
    "symmat2vector(sm)"
   ]
  },
  {
   "cell_type": "code",
   "execution_count": 316,
   "id": "cdbba61d-65d3-4265-9314-4f939d1f3398",
   "metadata": {},
   "outputs": [
    {
     "data": {
      "text/plain": [
       "([0.7799807495362714, 0.04580715901973642, 0.0028145169300755057], [0.6008546598955622 0.14354170003542155 0.8109571654286736; 0.14354170003542155 0.04708094995034284 0.2566104124783206; 0.8109571654286736 0.2566104124783206 0.5936211996546081])"
      ]
     },
     "execution_count": 316,
     "metadata": {},
     "output_type": "execute_result"
    }
   ],
   "source": [
    "vector_unpack(rand(L))"
   ]
  },
  {
   "cell_type": "code",
   "execution_count": 279,
   "id": "4fd4cf2c-8dc5-429f-bfe1-bfdff6afa7bb",
   "metadata": {},
   "outputs": [
    {
     "data": {
      "text/plain": [
       "([1, 2, 3, 4], [5.0 6.0 7.0 8.0; 6.0 9.0 10.0 11.0; 7.0 10.0 12.0 13.0; 8.0 11.0 13.0 14.0])"
      ]
     },
     "execution_count": 279,
     "metadata": {},
     "output_type": "execute_result"
    }
   ],
   "source": [
    "v = [1;2;3;4;5;6;7;8;9;10;11;12;13;14]\n",
    "vector_unpack(v)"
   ]
  },
  {
   "cell_type": "code",
   "execution_count": 299,
   "id": "3a47d60e-7586-4948-9b1a-8ccb6265d0d8",
   "metadata": {},
   "outputs": [
    {
     "name": "stdout",
     "output_type": "stream",
     "text": [
      "3.1247489703116673\n"
     ]
    },
    {
     "data": {
      "text/plain": [
       "-5.551115123125783e-17"
      ]
     },
     "execution_count": 299,
     "metadata": {},
     "output_type": "execute_result"
    }
   ],
   "source": [
    "ζ_t = rand(D,D)\n",
    "println(tr(ζ_t'*g'*g*ζ_t))\n",
    "\n",
    "\n",
    "\n",
    "ζ_v = rand(D)\n",
    "#ζ_v = [0.; 0.; 0.; 0.]\n",
    "\n",
    "my_symmetrization!(ζ_t)\n",
    "\n",
    "Tr = tr(g*ζ_t)\n",
    "ζ_t = ζ_t - Tr*g/D\n",
    "\n",
    "latexify(ζ_t)\n",
    "\n",
    "tr(g*ζ_t)"
   ]
  },
  {
   "cell_type": "markdown",
   "id": "3d3610e3-8f14-4c45-9f77-c9be1ae8d229",
   "metadata": {},
   "source": [
    "Likewise we define functions which take either a long vector or the pair vector-tensor"
   ]
  },
  {
   "cell_type": "code",
   "execution_count": 281,
   "id": "f8666e49-b8d0-43d6-9063-4115eea7b2ad",
   "metadata": {},
   "outputs": [
    {
     "data": {
      "text/plain": [
       "0.6214398204617124"
      ]
     },
     "execution_count": 281,
     "metadata": {},
     "output_type": "execute_result"
    }
   ],
   "source": [
    "function Φ_vt(ζ_v, ζ_s, p)\n",
    "    D = length(ζ_v)\n",
    "    g = make_g(D)\n",
    "    #println(g)\n",
    "    χ₀ = p[1]\n",
    "    χ₁ = p[2]\n",
    "    χ₂ = p[3]\n",
    "    #ζ_s = my_symmetrization!(Symbolics.scalarize(ζ_t))\n",
    "    μ = Symbolics.scalarize(ζ_v)'*g*Symbolics.scalarize(ζ_v)\n",
    "    ν = (g*Symbolics.scalarize(ζ_v))'*Symbolics.scalarize(ζ_s)*Symbolics.scalarize(g*ζ_v)\n",
    "    l = Symbolics.scalarize(ζ_s)*Symbolics.scalarize(g*ζ_v)\n",
    "    𝚶 = l'* g * l\n",
    "    τ₂= tr(Symbolics.scalarize(ζ_s)*g'*Symbolics.scalarize(ζ_s)*g)\n",
    "    D1 = D//2+1\n",
    "    D2 = D//2+2\n",
    "    return χ₀*μ^(1-D//2) + χ₁*ν*μ^(-D1) + χ₂*(τ₂ - 4*D1*𝚶*μ^(-1) + 2*D1*D2*ν^2*μ^(-2))*μ^(-D1) \n",
    "    # the function seems to be correct: tr(g*T)=0 and also A is fully symmetric after symmetrization \n",
    "    # on first two indices\n",
    "    #return 𝚶\n",
    "end\n",
    "\n",
    "function Φ_v(ζ,p)\n",
    "    ζ_v, ζ_t = vector_unpack(ζ)\n",
    "    #ζ_t = vector2symmat(ζ[D+1:end])\n",
    "    #return Φ_vt(ζ[1:D], ζ_t, p)\n",
    "    return Φ_vt(ζ_v, ζ_t, p)\n",
    "end\n",
    "\n",
    "ζ_v,ζ_t = vector_unpack(v)\n",
    "Φ_vt(ζ_v,ζ_t, [1.,1.,1.])#, ζ_t, [1.;1;1])\n",
    "Φ_v(v, [1.,1.,1.])\n",
    "#ζ_v\n",
    "#ζ_t"
   ]
  },
  {
   "cell_type": "code",
   "execution_count": 282,
   "id": "17bd1646-5179-4051-847b-8ff1c376e414",
   "metadata": {},
   "outputs": [],
   "source": [
    "@variables zv[1:D], zs[1:D,1:D], pv[1:3]\n",
    "\n",
    "Φ_vt(zv, zs, pv);"
   ]
  },
  {
   "cell_type": "code",
   "execution_count": 283,
   "id": "1698cffb-fa77-4cb8-888a-06d130f496bb",
   "metadata": {},
   "outputs": [],
   "source": [
    "zvt = [zv[i] for i ∈ 1:D]\n",
    "zst = vec([zs[i,j] for i ∈ 1:D, j ∈ 1:D])\n",
    "JΦ_v = Symbolics.gradient(Φ_vt(zv, zs, pv), zvt);\n",
    "JΦ_s = (reshape(Symbolics.gradient(Φ_vt(zv, zs, pv), zst), (D,D)) + reshape(Symbolics.gradient(Φ_vt(zv, zs, pv), zst), (D,D))')/2 ;"
   ]
  },
  {
   "cell_type": "code",
   "execution_count": 284,
   "id": "463e7761-1b33-4617-a188-25ae9c58bed2",
   "metadata": {},
   "outputs": [
    {
     "data": {
      "text/latex": [
       "\\begin{equation}\n",
       "\\left[\n",
       "\\begin{array}{c}\n",
       "0.024056261216234404 pv{_1} + 0.0573006777581139 pv{_2} + 0.44991507929335484 pv{_3} \\\\\n",
       " - 0.04811252243246881 pv{_1} - 0.1707326316874414 pv{_2} - 2.967721964755377 pv{_3} \\\\\n",
       " - 0.07216878364870322 pv{_1} - 0.31223022370237574 pv{_2} - 6.425922626349708 pv{_3} \\\\\n",
       "\\end{array}\n",
       "\\right]\n",
       "\\end{equation}\n"
      ],
      "text/plain": [
       "3-element Vector{Num}:\n",
       "  0.024056261216234404pv[1] + 0.0573006777581139pv[2] + 0.44991507929335484pv[3]\n",
       " -0.04811252243246881pv[1] - 0.1707326316874414pv[2] - 2.967721964755377pv[3]\n",
       " -0.07216878364870322pv[1] - 0.31223022370237574pv[2] - 6.425922626349708pv[3]"
      ]
     },
     "execution_count": 284,
     "metadata": {},
     "output_type": "execute_result"
    }
   ],
   "source": [
    "JΦ_v_exp = Symbolics.build_function(JΦ_v,zv, zs, pv);\n",
    "JΦ_ve = eval(JΦ_v_exp[1]);\n",
    "JΦ_ve(ζ_v,ζ_t, pv)"
   ]
  },
  {
   "cell_type": "code",
   "execution_count": 285,
   "id": "e20d6c24-69a8-4e82-872f-010bce0ca23a",
   "metadata": {},
   "outputs": [],
   "source": [
    "JΦ_s_exp = Symbolics.build_function(JΦ_s, zv, zs, pv);\n",
    "JΦ_se = eval(JΦ_s_exp[1]);\n",
    "JΦ_se(ζ_v, ζ_t, pv);"
   ]
  },
  {
   "cell_type": "code",
   "execution_count": 286,
   "id": "c7b6d611-ccdd-4917-a53a-a011b60151f5",
   "metadata": {},
   "outputs": [],
   "source": [
    "T_s = Symbolics.jacobian(JΦ_ve(zv, zs, pv), zvt);"
   ]
  },
  {
   "cell_type": "code",
   "execution_count": 287,
   "id": "d4641504-d6c2-454d-ac80-529d1c814bca",
   "metadata": {},
   "outputs": [],
   "source": [
    "T_exp = Symbolics.build_function(T_s, zv, zs, pv);\n",
    "T = eval(T_exp[1]);"
   ]
  },
  {
   "cell_type": "code",
   "execution_count": 301,
   "id": "af68a64c-d248-400c-950a-45d5aa85a4f1",
   "metadata": {},
   "outputs": [
    {
     "data": {
      "text/plain": [
       "1.4551915228366852e-11"
      ]
     },
     "execution_count": 301,
     "metadata": {},
     "output_type": "execute_result"
    }
   ],
   "source": [
    "tr(g*T(ζ_v, ζ_t, [1.0;1.0;1.0]))"
   ]
  },
  {
   "cell_type": "code",
   "execution_count": 302,
   "id": "0c5e8ae6-bde7-462e-8548-98c841033a8e",
   "metadata": {},
   "outputs": [
    {
     "data": {
      "text/plain": [
       "-5.551115123125783e-17"
      ]
     },
     "execution_count": 302,
     "metadata": {},
     "output_type": "execute_result"
    }
   ],
   "source": [
    "tr(g*ζ_t)"
   ]
  },
  {
   "cell_type": "code",
   "execution_count": 303,
   "id": "67cb3c9b-9ddb-4c51-b9f6-f145ee81478f",
   "metadata": {},
   "outputs": [],
   "source": [
    "A_s = Symbolics.jacobian(JΦ_ve(zv, zs, pv), zst);"
   ]
  },
  {
   "cell_type": "code",
   "execution_count": 304,
   "id": "964cb877-9e46-4bb6-8d43-d858c5429d7a",
   "metadata": {},
   "outputs": [],
   "source": [
    "A_exp = Symbolics.build_function(A_s, zv, zs, pv);\n",
    "A = eval(A_exp[1]);"
   ]
  },
  {
   "cell_type": "code",
   "execution_count": 305,
   "id": "aea898b6-7462-48b6-81a5-901a2e761156",
   "metadata": {},
   "outputs": [],
   "source": [
    "A_val = A(ζ_v, ζ_t, [1.0;1.0;1.0]);"
   ]
  },
  {
   "cell_type": "code",
   "execution_count": 306,
   "id": "c063f2cd-da2c-42fe-976c-6ea29432e3f2",
   "metadata": {},
   "outputs": [],
   "source": [
    "AA = reshape(A_val', (D,D,D)); # last index is the vectorial one"
   ]
  },
  {
   "cell_type": "code",
   "execution_count": 307,
   "id": "59f1faab-8083-4721-b83d-d6cbf5678902",
   "metadata": {},
   "outputs": [
    {
     "data": {
      "text/plain": [
       "3×3×3 Array{Float64, 3}:\n",
       "[:, :, 1] =\n",
       " -10996.3    5562.75   10647.3\n",
       "   5562.75  -2787.82   -5382.36\n",
       "  10647.3   -5382.36  -10256.1\n",
       "\n",
       "[:, :, 2] =\n",
       "  5203.28  -2105.25   -5382.36\n",
       " -2105.25    759.743   2210.94\n",
       " -5382.36   2210.94    5521.95\n",
       "\n",
       "[:, :, 3] =\n",
       "  9980.76  -5382.36  -9573.57\n",
       " -5382.36   2877.46   5162.48\n",
       " -9573.57   5162.48   9102.85"
      ]
     },
     "execution_count": 307,
     "metadata": {},
     "output_type": "execute_result"
    }
   ],
   "source": [
    "AS = symm_A(AA)"
   ]
  },
  {
   "cell_type": "code",
   "execution_count": 308,
   "id": "54f5eac4-973b-471c-839a-9230232bfde6",
   "metadata": {},
   "outputs": [
    {
     "data": {
      "text/plain": [
       "3-element Vector{Float64}:\n",
       " -2047.71194648665\n",
       "  1078.4120312179612\n",
       "  1999.5568241954807"
      ]
     },
     "execution_count": 308,
     "metadata": {},
     "output_type": "execute_result"
    }
   ],
   "source": [
    "tr_A(AS,g)"
   ]
  },
  {
   "cell_type": "code",
   "execution_count": 309,
   "id": "d0c94de2-1273-4aa3-87c5-18dd6b5f88c8",
   "metadata": {},
   "outputs": [
    {
     "data": {
      "text/plain": [
       "3-element Vector{Float64}:\n",
       " 0.0\n",
       " 9.094947017729282e-13\n",
       " 0.0"
      ]
     },
     "execution_count": 309,
     "metadata": {},
     "output_type": "execute_result"
    }
   ],
   "source": [
    "tr_A(STF_A(AS,g),g)"
   ]
  },
  {
   "cell_type": "code",
   "execution_count": 310,
   "id": "d01af780-7f4c-44db-aae3-40b9a6b4fc21",
   "metadata": {},
   "outputs": [
    {
     "data": {
      "text/plain": [
       "3×3×3 Array{Float64, 3}:\n",
       "[:, :, 1] =\n",
       " -11678.8    5562.75  10647.3\n",
       "   5562.75  -2105.25  -5382.36\n",
       "  10647.3   -5382.36  -9573.57\n",
       "\n",
       "[:, :, 2] =\n",
       "  5562.75  -2105.25   -5382.36\n",
       " -2105.25    400.272   2210.94\n",
       " -5382.36   2210.94    5162.48\n",
       "\n",
       "[:, :, 3] =\n",
       " 10647.3   -5382.36  -9573.57\n",
       " -5382.36   2210.94   5162.48\n",
       " -9573.57   5162.48   8436.33"
      ]
     },
     "execution_count": 310,
     "metadata": {},
     "output_type": "execute_result"
    }
   ],
   "source": [
    "A_stf = STF_A(AS,g)"
   ]
  },
  {
   "cell_type": "code",
   "execution_count": 311,
   "id": "c697d167-db1d-4eb4-80a9-4c72b8268787",
   "metadata": {},
   "outputs": [
    {
     "data": {
      "text/plain": [
       "0.0"
      ]
     },
     "execution_count": 311,
     "metadata": {},
     "output_type": "execute_result"
    }
   ],
   "source": [
    "full_symmetry_check(A_stf)"
   ]
  },
  {
   "cell_type": "code",
   "execution_count": 312,
   "id": "3a1a20fc-31cd-45ce-841f-a33dd7d72478",
   "metadata": {},
   "outputs": [
    {
     "ename": "LoadError",
     "evalue": "MethodError: no method matching jacobian(::Matrix{Num}, ::Vector{Num})\n\u001b[0mClosest candidates are:\n\u001b[0m  jacobian(\u001b[91m::AbstractVector{T} where T\u001b[39m, ::AbstractVector{T} where T; simplify) at /Users/reula/.julia/packages/Symbolics/ohRLi/src/diff.jl:368",
     "output_type": "error",
     "traceback": [
      "MethodError: no method matching jacobian(::Matrix{Num}, ::Vector{Num})\n\u001b[0mClosest candidates are:\n\u001b[0m  jacobian(\u001b[91m::AbstractVector{T} where T\u001b[39m, ::AbstractVector{T} where T; simplify) at /Users/reula/.julia/packages/Symbolics/ohRLi/src/diff.jl:368",
      "",
      "Stacktrace:",
      " [1] top-level scope",
      "   @ In[312]:1",
      " [2] eval",
      "   @ ./boot.jl:360 [inlined]",
      " [3] include_string(mapexpr::typeof(REPL.softscope), mod::Module, code::String, filename::String)",
      "   @ Base ./loading.jl:1094"
     ]
    }
   ],
   "source": [
    "A_s_dual = Symbolics.jacobian(JΦ_se(zv, zs, pv), zvt);"
   ]
  },
  {
   "cell_type": "code",
   "execution_count": null,
   "id": "f1974726-f852-4010-9951-481feaf052ff",
   "metadata": {},
   "outputs": [],
   "source": []
  },
  {
   "cell_type": "markdown",
   "id": "308a397c-3036-4e47-bf60-1309e4182b2c",
   "metadata": {},
   "source": [
    "We define now the conserved quantities and then the field-coordinate transformation."
   ]
  },
  {
   "cell_type": "code",
   "execution_count": 190,
   "id": "8b9156b1-9921-46e8-85b7-4641971198a4",
   "metadata": {},
   "outputs": [
    {
     "data": {
      "text/plain": [
       "C (generic function with 3 methods)"
      ]
     },
     "execution_count": 190,
     "metadata": {},
     "output_type": "execute_result"
    }
   ],
   "source": [
    "function C(ζ,p,g,k::Int64) \n",
    "    D = length(Symbolics.scalarize(g)[:,1])\n",
    "    ζ_v, ζ_t = Symbolics.scalarize(vector_unpack(ζ))\n",
    "        AA = reshape(Symbolics.scalarize(A(ζ_v, ζ_t, p))', (D,D,D))[:,:,k]\n",
    "        upper2symm!(AA)\n",
    "        Tr = tr(AA)\n",
    "        AA = AA - g*Tr/D\n",
    "        return [T(ζ_v, ζ_t, p)[:,k]; symmat2vector(AA)]\n",
    "end"
   ]
  },
  {
   "cell_type": "code",
   "execution_count": 192,
   "id": "71488cc8-be7b-4ade-a75e-977911412e3f",
   "metadata": {},
   "outputs": [
    {
     "ename": "LoadError",
     "evalue": "ArgumentError: Cannot convert Sym to Float64 since Sym is symbolic and Float64 is concrete. Use `substitute` to replace the symbolic unwraps.",
     "output_type": "error",
     "traceback": [
      "ArgumentError: Cannot convert Sym to Float64 since Sym is symbolic and Float64 is concrete. Use `substitute` to replace the symbolic unwraps.",
      "",
      "Stacktrace:",
      "  [1] Float64(x::SymbolicUtils.Term{Real, Nothing})",
      "    @ Symbolics ~/.julia/packages/Symbolics/ohRLi/src/Symbolics.jl:130",
      "  [2] Float64(x::Num)",
      "    @ Symbolics ~/.julia/packages/Symbolics/ohRLi/src/Symbolics.jl:133",
      "  [3] convert",
      "    @ ./number.jl:7 [inlined]",
      "  [4] setindex!(::Matrix{Float64}, ::Num, ::Int64, ::Int64)",
      "    @ Base ./array.jl:841",
      "  [5] vector2symmat(v::Symbolics.Arr{Num, 1})",
      "    @ Main ~/Julia/Fluidos_Conformes/symbolics_ext.jl:59",
      "  [6] vector_unpack(ζ::Symbolics.Arr{Num, 1})",
      "    @ Main ~/Julia/Fluidos_Conformes/symbolics_ext.jl:76",
      "  [7] C(ζ::Symbolics.Arr{Num, 1}, p::Symbolics.Arr{Num, 1}, g::Symbolics.Arr{Num, 2}, k::Int64)",
      "    @ Main ./In[190]:3",
      "  [8] top-level scope",
      "    @ In[192]:3",
      "  [9] eval",
      "    @ ./boot.jl:360 [inlined]",
      " [10] include_string(mapexpr::typeof(REPL.softscope), mod::Module, code::String, filename::String)",
      "    @ Base ./loading.jl:1094"
     ]
    }
   ],
   "source": [
    "@variables zz[1:D+D*(D+1)÷2] gv[D,D]\n",
    "zzt = [zz[i] for i ∈ 1:(D+D*(D+1)÷2)]\n",
    "JC1_s = Symbolics.jacobian(C(zz,pv,gv,1),zzt)"
   ]
  },
  {
   "cell_type": "code",
   "execution_count": 179,
   "id": "ce1f9502-6261-4107-8585-e040ba0e405b",
   "metadata": {},
   "outputs": [
    {
     "data": {
      "text/plain": [
       "14-element Vector{Float64}:\n",
       "       1.4130329360789362e8\n",
       "      -1.6507657601303877e7\n",
       "      -6.004861925844659e7\n",
       "      -1.309977535294286e8\n",
       "      -2.939008563162741e7\n",
       "       2.8982488340497864e6\n",
       "       5.644496230800373e6\n",
       "       2.0631844600661937e7\n",
       "       9.8829149787784e6\n",
       " -540786.6806530505\n",
       "      -2.257338327981137e6\n",
       "       7.871801780504785e6\n",
       "      -8.599721307814535e6\n",
       "      -8.601924443293815e6"
      ]
     },
     "execution_count": 179,
     "metadata": {},
     "output_type": "execute_result"
    }
   ],
   "source": [
    "C1 = C(rand(14),[1;1;2],g,1)"
   ]
  },
  {
   "cell_type": "code",
   "execution_count": 180,
   "id": "e0bbae99-896e-475c-aeb7-3ae13a6acad2",
   "metadata": {},
   "outputs": [
    {
     "data": {
      "text/plain": [
       "([1.4130329360789362e8, -1.6507657601303877e7, -6.004861925844659e7, -1.309977535294286e8], [-2.939008563162741e7 2.8982488340497864e6 5.644496230800373e6 2.0631844600661937e7; 2.8982488340497864e6 9.8829149787784e6 -540786.6806530505 -2.257338327981137e6; 5.644496230800373e6 -540786.6806530505 7.871801780504785e6 -8.599721307814535e6; 2.0631844600661937e7 -2.257338327981137e6 -8.599721307814535e6 -8.601924443293815e6])"
      ]
     },
     "execution_count": 180,
     "metadata": {},
     "output_type": "execute_result"
    }
   ],
   "source": [
    "T0, A0 = vector_unpack(C1)"
   ]
  },
  {
   "cell_type": "code",
   "execution_count": 181,
   "id": "4ee2f141-7a72-4840-9361-10da965b5ad9",
   "metadata": {},
   "outputs": [
    {
     "data": {
      "text/plain": [
       "0.0"
      ]
     },
     "execution_count": 181,
     "metadata": {},
     "output_type": "execute_result"
    }
   ],
   "source": [
    "full_symmetry_check(A0)"
   ]
  },
  {
   "cell_type": "code",
   "execution_count": 182,
   "id": "d5d42c59-bae6-4150-9fa7-b04a6bc88b0c",
   "metadata": {},
   "outputs": [
    {
     "data": {
      "text/plain": [
       "C2A! (generic function with 1 method)"
      ]
     },
     "execution_count": 182,
     "metadata": {},
     "output_type": "execute_result"
    }
   ],
   "source": [
    "function C2A!(ζ,c,p)\n",
    "    χ, tol, iter_max, g, M, C, J = p\n",
    "    while norm(C(ζ,χ,g,1) - c) > tol && iter < iter_max\n",
    "            ζ = ζ - J(ζ,p,g) \\ (C(ζ,χ,g,1) - c)\n",
    "            iter = iter + 1\n",
    "            if iter == iter_max \n",
    "            println(\"iter_max reached j = $j\")\n",
    "            end\n",
    "    end\n",
    "end"
   ]
  },
  {
   "cell_type": "code",
   "execution_count": 172,
   "id": "168eee80-9536-429a-a780-ace6ef4ffc00",
   "metadata": {},
   "outputs": [
    {
     "ename": "LoadError",
     "evalue": "UndefVarError: JC1 not defined",
     "output_type": "error",
     "traceback": [
      "UndefVarError: JC1 not defined",
      "",
      "Stacktrace:",
      " [1] top-level scope",
      "   @ In[172]:1",
      " [2] eval",
      "   @ ./boot.jl:360 [inlined]",
      " [3] include_string(mapexpr::typeof(REPL.softscope), mod::Module, code::String, filename::String)",
      "   @ Base ./loading.jl:1094"
     ]
    }
   ],
   "source": [
    "p_N = [1.,1.,1.], 10^(-6), g, 1, C1, JC1"
   ]
  },
  {
   "cell_type": "code",
   "execution_count": null,
   "id": "06f69fc3-d577-4fe6-a7c5-4e68b130e420",
   "metadata": {},
   "outputs": [],
   "source": []
  },
  {
   "cell_type": "code",
   "execution_count": null,
   "id": "a291750c-69b9-4cca-93ea-f56cd01b41c2",
   "metadata": {},
   "outputs": [],
   "source": []
  },
  {
   "cell_type": "code",
   "execution_count": null,
   "id": "6f2d1767-7509-4b88-8b02-8cd1964688c9",
   "metadata": {},
   "outputs": [],
   "source": []
  },
  {
   "cell_type": "code",
   "execution_count": null,
   "id": "f246bab8-2560-4a04-8d7e-d3049dc63b71",
   "metadata": {},
   "outputs": [],
   "source": [
    "function c_to_f!(flu, con, p)\n",
    "    χ, tol, iter_max, N, M = p\n",
    "    for j ∈ 1:M\n",
    "        flu[1,j] = -flu[1,j]\n",
    "        iter = 1\n",
    "        while F(flu[:,j],con[:,j], χ)'*F(flu[:,j],con[:,j], χ) > tol && iter < iter_max\n",
    "            flu[:,j] = NR_step!(F, Jac, flu[:,j], con[:,j], χ)\n",
    "            iter = iter + 1\n",
    "            if iter == iter_max \n",
    "            println(\"iter_max reached j = $j\")\n",
    "            end\n",
    "        end\n",
    "    #println(iter)\n",
    "        flu[1,j] = -flu[1,j]\n",
    "    end\n",
    "    return flu[:,:]\n",
    "end\n"
   ]
  },
  {
   "cell_type": "code",
   "execution_count": 352,
   "id": "62242141-84a1-4f56-9b88-7cd0017ae612",
   "metadata": {},
   "outputs": [
    {
     "data": {
      "text/plain": [
       "Φ (generic function with 1 method)"
      ]
     },
     "execution_count": 352,
     "metadata": {},
     "output_type": "execute_result"
    }
   ],
   "source": []
  },
  {
   "cell_type": "code",
   "execution_count": 361,
   "id": "49ff8369",
   "metadata": {},
   "outputs": [
    {
     "ename": "LoadError",
     "evalue": "LoadError: MethodError: no method matching Matrix{Real}(::Int64, ::Int64)\n\u001b[0mClosest candidates are:\n\u001b[0m  Matrix{T}(\u001b[91m::UniformScaling\u001b[39m, ::Integer, \u001b[91m::Integer\u001b[39m) where T at /Users/julia/buildbot/worker/package_macos64/build/usr/share/julia/stdlib/v1.6/LinearAlgebra/src/uniformscaling.jl:471\n\u001b[0m  Array{T, N}(\u001b[91m::Missing\u001b[39m, ::Any...) where {T, N} at baseext.jl:32\n\u001b[0m  Array{T, N}(\u001b[91m::Nothing\u001b[39m, ::Any...) where {T, N} at baseext.jl:31\n\u001b[0m  ...\nin expression starting at /Users/reula/Julia/Fluidos_Conformes/symbolics_ext.jl:178",
     "output_type": "error",
     "traceback": [
      "LoadError: MethodError: no method matching Matrix{Real}(::Int64, ::Int64)\n\u001b[0mClosest candidates are:\n\u001b[0m  Matrix{T}(\u001b[91m::UniformScaling\u001b[39m, ::Integer, \u001b[91m::Integer\u001b[39m) where T at /Users/julia/buildbot/worker/package_macos64/build/usr/share/julia/stdlib/v1.6/LinearAlgebra/src/uniformscaling.jl:471\n\u001b[0m  Array{T, N}(\u001b[91m::Missing\u001b[39m, ::Any...) where {T, N} at baseext.jl:32\n\u001b[0m  Array{T, N}(\u001b[91m::Nothing\u001b[39m, ::Any...) where {T, N} at baseext.jl:31\n\u001b[0m  ...\nin expression starting at /Users/reula/Julia/Fluidos_Conformes/symbolics_ext.jl:178",
      "",
      "Stacktrace:",
      " [1] vector2symmat(v::Vector{Float64})",
      "   @ Main ~/Julia/Fluidos_Conformes/symbolics_ext.jl:54",
      " [2] vector_unpack(ζ::Vector{Float64})",
      "   @ Main ~/Julia/Fluidos_Conformes/symbolics_ext.jl:76",
      " [3] Φ_v(ζ::Vector{Float64}, p::Vector{Float64})",
      "   @ Main ~/Julia/Fluidos_Conformes/symbolics_ext.jl:171",
      " [4] top-level scope",
      "   @ ~/Julia/Fluidos_Conformes/symbolics_ext.jl:178",
      " [5] include(fname::String)",
      "   @ Base.MainInclude ./client.jl:444",
      " [6] top-level scope",
      "   @ In[361]:1",
      " [7] eval",
      "   @ ./boot.jl:360 [inlined]",
      " [8] include_string(mapexpr::typeof(REPL.softscope), mod::Module, code::String, filename::String)",
      "   @ Base ./loading.jl:1094"
     ]
    }
   ],
   "source": [
    "include(\"symbolics_ext.jl\")\n",
    "@variables vs[1:L] ps[1:3] gs[D,D]\n",
    "vst = [vs[i] for i ∈ 1:L]\n",
    "pv = (ps, gs)\n",
    "Jζ = Symbolics.jacobian(Φ(vs,pv),vst) "
   ]
  },
  {
   "cell_type": "code",
   "execution_count": 362,
   "id": "58aaf3dd-2c56-4a02-aac6-fd26ed484aca",
   "metadata": {},
   "outputs": [
    {
     "ename": "LoadError",
     "evalue": "MethodError: no method matching Matrix{Real}(::Int64, ::Int64)\n\u001b[0mClosest candidates are:\n\u001b[0m  Matrix{T}(\u001b[91m::UniformScaling\u001b[39m, ::Integer, \u001b[91m::Integer\u001b[39m) where T at /Users/julia/buildbot/worker/package_macos64/build/usr/share/julia/stdlib/v1.6/LinearAlgebra/src/uniformscaling.jl:471\n\u001b[0m  Array{T, N}(\u001b[91m::Missing\u001b[39m, ::Any...) where {T, N} at baseext.jl:32\n\u001b[0m  Array{T, N}(\u001b[91m::Nothing\u001b[39m, ::Any...) where {T, N} at baseext.jl:31\n\u001b[0m  ...",
     "output_type": "error",
     "traceback": [
      "MethodError: no method matching Matrix{Real}(::Int64, ::Int64)\n\u001b[0mClosest candidates are:\n\u001b[0m  Matrix{T}(\u001b[91m::UniformScaling\u001b[39m, ::Integer, \u001b[91m::Integer\u001b[39m) where T at /Users/julia/buildbot/worker/package_macos64/build/usr/share/julia/stdlib/v1.6/LinearAlgebra/src/uniformscaling.jl:471\n\u001b[0m  Array{T, N}(\u001b[91m::Missing\u001b[39m, ::Any...) where {T, N} at baseext.jl:32\n\u001b[0m  Array{T, N}(\u001b[91m::Nothing\u001b[39m, ::Any...) where {T, N} at baseext.jl:31\n\u001b[0m  ...",
      "",
      "Stacktrace:",
      " [1] vector2symmat(v::Vector{Num})",
      "   @ Main ~/Julia/Fluidos_Conformes/symbolics_ext.jl:54",
      " [2] vector_unpack(ζ::Symbolics.Arr{Num, 1})",
      "   @ Main ~/Julia/Fluidos_Conformes/symbolics_ext.jl:76",
      " [3] top-level scope",
      "   @ In[362]:1",
      " [4] eval",
      "   @ ./boot.jl:360 [inlined]",
      " [5] include_string(mapexpr::typeof(REPL.softscope), mod::Module, code::String, filename::String)",
      "   @ Base ./loading.jl:1094"
     ]
    }
   ],
   "source": [
    "ζ_v, ζ_t = vector_unpack(vs)\n",
    "#ζ_v' * gs * ζ_v\n",
    "\n",
    "#typeof(ζ_v)"
   ]
  },
  {
   "cell_type": "code",
   "execution_count": 359,
   "id": "c30c9040-9c92-44ed-9b91-5557eb4928b5",
   "metadata": {},
   "outputs": [
    {
     "data": {
      "text/latex": [
       "\\begin{equation}\n",
       "\\left[\n",
       "\\begin{array}{c}\n",
       "vs{_1} \\\\\n",
       "vs{_2} \\\\\n",
       "vs{_3} \\\\\n",
       "\\end{array}\n",
       "\\right]\n",
       "\\end{equation}\n"
      ],
      "text/plain": [
       "3-element Vector{Num}:\n",
       " vs[1]\n",
       " vs[2]\n",
       " vs[3]"
      ]
     },
     "execution_count": 359,
     "metadata": {},
     "output_type": "execute_result"
    }
   ],
   "source": [
    "Symbolics.scalarize(vs)[1:D]"
   ]
  },
  {
   "cell_type": "code",
   "execution_count": 360,
   "id": "dd784146-949f-41aa-8f20-369cbcc3b110",
   "metadata": {},
   "outputs": [
    {
     "ename": "LoadError",
     "evalue": "ArgumentError: Cannot convert Sym to Float64 since Sym is symbolic and Float64 is concrete. Use `substitute` to replace the symbolic unwraps.",
     "output_type": "error",
     "traceback": [
      "ArgumentError: Cannot convert Sym to Float64 since Sym is symbolic and Float64 is concrete. Use `substitute` to replace the symbolic unwraps.",
      "",
      "Stacktrace:",
      " [1] Float64(x::SymbolicUtils.Term{Real, Nothing})",
      "   @ Symbolics ~/.julia/packages/Symbolics/ohRLi/src/Symbolics.jl:130",
      " [2] Float64(x::Num)",
      "   @ Symbolics ~/.julia/packages/Symbolics/ohRLi/src/Symbolics.jl:133",
      " [3] convert",
      "   @ ./number.jl:7 [inlined]",
      " [4] setindex!",
      "   @ ./array.jl:841 [inlined]",
      " [5] vector2symmat(v::Vector{Num})",
      "   @ Main ~/Julia/Fluidos_Conformes/symbolics_ext.jl:59",
      " [6] top-level scope",
      "   @ In[360]:1",
      " [7] eval",
      "   @ ./boot.jl:360 [inlined]",
      " [8] include_string(mapexpr::typeof(REPL.softscope), mod::Module, code::String, filename::String)",
      "   @ Base ./loading.jl:1094"
     ]
    }
   ],
   "source": [
    "vector2symmat(Symbolics.scalarize(vs)[D+1:end])[:,:]"
   ]
  },
  {
   "cell_type": "code",
   "execution_count": 456,
   "id": "db1bbc03-eb4d-401a-8f96-12963432b294",
   "metadata": {},
   "outputs": [
    {
     "data": {
      "text/plain": [
       "-0.16746992454806928"
      ]
     },
     "execution_count": 456,
     "metadata": {},
     "output_type": "execute_result"
    }
   ],
   "source": [
    "include(\"symbolics_ext.jl\")\n",
    "mu(rand(14))"
   ]
  },
  {
   "cell_type": "code",
   "execution_count": 457,
   "id": "6a33e506-0db8-4882-8074-0decc4594896",
   "metadata": {},
   "outputs": [
    {
     "data": {
      "text/plain": [
       "4"
      ]
     },
     "execution_count": 457,
     "metadata": {},
     "output_type": "execute_result"
    }
   ],
   "source": [
    "get_dim(14)"
   ]
  },
  {
   "cell_type": "code",
   "execution_count": 458,
   "id": "06df6975-5066-4776-bfb3-3fefb1d7fefa",
   "metadata": {},
   "outputs": [
    {
     "data": {
      "text/plain": [
       "0.0"
      ]
     },
     "execution_count": 458,
     "metadata": {},
     "output_type": "execute_result"
    }
   ],
   "source": [
    "v = zeros(14)\n",
    "v[1] = 1\n",
    "v[2] = 1\n",
    "mu(v)"
   ]
  },
  {
   "cell_type": "code",
   "execution_count": 463,
   "id": "c873b693-336a-4ff3-806b-d7d3600c5617",
   "metadata": {},
   "outputs": [
    {
     "data": {
      "text/plain": [
       "7"
      ]
     },
     "execution_count": 463,
     "metadata": {},
     "output_type": "execute_result"
    }
   ],
   "source": [
    "l_ind(3,2,4)"
   ]
  },
  {
   "cell_type": "code",
   "execution_count": 464,
   "id": "037e19f9-fd30-445d-8671-0c0587b73ac0",
   "metadata": {},
   "outputs": [
    {
     "data": {
      "text/plain": [
       "7"
      ]
     },
     "execution_count": 464,
     "metadata": {},
     "output_type": "execute_result"
    }
   ],
   "source": [
    "l_ind(3,2,4)"
   ]
  },
  {
   "cell_type": "code",
   "execution_count": 460,
   "id": "0e22a1a1-78d7-4d28-a041-621701d0f4f6",
   "metadata": {},
   "outputs": [
    {
     "data": {
      "text/plain": [
       "21.0"
      ]
     },
     "execution_count": 460,
     "metadata": {},
     "output_type": "execute_result"
    }
   ],
   "source": [
    "i = 6\n",
    "j = 6\n",
    "M = 6\n",
    "\n",
    "(i-1)*M - (i-1)*(i)/2 + j "
   ]
  },
  {
   "cell_type": "code",
   "execution_count": 461,
   "id": "6600f484-0ccd-464e-b929-882c6e009089",
   "metadata": {},
   "outputs": [
    {
     "data": {
      "text/plain": [
       "36"
      ]
     },
     "execution_count": 461,
     "metadata": {},
     "output_type": "execute_result"
    }
   ],
   "source": [
    "i*(M-1) + j"
   ]
  },
  {
   "cell_type": "code",
   "execution_count": 421,
   "id": "bd747371-ea38-4e97-a386-83a074116236",
   "metadata": {},
   "outputs": [
    {
     "data": {
      "text/plain": [
       "28"
      ]
     },
     "execution_count": 421,
     "metadata": {},
     "output_type": "execute_result"
    }
   ],
   "source": [
    "7*4"
   ]
  },
  {
   "cell_type": "code",
   "execution_count": null,
   "id": "5f300b67-fcd2-4677-b362-174bc77f992a",
   "metadata": {},
   "outputs": [],
   "source": [
    "÷"
   ]
  }
 ],
 "metadata": {
  "kernelspec": {
   "display_name": "Julia 1.6.1",
   "language": "julia",
   "name": "julia-1.6"
  },
  "language_info": {
   "file_extension": ".jl",
   "mimetype": "application/julia",
   "name": "julia",
   "version": "1.6.1"
  }
 },
 "nbformat": 4,
 "nbformat_minor": 5
}
