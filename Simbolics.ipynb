{
 "cells": [
  {
   "cell_type": "code",
   "execution_count": 1,
   "id": "ac6b5b92-5328-498d-ab22-0b262d16a04b",
   "metadata": {},
   "outputs": [],
   "source": [
    "using Symbolics\n",
    "using LinearAlgebra\n",
    "using Latexify\n",
    "using Plots"
   ]
  },
  {
   "cell_type": "code",
   "execution_count": 13,
   "id": "21a7c9d7-f1ed-48d5-ac63-c8f4338f7aa4",
   "metadata": {},
   "outputs": [
    {
     "data": {
      "text/plain": [
       "4×4 Matrix{Int64}:\n",
       " -1  0  0  0\n",
       "  0  1  0  0\n",
       "  0  0  1  0\n",
       "  0  0  0  1"
      ]
     },
     "execution_count": 13,
     "metadata": {},
     "output_type": "execute_result"
    }
   ],
   "source": [
    "D = 4 #dimensions\n",
    "ζ_v = Vector{Float64}(undef,D)\n",
    "ζ_t = Array{Float64}(undef,D,D)\n",
    "g = [-1 0 0 0;\n",
    "      0 1 0 0;\n",
    "      0 0 1 0;\n",
    "      0 0 0 1]"
   ]
  },
  {
   "cell_type": "code",
   "execution_count": 36,
   "id": "3a47d60e-7586-4948-9b1a-8ccb6265d0d8",
   "metadata": {},
   "outputs": [
    {
     "name": "stdout",
     "output_type": "stream",
     "text": [
      "158\n",
      "312\n"
     ]
    },
    {
     "ename": "LoadError",
     "evalue": "MethodError: no method matching adjoint(::Tuple{Int64, Float64, Int64, Int64})\n\u001b[0mClosest candidates are:\n\u001b[0m  adjoint(\u001b[91m::Hermitian\u001b[39m) at /Users/julia/buildbot/worker/package_macos64/build/usr/share/julia/stdlib/v1.6/LinearAlgebra/src/symmetric.jl:346\n\u001b[0m  adjoint(\u001b[91m::FillArrays.Zeros{T, 2, Axes} where Axes\u001b[39m) where T at /Users/reula/.julia/packages/FillArrays/cVkp8/src/fillalgebra.jl:14\n\u001b[0m  adjoint(\u001b[91m::T\u001b[39m) where T<:AbstractAlgebra.MatElem at /Users/reula/.julia/packages/AbstractAlgebra/2tNNk/src/Rings.jl:207\n\u001b[0m  ...",
     "output_type": "error",
     "traceback": [
      "MethodError: no method matching adjoint(::Tuple{Int64, Float64, Int64, Int64})\n\u001b[0mClosest candidates are:\n\u001b[0m  adjoint(\u001b[91m::Hermitian\u001b[39m) at /Users/julia/buildbot/worker/package_macos64/build/usr/share/julia/stdlib/v1.6/LinearAlgebra/src/symmetric.jl:346\n\u001b[0m  adjoint(\u001b[91m::FillArrays.Zeros{T, 2, Axes} where Axes\u001b[39m) where T at /Users/reula/.julia/packages/FillArrays/cVkp8/src/fillalgebra.jl:14\n\u001b[0m  adjoint(\u001b[91m::T\u001b[39m) where T<:AbstractAlgebra.MatElem at /Users/reula/.julia/packages/AbstractAlgebra/2tNNk/src/Rings.jl:207\n\u001b[0m  ...",
      "",
      "Stacktrace:",
      " [1] top-level scope",
      "   @ In[36]:10",
      " [2] eval",
      "   @ ./boot.jl:360 [inlined]",
      " [3] include_string(mapexpr::typeof(REPL.softscope), mod::Module, code::String, filename::String)",
      "   @ Base ./loading.jl:1094"
     ]
    }
   ],
   "source": [
    "ζ_s = UpperTriangular(ζ_t)\n",
    "ζ_t = [-1 2 3 4;\n",
    "      0 1 5 6;\n",
    "      0 0 1 8;\n",
    "      0 0 0 -1]\n",
    "ζ_s\n",
    "println(tr(ζ_s'*g'*g*ζ_s))\n",
    "ζ_h = Hermitian(ζ_s)\n",
    "println(tr(ζ_h'*g'*g*ζ_h))\n",
    "ζ_v'*g*ζ_v"
   ]
  },
  {
   "cell_type": "code",
   "execution_count": 39,
   "id": "f8666e49-b8d0-43d6-9063-4115eea7b2ad",
   "metadata": {},
   "outputs": [
    {
     "data": {
      "text/plain": [
       "Φ (generic function with 1 method)"
      ]
     },
     "execution_count": 39,
     "metadata": {},
     "output_type": "execute_result"
    }
   ],
   "source": [
    "function Φ(ζ_v, ζ_s, p)\n",
    "    χ₀,χ₁,χ₂ = p\n",
    "    ζ_h = Hermitian(ζ_s)\n",
    "    μ = ζ_v'*g*ζ_v\n",
    "    ν = (g*ζ_v)'*ζ_s*(g*ζ_v)\n",
    "    τ = tr(ζ_s*g'*ζ_s*g)\n",
    "    return χ₀*ζ_v'*g*ζ_v + χ₁*ν + χ₂*ν*τ\n",
    "end"
   ]
  },
  {
   "cell_type": "code",
   "execution_count": 46,
   "id": "05d1aa0e-76e4-48e7-b1fc-17d68b1c1eea",
   "metadata": {},
   "outputs": [
    {
     "data": {
      "text/plain": [
       "4×4 Hermitian{Int64, UpperTriangular{Int64, Matrix{Int64}}}:\n",
       " 0  1   0  0\n",
       " 1  1   0  0\n",
       " 0  0  -1  0\n",
       " 0  0   0  0"
      ]
     },
     "execution_count": 46,
     "metadata": {},
     "output_type": "execute_result"
    }
   ],
   "source": [
    "ζ_v = [-1,0.1,0,0]\n",
    "ζ_t = [0 1 0 0;\n",
    "       0 1 0 0;\n",
    "       0 0 -1 0;\n",
    "       0 0 0 0]\n",
    "ζ_s = UpperTriangular(ζ_t)\n",
    "ζ_h = Hermitian(ζ_s)"
   ]
  },
  {
   "cell_type": "code",
   "execution_count": 45,
   "id": "daf0b517-b9d1-41b9-915a-dcaf091052ab",
   "metadata": {},
   "outputs": [
    {
     "data": {
      "text/plain": [
       "-0.99"
      ]
     },
     "execution_count": 45,
     "metadata": {},
     "output_type": "execute_result"
    }
   ],
   "source": [
    "Φ(ζ_v, ζ_s, [1.,0.,0.])"
   ]
  },
  {
   "cell_type": "code",
   "execution_count": 50,
   "id": "17bd1646-5179-4051-847b-8ff1c376e414",
   "metadata": {},
   "outputs": [
    {
     "data": {
      "text/plain": [
       "3-element Vector{Vector{Num}}:\n",
       " [zv₁, zv₂, zv₃, zv₄]\n",
       " [zs₁, zs₂, zs₃, zs₄, zs₅, zs₆, zs₇, zs₈, zs₉, zs₁₀]\n",
       " [pv₁, pv₂, pv₃]"
      ]
     },
     "execution_count": 50,
     "metadata": {},
     "output_type": "execute_result"
    }
   ],
   "source": [
    "@variables zv[1:D], zs[1:D*(D+1)÷2], pv[1:3]"
   ]
  },
  {
   "cell_type": "code",
   "execution_count": 51,
   "id": "3011ba54-d7d9-48cd-a244-f6bc42a38930",
   "metadata": {},
   "outputs": [
    {
     "ename": "LoadError",
     "evalue": "MethodError: no method matching Hermitian(::Vector{Num})\n\u001b[0mClosest candidates are:\n\u001b[0m  Hermitian(\u001b[91m::Hermitian\u001b[39m) at /Users/julia/buildbot/worker/package_macos64/build/usr/share/julia/stdlib/v1.6/LinearAlgebra/src/symmetric.jl:169\n\u001b[0m  Hermitian(\u001b[91m::Hermitian\u001b[39m, \u001b[91m::Symbol\u001b[39m) at /Users/julia/buildbot/worker/package_macos64/build/usr/share/julia/stdlib/v1.6/LinearAlgebra/src/symmetric.jl:170\n\u001b[0m  Hermitian(\u001b[91m::Symmetric\u001b[39m) at /Users/julia/buildbot/worker/package_macos64/build/usr/share/julia/stdlib/v1.6/LinearAlgebra/src/symmetric.jl:177\n\u001b[0m  ...",
     "output_type": "error",
     "traceback": [
      "MethodError: no method matching Hermitian(::Vector{Num})\n\u001b[0mClosest candidates are:\n\u001b[0m  Hermitian(\u001b[91m::Hermitian\u001b[39m) at /Users/julia/buildbot/worker/package_macos64/build/usr/share/julia/stdlib/v1.6/LinearAlgebra/src/symmetric.jl:169\n\u001b[0m  Hermitian(\u001b[91m::Hermitian\u001b[39m, \u001b[91m::Symbol\u001b[39m) at /Users/julia/buildbot/worker/package_macos64/build/usr/share/julia/stdlib/v1.6/LinearAlgebra/src/symmetric.jl:170\n\u001b[0m  Hermitian(\u001b[91m::Symmetric\u001b[39m) at /Users/julia/buildbot/worker/package_macos64/build/usr/share/julia/stdlib/v1.6/LinearAlgebra/src/symmetric.jl:177\n\u001b[0m  ...",
      "",
      "Stacktrace:",
      " [1] Φ(ζ_v::Vector{Num}, ζ_s::Vector{Num}, p::Vector{Num})",
      "   @ Main ./In[39]:3",
      " [2] top-level scope",
      "   @ In[51]:1",
      " [3] eval",
      "   @ ./boot.jl:360 [inlined]",
      " [4] include_string(mapexpr::typeof(REPL.softscope), mod::Module, code::String, filename::String)",
      "   @ Base ./loading.jl:1094"
     ]
    }
   ],
   "source": [
    "JΦ_v = Symbolics.jacobian(Φ(zv, zs, pv),zv);\n",
    "JΦ_v_exp = Symbolics.build_function(JΦ_v,,zv, zs,pv);\n",
    "JΦ_v = eval(JΦ_v_exp[1]);"
   ]
  },
  {
   "cell_type": "code",
   "execution_count": null,
   "id": "3f1b2ecd-b2ee-441a-b18f-10818894af51",
   "metadata": {},
   "outputs": [],
   "source": []
  }
 ],
 "metadata": {
  "kernelspec": {
   "display_name": "Julia 1.6.1",
   "language": "julia",
   "name": "julia-1.6"
  },
  "language_info": {
   "file_extension": ".jl",
   "mimetype": "application/julia",
   "name": "julia",
   "version": "1.6.1"
  }
 },
 "nbformat": 4,
 "nbformat_minor": 5
}
