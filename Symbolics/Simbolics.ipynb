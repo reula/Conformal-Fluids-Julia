{
 "cells": [
  {
   "cell_type": "markdown",
   "id": "5dee7b7d",
   "metadata": {},
   "source": [
    "### Symbolic treatment of the fluid equations\n",
    "\n",
    "In this notebook we obtain the equations, and all relevant quantities starting from the generating function and in arbitrary dimensions. \n",
    "We spacialize for the conformal case, but this is not needed. \n",
    "\n",
    "We use a flat, constant metric, but it is not difficult to add an arbitrary metric latter on, even curvature."
   ]
  },
  {
   "cell_type": "markdown",
   "id": "0cab2b50",
   "metadata": {},
   "source": [
    "$$\n",
    "T^{ab} = \\frac{\\partial^2 \\chi}{\\zeta_a \\zeta_b}\n",
    "$$\n",
    "\n",
    "$$\n",
    "A^{abc} = \\frac{\\partial^2 \\chi}{\\zeta_a \\zeta_{bc}}\n",
    "$$"
   ]
  },
  {
   "cell_type": "markdown",
   "id": "aebd7682",
   "metadata": {},
   "source": [
    "In our case the conformally invariant $\\chi$ is given by:\n",
    "\n",
    "$$\n",
    "\\chi(\\zeta_a, \\zeta_{ab}) = \\chi_0 \\mu^{-d/2 + 1} + \\chi_1 \\nu \\mu^{-d/2 -1} \n",
    "+ \\chi_2(\\tau_2 - \\frac{4(d/2+1)}{\\mu} \\omicron + \\frac{2(d/2+1)(d/2+2)}{\\mu^2}\\nu^2)\\mu^{-d/2 -1},\n",
    "$$\n",
    "\n",
    "where,\n",
    "\n",
    "$$\n",
    "\\mu := \\zeta^a \\zeta_a \\;\\;\\;\\;\\;\\;\\;\\;  \\nu := \\zeta_{ab}\\zeta^a \\zeta^b \\;\\;\\;\\;\\;\\;\\;\\; \\omicron := \\zeta^a \\zeta_{ab} \\zeta^{bc} \\zeta_c, \\;\\;\\;\\;\\;\\;\\;\\; \\tau_2  := \\zeta_{ab}\\zeta^{ab}\n",
    "$$\n",
    "\n"
   ]
  },
  {
   "cell_type": "markdown",
   "id": "9de463f4",
   "metadata": {},
   "source": [
    "We define a vector $v_A$ with all the components with the following scheme:\n",
    "\n",
    "$$\n",
    "\\zeta_a = [v_1, v_2, v_3,  v_4]\n",
    "$$\n",
    "\n",
    "$$\n",
    "\\zeta_{ab} = \\left(\n",
    "                \\begin{array}{llll}\n",
    "                v_5 & v_6 & v_7 & v_8 \\\\\n",
    "                v_6 & v_9 & v_{10} & v_{11} \\\\\n",
    "                v_7 & v_{10} & v_{12} & v_{13} \\\\ \n",
    "                v_8 & v_{11} & v_{13} & v_{14}\n",
    "                \\end{array}\n",
    "            \\right)\n",
    "$$\n",
    "\n",
    "Thus, for the case with planar symmetry the only non-zero components are: $\\{v_1, v_2, v_5, v_6, v_9\\}$\n"
   ]
  },
  {
   "cell_type": "code",
   "execution_count": 2,
   "id": "ac6b5b92-5328-498d-ab22-0b262d16a04b",
   "metadata": {},
   "outputs": [],
   "source": [
    "using Symbolics\n",
    "using LinearAlgebra\n",
    "using Latexify\n",
    "using Plots"
   ]
  },
  {
   "cell_type": "code",
   "execution_count": 3,
   "id": "b27abcb2-313a-47a0-b1ef-528d2ff130e5",
   "metadata": {},
   "outputs": [
    {
     "data": {
      "text/plain": [
       "χaAB (generic function with 1 method)"
      ]
     },
     "metadata": {},
     "output_type": "display_data"
    }
   ],
   "source": [
    "include(\"symbolics_ext.jl\")"
   ]
  },
  {
   "cell_type": "markdown",
   "id": "6eb3e1f1",
   "metadata": {},
   "source": [
    "The variables are going to be a vector-tensor $\\zeta_A = (\\zeta_a, \\zeta_{ab})$ with the tensor part being symmetric and (latter) trace free. We are going to use both representations, either a big vector or a pair vector-tensor.\n",
    "With functions going from one to the other.\n",
    "\n",
    "We first define some tensors and take a symmetrize them using the upper triangular part as the relevant tensor part, contrary to take the average of the components"
   ]
  },
  {
   "cell_type": "code",
   "execution_count": 4,
   "id": "21a7c9d7-f1ed-48d5-ac63-c8f4338f7aa4",
   "metadata": {},
   "outputs": [
    {
     "data": {
      "text/plain": [
       "4×4 Matrix{Float64}:\n",
       " -1.0  0.0  0.0  0.0\n",
       "  0.0  1.0  0.0  0.0\n",
       "  0.0  0.0  1.0  0.0\n",
       "  0.0  0.0  0.0  1.0"
      ]
     },
     "metadata": {},
     "output_type": "display_data"
    }
   ],
   "source": [
    "D = Int64(4) #dimensions\n",
    "#D = Int64(2) #dimensions\n",
    "L = (D+(D*(D+1)÷2))\n",
    "ζ = Vector{Float64}(undef,L)\n",
    "ζ_v = Vector{Float64}(undef,D)\n",
    "ζ_t = Array{Float64}(undef,D,D)\n",
    "g = make_g(D)"
   ]
  },
  {
   "cell_type": "code",
   "execution_count": 5,
   "id": "b6638ae2-5134-43fc-bec6-6415089a420a",
   "metadata": {},
   "outputs": [
    {
     "data": {
      "text/plain": [
       "3×3 Matrix{Float64}:\n",
       " 1.0  2.0  3.0\n",
       " 2.0  4.0  5.0\n",
       " 3.0  5.0  6.0"
      ]
     },
     "metadata": {},
     "output_type": "display_data"
    }
   ],
   "source": [
    "v = [1;2;3;4;5;6]\n",
    "sm = zeros(3,3)\n",
    "\n",
    "vector2symmat!(v,sm)\n",
    "sm"
   ]
  },
  {
   "cell_type": "code",
   "execution_count": 6,
   "id": "c694b32b-285a-432f-8eee-5acc04e34181",
   "metadata": {},
   "outputs": [
    {
     "data": {
      "text/plain": [
       "6-element Vector{Float64}:\n",
       " 1.0\n",
       " 2.0\n",
       " 3.0\n",
       " 4.0\n",
       " 5.0\n",
       " 6.0"
      ]
     },
     "metadata": {},
     "output_type": "display_data"
    }
   ],
   "source": [
    "symmat2vector(sm)"
   ]
  },
  {
   "cell_type": "code",
   "execution_count": 7,
   "id": "cdbba61d-65d3-4265-9314-4f939d1f3398",
   "metadata": {},
   "outputs": [
    {
     "data": {
      "text/plain": [
       "([0.48883608498333475, 0.5973167993669481, 0.7757670545613324, 0.5192571733202829], [0.6219854249743013 0.3346909420372537 0.8013387839764619 0.8686126963505936; 0.3346909420372537 0.5645879175363324 0.18921500750998732 0.5144673630901524; 0.8013387839764619 0.18921500750998732 0.6023126933910853 0.3009508282052762; 0.8686126963505936 0.5144673630901524 0.3009508282052762 0.8864633851652357])"
      ]
     },
     "metadata": {},
     "output_type": "display_data"
    }
   ],
   "source": [
    "vector_unpack(rand(L))"
   ]
  },
  {
   "cell_type": "code",
   "execution_count": 9,
   "id": "4fd4cf2c-8dc5-429f-bfe1-bfdff6afa7bb",
   "metadata": {},
   "outputs": [
    {
     "data": {
      "text/plain": [
       "4×4 Matrix{Float64}:\n",
       " 5.0   6.0   7.0   8.0\n",
       " 6.0   9.0  10.0  11.0\n",
       " 7.0  10.0  12.0  13.0\n",
       " 8.0  11.0  13.0  14.0"
      ]
     },
     "metadata": {},
     "output_type": "display_data"
    }
   ],
   "source": [
    "v = [1;2;3;4;5;6;7;8;9;10;11;12;13;14]\n",
    "vector_unpack(v)[2]"
   ]
  },
  {
   "cell_type": "code",
   "execution_count": 11,
   "id": "3a47d60e-7586-4948-9b1a-8ccb6265d0d8",
   "metadata": {},
   "outputs": [
    {
     "name": "stdout",
     "output_type": "stream",
     "text": [
      "6.248707813985167\n",
      "latexify(ζ_t) = L\"\\begin{equation}\n",
      "\\left[\n",
      "\\begin{array}{cccc}\n",
      "0.9566160672410133 & 0.42197331769817925 & 0.7755164837703081 & 0.568761449514493 \\\\\n",
      "0.42197331769817925 & 0.39057473260195824 & 0.6727529400477824 & 0.6772432748258491 \\\\\n",
      "0.7755164837703081 & 0.6727529400477824 & 0.12253756828362333 & 0.031956641939618446 \\\\\n",
      "0.568761449514493 & 0.6772432748258491 & 0.031956641939618446 & 0.4435037663554318 \\\\\n",
      "\\end{array}\n",
      "\\right]\n",
      "\\end{equation}\n",
      "\"\n"
     ]
    },
    {
     "data": {
      "text/plain": [
       "0.0"
      ]
     },
     "metadata": {},
     "output_type": "display_data"
    }
   ],
   "source": [
    "ζ_t = rand(D,D)\n",
    "println(tr(ζ_t'*g'*g*ζ_t))\n",
    "\n",
    "\n",
    "\n",
    "ζ_v = rand(D)\n",
    "#ζ_v = [0.; 0.; 0.; 0.]\n",
    "\n",
    "upper2symm!(ζ_t)\n",
    "\n",
    "Tr = tr(g*ζ_t)\n",
    "ζ_t = ζ_t - Tr*g/D\n",
    "\n",
    "@show latexify(ζ_t)\n",
    "\n",
    "tr(g*ζ_t)"
   ]
  },
  {
   "cell_type": "code",
   "execution_count": 13,
   "id": "9b8b0ae9",
   "metadata": {},
   "outputs": [
    {
     "data": {
      "text/plain": [
       "4×4 Matrix{Float64}:\n",
       " 3.0  4.0  0.0  0.0\n",
       " 4.0  5.0  0.0  0.0\n",
       " 0.0  0.0  0.0  0.0\n",
       " 0.0  0.0  0.0  0.0"
      ]
     },
     "metadata": {},
     "output_type": "display_data"
    }
   ],
   "source": [
    "v_test = [2, 1, 0, 0, 3, 4, 0, 0, 5, 0, 0, 0, 0, 0] #vector to test the plane symmetric case.\n",
    "\n",
    "vector_unpack(v_test)[2]"
   ]
  },
  {
   "cell_type": "markdown",
   "id": "3d3610e3-8f14-4c45-9f77-c9be1ae8d229",
   "metadata": {},
   "source": [
    "Likewise we define functions which take either a long vector or the pair vector-tensor"
   ]
  },
  {
   "cell_type": "code",
   "execution_count": null,
   "id": "f8666e49-b8d0-43d6-9063-4115eea7b2ad",
   "metadata": {},
   "outputs": [],
   "source": [
    "function Φ_vt(ζ_v, ζ_s, p)\n",
    "    D = length(ζ_v)\n",
    "    g = make_g(D)\n",
    "    #println(g)\n",
    "    χ₀ = p[1]\n",
    "    χ₁ = p[2]\n",
    "    χ₂ = p[3]\n",
    "    #ζ_s = my_symmetrization!(Symbolics.scalarize(ζ_t))\n",
    "    μ = Symbolics.scalarize(ζ_v)'*g*Symbolics.scalarize(ζ_v)\n",
    "    ν = (g*Symbolics.scalarize(ζ_v))'*Symbolics.scalarize(ζ_s)*Symbolics.scalarize(g*ζ_v)\n",
    "    l = Symbolics.scalarize(ζ_s)*Symbolics.scalarize(g*ζ_v)\n",
    "    𝚶 = l'* g * l\n",
    "    τ₂= tr(Symbolics.scalarize(ζ_s)*g'*Symbolics.scalarize(ζ_s)*g)\n",
    "    D1 = D//2+1\n",
    "    D2 = D//2+2\n",
    "    return χ₀*μ^(1-D//2) + χ₁*ν*μ^(-D1) + χ₂*(τ₂ - 4*D1*𝚶*μ^(-1) + 2*D1*D2*ν^2*μ^(-2))*μ^(-D1) \n",
    "    # the function seems to be correct: tr(g*T)=0 and also A is fully symmetric after symmetrization \n",
    "    # on first two indices\n",
    "    #return 𝚶\n",
    "end\n",
    "\n",
    "function Φ_v(ζ,p)\n",
    "    ζ_v, ζ_t = vector_unpack(ζ)\n",
    "    #ζ_t = vector2symmat(ζ[D+1:end])\n",
    "    #return Φ_vt(ζ[1:D], ζ_t, p)\n",
    "    return Φ_vt(ζ_v, ζ_t, p)\n",
    "end\n",
    "\n",
    "ζ_v,ζ_t = vector_unpack(v)\n",
    "Φ_vt(ζ_v,ζ_t, [1.,1.,1.])#, ζ_t, [1.;1;1])\n",
    "Φ_v(v, [1.,1.,1.])\n",
    "#ζ_v\n",
    "#ζ_t"
   ]
  },
  {
   "cell_type": "code",
   "execution_count": null,
   "id": "17bd1646-5179-4051-847b-8ff1c376e414",
   "metadata": {},
   "outputs": [],
   "source": [
    "@variables zv[1:D], zs[1:D,1:D], pv[1:3]\n",
    "\n",
    "Φ_vt(zv, zs, pv);"
   ]
  },
  {
   "cell_type": "code",
   "execution_count": null,
   "id": "1698cffb-fa77-4cb8-888a-06d130f496bb",
   "metadata": {},
   "outputs": [],
   "source": [
    "zvt = [zv[i] for i ∈ 1:D]\n",
    "zst = vec([zs[i,j] for i ∈ 1:D, j ∈ 1:D])\n",
    "JΦ_v = Symbolics.gradient(Φ_vt(zv, zs, pv), zvt);\n",
    "JΦ_s = (reshape(Symbolics.gradient(Φ_vt(zv, zs, pv), zst), (D,D)) + reshape(Symbolics.gradient(Φ_vt(zv, zs, pv), zst), (D,D))')/2 ;"
   ]
  },
  {
   "cell_type": "code",
   "execution_count": null,
   "id": "463e7761-1b33-4617-a188-25ae9c58bed2",
   "metadata": {},
   "outputs": [],
   "source": [
    "JΦ_v_exp = Symbolics.build_function(JΦ_v,zv, zs, pv);\n",
    "JΦ_ve = eval(JΦ_v_exp[1]);\n",
    "JΦ_ve(ζ_v,ζ_t, pv)"
   ]
  },
  {
   "cell_type": "code",
   "execution_count": null,
   "id": "e20d6c24-69a8-4e82-872f-010bce0ca23a",
   "metadata": {},
   "outputs": [],
   "source": [
    "JΦ_s_exp = Symbolics.build_function(JΦ_s, zv, zs, pv);\n",
    "JΦ_se = eval(JΦ_s_exp[1]);\n",
    "JΦ_se(ζ_v, ζ_t, pv);"
   ]
  },
  {
   "cell_type": "code",
   "execution_count": null,
   "id": "c7b6d611-ccdd-4917-a53a-a011b60151f5",
   "metadata": {},
   "outputs": [],
   "source": [
    "T_s = Symbolics.jacobian(JΦ_ve(zv, zs, pv), zvt);"
   ]
  },
  {
   "cell_type": "code",
   "execution_count": null,
   "id": "d4641504-d6c2-454d-ac80-529d1c814bca",
   "metadata": {},
   "outputs": [],
   "source": [
    "T_exp = Symbolics.build_function(T_s, zv, zs, pv);\n",
    "T = eval(T_exp[1]);"
   ]
  },
  {
   "cell_type": "code",
   "execution_count": null,
   "id": "af68a64c-d248-400c-950a-45d5aa85a4f1",
   "metadata": {},
   "outputs": [],
   "source": [
    "tr(g*T(ζ_v, ζ_t, [1.0;1.0;1.0]))"
   ]
  },
  {
   "cell_type": "code",
   "execution_count": null,
   "id": "0c5e8ae6-bde7-462e-8548-98c841033a8e",
   "metadata": {},
   "outputs": [],
   "source": [
    "tr(g*ζ_t)"
   ]
  },
  {
   "cell_type": "code",
   "execution_count": null,
   "id": "67cb3c9b-9ddb-4c51-b9f6-f145ee81478f",
   "metadata": {},
   "outputs": [],
   "source": [
    "A_s = Symbolics.jacobian(JΦ_ve(zv, zs, pv), zst);"
   ]
  },
  {
   "cell_type": "code",
   "execution_count": null,
   "id": "964cb877-9e46-4bb6-8d43-d858c5429d7a",
   "metadata": {},
   "outputs": [],
   "source": [
    "A_exp = Symbolics.build_function(A_s, zv, zs, pv);\n",
    "A = eval(A_exp[1]);"
   ]
  },
  {
   "cell_type": "code",
   "execution_count": null,
   "id": "aea898b6-7462-48b6-81a5-901a2e761156",
   "metadata": {},
   "outputs": [],
   "source": [
    "A_val = A(ζ_v, ζ_t, [1.0;1.0;1.0]);"
   ]
  },
  {
   "cell_type": "code",
   "execution_count": null,
   "id": "c063f2cd-da2c-42fe-976c-6ea29432e3f2",
   "metadata": {},
   "outputs": [],
   "source": [
    "AA = reshape(A_val', (D,D,D)); # last index is the vectorial one"
   ]
  },
  {
   "cell_type": "code",
   "execution_count": null,
   "id": "59f1faab-8083-4721-b83d-d6cbf5678902",
   "metadata": {},
   "outputs": [],
   "source": [
    "AS = symm_A(AA)"
   ]
  },
  {
   "cell_type": "code",
   "execution_count": null,
   "id": "54f5eac4-973b-471c-839a-9230232bfde6",
   "metadata": {},
   "outputs": [],
   "source": [
    "tr_A(AS,g)"
   ]
  },
  {
   "cell_type": "code",
   "execution_count": null,
   "id": "d0c94de2-1273-4aa3-87c5-18dd6b5f88c8",
   "metadata": {},
   "outputs": [],
   "source": [
    "tr_A(STF_A(AS,g),g)"
   ]
  },
  {
   "cell_type": "code",
   "execution_count": null,
   "id": "d01af780-7f4c-44db-aae3-40b9a6b4fc21",
   "metadata": {},
   "outputs": [],
   "source": [
    "A_stf = STF_A(AS,g)"
   ]
  },
  {
   "cell_type": "code",
   "execution_count": null,
   "id": "c697d167-db1d-4eb4-80a9-4c72b8268787",
   "metadata": {},
   "outputs": [],
   "source": [
    "full_symmetry_check(A_stf)"
   ]
  },
  {
   "cell_type": "code",
   "execution_count": null,
   "id": "3a1a20fc-31cd-45ce-841f-a33dd7d72478",
   "metadata": {},
   "outputs": [],
   "source": [
    "A_s_dual = Symbolics.jacobian(JΦ_se(zv, zs, pv), zvt);"
   ]
  },
  {
   "cell_type": "code",
   "execution_count": null,
   "id": "f1974726-f852-4010-9951-481feaf052ff",
   "metadata": {},
   "outputs": [],
   "source": []
  },
  {
   "cell_type": "markdown",
   "id": "308a397c-3036-4e47-bf60-1309e4182b2c",
   "metadata": {},
   "source": [
    "We define now the conserved quantities and then the field-coordinate transformation."
   ]
  },
  {
   "cell_type": "code",
   "execution_count": null,
   "id": "8b9156b1-9921-46e8-85b7-4641971198a4",
   "metadata": {},
   "outputs": [],
   "source": [
    "function C(ζ,p,g,k::Int64) \n",
    "    D = length(Symbolics.scalarize(g)[:,1])\n",
    "    ζ_v, ζ_t = Symbolics.scalarize(vector_unpack(ζ))\n",
    "        AA = reshape(Symbolics.scalarize(A(ζ_v, ζ_t, p))', (D,D,D))[:,:,k]\n",
    "        upper2symm!(AA)\n",
    "        Tr = tr(AA)\n",
    "        AA = AA - g*Tr/D\n",
    "        return [T(ζ_v, ζ_t, p)[:,k]; symmat2vector(AA)]\n",
    "end"
   ]
  },
  {
   "cell_type": "code",
   "execution_count": null,
   "id": "71488cc8-be7b-4ade-a75e-977911412e3f",
   "metadata": {},
   "outputs": [],
   "source": [
    "@variables zz[1:D+D*(D+1)÷2] gv[D,D]\n",
    "zzt = [zz[i] for i ∈ 1:(D+D*(D+1)÷2)]\n",
    "JC1_s = Symbolics.jacobian(C(zz,pv,gv,1),zzt)"
   ]
  },
  {
   "cell_type": "code",
   "execution_count": null,
   "id": "ce1f9502-6261-4107-8585-e040ba0e405b",
   "metadata": {},
   "outputs": [],
   "source": [
    "C1 = C(rand(14),[1;1;2],g,1)"
   ]
  },
  {
   "cell_type": "code",
   "execution_count": null,
   "id": "e0bbae99-896e-475c-aeb7-3ae13a6acad2",
   "metadata": {},
   "outputs": [],
   "source": [
    "T0, A0 = vector_unpack(C1)"
   ]
  },
  {
   "cell_type": "code",
   "execution_count": null,
   "id": "4ee2f141-7a72-4840-9361-10da965b5ad9",
   "metadata": {},
   "outputs": [],
   "source": [
    "full_symmetry_check(A0)"
   ]
  },
  {
   "cell_type": "code",
   "execution_count": null,
   "id": "d5d42c59-bae6-4150-9fa7-b04a6bc88b0c",
   "metadata": {},
   "outputs": [],
   "source": [
    "function C2A!(ζ,c,p)\n",
    "    χ, tol, iter_max, g, M, C, J = p\n",
    "    while norm(C(ζ,χ,g,1) - c) > tol && iter < iter_max\n",
    "            ζ = ζ - J(ζ,p,g) \\ (C(ζ,χ,g,1) - c)\n",
    "            iter = iter + 1\n",
    "            if iter == iter_max \n",
    "            println(\"iter_max reached j = $j\")\n",
    "            end\n",
    "    end\n",
    "end"
   ]
  },
  {
   "cell_type": "code",
   "execution_count": null,
   "id": "168eee80-9536-429a-a780-ace6ef4ffc00",
   "metadata": {},
   "outputs": [],
   "source": [
    "p_N = [1.,1.,1.], 10^(-6), g, 1, C1, JC1"
   ]
  },
  {
   "cell_type": "code",
   "execution_count": null,
   "id": "06f69fc3-d577-4fe6-a7c5-4e68b130e420",
   "metadata": {},
   "outputs": [],
   "source": []
  },
  {
   "cell_type": "code",
   "execution_count": null,
   "id": "a291750c-69b9-4cca-93ea-f56cd01b41c2",
   "metadata": {},
   "outputs": [],
   "source": []
  },
  {
   "cell_type": "code",
   "execution_count": null,
   "id": "6f2d1767-7509-4b88-8b02-8cd1964688c9",
   "metadata": {},
   "outputs": [],
   "source": []
  },
  {
   "cell_type": "code",
   "execution_count": null,
   "id": "f246bab8-2560-4a04-8d7e-d3049dc63b71",
   "metadata": {},
   "outputs": [],
   "source": [
    "function c_to_f!(flu, con, p)\n",
    "    χ, tol, iter_max, N, M = p\n",
    "    for j ∈ 1:M\n",
    "        flu[1,j] = -flu[1,j]\n",
    "        iter = 1\n",
    "        while F(flu[:,j],con[:,j], χ)'*F(flu[:,j],con[:,j], χ) > tol && iter < iter_max\n",
    "            flu[:,j] = NR_step!(F, Jac, flu[:,j], con[:,j], χ)\n",
    "            iter = iter + 1\n",
    "            if iter == iter_max \n",
    "            println(\"iter_max reached j = $j\")\n",
    "            end\n",
    "        end\n",
    "    #println(iter)\n",
    "        flu[1,j] = -flu[1,j]\n",
    "    end\n",
    "    return flu[:,:]\n",
    "end\n"
   ]
  },
  {
   "cell_type": "code",
   "execution_count": null,
   "id": "62242141-84a1-4f56-9b88-7cd0017ae612",
   "metadata": {},
   "outputs": [],
   "source": [
    "include(\"symbolics_ext.jl\")\n",
    "\n",
    "Φ_new(rand(L),([1.0;1.0;1.0],make_g(D)))"
   ]
  },
  {
   "cell_type": "code",
   "execution_count": null,
   "id": "49ff8369",
   "metadata": {},
   "outputs": [],
   "source": [
    "@variables vs[1:L] ps[1:3] gs[D,D]\n",
    "vst = [vs[i] for i ∈ 1:L]\n",
    "pv = (ps, gs)\n",
    "∇ζ = Symbolics.gradient(Φ_new(vs,pv),vst);"
   ]
  },
  {
   "cell_type": "code",
   "execution_count": null,
   "id": "e7bd7fb0",
   "metadata": {},
   "outputs": [],
   "source": [
    "∇ζ_exp = Symbolics.build_function(∇ζ,vs,pv);\n",
    "∇ζ_f = eval(∇ζ_exp[1]);"
   ]
  },
  {
   "cell_type": "code",
   "execution_count": null,
   "id": "36223f89",
   "metadata": {},
   "outputs": [],
   "source": [
    "g = make_g(D)\n",
    "pp = ([1.0;1.0;1.0],g)\n",
    "∇ζ_f(rand(L),([1.0;1.0;1.0],make_g(D)))"
   ]
  },
  {
   "cell_type": "code",
   "execution_count": null,
   "id": "fa92c05f",
   "metadata": {},
   "outputs": [],
   "source": [
    "Symbolics.jacobian(∇ζ(vs,pv),vst);"
   ]
  },
  {
   "cell_type": "code",
   "execution_count": null,
   "id": "58aaf3dd-2c56-4a02-aac6-fd26ed484aca",
   "metadata": {},
   "outputs": [],
   "source": [
    "ζ_v, ζ_t = vector_unpack(vs)\n",
    "#ζ_v' * gs * ζ_v\n",
    "\n",
    "#typeof(ζ_v)"
   ]
  },
  {
   "cell_type": "code",
   "execution_count": null,
   "id": "c30c9040-9c92-44ed-9b91-5557eb4928b5",
   "metadata": {},
   "outputs": [],
   "source": [
    "Symbolics.scalarize(vs)[1:D]"
   ]
  },
  {
   "cell_type": "code",
   "execution_count": null,
   "id": "dd784146-949f-41aa-8f20-369cbcc3b110",
   "metadata": {},
   "outputs": [],
   "source": [
    "vector2symmat(Symbolics.scalarize(vs)[D+1:end])[:,:]"
   ]
  },
  {
   "cell_type": "code",
   "execution_count": null,
   "id": "db1bbc03-eb4d-401a-8f96-12963432b294",
   "metadata": {},
   "outputs": [],
   "source": [
    "include(\"symbolics_ext.jl\")\n",
    "mu(rand(14))\n",
    "nu(rand(14))\n",
    "omicron(rand(14))\n",
    "tau2(rand(14))"
   ]
  },
  {
   "cell_type": "code",
   "execution_count": null,
   "id": "560c9fcb-b71b-4e6f-968c-3ce074390f00",
   "metadata": {},
   "outputs": [],
   "source": []
  }
 ],
 "metadata": {
  "kernelspec": {
   "display_name": "Julia 1.7.2",
   "language": "julia",
   "name": "julia-1.7"
  },
  "language_info": {
   "file_extension": ".jl",
   "mimetype": "application/julia",
   "name": "julia",
   "version": "1.7.2"
  }
 },
 "nbformat": 4,
 "nbformat_minor": 5
}
