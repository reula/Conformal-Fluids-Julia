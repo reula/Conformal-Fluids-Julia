{
 "cells": [
  {
   "cell_type": "code",
   "execution_count": 1,
   "metadata": {},
   "outputs": [
    {
     "name": "stdout",
     "output_type": "stream",
     "text": [
      "nthreads = 2\n"
     ]
    }
   ],
   "source": [
    "using Symbolics\n",
    "using LinearAlgebra\n",
    "using Latexify\n",
    "using Plots\n",
    "using BenchmarkTools\n",
    "using FileIO\n",
    "using JLD2\n",
    "using Base.Threads\n",
    "#Pkg; Pkg.add(\"DistributedArrays\")\n",
    "println(\"nthreads = $(nthreads())\")\n",
    "using Printf"
   ]
  },
  {
   "cell_type": "code",
   "execution_count": null,
   "metadata": {},
   "outputs": [],
   "source": [
    "#data = load(\"../D4_test.jld2\")"
   ]
  },
  {
   "cell_type": "code",
   "execution_count": 2,
   "metadata": {},
   "outputs": [
    {
     "data": {
      "text/plain": [
       "χaAB (generic function with 1 method)"
      ]
     },
     "metadata": {},
     "output_type": "display_data"
    }
   ],
   "source": [
    "include(\"symbolics_ext.jl\")\n"
   ]
  },
  {
   "cell_type": "code",
   "execution_count": 3,
   "metadata": {},
   "outputs": [
    {
     "name": "stdout",
     "output_type": "stream",
     "text": [
      "D = 4, L = 14\n"
     ]
    },
    {
     "data": {
      "text/plain": [
       "3-element Vector{Float64}:\n",
       " 1.0\n",
       " 1.0\n",
       " 1.0"
      ]
     },
     "metadata": {},
     "output_type": "display_data"
    }
   ],
   "source": [
    "D = Int64(4) #dimensions\n",
    "L = (D+(D*(D+1)÷2))\n",
    "println(\"D = $D, L = $L\")\n",
    "g = make_g(D)\n",
    "ζ = rand(L)\n",
    "p = ([1.0;1.0;1.0])"
   ]
  },
  {
   "cell_type": "code",
   "execution_count": 10,
   "metadata": {},
   "outputs": [],
   "source": [
    "@variables vs[1:L] ps[1:3] t\n",
    "vst = [vs[i] for i ∈ 1:L]\n",
    "vs_a = [vs[i] for i ∈ 1:D]\n",
    "\n",
    "μ_c(ζ)=ζ[1:D]'*g*ζ[1:D]\n",
    "\n",
    "@register_symbolic μ_c(vst) \n",
    "@register_symbolic μ(vs)::Sym\n",
    "@register_symbolic h(t)"
   ]
  },
  {
   "cell_type": "code",
   "execution_count": 5,
   "metadata": {},
   "outputs": [
    {
     "data": {
      "text/plain": [
       "μ_c (generic function with 2 methods)"
      ]
     },
     "metadata": {},
     "output_type": "display_data"
    }
   ],
   "source": [
    "μ_c"
   ]
  },
  {
   "cell_type": "code",
   "execution_count": 11,
   "metadata": {},
   "outputs": [],
   "source": [
    "Symbolics.derivative(::typeof(μ), args::NTuple{1,Any}, ::Val{1}) = 2*args[1]"
   ]
  },
  {
   "cell_type": "code",
   "execution_count": 15,
   "metadata": {},
   "outputs": [
    {
     "ename": "MethodError",
     "evalue": "MethodError: no method matching μ(::Symbolics.Arr{Num, 1})\nClosest candidates are:\n  μ(!Matched::SymbolicUtils.Symbolic{<:Real}) at ~/.julia/packages/Symbolics/J8IHJ/src/register.jl:51\n  μ(!Matched::Num) at ~/.julia/packages/Symbolics/J8IHJ/src/register.jl:51",
     "output_type": "error",
     "traceback": [
      "MethodError: no method matching μ(::Symbolics.Arr{Num, 1})\n",
      "Closest candidates are:\n",
      "  μ(!Matched::SymbolicUtils.Symbolic{<:Real}) at ~/.julia/packages/Symbolics/J8IHJ/src/register.jl:51\n",
      "  μ(!Matched::Num) at ~/.julia/packages/Symbolics/J8IHJ/src/register.jl:51\n",
      "\n",
      "Stacktrace:\n",
      " [1] top-level scope\n",
      "   @ ~/Julia/Fluidos_Conformes/Symbolics/symb_try.ipynb:1"
     ]
    }
   ],
   "source": [
    "Symbolics.derivative(μ(vs), vs)"
   ]
  },
  {
   "cell_type": "code",
   "execution_count": 16,
   "metadata": {},
   "outputs": [],
   "source": [
    "Symbolics.derivative(::typeof(μ_c), args::NTuple{1,Any}, ::Val{1}) = 2*args[1]"
   ]
  },
  {
   "cell_type": "code",
   "execution_count": 17,
   "metadata": {},
   "outputs": [
    {
     "ename": "ErrorException",
     "evalue": "Differentiation with array expressions is not yet supported",
     "output_type": "error",
     "traceback": [
      "Differentiation with array expressions is not yet supported\n",
      "\n",
      "Stacktrace:\n",
      "  [1] error(s::String)\n",
      "    @ Base ./error.jl:35\n",
      "  [2] occursin_info\n",
      "    @ ~/.julia/packages/Symbolics/J8IHJ/src/diff.jl:59 [inlined]\n",
      "  [3] (::Symbolics.var\"#198#200\"{SymbolicUtils.Sym{Vector{Real}, Base.ImmutableDict{DataType, Any}}, SymbolicUtils.Term{Real, Nothing}})(a::Symbolics.ArrayOp{Matrix{Real}})\n",
      "    @ Symbolics ~/.julia/packages/Symbolics/J8IHJ/src/diff.jl:92\n",
      "  [4] iterate\n",
      "    @ ./generator.jl:47 [inlined]\n",
      "  [5] _collect(c::Vector{Symbolics.ArrayOp}, itr::Base.Generator{Vector{Symbolics.ArrayOp}, Symbolics.var\"#198#200\"{SymbolicUtils.Sym{Vector{Real}, Base.ImmutableDict{DataType, Any}}, SymbolicUtils.Term{Real, Nothing}}}, #unused#::Base.EltypeUnknown, isz::Base.HasShape{1})\n",
      "    @ Base ./array.jl:807\n",
      "  [6] collect_similar(cont::Vector{Symbolics.ArrayOp}, itr::Base.Generator{Vector{Symbolics.ArrayOp}, Symbolics.var\"#198#200\"{SymbolicUtils.Sym{Vector{Real}, Base.ImmutableDict{DataType, Any}}, SymbolicUtils.Term{Real, Nothing}}})\n",
      "    @ Base ./array.jl:716\n",
      "  [7] map(f::Function, A::Vector{Symbolics.ArrayOp})\n",
      "    @ Base ./abstractarray.jl:2933\n",
      "  [8] occursin_info(x::SymbolicUtils.Sym{Vector{Real}, Base.ImmutableDict{DataType, Any}}, expr::SymbolicUtils.Term{Real, Nothing}, fail::Bool)\n",
      "    @ Symbolics ~/.julia/packages/Symbolics/J8IHJ/src/diff.jl:92\n",
      "  [9] occursin_info(x::SymbolicUtils.Sym{Vector{Real}, Base.ImmutableDict{DataType, Any}}, expr::SymbolicUtils.Term{Real, Nothing})\n",
      "    @ Symbolics ~/.julia/packages/Symbolics/J8IHJ/src/diff.jl:57\n",
      " [10] expand_derivatives(O::SymbolicUtils.Term{Real, Nothing}, simplify::Bool; occurances::Nothing)\n",
      "    @ Symbolics ~/.julia/packages/Symbolics/J8IHJ/src/diff.jl:169\n",
      " [11] expand_derivatives(O::SymbolicUtils.Term{Real, Nothing}, simplify::Bool)\n",
      "    @ Symbolics ~/.julia/packages/Symbolics/J8IHJ/src/diff.jl:163\n",
      " [12] derivative(O::Num, v::Symbolics.Arr{Num, 1}; simplify::Bool)\n",
      "    @ Symbolics ~/.julia/packages/Symbolics/J8IHJ/src/diff.jl:420\n",
      " [13] derivative(O::Num, v::Symbolics.Arr{Num, 1})\n",
      "    @ Symbolics ~/.julia/packages/Symbolics/J8IHJ/src/diff.jl:416\n",
      " [14] top-level scope\n",
      "    @ ~/Julia/Fluidos_Conformes/Symbolics/symb_try.ipynb:1"
     ]
    }
   ],
   "source": [
    "Symbolics.derivative(μ_c(vs), vs)"
   ]
  },
  {
   "cell_type": "code",
   "execution_count": 8,
   "metadata": {},
   "outputs": [],
   "source": [
    "Symbolics.derivative(::typeof(h), args::NTuple{1,Any}, ::Val{1}) = 2*args[1]"
   ]
  },
  {
   "cell_type": "code",
   "execution_count": 9,
   "metadata": {},
   "outputs": [
    {
     "data": {
      "text/latex": [
       "\\begin{equation}\n",
       "2 t\n",
       "\\end{equation}\n"
      ],
      "text/plain": [
       "2t"
      ]
     },
     "metadata": {},
     "output_type": "display_data"
    }
   ],
   "source": [
    "Symbolics.derivative(h(t), t)"
   ]
  },
  {
   "cell_type": "code",
   "execution_count": null,
   "metadata": {},
   "outputs": [],
   "source": []
  }
 ],
 "metadata": {
  "kernelspec": {
   "display_name": "Julia 1.8.1",
   "language": "julia",
   "name": "julia-1.8"
  },
  "language_info": {
   "file_extension": ".jl",
   "mimetype": "application/julia",
   "name": "julia",
   "version": "1.8.1"
  },
  "orig_nbformat": 4
 },
 "nbformat": 4,
 "nbformat_minor": 2
}
