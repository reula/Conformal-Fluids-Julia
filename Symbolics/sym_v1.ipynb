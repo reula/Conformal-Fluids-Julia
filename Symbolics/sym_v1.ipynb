{
 "cells": [
  {
   "cell_type": "code",
   "execution_count": 275,
   "metadata": {},
   "outputs": [],
   "source": [
    "using Symbolics\n",
    "using LinearAlgebra\n",
    "using Latexify\n",
    "using Plots"
   ]
  },
  {
   "cell_type": "code",
   "execution_count": 308,
   "metadata": {},
   "outputs": [
    {
     "data": {
      "text/plain": [
       "χ0AB"
      ]
     },
     "metadata": {},
     "output_type": "display_data"
    }
   ],
   "source": [
    "include(\"symbolics_ext.jl\")"
   ]
  },
  {
   "cell_type": "code",
   "execution_count": 309,
   "metadata": {},
   "outputs": [
    {
     "name": "stdout",
     "output_type": "stream",
     "text": [
      "D = 2, L = 5\n"
     ]
    },
    {
     "data": {
      "text/plain": [
       "3-element Vector{Float64}:\n",
       " 1.0\n",
       " 1.0\n",
       " 1.0"
      ]
     },
     "metadata": {},
     "output_type": "display_data"
    }
   ],
   "source": [
    "#D = Int64(4) #dimensions\n",
    "#D = Int64(3)\n",
    "D = Int64(2) #dimensions\n",
    "L = (D+(D*(D+1)÷2))\n",
    "println(\"D = $D, L = $L\")\n",
    "#ζ = Vector{Float64}(undef,L)\n",
    "#ζ_v = Vector{Float64}(undef,D)\n",
    "#ζ_t = Array{Float64}(undef,D,D)\n",
    "g = make_g(D)\n",
    "ζ = rand(L)\n",
    "p = ([1.0;1.0;1.0])"
   ]
  },
  {
   "cell_type": "code",
   "execution_count": 310,
   "metadata": {},
   "outputs": [
    {
     "data": {
      "text/plain": [
       "41.5120582824191"
      ]
     },
     "metadata": {},
     "output_type": "display_data"
    }
   ],
   "source": [
    "Φ_new(ζ,p)"
   ]
  },
  {
   "cell_type": "code",
   "execution_count": 311,
   "metadata": {},
   "outputs": [],
   "source": [
    "@variables vs[1:L] ps[1:3]\n",
    "vst = [vs[i] for i ∈ 1:L]\n",
    "∇ζ = Symbolics.gradient(Φ_new(vs,ps),vst);"
   ]
  },
  {
   "cell_type": "code",
   "execution_count": 312,
   "metadata": {},
   "outputs": [
    {
     "data": {
      "text/plain": [
       "#177 (generic function with 1 method)"
      ]
     },
     "metadata": {},
     "output_type": "display_data"
    }
   ],
   "source": [
    "∇ζ_exp = Symbolics.build_function(∇ζ,vs,ps);\n",
    "∇ζ_f = eval(∇ζ_exp[1])"
   ]
  },
  {
   "cell_type": "code",
   "execution_count": 313,
   "metadata": {},
   "outputs": [
    {
     "data": {
      "text/plain": [
       "5-element Vector{Float64}:\n",
       " -281.69315273192694\n",
       "  -86.21383200200704\n",
       "   25.365037300869652\n",
       "   86.37387106202348\n",
       "  -16.498208767777207"
      ]
     },
     "metadata": {},
     "output_type": "display_data"
    }
   ],
   "source": [
    "∇ζ_f(ζ,p)"
   ]
  },
  {
   "cell_type": "code",
   "execution_count": 314,
   "metadata": {},
   "outputs": [],
   "source": [
    "vs_a = [vs[i] for i ∈ 1:D]\n",
    "ΦaA = χaA(Φ_new(vs,ps),vs_a,vst);"
   ]
  },
  {
   "cell_type": "code",
   "execution_count": 315,
   "metadata": {},
   "outputs": [
    {
     "data": {
      "text/plain": [
       "#181 (generic function with 1 method)"
      ]
     },
     "metadata": {},
     "output_type": "display_data"
    }
   ],
   "source": [
    "ΦaA_exp = Symbolics.build_function(ΦaA,vs,ps);\n",
    "ΦaA_f = eval(ΦaA_exp[1])"
   ]
  },
  {
   "cell_type": "code",
   "execution_count": 316,
   "metadata": {},
   "outputs": [
    {
     "data": {
      "text/plain": [
       "2×5 Matrix{Float64}:\n",
       " 2447.84    405.139    22.8391  -316.401     22.8391\n",
       "  405.139  2166.51   -321.921     59.6381  -321.921"
      ]
     },
     "metadata": {},
     "output_type": "display_data"
    }
   ],
   "source": [
    "ΦaA_f(ζ,p)"
   ]
  },
  {
   "cell_type": "code",
   "execution_count": 317,
   "metadata": {},
   "outputs": [],
   "source": [
    "#include(\"symbolics_ext.jl\")\n",
    "Φ0AB = χ0AB(Φ_new(vs,ps),vst);"
   ]
  },
  {
   "cell_type": "code",
   "execution_count": 318,
   "metadata": {},
   "outputs": [
    {
     "data": {
      "text/plain": [
       "#183 (generic function with 1 method)"
      ]
     },
     "metadata": {},
     "output_type": "display_data"
    }
   ],
   "source": [
    "Φ0AB_exp = Symbolics.build_function(Φ0AB,vs,ps);\n",
    "Φ0AB_f = eval(Φ0AB_exp[1])"
   ]
  },
  {
   "cell_type": "code",
   "execution_count": 319,
   "metadata": {},
   "outputs": [
    {
     "data": {
      "text/plain": [
       "5×5 Matrix{Float64}:\n",
       " -25914.0      -650.807  -677.701   2961.07   -677.701\n",
       "   -650.807  -23215.5    3021.04   -1012.32   3021.04\n",
       "   -677.701    3021.04   -286.525    182.966  -286.525\n",
       "   2961.07    -1012.32    182.966   -286.525   182.966\n",
       "   -677.701    3021.04   -286.525    182.966  -286.525"
      ]
     },
     "metadata": {},
     "output_type": "display_data"
    }
   ],
   "source": [
    "Φ0AB_f(ζ,p)"
   ]
  },
  {
   "cell_type": "code",
   "execution_count": 320,
   "metadata": {},
   "outputs": [
    {
     "name": "stdout",
     "output_type": "stream",
     "text": [
      "[1.0, 0.1, 1.0, 0.25, 0.5]\n",
      "[1.0, 0.1, 0.75, 0.25, 0.75]\n"
     ]
    },
    {
     "data": {
      "text/plain": [
       "0.0"
      ]
     },
     "metadata": {},
     "output_type": "display_data"
    }
   ],
   "source": [
    "ζ_t = zeros(L)\n",
    "ζ_t[1] = 1.0  \n",
    "ζ_t[2] = 0.10\n",
    "ζ_t[D + l_ind(1,1,D)] = 1.0 #00\n",
    "ζ_t[D + l_ind(1,2,D)] = 0.25 #01\n",
    "ζ_t[D + l_ind(2,2,D)] = 0.5 #11\n",
    "#ζ_t[D + l_ind(3,3,D)] = 0.25\n",
    "#ζ_t[D + l_ind(4,4,D)] = 0.25\n",
    "\n",
    "#tr(g*vector_unpack(ζ_t)[2])\n",
    "#vector_unpack(ζ_t)[2]\n",
    "println(ζ_t)\n",
    "println(make_vector_TF!(ζ_t))\n",
    "tr(g*vector_unpack(ζ_t)[2])"
   ]
  },
  {
   "cell_type": "code",
   "execution_count": 321,
   "metadata": {},
   "outputs": [
    {
     "data": {
      "text/plain": [
       "2×5 Matrix{Float64}:\n",
       " 64.3678    5.81421  -18.6736     3.02021  -18.6736\n",
       "  5.81421  64.3678     3.02021  -18.6736     3.02021"
      ]
     },
     "metadata": {},
     "output_type": "display_data"
    }
   ],
   "source": [
    "\n",
    "ΦaA_f(ζ_t,p)"
   ]
  },
  {
   "cell_type": "code",
   "execution_count": 322,
   "metadata": {},
   "outputs": [
    {
     "data": {
      "text/plain": [
       "2×2 Matrix{Float64}:\n",
       " 68.4899    4.99797\n",
       "  4.99797  68.4899"
      ]
     },
     "metadata": {},
     "output_type": "display_data"
    }
   ],
   "source": [
    "T = ΦaA_f(ζ_t,[-1.0,1.0,1.0])[1:D,1:D]\n",
    "#T = ΦaA_f(make_vector_TF!(rand(L)),[-1.0,1.0,1.0])[1:D,1:D]"
   ]
  },
  {
   "cell_type": "code",
   "execution_count": 323,
   "metadata": {},
   "outputs": [
    {
     "data": {
      "text/plain": [
       "8.526512829121202e-14"
      ]
     },
     "metadata": {},
     "output_type": "display_data"
    }
   ],
   "source": [
    "tr(g*T)"
   ]
  },
  {
   "cell_type": "code",
   "execution_count": 324,
   "metadata": {},
   "outputs": [
    {
     "data": {
      "text/plain": [
       "2×2 Matrix{Float64}:\n",
       " -18.6736     3.02021\n",
       "   3.02021  -18.6736"
      ]
     },
     "metadata": {},
     "output_type": "display_data"
    }
   ],
   "source": [
    "A0 = vector2symmat(ΦaA_f(ζ_t,[-1.0,1.0,1.0])[1,D+1:end])"
   ]
  },
  {
   "cell_type": "code",
   "execution_count": 325,
   "metadata": {},
   "outputs": [
    {
     "data": {
      "text/plain": [
       "5×5 Matrix{Float64}:\n",
       " -386.271       4.89986   93.6295   -23.8436    93.6295\n",
       "    4.89986  -386.271    -23.8436    93.6295   -23.8436\n",
       "   93.6295    -23.8436   -13.8866     6.43552  -13.8866\n",
       "  -23.8436     93.6295     6.43552  -13.8866     6.43552\n",
       "   93.6295    -23.8436   -13.8866     6.43552  -13.8866"
      ]
     },
     "metadata": {},
     "output_type": "display_data"
    }
   ],
   "source": [
    "Φ0AB_f(ζ_t,p)"
   ]
  },
  {
   "cell_type": "code",
   "execution_count": 327,
   "metadata": {},
   "outputs": [
    {
     "name": "stdout",
     "output_type": "stream",
     "text": [
      "  0.000017 seconds (27 allocations: 672 bytes)\n"
     ]
    },
    {
     "data": {
      "text/plain": [
       "-386.27055961394495"
      ]
     },
     "metadata": {},
     "output_type": "display_data"
    }
   ],
   "source": [
    "@time Φ0AB_f(ζ_t,p)[1,1]"
   ]
  },
  {
   "cell_type": "code",
   "execution_count": 328,
   "metadata": {},
   "outputs": [
    {
     "data": {
      "text/plain": [
       "2×2×2 Array{Float64, 3}:\n",
       "[:, :, 1] =\n",
       "  345.441  -350.34\n",
       " -350.34    345.441\n",
       "\n",
       "[:, :, 2] =\n",
       " -350.34    345.441\n",
       "  345.441  -350.34"
      ]
     },
     "metadata": {},
     "output_type": "display_data"
    }
   ],
   "source": [
    "#AA = get_A(ΦaA_f(ζ_t,[-1.0,1.0,1.0]))\n",
    "AA = get_A(ΦaA_f(make_vector_TF!(rand(L)),[-1.0,1.0,1.0]))"
   ]
  },
  {
   "cell_type": "code",
   "execution_count": 329,
   "metadata": {},
   "outputs": [
    {
     "data": {
      "text/plain": [
       "1.1368683772161603e-13"
      ]
     },
     "metadata": {},
     "output_type": "display_data"
    }
   ],
   "source": [
    "full_symmetry_check(AA)"
   ]
  },
  {
   "cell_type": "code",
   "execution_count": 330,
   "metadata": {},
   "outputs": [
    {
     "data": {
      "text/plain": [
       "2-element Vector{Float64}:\n",
       " 0.0\n",
       " 0.0"
      ]
     },
     "metadata": {},
     "output_type": "display_data"
    }
   ],
   "source": [
    "include(\"symbolics_ext.jl\")\n",
    "tr_A_12(AA,g)"
   ]
  },
  {
   "cell_type": "code",
   "execution_count": 331,
   "metadata": {},
   "outputs": [
    {
     "data": {
      "text/plain": [
       "0.0"
      ]
     },
     "metadata": {},
     "output_type": "display_data"
    }
   ],
   "source": [
    "tr(g*AA[:,:,1])"
   ]
  },
  {
   "cell_type": "code",
   "execution_count": 332,
   "metadata": {},
   "outputs": [
    {
     "data": {
      "text/plain": [
       "-350.34004807719526"
      ]
     },
     "metadata": {},
     "output_type": "display_data"
    }
   ],
   "source": [
    "AA[1,1,2]"
   ]
  },
  {
   "cell_type": "code",
   "execution_count": null,
   "metadata": {},
   "outputs": [],
   "source": []
  }
 ],
 "metadata": {
  "kernelspec": {
   "display_name": "Julia 1.7.2",
   "language": "julia",
   "name": "julia-1.7"
  },
  "language_info": {
   "file_extension": ".jl",
   "mimetype": "application/julia",
   "name": "julia",
   "version": "1.7.2"
  }
 },
 "nbformat": 4,
 "nbformat_minor": 4
}
