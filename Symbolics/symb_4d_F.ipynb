{
 "cells": [
  {
   "cell_type": "markdown",
   "metadata": {},
   "source": [
    "## 4D equations using symbolics."
   ]
  },
  {
   "cell_type": "code",
   "execution_count": 1,
   "metadata": {},
   "outputs": [
    {
     "name": "stdout",
     "output_type": "stream",
     "text": [
      "nthreads = 10\n"
     ]
    }
   ],
   "source": [
    "using Symbolics\n",
    "using LinearAlgebra\n",
    "using Latexify\n",
    "using Plots\n",
    "using BenchmarkTools\n",
    "using FileIO\n",
    "using JLD2\n",
    "using Base.Threads\n",
    "#Pkg; Pkg.add(\"DistributedArrays\")\n",
    "println(\"nthreads = $(nthreads())\")\n",
    "using Printf"
   ]
  },
  {
   "cell_type": "markdown",
   "metadata": {},
   "source": []
  },
  {
   "cell_type": "code",
   "execution_count": 2,
   "metadata": {},
   "outputs": [
    {
     "data": {
      "text/plain": [
       "χaAB (generic function with 1 method)"
      ]
     },
     "execution_count": 2,
     "metadata": {},
     "output_type": "execute_result"
    }
   ],
   "source": [
    "include(\"symbolics_ext.jl\")"
   ]
  },
  {
   "cell_type": "code",
   "execution_count": 3,
   "metadata": {},
   "outputs": [
    {
     "name": "stdout",
     "output_type": "stream",
     "text": [
      "D = 4, L = 14\n"
     ]
    },
    {
     "data": {
      "text/plain": [
       "3-element Vector{Float64}:\n",
       " 1.0\n",
       " 1.0\n",
       " 1.0"
      ]
     },
     "execution_count": 3,
     "metadata": {},
     "output_type": "execute_result"
    }
   ],
   "source": [
    "D = Int64(4) #dimensions\n",
    "L = (D+(D*(D+1)÷2))\n",
    "println(\"D = $D, L = $L\")\n",
    "g = make_g(D)\n",
    "ζ = rand(L)\n",
    "p = ([1.0;1.0;1.0])"
   ]
  },
  {
   "cell_type": "code",
   "execution_count": null,
   "metadata": {},
   "outputs": [],
   "source": [
    "@variables vs[1:L] ps[1:3]\n",
    "vst = [vs[i] for i ∈ 1:L]\n",
    "vs_a = [vs[i] for i ∈ 1:D]\n",
    "ΦaA = χaA(Φ_new(vs,ps),vs_a,vst);\n",
    "ΦaA_exp = Symbolics.build_function(ΦaA,vs,ps);\n",
    "ΦaA_f = eval(ΦaA_exp[1])"
   ]
  },
  {
   "cell_type": "code",
   "execution_count": 4,
   "metadata": {},
   "outputs": [
    {
     "data": {
      "text/plain": [
       "14-element Vector{Int64}:\n",
       " 2\n",
       " 1\n",
       " 0\n",
       " 0\n",
       " 0\n",
       " 4\n",
       " 0\n",
       " 0\n",
       " 5\n",
       " 0\n",
       " 0\n",
       " 0\n",
       " 0\n",
       " 0"
      ]
     },
     "execution_count": 4,
     "metadata": {},
     "output_type": "execute_result"
    }
   ],
   "source": [
    "v_test = [zeros(L) for _ in 1:8]\n",
    "v_test[1] = [2, 1, 0, 0, 3, 4, 0, 0, 5, 0, 0, 0, 0, 0]\n",
    "v_test[2] = [4, 2, 0, 0, 3, 4, 0, 0, 5, 0, 0, 0, 0, 0] # para probar μ\n",
    "v_test[3] = [2, 1, 0, 0, 3, 0, 0, 0, 0, 0, 0, 0, 0, 0] # ν\n",
    "v_test[4] = [2, 1, 0, 0, 0, 4, 0, 0, 0, 0, 0, 0, 0, 0] # r\n",
    "v_test[5] = [2, 1, 0, 0, 0, 0, 0, 0, 5, 0, 0, 0, 0, 0] # τ\n",
    "v_test[6] = [2, 1, 0, 0, 3, 4, 0, 0, 0, 0, 0, 0, 0, 0] # ν, r\n",
    "v_test[7] = [2, 1, 0, 0, 3, 0, 0, 0, 5, 0, 0, 0, 0, 0] # ν, τ\n",
    "v_test[8] = [2, 1, 0, 0, 0, 4, 0, 0, 5, 0, 0, 0, 0, 0] # r, τ"
   ]
  },
  {
   "cell_type": "code",
   "execution_count": 5,
   "metadata": {},
   "outputs": [
    {
     "data": {
      "text/plain": [
       "3-element Vector{Float64}:\n",
       " -1.0\n",
       "  1.0\n",
       " -1.0"
      ]
     },
     "execution_count": 5,
     "metadata": {},
     "output_type": "execute_result"
    }
   ],
   "source": [
    "F_test = [zeros(D,L) for _ in 1:8]\n",
    "\n",
    "p_test = ([-1.0;1.0;-1.0])"
   ]
  },
  {
   "cell_type": "code",
   "execution_count": null,
   "metadata": {},
   "outputs": [],
   "source": [
    "for i in 1:8\n",
    "    F_test[i] = ΦaA_f(v_test[i],p_test)\n",
    "end"
   ]
  },
  {
   "cell_type": "code",
   "execution_count": null,
   "metadata": {},
   "outputs": [],
   "source": [
    "test = Dict(\"pars\" => p_test, \"v_test\" => v_test, \"F_test\" => F_test)\n",
    "file_name = \"D4_test\" * \".jld2\"\n",
    "#rm(file_name)\n",
    "\n",
    "\n",
    "save(file_name, test)"
   ]
  }
 ],
 "metadata": {
  "kernelspec": {
   "display_name": "Julia (10 threads) 1.7.2",
   "language": "julia",
   "name": "julia-(10-threads)-1.7"
  },
  "language_info": {
   "file_extension": ".jl",
   "mimetype": "application/julia",
   "name": "julia",
   "version": "1.7.2"
  },
  "orig_nbformat": 4
 },
 "nbformat": 4,
 "nbformat_minor": 2
}
