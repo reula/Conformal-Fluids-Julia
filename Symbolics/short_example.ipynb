{
 "cells": [
  {
   "cell_type": "code",
   "execution_count": 1,
   "metadata": {},
   "outputs": [],
   "source": [
    "using Symbolics\n",
    "using LinearAlgebra"
   ]
  },
  {
   "cell_type": "code",
   "execution_count": 18,
   "metadata": {},
   "outputs": [
    {
     "data": {
      "text/plain": [
       "typeof(μ_s) (singleton type of function μ_s, subtype of Function)"
      ]
     },
     "metadata": {},
     "output_type": "display_data"
    }
   ],
   "source": [
    "@variables vs[1:3], t\n",
    "vst = [vs[i] for i ∈ 1:3]\n",
    "\n",
    "μ_c(vs) = vs'*vs\n",
    "μ_s(x...) = μ_c(collect(x))\n",
    "@register_symbolic μ_c(vs) \n",
    "@register_symbolic μ_s(vs)\n",
    "@register_symbolic h(t)\n",
    "\n",
    "typeof(μ_s)"
   ]
  },
  {
   "cell_type": "code",
   "execution_count": null,
   "metadata": {},
   "outputs": [],
   "source": [
    "μ_s(vs)^2"
   ]
  },
  {
   "cell_type": "code",
   "execution_count": 19,
   "metadata": {},
   "outputs": [
    {
     "data": {
      "text/latex": [
       "\\begin{equation}\n",
       "2 vs_1\n",
       "\\end{equation}\n"
      ],
      "text/plain": [
       "2vs[1]"
      ]
     },
     "metadata": {},
     "output_type": "display_data"
    }
   ],
   "source": [
    "for i in 1:3\n",
    "Symbolics.derivative(::typeof(μ_s), args::NTuple{1,Any}, ::Val{i}) = 2*args[i]\n",
    "end\n",
    "Symbolics.derivative(μ_s(vs...),vs[1] )"
   ]
  },
  {
   "cell_type": "code",
   "execution_count": 20,
   "metadata": {},
   "outputs": [
    {
     "data": {
      "text/latex": [
       "\\begin{equation}\n",
       "2 \\left( 2 vs_1^{2} + 2 vs_2^{2} + 2 vs_3^{2} \\right) vs_1\n",
       "\\end{equation}\n"
      ],
      "text/plain": [
       "2(2(vs[1]^2) + 2(vs[2]^2) + 2(vs[3]^2))*vs[1]"
      ]
     },
     "metadata": {},
     "output_type": "display_data"
    }
   ],
   "source": [
    "Symbolics.derivative(μ_s(vs...)^2, vs[1] )"
   ]
  },
  {
   "cell_type": "code",
   "execution_count": null,
   "metadata": {},
   "outputs": [],
   "source": [
    "@variables t\n",
    "\n",
    "Symbolics.derivative(::typeof(h), args::NTuple{1,Any}, ::Val{1}) = 2*args[1]\n",
    "Symbolics.derivative(h(t)^2,t)"
   ]
  },
  {
   "cell_type": "code",
   "execution_count": 2,
   "metadata": {},
   "outputs": [
    {
     "data": {
      "text/latex": [
       "\\begin{equation}\n",
       "\\left[\n",
       "\\begin{array}{c}\n",
       "x_1 \\\\\n",
       "x_2 \\\\\n",
       "x_3 \\\\\n",
       "\\end{array}\n",
       "\\right]\n",
       "\\end{equation}\n"
      ],
      "text/plain": [
       "3-element Vector{Num}:\n",
       " x[1]\n",
       " x[2]\n",
       " x[3]"
      ]
     },
     "metadata": {},
     "output_type": "display_data"
    }
   ],
   "source": [
    "@variables  x[1:3] \n",
    "@syms ν(x)\n",
    "xs = [x[i] for i ∈ 1:3]\n",
    "ν_s(x) = (x...) ->  ν(collect(x))\n",
    "@register_symbolic ν_s(vs) \n",
    "xs"
   ]
  },
  {
   "cell_type": "code",
   "execution_count": 3,
   "metadata": {},
   "outputs": [
    {
     "ename": "MethodError",
     "evalue": "MethodError: no method matching ν_s(::Num, ::Num, ::Num)\nClosest candidates are:\n  ν_s(::Num) at ~/.julia/packages/Symbolics/J8IHJ/src/register.jl:51\n  ν_s(::Any) at ~/Julia/Fluidos_Conformes/Symbolics/short_example.ipynb:4",
     "output_type": "error",
     "traceback": [
      "MethodError: no method matching ν_s(::Num, ::Num, ::Num)\n",
      "Closest candidates are:\n",
      "  ν_s(::Num) at ~/.julia/packages/Symbolics/J8IHJ/src/register.jl:51\n",
      "  ν_s(::Any) at ~/Julia/Fluidos_Conformes/Symbolics/short_example.ipynb:4\n",
      "\n",
      "Stacktrace:\n",
      " [1] top-level scope\n",
      "   @ ~/Julia/Fluidos_Conformes/Symbolics/short_example.ipynb:4"
     ]
    }
   ],
   "source": [
    "for i in 1:3\n",
    "    Symbolics.derivative(::typeof(ν_s), args::NTuple{1,Any}, ::Val{i}) = 2*args[i]\n",
    "end\n",
    "Symbolics.derivative(ν_s(x...),x[1] )"
   ]
  },
  {
   "cell_type": "code",
   "execution_count": 12,
   "metadata": {},
   "outputs": [
    {
     "data": {
      "text/plain": [
       "f (generic function with 1 method)"
      ]
     },
     "metadata": {},
     "output_type": "display_data"
    }
   ],
   "source": [
    "f(y) = y'*y"
   ]
  },
  {
   "cell_type": "code",
   "execution_count": 15,
   "metadata": {},
   "outputs": [
    {
     "data": {
      "text/plain": [
       "g (generic function with 2 methods)"
      ]
     },
     "metadata": {},
     "output_type": "display_data"
    }
   ],
   "source": [
    "g(x) = (x...) -> f(collect(x))"
   ]
  },
  {
   "cell_type": "code",
   "execution_count": 17,
   "metadata": {},
   "outputs": [
    {
     "data": {
      "text/plain": [
       "#79 (generic function with 1 method)"
      ]
     },
     "metadata": {},
     "output_type": "display_data"
    }
   ],
   "source": [
    "g((1,2))"
   ]
  },
  {
   "cell_type": "code",
   "execution_count": null,
   "metadata": {},
   "outputs": [],
   "source": []
  }
 ],
 "metadata": {
  "kernelspec": {
   "display_name": "Julia 1.8.1",
   "language": "julia",
   "name": "julia-1.8"
  },
  "language_info": {
   "file_extension": ".jl",
   "mimetype": "application/julia",
   "name": "julia",
   "version": "1.8.1"
  },
  "orig_nbformat": 4,
  "vscode": {
   "interpreter": {
    "hash": "31f2aee4e71d21fbe5cf8b01ff0e069b9275f58929596ceb00d14d90e3e16cd6"
   }
  }
 },
 "nbformat": 4,
 "nbformat_minor": 2
}
