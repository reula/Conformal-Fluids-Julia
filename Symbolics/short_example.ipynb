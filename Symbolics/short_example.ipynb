{
 "cells": [
  {
   "cell_type": "code",
   "execution_count": 1,
   "metadata": {},
   "outputs": [],
   "source": [
    "using Symbolics\n",
    "using LinearAlgebra"
   ]
  },
  {
   "cell_type": "code",
   "execution_count": 8,
   "metadata": {},
   "outputs": [
    {
     "data": {
      "text/plain": [
       "typeof(μ_s) (singleton type of function μ_s, subtype of Function)"
      ]
     },
     "metadata": {},
     "output_type": "display_data"
    }
   ],
   "source": [
    "D = 4\n",
    "@variables vs[1:D], t\n",
    "vst = [vs[i] for i ∈ 1:D]\n",
    "\n",
    "μ_c(vs) = vs'*vs\n",
    "μ_s(x...) = μ_c(collect(x))\n",
    "@register_symbolic μ_c(vs) \n",
    "@register_symbolic μ_s(vs)\n",
    "@register_symbolic h(t)\n",
    "\n",
    "typeof(μ_s)"
   ]
  },
  {
   "cell_type": "code",
   "execution_count": 9,
   "metadata": {},
   "outputs": [
    {
     "data": {
      "text/latex": [
       "\\begin{equation}\n",
       "\\left( \\mathrm{adjoint}\\left( vs \\right) vs \\right)^{2}\n",
       "\\end{equation}\n"
      ],
      "text/plain": [
       "(adjoint(vs)*vs)^2"
      ]
     },
     "metadata": {},
     "output_type": "display_data"
    }
   ],
   "source": [
    "μ_s(vs)^2"
   ]
  },
  {
   "cell_type": "code",
   "execution_count": 11,
   "metadata": {},
   "outputs": [
    {
     "data": {
      "text/latex": [
       "\\begin{equation}\n",
       "\\left( h\\left( t \\right) \\right)^{2}\n",
       "\\end{equation}\n"
      ],
      "text/plain": [
       "h(t)^2"
      ]
     },
     "metadata": {},
     "output_type": "display_data"
    }
   ],
   "source": [
    "h(t)^2"
   ]
  },
  {
   "cell_type": "code",
   "execution_count": null,
   "metadata": {},
   "outputs": [],
   "source": [
    "for i in 1:D\n",
    "Symbolics.derivative(::typeof(μ_s), args::NTuple{D,Any}, ::Val{i}) = 2*args[i]\n",
    "end\n",
    "Symbolics.derivative(μ_s(vs...),vs[1] )"
   ]
  },
  {
   "cell_type": "code",
   "execution_count": null,
   "metadata": {},
   "outputs": [],
   "source": [
    "Symbolics.derivative(μ_s(vs...)^2, vs[1] )"
   ]
  },
  {
   "cell_type": "code",
   "execution_count": null,
   "metadata": {},
   "outputs": [],
   "source": [
    "@variables t\n",
    "\n",
    "Symbolics.derivative(::typeof(h), args::NTuple{1,Any}, ::Val{1}) = 2*args[1]\n",
    "Symbolics.derivative(h(t)^2,t)"
   ]
  },
  {
   "cell_type": "code",
   "execution_count": 9,
   "metadata": {},
   "outputs": [
    {
     "data": {
      "text/plain": [
       "(x[1], x[2], x[3], x[4])"
      ]
     },
     "metadata": {},
     "output_type": "display_data"
    }
   ],
   "source": [
    "D = 4\n",
    "@variables  x[1:D] \n",
    "@syms ν(x)\n",
    "xs = [x[i] for i ∈ 1:D]\n",
    "p = Num.(Tuple(xs))\n",
    "ν_s(p...) = "
   ]
  },
  {
   "cell_type": "code",
   "execution_count": 5,
   "metadata": {},
   "outputs": [
    {
     "ename": "LoadError",
     "evalue": "LoadError: Invalid argument format p...\nin expression starting at /Users/reula/Julia/Fluidos_Conformes/Symbolics/short_example.ipynb:2",
     "output_type": "error",
     "traceback": [
      "LoadError: Invalid argument format p...\n",
      "in expression starting at /Users/reula/Julia/Fluidos_Conformes/Symbolics/short_example.ipynb:2\n",
      "\n",
      "Stacktrace:\n",
      "  [1] error(s::String)\n",
      "    @ Base ./error.jl:35\n",
      "  [2] (::Symbolics.var\"#171#172\")(x::Expr)\n",
      "    @ Symbolics ~/.julia/packages/Symbolics/J8IHJ/src/register.jl:47\n",
      "  [3] iterate\n",
      "    @ ./generator.jl:47 [inlined]\n",
      "  [4] _collect(c::Vector{Any}, itr::Base.Generator{Vector{Any}, Symbolics.var\"#171#172\"}, #unused#::Base.EltypeUnknown, isz::Base.HasShape{1})\n",
      "    @ Base ./array.jl:807\n",
      "  [5] collect_similar(cont::Vector{Any}, itr::Base.Generator{Vector{Any}, Symbolics.var\"#171#172\"})\n",
      "    @ Base ./array.jl:716\n",
      "  [6] map(f::Function, A::Vector{Any})\n",
      "    @ Base ./abstractarray.jl:2933\n",
      "  [7] var\"@register_symbolic\"(__source__::LineNumberNode, __module__::Module, expr::Any, define_promotion::Any, Ts::Any)\n",
      "    @ Symbolics ~/.julia/packages/Symbolics/J8IHJ/src/register.jl:38\n",
      "  [8] var\"@register_symbolic\"(__source__::LineNumberNode, __module__::Module, expr::Any)\n",
      "    @ Symbolics ~/.julia/packages/Symbolics/J8IHJ/src/register.jl:26\n",
      "  [9] eval\n",
      "    @ ./boot.jl:368 [inlined]\n",
      " [10] include_string(mapexpr::typeof(REPL.softscope), mod::Module, code::String, filename::String)\n",
      "    @ Base ./loading.jl:1428\n",
      " [11] #invokelatest#2\n",
      "    @ ./essentials.jl:729 [inlined]\n",
      " [12] invokelatest\n",
      "    @ ./essentials.jl:726 [inlined]\n",
      " [13] (::VSCodeServer.var\"#198#199\"{VSCodeServer.NotebookRunCellArguments, String})()\n",
      "    @ VSCodeServer ~/.vscode/extensions/julialang.language-julia-1.7.12/scripts/packages/VSCodeServer/src/serve_notebook.jl:19\n",
      " [14] withpath(f::VSCodeServer.var\"#198#199\"{VSCodeServer.NotebookRunCellArguments, String}, path::String)\n",
      "    @ VSCodeServer ~/.vscode/extensions/julialang.language-julia-1.7.12/scripts/packages/VSCodeServer/src/repl.jl:249\n",
      " [15] notebook_runcell_request(conn::VSCodeServer.JSONRPC.JSONRPCEndpoint{Base.PipeEndpoint, Base.PipeEndpoint}, params::VSCodeServer.NotebookRunCellArguments)\n",
      "    @ VSCodeServer ~/.vscode/extensions/julialang.language-julia-1.7.12/scripts/packages/VSCodeServer/src/serve_notebook.jl:13\n",
      " [16] dispatch_msg(x::VSCodeServer.JSONRPC.JSONRPCEndpoint{Base.PipeEndpoint, Base.PipeEndpoint}, dispatcher::VSCodeServer.JSONRPC.MsgDispatcher, msg::Dict{String, Any})\n",
      "    @ VSCodeServer.JSONRPC ~/.vscode/extensions/julialang.language-julia-1.7.12/scripts/packages/JSONRPC/src/typed.jl:67\n",
      " [17] serve_notebook(pipename::String, outputchannel_logger::Base.CoreLogging.SimpleLogger; crashreporting_pipename::String)\n",
      "    @ VSCodeServer ~/.vscode/extensions/julialang.language-julia-1.7.12/scripts/packages/VSCodeServer/src/serve_notebook.jl:139\n",
      " [18] top-level scope\n",
      "    @ ~/.vscode/extensions/julialang.language-julia-1.7.12/scripts/notebook/notebook.jl:32"
     ]
    }
   ],
   "source": [
    "\n",
    "@register_symbolic ν_s(p...) \n",
    "#@register_symbolic ν(xs...) \n",
    "#ν(xs)"
   ]
  },
  {
   "cell_type": "code",
   "execution_count": null,
   "metadata": {},
   "outputs": [],
   "source": []
  },
  {
   "cell_type": "code",
   "execution_count": 13,
   "metadata": {},
   "outputs": [
    {
     "data": {
      "text/plain": [
       "(x[1], x[2], x[3], x[4])"
      ]
     },
     "metadata": {},
     "output_type": "display_data"
    }
   ],
   "source": [
    "typeof(xs)\n",
    "\n",
    "#convert(Tuple, x)\n",
    "Num.(Tuple(xs))\n"
   ]
  },
  {
   "cell_type": "code",
   "execution_count": 14,
   "metadata": {},
   "outputs": [
    {
     "data": {
      "text/plain": [
       "Vector{Num}\u001b[90m (alias for \u001b[39m\u001b[90mArray{Num, 1}\u001b[39m\u001b[90m)\u001b[39m"
      ]
     },
     "metadata": {},
     "output_type": "display_data"
    }
   ],
   "source": [
    "typeof(Symbolics.scalarize(x))"
   ]
  },
  {
   "cell_type": "code",
   "execution_count": 15,
   "metadata": {},
   "outputs": [],
   "source": [
    "for i in 1:D\n",
    "    Symbolics.derivative(::typeof(ν_s), args::Symbolics.Arr{Num, 1}, ::Val{i}) = 2*args[i]\n",
    "end\n"
   ]
  },
  {
   "cell_type": "code",
   "execution_count": 16,
   "metadata": {},
   "outputs": [],
   "source": [
    "\n",
    "for i in 1:D\n",
    "    #Symbolics.derivative(::typeof(ν), args::Symbolics.Arr{Num, 1}, ::Val{i}) = 2*args[i]\n",
    "    Symbolics.derivative(::typeof(ν), args::NTuple{D,Any}, ::Val{i}) = 2*args[i]\n",
    "end"
   ]
  },
  {
   "cell_type": "code",
   "execution_count": 17,
   "metadata": {},
   "outputs": [
    {
     "ename": "MethodError",
     "evalue": "MethodError: no method matching ν(::NTuple{4, Num})\nClosest candidates are:\n  ν(!Matched::SymbolicUtils.Symbolic{<:Real}) at ~/.julia/packages/Symbolics/J8IHJ/src/register.jl:51\n  ν(!Matched::Num) at ~/.julia/packages/Symbolics/J8IHJ/src/register.jl:51",
     "output_type": "error",
     "traceback": [
      "MethodError: no method matching ν(::NTuple{4, Num})\n",
      "Closest candidates are:\n",
      "  ν(!Matched::SymbolicUtils.Symbolic{<:Real}) at ~/.julia/packages/Symbolics/J8IHJ/src/register.jl:51\n",
      "  ν(!Matched::Num) at ~/.julia/packages/Symbolics/J8IHJ/src/register.jl:51\n",
      "\n",
      "Stacktrace:\n",
      " [1] top-level scope\n",
      "   @ ~/Julia/Fluidos_Conformes/Symbolics/short_example.ipynb:1"
     ]
    }
   ],
   "source": [
    "Symbolics.derivative(ν(Num.(Tuple(xs))),Val{1})"
   ]
  },
  {
   "cell_type": "code",
   "execution_count": 5,
   "metadata": {},
   "outputs": [
    {
     "ename": "MethodError",
     "evalue": "MethodError: no method matching ν(::NTuple{4, Num})\nClosest candidates are:\n  ν(!Matched::SymbolicUtils.Symbolic{<:Real}) at ~/.julia/packages/Symbolics/J8IHJ/src/register.jl:51\n  ν(!Matched::Num) at ~/.julia/packages/Symbolics/J8IHJ/src/register.jl:51",
     "output_type": "error",
     "traceback": [
      "MethodError: no method matching ν(::NTuple{4, Num})\n",
      "Closest candidates are:\n",
      "  ν(!Matched::SymbolicUtils.Symbolic{<:Real}) at ~/.julia/packages/Symbolics/J8IHJ/src/register.jl:51\n",
      "  ν(!Matched::Num) at ~/.julia/packages/Symbolics/J8IHJ/src/register.jl:51\n",
      "\n",
      "Stacktrace:\n",
      " [1] ν_s(x::Vector{Num})\n",
      "   @ Main ~/Julia/Fluidos_Conformes/Symbolics/short_example.ipynb:5\n",
      " [2] top-level scope\n",
      "   @ ~/Julia/Fluidos_Conformes/Symbolics/short_example.ipynb:2"
     ]
    }
   ],
   "source": [
    "\n",
    "Symbolics.derivative(ν_s(xs),Val{1})"
   ]
  },
  {
   "cell_type": "code",
   "execution_count": null,
   "metadata": {},
   "outputs": [],
   "source": [
    "f(y) = y'*y"
   ]
  },
  {
   "cell_type": "code",
   "execution_count": null,
   "metadata": {},
   "outputs": [],
   "source": [
    "g(x) = (x...) -> f(collect(x))"
   ]
  },
  {
   "cell_type": "code",
   "execution_count": null,
   "metadata": {},
   "outputs": [],
   "source": [
    "g((1,2))"
   ]
  },
  {
   "cell_type": "code",
   "execution_count": 6,
   "metadata": {},
   "outputs": [
    {
     "ename": "MethodError",
     "evalue": "MethodError: no method matching l(::Tuple{Int64, Int64})\nClosest candidates are:\n  l(::Any, !Matched::Any) at ~/Julia/Fluidos_Conformes/Symbolics/short_example.ipynb:1",
     "output_type": "error",
     "traceback": [
      "MethodError: no method matching l(::Tuple{Int64, Int64})\n",
      "Closest candidates are:\n",
      "  l(::Any, !Matched::Any) at ~/Julia/Fluidos_Conformes/Symbolics/short_example.ipynb:1\n",
      "\n",
      "Stacktrace:\n",
      " [1] top-level scope\n",
      "   @ ~/Julia/Fluidos_Conformes/Symbolics/short_example.ipynb:3"
     ]
    }
   ],
   "source": [
    "l(x,y) = x+y\n",
    "\n",
    "l((3,4),)"
   ]
  },
  {
   "cell_type": "code",
   "execution_count": null,
   "metadata": {},
   "outputs": [],
   "source": []
  }
 ],
 "metadata": {
  "kernelspec": {
   "display_name": "Julia 1.8.1",
   "language": "julia",
   "name": "julia-1.8"
  },
  "language_info": {
   "file_extension": ".jl",
   "mimetype": "application/julia",
   "name": "julia",
   "version": "1.8.1"
  },
  "orig_nbformat": 4,
  "vscode": {
   "interpreter": {
    "hash": "31f2aee4e71d21fbe5cf8b01ff0e069b9275f58929596ceb00d14d90e3e16cd6"
   }
  }
 },
 "nbformat": 4,
 "nbformat_minor": 2
}
