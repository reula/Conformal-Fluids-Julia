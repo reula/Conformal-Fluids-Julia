{
 "cells": [
  {
   "cell_type": "code",
   "execution_count": 34,
   "metadata": {},
   "outputs": [
    {
     "name": "stderr",
     "output_type": "stream",
     "text": [
      "\u001b[32m\u001b[1m Activating\u001b[22m\u001b[39m environment at `~/Julia/Fluidos_Conformes/Conf_Fluids/Project.toml`\n",
      "\u001b[32m\u001b[1m  Resolving\u001b[22m\u001b[39m package versions...\n",
      "\u001b[32m\u001b[1mNo Changes\u001b[22m\u001b[39m to `~/Julia/Fluidos_Conformes/Conf_Fluids/Project.toml`\n",
      "\u001b[32m\u001b[1mNo Changes\u001b[22m\u001b[39m to `~/Julia/Fluidos_Conformes/Conf_Fluids/Manifest.toml`\n"
     ]
    }
   ],
   "source": [
    "import Pkg; \n",
    "Pkg.activate(\"Conf_Fluids\")\n",
    "Pkg.add(\"Symbolics\")\n",
    "using Symbolics\n",
    "using StaticArrays"
   ]
  },
  {
   "cell_type": "code",
   "execution_count": 109,
   "metadata": {},
   "outputs": [
    {
     "data": {
      "text/plain": [
       "F (generic function with 1 method)"
      ]
     },
     "execution_count": 109,
     "metadata": {},
     "output_type": "execute_result"
    }
   ],
   "source": [
    "function F(flu,con,χ)\n",
    "    f = Dict(:μ => 1, :v => 2, :x1 => 3, :x2 => 4,:x3 => 5) #para acordarse de que campo asignamos a cada componente del vector\n",
    "    c = Dict(:e => 1, :s => 2, :c1 => 3, :c2 => 4,:c3 => 5)\n",
    "#@variables flu[1:N], con[1:N], χ[1:3] #variables para manipulación algebraica\n",
    "#@variables χ₀, χ₁, χ₂\n",
    "#@variables \n",
    "\n",
    "    μ = flu[f[:μ]]  # esto es -μ\n",
    "    T = (μ)^(-1//2) # use μ positive, so I changed μ -> -μ\n",
    "    v = flu[f[:v]]\n",
    "    χ₀ = χ[1]\n",
    "    χ₁ = χ[2]\n",
    "    χ₂ = χ[3]\n",
    "    x1 = flu[f[:x1]]\n",
    "    x2 = flu[f[:x2]]\n",
    "    x3 = flu[f[:x3]]\n",
    "    γ = (1 - v^2)^(-1//2)\n",
    "    τ = -2χ₁ * x3 * T / (γ*μ^3) - 24χ₂*(1//2*(1-v^2)x3^2 + 14//3 * x2^2 + 7/5*(1-v^2)x1*x3)/μ^5\n",
    "    ρ = -6χ₀ / μ^2 - 6χ₁*x1/(γ * μ^4 * T) - 42χ₂*(6//5 *x1^2 + 10γ^2*x2^2 + 3//2*(v^2-1)^2*x3^2)/(μ^5 * γ^2)\n",
    "    Q = -10χ₀ * x2 * T / μ^3 - 168χ₂ * x2 * (x1 - (v^2 - 1)x3)/(γ * μ^5)\n",
    "\n",
    "    A = (-12 * χ₂/μ^4)*[3(2γ^2 - 1)  3v*(6γ^2 - 1)    3v^2 ;\n",
    "                v*(6γ^2 - 1)  (6γ^2*(1 + 2v^2) - 1)  v*(v^2 + 2) ;\n",
    "                (6γ^2 * v^2 + 1)  v*(6γ^2*(2 + v^2) - 1)  (2v^2 + 1)]\n",
    "#Φ₂ = -μ/12/χ₂\n",
    "#Φ₂ = -u[f[:μ]]/12/χ₂\n",
    "#γ = 1/sqrt(1 - u[f[:v]]^2)\n",
    "    e = 4//3*ρ*(γ^2 - 1//4) + 2v*γ*Q + v^2*τ\n",
    "    s = 4//3*ρ*γ^2*v + (v^2+1//1)γ*Q + v*τ;\n",
    "\n",
    "    Y1 = -3χ₁*γ/T/μ^3 *(2γ^2 - 1//1)\n",
    "    Y2 = -3χ₁*γ/T/μ^3 *v*(6γ^2 - 1//1)\n",
    "    Y3 = -3χ₁*γ/T/μ^3 *(6γ^2*v^2 + 1//1)\n",
    "    \n",
    "    return  [- con[c[:e]] + 4//3* ρ*(γ^2 - 1//4) + 2//1* Q*γ*v + τ*v^2;\n",
    "             - con[c[:s]] + 4//3* ρ*γ^2*v + Q*γ*(v^2 + 1//1) + τ*v;\n",
    "             - con[c[:c1]] + A[1,1]*x1 + A[1,2]*x2 + A[1,3]*x3 + Y1;\n",
    "             - con[c[:c2]] + A[2,1]*x1 + A[2,2]*x2 + A[2,3]*x3 + Y2;\n",
    "             - con[c[:c3]] + A[3,1]*x1 + A[3,2]*x2 + A[3,3]*x3 + Y3]\n",
    "end"
   ]
  },
  {
   "cell_type": "code",
   "execution_count": 110,
   "metadata": {},
   "outputs": [
    {
     "name": "stdout",
     "output_type": "stream",
     "text": [
      "  0.000013 seconds (29 allocations: 2.375 KiB)\n"
     ]
    },
    {
     "data": {
      "text/plain": [
       "5-element Array{Float64,1}:\n",
       " -708.882891258125\n",
       " -535.5019804060945\n",
       "  -83.5570173600189\n",
       "  -91.71095528740291\n",
       "  -61.987327723098716"
      ]
     },
     "execution_count": 110,
     "metadata": {},
     "output_type": "execute_result"
    }
   ],
   "source": [
    "@time F([1;0.2;1;1;1],[1;2;2;2;2],[1;1;1])"
   ]
  },
  {
   "cell_type": "code",
   "execution_count": 111,
   "metadata": {},
   "outputs": [
    {
     "data": {
      "text/plain": [
       "5"
      ]
     },
     "execution_count": 111,
     "metadata": {},
     "output_type": "execute_result"
    }
   ],
   "source": [
    "N=5"
   ]
  },
  {
   "cell_type": "code",
   "execution_count": 112,
   "metadata": {},
   "outputs": [
    {
     "data": {
      "text/plain": [
       "(Num[f₁, f₂, f₃, f₄, f₅], Num[c₁, c₂, c₃, c₄, c₅], Num[p₁, p₂, p₃])"
      ]
     },
     "execution_count": 112,
     "metadata": {},
     "output_type": "execute_result"
    }
   ],
   "source": [
    "@variables f[1:N], c[1:N], p[1:3]"
   ]
  },
  {
   "cell_type": "code",
   "execution_count": 113,
   "metadata": {},
   "outputs": [],
   "source": [
    "F(f,c,p);"
   ]
  },
  {
   "cell_type": "code",
   "execution_count": 114,
   "metadata": {},
   "outputs": [],
   "source": [
    "JS = Symbolics.jacobian(F(f,c,p),f);"
   ]
  },
  {
   "cell_type": "code",
   "execution_count": 115,
   "metadata": {},
   "outputs": [],
   "source": [
    "J_exp = Symbolics.build_function(JS, f, c, p);"
   ]
  },
  {
   "cell_type": "code",
   "execution_count": 116,
   "metadata": {},
   "outputs": [],
   "source": [
    "Jac = eval(J_exp[1]);"
   ]
  },
  {
   "cell_type": "code",
   "execution_count": 117,
   "metadata": {},
   "outputs": [
    {
     "data": {
      "text/plain": [
       "5×5 Array{Float64,2}:\n",
       " 2.63082e15  -6.43585e12  -1.79758e12  -1.02667e13  -1.00254e12\n",
       " 2.38246e15  -6.4606e12   -1.7393e12   -8.94213e12  -1.02328e12\n",
       " 6.80095e12  -4.97913e10  -5.54305e9   -1.37851e10  -9.5029e8\n",
       " 6.47008e12  -4.85838e10  -4.59502e9   -1.36694e10  -1.17552e9\n",
       " 5.81137e12  -4.71909e10  -4.06317e9   -1.18485e10  -1.37347e9"
      ]
     },
     "execution_count": 117,
     "metadata": {},
     "output_type": "execute_result"
    }
   ],
   "source": [
    "Jac(rand(5),rand(5),rand(3))"
   ]
  },
  {
   "cell_type": "code",
   "execution_count": 118,
   "metadata": {},
   "outputs": [
    {
     "data": {
      "text/plain": [
       "NR_step! (generic function with 1 method)"
      ]
     },
     "execution_count": 118,
     "metadata": {},
     "output_type": "execute_result"
    }
   ],
   "source": [
    "function NR_step!(F, Jac, u0, y, p)\n",
    "    u = u0 - Jac(u0,y, p) \\ F(u0,y,p)\n",
    "end"
   ]
  },
  {
   "cell_type": "code",
   "execution_count": 119,
   "metadata": {},
   "outputs": [
    {
     "data": {
      "text/plain": [
       "5-element Array{Float64,1}:\n",
       " -0.0033620762733903575\n",
       " -0.0008881503725888251\n",
       " -0.0027372121371933567\n",
       " -0.0036853292062835052\n",
       " -0.004343251011975191"
      ]
     },
     "execution_count": 119,
     "metadata": {},
     "output_type": "execute_result"
    }
   ],
   "source": [
    "p = [1,1,1]\n",
    "u0 = @SVector[1.0, 0.30, 2.0, 4.0, 5.0]\n",
    "y = F(u0,[0,0,0,0,0],p)\n",
    "\n",
    "F(u0.+0.005.*rand(5),y ,p)\n",
    "\n",
    "#Jac(u0,y .+0.005.*rand(5),p);\n",
    "F(u0,y .+0.005.*rand(5),p)"
   ]
  },
  {
   "cell_type": "code",
   "execution_count": 120,
   "metadata": {},
   "outputs": [
    {
     "data": {
      "text/plain": [
       "5-element SArray{Tuple{5},Float64,1,5} with indices SOneTo(5):\n",
       " 1.0000000000000002\n",
       " 0.30000000000000027\n",
       " 1.999999999999996\n",
       " 4.0000000000000036\n",
       " 5.000000000000003"
      ]
     },
     "execution_count": 120,
     "metadata": {},
     "output_type": "execute_result"
    }
   ],
   "source": [
    "ui = @SVector[1.0, 0.30, 3.0, 4.0, 3.0]\n",
    "NR_step!(F, Jac, u0, y, p)"
   ]
  },
  {
   "cell_type": "code",
   "execution_count": 121,
   "metadata": {},
   "outputs": [
    {
     "name": "stdout",
     "output_type": "stream",
     "text": [
      "[1.0000000000000007, 0.3000000000000006, 1.9999999999999916, 4.000000000000007, 5.0000000000000115]\n",
      "[-7.645439836778678e-12, -4.661160346586257e-12, -1.1679546219056647e-13, -1.2168044349891716e-13, -1.4477308241112041e-13]\n"
     ]
    }
   ],
   "source": [
    "#u0 = @SVector[1.0, 0.30, 3.0, 4.0, 3.0]\n",
    "u0 = [1.0; 0.30; 3.0; 4.0; 3.0]\n",
    "for i ∈ 1:25\n",
    "    u0 = NR_step!(F, Jac, u0, y, p)\n",
    "end\n",
    "println(u0)\n",
    "println(F(u0,y,p))"
   ]
  },
  {
   "cell_type": "code",
   "execution_count": 122,
   "metadata": {},
   "outputs": [],
   "source": [
    "M = 10^3\n",
    "u0 = [(i+j)/(N+M) for i ∈ 1:N, j ∈ 1:M]\n",
    "#u0 = rand(N,M)\n",
    "yy = zeros(N,M)\n",
    "for j ∈ 1:M\n",
    "    yy[:,j] = F(u0[:,j],[0,0,0,0,0],p)\n",
    "#    yy[:,j] = convert(Array{Float64,1},F(u0[:,j],yy[:,j],p))\n",
    "end"
   ]
  },
  {
   "cell_type": "code",
   "execution_count": 123,
   "metadata": {},
   "outputs": [
    {
     "data": {
      "text/plain": [
       "1.2378628619885348e-23"
      ]
     },
     "execution_count": 123,
     "metadata": {},
     "output_type": "execute_result"
    }
   ],
   "source": [
    "j = 200\n",
    "F(u0[:,j],yy[:,j], p)'*F(u0[:,j],yy[:,j], p)"
   ]
  },
  {
   "cell_type": "code",
   "execution_count": 124,
   "metadata": {},
   "outputs": [
    {
     "data": {
      "text/plain": [
       "5×1000 Array{Float64,2}:\n",
       " 0.00190852  0.00294407  0.00395205  …  0.994007  0.995024  0.995957\n",
       " 0.00289294  0.00393125  0.00496267     0.995022  0.996006  0.997009\n",
       " 0.00389643  0.00493491  0.00592383     0.995949  0.99696   0.997979\n",
       " 0.00493362  0.00588463  0.0068849      0.997001  0.99791   0.998993\n",
       " 0.00588939  0.00695836  0.00789809     0.997921  0.998988  0.999942"
      ]
     },
     "execution_count": 124,
     "metadata": {},
     "output_type": "execute_result"
    }
   ],
   "source": [
    "u0 = (u0 .- 0.0001 .*rand(N,M))"
   ]
  },
  {
   "cell_type": "code",
   "execution_count": 125,
   "metadata": {},
   "outputs": [
    {
     "name": "stdout",
     "output_type": "stream",
     "text": [
      "iter_max reached j = 1\n",
      "iter_max reached j = 2\n",
      "iter_max reached j = 4\n",
      "iter_max reached j = 6\n",
      "  0.208967 seconds (505.55 k allocations: 38.495 MiB, 9.87% gc time)\n"
     ]
    }
   ],
   "source": [
    "tol = 10^(-8)\n",
    "iter_max = 5\n",
    "\n",
    "@time begin\n",
    "for j ∈ 1:M\n",
    "    iter = 1\n",
    "    while F(u0[:,j],yy[:,j], p)'*F(u0[:,j],yy[:,j], p) > tol && iter < iter_max\n",
    "        u0[:,j] = NR_step!(F, Jac, u0[:,j], yy[:,j], p)\n",
    "        iter = iter + 1\n",
    "        if iter == iter_max \n",
    "            println(\"iter_max reached j = $j\")\n",
    "        end\n",
    "    end\n",
    "    #println(iter)\n",
    "end\n",
    "end"
   ]
  },
  {
   "cell_type": "code",
   "execution_count": null,
   "metadata": {},
   "outputs": [],
   "source": []
  },
  {
   "cell_type": "code",
   "execution_count": null,
   "metadata": {},
   "outputs": [],
   "source": []
  }
 ],
 "metadata": {
  "kernelspec": {
   "display_name": "Julia 1.5.3",
   "language": "julia",
   "name": "julia-1.5"
  },
  "language_info": {
   "file_extension": ".jl",
   "mimetype": "application/julia",
   "name": "julia",
   "version": "1.5.3"
  },
  "latex_envs": {
   "LaTeX_envs_menu_present": true,
   "autoclose": false,
   "autocomplete": true,
   "bibliofile": "biblio.bib",
   "cite_by": "apalike",
   "current_citInitial": 1,
   "eqLabelWithNumbers": true,
   "eqNumInitial": 1,
   "hotkeys": {
    "equation": "Ctrl-E",
    "itemize": "Ctrl-I"
   },
   "labels_anchors": false,
   "latex_user_defs": false,
   "report_style_numbering": false,
   "user_envs_cfg": false
  }
 },
 "nbformat": 4,
 "nbformat_minor": 4
}
