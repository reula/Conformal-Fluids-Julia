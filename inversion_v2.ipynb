{
 "cells": [
  {
   "cell_type": "code",
   "execution_count": 1,
   "metadata": {},
   "outputs": [
    {
     "name": "stderr",
     "output_type": "stream",
     "text": [
      "\u001b[32m\u001b[1m Activating\u001b[22m\u001b[39m environment at `~/Julia/Fluidos_Conformes/Conf_Fluids/Project.toml`\n",
      "\u001b[32m\u001b[1m   Updating\u001b[22m\u001b[39m registry at `~/.julia/registries/General`\n",
      "######################################################################### 100.0%\n",
      "\u001b[32m\u001b[1m  Resolving\u001b[22m\u001b[39m package versions...\n",
      "\u001b[32m\u001b[1mNo Changes\u001b[22m\u001b[39m to `~/Julia/Fluidos_Conformes/Conf_Fluids/Project.toml`\n",
      "\u001b[32m\u001b[1mNo Changes\u001b[22m\u001b[39m to `~/Julia/Fluidos_Conformes/Conf_Fluids/Manifest.toml`\n"
     ]
    }
   ],
   "source": [
    "import Pkg; \n",
    "Pkg.activate(\"Conf_Fluids\")\n",
    "Pkg.add(\"Symbolics\")\n",
    "using Symbolics\n",
    "using StaticArrays"
   ]
  },
  {
   "cell_type": "code",
   "execution_count": 53,
   "metadata": {},
   "outputs": [
    {
     "data": {
      "text/plain": [
       "F (generic function with 1 method)"
      ]
     },
     "execution_count": 53,
     "metadata": {},
     "output_type": "execute_result"
    }
   ],
   "source": [
    "function F(flu,con,χ)\n",
    "    f = Dict(:μ => 1, :v => 2, :x1 => 3, :x2 => 4,:x3 => 5) #para acordarse de que campo asignamos a cada componente del vector\n",
    "    c = Dict(:e => 1, :s => 2, :c1 => 3, :c2 => 4,:c3 => 5)\n",
    "#@variables flu[1:N], con[1:N], χ[1:3] #variables para manipulación algebraica\n",
    "#@variables χ₀, χ₁, χ₂\n",
    "#@variables \n",
    "\n",
    "    μ = flu[f[:μ]]  # esto es -μ\n",
    "    #μ = view(flu,1)\n",
    "    T = (μ)^(-1//2) # use μ positive, so I changed μ -> -μ\n",
    "    v = flu[f[:v]]\n",
    "    χ₀ = χ[1]\n",
    "    χ₁ = χ[2]\n",
    "    χ₂ = χ[3]\n",
    "    x1 = flu[f[:x1]]\n",
    "    x2 = flu[f[:x2]]\n",
    "    x3 = flu[f[:x3]]\n",
    "    γ = (1 - v^2)^(-1//2)\n",
    "    τ = -2χ₁ * x3 * T / (γ*μ^3) - 24χ₂*(1//2*(1-v^2)x3^2 + 14//3 * x2^2 + 7/5*(1-v^2)x1*x3)/μ^5\n",
    "    ρ = -6χ₀ / μ^2 - 6χ₁*x1/(γ * μ^4 * T) - 42χ₂*(6//5 *x1^2 + 10γ^2*x2^2 + 3//2*(v^2-1)^2*x3^2)/(μ^5 * γ^2)\n",
    "    Q = -10χ₀ * x2 * T / μ^3 - 168χ₂ * x2 * (x1 - (v^2 - 1)x3)/(γ * μ^5)\n",
    "\n",
    "    A = (-12 * χ₂/μ^4)*[3(2γ^2 - 1)  3v*(6γ^2 - 1)    3v^2 ;\n",
    "                v*(6γ^2 - 1)  (6γ^2*(1 + 2v^2) - 1)  v*(v^2 + 2) ;\n",
    "                (6γ^2 * v^2 + 1)  v*(6γ^2*(2 + v^2) - 1)  (2v^2 + 1)]\n",
    "\n",
    "    e = 4//3*ρ*(γ^2 - 1//4) + 2v*γ*Q + v^2*τ\n",
    "    s = 4//3*ρ*γ^2*v + (v^2+1//1)γ*Q + v*τ;\n",
    "\n",
    "    Y1 = -3χ₁*γ/T/μ^3 *(2γ^2 - 1//1)\n",
    "    Y2 = -3χ₁*γ/T/μ^3 *v*(6γ^2 - 1//1)\n",
    "    Y3 = -3χ₁*γ/T/μ^3 *(6γ^2*v^2 + 1//1)\n",
    "    \n",
    "    return  [- con[c[:e]] + 4//3* ρ*(γ^2 - 1//4) + 2//1* Q*γ*v + τ*v^2;\n",
    "             - con[c[:s]] + 4//3* ρ*γ^2*v + Q*γ*(v^2 + 1//1) + τ*v;\n",
    "             - con[c[:c1]] + A[1,1]*x1 + A[1,2]*x2 + A[1,3]*x3 + Y1;\n",
    "             - con[c[:c2]] + A[2,1]*x1 + A[2,2]*x2 + A[2,3]*x3 + Y2;\n",
    "             - con[c[:c3]] + A[3,1]*x1 + A[3,2]*x2 + A[3,3]*x3 + Y3]\n",
    "end"
   ]
  },
  {
   "cell_type": "markdown",
   "metadata": {},
   "source": [
    "Para testear usamos: \n",
    "`\n",
    "flu = [10.0; 0.2; 1.1; 1.5; 1.2]\n",
    "con = [0.1366314976448222; 0.07009306769467444; 0.06115332989597844; 0.07178418128379448; 0.04927907295689818]\n",
    "chi = [-1.0; -1.0; -5.0]\n",
    "`\n",
    "\n",
    "**Ojo que hay que cambiar el signo a mu!*"
   ]
  },
  {
   "cell_type": "code",
   "execution_count": 54,
   "metadata": {},
   "outputs": [
    {
     "name": "stdout",
     "output_type": "stream",
     "text": [
      "  0.146915 seconds (392.21 k allocations: 20.885 MiB)\n"
     ]
    },
    {
     "data": {
      "text/plain": [
       "5-element Array{Float64,1}:\n",
       " -1.6263032587282567e-18\n",
       " -1.3877787807814457e-17\n",
       " -3.469446951953614e-18\n",
       "  3.469446951953614e-18\n",
       "  1.734723475976807e-18"
      ]
     },
     "execution_count": 54,
     "metadata": {},
     "output_type": "execute_result"
    }
   ],
   "source": [
    "flu = [10.0; 0.2; 1.1; 1.5; 1.2]\n",
    "con = [0.1366314976448222; 0.07009306769467444; 0.06115332989597844; 0.07178418128379448; 0.04927907295689818]\n",
    "chi = [-1.0; -1.0; -5.0]\n",
    "@time F(flu,con,chi)"
   ]
  },
  {
   "cell_type": "code",
   "execution_count": 4,
   "metadata": {},
   "outputs": [
    {
     "data": {
      "text/plain": [
       "5"
      ]
     },
     "execution_count": 4,
     "metadata": {},
     "output_type": "execute_result"
    }
   ],
   "source": [
    "N=5"
   ]
  },
  {
   "cell_type": "code",
   "execution_count": 5,
   "metadata": {},
   "outputs": [
    {
     "data": {
      "text/plain": [
       "(Num[f₁, f₂, f₃, f₄, f₅], Num[c₁, c₂, c₃, c₄, c₅], Num[p₁, p₂, p₃])"
      ]
     },
     "execution_count": 5,
     "metadata": {},
     "output_type": "execute_result"
    }
   ],
   "source": [
    "@variables f[1:N], c[1:N], p[1:3]"
   ]
  },
  {
   "cell_type": "code",
   "execution_count": 6,
   "metadata": {},
   "outputs": [],
   "source": [
    "F(f,c,p);"
   ]
  },
  {
   "cell_type": "code",
   "execution_count": 7,
   "metadata": {},
   "outputs": [],
   "source": [
    "JS = Symbolics.jacobian(F(f,c,p),f);"
   ]
  },
  {
   "cell_type": "code",
   "execution_count": 8,
   "metadata": {},
   "outputs": [],
   "source": [
    "J_exp = Symbolics.build_function(JS, f, c, p);"
   ]
  },
  {
   "cell_type": "code",
   "execution_count": 9,
   "metadata": {},
   "outputs": [],
   "source": [
    "Jac = eval(J_exp[1]);"
   ]
  },
  {
   "cell_type": "code",
   "execution_count": 10,
   "metadata": {},
   "outputs": [
    {
     "data": {
      "text/plain": [
       "5×5 Array{Float64,2}:\n",
       " 2.1326e8   -7.36384e6       -2.47609e6  -1.29663e7      -1.62161e6\n",
       " 1.91586e8  -7.38982e6       -2.37722e6  -1.10918e7      -1.64112e6\n",
       " 7.87715e6  -8.70425e5  -107976.0        -2.51339e5  -18105.2\n",
       " 7.43887e6  -8.45607e5   -83779.5        -2.53325e5  -24170.9\n",
       " 6.54349e6  -8.1213e5    -72674.7        -2.10055e5  -29720.8"
      ]
     },
     "execution_count": 10,
     "metadata": {},
     "output_type": "execute_result"
    }
   ],
   "source": [
    "Jac(rand(5),rand(5),rand(3))"
   ]
  },
  {
   "cell_type": "code",
   "execution_count": 11,
   "metadata": {},
   "outputs": [
    {
     "data": {
      "text/plain": [
       "NR_step! (generic function with 1 method)"
      ]
     },
     "execution_count": 11,
     "metadata": {},
     "output_type": "execute_result"
    }
   ],
   "source": [
    "function NR_step!(F, Jac, u0, y, p)\n",
    "    u = u0 - Jac(u0,y, p) \\ F(u0,y,p)\n",
    "end"
   ]
  },
  {
   "cell_type": "code",
   "execution_count": 39,
   "metadata": {},
   "outputs": [
    {
     "data": {
      "text/plain": [
       "5-element Array{Float64,1}:\n",
       " -0.00041226333496524603\n",
       " -0.0047830657349550165\n",
       " -0.004763752786428821\n",
       " -0.00011584671176567696\n",
       " -3.0158418865333658e-5"
      ]
     },
     "execution_count": 39,
     "metadata": {},
     "output_type": "execute_result"
    }
   ],
   "source": [
    "p = [-1.0; -1.0; -5.0]\n",
    "u0 = @SVector[1.0, 0.30, 2.0, 4.0, 5.0]\n",
    "y = F(u0,[0,0,0,0,0],p)\n",
    "\n",
    "F(u0.+0.005.*rand(5),y ,p)\n",
    "\n",
    "#Jac(u0,y .+0.005.*rand(5),p);\n",
    "F(u0,y .+0.005.*rand(5),p)"
   ]
  },
  {
   "cell_type": "code",
   "execution_count": 42,
   "metadata": {},
   "outputs": [
    {
     "data": {
      "text/plain": [
       "5-element SArray{Tuple{5},Float64,1,5} with indices SOneTo(5):\n",
       " 1.0000000000000002\n",
       " 0.30000000000000004\n",
       " 2.0000000000000004\n",
       " 4.000000000000002\n",
       " 5.000000000000003"
      ]
     },
     "execution_count": 42,
     "metadata": {},
     "output_type": "execute_result"
    }
   ],
   "source": [
    "ui = @SVector[1.0, 0.30, 3.0, 4.0, 3.0]\n",
    "NR_step!(F, Jac, u0, y, p)"
   ]
  },
  {
   "cell_type": "code",
   "execution_count": 43,
   "metadata": {},
   "outputs": [
    {
     "name": "stdout",
     "output_type": "stream",
     "text": [
      "[1.0000000000000002, 0.3000000000000001, 2.0, 4.000000000000002, 5.0]\n",
      "[-2.000888343900442e-11, -1.8189894035458565e-11, -4.3076653355456074e-14, -2.0161650127192843e-13, -2.007283228522283e-13]\n"
     ]
    }
   ],
   "source": [
    "u0 = @SVector[1.0, 0.30, 3.0, 4.0, 3.0]\n",
    "#u0 = [1.0; 0.30; 3.0; 4.0; 3.0]\n",
    "for i ∈ 1:25\n",
    "    u0 = NR_step!(F, Jac, u0, y, p)\n",
    "end\n",
    "println(u0)\n",
    "println(F(u0,y,p))"
   ]
  },
  {
   "cell_type": "code",
   "execution_count": 78,
   "metadata": {},
   "outputs": [],
   "source": [
    "M = 10^3\n",
    "# it does not work with SMatrix\n",
    "for j ∈ 1:M\n",
    "        ui[:,j] = [10.0; 0.2; 1.1; 1.5; 1.2] + 0.1*rand(5)\n",
    "end\n",
    "#u0 = SMatrix{N,M}([(i+j)/(N+M) for i ∈ 1:N, j ∈ 1:M])\n",
    "#u0 = @SMatrix rand(N,M)\n",
    "#yy = @SMatrix rand(N,M)\n",
    "#yy = SMatrix{N,M}([0. for i ∈ 1:N, j ∈ 1:M])\n",
    "yy = zeros(N,M)\n",
    "for j ∈ 1:M\n",
    "    yy[:,j] = F(ui[:,j],[0,0,0,0,0],p)\n",
    "#    yy[:,j] = convert(Array{Float64,1},F(u0[:,j],yy[:,j],p))\n",
    "end"
   ]
  },
  {
   "cell_type": "code",
   "execution_count": 79,
   "metadata": {},
   "outputs": [
    {
     "data": {
      "text/plain": [
       "2.8291798035590816e-34"
      ]
     },
     "execution_count": 79,
     "metadata": {},
     "output_type": "execute_result"
    }
   ],
   "source": [
    "j = 200\n",
    "F(ui[:,j],yy[:,j], p)'*F(ui[:,j],yy[:,j], p)"
   ]
  },
  {
   "cell_type": "code",
   "execution_count": 80,
   "metadata": {},
   "outputs": [
    {
     "data": {
      "text/plain": [
       "5×1000 Array{Float64,2}:\n",
       " 10.048     10.0841    10.0105    …  10.081     10.073     10.0597\n",
       "  0.205523   0.255179   0.203597      0.209446   0.237672   0.279965\n",
       "  1.10929    1.15631    1.11421       1.18578    1.18011    1.1229\n",
       "  1.58835    1.53558    1.5692        1.50319    1.56602    1.58345\n",
       "  1.25486    1.27512    1.24108       1.28396    1.24105    1.24204"
      ]
     },
     "execution_count": 80,
     "metadata": {},
     "output_type": "execute_result"
    }
   ],
   "source": [
    "u0 = (ui .- 0.0001 .*rand(N,M))"
   ]
  },
  {
   "cell_type": "code",
   "execution_count": 82,
   "metadata": {},
   "outputs": [
    {
     "name": "stdout",
     "output_type": "stream",
     "text": [
      "  0.004709 seconds (53.94 k allocations: 4.104 MiB)\n"
     ]
    }
   ],
   "source": [
    "tol = 10^(-8)\n",
    "iter_max = 5\n",
    "\n",
    "@time begin\n",
    "for j ∈ 1:M\n",
    "    iter = 1\n",
    "    while F(u0[:,j],yy[:,j], p)'*F(u0[:,j],yy[:,j], p) > tol && iter < iter_max\n",
    "        u0[:,j] = NR_step!(F, Jac, u0[:,j], yy[:,j], p)\n",
    "        iter = iter + 1\n",
    "        if iter == iter_max \n",
    "            println(\"iter_max reached j = $j\")\n",
    "        end\n",
    "    end\n",
    "    #println(iter)\n",
    "end\n",
    "end"
   ]
  },
  {
   "cell_type": "code",
   "execution_count": null,
   "metadata": {},
   "outputs": [],
   "source": []
  },
  {
   "cell_type": "code",
   "execution_count": null,
   "metadata": {},
   "outputs": [],
   "source": []
  }
 ],
 "metadata": {
  "kernelspec": {
   "display_name": "Julia 1.5.3",
   "language": "julia",
   "name": "julia-1.5"
  },
  "language_info": {
   "file_extension": ".jl",
   "mimetype": "application/julia",
   "name": "julia",
   "version": "1.5.3"
  },
  "latex_envs": {
   "LaTeX_envs_menu_present": true,
   "autoclose": false,
   "autocomplete": true,
   "bibliofile": "biblio.bib",
   "cite_by": "apalike",
   "current_citInitial": 1,
   "eqLabelWithNumbers": true,
   "eqNumInitial": 1,
   "hotkeys": {
    "equation": "Ctrl-E",
    "itemize": "Ctrl-I"
   },
   "labels_anchors": false,
   "latex_user_defs": false,
   "report_style_numbering": false,
   "user_envs_cfg": false
  }
 },
 "nbformat": 4,
 "nbformat_minor": 4
}
