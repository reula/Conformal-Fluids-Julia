{
 "cells": [
  {
   "cell_type": "markdown",
   "metadata": {},
   "source": [
    "## Inversion function\n",
    "\n",
    "We invert between conservative and \"fluid\"* variables. "
   ]
  },
  {
   "cell_type": "code",
   "execution_count": 1,
   "metadata": {},
   "outputs": [
    {
     "name": "stderr",
     "output_type": "stream",
     "text": [
      "\u001b[32m\u001b[1m Activating\u001b[22m\u001b[39m environment at `~/Julia/Fluidos_Conformes/Conf_Fluids/Project.toml`\n",
      "\u001b[32m\u001b[1m   Updating\u001b[22m\u001b[39m registry at `~/.julia/registries/General`\n",
      "######################################################################### 100.0%\n",
      "\u001b[32m\u001b[1m  Resolving\u001b[22m\u001b[39m package versions...\n",
      "\u001b[32m\u001b[1mNo Changes\u001b[22m\u001b[39m to `~/Julia/Fluidos_Conformes/Conf_Fluids/Project.toml`\n",
      "\u001b[32m\u001b[1mNo Changes\u001b[22m\u001b[39m to `~/Julia/Fluidos_Conformes/Conf_Fluids/Manifest.toml`\n"
     ]
    }
   ],
   "source": [
    "import Pkg; \n",
    "Pkg.activate(\"Conf_Fluids\")\n",
    "Pkg.add(\"Symbolics\")\n",
    "using Symbolics\n",
    "using StaticArrays"
   ]
  },
  {
   "cell_type": "markdown",
   "metadata": {},
   "source": [
    "### The Function to invert\n",
    "\n",
    "We first define the function to invert. \n",
    "We define it first as a numerical function. Then we promote it to a symbolic one and compute its Jacobian. \n",
    "\n",
    "    Notice that here $\\mu \\to -\\mu$ we then undo when defining the final maps\n",
    "\n",
    "    Notice that this can still be optimized in many ways... "
   ]
  },
  {
   "cell_type": "code",
   "execution_count": 53,
   "metadata": {},
   "outputs": [
    {
     "data": {
      "text/plain": [
       "F (generic function with 1 method)"
      ]
     },
     "execution_count": 53,
     "metadata": {},
     "output_type": "execute_result"
    }
   ],
   "source": [
    "function F(flu,con,χ)\n",
    "    #the use of a dictionary can go away in any case.\n",
    "    f = Dict(:μ => 1, :v => 2, :x1 => 3, :x2 => 4,:x3 => 5) #para acordarse de que campo asignamos a cada componente del vector\n",
    "    c = Dict(:e => 1, :s => 2, :c1 => 3, :c2 => 4,:c3 => 5)\n",
    "\n",
    "    μ = flu[f[:μ]]  # esto es -μ\n",
    "    #μ = view(flu,1)\n",
    "    T = (μ)^(-1//2) # use μ positive, so I changed μ -> -μ\n",
    "    v = flu[f[:v]]\n",
    "    χ₀ = χ[1]\n",
    "    χ₁ = χ[2]\n",
    "    χ₂ = χ[3]\n",
    "    x1 = flu[f[:x1]]\n",
    "    x2 = flu[f[:x2]]\n",
    "    x3 = flu[f[:x3]]\n",
    "    γ = (1 - v^2)^(-1//2)\n",
    "    τ = -2χ₁ * x3 * T / (γ*μ^3) - 24χ₂*(1//2*(1-v^2)x3^2 + 14//3 * x2^2 + 7/5*(1-v^2)x1*x3)/μ^5\n",
    "    ρ = -6χ₀ / μ^2 - 6χ₁*x1/(γ * μ^4 * T) - 42χ₂*(6//5 *x1^2 + 10γ^2*x2^2 + 3//2*(v^2-1)^2*x3^2)/(μ^5 * γ^2)\n",
    "    Q = -10χ₀ * x2 * T / μ^3 - 168χ₂ * x2 * (x1 - (v^2 - 1)x3)/(γ * μ^5)\n",
    "\n",
    "    A = (-12 * χ₂/μ^4)*[3(2γ^2 - 1)  3v*(6γ^2 - 1)    3v^2 ;\n",
    "                v*(6γ^2 - 1)  (6γ^2*(1 + 2v^2) - 1)  v*(v^2 + 2) ;\n",
    "                (6γ^2 * v^2 + 1)  v*(6γ^2*(2 + v^2) - 1)  (2v^2 + 1)]\n",
    "\n",
    "    e = 4//3*ρ*(γ^2 - 1//4) + 2v*γ*Q + v^2*τ\n",
    "    s = 4//3*ρ*γ^2*v + (v^2+1//1)γ*Q + v*τ;\n",
    "\n",
    "    Y1 = -3χ₁*γ/T/μ^3 *(2γ^2 - 1//1)\n",
    "    Y2 = -3χ₁*γ/T/μ^3 *v*(6γ^2 - 1//1)\n",
    "    Y3 = -3χ₁*γ/T/μ^3 *(6γ^2*v^2 + 1//1)\n",
    "    \n",
    "    return  [- con[c[:e]] + 4//3* ρ*(γ^2 - 1//4) + 2//1* Q*γ*v + τ*v^2;\n",
    "             - con[c[:s]] + 4//3* ρ*γ^2*v + Q*γ*(v^2 + 1//1) + τ*v;\n",
    "             - con[c[:c1]] + A[1,1]*x1 + A[1,2]*x2 + A[1,3]*x3 + Y1;\n",
    "             - con[c[:c2]] + A[2,1]*x1 + A[2,2]*x2 + A[2,3]*x3 + Y2;\n",
    "             - con[c[:c3]] + A[3,1]*x1 + A[3,2]*x2 + A[3,3]*x3 + Y3]\n",
    "end"
   ]
  },
  {
   "cell_type": "markdown",
   "metadata": {},
   "source": [
    "Para testear usamos: \n",
    "`\n",
    "flu = [10.0; 0.2; 1.1; 1.5; 1.2]\n",
    "con = [0.1366314976448222; 0.07009306769467444; 0.06115332989597844; 0.07178418128379448; 0.04927907295689818]\n",
    "chi = [-1.0; -1.0; -5.0]\n",
    "`\n",
    "\n",
    "**Ojo que hay que cambiar el signo a $\\mu$!**"
   ]
  },
  {
   "cell_type": "code",
   "execution_count": 54,
   "metadata": {},
   "outputs": [
    {
     "name": "stdout",
     "output_type": "stream",
     "text": [
      "  0.146915 seconds (392.21 k allocations: 20.885 MiB)\n"
     ]
    },
    {
     "data": {
      "text/plain": [
       "5-element Array{Float64,1}:\n",
       " -1.6263032587282567e-18\n",
       " -1.3877787807814457e-17\n",
       " -3.469446951953614e-18\n",
       "  3.469446951953614e-18\n",
       "  1.734723475976807e-18"
      ]
     },
     "execution_count": 54,
     "metadata": {},
     "output_type": "execute_result"
    }
   ],
   "source": [
    "flu = [10.0; 0.2; 1.1; 1.5; 1.2]\n",
    "con = [0.1366314976448222; 0.07009306769467444; 0.06115332989597844; 0.07178418128379448; 0.04927907295689818]\n",
    "chi = [-1.0; -1.0; -5.0]\n",
    "@time F(flu,con,chi)"
   ]
  },
  {
   "cell_type": "markdown",
   "metadata": {},
   "source": [
    "Once we are sure about the function we promote it to a **symbolic function** and compute the Jacobian "
   ]
  },
  {
   "cell_type": "code",
   "execution_count": 159,
   "metadata": {},
   "outputs": [
    {
     "data": {
      "text/plain": [
       "5"
      ]
     },
     "execution_count": 159,
     "metadata": {},
     "output_type": "execute_result"
    }
   ],
   "source": [
    "N=5\n",
    "\n",
    "@variables f[1:N], c[1:N], p[1:3]"
   ]
  },
  {
   "cell_type": "code",
   "execution_count": 6,
   "metadata": {},
   "outputs": [],
   "source": [
    "F(f,c,p);"
   ]
  },
  {
   "cell_type": "code",
   "execution_count": 7,
   "metadata": {},
   "outputs": [],
   "source": [
    "JS = Symbolics.jacobian(F(f,c,p),f);"
   ]
  },
  {
   "cell_type": "code",
   "execution_count": 8,
   "metadata": {},
   "outputs": [],
   "source": [
    "J_exp = Symbolics.build_function(JS, f, c, p);"
   ]
  },
  {
   "cell_type": "code",
   "execution_count": 9,
   "metadata": {},
   "outputs": [],
   "source": [
    "Jac = eval(J_exp[1]);"
   ]
  },
  {
   "cell_type": "code",
   "execution_count": 10,
   "metadata": {},
   "outputs": [
    {
     "data": {
      "text/plain": [
       "5×5 Array{Float64,2}:\n",
       " 2.1326e8   -7.36384e6       -2.47609e6  -1.29663e7      -1.62161e6\n",
       " 1.91586e8  -7.38982e6       -2.37722e6  -1.10918e7      -1.64112e6\n",
       " 7.87715e6  -8.70425e5  -107976.0        -2.51339e5  -18105.2\n",
       " 7.43887e6  -8.45607e5   -83779.5        -2.53325e5  -24170.9\n",
       " 6.54349e6  -8.1213e5    -72674.7        -2.10055e5  -29720.8"
      ]
     },
     "execution_count": 10,
     "metadata": {},
     "output_type": "execute_result"
    }
   ],
   "source": [
    "Jac(rand(5),rand(5),rand(3)) #check that it returns a metric"
   ]
  },
  {
   "cell_type": "markdown",
   "metadata": {},
   "source": [
    "One can make the inversion in a symbolic way, but it is a very long expression, so probably takes more time to evaluate than to invert."
   ]
  },
  {
   "cell_type": "markdown",
   "metadata": {},
   "source": [
    "Now we define the Newton-Raphson step."
   ]
  },
  {
   "cell_type": "code",
   "execution_count": 11,
   "metadata": {},
   "outputs": [
    {
     "data": {
      "text/plain": [
       "NR_step! (generic function with 1 method)"
      ]
     },
     "execution_count": 11,
     "metadata": {},
     "output_type": "execute_result"
    }
   ],
   "source": [
    "function NR_step!(F, Jac, u0, y, p)\n",
    "    u = u0 - Jac(u0,y, p) \\ F(u0,y,p)\n",
    "end"
   ]
  },
  {
   "cell_type": "markdown",
   "metadata": {},
   "source": [
    "To check we give an arbitrary vector u0, and use the equation to compute y (using y=0 in F). We then perturbe u0 use the scheme to get u0 again."
   ]
  },
  {
   "cell_type": "code",
   "execution_count": 170,
   "metadata": {},
   "outputs": [
    {
     "data": {
      "text/plain": [
       "5-element Array{Float64,1}:\n",
       "  5.002220859751105e-12\n",
       "  0.0\n",
       " -2.6201263381153694e-14\n",
       "  1.127986593019159e-13\n",
       "  2.930988785010413e-14"
      ]
     },
     "execution_count": 170,
     "metadata": {},
     "output_type": "execute_result"
    }
   ],
   "source": [
    "p = [-1.0; -1.0; -5.0]\n",
    "u0 = @SVector[1.0, 0.30, 2.0, 4.0, 5.0]\n",
    "y = F(u0,[0,0,0,0,0],p)\n",
    "\n",
    "F(u0, y ,p)"
   ]
  },
  {
   "cell_type": "code",
   "execution_count": 176,
   "metadata": {},
   "outputs": [
    {
     "name": "stdout",
     "output_type": "stream",
     "text": [
      "[1.0, 0.29999999999999993, 2.0000000000000013, 4.000000000000001, 5.0]\n",
      "\n",
      "[2.1373125491663814e-11, 4.547473508864641e-12, 3.717026686445024e-13, 7.94031507211912e-13, 2.5490720645393594e-13]\n",
      "\n",
      "error = 2.1870611221190414e-11\n"
     ]
    }
   ],
   "source": [
    "u0 = @SVector[1.0, 0.30, 2.0, 4.0, 5.0] + 0.1*rand(5)\n",
    "#u0 = [1.0; 0.30; 3.0; 4.0; 3.0]\n",
    "for i ∈ 1:25\n",
    "    u0 = NR_step!(F, Jac, u0, y, p)\n",
    "end\n",
    "println(u0)\n",
    "println()\n",
    "println(F(u0,y,p))\n",
    "println()\n",
    "println(\"error = $(sqrt(F(u0,y,p)'*F(u0,y,p)))\")"
   ]
  },
  {
   "cell_type": "markdown",
   "metadata": {},
   "source": [
    "We see that it is working correctly with 25 iterations.\n",
    "Now we define a vector of variables, like the case when we are solving the pde equation. Something is wrong when trying to use static arrays here, don't know way. But in any case it is fast."
   ]
  },
  {
   "cell_type": "code",
   "execution_count": 182,
   "metadata": {},
   "outputs": [],
   "source": [
    "M = 10^3\n",
    "ui = zeros(N,M)\n",
    "# it does not work with SMatrix\n",
    "for j ∈ 1:M\n",
    "        ui[:,j] = [10.0; 0.2; 1.1; 1.5; 1.2] + 0.1*rand(5)\n",
    "end\n",
    "#u0 = SMatrix{N,M}([(i+j)/(N+M) for i ∈ 1:N, j ∈ 1:M])\n",
    "#u0 = @SMatrix rand(N,M)\n",
    "#yy = @SMatrix rand(N,M)\n",
    "#yy = SMatrix{N,M}([0. for i ∈ 1:N, j ∈ 1:M])\n",
    "yy = zeros(N,M)\n",
    "for j ∈ 1:M\n",
    "    yy[:,j] = F(ui[:,j],[0,0,0,0,0],p)\n",
    "#    yy[:,j] = convert(Array{Float64,1},F(u0[:,j],yy[:,j],p))\n",
    "end"
   ]
  },
  {
   "cell_type": "code",
   "execution_count": 183,
   "metadata": {},
   "outputs": [
    {
     "data": {
      "text/plain": [
       "2.715862148139813e-34"
      ]
     },
     "execution_count": 183,
     "metadata": {},
     "output_type": "execute_result"
    }
   ],
   "source": [
    "j = 200\n",
    "F(ui[:,j],yy[:,j], p)'*F(ui[:,j],yy[:,j], p)"
   ]
  },
  {
   "cell_type": "code",
   "execution_count": 184,
   "metadata": {},
   "outputs": [
    {
     "data": {
      "text/plain": [
       "5×1000 Array{Float64,2}:\n",
       " 10.0982    10.0036    10.0639    …  10.0268    10.0079    10.0453\n",
       "  0.224099   0.208545   0.270358      0.244236   0.215885   0.241525\n",
       "  1.19602    1.18512    1.11974       1.10932    1.18628    1.1795\n",
       "  1.58214    1.49999    1.53093       1.58623    1.57069    1.58827\n",
       "  1.29732    1.25374    1.28725       1.25256    1.2229     1.21069"
      ]
     },
     "execution_count": 184,
     "metadata": {},
     "output_type": "execute_result"
    }
   ],
   "source": [
    "u0 = (ui .- 0.0001 .*rand(N,M))"
   ]
  },
  {
   "cell_type": "markdown",
   "metadata": {},
   "source": [
    "Notice that we square tol for we use it on the square of the error. \n"
   ]
  },
  {
   "cell_type": "code",
   "execution_count": 186,
   "metadata": {},
   "outputs": [
    {
     "name": "stdout",
     "output_type": "stream",
     "text": [
      "  0.009951 seconds (53.94 k allocations: 4.104 MiB)\n"
     ]
    }
   ],
   "source": [
    "tol = 10^(-8)\n",
    "tol = tol^2\n",
    "iter_max = 5\n",
    "\n",
    "@time begin\n",
    "for j ∈ 1:M\n",
    "    iter = 1\n",
    "    while F(u0[:,j],yy[:,j], p)'*F(u0[:,j],yy[:,j], p) > tol && iter < iter_max\n",
    "        u0[:,j] = NR_step!(F, Jac, u0[:,j], yy[:,j], p)\n",
    "        iter = iter + 1\n",
    "        if iter == iter_max \n",
    "            println(\"iter_max reached j = $j\")\n",
    "        end\n",
    "    end\n",
    "    #println(iter)\n",
    "end\n",
    "end"
   ]
  },
  {
   "cell_type": "markdown",
   "metadata": {},
   "source": [
    "Now that we have checked all parts we define the final functions:"
   ]
  },
  {
   "cell_type": "code",
   "execution_count": 192,
   "metadata": {},
   "outputs": [
    {
     "data": {
      "text/plain": [
       "c_to_f!"
      ]
     },
     "execution_count": 192,
     "metadata": {},
     "output_type": "execute_result"
    }
   ],
   "source": [
    "\"\"\"\n",
    "    c_to_f!(flu, con, p)\n",
    "\n",
    "Compute the fluid variables `flu` from the conservative `con` ones.\n",
    "It inverts the function `F(flu,con,χ) = con(flu,χ) - con` using \n",
    "Newto-Raphson method.\n",
    "\n",
    "As parameters have: \n",
    "    χ = Function parameters, \n",
    "    tol = error tolerance for the inversion, \n",
    "    iter_max = maximum iteration number for the NR method, \n",
    "    N = number of variables (5 here), \n",
    "    M = dimension of vector of variables\n",
    "\n",
    "# Examples\n",
    "```julia-repl\n",
    "julia> \n",
    "tol = 10^(-16)\n",
    "iter_max = 40\n",
    "χ = [-1.0; -1.0; -5.0]\n",
    "M=1\n",
    "N=5\n",
    "p = (χ, tol, iter_max, N, M)\n",
    "flu = [-10.0; 0.2; 1.1; 1.5; 1.2]\n",
    "con = [0.1366314976448222; 0.07009306769467444; 0.06115332989597844; 0.07178418128379448; 0.04927907295689818]\n",
    "c_to_f!(flu + 0.1* rand(N), con, p) - con\n",
    "5×1 Array{Float64,2}:\n",
    "  2.1953994178147695e-11\n",
    " -1.393440918207034e-12\n",
    " -4.0323300254385686e-13\n",
    " -1.3405498933138915e-11\n",
    "  1.2895684520231043e-11\n",
    "```\n",
    "\"\"\"\n",
    "function c_to_f!(flu, con, p)\n",
    "    χ, tol, iter_max, N, M = p\n",
    "    for j ∈ 1:M\n",
    "        flu[1,j] = -flu[1,j]\n",
    "        iter = 1\n",
    "        while F(flu[:,j],con[:,j], χ)'*F(flu[:,j],con[:,j], χ) > tol && iter < iter_max\n",
    "            flu[:,j] = NR_step!(F, Jac, flu[:,j], con[:,j], χ)\n",
    "            iter = iter + 1\n",
    "            if iter == iter_max \n",
    "            println(\"iter_max reached j = $j\")\n",
    "            end\n",
    "        end\n",
    "    #println(iter)\n",
    "        flu[1,j] = -flu[1,j]\n",
    "    end\n",
    "    return flu[:,:]\n",
    "end"
   ]
  },
  {
   "cell_type": "code",
   "execution_count": 195,
   "metadata": {},
   "outputs": [],
   "source": [
    "?c_to_f!;"
   ]
  },
  {
   "cell_type": "code",
   "execution_count": 187,
   "metadata": {},
   "outputs": [],
   "source": [
    "tol = 10^(-16)\n",
    "iter_max = 40\n",
    "χ = [-1.0; -1.0; -5.0]\n",
    "M=1\n",
    "N=5\n",
    "p = (χ, tol, iter_max, N, M)\n",
    "flu = [-10.0; 0.2; 1.1; 1.5; 1.2]\n",
    "con = [0.1366314976448222; 0.07009306769467444; 0.06115332989597844; 0.07178418128379448; 0.04927907295689818]\n",
    "flu_i = flu + 0.1*rand(5);"
   ]
  },
  {
   "cell_type": "code",
   "execution_count": 188,
   "metadata": {},
   "outputs": [
    {
     "name": "stdout",
     "output_type": "stream",
     "text": [
      "  0.001815 seconds (922 allocations: 75.406 KiB)\n"
     ]
    },
    {
     "data": {
      "text/plain": [
       "5×1 Array{Float64,2}:\n",
       "  2.1953994178147695e-11\n",
       " -1.393440918207034e-12\n",
       " -4.0323300254385686e-13\n",
       " -1.3405498933138915e-11\n",
       "  1.2895684520231043e-11"
      ]
     },
     "execution_count": 188,
     "metadata": {},
     "output_type": "execute_result"
    }
   ],
   "source": [
    "@time c_to_f!(flu_i, con, p) - flu"
   ]
  },
  {
   "cell_type": "code",
   "execution_count": 197,
   "metadata": {},
   "outputs": [
    {
     "data": {
      "text/plain": [
       "f_to_c!"
      ]
     },
     "execution_count": 197,
     "metadata": {},
     "output_type": "execute_result"
    }
   ],
   "source": [
    "\"\"\"\n",
    "    f_to_c!(flu, con, p)\n",
    "\n",
    "Compute the conservative `con` variables for the fluid ones `flu`.\n",
    "It uses the function `F(flu,con,χ) = con(flu,χ) - con` with `con = 0`.\n",
    "\n",
    "As parameters have: \n",
    "    χ = Function parameters\n",
    "    N = number of variables (5 here), \n",
    "    M = dimension of vector of variables\n",
    "\n",
    "# Examples\n",
    "```julia-repl\n",
    "julia> \n",
    "χ = [-1.0; -1.0; -5.0]\n",
    "M=1\n",
    "N=5\n",
    "p = (χ, N, M)\n",
    "flu = [-10.0; 0.2; 1.1; 1.5; 1.2]\n",
    "con = [0.1366314976448222; 0.07009306769467444; 0.06115332989597844; 0.07178418128379448; 0.04927907295689818]\n",
    "f_to_c!(flu,con+rand(N),p) - con\n",
    "5×1 Array{Float64,2}:\n",
    "  0.0\n",
    " -1.3877787807814457e-17\n",
    "  0.0\n",
    "  0.0\n",
    "  0.0\n",
    "```\n",
    "\"\"\"\n",
    "function f_to_c!(flu, con, p)\n",
    "    χ, N, M = p\n",
    "    y = zeros(N)\n",
    "    for j ∈ 1:M\n",
    "        flu[1,j] = -flu[1,j]\n",
    "        con[:,j] = F(flu[:,j],y, χ)\n",
    "    end\n",
    "    return con[:,:]\n",
    "end"
   ]
  },
  {
   "cell_type": "code",
   "execution_count": 196,
   "metadata": {},
   "outputs": [
    {
     "data": {
      "text/plain": [
       "5×1 Array{Float64,2}:\n",
       "  0.0\n",
       " -1.3877787807814457e-17\n",
       "  0.0\n",
       "  0.0\n",
       "  0.0"
      ]
     },
     "execution_count": 196,
     "metadata": {},
     "output_type": "execute_result"
    }
   ],
   "source": [
    "N=5\n",
    "M=1\n",
    "p = (χ, N, M)\n",
    "χ = [-1.0; -1.0; -5.0]\n",
    "flu = [-10.0; 0.2; 1.1; 1.5; 1.2]\n",
    "con = [0.1366314976448222; 0.07009306769467444; 0.06115332989597844; 0.07178418128379448; 0.04927907295689818]\n",
    "f_to_c!(flu,con+rand(N),p) - con"
   ]
  },
  {
   "cell_type": "code",
   "execution_count": null,
   "metadata": {},
   "outputs": [],
   "source": []
  }
 ],
 "metadata": {
  "kernelspec": {
   "display_name": "Julia 1.5.3",
   "language": "julia",
   "name": "julia-1.5"
  },
  "language_info": {
   "file_extension": ".jl",
   "mimetype": "application/julia",
   "name": "julia",
   "version": "1.5.3"
  },
  "latex_envs": {
   "LaTeX_envs_menu_present": true,
   "autoclose": false,
   "autocomplete": true,
   "bibliofile": "biblio.bib",
   "cite_by": "apalike",
   "current_citInitial": 1,
   "eqLabelWithNumbers": true,
   "eqNumInitial": 1,
   "hotkeys": {
    "equation": "Ctrl-E",
    "itemize": "Ctrl-I"
   },
   "labels_anchors": false,
   "latex_user_defs": false,
   "report_style_numbering": false,
   "user_envs_cfg": false
  }
 },
 "nbformat": 4,
 "nbformat_minor": 4
}
