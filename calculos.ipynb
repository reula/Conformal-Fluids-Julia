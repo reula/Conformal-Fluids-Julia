{
 "cells": [
  {
   "cell_type": "code",
   "execution_count": 59,
   "id": "7877a11e-8add-4333-910a-dc1175474d48",
   "metadata": {},
   "outputs": [],
   "source": [
    "using Symbolics\n",
    "using Latexify"
   ]
  },
  {
   "cell_type": "code",
   "execution_count": 65,
   "id": "dad7563a-781d-4159-906f-044d5f25c834",
   "metadata": {},
   "outputs": [],
   "source": [
    "@variables g00, g11, g01, ν, r0, r1, t00, t01, t11, u0, u1, μ, T, γ, v, χ₁, χ₂, χ₀ ;"
   ]
  },
  {
   "cell_type": "code",
   "execution_count": 52,
   "id": "0a84cba9-c2af-4ca0-9324-7e9982d07deb",
   "metadata": {},
   "outputs": [
    {
     "data": {
      "text/latex": [
       "\\begin{equation}\n",
       "\\frac{12 u0 \\chi{_2} \\left(  - t00 + \\frac{\\frac{19}{3} \\nu \\left( g00 + 4 u0^{2} \\right)}{\\mu} + \\frac{14 r0 u0}{\\mu T} \\right)}{\\mu^{4} T}\n",
       "\\end{equation}\n"
      ],
      "text/plain": [
       "(12//1)*u0*χ₂*((19//3)*ν*(g00 + 4(u0^2))*(μ^-1) + 14r0*u0*(T^-1)*(μ^-1) - t00)*(T^-1)*(μ^-4)"
      ]
     },
     "execution_count": 52,
     "metadata": {},
     "output_type": "execute_result"
    }
   ],
   "source": [
    "A00021 = 12χ₂*u0/(μ^4 *T)*(19//3*ν*(g00 + 4u0*u0)/μ + 14/T/μ *r0*u0 - t00)"
   ]
  },
  {
   "cell_type": "code",
   "execution_count": 69,
   "id": "a3155948-a970-4a41-bbb4-4e1233e58689",
   "metadata": {},
   "outputs": [
    {
     "data": {
      "text/latex": [
       "\\begin{equation}\n",
       " - \\frac{24 \\chi{_2} \\left( r0 \\left( \\frac{1}{2} g00 - 2 u0^{2} \\right) + \\frac{t00 u0}{T} + \\frac{\\nu \\left(  - \\frac{4}{3} u0^{3} + \\frac{1}{6} g00 u0 \\right)}{\\mu T} \\right)}{\\mu^{4}}\n",
       "\\end{equation}\n"
      ],
      "text/plain": [
       "-24χ₂*(r0*((1//2)*g00 - (2(u0^2))) + t00*u0*(T^-1) + ν*(T^-1)*(μ^-1)*((1//6)*g00*u0 - ((4//3)*(u0^3))))*(μ^-4)"
      ]
     },
     "execution_count": 69,
     "metadata": {},
     "output_type": "execute_result"
    }
   ],
   "source": [
    "A00022 = -24χ₂/μ^4 *(ν/μ/T*(2//3*g00*u0 -1//2*g00*u0 - 4//3*u0^3) + r0*(g00 - u0^2 - (u0^2 + g00//2)) + t00 * u0/T)"
   ]
  },
  {
   "cell_type": "code",
   "execution_count": 70,
   "id": "cb615245-ddef-49d8-a758-7c2bcf7b8555",
   "metadata": {},
   "outputs": [
    {
     "data": {
      "text/latex": [
       "\\begin{equation}\n",
       " - \\frac{96 \\chi{_2} \\left( r0 \\mu \\left( 0.25 g00 + u0^{2} \\right) + \\frac{\\nu \\left( u0^{3} - 0.5 g00 u0 \\right)}{T} \\right)}{\\mu^{5}}\n",
       "\\end{equation}\n"
      ],
      "text/plain": [
       "-96χ₂*(μ^-5)*(r0*μ*(0.25g00 + u0^2) + ν*(T^-1)*(u0^3 - (0.5g00*u0)))"
      ]
     },
     "execution_count": 70,
     "metadata": {},
     "output_type": "execute_result"
    }
   ],
   "source": [
    "A00023 = -96χ₂/μ^5 * (ν/T*(- u0*g00/2 + u0^3 ) + r0*μ*(g00/4 + u0^2))"
   ]
  },
  {
   "cell_type": "code",
   "execution_count": 71,
   "id": "368be68a-6b5f-489d-9e89-e5bdaafcf9fe",
   "metadata": {},
   "outputs": [
    {
     "data": {
      "text/latex": [
       "\\begin{equation}\n",
       " - \\frac{36.0 g00 r0 \\chi{_2}}{\\mu^{4}} - \\frac{48 u0^{2} r0 \\chi{_2}}{\\mu^{4}} + \\frac{168 u0^{2} r0 \\chi{_2}}{\\mu^{5} T^{2}} - \\frac{36 t00 u0 \\chi{_2}}{\\mu^{4} T} + \\frac{240 u0^{3} \\nu \\chi{_2}}{\\mu^{5} T} + \\frac{120.0 g00 u0 \\nu \\chi{_2}}{\\mu^{5} T}\n",
       "\\end{equation}\n"
      ],
      "text/plain": [
       "(168//1)*r0*χ₂*(T^-2)*(u0^2)*(μ^-5) + (240//1)*ν*χ₂*(T^-1)*(u0^3)*(μ^-5) + 120.0g00*u0*ν*χ₂*(T^-1)*(μ^-5) - (36.0g00*r0*χ₂*(μ^-4)) - (48r0*χ₂*(u0^2)*(μ^-4)) - ((36//1)*t00*u0*χ₂*(T^-1)*(μ^-4))"
      ]
     },
     "execution_count": 71,
     "metadata": {},
     "output_type": "execute_result"
    }
   ],
   "source": [
    "A0002 = simplify(A00021 + A00022 + A00023; expand=true,\n",
    "            threaded=false,\n",
    "            thread_subtree_cutoff=100,\n",
    "            rewriter=nothing)"
   ]
  },
  {
   "cell_type": "code",
   "execution_count": 72,
   "id": "a7b8ee34-455f-44d0-a8fc-fbeee24c4f7f",
   "metadata": {},
   "outputs": [
    {
     "data": {
      "text/latex": [
       "\\begin{equation}\n",
       "36.0 T^{8} r1 v \\chi{_2} + 120.0 T^{9} \\gamma \\nu \\chi{_2} - 240.0 \\gamma^{3} T^{9} \\nu \\chi{_2} - 216.0 \\gamma^{2} T^{8} r1 v \\chi{_2} - 36 v^{2} T^{7} t11 \\gamma \\chi{_2}\n",
       "\\end{equation}\n"
      ],
      "text/plain": [
       "36.0r1*v*χ₂*(T^8) + 120.0γ*ν*χ₂*(T^9) - (240.0ν*χ₂*(T^9)*(γ^3)) - (216.0r1*v*χ₂*(T^8)*(γ^2)) - ((36//1)*t11*γ*χ₂*(T^7)*(v^2))"
      ]
     },
     "execution_count": 72,
     "metadata": {},
     "output_type": "execute_result"
    }
   ],
   "source": [
    "A0002_s=simplify(substitute(A0002, Dict([g00 => -1, g11 => 1, μ => -T^(-2), r0 => r1*v, u0 => γ, t00 => v^2*t11])))"
   ]
  },
  {
   "cell_type": "code",
   "execution_count": 73,
   "id": "d136ad96-c51a-46f2-9701-bd1daf72b9e0",
   "metadata": {},
   "outputs": [
    {
     "data": {
      "text/latex": [
       "\\begin{equation}\n",
       "36.0 T^{8} r1 v \\chi{_2} + 120.0 T^{9} \\gamma \\nu \\chi{_2} - 240.0 \\gamma^{3} T^{9} \\nu \\chi{_2} - 216.0 \\gamma^{2} T^{8} r1 v \\chi{_2} - 36 v^{2} T^{7} t11 \\gamma \\chi{_2}\n",
       "\\end{equation}\n"
      ],
      "text/plain": [
       "L\"\\begin{equation}\n",
       "36.0 T^{8} r1 v \\chi{_2} + 120.0 T^{9} \\gamma \\nu \\chi{_2} - 240.0 \\gamma^{3} T^{9} \\nu \\chi{_2} - 216.0 \\gamma^{2} T^{8} r1 v \\chi{_2} - 36 v^{2} T^{7} t11 \\gamma \\chi{_2}\n",
       "\\end{equation}\n",
       "\""
      ]
     },
     "execution_count": 73,
     "metadata": {},
     "output_type": "execute_result"
    }
   ],
   "source": [
    "latexify(A0002_s)"
   ]
  },
  {
   "cell_type": "markdown",
   "id": "1d8868fe-e114-43c9-b9c2-82e4270c0d3a",
   "metadata": {},
   "source": [
    "$A^{000}_2 = \\frac{\\chi_2}{\\mu^4}(\\nu \\gamma T(120 - 240\\gamma^2) + r^1 v(36 - 216\\gamma^2) - 36v^2\\gamma \\tilde{\\tau}^{11}/T)$"
   ]
  },
  {
   "cell_type": "code",
   "execution_count": 68,
   "id": "918060f1-3c3c-4537-8ea6-343f8c9e33cb",
   "metadata": {},
   "outputs": [
    {
     "data": {
      "text/latex": [
       "\\begin{equation}\n",
       "\\frac{12 u0 \\chi{_2} \\left(  - \\mu^{2} t01 + \\frac{19}{3} \\mu \\nu \\left( g01 + 4 u0 u1 \\right) + \\frac{7 \\mu \\left( r0 u1 + r1 u0 \\right)}{T} \\right)}{\\mu^{6} T}\n",
       "\\end{equation}\n"
      ],
      "text/plain": [
       "(12//1)*u0*χ₂*((19//3)*μ*ν*(g01 + 4u0*u1) + 7μ*(T^-1)*(r0*u1 + r1*u0) - (t01*(μ^2)))*(T^-1)*(μ^-6)"
      ]
     },
     "execution_count": 68,
     "metadata": {},
     "output_type": "execute_result"
    }
   ],
   "source": [
    "A01021 = 12χ₂*u0/(μ^6 *T)*(19//3*ν*μ*(g01 + 4u1*u0) + 7μ/T *(r0*u1+r1*u0) - μ^2*t01)"
   ]
  },
  {
   "cell_type": "code",
   "execution_count": 83,
   "id": "1eb67b17-f048-433f-9de9-8b9728dc4348",
   "metadata": {},
   "outputs": [
    {
     "data": {
      "text/latex": [
       "\\begin{equation}\n",
       " - \\frac{24 \\chi{_2} \\left( \\frac{1}{2} g00 r1 + \\frac{1}{2} g01 r0 - r0 \\left( \\frac{1}{2} g01 + u0 u1 \\right) - \\frac{1}{2} u0^{2} r1 - \\frac{1}{2} r0 u0 u1 + \\frac{2 t00 u1}{T} + \\frac{2 t01 u0}{T} + \\frac{\\nu \\left( \\frac{1}{3} g00 u1 - \\frac{1}{6} g01 u0 - \\frac{4}{3} u0^{2} u1 \\right)}{\\mu T} \\right)}{\\mu^{4}}\n",
       "\\end{equation}\n"
      ],
      "text/plain": [
       "-24χ₂*((1//2)*g00*r1 + (1//2)*g01*r0 + (2//1)*t00*u1*(T^-1) + (2//1)*t01*u0*(T^-1) + ν*((1//3)*g00*u1 - ((1//6)*g01*u0) - ((4//3)*u1*(u0^2)))*(T^-1)*(μ^-1) - (r0*((1//2)*g01 + u0*u1)) - ((1//2)*r1*(u0^2)) - ((1//2)*r0*u0*u1))*(μ^-4)"
      ]
     },
     "execution_count": 83,
     "metadata": {},
     "output_type": "execute_result"
    }
   ],
   "source": [
    "A01022 = -24χ₂/μ^4 *(ν/μ/T*(1//3*g01*u0 + 1//3*g00*u1 -1//2*g01*u0 - 4//3*u0^2*u1) \n",
    "    + r0*g01//2 + r1*g00//2 - u0^2*r1//2 - u0*u1*r0//2 - r0*(u0*u1 + g01//2)\n",
    "+ t01 * u0/T//2 + t00 * u1/T//2)"
   ]
  },
  {
   "cell_type": "code",
   "execution_count": 91,
   "id": "ba8e1b13-ab10-4afc-a2ce-deca5c1386e9",
   "metadata": {},
   "outputs": [
    {
     "data": {
      "text/latex": [
       "\\begin{equation}\n",
       " - \\frac{96 \\chi{_2} \\left( r0 \\mu \\left( 0.25 g01 + u0 u1 \\right) + \\frac{\\nu \\left( u0^{2} u1 - \\frac{1}{2} g00 u1 \\right)}{T} \\right)}{\\mu^{5}}\n",
       "\\end{equation}\n"
      ],
      "text/plain": [
       "-96χ₂*(μ^-5)*(r0*μ*(0.25g01 + u0*u1) + ν*(T^-1)*(u1*(u0^2) - ((1//2)*g00*u1)))"
      ]
     },
     "execution_count": 91,
     "metadata": {},
     "output_type": "execute_result"
    }
   ],
   "source": [
    "A01023 = -96χ₂/μ^5 * (ν/T*(u0*g01/2 + u0^2*u1 - 1//2*g00*u1 - 1//2*g01*u0) \n",
    "    + r0*μ*(g01/4 + u0*u1))"
   ]
  },
  {
   "cell_type": "code",
   "execution_count": 92,
   "id": "f38b0983-3ae9-4aff-b99a-b75b36f5505c",
   "metadata": {},
   "outputs": [
    {
     "data": {
      "text/latex": [
       "\\begin{equation}\n",
       " - \\frac{12 g00 r1 \\chi{_2}}{\\mu^{4}} - \\frac{24.0 g01 r0 \\chi{_2}}{\\mu^{4}} + \\frac{12 u0^{2} r1 \\chi{_2}}{\\mu^{4}} - \\frac{60 r0 u0 u1 \\chi{_2}}{\\mu^{4}} + \\frac{84 u0^{2} r1 \\chi{_2}}{\\mu^{5} T^{2}} - \\frac{48 t00 u1 \\chi{_2}}{\\mu^{4} T} - \\frac{60 t01 u0 \\chi{_2}}{\\mu^{4} T} + \\frac{40 g00 u1 \\nu \\chi{_2}}{\\mu^{5} T} + \\frac{80 g01 u0 \\nu \\chi{_2}}{\\mu^{5} T} + \\frac{84 r0 u0 u1 \\chi{_2}}{\\mu^{5} T^{2}} + \\frac{240 u0^{2} u1 \\nu \\chi{_2}}{\\mu^{5} T}\n",
       "\\end{equation}\n"
      ],
      "text/plain": [
       "(12//1)*r1*χ₂*(u0^2)*(μ^-4) + (84//1)*r1*χ₂*(T^-2)*(u0^2)*(μ^-5) + (40//1)*g00*u1*ν*χ₂*(T^-1)*(μ^-5) + (80//1)*g01*u0*ν*χ₂*(T^-1)*(μ^-5) + (84//1)*r0*u0*u1*χ₂*(T^-2)*(μ^-5) + (240//1)*u1*ν*χ₂*(T^-1)*(u0^2)*(μ^-5) - ((12//1)*g00*r1*χ₂*(μ^-4)) - (24.0g01*r0*χ₂*(μ^-4)) - ((60//1)*r0*u0*u1*χ₂*(μ^-4)) - ((48//1)*t00*u1*χ₂*(T^-1)*(μ^-4)) - ((60//1)*t01*u0*χ₂*(T^-1)*(μ^-4))"
      ]
     },
     "execution_count": 92,
     "metadata": {},
     "output_type": "execute_result"
    }
   ],
   "source": [
    "A0102 = simplify(A01021 + A01022 + A01023; expand=true,\n",
    "            threaded=false,\n",
    "            thread_subtree_cutoff=100,\n",
    "            rewriter=nothing)"
   ]
  },
  {
   "cell_type": "code",
   "execution_count": 93,
   "id": "c4178207-d99a-4561-8cd4-b4a51fba2b27",
   "metadata": {},
   "outputs": [
    {
     "data": {
      "text/latex": [
       "\\begin{equation}\n",
       "12 T^{8} r1 \\chi{_2} - 72.0 \\gamma^{2} T^{8} r1 \\chi{_2} - 144.0 \\gamma^{2} v^{2} T^{8} r1 \\chi{_2} - 60 T^{7} t11 v \\gamma \\chi{_2} - 48 v^{3} T^{7} t11 \\gamma \\chi{_2} + 40.0 T^{9} v \\gamma \\nu \\chi{_2} - 240.0 \\gamma^{3} T^{9} v \\nu \\chi{_2}\n",
       "\\end{equation}\n"
      ],
      "text/plain": [
       "(12//1)*r1*χ₂*(T^8) + 40.0v*γ*ν*χ₂*(T^9) - (72.0r1*χ₂*(T^8)*(γ^2)) - (144.0r1*χ₂*(T^8)*(v^2)*(γ^2)) - ((60//1)*t11*v*γ*χ₂*(T^7)) - ((48//1)*t11*γ*χ₂*(T^7)*(v^3)) - (240.0v*ν*χ₂*(T^9)*(γ^3))"
      ]
     },
     "execution_count": 93,
     "metadata": {},
     "output_type": "execute_result"
    }
   ],
   "source": [
    "A0102_s=simplify(substitute(A0102, Dict([g00 => -1, g11 => 1, g01 => 0, μ => -T^(-2), r0 => r1*v, u0 => γ, u1 => γ*v, t00 => v^2*t11, t01 => v*t11 ])))"
   ]
  },
  {
   "cell_type": "markdown",
   "id": "dcf15c6f-9312-4bf4-a17d-8705400e34b5",
   "metadata": {},
   "source": [
    "$A^{001}_2 = \\chi_2*\\mu^4(\\nu T v \\gamma(40 - 240\\gamma^2) + r^1(12  - 72\\gamma^2 - 144\\gamma^2 v^2) - \\tau^{11}v\\gamma/T(60 + 48v^2)$"
   ]
  },
  {
   "cell_type": "code",
   "execution_count": 94,
   "id": "63ca20fd-805e-42e8-bc9f-4039d761d786",
   "metadata": {},
   "outputs": [
    {
     "data": {
      "text/latex": [
       "\\begin{equation}\n",
       "\\frac{12 u0 \\chi{_2} \\left(  - \\mu^{2} t11 + \\frac{19}{3} \\mu \\nu \\left( g11 + 4 u1^{2} \\right) + \\frac{14 r1 u1 \\mu}{T} \\right)}{\\mu^{6} T}\n",
       "\\end{equation}\n"
      ],
      "text/plain": [
       "(12//1)*u0*χ₂*((19//3)*μ*ν*(g11 + 4(u1^2)) + 14r1*u1*μ*(T^-1) - (t11*(μ^2)))*(T^-1)*(μ^-6)"
      ]
     },
     "execution_count": 94,
     "metadata": {},
     "output_type": "execute_result"
    }
   ],
   "source": [
    "A01121 = 12χ₂*u0/(μ^6 *T)*(19//3*ν*μ*(g11 + 4u1*u1) + 7μ/T *(r1*u1+r1*u1) \n",
    "    - μ^2*t11)"
   ]
  },
  {
   "cell_type": "code",
   "execution_count": 95,
   "id": "45389caf-57fd-434f-8ae1-882a49288b03",
   "metadata": {},
   "outputs": [
    {
     "data": {
      "text/latex": [
       "\\begin{equation}\n",
       " - \\frac{24 \\chi{_2} \\left( g01 r1 - r0 \\left( \\frac{1}{2} g11 + u1^{2} \\right) - r1 u0 u1 + \\frac{4 t01 u1}{T} + \\frac{\\nu \\left( \\frac{2}{3} g01 u1 - \\frac{1}{2} g11 u0 - \\frac{4}{3} u1^{2} u0 \\right)}{\\mu T} \\right)}{\\mu^{4}}\n",
       "\\end{equation}\n"
      ],
      "text/plain": [
       "-24χ₂*(g01*r1 + (4//1)*t01*u1*(T^-1) + ν*((2//3)*g01*u1 - ((1//2)*g11*u0) - ((4//3)*u0*(u1^2)))*(T^-1)*(μ^-1) - (r0*((1//2)*g11 + u1^2)) - (r1*u0*u1))*(μ^-4)"
      ]
     },
     "execution_count": 95,
     "metadata": {},
     "output_type": "execute_result"
    }
   ],
   "source": [
    "A01122 = -24χ₂/μ^4 *(ν/μ/T*(1//3*g01*u1 + 1//3*g01*u1 -1//2*g11*u0 - 4//3*u1^2*u0) \n",
    "    + r1*g01//2 + r1*g01//2 - u0*u1*r1//2 - u0*u1*r1//2 - r0*(u1*u1 + g11//2)\n",
    "+ t01 * u1/T//2 + t01 * u1/T//2)"
   ]
  },
  {
   "cell_type": "code",
   "execution_count": 90,
   "id": "789f3baf-4420-49a7-a7c7-94e1b78f918d",
   "metadata": {},
   "outputs": [
    {
     "data": {
      "text/latex": [
       "\\begin{equation}\n",
       " - \\frac{96 \\chi{_2} \\left( r0 \\mu \\left( 0.25 g11 + u1^{2} \\right) + \\frac{\\nu \\left( g11 u0 + u1^{2} u0 - g01 u1 \\right)}{T} \\right)}{\\mu^{5}}\n",
       "\\end{equation}\n"
      ],
      "text/plain": [
       "-96χ₂*(μ^-5)*(r0*μ*(0.25g11 + u1^2) + ν*(g11*u0 + u0*(u1^2) - (g01*u1))*(T^-1))"
      ]
     },
     "execution_count": 90,
     "metadata": {},
     "output_type": "execute_result"
    }
   ],
   "source": [
    "A01123 = -96χ₂/μ^5 * (ν/T*(u0*g11 + u0*u1^2 - 1//2*g01*u1 - 1//2*g01*u1) \n",
    "    + r0*μ*(g11/4 + u1*u1))"
   ]
  },
  {
   "cell_type": "code",
   "execution_count": 96,
   "id": "2bd99c1f-c448-4d11-bc24-a16d2421c0c6",
   "metadata": {},
   "outputs": [
    {
     "data": {
      "text/latex": [
       "\\begin{equation}\n",
       " - \\frac{24 g01 r1 \\chi{_2}}{\\mu^{4}} - \\frac{12.0 g11 r0 \\chi{_2}}{\\mu^{4}} - \\frac{72 u1^{2} r0 \\chi{_2}}{\\mu^{4}} + \\frac{24 r1 u0 u1 \\chi{_2}}{\\mu^{4}} - \\frac{96 t01 u1 \\chi{_2}}{\\mu^{4} T} - \\frac{12 t11 u0 \\chi{_2}}{\\mu^{4} T} + \\frac{80 g01 u1 \\nu \\chi{_2}}{\\mu^{5} T} - \\frac{8 g11 u0 \\nu \\chi{_2}}{\\mu^{5} T} + \\frac{168 r1 u0 u1 \\chi{_2}}{\\mu^{5} T^{2}} + \\frac{240 u1^{2} u0 \\nu \\chi{_2}}{\\mu^{5} T}\n",
       "\\end{equation}\n"
      ],
      "text/plain": [
       "(24//1)*r1*u0*u1*χ₂*(μ^-4) + (80//1)*g01*u1*ν*χ₂*(T^-1)*(μ^-5) + (168//1)*r1*u0*u1*χ₂*(T^-2)*(μ^-5) + (240//1)*u0*ν*χ₂*(T^-1)*(u1^2)*(μ^-5) - (24g01*r1*χ₂*(μ^-4)) - (12.0g11*r0*χ₂*(μ^-4)) - (72r0*χ₂*(u1^2)*(μ^-4)) - ((96//1)*t01*u1*χ₂*(T^-1)*(μ^-4)) - ((12//1)*t11*u0*χ₂*(T^-1)*(μ^-4)) - ((8//1)*g11*u0*ν*χ₂*(T^-1)*(μ^-5))"
      ]
     },
     "execution_count": 96,
     "metadata": {},
     "output_type": "execute_result"
    }
   ],
   "source": [
    "A0112 = simplify(A01121 + A01122 + A01123; expand=true,\n",
    "            threaded=false,\n",
    "            thread_subtree_cutoff=100,\n",
    "            rewriter=nothing)"
   ]
  },
  {
   "cell_type": "code",
   "execution_count": 97,
   "id": "7ecbec37-aecf-47ee-bbc4-6c2dad818606",
   "metadata": {},
   "outputs": [
    {
     "data": {
      "text/latex": [
       "\\begin{equation}\n",
       " - 12.0 T^{8} r1 v \\chi{_2} - 12 T^{7} t11 \\gamma \\chi{_2} + 8.0 T^{9} \\gamma \\nu \\chi{_2} - 144.0 \\gamma^{2} T^{8} r1 v \\chi{_2} - 72 \\gamma^{2} v^{3} T^{8} r1 \\chi{_2} - 96 v^{2} T^{7} t11 \\gamma \\chi{_2} - 240.0 \\gamma^{3} v^{2} T^{9} \\nu \\chi{_2}\n",
       "\\end{equation}\n"
      ],
      "text/plain": [
       "8.0γ*ν*χ₂*(T^9) - (12.0r1*v*χ₂*(T^8)) - ((12//1)*t11*γ*χ₂*(T^7)) - (144.0r1*v*χ₂*(T^8)*(γ^2)) - (72r1*χ₂*(T^8)*(v^3)*(γ^2)) - ((96//1)*t11*γ*χ₂*(T^7)*(v^2)) - (240.0ν*χ₂*(T^9)*(v^2)*(γ^3))"
      ]
     },
     "execution_count": 97,
     "metadata": {},
     "output_type": "execute_result"
    }
   ],
   "source": [
    "A0112_s=simplify(substitute(A0112, Dict([g00 => -1, g11 => 1, g01 => 0, μ => -T^(-2), r0 => r1*v, u0 => γ, u1 => γ*v, t00 => v^2*t11, t01 => v*t11 ])))"
   ]
  },
  {
   "cell_type": "markdown",
   "id": "37a525c0-4261-47e7-bef0-eb42074536f1",
   "metadata": {},
   "source": [
    "$A^{011}_2 = \\frac{\\chi_2}{\\mu^4}(\\nu T \\gamma(8 - 240\\gamma^2) + r^1v(-12 -144\\gamma^2 - 72\\gamma^2 v^2) + \\frac{\\tilde{\\tau}^{11}\\gamma}{T}(-12 - 96v^2))$\n",
    "\n"
   ]
  },
  {
   "cell_type": "code",
   "execution_count": null,
   "id": "d2d03cfd-13ab-4859-b588-f38d743966ca",
   "metadata": {},
   "outputs": [],
   "source": [
    "$A^{011}_2 = \\frac{\\chi_2}{\\mu^4}(\\nu T \\gamma(8 - 240\\gamma^2) + r^1v(-12 -144\\gamma^2 - 72\\gamma^2 v^2) + \\frac{\\tilde{\\tau}^{11}\\gamma}{T}(-12 - 96v^2))$\n",
    "\n"
   ]
  },
  {
   "cell_type": "markdown",
   "id": "31f29288-da51-4bda-81e8-2dbed49b4dcf",
   "metadata": {},
   "source": [
    "\\begin{eqnarray*}\n",
    "    A_2^{abc} &=& -\\frac{12\\chi_2}{\\mu^4}[\\frac{10}{3}\\frac{\\nu}{\\sqrt{-\\mu}}u^a g^{bc}\n",
    "    + \\frac{20\\nu}{\\sqrt{-\\mu}} u^a u^b u^c  + \\frac{20}{3}\\frac{\\nu}{\\sqrt{-\\mu}}g^{a(b}u^{c)} \\\\\n",
    "    &+& 12 u^a u^{(b}r^{c)} + 2g^{a(b}r^{c)} + 6r^a u^b u^c \n",
    "    + r^a g^{bc} \\\\\n",
    "    &+& 2\\sqrt{-\\mu}\\tilde{\\tau}^{a(b}u^{c)} + \\sqrt{-\\mu}u^a\\tilde{\\tau}^{bc}]\n",
    "\\end{eqnarray*}"
   ]
  },
  {
   "cell_type": "code",
   "execution_count": 113,
   "id": "34d9873d-f9a2-4655-bceb-e031b8da292f",
   "metadata": {},
   "outputs": [
    {
     "data": {
      "text/latex": [
       "\\begin{equation}\n",
       " - 12 \\chi{_2} \\left( T \\nu \\left( 20 u1^{3} + 10 g11 u1 \\right) + 3 g11 r1 + 18 u1^{2} r1 + \\frac{3 t11 u1}{T} \\right)\n",
       "\\end{equation}\n"
      ],
      "text/plain": [
       "-12χ₂*(T*ν*((20//1)*(u1^3) + (10//1)*g11*u1) + 3g11*r1 + 18r1*(u1^2) + 3t11*u1*(T^-1))"
      ]
     },
     "execution_count": 113,
     "metadata": {},
     "output_type": "execute_result"
    }
   ],
   "source": [
    "A111_2 = -12χ₂*(ν*T*(10*u1*g11 + 10*g11*u1 + 10*g11*u1 + 60u1*u1*u1)//3 \n",
    "    + (6r1*u1*u1 + 6r1*u1*u1 + g11*r1 + g11*r1 + 6r1*u1*u1 \n",
    "        + r1*g11) + (t11*u1 + t11*u1 + u1*t11)/T)"
   ]
  },
  {
   "cell_type": "code",
   "execution_count": 111,
   "id": "a582ce7b-8a9a-48d0-8120-e33b982be772",
   "metadata": {},
   "outputs": [
    {
     "data": {
      "text/latex": [
       "\\begin{equation}\n",
       " - 12 \\chi{_2} \\left( g11 r0 + \\frac{\\left( t11 u0 + 2 t01 u1 \\right)}{T} + T \\nu \\left( \\frac{20}{3} g01 u1 + \\frac{10}{3} g11 u0 + 20 u1^{2} u0 \\right) + 2 g01 r1 + 6 u1^{2} r0 + 12 r1 u0 u1 \\right)\n",
       "\\end{equation}\n"
      ],
      "text/plain": [
       "-12χ₂*(g11*r0 + (T^-1)*(t11*u0 + 2t01*u1) + T*ν*((20//3)*g01*u1 + (10//3)*g11*u0 + (20//1)*u0*(u1^2)) + 2g01*r1 + 6r0*(u1^2) + 12r1*u0*u1)"
      ]
     },
     "execution_count": 111,
     "metadata": {},
     "output_type": "execute_result"
    }
   ],
   "source": [
    "A011_2 = -12χ₂*(ν*T*(10*u0*g11 + 10*g01*u1 + 10*g01*u1 + 60u0*u1*u1)//3 \n",
    "    + (6r1*u1*u0 + 6r1*u0*u1 + g01*r1 + g01*r1 + 6r0*u1*u1 \n",
    "        + r0*g11) + (t01*u1 + t01*u1 + u0*t11)/T)"
   ]
  },
  {
   "cell_type": "code",
   "execution_count": 107,
   "id": "ecdc7ba9-5e99-43e9-83e5-51e8f4e24c20",
   "metadata": {},
   "outputs": [
    {
     "data": {
      "text/latex": [
       "\\begin{equation}\n",
       " - 12 \\chi{_2} \\left( g00 r1 + \\frac{\\left( t00 u1 + 2 t01 u0 \\right)}{T} + T \\nu \\left( \\frac{10}{3} g00 u1 + \\frac{20}{3} g01 u0 + 20 u0^{2} u1 \\right) + 2 g01 r0 + 6 u0^{2} r1 + 12 r0 u0 u1 \\right)\n",
       "\\end{equation}\n"
      ],
      "text/plain": [
       "-12χ₂*(g00*r1 + (T^-1)*(t00*u1 + 2t01*u0) + T*ν*((10//3)*g00*u1 + (20//3)*g01*u0 + (20//1)*u1*(u0^2)) + 2g01*r0 + 6r1*(u0^2) + 12r0*u0*u1)"
      ]
     },
     "execution_count": 107,
     "metadata": {},
     "output_type": "execute_result"
    }
   ],
   "source": [
    "A001_2 = -12χ₂*(ν*T*(10*u0*g01 + 10*g00*u1 + 10*g01*u0  + 60u0*u0*u1)//3 \n",
    "    + (6r1*u0*u0 + 6r0*u0*u1 + g00*r1 + g01*r0 + 6r0*u0*u1 \n",
    "        + r0*g01) + (t00*u1 + t01*u0 + u0*t01)/T)"
   ]
  },
  {
   "cell_type": "code",
   "execution_count": 108,
   "id": "4c701ed4-e202-4c74-8640-e8a93b1b3b49",
   "metadata": {},
   "outputs": [
    {
     "data": {
      "text/latex": [
       "\\begin{equation}\n",
       " - 12 \\chi{_2} \\left( T \\nu \\left( 20 u0^{3} + 10 g00 u0 \\right) + 3 g00 r0 + 18 u0^{2} r0 + \\frac{3 t00 u0}{T} \\right)\n",
       "\\end{equation}\n"
      ],
      "text/plain": [
       "-12χ₂*(T*ν*((20//1)*(u0^3) + (10//1)*g00*u0) + 3g00*r0 + 18r0*(u0^2) + 3t00*u0*(T^-1))"
      ]
     },
     "execution_count": 108,
     "metadata": {},
     "output_type": "execute_result"
    }
   ],
   "source": [
    "A000_2 = -12χ₂*(ν*T*(10*u0*g00 + 20*g00*u0 + 60u0*u0*u0)//3 \n",
    "    + (6r0*u0*u0 + 6r0*u0*u0 + g00*r0 + g00*r0 + 6r0*u0*u0 \n",
    "        + r0*g00) + (t00*u0 + t00*u0 + u0*t00)/T)"
   ]
  },
  {
   "cell_type": "code",
   "execution_count": 109,
   "id": "a7d58275-ef40-4fdf-8d73-5cf80e63a6bb",
   "metadata": {},
   "outputs": [
    {
     "data": {
      "text/latex": [
       "\\begin{equation}\n",
       " - 12 \\chi{_2} \\left( T \\nu \\left(  - 10 \\gamma + 20 \\gamma^{3} \\right) - 3 r1 v + 18 \\gamma^{2} r1 v + \\frac{3 v^{2} t11 \\gamma}{T} \\right)\n",
       "\\end{equation}\n"
      ],
      "text/plain": [
       "-12χ₂*(T*ν*((20//1)*(γ^3) - ((10//1)*γ)) + 18r1*v*(γ^2) + 3t11*γ*(T^-1)*(v^2) - (3r1*v))"
      ]
     },
     "execution_count": 109,
     "metadata": {},
     "output_type": "execute_result"
    }
   ],
   "source": [
    "simplify(substitute(A000_2, Dict([g00 => -1, g11 => 1, g01 => 0, μ => -T^(-2), r0 => r1*v, u0 => γ, u1 => γ*v, t00 => v^2*t11, t01 => v*t11 ])))"
   ]
  },
  {
   "cell_type": "code",
   "execution_count": 110,
   "id": "aabb1171-f408-4b99-a01e-942b847ca2e6",
   "metadata": {},
   "outputs": [
    {
     "data": {
      "text/latex": [
       "\\begin{equation}\n",
       " - 12 \\chi{_2} \\left(  - r1 + \\frac{\\left( v^{3} t11 \\gamma + 2 t11 v \\gamma \\right)}{T} + T \\nu \\left(  - \\frac{10}{3} v \\gamma + 20 \\gamma^{3} v \\right) + 6 \\gamma^{2} r1 + 12 \\gamma^{2} v^{2} r1 \\right)\n",
       "\\end{equation}\n"
      ],
      "text/plain": [
       "-12χ₂*((T^-1)*(t11*γ*(v^3) + 2t11*v*γ) + T*ν*((20//1)*v*(γ^3) - ((10//3)*v*γ)) + 6r1*(γ^2) + 12r1*(v^2)*(γ^2) - r1)"
      ]
     },
     "execution_count": 110,
     "metadata": {},
     "output_type": "execute_result"
    }
   ],
   "source": [
    "simplify(substitute(A001_2, Dict([g00 => -1, g11 => 1, g01 => 0, μ => -T^(-2), r0 => r1*v, u0 => γ, u1 => γ*v, t00 => v^2*t11, t01 => v*t11 ])))"
   ]
  },
  {
   "cell_type": "code",
   "execution_count": 112,
   "id": "bb3d26f2-2d0b-40bb-8d29-b811eb259a67",
   "metadata": {},
   "outputs": [
    {
     "data": {
      "text/latex": [
       "\\begin{equation}\n",
       " - 12 \\chi{_2} \\left( r1 v + \\frac{\\left( t11 \\gamma + 2 v^{2} t11 \\gamma \\right)}{T} + T \\nu \\left( \\frac{10}{3} \\gamma + 20 \\gamma^{3} v^{2} \\right) + 12 \\gamma^{2} r1 v + 6 \\gamma^{2} v^{3} r1 \\right)\n",
       "\\end{equation}\n"
      ],
      "text/plain": [
       "-12χ₂*(r1*v + (T^-1)*(t11*γ + 2t11*γ*(v^2)) + T*ν*((10//3)*γ + (20//1)*(v^2)*(γ^3)) + 12r1*v*(γ^2) + 6r1*(v^3)*(γ^2))"
      ]
     },
     "execution_count": 112,
     "metadata": {},
     "output_type": "execute_result"
    }
   ],
   "source": [
    "simplify(substitute(A011_2, Dict([g00 => -1, g11 => 1, g01 => 0, μ => -T^(-2), r0 => r1*v, u0 => γ, u1 => γ*v, t00 => v^2*t11, t01 => v*t11 ])))"
   ]
  },
  {
   "cell_type": "code",
   "execution_count": 114,
   "id": "a98146d8-d534-4d7b-8bb3-e6b073bec140",
   "metadata": {},
   "outputs": [
    {
     "data": {
      "text/latex": [
       "\\begin{equation}\n",
       " - 12 \\chi{_2} \\left( 3 r1 + T \\nu \\left( 10 v \\gamma + 20 \\gamma^{3} v^{3} \\right) + 18 \\gamma^{2} v^{2} r1 + \\frac{3 t11 v \\gamma}{T} \\right)\n",
       "\\end{equation}\n"
      ],
      "text/plain": [
       "-12χ₂*(3r1 + T*ν*((10//1)*v*γ + (20//1)*(v^3)*(γ^3)) + 18r1*(v^2)*(γ^2) + 3t11*v*γ*(T^-1))"
      ]
     },
     "execution_count": 114,
     "metadata": {},
     "output_type": "execute_result"
    }
   ],
   "source": [
    "simplify(substitute(A111_2, Dict([g00 => -1, g11 => 1, g01 => 0, μ => -T^(-2), r0 => r1*v, u0 => γ, u1 => γ*v, t00 => v^2*t11, t01 => v*t11 ])))"
   ]
  },
  {
   "cell_type": "code",
   "execution_count": null,
   "id": "5ad54000-0cff-4ec8-bbc9-3a1a6be6b246",
   "metadata": {},
   "outputs": [],
   "source": []
  }
 ],
 "metadata": {
  "kernelspec": {
   "display_name": "Julia 1.6.1",
   "language": "julia",
   "name": "julia-1.6"
  },
  "language_info": {
   "file_extension": ".jl",
   "mimetype": "application/julia",
   "name": "julia",
   "version": "1.6.1"
  }
 },
 "nbformat": 4,
 "nbformat_minor": 5
}
