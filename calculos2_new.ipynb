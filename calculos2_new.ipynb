{
 "cells": [
  {
   "cell_type": "code",
   "execution_count": 1,
   "id": "333ef126",
   "metadata": {
    "scrolled": true
   },
   "outputs": [],
   "source": [
    "using Symbolics\n",
    "using Latexify"
   ]
  },
  {
   "cell_type": "code",
   "execution_count": 2,
   "id": "dad7563a-781d-4159-906f-044d5f25c834",
   "metadata": {},
   "outputs": [],
   "source": [
    "@variables g00, g11, g01, ν, r0, r1, t00, t01, t11, t22, t33, u0, u1, μ, T, γ, v, χ₁, χ₂, χ₀ ;"
   ]
  },
  {
   "cell_type": "code",
   "execution_count": 3,
   "id": "5125144b-5002-48ff-a432-4c348671a2b4",
   "metadata": {
    "scrolled": true
   },
   "outputs": [
    {
     "data": {
      "text/plain": [
       "Dict{Num,Num} with 11 entries:\n",
       "  u1  => v*γ\n",
       "  t00 => t11*(v^2)\n",
       "  u0  => γ\n",
       "  μ   => -(T^-2)\n",
       "  t01 => t11*v\n",
       "  t33 => t11*(0.5(v^2) - 0.5)\n",
       "  g00 => -1\n",
       "  g11 => 1\n",
       "  r0  => r1*v\n",
       "  g01 => 0\n",
       "  t22 => t11*(0.5(v^2) - 0.5)"
      ]
     },
     "execution_count": 3,
     "metadata": {},
     "output_type": "execute_result"
    }
   ],
   "source": [
    "DIC = Dict([g00 => -1, g11 => 1, g01 => 0, \n",
    "            μ => -T^(-2), r0 => r1*v, u0 => γ, u1 => γ*v, \n",
    "            t00 => v^2*t11, t01 => v*t11, t22 => 0.5*(v^2-1)*t11, t33 => 0.5*(v^2-1)*t11])"
   ]
  },
  {
   "cell_type": "markdown",
   "id": "ec0dc89c",
   "metadata": {},
   "source": [
    "## Energy-momentum tensor (new version)"
   ]
  },
  {
   "cell_type": "markdown",
   "id": "ce60882d",
   "metadata": {},
   "source": [
    "### Only 2nd order in this notebook, directly from the generating function"
   ]
  },
  {
   "cell_type": "markdown",
   "id": "dfbede7a",
   "metadata": {},
   "source": [
    "$$\n",
    "    T_2^{ab} = \\frac{\\chi_2}{\\mu^5}\\left[48\\xi^{cd}\\xi_{cd} - \\frac{960\\ell^c\\ell_c}{\\mu} + \\frac{2880\\nu^2}{\\mu^2}\\right]\\xi^a\\xi^b\n",
    "    + \\frac{\\chi_2}{\\mu^4}\\left[-6\\xi^{cd}\\xi_{cd} + \\frac{96\\ell^c\\ell_c}{\\mu} - \\frac{240\\nu^2}{\\mu^2}\\right] g^{ab}\n",
    "    + \\frac{384\\chi_2\\xi^{(a}\\xi^{b)c}\\ell_c}{\\mu^5} - \\frac{1920\\chi_2\\nu\\xi^{(a}\\ell^{b)}}{\\mu^6}\n",
    "    + \\frac{192\\chi_2\\ell^a\\ell^b}{\\mu^5} + \\frac{96\\chi_2\\nu\\xi^{ab}}{\\mu^5} - \\frac{24\\chi_2\\xi^{ac}\\xi^b{}_c}{\\mu^4}\n",
    "$$"
   ]
  },
  {
   "cell_type": "markdown",
   "id": "cd35e69b",
   "metadata": {},
   "source": [
    "#### Abstract variables"
   ]
  },
  {
   "cell_type": "markdown",
   "id": "25a46a23",
   "metadata": {},
   "source": [
    "$$\n",
    "    \\xi^a = \\frac{u^a}{T}\n",
    "$$\n",
    "$$\n",
    "    \\xi^{ab} = - \\frac{\\nu}{3\\mu}\\left(g^{ab} + 4 u^a u^b\\right) + \\frac{2}{T\\mu} u^{(a}r^{b)} + \\tilde{\\tau}^{ab}\n",
    "$$\n",
    "$$\n",
    "    \\ell^a = \\xi^{ab}\\xi_b = r^a + \\frac{\\nu}{\\mu}\\xi^a\n",
    "$$"
   ]
  },
  {
   "cell_type": "code",
   "execution_count": 4,
   "id": "64f5af44",
   "metadata": {},
   "outputs": [
    {
     "data": {
      "text/latex": [
       "\\begin{equation}\n",
       "\\frac{u0}{T}\n",
       "\\end{equation}\n"
      ],
      "text/plain": [
       "u0*(T^-1)"
      ]
     },
     "execution_count": 4,
     "metadata": {},
     "output_type": "execute_result"
    }
   ],
   "source": [
    "xi0 = u0/T"
   ]
  },
  {
   "cell_type": "code",
   "execution_count": 5,
   "id": "5e11cd5b",
   "metadata": {},
   "outputs": [
    {
     "data": {
      "text/latex": [
       "\\begin{equation}\n",
       "\\frac{\\gamma}{T}\n",
       "\\end{equation}\n"
      ],
      "text/plain": [
       "γ*(T^-1)"
      ]
     },
     "execution_count": 5,
     "metadata": {},
     "output_type": "execute_result"
    }
   ],
   "source": [
    "simplify(substitute(xi0, Dict(DIC)))"
   ]
  },
  {
   "cell_type": "code",
   "execution_count": 6,
   "id": "47cede9c-d876-49ab-ae65-e8be9cfb6d7e",
   "metadata": {},
   "outputs": [
    {
     "data": {
      "text/latex": [
       "\\begin{equation}\n",
       "\\frac{u1}{T}\n",
       "\\end{equation}\n"
      ],
      "text/plain": [
       "u1*(T^-1)"
      ]
     },
     "execution_count": 6,
     "metadata": {},
     "output_type": "execute_result"
    }
   ],
   "source": [
    "xi1 = u1/T"
   ]
  },
  {
   "cell_type": "code",
   "execution_count": 7,
   "id": "a5f19475",
   "metadata": {},
   "outputs": [
    {
     "data": {
      "text/latex": [
       "\\begin{equation}\n",
       "\\frac{v \\gamma}{T}\n",
       "\\end{equation}\n"
      ],
      "text/plain": [
       "v*γ*(T^-1)"
      ]
     },
     "execution_count": 7,
     "metadata": {},
     "output_type": "execute_result"
    }
   ],
   "source": [
    "simplify(substitute(xi1, Dict(DIC)))"
   ]
  },
  {
   "cell_type": "code",
   "execution_count": 8,
   "id": "8939c24a",
   "metadata": {},
   "outputs": [
    {
     "data": {
      "text/latex": [
       "\\begin{equation}\n",
       "t00 - \\frac{\\nu \\left( \\frac{1}{3} g00 + \\frac{4}{3} u0^{2} \\right)}{\\mu} + \\frac{2 r0 u0}{\\mu T}\n",
       "\\end{equation}\n"
      ],
      "text/plain": [
       "t00 + (2//1)*r0*u0*(T^-1)*(μ^-1) - (ν*(μ^-1)*((1//3)*g00 + (4//3)*(u0^2)))"
      ]
     },
     "execution_count": 8,
     "metadata": {},
     "output_type": "execute_result"
    }
   ],
   "source": [
    "xi00 = -(ν/μ)*(g00 + 4*u0*u0)//3 + (2/(T*μ))*u0*r0 + t00"
   ]
  },
  {
   "cell_type": "code",
   "execution_count": 9,
   "id": "50c9da3a",
   "metadata": {},
   "outputs": [
    {
     "data": {
      "text/latex": [
       "\\begin{equation}\n",
       "v^{2} t11 + T^{2} \\nu \\left( \\frac{-1}{3} + \\frac{4}{3} \\gamma^{2} \\right) - 2.0 T r1 v \\gamma\n",
       "\\end{equation}\n"
      ],
      "text/plain": [
       "t11*(v^2) + ν*(T^2)*((4//3)*(γ^2) - (1//3)) - (2.0T*r1*v*γ)"
      ]
     },
     "execution_count": 9,
     "metadata": {},
     "output_type": "execute_result"
    }
   ],
   "source": [
    "simplify(substitute(xi00, Dict(DIC)))"
   ]
  },
  {
   "cell_type": "code",
   "execution_count": 10,
   "id": "a04663b4",
   "metadata": {},
   "outputs": [
    {
     "data": {
      "text/latex": [
       "\\begin{equation}\n",
       "t01 + \\frac{r0 u1 + r1 u0}{\\mu T} - \\frac{\\nu \\left( \\frac{1}{3} g01 + \\frac{4}{3} u0 u1 \\right)}{\\mu}\n",
       "\\end{equation}\n"
      ],
      "text/plain": [
       "t01 + (T^-1)*(μ^-1)*(r0*u1 + r1*u0) - (ν*(μ^-1)*((1//3)*g01 + (4//3)*u0*u1))"
      ]
     },
     "execution_count": 10,
     "metadata": {},
     "output_type": "execute_result"
    }
   ],
   "source": [
    "xi01 = -(ν/μ)*(g01 + 4*u0*u1)//3 + (1/(T*μ))*(u0*r1 + u1*r0) + t01"
   ]
  },
  {
   "cell_type": "code",
   "execution_count": 11,
   "id": "db45b2c6",
   "metadata": {},
   "outputs": [
    {
     "data": {
      "text/latex": [
       "\\begin{equation}\n",
       "t11 v - T \\left( r1 \\gamma + v^{2} r1 \\gamma \\right) + 1.3333333333333333 \\gamma^{2} T^{2} v \\nu\n",
       "\\end{equation}\n"
      ],
      "text/plain": [
       "t11*v + 1.3333333333333333v*ν*(T^2)*(γ^2) - (T*(r1*γ + r1*γ*(v^2)))"
      ]
     },
     "execution_count": 11,
     "metadata": {},
     "output_type": "execute_result"
    }
   ],
   "source": [
    "simplify(substitute(xi01, Dict(DIC)))"
   ]
  },
  {
   "cell_type": "code",
   "execution_count": 12,
   "id": "bc67cd6c",
   "metadata": {},
   "outputs": [
    {
     "data": {
      "text/latex": [
       "\\begin{equation}\n",
       "t11 - \\frac{\\nu \\left( \\frac{1}{3} g11 + \\frac{4}{3} u1^{2} \\right)}{\\mu} + \\frac{2 r1 u1}{\\mu T}\n",
       "\\end{equation}\n"
      ],
      "text/plain": [
       "t11 + (2//1)*r1*u1*(T^-1)*(μ^-1) - (ν*(μ^-1)*((1//3)*g11 + (4//3)*(u1^2)))"
      ]
     },
     "execution_count": 12,
     "metadata": {},
     "output_type": "execute_result"
    }
   ],
   "source": [
    "xi11 = -(ν/μ)*(g11 + 4*u1*u1)//3 + (2/(T*μ))*u1*r1 + t11"
   ]
  },
  {
   "cell_type": "code",
   "execution_count": 13,
   "id": "f324a8d5",
   "metadata": {},
   "outputs": [
    {
     "data": {
      "text/latex": [
       "\\begin{equation}\n",
       "t11 + T^{2} \\nu \\left( \\frac{1}{3} + \\frac{4}{3} \\gamma^{2} v^{2} \\right) - 2.0 T r1 v \\gamma\n",
       "\\end{equation}\n"
      ],
      "text/plain": [
       "t11 + ν*(T^2)*((1//3) + (4//3)*(v^2)*(γ^2)) - (2.0T*r1*v*γ)"
      ]
     },
     "execution_count": 13,
     "metadata": {},
     "output_type": "execute_result"
    }
   ],
   "source": [
    "simplify(substitute(xi11, Dict(DIC)))"
   ]
  },
  {
   "cell_type": "code",
   "execution_count": 14,
   "id": "0d7f0329",
   "metadata": {},
   "outputs": [
    {
     "data": {
      "text/latex": [
       "\\begin{equation}\n",
       "t22 - \\frac{\\frac{1}{3} \\nu}{\\mu}\n",
       "\\end{equation}\n"
      ],
      "text/plain": [
       "t22 - ((1//3)*ν*(μ^-1))"
      ]
     },
     "execution_count": 14,
     "metadata": {},
     "output_type": "execute_result"
    }
   ],
   "source": [
    "xi22 = -(ν/μ)//3 + t22"
   ]
  },
  {
   "cell_type": "code",
   "execution_count": 15,
   "id": "63b1dda5",
   "metadata": {},
   "outputs": [
    {
     "data": {
      "text/latex": [
       "\\begin{equation}\n",
       "t11 \\left( -0.5 + 0.5 v^{2} \\right) + 0.3333333333333333 T^{2} \\nu\n",
       "\\end{equation}\n"
      ],
      "text/plain": [
       "t11*(0.5(v^2) - 0.5) + 0.3333333333333333ν*(T^2)"
      ]
     },
     "execution_count": 15,
     "metadata": {},
     "output_type": "execute_result"
    }
   ],
   "source": [
    "simplify(substitute(xi22, Dict(DIC)))"
   ]
  },
  {
   "cell_type": "code",
   "execution_count": 16,
   "id": "9d351913",
   "metadata": {},
   "outputs": [
    {
     "data": {
      "text/latex": [
       "\\begin{equation}\n",
       "t33 - \\frac{\\frac{1}{3} \\nu}{\\mu}\n",
       "\\end{equation}\n"
      ],
      "text/plain": [
       "t33 - ((1//3)*ν*(μ^-1))"
      ]
     },
     "execution_count": 16,
     "metadata": {},
     "output_type": "execute_result"
    }
   ],
   "source": [
    "xi33 = (-ν/μ)*1//3 + t33"
   ]
  },
  {
   "cell_type": "code",
   "execution_count": 17,
   "id": "a4b32170",
   "metadata": {},
   "outputs": [
    {
     "data": {
      "text/latex": [
       "\\begin{equation}\n",
       "t11 \\left( -0.5 + 0.5 v^{2} \\right) + 0.3333333333333333 T^{2} \\nu\n",
       "\\end{equation}\n"
      ],
      "text/plain": [
       "t11*(0.5(v^2) - 0.5) + 0.3333333333333333ν*(T^2)"
      ]
     },
     "execution_count": 17,
     "metadata": {},
     "output_type": "execute_result"
    }
   ],
   "source": [
    "simplify(substitute(xi33, Dict(DIC)))"
   ]
  },
  {
   "cell_type": "code",
   "execution_count": 18,
   "id": "5fa7b3e4",
   "metadata": {},
   "outputs": [
    {
     "data": {
      "text/latex": [
       "\\begin{equation}\n",
       "\\left( t22 - \\frac{\\frac{1}{3} \\nu}{\\mu} \\right)^{2} + \\left( t33 - \\frac{\\frac{1}{3} \\nu}{\\mu} \\right)^{2} + \\left( t00 - \\frac{\\nu \\left( \\frac{1}{3} g00 + \\frac{4}{3} u0^{2} \\right)}{\\mu} + \\frac{2 r0 u0}{\\mu T} \\right)^{2} + \\left( t11 - \\frac{\\nu \\left( \\frac{1}{3} g11 + \\frac{4}{3} u1^{2} \\right)}{\\mu} + \\frac{2 r1 u1}{\\mu T} \\right)^{2} - 2 \\left( t01 + \\frac{r0 u1 + r1 u0}{\\mu T} - \\frac{\\nu \\left( \\frac{1}{3} g01 + \\frac{4}{3} u0 u1 \\right)}{\\mu} \\right)^{2}\n",
       "\\end{equation}\n"
      ],
      "text/plain": [
       "(t22 - ((1//3)*ν*(μ^-1)))^2 + (t33 - ((1//3)*ν*(μ^-1)))^2 + (t00 + (2//1)*r0*u0*(T^-1)*(μ^-1) - (ν*(μ^-1)*((1//3)*g00 + (4//3)*(u0^2))))^2 + (t11 + (2//1)*r1*u1*(T^-1)*(μ^-1) - (ν*(μ^-1)*((1//3)*g11 + (4//3)*(u1^2))))^2 - (2((t01 + (T^-1)*(μ^-1)*(r0*u1 + r1*u0) - (ν*(μ^-1)*((1//3)*g01 + (4//3)*u0*u1)))^2))"
      ]
     },
     "execution_count": 18,
     "metadata": {},
     "output_type": "execute_result"
    }
   ],
   "source": [
    "#Esto es \\xi^{ab}\\xi_{ab}\n",
    "xixi = xi00^2 + xi11^2 + xi22^2 + xi33^2 - 2*xi01^2"
   ]
  },
  {
   "cell_type": "code",
   "execution_count": 19,
   "id": "8132f31f",
   "metadata": {},
   "outputs": [
    {
     "data": {
      "text/latex": [
       "\\begin{equation}\n",
       "\\left( t11 + T^{2} \\nu \\left( \\frac{1}{3} + \\frac{4}{3} \\gamma^{2} v^{2} \\right) - 2.0 T r1 v \\gamma \\right)^{2} + \\left( v^{2} t11 + T^{2} \\nu \\left( \\frac{-1}{3} + \\frac{4}{3} \\gamma^{2} \\right) - 2.0 T r1 v \\gamma \\right)^{2} + 2 \\left( t11 \\left( -0.5 + 0.5 v^{2} \\right) + 0.3333333333333333 T^{2} \\nu \\right)^{2} - 2 \\left( t11 v - T \\left( r1 \\gamma + v^{2} r1 \\gamma \\right) + 1.3333333333333333 \\gamma^{2} T^{2} v \\nu \\right)^{2}\n",
       "\\end{equation}\n"
      ],
      "text/plain": [
       "(t11 + ν*(T^2)*((1//3) + (4//3)*(v^2)*(γ^2)) - (2.0T*r1*v*γ))^2 + (t11*(v^2) + ν*(T^2)*((4//3)*(γ^2) - (1//3)) - (2.0T*r1*v*γ))^2 + 2((t11*(0.5(v^2) - 0.5) + 0.3333333333333333ν*(T^2))^2) - (2((t11*v + 1.3333333333333333v*ν*(T^2)*(γ^2) - (T*(r1*γ + r1*γ*(v^2))))^2))"
      ]
     },
     "execution_count": 19,
     "metadata": {},
     "output_type": "execute_result"
    }
   ],
   "source": [
    "simplify(substitute(xixi, Dict(DIC)))"
   ]
  },
  {
   "cell_type": "code",
   "execution_count": 20,
   "id": "2ef837d5",
   "metadata": {},
   "outputs": [
    {
     "data": {
      "text/latex": [
       "\\begin{equation}\n",
       "r0 + \\frac{u0 \\nu}{\\mu T}\n",
       "\\end{equation}\n"
      ],
      "text/plain": [
       "r0 + u0*ν*(T^-1)*(μ^-1)"
      ]
     },
     "execution_count": 20,
     "metadata": {},
     "output_type": "execute_result"
    }
   ],
   "source": [
    "l0 = r0 + (ν/μ)*xi0"
   ]
  },
  {
   "cell_type": "code",
   "execution_count": 21,
   "id": "cb5cb379",
   "metadata": {},
   "outputs": [
    {
     "data": {
      "text/latex": [
       "\\begin{equation}\n",
       "r1 v - T \\gamma \\nu\n",
       "\\end{equation}\n"
      ],
      "text/plain": [
       "r1*v - (T*γ*ν)"
      ]
     },
     "execution_count": 21,
     "metadata": {},
     "output_type": "execute_result"
    }
   ],
   "source": [
    "simplify(substitute(l0, Dict(DIC)))"
   ]
  },
  {
   "cell_type": "code",
   "execution_count": 22,
   "id": "16be2ae9",
   "metadata": {},
   "outputs": [
    {
     "data": {
      "text/latex": [
       "\\begin{equation}\n",
       "r1 + \\frac{u1 \\nu}{\\mu T}\n",
       "\\end{equation}\n"
      ],
      "text/plain": [
       "r1 + u1*ν*(T^-1)*(μ^-1)"
      ]
     },
     "execution_count": 22,
     "metadata": {},
     "output_type": "execute_result"
    }
   ],
   "source": [
    "l1 = r1 + (ν/μ)*xi1"
   ]
  },
  {
   "cell_type": "code",
   "execution_count": 23,
   "id": "0b41432f",
   "metadata": {},
   "outputs": [
    {
     "data": {
      "text/latex": [
       "\\begin{equation}\n",
       "r1 - T v \\gamma \\nu\n",
       "\\end{equation}\n"
      ],
      "text/plain": [
       "r1 - (T*v*γ*ν)"
      ]
     },
     "execution_count": 23,
     "metadata": {},
     "output_type": "execute_result"
    }
   ],
   "source": [
    "simplify(substitute(l1, Dict(DIC)))"
   ]
  },
  {
   "cell_type": "code",
   "execution_count": 24,
   "id": "c8e9d9ac",
   "metadata": {},
   "outputs": [
    {
     "data": {
      "text/latex": [
       "\\begin{equation}\n",
       "\\left( r1 + \\frac{u1 \\nu}{\\mu T} \\right)^{2} - \\left( r0 + \\frac{u0 \\nu}{\\mu T} \\right)^{2}\n",
       "\\end{equation}\n"
      ],
      "text/plain": [
       "(r1 + u1*ν*(T^-1)*(μ^-1))^2 - ((r0 + u0*ν*(T^-1)*(μ^-1))^2)"
      ]
     },
     "execution_count": 24,
     "metadata": {},
     "output_type": "execute_result"
    }
   ],
   "source": [
    "# Esto es l^a l_a\n",
    "\n",
    "ll = -l0^2 + l1^2"
   ]
  },
  {
   "cell_type": "code",
   "execution_count": 25,
   "id": "d71141d9",
   "metadata": {},
   "outputs": [
    {
     "data": {
      "text/latex": [
       "\\begin{equation}\n",
       "\\left( r1 - T v \\gamma \\nu \\right)^{2} - \\left( r1 v - T \\gamma \\nu \\right)^{2}\n",
       "\\end{equation}\n"
      ],
      "text/plain": [
       "(r1 - (T*v*γ*ν))^2 - ((r1*v - (T*γ*ν))^2)"
      ]
     },
     "execution_count": 25,
     "metadata": {},
     "output_type": "execute_result"
    }
   ],
   "source": [
    "simplify(substitute(ll, Dict(DIC)))"
   ]
  },
  {
   "cell_type": "markdown",
   "id": "57693826",
   "metadata": {},
   "source": [
    "#### Vamos con el T ahora... vuelvo a copiarlo"
   ]
  },
  {
   "cell_type": "markdown",
   "id": "9cc1363d",
   "metadata": {},
   "source": [
    "$$\n",
    "    T_2^{ab} = \\frac{\\chi_2}{\\mu^5}\\left[48\\xi^{cd}\\xi_{cd} - \\frac{960\\ell^c\\ell_c}{\\mu} + \\frac{2880\\nu^2}{\\mu^2}\\right]\\xi^a\\xi^b\n",
    "    + \\frac{\\chi_2}{\\mu^4}\\left[-6\\xi^{cd}\\xi_{cd} + \\frac{96\\ell^c\\ell_c}{\\mu} - \\frac{240\\nu^2}{\\mu^2}\\right] g^{ab}\n",
    "    + \\frac{384\\chi_2\\xi^{(a}\\xi^{b)c}\\ell_c}{\\mu^5} - \\frac{1920\\chi_2\\nu\\xi^{(a}\\ell^{b)}}{\\mu^6}\n",
    "    + \\frac{192\\chi_2\\ell^a\\ell^b}{\\mu^5} + \\frac{96\\chi_2\\nu\\xi^{ab}}{\\mu^5} - \\frac{24\\chi_2\\xi^{ac}\\xi^b{}_c}{\\mu^4}\n",
    "$$"
   ]
  },
  {
   "cell_type": "markdown",
   "id": "8276020a",
   "metadata": {},
   "source": [
    "#### Para reducir probabilidad de error, escribo cada término por separado y los llamo T2i^ab, con i = 1,...,7, o sea pienso que\n",
    "#### T2 = T21 + T22 + T23 + ... + T27"
   ]
  },
  {
   "cell_type": "markdown",
   "id": "3ce6b1fa",
   "metadata": {},
   "source": [
    "## T2_01"
   ]
  },
  {
   "cell_type": "code",
   "execution_count": 26,
   "id": "2b73bbf3",
   "metadata": {},
   "outputs": [
    {
     "data": {
      "text/latex": [
       "\\begin{equation}\n",
       "\\frac{u0 u1 \\chi{_2} \\left( 48 \\left( t22 - \\frac{\\frac{1}{3} \\nu}{\\mu} \\right)^{2} + 48 \\left( t33 - \\frac{\\frac{1}{3} \\nu}{\\mu} \\right)^{2} + 48 \\left( t00 - \\frac{\\nu \\left( \\frac{1}{3} g00 + \\frac{4}{3} u0^{2} \\right)}{\\mu} + \\frac{2 r0 u0}{\\mu T} \\right)^{2} - 96 \\left( t01 + \\frac{r0 u1 + r1 u0}{\\mu T} - \\frac{\\nu \\left( \\frac{1}{3} g01 + \\frac{4}{3} u0 u1 \\right)}{\\mu} \\right)^{2} + 48 \\left( t11 - \\frac{\\nu \\left( \\frac{1}{3} g11 + \\frac{4}{3} u1^{2} \\right)}{\\mu} + \\frac{2 r1 u1}{\\mu T} \\right)^{2} - \\frac{ - 960 \\left( r0 + \\frac{u0 \\nu}{\\mu T} \\right)^{2} + 960 \\left( r1 + \\frac{u1 \\nu}{\\mu T} \\right)^{2}}{\\mu} + \\frac{2880 \\nu^{2}}{\\mu^{2}} \\right)}{\\mu^{5} T^{2}}\n",
       "\\end{equation}\n"
      ],
      "text/plain": [
       "u0*u1*χ₂*(48((t22 - ((1//3)*ν*(μ^-1)))^2) + 48((t33 - ((1//3)*ν*(μ^-1)))^2) + 48((t00 + (2//1)*r0*u0*(T^-1)*(μ^-1) - (ν*(μ^-1)*((1//3)*g00 + (4//3)*(u0^2))))^2) + 48((t11 + (2//1)*r1*u1*(T^-1)*(μ^-1) - (ν*(μ^-1)*((1//3)*g11 + (4//3)*(u1^2))))^2) + 2880(μ^-2)*(ν^2) - (96((t01 + (T^-1)*(μ^-1)*(r0*u1 + r1*u0) - (ν*(μ^-1)*((1//3)*g01 + (4//3)*u0*u1)))^2)) - ((μ^-1)*(960((r1 + u1*ν*(T^-1)*(μ^-1))^2) - (960((r0 + u0*ν*(T^-1)*(μ^-1))^2)))))*(T^-2)*(μ^-5)"
      ]
     },
     "execution_count": 26,
     "metadata": {},
     "output_type": "execute_result"
    }
   ],
   "source": [
    "T21_01 = (χ₂/μ^5)*(48*xixi - 960*ll/μ + 2880*ν^2/μ^2)*xi0*xi1"
   ]
  },
  {
   "cell_type": "code",
   "execution_count": 27,
   "id": "7c2de6c5",
   "metadata": {},
   "outputs": [
    {
     "data": {
      "text/latex": [
       "\\begin{equation}\n",
       " - \\gamma^{2} T^{8} v \\chi{_2} \\left( T^{2} \\left( 960 \\left( r1 - T v \\gamma \\nu \\right)^{2} - 960 \\left( r1 v - T \\gamma \\nu \\right)^{2} \\right) + 96 \\left( t11 \\left( -0.5 + 0.5 v^{2} \\right) + 0.3333333333333333 T^{2} \\nu \\right)^{2} + 48 \\left( t11 + T^{2} \\nu \\left( \\frac{1}{3} + \\frac{4}{3} \\gamma^{2} v^{2} \\right) - 2.0 T r1 v \\gamma \\right)^{2} - 96 \\left( t11 v - T \\left( r1 \\gamma + v^{2} r1 \\gamma \\right) + 1.3333333333333333 \\gamma^{2} T^{2} v \\nu \\right)^{2} + 48 \\left( v^{2} t11 + T^{2} \\nu \\left( \\frac{-1}{3} + \\frac{4}{3} \\gamma^{2} \\right) - 2.0 T r1 v \\gamma \\right)^{2} + 2880 \\nu^{2} T^{4} \\right)\n",
       "\\end{equation}\n"
      ],
      "text/plain": [
       "-v*χ₂*((T^2)*(960((r1 - (T*v*γ*ν))^2) - (960((r1*v - (T*γ*ν))^2))) + 96((t11*(0.5(v^2) - 0.5) + 0.3333333333333333ν*(T^2))^2) + 48((t11 + ν*(T^2)*((1//3) + (4//3)*(v^2)*(γ^2)) - (2.0T*r1*v*γ))^2) + 48((t11*(v^2) + ν*(T^2)*((4//3)*(γ^2) - (1//3)) - (2.0T*r1*v*γ))^2) + 2880(T^4)*(ν^2) - (96((t11*v + 1.3333333333333333v*ν*(T^2)*(γ^2) - (T*(r1*γ + r1*γ*(v^2))))^2)))*(T^8)*(γ^2)"
      ]
     },
     "execution_count": 27,
     "metadata": {},
     "output_type": "execute_result"
    }
   ],
   "source": [
    "simplify(substitute(T21_01, Dict(DIC)))"
   ]
  },
  {
   "cell_type": "code",
   "execution_count": 28,
   "id": "cd0402df",
   "metadata": {},
   "outputs": [
    {
     "data": {
      "text/latex": [
       "\\begin{equation}\n",
       "\\frac{g01 \\chi{_2} \\left( \\frac{ - 96 \\left( r0 + \\frac{u0 \\nu}{\\mu T} \\right)^{2} + 96 \\left( r1 + \\frac{u1 \\nu}{\\mu T} \\right)^{2}}{\\mu} - 6 \\left( t22 - \\frac{\\frac{1}{3} \\nu}{\\mu} \\right)^{2} - 6 \\left( t33 - \\frac{\\frac{1}{3} \\nu}{\\mu} \\right)^{2} - 6 \\left( t00 - \\frac{\\nu \\left( \\frac{1}{3} g00 + \\frac{4}{3} u0^{2} \\right)}{\\mu} + \\frac{2 r0 u0}{\\mu T} \\right)^{2} + 12 \\left( t01 + \\frac{r0 u1 + r1 u0}{\\mu T} - \\frac{\\nu \\left( \\frac{1}{3} g01 + \\frac{4}{3} u0 u1 \\right)}{\\mu} \\right)^{2} - 6 \\left( t11 - \\frac{\\nu \\left( \\frac{1}{3} g11 + \\frac{4}{3} u1^{2} \\right)}{\\mu} + \\frac{2 r1 u1}{\\mu T} \\right)^{2} - \\frac{240 \\nu^{2}}{\\mu^{2}} \\right)}{\\mu^{4}}\n",
       "\\end{equation}\n"
      ],
      "text/plain": [
       "g01*χ₂*((μ^-1)*(96((r1 + u1*ν*(T^-1)*(μ^-1))^2) - (96((r0 + u0*ν*(T^-1)*(μ^-1))^2))) + 12((t01 + (T^-1)*(μ^-1)*(r0*u1 + r1*u0) - (ν*(μ^-1)*((1//3)*g01 + (4//3)*u0*u1)))^2) - (6((t22 - ((1//3)*ν*(μ^-1)))^2)) - (6((t33 - ((1//3)*ν*(μ^-1)))^2)) - (6((t00 + (2//1)*r0*u0*(T^-1)*(μ^-1) - (ν*(μ^-1)*((1//3)*g00 + (4//3)*(u0^2))))^2)) - (6((t11 + (2//1)*r1*u1*(T^-1)*(μ^-1) - (ν*(μ^-1)*((1//3)*g11 + (4//3)*(u1^2))))^2)) - (240(μ^-2)*(ν^2)))*(μ^-4)"
      ]
     },
     "execution_count": 28,
     "metadata": {},
     "output_type": "execute_result"
    }
   ],
   "source": [
    "T22_01 = (χ₂/μ^4)*(-6*xixi + 96*ll/μ - 240*ν^2/μ^2)*g01"
   ]
  },
  {
   "cell_type": "code",
   "execution_count": 29,
   "id": "7dd15f90",
   "metadata": {},
   "outputs": [
    {
     "data": {
      "text/latex": [
       "\\begin{equation}\n",
       "0\n",
       "\\end{equation}\n"
      ],
      "text/plain": [
       "0"
      ]
     },
     "execution_count": 29,
     "metadata": {},
     "output_type": "execute_result"
    }
   ],
   "source": [
    "simplify(substitute(T22_01, Dict(DIC))) #obvio da cero éste.."
   ]
  },
  {
   "cell_type": "code",
   "execution_count": 30,
   "id": "0eb19356",
   "metadata": {},
   "outputs": [
    {
     "data": {
      "text/latex": [
       "\\begin{equation}\n",
       "\\frac{192 \\chi{_2} \\left( \\frac{u0 \\left( \\left( r0 + \\frac{u0 \\nu}{\\mu T} \\right) \\left(  - t01 + \\frac{\\nu \\left( \\frac{1}{3} g01 + \\frac{4}{3} u0 u1 \\right)}{\\mu} - \\frac{r0 u1 + r1 u0}{\\mu T} \\right) + \\left( r1 + \\frac{u1 \\nu}{\\mu T} \\right) \\left( t11 - \\frac{\\nu \\left( \\frac{1}{3} g11 + \\frac{4}{3} u1^{2} \\right)}{\\mu} + \\frac{2 r1 u1}{\\mu T} \\right) \\right)}{T} + \\frac{u1 \\left( \\left( r0 + \\frac{u0 \\nu}{\\mu T} \\right) \\left(  - t00 + \\frac{\\nu \\left( \\frac{1}{3} g00 + \\frac{4}{3} u0^{2} \\right)}{\\mu} - \\frac{2 r0 u0}{\\mu T} \\right) + \\left( r1 + \\frac{u1 \\nu}{\\mu T} \\right) \\left( t01 + \\frac{r0 u1 + r1 u0}{\\mu T} - \\frac{\\nu \\left( \\frac{1}{3} g01 + \\frac{4}{3} u0 u1 \\right)}{\\mu} \\right) \\right)}{T} \\right)}{\\mu^{5}}\n",
       "\\end{equation}\n"
      ],
      "text/plain": [
       "192χ₂*(μ^-5)*(u0*(T^-1)*((r0 + u0*ν*(T^-1)*(μ^-1))*(ν*(μ^-1)*((1//3)*g01 + (4//3)*u0*u1) - t01 - ((T^-1)*(μ^-1)*(r0*u1 + r1*u0))) + (r1 + u1*ν*(T^-1)*(μ^-1))*(t11 + (2//1)*r1*u1*(T^-1)*(μ^-1) - (ν*(μ^-1)*((1//3)*g11 + (4//3)*(u1^2))))) + u1*(T^-1)*((r0 + u0*ν*(T^-1)*(μ^-1))*(ν*(μ^-1)*((1//3)*g00 + (4//3)*(u0^2)) - t00 - ((2//1)*r0*u0*(T^-1)*(μ^-1))) + (r1 + u1*ν*(T^-1)*(μ^-1))*(t01 + (T^-1)*(μ^-1)*(r0*u1 + r1*u0) - (ν*(μ^-1)*((1//3)*g01 + (4//3)*u0*u1)))))"
      ]
     },
     "execution_count": 30,
     "metadata": {},
     "output_type": "execute_result"
    }
   ],
   "source": [
    "T23_01 = (192*χ₂/μ^5)*(xi0*(-xi01*l0+xi11*l1) + xi1*(-xi00*l0+xi01*l1))"
   ]
  },
  {
   "cell_type": "code",
   "execution_count": 31,
   "id": "9d2acf2c",
   "metadata": {},
   "outputs": [
    {
     "data": {
      "text/latex": [
       "\\begin{equation}\n",
       " - 192.0 T^{10} \\chi{_2} \\left( \\frac{\\gamma \\left( \\left( r1 - T v \\gamma \\nu \\right) \\left( t11 + T^{2} \\nu \\left( \\frac{1}{3} + \\frac{4}{3} \\gamma^{2} v^{2} \\right) - 2.0 T r1 v \\gamma \\right) + \\left( r1 v - T \\gamma \\nu \\right) \\left( T \\left( r1 \\gamma + v^{2} r1 \\gamma \\right) - t11 v - 1.3333333333333333 \\gamma^{2} T^{2} v \\nu \\right) \\right)}{T} + \\frac{v \\gamma \\left( \\left( r1 - T v \\gamma \\nu \\right) \\left( t11 v - T \\left( r1 \\gamma + v^{2} r1 \\gamma \\right) + 1.3333333333333333 \\gamma^{2} T^{2} v \\nu \\right) + \\left( r1 v - T \\gamma \\nu \\right) \\left(  - v^{2} t11 - T^{2} \\nu \\left( \\frac{-1}{3} + \\frac{4}{3} \\gamma^{2} \\right) + 2.0 T r1 v \\gamma \\right) \\right)}{T} \\right)\n",
       "\\end{equation}\n"
      ],
      "text/plain": [
       "-192.0χ₂*(T^10)*(γ*(T^-1)*((r1 - (T*v*γ*ν))*(t11 + ν*(T^2)*((1//3) + (4//3)*(v^2)*(γ^2)) - (2.0T*r1*v*γ)) + (r1*v - (T*γ*ν))*(T*(r1*γ + r1*γ*(v^2)) - (t11*v) - (1.3333333333333333v*ν*(T^2)*(γ^2)))) + v*γ*(T^-1)*((r1 - (T*v*γ*ν))*(t11*v + 1.3333333333333333v*ν*(T^2)*(γ^2) - (T*(r1*γ + r1*γ*(v^2)))) + (r1*v - (T*γ*ν))*(2.0T*r1*v*γ - (t11*(v^2)) - (ν*(T^2)*((4//3)*(γ^2) - (1//3))))))"
      ]
     },
     "execution_count": 31,
     "metadata": {},
     "output_type": "execute_result"
    }
   ],
   "source": [
    "simplify(substitute(T23_01, Dict(DIC)))"
   ]
  },
  {
   "cell_type": "code",
   "execution_count": 32,
   "id": "91bf905a",
   "metadata": {},
   "outputs": [
    {
     "data": {
      "text/latex": [
       "\\begin{equation}\n",
       " - \\frac{960 \\nu \\chi{_2} \\left( \\frac{u0 \\left( r1 + \\frac{u1 \\nu}{\\mu T} \\right)}{T} + \\frac{u1 \\left( r0 + \\frac{u0 \\nu}{\\mu T} \\right)}{T} \\right)}{\\mu^{6}}\n",
       "\\end{equation}\n"
      ],
      "text/plain": [
       "-960ν*χ₂*(μ^-6)*(u0*(T^-1)*(r1 + u1*ν*(T^-1)*(μ^-1)) + u1*(T^-1)*(r0 + u0*ν*(T^-1)*(μ^-1)))"
      ]
     },
     "execution_count": 32,
     "metadata": {},
     "output_type": "execute_result"
    }
   ],
   "source": [
    "T24_01 = -(960*χ₂/μ^6)*ν*(xi0*l1+xi1*l0)"
   ]
  },
  {
   "cell_type": "code",
   "execution_count": 33,
   "id": "54412b60",
   "metadata": {},
   "outputs": [
    {
     "data": {
      "text/latex": [
       "\\begin{equation}\n",
       " - 960 T^{12} \\nu \\chi{_2} \\left( \\frac{\\gamma \\left( r1 - T v \\gamma \\nu \\right)}{T} + \\frac{v \\gamma \\left( r1 v - T \\gamma \\nu \\right)}{T} \\right)\n",
       "\\end{equation}\n"
      ],
      "text/plain": [
       "-960ν*χ₂*(T^12)*(γ*(T^-1)*(r1 - (T*v*γ*ν)) + v*γ*(T^-1)*(r1*v - (T*γ*ν)))"
      ]
     },
     "execution_count": 33,
     "metadata": {},
     "output_type": "execute_result"
    }
   ],
   "source": [
    "simplify(substitute(T24_01, Dict(DIC)))"
   ]
  },
  {
   "cell_type": "code",
   "execution_count": 34,
   "id": "7c0eb282",
   "metadata": {},
   "outputs": [
    {
     "data": {
      "text/latex": [
       "\\begin{equation}\n",
       "\\frac{192 \\chi{_2} \\left( r0 + \\frac{u0 \\nu}{\\mu T} \\right) \\left( r1 + \\frac{u1 \\nu}{\\mu T} \\right)}{\\mu^{5}}\n",
       "\\end{equation}\n"
      ],
      "text/plain": [
       "192χ₂*(r0 + u0*ν*(T^-1)*(μ^-1))*(r1 + u1*ν*(T^-1)*(μ^-1))*(μ^-5)"
      ]
     },
     "execution_count": 34,
     "metadata": {},
     "output_type": "execute_result"
    }
   ],
   "source": [
    "T25_01 = (192*χ₂/μ^5)*l0*l1"
   ]
  },
  {
   "cell_type": "code",
   "execution_count": 35,
   "id": "18d021d2",
   "metadata": {},
   "outputs": [
    {
     "data": {
      "text/latex": [
       "\\begin{equation}\n",
       " - 192.0 T^{10} \\chi{_2} \\left( r1 - T v \\gamma \\nu \\right) \\left( r1 v - T \\gamma \\nu \\right)\n",
       "\\end{equation}\n"
      ],
      "text/plain": [
       "-192.0χ₂*(T^10)*(r1 - (T*v*γ*ν))*(r1*v - (T*γ*ν))"
      ]
     },
     "execution_count": 35,
     "metadata": {},
     "output_type": "execute_result"
    }
   ],
   "source": [
    "simplify(substitute(T25_01, Dict(DIC)))"
   ]
  },
  {
   "cell_type": "code",
   "execution_count": 36,
   "id": "c702bd2e",
   "metadata": {},
   "outputs": [
    {
     "data": {
      "text/latex": [
       "\\begin{equation}\n",
       "\\frac{96 \\nu \\chi{_2} \\left( t01 + \\frac{r0 u1 + r1 u0}{\\mu T} - \\frac{\\nu \\left( \\frac{1}{3} g01 + \\frac{4}{3} u0 u1 \\right)}{\\mu} \\right)}{\\mu^{5}}\n",
       "\\end{equation}\n"
      ],
      "text/plain": [
       "96ν*χ₂*(t01 + (T^-1)*(μ^-1)*(r0*u1 + r1*u0) - (ν*(μ^-1)*((1//3)*g01 + (4//3)*u0*u1)))*(μ^-5)"
      ]
     },
     "execution_count": 36,
     "metadata": {},
     "output_type": "execute_result"
    }
   ],
   "source": [
    "T26_01 = (96*χ₂/μ^5)*ν*xi01"
   ]
  },
  {
   "cell_type": "code",
   "execution_count": 37,
   "id": "8a451d0f",
   "metadata": {},
   "outputs": [
    {
     "data": {
      "text/latex": [
       "\\begin{equation}\n",
       " - 96.0 T^{10} \\nu \\chi{_2} \\left( t11 v - T \\left( r1 \\gamma + v^{2} r1 \\gamma \\right) + 1.3333333333333333 \\gamma^{2} T^{2} v \\nu \\right)\n",
       "\\end{equation}\n"
      ],
      "text/plain": [
       "-96.0ν*χ₂*(t11*v + 1.3333333333333333v*ν*(T^2)*(γ^2) - (T*(r1*γ + r1*γ*(v^2))))*(T^10)"
      ]
     },
     "execution_count": 37,
     "metadata": {},
     "output_type": "execute_result"
    }
   ],
   "source": [
    "simplify(substitute(T26_01, Dict(DIC)))"
   ]
  },
  {
   "cell_type": "code",
   "execution_count": 38,
   "id": "e7b9aaa4",
   "metadata": {},
   "outputs": [
    {
     "data": {
      "text/latex": [
       "\\begin{equation}\n",
       " - \\frac{24 \\chi{_2} \\left( \\left( t01 + \\frac{r0 u1 + r1 u0}{\\mu T} - \\frac{\\nu \\left( \\frac{1}{3} g01 + \\frac{4}{3} u0 u1 \\right)}{\\mu} \\right) \\left( t11 - \\frac{\\nu \\left( \\frac{1}{3} g11 + \\frac{4}{3} u1^{2} \\right)}{\\mu} + \\frac{2 r1 u1}{\\mu T} \\right) + \\left( t01 + \\frac{r0 u1 + r1 u0}{\\mu T} - \\frac{\\nu \\left( \\frac{1}{3} g01 + \\frac{4}{3} u0 u1 \\right)}{\\mu} \\right) \\left(  - t00 + \\frac{\\nu \\left( \\frac{1}{3} g00 + \\frac{4}{3} u0^{2} \\right)}{\\mu} - \\frac{2 r0 u0}{\\mu T} \\right) \\right)}{\\mu^{4}}\n",
       "\\end{equation}\n"
      ],
      "text/plain": [
       "-24χ₂*(μ^-4)*((t01 + (T^-1)*(μ^-1)*(r0*u1 + r1*u0) - (ν*(μ^-1)*((1//3)*g01 + (4//3)*u0*u1)))*(t11 + (2//1)*r1*u1*(T^-1)*(μ^-1) - (ν*(μ^-1)*((1//3)*g11 + (4//3)*(u1^2)))) + (t01 + (T^-1)*(μ^-1)*(r0*u1 + r1*u0) - (ν*(μ^-1)*((1//3)*g01 + (4//3)*u0*u1)))*(ν*(μ^-1)*((1//3)*g00 + (4//3)*(u0^2)) - t00 - ((2//1)*r0*u0*(T^-1)*(μ^-1))))"
      ]
     },
     "execution_count": 38,
     "metadata": {},
     "output_type": "execute_result"
    }
   ],
   "source": [
    "T27_01 = -(24*χ₂/μ^4)*(-xi00*xi01+xi01*xi11)"
   ]
  },
  {
   "cell_type": "code",
   "execution_count": 39,
   "id": "64764ada",
   "metadata": {},
   "outputs": [
    {
     "data": {
      "text/latex": [
       "\\begin{equation}\n",
       " - 24 T^{8} \\chi{_2} \\left( \\left( t11 + T^{2} \\nu \\left( \\frac{1}{3} + \\frac{4}{3} \\gamma^{2} v^{2} \\right) - 2.0 T r1 v \\gamma \\right) \\left( t11 v - T \\left( r1 \\gamma + v^{2} r1 \\gamma \\right) + 1.3333333333333333 \\gamma^{2} T^{2} v \\nu \\right) + \\left( t11 v - T \\left( r1 \\gamma + v^{2} r1 \\gamma \\right) + 1.3333333333333333 \\gamma^{2} T^{2} v \\nu \\right) \\left(  - v^{2} t11 - T^{2} \\nu \\left( \\frac{-1}{3} + \\frac{4}{3} \\gamma^{2} \\right) + 2.0 T r1 v \\gamma \\right) \\right)\n",
       "\\end{equation}\n"
      ],
      "text/plain": [
       "-24χ₂*(T^8)*((t11 + ν*(T^2)*((1//3) + (4//3)*(v^2)*(γ^2)) - (2.0T*r1*v*γ))*(t11*v + 1.3333333333333333v*ν*(T^2)*(γ^2) - (T*(r1*γ + r1*γ*(v^2)))) + (t11*v + 1.3333333333333333v*ν*(T^2)*(γ^2) - (T*(r1*γ + r1*γ*(v^2))))*(2.0T*r1*v*γ - (t11*(v^2)) - (ν*(T^2)*((4//3)*(γ^2) - (1//3)))))"
      ]
     },
     "execution_count": 39,
     "metadata": {},
     "output_type": "execute_result"
    }
   ],
   "source": [
    "simplify(substitute(T27_01, Dict(DIC)))"
   ]
  },
  {
   "cell_type": "code",
   "execution_count": 40,
   "id": "4a99a004",
   "metadata": {
    "scrolled": true
   },
   "outputs": [
    {
     "data": {
      "text/latex": [
       "\\begin{equation}\n",
       "\\frac{g01 \\chi{_2} \\left( \\frac{ - 96 \\left( r0 + \\frac{u0 \\nu}{\\mu T} \\right)^{2} + 96 \\left( r1 + \\frac{u1 \\nu}{\\mu T} \\right)^{2}}{\\mu} - 6 \\left( t22 - \\frac{\\frac{1}{3} \\nu}{\\mu} \\right)^{2} - 6 \\left( t33 - \\frac{\\frac{1}{3} \\nu}{\\mu} \\right)^{2} - 6 \\left( t00 - \\frac{\\nu \\left( \\frac{1}{3} g00 + \\frac{4}{3} u0^{2} \\right)}{\\mu} + \\frac{2 r0 u0}{\\mu T} \\right)^{2} + 12 \\left( t01 + \\frac{r0 u1 + r1 u0}{\\mu T} - \\frac{\\nu \\left( \\frac{1}{3} g01 + \\frac{4}{3} u0 u1 \\right)}{\\mu} \\right)^{2} - 6 \\left( t11 - \\frac{\\nu \\left( \\frac{1}{3} g11 + \\frac{4}{3} u1^{2} \\right)}{\\mu} + \\frac{2 r1 u1}{\\mu T} \\right)^{2} - \\frac{240 \\nu^{2}}{\\mu^{2}} \\right)}{\\mu^{4}} - \\frac{24 \\chi{_2} \\left( \\left( t01 + \\frac{r0 u1 + r1 u0}{\\mu T} - \\frac{\\nu \\left( \\frac{1}{3} g01 + \\frac{4}{3} u0 u1 \\right)}{\\mu} \\right) \\left( t11 - \\frac{\\nu \\left( \\frac{1}{3} g11 + \\frac{4}{3} u1^{2} \\right)}{\\mu} + \\frac{2 r1 u1}{\\mu T} \\right) + \\left( t01 + \\frac{r0 u1 + r1 u0}{\\mu T} - \\frac{\\nu \\left( \\frac{1}{3} g01 + \\frac{4}{3} u0 u1 \\right)}{\\mu} \\right) \\left(  - t00 + \\frac{\\nu \\left( \\frac{1}{3} g00 + \\frac{4}{3} u0^{2} \\right)}{\\mu} - \\frac{2 r0 u0}{\\mu T} \\right) \\right)}{\\mu^{4}} + \\frac{192 \\chi{_2} \\left( \\frac{u0 \\left( \\left( r0 + \\frac{u0 \\nu}{\\mu T} \\right) \\left(  - t01 + \\frac{\\nu \\left( \\frac{1}{3} g01 + \\frac{4}{3} u0 u1 \\right)}{\\mu} - \\frac{r0 u1 + r1 u0}{\\mu T} \\right) + \\left( r1 + \\frac{u1 \\nu}{\\mu T} \\right) \\left( t11 - \\frac{\\nu \\left( \\frac{1}{3} g11 + \\frac{4}{3} u1^{2} \\right)}{\\mu} + \\frac{2 r1 u1}{\\mu T} \\right) \\right)}{T} + \\frac{u1 \\left( \\left( r0 + \\frac{u0 \\nu}{\\mu T} \\right) \\left(  - t00 + \\frac{\\nu \\left( \\frac{1}{3} g00 + \\frac{4}{3} u0^{2} \\right)}{\\mu} - \\frac{2 r0 u0}{\\mu T} \\right) + \\left( r1 + \\frac{u1 \\nu}{\\mu T} \\right) \\left( t01 + \\frac{r0 u1 + r1 u0}{\\mu T} - \\frac{\\nu \\left( \\frac{1}{3} g01 + \\frac{4}{3} u0 u1 \\right)}{\\mu} \\right) \\right)}{T} \\right)}{\\mu^{5}} + \\frac{96 \\nu \\chi{_2} \\left( t01 + \\frac{r0 u1 + r1 u0}{\\mu T} - \\frac{\\nu \\left( \\frac{1}{3} g01 + \\frac{4}{3} u0 u1 \\right)}{\\mu} \\right)}{\\mu^{5}} - \\frac{960 \\nu \\chi{_2} \\left( \\frac{u0 \\left( r1 + \\frac{u1 \\nu}{\\mu T} \\right)}{T} + \\frac{u1 \\left( r0 + \\frac{u0 \\nu}{\\mu T} \\right)}{T} \\right)}{\\mu^{6}} + \\frac{192 \\chi{_2} \\left( r0 + \\frac{u0 \\nu}{\\mu T} \\right) \\left( r1 + \\frac{u1 \\nu}{\\mu T} \\right)}{\\mu^{5}} + \\frac{u0 u1 \\chi{_2} \\left( 48 \\left( t22 - \\frac{\\frac{1}{3} \\nu}{\\mu} \\right)^{2} + 48 \\left( t33 - \\frac{\\frac{1}{3} \\nu}{\\mu} \\right)^{2} + 48 \\left( t00 - \\frac{\\nu \\left( \\frac{1}{3} g00 + \\frac{4}{3} u0^{2} \\right)}{\\mu} + \\frac{2 r0 u0}{\\mu T} \\right)^{2} - 96 \\left( t01 + \\frac{r0 u1 + r1 u0}{\\mu T} - \\frac{\\nu \\left( \\frac{1}{3} g01 + \\frac{4}{3} u0 u1 \\right)}{\\mu} \\right)^{2} + 48 \\left( t11 - \\frac{\\nu \\left( \\frac{1}{3} g11 + \\frac{4}{3} u1^{2} \\right)}{\\mu} + \\frac{2 r1 u1}{\\mu T} \\right)^{2} - \\frac{ - 960 \\left( r0 + \\frac{u0 \\nu}{\\mu T} \\right)^{2} + 960 \\left( r1 + \\frac{u1 \\nu}{\\mu T} \\right)^{2}}{\\mu} + \\frac{2880 \\nu^{2}}{\\mu^{2}} \\right)}{\\mu^{5} T^{2}}\n",
       "\\end{equation}\n"
      ],
      "text/plain": [
       "g01*χ₂*((μ^-1)*(96((r1 + u1*ν*(T^-1)*(μ^-1))^2) - (96((r0 + u0*ν*(T^-1)*(μ^-1))^2))) + 12((t01 + (T^-1)*(μ^-1)*(r0*u1 + r1*u0) - (ν*(μ^-1)*((1//3)*g01 + (4//3)*u0*u1)))^2) - (6((t22 - ((1//3)*ν*(μ^-1)))^2)) - (6((t33 - ((1//3)*ν*(μ^-1)))^2)) - (6((t00 + (2//1)*r0*u0*(T^-1)*(μ^-1) - (ν*(μ^-1)*((1//3)*g00 + (4//3)*(u0^2))))^2)) - (6((t11 + (2//1)*r1*u1*(T^-1)*(μ^-1) - (ν*(μ^-1)*((1//3)*g11 + (4//3)*(u1^2))))^2)) - (240(μ^-2)*(ν^2)))*(μ^-4) + 192χ₂*(μ^-5)*(u0*(T^-1)*((r0 + u0*ν*(T^-1)*(μ^-1))*(ν*(μ^-1)*((1//3)*g01 + (4//3)*u0*u1) - t01 - ((T^-1)*(μ^-1)*(r0*u1 + r1*u0))) + (r1 + u1*ν*(T^-1)*(μ^-1))*(t11 + (2//1)*r1*u1*(T^-1)*(μ^-1) - (ν*(μ^-1)*((1//3)*g11 + (4//3)*(u1^2))))) + u1*(T^-1)*((r0 + u0*ν*(T^-1)*(μ^-1))*(ν*(μ^-1)*((1//3)*g00 + (4//3)*(u0^2)) - t00 - ((2//1)*r0*u0*(T^-1)*(μ^-1))) + (r1 + u1*ν*(T^-1)*(μ^-1))*(t01 + (T^-1)*(μ^-1)*(r0*u1 + r1*u0) - (ν*(μ^-1)*((1//3)*g01 + (4//3)*u0*u1))))) + 96ν*χ₂*(t01 + (T^-1)*(μ^-1)*(r0*u1 + r1*u0) - (ν*(μ^-1)*((1//3)*g01 + (4//3)*u0*u1)))*(μ^-5) + 192χ₂*(r0 + u0*ν*(T^-1)*(μ^-1))*(r1 + u1*ν*(T^-1)*(μ^-1))*(μ^-5) + u0*u1*χ₂*(48((t22 - ((1//3)*ν*(μ^-1)))^2) + 48((t33 - ((1//3)*ν*(μ^-1)))^2) + 48((t00 + (2//1)*r0*u0*(T^-1)*(μ^-1) - (ν*(μ^-1)*((1//3)*g00 + (4//3)*(u0^2))))^2) + 48((t11 + (2//1)*r1*u1*(T^-1)*(μ^-1) - (ν*(μ^-1)*((1//3)*g11 + (4//3)*(u1^2))))^2) + 2880(μ^-2)*(ν^2) - (96((t01 + (T^-1)*(μ^-1)*(r0*u1 + r1*u0) - (ν*(μ^-1)*((1//3)*g01 + (4//3)*u0*u1)))^2)) - ((μ^-1)*(960((r1 + u1*ν*(T^-1)*(μ^-1))^2) - (960((r0 + u0*ν*(T^-1)*(μ^-1))^2)))))*(T^-2)*(μ^-5) - (24χ₂*(μ^-4)*((t01 + (T^-1)*(μ^-1)*(r0*u1 + r1*u0) - (ν*(μ^-1)*((1//3)*g01 + (4//3)*u0*u1)))*(t11 + (2//1)*r1*u1*(T^-1)*(μ^-1) - (ν*(μ^-1)*((1//3)*g11 + (4//3)*(u1^2)))) + (t01 + (T^-1)*(μ^-1)*(r0*u1 + r1*u0) - (ν*(μ^-1)*((1//3)*g01 + (4//3)*u0*u1)))*(ν*(μ^-1)*((1//3)*g00 + (4//3)*(u0^2)) - t00 - ((2//1)*r0*u0*(T^-1)*(μ^-1))))) - (960ν*χ₂*(μ^-6)*(u0*(T^-1)*(r1 + u1*ν*(T^-1)*(μ^-1)) + u1*(T^-1)*(r0 + u0*ν*(T^-1)*(μ^-1))))"
      ]
     },
     "execution_count": 40,
     "metadata": {},
     "output_type": "execute_result"
    }
   ],
   "source": [
    "T2_01 = T21_01 + T22_01 + T23_01 + T24_01 + T25_01 + T26_01 + T27_01"
   ]
  },
  {
   "cell_type": "code",
   "execution_count": 41,
   "id": "d003fb6b",
   "metadata": {
    "scrolled": true
   },
   "outputs": [
    {
     "data": {
      "text/latex": [
       "\\begin{equation}\n",
       " - 24.0 t11^{2} T^{8} v \\chi{_2} - 192.0 r1^{2} T^{10} v \\chi{_2} + 24.0 v^{3} t11^{2} T^{8} \\chi{_2} - 168.0 T^{9} r1 t11 \\gamma \\chi{_2} - 720.0 T^{11} r1 \\gamma \\nu \\chi{_2} + 160.0 \\gamma^{3} T^{11} r1 \\nu \\chi{_2} - 112.0 T^{10} t11 v \\nu \\chi{_2} - 72.0 \\gamma^{2} t11^{2} T^{8} v \\chi{_2} - 576.0 \\gamma^{2} r1^{2} T^{10} v \\chi{_2} + 96.0 \\gamma^{4} r1^{2} T^{10} v \\chi{_2} - 1194.6666666666665 \\nu^{2} \\gamma^{2} T^{12} v \\chi{_2} + 533.3333333333334 \\nu^{2} \\gamma^{4} T^{12} v \\chi{_2} - 85.33333333333333 \\nu^{2} \\gamma^{6} T^{12} v \\chi{_2} + 144.0 \\gamma^{2} v^{3} t11^{2} T^{8} \\chi{_2} - 72.0 \\gamma^{2} v^{5} t11^{2} T^{8} \\chi{_2} + 576.0 \\gamma^{2} v^{3} r1^{2} T^{10} \\chi{_2} - 192.0 \\gamma^{4} v^{3} r1^{2} T^{10} \\chi{_2} + 96.0 \\gamma^{4} v^{5} r1^{2} T^{10} \\chi{_2} - 533.3333333333334 \\nu^{2} \\gamma^{4} v^{3} T^{12} \\chi{_2} + 170.66666666666666 \\nu^{2} \\gamma^{6} v^{3} T^{12} \\chi{_2} - 85.33333333333333 \\nu^{2} \\gamma^{6} v^{5} T^{12} \\chi{_2} + 168.0 v^{4} T^{9} r1 t11 \\gamma \\chi{_2} - 720.0 v^{2} T^{11} r1 \\gamma \\nu \\chi{_2} - 160.0 \\gamma^{3} v^{4} T^{11} r1 \\nu \\chi{_2}\n",
       "\\end{equation}\n"
      ],
      "text/plain": [
       "24.0χ₂*(T^8)*(t11^2)*(v^3) + 160.0r1*ν*χ₂*(T^11)*(γ^3) + 96.0v*χ₂*(T^10)*(r1^2)*(γ^4) + 533.3333333333334v*χ₂*(T^12)*(γ^4)*(ν^2) + 144.0χ₂*(T^8)*(t11^2)*(v^3)*(γ^2) + 576.0χ₂*(T^10)*(r1^2)*(v^3)*(γ^2) + 96.0χ₂*(T^10)*(r1^2)*(v^5)*(γ^4) + 170.66666666666666χ₂*(T^12)*(v^3)*(γ^6)*(ν^2) + 168.0r1*t11*γ*χ₂*(T^9)*(v^4) - (24.0v*χ₂*(T^8)*(t11^2)) - (192.0v*χ₂*(T^10)*(r1^2)) - (168.0r1*t11*γ*χ₂*(T^9)) - (720.0r1*γ*ν*χ₂*(T^11)) - (112.0t11*v*ν*χ₂*(T^10)) - (72.0v*χ₂*(T^8)*(t11^2)*(γ^2)) - (576.0v*χ₂*(T^10)*(r1^2)*(γ^2)) - (1194.6666666666665v*χ₂*(T^12)*(γ^2)*(ν^2)) - (85.33333333333333v*χ₂*(T^12)*(γ^6)*(ν^2)) - (72.0χ₂*(T^8)*(t11^2)*(v^5)*(γ^2)) - (192.0χ₂*(T^10)*(r1^2)*(v^3)*(γ^4)) - (533.3333333333334χ₂*(T^12)*(v^3)*(γ^4)*(ν^2)) - (85.33333333333333χ₂*(T^12)*(v^5)*(γ^6)*(ν^2)) - (720.0r1*γ*ν*χ₂*(T^11)*(v^2)) - (160.0r1*ν*χ₂*(T^11)*(v^4)*(γ^3))"
      ]
     },
     "execution_count": 41,
     "metadata": {},
     "output_type": "execute_result"
    }
   ],
   "source": [
    "simplify(substitute(T2_01, Dict(DIC)),expand=true,\n",
    "            threaded=false,\n",
    "            thread_subtree_cutoff=100,\n",
    "            rewriter=nothing)"
   ]
  },
  {
   "cell_type": "markdown",
   "id": "048d1b79",
   "metadata": {},
   "source": [
    "### T01_2 (versión lista para poner en el código)"
   ]
  },
  {
   "cell_type": "code",
   "execution_count": 42,
   "id": "7b354df7",
   "metadata": {},
   "outputs": [
    {
     "data": {
      "text/latex": [
       "\\begin{equation}\n",
       "\\chi{_2} \\left( T^{11} \\left(  - 720 r1 \\gamma \\nu \\left( 1 + v^{2} \\right) + 160 \\gamma^{3} r1 \\nu \\left( 1 - v^{4} \\right) \\right) + T^{10} v \\left(  - 112 t11 \\nu - 192 r1^{2} \\left( 1 + \\gamma^{4} v^{2} \\right) - 576 \\gamma^{2} r1^{2} \\left( 1 - v^{2} \\right) + 96 \\gamma^{4} r1^{2} \\left( 1 + v^{4} \\right) \\right) + t11^{2} T^{8} v \\left( -24 + 24 v^{2} + 144 \\gamma^{2} v^{2} - 72 \\gamma^{2} \\left( 1 + v^{4} \\right) \\right) + \\nu^{2} \\gamma^{2} T^{12} v \\left( \\frac{-3584}{3} + \\frac{512}{3} \\gamma^{4} v^{2} + \\frac{1600}{3} \\gamma^{2} \\left( 1 - v^{2} \\right) - \\frac{256}{3} \\gamma^{4} \\left( 1 + v^{4} \\right) \\right) + 168 T^{9} r1 t11 \\gamma \\left( -1 + v^{4} \\right) \\right)\n",
       "\\end{equation}\n"
      ],
      "text/plain": [
       "χ₂*((T^11)*(160r1*ν*(γ^3)*(1 - (v^4)) - (720r1*γ*ν*(1 + v^2))) + v*(96(r1^2)*(γ^4)*(1 + v^4) - (112t11*ν) - (192(r1^2)*(1 + (v^2)*(γ^4))) - (576(r1^2)*(γ^2)*(1 - (v^2))))*(T^10) + v*(24(v^2) + 144(v^2)*(γ^2) - 24 - (72(γ^2)*(1 + v^4)))*(T^8)*(t11^2) + v*((512//3)*(v^2)*(γ^4) + (1600//3)*(γ^2)*(1 - (v^2)) - (3584//3) - ((256//3)*(γ^4)*(1 + v^4)))*(T^12)*(γ^2)*(ν^2) + 168r1*t11*γ*(T^9)*(v^4 - 1))"
      ]
     },
     "execution_count": 42,
     "metadata": {},
     "output_type": "execute_result"
    }
   ],
   "source": [
    "T01_2 = χ₂*(T^12*ν^2*γ^2*v*(-3584//3 + (1600//3)γ^2*(1-v^2) - (256//3)γ^4*(1+v^4) + (512//3)*γ^4*v^2) + T^11*(-720*r1*γ*ν*(1+v^2) + 160*γ^3*r1*ν*(1-v^4)) + T^10*v*(-192*r1^2*(1+γ^4*v^2) - 112*t11*ν - 576*γ^2*r1^2*(1-v^2) + 96*γ^4*r1^2*(1+v^4)) + T^9*168*r1*t11*γ*(v^4-1) + T^8*t11^2*v*(24*(v^2-1) - 72*γ^2*(1+v^4) + 144*γ^2*v^2))"
   ]
  },
  {
   "cell_type": "code",
   "execution_count": null,
   "id": "b7a980c4",
   "metadata": {},
   "outputs": [],
   "source": []
  },
  {
   "cell_type": "code",
   "execution_count": null,
   "id": "454d772f",
   "metadata": {},
   "outputs": [],
   "source": []
  },
  {
   "cell_type": "code",
   "execution_count": null,
   "id": "7106ec5c",
   "metadata": {},
   "outputs": [],
   "source": []
  },
  {
   "cell_type": "code",
   "execution_count": null,
   "id": "42bbad1a",
   "metadata": {},
   "outputs": [],
   "source": []
  },
  {
   "cell_type": "code",
   "execution_count": null,
   "id": "87c3566f",
   "metadata": {},
   "outputs": [],
   "source": []
  },
  {
   "cell_type": "code",
   "execution_count": null,
   "id": "0dd76585",
   "metadata": {},
   "outputs": [],
   "source": []
  },
  {
   "cell_type": "markdown",
   "id": "1430f23c",
   "metadata": {},
   "source": [
    "## T2_11"
   ]
  },
  {
   "cell_type": "code",
   "execution_count": 43,
   "id": "1331a00d",
   "metadata": {},
   "outputs": [
    {
     "data": {
      "text/latex": [
       "\\begin{equation}\n",
       "\\frac{u1^{2} \\chi{_2} \\left( 48 \\left( t22 - \\frac{\\frac{1}{3} \\nu}{\\mu} \\right)^{2} + 48 \\left( t33 - \\frac{\\frac{1}{3} \\nu}{\\mu} \\right)^{2} + 48 \\left( t00 - \\frac{\\nu \\left( \\frac{1}{3} g00 + \\frac{4}{3} u0^{2} \\right)}{\\mu} + \\frac{2 r0 u0}{\\mu T} \\right)^{2} - 96 \\left( t01 + \\frac{r0 u1 + r1 u0}{\\mu T} - \\frac{\\nu \\left( \\frac{1}{3} g01 + \\frac{4}{3} u0 u1 \\right)}{\\mu} \\right)^{2} + 48 \\left( t11 - \\frac{\\nu \\left( \\frac{1}{3} g11 + \\frac{4}{3} u1^{2} \\right)}{\\mu} + \\frac{2 r1 u1}{\\mu T} \\right)^{2} - \\frac{ - 960 \\left( r0 + \\frac{u0 \\nu}{\\mu T} \\right)^{2} + 960 \\left( r1 + \\frac{u1 \\nu}{\\mu T} \\right)^{2}}{\\mu} + \\frac{2880 \\nu^{2}}{\\mu^{2}} \\right)}{\\mu^{5} T^{2}}\n",
       "\\end{equation}\n"
      ],
      "text/plain": [
       "χ₂*(48((t22 - ((1//3)*ν*(μ^-1)))^2) + 48((t33 - ((1//3)*ν*(μ^-1)))^2) + 48((t00 + (2//1)*r0*u0*(T^-1)*(μ^-1) - (ν*(μ^-1)*((1//3)*g00 + (4//3)*(u0^2))))^2) + 48((t11 + (2//1)*r1*u1*(T^-1)*(μ^-1) - (ν*(μ^-1)*((1//3)*g11 + (4//3)*(u1^2))))^2) + 2880(μ^-2)*(ν^2) - (96((t01 + (T^-1)*(μ^-1)*(r0*u1 + r1*u0) - (ν*(μ^-1)*((1//3)*g01 + (4//3)*u0*u1)))^2)) - ((μ^-1)*(960((r1 + u1*ν*(T^-1)*(μ^-1))^2) - (960((r0 + u0*ν*(T^-1)*(μ^-1))^2)))))*(T^-2)*(u1^2)*(μ^-5)"
      ]
     },
     "execution_count": 43,
     "metadata": {},
     "output_type": "execute_result"
    }
   ],
   "source": [
    "T21_11 = (χ₂/μ^5)*(48*xixi - 960*ll/μ + 2880*ν^2/μ^2)*xi1*xi1"
   ]
  },
  {
   "cell_type": "code",
   "execution_count": 44,
   "id": "758dcee5",
   "metadata": {},
   "outputs": [
    {
     "data": {
      "text/latex": [
       "\\begin{equation}\n",
       " - \\gamma^{2} v^{2} T^{8} \\chi{_2} \\left( T^{2} \\left( 960 \\left( r1 - T v \\gamma \\nu \\right)^{2} - 960 \\left( r1 v - T \\gamma \\nu \\right)^{2} \\right) + 96 \\left( t11 \\left( -0.5 + 0.5 v^{2} \\right) + 0.3333333333333333 T^{2} \\nu \\right)^{2} + 48 \\left( t11 + T^{2} \\nu \\left( \\frac{1}{3} + \\frac{4}{3} \\gamma^{2} v^{2} \\right) - 2.0 T r1 v \\gamma \\right)^{2} - 96 \\left( t11 v - T \\left( r1 \\gamma + v^{2} r1 \\gamma \\right) + 1.3333333333333333 \\gamma^{2} T^{2} v \\nu \\right)^{2} + 48 \\left( v^{2} t11 + T^{2} \\nu \\left( \\frac{-1}{3} + \\frac{4}{3} \\gamma^{2} \\right) - 2.0 T r1 v \\gamma \\right)^{2} + 2880 \\nu^{2} T^{4} \\right)\n",
       "\\end{equation}\n"
      ],
      "text/plain": [
       "-χ₂*((T^2)*(960((r1 - (T*v*γ*ν))^2) - (960((r1*v - (T*γ*ν))^2))) + 96((t11*(0.5(v^2) - 0.5) + 0.3333333333333333ν*(T^2))^2) + 48((t11 + ν*(T^2)*((1//3) + (4//3)*(v^2)*(γ^2)) - (2.0T*r1*v*γ))^2) + 48((t11*(v^2) + ν*(T^2)*((4//3)*(γ^2) - (1//3)) - (2.0T*r1*v*γ))^2) + 2880(T^4)*(ν^2) - (96((t11*v + 1.3333333333333333v*ν*(T^2)*(γ^2) - (T*(r1*γ + r1*γ*(v^2))))^2)))*(T^8)*(v^2)*(γ^2)"
      ]
     },
     "execution_count": 44,
     "metadata": {},
     "output_type": "execute_result"
    }
   ],
   "source": [
    "simplify(substitute(T21_11, Dict(DIC)))"
   ]
  },
  {
   "cell_type": "code",
   "execution_count": 45,
   "id": "0a2f4af4",
   "metadata": {},
   "outputs": [
    {
     "data": {
      "text/latex": [
       "\\begin{equation}\n",
       "\\frac{g11 \\chi{_2} \\left( \\frac{ - 96 \\left( r0 + \\frac{u0 \\nu}{\\mu T} \\right)^{2} + 96 \\left( r1 + \\frac{u1 \\nu}{\\mu T} \\right)^{2}}{\\mu} - 6 \\left( t22 - \\frac{\\frac{1}{3} \\nu}{\\mu} \\right)^{2} - 6 \\left( t33 - \\frac{\\frac{1}{3} \\nu}{\\mu} \\right)^{2} - 6 \\left( t00 - \\frac{\\nu \\left( \\frac{1}{3} g00 + \\frac{4}{3} u0^{2} \\right)}{\\mu} + \\frac{2 r0 u0}{\\mu T} \\right)^{2} + 12 \\left( t01 + \\frac{r0 u1 + r1 u0}{\\mu T} - \\frac{\\nu \\left( \\frac{1}{3} g01 + \\frac{4}{3} u0 u1 \\right)}{\\mu} \\right)^{2} - 6 \\left( t11 - \\frac{\\nu \\left( \\frac{1}{3} g11 + \\frac{4}{3} u1^{2} \\right)}{\\mu} + \\frac{2 r1 u1}{\\mu T} \\right)^{2} - \\frac{240 \\nu^{2}}{\\mu^{2}} \\right)}{\\mu^{4}}\n",
       "\\end{equation}\n"
      ],
      "text/plain": [
       "g11*χ₂*((μ^-1)*(96((r1 + u1*ν*(T^-1)*(μ^-1))^2) - (96((r0 + u0*ν*(T^-1)*(μ^-1))^2))) + 12((t01 + (T^-1)*(μ^-1)*(r0*u1 + r1*u0) - (ν*(μ^-1)*((1//3)*g01 + (4//3)*u0*u1)))^2) - (6((t22 - ((1//3)*ν*(μ^-1)))^2)) - (6((t33 - ((1//3)*ν*(μ^-1)))^2)) - (6((t00 + (2//1)*r0*u0*(T^-1)*(μ^-1) - (ν*(μ^-1)*((1//3)*g00 + (4//3)*(u0^2))))^2)) - (6((t11 + (2//1)*r1*u1*(T^-1)*(μ^-1) - (ν*(μ^-1)*((1//3)*g11 + (4//3)*(u1^2))))^2)) - (240(μ^-2)*(ν^2)))*(μ^-4)"
      ]
     },
     "execution_count": 45,
     "metadata": {},
     "output_type": "execute_result"
    }
   ],
   "source": [
    "T22_11 = (χ₂/μ^4)*(-6*xixi + 96*ll/μ - 240*ν^2/μ^2)*g11"
   ]
  },
  {
   "cell_type": "code",
   "execution_count": 46,
   "id": "af5abaea",
   "metadata": {},
   "outputs": [
    {
     "data": {
      "text/latex": [
       "\\begin{equation}\n",
       "T^{8} \\chi{_2} \\left(  - 12 \\left( t11 \\left( -0.5 + 0.5 v^{2} \\right) + 0.3333333333333333 T^{2} \\nu \\right)^{2} - 6 \\left( t11 + T^{2} \\nu \\left( \\frac{1}{3} + \\frac{4}{3} \\gamma^{2} v^{2} \\right) - 2.0 T r1 v \\gamma \\right)^{2} + 12 \\left( t11 v - T \\left( r1 \\gamma + v^{2} r1 \\gamma \\right) + 1.3333333333333333 \\gamma^{2} T^{2} v \\nu \\right)^{2} - 6 \\left( v^{2} t11 + T^{2} \\nu \\left( \\frac{-1}{3} + \\frac{4}{3} \\gamma^{2} \\right) - 2.0 T r1 v \\gamma \\right)^{2} - T^{2} \\left( 96 \\left( r1 - T v \\gamma \\nu \\right)^{2} - 96 \\left( r1 v - T \\gamma \\nu \\right)^{2} \\right) - 240 \\nu^{2} T^{4} \\right)\n",
       "\\end{equation}\n"
      ],
      "text/plain": [
       "χ₂*(12((t11*v + 1.3333333333333333v*ν*(T^2)*(γ^2) - (T*(r1*γ + r1*γ*(v^2))))^2) - (12((t11*(0.5(v^2) - 0.5) + 0.3333333333333333ν*(T^2))^2)) - (6((t11 + ν*(T^2)*((1//3) + (4//3)*(v^2)*(γ^2)) - (2.0T*r1*v*γ))^2)) - (6((t11*(v^2) + ν*(T^2)*((4//3)*(γ^2) - (1//3)) - (2.0T*r1*v*γ))^2)) - ((T^2)*(96((r1 - (T*v*γ*ν))^2) - (96((r1*v - (T*γ*ν))^2)))) - (240(T^4)*(ν^2)))*(T^8)"
      ]
     },
     "execution_count": 46,
     "metadata": {},
     "output_type": "execute_result"
    }
   ],
   "source": [
    "simplify(substitute(T22_11, Dict(DIC)))"
   ]
  },
  {
   "cell_type": "code",
   "execution_count": 47,
   "id": "92e532ef",
   "metadata": {},
   "outputs": [
    {
     "data": {
      "text/latex": [
       "\\begin{equation}\n",
       "\\frac{384 u1 \\chi{_2} \\left( \\left( r0 + \\frac{u0 \\nu}{\\mu T} \\right) \\left(  - t01 + \\frac{\\nu \\left( \\frac{1}{3} g01 + \\frac{4}{3} u0 u1 \\right)}{\\mu} - \\frac{r0 u1 + r1 u0}{\\mu T} \\right) + \\left( r1 + \\frac{u1 \\nu}{\\mu T} \\right) \\left( t11 - \\frac{\\nu \\left( \\frac{1}{3} g11 + \\frac{4}{3} u1^{2} \\right)}{\\mu} + \\frac{2 r1 u1}{\\mu T} \\right) \\right)}{\\mu^{5} T}\n",
       "\\end{equation}\n"
      ],
      "text/plain": [
       "384u1*χ₂*(T^-1)*(μ^-5)*((r0 + u0*ν*(T^-1)*(μ^-1))*(ν*(μ^-1)*((1//3)*g01 + (4//3)*u0*u1) - t01 - ((T^-1)*(μ^-1)*(r0*u1 + r1*u0))) + (r1 + u1*ν*(T^-1)*(μ^-1))*(t11 + (2//1)*r1*u1*(T^-1)*(μ^-1) - (ν*(μ^-1)*((1//3)*g11 + (4//3)*(u1^2)))))"
      ]
     },
     "execution_count": 47,
     "metadata": {},
     "output_type": "execute_result"
    }
   ],
   "source": [
    "T23_11 = (384*χ₂/μ^5)*xi1*(-xi01*l0+xi11*l1)"
   ]
  },
  {
   "cell_type": "code",
   "execution_count": 48,
   "id": "5723771d",
   "metadata": {},
   "outputs": [
    {
     "data": {
      "text/latex": [
       "\\begin{equation}\n",
       " - 384.0 T^{9} v \\gamma \\chi{_2} \\left( \\left( r1 - T v \\gamma \\nu \\right) \\left( t11 + T^{2} \\nu \\left( \\frac{1}{3} + \\frac{4}{3} \\gamma^{2} v^{2} \\right) - 2.0 T r1 v \\gamma \\right) + \\left( r1 v - T \\gamma \\nu \\right) \\left( T \\left( r1 \\gamma + v^{2} r1 \\gamma \\right) - t11 v - 1.3333333333333333 \\gamma^{2} T^{2} v \\nu \\right) \\right)\n",
       "\\end{equation}\n"
      ],
      "text/plain": [
       "-384.0v*γ*χ₂*(T^9)*((r1 - (T*v*γ*ν))*(t11 + ν*(T^2)*((1//3) + (4//3)*(v^2)*(γ^2)) - (2.0T*r1*v*γ)) + (r1*v - (T*γ*ν))*(T*(r1*γ + r1*γ*(v^2)) - (t11*v) - (1.3333333333333333v*ν*(T^2)*(γ^2))))"
      ]
     },
     "execution_count": 48,
     "metadata": {},
     "output_type": "execute_result"
    }
   ],
   "source": [
    "simplify(substitute(T23_11, Dict(DIC)))"
   ]
  },
  {
   "cell_type": "code",
   "execution_count": 49,
   "id": "1d570e83",
   "metadata": {},
   "outputs": [
    {
     "data": {
      "text/latex": [
       "\\begin{equation}\n",
       " - \\frac{1920 u1 \\nu \\chi{_2} \\left( r1 + \\frac{u1 \\nu}{\\mu T} \\right)}{\\mu^{6} T}\n",
       "\\end{equation}\n"
      ],
      "text/plain": [
       "-1920u1*ν*χ₂*(T^-1)*(r1 + u1*ν*(T^-1)*(μ^-1))*(μ^-6)"
      ]
     },
     "execution_count": 49,
     "metadata": {},
     "output_type": "execute_result"
    }
   ],
   "source": [
    "T24_11 = -(1920*χ₂/μ^6)*ν*xi1*l1"
   ]
  },
  {
   "cell_type": "code",
   "execution_count": 50,
   "id": "bcfb500d",
   "metadata": {},
   "outputs": [
    {
     "data": {
      "text/latex": [
       "\\begin{equation}\n",
       " - 1920 T^{11} v \\gamma \\nu \\chi{_2} \\left( r1 - T v \\gamma \\nu \\right)\n",
       "\\end{equation}\n"
      ],
      "text/plain": [
       "-1920v*γ*ν*χ₂*(T^11)*(r1 - (T*v*γ*ν))"
      ]
     },
     "execution_count": 50,
     "metadata": {},
     "output_type": "execute_result"
    }
   ],
   "source": [
    "simplify(substitute(T24_11, Dict(DIC)))"
   ]
  },
  {
   "cell_type": "code",
   "execution_count": 51,
   "id": "445188f1",
   "metadata": {},
   "outputs": [
    {
     "data": {
      "text/latex": [
       "\\begin{equation}\n",
       "\\frac{192 \\left( r1 + \\frac{u1 \\nu}{\\mu T} \\right)^{2} \\chi{_2}}{\\mu^{5}}\n",
       "\\end{equation}\n"
      ],
      "text/plain": [
       "192χ₂*(μ^-5)*((r1 + u1*ν*(T^-1)*(μ^-1))^2)"
      ]
     },
     "execution_count": 51,
     "metadata": {},
     "output_type": "execute_result"
    }
   ],
   "source": [
    "T25_11 = (192*χ₂/μ^5)*l1*l1"
   ]
  },
  {
   "cell_type": "code",
   "execution_count": 52,
   "id": "25363a97",
   "metadata": {},
   "outputs": [
    {
     "data": {
      "text/latex": [
       "\\begin{equation}\n",
       " - 192.0 \\left( r1 - T v \\gamma \\nu \\right)^{2} T^{10} \\chi{_2}\n",
       "\\end{equation}\n"
      ],
      "text/plain": [
       "-192.0χ₂*(T^10)*((r1 - (T*v*γ*ν))^2)"
      ]
     },
     "execution_count": 52,
     "metadata": {},
     "output_type": "execute_result"
    }
   ],
   "source": [
    "simplify(substitute(T25_11, Dict(DIC)))"
   ]
  },
  {
   "cell_type": "code",
   "execution_count": 53,
   "id": "975b40d7",
   "metadata": {},
   "outputs": [
    {
     "data": {
      "text/latex": [
       "\\begin{equation}\n",
       "\\frac{96 \\nu \\chi{_2} \\left( t11 - \\frac{\\nu \\left( \\frac{1}{3} g11 + \\frac{4}{3} u1^{2} \\right)}{\\mu} + \\frac{2 r1 u1}{\\mu T} \\right)}{\\mu^{5}}\n",
       "\\end{equation}\n"
      ],
      "text/plain": [
       "96ν*χ₂*(t11 + (2//1)*r1*u1*(T^-1)*(μ^-1) - (ν*(μ^-1)*((1//3)*g11 + (4//3)*(u1^2))))*(μ^-5)"
      ]
     },
     "execution_count": 53,
     "metadata": {},
     "output_type": "execute_result"
    }
   ],
   "source": [
    "T26_11 = (96*χ₂/μ^5)*ν*xi11"
   ]
  },
  {
   "cell_type": "code",
   "execution_count": 54,
   "id": "27ce4207",
   "metadata": {},
   "outputs": [
    {
     "data": {
      "text/latex": [
       "\\begin{equation}\n",
       " - 96.0 T^{10} \\nu \\chi{_2} \\left( t11 + T^{2} \\nu \\left( \\frac{1}{3} + \\frac{4}{3} \\gamma^{2} v^{2} \\right) - 2.0 T r1 v \\gamma \\right)\n",
       "\\end{equation}\n"
      ],
      "text/plain": [
       "-96.0ν*χ₂*(t11 + ν*(T^2)*((1//3) + (4//3)*(v^2)*(γ^2)) - (2.0T*r1*v*γ))*(T^10)"
      ]
     },
     "execution_count": 54,
     "metadata": {},
     "output_type": "execute_result"
    }
   ],
   "source": [
    "simplify(substitute(T26_11, Dict(DIC)))"
   ]
  },
  {
   "cell_type": "code",
   "execution_count": 55,
   "id": "de2939c8",
   "metadata": {},
   "outputs": [
    {
     "data": {
      "text/latex": [
       "\\begin{equation}\n",
       " - \\frac{24 \\chi{_2} \\left( \\left( t11 - \\frac{\\nu \\left( \\frac{1}{3} g11 + \\frac{4}{3} u1^{2} \\right)}{\\mu} + \\frac{2 r1 u1}{\\mu T} \\right)^{2} - \\left( t01 + \\frac{r0 u1 + r1 u0}{\\mu T} - \\frac{\\nu \\left( \\frac{1}{3} g01 + \\frac{4}{3} u0 u1 \\right)}{\\mu} \\right)^{2} \\right)}{\\mu^{4}}\n",
       "\\end{equation}\n"
      ],
      "text/plain": [
       "-24χ₂*(μ^-4)*((t11 + (2//1)*r1*u1*(T^-1)*(μ^-1) - (ν*(μ^-1)*((1//3)*g11 + (4//3)*(u1^2))))^2 - ((t01 + (T^-1)*(μ^-1)*(r0*u1 + r1*u0) - (ν*(μ^-1)*((1//3)*g01 + (4//3)*u0*u1)))^2))"
      ]
     },
     "execution_count": 55,
     "metadata": {},
     "output_type": "execute_result"
    }
   ],
   "source": [
    "T27_11 = -(24*χ₂/μ^4)*(-xi01^2+xi11^2)"
   ]
  },
  {
   "cell_type": "code",
   "execution_count": 56,
   "id": "c5d5e669",
   "metadata": {},
   "outputs": [
    {
     "data": {
      "text/latex": [
       "\\begin{equation}\n",
       " - 24 T^{8} \\chi{_2} \\left( \\left( t11 + T^{2} \\nu \\left( \\frac{1}{3} + \\frac{4}{3} \\gamma^{2} v^{2} \\right) - 2.0 T r1 v \\gamma \\right)^{2} - \\left( t11 v - T \\left( r1 \\gamma + v^{2} r1 \\gamma \\right) + 1.3333333333333333 \\gamma^{2} T^{2} v \\nu \\right)^{2} \\right)\n",
       "\\end{equation}\n"
      ],
      "text/plain": [
       "-24χ₂*(T^8)*((t11 + ν*(T^2)*((1//3) + (4//3)*(v^2)*(γ^2)) - (2.0T*r1*v*γ))^2 - ((t11*v + 1.3333333333333333v*ν*(T^2)*(γ^2) - (T*(r1*γ + r1*γ*(v^2))))^2))"
      ]
     },
     "execution_count": 56,
     "metadata": {},
     "output_type": "execute_result"
    }
   ],
   "source": [
    "simplify(substitute(T27_11, Dict(DIC)))"
   ]
  },
  {
   "cell_type": "code",
   "execution_count": 57,
   "id": "d81cf1f9",
   "metadata": {},
   "outputs": [
    {
     "data": {
      "text/latex": [
       "\\begin{equation}\n",
       "\\frac{g11 \\chi{_2} \\left( \\frac{ - 96 \\left( r0 + \\frac{u0 \\nu}{\\mu T} \\right)^{2} + 96 \\left( r1 + \\frac{u1 \\nu}{\\mu T} \\right)^{2}}{\\mu} - 6 \\left( t22 - \\frac{\\frac{1}{3} \\nu}{\\mu} \\right)^{2} - 6 \\left( t33 - \\frac{\\frac{1}{3} \\nu}{\\mu} \\right)^{2} - 6 \\left( t00 - \\frac{\\nu \\left( \\frac{1}{3} g00 + \\frac{4}{3} u0^{2} \\right)}{\\mu} + \\frac{2 r0 u0}{\\mu T} \\right)^{2} + 12 \\left( t01 + \\frac{r0 u1 + r1 u0}{\\mu T} - \\frac{\\nu \\left( \\frac{1}{3} g01 + \\frac{4}{3} u0 u1 \\right)}{\\mu} \\right)^{2} - 6 \\left( t11 - \\frac{\\nu \\left( \\frac{1}{3} g11 + \\frac{4}{3} u1^{2} \\right)}{\\mu} + \\frac{2 r1 u1}{\\mu T} \\right)^{2} - \\frac{240 \\nu^{2}}{\\mu^{2}} \\right)}{\\mu^{4}} - \\frac{24 \\chi{_2} \\left( \\left( t11 - \\frac{\\nu \\left( \\frac{1}{3} g11 + \\frac{4}{3} u1^{2} \\right)}{\\mu} + \\frac{2 r1 u1}{\\mu T} \\right)^{2} - \\left( t01 + \\frac{r0 u1 + r1 u0}{\\mu T} - \\frac{\\nu \\left( \\frac{1}{3} g01 + \\frac{4}{3} u0 u1 \\right)}{\\mu} \\right)^{2} \\right)}{\\mu^{4}} + \\frac{192 \\left( r1 + \\frac{u1 \\nu}{\\mu T} \\right)^{2} \\chi{_2}}{\\mu^{5}} + \\frac{96 \\nu \\chi{_2} \\left( t11 - \\frac{\\nu \\left( \\frac{1}{3} g11 + \\frac{4}{3} u1^{2} \\right)}{\\mu} + \\frac{2 r1 u1}{\\mu T} \\right)}{\\mu^{5}} + \\frac{u1^{2} \\chi{_2} \\left( 48 \\left( t22 - \\frac{\\frac{1}{3} \\nu}{\\mu} \\right)^{2} + 48 \\left( t33 - \\frac{\\frac{1}{3} \\nu}{\\mu} \\right)^{2} + 48 \\left( t00 - \\frac{\\nu \\left( \\frac{1}{3} g00 + \\frac{4}{3} u0^{2} \\right)}{\\mu} + \\frac{2 r0 u0}{\\mu T} \\right)^{2} - 96 \\left( t01 + \\frac{r0 u1 + r1 u0}{\\mu T} - \\frac{\\nu \\left( \\frac{1}{3} g01 + \\frac{4}{3} u0 u1 \\right)}{\\mu} \\right)^{2} + 48 \\left( t11 - \\frac{\\nu \\left( \\frac{1}{3} g11 + \\frac{4}{3} u1^{2} \\right)}{\\mu} + \\frac{2 r1 u1}{\\mu T} \\right)^{2} - \\frac{ - 960 \\left( r0 + \\frac{u0 \\nu}{\\mu T} \\right)^{2} + 960 \\left( r1 + \\frac{u1 \\nu}{\\mu T} \\right)^{2}}{\\mu} + \\frac{2880 \\nu^{2}}{\\mu^{2}} \\right)}{\\mu^{5} T^{2}} + \\frac{384 u1 \\chi{_2} \\left( \\left( r0 + \\frac{u0 \\nu}{\\mu T} \\right) \\left(  - t01 + \\frac{\\nu \\left( \\frac{1}{3} g01 + \\frac{4}{3} u0 u1 \\right)}{\\mu} - \\frac{r0 u1 + r1 u0}{\\mu T} \\right) + \\left( r1 + \\frac{u1 \\nu}{\\mu T} \\right) \\left( t11 - \\frac{\\nu \\left( \\frac{1}{3} g11 + \\frac{4}{3} u1^{2} \\right)}{\\mu} + \\frac{2 r1 u1}{\\mu T} \\right) \\right)}{\\mu^{5} T} - \\frac{1920 u1 \\nu \\chi{_2} \\left( r1 + \\frac{u1 \\nu}{\\mu T} \\right)}{\\mu^{6} T}\n",
       "\\end{equation}\n"
      ],
      "text/plain": [
       "g11*χ₂*((μ^-1)*(96((r1 + u1*ν*(T^-1)*(μ^-1))^2) - (96((r0 + u0*ν*(T^-1)*(μ^-1))^2))) + 12((t01 + (T^-1)*(μ^-1)*(r0*u1 + r1*u0) - (ν*(μ^-1)*((1//3)*g01 + (4//3)*u0*u1)))^2) - (6((t22 - ((1//3)*ν*(μ^-1)))^2)) - (6((t33 - ((1//3)*ν*(μ^-1)))^2)) - (6((t00 + (2//1)*r0*u0*(T^-1)*(μ^-1) - (ν*(μ^-1)*((1//3)*g00 + (4//3)*(u0^2))))^2)) - (6((t11 + (2//1)*r1*u1*(T^-1)*(μ^-1) - (ν*(μ^-1)*((1//3)*g11 + (4//3)*(u1^2))))^2)) - (240(μ^-2)*(ν^2)))*(μ^-4) + 192χ₂*(μ^-5)*((r1 + u1*ν*(T^-1)*(μ^-1))^2) + 96ν*χ₂*(t11 + (2//1)*r1*u1*(T^-1)*(μ^-1) - (ν*(μ^-1)*((1//3)*g11 + (4//3)*(u1^2))))*(μ^-5) + χ₂*(48((t22 - ((1//3)*ν*(μ^-1)))^2) + 48((t33 - ((1//3)*ν*(μ^-1)))^2) + 48((t00 + (2//1)*r0*u0*(T^-1)*(μ^-1) - (ν*(μ^-1)*((1//3)*g00 + (4//3)*(u0^2))))^2) + 48((t11 + (2//1)*r1*u1*(T^-1)*(μ^-1) - (ν*(μ^-1)*((1//3)*g11 + (4//3)*(u1^2))))^2) + 2880(μ^-2)*(ν^2) - (96((t01 + (T^-1)*(μ^-1)*(r0*u1 + r1*u0) - (ν*(μ^-1)*((1//3)*g01 + (4//3)*u0*u1)))^2)) - ((μ^-1)*(960((r1 + u1*ν*(T^-1)*(μ^-1))^2) - (960((r0 + u0*ν*(T^-1)*(μ^-1))^2)))))*(T^-2)*(u1^2)*(μ^-5) + 384u1*χ₂*(T^-1)*(μ^-5)*((r0 + u0*ν*(T^-1)*(μ^-1))*(ν*(μ^-1)*((1//3)*g01 + (4//3)*u0*u1) - t01 - ((T^-1)*(μ^-1)*(r0*u1 + r1*u0))) + (r1 + u1*ν*(T^-1)*(μ^-1))*(t11 + (2//1)*r1*u1*(T^-1)*(μ^-1) - (ν*(μ^-1)*((1//3)*g11 + (4//3)*(u1^2))))) - (24χ₂*(μ^-4)*((t11 + (2//1)*r1*u1*(T^-1)*(μ^-1) - (ν*(μ^-1)*((1//3)*g11 + (4//3)*(u1^2))))^2 - ((t01 + (T^-1)*(μ^-1)*(r0*u1 + r1*u0) - (ν*(μ^-1)*((1//3)*g01 + (4//3)*u0*u1)))^2))) - (1920u1*ν*χ₂*(T^-1)*(r1 + u1*ν*(T^-1)*(μ^-1))*(μ^-6))"
      ]
     },
     "execution_count": 57,
     "metadata": {},
     "output_type": "execute_result"
    }
   ],
   "source": [
    "T2_11 = T21_11 + T22_11 + T23_11 + T24_11 + T25_11 + T26_11 + T27_11"
   ]
  },
  {
   "cell_type": "code",
   "execution_count": 58,
   "id": "1775fdef",
   "metadata": {},
   "outputs": [
    {
     "data": {
      "text/latex": [
       "\\begin{equation}\n",
       " - 33.0 t11^{2} T^{8} \\chi{_2} - 288.0 r1^{2} T^{10} \\chi{_2} - 277.3333333333333 \\nu^{2} T^{12} \\chi{_2} - 112.0 T^{10} t11 \\nu \\chi{_2} + 42.0 v^{2} t11^{2} T^{8} \\chi{_2} - 9.0 v^{4} t11^{2} T^{8} \\chi{_2} + 96.0 v^{2} r1^{2} T^{10} \\chi{_2} + 36.0 \\gamma^{2} r1^{2} T^{10} \\chi{_2} + 101.33333333333333 \\nu^{2} \\gamma^{2} T^{12} \\chi{_2} - 10.666666666666666 \\nu^{2} \\gamma^{4} T^{12} \\chi{_2} - 72.0 \\gamma^{2} v^{2} t11^{2} T^{8} \\chi{_2} + 144.0 \\gamma^{2} v^{4} t11^{2} T^{8} \\chi{_2} - 72.0 \\gamma^{2} v^{6} t11^{2} T^{8} \\chi{_2} - 648.0 \\gamma^{2} v^{2} r1^{2} T^{10} \\chi{_2} + 96.0 \\gamma^{4} v^{2} r1^{2} T^{10} \\chi{_2} + 612.0 \\gamma^{2} v^{4} r1^{2} T^{10} \\chi{_2} - 192.0 \\gamma^{4} v^{4} r1^{2} T^{10} \\chi{_2} + 96.0 \\gamma^{4} v^{6} r1^{2} T^{10} \\chi{_2} - 1296.0 \\nu^{2} \\gamma^{2} v^{2} T^{12} \\chi{_2} + 554.6666666666667 \\nu^{2} \\gamma^{4} v^{2} T^{12} \\chi{_2} - 85.33333333333333 \\nu^{2} \\gamma^{6} v^{2} T^{12} \\chi{_2} - 544.0 \\nu^{2} \\gamma^{4} v^{4} T^{12} \\chi{_2} + 170.66666666666666 \\nu^{2} \\gamma^{6} v^{4} T^{12} \\chi{_2} - 85.33333333333333 \\nu^{2} \\gamma^{6} v^{6} T^{12} \\chi{_2} - 336.0 T^{9} r1 t11 v \\gamma \\chi{_2} + 336.0 v^{3} T^{9} r1 t11 \\gamma \\chi{_2} - 1440.0 T^{11} r1 v \\gamma \\nu \\chi{_2} + 320.0 \\gamma^{3} T^{11} r1 v \\nu \\chi{_2} - 320.0 \\gamma^{3} v^{3} T^{11} r1 \\nu \\chi{_2}\n",
       "\\end{equation}\n"
      ],
      "text/plain": [
       "42.0χ₂*(T^8)*(t11^2)*(v^2) + 96.0χ₂*(T^10)*(r1^2)*(v^2) + 36.0χ₂*(T^10)*(r1^2)*(γ^2) + 101.33333333333333χ₂*(T^12)*(γ^2)*(ν^2) + 144.0χ₂*(T^8)*(t11^2)*(v^4)*(γ^2) + 96.0χ₂*(T^10)*(r1^2)*(v^2)*(γ^4) + 612.0χ₂*(T^10)*(r1^2)*(v^4)*(γ^2) + 96.0χ₂*(T^10)*(r1^2)*(v^6)*(γ^4) + 554.6666666666667χ₂*(T^12)*(v^2)*(γ^4)*(ν^2) + 170.66666666666666χ₂*(T^12)*(v^4)*(γ^6)*(ν^2) + 336.0r1*t11*γ*χ₂*(T^9)*(v^3) + 320.0r1*v*ν*χ₂*(T^11)*(γ^3) - (33.0χ₂*(T^8)*(t11^2)) - (288.0χ₂*(T^10)*(r1^2)) - (277.3333333333333χ₂*(T^12)*(ν^2)) - (112.0t11*ν*χ₂*(T^10)) - (9.0χ₂*(T^8)*(t11^2)*(v^4)) - (10.666666666666666χ₂*(T^12)*(γ^4)*(ν^2)) - (72.0χ₂*(T^8)*(t11^2)*(v^2)*(γ^2)) - (72.0χ₂*(T^8)*(t11^2)*(v^6)*(γ^2)) - (648.0χ₂*(T^10)*(r1^2)*(v^2)*(γ^2)) - (192.0χ₂*(T^10)*(r1^2)*(v^4)*(γ^4)) - (1296.0χ₂*(T^12)*(v^2)*(γ^2)*(ν^2)) - (85.33333333333333χ₂*(T^12)*(v^2)*(γ^6)*(ν^2)) - (544.0χ₂*(T^12)*(v^4)*(γ^4)*(ν^2)) - (85.33333333333333χ₂*(T^12)*(v^6)*(γ^6)*(ν^2)) - (336.0r1*t11*v*γ*χ₂*(T^9)) - (1440.0r1*v*γ*ν*χ₂*(T^11)) - (320.0r1*ν*χ₂*(T^11)*(v^3)*(γ^3))"
      ]
     },
     "execution_count": 58,
     "metadata": {},
     "output_type": "execute_result"
    }
   ],
   "source": [
    "simplify(substitute(T2_11, Dict(DIC)),expand=true,\n",
    "            threaded=false,\n",
    "            thread_subtree_cutoff=100,\n",
    "            rewriter=nothing)"
   ]
  },
  {
   "cell_type": "markdown",
   "id": "ae41b3e8",
   "metadata": {},
   "source": [
    "### T11_2 (versión lista para poner en el código)"
   ]
  },
  {
   "cell_type": "code",
   "execution_count": 59,
   "id": "ce65b7b5",
   "metadata": {},
   "outputs": [
    {
     "data": {
      "text/latex": [
       "\\begin{equation}\n",
       "\\chi{_2} \\left( T^{10} \\left( r1^{2} \\left( -288 + 36 \\gamma^{2} - 648 \\gamma^{2} v^{2} + 96 v^{2} \\left( 1 + \\gamma^{4} \\left( 1 + v^{4} \\right) \\right) + 612 \\gamma^{2} v^{4} - 192 \\gamma^{4} v^{4} \\right) - 112 t11 \\nu \\right) + t11^{2} T^{8} \\left( -33 + v^{2} \\left( 42 - 9 v^{2} \\right) + \\gamma^{2} v^{2} \\left( -72 + 144 v^{2} - 72 v^{4} \\right) \\right) + \\nu^{2} T^{12} \\left( \\frac{-832}{3} + \\frac{304}{3} \\gamma^{2} - \\frac{32}{3} \\gamma^{4} - 1296 \\gamma^{2} v^{2} + \\frac{1634}{3} \\gamma^{4} v^{2} - 544 \\gamma^{4} v^{4} - \\frac{256}{3} \\left( -1 + v^{2} \\right)^{2} \\gamma^{6} v^{2} \\right) - 1120 T^{11} r1 v \\gamma \\nu - 336 T^{9} r1 t11 v \\gamma \\left( 1 - v^{2} \\right) \\right)\n",
       "\\end{equation}\n"
      ],
      "text/plain": [
       "χ₂*((T^10)*((36(γ^2) + 96(v^2)*(1 + (γ^4)*(1 + v^4)) + 612(v^4)*(γ^2) - 288 - (648(v^2)*(γ^2)) - (192(v^4)*(γ^4)))*(r1^2) - (112t11*ν)) + ((v^2)*(42 - (9(v^2))) + (144(v^2) - 72 - (72(v^4)))*(v^2)*(γ^2) - 33)*(T^8)*(t11^2) + ((304//3)*(γ^2) + (1634//3)*(v^2)*(γ^4) - (832//3) - ((32//3)*(γ^4)) - (1296(v^2)*(γ^2)) - (544(v^4)*(γ^4)) - ((256//3)*(v^2)*(γ^6)*((v^2 - 1)^2)))*(T^12)*(ν^2) - (1120r1*v*γ*ν*(T^11)) - (336r1*t11*v*γ*(T^9)*(1 - (v^2))))"
      ]
     },
     "execution_count": 59,
     "metadata": {},
     "output_type": "execute_result"
    }
   ],
   "source": [
    "T11_2 = χ₂*(T^12*ν^2*(-832//3 + 304//3*γ^2 - 32//3*γ^4 - 1296*γ^2*v^2 + 1634//3*γ^4*v^2 - 256//3*γ^6*v^2*(v^2-1)^2 - 544*γ^4*v^4) + T^11*r1*v*ν*γ*(-1120) + T^10*(r1^2*(-288+36*γ^2-648*γ^2*v^2+96*v^2*(1+γ^4*(1+v^4))+612*γ^2*v^4-192*γ^4*v^4) - 112*t11*ν) + T^9*(-336)*r1*t11*v*γ*(1-v^2) + T^8*t11^2*(-33 + v^2*(42-9*v^2) + γ^2*v^2*(-72*(1+v^4)+144*v^2)))"
   ]
  },
  {
   "cell_type": "code",
   "execution_count": null,
   "id": "5f12d94e",
   "metadata": {},
   "outputs": [],
   "source": []
  },
  {
   "cell_type": "code",
   "execution_count": null,
   "id": "338ff6d7",
   "metadata": {},
   "outputs": [],
   "source": []
  },
  {
   "cell_type": "markdown",
   "id": "b7e6e46a",
   "metadata": {},
   "source": [
    "## T2_00"
   ]
  },
  {
   "cell_type": "code",
   "execution_count": 60,
   "id": "4962c448",
   "metadata": {},
   "outputs": [
    {
     "data": {
      "text/latex": [
       "\\begin{equation}\n",
       "\\frac{u0^{2} \\chi{_2} \\left( 48 \\left( t22 - \\frac{\\frac{1}{3} \\nu}{\\mu} \\right)^{2} + 48 \\left( t33 - \\frac{\\frac{1}{3} \\nu}{\\mu} \\right)^{2} + 48 \\left( t00 - \\frac{\\nu \\left( \\frac{1}{3} g00 + \\frac{4}{3} u0^{2} \\right)}{\\mu} + \\frac{2 r0 u0}{\\mu T} \\right)^{2} - 96 \\left( t01 + \\frac{r0 u1 + r1 u0}{\\mu T} - \\frac{\\nu \\left( \\frac{1}{3} g01 + \\frac{4}{3} u0 u1 \\right)}{\\mu} \\right)^{2} + 48 \\left( t11 - \\frac{\\nu \\left( \\frac{1}{3} g11 + \\frac{4}{3} u1^{2} \\right)}{\\mu} + \\frac{2 r1 u1}{\\mu T} \\right)^{2} - \\frac{ - 960 \\left( r0 + \\frac{u0 \\nu}{\\mu T} \\right)^{2} + 960 \\left( r1 + \\frac{u1 \\nu}{\\mu T} \\right)^{2}}{\\mu} + \\frac{2880 \\nu^{2}}{\\mu^{2}} \\right)}{\\mu^{5} T^{2}}\n",
       "\\end{equation}\n"
      ],
      "text/plain": [
       "χ₂*(48((t22 - ((1//3)*ν*(μ^-1)))^2) + 48((t33 - ((1//3)*ν*(μ^-1)))^2) + 48((t00 + (2//1)*r0*u0*(T^-1)*(μ^-1) - (ν*(μ^-1)*((1//3)*g00 + (4//3)*(u0^2))))^2) + 48((t11 + (2//1)*r1*u1*(T^-1)*(μ^-1) - (ν*(μ^-1)*((1//3)*g11 + (4//3)*(u1^2))))^2) + 2880(μ^-2)*(ν^2) - (96((t01 + (T^-1)*(μ^-1)*(r0*u1 + r1*u0) - (ν*(μ^-1)*((1//3)*g01 + (4//3)*u0*u1)))^2)) - ((μ^-1)*(960((r1 + u1*ν*(T^-1)*(μ^-1))^2) - (960((r0 + u0*ν*(T^-1)*(μ^-1))^2)))))*(T^-2)*(u0^2)*(μ^-5)"
      ]
     },
     "execution_count": 60,
     "metadata": {},
     "output_type": "execute_result"
    }
   ],
   "source": [
    "T21_00 = (χ₂/μ^5)*(48*xixi - 960*ll/μ + 2880*ν^2/μ^2)*xi0*xi0"
   ]
  },
  {
   "cell_type": "code",
   "execution_count": 61,
   "id": "0772f4ce",
   "metadata": {},
   "outputs": [
    {
     "data": {
      "text/latex": [
       "\\begin{equation}\n",
       " - \\gamma^{2} T^{8} \\chi{_2} \\left( T^{2} \\left( 960 \\left( r1 - T v \\gamma \\nu \\right)^{2} - 960 \\left( r1 v - T \\gamma \\nu \\right)^{2} \\right) + 96 \\left( t11 \\left( -0.5 + 0.5 v^{2} \\right) + 0.3333333333333333 T^{2} \\nu \\right)^{2} + 48 \\left( t11 + T^{2} \\nu \\left( \\frac{1}{3} + \\frac{4}{3} \\gamma^{2} v^{2} \\right) - 2.0 T r1 v \\gamma \\right)^{2} - 96 \\left( t11 v - T \\left( r1 \\gamma + v^{2} r1 \\gamma \\right) + 1.3333333333333333 \\gamma^{2} T^{2} v \\nu \\right)^{2} + 48 \\left( v^{2} t11 + T^{2} \\nu \\left( \\frac{-1}{3} + \\frac{4}{3} \\gamma^{2} \\right) - 2.0 T r1 v \\gamma \\right)^{2} + 2880 \\nu^{2} T^{4} \\right)\n",
       "\\end{equation}\n"
      ],
      "text/plain": [
       "-χ₂*((T^2)*(960((r1 - (T*v*γ*ν))^2) - (960((r1*v - (T*γ*ν))^2))) + 96((t11*(0.5(v^2) - 0.5) + 0.3333333333333333ν*(T^2))^2) + 48((t11 + ν*(T^2)*((1//3) + (4//3)*(v^2)*(γ^2)) - (2.0T*r1*v*γ))^2) + 48((t11*(v^2) + ν*(T^2)*((4//3)*(γ^2) - (1//3)) - (2.0T*r1*v*γ))^2) + 2880(T^4)*(ν^2) - (96((t11*v + 1.3333333333333333v*ν*(T^2)*(γ^2) - (T*(r1*γ + r1*γ*(v^2))))^2)))*(T^8)*(γ^2)"
      ]
     },
     "execution_count": 61,
     "metadata": {},
     "output_type": "execute_result"
    }
   ],
   "source": [
    "simplify(substitute(T21_00, Dict(DIC)))"
   ]
  },
  {
   "cell_type": "code",
   "execution_count": 62,
   "id": "9a3d1999",
   "metadata": {},
   "outputs": [
    {
     "data": {
      "text/latex": [
       "\\begin{equation}\n",
       "\\frac{g00 \\chi{_2} \\left( \\frac{ - 96 \\left( r0 + \\frac{u0 \\nu}{\\mu T} \\right)^{2} + 96 \\left( r1 + \\frac{u1 \\nu}{\\mu T} \\right)^{2}}{\\mu} - 6 \\left( t22 - \\frac{\\frac{1}{3} \\nu}{\\mu} \\right)^{2} - 6 \\left( t33 - \\frac{\\frac{1}{3} \\nu}{\\mu} \\right)^{2} - 6 \\left( t00 - \\frac{\\nu \\left( \\frac{1}{3} g00 + \\frac{4}{3} u0^{2} \\right)}{\\mu} + \\frac{2 r0 u0}{\\mu T} \\right)^{2} + 12 \\left( t01 + \\frac{r0 u1 + r1 u0}{\\mu T} - \\frac{\\nu \\left( \\frac{1}{3} g01 + \\frac{4}{3} u0 u1 \\right)}{\\mu} \\right)^{2} - 6 \\left( t11 - \\frac{\\nu \\left( \\frac{1}{3} g11 + \\frac{4}{3} u1^{2} \\right)}{\\mu} + \\frac{2 r1 u1}{\\mu T} \\right)^{2} - \\frac{240 \\nu^{2}}{\\mu^{2}} \\right)}{\\mu^{4}}\n",
       "\\end{equation}\n"
      ],
      "text/plain": [
       "g00*χ₂*((μ^-1)*(96((r1 + u1*ν*(T^-1)*(μ^-1))^2) - (96((r0 + u0*ν*(T^-1)*(μ^-1))^2))) + 12((t01 + (T^-1)*(μ^-1)*(r0*u1 + r1*u0) - (ν*(μ^-1)*((1//3)*g01 + (4//3)*u0*u1)))^2) - (6((t22 - ((1//3)*ν*(μ^-1)))^2)) - (6((t33 - ((1//3)*ν*(μ^-1)))^2)) - (6((t00 + (2//1)*r0*u0*(T^-1)*(μ^-1) - (ν*(μ^-1)*((1//3)*g00 + (4//3)*(u0^2))))^2)) - (6((t11 + (2//1)*r1*u1*(T^-1)*(μ^-1) - (ν*(μ^-1)*((1//3)*g11 + (4//3)*(u1^2))))^2)) - (240(μ^-2)*(ν^2)))*(μ^-4)"
      ]
     },
     "execution_count": 62,
     "metadata": {},
     "output_type": "execute_result"
    }
   ],
   "source": [
    "T22_00 = (χ₂/μ^4)*(-6*xixi + 96*ll/μ - 240*ν^2/μ^2)*g00"
   ]
  },
  {
   "cell_type": "code",
   "execution_count": 63,
   "id": "f338c6f6",
   "metadata": {},
   "outputs": [
    {
     "data": {
      "text/latex": [
       "\\begin{equation}\n",
       " - T^{8} \\chi{_2} \\left(  - 12 \\left( t11 \\left( -0.5 + 0.5 v^{2} \\right) + 0.3333333333333333 T^{2} \\nu \\right)^{2} - 6 \\left( t11 + T^{2} \\nu \\left( \\frac{1}{3} + \\frac{4}{3} \\gamma^{2} v^{2} \\right) - 2.0 T r1 v \\gamma \\right)^{2} + 12 \\left( t11 v - T \\left( r1 \\gamma + v^{2} r1 \\gamma \\right) + 1.3333333333333333 \\gamma^{2} T^{2} v \\nu \\right)^{2} - 6 \\left( v^{2} t11 + T^{2} \\nu \\left( \\frac{-1}{3} + \\frac{4}{3} \\gamma^{2} \\right) - 2.0 T r1 v \\gamma \\right)^{2} - T^{2} \\left( 96 \\left( r1 - T v \\gamma \\nu \\right)^{2} - 96 \\left( r1 v - T \\gamma \\nu \\right)^{2} \\right) - 240 \\nu^{2} T^{4} \\right)\n",
       "\\end{equation}\n"
      ],
      "text/plain": [
       "-χ₂*(12((t11*v + 1.3333333333333333v*ν*(T^2)*(γ^2) - (T*(r1*γ + r1*γ*(v^2))))^2) - (12((t11*(0.5(v^2) - 0.5) + 0.3333333333333333ν*(T^2))^2)) - (6((t11 + ν*(T^2)*((1//3) + (4//3)*(v^2)*(γ^2)) - (2.0T*r1*v*γ))^2)) - (6((t11*(v^2) + ν*(T^2)*((4//3)*(γ^2) - (1//3)) - (2.0T*r1*v*γ))^2)) - ((T^2)*(96((r1 - (T*v*γ*ν))^2) - (96((r1*v - (T*γ*ν))^2)))) - (240(T^4)*(ν^2)))*(T^8)"
      ]
     },
     "execution_count": 63,
     "metadata": {},
     "output_type": "execute_result"
    }
   ],
   "source": [
    "simplify(substitute(T22_00, Dict(DIC)))"
   ]
  },
  {
   "cell_type": "code",
   "execution_count": 64,
   "id": "e8181cd4",
   "metadata": {},
   "outputs": [
    {
     "data": {
      "text/latex": [
       "\\begin{equation}\n",
       "\\frac{384 u0 \\chi{_2} \\left( \\left( r0 + \\frac{u0 \\nu}{\\mu T} \\right) \\left(  - t00 + \\frac{\\nu \\left( \\frac{1}{3} g00 + \\frac{4}{3} u0^{2} \\right)}{\\mu} - \\frac{2 r0 u0}{\\mu T} \\right) + \\left( r1 + \\frac{u1 \\nu}{\\mu T} \\right) \\left( t01 + \\frac{r0 u1 + r1 u0}{\\mu T} - \\frac{\\nu \\left( \\frac{1}{3} g01 + \\frac{4}{3} u0 u1 \\right)}{\\mu} \\right) \\right)}{\\mu^{5} T}\n",
       "\\end{equation}\n"
      ],
      "text/plain": [
       "384u0*χ₂*(T^-1)*(μ^-5)*((r0 + u0*ν*(T^-1)*(μ^-1))*(ν*(μ^-1)*((1//3)*g00 + (4//3)*(u0^2)) - t00 - ((2//1)*r0*u0*(T^-1)*(μ^-1))) + (r1 + u1*ν*(T^-1)*(μ^-1))*(t01 + (T^-1)*(μ^-1)*(r0*u1 + r1*u0) - (ν*(μ^-1)*((1//3)*g01 + (4//3)*u0*u1))))"
      ]
     },
     "execution_count": 64,
     "metadata": {},
     "output_type": "execute_result"
    }
   ],
   "source": [
    "T23_00 = (384*χ₂/μ^5)*xi0*(-xi00*l0+xi01*l1)"
   ]
  },
  {
   "cell_type": "code",
   "execution_count": 65,
   "id": "33920c03",
   "metadata": {},
   "outputs": [
    {
     "data": {
      "text/latex": [
       "\\begin{equation}\n",
       " - 384.0 T^{9} \\gamma \\chi{_2} \\left( \\left( r1 - T v \\gamma \\nu \\right) \\left( t11 v - T \\left( r1 \\gamma + v^{2} r1 \\gamma \\right) + 1.3333333333333333 \\gamma^{2} T^{2} v \\nu \\right) + \\left( r1 v - T \\gamma \\nu \\right) \\left(  - v^{2} t11 - T^{2} \\nu \\left( \\frac{-1}{3} + \\frac{4}{3} \\gamma^{2} \\right) + 2.0 T r1 v \\gamma \\right) \\right)\n",
       "\\end{equation}\n"
      ],
      "text/plain": [
       "-384.0γ*χ₂*(T^9)*((r1 - (T*v*γ*ν))*(t11*v + 1.3333333333333333v*ν*(T^2)*(γ^2) - (T*(r1*γ + r1*γ*(v^2)))) + (r1*v - (T*γ*ν))*(2.0T*r1*v*γ - (t11*(v^2)) - (ν*(T^2)*((4//3)*(γ^2) - (1//3)))))"
      ]
     },
     "execution_count": 65,
     "metadata": {},
     "output_type": "execute_result"
    }
   ],
   "source": [
    "simplify(substitute(T23_00, Dict(DIC)))"
   ]
  },
  {
   "cell_type": "code",
   "execution_count": 66,
   "id": "fb877696",
   "metadata": {},
   "outputs": [
    {
     "data": {
      "text/latex": [
       "\\begin{equation}\n",
       " - \\frac{1920 u0 \\nu \\chi{_2} \\left( r0 + \\frac{u0 \\nu}{\\mu T} \\right)}{\\mu^{6} T}\n",
       "\\end{equation}\n"
      ],
      "text/plain": [
       "-1920u0*ν*χ₂*(T^-1)*(r0 + u0*ν*(T^-1)*(μ^-1))*(μ^-6)"
      ]
     },
     "execution_count": 66,
     "metadata": {},
     "output_type": "execute_result"
    }
   ],
   "source": [
    "T24_00 = -(1920*χ₂/μ^6)*ν*xi0*l0"
   ]
  },
  {
   "cell_type": "code",
   "execution_count": 67,
   "id": "68ddc8bb",
   "metadata": {},
   "outputs": [
    {
     "data": {
      "text/latex": [
       "\\begin{equation}\n",
       " - 1920 T^{11} \\gamma \\nu \\chi{_2} \\left( r1 v - T \\gamma \\nu \\right)\n",
       "\\end{equation}\n"
      ],
      "text/plain": [
       "-1920γ*ν*χ₂*(T^11)*(r1*v - (T*γ*ν))"
      ]
     },
     "execution_count": 67,
     "metadata": {},
     "output_type": "execute_result"
    }
   ],
   "source": [
    "simplify(substitute(T24_00, Dict(DIC)))"
   ]
  },
  {
   "cell_type": "code",
   "execution_count": 68,
   "id": "ded37f18",
   "metadata": {},
   "outputs": [
    {
     "data": {
      "text/latex": [
       "\\begin{equation}\n",
       "\\frac{192 \\left( r0 + \\frac{u0 \\nu}{\\mu T} \\right)^{2} \\chi{_2}}{\\mu^{5}}\n",
       "\\end{equation}\n"
      ],
      "text/plain": [
       "192χ₂*(μ^-5)*((r0 + u0*ν*(T^-1)*(μ^-1))^2)"
      ]
     },
     "execution_count": 68,
     "metadata": {},
     "output_type": "execute_result"
    }
   ],
   "source": [
    "T25_00 = (192*χ₂/μ^5)*l0*l0"
   ]
  },
  {
   "cell_type": "code",
   "execution_count": 69,
   "id": "95ea97fc",
   "metadata": {},
   "outputs": [
    {
     "data": {
      "text/latex": [
       "\\begin{equation}\n",
       " - 192.0 \\left( r1 v - T \\gamma \\nu \\right)^{2} T^{10} \\chi{_2}\n",
       "\\end{equation}\n"
      ],
      "text/plain": [
       "-192.0χ₂*(T^10)*((r1*v - (T*γ*ν))^2)"
      ]
     },
     "execution_count": 69,
     "metadata": {},
     "output_type": "execute_result"
    }
   ],
   "source": [
    "simplify(substitute(T25_00, Dict(DIC)))"
   ]
  },
  {
   "cell_type": "code",
   "execution_count": 70,
   "id": "8521bdfb",
   "metadata": {},
   "outputs": [
    {
     "data": {
      "text/latex": [
       "\\begin{equation}\n",
       "\\frac{96 \\nu \\chi{_2} \\left( t00 - \\frac{\\nu \\left( \\frac{1}{3} g00 + \\frac{4}{3} u0^{2} \\right)}{\\mu} + \\frac{2 r0 u0}{\\mu T} \\right)}{\\mu^{5}}\n",
       "\\end{equation}\n"
      ],
      "text/plain": [
       "96ν*χ₂*(t00 + (2//1)*r0*u0*(T^-1)*(μ^-1) - (ν*(μ^-1)*((1//3)*g00 + (4//3)*(u0^2))))*(μ^-5)"
      ]
     },
     "execution_count": 70,
     "metadata": {},
     "output_type": "execute_result"
    }
   ],
   "source": [
    "T26_00 = (96*χ₂/μ^5)*ν*xi00"
   ]
  },
  {
   "cell_type": "code",
   "execution_count": 71,
   "id": "14173319",
   "metadata": {},
   "outputs": [
    {
     "data": {
      "text/latex": [
       "\\begin{equation}\n",
       " - 96.0 T^{10} \\nu \\chi{_2} \\left( v^{2} t11 + T^{2} \\nu \\left( \\frac{-1}{3} + \\frac{4}{3} \\gamma^{2} \\right) - 2.0 T r1 v \\gamma \\right)\n",
       "\\end{equation}\n"
      ],
      "text/plain": [
       "-96.0ν*χ₂*(t11*(v^2) + ν*(T^2)*((4//3)*(γ^2) - (1//3)) - (2.0T*r1*v*γ))*(T^10)"
      ]
     },
     "execution_count": 71,
     "metadata": {},
     "output_type": "execute_result"
    }
   ],
   "source": [
    "simplify(substitute(T26_00, Dict(DIC)))"
   ]
  },
  {
   "cell_type": "code",
   "execution_count": 72,
   "id": "09bd0a33",
   "metadata": {},
   "outputs": [
    {
     "data": {
      "text/latex": [
       "\\begin{equation}\n",
       " - \\frac{24 \\chi{_2} \\left( \\left( t01 + \\frac{r0 u1 + r1 u0}{\\mu T} - \\frac{\\nu \\left( \\frac{1}{3} g01 + \\frac{4}{3} u0 u1 \\right)}{\\mu} \\right)^{2} - \\left( t00 - \\frac{\\nu \\left( \\frac{1}{3} g00 + \\frac{4}{3} u0^{2} \\right)}{\\mu} + \\frac{2 r0 u0}{\\mu T} \\right)^{2} \\right)}{\\mu^{4}}\n",
       "\\end{equation}\n"
      ],
      "text/plain": [
       "-24χ₂*(μ^-4)*((t01 + (T^-1)*(μ^-1)*(r0*u1 + r1*u0) - (ν*(μ^-1)*((1//3)*g01 + (4//3)*u0*u1)))^2 - ((t00 + (2//1)*r0*u0*(T^-1)*(μ^-1) - (ν*(μ^-1)*((1//3)*g00 + (4//3)*(u0^2))))^2))"
      ]
     },
     "execution_count": 72,
     "metadata": {},
     "output_type": "execute_result"
    }
   ],
   "source": [
    "T27_00 = -(24*χ₂/μ^4)*(-xi00^2+xi01^2)"
   ]
  },
  {
   "cell_type": "code",
   "execution_count": 73,
   "id": "34ad3853",
   "metadata": {},
   "outputs": [
    {
     "data": {
      "text/latex": [
       "\\begin{equation}\n",
       " - 24 T^{8} \\chi{_2} \\left( \\left( t11 v - T \\left( r1 \\gamma + v^{2} r1 \\gamma \\right) + 1.3333333333333333 \\gamma^{2} T^{2} v \\nu \\right)^{2} - \\left( v^{2} t11 + T^{2} \\nu \\left( \\frac{-1}{3} + \\frac{4}{3} \\gamma^{2} \\right) - 2.0 T r1 v \\gamma \\right)^{2} \\right)\n",
       "\\end{equation}\n"
      ],
      "text/plain": [
       "-24χ₂*(T^8)*((t11*v + 1.3333333333333333v*ν*(T^2)*(γ^2) - (T*(r1*γ + r1*γ*(v^2))))^2 - ((t11*(v^2) + ν*(T^2)*((4//3)*(γ^2) - (1//3)) - (2.0T*r1*v*γ))^2))"
      ]
     },
     "execution_count": 73,
     "metadata": {},
     "output_type": "execute_result"
    }
   ],
   "source": [
    "simplify(substitute(T27_00, Dict(DIC)))"
   ]
  },
  {
   "cell_type": "code",
   "execution_count": 74,
   "id": "80c7895b",
   "metadata": {},
   "outputs": [
    {
     "data": {
      "text/latex": [
       "\\begin{equation}\n",
       "\\frac{g00 \\chi{_2} \\left( \\frac{ - 96 \\left( r0 + \\frac{u0 \\nu}{\\mu T} \\right)^{2} + 96 \\left( r1 + \\frac{u1 \\nu}{\\mu T} \\right)^{2}}{\\mu} - 6 \\left( t22 - \\frac{\\frac{1}{3} \\nu}{\\mu} \\right)^{2} - 6 \\left( t33 - \\frac{\\frac{1}{3} \\nu}{\\mu} \\right)^{2} - 6 \\left( t00 - \\frac{\\nu \\left( \\frac{1}{3} g00 + \\frac{4}{3} u0^{2} \\right)}{\\mu} + \\frac{2 r0 u0}{\\mu T} \\right)^{2} + 12 \\left( t01 + \\frac{r0 u1 + r1 u0}{\\mu T} - \\frac{\\nu \\left( \\frac{1}{3} g01 + \\frac{4}{3} u0 u1 \\right)}{\\mu} \\right)^{2} - 6 \\left( t11 - \\frac{\\nu \\left( \\frac{1}{3} g11 + \\frac{4}{3} u1^{2} \\right)}{\\mu} + \\frac{2 r1 u1}{\\mu T} \\right)^{2} - \\frac{240 \\nu^{2}}{\\mu^{2}} \\right)}{\\mu^{4}} - \\frac{24 \\chi{_2} \\left( \\left( t01 + \\frac{r0 u1 + r1 u0}{\\mu T} - \\frac{\\nu \\left( \\frac{1}{3} g01 + \\frac{4}{3} u0 u1 \\right)}{\\mu} \\right)^{2} - \\left( t00 - \\frac{\\nu \\left( \\frac{1}{3} g00 + \\frac{4}{3} u0^{2} \\right)}{\\mu} + \\frac{2 r0 u0}{\\mu T} \\right)^{2} \\right)}{\\mu^{4}} + \\frac{192 \\left( r0 + \\frac{u0 \\nu}{\\mu T} \\right)^{2} \\chi{_2}}{\\mu^{5}} + \\frac{96 \\nu \\chi{_2} \\left( t00 - \\frac{\\nu \\left( \\frac{1}{3} g00 + \\frac{4}{3} u0^{2} \\right)}{\\mu} + \\frac{2 r0 u0}{\\mu T} \\right)}{\\mu^{5}} + \\frac{u0^{2} \\chi{_2} \\left( 48 \\left( t22 - \\frac{\\frac{1}{3} \\nu}{\\mu} \\right)^{2} + 48 \\left( t33 - \\frac{\\frac{1}{3} \\nu}{\\mu} \\right)^{2} + 48 \\left( t00 - \\frac{\\nu \\left( \\frac{1}{3} g00 + \\frac{4}{3} u0^{2} \\right)}{\\mu} + \\frac{2 r0 u0}{\\mu T} \\right)^{2} - 96 \\left( t01 + \\frac{r0 u1 + r1 u0}{\\mu T} - \\frac{\\nu \\left( \\frac{1}{3} g01 + \\frac{4}{3} u0 u1 \\right)}{\\mu} \\right)^{2} + 48 \\left( t11 - \\frac{\\nu \\left( \\frac{1}{3} g11 + \\frac{4}{3} u1^{2} \\right)}{\\mu} + \\frac{2 r1 u1}{\\mu T} \\right)^{2} - \\frac{ - 960 \\left( r0 + \\frac{u0 \\nu}{\\mu T} \\right)^{2} + 960 \\left( r1 + \\frac{u1 \\nu}{\\mu T} \\right)^{2}}{\\mu} + \\frac{2880 \\nu^{2}}{\\mu^{2}} \\right)}{\\mu^{5} T^{2}} + \\frac{384 u0 \\chi{_2} \\left( \\left( r0 + \\frac{u0 \\nu}{\\mu T} \\right) \\left(  - t00 + \\frac{\\nu \\left( \\frac{1}{3} g00 + \\frac{4}{3} u0^{2} \\right)}{\\mu} - \\frac{2 r0 u0}{\\mu T} \\right) + \\left( r1 + \\frac{u1 \\nu}{\\mu T} \\right) \\left( t01 + \\frac{r0 u1 + r1 u0}{\\mu T} - \\frac{\\nu \\left( \\frac{1}{3} g01 + \\frac{4}{3} u0 u1 \\right)}{\\mu} \\right) \\right)}{\\mu^{5} T} - \\frac{1920 u0 \\nu \\chi{_2} \\left( r0 + \\frac{u0 \\nu}{\\mu T} \\right)}{\\mu^{6} T}\n",
       "\\end{equation}\n"
      ],
      "text/plain": [
       "g00*χ₂*((μ^-1)*(96((r1 + u1*ν*(T^-1)*(μ^-1))^2) - (96((r0 + u0*ν*(T^-1)*(μ^-1))^2))) + 12((t01 + (T^-1)*(μ^-1)*(r0*u1 + r1*u0) - (ν*(μ^-1)*((1//3)*g01 + (4//3)*u0*u1)))^2) - (6((t22 - ((1//3)*ν*(μ^-1)))^2)) - (6((t33 - ((1//3)*ν*(μ^-1)))^2)) - (6((t00 + (2//1)*r0*u0*(T^-1)*(μ^-1) - (ν*(μ^-1)*((1//3)*g00 + (4//3)*(u0^2))))^2)) - (6((t11 + (2//1)*r1*u1*(T^-1)*(μ^-1) - (ν*(μ^-1)*((1//3)*g11 + (4//3)*(u1^2))))^2)) - (240(μ^-2)*(ν^2)))*(μ^-4) + 192χ₂*(μ^-5)*((r0 + u0*ν*(T^-1)*(μ^-1))^2) + 96ν*χ₂*(t00 + (2//1)*r0*u0*(T^-1)*(μ^-1) - (ν*(μ^-1)*((1//3)*g00 + (4//3)*(u0^2))))*(μ^-5) + χ₂*(48((t22 - ((1//3)*ν*(μ^-1)))^2) + 48((t33 - ((1//3)*ν*(μ^-1)))^2) + 48((t00 + (2//1)*r0*u0*(T^-1)*(μ^-1) - (ν*(μ^-1)*((1//3)*g00 + (4//3)*(u0^2))))^2) + 48((t11 + (2//1)*r1*u1*(T^-1)*(μ^-1) - (ν*(μ^-1)*((1//3)*g11 + (4//3)*(u1^2))))^2) + 2880(μ^-2)*(ν^2) - (96((t01 + (T^-1)*(μ^-1)*(r0*u1 + r1*u0) - (ν*(μ^-1)*((1//3)*g01 + (4//3)*u0*u1)))^2)) - ((μ^-1)*(960((r1 + u1*ν*(T^-1)*(μ^-1))^2) - (960((r0 + u0*ν*(T^-1)*(μ^-1))^2)))))*(T^-2)*(u0^2)*(μ^-5) + 384u0*χ₂*(T^-1)*(μ^-5)*((r0 + u0*ν*(T^-1)*(μ^-1))*(ν*(μ^-1)*((1//3)*g00 + (4//3)*(u0^2)) - t00 - ((2//1)*r0*u0*(T^-1)*(μ^-1))) + (r1 + u1*ν*(T^-1)*(μ^-1))*(t01 + (T^-1)*(μ^-1)*(r0*u1 + r1*u0) - (ν*(μ^-1)*((1//3)*g01 + (4//3)*u0*u1)))) - (24χ₂*(μ^-4)*((t01 + (T^-1)*(μ^-1)*(r0*u1 + r1*u0) - (ν*(μ^-1)*((1//3)*g01 + (4//3)*u0*u1)))^2 - ((t00 + (2//1)*r0*u0*(T^-1)*(μ^-1) - (ν*(μ^-1)*((1//3)*g00 + (4//3)*(u0^2))))^2))) - (1920u0*ν*χ₂*(T^-1)*(r0 + u0*ν*(T^-1)*(μ^-1))*(μ^-6))"
      ]
     },
     "execution_count": 74,
     "metadata": {},
     "output_type": "execute_result"
    }
   ],
   "source": [
    "T2_00 = T21_00 + T22_00 + T23_00 + T24_00 + T25_00 + T26_00 + T27_00"
   ]
  },
  {
   "cell_type": "code",
   "execution_count": 75,
   "id": "544770f8",
   "metadata": {},
   "outputs": [
    {
     "data": {
      "text/latex": [
       "\\begin{equation}\n",
       "9.0 t11^{2} T^{8} \\chi{_2} + 96.0 r1^{2} T^{10} \\chi{_2} + 277.3333333333333 \\nu^{2} T^{12} \\chi{_2} - 42.0 v^{2} t11^{2} T^{8} \\chi{_2} + 33.0 v^{4} t11^{2} T^{8} \\chi{_2} - 72.0 \\gamma^{2} t11^{2} T^{8} \\chi{_2} - 288.0 v^{2} r1^{2} T^{10} \\chi{_2} - 612.0 \\gamma^{2} r1^{2} T^{10} \\chi{_2} + 96.0 \\gamma^{4} r1^{2} T^{10} \\chi{_2} - 1296.0 \\nu^{2} \\gamma^{2} T^{12} \\chi{_2} + 544.0 \\nu^{2} \\gamma^{4} T^{12} \\chi{_2} - 85.33333333333333 \\nu^{2} \\gamma^{6} T^{12} \\chi{_2} - 112.0 v^{2} T^{10} t11 \\nu \\chi{_2} + 144.0 \\gamma^{2} v^{2} t11^{2} T^{8} \\chi{_2} - 72.0 \\gamma^{2} v^{4} t11^{2} T^{8} \\chi{_2} + 648.0 \\gamma^{2} v^{2} r1^{2} T^{10} \\chi{_2} - 192.0 \\gamma^{4} v^{2} r1^{2} T^{10} \\chi{_2} - 36.0 \\gamma^{2} v^{4} r1^{2} T^{10} \\chi{_2} + 96.0 \\gamma^{4} v^{4} r1^{2} T^{10} \\chi{_2} + 101.33333333333333 \\nu^{2} \\gamma^{2} v^{2} T^{12} \\chi{_2} - 554.6666666666667 \\nu^{2} \\gamma^{4} v^{2} T^{12} \\chi{_2} + 170.66666666666666 \\nu^{2} \\gamma^{6} v^{2} T^{12} \\chi{_2} + 10.666666666666666 \\nu^{2} \\gamma^{4} v^{4} T^{12} \\chi{_2} - 85.33333333333333 \\nu^{2} \\gamma^{6} v^{4} T^{12} \\chi{_2} - 336.0 T^{9} r1 t11 v \\gamma \\chi{_2} + 336.0 v^{3} T^{9} r1 t11 \\gamma \\chi{_2} - 1440.0 T^{11} r1 v \\gamma \\nu \\chi{_2} + 320.0 \\gamma^{3} T^{11} r1 v \\nu \\chi{_2} - 320.0 \\gamma^{3} v^{3} T^{11} r1 \\nu \\chi{_2}\n",
       "\\end{equation}\n"
      ],
      "text/plain": [
       "9.0χ₂*(T^8)*(t11^2) + 96.0χ₂*(T^10)*(r1^2) + 277.3333333333333χ₂*(T^12)*(ν^2) + 33.0χ₂*(T^8)*(t11^2)*(v^4) + 96.0χ₂*(T^10)*(r1^2)*(γ^4) + 544.0χ₂*(T^12)*(γ^4)*(ν^2) + 144.0χ₂*(T^8)*(t11^2)*(v^2)*(γ^2) + 648.0χ₂*(T^10)*(r1^2)*(v^2)*(γ^2) + 96.0χ₂*(T^10)*(r1^2)*(v^4)*(γ^4) + 101.33333333333333χ₂*(T^12)*(v^2)*(γ^2)*(ν^2) + 170.66666666666666χ₂*(T^12)*(v^2)*(γ^6)*(ν^2) + 10.666666666666666χ₂*(T^12)*(v^4)*(γ^4)*(ν^2) + 336.0r1*t11*γ*χ₂*(T^9)*(v^3) + 320.0r1*v*ν*χ₂*(T^11)*(γ^3) - (42.0χ₂*(T^8)*(t11^2)*(v^2)) - (72.0χ₂*(T^8)*(t11^2)*(γ^2)) - (288.0χ₂*(T^10)*(r1^2)*(v^2)) - (612.0χ₂*(T^10)*(r1^2)*(γ^2)) - (1296.0χ₂*(T^12)*(γ^2)*(ν^2)) - (85.33333333333333χ₂*(T^12)*(γ^6)*(ν^2)) - (112.0t11*ν*χ₂*(T^10)*(v^2)) - (72.0χ₂*(T^8)*(t11^2)*(v^4)*(γ^2)) - (192.0χ₂*(T^10)*(r1^2)*(v^2)*(γ^4)) - (36.0χ₂*(T^10)*(r1^2)*(v^4)*(γ^2)) - (554.6666666666667χ₂*(T^12)*(v^2)*(γ^4)*(ν^2)) - (85.33333333333333χ₂*(T^12)*(v^4)*(γ^6)*(ν^2)) - (336.0r1*t11*v*γ*χ₂*(T^9)) - (1440.0r1*v*γ*ν*χ₂*(T^11)) - (320.0r1*ν*χ₂*(T^11)*(v^3)*(γ^3))"
      ]
     },
     "execution_count": 75,
     "metadata": {},
     "output_type": "execute_result"
    }
   ],
   "source": [
    "simplify(substitute(T2_00, Dict(DIC)),expand=true,\n",
    "            threaded=false,\n",
    "            thread_subtree_cutoff=100,\n",
    "            rewriter=nothing)"
   ]
  },
  {
   "cell_type": "markdown",
   "id": "04d28b06",
   "metadata": {},
   "source": [
    "### T00_2 (versión lista para poner en el código)"
   ]
  },
  {
   "cell_type": "code",
   "execution_count": 76,
   "id": "587068cf",
   "metadata": {},
   "outputs": [
    {
     "data": {
      "text/latex": [
       "\\begin{equation}\n",
       "\\chi{_2} \\left( T^{10} \\left( r1^{2} \\left( 96 - 288 v^{2} - 612 \\gamma^{2} + 96 \\gamma^{4} + 648 \\gamma^{2} v^{2} - 192 \\gamma^{4} v^{2} - 36 \\gamma^{2} v^{4} + 96 \\gamma^{4} v^{4} \\right) - 112 v^{2} t11 \\nu \\right) + t11^{2} T^{8} \\left( 9 + \\gamma^{2} \\left( -72 + 144 v^{2} - 72 v^{4} \\right) + v^{2} \\left( -42 + 33 v^{2} \\right) \\right) + \\nu^{2} T^{12} \\left( \\frac{832}{3} + \\gamma^{2} \\left( -1296 + 544 \\gamma^{2} \\right) + \\gamma^{2} v^{2} \\left( \\frac{304}{3} - \\frac{1664}{3} \\gamma^{2} + \\frac{512}{3} \\gamma^{4} + \\frac{32}{3} \\gamma^{2} v^{2} \\right) - \\frac{256}{3} \\gamma^{6} \\left( 1 + v^{4} \\right) \\right) - 1120 T^{11} r1 v \\gamma \\nu + 336 T^{9} r1 t11 v \\gamma \\left( -1 + v^{2} \\right) \\right)\n",
       "\\end{equation}\n"
      ],
      "text/plain": [
       "χ₂*((T^10)*((96 + 96(γ^4) + 648(v^2)*(γ^2) + 96(v^4)*(γ^4) - (288(v^2)) - (612(γ^2)) - (192(v^2)*(γ^4)) - (36(v^4)*(γ^2)))*(r1^2) - (112t11*ν*(v^2))) + (9 + (144(v^2) - 72 - (72(v^4)))*(γ^2) + (v^2)*(33(v^2) - 42))*(T^8)*(t11^2) + ((832//3) + (γ^2)*(544(γ^2) - 1296) + ((304//3) + (512//3)*(γ^4) + (32//3)*(v^2)*(γ^2) - ((1664//3)*(γ^2)))*(v^2)*(γ^2) - ((256//3)*(γ^6)*(1 + v^4)))*(T^12)*(ν^2) + 336r1*t11*v*γ*(T^9)*(v^2 - 1) - (1120r1*v*γ*ν*(T^11)))"
      ]
     },
     "execution_count": 76,
     "metadata": {},
     "output_type": "execute_result"
    }
   ],
   "source": [
    "T00_2 = χ₂*(T^12*ν^2*(832//3+γ^2*(-1296+544*γ^2)-256//3*γ^6*(1+v^4)+γ^2*v^2*(304//3-1664//3*γ^2+512//3*γ^4+32//3*γ^2*v^2)) + T^11*r1*ν*γ*v*(-1120) + T^10*(r1^2*(96*(1+γ^4+γ^4*v^4)-288*v^2-612*γ^2+648*γ^2*v^2-192*γ^4*v^2-36*γ^2*v^4)-112*v^2*t11*ν) + T^9*r1*t11*v*γ*(v^2-1)*336 + T^8*t11^2*(9+v^2*(-42+33*v^2)+γ^2*(144*v^2-72*(1+v^4))))"
   ]
  },
  {
   "cell_type": "code",
   "execution_count": null,
   "id": "f32642ad",
   "metadata": {},
   "outputs": [],
   "source": []
  },
  {
   "cell_type": "code",
   "execution_count": null,
   "id": "b1341975",
   "metadata": {},
   "outputs": [],
   "source": []
  },
  {
   "cell_type": "code",
   "execution_count": null,
   "id": "b5e03450",
   "metadata": {},
   "outputs": [],
   "source": []
  },
  {
   "cell_type": "code",
   "execution_count": null,
   "id": "04deeca5",
   "metadata": {},
   "outputs": [],
   "source": []
  }
 ],
 "metadata": {
  "kernelspec": {
   "display_name": "Julia 1.5.2",
   "language": "julia",
   "name": "julia-1.5"
  },
  "language_info": {
   "file_extension": ".jl",
   "mimetype": "application/julia",
   "name": "julia",
   "version": "1.5.2"
  }
 },
 "nbformat": 4,
 "nbformat_minor": 5
}
