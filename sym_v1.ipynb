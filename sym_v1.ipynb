{
 "cells": [
  {
   "cell_type": "code",
   "execution_count": 1,
   "metadata": {},
   "outputs": [],
   "source": [
    "using Symbolics\n",
    "using LinearAlgebra\n",
    "using Latexify\n",
    "using Plots"
   ]
  },
  {
   "cell_type": "code",
   "execution_count": 213,
   "metadata": {},
   "outputs": [
    {
     "data": {
      "text/plain": [
       "χ0AB (generic function with 2 methods)"
      ]
     },
     "metadata": {},
     "output_type": "display_data"
    }
   ],
   "source": [
    "include(\"symbolics_ext.jl\")"
   ]
  },
  {
   "cell_type": "code",
   "execution_count": 86,
   "metadata": {},
   "outputs": [
    {
     "data": {
      "text/plain": [
       "3-element Vector{Float64}:\n",
       " 1.0\n",
       " 1.0\n",
       " 1.0"
      ]
     },
     "metadata": {},
     "output_type": "display_data"
    }
   ],
   "source": [
    "D = Int64(4) #dimensions\n",
    "#D = Int64(2) #dimensions\n",
    "L = (D+(D*(D+1)÷2))\n",
    "#ζ = Vector{Float64}(undef,L)\n",
    "#ζ_v = Vector{Float64}(undef,D)\n",
    "#ζ_t = Array{Float64}(undef,D,D)\n",
    "g = make_g(D)\n",
    "ζ = rand(L)\n",
    "p = ([1.0;1.0;1.0])"
   ]
  },
  {
   "cell_type": "code",
   "execution_count": 123,
   "metadata": {},
   "outputs": [
    {
     "data": {
      "text/plain": [
       "11.530697656276184"
      ]
     },
     "metadata": {},
     "output_type": "display_data"
    }
   ],
   "source": [
    "Φ_new(ζ,p)"
   ]
  },
  {
   "cell_type": "code",
   "execution_count": 81,
   "metadata": {},
   "outputs": [],
   "source": [
    "@variables vs[1:L] ps[1:3]\n",
    "vst = [vs[i] for i ∈ 1:L]\n",
    "∇ζ = Symbolics.gradient(Φ_new(vs,ps),vst);"
   ]
  },
  {
   "cell_type": "code",
   "execution_count": 82,
   "metadata": {},
   "outputs": [
    {
     "data": {
      "text/plain": [
       "#83 (generic function with 1 method)"
      ]
     },
     "metadata": {},
     "output_type": "display_data"
    }
   ],
   "source": [
    "∇ζ_exp = Symbolics.build_function(∇ζ,vs,ps);\n",
    "∇ζ_f = eval(∇ζ_exp[1])"
   ]
  },
  {
   "cell_type": "code",
   "execution_count": 83,
   "metadata": {},
   "outputs": [
    {
     "data": {
      "text/plain": [
       "14-element Vector{Float64}:\n",
       " -1013.413944186829\n",
       " -1459.5371755177612\n",
       " -1726.260981488396\n",
       " -1344.9209665884164\n",
       "     0.8416380851338819\n",
       "    48.23339593671578\n",
       "    56.444887889252854\n",
       "    61.32776054950823\n",
       "    95.32247225550483\n",
       "   242.975116459748\n",
       "   184.4064365858252\n",
       "   167.9871930806561\n",
       "   258.3515771719864\n",
       "    83.39737733989757"
      ]
     },
     "metadata": {},
     "output_type": "display_data"
    }
   ],
   "source": [
    "∇ζ_f(ζ,p)"
   ]
  },
  {
   "cell_type": "code",
   "execution_count": 250,
   "metadata": {},
   "outputs": [],
   "source": [
    "vs_a = [vs[i] for i ∈ 1:D]\n",
    "ΦaA = χaA(Φ_new(vs,ps),vs_a,vst);"
   ]
  },
  {
   "cell_type": "code",
   "execution_count": 251,
   "metadata": {},
   "outputs": [
    {
     "data": {
      "text/plain": [
       "#147 (generic function with 1 method)"
      ]
     },
     "metadata": {},
     "output_type": "display_data"
    }
   ],
   "source": [
    "ΦaA_exp = Symbolics.build_function(ΦaA,vs,ps);\n",
    "ΦaA_f = eval(ΦaA_exp[1])"
   ]
  },
  {
   "cell_type": "code",
   "execution_count": 252,
   "metadata": {},
   "outputs": [
    {
     "data": {
      "text/plain": [
       "4×14 Matrix{Float64}:\n",
       " 210.908   107.215   -96.15      125.203   …    2.55455   0.925487   -6.55264\n",
       " 107.215   286.538  -406.165     291.03        38.5431   22.7022    -48.2403\n",
       " -96.15   -406.165     3.65376  -309.09       -23.8564   28.5717     11.9117\n",
       " 125.203   291.03   -309.09       68.0756      31.0289   11.5871     13.7742"
      ]
     },
     "metadata": {},
     "output_type": "display_data"
    }
   ],
   "source": [
    "ΦaA_f(ζ,p)"
   ]
  },
  {
   "cell_type": "code",
   "execution_count": 253,
   "metadata": {},
   "outputs": [],
   "source": [
    "#include(\"symbolics_ext.jl\")\n",
    "Φ0AB = χ0AB(Φ_new(vs,ps),vst);"
   ]
  },
  {
   "cell_type": "code",
   "execution_count": 254,
   "metadata": {},
   "outputs": [
    {
     "data": {
      "text/plain": [
       "#149 (generic function with 1 method)"
      ]
     },
     "metadata": {},
     "output_type": "display_data"
    }
   ],
   "source": [
    "Φ0AB_exp = Symbolics.build_function(Φ0AB,vs,ps);\n",
    "Φ0AB_f = eval(Φ0AB_exp[1])"
   ]
  },
  {
   "cell_type": "code",
   "execution_count": 255,
   "metadata": {},
   "outputs": [
    {
     "data": {
      "text/plain": [
       "14×14 Matrix{Float64}:\n",
       "  -734.776    -1325.0       779.168    …  -65.051     -55.6182     85.9578\n",
       " -1325.0       -384.94      499.832        -7.35521    -6.84646    32.4808\n",
       "   779.168      499.832     210.558         1.32293   -25.8433     -0.74784\n",
       " -1007.15      -760.864     466.342       -11.5001     -1.87132    22.6351\n",
       "   188.749        6.06373    -4.05027      -1.14475     1.14375     3.10813\n",
       "    15.3165     343.295     -63.1665   …    7.98105    -8.0314    -21.8826\n",
       "    -7.72489    -63.1665   -122.491         2.9453     14.231      -2.5776\n",
       "    44.6295     367.812     -55.6182        7.1155     -5.1552     -4.33241\n",
       "   167.842      -19.0619     -4.62536      -1.26945     1.70734     5.07907\n",
       "   -63.1665      -9.62636   -17.8994       -1.22793    -5.86902     1.436\n",
       "   367.812       16.6731     -6.84646  …   -2.93451     2.872       4.50938\n",
       "   -65.051       -7.35521     1.32293       1.05654    -1.09476    -0.931845\n",
       "   -55.6182      -6.84646   -25.8433       -1.09476    -3.72738     0.531169\n",
       "    85.9578      32.4808     -0.74784      -0.931845    0.531169   -1.03909"
      ]
     },
     "metadata": {},
     "output_type": "display_data"
    }
   ],
   "source": [
    "Φ0AB_f(ζ,p)"
   ]
  },
  {
   "cell_type": "code",
   "execution_count": 257,
   "metadata": {},
   "outputs": [
    {
     "name": "stdout",
     "output_type": "stream",
     "text": [
      "[1.0, 0.1, 0.0, 0.0, 1.0, 0.25, 0.0, 0.0, 0.5, 0.0, 0.0, 0.25, 0.0, 0.25]\n",
      "[1.0, 0.1, 0.0, 0.0, 1.0, 0.25, 0.0, 0.0, 0.5, 0.0, 0.0, 0.25, 0.0, 0.25]\n"
     ]
    }
   ],
   "source": [
    "ζ_t = zeros(14)\n",
    "ζ_t[1] = 1.0  \n",
    "ζ_t[2] = 0.10\n",
    "ζ_t[4 + l_ind(1,1,4)] = 1.0 #00\n",
    "ζ_t[4 + l_ind(1,2,4)] = 0.25 #01\n",
    "ζ_t[4 + l_ind(2,2,4)] = 0.5 #11\n",
    "ζ_t[4 + l_ind(3,3,4)] = 0.25\n",
    "ζ_t[4 + l_ind(4,4,4)] = 0.25\n",
    "\n",
    "#tr(g*vector_unpack(ζ_t)[2])\n",
    "#vector_unpack(ζ_t)[2]\n",
    "println(ζ_t)\n",
    "println(make_vector_TF!(ζ_t))"
   ]
  },
  {
   "cell_type": "code",
   "execution_count": 258,
   "metadata": {},
   "outputs": [
    {
     "data": {
      "text/plain": [
       "4×14 Matrix{Float64}:\n",
       " -569.932     16.0507     0.0    …   0.0      40.1761    0.0  40.1761\n",
       "   16.0507  -204.817      0.0       -0.0      -2.73716  -0.0  -2.73716\n",
       "    0.0        0.0     -182.557     -0.0       0.0      -0.0   0.0\n",
       "    0.0        0.0       -0.0       -2.73716   0.0      -0.0   0.0"
      ]
     },
     "metadata": {},
     "output_type": "display_data"
    }
   ],
   "source": [
    "\n",
    "ΦaA_f(ζ_t,p)"
   ]
  },
  {
   "cell_type": "code",
   "execution_count": 267,
   "metadata": {},
   "outputs": [
    {
     "data": {
      "text/plain": [
       "4×4 Matrix{Float64}:\n",
       " 18.6432    6.0818   15.0797   17.9213\n",
       "  6.0818  -29.826     1.55682   7.58679\n",
       " 15.0797    1.55682  12.0281   45.7031\n",
       " 17.9213    7.58679  45.7031   36.4411"
      ]
     },
     "metadata": {},
     "output_type": "display_data"
    }
   ],
   "source": [
    "#T = ΦaA_f(ζ_t,[-1.0,1.0,1.0])[1:D,1:D]\n",
    "T = ΦaA_f(make_vector_TF!(rand(L)),[-1.0,1.0,1.0])[1:D,1:D]"
   ]
  },
  {
   "cell_type": "code",
   "execution_count": 268,
   "metadata": {},
   "outputs": [
    {
     "data": {
      "text/plain": [
       "0.0"
      ]
     },
     "metadata": {},
     "output_type": "display_data"
    }
   ],
   "source": [
    "tr(g*T)"
   ]
  },
  {
   "cell_type": "code",
   "execution_count": 261,
   "metadata": {},
   "outputs": [
    {
     "data": {
      "text/plain": [
       "4×4 Matrix{Float64}:\n",
       " 124.185   -14.5102  -0.0     -0.0\n",
       " -14.5102   43.8331   0.0      0.0\n",
       "  -0.0       0.0     40.1761   0.0\n",
       "  -0.0       0.0      0.0     40.1761"
      ]
     },
     "metadata": {},
     "output_type": "display_data"
    }
   ],
   "source": [
    "A0 = vector2symmat(ΦaA_f(ζ_t,[-1.0,1.0,1.0])[1,D+1:end])"
   ]
  },
  {
   "cell_type": "code",
   "execution_count": 262,
   "metadata": {},
   "outputs": [
    {
     "data": {
      "text/plain": [
       "14×14 Matrix{Float64}:\n",
       " 4523.3    -285.362      0.0     …  -281.665     0.0     -281.665\n",
       " -285.362  1634.92       0.0          24.9288    0.0       24.9288\n",
       "    0.0       0.0     1444.19          0.0       0.0        0.0\n",
       "    0.0       0.0        0.0           0.0       0.0        0.0\n",
       " -876.17    131.812      0.0          31.7353    0.0       31.7353\n",
       "  263.624  -625.681      0.0     …    -8.84552   0.0       -8.84552\n",
       "    0.0       0.0     -563.329         0.0      -0.0        0.0\n",
       "    0.0       0.0       -0.0           0.0      -0.0        0.0\n",
       " -312.841    81.9545     0.0           6.75086   0.0        6.75086\n",
       "    0.0       0.0       49.8576        0.0       0.0        0.0\n",
       "    0.0       0.0        0.0     …     0.0       0.0        0.0\n",
       " -281.665    24.9288     0.0          18.7384    0.0        6.24612\n",
       "    0.0       0.0        0.0           0.0      24.9845     0.0\n",
       " -281.665    24.9288     0.0           6.24612   0.0       18.7384"
      ]
     },
     "metadata": {},
     "output_type": "display_data"
    }
   ],
   "source": [
    "Φ0AB_f(ζ_t,p)"
   ]
  },
  {
   "cell_type": "code",
   "execution_count": 263,
   "metadata": {},
   "outputs": [
    {
     "name": "stdout",
     "output_type": "stream",
     "text": [
      "  0.000675 seconds (399 allocations: 11.016 KiB)\n"
     ]
    },
    {
     "data": {
      "text/plain": [
       "263.62421706993825"
      ]
     },
     "metadata": {},
     "output_type": "display_data"
    }
   ],
   "source": [
    "@time Φ0AB_f(ζ_t,p)[6,1]"
   ]
  },
  {
   "cell_type": "code",
   "execution_count": 264,
   "metadata": {},
   "outputs": [],
   "source": [
    "\n"
   ]
  },
  {
   "cell_type": "code",
   "execution_count": 265,
   "metadata": {},
   "outputs": [
    {
     "data": {
      "text/plain": [
       "4×4×4 Array{Float64, 3}:\n",
       "[:, :, 1] =\n",
       "  6.39553e7  -4.92528e7  -2.86083e7  -3.12133e7\n",
       " -4.92528e7   3.7523e7    2.23816e7   2.4408e7\n",
       " -2.86083e7   2.23816e7   1.19599e7   1.41821e7\n",
       " -3.12133e7   2.4408e7    1.41821e7   1.44725e7\n",
       "\n",
       "[:, :, 2] =\n",
       " -4.92528e7   3.7523e7    2.23816e7   2.4408e7\n",
       "  3.7523e7   -2.82437e7  -1.73368e7  -1.88945e7\n",
       "  2.23816e7  -1.73368e7  -9.50981e6  -1.12696e7\n",
       "  2.4408e7   -1.88945e7  -1.12696e7  -1.14993e7\n",
       "\n",
       "[:, :, 3] =\n",
       " -2.86083e7   2.23816e7   1.19599e7   1.41821e7\n",
       "  2.23816e7  -1.73368e7  -9.50981e6  -1.12696e7\n",
       "  1.19599e7  -9.50981e6  -4.5822e6   -6.02612e6\n",
       "  1.41821e7  -1.12696e7  -6.02612e6  -6.68926e6\n",
       "\n",
       "[:, :, 4] =\n",
       " -3.12133e7   2.4408e7    1.41821e7   1.44725e7\n",
       "  2.4408e7   -1.88945e7  -1.12696e7  -1.14993e7\n",
       "  1.41821e7  -1.12696e7  -6.02612e6  -6.68926e6\n",
       "  1.44725e7  -1.14993e7  -6.68926e6  -6.29266e6"
      ]
     },
     "metadata": {},
     "output_type": "display_data"
    }
   ],
   "source": [
    "#AA = get_A(ΦaA_f(ζ_t,[-1.0,1.0,1.0]))\n",
    "AA = get_A(ΦaA_f(make_vector_TF!(rand(L)),[-1.0,1.0,1.0]))"
   ]
  },
  {
   "cell_type": "code",
   "execution_count": 266,
   "metadata": {},
   "outputs": [
    {
     "data": {
      "text/plain": [
       "5.774199962615967e-8"
      ]
     },
     "metadata": {},
     "output_type": "display_data"
    }
   ],
   "source": [
    "full_symmetry_check(AA)"
   ]
  },
  {
   "cell_type": "code",
   "execution_count": 270,
   "metadata": {},
   "outputs": [
    {
     "data": {
      "text/plain": [
       "4-element Vector{Float64}:\n",
       "  1.862645149230957e-9\n",
       "  5.587935447692871e-9\n",
       " -7.450580596923828e-9\n",
       "  5.587935447692871e-9"
      ]
     },
     "metadata": {},
     "output_type": "display_data"
    }
   ],
   "source": [
    "include(\"symbolics_ext.jl\")\n",
    "tr_A_12(AA,g)"
   ]
  },
  {
   "cell_type": "code",
   "execution_count": 227,
   "metadata": {},
   "outputs": [
    {
     "data": {
      "text/plain": [
       "8.881784197001252e-16"
      ]
     },
     "metadata": {},
     "output_type": "display_data"
    }
   ],
   "source": [
    "tr(g*AA[:,:,1])"
   ]
  },
  {
   "cell_type": "code",
   "execution_count": 244,
   "metadata": {},
   "outputs": [
    {
     "data": {
      "text/plain": [
       "-2.9862036909702994"
      ]
     },
     "metadata": {},
     "output_type": "display_data"
    }
   ],
   "source": [
    "AA[1,1,2]"
   ]
  },
  {
   "cell_type": "code",
   "execution_count": null,
   "metadata": {},
   "outputs": [],
   "source": []
  }
 ],
 "metadata": {
  "kernelspec": {
   "display_name": "Julia 1.7.0",
   "language": "julia",
   "name": "julia-1.7"
  },
  "language_info": {
   "file_extension": ".jl",
   "mimetype": "application/julia",
   "name": "julia",
   "version": "1.7.0"
  },
  "orig_nbformat": 4
 },
 "nbformat": 4,
 "nbformat_minor": 2
}
