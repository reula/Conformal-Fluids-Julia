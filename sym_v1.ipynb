{
 "cells": [
  {
   "cell_type": "code",
   "execution_count": 1,
   "metadata": {},
   "outputs": [],
   "source": [
    "using Symbolics\n",
    "using LinearAlgebra\n",
    "using Latexify\n",
    "using Plots"
   ]
  },
  {
   "cell_type": "code",
   "execution_count": 63,
   "metadata": {},
   "outputs": [
    {
     "data": {
      "text/plain": [
       "χ0AB (generic function with 1 method)"
      ]
     },
     "metadata": {},
     "output_type": "display_data"
    }
   ],
   "source": [
    "include(\"symbolics_ext.jl\")"
   ]
  },
  {
   "cell_type": "code",
   "execution_count": 60,
   "metadata": {},
   "outputs": [
    {
     "data": {
      "text/plain": [
       "3-element Vector{Float64}:\n",
       " 1.0\n",
       " 1.0\n",
       " 1.0"
      ]
     },
     "metadata": {},
     "output_type": "display_data"
    }
   ],
   "source": [
    "#D = Int64(4) #dimensions\n",
    "D = Int64(2) #dimensions\n",
    "L = (D+(D*(D+1)÷2))\n",
    "#ζ = Vector{Float64}(undef,L)\n",
    "#ζ_v = Vector{Float64}(undef,D)\n",
    "#ζ_t = Array{Float64}(undef,D,D)\n",
    "g = make_g(D)\n",
    "ζ = rand(L)\n",
    "p = ([1.0;1.0;1.0])"
   ]
  },
  {
   "cell_type": "code",
   "execution_count": 61,
   "metadata": {},
   "outputs": [
    {
     "data": {
      "text/plain": [
       "5.01481738143631"
      ]
     },
     "metadata": {},
     "output_type": "display_data"
    }
   ],
   "source": [
    "Φ_new(ζ,p)"
   ]
  },
  {
   "cell_type": "code",
   "execution_count": 27,
   "metadata": {},
   "outputs": [],
   "source": [
    "@variables vs[1:L] ps[1:3]\n",
    "vst = [vs[i] for i ∈ 1:L]\n",
    "∇ζ = Symbolics.gradient(Φ_new(vs,ps),vst);"
   ]
  },
  {
   "cell_type": "code",
   "execution_count": 28,
   "metadata": {},
   "outputs": [
    {
     "data": {
      "text/plain": [
       "#17 (generic function with 1 method)"
      ]
     },
     "metadata": {},
     "output_type": "display_data"
    }
   ],
   "source": [
    "∇ζ_exp = Symbolics.build_function(∇ζ,vs,ps);\n",
    "∇ζ_f = eval(∇ζ_exp[1])"
   ]
  },
  {
   "cell_type": "code",
   "execution_count": 29,
   "metadata": {},
   "outputs": [
    {
     "data": {
      "text/plain": [
       "5-element Vector{Float64}:\n",
       " -157.81467808601488\n",
       "  102.37921352963512\n",
       "   73.82301131178804\n",
       "  -67.61181001496291\n",
       "   18.58768434246372"
      ]
     },
     "metadata": {},
     "output_type": "display_data"
    }
   ],
   "source": [
    "∇ζ_f(ζ,p)"
   ]
  },
  {
   "cell_type": "code",
   "execution_count": 32,
   "metadata": {},
   "outputs": [],
   "source": [
    "J∇ζ = Symbolics.jacobian(∇ζ_f(vs,ps),vst);"
   ]
  },
  {
   "cell_type": "code",
   "execution_count": 33,
   "metadata": {},
   "outputs": [
    {
     "data": {
      "text/plain": [
       "#19 (generic function with 1 method)"
      ]
     },
     "metadata": {},
     "output_type": "display_data"
    }
   ],
   "source": [
    "J∇ζ_exp = Symbolics.build_function(J∇ζ,vs,ps);\n",
    "J∇ζ_f = eval(J∇ζ_exp[1])"
   ]
  },
  {
   "cell_type": "code",
   "execution_count": 34,
   "metadata": {},
   "outputs": [
    {
     "data": {
      "text/plain": [
       "5×5 Matrix{Float64}:\n",
       "  1743.19   -1329.02   -628.069    706.447   -208.786\n",
       " -1329.02    1459.72    431.921   -787.793    258.51\n",
       "  -628.069    431.921   144.84    -141.016     32.7796\n",
       "   706.447   -787.793  -141.016    253.877    -81.2089\n",
       "  -208.786    258.51     32.7796   -81.2089    43.4773"
      ]
     },
     "metadata": {},
     "output_type": "display_data"
    }
   ],
   "source": [
    "J∇ζ_f(ζ,p)"
   ]
  },
  {
   "cell_type": "code",
   "execution_count": 52,
   "metadata": {},
   "outputs": [],
   "source": [
    "vs_a = [vs[i] for i ∈ 1:D]\n",
    "ΦaA = χaA(Φ_new(vs,ps),vs_a,vst);"
   ]
  },
  {
   "cell_type": "code",
   "execution_count": 53,
   "metadata": {},
   "outputs": [
    {
     "data": {
      "text/plain": [
       "#47 (generic function with 1 method)"
      ]
     },
     "metadata": {},
     "output_type": "display_data"
    }
   ],
   "source": [
    "ΦaA_exp = Symbolics.build_function(ΦaA,vs,ps);\n",
    "ΦaA_f = eval(ΦaA_exp[1])"
   ]
  },
  {
   "cell_type": "code",
   "execution_count": 55,
   "metadata": {},
   "outputs": [
    {
     "data": {
      "text/plain": [
       "2×5 Matrix{Float64}:\n",
       "  1.29491e6  -1.29375e6   74722.5  -1.36087e5   61301.2\n",
       " -1.29375e6   1.29318e6  -74003.3   1.35931e5  -62019.8"
      ]
     },
     "metadata": {},
     "output_type": "display_data"
    }
   ],
   "source": [
    "ΦaA_f(ζ,p)"
   ]
  },
  {
   "cell_type": "code",
   "execution_count": 76,
   "metadata": {},
   "outputs": [],
   "source": [
    "include(\"symbolics_ext.jl\")\n",
    "Φ0AB = χ0AB(Φ_new(vs,ps),vst);"
   ]
  },
  {
   "cell_type": "code",
   "execution_count": 77,
   "metadata": {},
   "outputs": [
    {
     "data": {
      "text/plain": [
       "#79 (generic function with 1 method)"
      ]
     },
     "metadata": {},
     "output_type": "display_data"
    }
   ],
   "source": [
    "Φ0AB_exp = Symbolics.build_function(Φ0AB,vs,ps);\n",
    "Φ0AB_f = eval(Φ0AB_exp[1])"
   ]
  },
  {
   "cell_type": "code",
   "execution_count": 78,
   "metadata": {},
   "outputs": [
    {
     "data": {
      "text/plain": [
       "5×5 Matrix{Float64}:\n",
       "  5241.48  -5417.3    2423.28   -5187.37   2838.99\n",
       " -5417.3    4973.62  -2334.42    5166.32  -2726.48\n",
       "  2423.28  -2334.42    635.092  -1395.57    751.37\n",
       " -5187.37   5166.32  -1395.57    3206.37  -1826.03\n",
       "  2838.99  -2726.48    751.37   -1826.03   1068.54"
      ]
     },
     "metadata": {},
     "output_type": "display_data"
    }
   ],
   "source": [
    "Φ0AB_f(ζ,p)"
   ]
  },
  {
   "cell_type": "code",
   "execution_count": null,
   "metadata": {},
   "outputs": [],
   "source": []
  }
 ],
 "metadata": {
  "kernelspec": {
   "display_name": "Julia 1.7.0",
   "language": "julia",
   "name": "julia-1.7"
  },
  "language_info": {
   "file_extension": ".jl",
   "mimetype": "application/julia",
   "name": "julia",
   "version": "1.7.0"
  },
  "orig_nbformat": 4
 },
 "nbformat": 4,
 "nbformat_minor": 2
}
