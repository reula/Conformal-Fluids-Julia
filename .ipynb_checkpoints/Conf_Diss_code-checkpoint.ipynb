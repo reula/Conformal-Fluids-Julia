{
 "cells": [
  {
   "cell_type": "markdown",
   "metadata": {},
   "source": [
    "## Conformally invariant dissipative relativistic fluid\n",
    "\n",
    "Here we solve numerically the equations deduced in \\ref{xxx}\n",
    "\n",
    "### To Do:\n",
    "\n",
    "1. Use KT also (probably has a mistake to check first)\n",
    "2. Compare with the other code\n",
    "3. Try some other data\n",
    "4. Find some interesting (physically) data. The double shock is interesting and could be measured. "
   ]
  },
  {
   "cell_type": "code",
   "execution_count": 1,
   "metadata": {
    "tags": []
   },
   "outputs": [],
   "source": [
    "import Pkg; \n",
    "#Pkg.activate(mktempdir())\n",
    "#Pkg.add([\n",
    "#    Pkg.PackageSpec(name=\"DifferentialEquations\", version=\"6.16.0\"),\n",
    "#    Pkg.PackageSpec(name=\"Symbolics\", version=\"0.1.22\"),\n",
    "#    Pkg.PackageSpec(name=\"ForwardDiff\", version=\"0.10\"),\n",
    "#    Pkg.PackageSpec(name=\"Plots\", version=\"1\"),\n",
    "#    Pkg.PackageSpec(name=\"LaTeXStrings\", version=\"1\"),\n",
    "#    Pkg.PackageSpec(name=\"NonlinearSolve\", version=\"0.3\"),\n",
    "#    Pkg.PackageSpec(name=\"StaticArrays\", version=\"0.12\")\n",
    "    #Pkg.PackageSpec(name=\"OrdinaryDiffEq\", version=\"6.17.0\"),\n",
    "#    ])\n",
    "#Pkg.add(\"NonlinearSolve\")\n",
    "#Pkg.add(\"StaticArrays\")\n",
    "#Pkg.add(\"IJuliaBell\")\n",
    "#Pkg.add(\"Symbolics@0.1.22\")\n",
    "#Pkg.add(\"OrdinaryDiffEq@6.17.0\")\n",
    "#using NonlinearSolve \n",
    "using StaticArrays\n",
    "using Symbolics\n",
    "using OrdinaryDiffEq\n",
    "using Plots\n",
    "using FileIO\n",
    "using IJuliaBell"
   ]
  },
  {
   "cell_type": "code",
   "execution_count": 2,
   "metadata": {},
   "outputs": [],
   "source": [
    "#mkdir(\"Resultados/Soluciones\")"
   ]
  },
  {
   "cell_type": "markdown",
   "metadata": {},
   "source": [
    "We add the modules needed for the computation:\n",
    "\n",
    "    choques_utils are the mp5 and kt shock capturing schemes\n",
    "    \n",
    "    Flux_functions_ext contain the fluxes and sources for the system\n",
    "    \n",
    "    inversion_ext the inversion between conservative and fluid quantities\n",
    "    \n",
    "The ext means that we are considering a vector of 10 variables, 5 conservative and 5 fluid variables. The fluid variables are evolved with a zero time derivative, and are updated inside the evolution equation using the inversion function."
   ]
  },
  {
   "cell_type": "code",
   "execution_count": 3,
   "metadata": {},
   "outputs": [
    {
     "data": {
      "text/plain": [
       "5×5 Matrix{Rational{Int64}}:\n",
       " 1//1  0//1  0//1  0//1  0//1\n",
       " 0//1  1//1  0//1  0//1  0//1\n",
       " 0//1  0//1  3//4  0//1  1//4\n",
       " 0//1  0//1  0//1  1//2  0//1\n",
       " 0//1  0//1  1//4  0//1  3//4"
      ]
     },
     "execution_count": 3,
     "metadata": {},
     "output_type": "execute_result"
    }
   ],
   "source": [
    "include(\"inversion_ext.jl\")"
   ]
  },
  {
   "cell_type": "code",
   "execution_count": 4,
   "metadata": {},
   "outputs": [
    {
     "data": {
      "text/plain": [
       "10"
      ]
     },
     "execution_count": 4,
     "metadata": {},
     "output_type": "execute_result"
    }
   ],
   "source": [
    "U=10 # number of fields (double the number of fields, one for fluid and the other for conservative quantities)"
   ]
  },
  {
   "cell_type": "code",
   "execution_count": 5,
   "metadata": {},
   "outputs": [
    {
     "data": {
      "text/plain": [
       "Speed_max (generic function with 1 method)"
      ]
     },
     "execution_count": 5,
     "metadata": {},
     "output_type": "execute_result"
    }
   ],
   "source": [
    "include(\"choques_utils.jl\") # all functions needed for evolution\n",
    "include(\"Flux_function_ext.jl\")"
   ]
  },
  {
   "cell_type": "markdown",
   "metadata": {},
   "source": [
    "## Create initial data"
   ]
  },
  {
   "cell_type": "code",
   "execution_count": 55,
   "metadata": {},
   "outputs": [
    {
     "data": {
      "text/plain": [
       "create_initial_data (generic function with 1 method)"
      ]
     },
     "execution_count": 55,
     "metadata": {},
     "output_type": "execute_result"
    }
   ],
   "source": [
    "include(\"initial_data.jl\")"
   ]
  },
  {
   "cell_type": "markdown",
   "metadata": {
    "tags": []
   },
   "source": [
    "The initial data is created by giving a string characterizing it.\n",
    "\n",
    "According to the string, inside the function we create the initial data\n",
    "\n",
    "Some set of parameters:\n",
    "\n",
    "For instance: $v_0(x) = flu_0[i,2] = 0.1 + 0.1 * (x[i] - x0)^4 * (x[i] - x1)^4 / (x1-x0)^8 * 250 $ in the interval $[0.4,0.6]$\n",
    "\n",
    "$\\mu = flu_0[i,1] = -1.$\n",
    "\n",
    "You might give instead the conserved fields and find the fluid ones or viceversa. \n",
    "\n",
    "Below we look at different possibilities. \n",
    "Notice that here we also include several other evolution parameters since they can change according to the initial data chosen.\n"
   ]
  },
  {
   "cell_type": "code",
   "execution_count": 56,
   "metadata": {},
   "outputs": [
    {
     "data": {
      "text/plain": [
       "true"
      ]
     },
     "execution_count": 56,
     "metadata": {},
     "output_type": "execute_result"
    }
   ],
   "source": [
    "Euler = false\n",
    "sod = false    # No implementado\n",
    "speed_pulse = false # a simple speed pulse (no muy interesante pues hay pulsos en las dos direcciones)\n",
    "temperature_pulse = false # a simple temperature μ pulse (no implementado)\n",
    "small_pulse_to_the_right = false # low velocity perturbation pulse in just one direction\n",
    "big_pulse_to_the_right = false # Choques (la velocidad no es muy alta todavía)\n",
    "constant_fields = false # todo constante\n",
    "big_pulse_negative_I = false\n",
    "only_diss = false\n",
    "# poner a continuación la que uno quiere usar con un true (así todos los demás quedan en false)\n",
    "\n",
    "#big_pulse_to_the_right = true\n",
    "#big_pulse_to_the_right_E = true\n",
    "#big_pulse_negative_I = true   #no parece funcionar\n",
    "#small_pulse_to_the_right = true\n",
    "#only_diss = true\n",
    "speed_pulse = true\n",
    "#constant_fields = true\n",
    "\n",
    "#Euler = true"
   ]
  },
  {
   "cell_type": "code",
   "execution_count": 88,
   "metadata": {},
   "outputs": [
    {
     "data": {
      "text/plain": [
       "80.0"
      ]
     },
     "execution_count": 88,
     "metadata": {},
     "output_type": "execute_result"
    }
   ],
   "source": [
    "if speed_pulse\n",
    "    name = \"speed_pulse\"\n",
    "    out_name = \"speed_pulse\" \n",
    "    L=2.4 # Length of the integration region\n",
    "    M=600 # number of space-points in the discretization\n",
    "    tf=8. # final time\n",
    "    dx = L/M\n",
    "    dt = 0.01 * dx # this depends on the maximal propagation speed\n",
    "    tol = 10^(-10) # error tolerance in inversion function (Newton-Raphson)\n",
    "    iter_max = 40  # maximum number of NR iterations\n",
    "\n",
    "    χ = [1.,1.,0.01]# [1.,1.,0.06]# the equation parameters \n",
    "    ξ = 100π*[-10; 15; -1] # new source parámeters     1/κ, 1/λ, 1/η \n",
    "    \n",
    "elseif sod # not yet implemnted it would be important!\n",
    "    name = \"sod\" \n",
    "    out_name = \"sod\" \n",
    "    L=1. # Length of the integration region\n",
    "    M=400 # number of space-points in the discretization\n",
    "    tf=2. # final time\n",
    "    dx = L/M\n",
    "    dt = 0.1 * dx # this depends on the maximal propagation speed\n",
    "    tol = 10^(-10) # error tolerance in inversion function (Newton-Raphson)\n",
    "    iter_max = 40  # maximum number of NR iterations\n",
    "\n",
    "    χ = [-1,-1,-20.] # the equation parameters \n",
    "    ξ = -100*π*[1, -15, -1] # new source parámeters     1/κ, 1/λ, 1/η \n",
    "\n",
    "elseif  small_pulse_to_the_right\n",
    "    name = \"small_pulse_to_the_right\"\n",
    "    out_name = \"small_right_p\" \n",
    "    L=1. # Length of the integration region\n",
    "    M=600 # number of space-points in the discretization\n",
    "    tf=4. # 4. final time\n",
    "    dx = L/M\n",
    "    dt = 0.1 * dx # this depends on the maximal propagation speed\n",
    "    tol = 10^(-10) # error tolerance in inversion function (Newton-Raphson)\n",
    "    iter_max = 40  # maximum number of NR iterations\n",
    "    χ = [-1,-1,-20.] # the equation parameters \n",
    "    ξ = -100*π*[1, -15, -1] # new source parámeters     1/κ, 1/λ, 1/η \n",
    "    \n",
    "elseif  big_pulse_to_the_right\n",
    "    name = \"big_pulse_to_the_right\"\n",
    "    out_name = \"big_right_long\" \n",
    "    L=4. # Length of the integration region\n",
    "    M=600 # number of space-points in the discretization\n",
    "    tf=80. # final time\n",
    "    dx = L/M\n",
    "    dt = 0.1 * dx # this depends on the maximal propagation speed\n",
    "    tol = 10^(-6) # error tolerance in inversion function (Newton-Raphson)\n",
    "    iter_max = 40  # maximum number of NR iterations\n",
    "    \n",
    "    χ = [1.,1.,0.01]# [1.,1.,0.06]# the equation parameters \n",
    "    ξ = 100π*[-10; 15; -1] # new source parámeters     1/κ, 1/λ, 1/η \n",
    "    \n",
    "elseif  constant_fields\n",
    "    name = \"constant_fields\"\n",
    "    out_name = \"constant_fields\" \n",
    "    L=1. # Length of the integration region\n",
    "    M=6 # number of space-points in the discretization\n",
    "    tf=10. # final time\n",
    "    dx = L/M\n",
    "    dt = 0.1 * dx # this depends on the maximal propagation speed\n",
    "    tol = 10^(-10) # error tolerance in inversion function (Newton-Raphson)\n",
    "    iter_max = 400  # maximum number of NR iterations\n",
    "    \n",
    "    χ = [-1,-1,-20.] # the equation parameters \n",
    "    ξ = -100*π*[1, -15, -1] # new source parámeters     1/κ, 1/λ, 1/η \n",
    "    \n",
    "elseif  only_diss # only runs the source\n",
    "    name = \"only_diss\"\n",
    "    out_name = name\n",
    "    L=4. # Length of the integration region\n",
    "    M=600 # number of space-points in the discretization\n",
    "    tf=1. # final time\n",
    "    dx = L/M\n",
    "    dt = 0.1 * dx # this depends on the maximal propagation speed\n",
    "    tol = 10^(-10) # error tolerance in inversion function (Newton-Raphson)\n",
    "    iter_max = 400  # maximum number of NR iterations\n",
    "    \n",
    "    χ = [-1,-1,-20.] # the equation parameters \n",
    "    ξ = -100*π*[1, -15, -1]; # new source parámeters     1/κ, 1/λ, 1/η  \n",
    "end\n",
    "tf"
   ]
  },
  {
   "cell_type": "code",
   "execution_count": 89,
   "metadata": {},
   "outputs": [],
   "source": [
    "par_eq = (χ, ξ) # parameters to use on the equations \n",
    "par_inv = (χ, tol, iter_max, U, M, f2c!, Jf2c) # parameters for the inversion\n",
    "    \n",
    "if Euler\n",
    "    χ[2] = 0.\n",
    "    χ[3] = 0.\n",
    "    out_name = name*\"_E\"\n",
    "#    par_eq = (χ, ξ) # parameters to use on the equations \n",
    "#    par_inv = (χ, tol, iter_max, U, M, f2c!, Jac_alt) # parameters for the inversion \n",
    "end"
   ]
  },
  {
   "cell_type": "markdown",
   "metadata": {},
   "source": [
    "The fields used for evolution. "
   ]
  },
  {
   "cell_type": "code",
   "execution_count": 90,
   "metadata": {
    "tags": []
   },
   "outputs": [
    {
     "data": {
      "text/plain": [
       "3-element Vector{Float64}:\n",
       " 1.0\n",
       " 1.0\n",
       " 0.01"
      ]
     },
     "execution_count": 90,
     "metadata": {},
     "output_type": "execute_result"
    }
   ],
   "source": [
    "u_i = zeros(M*U) # flux variables for the initial data (these are used for the flux function)\n",
    "du = zeros(M*U) # for the rhs\n",
    "par_inidat = χ, U, M, dx, Euler, f2c!, Jf2c\n",
    "u_i = create_initial_data(name, u_i, par_inidat)\n",
    "con_0 = view(reshape(u_i,(M,U)),:,1:U÷2)\n",
    "flu_0 = view(reshape(u_i,(M,U)),:,U÷2+1:U);\n",
    "χ"
   ]
  },
  {
   "cell_type": "code",
   "execution_count": null,
   "metadata": {},
   "outputs": [],
   "source": [
    "x = [(i-1)*dx for i in 1:M]\n",
    "#plot(x,flu_0[:,1]) \n",
    "plot(x,flu_0[:,1] .+ 6.)\n",
    "plot!(x,con_0[:,1]) .- 0.17)"
   ]
  },
  {
   "cell_type": "code",
   "execution_count": 92,
   "metadata": {
    "tags": []
   },
   "outputs": [
    {
     "data": {
      "image/svg+xml": [
       "<?xml version=\"1.0\" encoding=\"utf-8\"?>\n",
       "<svg xmlns=\"http://www.w3.org/2000/svg\" xmlns:xlink=\"http://www.w3.org/1999/xlink\" width=\"600\" height=\"400\" viewBox=\"0 0 2400 1600\">\n",
       "<defs>\n",
       "  <clipPath id=\"clip150\">\n",
       "    <rect x=\"0\" y=\"0\" width=\"2400\" height=\"1600\"/>\n",
       "  </clipPath>\n",
       "</defs>\n",
       "<path clip-path=\"url(#clip150)\" d=\"\n",
       "M0 1600 L2400 1600 L2400 0 L0 0  Z\n",
       "  \" fill=\"#ffffff\" fill-rule=\"evenodd\" fill-opacity=\"1\"/>\n",
       "<defs>\n",
       "  <clipPath id=\"clip151\">\n",
       "    <rect x=\"480\" y=\"0\" width=\"1681\" height=\"1600\"/>\n",
       "  </clipPath>\n",
       "</defs>\n",
       "<path clip-path=\"url(#clip150)\" d=\"\n",
       "M192.709 1486.45 L2352.76 1486.45 L2352.76 47.2441 L192.709 47.2441  Z\n",
       "  \" fill=\"#ffffff\" fill-rule=\"evenodd\" fill-opacity=\"1\"/>\n",
       "<defs>\n",
       "  <clipPath id=\"clip152\">\n",
       "    <rect x=\"192\" y=\"47\" width=\"2161\" height=\"1440\"/>\n",
       "  </clipPath>\n",
       "</defs>\n",
       "<polyline clip-path=\"url(#clip152)\" style=\"stroke:#000000; stroke-linecap:butt; stroke-linejoin:round; stroke-width:2; stroke-opacity:0.1; fill:none\" points=\"\n",
       "  253.843,1486.45 253.843,47.2441 \n",
       "  \"/>\n",
       "<polyline clip-path=\"url(#clip152)\" style=\"stroke:#000000; stroke-linecap:butt; stroke-linejoin:round; stroke-width:2; stroke-opacity:0.1; fill:none\" points=\"\n",
       "  679.089,1486.45 679.089,47.2441 \n",
       "  \"/>\n",
       "<polyline clip-path=\"url(#clip152)\" style=\"stroke:#000000; stroke-linecap:butt; stroke-linejoin:round; stroke-width:2; stroke-opacity:0.1; fill:none\" points=\"\n",
       "  1104.34,1486.45 1104.34,47.2441 \n",
       "  \"/>\n",
       "<polyline clip-path=\"url(#clip152)\" style=\"stroke:#000000; stroke-linecap:butt; stroke-linejoin:round; stroke-width:2; stroke-opacity:0.1; fill:none\" points=\"\n",
       "  1529.58,1486.45 1529.58,47.2441 \n",
       "  \"/>\n",
       "<polyline clip-path=\"url(#clip152)\" style=\"stroke:#000000; stroke-linecap:butt; stroke-linejoin:round; stroke-width:2; stroke-opacity:0.1; fill:none\" points=\"\n",
       "  1954.83,1486.45 1954.83,47.2441 \n",
       "  \"/>\n",
       "<polyline clip-path=\"url(#clip150)\" style=\"stroke:#000000; stroke-linecap:butt; stroke-linejoin:round; stroke-width:4; stroke-opacity:1; fill:none\" points=\"\n",
       "  192.709,1486.45 2352.76,1486.45 \n",
       "  \"/>\n",
       "<polyline clip-path=\"url(#clip150)\" style=\"stroke:#000000; stroke-linecap:butt; stroke-linejoin:round; stroke-width:4; stroke-opacity:1; fill:none\" points=\"\n",
       "  253.843,1486.45 253.843,1469.18 \n",
       "  \"/>\n",
       "<polyline clip-path=\"url(#clip150)\" style=\"stroke:#000000; stroke-linecap:butt; stroke-linejoin:round; stroke-width:4; stroke-opacity:1; fill:none\" points=\"\n",
       "  679.089,1486.45 679.089,1469.18 \n",
       "  \"/>\n",
       "<polyline clip-path=\"url(#clip150)\" style=\"stroke:#000000; stroke-linecap:butt; stroke-linejoin:round; stroke-width:4; stroke-opacity:1; fill:none\" points=\"\n",
       "  1104.34,1486.45 1104.34,1469.18 \n",
       "  \"/>\n",
       "<polyline clip-path=\"url(#clip150)\" style=\"stroke:#000000; stroke-linecap:butt; stroke-linejoin:round; stroke-width:4; stroke-opacity:1; fill:none\" points=\"\n",
       "  1529.58,1486.45 1529.58,1469.18 \n",
       "  \"/>\n",
       "<polyline clip-path=\"url(#clip150)\" style=\"stroke:#000000; stroke-linecap:butt; stroke-linejoin:round; stroke-width:4; stroke-opacity:1; fill:none\" points=\"\n",
       "  1954.83,1486.45 1954.83,1469.18 \n",
       "  \"/>\n",
       "<path clip-path=\"url(#clip150)\" d=\"M231.227 1515.64 Q227.616 1515.64 225.787 1519.2 Q223.982 1522.75 223.982 1529.87 Q223.982 1536.98 225.787 1540.55 Q227.616 1544.09 231.227 1544.09 Q234.861 1544.09 236.667 1540.55 Q238.495 1536.98 238.495 1529.87 Q238.495 1522.75 236.667 1519.2 Q234.861 1515.64 231.227 1515.64 M231.227 1511.93 Q237.037 1511.93 240.093 1516.54 Q243.171 1521.12 243.171 1529.87 Q243.171 1538.6 240.093 1543.21 Q237.037 1547.79 231.227 1547.79 Q225.417 1547.79 222.338 1543.21 Q219.283 1538.6 219.283 1529.87 Q219.283 1521.12 222.338 1516.54 Q225.417 1511.93 231.227 1511.93 Z\" fill=\"#000000\" fill-rule=\"evenodd\" fill-opacity=\"1\" /><path clip-path=\"url(#clip150)\" d=\"M251.389 1541.24 L256.273 1541.24 L256.273 1547.12 L251.389 1547.12 L251.389 1541.24 Z\" fill=\"#000000\" fill-rule=\"evenodd\" fill-opacity=\"1\" /><path clip-path=\"url(#clip150)\" d=\"M276.458 1515.64 Q272.847 1515.64 271.018 1519.2 Q269.213 1522.75 269.213 1529.87 Q269.213 1536.98 271.018 1540.55 Q272.847 1544.09 276.458 1544.09 Q280.092 1544.09 281.898 1540.55 Q283.727 1536.98 283.727 1529.87 Q283.727 1522.75 281.898 1519.2 Q280.092 1515.64 276.458 1515.64 M276.458 1511.93 Q282.268 1511.93 285.324 1516.54 Q288.403 1521.12 288.403 1529.87 Q288.403 1538.6 285.324 1543.21 Q282.268 1547.79 276.458 1547.79 Q270.648 1547.79 267.569 1543.21 Q264.514 1538.6 264.514 1529.87 Q264.514 1521.12 267.569 1516.54 Q270.648 1511.93 276.458 1511.93 Z\" fill=\"#000000\" fill-rule=\"evenodd\" fill-opacity=\"1\" /><path clip-path=\"url(#clip150)\" d=\"M656.971 1515.64 Q653.36 1515.64 651.531 1519.2 Q649.726 1522.75 649.726 1529.87 Q649.726 1536.98 651.531 1540.55 Q653.36 1544.09 656.971 1544.09 Q660.605 1544.09 662.411 1540.55 Q664.239 1536.98 664.239 1529.87 Q664.239 1522.75 662.411 1519.2 Q660.605 1515.64 656.971 1515.64 M656.971 1511.93 Q662.781 1511.93 665.837 1516.54 Q668.915 1521.12 668.915 1529.87 Q668.915 1538.6 665.837 1543.21 Q662.781 1547.79 656.971 1547.79 Q651.161 1547.79 648.082 1543.21 Q645.026 1538.6 645.026 1529.87 Q645.026 1521.12 648.082 1516.54 Q651.161 1511.93 656.971 1511.93 Z\" fill=\"#000000\" fill-rule=\"evenodd\" fill-opacity=\"1\" /><path clip-path=\"url(#clip150)\" d=\"M677.133 1541.24 L682.017 1541.24 L682.017 1547.12 L677.133 1547.12 L677.133 1541.24 Z\" fill=\"#000000\" fill-rule=\"evenodd\" fill-opacity=\"1\" /><path clip-path=\"url(#clip150)\" d=\"M692.248 1512.56 L710.605 1512.56 L710.605 1516.5 L696.531 1516.5 L696.531 1524.97 Q697.549 1524.62 698.568 1524.46 Q699.586 1524.27 700.605 1524.27 Q706.392 1524.27 709.771 1527.44 Q713.151 1530.62 713.151 1536.03 Q713.151 1541.61 709.679 1544.71 Q706.207 1547.79 699.887 1547.79 Q697.711 1547.79 695.443 1547.42 Q693.198 1547.05 690.79 1546.31 L690.79 1541.61 Q692.873 1542.74 695.096 1543.3 Q697.318 1543.86 699.795 1543.86 Q703.799 1543.86 706.137 1541.75 Q708.475 1539.64 708.475 1536.03 Q708.475 1532.42 706.137 1530.31 Q703.799 1528.21 699.795 1528.21 Q697.92 1528.21 696.045 1528.62 Q694.193 1529.04 692.248 1529.92 L692.248 1512.56 Z\" fill=\"#000000\" fill-rule=\"evenodd\" fill-opacity=\"1\" /><path clip-path=\"url(#clip150)\" d=\"M1071.49 1543.18 L1079.13 1543.18 L1079.13 1516.82 L1070.82 1518.49 L1070.82 1514.23 L1079.08 1512.56 L1083.76 1512.56 L1083.76 1543.18 L1091.4 1543.18 L1091.4 1547.12 L1071.49 1547.12 L1071.49 1543.18 Z\" fill=\"#000000\" fill-rule=\"evenodd\" fill-opacity=\"1\" /><path clip-path=\"url(#clip150)\" d=\"M1100.84 1541.24 L1105.72 1541.24 L1105.72 1547.12 L1100.84 1547.12 L1100.84 1541.24 Z\" fill=\"#000000\" fill-rule=\"evenodd\" fill-opacity=\"1\" /><path clip-path=\"url(#clip150)\" d=\"M1125.91 1515.64 Q1122.3 1515.64 1120.47 1519.2 Q1118.66 1522.75 1118.66 1529.87 Q1118.66 1536.98 1120.47 1540.55 Q1122.3 1544.09 1125.91 1544.09 Q1129.54 1544.09 1131.35 1540.55 Q1133.18 1536.98 1133.18 1529.87 Q1133.18 1522.75 1131.35 1519.2 Q1129.54 1515.64 1125.91 1515.64 M1125.91 1511.93 Q1131.72 1511.93 1134.77 1516.54 Q1137.85 1521.12 1137.85 1529.87 Q1137.85 1538.6 1134.77 1543.21 Q1131.72 1547.79 1125.91 1547.79 Q1120.1 1547.79 1117.02 1543.21 Q1113.96 1538.6 1113.96 1529.87 Q1113.96 1521.12 1117.02 1516.54 Q1120.1 1511.93 1125.91 1511.93 Z\" fill=\"#000000\" fill-rule=\"evenodd\" fill-opacity=\"1\" /><path clip-path=\"url(#clip150)\" d=\"M1497.23 1543.18 L1504.87 1543.18 L1504.87 1516.82 L1496.56 1518.49 L1496.56 1514.23 L1504.82 1512.56 L1509.5 1512.56 L1509.5 1543.18 L1517.14 1543.18 L1517.14 1547.12 L1497.23 1547.12 L1497.23 1543.18 Z\" fill=\"#000000\" fill-rule=\"evenodd\" fill-opacity=\"1\" /><path clip-path=\"url(#clip150)\" d=\"M1526.58 1541.24 L1531.47 1541.24 L1531.47 1547.12 L1526.58 1547.12 L1526.58 1541.24 Z\" fill=\"#000000\" fill-rule=\"evenodd\" fill-opacity=\"1\" /><path clip-path=\"url(#clip150)\" d=\"M1541.7 1512.56 L1560.06 1512.56 L1560.06 1516.5 L1545.98 1516.5 L1545.98 1524.97 Q1547 1524.62 1548.02 1524.46 Q1549.04 1524.27 1550.06 1524.27 Q1555.84 1524.27 1559.22 1527.44 Q1562.6 1530.62 1562.6 1536.03 Q1562.6 1541.61 1559.13 1544.71 Q1555.66 1547.79 1549.34 1547.79 Q1547.16 1547.79 1544.89 1547.42 Q1542.65 1547.05 1540.24 1546.31 L1540.24 1541.61 Q1542.32 1542.74 1544.55 1543.3 Q1546.77 1543.86 1549.25 1543.86 Q1553.25 1543.86 1555.59 1541.75 Q1557.93 1539.64 1557.93 1536.03 Q1557.93 1532.42 1555.59 1530.31 Q1553.25 1528.21 1549.25 1528.21 Q1547.37 1528.21 1545.5 1528.62 Q1543.64 1529.04 1541.7 1529.92 L1541.7 1512.56 Z\" fill=\"#000000\" fill-rule=\"evenodd\" fill-opacity=\"1\" /><path clip-path=\"url(#clip150)\" d=\"M1926.07 1543.18 L1942.39 1543.18 L1942.39 1547.12 L1920.44 1547.12 L1920.44 1543.18 Q1923.1 1540.43 1927.69 1535.8 Q1932.29 1531.15 1933.47 1529.81 Q1935.72 1527.28 1936.6 1525.55 Q1937.5 1523.79 1937.5 1522.1 Q1937.5 1519.34 1935.56 1517.61 Q1933.64 1515.87 1930.53 1515.87 Q1928.33 1515.87 1925.88 1516.63 Q1923.45 1517.4 1920.67 1518.95 L1920.67 1514.23 Q1923.5 1513.09 1925.95 1512.51 Q1928.4 1511.93 1930.44 1511.93 Q1935.81 1511.93 1939.01 1514.62 Q1942.2 1517.31 1942.2 1521.8 Q1942.2 1523.93 1941.39 1525.85 Q1940.6 1527.74 1938.5 1530.34 Q1937.92 1531.01 1934.82 1534.23 Q1931.71 1537.42 1926.07 1543.18 Z\" fill=\"#000000\" fill-rule=\"evenodd\" fill-opacity=\"1\" /><path clip-path=\"url(#clip150)\" d=\"M1952.2 1541.24 L1957.08 1541.24 L1957.08 1547.12 L1952.2 1547.12 L1952.2 1541.24 Z\" fill=\"#000000\" fill-rule=\"evenodd\" fill-opacity=\"1\" /><path clip-path=\"url(#clip150)\" d=\"M1977.27 1515.64 Q1973.66 1515.64 1971.83 1519.2 Q1970.02 1522.75 1970.02 1529.87 Q1970.02 1536.98 1971.83 1540.55 Q1973.66 1544.09 1977.27 1544.09 Q1980.9 1544.09 1982.71 1540.55 Q1984.54 1536.98 1984.54 1529.87 Q1984.54 1522.75 1982.71 1519.2 Q1980.9 1515.64 1977.27 1515.64 M1977.27 1511.93 Q1983.08 1511.93 1986.14 1516.54 Q1989.21 1521.12 1989.21 1529.87 Q1989.21 1538.6 1986.14 1543.21 Q1983.08 1547.79 1977.27 1547.79 Q1971.46 1547.79 1968.38 1543.21 Q1965.33 1538.6 1965.33 1529.87 Q1965.33 1521.12 1968.38 1516.54 Q1971.46 1511.93 1977.27 1511.93 Z\" fill=\"#000000\" fill-rule=\"evenodd\" fill-opacity=\"1\" /><polyline clip-path=\"url(#clip152)\" style=\"stroke:#000000; stroke-linecap:butt; stroke-linejoin:round; stroke-width:2; stroke-opacity:0.1; fill:none\" points=\"\n",
       "  192.709,1354.28 2352.76,1354.28 \n",
       "  \"/>\n",
       "<polyline clip-path=\"url(#clip152)\" style=\"stroke:#000000; stroke-linecap:butt; stroke-linejoin:round; stroke-width:2; stroke-opacity:0.1; fill:none\" points=\"\n",
       "  192.709,1139.03 2352.76,1139.03 \n",
       "  \"/>\n",
       "<polyline clip-path=\"url(#clip152)\" style=\"stroke:#000000; stroke-linecap:butt; stroke-linejoin:round; stroke-width:2; stroke-opacity:0.1; fill:none\" points=\"\n",
       "  192.709,923.773 2352.76,923.773 \n",
       "  \"/>\n",
       "<polyline clip-path=\"url(#clip152)\" style=\"stroke:#000000; stroke-linecap:butt; stroke-linejoin:round; stroke-width:2; stroke-opacity:0.1; fill:none\" points=\"\n",
       "  192.709,708.518 2352.76,708.518 \n",
       "  \"/>\n",
       "<polyline clip-path=\"url(#clip152)\" style=\"stroke:#000000; stroke-linecap:butt; stroke-linejoin:round; stroke-width:2; stroke-opacity:0.1; fill:none\" points=\"\n",
       "  192.709,493.262 2352.76,493.262 \n",
       "  \"/>\n",
       "<polyline clip-path=\"url(#clip152)\" style=\"stroke:#000000; stroke-linecap:butt; stroke-linejoin:round; stroke-width:2; stroke-opacity:0.1; fill:none\" points=\"\n",
       "  192.709,278.007 2352.76,278.007 \n",
       "  \"/>\n",
       "<polyline clip-path=\"url(#clip152)\" style=\"stroke:#000000; stroke-linecap:butt; stroke-linejoin:round; stroke-width:2; stroke-opacity:0.1; fill:none\" points=\"\n",
       "  192.709,62.751 2352.76,62.751 \n",
       "  \"/>\n",
       "<polyline clip-path=\"url(#clip150)\" style=\"stroke:#000000; stroke-linecap:butt; stroke-linejoin:round; stroke-width:4; stroke-opacity:1; fill:none\" points=\"\n",
       "  192.709,1486.45 192.709,47.2441 \n",
       "  \"/>\n",
       "<polyline clip-path=\"url(#clip150)\" style=\"stroke:#000000; stroke-linecap:butt; stroke-linejoin:round; stroke-width:4; stroke-opacity:1; fill:none\" points=\"\n",
       "  192.709,1354.28 218.63,1354.28 \n",
       "  \"/>\n",
       "<polyline clip-path=\"url(#clip150)\" style=\"stroke:#000000; stroke-linecap:butt; stroke-linejoin:round; stroke-width:4; stroke-opacity:1; fill:none\" points=\"\n",
       "  192.709,1139.03 218.63,1139.03 \n",
       "  \"/>\n",
       "<polyline clip-path=\"url(#clip150)\" style=\"stroke:#000000; stroke-linecap:butt; stroke-linejoin:round; stroke-width:4; stroke-opacity:1; fill:none\" points=\"\n",
       "  192.709,923.773 218.63,923.773 \n",
       "  \"/>\n",
       "<polyline clip-path=\"url(#clip150)\" style=\"stroke:#000000; stroke-linecap:butt; stroke-linejoin:round; stroke-width:4; stroke-opacity:1; fill:none\" points=\"\n",
       "  192.709,708.518 218.63,708.518 \n",
       "  \"/>\n",
       "<polyline clip-path=\"url(#clip150)\" style=\"stroke:#000000; stroke-linecap:butt; stroke-linejoin:round; stroke-width:4; stroke-opacity:1; fill:none\" points=\"\n",
       "  192.709,493.262 218.63,493.262 \n",
       "  \"/>\n",
       "<polyline clip-path=\"url(#clip150)\" style=\"stroke:#000000; stroke-linecap:butt; stroke-linejoin:round; stroke-width:4; stroke-opacity:1; fill:none\" points=\"\n",
       "  192.709,278.007 218.63,278.007 \n",
       "  \"/>\n",
       "<polyline clip-path=\"url(#clip150)\" style=\"stroke:#000000; stroke-linecap:butt; stroke-linejoin:round; stroke-width:4; stroke-opacity:1; fill:none\" points=\"\n",
       "  192.709,62.751 218.63,62.751 \n",
       "  \"/>\n",
       "<path clip-path=\"url(#clip150)\" d=\"M50.9921 1354.74 L80.6679 1354.74 L80.6679 1358.67 L50.9921 1358.67 L50.9921 1354.74 Z\" fill=\"#000000\" fill-rule=\"evenodd\" fill-opacity=\"1\" /><path clip-path=\"url(#clip150)\" d=\"M100.76 1340.08 Q97.1493 1340.08 95.3206 1343.65 Q93.515 1347.19 93.515 1354.32 Q93.515 1361.43 95.3206 1364.99 Q97.1493 1368.53 100.76 1368.53 Q104.395 1368.53 106.2 1364.99 Q108.029 1361.43 108.029 1354.32 Q108.029 1347.19 106.2 1343.65 Q104.395 1340.08 100.76 1340.08 M100.76 1336.38 Q106.571 1336.38 109.626 1340.99 Q112.705 1345.57 112.705 1354.32 Q112.705 1363.05 109.626 1367.65 Q106.571 1372.24 100.76 1372.24 Q94.9502 1372.24 91.8715 1367.65 Q88.816 1363.05 88.816 1354.32 Q88.816 1345.57 91.8715 1340.99 Q94.9502 1336.38 100.76 1336.38 Z\" fill=\"#000000\" fill-rule=\"evenodd\" fill-opacity=\"1\" /><path clip-path=\"url(#clip150)\" d=\"M120.922 1365.68 L125.807 1365.68 L125.807 1371.56 L120.922 1371.56 L120.922 1365.68 Z\" fill=\"#000000\" fill-rule=\"evenodd\" fill-opacity=\"1\" /><path clip-path=\"url(#clip150)\" d=\"M136.802 1367.63 L144.441 1367.63 L144.441 1341.26 L136.131 1342.93 L136.131 1338.67 L144.394 1337 L149.07 1337 L149.07 1367.63 L156.709 1367.63 L156.709 1371.56 L136.802 1371.56 L136.802 1367.63 Z\" fill=\"#000000\" fill-rule=\"evenodd\" fill-opacity=\"1\" /><path clip-path=\"url(#clip150)\" d=\"M99.5335 1124.83 Q95.9224 1124.83 94.0937 1128.39 Q92.2882 1131.93 92.2882 1139.06 Q92.2882 1146.17 94.0937 1149.73 Q95.9224 1153.28 99.5335 1153.28 Q103.168 1153.28 104.973 1149.73 Q106.802 1146.17 106.802 1139.06 Q106.802 1131.93 104.973 1128.39 Q103.168 1124.83 99.5335 1124.83 M99.5335 1121.12 Q105.344 1121.12 108.399 1125.73 Q111.478 1130.31 111.478 1139.06 Q111.478 1147.79 108.399 1152.4 Q105.344 1156.98 99.5335 1156.98 Q93.7234 1156.98 90.6447 1152.4 Q87.5892 1147.79 87.5892 1139.06 Q87.5892 1130.31 90.6447 1125.73 Q93.7234 1121.12 99.5335 1121.12 Z\" fill=\"#000000\" fill-rule=\"evenodd\" fill-opacity=\"1\" /><path clip-path=\"url(#clip150)\" d=\"M119.695 1150.43 L124.58 1150.43 L124.58 1156.31 L119.695 1156.31 L119.695 1150.43 Z\" fill=\"#000000\" fill-rule=\"evenodd\" fill-opacity=\"1\" /><path clip-path=\"url(#clip150)\" d=\"M144.765 1124.83 Q141.154 1124.83 139.325 1128.39 Q137.519 1131.93 137.519 1139.06 Q137.519 1146.17 139.325 1149.73 Q141.154 1153.28 144.765 1153.28 Q148.399 1153.28 150.205 1149.73 Q152.033 1146.17 152.033 1139.06 Q152.033 1131.93 150.205 1128.39 Q148.399 1124.83 144.765 1124.83 M144.765 1121.12 Q150.575 1121.12 153.63 1125.73 Q156.709 1130.31 156.709 1139.06 Q156.709 1147.79 153.63 1152.4 Q150.575 1156.98 144.765 1156.98 Q138.955 1156.98 135.876 1152.4 Q132.82 1147.79 132.82 1139.06 Q132.82 1130.31 135.876 1125.73 Q138.955 1121.12 144.765 1121.12 Z\" fill=\"#000000\" fill-rule=\"evenodd\" fill-opacity=\"1\" /><path clip-path=\"url(#clip150)\" d=\"M100.76 909.572 Q97.1493 909.572 95.3206 913.137 Q93.515 916.678 93.515 923.808 Q93.515 930.914 95.3206 934.479 Q97.1493 938.021 100.76 938.021 Q104.395 938.021 106.2 934.479 Q108.029 930.914 108.029 923.808 Q108.029 916.678 106.2 913.137 Q104.395 909.572 100.76 909.572 M100.76 905.868 Q106.571 905.868 109.626 910.475 Q112.705 915.058 112.705 923.808 Q112.705 932.535 109.626 937.141 Q106.571 941.724 100.76 941.724 Q94.9502 941.724 91.8715 937.141 Q88.816 932.535 88.816 923.808 Q88.816 915.058 91.8715 910.475 Q94.9502 905.868 100.76 905.868 Z\" fill=\"#000000\" fill-rule=\"evenodd\" fill-opacity=\"1\" /><path clip-path=\"url(#clip150)\" d=\"M120.922 935.173 L125.807 935.173 L125.807 941.053 L120.922 941.053 L120.922 935.173 Z\" fill=\"#000000\" fill-rule=\"evenodd\" fill-opacity=\"1\" /><path clip-path=\"url(#clip150)\" d=\"M136.802 937.118 L144.441 937.118 L144.441 910.752 L136.131 912.419 L136.131 908.16 L144.394 906.493 L149.07 906.493 L149.07 937.118 L156.709 937.118 L156.709 941.053 L136.802 941.053 L136.802 937.118 Z\" fill=\"#000000\" fill-rule=\"evenodd\" fill-opacity=\"1\" /><path clip-path=\"url(#clip150)\" d=\"M101.131 694.316 Q97.5197 694.316 95.691 697.881 Q93.8854 701.423 93.8854 708.552 Q93.8854 715.659 95.691 719.224 Q97.5197 722.765 101.131 722.765 Q104.765 722.765 106.571 719.224 Q108.399 715.659 108.399 708.552 Q108.399 701.423 106.571 697.881 Q104.765 694.316 101.131 694.316 M101.131 690.613 Q106.941 690.613 109.996 695.219 Q113.075 699.802 113.075 708.552 Q113.075 717.279 109.996 721.886 Q106.941 726.469 101.131 726.469 Q95.3206 726.469 92.2419 721.886 Q89.1864 717.279 89.1864 708.552 Q89.1864 699.802 92.2419 695.219 Q95.3206 690.613 101.131 690.613 Z\" fill=\"#000000\" fill-rule=\"evenodd\" fill-opacity=\"1\" /><path clip-path=\"url(#clip150)\" d=\"M121.293 719.918 L126.177 719.918 L126.177 725.798 L121.293 725.798 L121.293 719.918 Z\" fill=\"#000000\" fill-rule=\"evenodd\" fill-opacity=\"1\" /><path clip-path=\"url(#clip150)\" d=\"M140.39 721.862 L156.709 721.862 L156.709 725.798 L134.765 725.798 L134.765 721.862 Q137.427 719.108 142.01 714.478 Q146.617 709.825 147.797 708.483 Q150.043 705.96 150.922 704.224 Q151.825 702.464 151.825 700.775 Q151.825 698.02 149.88 696.284 Q147.959 694.548 144.857 694.548 Q142.658 694.548 140.205 695.312 Q137.774 696.076 134.996 697.626 L134.996 692.904 Q137.82 691.77 140.274 691.191 Q142.728 690.613 144.765 690.613 Q150.135 690.613 153.33 693.298 Q156.524 695.983 156.524 700.474 Q156.524 702.603 155.714 704.525 Q154.927 706.423 152.82 709.015 Q152.242 709.687 149.14 712.904 Q146.038 716.099 140.39 721.862 Z\" fill=\"#000000\" fill-rule=\"evenodd\" fill-opacity=\"1\" /><path clip-path=\"url(#clip150)\" d=\"M100.182 479.061 Q96.5706 479.061 94.7419 482.626 Q92.9363 486.167 92.9363 493.297 Q92.9363 500.403 94.7419 503.968 Q96.5706 507.51 100.182 507.51 Q103.816 507.51 105.621 503.968 Q107.45 500.403 107.45 493.297 Q107.45 486.167 105.621 482.626 Q103.816 479.061 100.182 479.061 M100.182 475.357 Q105.992 475.357 109.047 479.964 Q112.126 484.547 112.126 493.297 Q112.126 502.024 109.047 506.63 Q105.992 511.213 100.182 511.213 Q94.3715 511.213 91.2928 506.63 Q88.2373 502.024 88.2373 493.297 Q88.2373 484.547 91.2928 479.964 Q94.3715 475.357 100.182 475.357 Z\" fill=\"#000000\" fill-rule=\"evenodd\" fill-opacity=\"1\" /><path clip-path=\"url(#clip150)\" d=\"M120.344 504.662 L125.228 504.662 L125.228 510.542 L120.344 510.542 L120.344 504.662 Z\" fill=\"#000000\" fill-rule=\"evenodd\" fill-opacity=\"1\" /><path clip-path=\"url(#clip150)\" d=\"M149.58 491.908 Q152.936 492.625 154.811 494.894 Q156.709 497.162 156.709 500.496 Q156.709 505.612 153.191 508.412 Q149.672 511.213 143.191 511.213 Q141.015 511.213 138.7 510.774 Q136.408 510.357 133.955 509.5 L133.955 504.987 Q135.899 506.121 138.214 506.699 Q140.529 507.278 143.052 507.278 Q147.45 507.278 149.742 505.542 Q152.056 503.806 152.056 500.496 Q152.056 497.44 149.904 495.727 Q147.774 493.991 143.955 493.991 L139.927 493.991 L139.927 490.149 L144.14 490.149 Q147.589 490.149 149.418 488.783 Q151.246 487.394 151.246 484.801 Q151.246 482.139 149.348 480.727 Q147.473 479.292 143.955 479.292 Q142.033 479.292 139.834 479.709 Q137.635 480.126 134.996 481.005 L134.996 476.839 Q137.658 476.098 139.973 475.727 Q142.311 475.357 144.371 475.357 Q149.695 475.357 152.797 477.788 Q155.899 480.195 155.899 484.315 Q155.899 487.186 154.255 489.176 Q152.612 491.144 149.58 491.908 Z\" fill=\"#000000\" fill-rule=\"evenodd\" fill-opacity=\"1\" /><path clip-path=\"url(#clip150)\" d=\"M99.0474 263.805 Q95.4363 263.805 93.6076 267.37 Q91.8021 270.912 91.8021 278.041 Q91.8021 285.148 93.6076 288.712 Q95.4363 292.254 99.0474 292.254 Q102.682 292.254 104.487 288.712 Q106.316 285.148 106.316 278.041 Q106.316 270.912 104.487 267.37 Q102.682 263.805 99.0474 263.805 M99.0474 260.102 Q104.858 260.102 107.913 264.708 Q110.992 269.291 110.992 278.041 Q110.992 286.768 107.913 291.375 Q104.858 295.958 99.0474 295.958 Q93.2373 295.958 90.1586 291.375 Q87.103 286.768 87.103 278.041 Q87.103 269.291 90.1586 264.708 Q93.2373 260.102 99.0474 260.102 Z\" fill=\"#000000\" fill-rule=\"evenodd\" fill-opacity=\"1\" /><path clip-path=\"url(#clip150)\" d=\"M119.209 289.407 L124.094 289.407 L124.094 295.287 L119.209 295.287 L119.209 289.407 Z\" fill=\"#000000\" fill-rule=\"evenodd\" fill-opacity=\"1\" /><path clip-path=\"url(#clip150)\" d=\"M147.126 264.801 L135.32 283.25 L147.126 283.25 L147.126 264.801 M145.899 260.727 L151.779 260.727 L151.779 283.25 L156.709 283.25 L156.709 287.138 L151.779 287.138 L151.779 295.287 L147.126 295.287 L147.126 287.138 L131.524 287.138 L131.524 282.625 L145.899 260.727 Z\" fill=\"#000000\" fill-rule=\"evenodd\" fill-opacity=\"1\" /><path clip-path=\"url(#clip150)\" d=\"M100.529 48.5497 Q96.9178 48.5497 95.0891 52.1145 Q93.2836 55.6562 93.2836 62.7857 Q93.2836 69.8922 95.0891 73.457 Q96.9178 76.9986 100.529 76.9986 Q104.163 76.9986 105.969 73.457 Q107.797 69.8922 107.797 62.7857 Q107.797 55.6562 105.969 52.1145 Q104.163 48.5497 100.529 48.5497 M100.529 44.846 Q106.339 44.846 109.395 49.4525 Q112.473 54.0358 112.473 62.7857 Q112.473 71.5125 109.395 76.119 Q106.339 80.7023 100.529 80.7023 Q94.7187 80.7023 91.6401 76.119 Q88.5845 71.5125 88.5845 62.7857 Q88.5845 54.0358 91.6401 49.4525 Q94.7187 44.846 100.529 44.846 Z\" fill=\"#000000\" fill-rule=\"evenodd\" fill-opacity=\"1\" /><path clip-path=\"url(#clip150)\" d=\"M120.691 74.1514 L125.575 74.1514 L125.575 80.031 L120.691 80.031 L120.691 74.1514 Z\" fill=\"#000000\" fill-rule=\"evenodd\" fill-opacity=\"1\" /><path clip-path=\"url(#clip150)\" d=\"M135.806 45.471 L154.163 45.471 L154.163 49.4062 L140.089 49.4062 L140.089 57.8784 Q141.107 57.5311 142.126 57.3691 Q143.144 57.1839 144.163 57.1839 Q149.95 57.1839 153.33 60.3552 Q156.709 63.5265 156.709 68.9431 Q156.709 74.5218 153.237 77.6236 Q149.765 80.7023 143.445 80.7023 Q141.269 80.7023 139.001 80.3319 Q136.756 79.9616 134.348 79.2208 L134.348 74.5218 Q136.431 75.656 138.654 76.2116 Q140.876 76.7671 143.353 76.7671 Q147.357 76.7671 149.695 74.6607 Q152.033 72.5542 152.033 68.9431 Q152.033 65.332 149.695 63.2256 Q147.357 61.1191 143.353 61.1191 Q141.478 61.1191 139.603 61.5357 Q137.751 61.9524 135.806 62.832 L135.806 45.471 Z\" fill=\"#000000\" fill-rule=\"evenodd\" fill-opacity=\"1\" /><polyline clip-path=\"url(#clip152)\" style=\"stroke:#009af9; stroke-linecap:butt; stroke-linejoin:round; stroke-width:4; stroke-opacity:1; fill:none\" points=\"\n",
       "  253.843,1139.03 257.245,1138.99 260.646,1138.44 264.048,1136.31 267.45,1131.13 270.852,1121.37 274.254,1105.57 277.656,1082.49 281.058,1051.24 284.46,1011.32 \n",
       "  287.862,962.691 291.264,905.719 294.666,841.202 298.068,770.319 301.47,694.575 304.872,615.74 308.274,535.775 311.676,456.759 315.078,380.81 318.48,310.008 \n",
       "  321.882,246.321 325.284,191.541 328.686,147.222 332.088,114.626 335.49,94.6869 338.892,87.9763 342.294,94.6869 345.696,114.626 349.098,147.222 352.5,191.541 \n",
       "  355.902,246.321 359.304,310.008 362.706,380.81 366.108,456.759 369.51,535.775 372.911,615.74 376.313,694.575 379.715,770.319 383.117,841.202 386.519,905.719 \n",
       "  389.921,962.691 393.323,1011.32 396.725,1051.24 400.127,1082.49 403.529,1105.57 406.931,1121.37 410.333,1131.13 413.735,1136.31 417.137,1138.44 420.539,1138.99 \n",
       "  423.941,1139.03 427.343,1139.03 430.745,1139.03 434.147,1139.03 437.549,1139.03 440.951,1139.03 444.353,1139.03 447.755,1139.03 451.157,1139.03 454.559,1139.03 \n",
       "  457.961,1139.03 461.363,1139.03 464.765,1139.03 468.167,1139.03 471.569,1139.03 474.971,1139.03 478.373,1139.03 481.775,1139.03 485.177,1139.03 488.578,1139.03 \n",
       "  491.98,1139.03 495.382,1139.03 498.784,1139.03 502.186,1139.03 505.588,1139.03 508.99,1139.03 512.392,1139.03 515.794,1139.03 519.196,1139.03 522.598,1139.03 \n",
       "  526,1139.03 529.402,1139.03 532.804,1139.03 536.206,1139.03 539.608,1139.03 543.01,1139.03 546.412,1139.03 549.814,1139.03 553.216,1139.03 556.618,1139.03 \n",
       "  560.02,1139.03 563.422,1139.03 566.824,1139.03 570.226,1139.03 573.628,1139.03 577.03,1139.03 580.432,1139.03 583.834,1139.03 587.236,1139.03 590.638,1139.03 \n",
       "  594.04,1139.03 597.442,1139.03 600.843,1139.03 604.245,1139.03 607.647,1139.03 611.049,1139.03 614.451,1139.03 617.853,1139.03 621.255,1139.03 624.657,1139.03 \n",
       "  628.059,1139.03 631.461,1139.03 634.863,1139.03 638.265,1139.03 641.667,1139.03 645.069,1139.03 648.471,1139.03 651.873,1139.03 655.275,1139.03 658.677,1139.03 \n",
       "  662.079,1139.03 665.481,1139.03 668.883,1139.03 672.285,1139.03 675.687,1139.03 679.089,1139.03 682.491,1139.03 685.893,1139.03 689.295,1139.03 692.697,1139.03 \n",
       "  696.099,1139.03 699.501,1139.03 702.903,1139.03 706.305,1139.03 709.707,1139.03 713.108,1139.03 716.51,1139.03 719.912,1139.03 723.314,1139.03 726.716,1139.03 \n",
       "  730.118,1139.03 733.52,1139.03 736.922,1139.03 740.324,1139.03 743.726,1139.03 747.128,1139.03 750.53,1139.03 753.932,1139.03 757.334,1139.03 760.736,1139.03 \n",
       "  764.138,1139.03 767.54,1139.03 770.942,1139.03 774.344,1139.03 777.746,1139.03 781.148,1139.03 784.55,1139.03 787.952,1139.03 791.354,1139.03 794.756,1139.03 \n",
       "  798.158,1139.03 801.56,1139.03 804.962,1139.03 808.364,1139.03 811.766,1139.03 815.168,1139.03 818.57,1139.03 821.972,1139.03 825.373,1139.03 828.775,1139.03 \n",
       "  832.177,1139.03 835.579,1139.03 838.981,1139.03 842.383,1139.03 845.785,1139.03 849.187,1139.03 852.589,1139.03 855.991,1139.03 859.393,1139.03 862.795,1139.03 \n",
       "  866.197,1139.03 869.599,1139.03 873.001,1139.03 876.403,1139.03 879.805,1139.03 883.207,1139.03 886.609,1139.03 890.011,1139.03 893.413,1139.03 896.815,1139.03 \n",
       "  900.217,1139.03 903.619,1139.03 907.021,1139.03 910.423,1139.03 913.825,1139.03 917.227,1139.03 920.629,1139.03 924.031,1139.03 927.433,1139.03 930.835,1139.03 \n",
       "  934.237,1139.03 937.638,1139.03 941.04,1139.03 944.442,1139.03 947.844,1139.03 951.246,1139.03 954.648,1139.03 958.05,1139.03 961.452,1139.03 964.854,1139.03 \n",
       "  968.256,1139.03 971.658,1139.03 975.06,1139.03 978.462,1139.03 981.864,1139.03 985.266,1139.03 988.668,1139.03 992.07,1139.03 995.472,1139.03 998.874,1139.03 \n",
       "  1002.28,1139.03 1005.68,1139.03 1009.08,1139.03 1012.48,1139.03 1015.88,1139.03 1019.29,1139.03 1022.69,1139.03 1026.09,1139.03 1029.49,1139.03 1032.89,1139.03 \n",
       "  1036.3,1139.03 1039.7,1139.03 1043.1,1139.03 1046.5,1139.03 1049.9,1139.03 1053.31,1139.03 1056.71,1139.03 1060.11,1139.03 1063.51,1139.03 1066.91,1139.03 \n",
       "  1070.32,1139.03 1073.72,1139.03 1077.12,1139.03 1080.52,1139.03 1083.92,1139.03 1087.33,1139.03 1090.73,1139.03 1094.13,1139.03 1097.53,1139.03 1100.93,1139.03 \n",
       "  1104.34,1139.03 1107.74,1139.03 1111.14,1139.03 1114.54,1139.03 1117.94,1139.03 1121.34,1139.03 1124.75,1139.03 1128.15,1139.03 1131.55,1139.03 1134.95,1139.03 \n",
       "  1138.35,1139.03 1141.76,1139.03 1145.16,1139.03 1148.56,1139.03 1151.96,1139.03 1155.36,1139.03 1158.77,1139.03 1162.17,1139.03 1165.57,1139.03 1168.97,1139.03 \n",
       "  1172.37,1139.03 1175.78,1139.03 1179.18,1139.03 1182.58,1139.03 1185.98,1139.03 1189.38,1139.03 1192.79,1139.03 1196.19,1139.03 1199.59,1139.03 1202.99,1139.03 \n",
       "  1206.39,1139.03 1209.8,1139.03 1213.2,1139.03 1216.6,1139.03 1220,1139.03 1223.4,1139.03 1226.81,1139.03 1230.21,1139.03 1233.61,1139.03 1237.01,1139.03 \n",
       "  1240.41,1139.03 1243.82,1139.03 1247.22,1139.03 1250.62,1139.03 1254.02,1139.03 1257.42,1139.03 1260.83,1139.03 1264.23,1139.03 1267.63,1139.03 1271.03,1139.03 \n",
       "  1274.43,1139.03 1277.84,1139.03 1281.24,1139.03 1284.64,1139.03 1288.04,1139.03 1291.44,1139.03 1294.85,1139.03 1298.25,1139.03 1301.65,1139.03 1305.05,1139.03 \n",
       "  1308.45,1139.03 1311.86,1139.03 1315.26,1139.03 1318.66,1139.03 1322.06,1139.03 1325.46,1139.03 1328.87,1139.03 1332.27,1139.03 1335.67,1139.03 1339.07,1139.03 \n",
       "  1342.47,1139.03 1345.87,1139.03 1349.28,1139.03 1352.68,1139.03 1356.08,1139.03 1359.48,1139.03 1362.88,1139.03 1366.29,1139.03 1369.69,1139.03 1373.09,1139.03 \n",
       "  1376.49,1139.03 1379.89,1139.03 1383.3,1139.03 1386.7,1139.03 1390.1,1139.03 1393.5,1139.03 1396.9,1139.03 1400.31,1139.03 1403.71,1139.03 1407.11,1139.03 \n",
       "  1410.51,1139.03 1413.91,1139.03 1417.32,1139.03 1420.72,1139.03 1424.12,1139.03 1427.52,1139.03 1430.92,1139.03 1434.33,1139.03 1437.73,1139.03 1441.13,1139.03 \n",
       "  1444.53,1139.03 1447.93,1139.03 1451.34,1139.03 1454.74,1139.03 1458.14,1139.03 1461.54,1139.03 1464.94,1139.03 1468.35,1139.03 1471.75,1139.03 1475.15,1139.03 \n",
       "  1478.55,1139.03 1481.95,1139.03 1485.36,1139.03 1488.76,1139.03 1492.16,1139.03 1495.56,1139.03 1498.96,1139.03 1502.37,1139.03 1505.77,1139.03 1509.17,1139.03 \n",
       "  1512.57,1139.03 1515.97,1139.03 1519.38,1139.03 1522.78,1139.03 1526.18,1139.03 1529.58,1139.03 1532.98,1139.03 1536.39,1139.03 1539.79,1139.03 1543.19,1139.03 \n",
       "  1546.59,1139.03 1549.99,1139.03 1553.4,1139.03 1556.8,1139.03 1560.2,1139.03 1563.6,1139.03 1567,1139.03 1570.4,1139.03 1573.81,1139.03 1577.21,1139.03 \n",
       "  1580.61,1139.03 1584.01,1139.03 1587.41,1139.03 1590.82,1139.03 1594.22,1139.03 1597.62,1139.03 1601.02,1139.03 1604.42,1139.03 1607.83,1139.03 1611.23,1139.03 \n",
       "  1614.63,1139.03 1618.03,1139.03 1621.43,1139.03 1624.84,1139.03 1628.24,1139.03 1631.64,1139.03 1635.04,1139.03 1638.44,1139.03 1641.85,1139.03 1645.25,1139.03 \n",
       "  1648.65,1139.03 1652.05,1139.03 1655.45,1139.03 1658.86,1139.03 1662.26,1139.03 1665.66,1139.03 1669.06,1139.03 1672.46,1139.03 1675.87,1139.03 1679.27,1139.03 \n",
       "  1682.67,1139.03 1686.07,1139.03 1689.47,1139.03 1692.88,1139.03 1696.28,1139.03 1699.68,1139.03 1703.08,1139.03 1706.48,1139.03 1709.89,1139.03 1713.29,1139.03 \n",
       "  1716.69,1139.03 1720.09,1139.03 1723.49,1139.03 1726.9,1139.03 1730.3,1139.03 1733.7,1139.03 1737.1,1139.03 1740.5,1139.03 1743.91,1139.03 1747.31,1139.03 \n",
       "  1750.71,1139.03 1754.11,1139.03 1757.51,1139.03 1760.92,1139.03 1764.32,1139.03 1767.72,1139.03 1771.12,1139.03 1774.52,1139.03 1777.93,1139.03 1781.33,1139.03 \n",
       "  1784.73,1139.03 1788.13,1139.03 1791.53,1139.03 1794.93,1139.03 1798.34,1139.03 1801.74,1139.03 1805.14,1139.03 1808.54,1139.03 1811.94,1139.03 1815.35,1139.03 \n",
       "  1818.75,1139.03 1822.15,1139.03 1825.55,1139.03 1828.95,1139.03 1832.36,1139.03 1835.76,1139.03 1839.16,1139.03 1842.56,1139.03 1845.96,1139.03 1849.37,1139.03 \n",
       "  1852.77,1139.03 1856.17,1139.03 1859.57,1139.03 1862.97,1139.03 1866.38,1139.03 1869.78,1139.03 1873.18,1139.03 1876.58,1139.03 1879.98,1139.03 1883.39,1139.03 \n",
       "  1886.79,1139.03 1890.19,1139.03 1893.59,1139.03 1896.99,1139.03 1900.4,1139.03 1903.8,1139.03 1907.2,1139.03 1910.6,1139.03 1914,1139.03 1917.41,1139.03 \n",
       "  1920.81,1139.03 1924.21,1139.03 1927.61,1139.03 1931.01,1139.03 1934.42,1139.03 1937.82,1139.03 1941.22,1139.03 1944.62,1139.03 1948.02,1139.03 1951.43,1139.03 \n",
       "  1954.83,1139.03 1958.23,1139.03 1961.63,1139.03 1965.03,1139.03 1968.44,1139.03 1971.84,1139.03 1975.24,1139.03 1978.64,1139.03 1982.04,1139.03 1985.45,1139.03 \n",
       "  1988.85,1139.03 1992.25,1139.03 1995.65,1139.03 1999.05,1139.03 2002.46,1139.03 2005.86,1139.03 2009.26,1139.03 2012.66,1139.03 2016.06,1139.03 2019.46,1139.03 \n",
       "  2022.87,1139.03 2026.27,1139.03 2029.67,1139.03 2033.07,1139.03 2036.47,1139.03 2039.88,1139.03 2043.28,1139.03 2046.68,1139.03 2050.08,1139.03 2053.48,1139.03 \n",
       "  2056.89,1139.03 2060.29,1139.03 2063.69,1139.03 2067.09,1139.03 2070.49,1139.03 2073.9,1139.03 2077.3,1139.03 2080.7,1139.03 2084.1,1139.03 2087.5,1139.03 \n",
       "  2090.91,1139.03 2094.31,1139.03 2097.71,1139.03 2101.11,1139.03 2104.51,1139.03 2107.92,1139.03 2111.32,1139.03 2114.72,1139.03 2118.12,1139.03 2121.52,1139.03 \n",
       "  2124.93,1139.03 2128.33,1139.03 2131.73,1139.03 2135.13,1139.03 2138.53,1139.03 2141.94,1139.03 2145.34,1139.03 2148.74,1139.03 2152.14,1139.03 2155.54,1139.03 \n",
       "  2158.95,1139.03 2162.35,1139.03 2165.75,1139.03 2169.15,1139.03 2172.55,1139.03 2175.96,1139.03 2179.36,1139.03 2182.76,1139.03 2186.16,1139.03 2189.56,1139.03 \n",
       "  2192.97,1139.03 2196.37,1139.03 2199.77,1139.03 2203.17,1139.03 2206.57,1139.03 2209.98,1139.03 2213.38,1139.03 2216.78,1139.03 2220.18,1139.03 2223.58,1139.03 \n",
       "  2226.99,1139.03 2230.39,1139.03 2233.79,1139.03 2237.19,1139.03 2240.59,1139.03 2243.99,1139.03 2247.4,1139.03 2250.8,1139.03 2254.2,1139.03 2257.6,1139.03 \n",
       "  2261,1139.03 2264.41,1139.03 2267.81,1139.03 2271.21,1139.03 2274.61,1139.03 2278.01,1139.03 2281.42,1139.03 2284.82,1139.03 2288.22,1139.03 2291.62,1139.03 \n",
       "  \n",
       "  \"/>\n",
       "<polyline clip-path=\"url(#clip152)\" style=\"stroke:#e26f46; stroke-linecap:butt; stroke-linejoin:round; stroke-width:4; stroke-opacity:1; fill:none\" points=\"\n",
       "  253.843,1139.03 257.245,1139.04 260.646,1139.16 264.048,1139.63 267.45,1140.78 270.852,1142.95 274.254,1146.47 277.656,1151.6 281.058,1158.57 284.46,1167.51 \n",
       "  287.862,1178.48 291.264,1191.49 294.666,1206.5 298.068,1223.44 301.47,1242.19 304.872,1262.62 308.274,1284.51 311.676,1307.58 315.078,1331.39 318.48,1355.34 \n",
       "  321.882,1378.62 325.284,1400.18 328.686,1418.83 332.088,1433.33 335.49,1442.55 338.892,1445.72 342.294,1442.55 345.696,1433.33 349.098,1418.83 352.5,1400.18 \n",
       "  355.902,1378.62 359.304,1355.34 362.706,1331.39 366.108,1307.58 369.51,1284.51 372.911,1262.62 376.313,1242.19 379.715,1223.44 383.117,1206.5 386.519,1191.49 \n",
       "  389.921,1178.48 393.323,1167.51 396.725,1158.57 400.127,1151.6 403.529,1146.47 406.931,1142.95 410.333,1140.78 413.735,1139.63 417.137,1139.16 420.539,1139.04 \n",
       "  423.941,1139.03 427.343,1139.03 430.745,1139.03 434.147,1139.03 437.549,1139.03 440.951,1139.03 444.353,1139.03 447.755,1139.03 451.157,1139.03 454.559,1139.03 \n",
       "  457.961,1139.03 461.363,1139.03 464.765,1139.03 468.167,1139.03 471.569,1139.03 474.971,1139.03 478.373,1139.03 481.775,1139.03 485.177,1139.03 488.578,1139.03 \n",
       "  491.98,1139.03 495.382,1139.03 498.784,1139.03 502.186,1139.03 505.588,1139.03 508.99,1139.03 512.392,1139.03 515.794,1139.03 519.196,1139.03 522.598,1139.03 \n",
       "  526,1139.03 529.402,1139.03 532.804,1139.03 536.206,1139.03 539.608,1139.03 543.01,1139.03 546.412,1139.03 549.814,1139.03 553.216,1139.03 556.618,1139.03 \n",
       "  560.02,1139.03 563.422,1139.03 566.824,1139.03 570.226,1139.03 573.628,1139.03 577.03,1139.03 580.432,1139.03 583.834,1139.03 587.236,1139.03 590.638,1139.03 \n",
       "  594.04,1139.03 597.442,1139.03 600.843,1139.03 604.245,1139.03 607.647,1139.03 611.049,1139.03 614.451,1139.03 617.853,1139.03 621.255,1139.03 624.657,1139.03 \n",
       "  628.059,1139.03 631.461,1139.03 634.863,1139.03 638.265,1139.03 641.667,1139.03 645.069,1139.03 648.471,1139.03 651.873,1139.03 655.275,1139.03 658.677,1139.03 \n",
       "  662.079,1139.03 665.481,1139.03 668.883,1139.03 672.285,1139.03 675.687,1139.03 679.089,1139.03 682.491,1139.03 685.893,1139.03 689.295,1139.03 692.697,1139.03 \n",
       "  696.099,1139.03 699.501,1139.03 702.903,1139.03 706.305,1139.03 709.707,1139.03 713.108,1139.03 716.51,1139.03 719.912,1139.03 723.314,1139.03 726.716,1139.03 \n",
       "  730.118,1139.03 733.52,1139.03 736.922,1139.03 740.324,1139.03 743.726,1139.03 747.128,1139.03 750.53,1139.03 753.932,1139.03 757.334,1139.03 760.736,1139.03 \n",
       "  764.138,1139.03 767.54,1139.03 770.942,1139.03 774.344,1139.03 777.746,1139.03 781.148,1139.03 784.55,1139.03 787.952,1139.03 791.354,1139.03 794.756,1139.03 \n",
       "  798.158,1139.03 801.56,1139.03 804.962,1139.03 808.364,1139.03 811.766,1139.03 815.168,1139.03 818.57,1139.03 821.972,1139.03 825.373,1139.03 828.775,1139.03 \n",
       "  832.177,1139.03 835.579,1139.03 838.981,1139.03 842.383,1139.03 845.785,1139.03 849.187,1139.03 852.589,1139.03 855.991,1139.03 859.393,1139.03 862.795,1139.03 \n",
       "  866.197,1139.03 869.599,1139.03 873.001,1139.03 876.403,1139.03 879.805,1139.03 883.207,1139.03 886.609,1139.03 890.011,1139.03 893.413,1139.03 896.815,1139.03 \n",
       "  900.217,1139.03 903.619,1139.03 907.021,1139.03 910.423,1139.03 913.825,1139.03 917.227,1139.03 920.629,1139.03 924.031,1139.03 927.433,1139.03 930.835,1139.03 \n",
       "  934.237,1139.03 937.638,1139.03 941.04,1139.03 944.442,1139.03 947.844,1139.03 951.246,1139.03 954.648,1139.03 958.05,1139.03 961.452,1139.03 964.854,1139.03 \n",
       "  968.256,1139.03 971.658,1139.03 975.06,1139.03 978.462,1139.03 981.864,1139.03 985.266,1139.03 988.668,1139.03 992.07,1139.03 995.472,1139.03 998.874,1139.03 \n",
       "  1002.28,1139.03 1005.68,1139.03 1009.08,1139.03 1012.48,1139.03 1015.88,1139.03 1019.29,1139.03 1022.69,1139.03 1026.09,1139.03 1029.49,1139.03 1032.89,1139.03 \n",
       "  1036.3,1139.03 1039.7,1139.03 1043.1,1139.03 1046.5,1139.03 1049.9,1139.03 1053.31,1139.03 1056.71,1139.03 1060.11,1139.03 1063.51,1139.03 1066.91,1139.03 \n",
       "  1070.32,1139.03 1073.72,1139.03 1077.12,1139.03 1080.52,1139.03 1083.92,1139.03 1087.33,1139.03 1090.73,1139.03 1094.13,1139.03 1097.53,1139.03 1100.93,1139.03 \n",
       "  1104.34,1139.03 1107.74,1139.03 1111.14,1139.03 1114.54,1139.03 1117.94,1139.03 1121.34,1139.03 1124.75,1139.03 1128.15,1139.03 1131.55,1139.03 1134.95,1139.03 \n",
       "  1138.35,1139.03 1141.76,1139.03 1145.16,1139.03 1148.56,1139.03 1151.96,1139.03 1155.36,1139.03 1158.77,1139.03 1162.17,1139.03 1165.57,1139.03 1168.97,1139.03 \n",
       "  1172.37,1139.03 1175.78,1139.03 1179.18,1139.03 1182.58,1139.03 1185.98,1139.03 1189.38,1139.03 1192.79,1139.03 1196.19,1139.03 1199.59,1139.03 1202.99,1139.03 \n",
       "  1206.39,1139.03 1209.8,1139.03 1213.2,1139.03 1216.6,1139.03 1220,1139.03 1223.4,1139.03 1226.81,1139.03 1230.21,1139.03 1233.61,1139.03 1237.01,1139.03 \n",
       "  1240.41,1139.03 1243.82,1139.03 1247.22,1139.03 1250.62,1139.03 1254.02,1139.03 1257.42,1139.03 1260.83,1139.03 1264.23,1139.03 1267.63,1139.03 1271.03,1139.03 \n",
       "  1274.43,1139.03 1277.84,1139.03 1281.24,1139.03 1284.64,1139.03 1288.04,1139.03 1291.44,1139.03 1294.85,1139.03 1298.25,1139.03 1301.65,1139.03 1305.05,1139.03 \n",
       "  1308.45,1139.03 1311.86,1139.03 1315.26,1139.03 1318.66,1139.03 1322.06,1139.03 1325.46,1139.03 1328.87,1139.03 1332.27,1139.03 1335.67,1139.03 1339.07,1139.03 \n",
       "  1342.47,1139.03 1345.87,1139.03 1349.28,1139.03 1352.68,1139.03 1356.08,1139.03 1359.48,1139.03 1362.88,1139.03 1366.29,1139.03 1369.69,1139.03 1373.09,1139.03 \n",
       "  1376.49,1139.03 1379.89,1139.03 1383.3,1139.03 1386.7,1139.03 1390.1,1139.03 1393.5,1139.03 1396.9,1139.03 1400.31,1139.03 1403.71,1139.03 1407.11,1139.03 \n",
       "  1410.51,1139.03 1413.91,1139.03 1417.32,1139.03 1420.72,1139.03 1424.12,1139.03 1427.52,1139.03 1430.92,1139.03 1434.33,1139.03 1437.73,1139.03 1441.13,1139.03 \n",
       "  1444.53,1139.03 1447.93,1139.03 1451.34,1139.03 1454.74,1139.03 1458.14,1139.03 1461.54,1139.03 1464.94,1139.03 1468.35,1139.03 1471.75,1139.03 1475.15,1139.03 \n",
       "  1478.55,1139.03 1481.95,1139.03 1485.36,1139.03 1488.76,1139.03 1492.16,1139.03 1495.56,1139.03 1498.96,1139.03 1502.37,1139.03 1505.77,1139.03 1509.17,1139.03 \n",
       "  1512.57,1139.03 1515.97,1139.03 1519.38,1139.03 1522.78,1139.03 1526.18,1139.03 1529.58,1139.03 1532.98,1139.03 1536.39,1139.03 1539.79,1139.03 1543.19,1139.03 \n",
       "  1546.59,1139.03 1549.99,1139.03 1553.4,1139.03 1556.8,1139.03 1560.2,1139.03 1563.6,1139.03 1567,1139.03 1570.4,1139.03 1573.81,1139.03 1577.21,1139.03 \n",
       "  1580.61,1139.03 1584.01,1139.03 1587.41,1139.03 1590.82,1139.03 1594.22,1139.03 1597.62,1139.03 1601.02,1139.03 1604.42,1139.03 1607.83,1139.03 1611.23,1139.03 \n",
       "  1614.63,1139.03 1618.03,1139.03 1621.43,1139.03 1624.84,1139.03 1628.24,1139.03 1631.64,1139.03 1635.04,1139.03 1638.44,1139.03 1641.85,1139.03 1645.25,1139.03 \n",
       "  1648.65,1139.03 1652.05,1139.03 1655.45,1139.03 1658.86,1139.03 1662.26,1139.03 1665.66,1139.03 1669.06,1139.03 1672.46,1139.03 1675.87,1139.03 1679.27,1139.03 \n",
       "  1682.67,1139.03 1686.07,1139.03 1689.47,1139.03 1692.88,1139.03 1696.28,1139.03 1699.68,1139.03 1703.08,1139.03 1706.48,1139.03 1709.89,1139.03 1713.29,1139.03 \n",
       "  1716.69,1139.03 1720.09,1139.03 1723.49,1139.03 1726.9,1139.03 1730.3,1139.03 1733.7,1139.03 1737.1,1139.03 1740.5,1139.03 1743.91,1139.03 1747.31,1139.03 \n",
       "  1750.71,1139.03 1754.11,1139.03 1757.51,1139.03 1760.92,1139.03 1764.32,1139.03 1767.72,1139.03 1771.12,1139.03 1774.52,1139.03 1777.93,1139.03 1781.33,1139.03 \n",
       "  1784.73,1139.03 1788.13,1139.03 1791.53,1139.03 1794.93,1139.03 1798.34,1139.03 1801.74,1139.03 1805.14,1139.03 1808.54,1139.03 1811.94,1139.03 1815.35,1139.03 \n",
       "  1818.75,1139.03 1822.15,1139.03 1825.55,1139.03 1828.95,1139.03 1832.36,1139.03 1835.76,1139.03 1839.16,1139.03 1842.56,1139.03 1845.96,1139.03 1849.37,1139.03 \n",
       "  1852.77,1139.03 1856.17,1139.03 1859.57,1139.03 1862.97,1139.03 1866.38,1139.03 1869.78,1139.03 1873.18,1139.03 1876.58,1139.03 1879.98,1139.03 1883.39,1139.03 \n",
       "  1886.79,1139.03 1890.19,1139.03 1893.59,1139.03 1896.99,1139.03 1900.4,1139.03 1903.8,1139.03 1907.2,1139.03 1910.6,1139.03 1914,1139.03 1917.41,1139.03 \n",
       "  1920.81,1139.03 1924.21,1139.03 1927.61,1139.03 1931.01,1139.03 1934.42,1139.03 1937.82,1139.03 1941.22,1139.03 1944.62,1139.03 1948.02,1139.03 1951.43,1139.03 \n",
       "  1954.83,1139.03 1958.23,1139.03 1961.63,1139.03 1965.03,1139.03 1968.44,1139.03 1971.84,1139.03 1975.24,1139.03 1978.64,1139.03 1982.04,1139.03 1985.45,1139.03 \n",
       "  1988.85,1139.03 1992.25,1139.03 1995.65,1139.03 1999.05,1139.03 2002.46,1139.03 2005.86,1139.03 2009.26,1139.03 2012.66,1139.03 2016.06,1139.03 2019.46,1139.03 \n",
       "  2022.87,1139.03 2026.27,1139.03 2029.67,1139.03 2033.07,1139.03 2036.47,1139.03 2039.88,1139.03 2043.28,1139.03 2046.68,1139.03 2050.08,1139.03 2053.48,1139.03 \n",
       "  2056.89,1139.03 2060.29,1139.03 2063.69,1139.03 2067.09,1139.03 2070.49,1139.03 2073.9,1139.03 2077.3,1139.03 2080.7,1139.03 2084.1,1139.03 2087.5,1139.03 \n",
       "  2090.91,1139.03 2094.31,1139.03 2097.71,1139.03 2101.11,1139.03 2104.51,1139.03 2107.92,1139.03 2111.32,1139.03 2114.72,1139.03 2118.12,1139.03 2121.52,1139.03 \n",
       "  2124.93,1139.03 2128.33,1139.03 2131.73,1139.03 2135.13,1139.03 2138.53,1139.03 2141.94,1139.03 2145.34,1139.03 2148.74,1139.03 2152.14,1139.03 2155.54,1139.03 \n",
       "  2158.95,1139.03 2162.35,1139.03 2165.75,1139.03 2169.15,1139.03 2172.55,1139.03 2175.96,1139.03 2179.36,1139.03 2182.76,1139.03 2186.16,1139.03 2189.56,1139.03 \n",
       "  2192.97,1139.03 2196.37,1139.03 2199.77,1139.03 2203.17,1139.03 2206.57,1139.03 2209.98,1139.03 2213.38,1139.03 2216.78,1139.03 2220.18,1139.03 2223.58,1139.03 \n",
       "  2226.99,1139.03 2230.39,1139.03 2233.79,1139.03 2237.19,1139.03 2240.59,1139.03 2243.99,1139.03 2247.4,1139.03 2250.8,1139.03 2254.2,1139.03 2257.6,1139.03 \n",
       "  2261,1139.03 2264.41,1139.03 2267.81,1139.03 2271.21,1139.03 2274.61,1139.03 2278.01,1139.03 2281.42,1139.03 2284.82,1139.03 2288.22,1139.03 2291.62,1139.03 \n",
       "  \n",
       "  \"/>\n",
       "<path clip-path=\"url(#clip150)\" d=\"\n",
       "M1935.87 276.658 L2280.75 276.658 L2280.75 95.2176 L1935.87 95.2176  Z\n",
       "  \" fill=\"#ffffff\" fill-rule=\"evenodd\" fill-opacity=\"1\"/>\n",
       "<polyline clip-path=\"url(#clip150)\" style=\"stroke:#000000; stroke-linecap:butt; stroke-linejoin:round; stroke-width:4; stroke-opacity:1; fill:none\" points=\"\n",
       "  1935.87,276.658 2280.75,276.658 2280.75,95.2176 1935.87,95.2176 1935.87,276.658 \n",
       "  \"/>\n",
       "<polyline clip-path=\"url(#clip150)\" style=\"stroke:#009af9; stroke-linecap:butt; stroke-linejoin:round; stroke-width:4; stroke-opacity:1; fill:none\" points=\"\n",
       "  1959.87,155.698 2103.87,155.698 \n",
       "  \"/>\n",
       "<path clip-path=\"url(#clip150)\" d=\"M2144.37 136.959 L2144.37 140.501 L2140.3 140.501 Q2138.01 140.501 2137.11 141.427 Q2136.23 142.353 2136.23 144.76 L2136.23 147.052 L2143.24 147.052 L2143.24 150.362 L2136.23 150.362 L2136.23 172.978 L2131.94 172.978 L2131.94 150.362 L2127.87 150.362 L2127.87 147.052 L2131.94 147.052 L2131.94 145.246 Q2131.94 140.918 2133.96 138.95 Q2135.97 136.959 2140.35 136.959 L2144.37 136.959 Z\" fill=\"#000000\" fill-rule=\"evenodd\" fill-opacity=\"1\" /><path clip-path=\"url(#clip150)\" d=\"M2147.94 136.959 L2152.2 136.959 L2152.2 172.978 L2147.94 172.978 L2147.94 136.959 Z\" fill=\"#000000\" fill-rule=\"evenodd\" fill-opacity=\"1\" /><path clip-path=\"url(#clip150)\" d=\"M2160.67 162.746 L2160.67 147.052 L2164.93 147.052 L2164.93 162.584 Q2164.93 166.265 2166.36 168.116 Q2167.8 169.945 2170.67 169.945 Q2174.12 169.945 2176.11 167.746 Q2178.12 165.547 2178.12 161.751 L2178.12 147.052 L2182.38 147.052 L2182.38 172.978 L2178.12 172.978 L2178.12 168.996 Q2176.57 171.357 2174.51 172.515 Q2172.48 173.649 2169.77 173.649 Q2165.3 173.649 2162.99 170.871 Q2160.67 168.093 2160.67 162.746 M2171.39 146.427 L2171.39 146.427 Z\" fill=\"#000000\" fill-rule=\"evenodd\" fill-opacity=\"1\" /><path clip-path=\"url(#clip150)\" d=\"M2191.16 147.052 L2195.42 147.052 L2195.42 172.978 L2191.16 172.978 L2191.16 147.052 M2191.16 136.959 L2195.42 136.959 L2195.42 142.353 L2191.16 142.353 L2191.16 136.959 Z\" fill=\"#000000\" fill-rule=\"evenodd\" fill-opacity=\"1\" /><path clip-path=\"url(#clip150)\" d=\"M2221.39 150.987 L2221.39 136.959 L2225.65 136.959 L2225.65 172.978 L2221.39 172.978 L2221.39 169.089 Q2220.05 171.403 2217.98 172.538 Q2215.95 173.649 2213.08 173.649 Q2208.38 173.649 2205.42 169.899 Q2202.48 166.149 2202.48 160.038 Q2202.48 153.927 2205.42 150.177 Q2208.38 146.427 2213.08 146.427 Q2215.95 146.427 2217.98 147.561 Q2220.05 148.672 2221.39 150.987 M2206.87 160.038 Q2206.87 164.737 2208.8 167.422 Q2210.74 170.084 2214.12 170.084 Q2217.5 170.084 2219.44 167.422 Q2221.39 164.737 2221.39 160.038 Q2221.39 155.339 2219.44 152.677 Q2217.5 149.992 2214.12 149.992 Q2210.74 149.992 2208.8 152.677 Q2206.87 155.339 2206.87 160.038 Z\" fill=\"#000000\" fill-rule=\"evenodd\" fill-opacity=\"1\" /><polyline clip-path=\"url(#clip150)\" style=\"stroke:#e26f46; stroke-linecap:butt; stroke-linejoin:round; stroke-width:4; stroke-opacity:1; fill:none\" points=\"\n",
       "  1959.87,216.178 2103.87,216.178 \n",
       "  \"/>\n",
       "<path clip-path=\"url(#clip150)\" d=\"M2148.38 208.527 L2148.38 212.509 Q2146.57 211.513 2144.74 211.027 Q2142.94 210.518 2141.09 210.518 Q2136.94 210.518 2134.65 213.157 Q2132.36 215.772 2132.36 220.518 Q2132.36 225.263 2134.65 227.902 Q2136.94 230.518 2141.09 230.518 Q2142.94 230.518 2144.74 230.032 Q2146.57 229.522 2148.38 228.527 L2148.38 232.462 Q2146.6 233.296 2144.68 233.712 Q2142.78 234.129 2140.62 234.129 Q2134.77 234.129 2131.32 230.448 Q2127.87 226.768 2127.87 220.518 Q2127.87 214.175 2131.34 210.541 Q2134.84 206.907 2140.9 206.907 Q2142.87 206.907 2144.74 207.323 Q2146.62 207.717 2148.38 208.527 Z\" fill=\"#000000\" fill-rule=\"evenodd\" fill-opacity=\"1\" /><path clip-path=\"url(#clip150)\" d=\"M2165.83 210.518 Q2162.41 210.518 2160.42 213.203 Q2158.43 215.865 2158.43 220.518 Q2158.43 225.171 2160.39 227.856 Q2162.38 230.518 2165.83 230.518 Q2169.24 230.518 2171.23 227.833 Q2173.22 225.147 2173.22 220.518 Q2173.22 215.911 2171.23 213.226 Q2169.24 210.518 2165.83 210.518 M2165.83 206.907 Q2171.39 206.907 2174.56 210.518 Q2177.73 214.129 2177.73 220.518 Q2177.73 226.884 2174.56 230.518 Q2171.39 234.129 2165.83 234.129 Q2160.25 234.129 2157.08 230.518 Q2153.93 226.884 2153.93 220.518 Q2153.93 214.129 2157.08 210.518 Q2160.25 206.907 2165.83 206.907 Z\" fill=\"#000000\" fill-rule=\"evenodd\" fill-opacity=\"1\" /><path clip-path=\"url(#clip150)\" d=\"M2206.34 217.809 L2206.34 233.458 L2202.08 233.458 L2202.08 217.948 Q2202.08 214.268 2200.65 212.439 Q2199.21 210.61 2196.34 210.61 Q2192.89 210.61 2190.9 212.81 Q2188.91 215.009 2188.91 218.805 L2188.91 233.458 L2184.63 233.458 L2184.63 207.532 L2188.91 207.532 L2188.91 211.56 Q2190.44 209.222 2192.5 208.064 Q2194.58 206.907 2197.29 206.907 Q2201.76 206.907 2204.05 209.685 Q2206.34 212.439 2206.34 217.809 Z\" fill=\"#000000\" fill-rule=\"evenodd\" fill-opacity=\"1\" /><path clip-path=\"url(#clip150)\" d=\"M2231.36 208.296 L2231.36 212.323 Q2229.56 211.397 2227.61 210.935 Q2225.67 210.472 2223.59 210.472 Q2220.42 210.472 2218.82 211.444 Q2217.24 212.416 2217.24 214.36 Q2217.24 215.842 2218.38 216.698 Q2219.51 217.532 2222.94 218.296 L2224.4 218.62 Q2228.93 219.592 2230.83 221.374 Q2232.75 223.134 2232.75 226.305 Q2232.75 229.916 2229.88 232.022 Q2227.04 234.129 2222.04 234.129 Q2219.95 234.129 2217.68 233.712 Q2215.44 233.319 2212.94 232.508 L2212.94 228.11 Q2215.3 229.337 2217.59 229.962 Q2219.88 230.564 2222.13 230.564 Q2225.14 230.564 2226.76 229.546 Q2228.38 228.504 2228.38 226.629 Q2228.38 224.893 2227.2 223.967 Q2226.04 223.041 2222.08 222.184 L2220.6 221.837 Q2216.64 221.004 2214.88 219.291 Q2213.12 217.555 2213.12 214.546 Q2213.12 210.888 2215.72 208.898 Q2218.31 206.907 2223.08 206.907 Q2225.44 206.907 2227.52 207.254 Q2229.61 207.601 2231.36 208.296 Z\" fill=\"#000000\" fill-rule=\"evenodd\" fill-opacity=\"1\" /></svg>\n"
      ]
     },
     "execution_count": 92,
     "metadata": {},
     "output_type": "execute_result"
    }
   ],
   "source": [
    "plot(x,flu_0[:,2], label=\"fluid\")\n",
    "plot!(x,con_0[:,2], label=\"cons\")"
   ]
  },
  {
   "cell_type": "markdown",
   "metadata": {},
   "source": [
    "## Evolution\n",
    "\n",
    "First some memory allocations to make the functions fast:"
   ]
  },
  {
   "cell_type": "code",
   "execution_count": 93,
   "metadata": {
    "tags": []
   },
   "outputs": [],
   "source": [
    "#we initialize empty arrays\n",
    "    F_P = Array{Float64}(undef, U);\n",
    "\n",
    "    F_P = copy(F_P);\n",
    "    F_M = copy(F_P);\n",
    "    F_Pm3 = copy(F_P);\n",
    "    F_Pm2 = copy(F_P);\n",
    "    F_Pm1 = copy(F_P);\n",
    "    F_Pp1 = copy(F_P);\n",
    "    F_Pp2 = copy(F_P);\n",
    "    F_Pp3 = copy(F_P);\n",
    "    F_Mm3 = copy(F_P);\n",
    "    F_Mm2 = copy(F_P);\n",
    "    F_Mm1 = copy(F_P);\n",
    "    F_Mp1 = copy(F_P);\n",
    "    F_Mp2 = copy(F_P);\n",
    "    F_Mp3 = copy(F_P);\n",
    "\n",
    "    F_LP = copy(F_P);\n",
    "    F_LM = copy(F_P);\n",
    "    F_RM = copy(F_P);\n",
    "    F_RP = copy(F_P);\n",
    "    H_m = copy(F_P);\n",
    "    H_p = copy(F_P);\n",
    "    sourcevec = copy(F_P);\n",
    "    \n",
    "    par_mem = (F_Mm3, F_Mm2, F_Mm1, F_M, F_Mp1, F_Mp2, F_Mp3, F_Pm3, F_Pm2, \n",
    "    F_Pm1, F_P, F_Pp1, F_Pp2, F_Pp3, F_LP, F_LM, F_RP, F_RM, H_m, H_p, sourcevec); "
   ]
  },
  {
   "cell_type": "markdown",
   "metadata": {},
   "source": [
    "Final set of parameters to pass to the ODE integrator"
   ]
  },
  {
   "cell_type": "code",
   "execution_count": 94,
   "metadata": {},
   "outputs": [],
   "source": [
    "par = (par_eq, par_inv, 1.0/dx, U, M, Flux_imp!, Speed_max, Is!, c_to_f!, par_mem);\n",
    "        #par = (par_eq, par_inv, 1. /dx, U, M, Flux_imp!, Speed_max, Is_dummy!, c_to_f!, par_mem);\n",
    "    #if Euler\n",
    "    #    par = (par_eq, par_inv, 1. /dx, U, M, Flux_imp!, Speed_max, Is_dummy!, c_to_f!, par_mem);\n",
    "    #end"
   ]
  },
  {
   "cell_type": "code",
   "execution_count": 95,
   "metadata": {},
   "outputs": [
    {
     "data": {
      "text/plain": [
       "evolution_fast (generic function with 1 method)"
      ]
     },
     "execution_count": 95,
     "metadata": {},
     "output_type": "execute_result"
    }
   ],
   "source": [
    "function evolution_fast(du,u,par,t)\n",
    "    # this is the function that is taken by the time-integrator\n",
    "    par_eq, par_inv, h, U, M, Flux, Speed_max, Source, c_to_f, par_mem = par\n",
    "    \n",
    "    χ, ξ = par_eq\n",
    "    \n",
    "    if Euler\n",
    "    c_to_f_direct!(u,(U, M))\n",
    "    else\n",
    "    c_to_f!(u,par_inv)\n",
    "    end\n",
    "    \n",
    "    par_mp5 = (h, U, M, χ, par_eq, Flux, Speed_max, Source, par_mem)\n",
    "    \n",
    "    mp5!(du,u,par_mp5,t)\n",
    "    return du[:]\n",
    "end"
   ]
  },
  {
   "cell_type": "code",
   "execution_count": null,
   "metadata": {
    "tags": []
   },
   "outputs": [
    {
     "ename": "LoadError",
     "evalue": "InterruptException:",
     "output_type": "error",
     "traceback": [
      "InterruptException:",
      "",
      "Stacktrace:",
      "  [1] Array",
      "    @ ./boot.jl:448 [inlined]",
      "  [2] similar",
      "    @ ./array.jl:357 [inlined]",
      "  [3] getindex(A::Vector{Float64}, c::Colon)",
      "    @ Base ./array.jl:817",
      "  [4] Flux_imp!(Fl::Vector{Float64}, u::SubArray{Float64, 1, Matrix{Float64}, Tuple{Int64, Base.Slice{Base.OneTo{Int64}}}, true}, p::Vector{Float64})",
      "    @ Main ~/Julia/Fluidos_Conformes/Flux_function_ext.jl:62",
      "  [5] mp5!(dv::Vector{Float64}, v::Vector{Float64}, par::Tuple{Float64, Int64, Int64, Vector{Float64}, Tuple{Vector{Float64}, Vector{Float64}}, typeof(Flux_imp!), typeof(Speed_max), typeof(Is!), NTuple{21, Vector{Float64}}}, t::Float64)",
      "    @ Main ~/Julia/Fluidos_Conformes/choques_utils.jl:287",
      "  [6] evolution_fast",
      "    @ ./In[95]:15 [inlined]",
      "  [7] ODEFunction",
      "    @ ~/.julia/packages/SciMLBase/grNUR/src/scimlfunctions.jl:334 [inlined]",
      "  [8] perform_step!(integrator::OrdinaryDiffEq.ODEIntegrator{SSPRK33{typeof(OrdinaryDiffEq.trivial_limiter!), typeof(OrdinaryDiffEq.trivial_limiter!)}, true, Vector{Float64}, Nothing, Float64, Tuple{Tuple{Vector{Float64}, Vector{Float64}}, Tuple{Vector{Float64}, Float64, Int64, Int64, Int64, typeof(f2c!), var\"#9#10\"}, Float64, Int64, Int64, typeof(Flux_imp!), typeof(Speed_max), typeof(Is!), typeof(c_to_f!), NTuple{21, Vector{Float64}}}, Float64, Float64, Float64, Vector{Vector{Float64}}, ODESolution{Float64, 2, Vector{Vector{Float64}}, Nothing, Nothing, Vector{Float64}, Vector{Vector{Vector{Float64}}}, ODEProblem{Vector{Float64}, Tuple{Float64, Float64}, true, Tuple{Tuple{Vector{Float64}, Vector{Float64}}, Tuple{Vector{Float64}, Float64, Int64, Int64, Int64, typeof(f2c!), var\"#9#10\"}, Float64, Int64, Int64, typeof(Flux_imp!), typeof(Speed_max), typeof(Is!), typeof(c_to_f!), NTuple{21, Vector{Float64}}}, ODEFunction{true, typeof(evolution_fast), LinearAlgebra.UniformScaling{Bool}, Nothing, Nothing, Nothing, Nothing, Nothing, Nothing, Nothing, Nothing, Nothing, Nothing, Nothing, Nothing, typeof(SciMLBase.DEFAULT_OBSERVED), Nothing}, Base.Iterators.Pairs{Union{}, Union{}, Tuple{}, NamedTuple{(), Tuple{}}}, SciMLBase.StandardODEProblem}, SSPRK33{typeof(OrdinaryDiffEq.trivial_limiter!), typeof(OrdinaryDiffEq.trivial_limiter!)}, OrdinaryDiffEq.InterpolationData{ODEFunction{true, typeof(evolution_fast), LinearAlgebra.UniformScaling{Bool}, Nothing, Nothing, Nothing, Nothing, Nothing, Nothing, Nothing, Nothing, Nothing, Nothing, Nothing, Nothing, typeof(SciMLBase.DEFAULT_OBSERVED), Nothing}, Vector{Vector{Float64}}, Vector{Float64}, Vector{Vector{Vector{Float64}}}, OrdinaryDiffEq.SSPRK33Cache{Vector{Float64}, Vector{Float64}, typeof(OrdinaryDiffEq.trivial_limiter!), typeof(OrdinaryDiffEq.trivial_limiter!)}}, DiffEqBase.DEStats}, ODEFunction{true, typeof(evolution_fast), LinearAlgebra.UniformScaling{Bool}, Nothing, Nothing, Nothing, Nothing, Nothing, Nothing, Nothing, Nothing, Nothing, Nothing, Nothing, Nothing, typeof(SciMLBase.DEFAULT_OBSERVED), Nothing}, OrdinaryDiffEq.SSPRK33Cache{Vector{Float64}, Vector{Float64}, typeof(OrdinaryDiffEq.trivial_limiter!), typeof(OrdinaryDiffEq.trivial_limiter!)}, OrdinaryDiffEq.DEOptions{Float64, Float64, Float64, Float64, PIController{Float64}, typeof(DiffEqBase.ODE_DEFAULT_NORM), typeof(LinearAlgebra.opnorm), Nothing, CallbackSet{Tuple{}, Tuple{}}, typeof(DiffEqBase.ODE_DEFAULT_ISOUTOFDOMAIN), typeof(DiffEqBase.ODE_DEFAULT_PROG_MESSAGE), typeof(DiffEqBase.ODE_DEFAULT_UNSTABLE_CHECK), DataStructures.BinaryMinHeap{Float64}, DataStructures.BinaryMinHeap{Float64}, Nothing, Nothing, Int64, Tuple{}, Float64, Tuple{}}, Vector{Float64}, Float64, Nothing, OrdinaryDiffEq.DefaultInit}, cache::OrdinaryDiffEq.SSPRK33Cache{Vector{Float64}, Vector{Float64}, typeof(OrdinaryDiffEq.trivial_limiter!), typeof(OrdinaryDiffEq.trivial_limiter!)}, repeat_step::Bool)",
      "    @ OrdinaryDiffEq ~/.julia/packages/OrdinaryDiffEq/zbCbk/src/perform_step/ssprk_perform_step.jl:371",
      "  [9] perform_step!",
      "    @ ~/.julia/packages/OrdinaryDiffEq/zbCbk/src/perform_step/ssprk_perform_step.jl:367 [inlined]",
      " [10] solve!(integrator::OrdinaryDiffEq.ODEIntegrator{SSPRK33{typeof(OrdinaryDiffEq.trivial_limiter!), typeof(OrdinaryDiffEq.trivial_limiter!)}, true, Vector{Float64}, Nothing, Float64, Tuple{Tuple{Vector{Float64}, Vector{Float64}}, Tuple{Vector{Float64}, Float64, Int64, Int64, Int64, typeof(f2c!), var\"#9#10\"}, Float64, Int64, Int64, typeof(Flux_imp!), typeof(Speed_max), typeof(Is!), typeof(c_to_f!), NTuple{21, Vector{Float64}}}, Float64, Float64, Float64, Vector{Vector{Float64}}, ODESolution{Float64, 2, Vector{Vector{Float64}}, Nothing, Nothing, Vector{Float64}, Vector{Vector{Vector{Float64}}}, ODEProblem{Vector{Float64}, Tuple{Float64, Float64}, true, Tuple{Tuple{Vector{Float64}, Vector{Float64}}, Tuple{Vector{Float64}, Float64, Int64, Int64, Int64, typeof(f2c!), var\"#9#10\"}, Float64, Int64, Int64, typeof(Flux_imp!), typeof(Speed_max), typeof(Is!), typeof(c_to_f!), NTuple{21, Vector{Float64}}}, ODEFunction{true, typeof(evolution_fast), LinearAlgebra.UniformScaling{Bool}, Nothing, Nothing, Nothing, Nothing, Nothing, Nothing, Nothing, Nothing, Nothing, Nothing, Nothing, Nothing, typeof(SciMLBase.DEFAULT_OBSERVED), Nothing}, Base.Iterators.Pairs{Union{}, Union{}, Tuple{}, NamedTuple{(), Tuple{}}}, SciMLBase.StandardODEProblem}, SSPRK33{typeof(OrdinaryDiffEq.trivial_limiter!), typeof(OrdinaryDiffEq.trivial_limiter!)}, OrdinaryDiffEq.InterpolationData{ODEFunction{true, typeof(evolution_fast), LinearAlgebra.UniformScaling{Bool}, Nothing, Nothing, Nothing, Nothing, Nothing, Nothing, Nothing, Nothing, Nothing, Nothing, Nothing, Nothing, typeof(SciMLBase.DEFAULT_OBSERVED), Nothing}, Vector{Vector{Float64}}, Vector{Float64}, Vector{Vector{Vector{Float64}}}, OrdinaryDiffEq.SSPRK33Cache{Vector{Float64}, Vector{Float64}, typeof(OrdinaryDiffEq.trivial_limiter!), typeof(OrdinaryDiffEq.trivial_limiter!)}}, DiffEqBase.DEStats}, ODEFunction{true, typeof(evolution_fast), LinearAlgebra.UniformScaling{Bool}, Nothing, Nothing, Nothing, Nothing, Nothing, Nothing, Nothing, Nothing, Nothing, Nothing, Nothing, Nothing, typeof(SciMLBase.DEFAULT_OBSERVED), Nothing}, OrdinaryDiffEq.SSPRK33Cache{Vector{Float64}, Vector{Float64}, typeof(OrdinaryDiffEq.trivial_limiter!), typeof(OrdinaryDiffEq.trivial_limiter!)}, OrdinaryDiffEq.DEOptions{Float64, Float64, Float64, Float64, PIController{Float64}, typeof(DiffEqBase.ODE_DEFAULT_NORM), typeof(LinearAlgebra.opnorm), Nothing, CallbackSet{Tuple{}, Tuple{}}, typeof(DiffEqBase.ODE_DEFAULT_ISOUTOFDOMAIN), typeof(DiffEqBase.ODE_DEFAULT_PROG_MESSAGE), typeof(DiffEqBase.ODE_DEFAULT_UNSTABLE_CHECK), DataStructures.BinaryMinHeap{Float64}, DataStructures.BinaryMinHeap{Float64}, Nothing, Nothing, Int64, Tuple{}, Float64, Tuple{}}, Vector{Float64}, Float64, Nothing, OrdinaryDiffEq.DefaultInit})",
      "    @ OrdinaryDiffEq ~/.julia/packages/OrdinaryDiffEq/zbCbk/src/solve.jl:477",
      " [11] #__solve#466",
      "    @ ~/.julia/packages/OrdinaryDiffEq/zbCbk/src/solve.jl:5 [inlined]",
      " [12] #solve_call#58",
      "    @ ~/.julia/packages/DiffEqBase/lULzQ/src/solve.jl:61 [inlined]",
      " [13] solve_up(prob::ODEProblem{Vector{Float64}, Tuple{Float64, Float64}, true, Tuple{Tuple{Vector{Float64}, Vector{Float64}}, Tuple{Vector{Float64}, Float64, Int64, Int64, Int64, typeof(f2c!), var\"#9#10\"}, Float64, Int64, Int64, typeof(Flux_imp!), typeof(Speed_max), typeof(Is!), typeof(c_to_f!), NTuple{21, Vector{Float64}}}, ODEFunction{true, typeof(evolution_fast), LinearAlgebra.UniformScaling{Bool}, Nothing, Nothing, Nothing, Nothing, Nothing, Nothing, Nothing, Nothing, Nothing, Nothing, Nothing, Nothing, typeof(SciMLBase.DEFAULT_OBSERVED), Nothing}, Base.Iterators.Pairs{Union{}, Union{}, Tuple{}, NamedTuple{(), Tuple{}}}, SciMLBase.StandardODEProblem}, sensealg::Nothing, u0::Vector{Float64}, p::Tuple{Tuple{Vector{Float64}, Vector{Float64}}, Tuple{Vector{Float64}, Float64, Int64, Int64, Int64, typeof(f2c!), var\"#9#10\"}, Float64, Int64, Int64, typeof(Flux_imp!), typeof(Speed_max), typeof(Is!), typeof(c_to_f!), NTuple{21, Vector{Float64}}}, args::SSPRK33{typeof(OrdinaryDiffEq.trivial_limiter!), typeof(OrdinaryDiffEq.trivial_limiter!)}; kwargs::Base.Iterators.Pairs{Symbol, Float64, Tuple{Symbol, Symbol}, NamedTuple{(:dt, :saveat), Tuple{Float64, Float64}}})",
      "    @ DiffEqBase ~/.julia/packages/DiffEqBase/lULzQ/src/solve.jl:82",
      " [14] #solve#59",
      "    @ ~/.julia/packages/DiffEqBase/lULzQ/src/solve.jl:70 [inlined]",
      " [15] top-level scope",
      "    @ In[96]:2",
      " [16] eval",
      "    @ ./boot.jl:360 [inlined]",
      " [17] include_string(mapexpr::typeof(REPL.softscope), mod::Module, code::String, filename::String)",
      "    @ Base ./loading.jl:1094"
     ]
    }
   ],
   "source": [
    "prob = ODEProblem(evolution_fast,u_i,(0.0,tf),par);\n",
    "sol = solve(prob,SSPRK33(),dt=dt,saveat=0.01*tf);\n",
    "    #sol = solve(prob,SSPRK33(),saveat=0.01*t);\n",
    "#sol = solve(prob,SSPRK33(),dt=dt,save_everystep=false) # to get just the end values\n",
    "#sol = solve(prob,RK4(),dt=dt);\n",
    "@bell sleep(3)"
   ]
  },
  {
   "cell_type": "markdown",
   "metadata": {},
   "source": [
    "### Save the solution (be carefull not to overwrite old ones!) This is changed when choosing the initial data."
   ]
  },
  {
   "cell_type": "code",
   "execution_count": null,
   "metadata": {
    "tags": []
   },
   "outputs": [],
   "source": [
    "save(\"Resultados/Soluciones/$out_name.jld2\", Dict(\"$out_name\" => sol))\n",
    "#sol = load(\"Resultados/Soluciones/$name.jld2\",\"$name\");"
   ]
  },
  {
   "cell_type": "markdown",
   "metadata": {},
   "source": [
    "### Results analysis"
   ]
  },
  {
   "cell_type": "code",
   "execution_count": null,
   "metadata": {},
   "outputs": [],
   "source": [
    "#sol(t) = sol_nr_p5(t) - sol_nr_n0(t)\n",
    "#sol(t) = sol_n0_0(t)\n",
    "field = 1\n",
    "plot(x,reshape(sol(0.),(M,U))[:,field], label=\"ti\", ls=:dot)\n",
    "plot!(x,reshape(sol(tf/8),(M,U))[:,field])\n",
    "plot!(x,reshape(sol(tf/4),(M,U))[:,field])\n",
    "plot!(x,reshape(sol(tf/2),(M,U))[:,field])\n",
    "plot!(x,reshape(sol(tf),(M,U))[:,field], label=\"tf\", ls=:dash)"
   ]
  },
  {
   "cell_type": "code",
   "execution_count": null,
   "metadata": {},
   "outputs": [],
   "source": [
    "##### ssol(t) = sol_dir_n0(t)\n",
    "#ssol(t) = sol(t)\n",
    "t=tf\n",
    "shift = 0# U÷2 # 0 is conserv otherwise is fluid\n",
    "anim = @animate for i ∈ 1:100\n",
    "    t = tf*(0.01*i)\n",
    "    plot((reshape(sol(t),(M,U))[:,shift+1] .- 0.17),label=\"e\"\n",
    "        , yaxis = (\"conserv\", (-0.15,0.2))\n",
    "    )\n",
    "    plot!((reshape(sol(t),(M,U))[:,shift+2] .- 0.),label=\"s\")\n",
    "    plot!(0.20 *reshape(sol(t),(M,U))[:,shift+3] .- 0.,label=\"c1\")\n",
    "    plot!(0.20 *reshape(sol(t),(M,U))[:,shift+4],label=\"c2\")\n",
    "    plot!(0.20 *reshape(sol(t),(M,U))[:,shift+5] .- 0.,label=\"c3\")\n",
    "end\n",
    "\n",
    "gif(anim, \"Resultados/Movies/con_$out_name.gif\", fps = 10)"
   ]
  },
  {
   "cell_type": "code",
   "execution_count": null,
   "metadata": {},
   "outputs": [],
   "source": [
    "#ssol(t) = sol_dir_n0(t)\n",
    "ssol(t) = sol(t)\n",
    "shift = U÷2 # 0 is conserv otherwise is fluid\n",
    "t = tf \n",
    "A1 = χ[2]       #1\n",
    "A2 = -χ[3]*16/5 #-16A2 # A2 = 1.1474099846235424\n",
    "A3 = χ[3]*4     #20A1 #-1.43426248077943\n",
    "anim = @animate for i ∈ 1:100\n",
    "    plot((reshape(ssol(t*0.01*i),(M,U))[:,shift+1] .+ 6),label=\"μ\"\n",
    "        #,yaxis = (\"fluid\", (-1.25,1.25))\n",
    "    )\n",
    "    plot!((reshape(ssol(t*0.01*i),(M,U))[:,shift+2]) ,label=\"v\", ls=:dot)\n",
    "    plot!(reshape(ssol(t*0.01*i),(M,U))[:,shift+3].*50 ,label=\"x1\", ls=:dot)\n",
    "    plot!(reshape(ssol(t*0.01*i),(M,U))[:,shift+4].*500 ,label=\"x2\", ls=:dash)\n",
    "    plot!(reshape(ssol(t*0.01*i),(M,U))[:,shift+5].*500 ,label=\"x3\")\n",
    "    #plot!(1.0 .*(A1 .* reshape(ssol(t*0.01*i),(M,U))[:,shift+ 1] .+ A2 .* reshape(ssol(t*0.01*i),(M,U))[:,shift+3]  .+ A3 .* reshape(ssol(t*0.01*i),(M,U))[:,shift+5] .- 1.),label=\"modo cero\")\n",
    "end\n",
    "\n",
    "gif(anim, \"Resultados/Movies/flu_$out_name.gif\", fps = 10)"
   ]
  },
  {
   "cell_type": "code",
   "execution_count": null,
   "metadata": {},
   "outputs": [],
   "source": [
    "##### ssol(t) = sol_dir_n0(t)\n",
    "ssol(t) = sol(t)\n",
    "t = tf\n",
    "shift = 0# U÷2 # 0 is conserv otherwise is fluid\n",
    "    plot(reshape(ssol(t),(M,U))[:,shift+1] .- 0.170,label=\"e\" \n",
    "    #,xlim = (0,60)\n",
    "    , yaxis = (\"conserv\"\n",
    "    #, (-0.25,0.2)\n",
    "    )\n",
    "    )\n",
    "    plot!(reshape(ssol(t),(M,U))[:,shift+2] .- 0.,label=\"s\")\n",
    "    plot!(reshape(ssol(t),(M,U))[:,shift+3] .- 0.,label=\"c1\")\n",
    "    plot!(reshape(ssol(t),(M,U))[:,shift+4],label=\"c2\")\n",
    "    plot!(reshape(ssol(t),(M,U))[:,shift+5] .- 0.,label=\"c3\")"
   ]
  },
  {
   "cell_type": "markdown",
   "metadata": {},
   "source": [
    "### Zero mode: \n",
    "\n",
    "This part is outdated, new values have to be computed now. Not done yet."
   ]
  },
  {
   "cell_type": "code",
   "execution_count": 22,
   "metadata": {},
   "outputs": [
    {
     "name": "stderr",
     "output_type": "stream",
     "text": [
      "┌ Info: Saved animation to \n",
      "│   fn = /Users/reula/Julia/Fluidos_Conformes/Resultados/Movies/zero_sourcebig_right_long.gif\n",
      "└ @ Plots /Users/reula/.julia/packages/Plots/XuV6v/src/animation.jl:104\n"
     ]
    },
    {
     "data": {
      "text/html": [
       "<img src=\"data:image/gif;base64,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\" />"
      ],
      "text/plain": [
       "Plots.AnimatedGif(\"/Users/reula/Julia/Fluidos_Conformes/Resultados/Movies/zero_sourcebig_right_long.gif\")"
      ]
     },
     "execution_count": 22,
     "metadata": {},
     "output_type": "execute_result"
    }
   ],
   "source": [
    "# This part is outdated, new values have to be computed now. Not done yet.\n",
    "\n",
    "\n",
    "t = tf\n",
    "A1 = 1\n",
    "A2 = -16\n",
    "A3 = 20\n",
    "B1 = χ[2]\n",
    "B2 = -χ[3]*16/5\n",
    "B3 = χ[3]*4\n",
    "shift = 5\n",
    "anim = @animate for i ∈ 1:100\n",
    "    plot(A1 .* reshape(ssol(t*0.01*i),(M,U))[:,shift+ 1] .+ A2 .* reshape(ssol(t*0.01*i),(M,U))[:,shift+3]  .+ A3 .* reshape(ssol(t*0.01*i),(M,U))[:,shift+5] .+ 1\n",
    "    ,label=\"extraño modo cero\"\n",
    "    , yaxis = (\"fluid\", (-0.1 , 0.10))\n",
    "    )\n",
    "    #plot!(1.1/1.4*(B1 .* reshape(ssol(t*0.01*i),(M,U))[:,shift+ 1] .+ B2 .* reshape(ssol(t*0.01*i),(M,U))[:,shift+3]  .+ B3 .* reshape(ssol(t*0.01*i),(M,U))[:,shift+5])\n",
    "    #    ,label=\"modo cero\")\n",
    "    plot!((B1 .* reshape(ssol(t*0.01*i),(M,U))[:,shift+ 1] .+ B2 .* reshape(ssol(t*0.01*i),(M,U))[:,shift+3]  .+ B3 .* reshape(ssol(t*0.01*i),(M,U))[:,shift+5] .- 1.)\n",
    "        ,label=\"modo cero\")\n",
    "end\n",
    "\n",
    "gif(anim, \"Resultados/Movies/zero_source$out_name.gif\", fps = 10)"
   ]
  },
  {
   "cell_type": "markdown",
   "metadata": {},
   "source": [
    "### Conservation Check"
   ]
  },
  {
   "cell_type": "code",
   "execution_count": null,
   "metadata": {},
   "outputs": [],
   "source": [
    "T00_0 = sum(reshape(sol(0),(M,U))[:,1])/M\n",
    "T01_0 = sum(reshape(sol(0),(M,U))[:,2])/M\n",
    "T00 = [sum(reshape(sol(tf*0.01*i) .- T00_0,(M,U))[:,1]) for i in 1:100]/M\n",
    "T01 = [sum(reshape(sol(tf*0.01*i) .- T01_0,(M,U))[:,2]) for i in 1:100]/M\n",
    "\n",
    "plot(T00)\n",
    "plot!(T01)"
   ]
  },
  {
   "cell_type": "code",
   "execution_count": null,
   "metadata": {},
   "outputs": [],
   "source": [
    "a000 = [sum(reshape(sol(tf*0.01*i),(M,U))[:,3]) for i in 1:100]/M\n",
    "a001 = [sum(reshape(sol(tf*0.01*i),(M,U))[:,4]) for i in 1:100]/M\n",
    "a011 = [sum(reshape(sol(tf*0.01*i),(M,U))[:,5]) for i in 1:100]/M\n",
    "\n",
    "\n",
    "plot(a000 .- a000[1], ls=:dash, label=\"<A000>\")\n",
    "plot!(1*(a001.- a001[1]), ls=:dot, lw=4, label=\"<A001>\")\n",
    "plot!(a011.- a011[1], label=\"<A011>\")"
   ]
  },
  {
   "cell_type": "markdown",
   "metadata": {},
   "source": [
    "They should be going down, at least after an initial time, don't seem to stabilize. Though the grows is only linear..."
   ]
  },
  {
   "cell_type": "code",
   "execution_count": null,
   "metadata": {},
   "outputs": [],
   "source": [
    "x1 = [sum(abs.(reshape(sol(tf*0.01*i),(M,U))[:,8])) for i in 1:100]/M\n",
    "x2 = [sum(abs.(reshape(sol(tf*0.01*i),(M,U))[:,9])) for i in 1:100]/M\n",
    "x3 = [sum(abs.(reshape(sol(tf*0.01*i),(M,U))[:,10])) for i in 1:100]/M\n",
    "plot(x1, ls=:dash, label=\"<ν>\")\n",
    "plot!(x2, ls=:dot, lw=4, label=\"<r1>\")\n",
    "plot!(x3, label=\"<τ11>\")"
   ]
  },
  {
   "cell_type": "markdown",
   "metadata": {},
   "source": [
    "The fluid fields out of equilibrium go to zero, also quite slow, lot of structure."
   ]
  },
  {
   "cell_type": "code",
   "execution_count": null,
   "metadata": {},
   "outputs": [],
   "source": [
    "tf"
   ]
  },
  {
   "cell_type": "code",
   "execution_count": null,
   "metadata": {},
   "outputs": [],
   "source": []
  }
 ],
 "metadata": {
  "author": "\\rho",
  "kernelspec": {
   "display_name": "Julia 1.6.1",
   "language": "julia",
   "name": "julia-1.6"
  },
  "language_info": {
   "file_extension": ".jl",
   "mimetype": "application/julia",
   "name": "julia",
   "version": "1.6.1"
  },
  "latex_envs": {
   "LaTeX_envs_menu_present": true,
   "autoclose": false,
   "autocomplete": true,
   "bibliofile": "biblio.bib",
   "cite_by": "apalike",
   "current_citInitial": 1,
   "eqLabelWithNumbers": true,
   "eqNumInitial": 1,
   "hotkeys": {
    "equation": "Ctrl-E",
    "itemize": "Ctrl-I"
   },
   "labels_anchors": false,
   "latex_user_defs": false,
   "report_style_numbering": false,
   "user_envs_cfg": false
  }
 },
 "nbformat": 4,
 "nbformat_minor": 4
}
