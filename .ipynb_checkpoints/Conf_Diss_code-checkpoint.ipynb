{
 "cells": [
  {
   "cell_type": "markdown",
   "metadata": {},
   "source": [
    "## Conformally invariant dissipative relativistic fluid\n",
    "\n",
    "Here we solve numerically the equations deduced in \\ref{xxx}\n",
    "\n",
    "### To Do:\n",
    "\n",
    "1. Use KT also (probably has a mistake to check first)\n",
    "2. Compare with the other code\n",
    "3. Try some other data\n",
    "4. Find some interesting (physically) data. The double shock is interesting and could be measured. "
   ]
  },
  {
   "cell_type": "code",
   "execution_count": 1,
   "metadata": {
    "jupyter": {
     "source_hidden": true
    },
    "tags": []
   },
   "outputs": [],
   "source": [
    "import Pkg; \n",
    "#Pkg.activate(mktempdir())\n",
    "#Pkg.add([\n",
    "#    Pkg.PackageSpec(name=\"DifferentialEquations\", version=\"6.16.0\"),\n",
    "#    Pkg.PackageSpec(name=\"Symbolics\", version=\"0.1.22\"),\n",
    "#    Pkg.PackageSpec(name=\"ForwardDiff\", version=\"0.10\"),\n",
    "#    Pkg.PackageSpec(name=\"Plots\", version=\"1\"),\n",
    "#    Pkg.PackageSpec(name=\"LaTeXStrings\", version=\"1\"),\n",
    "#    Pkg.PackageSpec(name=\"NonlinearSolve\", version=\"0.3\"),\n",
    "#    Pkg.PackageSpec(name=\"StaticArrays\", version=\"0.12\")\n",
    "    #Pkg.PackageSpec(name=\"OrdinaryDiffEq\", version=\"6.17.0\"),\n",
    "#    ])\n",
    "#Pkg.add(\"NonlinearSolve\")\n",
    "#Pkg.add(\"StaticArrays\")\n",
    "Pkg.add(\"IJuliaBell\")\n",
    "#Pkg.add(\"Symbolics@0.1.22\")\n",
    "#Pkg.add(\"OrdinaryDiffEq@6.17.0\")\n",
    "#using NonlinearSolve \n",
    "using StaticArrays\n",
    "using Symbolics\n",
    "using OrdinaryDiffEq\n",
    "using Plots\n",
    "using FileIO\n",
    "using IJuliaBell"
   ]
  },
  {
   "cell_type": "code",
   "execution_count": 2,
   "metadata": {},
   "outputs": [],
   "source": [
    "#mkdir(\"Resultados/Soluciones\")"
   ]
  },
  {
   "cell_type": "markdown",
   "metadata": {},
   "source": [
    "We add the modules needed for the computation:\n",
    "\n",
    "    choques_utils are the mp5 and kt shock capturing schemes\n",
    "    \n",
    "    Flux_functions_ext contain the fluxes and sources for the system\n",
    "    \n",
    "    inversion_ext the inversion between conservative and fluid quantities\n",
    "    \n",
    "The ext means that we are considering a vector of 10 variables, 5 conservative and 5 fluid variables. The fluid variables are evolved with a zero time derivative, and are updated inside the evolution equation using the inversion function."
   ]
  },
  {
   "cell_type": "code",
   "execution_count": 3,
   "metadata": {},
   "outputs": [
    {
     "data": {
      "text/plain": [
       "split_u!"
      ]
     },
     "execution_count": 3,
     "metadata": {},
     "output_type": "execute_result"
    }
   ],
   "source": [
    "include(\"inversion_ext.jl\")"
   ]
  },
  {
   "cell_type": "code",
   "execution_count": 4,
   "metadata": {},
   "outputs": [
    {
     "data": {
      "text/plain": [
       "create_initial_data (generic function with 1 method)"
      ]
     },
     "execution_count": 4,
     "metadata": {},
     "output_type": "execute_result"
    }
   ],
   "source": [
    "include(\"choques_utils.jl\") # all functions needed for evolution\n",
    "include(\"Flux_function_ext.jl\")\n",
    "include(\"initial_data.jl\")"
   ]
  },
  {
   "cell_type": "markdown",
   "metadata": {
    "jupyter": {
     "source_hidden": true
    },
    "tags": []
   },
   "source": [
    "Some set of parameters:\n",
    "\n",
    "This have all $v_0(x) = flu_0[i,2] = 0.1 + 0.1 * (x[i] - x0)^4 * (x[i] - x1)^4 / (x1-x0)^8 * 250 $ in the interval $[0.4,0.6]$\n",
    "\n",
    "$\\mu = flu_0[i,1] = -1.$\n",
    "\n",
    "\n",
    "n_0 χ = [- 1.; 0.; - 1.] Speed = 1 dt/dx = 0.1 T = 2    **This is Euler**\n",
    "\n",
    "p_1 χ = [- 1.; - 2.; - 10.] Speed = 1 dt/dx = 0.1\n",
    "\n",
    "p_2 χ = [- 1.; - 2.; - 10.] Speed = 1 dt/dx = 0.01\n",
    "\n",
    "p_3 χ = [- 1.; - 2.; - 10.] Speed = 10 dt/dx = 0.01\n",
    "\n",
    "p_4 χ = [- 1.; - 0.5; - 200.] Speed = 1 dt/dx = 0.1\n",
    "\n",
    "p_5 χ = [- 1.; -0.5; - 5.] Speed = 1 dt/dx = 0.1 (con fuente) T = 2\n",
    "\n",
    "\n",
    "We now change to a zero background speed and put the pulse near zero so that they don't cross at bad places.\n",
    "\n",
    "n0_0 χ = [- 1.; 0.; - 1.] Speed = 1 dt/dx = 0.1 T = 2    **This is Euler**"
   ]
  },
  {
   "cell_type": "code",
   "execution_count": 5,
   "metadata": {},
   "outputs": [
    {
     "data": {
      "text/plain": [
       "true"
      ]
     },
     "execution_count": 5,
     "metadata": {},
     "output_type": "execute_result"
    }
   ],
   "source": [
    "Euler = false\n",
    "sod = false    # No implementado\n",
    "speed_pulse = false # a simple speed pulse (no muy interesante pues hay pulsos en las dos direcciones)\n",
    "temperature_pulse = false # a simple temperature μ pulse (no implementado)\n",
    "small_pulse_to_the_right = false # low velocity perturbation pulse in just one direction\n",
    "big_pulse_to_the_right = false # Choques (la velocidad no es muy alta todavía)\n",
    "big_pulse_negative_I = false\n",
    "only_diss = false\n",
    "# poner a continuación la que uno quiere usar con un true (así todos los demás quedan en false)\n",
    "\n",
    "#big_pulse_to_the_right = true\n",
    "#big_pulse_to_the_right_E = true\n",
    "#big_pulse_negative_I = true   #no parece funcionar\n",
    "small_pulse_to_the_right = true\n",
    "#only_diss = true\n",
    "\n",
    "#Euler = true"
   ]
  },
  {
   "cell_type": "code",
   "execution_count": 7,
   "metadata": {},
   "outputs": [
    {
     "data": {
      "text/plain": [
       "([-1.0, -0.5, -1.0], 1.0000000000000006e-10, 40, 10, 600)"
      ]
     },
     "execution_count": 7,
     "metadata": {},
     "output_type": "execute_result"
    }
   ],
   "source": [
    "if speed_pulse\n",
    "    name = \"speed_pulse\"\n",
    "    out_name = \"speed_pulse\" \n",
    "    L=2.4 # Length of the integration region\n",
    "    M=600 # number of space-points in the discretization\n",
    "    t=2. # final time\n",
    "    dx = L/M\n",
    "    dt = 0.1 * dx # this depends on the maximal propagation speed\n",
    "    tol = 10^(-10) # error tolerance in inversion function (Newton-Raphson)\n",
    "    iter_max = 40  # maximum number of NR iterations\n",
    "\n",
    "    χ = [- 1.0; - 0.1; - 5.0] # the equation parameters \n",
    "    ξ = [1/15π, 1/1π, 1] # source parámeters κ, λ, η \n",
    "    \n",
    "elseif sod\n",
    "    name = \"sod\" \n",
    "    out_name = \"sod\" \n",
    "    L=1. # Length of the integration region\n",
    "    M=400 # number of space-points in the discretization\n",
    "    t=2. # final time\n",
    "    dx = L/M\n",
    "    dt = 0.1 * dx # this depends on the maximal propagation speed\n",
    "    tol = 10^(-10) # error tolerance in inversion function (Newton-Raphson)\n",
    "    iter_max = 40  # maximum number of NR iterations\n",
    "\n",
    "    χ = [- 1.0; - 0.1; - 5.0] # the equation parameters \n",
    "    ξ = [1/15π, 1/1π, 1] # source parámeters κ, λ, η \n",
    "\n",
    "elseif  small_pulse_to_the_right\n",
    "    name = \"small_pulse_to_the_right\"\n",
    "    out_name = \"small_right_p\" \n",
    "    L=1. # Length of the integration region\n",
    "    M=600 # number of space-points in the discretization\n",
    "    t=1. # 4. final time\n",
    "    dx = L/M\n",
    "    dt = 0.001 * dx # this depends on the maximal propagation speed\n",
    "    tol = 10^(-10) # error tolerance in inversion function (Newton-Raphson)\n",
    "    iter_max = 40  # maximum number of NR iterations\n",
    "    χ = [- 1.0; - 0.5; - 1.0] # the equation parameters \n",
    "    ξ = [1/15π, -1/1π, -0.01/1π] # source parámeters κ, λ, η \n",
    "    \n",
    "elseif  big_pulse_to_the_right\n",
    "    name = \"big_pulse_to_the_right\"\n",
    "    out_name = \"big_right_p\" \n",
    "    L=4. # Length of the integration region\n",
    "    M=600 # number of space-points in the discretization\n",
    "    t=4. # final time\n",
    "    dx = L/M\n",
    "    dt = 0.1 * dx # this depends on the maximal propagation speed\n",
    "    tol = 10^(-10) # error tolerance in inversion function (Newton-Raphson)\n",
    "    iter_max = 400  # maximum number of NR iterations\n",
    "    \n",
    "    χ = [- 1.0; - 0.5; - 10.0] # the equation parameters \n",
    "    ξ = [1/15π, 1/1π, 1] # source parámeters κ, λ, η \n",
    "    \n",
    "elseif  big_pulse_negative_I\n",
    "    name = \"big_right_p_neg_I\" \n",
    "    out_name = name\n",
    "    L=4. # Length of the integration region\n",
    "    M=600 # number of space-points in the discretization\n",
    "    t=0.4 # final time\n",
    "    dx = L/M\n",
    "    dt = 0.1 * dx # this depends on the maximal propagation speed\n",
    "    tol = 10^(-10) # error tolerance in inversion function (Newton-Raphson)\n",
    "    iter_max = 400  # maximum number of NR iterations\n",
    "    \n",
    "    χ = [- 1.0; - 0.5; - 10.0] # the equation parameters \n",
    "    ξ = [1/15π, 1/1π, 1] # source parámeters κ, λ, η \n",
    "    \n",
    "elseif  only_diss\n",
    "    name = \"only_diss\"\n",
    "    out_name = name\n",
    "    L=4. # Length of the integration region\n",
    "    M=600 # number of space-points in the discretization\n",
    "    t=1. # final time\n",
    "    dx = L/M\n",
    "    dt = 0.1 * dx # this depends on the maximal propagation speed\n",
    "    tol = 10^(-10) # error tolerance in inversion function (Newton-Raphson)\n",
    "    iter_max = 400  # maximum number of NR iterations\n",
    "    \n",
    "    χ = [- 1.0; - 0.0; - 10.0] # the equation parameters \n",
    "    ξ = [1/15π, -1/1π, 0.01/1π]# source parámeters κ, λ, η     \n",
    "end\n",
    "\n",
    "if Euler\n",
    "    χ[2] = 0.\n",
    "    out_name = name*\"_E\"\n",
    "end\n",
    "\n",
    "U=10 # number of fields (double the number of fields, one for fluid and the other for conservative quantities)\n",
    "N_FIELDS = U\n",
    "u_i=zeros(M*U) # flux variables for the initial data (these are used for the flux function)\n",
    "du=zeros(M*U) # for the rhs\n",
    "x = zeros(M) # the coordinates\n",
    "    \n",
    "par_eq = (χ, ξ) # parameters to use on the equations \n",
    "par_inv = (χ, tol, iter_max, U, M) # parameters for the inversion\n",
    "    "
   ]
  },
  {
   "cell_type": "code",
   "execution_count": 8,
   "metadata": {
    "jupyter": {
     "source_hidden": true
    },
    "tags": []
   },
   "outputs": [],
   "source": [
    "fast = true\n",
    "if fast \n",
    "    #we initialize empty arrays\n",
    "    F_P = Array{Float64}(undef, U);\n",
    "\n",
    "    F_P = copy(F_P);\n",
    "    F_M = copy(F_P);\n",
    "    F_Pm3 = copy(F_P);\n",
    "    F_Pm2 = copy(F_P);\n",
    "    F_Pm1 = copy(F_P);\n",
    "    F_Pp1 = copy(F_P);\n",
    "    F_Pp2 = copy(F_P);\n",
    "    F_Pp3 = copy(F_P);\n",
    "    F_Mm3 = copy(F_P);\n",
    "    F_Mm2 = copy(F_P);\n",
    "    F_Mm1 = copy(F_P);\n",
    "    F_Mp1 = copy(F_P);\n",
    "    F_Mp2 = copy(F_P);\n",
    "    F_Mp3 = copy(F_P);\n",
    "\n",
    "    F_LP = copy(F_P);\n",
    "    F_LM = copy(F_P);\n",
    "    F_RM = copy(F_P);\n",
    "    F_RP = copy(F_P);\n",
    "    H_m = copy(F_P);\n",
    "    H_p = copy(F_P);\n",
    "    sourcevec = copy(F_P);\n",
    "    \n",
    "    par_mem = (F_Mm3, F_Mm2, F_Mm1, F_M, F_Mp1, F_Mp2, F_Mp3, F_Pm3, F_Pm2, \n",
    "    F_Pm1, F_P, F_Pp1, F_Pp2, F_Pp3, F_LP, F_LM, F_RP, F_RM, H_m, H_p, sourcevec); \n",
    "end\n",
    "U;"
   ]
  },
  {
   "cell_type": "code",
   "execution_count": 9,
   "metadata": {},
   "outputs": [],
   "source": [
    "if fast \n",
    "    #full list of parameters for the evolution function\n",
    "    if χ[2] < 0\n",
    "        par = (par_eq, par_inv, 1. /dx, U, M, Flux!, Speed_max, Is!, c_to_f!, par_mem);\n",
    "    else\n",
    "        par = (par_eq, par_inv, 1. /dx, U, M, Flux!, Speed_max, Is_dummy!, c_to_f!, par_mem);\n",
    "    end\n",
    "        #par_cut = (par_eq, par_inv, 1. /dx, U, M, Flux_cut!, Speed_max, Is, c_to_f!, par_mem);\n",
    "else\n",
    "    #full list of parameters for the evolution function\n",
    "    if χ[2] < 0\n",
    "        par = (par_eq, par_inv, 1. /dx, U, M, Flux, Speed_max, Is, c_to_f!, par_mem);\n",
    "    else\n",
    "        par = (par_eq, par_inv, 1. /dx, U, M, Flux, Speed_max, Is_dummy, c_to_f!, par_mem);\n",
    "    end\n",
    "        #par_cut = (par_eq, par_inv, 1. /dx, U, M, Flux_cut, Speed_max, Is, c_to_f!, par_mem);\n",
    "end\n",
    "U;"
   ]
  },
  {
   "cell_type": "code",
   "execution_count": 10,
   "metadata": {
    "jupyter": {
     "source_hidden": true
    },
    "tags": []
   },
   "outputs": [
    {
     "data": {
      "text/plain": [
       "3-element Vector{Float64}:\n",
       " -1.0\n",
       " -0.5\n",
       " -1.0"
      ]
     },
     "execution_count": 10,
     "metadata": {},
     "output_type": "execute_result"
    }
   ],
   "source": [
    "par_inidat = χ, U, M, Euler\n",
    "\n",
    "u_i = create_initial_data(name, u_i, par_inidat)\n",
    "con_0 = view(reshape(u_i,(M,U)),:,1:U÷2)\n",
    "flu_0 = view(reshape(u_i,(M,U)),:,U÷2+1:U);\n",
    "χ"
   ]
  },
  {
   "cell_type": "code",
   "execution_count": 11,
   "metadata": {},
   "outputs": [
    {
     "data": {
      "image/svg+xml": [
       "<?xml version=\"1.0\" encoding=\"utf-8\"?>\n",
       "<svg xmlns=\"http://www.w3.org/2000/svg\" xmlns:xlink=\"http://www.w3.org/1999/xlink\" width=\"600\" height=\"400\" viewBox=\"0 0 2400 1600\">\n",
       "<defs>\n",
       "  <clipPath id=\"clip370\">\n",
       "    <rect x=\"0\" y=\"0\" width=\"2400\" height=\"1600\"/>\n",
       "  </clipPath>\n",
       "</defs>\n",
       "<path clip-path=\"url(#clip370)\" d=\"\n",
       "M0 1600 L2400 1600 L2400 0 L0 0  Z\n",
       "  \" fill=\"#ffffff\" fill-rule=\"evenodd\" fill-opacity=\"1\"/>\n",
       "<defs>\n",
       "  <clipPath id=\"clip371\">\n",
       "    <rect x=\"480\" y=\"0\" width=\"1681\" height=\"1600\"/>\n",
       "  </clipPath>\n",
       "</defs>\n",
       "<path clip-path=\"url(#clip370)\" d=\"\n",
       "M222.501 1486.45 L2352.76 1486.45 L2352.76 47.2441 L222.501 47.2441  Z\n",
       "  \" fill=\"#ffffff\" fill-rule=\"evenodd\" fill-opacity=\"1\"/>\n",
       "<defs>\n",
       "  <clipPath id=\"clip372\">\n",
       "    <rect x=\"222\" y=\"47\" width=\"2131\" height=\"1440\"/>\n",
       "  </clipPath>\n",
       "</defs>\n",
       "<polyline clip-path=\"url(#clip372)\" style=\"stroke:#000000; stroke-width:2; stroke-opacity:0.1; fill:none\" points=\"\n",
       "  279.436,1486.45 279.436,47.2441 \n",
       "  \"/>\n",
       "<polyline clip-path=\"url(#clip372)\" style=\"stroke:#000000; stroke-width:2; stroke-opacity:0.1; fill:none\" points=\"\n",
       "  614.941,1486.45 614.941,47.2441 \n",
       "  \"/>\n",
       "<polyline clip-path=\"url(#clip372)\" style=\"stroke:#000000; stroke-width:2; stroke-opacity:0.1; fill:none\" points=\"\n",
       "  950.446,1486.45 950.446,47.2441 \n",
       "  \"/>\n",
       "<polyline clip-path=\"url(#clip372)\" style=\"stroke:#000000; stroke-width:2; stroke-opacity:0.1; fill:none\" points=\"\n",
       "  1285.95,1486.45 1285.95,47.2441 \n",
       "  \"/>\n",
       "<polyline clip-path=\"url(#clip372)\" style=\"stroke:#000000; stroke-width:2; stroke-opacity:0.1; fill:none\" points=\"\n",
       "  1621.46,1486.45 1621.46,47.2441 \n",
       "  \"/>\n",
       "<polyline clip-path=\"url(#clip372)\" style=\"stroke:#000000; stroke-width:2; stroke-opacity:0.1; fill:none\" points=\"\n",
       "  1956.96,1486.45 1956.96,47.2441 \n",
       "  \"/>\n",
       "<polyline clip-path=\"url(#clip372)\" style=\"stroke:#000000; stroke-width:2; stroke-opacity:0.1; fill:none\" points=\"\n",
       "  2292.47,1486.45 2292.47,47.2441 \n",
       "  \"/>\n",
       "<polyline clip-path=\"url(#clip370)\" style=\"stroke:#000000; stroke-width:4; stroke-opacity:1; fill:none\" points=\"\n",
       "  222.501,1486.45 2352.76,1486.45 \n",
       "  \"/>\n",
       "<polyline clip-path=\"url(#clip370)\" style=\"stroke:#000000; stroke-width:4; stroke-opacity:1; fill:none\" points=\"\n",
       "  279.436,1486.45 279.436,1469.18 \n",
       "  \"/>\n",
       "<polyline clip-path=\"url(#clip370)\" style=\"stroke:#000000; stroke-width:4; stroke-opacity:1; fill:none\" points=\"\n",
       "  614.941,1486.45 614.941,1469.18 \n",
       "  \"/>\n",
       "<polyline clip-path=\"url(#clip370)\" style=\"stroke:#000000; stroke-width:4; stroke-opacity:1; fill:none\" points=\"\n",
       "  950.446,1486.45 950.446,1469.18 \n",
       "  \"/>\n",
       "<polyline clip-path=\"url(#clip370)\" style=\"stroke:#000000; stroke-width:4; stroke-opacity:1; fill:none\" points=\"\n",
       "  1285.95,1486.45 1285.95,1469.18 \n",
       "  \"/>\n",
       "<polyline clip-path=\"url(#clip370)\" style=\"stroke:#000000; stroke-width:4; stroke-opacity:1; fill:none\" points=\"\n",
       "  1621.46,1486.45 1621.46,1469.18 \n",
       "  \"/>\n",
       "<polyline clip-path=\"url(#clip370)\" style=\"stroke:#000000; stroke-width:4; stroke-opacity:1; fill:none\" points=\"\n",
       "  1956.96,1486.45 1956.96,1469.18 \n",
       "  \"/>\n",
       "<polyline clip-path=\"url(#clip370)\" style=\"stroke:#000000; stroke-width:4; stroke-opacity:1; fill:none\" points=\"\n",
       "  2292.47,1486.45 2292.47,1469.18 \n",
       "  \"/>\n",
       "<path clip-path=\"url(#clip370)\" d=\"M 0 0 M279.436 1515.64 Q275.825 1515.64 273.996 1519.2 Q272.191 1522.75 272.191 1529.87 Q272.191 1536.98 273.996 1540.55 Q275.825 1544.09 279.436 1544.09 Q283.07 1544.09 284.876 1540.55 Q286.704 1536.98 286.704 1529.87 Q286.704 1522.75 284.876 1519.2 Q283.07 1515.64 279.436 1515.64 M279.436 1511.93 Q285.246 1511.93 288.302 1516.54 Q291.38 1521.12 291.38 1529.87 Q291.38 1538.6 288.302 1543.21 Q285.246 1547.79 279.436 1547.79 Q273.626 1547.79 270.547 1543.21 Q267.491 1538.6 267.491 1529.87 Q267.491 1521.12 270.547 1516.54 Q273.626 1511.93 279.436 1511.93 Z\" fill=\"#000000\" fill-rule=\"evenodd\" fill-opacity=\"1\" /><path clip-path=\"url(#clip370)\" d=\"M 0 0 M574.548 1543.18 L582.186 1543.18 L582.186 1516.82 L573.876 1518.49 L573.876 1514.23 L582.14 1512.56 L586.816 1512.56 L586.816 1543.18 L594.455 1543.18 L594.455 1547.12 L574.548 1547.12 L574.548 1543.18 Z\" fill=\"#000000\" fill-rule=\"evenodd\" fill-opacity=\"1\" /><path clip-path=\"url(#clip370)\" d=\"M 0 0 M613.899 1515.64 Q610.288 1515.64 608.459 1519.2 Q606.654 1522.75 606.654 1529.87 Q606.654 1536.98 608.459 1540.55 Q610.288 1544.09 613.899 1544.09 Q617.533 1544.09 619.339 1540.55 Q621.168 1536.98 621.168 1529.87 Q621.168 1522.75 619.339 1519.2 Q617.533 1515.64 613.899 1515.64 M613.899 1511.93 Q619.709 1511.93 622.765 1516.54 Q625.844 1521.12 625.844 1529.87 Q625.844 1538.6 622.765 1543.21 Q619.709 1547.79 613.899 1547.79 Q608.089 1547.79 605.01 1543.21 Q601.955 1538.6 601.955 1529.87 Q601.955 1521.12 605.01 1516.54 Q608.089 1511.93 613.899 1511.93 Z\" fill=\"#000000\" fill-rule=\"evenodd\" fill-opacity=\"1\" /><path clip-path=\"url(#clip370)\" d=\"M 0 0 M644.061 1515.64 Q640.45 1515.64 638.621 1519.2 Q636.816 1522.75 636.816 1529.87 Q636.816 1536.98 638.621 1540.55 Q640.45 1544.09 644.061 1544.09 Q647.695 1544.09 649.501 1540.55 Q651.33 1536.98 651.33 1529.87 Q651.33 1522.75 649.501 1519.2 Q647.695 1515.64 644.061 1515.64 M644.061 1511.93 Q649.871 1511.93 652.927 1516.54 Q656.005 1521.12 656.005 1529.87 Q656.005 1538.6 652.927 1543.21 Q649.871 1547.79 644.061 1547.79 Q638.251 1547.79 635.172 1543.21 Q632.117 1538.6 632.117 1529.87 Q632.117 1521.12 635.172 1516.54 Q638.251 1511.93 644.061 1511.93 Z\" fill=\"#000000\" fill-rule=\"evenodd\" fill-opacity=\"1\" /><path clip-path=\"url(#clip370)\" d=\"M 0 0 M914.138 1543.18 L930.457 1543.18 L930.457 1547.12 L908.513 1547.12 L908.513 1543.18 Q911.175 1540.43 915.758 1535.8 Q920.365 1531.15 921.545 1529.81 Q923.791 1527.28 924.67 1525.55 Q925.573 1523.79 925.573 1522.1 Q925.573 1519.34 923.629 1517.61 Q921.708 1515.87 918.606 1515.87 Q916.407 1515.87 913.953 1516.63 Q911.522 1517.4 908.745 1518.95 L908.745 1514.23 Q911.569 1513.09 914.022 1512.51 Q916.476 1511.93 918.513 1511.93 Q923.883 1511.93 927.078 1514.62 Q930.272 1517.31 930.272 1521.8 Q930.272 1523.93 929.462 1525.85 Q928.675 1527.74 926.569 1530.34 Q925.99 1531.01 922.888 1534.23 Q919.786 1537.42 914.138 1543.18 Z\" fill=\"#000000\" fill-rule=\"evenodd\" fill-opacity=\"1\" /><path clip-path=\"url(#clip370)\" d=\"M 0 0 M950.272 1515.64 Q946.661 1515.64 944.832 1519.2 Q943.027 1522.75 943.027 1529.87 Q943.027 1536.98 944.832 1540.55 Q946.661 1544.09 950.272 1544.09 Q953.906 1544.09 955.712 1540.55 Q957.541 1536.98 957.541 1529.87 Q957.541 1522.75 955.712 1519.2 Q953.906 1515.64 950.272 1515.64 M950.272 1511.93 Q956.082 1511.93 959.138 1516.54 Q962.217 1521.12 962.217 1529.87 Q962.217 1538.6 959.138 1543.21 Q956.082 1547.79 950.272 1547.79 Q944.462 1547.79 941.383 1543.21 Q938.328 1538.6 938.328 1529.87 Q938.328 1521.12 941.383 1516.54 Q944.462 1511.93 950.272 1511.93 Z\" fill=\"#000000\" fill-rule=\"evenodd\" fill-opacity=\"1\" /><path clip-path=\"url(#clip370)\" d=\"M 0 0 M980.434 1515.64 Q976.823 1515.64 974.994 1519.2 Q973.189 1522.75 973.189 1529.87 Q973.189 1536.98 974.994 1540.55 Q976.823 1544.09 980.434 1544.09 Q984.068 1544.09 985.874 1540.55 Q987.703 1536.98 987.703 1529.87 Q987.703 1522.75 985.874 1519.2 Q984.068 1515.64 980.434 1515.64 M980.434 1511.93 Q986.244 1511.93 989.3 1516.54 Q992.378 1521.12 992.378 1529.87 Q992.378 1538.6 989.3 1543.21 Q986.244 1547.79 980.434 1547.79 Q974.624 1547.79 971.545 1543.21 Q968.49 1538.6 968.49 1529.87 Q968.49 1521.12 971.545 1516.54 Q974.624 1511.93 980.434 1511.93 Z\" fill=\"#000000\" fill-rule=\"evenodd\" fill-opacity=\"1\" /><path clip-path=\"url(#clip370)\" d=\"M 0 0 M1259.71 1528.49 Q1263.07 1529.2 1264.94 1531.47 Q1266.84 1533.74 1266.84 1537.07 Q1266.84 1542.19 1263.32 1544.99 Q1259.81 1547.79 1253.32 1547.79 Q1251.15 1547.79 1248.83 1547.35 Q1246.54 1546.93 1244.09 1546.08 L1244.09 1541.56 Q1246.03 1542.7 1248.35 1543.28 Q1250.66 1543.86 1253.18 1543.86 Q1257.58 1543.86 1259.87 1542.12 Q1262.19 1540.38 1262.19 1537.07 Q1262.19 1534.02 1260.04 1532.31 Q1257.91 1530.57 1254.09 1530.57 L1250.06 1530.57 L1250.06 1526.73 L1254.27 1526.73 Q1257.72 1526.73 1259.55 1525.36 Q1261.38 1523.97 1261.38 1521.38 Q1261.38 1518.72 1259.48 1517.31 Q1257.61 1515.87 1254.09 1515.87 Q1252.17 1515.87 1249.97 1516.29 Q1247.77 1516.7 1245.13 1517.58 L1245.13 1513.42 Q1247.79 1512.68 1250.11 1512.31 Q1252.44 1511.93 1254.5 1511.93 Q1259.83 1511.93 1262.93 1514.37 Q1266.03 1516.77 1266.03 1520.89 Q1266.03 1523.76 1264.39 1525.75 Q1262.74 1527.72 1259.71 1528.49 Z\" fill=\"#000000\" fill-rule=\"evenodd\" fill-opacity=\"1\" /><path clip-path=\"url(#clip370)\" d=\"M 0 0 M1285.71 1515.64 Q1282.1 1515.64 1280.27 1519.2 Q1278.46 1522.75 1278.46 1529.87 Q1278.46 1536.98 1280.27 1540.55 Q1282.1 1544.09 1285.71 1544.09 Q1289.34 1544.09 1291.15 1540.55 Q1292.98 1536.98 1292.98 1529.87 Q1292.98 1522.75 1291.15 1519.2 Q1289.34 1515.64 1285.71 1515.64 M1285.71 1511.93 Q1291.52 1511.93 1294.57 1516.54 Q1297.65 1521.12 1297.65 1529.87 Q1297.65 1538.6 1294.57 1543.21 Q1291.52 1547.79 1285.71 1547.79 Q1279.9 1547.79 1276.82 1543.21 Q1273.76 1538.6 1273.76 1529.87 Q1273.76 1521.12 1276.82 1516.54 Q1279.9 1511.93 1285.71 1511.93 Z\" fill=\"#000000\" fill-rule=\"evenodd\" fill-opacity=\"1\" /><path clip-path=\"url(#clip370)\" d=\"M 0 0 M1315.87 1515.64 Q1312.26 1515.64 1310.43 1519.2 Q1308.62 1522.75 1308.62 1529.87 Q1308.62 1536.98 1310.43 1540.55 Q1312.26 1544.09 1315.87 1544.09 Q1319.5 1544.09 1321.31 1540.55 Q1323.14 1536.98 1323.14 1529.87 Q1323.14 1522.75 1321.31 1519.2 Q1319.5 1515.64 1315.87 1515.64 M1315.87 1511.93 Q1321.68 1511.93 1324.74 1516.54 Q1327.81 1521.12 1327.81 1529.87 Q1327.81 1538.6 1324.74 1543.21 Q1321.68 1547.79 1315.87 1547.79 Q1310.06 1547.79 1306.98 1543.21 Q1303.93 1538.6 1303.93 1529.87 Q1303.93 1521.12 1306.98 1516.54 Q1310.06 1511.93 1315.87 1511.93 Z\" fill=\"#000000\" fill-rule=\"evenodd\" fill-opacity=\"1\" /><path clip-path=\"url(#clip370)\" d=\"M 0 0 M1594.55 1516.63 L1582.74 1535.08 L1594.55 1535.08 L1594.55 1516.63 M1593.32 1512.56 L1599.2 1512.56 L1599.2 1535.08 L1604.13 1535.08 L1604.13 1538.97 L1599.2 1538.97 L1599.2 1547.12 L1594.55 1547.12 L1594.55 1538.97 L1578.94 1538.97 L1578.94 1534.46 L1593.32 1512.56 Z\" fill=\"#000000\" fill-rule=\"evenodd\" fill-opacity=\"1\" /><path clip-path=\"url(#clip370)\" d=\"M 0 0 M1621.86 1515.64 Q1618.25 1515.64 1616.42 1519.2 Q1614.62 1522.75 1614.62 1529.87 Q1614.62 1536.98 1616.42 1540.55 Q1618.25 1544.09 1621.86 1544.09 Q1625.5 1544.09 1627.3 1540.55 Q1629.13 1536.98 1629.13 1529.87 Q1629.13 1522.75 1627.3 1519.2 Q1625.5 1515.64 1621.86 1515.64 M1621.86 1511.93 Q1627.67 1511.93 1630.73 1516.54 Q1633.81 1521.12 1633.81 1529.87 Q1633.81 1538.6 1630.73 1543.21 Q1627.67 1547.79 1621.86 1547.79 Q1616.05 1547.79 1612.97 1543.21 Q1609.92 1538.6 1609.92 1529.87 Q1609.92 1521.12 1612.97 1516.54 Q1616.05 1511.93 1621.86 1511.93 Z\" fill=\"#000000\" fill-rule=\"evenodd\" fill-opacity=\"1\" /><path clip-path=\"url(#clip370)\" d=\"M 0 0 M1652.02 1515.64 Q1648.41 1515.64 1646.58 1519.2 Q1644.78 1522.75 1644.78 1529.87 Q1644.78 1536.98 1646.58 1540.55 Q1648.41 1544.09 1652.02 1544.09 Q1655.66 1544.09 1657.46 1540.55 Q1659.29 1536.98 1659.29 1529.87 Q1659.29 1522.75 1657.46 1519.2 Q1655.66 1515.64 1652.02 1515.64 M1652.02 1511.93 Q1657.83 1511.93 1660.89 1516.54 Q1663.97 1521.12 1663.97 1529.87 Q1663.97 1538.6 1660.89 1543.21 Q1657.83 1547.79 1652.02 1547.79 Q1646.21 1547.79 1643.13 1543.21 Q1640.08 1538.6 1640.08 1529.87 Q1640.08 1521.12 1643.13 1516.54 Q1646.21 1511.93 1652.02 1511.93 Z\" fill=\"#000000\" fill-rule=\"evenodd\" fill-opacity=\"1\" /><path clip-path=\"url(#clip370)\" d=\"M 0 0 M1916.58 1512.56 L1934.94 1512.56 L1934.94 1516.5 L1920.86 1516.5 L1920.86 1524.97 Q1921.88 1524.62 1922.9 1524.46 Q1923.92 1524.27 1924.94 1524.27 Q1930.72 1524.27 1934.1 1527.44 Q1937.48 1530.62 1937.48 1536.03 Q1937.48 1541.61 1934.01 1544.71 Q1930.54 1547.79 1924.22 1547.79 Q1922.04 1547.79 1919.77 1547.42 Q1917.53 1547.05 1915.12 1546.31 L1915.12 1541.61 Q1917.2 1542.74 1919.43 1543.3 Q1921.65 1543.86 1924.13 1543.86 Q1928.13 1543.86 1930.47 1541.75 Q1932.81 1539.64 1932.81 1536.03 Q1932.81 1532.42 1930.47 1530.31 Q1928.13 1528.21 1924.13 1528.21 Q1922.25 1528.21 1920.38 1528.62 Q1918.52 1529.04 1916.58 1529.92 L1916.58 1512.56 Z\" fill=\"#000000\" fill-rule=\"evenodd\" fill-opacity=\"1\" /><path clip-path=\"url(#clip370)\" d=\"M 0 0 M1956.69 1515.64 Q1953.08 1515.64 1951.25 1519.2 Q1949.45 1522.75 1949.45 1529.87 Q1949.45 1536.98 1951.25 1540.55 Q1953.08 1544.09 1956.69 1544.09 Q1960.33 1544.09 1962.13 1540.55 Q1963.96 1536.98 1963.96 1529.87 Q1963.96 1522.75 1962.13 1519.2 Q1960.33 1515.64 1956.69 1515.64 M1956.69 1511.93 Q1962.5 1511.93 1965.56 1516.54 Q1968.64 1521.12 1968.64 1529.87 Q1968.64 1538.6 1965.56 1543.21 Q1962.5 1547.79 1956.69 1547.79 Q1950.88 1547.79 1947.81 1543.21 Q1944.75 1538.6 1944.75 1529.87 Q1944.75 1521.12 1947.81 1516.54 Q1950.88 1511.93 1956.69 1511.93 Z\" fill=\"#000000\" fill-rule=\"evenodd\" fill-opacity=\"1\" /><path clip-path=\"url(#clip370)\" d=\"M 0 0 M1986.86 1515.64 Q1983.25 1515.64 1981.42 1519.2 Q1979.61 1522.75 1979.61 1529.87 Q1979.61 1536.98 1981.42 1540.55 Q1983.25 1544.09 1986.86 1544.09 Q1990.49 1544.09 1992.3 1540.55 Q1994.12 1536.98 1994.12 1529.87 Q1994.12 1522.75 1992.3 1519.2 Q1990.49 1515.64 1986.86 1515.64 M1986.86 1511.93 Q1992.67 1511.93 1995.72 1516.54 Q1998.8 1521.12 1998.8 1529.87 Q1998.8 1538.6 1995.72 1543.21 Q1992.67 1547.79 1986.86 1547.79 Q1981.05 1547.79 1977.97 1543.21 Q1974.91 1538.6 1974.91 1529.87 Q1974.91 1521.12 1977.97 1516.54 Q1981.05 1511.93 1986.86 1511.93 Z\" fill=\"#000000\" fill-rule=\"evenodd\" fill-opacity=\"1\" /><path clip-path=\"url(#clip370)\" d=\"M 0 0 M2262.79 1527.98 Q2259.64 1527.98 2257.79 1530.13 Q2255.96 1532.28 2255.96 1536.03 Q2255.96 1539.76 2257.79 1541.93 Q2259.64 1544.09 2262.79 1544.09 Q2265.94 1544.09 2267.77 1541.93 Q2269.62 1539.76 2269.62 1536.03 Q2269.62 1532.28 2267.77 1530.13 Q2265.94 1527.98 2262.79 1527.98 M2272.07 1513.32 L2272.07 1517.58 Q2270.31 1516.75 2268.51 1516.31 Q2266.73 1515.87 2264.97 1515.87 Q2260.34 1515.87 2257.88 1519 Q2255.45 1522.12 2255.1 1528.44 Q2256.47 1526.43 2258.53 1525.36 Q2260.59 1524.27 2263.07 1524.27 Q2268.28 1524.27 2271.29 1527.44 Q2274.32 1530.59 2274.32 1536.03 Q2274.32 1541.36 2271.17 1544.57 Q2268.02 1547.79 2262.79 1547.79 Q2256.79 1547.79 2253.62 1543.21 Q2250.45 1538.6 2250.45 1529.87 Q2250.45 1521.68 2254.34 1516.82 Q2258.23 1511.93 2264.78 1511.93 Q2266.54 1511.93 2268.32 1512.28 Q2270.13 1512.63 2272.07 1513.32 Z\" fill=\"#000000\" fill-rule=\"evenodd\" fill-opacity=\"1\" /><path clip-path=\"url(#clip370)\" d=\"M 0 0 M2292.37 1515.64 Q2288.76 1515.64 2286.93 1519.2 Q2285.13 1522.75 2285.13 1529.87 Q2285.13 1536.98 2286.93 1540.55 Q2288.76 1544.09 2292.37 1544.09 Q2296.01 1544.09 2297.81 1540.55 Q2299.64 1536.98 2299.64 1529.87 Q2299.64 1522.75 2297.81 1519.2 Q2296.01 1515.64 2292.37 1515.64 M2292.37 1511.93 Q2298.18 1511.93 2301.24 1516.54 Q2304.32 1521.12 2304.32 1529.87 Q2304.32 1538.6 2301.24 1543.21 Q2298.18 1547.79 2292.37 1547.79 Q2286.56 1547.79 2283.48 1543.21 Q2280.43 1538.6 2280.43 1529.87 Q2280.43 1521.12 2283.48 1516.54 Q2286.56 1511.93 2292.37 1511.93 Z\" fill=\"#000000\" fill-rule=\"evenodd\" fill-opacity=\"1\" /><path clip-path=\"url(#clip370)\" d=\"M 0 0 M2322.53 1515.64 Q2318.92 1515.64 2317.1 1519.2 Q2315.29 1522.75 2315.29 1529.87 Q2315.29 1536.98 2317.1 1540.55 Q2318.92 1544.09 2322.53 1544.09 Q2326.17 1544.09 2327.97 1540.55 Q2329.8 1536.98 2329.8 1529.87 Q2329.8 1522.75 2327.97 1519.2 Q2326.17 1515.64 2322.53 1515.64 M2322.53 1511.93 Q2328.35 1511.93 2331.4 1516.54 Q2334.48 1521.12 2334.48 1529.87 Q2334.48 1538.6 2331.4 1543.21 Q2328.35 1547.79 2322.53 1547.79 Q2316.72 1547.79 2313.65 1543.21 Q2310.59 1538.6 2310.59 1529.87 Q2310.59 1521.12 2313.65 1516.54 Q2316.72 1511.93 2322.53 1511.93 Z\" fill=\"#000000\" fill-rule=\"evenodd\" fill-opacity=\"1\" /><polyline clip-path=\"url(#clip372)\" style=\"stroke:#000000; stroke-width:2; stroke-opacity:0.1; fill:none\" points=\"\n",
       "  222.501,1312.54 2352.76,1312.54 \n",
       "  \"/>\n",
       "<polyline clip-path=\"url(#clip372)\" style=\"stroke:#000000; stroke-width:2; stroke-opacity:0.1; fill:none\" points=\"\n",
       "  222.501,1104.38 2352.76,1104.38 \n",
       "  \"/>\n",
       "<polyline clip-path=\"url(#clip372)\" style=\"stroke:#000000; stroke-width:2; stroke-opacity:0.1; fill:none\" points=\"\n",
       "  222.501,896.221 2352.76,896.221 \n",
       "  \"/>\n",
       "<polyline clip-path=\"url(#clip372)\" style=\"stroke:#000000; stroke-width:2; stroke-opacity:0.1; fill:none\" points=\"\n",
       "  222.501,688.061 2352.76,688.061 \n",
       "  \"/>\n",
       "<polyline clip-path=\"url(#clip372)\" style=\"stroke:#000000; stroke-width:2; stroke-opacity:0.1; fill:none\" points=\"\n",
       "  222.501,479.902 2352.76,479.902 \n",
       "  \"/>\n",
       "<polyline clip-path=\"url(#clip372)\" style=\"stroke:#000000; stroke-width:2; stroke-opacity:0.1; fill:none\" points=\"\n",
       "  222.501,271.742 2352.76,271.742 \n",
       "  \"/>\n",
       "<polyline clip-path=\"url(#clip372)\" style=\"stroke:#000000; stroke-width:2; stroke-opacity:0.1; fill:none\" points=\"\n",
       "  222.501,63.5826 2352.76,63.5826 \n",
       "  \"/>\n",
       "<polyline clip-path=\"url(#clip370)\" style=\"stroke:#000000; stroke-width:4; stroke-opacity:1; fill:none\" points=\"\n",
       "  222.501,1486.45 222.501,47.2441 \n",
       "  \"/>\n",
       "<polyline clip-path=\"url(#clip370)\" style=\"stroke:#000000; stroke-width:4; stroke-opacity:1; fill:none\" points=\"\n",
       "  222.501,1312.54 248.064,1312.54 \n",
       "  \"/>\n",
       "<polyline clip-path=\"url(#clip370)\" style=\"stroke:#000000; stroke-width:4; stroke-opacity:1; fill:none\" points=\"\n",
       "  222.501,1104.38 248.064,1104.38 \n",
       "  \"/>\n",
       "<polyline clip-path=\"url(#clip370)\" style=\"stroke:#000000; stroke-width:4; stroke-opacity:1; fill:none\" points=\"\n",
       "  222.501,896.221 248.064,896.221 \n",
       "  \"/>\n",
       "<polyline clip-path=\"url(#clip370)\" style=\"stroke:#000000; stroke-width:4; stroke-opacity:1; fill:none\" points=\"\n",
       "  222.501,688.061 248.064,688.061 \n",
       "  \"/>\n",
       "<polyline clip-path=\"url(#clip370)\" style=\"stroke:#000000; stroke-width:4; stroke-opacity:1; fill:none\" points=\"\n",
       "  222.501,479.902 248.064,479.902 \n",
       "  \"/>\n",
       "<polyline clip-path=\"url(#clip370)\" style=\"stroke:#000000; stroke-width:4; stroke-opacity:1; fill:none\" points=\"\n",
       "  222.501,271.742 248.064,271.742 \n",
       "  \"/>\n",
       "<polyline clip-path=\"url(#clip370)\" style=\"stroke:#000000; stroke-width:4; stroke-opacity:1; fill:none\" points=\"\n",
       "  222.501,63.5826 248.064,63.5826 \n",
       "  \"/>\n",
       "<path clip-path=\"url(#clip370)\" d=\"M 0 0 M50.9921 1312.99 L80.6679 1312.99 L80.6679 1316.93 L50.9921 1316.93 L50.9921 1312.99 Z\" fill=\"#000000\" fill-rule=\"evenodd\" fill-opacity=\"1\" /><path clip-path=\"url(#clip370)\" d=\"M 0 0 M100.76 1298.34 Q97.1493 1298.34 95.3206 1301.9 Q93.515 1305.44 93.515 1312.57 Q93.515 1319.68 95.3206 1323.25 Q97.1493 1326.79 100.76 1326.79 Q104.395 1326.79 106.2 1323.25 Q108.029 1319.68 108.029 1312.57 Q108.029 1305.44 106.2 1301.9 Q104.395 1298.34 100.76 1298.34 M100.76 1294.63 Q106.571 1294.63 109.626 1299.24 Q112.705 1303.82 112.705 1312.57 Q112.705 1321.3 109.626 1325.91 Q106.571 1330.49 100.76 1330.49 Q94.9502 1330.49 91.8715 1325.91 Q88.816 1321.3 88.816 1312.57 Q88.816 1303.82 91.8715 1299.24 Q94.9502 1294.63 100.76 1294.63 Z\" fill=\"#000000\" fill-rule=\"evenodd\" fill-opacity=\"1\" /><path clip-path=\"url(#clip370)\" d=\"M 0 0 M120.922 1323.94 L125.807 1323.94 L125.807 1329.82 L120.922 1329.82 L120.922 1323.94 Z\" fill=\"#000000\" fill-rule=\"evenodd\" fill-opacity=\"1\" /><path clip-path=\"url(#clip370)\" d=\"M 0 0 M145.992 1298.34 Q142.381 1298.34 140.552 1301.9 Q138.746 1305.44 138.746 1312.57 Q138.746 1319.68 140.552 1323.25 Q142.381 1326.79 145.992 1326.79 Q149.626 1326.79 151.431 1323.25 Q153.26 1319.68 153.26 1312.57 Q153.26 1305.44 151.431 1301.9 Q149.626 1298.34 145.992 1298.34 M145.992 1294.63 Q151.802 1294.63 154.857 1299.24 Q157.936 1303.82 157.936 1312.57 Q157.936 1321.3 154.857 1325.91 Q151.802 1330.49 145.992 1330.49 Q140.181 1330.49 137.103 1325.91 Q134.047 1321.3 134.047 1312.57 Q134.047 1303.82 137.103 1299.24 Q140.181 1294.63 145.992 1294.63 Z\" fill=\"#000000\" fill-rule=\"evenodd\" fill-opacity=\"1\" /><path clip-path=\"url(#clip370)\" d=\"M 0 0 M170.181 1325.88 L186.501 1325.88 L186.501 1329.82 L164.556 1329.82 L164.556 1325.88 Q167.218 1323.13 171.802 1318.5 Q176.408 1313.85 177.589 1312.51 Q179.834 1309.98 180.714 1308.25 Q181.616 1306.49 181.616 1304.8 Q181.616 1302.04 179.672 1300.31 Q177.751 1298.57 174.649 1298.57 Q172.45 1298.57 169.996 1299.33 Q167.566 1300.1 164.788 1301.65 L164.788 1296.93 Q167.612 1295.79 170.066 1295.21 Q172.519 1294.63 174.556 1294.63 Q179.927 1294.63 183.121 1297.32 Q186.315 1300.01 186.315 1304.5 Q186.315 1306.63 185.505 1308.55 Q184.718 1310.44 182.612 1313.04 Q182.033 1313.71 178.931 1316.93 Q175.829 1320.12 170.181 1325.88 Z\" fill=\"#000000\" fill-rule=\"evenodd\" fill-opacity=\"1\" /><path clip-path=\"url(#clip370)\" d=\"M 0 0 M99.1632 1090.18 Q95.5521 1090.18 93.7234 1093.74 Q91.9178 1097.29 91.9178 1104.41 Q91.9178 1111.52 93.7234 1115.09 Q95.5521 1118.63 99.1632 1118.63 Q102.797 1118.63 104.603 1115.09 Q106.432 1111.52 106.432 1104.41 Q106.432 1097.29 104.603 1093.74 Q102.797 1090.18 99.1632 1090.18 M99.1632 1086.48 Q104.973 1086.48 108.029 1091.08 Q111.108 1095.67 111.108 1104.41 Q111.108 1113.14 108.029 1117.75 Q104.973 1122.33 99.1632 1122.33 Q93.353 1122.33 90.2743 1117.75 Q87.2188 1113.14 87.2188 1104.41 Q87.2188 1095.67 90.2743 1091.08 Q93.353 1086.48 99.1632 1086.48 Z\" fill=\"#000000\" fill-rule=\"evenodd\" fill-opacity=\"1\" /><path clip-path=\"url(#clip370)\" d=\"M 0 0 M119.325 1115.78 L124.209 1115.78 L124.209 1121.66 L119.325 1121.66 L119.325 1115.78 Z\" fill=\"#000000\" fill-rule=\"evenodd\" fill-opacity=\"1\" /><path clip-path=\"url(#clip370)\" d=\"M 0 0 M144.394 1090.18 Q140.783 1090.18 138.955 1093.74 Q137.149 1097.29 137.149 1104.41 Q137.149 1111.52 138.955 1115.09 Q140.783 1118.63 144.394 1118.63 Q148.029 1118.63 149.834 1115.09 Q151.663 1111.52 151.663 1104.41 Q151.663 1097.29 149.834 1093.74 Q148.029 1090.18 144.394 1090.18 M144.394 1086.48 Q150.205 1086.48 153.26 1091.08 Q156.339 1095.67 156.339 1104.41 Q156.339 1113.14 153.26 1117.75 Q150.205 1122.33 144.394 1122.33 Q138.584 1122.33 135.506 1117.75 Q132.45 1113.14 132.45 1104.41 Q132.45 1095.67 135.506 1091.08 Q138.584 1086.48 144.394 1086.48 Z\" fill=\"#000000\" fill-rule=\"evenodd\" fill-opacity=\"1\" /><path clip-path=\"url(#clip370)\" d=\"M 0 0 M174.556 1090.18 Q170.945 1090.18 169.116 1093.74 Q167.311 1097.29 167.311 1104.41 Q167.311 1111.52 169.116 1115.09 Q170.945 1118.63 174.556 1118.63 Q178.191 1118.63 179.996 1115.09 Q181.825 1111.52 181.825 1104.41 Q181.825 1097.29 179.996 1093.74 Q178.191 1090.18 174.556 1090.18 M174.556 1086.48 Q180.366 1086.48 183.422 1091.08 Q186.501 1095.67 186.501 1104.41 Q186.501 1113.14 183.422 1117.75 Q180.366 1122.33 174.556 1122.33 Q168.746 1122.33 165.667 1117.75 Q162.612 1113.14 162.612 1104.41 Q162.612 1095.67 165.667 1091.08 Q168.746 1086.48 174.556 1086.48 Z\" fill=\"#000000\" fill-rule=\"evenodd\" fill-opacity=\"1\" /><path clip-path=\"url(#clip370)\" d=\"M 0 0 M100.76 882.019 Q97.1493 882.019 95.3206 885.584 Q93.515 889.126 93.515 896.255 Q93.515 903.362 95.3206 906.927 Q97.1493 910.468 100.76 910.468 Q104.395 910.468 106.2 906.927 Q108.029 903.362 108.029 896.255 Q108.029 889.126 106.2 885.584 Q104.395 882.019 100.76 882.019 M100.76 878.316 Q106.571 878.316 109.626 882.922 Q112.705 887.506 112.705 896.255 Q112.705 904.982 109.626 909.589 Q106.571 914.172 100.76 914.172 Q94.9502 914.172 91.8715 909.589 Q88.816 904.982 88.816 896.255 Q88.816 887.506 91.8715 882.922 Q94.9502 878.316 100.76 878.316 Z\" fill=\"#000000\" fill-rule=\"evenodd\" fill-opacity=\"1\" /><path clip-path=\"url(#clip370)\" d=\"M 0 0 M120.922 907.621 L125.807 907.621 L125.807 913.501 L120.922 913.501 L120.922 907.621 Z\" fill=\"#000000\" fill-rule=\"evenodd\" fill-opacity=\"1\" /><path clip-path=\"url(#clip370)\" d=\"M 0 0 M145.992 882.019 Q142.381 882.019 140.552 885.584 Q138.746 889.126 138.746 896.255 Q138.746 903.362 140.552 906.927 Q142.381 910.468 145.992 910.468 Q149.626 910.468 151.431 906.927 Q153.26 903.362 153.26 896.255 Q153.26 889.126 151.431 885.584 Q149.626 882.019 145.992 882.019 M145.992 878.316 Q151.802 878.316 154.857 882.922 Q157.936 887.506 157.936 896.255 Q157.936 904.982 154.857 909.589 Q151.802 914.172 145.992 914.172 Q140.181 914.172 137.103 909.589 Q134.047 904.982 134.047 896.255 Q134.047 887.506 137.103 882.922 Q140.181 878.316 145.992 878.316 Z\" fill=\"#000000\" fill-rule=\"evenodd\" fill-opacity=\"1\" /><path clip-path=\"url(#clip370)\" d=\"M 0 0 M170.181 909.566 L186.501 909.566 L186.501 913.501 L164.556 913.501 L164.556 909.566 Q167.218 906.811 171.802 902.181 Q176.408 897.529 177.589 896.186 Q179.834 893.663 180.714 891.927 Q181.616 890.168 181.616 888.478 Q181.616 885.723 179.672 883.987 Q177.751 882.251 174.649 882.251 Q172.45 882.251 169.996 883.015 Q167.566 883.779 164.788 885.33 L164.788 880.607 Q167.612 879.473 170.066 878.894 Q172.519 878.316 174.556 878.316 Q179.927 878.316 183.121 881.001 Q186.315 883.686 186.315 888.177 Q186.315 890.306 185.505 892.228 Q184.718 894.126 182.612 896.718 Q182.033 897.39 178.931 900.607 Q175.829 903.802 170.181 909.566 Z\" fill=\"#000000\" fill-rule=\"evenodd\" fill-opacity=\"1\" /><path clip-path=\"url(#clip370)\" d=\"M 0 0 M98.6771 673.86 Q95.066 673.86 93.2373 677.425 Q91.4317 680.966 91.4317 688.096 Q91.4317 695.202 93.2373 698.767 Q95.066 702.309 98.6771 702.309 Q102.311 702.309 104.117 698.767 Q105.946 695.202 105.946 688.096 Q105.946 680.966 104.117 677.425 Q102.311 673.86 98.6771 673.86 M98.6771 670.156 Q104.487 670.156 107.543 674.763 Q110.621 679.346 110.621 688.096 Q110.621 696.823 107.543 701.429 Q104.487 706.012 98.6771 706.012 Q92.8669 706.012 89.7882 701.429 Q86.7327 696.823 86.7327 688.096 Q86.7327 679.346 89.7882 674.763 Q92.8669 670.156 98.6771 670.156 Z\" fill=\"#000000\" fill-rule=\"evenodd\" fill-opacity=\"1\" /><path clip-path=\"url(#clip370)\" d=\"M 0 0 M118.839 699.462 L123.723 699.462 L123.723 705.341 L118.839 705.341 L118.839 699.462 Z\" fill=\"#000000\" fill-rule=\"evenodd\" fill-opacity=\"1\" /><path clip-path=\"url(#clip370)\" d=\"M 0 0 M143.908 673.86 Q140.297 673.86 138.469 677.425 Q136.663 680.966 136.663 688.096 Q136.663 695.202 138.469 698.767 Q140.297 702.309 143.908 702.309 Q147.543 702.309 149.348 698.767 Q151.177 695.202 151.177 688.096 Q151.177 680.966 149.348 677.425 Q147.543 673.86 143.908 673.86 M143.908 670.156 Q149.718 670.156 152.774 674.763 Q155.853 679.346 155.853 688.096 Q155.853 696.823 152.774 701.429 Q149.718 706.012 143.908 706.012 Q138.098 706.012 135.019 701.429 Q131.964 696.823 131.964 688.096 Q131.964 679.346 135.019 674.763 Q138.098 670.156 143.908 670.156 Z\" fill=\"#000000\" fill-rule=\"evenodd\" fill-opacity=\"1\" /><path clip-path=\"url(#clip370)\" d=\"M 0 0 M176.917 674.855 L165.112 693.304 L176.917 693.304 L176.917 674.855 M175.691 670.781 L181.57 670.781 L181.57 693.304 L186.501 693.304 L186.501 697.193 L181.57 697.193 L181.57 705.341 L176.917 705.341 L176.917 697.193 L161.316 697.193 L161.316 692.679 L175.691 670.781 Z\" fill=\"#000000\" fill-rule=\"evenodd\" fill-opacity=\"1\" /><path clip-path=\"url(#clip370)\" d=\"M 0 0 M99.0011 465.7 Q95.39 465.7 93.5613 469.265 Q91.7558 472.807 91.7558 479.936 Q91.7558 487.043 93.5613 490.608 Q95.39 494.149 99.0011 494.149 Q102.635 494.149 104.441 490.608 Q106.27 487.043 106.27 479.936 Q106.27 472.807 104.441 469.265 Q102.635 465.7 99.0011 465.7 M99.0011 461.997 Q104.811 461.997 107.867 466.603 Q110.946 471.186 110.946 479.936 Q110.946 488.663 107.867 493.27 Q104.811 497.853 99.0011 497.853 Q93.191 497.853 90.1123 493.27 Q87.0567 488.663 87.0567 479.936 Q87.0567 471.186 90.1123 466.603 Q93.191 461.997 99.0011 461.997 Z\" fill=\"#000000\" fill-rule=\"evenodd\" fill-opacity=\"1\" /><path clip-path=\"url(#clip370)\" d=\"M 0 0 M119.163 491.302 L124.047 491.302 L124.047 497.182 L119.163 497.182 L119.163 491.302 Z\" fill=\"#000000\" fill-rule=\"evenodd\" fill-opacity=\"1\" /><path clip-path=\"url(#clip370)\" d=\"M 0 0 M144.232 465.7 Q140.621 465.7 138.793 469.265 Q136.987 472.807 136.987 479.936 Q136.987 487.043 138.793 490.608 Q140.621 494.149 144.232 494.149 Q147.867 494.149 149.672 490.608 Q151.501 487.043 151.501 479.936 Q151.501 472.807 149.672 469.265 Q147.867 465.7 144.232 465.7 M144.232 461.997 Q150.043 461.997 153.098 466.603 Q156.177 471.186 156.177 479.936 Q156.177 488.663 153.098 493.27 Q150.043 497.853 144.232 497.853 Q138.422 497.853 135.344 493.27 Q132.288 488.663 132.288 479.936 Q132.288 471.186 135.344 466.603 Q138.422 461.997 144.232 461.997 Z\" fill=\"#000000\" fill-rule=\"evenodd\" fill-opacity=\"1\" /><path clip-path=\"url(#clip370)\" d=\"M 0 0 M174.973 478.038 Q171.825 478.038 169.973 480.191 Q168.144 482.344 168.144 486.094 Q168.144 489.821 169.973 491.996 Q171.825 494.149 174.973 494.149 Q178.121 494.149 179.95 491.996 Q181.802 489.821 181.802 486.094 Q181.802 482.344 179.95 480.191 Q178.121 478.038 174.973 478.038 M184.255 463.386 L184.255 467.645 Q182.496 466.811 180.691 466.372 Q178.908 465.932 177.149 465.932 Q172.519 465.932 170.066 469.057 Q167.635 472.182 167.288 478.501 Q168.654 476.487 170.714 475.423 Q172.774 474.335 175.251 474.335 Q180.459 474.335 183.468 477.506 Q186.501 480.654 186.501 486.094 Q186.501 491.418 183.353 494.635 Q180.204 497.853 174.973 497.853 Q168.978 497.853 165.806 493.27 Q162.635 488.663 162.635 479.936 Q162.635 471.742 166.524 466.881 Q170.413 461.997 176.964 461.997 Q178.723 461.997 180.505 462.344 Q182.311 462.691 184.255 463.386 Z\" fill=\"#000000\" fill-rule=\"evenodd\" fill-opacity=\"1\" /><path clip-path=\"url(#clip370)\" d=\"M 0 0 M99.2558 257.541 Q95.6447 257.541 93.816 261.106 Q92.0104 264.647 92.0104 271.777 Q92.0104 278.883 93.816 282.448 Q95.6447 285.99 99.2558 285.99 Q102.89 285.99 104.696 282.448 Q106.524 278.883 106.524 271.777 Q106.524 264.647 104.696 261.106 Q102.89 257.541 99.2558 257.541 M99.2558 253.837 Q105.066 253.837 108.121 258.444 Q111.2 263.027 111.2 271.777 Q111.2 280.504 108.121 285.11 Q105.066 289.693 99.2558 289.693 Q93.4456 289.693 90.3669 285.11 Q87.3114 280.504 87.3114 271.777 Q87.3114 263.027 90.3669 258.444 Q93.4456 253.837 99.2558 253.837 Z\" fill=\"#000000\" fill-rule=\"evenodd\" fill-opacity=\"1\" /><path clip-path=\"url(#clip370)\" d=\"M 0 0 M119.418 283.143 L124.302 283.143 L124.302 289.022 L119.418 289.022 L119.418 283.143 Z\" fill=\"#000000\" fill-rule=\"evenodd\" fill-opacity=\"1\" /><path clip-path=\"url(#clip370)\" d=\"M 0 0 M144.487 257.541 Q140.876 257.541 139.047 261.106 Q137.242 264.647 137.242 271.777 Q137.242 278.883 139.047 282.448 Q140.876 285.99 144.487 285.99 Q148.121 285.99 149.927 282.448 Q151.755 278.883 151.755 271.777 Q151.755 264.647 149.927 261.106 Q148.121 257.541 144.487 257.541 M144.487 253.837 Q150.297 253.837 153.353 258.444 Q156.431 263.027 156.431 271.777 Q156.431 280.504 153.353 285.11 Q150.297 289.693 144.487 289.693 Q138.677 289.693 135.598 285.11 Q132.543 280.504 132.543 271.777 Q132.543 263.027 135.598 258.444 Q138.677 253.837 144.487 253.837 Z\" fill=\"#000000\" fill-rule=\"evenodd\" fill-opacity=\"1\" /><path clip-path=\"url(#clip370)\" d=\"M 0 0 M174.649 272.61 Q171.316 272.61 169.394 274.393 Q167.496 276.175 167.496 279.3 Q167.496 282.425 169.394 284.207 Q171.316 285.99 174.649 285.99 Q177.982 285.99 179.903 284.207 Q181.825 282.402 181.825 279.3 Q181.825 276.175 179.903 274.393 Q178.005 272.61 174.649 272.61 M169.973 270.619 Q166.964 269.879 165.274 267.819 Q163.607 265.758 163.607 262.795 Q163.607 258.652 166.547 256.245 Q169.51 253.837 174.649 253.837 Q179.811 253.837 182.751 256.245 Q185.69 258.652 185.69 262.795 Q185.69 265.758 184.001 267.819 Q182.334 269.879 179.348 270.619 Q182.728 271.406 184.603 273.698 Q186.501 275.99 186.501 279.3 Q186.501 284.323 183.422 287.008 Q180.366 289.693 174.649 289.693 Q168.931 289.693 165.853 287.008 Q162.797 284.323 162.797 279.3 Q162.797 275.99 164.695 273.698 Q166.593 271.406 169.973 270.619 M168.26 263.235 Q168.26 265.92 169.927 267.425 Q171.616 268.93 174.649 268.93 Q177.658 268.93 179.348 267.425 Q181.061 265.92 181.061 263.235 Q181.061 260.55 179.348 259.045 Q177.658 257.541 174.649 257.541 Q171.616 257.541 169.927 259.045 Q168.26 260.55 168.26 263.235 Z\" fill=\"#000000\" fill-rule=\"evenodd\" fill-opacity=\"1\" /><path clip-path=\"url(#clip370)\" d=\"M 0 0 M99.1632 49.3813 Q95.5521 49.3813 93.7234 52.9461 Q91.9178 56.4877 91.9178 63.6173 Q91.9178 70.7237 93.7234 74.2885 Q95.5521 77.8302 99.1632 77.8302 Q102.797 77.8302 104.603 74.2885 Q106.432 70.7237 106.432 63.6173 Q106.432 56.4877 104.603 52.9461 Q102.797 49.3813 99.1632 49.3813 M99.1632 45.6776 Q104.973 45.6776 108.029 50.284 Q111.108 54.8673 111.108 63.6173 Q111.108 72.3441 108.029 76.9506 Q104.973 81.5339 99.1632 81.5339 Q93.353 81.5339 90.2743 76.9506 Q87.2188 72.3441 87.2188 63.6173 Q87.2188 54.8673 90.2743 50.284 Q93.353 45.6776 99.1632 45.6776 Z\" fill=\"#000000\" fill-rule=\"evenodd\" fill-opacity=\"1\" /><path clip-path=\"url(#clip370)\" d=\"M 0 0 M119.325 74.983 L124.209 74.983 L124.209 80.8626 L119.325 80.8626 L119.325 74.983 Z\" fill=\"#000000\" fill-rule=\"evenodd\" fill-opacity=\"1\" /><path clip-path=\"url(#clip370)\" d=\"M 0 0 M135.205 76.9274 L142.843 76.9274 L142.843 50.5618 L134.533 52.2285 L134.533 47.9692 L142.797 46.3026 L147.473 46.3026 L147.473 76.9274 L155.112 76.9274 L155.112 80.8626 L135.205 80.8626 L135.205 76.9274 Z\" fill=\"#000000\" fill-rule=\"evenodd\" fill-opacity=\"1\" /><path clip-path=\"url(#clip370)\" d=\"M 0 0 M174.556 49.3813 Q170.945 49.3813 169.116 52.9461 Q167.311 56.4877 167.311 63.6173 Q167.311 70.7237 169.116 74.2885 Q170.945 77.8302 174.556 77.8302 Q178.191 77.8302 179.996 74.2885 Q181.825 70.7237 181.825 63.6173 Q181.825 56.4877 179.996 52.9461 Q178.191 49.3813 174.556 49.3813 M174.556 45.6776 Q180.366 45.6776 183.422 50.284 Q186.501 54.8673 186.501 63.6173 Q186.501 72.3441 183.422 76.9506 Q180.366 81.5339 174.556 81.5339 Q168.746 81.5339 165.667 76.9506 Q162.612 72.3441 162.612 63.6173 Q162.612 54.8673 165.667 50.284 Q168.746 45.6776 174.556 45.6776 Z\" fill=\"#000000\" fill-rule=\"evenodd\" fill-opacity=\"1\" /><polyline clip-path=\"url(#clip372)\" style=\"stroke:#009af9; stroke-width:4; stroke-opacity:1; fill:none\" points=\"\n",
       "  282.791,1445.72 286.146,1445.72 289.501,1445.71 292.856,1445.71 296.211,1445.69 299.566,1445.66 302.921,1445.6 306.276,1445.51 309.631,1445.38 312.986,1445.2 \n",
       "  316.341,1444.95 319.696,1444.64 323.051,1444.25 326.407,1443.77 329.762,1443.19 333.117,1442.51 336.472,1441.73 339.827,1440.82 343.182,1439.8 346.537,1438.66 \n",
       "  349.892,1437.4 353.247,1436 356.602,1434.49 359.957,1432.84 363.312,1431.08 366.667,1429.2 370.022,1427.2 373.377,1425.09 376.732,1422.88 380.087,1420.58 \n",
       "  383.442,1418.18 386.797,1415.71 390.152,1413.17 393.508,1410.57 396.863,1407.92 400.218,1405.23 403.573,1402.52 406.928,1399.79 410.283,1397.07 413.638,1394.35 \n",
       "  416.993,1391.66 420.348,1389.01 423.703,1386.4 427.058,1383.86 430.413,1381.38 433.768,1378.99 437.123,1376.7 440.478,1374.52 443.833,1372.45 447.188,1370.5 \n",
       "  450.543,1368.7 453.898,1367.04 457.253,1365.53 460.609,1364.18 463.964,1363 467.319,1361.99 470.674,1361.16 474.029,1360.51 477.384,1360.04 480.739,1359.76 \n",
       "  484.094,1359.66 487.449,1359.76 490.804,1360.04 494.159,1360.51 497.514,1361.16 500.869,1361.99 504.224,1363 507.579,1364.18 510.934,1365.53 514.289,1367.04 \n",
       "  517.644,1368.7 520.999,1370.5 524.354,1372.45 527.71,1374.52 531.065,1376.7 534.42,1378.99 537.775,1381.38 541.13,1383.86 544.485,1386.4 547.84,1389.01 \n",
       "  551.195,1391.66 554.55,1394.35 557.905,1397.07 561.26,1399.79 564.615,1402.52 567.97,1405.23 571.325,1407.92 574.68,1410.57 578.035,1413.17 581.39,1415.71 \n",
       "  584.745,1418.18 588.1,1420.58 591.455,1422.88 594.811,1425.09 598.166,1427.2 601.521,1429.2 604.876,1431.08 608.231,1432.84 611.586,1434.49 614.941,1436 \n",
       "  618.296,1437.4 621.651,1438.66 625.006,1439.8 628.361,1440.82 631.716,1441.73 635.071,1442.51 638.426,1443.19 641.781,1443.77 645.136,1444.25 648.491,1444.64 \n",
       "  651.846,1444.95 655.201,1445.2 658.556,1445.38 661.912,1445.51 665.267,1445.6 668.622,1445.66 671.977,1445.69 675.332,1445.71 678.687,1445.71 682.042,1445.72 \n",
       "  685.397,1445.72 688.752,1445.72 692.107,1445.72 695.462,1445.72 698.817,1445.72 702.172,1445.72 705.527,1445.72 708.882,1445.72 712.237,1445.72 715.592,1445.72 \n",
       "  718.947,1445.72 722.302,1445.72 725.657,1445.72 729.013,1445.72 732.368,1445.72 735.723,1445.72 739.078,1445.72 742.433,1445.72 745.788,1445.72 749.143,1445.72 \n",
       "  752.498,1445.72 755.853,1445.72 759.208,1445.72 762.563,1445.72 765.918,1445.72 769.273,1445.72 772.628,1445.72 775.983,1445.72 779.338,1445.72 782.693,1445.72 \n",
       "  786.048,1445.72 789.403,1445.72 792.758,1445.72 796.114,1445.72 799.469,1445.72 802.824,1445.72 806.179,1445.72 809.534,1445.72 812.889,1445.72 816.244,1445.72 \n",
       "  819.599,1445.72 822.954,1445.72 826.309,1445.72 829.664,1445.72 833.019,1445.72 836.374,1445.72 839.729,1445.72 843.084,1445.72 846.439,1445.72 849.794,1445.72 \n",
       "  853.149,1445.72 856.504,1445.72 859.859,1445.72 863.214,1445.72 866.57,1445.72 869.925,1445.72 873.28,1445.72 876.635,1445.72 879.99,1445.72 883.345,1445.72 \n",
       "  886.7,1445.72 890.055,1445.72 893.41,1445.72 896.765,1445.72 900.12,1445.72 903.475,1445.72 906.83,1445.72 910.185,1445.72 913.54,1445.72 916.895,1445.72 \n",
       "  920.25,1445.72 923.605,1445.72 926.96,1445.72 930.315,1445.72 933.671,1445.72 937.026,1445.72 940.381,1445.72 943.736,1445.72 947.091,1445.72 950.446,1445.72 \n",
       "  953.801,1445.72 957.156,1445.72 960.511,1445.72 963.866,1445.72 967.221,1445.72 970.576,1445.72 973.931,1445.72 977.286,1445.72 980.641,1445.72 983.996,1445.72 \n",
       "  987.351,1445.72 990.706,1445.72 994.061,1445.72 997.416,1445.72 1000.77,1445.72 1004.13,1445.72 1007.48,1445.72 1010.84,1445.72 1014.19,1445.72 1017.55,1445.72 \n",
       "  1020.9,1445.72 1024.26,1445.72 1027.61,1445.72 1030.97,1445.72 1034.32,1445.72 1037.68,1445.72 1041.03,1445.72 1044.39,1445.72 1047.74,1445.72 1051.1,1445.72 \n",
       "  1054.45,1445.72 1057.81,1445.72 1061.16,1445.72 1064.52,1445.72 1067.87,1445.72 1071.23,1445.72 1074.58,1445.72 1077.94,1445.72 1081.29,1445.72 1084.65,1445.72 \n",
       "  1088,1445.72 1091.36,1445.72 1094.71,1445.72 1098.07,1445.72 1101.42,1445.72 1104.78,1445.72 1108.13,1445.72 1111.49,1445.72 1114.84,1445.72 1118.2,1445.72 \n",
       "  1121.55,1445.72 1124.91,1445.72 1128.26,1445.72 1131.62,1445.72 1134.97,1445.72 1138.33,1445.72 1141.68,1445.72 1145.04,1445.72 1148.39,1445.72 1151.75,1445.72 \n",
       "  1155.1,1445.72 1158.46,1445.72 1161.81,1445.72 1165.17,1445.72 1168.52,1445.72 1171.88,1445.72 1175.23,1445.72 1178.59,1445.72 1181.94,1445.72 1185.3,1445.72 \n",
       "  1188.65,1445.72 1192.01,1445.72 1195.36,1445.72 1198.72,1445.72 1202.07,1445.72 1205.43,1445.72 1208.78,1445.72 1212.14,1445.72 1215.49,1445.72 1218.85,1445.72 \n",
       "  1222.2,1445.72 1225.56,1445.72 1228.91,1445.72 1232.27,1445.72 1235.63,1445.72 1238.98,1445.72 1242.34,1445.72 1245.69,1445.72 1249.05,1445.72 1252.4,1445.72 \n",
       "  1255.76,1445.72 1259.11,1445.72 1262.47,1445.72 1265.82,1445.72 1269.18,1445.72 1272.53,1445.72 1275.89,1445.72 1279.24,1445.72 1282.6,1445.72 1285.95,1445.72 \n",
       "  1289.31,1445.72 1292.66,1445.72 1296.02,1445.72 1299.37,1445.72 1302.73,1445.72 1306.08,1445.72 1309.44,1445.72 1312.79,1445.72 1316.15,1445.72 1319.5,1445.72 \n",
       "  1322.86,1445.72 1326.21,1445.72 1329.57,1445.72 1332.92,1445.72 1336.28,1445.72 1339.63,1445.72 1342.99,1445.72 1346.34,1445.72 1349.7,1445.72 1353.05,1445.72 \n",
       "  1356.41,1445.72 1359.76,1445.72 1363.12,1445.72 1366.47,1445.72 1369.83,1445.72 1373.18,1445.72 1376.54,1445.72 1379.89,1445.72 1383.25,1445.72 1386.6,1445.72 \n",
       "  1389.96,1445.72 1393.31,1445.72 1396.67,1445.72 1400.02,1445.72 1403.38,1445.72 1406.73,1445.72 1410.09,1445.72 1413.44,1445.72 1416.8,1445.72 1420.15,1445.72 \n",
       "  1423.51,1445.72 1426.86,1445.72 1430.22,1445.72 1433.57,1445.72 1436.93,1445.72 1440.28,1445.72 1443.64,1445.72 1446.99,1445.72 1450.35,1445.72 1453.7,1445.72 \n",
       "  1457.06,1445.72 1460.41,1445.72 1463.77,1445.72 1467.12,1445.72 1470.48,1445.72 1473.83,1445.72 1477.19,1445.72 1480.54,1445.72 1483.9,1445.72 1487.25,1445.72 \n",
       "  1490.61,1445.72 1493.96,1445.72 1497.32,1445.72 1500.67,1445.72 1504.03,1445.72 1507.38,1445.72 1510.74,1445.72 1514.09,1445.72 1517.45,1445.72 1520.8,1445.72 \n",
       "  1524.16,1445.72 1527.51,1445.72 1530.87,1445.72 1534.22,1445.72 1537.58,1445.72 1540.93,1445.72 1544.29,1445.72 1547.64,1445.72 1551,1445.72 1554.35,1445.72 \n",
       "  1557.71,1445.72 1561.06,1445.72 1564.42,1445.72 1567.77,1445.72 1571.13,1445.72 1574.49,1445.72 1577.84,1445.72 1581.2,1445.72 1584.55,1445.72 1587.91,1445.72 \n",
       "  1591.26,1445.72 1594.62,1445.72 1597.97,1445.72 1601.33,1445.72 1604.68,1445.72 1608.04,1445.72 1611.39,1445.72 1614.75,1445.72 1618.1,1445.72 1621.46,1445.72 \n",
       "  1624.81,1445.72 1628.17,1445.72 1631.52,1445.72 1634.88,1445.72 1638.23,1445.72 1641.59,1445.72 1644.94,1445.72 1648.3,1445.72 1651.65,1445.72 1655.01,1445.72 \n",
       "  1658.36,1445.72 1661.72,1445.72 1665.07,1445.72 1668.43,1445.72 1671.78,1445.72 1675.14,1445.72 1678.49,1445.72 1681.85,1445.72 1685.2,1445.72 1688.56,1445.72 \n",
       "  1691.91,1445.72 1695.27,1445.72 1698.62,1445.72 1701.98,1445.72 1705.33,1445.72 1708.69,1445.72 1712.04,1445.72 1715.4,1445.72 1718.75,1445.72 1722.11,1445.72 \n",
       "  1725.46,1445.72 1728.82,1445.72 1732.17,1445.72 1735.53,1445.72 1738.88,1445.72 1742.24,1445.72 1745.59,1445.72 1748.95,1445.72 1752.3,1445.72 1755.66,1445.72 \n",
       "  1759.01,1445.72 1762.37,1445.72 1765.72,1445.72 1769.08,1445.72 1772.43,1445.72 1775.79,1445.72 1779.14,1445.72 1782.5,1445.72 1785.85,1445.72 1789.21,1445.72 \n",
       "  1792.56,1445.72 1795.92,1445.72 1799.27,1445.72 1802.63,1445.72 1805.98,1445.72 1809.34,1445.72 1812.69,1445.72 1816.05,1445.72 1819.4,1445.72 1822.76,1445.72 \n",
       "  1826.11,1445.72 1829.47,1445.72 1832.82,1445.72 1836.18,1445.72 1839.53,1445.72 1842.89,1445.72 1846.24,1445.72 1849.6,1445.72 1852.95,1445.72 1856.31,1445.72 \n",
       "  1859.66,1445.72 1863.02,1445.72 1866.37,1445.72 1869.73,1445.72 1873.08,1445.72 1876.44,1445.72 1879.79,1445.72 1883.15,1445.72 1886.5,1445.72 1889.86,1445.72 \n",
       "  1893.21,1445.72 1896.57,1445.72 1899.92,1445.72 1903.28,1445.72 1906.63,1445.72 1909.99,1445.72 1913.35,1445.72 1916.7,1445.72 1920.06,1445.72 1923.41,1445.72 \n",
       "  1926.77,1445.72 1930.12,1445.72 1933.48,1445.72 1936.83,1445.72 1940.19,1445.72 1943.54,1445.72 1946.9,1445.72 1950.25,1445.72 1953.61,1445.72 1956.96,1445.72 \n",
       "  1960.32,1445.72 1963.67,1445.72 1967.03,1445.72 1970.38,1445.72 1973.74,1445.72 1977.09,1445.72 1980.45,1445.72 1983.8,1445.72 1987.16,1445.72 1990.51,1445.72 \n",
       "  1993.87,1445.72 1997.22,1445.72 2000.58,1445.72 2003.93,1445.72 2007.29,1445.72 2010.64,1445.72 2014,1445.72 2017.35,1445.72 2020.71,1445.72 2024.06,1445.72 \n",
       "  2027.42,1445.72 2030.77,1445.72 2034.13,1445.72 2037.48,1445.72 2040.84,1445.72 2044.19,1445.72 2047.55,1445.72 2050.9,1445.72 2054.26,1445.72 2057.61,1445.72 \n",
       "  2060.97,1445.72 2064.32,1445.72 2067.68,1445.72 2071.03,1445.72 2074.39,1445.72 2077.74,1445.72 2081.1,1445.72 2084.45,1445.72 2087.81,1445.72 2091.16,1445.72 \n",
       "  2094.52,1445.72 2097.87,1445.72 2101.23,1445.72 2104.58,1445.72 2107.94,1445.72 2111.29,1445.72 2114.65,1445.72 2118,1445.72 2121.36,1445.72 2124.71,1445.72 \n",
       "  2128.07,1445.72 2131.42,1445.72 2134.78,1445.72 2138.13,1445.72 2141.49,1445.72 2144.84,1445.72 2148.2,1445.72 2151.55,1445.72 2154.91,1445.72 2158.26,1445.72 \n",
       "  2161.62,1445.72 2164.97,1445.72 2168.33,1445.72 2171.68,1445.72 2175.04,1445.72 2178.39,1445.72 2181.75,1445.72 2185.1,1445.72 2188.46,1445.72 2191.81,1445.72 \n",
       "  2195.17,1445.72 2198.52,1445.72 2201.88,1445.72 2205.23,1445.72 2208.59,1445.72 2211.94,1445.72 2215.3,1445.72 2218.65,1445.72 2222.01,1445.72 2225.36,1445.72 \n",
       "  2228.72,1445.72 2232.07,1445.72 2235.43,1445.72 2238.78,1445.72 2242.14,1445.72 2245.49,1445.72 2248.85,1445.72 2252.21,1445.72 2255.56,1445.72 2258.92,1445.72 \n",
       "  2262.27,1445.72 2265.63,1445.72 2268.98,1445.72 2272.34,1445.72 2275.69,1445.72 2279.05,1445.72 2282.4,1445.72 2285.76,1445.72 2289.11,1445.72 2292.47,1445.72 \n",
       "  \n",
       "  \"/>\n",
       "<polyline clip-path=\"url(#clip372)\" style=\"stroke:#e26f46; stroke-width:4; stroke-opacity:1; fill:none\" points=\"\n",
       "  282.791,1104.38 286.146,1104.38 289.501,1104.36 292.856,1104.29 296.211,1104.1 299.566,1103.72 302.921,1103.06 306.276,1102.01 309.631,1100.48 312.986,1098.35 \n",
       "  316.341,1095.52 319.696,1091.87 323.051,1087.31 326.407,1081.73 329.762,1075.03 333.117,1067.14 336.472,1057.99 339.827,1047.49 343.182,1035.62 346.537,1022.32 \n",
       "  349.892,1007.56 353.247,991.329 356.602,973.627 359.957,954.462 363.312,933.856 366.667,911.845 370.022,888.476 373.377,863.809 376.732,837.916 380.087,810.876 \n",
       "  383.442,782.784 386.797,753.739 390.152,723.852 393.508,693.241 396.863,662.03 400.218,630.352 403.573,598.342 406.928,566.141 410.283,533.893 413.638,501.745 \n",
       "  416.993,469.844 420.348,438.341 423.703,407.382 427.058,377.115 430.413,347.684 433.768,319.232 437.123,291.897 440.478,265.81 443.833,241.101 447.188,217.89 \n",
       "  450.543,196.291 453.898,176.411 457.253,158.349 460.609,142.194 463.964,128.027 467.319,115.917 470.674,105.926 474.029,98.1023 477.384,92.4861 480.739,89.1051 \n",
       "  484.094,87.9763 487.449,89.1051 490.804,92.4861 494.159,98.1023 497.514,105.926 500.869,115.917 504.224,128.027 507.579,142.194 510.934,158.349 514.289,176.411 \n",
       "  517.644,196.291 520.999,217.89 524.354,241.101 527.71,265.81 531.065,291.897 534.42,319.232 537.775,347.684 541.13,377.115 544.485,407.382 547.84,438.341 \n",
       "  551.195,469.844 554.55,501.745 557.905,533.893 561.26,566.141 564.615,598.342 567.97,630.352 571.325,662.03 574.68,693.241 578.035,723.852 581.39,753.739 \n",
       "  584.745,782.784 588.1,810.876 591.455,837.916 594.811,863.809 598.166,888.476 601.521,911.845 604.876,933.856 608.231,954.462 611.586,973.627 614.941,991.329 \n",
       "  618.296,1007.56 621.651,1022.32 625.006,1035.62 628.361,1047.49 631.716,1057.99 635.071,1067.14 638.426,1075.03 641.781,1081.73 645.136,1087.31 648.491,1091.87 \n",
       "  651.846,1095.52 655.201,1098.35 658.556,1100.48 661.912,1102.01 665.267,1103.06 668.622,1103.72 671.977,1104.1 675.332,1104.29 678.687,1104.36 682.042,1104.38 \n",
       "  685.397,1104.38 688.752,1104.38 692.107,1104.38 695.462,1104.38 698.817,1104.38 702.172,1104.38 705.527,1104.38 708.882,1104.38 712.237,1104.38 715.592,1104.38 \n",
       "  718.947,1104.38 722.302,1104.38 725.657,1104.38 729.013,1104.38 732.368,1104.38 735.723,1104.38 739.078,1104.38 742.433,1104.38 745.788,1104.38 749.143,1104.38 \n",
       "  752.498,1104.38 755.853,1104.38 759.208,1104.38 762.563,1104.38 765.918,1104.38 769.273,1104.38 772.628,1104.38 775.983,1104.38 779.338,1104.38 782.693,1104.38 \n",
       "  786.048,1104.38 789.403,1104.38 792.758,1104.38 796.114,1104.38 799.469,1104.38 802.824,1104.38 806.179,1104.38 809.534,1104.38 812.889,1104.38 816.244,1104.38 \n",
       "  819.599,1104.38 822.954,1104.38 826.309,1104.38 829.664,1104.38 833.019,1104.38 836.374,1104.38 839.729,1104.38 843.084,1104.38 846.439,1104.38 849.794,1104.38 \n",
       "  853.149,1104.38 856.504,1104.38 859.859,1104.38 863.214,1104.38 866.57,1104.38 869.925,1104.38 873.28,1104.38 876.635,1104.38 879.99,1104.38 883.345,1104.38 \n",
       "  886.7,1104.38 890.055,1104.38 893.41,1104.38 896.765,1104.38 900.12,1104.38 903.475,1104.38 906.83,1104.38 910.185,1104.38 913.54,1104.38 916.895,1104.38 \n",
       "  920.25,1104.38 923.605,1104.38 926.96,1104.38 930.315,1104.38 933.671,1104.38 937.026,1104.38 940.381,1104.38 943.736,1104.38 947.091,1104.38 950.446,1104.38 \n",
       "  953.801,1104.38 957.156,1104.38 960.511,1104.38 963.866,1104.38 967.221,1104.38 970.576,1104.38 973.931,1104.38 977.286,1104.38 980.641,1104.38 983.996,1104.38 \n",
       "  987.351,1104.38 990.706,1104.38 994.061,1104.38 997.416,1104.38 1000.77,1104.38 1004.13,1104.38 1007.48,1104.38 1010.84,1104.38 1014.19,1104.38 1017.55,1104.38 \n",
       "  1020.9,1104.38 1024.26,1104.38 1027.61,1104.38 1030.97,1104.38 1034.32,1104.38 1037.68,1104.38 1041.03,1104.38 1044.39,1104.38 1047.74,1104.38 1051.1,1104.38 \n",
       "  1054.45,1104.38 1057.81,1104.38 1061.16,1104.38 1064.52,1104.38 1067.87,1104.38 1071.23,1104.38 1074.58,1104.38 1077.94,1104.38 1081.29,1104.38 1084.65,1104.38 \n",
       "  1088,1104.38 1091.36,1104.38 1094.71,1104.38 1098.07,1104.38 1101.42,1104.38 1104.78,1104.38 1108.13,1104.38 1111.49,1104.38 1114.84,1104.38 1118.2,1104.38 \n",
       "  1121.55,1104.38 1124.91,1104.38 1128.26,1104.38 1131.62,1104.38 1134.97,1104.38 1138.33,1104.38 1141.68,1104.38 1145.04,1104.38 1148.39,1104.38 1151.75,1104.38 \n",
       "  1155.1,1104.38 1158.46,1104.38 1161.81,1104.38 1165.17,1104.38 1168.52,1104.38 1171.88,1104.38 1175.23,1104.38 1178.59,1104.38 1181.94,1104.38 1185.3,1104.38 \n",
       "  1188.65,1104.38 1192.01,1104.38 1195.36,1104.38 1198.72,1104.38 1202.07,1104.38 1205.43,1104.38 1208.78,1104.38 1212.14,1104.38 1215.49,1104.38 1218.85,1104.38 \n",
       "  1222.2,1104.38 1225.56,1104.38 1228.91,1104.38 1232.27,1104.38 1235.63,1104.38 1238.98,1104.38 1242.34,1104.38 1245.69,1104.38 1249.05,1104.38 1252.4,1104.38 \n",
       "  1255.76,1104.38 1259.11,1104.38 1262.47,1104.38 1265.82,1104.38 1269.18,1104.38 1272.53,1104.38 1275.89,1104.38 1279.24,1104.38 1282.6,1104.38 1285.95,1104.38 \n",
       "  1289.31,1104.38 1292.66,1104.38 1296.02,1104.38 1299.37,1104.38 1302.73,1104.38 1306.08,1104.38 1309.44,1104.38 1312.79,1104.38 1316.15,1104.38 1319.5,1104.38 \n",
       "  1322.86,1104.38 1326.21,1104.38 1329.57,1104.38 1332.92,1104.38 1336.28,1104.38 1339.63,1104.38 1342.99,1104.38 1346.34,1104.38 1349.7,1104.38 1353.05,1104.38 \n",
       "  1356.41,1104.38 1359.76,1104.38 1363.12,1104.38 1366.47,1104.38 1369.83,1104.38 1373.18,1104.38 1376.54,1104.38 1379.89,1104.38 1383.25,1104.38 1386.6,1104.38 \n",
       "  1389.96,1104.38 1393.31,1104.38 1396.67,1104.38 1400.02,1104.38 1403.38,1104.38 1406.73,1104.38 1410.09,1104.38 1413.44,1104.38 1416.8,1104.38 1420.15,1104.38 \n",
       "  1423.51,1104.38 1426.86,1104.38 1430.22,1104.38 1433.57,1104.38 1436.93,1104.38 1440.28,1104.38 1443.64,1104.38 1446.99,1104.38 1450.35,1104.38 1453.7,1104.38 \n",
       "  1457.06,1104.38 1460.41,1104.38 1463.77,1104.38 1467.12,1104.38 1470.48,1104.38 1473.83,1104.38 1477.19,1104.38 1480.54,1104.38 1483.9,1104.38 1487.25,1104.38 \n",
       "  1490.61,1104.38 1493.96,1104.38 1497.32,1104.38 1500.67,1104.38 1504.03,1104.38 1507.38,1104.38 1510.74,1104.38 1514.09,1104.38 1517.45,1104.38 1520.8,1104.38 \n",
       "  1524.16,1104.38 1527.51,1104.38 1530.87,1104.38 1534.22,1104.38 1537.58,1104.38 1540.93,1104.38 1544.29,1104.38 1547.64,1104.38 1551,1104.38 1554.35,1104.38 \n",
       "  1557.71,1104.38 1561.06,1104.38 1564.42,1104.38 1567.77,1104.38 1571.13,1104.38 1574.49,1104.38 1577.84,1104.38 1581.2,1104.38 1584.55,1104.38 1587.91,1104.38 \n",
       "  1591.26,1104.38 1594.62,1104.38 1597.97,1104.38 1601.33,1104.38 1604.68,1104.38 1608.04,1104.38 1611.39,1104.38 1614.75,1104.38 1618.1,1104.38 1621.46,1104.38 \n",
       "  1624.81,1104.38 1628.17,1104.38 1631.52,1104.38 1634.88,1104.38 1638.23,1104.38 1641.59,1104.38 1644.94,1104.38 1648.3,1104.38 1651.65,1104.38 1655.01,1104.38 \n",
       "  1658.36,1104.38 1661.72,1104.38 1665.07,1104.38 1668.43,1104.38 1671.78,1104.38 1675.14,1104.38 1678.49,1104.38 1681.85,1104.38 1685.2,1104.38 1688.56,1104.38 \n",
       "  1691.91,1104.38 1695.27,1104.38 1698.62,1104.38 1701.98,1104.38 1705.33,1104.38 1708.69,1104.38 1712.04,1104.38 1715.4,1104.38 1718.75,1104.38 1722.11,1104.38 \n",
       "  1725.46,1104.38 1728.82,1104.38 1732.17,1104.38 1735.53,1104.38 1738.88,1104.38 1742.24,1104.38 1745.59,1104.38 1748.95,1104.38 1752.3,1104.38 1755.66,1104.38 \n",
       "  1759.01,1104.38 1762.37,1104.38 1765.72,1104.38 1769.08,1104.38 1772.43,1104.38 1775.79,1104.38 1779.14,1104.38 1782.5,1104.38 1785.85,1104.38 1789.21,1104.38 \n",
       "  1792.56,1104.38 1795.92,1104.38 1799.27,1104.38 1802.63,1104.38 1805.98,1104.38 1809.34,1104.38 1812.69,1104.38 1816.05,1104.38 1819.4,1104.38 1822.76,1104.38 \n",
       "  1826.11,1104.38 1829.47,1104.38 1832.82,1104.38 1836.18,1104.38 1839.53,1104.38 1842.89,1104.38 1846.24,1104.38 1849.6,1104.38 1852.95,1104.38 1856.31,1104.38 \n",
       "  1859.66,1104.38 1863.02,1104.38 1866.37,1104.38 1869.73,1104.38 1873.08,1104.38 1876.44,1104.38 1879.79,1104.38 1883.15,1104.38 1886.5,1104.38 1889.86,1104.38 \n",
       "  1893.21,1104.38 1896.57,1104.38 1899.92,1104.38 1903.28,1104.38 1906.63,1104.38 1909.99,1104.38 1913.35,1104.38 1916.7,1104.38 1920.06,1104.38 1923.41,1104.38 \n",
       "  1926.77,1104.38 1930.12,1104.38 1933.48,1104.38 1936.83,1104.38 1940.19,1104.38 1943.54,1104.38 1946.9,1104.38 1950.25,1104.38 1953.61,1104.38 1956.96,1104.38 \n",
       "  1960.32,1104.38 1963.67,1104.38 1967.03,1104.38 1970.38,1104.38 1973.74,1104.38 1977.09,1104.38 1980.45,1104.38 1983.8,1104.38 1987.16,1104.38 1990.51,1104.38 \n",
       "  1993.87,1104.38 1997.22,1104.38 2000.58,1104.38 2003.93,1104.38 2007.29,1104.38 2010.64,1104.38 2014,1104.38 2017.35,1104.38 2020.71,1104.38 2024.06,1104.38 \n",
       "  2027.42,1104.38 2030.77,1104.38 2034.13,1104.38 2037.48,1104.38 2040.84,1104.38 2044.19,1104.38 2047.55,1104.38 2050.9,1104.38 2054.26,1104.38 2057.61,1104.38 \n",
       "  2060.97,1104.38 2064.32,1104.38 2067.68,1104.38 2071.03,1104.38 2074.39,1104.38 2077.74,1104.38 2081.1,1104.38 2084.45,1104.38 2087.81,1104.38 2091.16,1104.38 \n",
       "  2094.52,1104.38 2097.87,1104.38 2101.23,1104.38 2104.58,1104.38 2107.94,1104.38 2111.29,1104.38 2114.65,1104.38 2118,1104.38 2121.36,1104.38 2124.71,1104.38 \n",
       "  2128.07,1104.38 2131.42,1104.38 2134.78,1104.38 2138.13,1104.38 2141.49,1104.38 2144.84,1104.38 2148.2,1104.38 2151.55,1104.38 2154.91,1104.38 2158.26,1104.38 \n",
       "  2161.62,1104.38 2164.97,1104.38 2168.33,1104.38 2171.68,1104.38 2175.04,1104.38 2178.39,1104.38 2181.75,1104.38 2185.1,1104.38 2188.46,1104.38 2191.81,1104.38 \n",
       "  2195.17,1104.38 2198.52,1104.38 2201.88,1104.38 2205.23,1104.38 2208.59,1104.38 2211.94,1104.38 2215.3,1104.38 2218.65,1104.38 2222.01,1104.38 2225.36,1104.38 \n",
       "  2228.72,1104.38 2232.07,1104.38 2235.43,1104.38 2238.78,1104.38 2242.14,1104.38 2245.49,1104.38 2248.85,1104.38 2252.21,1104.38 2255.56,1104.38 2258.92,1104.38 \n",
       "  2262.27,1104.38 2265.63,1104.38 2268.98,1104.38 2272.34,1104.38 2275.69,1104.38 2279.05,1104.38 2282.4,1104.38 2285.76,1104.38 2289.11,1104.38 2292.47,1104.38 \n",
       "  \n",
       "  \"/>\n",
       "<path clip-path=\"url(#clip370)\" d=\"\n",
       "M1992.62 276.658 L2281.75 276.658 L2281.75 95.2176 L1992.62 95.2176  Z\n",
       "  \" fill=\"#ffffff\" fill-rule=\"evenodd\" fill-opacity=\"1\"/>\n",
       "<polyline clip-path=\"url(#clip370)\" style=\"stroke:#000000; stroke-width:4; stroke-opacity:1; fill:none\" points=\"\n",
       "  1992.62,276.658 2281.75,276.658 2281.75,95.2176 1992.62,95.2176 1992.62,276.658 \n",
       "  \"/>\n",
       "<polyline clip-path=\"url(#clip370)\" style=\"stroke:#009af9; stroke-width:4; stroke-opacity:1; fill:none\" points=\"\n",
       "  2016.29,155.698 2158.31,155.698 \n",
       "  \"/>\n",
       "<path clip-path=\"url(#clip370)\" d=\"M 0 0 M2195.82 175.385 Q2194.02 180.015 2192.3 181.427 Q2190.59 182.839 2187.72 182.839 L2184.32 182.839 L2184.32 179.274 L2186.82 179.274 Q2188.58 179.274 2189.55 178.44 Q2190.52 177.607 2191.7 174.505 L2192.46 172.561 L2181.98 147.052 L2186.49 147.052 L2194.59 167.329 L2202.7 147.052 L2207.21 147.052 L2195.82 175.385 Z\" fill=\"#000000\" fill-rule=\"evenodd\" fill-opacity=\"1\" /><path clip-path=\"url(#clip370)\" d=\"M 0 0 M2214.5 169.042 L2222.14 169.042 L2222.14 142.677 L2213.83 144.343 L2213.83 140.084 L2222.09 138.418 L2226.77 138.418 L2226.77 169.042 L2234.41 169.042 L2234.41 172.978 L2214.5 172.978 L2214.5 169.042 Z\" fill=\"#000000\" fill-rule=\"evenodd\" fill-opacity=\"1\" /><polyline clip-path=\"url(#clip370)\" style=\"stroke:#e26f46; stroke-width:4; stroke-opacity:1; fill:none\" points=\"\n",
       "  2016.29,216.178 2158.31,216.178 \n",
       "  \"/>\n",
       "<path clip-path=\"url(#clip370)\" d=\"M 0 0 M2195.82 235.865 Q2194.02 240.495 2192.3 241.907 Q2190.59 243.319 2187.72 243.319 L2184.32 243.319 L2184.32 239.754 L2186.82 239.754 Q2188.58 239.754 2189.55 238.92 Q2190.52 238.087 2191.7 234.985 L2192.46 233.041 L2181.98 207.532 L2186.49 207.532 L2194.59 227.809 L2202.7 207.532 L2207.21 207.532 L2195.82 235.865 Z\" fill=\"#000000\" fill-rule=\"evenodd\" fill-opacity=\"1\" /><path clip-path=\"url(#clip370)\" d=\"M 0 0 M2217.72 229.522 L2234.04 229.522 L2234.04 233.458 L2212.09 233.458 L2212.09 229.522 Q2214.76 226.768 2219.34 222.138 Q2223.95 217.485 2225.13 216.143 Q2227.37 213.62 2228.25 211.884 Q2229.15 210.124 2229.15 208.435 Q2229.15 205.68 2227.21 203.944 Q2225.29 202.208 2222.19 202.208 Q2219.99 202.208 2217.53 202.972 Q2215.1 203.735 2212.33 205.286 L2212.33 200.564 Q2215.15 199.43 2217.6 198.851 Q2220.06 198.273 2222.09 198.273 Q2227.46 198.273 2230.66 200.958 Q2233.85 203.643 2233.85 208.134 Q2233.85 210.263 2233.04 212.185 Q2232.26 214.083 2230.15 216.675 Q2229.57 217.347 2226.47 220.564 Q2223.37 223.759 2217.72 229.522 Z\" fill=\"#000000\" fill-rule=\"evenodd\" fill-opacity=\"1\" /></svg>\n"
      ]
     },
     "execution_count": 11,
     "metadata": {},
     "output_type": "execute_result"
    }
   ],
   "source": [
    "plot(flu_0[:,1] .+ 1) #plot(flu_0[:,1] .- 6)\n",
    "plot!(con_0[:,1] .-6)"
   ]
  },
  {
   "cell_type": "code",
   "execution_count": 12,
   "metadata": {
    "jupyter": {
     "source_hidden": true
    },
    "tags": []
   },
   "outputs": [
    {
     "data": {
      "image/svg+xml": [
       "<?xml version=\"1.0\" encoding=\"utf-8\"?>\n",
       "<svg xmlns=\"http://www.w3.org/2000/svg\" xmlns:xlink=\"http://www.w3.org/1999/xlink\" width=\"600\" height=\"400\" viewBox=\"0 0 2400 1600\">\n",
       "<defs>\n",
       "  <clipPath id=\"clip410\">\n",
       "    <rect x=\"0\" y=\"0\" width=\"2400\" height=\"1600\"/>\n",
       "  </clipPath>\n",
       "</defs>\n",
       "<path clip-path=\"url(#clip410)\" d=\"\n",
       "M0 1600 L2400 1600 L2400 0 L0 0  Z\n",
       "  \" fill=\"#ffffff\" fill-rule=\"evenodd\" fill-opacity=\"1\"/>\n",
       "<defs>\n",
       "  <clipPath id=\"clip411\">\n",
       "    <rect x=\"480\" y=\"0\" width=\"1681\" height=\"1600\"/>\n",
       "  </clipPath>\n",
       "</defs>\n",
       "<path clip-path=\"url(#clip410)\" d=\"\n",
       "M186.76 1486.45 L2352.76 1486.45 L2352.76 47.2441 L186.76 47.2441  Z\n",
       "  \" fill=\"#ffffff\" fill-rule=\"evenodd\" fill-opacity=\"1\"/>\n",
       "<defs>\n",
       "  <clipPath id=\"clip412\">\n",
       "    <rect x=\"186\" y=\"47\" width=\"2167\" height=\"1440\"/>\n",
       "  </clipPath>\n",
       "</defs>\n",
       "<polyline clip-path=\"url(#clip412)\" style=\"stroke:#000000; stroke-width:2; stroke-opacity:0.1; fill:none\" points=\"\n",
       "  248.062,1486.45 248.062,47.2441 \n",
       "  \"/>\n",
       "<polyline clip-path=\"url(#clip412)\" style=\"stroke:#000000; stroke-width:2; stroke-opacity:0.1; fill:none\" points=\"\n",
       "  759.763,1486.45 759.763,47.2441 \n",
       "  \"/>\n",
       "<polyline clip-path=\"url(#clip412)\" style=\"stroke:#000000; stroke-width:2; stroke-opacity:0.1; fill:none\" points=\"\n",
       "  1271.46,1486.45 1271.46,47.2441 \n",
       "  \"/>\n",
       "<polyline clip-path=\"url(#clip412)\" style=\"stroke:#000000; stroke-width:2; stroke-opacity:0.1; fill:none\" points=\"\n",
       "  1783.16,1486.45 1783.16,47.2441 \n",
       "  \"/>\n",
       "<polyline clip-path=\"url(#clip412)\" style=\"stroke:#000000; stroke-width:2; stroke-opacity:0.1; fill:none\" points=\"\n",
       "  2294.87,1486.45 2294.87,47.2441 \n",
       "  \"/>\n",
       "<polyline clip-path=\"url(#clip410)\" style=\"stroke:#000000; stroke-width:4; stroke-opacity:1; fill:none\" points=\"\n",
       "  186.76,1486.45 2352.76,1486.45 \n",
       "  \"/>\n",
       "<polyline clip-path=\"url(#clip410)\" style=\"stroke:#000000; stroke-width:4; stroke-opacity:1; fill:none\" points=\"\n",
       "  248.062,1486.45 248.062,1469.18 \n",
       "  \"/>\n",
       "<polyline clip-path=\"url(#clip410)\" style=\"stroke:#000000; stroke-width:4; stroke-opacity:1; fill:none\" points=\"\n",
       "  759.763,1486.45 759.763,1469.18 \n",
       "  \"/>\n",
       "<polyline clip-path=\"url(#clip410)\" style=\"stroke:#000000; stroke-width:4; stroke-opacity:1; fill:none\" points=\"\n",
       "  1271.46,1486.45 1271.46,1469.18 \n",
       "  \"/>\n",
       "<polyline clip-path=\"url(#clip410)\" style=\"stroke:#000000; stroke-width:4; stroke-opacity:1; fill:none\" points=\"\n",
       "  1783.16,1486.45 1783.16,1469.18 \n",
       "  \"/>\n",
       "<polyline clip-path=\"url(#clip410)\" style=\"stroke:#000000; stroke-width:4; stroke-opacity:1; fill:none\" points=\"\n",
       "  2294.87,1486.45 2294.87,1469.18 \n",
       "  \"/>\n",
       "<path clip-path=\"url(#clip410)\" d=\"M 0 0 M210.365 1515.64 Q206.754 1515.64 204.926 1519.2 Q203.12 1522.75 203.12 1529.87 Q203.12 1536.98 204.926 1540.55 Q206.754 1544.09 210.365 1544.09 Q214 1544.09 215.805 1540.55 Q217.634 1536.98 217.634 1529.87 Q217.634 1522.75 215.805 1519.2 Q214 1515.64 210.365 1515.64 M210.365 1511.93 Q216.175 1511.93 219.231 1516.54 Q222.31 1521.12 222.31 1529.87 Q222.31 1538.6 219.231 1543.21 Q216.175 1547.79 210.365 1547.79 Q204.555 1547.79 201.476 1543.21 Q198.421 1538.6 198.421 1529.87 Q198.421 1521.12 201.476 1516.54 Q204.555 1511.93 210.365 1511.93 Z\" fill=\"#000000\" fill-rule=\"evenodd\" fill-opacity=\"1\" /><path clip-path=\"url(#clip410)\" d=\"M 0 0 M230.527 1541.24 L235.411 1541.24 L235.411 1547.12 L230.527 1547.12 L230.527 1541.24 Z\" fill=\"#000000\" fill-rule=\"evenodd\" fill-opacity=\"1\" /><path clip-path=\"url(#clip410)\" d=\"M 0 0 M255.597 1515.64 Q251.985 1515.64 250.157 1519.2 Q248.351 1522.75 248.351 1529.87 Q248.351 1536.98 250.157 1540.55 Q251.985 1544.09 255.597 1544.09 Q259.231 1544.09 261.036 1540.55 Q262.865 1536.98 262.865 1529.87 Q262.865 1522.75 261.036 1519.2 Q259.231 1515.64 255.597 1515.64 M255.597 1511.93 Q261.407 1511.93 264.462 1516.54 Q267.541 1521.12 267.541 1529.87 Q267.541 1538.6 264.462 1543.21 Q261.407 1547.79 255.597 1547.79 Q249.786 1547.79 246.708 1543.21 Q243.652 1538.6 243.652 1529.87 Q243.652 1521.12 246.708 1516.54 Q249.786 1511.93 255.597 1511.93 Z\" fill=\"#000000\" fill-rule=\"evenodd\" fill-opacity=\"1\" /><path clip-path=\"url(#clip410)\" d=\"M 0 0 M285.758 1515.64 Q282.147 1515.64 280.319 1519.2 Q278.513 1522.75 278.513 1529.87 Q278.513 1536.98 280.319 1540.55 Q282.147 1544.09 285.758 1544.09 Q289.393 1544.09 291.198 1540.55 Q293.027 1536.98 293.027 1529.87 Q293.027 1522.75 291.198 1519.2 Q289.393 1515.64 285.758 1515.64 M285.758 1511.93 Q291.569 1511.93 294.624 1516.54 Q297.703 1521.12 297.703 1529.87 Q297.703 1538.6 294.624 1543.21 Q291.569 1547.79 285.758 1547.79 Q279.948 1547.79 276.87 1543.21 Q273.814 1538.6 273.814 1529.87 Q273.814 1521.12 276.87 1516.54 Q279.948 1511.93 285.758 1511.93 Z\" fill=\"#000000\" fill-rule=\"evenodd\" fill-opacity=\"1\" /><path clip-path=\"url(#clip410)\" d=\"M 0 0 M722.564 1515.64 Q718.953 1515.64 717.124 1519.2 Q715.319 1522.75 715.319 1529.87 Q715.319 1536.98 717.124 1540.55 Q718.953 1544.09 722.564 1544.09 Q726.198 1544.09 728.004 1540.55 Q729.832 1536.98 729.832 1529.87 Q729.832 1522.75 728.004 1519.2 Q726.198 1515.64 722.564 1515.64 M722.564 1511.93 Q728.374 1511.93 731.43 1516.54 Q734.508 1521.12 734.508 1529.87 Q734.508 1538.6 731.43 1543.21 Q728.374 1547.79 722.564 1547.79 Q716.754 1547.79 713.675 1543.21 Q710.62 1538.6 710.62 1529.87 Q710.62 1521.12 713.675 1516.54 Q716.754 1511.93 722.564 1511.93 Z\" fill=\"#000000\" fill-rule=\"evenodd\" fill-opacity=\"1\" /><path clip-path=\"url(#clip410)\" d=\"M 0 0 M742.726 1541.24 L747.61 1541.24 L747.61 1547.12 L742.726 1547.12 L742.726 1541.24 Z\" fill=\"#000000\" fill-rule=\"evenodd\" fill-opacity=\"1\" /><path clip-path=\"url(#clip410)\" d=\"M 0 0 M761.823 1543.18 L778.142 1543.18 L778.142 1547.12 L756.198 1547.12 L756.198 1543.18 Q758.86 1540.43 763.443 1535.8 Q768.05 1531.15 769.23 1529.81 Q771.476 1527.28 772.355 1525.55 Q773.258 1523.79 773.258 1522.1 Q773.258 1519.34 771.314 1517.61 Q769.392 1515.87 766.291 1515.87 Q764.091 1515.87 761.638 1516.63 Q759.207 1517.4 756.429 1518.95 L756.429 1514.23 Q759.254 1513.09 761.707 1512.51 Q764.161 1511.93 766.198 1511.93 Q771.568 1511.93 774.763 1514.62 Q777.957 1517.31 777.957 1521.8 Q777.957 1523.93 777.147 1525.85 Q776.36 1527.74 774.253 1530.34 Q773.675 1531.01 770.573 1534.23 Q767.471 1537.42 761.823 1543.18 Z\" fill=\"#000000\" fill-rule=\"evenodd\" fill-opacity=\"1\" /><path clip-path=\"url(#clip410)\" d=\"M 0 0 M788.003 1512.56 L806.36 1512.56 L806.36 1516.5 L792.286 1516.5 L792.286 1524.97 Q793.304 1524.62 794.323 1524.46 Q795.341 1524.27 796.36 1524.27 Q802.147 1524.27 805.526 1527.44 Q808.906 1530.62 808.906 1536.03 Q808.906 1541.61 805.434 1544.71 Q801.962 1547.79 795.642 1547.79 Q793.466 1547.79 791.198 1547.42 Q788.952 1547.05 786.545 1546.31 L786.545 1541.61 Q788.628 1542.74 790.851 1543.3 Q793.073 1543.86 795.55 1543.86 Q799.554 1543.86 801.892 1541.75 Q804.23 1539.64 804.23 1536.03 Q804.23 1532.42 801.892 1530.31 Q799.554 1528.21 795.55 1528.21 Q793.675 1528.21 791.8 1528.62 Q789.948 1529.04 788.003 1529.92 L788.003 1512.56 Z\" fill=\"#000000\" fill-rule=\"evenodd\" fill-opacity=\"1\" /><path clip-path=\"url(#clip410)\" d=\"M 0 0 M1233.77 1515.64 Q1230.16 1515.64 1228.33 1519.2 Q1226.52 1522.75 1226.52 1529.87 Q1226.52 1536.98 1228.33 1540.55 Q1230.16 1544.09 1233.77 1544.09 Q1237.4 1544.09 1239.21 1540.55 Q1241.04 1536.98 1241.04 1529.87 Q1241.04 1522.75 1239.21 1519.2 Q1237.4 1515.64 1233.77 1515.64 M1233.77 1511.93 Q1239.58 1511.93 1242.63 1516.54 Q1245.71 1521.12 1245.71 1529.87 Q1245.71 1538.6 1242.63 1543.21 Q1239.58 1547.79 1233.77 1547.79 Q1227.96 1547.79 1224.88 1543.21 Q1221.82 1538.6 1221.82 1529.87 Q1221.82 1521.12 1224.88 1516.54 Q1227.96 1511.93 1233.77 1511.93 Z\" fill=\"#000000\" fill-rule=\"evenodd\" fill-opacity=\"1\" /><path clip-path=\"url(#clip410)\" d=\"M 0 0 M1253.93 1541.24 L1258.81 1541.24 L1258.81 1547.12 L1253.93 1547.12 L1253.93 1541.24 Z\" fill=\"#000000\" fill-rule=\"evenodd\" fill-opacity=\"1\" /><path clip-path=\"url(#clip410)\" d=\"M 0 0 M1269.04 1512.56 L1287.4 1512.56 L1287.4 1516.5 L1273.33 1516.5 L1273.33 1524.97 Q1274.35 1524.62 1275.36 1524.46 Q1276.38 1524.27 1277.4 1524.27 Q1283.19 1524.27 1286.57 1527.44 Q1289.95 1530.62 1289.95 1536.03 Q1289.95 1541.61 1286.48 1544.71 Q1283 1547.79 1276.68 1547.79 Q1274.51 1547.79 1272.24 1547.42 Q1269.99 1547.05 1267.59 1546.31 L1267.59 1541.61 Q1269.67 1542.74 1271.89 1543.3 Q1274.11 1543.86 1276.59 1543.86 Q1280.6 1543.86 1282.93 1541.75 Q1285.27 1539.64 1285.27 1536.03 Q1285.27 1532.42 1282.93 1530.31 Q1280.6 1528.21 1276.59 1528.21 Q1274.72 1528.21 1272.84 1528.62 Q1270.99 1529.04 1269.04 1529.92 L1269.04 1512.56 Z\" fill=\"#000000\" fill-rule=\"evenodd\" fill-opacity=\"1\" /><path clip-path=\"url(#clip410)\" d=\"M 0 0 M1309.16 1515.64 Q1305.55 1515.64 1303.72 1519.2 Q1301.91 1522.75 1301.91 1529.87 Q1301.91 1536.98 1303.72 1540.55 Q1305.55 1544.09 1309.16 1544.09 Q1312.79 1544.09 1314.6 1540.55 Q1316.43 1536.98 1316.43 1529.87 Q1316.43 1522.75 1314.6 1519.2 Q1312.79 1515.64 1309.16 1515.64 M1309.16 1511.93 Q1314.97 1511.93 1318.03 1516.54 Q1321.1 1521.12 1321.1 1529.87 Q1321.1 1538.6 1318.03 1543.21 Q1314.97 1547.79 1309.16 1547.79 Q1303.35 1547.79 1300.27 1543.21 Q1297.22 1538.6 1297.22 1529.87 Q1297.22 1521.12 1300.27 1516.54 Q1303.35 1511.93 1309.16 1511.93 Z\" fill=\"#000000\" fill-rule=\"evenodd\" fill-opacity=\"1\" /><path clip-path=\"url(#clip410)\" d=\"M 0 0 M1745.97 1515.64 Q1742.35 1515.64 1740.53 1519.2 Q1738.72 1522.75 1738.72 1529.87 Q1738.72 1536.98 1740.53 1540.55 Q1742.35 1544.09 1745.97 1544.09 Q1749.6 1544.09 1751.41 1540.55 Q1753.23 1536.98 1753.23 1529.87 Q1753.23 1522.75 1751.41 1519.2 Q1749.6 1515.64 1745.97 1515.64 M1745.97 1511.93 Q1751.78 1511.93 1754.83 1516.54 Q1757.91 1521.12 1757.91 1529.87 Q1757.91 1538.6 1754.83 1543.21 Q1751.78 1547.79 1745.97 1547.79 Q1740.16 1547.79 1737.08 1543.21 Q1734.02 1538.6 1734.02 1529.87 Q1734.02 1521.12 1737.08 1516.54 Q1740.16 1511.93 1745.97 1511.93 Z\" fill=\"#000000\" fill-rule=\"evenodd\" fill-opacity=\"1\" /><path clip-path=\"url(#clip410)\" d=\"M 0 0 M1766.13 1541.24 L1771.01 1541.24 L1771.01 1547.12 L1766.13 1547.12 L1766.13 1541.24 Z\" fill=\"#000000\" fill-rule=\"evenodd\" fill-opacity=\"1\" /><path clip-path=\"url(#clip410)\" d=\"M 0 0 M1780.02 1512.56 L1802.24 1512.56 L1802.24 1514.55 L1789.69 1547.12 L1784.81 1547.12 L1796.61 1516.5 L1780.02 1516.5 L1780.02 1512.56 Z\" fill=\"#000000\" fill-rule=\"evenodd\" fill-opacity=\"1\" /><path clip-path=\"url(#clip410)\" d=\"M 0 0 M1811.41 1512.56 L1829.76 1512.56 L1829.76 1516.5 L1815.69 1516.5 L1815.69 1524.97 Q1816.71 1524.62 1817.72 1524.46 Q1818.74 1524.27 1819.76 1524.27 Q1825.55 1524.27 1828.93 1527.44 Q1832.31 1530.62 1832.31 1536.03 Q1832.31 1541.61 1828.84 1544.71 Q1825.36 1547.79 1819.04 1547.79 Q1816.87 1547.79 1814.6 1547.42 Q1812.35 1547.05 1809.95 1546.31 L1809.95 1541.61 Q1812.03 1542.74 1814.25 1543.3 Q1816.47 1543.86 1818.95 1543.86 Q1822.96 1543.86 1825.29 1541.75 Q1827.63 1539.64 1827.63 1536.03 Q1827.63 1532.42 1825.29 1530.31 Q1822.96 1528.21 1818.95 1528.21 Q1817.08 1528.21 1815.2 1528.62 Q1813.35 1529.04 1811.41 1529.92 L1811.41 1512.56 Z\" fill=\"#000000\" fill-rule=\"evenodd\" fill-opacity=\"1\" /><path clip-path=\"url(#clip410)\" d=\"M 0 0 M2246.94 1543.18 L2254.58 1543.18 L2254.58 1516.82 L2246.27 1518.49 L2246.27 1514.23 L2254.53 1512.56 L2259.21 1512.56 L2259.21 1543.18 L2266.84 1543.18 L2266.84 1547.12 L2246.94 1547.12 L2246.94 1543.18 Z\" fill=\"#000000\" fill-rule=\"evenodd\" fill-opacity=\"1\" /><path clip-path=\"url(#clip410)\" d=\"M 0 0 M2276.29 1541.24 L2281.17 1541.24 L2281.17 1547.12 L2276.29 1547.12 L2276.29 1541.24 Z\" fill=\"#000000\" fill-rule=\"evenodd\" fill-opacity=\"1\" /><path clip-path=\"url(#clip410)\" d=\"M 0 0 M2301.36 1515.64 Q2297.75 1515.64 2295.92 1519.2 Q2294.11 1522.75 2294.11 1529.87 Q2294.11 1536.98 2295.92 1540.55 Q2297.75 1544.09 2301.36 1544.09 Q2304.99 1544.09 2306.8 1540.55 Q2308.63 1536.98 2308.63 1529.87 Q2308.63 1522.75 2306.8 1519.2 Q2304.99 1515.64 2301.36 1515.64 M2301.36 1511.93 Q2307.17 1511.93 2310.22 1516.54 Q2313.3 1521.12 2313.3 1529.87 Q2313.3 1538.6 2310.22 1543.21 Q2307.17 1547.79 2301.36 1547.79 Q2295.55 1547.79 2292.47 1543.21 Q2289.41 1538.6 2289.41 1529.87 Q2289.41 1521.12 2292.47 1516.54 Q2295.55 1511.93 2301.36 1511.93 Z\" fill=\"#000000\" fill-rule=\"evenodd\" fill-opacity=\"1\" /><path clip-path=\"url(#clip410)\" d=\"M 0 0 M2331.52 1515.64 Q2327.91 1515.64 2326.08 1519.2 Q2324.28 1522.75 2324.28 1529.87 Q2324.28 1536.98 2326.08 1540.55 Q2327.91 1544.09 2331.52 1544.09 Q2335.15 1544.09 2336.96 1540.55 Q2338.79 1536.98 2338.79 1529.87 Q2338.79 1522.75 2336.96 1519.2 Q2335.15 1515.64 2331.52 1515.64 M2331.52 1511.93 Q2337.33 1511.93 2340.39 1516.54 Q2343.46 1521.12 2343.46 1529.87 Q2343.46 1538.6 2340.39 1543.21 Q2337.33 1547.79 2331.52 1547.79 Q2325.71 1547.79 2322.63 1543.21 Q2319.58 1538.6 2319.58 1529.87 Q2319.58 1521.12 2322.63 1516.54 Q2325.71 1511.93 2331.52 1511.93 Z\" fill=\"#000000\" fill-rule=\"evenodd\" fill-opacity=\"1\" /><polyline clip-path=\"url(#clip412)\" style=\"stroke:#000000; stroke-width:2; stroke-opacity:0.1; fill:none\" points=\"\n",
       "  186.76,1445.72 2352.76,1445.72 \n",
       "  \"/>\n",
       "<polyline clip-path=\"url(#clip412)\" style=\"stroke:#000000; stroke-width:2; stroke-opacity:0.1; fill:none\" points=\"\n",
       "  186.76,1204.9 2352.76,1204.9 \n",
       "  \"/>\n",
       "<polyline clip-path=\"url(#clip412)\" style=\"stroke:#000000; stroke-width:2; stroke-opacity:0.1; fill:none\" points=\"\n",
       "  186.76,964.093 2352.76,964.093 \n",
       "  \"/>\n",
       "<polyline clip-path=\"url(#clip412)\" style=\"stroke:#000000; stroke-width:2; stroke-opacity:0.1; fill:none\" points=\"\n",
       "  186.76,723.282 2352.76,723.282 \n",
       "  \"/>\n",
       "<polyline clip-path=\"url(#clip412)\" style=\"stroke:#000000; stroke-width:2; stroke-opacity:0.1; fill:none\" points=\"\n",
       "  186.76,482.47 2352.76,482.47 \n",
       "  \"/>\n",
       "<polyline clip-path=\"url(#clip412)\" style=\"stroke:#000000; stroke-width:2; stroke-opacity:0.1; fill:none\" points=\"\n",
       "  186.76,241.659 2352.76,241.659 \n",
       "  \"/>\n",
       "<polyline clip-path=\"url(#clip410)\" style=\"stroke:#000000; stroke-width:4; stroke-opacity:1; fill:none\" points=\"\n",
       "  186.76,1486.45 186.76,47.2441 \n",
       "  \"/>\n",
       "<polyline clip-path=\"url(#clip410)\" style=\"stroke:#000000; stroke-width:4; stroke-opacity:1; fill:none\" points=\"\n",
       "  186.76,1445.72 212.752,1445.72 \n",
       "  \"/>\n",
       "<polyline clip-path=\"url(#clip410)\" style=\"stroke:#000000; stroke-width:4; stroke-opacity:1; fill:none\" points=\"\n",
       "  186.76,1204.9 212.752,1204.9 \n",
       "  \"/>\n",
       "<polyline clip-path=\"url(#clip410)\" style=\"stroke:#000000; stroke-width:4; stroke-opacity:1; fill:none\" points=\"\n",
       "  186.76,964.093 212.752,964.093 \n",
       "  \"/>\n",
       "<polyline clip-path=\"url(#clip410)\" style=\"stroke:#000000; stroke-width:4; stroke-opacity:1; fill:none\" points=\"\n",
       "  186.76,723.282 212.752,723.282 \n",
       "  \"/>\n",
       "<polyline clip-path=\"url(#clip410)\" style=\"stroke:#000000; stroke-width:4; stroke-opacity:1; fill:none\" points=\"\n",
       "  186.76,482.47 212.752,482.47 \n",
       "  \"/>\n",
       "<polyline clip-path=\"url(#clip410)\" style=\"stroke:#000000; stroke-width:4; stroke-opacity:1; fill:none\" points=\"\n",
       "  186.76,241.659 212.752,241.659 \n",
       "  \"/>\n",
       "<path clip-path=\"url(#clip410)\" d=\"M 0 0 M63.4226 1431.51 Q59.8115 1431.51 57.9828 1435.08 Q56.1773 1438.62 56.1773 1445.75 Q56.1773 1452.86 57.9828 1456.42 Q59.8115 1459.96 63.4226 1459.96 Q67.0569 1459.96 68.8624 1456.42 Q70.6911 1452.86 70.6911 1445.75 Q70.6911 1438.62 68.8624 1435.08 Q67.0569 1431.51 63.4226 1431.51 M63.4226 1427.81 Q69.2328 1427.81 72.2883 1432.42 Q75.367 1437 75.367 1445.75 Q75.367 1454.48 72.2883 1459.08 Q69.2328 1463.67 63.4226 1463.67 Q57.6125 1463.67 54.5338 1459.08 Q51.4782 1454.48 51.4782 1445.75 Q51.4782 1437 54.5338 1432.42 Q57.6125 1427.81 63.4226 1427.81 Z\" fill=\"#000000\" fill-rule=\"evenodd\" fill-opacity=\"1\" /><path clip-path=\"url(#clip410)\" d=\"M 0 0 M83.5845 1457.12 L88.4688 1457.12 L88.4688 1463 L83.5845 1463 L83.5845 1457.12 Z\" fill=\"#000000\" fill-rule=\"evenodd\" fill-opacity=\"1\" /><path clip-path=\"url(#clip410)\" d=\"M 0 0 M108.654 1431.51 Q105.043 1431.51 103.214 1435.08 Q101.409 1438.62 101.409 1445.75 Q101.409 1452.86 103.214 1456.42 Q105.043 1459.96 108.654 1459.96 Q112.288 1459.96 114.094 1456.42 Q115.922 1452.86 115.922 1445.75 Q115.922 1438.62 114.094 1435.08 Q112.288 1431.51 108.654 1431.51 M108.654 1427.81 Q114.464 1427.81 117.52 1432.42 Q120.598 1437 120.598 1445.75 Q120.598 1454.48 117.52 1459.08 Q114.464 1463.67 108.654 1463.67 Q102.844 1463.67 99.765 1459.08 Q96.7095 1454.48 96.7095 1445.75 Q96.7095 1437 99.765 1432.42 Q102.844 1427.81 108.654 1427.81 Z\" fill=\"#000000\" fill-rule=\"evenodd\" fill-opacity=\"1\" /><path clip-path=\"url(#clip410)\" d=\"M 0 0 M138.816 1431.51 Q135.205 1431.51 133.376 1435.08 Q131.57 1438.62 131.57 1445.75 Q131.57 1452.86 133.376 1456.42 Q135.205 1459.96 138.816 1459.96 Q142.45 1459.96 144.256 1456.42 Q146.084 1452.86 146.084 1445.75 Q146.084 1438.62 144.256 1435.08 Q142.45 1431.51 138.816 1431.51 M138.816 1427.81 Q144.626 1427.81 147.681 1432.42 Q150.76 1437 150.76 1445.75 Q150.76 1454.48 147.681 1459.08 Q144.626 1463.67 138.816 1463.67 Q133.006 1463.67 129.927 1459.08 Q126.871 1454.48 126.871 1445.75 Q126.871 1437 129.927 1432.42 Q133.006 1427.81 138.816 1427.81 Z\" fill=\"#000000\" fill-rule=\"evenodd\" fill-opacity=\"1\" /><path clip-path=\"url(#clip410)\" d=\"M 0 0 M64.6495 1190.7 Q61.0384 1190.7 59.2097 1194.27 Q57.4041 1197.81 57.4041 1204.94 Q57.4041 1212.05 59.2097 1215.61 Q61.0384 1219.15 64.6495 1219.15 Q68.2837 1219.15 70.0892 1215.61 Q71.9179 1212.05 71.9179 1204.94 Q71.9179 1197.81 70.0892 1194.27 Q68.2837 1190.7 64.6495 1190.7 M64.6495 1187 Q70.4596 1187 73.5152 1191.61 Q76.5938 1196.19 76.5938 1204.94 Q76.5938 1213.67 73.5152 1218.27 Q70.4596 1222.86 64.6495 1222.86 Q58.8393 1222.86 55.7606 1218.27 Q52.7051 1213.67 52.7051 1204.94 Q52.7051 1196.19 55.7606 1191.61 Q58.8393 1187 64.6495 1187 Z\" fill=\"#000000\" fill-rule=\"evenodd\" fill-opacity=\"1\" /><path clip-path=\"url(#clip410)\" d=\"M 0 0 M84.8114 1216.3 L89.6956 1216.3 L89.6956 1222.18 L84.8114 1222.18 L84.8114 1216.3 Z\" fill=\"#000000\" fill-rule=\"evenodd\" fill-opacity=\"1\" /><path clip-path=\"url(#clip410)\" d=\"M 0 0 M109.881 1190.7 Q106.27 1190.7 104.441 1194.27 Q102.635 1197.81 102.635 1204.94 Q102.635 1212.05 104.441 1215.61 Q106.27 1219.15 109.881 1219.15 Q113.515 1219.15 115.32 1215.61 Q117.149 1212.05 117.149 1204.94 Q117.149 1197.81 115.32 1194.27 Q113.515 1190.7 109.881 1190.7 M109.881 1187 Q115.691 1187 118.746 1191.61 Q121.825 1196.19 121.825 1204.94 Q121.825 1213.67 118.746 1218.27 Q115.691 1222.86 109.881 1222.86 Q104.071 1222.86 100.992 1218.27 Q97.9363 1213.67 97.9363 1204.94 Q97.9363 1196.19 100.992 1191.61 Q104.071 1187 109.881 1187 Z\" fill=\"#000000\" fill-rule=\"evenodd\" fill-opacity=\"1\" /><path clip-path=\"url(#clip410)\" d=\"M 0 0 M130.853 1218.25 L138.492 1218.25 L138.492 1191.88 L130.182 1193.55 L130.182 1189.29 L138.445 1187.62 L143.121 1187.62 L143.121 1218.25 L150.76 1218.25 L150.76 1222.18 L130.853 1222.18 L130.853 1218.25 Z\" fill=\"#000000\" fill-rule=\"evenodd\" fill-opacity=\"1\" /><path clip-path=\"url(#clip410)\" d=\"M 0 0 M65.0198 949.892 Q61.4087 949.892 59.58 953.456 Q57.7745 956.998 57.7745 964.128 Q57.7745 971.234 59.58 974.799 Q61.4087 978.341 65.0198 978.341 Q68.6541 978.341 70.4596 974.799 Q72.2883 971.234 72.2883 964.128 Q72.2883 956.998 70.4596 953.456 Q68.6541 949.892 65.0198 949.892 M65.0198 946.188 Q70.83 946.188 73.8855 950.794 Q76.9642 955.378 76.9642 964.128 Q76.9642 972.854 73.8855 977.461 Q70.83 982.044 65.0198 982.044 Q59.2097 982.044 56.131 977.461 Q53.0754 972.854 53.0754 964.128 Q53.0754 955.378 56.131 950.794 Q59.2097 946.188 65.0198 946.188 Z\" fill=\"#000000\" fill-rule=\"evenodd\" fill-opacity=\"1\" /><path clip-path=\"url(#clip410)\" d=\"M 0 0 M85.1818 975.493 L90.066 975.493 L90.066 981.373 L85.1818 981.373 L85.1818 975.493 Z\" fill=\"#000000\" fill-rule=\"evenodd\" fill-opacity=\"1\" /><path clip-path=\"url(#clip410)\" d=\"M 0 0 M110.251 949.892 Q106.64 949.892 104.811 953.456 Q103.006 956.998 103.006 964.128 Q103.006 971.234 104.811 974.799 Q106.64 978.341 110.251 978.341 Q113.885 978.341 115.691 974.799 Q117.52 971.234 117.52 964.128 Q117.52 956.998 115.691 953.456 Q113.885 949.892 110.251 949.892 M110.251 946.188 Q116.061 946.188 119.117 950.794 Q122.195 955.378 122.195 964.128 Q122.195 972.854 119.117 977.461 Q116.061 982.044 110.251 982.044 Q104.441 982.044 101.362 977.461 Q98.3067 972.854 98.3067 964.128 Q98.3067 955.378 101.362 950.794 Q104.441 946.188 110.251 946.188 Z\" fill=\"#000000\" fill-rule=\"evenodd\" fill-opacity=\"1\" /><path clip-path=\"url(#clip410)\" d=\"M 0 0 M134.441 977.438 L150.76 977.438 L150.76 981.373 L128.816 981.373 L128.816 977.438 Q131.478 974.683 136.061 970.054 Q140.668 965.401 141.848 964.058 Q144.093 961.535 144.973 959.799 Q145.876 958.04 145.876 956.35 Q145.876 953.595 143.931 951.859 Q142.01 950.123 138.908 950.123 Q136.709 950.123 134.256 950.887 Q131.825 951.651 129.047 953.202 L129.047 948.48 Q131.871 947.345 134.325 946.767 Q136.779 946.188 138.816 946.188 Q144.186 946.188 147.38 948.873 Q150.575 951.558 150.575 956.049 Q150.575 958.179 149.765 960.1 Q148.978 961.998 146.871 964.591 Q146.293 965.262 143.191 968.479 Q140.089 971.674 134.441 977.438 Z\" fill=\"#000000\" fill-rule=\"evenodd\" fill-opacity=\"1\" /><path clip-path=\"url(#clip410)\" d=\"M 0 0 M64.0708 709.08 Q60.4597 709.08 58.631 712.645 Q56.8254 716.187 56.8254 723.316 Q56.8254 730.423 58.631 733.988 Q60.4597 737.529 64.0708 737.529 Q67.705 737.529 69.5105 733.988 Q71.3392 730.423 71.3392 723.316 Q71.3392 716.187 69.5105 712.645 Q67.705 709.08 64.0708 709.08 M64.0708 705.377 Q69.8809 705.377 72.9365 709.983 Q76.0151 714.566 76.0151 723.316 Q76.0151 732.043 72.9365 736.65 Q69.8809 741.233 64.0708 741.233 Q58.2606 741.233 55.1819 736.65 Q52.1264 732.043 52.1264 723.316 Q52.1264 714.566 55.1819 709.983 Q58.2606 705.377 64.0708 705.377 Z\" fill=\"#000000\" fill-rule=\"evenodd\" fill-opacity=\"1\" /><path clip-path=\"url(#clip410)\" d=\"M 0 0 M84.2327 734.682 L89.1169 734.682 L89.1169 740.562 L84.2327 740.562 L84.2327 734.682 Z\" fill=\"#000000\" fill-rule=\"evenodd\" fill-opacity=\"1\" /><path clip-path=\"url(#clip410)\" d=\"M 0 0 M109.302 709.08 Q105.691 709.08 103.862 712.645 Q102.057 716.187 102.057 723.316 Q102.057 730.423 103.862 733.988 Q105.691 737.529 109.302 737.529 Q112.936 737.529 114.742 733.988 Q116.57 730.423 116.57 723.316 Q116.57 716.187 114.742 712.645 Q112.936 709.08 109.302 709.08 M109.302 705.377 Q115.112 705.377 118.168 709.983 Q121.246 714.566 121.246 723.316 Q121.246 732.043 118.168 736.65 Q115.112 741.233 109.302 741.233 Q103.492 741.233 100.413 736.65 Q97.3576 732.043 97.3576 723.316 Q97.3576 714.566 100.413 709.983 Q103.492 705.377 109.302 705.377 Z\" fill=\"#000000\" fill-rule=\"evenodd\" fill-opacity=\"1\" /><path clip-path=\"url(#clip410)\" d=\"M 0 0 M143.631 721.927 Q146.987 722.645 148.862 724.913 Q150.76 727.182 150.76 730.515 Q150.76 735.631 147.242 738.432 Q143.723 741.233 137.242 741.233 Q135.066 741.233 132.751 740.793 Q130.459 740.376 128.006 739.52 L128.006 735.006 Q129.95 736.14 132.265 736.719 Q134.58 737.298 137.103 737.298 Q141.501 737.298 143.793 735.562 Q146.107 733.825 146.107 730.515 Q146.107 727.46 143.955 725.747 Q141.825 724.011 138.006 724.011 L133.978 724.011 L133.978 720.168 L138.191 720.168 Q141.64 720.168 143.468 718.802 Q145.297 717.414 145.297 714.821 Q145.297 712.159 143.399 710.747 Q141.524 709.312 138.006 709.312 Q136.084 709.312 133.885 709.728 Q131.686 710.145 129.047 711.025 L129.047 706.858 Q131.709 706.117 134.024 705.747 Q136.362 705.377 138.422 705.377 Q143.746 705.377 146.848 707.807 Q149.95 710.214 149.95 714.335 Q149.95 717.205 148.306 719.196 Q146.663 721.164 143.631 721.927 Z\" fill=\"#000000\" fill-rule=\"evenodd\" fill-opacity=\"1\" /><path clip-path=\"url(#clip410)\" d=\"M 0 0 M62.9365 468.269 Q59.3254 468.269 57.4967 471.834 Q55.6912 475.375 55.6912 482.505 Q55.6912 489.611 57.4967 493.176 Q59.3254 496.718 62.9365 496.718 Q66.5707 496.718 68.3763 493.176 Q70.205 489.611 70.205 482.505 Q70.205 475.375 68.3763 471.834 Q66.5707 468.269 62.9365 468.269 M62.9365 464.565 Q68.7467 464.565 71.8022 469.172 Q74.8809 473.755 74.8809 482.505 Q74.8809 491.232 71.8022 495.838 Q68.7467 500.421 62.9365 500.421 Q57.1264 500.421 54.0477 495.838 Q50.9921 491.232 50.9921 482.505 Q50.9921 473.755 54.0477 469.172 Q57.1264 464.565 62.9365 464.565 Z\" fill=\"#000000\" fill-rule=\"evenodd\" fill-opacity=\"1\" /><path clip-path=\"url(#clip410)\" d=\"M 0 0 M83.0984 493.871 L87.9827 493.871 L87.9827 499.75 L83.0984 499.75 L83.0984 493.871 Z\" fill=\"#000000\" fill-rule=\"evenodd\" fill-opacity=\"1\" /><path clip-path=\"url(#clip410)\" d=\"M 0 0 M108.168 468.269 Q104.557 468.269 102.728 471.834 Q100.922 475.375 100.922 482.505 Q100.922 489.611 102.728 493.176 Q104.557 496.718 108.168 496.718 Q111.802 496.718 113.608 493.176 Q115.436 489.611 115.436 482.505 Q115.436 475.375 113.608 471.834 Q111.802 468.269 108.168 468.269 M108.168 464.565 Q113.978 464.565 117.033 469.172 Q120.112 473.755 120.112 482.505 Q120.112 491.232 117.033 495.838 Q113.978 500.421 108.168 500.421 Q102.358 500.421 99.2789 495.838 Q96.2234 491.232 96.2234 482.505 Q96.2234 473.755 99.2789 469.172 Q102.358 464.565 108.168 464.565 Z\" fill=\"#000000\" fill-rule=\"evenodd\" fill-opacity=\"1\" /><path clip-path=\"url(#clip410)\" d=\"M 0 0 M141.177 469.264 L129.371 487.713 L141.177 487.713 L141.177 469.264 M139.95 465.19 L145.83 465.19 L145.83 487.713 L150.76 487.713 L150.76 491.602 L145.83 491.602 L145.83 499.75 L141.177 499.75 L141.177 491.602 L125.575 491.602 L125.575 487.088 L139.95 465.19 Z\" fill=\"#000000\" fill-rule=\"evenodd\" fill-opacity=\"1\" /><path clip-path=\"url(#clip410)\" d=\"M 0 0 M64.418 227.457 Q60.8069 227.457 58.9782 231.022 Q57.1726 234.564 57.1726 241.694 Q57.1726 248.8 58.9782 252.365 Q60.8069 255.906 64.418 255.906 Q68.0522 255.906 69.8578 252.365 Q71.6865 248.8 71.6865 241.694 Q71.6865 234.564 69.8578 231.022 Q68.0522 227.457 64.418 227.457 M64.418 223.754 Q70.2281 223.754 73.2837 228.36 Q76.3624 232.944 76.3624 241.694 Q76.3624 250.42 73.2837 255.027 Q70.2281 259.61 64.418 259.61 Q58.6078 259.61 55.5291 255.027 Q52.4736 250.42 52.4736 241.694 Q52.4736 232.944 55.5291 228.36 Q58.6078 223.754 64.418 223.754 Z\" fill=\"#000000\" fill-rule=\"evenodd\" fill-opacity=\"1\" /><path clip-path=\"url(#clip410)\" d=\"M 0 0 M84.5799 253.059 L89.4641 253.059 L89.4641 258.939 L84.5799 258.939 L84.5799 253.059 Z\" fill=\"#000000\" fill-rule=\"evenodd\" fill-opacity=\"1\" /><path clip-path=\"url(#clip410)\" d=\"M 0 0 M109.649 227.457 Q106.038 227.457 104.209 231.022 Q102.404 234.564 102.404 241.694 Q102.404 248.8 104.209 252.365 Q106.038 255.906 109.649 255.906 Q113.283 255.906 115.089 252.365 Q116.918 248.8 116.918 241.694 Q116.918 234.564 115.089 231.022 Q113.283 227.457 109.649 227.457 M109.649 223.754 Q115.459 223.754 118.515 228.36 Q121.594 232.944 121.594 241.694 Q121.594 250.42 118.515 255.027 Q115.459 259.61 109.649 259.61 Q103.839 259.61 100.76 255.027 Q97.7048 250.42 97.7048 241.694 Q97.7048 232.944 100.76 228.36 Q103.839 223.754 109.649 223.754 Z\" fill=\"#000000\" fill-rule=\"evenodd\" fill-opacity=\"1\" /><path clip-path=\"url(#clip410)\" d=\"M 0 0 M129.857 224.379 L148.214 224.379 L148.214 228.314 L134.14 228.314 L134.14 236.786 Q135.158 236.439 136.177 236.277 Q137.195 236.092 138.214 236.092 Q144.001 236.092 147.38 239.263 Q150.76 242.434 150.76 247.851 Q150.76 253.43 147.288 256.531 Q143.816 259.61 137.496 259.61 Q135.32 259.61 133.052 259.24 Q130.807 258.869 128.399 258.129 L128.399 253.43 Q130.482 254.564 132.705 255.119 Q134.927 255.675 137.404 255.675 Q141.408 255.675 143.746 253.568 Q146.084 251.462 146.084 247.851 Q146.084 244.24 143.746 242.133 Q141.408 240.027 137.404 240.027 Q135.529 240.027 133.654 240.444 Q131.802 240.86 129.857 241.74 L129.857 224.379 Z\" fill=\"#000000\" fill-rule=\"evenodd\" fill-opacity=\"1\" /><polyline clip-path=\"url(#clip412)\" style=\"stroke:#009af9; stroke-width:4; stroke-opacity:1; fill:none\" points=\"\n",
       "  248.062,1445.72 251.473,1445.72 254.885,1445.71 258.296,1445.7 261.707,1445.67 265.119,1445.61 268.53,1445.51 271.941,1445.35 275.353,1445.11 278.764,1444.78 \n",
       "  282.175,1444.34 285.587,1443.78 288.998,1443.07 292.409,1442.21 295.821,1441.17 299.232,1439.95 302.643,1438.54 306.055,1436.91 309.466,1435.08 312.877,1433.02 \n",
       "  316.289,1430.74 319.7,1428.24 323.111,1425.51 326.523,1422.55 329.934,1419.38 333.345,1415.99 336.757,1412.39 340.168,1408.6 343.579,1404.62 346.991,1400.47 \n",
       "  350.402,1396.16 353.813,1391.71 357.225,1387.14 360.636,1382.46 364.047,1377.69 367.459,1372.85 370.87,1367.97 374.281,1363.07 377.693,1358.16 381.104,1353.27 \n",
       "  384.515,1348.43 387.927,1343.65 391.338,1338.96 394.749,1334.37 398.161,1329.92 401.572,1325.62 404.983,1321.49 408.395,1317.56 411.806,1313.83 415.218,1310.34 \n",
       "  418.629,1307.09 422.04,1304.09 425.452,1301.38 428.863,1298.95 432.274,1296.82 435.686,1295.01 439.097,1293.51 442.508,1292.33 445.92,1291.49 449.331,1290.98 \n",
       "  452.742,1290.81 456.154,1290.98 459.565,1291.49 462.976,1292.33 466.388,1293.51 469.799,1295.01 473.21,1296.82 476.622,1298.95 480.033,1301.38 483.444,1304.09 \n",
       "  486.856,1307.09 490.267,1310.34 493.678,1313.83 497.09,1317.56 500.501,1321.49 503.912,1325.62 507.324,1329.92 510.735,1334.37 514.146,1338.96 517.558,1343.65 \n",
       "  520.969,1348.43 524.38,1353.27 527.792,1358.16 531.203,1363.07 534.614,1367.97 538.026,1372.85 541.437,1377.69 544.848,1382.46 548.26,1387.14 551.671,1391.71 \n",
       "  555.082,1396.16 558.494,1400.47 561.905,1404.62 565.316,1408.6 568.728,1412.39 572.139,1415.99 575.55,1419.38 578.962,1422.55 582.373,1425.51 585.784,1428.24 \n",
       "  589.196,1430.74 592.607,1433.02 596.018,1435.08 599.43,1436.91 602.841,1438.54 606.253,1439.95 609.664,1441.17 613.075,1442.21 616.487,1443.07 619.898,1443.78 \n",
       "  623.309,1444.34 626.721,1444.78 630.132,1445.11 633.543,1445.35 636.955,1445.51 640.366,1445.61 643.777,1445.67 647.189,1445.7 650.6,1445.71 654.011,1445.72 \n",
       "  657.423,1445.72 660.834,1445.72 664.245,1445.72 667.657,1445.72 671.068,1445.72 674.479,1445.72 677.891,1445.72 681.302,1445.72 684.713,1445.72 688.125,1445.72 \n",
       "  691.536,1445.72 694.947,1445.72 698.359,1445.72 701.77,1445.72 705.181,1445.72 708.593,1445.72 712.004,1445.72 715.415,1445.72 718.827,1445.72 722.238,1445.72 \n",
       "  725.649,1445.72 729.061,1445.72 732.472,1445.72 735.883,1445.72 739.295,1445.72 742.706,1445.72 746.117,1445.72 749.529,1445.72 752.94,1445.72 756.351,1445.72 \n",
       "  759.763,1445.72 763.174,1445.72 766.585,1445.72 769.997,1445.72 773.408,1445.72 776.819,1445.72 780.231,1445.72 783.642,1445.72 787.053,1445.72 790.465,1445.72 \n",
       "  793.876,1445.72 797.288,1445.72 800.699,1445.72 804.11,1445.72 807.522,1445.72 810.933,1445.72 814.344,1445.72 817.756,1445.72 821.167,1445.72 824.578,1445.72 \n",
       "  827.99,1445.72 831.401,1445.72 834.812,1445.72 838.224,1445.72 841.635,1445.72 845.046,1445.72 848.458,1445.72 851.869,1445.72 855.28,1445.72 858.692,1445.72 \n",
       "  862.103,1445.72 865.514,1445.72 868.926,1445.72 872.337,1445.72 875.748,1445.72 879.16,1445.72 882.571,1445.72 885.982,1445.72 889.394,1445.72 892.805,1445.72 \n",
       "  896.216,1445.72 899.628,1445.72 903.039,1445.72 906.45,1445.72 909.862,1445.72 913.273,1445.72 916.684,1445.72 920.096,1445.72 923.507,1445.72 926.918,1445.72 \n",
       "  930.33,1445.72 933.741,1445.72 937.152,1445.72 940.564,1445.72 943.975,1445.72 947.386,1445.72 950.798,1445.72 954.209,1445.72 957.62,1445.72 961.032,1445.72 \n",
       "  964.443,1445.72 967.854,1445.72 971.266,1445.72 974.677,1445.72 978.088,1445.72 981.5,1445.72 984.911,1445.72 988.323,1445.72 991.734,1445.72 995.145,1445.72 \n",
       "  998.557,1445.72 1001.97,1445.72 1005.38,1445.72 1008.79,1445.72 1012.2,1445.72 1015.61,1445.72 1019.02,1445.72 1022.44,1445.72 1025.85,1445.72 1029.26,1445.72 \n",
       "  1032.67,1445.72 1036.08,1445.72 1039.49,1445.72 1042.9,1445.72 1046.32,1445.72 1049.73,1445.72 1053.14,1445.72 1056.55,1445.72 1059.96,1445.72 1063.37,1445.72 \n",
       "  1066.78,1445.72 1070.19,1445.72 1073.61,1445.72 1077.02,1445.72 1080.43,1445.72 1083.84,1445.72 1087.25,1445.72 1090.66,1445.72 1094.07,1445.72 1097.49,1445.72 \n",
       "  1100.9,1445.72 1104.31,1445.72 1107.72,1445.72 1111.13,1445.72 1114.54,1445.72 1117.95,1445.72 1121.36,1445.72 1124.78,1445.72 1128.19,1445.72 1131.6,1445.72 \n",
       "  1135.01,1445.72 1138.42,1445.72 1141.83,1445.72 1145.24,1445.72 1148.66,1445.72 1152.07,1445.72 1155.48,1445.72 1158.89,1445.72 1162.3,1445.72 1165.71,1445.72 \n",
       "  1169.12,1445.72 1172.53,1445.72 1175.95,1445.72 1179.36,1445.72 1182.77,1445.72 1186.18,1445.72 1189.59,1445.72 1193,1445.72 1196.41,1445.72 1199.83,1445.72 \n",
       "  1203.24,1445.72 1206.65,1445.72 1210.06,1445.72 1213.47,1445.72 1216.88,1445.72 1220.29,1445.72 1223.7,1445.72 1227.12,1445.72 1230.53,1445.72 1233.94,1445.72 \n",
       "  1237.35,1445.72 1240.76,1445.72 1244.17,1445.72 1247.58,1445.72 1251,1445.72 1254.41,1445.72 1257.82,1445.72 1261.23,1445.72 1264.64,1445.72 1268.05,1445.72 \n",
       "  1271.46,1445.72 1274.88,1445.72 1278.29,1445.72 1281.7,1445.72 1285.11,1445.72 1288.52,1445.72 1291.93,1445.72 1295.34,1445.72 1298.75,1445.72 1302.17,1445.72 \n",
       "  1305.58,1445.72 1308.99,1445.72 1312.4,1445.72 1315.81,1445.72 1319.22,1445.72 1322.63,1445.72 1326.05,1445.72 1329.46,1445.72 1332.87,1445.72 1336.28,1445.72 \n",
       "  1339.69,1445.72 1343.1,1445.72 1346.51,1445.72 1349.92,1445.72 1353.34,1445.72 1356.75,1445.72 1360.16,1445.72 1363.57,1445.72 1366.98,1445.72 1370.39,1445.72 \n",
       "  1373.8,1445.72 1377.22,1445.72 1380.63,1445.72 1384.04,1445.72 1387.45,1445.72 1390.86,1445.72 1394.27,1445.72 1397.68,1445.72 1401.09,1445.72 1404.51,1445.72 \n",
       "  1407.92,1445.72 1411.33,1445.72 1414.74,1445.72 1418.15,1445.72 1421.56,1445.72 1424.97,1445.72 1428.39,1445.72 1431.8,1445.72 1435.21,1445.72 1438.62,1445.72 \n",
       "  1442.03,1445.72 1445.44,1445.72 1448.85,1445.72 1452.26,1445.72 1455.68,1445.72 1459.09,1445.72 1462.5,1445.72 1465.91,1445.72 1469.32,1445.72 1472.73,1445.72 \n",
       "  1476.14,1445.72 1479.56,1445.72 1482.97,1445.72 1486.38,1445.72 1489.79,1445.72 1493.2,1445.72 1496.61,1445.72 1500.02,1445.72 1503.43,1445.72 1506.85,1445.72 \n",
       "  1510.26,1445.72 1513.67,1445.72 1517.08,1445.72 1520.49,1445.72 1523.9,1445.72 1527.31,1445.72 1530.73,1445.72 1534.14,1445.72 1537.55,1445.72 1540.96,1445.72 \n",
       "  1544.37,1445.72 1547.78,1445.72 1551.19,1445.72 1554.6,1445.72 1558.02,1445.72 1561.43,1445.72 1564.84,1445.72 1568.25,1445.72 1571.66,1445.72 1575.07,1445.72 \n",
       "  1578.48,1445.72 1581.9,1445.72 1585.31,1445.72 1588.72,1445.72 1592.13,1445.72 1595.54,1445.72 1598.95,1445.72 1602.36,1445.72 1605.77,1445.72 1609.19,1445.72 \n",
       "  1612.6,1445.72 1616.01,1445.72 1619.42,1445.72 1622.83,1445.72 1626.24,1445.72 1629.65,1445.72 1633.07,1445.72 1636.48,1445.72 1639.89,1445.72 1643.3,1445.72 \n",
       "  1646.71,1445.72 1650.12,1445.72 1653.53,1445.72 1656.95,1445.72 1660.36,1445.72 1663.77,1445.72 1667.18,1445.72 1670.59,1445.72 1674,1445.72 1677.41,1445.72 \n",
       "  1680.82,1445.72 1684.24,1445.72 1687.65,1445.72 1691.06,1445.72 1694.47,1445.72 1697.88,1445.72 1701.29,1445.72 1704.7,1445.72 1708.12,1445.72 1711.53,1445.72 \n",
       "  1714.94,1445.72 1718.35,1445.72 1721.76,1445.72 1725.17,1445.72 1728.58,1445.72 1731.99,1445.72 1735.41,1445.72 1738.82,1445.72 1742.23,1445.72 1745.64,1445.72 \n",
       "  1749.05,1445.72 1752.46,1445.72 1755.87,1445.72 1759.29,1445.72 1762.7,1445.72 1766.11,1445.72 1769.52,1445.72 1772.93,1445.72 1776.34,1445.72 1779.75,1445.72 \n",
       "  1783.16,1445.72 1786.58,1445.72 1789.99,1445.72 1793.4,1445.72 1796.81,1445.72 1800.22,1445.72 1803.63,1445.72 1807.04,1445.72 1810.46,1445.72 1813.87,1445.72 \n",
       "  1817.28,1445.72 1820.69,1445.72 1824.1,1445.72 1827.51,1445.72 1830.92,1445.72 1834.33,1445.72 1837.75,1445.72 1841.16,1445.72 1844.57,1445.72 1847.98,1445.72 \n",
       "  1851.39,1445.72 1854.8,1445.72 1858.21,1445.72 1861.63,1445.72 1865.04,1445.72 1868.45,1445.72 1871.86,1445.72 1875.27,1445.72 1878.68,1445.72 1882.09,1445.72 \n",
       "  1885.5,1445.72 1888.92,1445.72 1892.33,1445.72 1895.74,1445.72 1899.15,1445.72 1902.56,1445.72 1905.97,1445.72 1909.38,1445.72 1912.8,1445.72 1916.21,1445.72 \n",
       "  1919.62,1445.72 1923.03,1445.72 1926.44,1445.72 1929.85,1445.72 1933.26,1445.72 1936.67,1445.72 1940.09,1445.72 1943.5,1445.72 1946.91,1445.72 1950.32,1445.72 \n",
       "  1953.73,1445.72 1957.14,1445.72 1960.55,1445.72 1963.97,1445.72 1967.38,1445.72 1970.79,1445.72 1974.2,1445.72 1977.61,1445.72 1981.02,1445.72 1984.43,1445.72 \n",
       "  1987.84,1445.72 1991.26,1445.72 1994.67,1445.72 1998.08,1445.72 2001.49,1445.72 2004.9,1445.72 2008.31,1445.72 2011.72,1445.72 2015.14,1445.72 2018.55,1445.72 \n",
       "  2021.96,1445.72 2025.37,1445.72 2028.78,1445.72 2032.19,1445.72 2035.6,1445.72 2039.02,1445.72 2042.43,1445.72 2045.84,1445.72 2049.25,1445.72 2052.66,1445.72 \n",
       "  2056.07,1445.72 2059.48,1445.72 2062.89,1445.72 2066.31,1445.72 2069.72,1445.72 2073.13,1445.72 2076.54,1445.72 2079.95,1445.72 2083.36,1445.72 2086.77,1445.72 \n",
       "  2090.19,1445.72 2093.6,1445.72 2097.01,1445.72 2100.42,1445.72 2103.83,1445.72 2107.24,1445.72 2110.65,1445.72 2114.06,1445.72 2117.48,1445.72 2120.89,1445.72 \n",
       "  2124.3,1445.72 2127.71,1445.72 2131.12,1445.72 2134.53,1445.72 2137.94,1445.72 2141.36,1445.72 2144.77,1445.72 2148.18,1445.72 2151.59,1445.72 2155,1445.72 \n",
       "  2158.41,1445.72 2161.82,1445.72 2165.23,1445.72 2168.65,1445.72 2172.06,1445.72 2175.47,1445.72 2178.88,1445.72 2182.29,1445.72 2185.7,1445.72 2189.11,1445.72 \n",
       "  2192.53,1445.72 2195.94,1445.72 2199.35,1445.72 2202.76,1445.72 2206.17,1445.72 2209.58,1445.72 2212.99,1445.72 2216.4,1445.72 2219.82,1445.72 2223.23,1445.72 \n",
       "  2226.64,1445.72 2230.05,1445.72 2233.46,1445.72 2236.87,1445.72 2240.28,1445.72 2243.7,1445.72 2247.11,1445.72 2250.52,1445.72 2253.93,1445.72 2257.34,1445.72 \n",
       "  2260.75,1445.72 2264.16,1445.72 2267.57,1445.72 2270.99,1445.72 2274.4,1445.72 2277.81,1445.72 2281.22,1445.72 2284.63,1445.72 2288.04,1445.72 2291.45,1445.72 \n",
       "  \n",
       "  \"/>\n",
       "<polyline clip-path=\"url(#clip412)\" style=\"stroke:#e26f46; stroke-width:4; stroke-opacity:1; fill:none\" points=\"\n",
       "  248.062,1445.72 251.473,1445.71 254.885,1445.69 258.296,1445.59 261.707,1445.34 265.119,1444.83 268.53,1443.95 271.941,1442.55 275.353,1440.51 278.764,1437.66 \n",
       "  282.175,1433.88 285.587,1429.01 288.998,1422.91 292.409,1415.45 295.821,1406.51 299.232,1395.97 302.643,1383.74 306.055,1369.73 309.466,1353.86 312.877,1336.09 \n",
       "  316.289,1316.38 319.7,1294.7 323.111,1271.05 326.523,1245.45 329.934,1217.92 333.345,1188.52 336.757,1157.31 340.168,1124.35 343.579,1089.76 346.991,1053.65 \n",
       "  350.402,1016.12 353.813,977.32 357.225,937.396 360.636,896.505 364.047,854.813 367.459,812.496 370.87,769.736 374.281,726.721 377.693,683.643 381.104,640.699 \n",
       "  384.515,598.086 387.927,556.002 391.338,514.646 394.749,474.215 398.161,434.901 401.572,396.894 404.983,360.379 408.395,325.532 411.806,292.524 415.218,261.518 \n",
       "  418.629,232.666 422.04,206.11 425.452,181.982 428.863,160.402 432.274,141.477 435.686,125.3 439.097,111.953 442.508,101.503 445.92,94.0006 449.331,89.4842 \n",
       "  452.742,87.9763 456.154,89.4842 459.565,94.0006 462.976,101.503 466.388,111.953 469.799,125.3 473.21,141.477 476.622,160.402 480.033,181.982 483.444,206.11 \n",
       "  486.856,232.666 490.267,261.518 493.678,292.524 497.09,325.532 500.501,360.379 503.912,396.894 507.324,434.901 510.735,474.215 514.146,514.646 517.558,556.002 \n",
       "  520.969,598.086 524.38,640.699 527.792,683.643 531.203,726.721 534.614,769.736 538.026,812.496 541.437,854.813 544.848,896.505 548.26,937.396 551.671,977.32 \n",
       "  555.082,1016.12 558.494,1053.65 561.905,1089.76 565.316,1124.35 568.728,1157.31 572.139,1188.52 575.55,1217.92 578.962,1245.45 582.373,1271.05 585.784,1294.7 \n",
       "  589.196,1316.38 592.607,1336.09 596.018,1353.86 599.43,1369.73 602.841,1383.74 606.253,1395.97 609.664,1406.51 613.075,1415.45 616.487,1422.91 619.898,1429.01 \n",
       "  623.309,1433.88 626.721,1437.66 630.132,1440.51 633.543,1442.55 636.955,1443.95 640.366,1444.83 643.777,1445.34 647.189,1445.59 650.6,1445.69 654.011,1445.71 \n",
       "  657.423,1445.72 660.834,1445.72 664.245,1445.72 667.657,1445.72 671.068,1445.72 674.479,1445.72 677.891,1445.72 681.302,1445.72 684.713,1445.72 688.125,1445.72 \n",
       "  691.536,1445.72 694.947,1445.72 698.359,1445.72 701.77,1445.72 705.181,1445.72 708.593,1445.72 712.004,1445.72 715.415,1445.72 718.827,1445.72 722.238,1445.72 \n",
       "  725.649,1445.72 729.061,1445.72 732.472,1445.72 735.883,1445.72 739.295,1445.72 742.706,1445.72 746.117,1445.72 749.529,1445.72 752.94,1445.72 756.351,1445.72 \n",
       "  759.763,1445.72 763.174,1445.72 766.585,1445.72 769.997,1445.72 773.408,1445.72 776.819,1445.72 780.231,1445.72 783.642,1445.72 787.053,1445.72 790.465,1445.72 \n",
       "  793.876,1445.72 797.288,1445.72 800.699,1445.72 804.11,1445.72 807.522,1445.72 810.933,1445.72 814.344,1445.72 817.756,1445.72 821.167,1445.72 824.578,1445.72 \n",
       "  827.99,1445.72 831.401,1445.72 834.812,1445.72 838.224,1445.72 841.635,1445.72 845.046,1445.72 848.458,1445.72 851.869,1445.72 855.28,1445.72 858.692,1445.72 \n",
       "  862.103,1445.72 865.514,1445.72 868.926,1445.72 872.337,1445.72 875.748,1445.72 879.16,1445.72 882.571,1445.72 885.982,1445.72 889.394,1445.72 892.805,1445.72 \n",
       "  896.216,1445.72 899.628,1445.72 903.039,1445.72 906.45,1445.72 909.862,1445.72 913.273,1445.72 916.684,1445.72 920.096,1445.72 923.507,1445.72 926.918,1445.72 \n",
       "  930.33,1445.72 933.741,1445.72 937.152,1445.72 940.564,1445.72 943.975,1445.72 947.386,1445.72 950.798,1445.72 954.209,1445.72 957.62,1445.72 961.032,1445.72 \n",
       "  964.443,1445.72 967.854,1445.72 971.266,1445.72 974.677,1445.72 978.088,1445.72 981.5,1445.72 984.911,1445.72 988.323,1445.72 991.734,1445.72 995.145,1445.72 \n",
       "  998.557,1445.72 1001.97,1445.72 1005.38,1445.72 1008.79,1445.72 1012.2,1445.72 1015.61,1445.72 1019.02,1445.72 1022.44,1445.72 1025.85,1445.72 1029.26,1445.72 \n",
       "  1032.67,1445.72 1036.08,1445.72 1039.49,1445.72 1042.9,1445.72 1046.32,1445.72 1049.73,1445.72 1053.14,1445.72 1056.55,1445.72 1059.96,1445.72 1063.37,1445.72 \n",
       "  1066.78,1445.72 1070.19,1445.72 1073.61,1445.72 1077.02,1445.72 1080.43,1445.72 1083.84,1445.72 1087.25,1445.72 1090.66,1445.72 1094.07,1445.72 1097.49,1445.72 \n",
       "  1100.9,1445.72 1104.31,1445.72 1107.72,1445.72 1111.13,1445.72 1114.54,1445.72 1117.95,1445.72 1121.36,1445.72 1124.78,1445.72 1128.19,1445.72 1131.6,1445.72 \n",
       "  1135.01,1445.72 1138.42,1445.72 1141.83,1445.72 1145.24,1445.72 1148.66,1445.72 1152.07,1445.72 1155.48,1445.72 1158.89,1445.72 1162.3,1445.72 1165.71,1445.72 \n",
       "  1169.12,1445.72 1172.53,1445.72 1175.95,1445.72 1179.36,1445.72 1182.77,1445.72 1186.18,1445.72 1189.59,1445.72 1193,1445.72 1196.41,1445.72 1199.83,1445.72 \n",
       "  1203.24,1445.72 1206.65,1445.72 1210.06,1445.72 1213.47,1445.72 1216.88,1445.72 1220.29,1445.72 1223.7,1445.72 1227.12,1445.72 1230.53,1445.72 1233.94,1445.72 \n",
       "  1237.35,1445.72 1240.76,1445.72 1244.17,1445.72 1247.58,1445.72 1251,1445.72 1254.41,1445.72 1257.82,1445.72 1261.23,1445.72 1264.64,1445.72 1268.05,1445.72 \n",
       "  1271.46,1445.72 1274.88,1445.72 1278.29,1445.72 1281.7,1445.72 1285.11,1445.72 1288.52,1445.72 1291.93,1445.72 1295.34,1445.72 1298.75,1445.72 1302.17,1445.72 \n",
       "  1305.58,1445.72 1308.99,1445.72 1312.4,1445.72 1315.81,1445.72 1319.22,1445.72 1322.63,1445.72 1326.05,1445.72 1329.46,1445.72 1332.87,1445.72 1336.28,1445.72 \n",
       "  1339.69,1445.72 1343.1,1445.72 1346.51,1445.72 1349.92,1445.72 1353.34,1445.72 1356.75,1445.72 1360.16,1445.72 1363.57,1445.72 1366.98,1445.72 1370.39,1445.72 \n",
       "  1373.8,1445.72 1377.22,1445.72 1380.63,1445.72 1384.04,1445.72 1387.45,1445.72 1390.86,1445.72 1394.27,1445.72 1397.68,1445.72 1401.09,1445.72 1404.51,1445.72 \n",
       "  1407.92,1445.72 1411.33,1445.72 1414.74,1445.72 1418.15,1445.72 1421.56,1445.72 1424.97,1445.72 1428.39,1445.72 1431.8,1445.72 1435.21,1445.72 1438.62,1445.72 \n",
       "  1442.03,1445.72 1445.44,1445.72 1448.85,1445.72 1452.26,1445.72 1455.68,1445.72 1459.09,1445.72 1462.5,1445.72 1465.91,1445.72 1469.32,1445.72 1472.73,1445.72 \n",
       "  1476.14,1445.72 1479.56,1445.72 1482.97,1445.72 1486.38,1445.72 1489.79,1445.72 1493.2,1445.72 1496.61,1445.72 1500.02,1445.72 1503.43,1445.72 1506.85,1445.72 \n",
       "  1510.26,1445.72 1513.67,1445.72 1517.08,1445.72 1520.49,1445.72 1523.9,1445.72 1527.31,1445.72 1530.73,1445.72 1534.14,1445.72 1537.55,1445.72 1540.96,1445.72 \n",
       "  1544.37,1445.72 1547.78,1445.72 1551.19,1445.72 1554.6,1445.72 1558.02,1445.72 1561.43,1445.72 1564.84,1445.72 1568.25,1445.72 1571.66,1445.72 1575.07,1445.72 \n",
       "  1578.48,1445.72 1581.9,1445.72 1585.31,1445.72 1588.72,1445.72 1592.13,1445.72 1595.54,1445.72 1598.95,1445.72 1602.36,1445.72 1605.77,1445.72 1609.19,1445.72 \n",
       "  1612.6,1445.72 1616.01,1445.72 1619.42,1445.72 1622.83,1445.72 1626.24,1445.72 1629.65,1445.72 1633.07,1445.72 1636.48,1445.72 1639.89,1445.72 1643.3,1445.72 \n",
       "  1646.71,1445.72 1650.12,1445.72 1653.53,1445.72 1656.95,1445.72 1660.36,1445.72 1663.77,1445.72 1667.18,1445.72 1670.59,1445.72 1674,1445.72 1677.41,1445.72 \n",
       "  1680.82,1445.72 1684.24,1445.72 1687.65,1445.72 1691.06,1445.72 1694.47,1445.72 1697.88,1445.72 1701.29,1445.72 1704.7,1445.72 1708.12,1445.72 1711.53,1445.72 \n",
       "  1714.94,1445.72 1718.35,1445.72 1721.76,1445.72 1725.17,1445.72 1728.58,1445.72 1731.99,1445.72 1735.41,1445.72 1738.82,1445.72 1742.23,1445.72 1745.64,1445.72 \n",
       "  1749.05,1445.72 1752.46,1445.72 1755.87,1445.72 1759.29,1445.72 1762.7,1445.72 1766.11,1445.72 1769.52,1445.72 1772.93,1445.72 1776.34,1445.72 1779.75,1445.72 \n",
       "  1783.16,1445.72 1786.58,1445.72 1789.99,1445.72 1793.4,1445.72 1796.81,1445.72 1800.22,1445.72 1803.63,1445.72 1807.04,1445.72 1810.46,1445.72 1813.87,1445.72 \n",
       "  1817.28,1445.72 1820.69,1445.72 1824.1,1445.72 1827.51,1445.72 1830.92,1445.72 1834.33,1445.72 1837.75,1445.72 1841.16,1445.72 1844.57,1445.72 1847.98,1445.72 \n",
       "  1851.39,1445.72 1854.8,1445.72 1858.21,1445.72 1861.63,1445.72 1865.04,1445.72 1868.45,1445.72 1871.86,1445.72 1875.27,1445.72 1878.68,1445.72 1882.09,1445.72 \n",
       "  1885.5,1445.72 1888.92,1445.72 1892.33,1445.72 1895.74,1445.72 1899.15,1445.72 1902.56,1445.72 1905.97,1445.72 1909.38,1445.72 1912.8,1445.72 1916.21,1445.72 \n",
       "  1919.62,1445.72 1923.03,1445.72 1926.44,1445.72 1929.85,1445.72 1933.26,1445.72 1936.67,1445.72 1940.09,1445.72 1943.5,1445.72 1946.91,1445.72 1950.32,1445.72 \n",
       "  1953.73,1445.72 1957.14,1445.72 1960.55,1445.72 1963.97,1445.72 1967.38,1445.72 1970.79,1445.72 1974.2,1445.72 1977.61,1445.72 1981.02,1445.72 1984.43,1445.72 \n",
       "  1987.84,1445.72 1991.26,1445.72 1994.67,1445.72 1998.08,1445.72 2001.49,1445.72 2004.9,1445.72 2008.31,1445.72 2011.72,1445.72 2015.14,1445.72 2018.55,1445.72 \n",
       "  2021.96,1445.72 2025.37,1445.72 2028.78,1445.72 2032.19,1445.72 2035.6,1445.72 2039.02,1445.72 2042.43,1445.72 2045.84,1445.72 2049.25,1445.72 2052.66,1445.72 \n",
       "  2056.07,1445.72 2059.48,1445.72 2062.89,1445.72 2066.31,1445.72 2069.72,1445.72 2073.13,1445.72 2076.54,1445.72 2079.95,1445.72 2083.36,1445.72 2086.77,1445.72 \n",
       "  2090.19,1445.72 2093.6,1445.72 2097.01,1445.72 2100.42,1445.72 2103.83,1445.72 2107.24,1445.72 2110.65,1445.72 2114.06,1445.72 2117.48,1445.72 2120.89,1445.72 \n",
       "  2124.3,1445.72 2127.71,1445.72 2131.12,1445.72 2134.53,1445.72 2137.94,1445.72 2141.36,1445.72 2144.77,1445.72 2148.18,1445.72 2151.59,1445.72 2155,1445.72 \n",
       "  2158.41,1445.72 2161.82,1445.72 2165.23,1445.72 2168.65,1445.72 2172.06,1445.72 2175.47,1445.72 2178.88,1445.72 2182.29,1445.72 2185.7,1445.72 2189.11,1445.72 \n",
       "  2192.53,1445.72 2195.94,1445.72 2199.35,1445.72 2202.76,1445.72 2206.17,1445.72 2209.58,1445.72 2212.99,1445.72 2216.4,1445.72 2219.82,1445.72 2223.23,1445.72 \n",
       "  2226.64,1445.72 2230.05,1445.72 2233.46,1445.72 2236.87,1445.72 2240.28,1445.72 2243.7,1445.72 2247.11,1445.72 2250.52,1445.72 2253.93,1445.72 2257.34,1445.72 \n",
       "  2260.75,1445.72 2264.16,1445.72 2267.57,1445.72 2270.99,1445.72 2274.4,1445.72 2277.81,1445.72 2281.22,1445.72 2284.63,1445.72 2288.04,1445.72 2291.45,1445.72 \n",
       "  \n",
       "  \"/>\n",
       "<path clip-path=\"url(#clip410)\" d=\"\n",
       "M1987.46 276.658 L2280.56 276.658 L2280.56 95.2176 L1987.46 95.2176  Z\n",
       "  \" fill=\"#ffffff\" fill-rule=\"evenodd\" fill-opacity=\"1\"/>\n",
       "<polyline clip-path=\"url(#clip410)\" style=\"stroke:#000000; stroke-width:4; stroke-opacity:1; fill:none\" points=\"\n",
       "  1987.46,276.658 2280.56,276.658 2280.56,95.2176 1987.46,95.2176 1987.46,276.658 \n",
       "  \"/>\n",
       "<polyline clip-path=\"url(#clip410)\" style=\"stroke:#009af9; stroke-width:4; stroke-opacity:1; fill:none\" points=\"\n",
       "  2011.53,155.698 2155.93,155.698 \n",
       "  \"/>\n",
       "<path clip-path=\"url(#clip410)\" d=\"M 0 0 M2193.84 175.385 Q2192.03 180.015 2190.32 181.427 Q2188.6 182.839 2185.73 182.839 L2182.33 182.839 L2182.33 179.274 L2184.83 179.274 Q2186.59 179.274 2187.56 178.44 Q2188.53 177.607 2189.71 174.505 L2190.48 172.561 L2179.99 147.052 L2184.51 147.052 L2192.61 167.329 L2200.71 147.052 L2205.22 147.052 L2193.84 175.385 Z\" fill=\"#000000\" fill-rule=\"evenodd\" fill-opacity=\"1\" /><path clip-path=\"url(#clip410)\" d=\"M 0 0 M2212.52 169.042 L2220.15 169.042 L2220.15 142.677 L2211.84 144.343 L2211.84 140.084 L2220.11 138.418 L2224.78 138.418 L2224.78 169.042 L2232.42 169.042 L2232.42 172.978 L2212.52 172.978 L2212.52 169.042 Z\" fill=\"#000000\" fill-rule=\"evenodd\" fill-opacity=\"1\" /><polyline clip-path=\"url(#clip410)\" style=\"stroke:#e26f46; stroke-width:4; stroke-opacity:1; fill:none\" points=\"\n",
       "  2011.53,216.178 2155.93,216.178 \n",
       "  \"/>\n",
       "<path clip-path=\"url(#clip410)\" d=\"M 0 0 M2193.84 235.865 Q2192.03 240.495 2190.32 241.907 Q2188.6 243.319 2185.73 243.319 L2182.33 243.319 L2182.33 239.754 L2184.83 239.754 Q2186.59 239.754 2187.56 238.92 Q2188.53 238.087 2189.71 234.985 L2190.48 233.041 L2179.99 207.532 L2184.51 207.532 L2192.61 227.809 L2200.71 207.532 L2205.22 207.532 L2193.84 235.865 Z\" fill=\"#000000\" fill-rule=\"evenodd\" fill-opacity=\"1\" /><path clip-path=\"url(#clip410)\" d=\"M 0 0 M2215.73 229.522 L2232.05 229.522 L2232.05 233.458 L2210.11 233.458 L2210.11 229.522 Q2212.77 226.768 2217.35 222.138 Q2221.96 217.485 2223.14 216.143 Q2225.39 213.62 2226.27 211.884 Q2227.17 210.124 2227.17 208.435 Q2227.17 205.68 2225.22 203.944 Q2223.3 202.208 2220.2 202.208 Q2218 202.208 2215.55 202.972 Q2213.12 203.735 2210.34 205.286 L2210.34 200.564 Q2213.16 199.43 2215.62 198.851 Q2218.07 198.273 2220.11 198.273 Q2225.48 198.273 2228.67 200.958 Q2231.87 203.643 2231.87 208.134 Q2231.87 210.263 2231.06 212.185 Q2230.27 214.083 2228.16 216.675 Q2227.58 217.347 2224.48 220.564 Q2221.38 223.759 2215.73 229.522 Z\" fill=\"#000000\" fill-rule=\"evenodd\" fill-opacity=\"1\" /></svg>\n"
      ]
     },
     "execution_count": 12,
     "metadata": {},
     "output_type": "execute_result"
    }
   ],
   "source": [
    "plot(x,flu_0[:,2])\n",
    "plot!(x,con_0[:,2])"
   ]
  },
  {
   "cell_type": "code",
   "execution_count": 13,
   "metadata": {
    "jupyter": {
     "source_hidden": true
    },
    "tags": []
   },
   "outputs": [
    {
     "data": {
      "text/plain": [
       "evolution (generic function with 1 method)"
      ]
     },
     "execution_count": 13,
     "metadata": {},
     "output_type": "execute_result"
    }
   ],
   "source": [
    "function evolution(du,u,par,t)\n",
    "    # this is the function that is taken by the time-integrator\n",
    "    par_eq, par_inv, h_1, U, M, Flux, Speed_max, Source, c_to_f = par\n",
    "    χ, ξ = par_eq\n",
    "    \n",
    "    #p_direct = (χ, U, M) #these are the parameters for direct\n",
    "    #c_to_f_direct!(u,p_direct)\n",
    "    c_to_f!(u,par_inv)\n",
    "    \n",
    "    par_mp5 = (h_1, U, M, χ, par_eq, Flux, Speed_max, Source)\n",
    "    for j ∈ 1:M\n",
    "        mp5(du,u,par_mp5,j,t)\n",
    "    end\n",
    "    return du[:]\n",
    "end"
   ]
  },
  {
   "cell_type": "code",
   "execution_count": 14,
   "metadata": {},
   "outputs": [
    {
     "data": {
      "text/plain": [
       "evolution_fast (generic function with 1 method)"
      ]
     },
     "execution_count": 14,
     "metadata": {},
     "output_type": "execute_result"
    }
   ],
   "source": [
    "function evolution_fast(du,u,par,t)\n",
    "    # this is the function that is taken by the time-integrator\n",
    "    par_eq, par_inv, h, U, M, Flux, Speed_max, Source, c_to_f, par_mem = par\n",
    "    \n",
    "    χ, ξ = par_eq\n",
    "    \n",
    "    #p_direct = (χ, U, M) #these are the parameters for direct\n",
    "    #c_to_f_direct!(u,p_direct)\n",
    "    c_to_f!(u,par_inv)\n",
    "    \n",
    "    par_mp5 = (h, U, M, χ, par_eq, Flux, Speed_max, Source, par_mem)\n",
    "    \n",
    "    mp5!(du,u,par_mp5,t)\n",
    "    return du[:]\n",
    "end"
   ]
  },
  {
   "cell_type": "markdown",
   "metadata": {},
   "source": [
    "Me make a smaller `dt` evolution for a while in case that the field has to adjust to the sources in a very fast exponential way."
   ]
  },
  {
   "cell_type": "code",
   "execution_count": 15,
   "metadata": {
    "jupyter": {
     "source_hidden": true
    },
    "tags": []
   },
   "outputs": [],
   "source": [
    "if !Euler && big_pulse_to_the_right\n",
    "    u_r = zeros(U*M) # Initialization for the second, longer dt step.\n",
    "    prob_i = ODEProblem(evolution,u_i,(0.0,0.1*t),par); # solves without changing e and s\n",
    "\n",
    "    \n",
    "    #sol = solve(prob_euler_direct,SSPRK33(),dt=dt,saveat=0.01*t); # This, I think, is a TVD method\n",
    "    sol_i = solve(prob_i,SSPRK33(),dt=0.1*dt,saveat=0.01*t); \n",
    "    u_r = sol_i(0.1*t)\n",
    "\n",
    "    field = 1\n",
    "    #plot(x,reshape(sol(0.),(M,U))[:,field])\n",
    "    #plot!(x,reshape(sol(t/8),(M,U))[:,field])\n",
    "    #plot!(x,reshape(sol(t/4),(M,U))[:,field])\n",
    "    #plot!(x,reshape(sol(t/2),(M,U))[:,field])\n",
    "    plot(x,reshape(sol_i(t/1),(M,U))[:,field])\n",
    "\n",
    "    prob = ODEProblem(evolution,u_r,(0.1*t,0.5*t),par);\n",
    "    sol = solve(prob,SSPRK33(),dt=dt,saveat=0.01*t);\n",
    "\n",
    "    @bell sleep(3)\n",
    "\n",
    "\n",
    "    sol_i;\n",
    "\n",
    "    field = 4\n",
    "    plot(x,reshape(sol_i(0.1*t),(M,U))[:,field])\n",
    "    u_r = sol_i(0.1*t)\n",
    "    plot!(x,reshape(u_r,(M,U))[:,field])\n",
    "end"
   ]
  },
  {
   "cell_type": "code",
   "execution_count": 16,
   "metadata": {
    "jupyter": {
     "source_hidden": true
    },
    "tags": []
   },
   "outputs": [
    {
     "name": "stdout",
     "output_type": "stream",
     "text": [
      "iter_max reached j = 8\n",
      "iter_max reached j = 9\n",
      "iter_max reached j = 8\n",
      "iter_max reached j = 8\n",
      "iter_max reached j = 9\n",
      "iter_max reached j = 8\n",
      "iter_max reached j = 9\n",
      "iter_max reached j = 8\n",
      "iter_max reached j = 9\n",
      "iter_max reached j = 8\n",
      "iter_max reached j = 9\n",
      "iter_max reached j = 8\n",
      "iter_max reached j = 9\n"
     ]
    },
    {
     "ename": "LoadError",
     "evalue": "DomainError with -500.0373041979586:\nExponentiation yielding a complex result requires a complex argument.\nReplace x^y with (x+0im)^y, Complex(x)^y, or similar.",
     "output_type": "error",
     "traceback": [
      "DomainError with -500.0373041979586:\nExponentiation yielding a complex result requires a complex argument.\nReplace x^y with (x+0im)^y, Complex(x)^y, or similar.",
      "",
      "Stacktrace:",
      "  [1] throw_exp_domainerror(x::Float64)",
      "    @ Base.Math ./math.jl:37",
      "  [2] ^",
      "    @ ./math.jl:901 [inlined]",
      "  [3] ^",
      "    @ ./rational.jl:457 [inlined]",
      "  [4] F(flu::Vector{Float64}, con::Vector{Float64}, χ::Vector{Float64})",
      "    @ Main ~/Julia/Fluidos_Conformes/inversion_ext.jl:19",
      "  [5] c_to_f!(u::Vector{Float64}, p::Tuple{Vector{Float64}, Float64, Int64, Int64, Int64})",
      "    @ Main ~/Julia/Fluidos_Conformes/inversion_ext.jl:116",
      "  [6] evolution_fast",
      "    @ ./In[14]:9 [inlined]",
      "  [7] ODEFunction",
      "    @ ~/.julia/packages/SciMLBase/EFFG1/src/scimlfunctions.jl:334 [inlined]",
      "  [8] perform_step!(integrator::OrdinaryDiffEq.ODEIntegrator{SSPRK33{typeof(OrdinaryDiffEq.trivial_limiter!), typeof(OrdinaryDiffEq.trivial_limiter!)}, true, Vector{Float64}, Nothing, Float64, Tuple{Tuple{Vector{Float64}, Vector{Float64}}, Tuple{Vector{Float64}, Float64, Int64, Int64, Int64}, Float64, Int64, Int64, typeof(Flux!), typeof(Speed_max), typeof(Is!), typeof(c_to_f!), NTuple{21, Vector{Float64}}}, Float64, Float64, Float64, Vector{Vector{Float64}}, ODESolution{Float64, 2, Vector{Vector{Float64}}, Nothing, Nothing, Vector{Float64}, Vector{Vector{Vector{Float64}}}, ODEProblem{Vector{Float64}, Tuple{Float64, Float64}, true, Tuple{Tuple{Vector{Float64}, Vector{Float64}}, Tuple{Vector{Float64}, Float64, Int64, Int64, Int64}, Float64, Int64, Int64, typeof(Flux!), typeof(Speed_max), typeof(Is!), typeof(c_to_f!), NTuple{21, Vector{Float64}}}, ODEFunction{true, typeof(evolution_fast), LinearAlgebra.UniformScaling{Bool}, Nothing, Nothing, Nothing, Nothing, Nothing, Nothing, Nothing, Nothing, Nothing, Nothing, Nothing, Nothing, typeof(SciMLBase.DEFAULT_OBSERVED), Nothing}, Base.Iterators.Pairs{Union{}, Union{}, Tuple{}, NamedTuple{(), Tuple{}}}, SciMLBase.StandardODEProblem}, SSPRK33{typeof(OrdinaryDiffEq.trivial_limiter!), typeof(OrdinaryDiffEq.trivial_limiter!)}, OrdinaryDiffEq.InterpolationData{ODEFunction{true, typeof(evolution_fast), LinearAlgebra.UniformScaling{Bool}, Nothing, Nothing, Nothing, Nothing, Nothing, Nothing, Nothing, Nothing, Nothing, Nothing, Nothing, Nothing, typeof(SciMLBase.DEFAULT_OBSERVED), Nothing}, Vector{Vector{Float64}}, Vector{Float64}, Vector{Vector{Vector{Float64}}}, OrdinaryDiffEq.SSPRK33Cache{Vector{Float64}, Vector{Float64}, typeof(OrdinaryDiffEq.trivial_limiter!), typeof(OrdinaryDiffEq.trivial_limiter!)}}, DiffEqBase.DEStats}, ODEFunction{true, typeof(evolution_fast), LinearAlgebra.UniformScaling{Bool}, Nothing, Nothing, Nothing, Nothing, Nothing, Nothing, Nothing, Nothing, Nothing, Nothing, Nothing, Nothing, typeof(SciMLBase.DEFAULT_OBSERVED), Nothing}, OrdinaryDiffEq.SSPRK33Cache{Vector{Float64}, Vector{Float64}, typeof(OrdinaryDiffEq.trivial_limiter!), typeof(OrdinaryDiffEq.trivial_limiter!)}, OrdinaryDiffEq.DEOptions{Float64, Float64, Float64, Float64, typeof(DiffEqBase.ODE_DEFAULT_NORM), typeof(LinearAlgebra.opnorm), Nothing, CallbackSet{Tuple{}, Tuple{}}, typeof(DiffEqBase.ODE_DEFAULT_ISOUTOFDOMAIN), typeof(DiffEqBase.ODE_DEFAULT_PROG_MESSAGE), typeof(DiffEqBase.ODE_DEFAULT_UNSTABLE_CHECK), DataStructures.BinaryMinHeap{Float64}, DataStructures.BinaryMinHeap{Float64}, Nothing, Nothing, Int64, Tuple{}, Float64, Tuple{}}, Vector{Float64}, Float64, Nothing, OrdinaryDiffEq.DefaultInit}, cache::OrdinaryDiffEq.SSPRK33Cache{Vector{Float64}, Vector{Float64}, typeof(OrdinaryDiffEq.trivial_limiter!), typeof(OrdinaryDiffEq.trivial_limiter!)}, repeat_step::Bool)",
      "    @ OrdinaryDiffEq ~/.julia/packages/OrdinaryDiffEq/IOPED/src/perform_step/ssprk_perform_step.jl:378",
      "  [9] perform_step!",
      "    @ ~/.julia/packages/OrdinaryDiffEq/IOPED/src/perform_step/ssprk_perform_step.jl:367 [inlined]",
      " [10] solve!(integrator::OrdinaryDiffEq.ODEIntegrator{SSPRK33{typeof(OrdinaryDiffEq.trivial_limiter!), typeof(OrdinaryDiffEq.trivial_limiter!)}, true, Vector{Float64}, Nothing, Float64, Tuple{Tuple{Vector{Float64}, Vector{Float64}}, Tuple{Vector{Float64}, Float64, Int64, Int64, Int64}, Float64, Int64, Int64, typeof(Flux!), typeof(Speed_max), typeof(Is!), typeof(c_to_f!), NTuple{21, Vector{Float64}}}, Float64, Float64, Float64, Vector{Vector{Float64}}, ODESolution{Float64, 2, Vector{Vector{Float64}}, Nothing, Nothing, Vector{Float64}, Vector{Vector{Vector{Float64}}}, ODEProblem{Vector{Float64}, Tuple{Float64, Float64}, true, Tuple{Tuple{Vector{Float64}, Vector{Float64}}, Tuple{Vector{Float64}, Float64, Int64, Int64, Int64}, Float64, Int64, Int64, typeof(Flux!), typeof(Speed_max), typeof(Is!), typeof(c_to_f!), NTuple{21, Vector{Float64}}}, ODEFunction{true, typeof(evolution_fast), LinearAlgebra.UniformScaling{Bool}, Nothing, Nothing, Nothing, Nothing, Nothing, Nothing, Nothing, Nothing, Nothing, Nothing, Nothing, Nothing, typeof(SciMLBase.DEFAULT_OBSERVED), Nothing}, Base.Iterators.Pairs{Union{}, Union{}, Tuple{}, NamedTuple{(), Tuple{}}}, SciMLBase.StandardODEProblem}, SSPRK33{typeof(OrdinaryDiffEq.trivial_limiter!), typeof(OrdinaryDiffEq.trivial_limiter!)}, OrdinaryDiffEq.InterpolationData{ODEFunction{true, typeof(evolution_fast), LinearAlgebra.UniformScaling{Bool}, Nothing, Nothing, Nothing, Nothing, Nothing, Nothing, Nothing, Nothing, Nothing, Nothing, Nothing, Nothing, typeof(SciMLBase.DEFAULT_OBSERVED), Nothing}, Vector{Vector{Float64}}, Vector{Float64}, Vector{Vector{Vector{Float64}}}, OrdinaryDiffEq.SSPRK33Cache{Vector{Float64}, Vector{Float64}, typeof(OrdinaryDiffEq.trivial_limiter!), typeof(OrdinaryDiffEq.trivial_limiter!)}}, DiffEqBase.DEStats}, ODEFunction{true, typeof(evolution_fast), LinearAlgebra.UniformScaling{Bool}, Nothing, Nothing, Nothing, Nothing, Nothing, Nothing, Nothing, Nothing, Nothing, Nothing, Nothing, Nothing, typeof(SciMLBase.DEFAULT_OBSERVED), Nothing}, OrdinaryDiffEq.SSPRK33Cache{Vector{Float64}, Vector{Float64}, typeof(OrdinaryDiffEq.trivial_limiter!), typeof(OrdinaryDiffEq.trivial_limiter!)}, OrdinaryDiffEq.DEOptions{Float64, Float64, Float64, Float64, typeof(DiffEqBase.ODE_DEFAULT_NORM), typeof(LinearAlgebra.opnorm), Nothing, CallbackSet{Tuple{}, Tuple{}}, typeof(DiffEqBase.ODE_DEFAULT_ISOUTOFDOMAIN), typeof(DiffEqBase.ODE_DEFAULT_PROG_MESSAGE), typeof(DiffEqBase.ODE_DEFAULT_UNSTABLE_CHECK), DataStructures.BinaryMinHeap{Float64}, DataStructures.BinaryMinHeap{Float64}, Nothing, Nothing, Int64, Tuple{}, Float64, Tuple{}}, Vector{Float64}, Float64, Nothing, OrdinaryDiffEq.DefaultInit})",
      "    @ OrdinaryDiffEq ~/.julia/packages/OrdinaryDiffEq/IOPED/src/solve.jl:456",
      " [11] #__solve#403",
      "    @ ~/.julia/packages/OrdinaryDiffEq/IOPED/src/solve.jl:5 [inlined]",
      " [12] #solve_call#56",
      "    @ ~/.julia/packages/DiffEqBase/GmecW/src/solve.jl:61 [inlined]",
      " [13] solve_up(prob::ODEProblem{Vector{Float64}, Tuple{Float64, Float64}, true, Tuple{Tuple{Vector{Float64}, Vector{Float64}}, Tuple{Vector{Float64}, Float64, Int64, Int64, Int64}, Float64, Int64, Int64, typeof(Flux!), typeof(Speed_max), typeof(Is!), typeof(c_to_f!), NTuple{21, Vector{Float64}}}, ODEFunction{true, typeof(evolution_fast), LinearAlgebra.UniformScaling{Bool}, Nothing, Nothing, Nothing, Nothing, Nothing, Nothing, Nothing, Nothing, Nothing, Nothing, Nothing, Nothing, typeof(SciMLBase.DEFAULT_OBSERVED), Nothing}, Base.Iterators.Pairs{Union{}, Union{}, Tuple{}, NamedTuple{(), Tuple{}}}, SciMLBase.StandardODEProblem}, sensealg::Nothing, u0::Vector{Float64}, p::Tuple{Tuple{Vector{Float64}, Vector{Float64}}, Tuple{Vector{Float64}, Float64, Int64, Int64, Int64}, Float64, Int64, Int64, typeof(Flux!), typeof(Speed_max), typeof(Is!), typeof(c_to_f!), NTuple{21, Vector{Float64}}}, args::SSPRK33{typeof(OrdinaryDiffEq.trivial_limiter!), typeof(OrdinaryDiffEq.trivial_limiter!)}; kwargs::Base.Iterators.Pairs{Symbol, Float64, Tuple{Symbol, Symbol}, NamedTuple{(:dt, :saveat), Tuple{Float64, Float64}}})",
      "    @ DiffEqBase ~/.julia/packages/DiffEqBase/GmecW/src/solve.jl:82",
      " [14] #solve#57",
      "    @ ~/.julia/packages/DiffEqBase/GmecW/src/solve.jl:70 [inlined]",
      " [15] top-level scope",
      "    @ In[16]:2",
      " [16] eval",
      "    @ ./boot.jl:360 [inlined]",
      " [17] include_string(mapexpr::typeof(REPL.softscope), mod::Module, code::String, filename::String)",
      "    @ Base ./loading.jl:1094"
     ]
    }
   ],
   "source": [
    "prob = ODEProblem(evolution_fast,u_i,(0.0,t),par);\n",
    "sol = solve(prob,SSPRK33(),dt=dt,saveat=0.01*t);\n",
    "    #sol = solve(prob,SSPRK33(),saveat=0.01*t);\n",
    "#sol = solve(prob,SSPRK33(),dt=dt,save_everystep=false) # to get just the end values\n",
    "#sol = solve(prob,RK4(),dt=dt);\n",
    "@bell sleep(3)"
   ]
  },
  {
   "cell_type": "code",
   "execution_count": 17,
   "metadata": {
    "jupyter": {
     "source_hidden": true
    },
    "tags": []
   },
   "outputs": [
    {
     "ename": "LoadError",
     "evalue": "UndefVarError: sol not defined",
     "output_type": "error",
     "traceback": [
      "UndefVarError: sol not defined",
      "",
      "Stacktrace:",
      " [1] top-level scope",
      "   @ In[17]:1",
      " [2] eval",
      "   @ ./boot.jl:360 [inlined]",
      " [3] include_string(mapexpr::typeof(REPL.softscope), mod::Module, code::String, filename::String)",
      "   @ Base ./loading.jl:1094"
     ]
    }
   ],
   "source": [
    "save(\"Resultados/Soluciones/$out_name*_fast.jld2\", Dict(\"$out_name*_fast\" => sol))\n",
    "#sol = load(\"Resultados/Soluciones/$name.jld2\",\"$name\");"
   ]
  },
  {
   "cell_type": "code",
   "execution_count": 18,
   "metadata": {},
   "outputs": [
    {
     "ename": "LoadError",
     "evalue": "UndefVarError: sol not defined",
     "output_type": "error",
     "traceback": [
      "UndefVarError: sol not defined",
      "",
      "Stacktrace:",
      " [1] top-level scope",
      "   @ In[18]:8",
      " [2] eval",
      "   @ ./boot.jl:360 [inlined]",
      " [3] include_string(mapexpr::typeof(REPL.softscope), mod::Module, code::String, filename::String)",
      "   @ Base ./loading.jl:1094"
     ]
    }
   ],
   "source": [
    "#sol(t) = sol_nr_p5(t) - sol_nr_n0(t)\n",
    "#sol(t) = sol_n0_0(t)\n",
    "field = 1\n",
    "#plot(x,reshape(sol(0.),(M,U))[:,field])\n",
    "#plot!(x,reshape(sol(t/8),(M,U))[:,field])\n",
    "#plot!(x,reshape(sol(t/4),(M,U))[:,field])\n",
    "#plot!(x,reshape(sol(t/2),(M,U))[:,field])\n",
    "plot(x,reshape(sol(t),(M,U))[:,field])"
   ]
  },
  {
   "cell_type": "code",
   "execution_count": 19,
   "metadata": {},
   "outputs": [
    {
     "ename": "LoadError",
     "evalue": "UndefVarError: sol not defined",
     "output_type": "error",
     "traceback": [
      "UndefVarError: sol not defined",
      "",
      "Stacktrace:",
      " [1] macro expansion",
      "   @ ./In[19]:6 [inlined]",
      " [2] top-level scope",
      "   @ ~/.julia/packages/Plots/lzHOt/src/animation.jl:183",
      " [3] eval",
      "   @ ./boot.jl:360 [inlined]",
      " [4] include_string(mapexpr::typeof(REPL.softscope), mod::Module, code::String, filename::String)",
      "   @ Base ./loading.jl:1094"
     ]
    }
   ],
   "source": [
    "##### ssol(t) = sol_dir_n0(t)\n",
    "#ssol(t) = sol(t)\n",
    "t=4\n",
    "shift = 0# U÷2 # 0 is conserv otherwise is fluid\n",
    "anim = @animate for i ∈ 1:100\n",
    "    plot(reshape(sol(t*0.01*i),(M,U))[:,shift+1] .- 6.0,label=\"e\", yaxis = (\"conserv\", (-0.1,0.1)))\n",
    "    plot!(reshape(sol(t*0.01*i),(M,U))[:,shift+2] .- 0.,label=\"s\")\n",
    "    plot!(reshape(sol(t*0.01*i),(M,U))[:,shift+3],label=\"c1\")\n",
    "    plot!(reshape(sol(t*0.01*i),(M,U))[:,shift+4],label=\"c2\")\n",
    "    plot!(reshape(sol(t*0.01*i),(M,U))[:,shift+5],label=\"c3\")\n",
    "end\n",
    "\n",
    "gif(anim, \"Resultados/Movies/con_$out_name.gif\", fps = 10)"
   ]
  },
  {
   "cell_type": "code",
   "execution_count": 20,
   "metadata": {},
   "outputs": [
    {
     "ename": "LoadError",
     "evalue": "UndefVarError: sol not defined",
     "output_type": "error",
     "traceback": [
      "UndefVarError: sol not defined",
      "",
      "Stacktrace:",
      " [1] ssol(t::Float64)",
      "   @ Main ./In[20]:2",
      " [2] macro expansion",
      "   @ ./In[20]:5 [inlined]",
      " [3] top-level scope",
      "   @ ~/.julia/packages/Plots/lzHOt/src/animation.jl:183",
      " [4] eval",
      "   @ ./boot.jl:360 [inlined]",
      " [5] include_string(mapexpr::typeof(REPL.softscope), mod::Module, code::String, filename::String)",
      "   @ Base ./loading.jl:1094"
     ]
    }
   ],
   "source": [
    "#ssol(t) = sol_dir_n0(t)\n",
    "ssol(t) = sol(t)\n",
    "shift = U÷2 # 0 is conserv otherwise is fluid\n",
    "anim = @animate for i ∈ 1:100\n",
    "    plot(reshape(ssol(t*0.01*i),(M,U))[:,shift+1] .+ 1,label=\"μ\", yaxis = (\"fluid\", (-1.5,1.5)))\n",
    "    plot!(20 .*(reshape(ssol(t*0.01*i),(M,U))[:,shift+2]) ,label=\"v\")\n",
    "    plot!(reshape(ssol(t*0.01*i),(M,U))[:,shift+3].*50 ,label=\"x1\")\n",
    "    plot!(reshape(ssol(t*0.01*i),(M,U))[:,shift+4].*50 ,label=\"x2\")\n",
    "    plot!(reshape(ssol(t*0.01*i),(M,U))[:,shift+5].*50 ,label=\"x3\")\n",
    "end\n",
    "\n",
    "gif(anim, \"Resultados/Movies/flu_$out_name.gif\", fps = 10)"
   ]
  },
  {
   "cell_type": "code",
   "execution_count": 21,
   "metadata": {},
   "outputs": [
    {
     "ename": "LoadError",
     "evalue": "UndefVarError: sol not defined",
     "output_type": "error",
     "traceback": [
      "UndefVarError: sol not defined",
      "",
      "Stacktrace:",
      " [1] ssol(t::Int64)",
      "   @ Main ./In[21]:2",
      " [2] top-level scope",
      "   @ In[21]:5",
      " [3] eval",
      "   @ ./boot.jl:360 [inlined]",
      " [4] include_string(mapexpr::typeof(REPL.softscope), mod::Module, code::String, filename::String)",
      "   @ Base ./loading.jl:1094"
     ]
    }
   ],
   "source": [
    "##### ssol(t) = sol_dir_n0(t)\n",
    "ssol(t) = sol(t)\n",
    "t = 2\n",
    "shift = 0# U÷2 # 0 is conserv otherwise is fluid\n",
    "    plot(reshape(ssol(t),(M,U))[:,shift+1] .- 6.0,label=\"e\", xlim = (0,600), yaxis = (\"conserv\", (-1,1)))\n",
    "    plot!(reshape(ssol(t),(M,U))[:,shift+2] .- 0.,label=\"s\")\n",
    "    plot!(reshape(ssol(t),(M,U))[:,shift+3],label=\"c1\")\n",
    "    plot!(reshape(ssol(t),(M,U))[:,shift+4],label=\"c2\")\n",
    "    plot!(reshape(ssol(t),(M,U))[:,shift+5],label=\"c3\")"
   ]
  },
  {
   "cell_type": "markdown",
   "metadata": {},
   "source": [
    "#### Aquí siguen celdas que solo importan para pruebas."
   ]
  },
  {
   "cell_type": "markdown",
   "metadata": {},
   "source": [
    "## Euler equations\n",
    "\n",
    "We recuperate Euler's equations setting $\\chi_1 = 0$ and the dissipative variables to zero. That way the systems decouple. And we get: (the notation here is a bit misleading,\n",
    "here $\\rho \\approx e$ Different from $E = (\\rho + p) = 4/3 \\rho$, since $p = \\frac{1}{3}\\rho$ and so $s = Ev = 4/3 e v$\n",
    "\n",
    "$F_e = \\frac{4}{3}ργ^2v = s$\n",
    "\n",
    "$F_s = \\frac{4}{3}ρ(γ^2v^2 + \\frac{1}{4}) = \\frac{1}{3}ργ^2(4 v^2 + \\frac{1}{\\gamma^2} = \n",
    "\\frac{1}{3}ργ^2(3v^2 + 1) $\n",
    "\n",
    "$e = \\frac{4}{3}ρ(γ^2 - \\frac{1}{4}) = \\frac{1}{3}ργ^2(4 - \\frac{1}{\\gamma^2}) = \\frac{1}{3}ργ^2(3 + v^2)$\n",
    "\n",
    "$s = \\frac{4}{3}ργ^2v$\n",
    "\n",
    "$4\\frac{e}{s}v - (3 + v^2) = 0$\n",
    "\n",
    "$v = 2\\frac{e}{s} \\pm \\sqrt{4(\\frac{e}{s})^2 -3}$\n",
    "\n",
    "$v_- =  \\frac{3}{2\\frac{e}{s} + \\sqrt{4(\\frac{e}{s})^2 -3}} \\approx \\frac{3s}{4e}$\n"
   ]
  },
  {
   "cell_type": "code",
   "execution_count": 21,
   "metadata": {
    "jupyter": {
     "source_hidden": true
    },
    "tags": []
   },
   "outputs": [
    {
     "data": {
      "text/plain": [
       "evolution_euler_direct (generic function with 1 method)"
      ]
     },
     "execution_count": 21,
     "metadata": {},
     "output_type": "execute_result"
    }
   ],
   "source": [
    "function evolution_euler_direct(du,u,par,t) # here χ₁=0!\n",
    "    # this is the function that is taken by the time-integrator\n",
    "    par_eq, par_inv, h_1, U, M, Flux, Speed_max, Source, c_to_f = par\n",
    "    χ = par_eq\n",
    "    \n",
    "    p_direct = (χ, U, M) #these are the parameters for direct\n",
    "    c_to_f_direct!(u,p_direct)\n",
    "    #c_to_f!(u,par_inv)\n",
    "    \n",
    "    par_mp5 = (h_1, U, M, χ, χ, Flux, Speed_max, Source)\n",
    "    for j ∈ 1:M\n",
    "        mp5(du,u,par_mp5,j)\n",
    "    end\n",
    "    return du[:]\n",
    "end"
   ]
  },
  {
   "cell_type": "code",
   "execution_count": 22,
   "metadata": {
    "jupyter": {
     "source_hidden": true
    },
    "tags": []
   },
   "outputs": [],
   "source": [
    "\n",
    "prob_euler_direct = ODEProblem(evolution_euler_direct,u_i,(0.0,t),par);"
   ]
  },
  {
   "cell_type": "code",
   "execution_count": 23,
   "metadata": {
    "jupyter": {
     "source_hidden": true
    },
    "tags": []
   },
   "outputs": [
    {
     "ename": "LoadError",
     "evalue": "UndefVarError: sol_nr_n0 not defined",
     "output_type": "error",
     "traceback": [
      "UndefVarError: sol_nr_n0 not defined",
      "",
      "Stacktrace:",
      " [1] dsol(t::Float64)",
      "   @ Main ./In[23]:2",
      " [2] top-level scope",
      "   @ In[23]:3",
      " [3] eval",
      "   @ ./boot.jl:360 [inlined]",
      " [4] include_string(mapexpr::typeof(REPL.softscope), mod::Module, code::String, filename::String)",
      "   @ Base ./loading.jl:1094"
     ]
    }
   ],
   "source": [
    "#sol = sol_dir_n0;\n",
    "dsol(t) = sol_nr_n0(t) - sol_dir_n0(t);\n",
    "reshape(dsol(0.),(M,U))[:,1];"
   ]
  },
  {
   "cell_type": "code",
   "execution_count": 24,
   "metadata": {
    "jupyter": {
     "source_hidden": true
    },
    "tags": []
   },
   "outputs": [
    {
     "ename": "LoadError",
     "evalue": "UndefVarError: sol_nr_n0 not defined",
     "output_type": "error",
     "traceback": [
      "UndefVarError: sol_nr_n0 not defined",
      "",
      "Stacktrace:",
      " [1] top-level scope",
      "   @ In[24]:2",
      " [2] eval",
      "   @ ./boot.jl:360 [inlined]",
      " [3] include_string(mapexpr::typeof(REPL.softscope), mod::Module, code::String, filename::String)",
      "   @ Base ./loading.jl:1094"
     ]
    }
   ],
   "source": [
    "field = 1\n",
    "plot(reshape(sol_nr_n0(0.),(M,U))[:,field] .- reshape(sol_dir_n0(0.),(M,U))[:,field])\n",
    "plot!(reshape(sol_nr_n0(t/8),(M,U))[:,field] .- reshape(sol_dir_n0(t/8),(M,U))[:,field])\n",
    "plot!(reshape(sol_nr_n0(t/4),(M,U))[:,field] .- reshape(sol_dir_n0(t/4),(M,U))[:,field])\n",
    "plot!(reshape(sol_nr_n0(t/2.1),(M,U))[:,field] .- reshape(sol_dir_n0(t/2.1),(M,U))[:,field])\n",
    "#plot!(reshape(sol_nr_n0(t/1.1),(M,U))[:,field] .- reshape(sol_dir_n0(t/1.1),(M,U))[:,field])"
   ]
  },
  {
   "cell_type": "code",
   "execution_count": 25,
   "metadata": {
    "jupyter": {
     "source_hidden": true
    },
    "tags": []
   },
   "outputs": [
    {
     "ename": "LoadError",
     "evalue": "UndefVarError: sol_nr_n0 not defined",
     "output_type": "error",
     "traceback": [
      "UndefVarError: sol_nr_n0 not defined",
      "",
      "Stacktrace:",
      " [1] dsol(t::Float64)",
      "   @ Main ./In[23]:2",
      " [2] macro expansion",
      "   @ ./In[25]:2 [inlined]",
      " [3] top-level scope",
      "   @ ~/.julia/packages/Plots/lzHOt/src/animation.jl:183",
      " [4] eval",
      "   @ ./boot.jl:360 [inlined]",
      " [5] include_string(mapexpr::typeof(REPL.softscope), mod::Module, code::String, filename::String)",
      "   @ Base ./loading.jl:1094"
     ]
    }
   ],
   "source": [
    "anim = @animate for i ∈ 1:100\n",
    "    plot(reshape(dsol(t*0.01*i),(M,U))[:,1],label=\"e\", yaxis = (\"conserv\", (-1e-7,1e-7)))\n",
    "    plot!(reshape(dsol(t*0.01*i),(M,U))[:,2],label=\"s\")\n",
    "    plot!(reshape(dsol(t*0.01*i),(M,U))[:,3],label=\"c1\")\n",
    "    plot!(reshape(dsol(t*0.01*i),(M,U))[:,4],label=\"c2\")\n",
    "    plot!(reshape(dsol(t*0.01*i),(M,U))[:,5],label=\"c3\")\n",
    "end\n",
    "\n",
    "gif(anim, \"ff_n0_dif_anim_fps10.gif\", fps = 10)"
   ]
  },
  {
   "cell_type": "code",
   "execution_count": 26,
   "metadata": {
    "jupyter": {
     "source_hidden": true
    },
    "tags": []
   },
   "outputs": [
    {
     "ename": "LoadError",
     "evalue": "UndefVarError: sol_nr_n0 not defined",
     "output_type": "error",
     "traceback": [
      "UndefVarError: sol_nr_n0 not defined",
      "",
      "Stacktrace:",
      " [1] dsol(t::Float64)",
      "   @ Main ./In[23]:2",
      " [2] macro expansion",
      "   @ ./In[26]:2 [inlined]",
      " [3] top-level scope",
      "   @ ~/.julia/packages/Plots/lzHOt/src/animation.jl:183",
      " [4] eval",
      "   @ ./boot.jl:360 [inlined]",
      " [5] include_string(mapexpr::typeof(REPL.softscope), mod::Module, code::String, filename::String)",
      "   @ Base ./loading.jl:1094"
     ]
    }
   ],
   "source": [
    "anim = @animate for i ∈ 1:100\n",
    "    plot(reshape(dsol(t*0.01*i),(M,U))[:,5+1],label=\"μ\", yaxis = (\"fluid\", (-1e-8,1e-8)))\n",
    "    plot!(reshape(dsol(t*0.01*i),(M,U))[:,5+2],label=\"v\")\n",
    "    plot!(reshape(dsol(t*0.01*i),(M,U))[:,5+3],label=\"X1\")\n",
    "    plot!(reshape(dsol(t*0.01*i),(M,U))[:,5+4],label=\"X2\")\n",
    "    plot!(reshape(dsol(t*0.01*i),(M,U))[:,5+5],label=\"X3\")\n",
    "end\n",
    "\n",
    "gif(anim, \"ff_n0_dif_anim_fps10.gif\", fps = 10)"
   ]
  },
  {
   "cell_type": "code",
   "execution_count": null,
   "metadata": {},
   "outputs": [],
   "source": []
  },
  {
   "cell_type": "code",
   "execution_count": 27,
   "metadata": {
    "jupyter": {
     "source_hidden": true
    },
    "tags": []
   },
   "outputs": [],
   "source": [
    "# the initial data\n",
    "# we give initial data in the fluid variables and then transform to conservatives\n",
    "\n",
    "u_i=zeros(M*U)\n",
    "con_0 = view(reshape(u_i,(M,U)),:,1:U÷2)\n",
    "flu_0 = view(reshape(u_i,(M,U)),:,U÷2+1:U)\n",
    "\n",
    "if speed_pulse\n",
    "    \n",
    "\n",
    "    x0 = 0.0; x1 = 0.2 #x0 = 0.4; x1 = 0.6\n",
    "    v0 = 0.0; δv = 0.1 \n",
    "\n",
    "    for i in 1:M\n",
    "        x[i] = dx*(i-1)\n",
    "        if x[i] > x0 && x[i] < x1\n",
    "            flu_0[i,2] = v0 + δv *(x[i] - x0)^4 * (x[i] - x1)^4 / (x1-x0)^8 * 250                   #Sz\n",
    "            flu_0[i,1] = -0.0 # * sin(pi*(x[i] - x0)/(x1-x0))^4 * sin(2*pi*(x[i] - x0)/(x1-x0))     #By\n",
    "        else\n",
    "            flu_0[i,2] = v0\n",
    "        end\n",
    "    \n",
    "        flu_0[i,1] = -1.   #\n",
    "    #flu_0[i,2] = flu_0[i,2] + 0.1  # v\n",
    "    \n",
    "    end\n",
    "f_to_c!(u_i, (χ, U, M)); # populate the conservative variables from the fluid ones\n",
    "end\n",
    "\n",
    "if small_pulse_to_the_right\n",
    "\n",
    "    e0 = 6.; δe = 0.1\n",
    "    x0 = 0.; x1 = 0.2\n",
    "    λ = 1. /sqrt(3.)\n",
    "    for i in 1:M\n",
    "        x[i] = dx*(i-1)\n",
    "        if x[i] > x0 && x[i] < x1\n",
    "            con_0[i,1] = e0 + δe *(x[i] - x0)^4 * (x[i] - x1)^4 / (x1-x0)^8 * 250                   #Sz\n",
    "            con_0[i,2] = λ*(con_0[i,1] - e0)\n",
    "        else\n",
    "            con_0[i,1] = e0\n",
    "            con_0[i,2] = 0.\n",
    "        end\n",
    "            flu_0[i,1] = -1.\n",
    "    end\n",
    "    par_inv = (χ, tol, 10000, U, M)\n",
    "    u_i = c_to_f!(u_i,par_inv);\n",
    "    reshape(u_i,U,M)\n",
    "end\n",
    "\n",
    "if big_pulse_to_the_right || big_pulse_negative_I\n",
    "    \n",
    "\n",
    "    e0 = 6.; δe = 4.0\n",
    "    x0 = 0.; x1 = 0.2\n",
    "    λ = 1. /sqrt(3.)\n",
    "    for i in 1:M\n",
    "        x[i] = dx*(i-1)\n",
    "        if x[i] > x0 && x[i] < x1\n",
    "            con_0[i,1] = e0 + δe *(x[i] - x0)^4 * (x[i] - x1)^4 / (x1-x0)^8 * 250                   #Sz\n",
    "            con_0[i,2] = λ*(con_0[i,1] - e0)\n",
    "        else\n",
    "            con_0[i,1] = e0\n",
    "            con_0[i,2] = 0.\n",
    "        end\n",
    "            flu_0[i,1] = -sqrt(con_0[i,1])/6\n",
    "    end\n",
    "    \n",
    "    if !Euler\n",
    "        χ_int = [- 1.0; -0.; - 10.0] #primero nos aproximamos a la solución con χ₁=0\n",
    "        par_inv = (χ, tol, 1000, U, M)\n",
    "        u_i = c_to_f!(u_i,par_inv);\n",
    "        χ = [- 1.0; -0.5; - 10.0] #luego buscamos la buena con la semilla anterior\n",
    "        par_inv = (χ, tol, 1000, U, M)\n",
    "        u_i = c_to_f!(u_i,par_inv);\n",
    "        #check!\n",
    "        if max(abs, f_to_c!(u_i,(χ,U,M)) - u_i) > 0.001\n",
    "            error(\"Not converging\")\n",
    "        end\n",
    "    else\n",
    "        u_i = c_to_f!(u_i,par_inv);\n",
    "    end\n",
    "        reshape(u_i,U,M)\n",
    "end\n",
    "\n",
    "if only_diss\n",
    "\n",
    "    e0 = 6.; δe = 0.0\n",
    "    x0 = 0.; x1 = 0.2\n",
    "    x10 = 0.1\n",
    "    x20 = 0.1\n",
    "    x30 = 0.1\n",
    "    #λ = 1. /sqrt(3.)\n",
    "    for i in 1:M\n",
    "        x[i] = dx*(i-1)\n",
    "        if x[i] > x0 && x[i] < x1\n",
    "            con_0[i,1] = e0\n",
    "            con_0[i,3] = x10 *(x[i] - x0)^4 * (x[i] - x1)^4 / (x1-x0)^8 * 250                   #Sz\n",
    "            con_0[i,4] = x20 *(x[i] - x0)^4 * (x[i] - x1)^4 / (x1-x0)^8 * 250 \n",
    "            con_0[i,5] = x30 *(x[i] - x0)^4 * (x[i] - x1)^4 / (x1-x0)^8 * 250 \n",
    "        else\n",
    "            con_0[i,1] = e0\n",
    "        end\n",
    "        flu_0[i,1] = -1.\n",
    "    end\n",
    "        u_i = c_to_f!(u_i,par_inv);\n",
    "        reshape(u_i,U,M);\n",
    "end"
   ]
  }
 ],
 "metadata": {
  "author": "\\rho",
  "kernelspec": {
   "display_name": "Julia 1.6.1",
   "language": "julia",
   "name": "julia-1.6"
  },
  "language_info": {
   "file_extension": ".jl",
   "mimetype": "application/julia",
   "name": "julia",
   "version": "1.6.1"
  },
  "latex_envs": {
   "LaTeX_envs_menu_present": true,
   "autoclose": false,
   "autocomplete": true,
   "bibliofile": "biblio.bib",
   "cite_by": "apalike",
   "current_citInitial": 1,
   "eqLabelWithNumbers": true,
   "eqNumInitial": 1,
   "hotkeys": {
    "equation": "Ctrl-E",
    "itemize": "Ctrl-I"
   },
   "labels_anchors": false,
   "latex_user_defs": false,
   "report_style_numbering": false,
   "user_envs_cfg": false
  }
 },
 "nbformat": 4,
 "nbformat_minor": 4
}
