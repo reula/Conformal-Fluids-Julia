{
 "cells": [
  {
   "cell_type": "markdown",
   "metadata": {},
   "source": [
    "## Conformally invariant dissipative relativistic fluid\n",
    "\n",
    "Here we solve numerically the equations deduced in \\ref{xxx}\n",
    "\n",
    "### To Do:\n",
    "\n",
    "1. Use KT also (probably has a mistake to check first)\n",
    "2. Compare with the other code\n",
    "3. Try some other data\n",
    "4. Find some interesting (physically) data. The double shock is interesting and could be measured. "
   ]
  },
  {
   "cell_type": "code",
   "execution_count": 1,
   "metadata": {
    "tags": []
   },
   "outputs": [],
   "source": [
    "import Pkg; \n",
    "#Pkg.activate(mktempdir())\n",
    "#Pkg.add([\n",
    "#    Pkg.PackageSpec(name=\"DifferentialEquations\", version=\"6.16.0\"),\n",
    "#    Pkg.PackageSpec(name=\"Symbolics\", version=\"0.1.22\"),\n",
    "#    Pkg.PackageSpec(name=\"ForwardDiff\", version=\"0.10\"),\n",
    "#    Pkg.PackageSpec(name=\"Plots\", version=\"1\"),\n",
    "#    Pkg.PackageSpec(name=\"LaTeXStrings\", version=\"1\"),\n",
    "#    Pkg.PackageSpec(name=\"NonlinearSolve\", version=\"0.3\"),\n",
    "#    Pkg.PackageSpec(name=\"StaticArrays\", version=\"0.12\")\n",
    "    #Pkg.PackageSpec(name=\"OrdinaryDiffEq\", version=\"6.17.0\"),\n",
    "#    ])\n",
    "#Pkg.add(\"NonlinearSolve\")\n",
    "#Pkg.add(\"StaticArrays\")\n",
    "#Pkg.add(\"IJuliaBell\")\n",
    "#Pkg.add(\"Symbolics@0.1.22\")\n",
    "#Pkg.add(\"OrdinaryDiffEq@6.17.0\")\n",
    "#using NonlinearSolve \n",
    "using StaticArrays\n",
    "using Symbolics\n",
    "using OrdinaryDiffEq\n",
    "using Plots\n",
    "using FileIO\n",
    "using IJuliaBell"
   ]
  },
  {
   "cell_type": "code",
   "execution_count": 2,
   "metadata": {},
   "outputs": [],
   "source": [
    "#mkdir(\"Resultados/Soluciones\")"
   ]
  },
  {
   "cell_type": "markdown",
   "metadata": {},
   "source": [
    "We add the modules needed for the computation:\n",
    "\n",
    "    choques_utils are the mp5 and kt shock capturing schemes\n",
    "    \n",
    "    Flux_functions_ext contain the fluxes and sources for the system\n",
    "    \n",
    "    inversion_ext the inversion between conservative and fluid quantities\n",
    "    \n",
    "The ext means that we are considering a vector of 10 variables, 5 conservative and 5 fluid variables. The fluid variables are evolved with a zero time derivative, and are updated inside the evolution equation using the inversion function."
   ]
  },
  {
   "cell_type": "code",
   "execution_count": 3,
   "metadata": {},
   "outputs": [
    {
     "data": {
      "text/plain": [
       "5×5 Matrix{Rational{Int64}}:\n",
       " 1//1  0//1  0//1  0//1  0//1\n",
       " 0//1  1//1  0//1  0//1  0//1\n",
       " 0//1  0//1  3//4  0//1  1//4\n",
       " 0//1  0//1  0//1  1//2  0//1\n",
       " 0//1  0//1  1//4  0//1  3//4"
      ]
     },
     "execution_count": 3,
     "metadata": {},
     "output_type": "execute_result"
    }
   ],
   "source": [
    "include(\"inversion_ext.jl\")"
   ]
  },
  {
   "cell_type": "code",
   "execution_count": 4,
   "metadata": {},
   "outputs": [
    {
     "data": {
      "text/plain": [
       "10"
      ]
     },
     "execution_count": 4,
     "metadata": {},
     "output_type": "execute_result"
    }
   ],
   "source": [
    "U=10 # number of fields (double the number of fields, one for fluid and the other for conservative quantities)"
   ]
  },
  {
   "cell_type": "code",
   "execution_count": 45,
   "metadata": {},
   "outputs": [
    {
     "data": {
      "text/plain": [
       "#33 (generic function with 1 method)"
      ]
     },
     "execution_count": 45,
     "metadata": {},
     "output_type": "execute_result"
    }
   ],
   "source": [
    "include(\"choques_utils.jl\") # all functions needed for evolution\n",
    "include(\"Flux_function_ext.jl\")"
   ]
  },
  {
   "cell_type": "markdown",
   "metadata": {},
   "source": [
    "## Create initial data"
   ]
  },
  {
   "cell_type": "code",
   "execution_count": 46,
   "metadata": {},
   "outputs": [
    {
     "data": {
      "text/plain": [
       "create_initial_data (generic function with 1 method)"
      ]
     },
     "execution_count": 46,
     "metadata": {},
     "output_type": "execute_result"
    }
   ],
   "source": [
    "include(\"initial_data.jl\")"
   ]
  },
  {
   "cell_type": "markdown",
   "metadata": {
    "tags": []
   },
   "source": [
    "The initial data is created by giving a string characterizing it.\n",
    "\n",
    "According to the string, inside the function we create the initial data\n",
    "\n",
    "Some set of parameters:\n",
    "\n",
    "For instance: $v_0(x) = flu_0[i,2] = 0.1 + 0.1 * (x[i] - x0)^4 * (x[i] - x1)^4 / (x1-x0)^8 * 250 $ in the interval $[0.4,0.6]$\n",
    "\n",
    "$\\mu = flu_0[i,1] = -1.$\n",
    "\n",
    "You might give instead the conserved fields and find the fluid ones or viceversa. \n",
    "\n",
    "Below we look at different possibilities. \n",
    "Notice that here we also include several other evolution parameters since they can change according to the initial data chosen.\n"
   ]
  },
  {
   "cell_type": "code",
   "execution_count": 47,
   "metadata": {},
   "outputs": [
    {
     "data": {
      "text/plain": [
       "true"
      ]
     },
     "execution_count": 47,
     "metadata": {},
     "output_type": "execute_result"
    }
   ],
   "source": [
    "Euler = false\n",
    "sod = false    # No implementado\n",
    "speed_pulse = false # a simple speed pulse (no muy interesante pues hay pulsos en las dos direcciones)\n",
    "speed_pulse_initialized = false # a simple speed pulse with variables initialized\n",
    "temperature_pulse = false # a simple temperature μ pulse (no implementado)\n",
    "small_pulse_to_the_right = false # low velocity perturbation pulse in just one direction\n",
    "big_pulse_to_the_right = false # Choques (la velocidad no es muy alta todavía)\n",
    "constant_fields = false # todo constante\n",
    "big_pulse_negative_I = false\n",
    "only_diss = false\n",
    "# poner a continuación la que uno quiere usar con un true (así todos los demás quedan en false)\n",
    "\n",
    "#big_pulse_to_the_right = true\n",
    "#big_pulse_to_the_right_E = true\n",
    "#big_pulse_negative_I = true   #no parece funcionar\n",
    "#small_pulse_to_the_right = true\n",
    "#only_diss = true\n",
    "#speed_pulse = true\n",
    "speed_pulse_initialized = true\n",
    "#constant_fields = true\n",
    "#square = true\n",
    "\n",
    "#Euler = true"
   ]
  },
  {
   "cell_type": "code",
   "execution_count": 57,
   "metadata": {},
   "outputs": [
    {
     "data": {
      "text/plain": [
       "1.0"
      ]
     },
     "execution_count": 57,
     "metadata": {},
     "output_type": "execute_result"
    }
   ],
   "source": [
    "if speed_pulse\n",
    "    name = \"speed_pulse\"\n",
    "    out_name = \"speed_pulse\" \n",
    "    L=2.4 # Length of the integration region\n",
    "    M=600 # number of space-points in the discretization\n",
    "    tf=1. # final time\n",
    "    dx = L/M\n",
    "    dt = 0.01 * dx # this depends on the maximal propagation speed\n",
    "    tol = 10^(-10) # error tolerance in inversion function (Newton-Raphson)\n",
    "    iter_max = 40  # maximum number of NR iterations\n",
    "\n",
    "    χ = [1.,1.,0.01]# [1.,1.,0.06]# the equation parameters \n",
    "    ξ = 100π*[-10; 15; -1] # new source parámeters     1/κ, 1/λ, 1/η \n",
    "\n",
    "elseif speed_pulse_initialized    \n",
    "    name = \"speed_pulse_initialized\"\n",
    "    #out_name = \"speed_pulse_initialized_neg\" \n",
    "    out_name = \"speed_pulse_initialized_pos\" \n",
    "    L=2.4 # Length of the integration region\n",
    "    M=600 # number of space-points in the discretization\n",
    "    tf=1. # final time\n",
    "    dx = L/M\n",
    "    dt = 0.01 * dx # this depends on the maximal propagation speed\n",
    "    tol = 10^(-10) # error tolerance in inversion function (Newton-Raphson)\n",
    "    iter_max = 40  # maximum number of NR iterations\n",
    "\n",
    "    χ = [1.,0.1,0.01]# χ = [1.,1.,0.01] # the equation parameters \n",
    "    ξ = 100π*[-10; 15; -1] # new source parámeters     1/κ, 1/λ, 1/η \n",
    "    \n",
    "elseif square\n",
    "    name = \"square\"\n",
    "    out_name = \"square_pulse_short\" \n",
    "    L=1. # Length of the integration region\n",
    "    M=600 # number of space-points in the discretization\n",
    "    tf=0.5 # final time\n",
    "    dx = L/M\n",
    "    dt = 0.1 * dx # this depends on the maximal propagation speed\n",
    "    tol = 10^(-10) # error tolerance in inversion function (Newton-Raphson)\n",
    "    iter_max = 40  # maximum number of NR iterations\n",
    "\n",
    "    χ = [1.,1.,0.01]# [1.,1.,0.06]# the equation parameters \n",
    "    ξ = 100π*[-10; 15; -1] # new source parámeters     1/κ, 1/λ, 1/η \n",
    "    \n",
    "elseif sod # not yet implemnted it would be important!\n",
    "    name = \"sod\" \n",
    "    out_name = \"sod\" \n",
    "    L=1. # Length of the integration region\n",
    "    M=400 # number of space-points in the discretization\n",
    "    tf=2. # final time\n",
    "    dx = L/M\n",
    "    dt = 0.1 * dx # this depends on the maximal propagation speed\n",
    "    tol = 10^(-10) # error tolerance in inversion function (Newton-Raphson)\n",
    "    iter_max = 40  # maximum number of NR iterations\n",
    "\n",
    "    χ = [-1,-1,-20.] # the equation parameters \n",
    "    ξ = -100*π*[1, -15, -1] # new source parámeters     1/κ, 1/λ, 1/η \n",
    "\n",
    "elseif  small_pulse_to_the_right\n",
    "    name = \"small_pulse_to_the_right\"\n",
    "    out_name = \"small_right_p\" \n",
    "    L=1. # Length of the integration region\n",
    "    M=600 # number of space-points in the discretization\n",
    "    tf=4. # 4. final time\n",
    "    dx = L/M\n",
    "    dt = 0.1 * dx # this depends on the maximal propagation speed\n",
    "    tol = 10^(-10) # error tolerance in inversion function (Newton-Raphson)\n",
    "    iter_max = 40  # maximum number of NR iterations\n",
    "    χ = [-1,-1,-20.] # the equation parameters \n",
    "    ξ = -100*π*[1, -15, -1] # new source parámeters     1/κ, 1/λ, 1/η \n",
    "    \n",
    "elseif  big_pulse_to_the_right\n",
    "    name = \"big_pulse_to_the_right\"\n",
    "    out_name = \"big_right_long\" \n",
    "    L=4. # Length of the integration region\n",
    "    M=600 # number of space-points in the discretization\n",
    "    tf=80. # final time\n",
    "    dx = L/M\n",
    "    dt = 0.1 * dx # this depends on the maximal propagation speed\n",
    "    tol = 10^(-6) # error tolerance in inversion function (Newton-Raphson)\n",
    "    iter_max = 40  # maximum number of NR iterations\n",
    "    \n",
    "    χ = [1.,1.,0.01]# [1.,1.,0.06]# the equation parameters \n",
    "    ξ = 100π*[-10; 15; -1] # new source parámeters     1/κ, 1/λ, 1/η \n",
    "    \n",
    "elseif  constant_fields\n",
    "    name = \"constant_fields\"\n",
    "    out_name = \"constant_fields\" \n",
    "    L=1. # Length of the integration region\n",
    "    M=6 # number of space-points in the discretization\n",
    "    tf=10. # final time\n",
    "    dx = L/M\n",
    "    dt = 0.1 * dx # this depends on the maximal propagation speed\n",
    "    tol = 10^(-10) # error tolerance in inversion function (Newton-Raphson)\n",
    "    iter_max = 400  # maximum number of NR iterations\n",
    "    \n",
    "    χ = [-1,-1,-20.] # the equation parameters \n",
    "    ξ = -100*π*[1, -15, -1] # new source parámeters     1/κ, 1/λ, 1/η \n",
    "    \n",
    "elseif  only_diss # only runs the source\n",
    "    name = \"only_diss\"\n",
    "    out_name = name\n",
    "    L=4. # Length of the integration region\n",
    "    M=600 # number of space-points in the discretization\n",
    "    tf=1. # final time\n",
    "    dx = L/M\n",
    "    dt = 0.1 * dx # this depends on the maximal propagation speed\n",
    "    tol = 10^(-10) # error tolerance in inversion function (Newton-Raphson)\n",
    "    iter_max = 400  # maximum number of NR iterations\n",
    "    \n",
    "    χ = [-1,-1,-20.] # the equation parameters \n",
    "    ξ = -100*π*[1, -15, -1]; # new source parámeters     1/κ, 1/λ, 1/η  \n",
    "end\n",
    "tf"
   ]
  },
  {
   "cell_type": "code",
   "execution_count": 58,
   "metadata": {},
   "outputs": [],
   "source": [
    "par_eq = (χ, ξ) # parameters to use on the equations \n",
    "par_inv = (χ, tol, iter_max, U, M, f2c!, Jf2c) # parameters for the inversion\n",
    "    \n",
    "if Euler\n",
    "    χ[2] = 0.\n",
    "    χ[3] = 0.\n",
    "    out_name = name*\"_E\"\n",
    "#    par_eq = (χ, ξ) # parameters to use on the equations \n",
    "#    par_inv = (χ, tol, iter_max, U, M, f2c!, Jac_alt) # parameters for the inversion \n",
    "end"
   ]
  },
  {
   "cell_type": "markdown",
   "metadata": {},
   "source": [
    "The fields used for evolution. "
   ]
  },
  {
   "cell_type": "markdown",
   "metadata": {},
   "source": [
    "### Note on Initialization of initial data ###\n",
    "\n",
    "It has been defined vía the functions: `Initialize_data!(u,du,par,JA)` and the jacobian of `A(f_r,par)`, both in *Flux_function_ext.jl*. It is using only the $A_1$ part of $A^{abc}$ and the whole of the source. \n",
    "\n",
    "It seems it is not working propertly because it makes the initial jump of the initial data larger that when not using it!"
   ]
  },
  {
   "cell_type": "code",
   "execution_count": 59,
   "metadata": {
    "tags": []
   },
   "outputs": [
    {
     "data": {
      "text/plain": [
       "3-element Vector{Float64}:\n",
       " 1.0\n",
       " 0.1\n",
       " 0.01"
      ]
     },
     "execution_count": 59,
     "metadata": {},
     "output_type": "execute_result"
    }
   ],
   "source": [
    "u_i = zeros(M*U) # flux variables for the initial data (these are used for the flux function)\n",
    "du = zeros(M*U) # for the rhs\n",
    "par_inidat = χ, ξ, U, M, dx, Euler, f2c!, Jf2c , JA, Initialize_data!\n",
    "u_i = create_initial_data(name, u_i, par_inidat)\n",
    "con_0 = view(reshape(u_i,(M,U)),:,1:U÷2)\n",
    "flu_0 = view(reshape(u_i,(M,U)),:,U÷2+1:U);\n",
    "χ"
   ]
  },
  {
   "cell_type": "code",
   "execution_count": 60,
   "metadata": {},
   "outputs": [
    {
     "data": {
      "image/svg+xml": [
       "<?xml version=\"1.0\" encoding=\"utf-8\"?>\n",
       "<svg xmlns=\"http://www.w3.org/2000/svg\" xmlns:xlink=\"http://www.w3.org/1999/xlink\" width=\"600\" height=\"400\" viewBox=\"0 0 2400 1600\">\n",
       "<defs>\n",
       "  <clipPath id=\"clip040\">\n",
       "    <rect x=\"0\" y=\"0\" width=\"2400\" height=\"1600\"/>\n",
       "  </clipPath>\n",
       "</defs>\n",
       "<path clip-path=\"url(#clip040)\" d=\"\n",
       "M0 1600 L2400 1600 L2400 0 L0 0  Z\n",
       "  \" fill=\"#ffffff\" fill-rule=\"evenodd\" fill-opacity=\"1\"/>\n",
       "<defs>\n",
       "  <clipPath id=\"clip041\">\n",
       "    <rect x=\"480\" y=\"0\" width=\"1681\" height=\"1600\"/>\n",
       "  </clipPath>\n",
       "</defs>\n",
       "<path clip-path=\"url(#clip040)\" d=\"\n",
       "M224.098 1486.45 L2352.76 1486.45 L2352.76 47.2441 L224.098 47.2441  Z\n",
       "  \" fill=\"#ffffff\" fill-rule=\"evenodd\" fill-opacity=\"1\"/>\n",
       "<defs>\n",
       "  <clipPath id=\"clip042\">\n",
       "    <rect x=\"224\" y=\"47\" width=\"2130\" height=\"1440\"/>\n",
       "  </clipPath>\n",
       "</defs>\n",
       "<polyline clip-path=\"url(#clip042)\" style=\"stroke:#000000; stroke-linecap:butt; stroke-linejoin:round; stroke-width:2; stroke-opacity:0.1; fill:none\" points=\"\n",
       "  284.343,1486.45 284.343,47.2441 \n",
       "  \"/>\n",
       "<polyline clip-path=\"url(#clip042)\" style=\"stroke:#000000; stroke-linecap:butt; stroke-linejoin:round; stroke-width:2; stroke-opacity:0.1; fill:none\" points=\"\n",
       "  703.41,1486.45 703.41,47.2441 \n",
       "  \"/>\n",
       "<polyline clip-path=\"url(#clip042)\" style=\"stroke:#000000; stroke-linecap:butt; stroke-linejoin:round; stroke-width:2; stroke-opacity:0.1; fill:none\" points=\"\n",
       "  1122.48,1486.45 1122.48,47.2441 \n",
       "  \"/>\n",
       "<polyline clip-path=\"url(#clip042)\" style=\"stroke:#000000; stroke-linecap:butt; stroke-linejoin:round; stroke-width:2; stroke-opacity:0.1; fill:none\" points=\"\n",
       "  1541.54,1486.45 1541.54,47.2441 \n",
       "  \"/>\n",
       "<polyline clip-path=\"url(#clip042)\" style=\"stroke:#000000; stroke-linecap:butt; stroke-linejoin:round; stroke-width:2; stroke-opacity:0.1; fill:none\" points=\"\n",
       "  1960.61,1486.45 1960.61,47.2441 \n",
       "  \"/>\n",
       "<polyline clip-path=\"url(#clip040)\" style=\"stroke:#000000; stroke-linecap:butt; stroke-linejoin:round; stroke-width:4; stroke-opacity:1; fill:none\" points=\"\n",
       "  224.098,1486.45 2352.76,1486.45 \n",
       "  \"/>\n",
       "<polyline clip-path=\"url(#clip040)\" style=\"stroke:#000000; stroke-linecap:butt; stroke-linejoin:round; stroke-width:4; stroke-opacity:1; fill:none\" points=\"\n",
       "  284.343,1486.45 284.343,1469.18 \n",
       "  \"/>\n",
       "<polyline clip-path=\"url(#clip040)\" style=\"stroke:#000000; stroke-linecap:butt; stroke-linejoin:round; stroke-width:4; stroke-opacity:1; fill:none\" points=\"\n",
       "  703.41,1486.45 703.41,1469.18 \n",
       "  \"/>\n",
       "<polyline clip-path=\"url(#clip040)\" style=\"stroke:#000000; stroke-linecap:butt; stroke-linejoin:round; stroke-width:4; stroke-opacity:1; fill:none\" points=\"\n",
       "  1122.48,1486.45 1122.48,1469.18 \n",
       "  \"/>\n",
       "<polyline clip-path=\"url(#clip040)\" style=\"stroke:#000000; stroke-linecap:butt; stroke-linejoin:round; stroke-width:4; stroke-opacity:1; fill:none\" points=\"\n",
       "  1541.54,1486.45 1541.54,1469.18 \n",
       "  \"/>\n",
       "<polyline clip-path=\"url(#clip040)\" style=\"stroke:#000000; stroke-linecap:butt; stroke-linejoin:round; stroke-width:4; stroke-opacity:1; fill:none\" points=\"\n",
       "  1960.61,1486.45 1960.61,1469.18 \n",
       "  \"/>\n",
       "<path clip-path=\"url(#clip040)\" d=\"M261.727 1515.64 Q258.116 1515.64 256.288 1519.2 Q254.482 1522.75 254.482 1529.87 Q254.482 1536.98 256.288 1540.55 Q258.116 1544.09 261.727 1544.09 Q265.362 1544.09 267.167 1540.55 Q268.996 1536.98 268.996 1529.87 Q268.996 1522.75 267.167 1519.2 Q265.362 1515.64 261.727 1515.64 M261.727 1511.93 Q267.537 1511.93 270.593 1516.54 Q273.672 1521.12 273.672 1529.87 Q273.672 1538.6 270.593 1543.21 Q267.537 1547.79 261.727 1547.79 Q255.917 1547.79 252.838 1543.21 Q249.783 1538.6 249.783 1529.87 Q249.783 1521.12 252.838 1516.54 Q255.917 1511.93 261.727 1511.93 Z\" fill=\"#000000\" fill-rule=\"evenodd\" fill-opacity=\"1\" /><path clip-path=\"url(#clip040)\" d=\"M281.889 1541.24 L286.773 1541.24 L286.773 1547.12 L281.889 1547.12 L281.889 1541.24 Z\" fill=\"#000000\" fill-rule=\"evenodd\" fill-opacity=\"1\" /><path clip-path=\"url(#clip040)\" d=\"M306.959 1515.64 Q303.347 1515.64 301.519 1519.2 Q299.713 1522.75 299.713 1529.87 Q299.713 1536.98 301.519 1540.55 Q303.347 1544.09 306.959 1544.09 Q310.593 1544.09 312.398 1540.55 Q314.227 1536.98 314.227 1529.87 Q314.227 1522.75 312.398 1519.2 Q310.593 1515.64 306.959 1515.64 M306.959 1511.93 Q312.769 1511.93 315.824 1516.54 Q318.903 1521.12 318.903 1529.87 Q318.903 1538.6 315.824 1543.21 Q312.769 1547.79 306.959 1547.79 Q301.148 1547.79 298.07 1543.21 Q295.014 1538.6 295.014 1529.87 Q295.014 1521.12 298.07 1516.54 Q301.148 1511.93 306.959 1511.93 Z\" fill=\"#000000\" fill-rule=\"evenodd\" fill-opacity=\"1\" /><path clip-path=\"url(#clip040)\" d=\"M681.292 1515.64 Q677.681 1515.64 675.852 1519.2 Q674.046 1522.75 674.046 1529.87 Q674.046 1536.98 675.852 1540.55 Q677.681 1544.09 681.292 1544.09 Q684.926 1544.09 686.732 1540.55 Q688.56 1536.98 688.56 1529.87 Q688.56 1522.75 686.732 1519.2 Q684.926 1515.64 681.292 1515.64 M681.292 1511.93 Q687.102 1511.93 690.157 1516.54 Q693.236 1521.12 693.236 1529.87 Q693.236 1538.6 690.157 1543.21 Q687.102 1547.79 681.292 1547.79 Q675.482 1547.79 672.403 1543.21 Q669.347 1538.6 669.347 1529.87 Q669.347 1521.12 672.403 1516.54 Q675.482 1511.93 681.292 1511.93 Z\" fill=\"#000000\" fill-rule=\"evenodd\" fill-opacity=\"1\" /><path clip-path=\"url(#clip040)\" d=\"M701.454 1541.24 L706.338 1541.24 L706.338 1547.12 L701.454 1547.12 L701.454 1541.24 Z\" fill=\"#000000\" fill-rule=\"evenodd\" fill-opacity=\"1\" /><path clip-path=\"url(#clip040)\" d=\"M716.569 1512.56 L734.926 1512.56 L734.926 1516.5 L720.852 1516.5 L720.852 1524.97 Q721.87 1524.62 722.889 1524.46 Q723.907 1524.27 724.926 1524.27 Q730.713 1524.27 734.092 1527.44 Q737.472 1530.62 737.472 1536.03 Q737.472 1541.61 734 1544.71 Q730.528 1547.79 724.208 1547.79 Q722.032 1547.79 719.764 1547.42 Q717.518 1547.05 715.111 1546.31 L715.111 1541.61 Q717.194 1542.74 719.417 1543.3 Q721.639 1543.86 724.116 1543.86 Q728.12 1543.86 730.458 1541.75 Q732.796 1539.64 732.796 1536.03 Q732.796 1532.42 730.458 1530.31 Q728.12 1528.21 724.116 1528.21 Q722.241 1528.21 720.366 1528.62 Q718.514 1529.04 716.569 1529.92 L716.569 1512.56 Z\" fill=\"#000000\" fill-rule=\"evenodd\" fill-opacity=\"1\" /><path clip-path=\"url(#clip040)\" d=\"M1089.63 1543.18 L1097.27 1543.18 L1097.27 1516.82 L1088.96 1518.49 L1088.96 1514.23 L1097.22 1512.56 L1101.9 1512.56 L1101.9 1543.18 L1109.54 1543.18 L1109.54 1547.12 L1089.63 1547.12 L1089.63 1543.18 Z\" fill=\"#000000\" fill-rule=\"evenodd\" fill-opacity=\"1\" /><path clip-path=\"url(#clip040)\" d=\"M1118.98 1541.24 L1123.87 1541.24 L1123.87 1547.12 L1118.98 1547.12 L1118.98 1541.24 Z\" fill=\"#000000\" fill-rule=\"evenodd\" fill-opacity=\"1\" /><path clip-path=\"url(#clip040)\" d=\"M1144.05 1515.64 Q1140.44 1515.64 1138.61 1519.2 Q1136.81 1522.75 1136.81 1529.87 Q1136.81 1536.98 1138.61 1540.55 Q1140.44 1544.09 1144.05 1544.09 Q1147.68 1544.09 1149.49 1540.55 Q1151.32 1536.98 1151.32 1529.87 Q1151.32 1522.75 1149.49 1519.2 Q1147.68 1515.64 1144.05 1515.64 M1144.05 1511.93 Q1149.86 1511.93 1152.92 1516.54 Q1155.99 1521.12 1155.99 1529.87 Q1155.99 1538.6 1152.92 1543.21 Q1149.86 1547.79 1144.05 1547.79 Q1138.24 1547.79 1135.16 1543.21 Q1132.11 1538.6 1132.11 1529.87 Q1132.11 1521.12 1135.16 1516.54 Q1138.24 1511.93 1144.05 1511.93 Z\" fill=\"#000000\" fill-rule=\"evenodd\" fill-opacity=\"1\" /><path clip-path=\"url(#clip040)\" d=\"M1509.19 1543.18 L1516.83 1543.18 L1516.83 1516.82 L1508.52 1518.49 L1508.52 1514.23 L1516.79 1512.56 L1521.46 1512.56 L1521.46 1543.18 L1529.1 1543.18 L1529.1 1547.12 L1509.19 1547.12 L1509.19 1543.18 Z\" fill=\"#000000\" fill-rule=\"evenodd\" fill-opacity=\"1\" /><path clip-path=\"url(#clip040)\" d=\"M1538.55 1541.24 L1543.43 1541.24 L1543.43 1547.12 L1538.55 1547.12 L1538.55 1541.24 Z\" fill=\"#000000\" fill-rule=\"evenodd\" fill-opacity=\"1\" /><path clip-path=\"url(#clip040)\" d=\"M1553.66 1512.56 L1572.02 1512.56 L1572.02 1516.5 L1557.94 1516.5 L1557.94 1524.97 Q1558.96 1524.62 1559.98 1524.46 Q1561 1524.27 1562.02 1524.27 Q1567.8 1524.27 1571.18 1527.44 Q1574.56 1530.62 1574.56 1536.03 Q1574.56 1541.61 1571.09 1544.71 Q1567.62 1547.79 1561.3 1547.79 Q1559.12 1547.79 1556.86 1547.42 Q1554.61 1547.05 1552.2 1546.31 L1552.2 1541.61 Q1554.29 1542.74 1556.51 1543.3 Q1558.73 1543.86 1561.21 1543.86 Q1565.21 1543.86 1567.55 1541.75 Q1569.89 1539.64 1569.89 1536.03 Q1569.89 1532.42 1567.55 1530.31 Q1565.21 1528.21 1561.21 1528.21 Q1559.33 1528.21 1557.46 1528.62 Q1555.61 1529.04 1553.66 1529.92 L1553.66 1512.56 Z\" fill=\"#000000\" fill-rule=\"evenodd\" fill-opacity=\"1\" /><path clip-path=\"url(#clip040)\" d=\"M1931.85 1543.18 L1948.17 1543.18 L1948.17 1547.12 L1926.22 1547.12 L1926.22 1543.18 Q1928.89 1540.43 1933.47 1535.8 Q1938.08 1531.15 1939.26 1529.81 Q1941.5 1527.28 1942.38 1525.55 Q1943.28 1523.79 1943.28 1522.1 Q1943.28 1519.34 1941.34 1517.61 Q1939.42 1515.87 1936.32 1515.87 Q1934.12 1515.87 1931.66 1516.63 Q1929.23 1517.4 1926.46 1518.95 L1926.46 1514.23 Q1929.28 1513.09 1931.73 1512.51 Q1934.19 1511.93 1936.22 1511.93 Q1941.59 1511.93 1944.79 1514.62 Q1947.98 1517.31 1947.98 1521.8 Q1947.98 1523.93 1947.17 1525.85 Q1946.39 1527.74 1944.28 1530.34 Q1943.7 1531.01 1940.6 1534.23 Q1937.5 1537.42 1931.85 1543.18 Z\" fill=\"#000000\" fill-rule=\"evenodd\" fill-opacity=\"1\" /><path clip-path=\"url(#clip040)\" d=\"M1957.98 1541.24 L1962.87 1541.24 L1962.87 1547.12 L1957.98 1547.12 L1957.98 1541.24 Z\" fill=\"#000000\" fill-rule=\"evenodd\" fill-opacity=\"1\" /><path clip-path=\"url(#clip040)\" d=\"M1983.05 1515.64 Q1979.44 1515.64 1977.61 1519.2 Q1975.81 1522.75 1975.81 1529.87 Q1975.81 1536.98 1977.61 1540.55 Q1979.44 1544.09 1983.05 1544.09 Q1986.69 1544.09 1988.49 1540.55 Q1990.32 1536.98 1990.32 1529.87 Q1990.32 1522.75 1988.49 1519.2 Q1986.69 1515.64 1983.05 1515.64 M1983.05 1511.93 Q1988.86 1511.93 1991.92 1516.54 Q1995 1521.12 1995 1529.87 Q1995 1538.6 1991.92 1543.21 Q1988.86 1547.79 1983.05 1547.79 Q1977.24 1547.79 1974.16 1543.21 Q1971.11 1538.6 1971.11 1529.87 Q1971.11 1521.12 1974.16 1516.54 Q1977.24 1511.93 1983.05 1511.93 Z\" fill=\"#000000\" fill-rule=\"evenodd\" fill-opacity=\"1\" /><polyline clip-path=\"url(#clip042)\" style=\"stroke:#000000; stroke-linecap:butt; stroke-linejoin:round; stroke-width:2; stroke-opacity:0.1; fill:none\" points=\"\n",
       "  224.098,1237.46 2352.76,1237.46 \n",
       "  \"/>\n",
       "<polyline clip-path=\"url(#clip042)\" style=\"stroke:#000000; stroke-linecap:butt; stroke-linejoin:round; stroke-width:2; stroke-opacity:0.1; fill:none\" points=\"\n",
       "  224.098,950.088 2352.76,950.088 \n",
       "  \"/>\n",
       "<polyline clip-path=\"url(#clip042)\" style=\"stroke:#000000; stroke-linecap:butt; stroke-linejoin:round; stroke-width:2; stroke-opacity:0.1; fill:none\" points=\"\n",
       "  224.098,662.717 2352.76,662.717 \n",
       "  \"/>\n",
       "<polyline clip-path=\"url(#clip042)\" style=\"stroke:#000000; stroke-linecap:butt; stroke-linejoin:round; stroke-width:2; stroke-opacity:0.1; fill:none\" points=\"\n",
       "  224.098,375.347 2352.76,375.347 \n",
       "  \"/>\n",
       "<polyline clip-path=\"url(#clip042)\" style=\"stroke:#000000; stroke-linecap:butt; stroke-linejoin:round; stroke-width:2; stroke-opacity:0.1; fill:none\" points=\"\n",
       "  224.098,87.9763 2352.76,87.9763 \n",
       "  \"/>\n",
       "<polyline clip-path=\"url(#clip040)\" style=\"stroke:#000000; stroke-linecap:butt; stroke-linejoin:round; stroke-width:4; stroke-opacity:1; fill:none\" points=\"\n",
       "  224.098,1486.45 224.098,47.2441 \n",
       "  \"/>\n",
       "<polyline clip-path=\"url(#clip040)\" style=\"stroke:#000000; stroke-linecap:butt; stroke-linejoin:round; stroke-width:4; stroke-opacity:1; fill:none\" points=\"\n",
       "  224.098,1237.46 249.642,1237.46 \n",
       "  \"/>\n",
       "<polyline clip-path=\"url(#clip040)\" style=\"stroke:#000000; stroke-linecap:butt; stroke-linejoin:round; stroke-width:4; stroke-opacity:1; fill:none\" points=\"\n",
       "  224.098,950.088 249.642,950.088 \n",
       "  \"/>\n",
       "<polyline clip-path=\"url(#clip040)\" style=\"stroke:#000000; stroke-linecap:butt; stroke-linejoin:round; stroke-width:4; stroke-opacity:1; fill:none\" points=\"\n",
       "  224.098,662.717 249.642,662.717 \n",
       "  \"/>\n",
       "<polyline clip-path=\"url(#clip040)\" style=\"stroke:#000000; stroke-linecap:butt; stroke-linejoin:round; stroke-width:4; stroke-opacity:1; fill:none\" points=\"\n",
       "  224.098,375.347 249.642,375.347 \n",
       "  \"/>\n",
       "<polyline clip-path=\"url(#clip040)\" style=\"stroke:#000000; stroke-linecap:butt; stroke-linejoin:round; stroke-width:4; stroke-opacity:1; fill:none\" points=\"\n",
       "  224.098,87.9763 249.642,87.9763 \n",
       "  \"/>\n",
       "<path clip-path=\"url(#clip040)\" d=\"M50.9921 1237.91 L80.6679 1237.91 L80.6679 1241.85 L50.9921 1241.85 L50.9921 1237.91 Z\" fill=\"#000000\" fill-rule=\"evenodd\" fill-opacity=\"1\" /><path clip-path=\"url(#clip040)\" d=\"M100.76 1223.26 Q97.1493 1223.26 95.3206 1226.82 Q93.515 1230.36 93.515 1237.49 Q93.515 1244.6 95.3206 1248.16 Q97.1493 1251.71 100.76 1251.71 Q104.395 1251.71 106.2 1248.16 Q108.029 1244.6 108.029 1237.49 Q108.029 1230.36 106.2 1226.82 Q104.395 1223.26 100.76 1223.26 M100.76 1219.55 Q106.571 1219.55 109.626 1224.16 Q112.705 1228.74 112.705 1237.49 Q112.705 1246.22 109.626 1250.83 Q106.571 1255.41 100.76 1255.41 Q94.9502 1255.41 91.8715 1250.83 Q88.816 1246.22 88.816 1237.49 Q88.816 1228.74 91.8715 1224.16 Q94.9502 1219.55 100.76 1219.55 Z\" fill=\"#000000\" fill-rule=\"evenodd\" fill-opacity=\"1\" /><path clip-path=\"url(#clip040)\" d=\"M120.922 1248.86 L125.807 1248.86 L125.807 1254.74 L120.922 1254.74 L120.922 1248.86 Z\" fill=\"#000000\" fill-rule=\"evenodd\" fill-opacity=\"1\" /><path clip-path=\"url(#clip040)\" d=\"M140.019 1250.8 L156.339 1250.8 L156.339 1254.74 L134.394 1254.74 L134.394 1250.8 Q137.056 1248.05 141.64 1243.42 Q146.246 1238.77 147.427 1237.42 Q149.672 1234.9 150.552 1233.16 Q151.455 1231.41 151.455 1229.72 Q151.455 1226.96 149.51 1225.22 Q147.589 1223.49 144.487 1223.49 Q142.288 1223.49 139.834 1224.25 Q137.404 1225.02 134.626 1226.57 L134.626 1221.85 Q137.45 1220.71 139.904 1220.13 Q142.357 1219.55 144.394 1219.55 Q149.765 1219.55 152.959 1222.24 Q156.154 1224.92 156.154 1229.41 Q156.154 1231.54 155.343 1233.47 Q154.556 1235.36 152.45 1237.96 Q151.871 1238.63 148.769 1241.85 Q145.668 1245.04 140.019 1250.8 Z\" fill=\"#000000\" fill-rule=\"evenodd\" fill-opacity=\"1\" /><path clip-path=\"url(#clip040)\" d=\"M176.153 1223.26 Q172.542 1223.26 170.714 1226.82 Q168.908 1230.36 168.908 1237.49 Q168.908 1244.6 170.714 1248.16 Q172.542 1251.71 176.153 1251.71 Q179.788 1251.71 181.593 1248.16 Q183.422 1244.6 183.422 1237.49 Q183.422 1230.36 181.593 1226.82 Q179.788 1223.26 176.153 1223.26 M176.153 1219.55 Q181.964 1219.55 185.019 1224.16 Q188.098 1228.74 188.098 1237.49 Q188.098 1246.22 185.019 1250.83 Q181.964 1255.41 176.153 1255.41 Q170.343 1255.41 167.265 1250.83 Q164.209 1246.22 164.209 1237.49 Q164.209 1228.74 167.265 1224.16 Q170.343 1219.55 176.153 1219.55 Z\" fill=\"#000000\" fill-rule=\"evenodd\" fill-opacity=\"1\" /><path clip-path=\"url(#clip040)\" d=\"M51.9875 950.539 L81.6633 950.539 L81.6633 954.475 L51.9875 954.475 L51.9875 950.539 Z\" fill=\"#000000\" fill-rule=\"evenodd\" fill-opacity=\"1\" /><path clip-path=\"url(#clip040)\" d=\"M101.756 935.887 Q98.1447 935.887 96.316 939.451 Q94.5104 942.993 94.5104 950.123 Q94.5104 957.229 96.316 960.794 Q98.1447 964.336 101.756 964.336 Q105.39 964.336 107.196 960.794 Q109.024 957.229 109.024 950.123 Q109.024 942.993 107.196 939.451 Q105.39 935.887 101.756 935.887 M101.756 932.183 Q107.566 932.183 110.621 936.789 Q113.7 941.373 113.7 950.123 Q113.7 958.85 110.621 963.456 Q107.566 968.039 101.756 968.039 Q95.9456 968.039 92.8669 963.456 Q89.8114 958.85 89.8114 950.123 Q89.8114 941.373 92.8669 936.789 Q95.9456 932.183 101.756 932.183 Z\" fill=\"#000000\" fill-rule=\"evenodd\" fill-opacity=\"1\" /><path clip-path=\"url(#clip040)\" d=\"M121.918 961.488 L126.802 961.488 L126.802 967.368 L121.918 967.368 L121.918 961.488 Z\" fill=\"#000000\" fill-rule=\"evenodd\" fill-opacity=\"1\" /><path clip-path=\"url(#clip040)\" d=\"M137.797 963.433 L145.436 963.433 L145.436 937.067 L137.126 938.734 L137.126 934.475 L145.39 932.808 L150.066 932.808 L150.066 963.433 L157.705 963.433 L157.705 967.368 L137.797 967.368 L137.797 963.433 Z\" fill=\"#000000\" fill-rule=\"evenodd\" fill-opacity=\"1\" /><path clip-path=\"url(#clip040)\" d=\"M167.195 932.808 L185.552 932.808 L185.552 936.743 L171.478 936.743 L171.478 945.215 Q172.496 944.868 173.515 944.706 Q174.533 944.521 175.552 944.521 Q181.339 944.521 184.718 947.692 Q188.098 950.863 188.098 956.28 Q188.098 961.859 184.626 964.961 Q181.153 968.039 174.834 968.039 Q172.658 968.039 170.39 967.669 Q168.144 967.299 165.737 966.558 L165.737 961.859 Q167.82 962.993 170.042 963.549 Q172.265 964.104 174.741 964.104 Q178.746 964.104 181.084 961.998 Q183.422 959.891 183.422 956.28 Q183.422 952.669 181.084 950.563 Q178.746 948.456 174.741 948.456 Q172.866 948.456 170.991 948.873 Q169.14 949.289 167.195 950.169 L167.195 932.808 Z\" fill=\"#000000\" fill-rule=\"evenodd\" fill-opacity=\"1\" /><path clip-path=\"url(#clip040)\" d=\"M50.9921 663.169 L80.6679 663.169 L80.6679 667.104 L50.9921 667.104 L50.9921 663.169 Z\" fill=\"#000000\" fill-rule=\"evenodd\" fill-opacity=\"1\" /><path clip-path=\"url(#clip040)\" d=\"M100.76 648.516 Q97.1493 648.516 95.3206 652.081 Q93.515 655.623 93.515 662.752 Q93.515 669.859 95.3206 673.423 Q97.1493 676.965 100.76 676.965 Q104.395 676.965 106.2 673.423 Q108.029 669.859 108.029 662.752 Q108.029 655.623 106.2 652.081 Q104.395 648.516 100.76 648.516 M100.76 644.812 Q106.571 644.812 109.626 649.419 Q112.705 654.002 112.705 662.752 Q112.705 671.479 109.626 676.085 Q106.571 680.669 100.76 680.669 Q94.9502 680.669 91.8715 676.085 Q88.816 671.479 88.816 662.752 Q88.816 654.002 91.8715 649.419 Q94.9502 644.812 100.76 644.812 Z\" fill=\"#000000\" fill-rule=\"evenodd\" fill-opacity=\"1\" /><path clip-path=\"url(#clip040)\" d=\"M120.922 674.118 L125.807 674.118 L125.807 679.997 L120.922 679.997 L120.922 674.118 Z\" fill=\"#000000\" fill-rule=\"evenodd\" fill-opacity=\"1\" /><path clip-path=\"url(#clip040)\" d=\"M136.802 676.062 L144.441 676.062 L144.441 649.697 L136.131 651.363 L136.131 647.104 L144.394 645.437 L149.07 645.437 L149.07 676.062 L156.709 676.062 L156.709 679.997 L136.802 679.997 L136.802 676.062 Z\" fill=\"#000000\" fill-rule=\"evenodd\" fill-opacity=\"1\" /><path clip-path=\"url(#clip040)\" d=\"M176.153 648.516 Q172.542 648.516 170.714 652.081 Q168.908 655.623 168.908 662.752 Q168.908 669.859 170.714 673.423 Q172.542 676.965 176.153 676.965 Q179.788 676.965 181.593 673.423 Q183.422 669.859 183.422 662.752 Q183.422 655.623 181.593 652.081 Q179.788 648.516 176.153 648.516 M176.153 644.812 Q181.964 644.812 185.019 649.419 Q188.098 654.002 188.098 662.752 Q188.098 671.479 185.019 676.085 Q181.964 680.669 176.153 680.669 Q170.343 680.669 167.265 676.085 Q164.209 671.479 164.209 662.752 Q164.209 654.002 167.265 649.419 Q170.343 644.812 176.153 644.812 Z\" fill=\"#000000\" fill-rule=\"evenodd\" fill-opacity=\"1\" /><path clip-path=\"url(#clip040)\" d=\"M51.9875 375.798 L81.6633 375.798 L81.6633 379.733 L51.9875 379.733 L51.9875 375.798 Z\" fill=\"#000000\" fill-rule=\"evenodd\" fill-opacity=\"1\" /><path clip-path=\"url(#clip040)\" d=\"M101.756 361.146 Q98.1447 361.146 96.316 364.71 Q94.5104 368.252 94.5104 375.382 Q94.5104 382.488 96.316 386.053 Q98.1447 389.594 101.756 389.594 Q105.39 389.594 107.196 386.053 Q109.024 382.488 109.024 375.382 Q109.024 368.252 107.196 364.71 Q105.39 361.146 101.756 361.146 M101.756 357.442 Q107.566 357.442 110.621 362.048 Q113.7 366.632 113.7 375.382 Q113.7 384.108 110.621 388.715 Q107.566 393.298 101.756 393.298 Q95.9456 393.298 92.8669 388.715 Q89.8114 384.108 89.8114 375.382 Q89.8114 366.632 92.8669 362.048 Q95.9456 357.442 101.756 357.442 Z\" fill=\"#000000\" fill-rule=\"evenodd\" fill-opacity=\"1\" /><path clip-path=\"url(#clip040)\" d=\"M121.918 386.747 L126.802 386.747 L126.802 392.627 L121.918 392.627 L121.918 386.747 Z\" fill=\"#000000\" fill-rule=\"evenodd\" fill-opacity=\"1\" /><path clip-path=\"url(#clip040)\" d=\"M146.987 361.146 Q143.376 361.146 141.547 364.71 Q139.742 368.252 139.742 375.382 Q139.742 382.488 141.547 386.053 Q143.376 389.594 146.987 389.594 Q150.621 389.594 152.427 386.053 Q154.255 382.488 154.255 375.382 Q154.255 368.252 152.427 364.71 Q150.621 361.146 146.987 361.146 M146.987 357.442 Q152.797 357.442 155.853 362.048 Q158.931 366.632 158.931 375.382 Q158.931 384.108 155.853 388.715 Q152.797 393.298 146.987 393.298 Q141.177 393.298 138.098 388.715 Q135.043 384.108 135.043 375.382 Q135.043 366.632 138.098 362.048 Q141.177 357.442 146.987 357.442 Z\" fill=\"#000000\" fill-rule=\"evenodd\" fill-opacity=\"1\" /><path clip-path=\"url(#clip040)\" d=\"M167.195 358.067 L185.552 358.067 L185.552 362.002 L171.478 362.002 L171.478 370.474 Q172.496 370.127 173.515 369.965 Q174.533 369.78 175.552 369.78 Q181.339 369.78 184.718 372.951 Q188.098 376.122 188.098 381.539 Q188.098 387.118 184.626 390.219 Q181.153 393.298 174.834 393.298 Q172.658 393.298 170.39 392.928 Q168.144 392.557 165.737 391.817 L165.737 387.118 Q167.82 388.252 170.042 388.807 Q172.265 389.363 174.741 389.363 Q178.746 389.363 181.084 387.257 Q183.422 385.15 183.422 381.539 Q183.422 377.928 181.084 375.821 Q178.746 373.715 174.741 373.715 Q172.866 373.715 170.991 374.132 Q169.14 374.548 167.195 375.428 L167.195 358.067 Z\" fill=\"#000000\" fill-rule=\"evenodd\" fill-opacity=\"1\" /><path clip-path=\"url(#clip040)\" d=\"M100.76 73.775 Q97.1493 73.775 95.3206 77.3398 Q93.515 80.8814 93.515 88.011 Q93.515 95.1174 95.3206 98.6822 Q97.1493 102.224 100.76 102.224 Q104.395 102.224 106.2 98.6822 Q108.029 95.1174 108.029 88.011 Q108.029 80.8814 106.2 77.3398 Q104.395 73.775 100.76 73.775 M100.76 70.0713 Q106.571 70.0713 109.626 74.6777 Q112.705 79.261 112.705 88.011 Q112.705 96.7378 109.626 101.344 Q106.571 105.928 100.76 105.928 Q94.9502 105.928 91.8715 101.344 Q88.816 96.7378 88.816 88.011 Q88.816 79.261 91.8715 74.6777 Q94.9502 70.0713 100.76 70.0713 Z\" fill=\"#000000\" fill-rule=\"evenodd\" fill-opacity=\"1\" /><path clip-path=\"url(#clip040)\" d=\"M120.922 99.3767 L125.807 99.3767 L125.807 105.256 L120.922 105.256 L120.922 99.3767 Z\" fill=\"#000000\" fill-rule=\"evenodd\" fill-opacity=\"1\" /><path clip-path=\"url(#clip040)\" d=\"M145.992 73.775 Q142.381 73.775 140.552 77.3398 Q138.746 80.8814 138.746 88.011 Q138.746 95.1174 140.552 98.6822 Q142.381 102.224 145.992 102.224 Q149.626 102.224 151.431 98.6822 Q153.26 95.1174 153.26 88.011 Q153.26 80.8814 151.431 77.3398 Q149.626 73.775 145.992 73.775 M145.992 70.0713 Q151.802 70.0713 154.857 74.6777 Q157.936 79.261 157.936 88.011 Q157.936 96.7378 154.857 101.344 Q151.802 105.928 145.992 105.928 Q140.181 105.928 137.103 101.344 Q134.047 96.7378 134.047 88.011 Q134.047 79.261 137.103 74.6777 Q140.181 70.0713 145.992 70.0713 Z\" fill=\"#000000\" fill-rule=\"evenodd\" fill-opacity=\"1\" /><path clip-path=\"url(#clip040)\" d=\"M176.153 73.775 Q172.542 73.775 170.714 77.3398 Q168.908 80.8814 168.908 88.011 Q168.908 95.1174 170.714 98.6822 Q172.542 102.224 176.153 102.224 Q179.788 102.224 181.593 98.6822 Q183.422 95.1174 183.422 88.011 Q183.422 80.8814 181.593 77.3398 Q179.788 73.775 176.153 73.775 M176.153 70.0713 Q181.964 70.0713 185.019 74.6777 Q188.098 79.261 188.098 88.011 Q188.098 96.7378 185.019 101.344 Q181.964 105.928 176.153 105.928 Q170.343 105.928 167.265 101.344 Q164.209 96.7378 164.209 88.011 Q164.209 79.261 167.265 74.6777 Q170.343 70.0713 176.153 70.0713 Z\" fill=\"#000000\" fill-rule=\"evenodd\" fill-opacity=\"1\" /><polyline clip-path=\"url(#clip042)\" style=\"stroke:#009af9; stroke-linecap:butt; stroke-linejoin:round; stroke-width:4; stroke-opacity:1; fill:none\" points=\"\n",
       "  284.343,87.9763 287.695,87.9763 291.048,87.9763 294.401,87.9763 297.753,87.9763 301.106,87.9763 304.458,87.9763 307.811,87.9763 311.163,87.9763 314.516,87.9763 \n",
       "  317.868,87.9763 321.221,87.9763 324.573,87.9763 327.926,87.9763 331.278,87.9763 334.631,87.9763 337.983,87.9763 341.336,87.9763 344.689,87.9763 348.041,87.9763 \n",
       "  351.394,87.9763 354.746,87.9763 358.099,87.9763 361.451,87.9763 364.804,87.9763 368.156,87.9763 371.509,87.9763 374.861,87.9763 378.214,87.9763 381.566,87.9763 \n",
       "  384.919,87.9763 388.271,87.9763 391.624,87.9763 394.977,87.9763 398.329,87.9763 401.682,87.9763 405.034,87.9763 408.387,87.9763 411.739,87.9763 415.092,87.9763 \n",
       "  418.444,87.9763 421.797,87.9763 425.149,87.9763 428.502,87.9763 431.854,87.9763 435.207,87.9763 438.559,87.9763 441.912,87.9763 445.265,87.9763 448.617,87.9763 \n",
       "  451.97,87.9763 455.322,87.9763 458.675,87.9763 462.027,87.9763 465.38,87.9763 468.732,87.9763 472.085,87.9763 475.437,87.9763 478.79,87.9763 482.142,87.9763 \n",
       "  485.495,87.9763 488.847,87.9763 492.2,87.9763 495.553,87.9763 498.905,87.9763 502.258,87.9763 505.61,87.9763 508.963,87.9763 512.315,87.9763 515.668,87.9763 \n",
       "  519.02,87.9763 522.373,87.9763 525.725,87.9763 529.078,87.9763 532.43,87.9763 535.783,87.9763 539.136,87.9763 542.488,87.9763 545.841,87.9763 549.193,87.9763 \n",
       "  552.546,87.9763 555.898,87.9763 559.251,87.9763 562.603,87.9763 565.956,87.9763 569.308,87.9763 572.661,87.9763 576.013,87.9763 579.366,87.9763 582.718,87.9763 \n",
       "  586.071,87.9763 589.424,87.9763 592.776,87.9763 596.129,87.9763 599.481,87.9763 602.834,87.9763 606.186,87.9763 609.539,87.9763 612.891,87.9763 616.244,87.9763 \n",
       "  619.596,87.9763 622.949,87.9763 626.301,87.9763 629.654,87.9763 633.006,87.9763 636.359,87.9763 639.712,87.9763 643.064,87.9763 646.417,87.9763 649.769,87.9763 \n",
       "  653.122,87.9763 656.474,87.9763 659.827,87.9763 663.179,87.9763 666.532,87.9763 669.884,87.9763 673.237,87.9763 676.589,87.9763 679.942,87.9763 683.294,87.9763 \n",
       "  686.647,87.9763 690,87.9763 693.352,87.9763 696.705,87.9763 700.057,87.9763 703.41,87.9763 706.762,87.9763 710.115,87.9763 713.467,87.9763 716.82,87.9763 \n",
       "  720.172,87.9763 723.525,87.9763 726.877,87.9763 730.23,87.9763 733.582,87.9763 736.935,87.9763 740.288,87.9763 743.64,87.9763 746.993,87.9763 750.345,87.9763 \n",
       "  753.698,87.9763 757.05,87.9763 760.403,87.9763 763.755,87.9763 767.108,87.9763 770.46,87.9763 773.813,87.9763 777.165,87.9763 780.518,87.9763 783.87,87.9763 \n",
       "  787.223,87.9763 790.576,87.9763 793.928,87.9763 797.281,87.9763 800.633,87.9763 803.986,87.9763 807.338,87.9763 810.691,87.9763 814.043,87.9763 817.396,87.9763 \n",
       "  820.748,87.9763 824.101,87.9763 827.453,87.9763 830.806,87.9763 834.159,87.9763 837.511,87.9763 840.864,87.9763 844.216,87.9763 847.569,87.9763 850.921,87.9763 \n",
       "  854.274,87.9763 857.626,87.9763 860.979,87.9763 864.331,87.9763 867.684,87.9763 871.036,87.9763 874.389,87.9763 877.741,87.9763 881.094,87.9763 884.447,87.9763 \n",
       "  887.799,87.9763 891.152,87.9763 894.504,87.9763 897.857,87.9763 901.209,87.9763 904.562,87.9763 907.914,87.9763 911.267,87.9763 914.619,87.9763 917.972,87.9763 \n",
       "  921.324,87.9763 924.677,87.9763 928.029,87.9763 931.382,87.9763 934.735,87.9763 938.087,87.9763 941.44,87.9763 944.792,87.9763 948.145,87.9763 951.497,87.9763 \n",
       "  954.85,87.9763 958.202,87.9763 961.555,87.9763 964.907,87.9763 968.26,87.9763 971.612,87.9763 974.965,87.9763 978.317,87.9763 981.67,87.9763 985.023,87.9763 \n",
       "  988.375,87.9763 991.728,87.9763 995.08,87.9763 998.433,87.9763 1001.79,87.9763 1005.14,87.9763 1008.49,87.9763 1011.84,87.9763 1015.2,87.9763 1018.55,87.9763 \n",
       "  1021.9,87.9763 1025.25,87.9763 1028.61,87.9763 1031.96,87.9763 1035.31,87.9763 1038.66,87.9763 1042.02,87.9763 1045.37,87.9763 1048.72,87.9763 1052.07,87.9763 \n",
       "  1055.43,87.9763 1058.78,87.9763 1062.13,87.9763 1065.48,87.9763 1068.84,87.9763 1072.19,87.9763 1075.54,87.9763 1078.89,87.9763 1082.25,87.9763 1085.6,87.9763 \n",
       "  1088.95,87.9763 1092.3,87.9763 1095.66,87.9763 1099.01,87.9763 1102.36,87.9763 1105.71,87.9763 1109.07,87.9763 1112.42,87.9763 1115.77,87.9763 1119.12,87.9763 \n",
       "  1122.48,87.9763 1125.83,87.9763 1129.18,87.9763 1132.53,87.9763 1135.89,87.9763 1139.24,87.9763 1142.59,87.9763 1145.94,87.9763 1149.3,87.9763 1152.65,87.9763 \n",
       "  1156,87.9763 1159.35,87.9763 1162.71,87.9763 1166.06,87.9763 1169.41,87.9763 1172.76,87.9763 1176.12,87.9763 1179.47,87.9763 1182.82,87.9763 1186.17,87.9763 \n",
       "  1189.53,87.9763 1192.88,87.9763 1196.23,87.9763 1199.58,87.9763 1202.94,87.9763 1206.29,87.9763 1209.64,87.9763 1212.99,87.9763 1216.35,87.9763 1219.7,87.9763 \n",
       "  1223.05,87.9763 1226.41,87.9763 1229.76,87.9763 1233.11,87.9763 1236.46,87.9763 1239.82,87.9763 1243.17,87.9763 1246.52,87.9763 1249.87,87.9763 1253.23,87.9763 \n",
       "  1256.58,87.9763 1259.93,87.9763 1263.28,87.9763 1266.64,87.9763 1269.99,87.9763 1273.34,87.9763 1276.69,87.9763 1280.05,87.9763 1283.4,87.9763 1286.75,87.9763 \n",
       "  1290.1,87.9763 1293.46,87.9763 1296.81,87.9763 1300.16,87.9763 1303.51,87.9763 1306.87,87.9763 1310.22,87.9763 1313.57,87.9763 1316.92,87.9763 1320.28,87.9763 \n",
       "  1323.63,87.9763 1326.98,87.9763 1330.33,87.9763 1333.69,87.9763 1337.04,87.9763 1340.39,87.9763 1343.74,87.9763 1347.1,87.9763 1350.45,87.9763 1353.8,87.9763 \n",
       "  1357.15,87.9763 1360.51,87.9763 1363.86,87.9763 1367.21,87.9763 1370.56,87.9763 1373.92,87.9763 1377.27,87.9763 1380.62,87.9763 1383.97,87.9763 1387.33,87.9763 \n",
       "  1390.68,87.9763 1394.03,87.9763 1397.38,87.9763 1400.74,87.9763 1404.09,87.9763 1407.44,87.9763 1410.79,87.9763 1414.15,87.9763 1417.5,87.9763 1420.85,87.9763 \n",
       "  1424.2,87.9763 1427.56,87.9763 1430.91,87.9763 1434.26,87.9763 1437.61,87.9763 1440.97,87.9763 1444.32,87.9763 1447.67,87.9763 1451.02,87.9763 1454.38,87.9763 \n",
       "  1457.73,87.9763 1461.08,87.9763 1464.43,87.9763 1467.79,87.9763 1471.14,87.9763 1474.49,87.9763 1477.85,87.9763 1481.2,87.9763 1484.55,87.9763 1487.9,87.9763 \n",
       "  1491.26,87.9763 1494.61,87.9763 1497.96,87.9763 1501.31,87.9763 1504.67,87.9763 1508.02,87.9763 1511.37,87.9763 1514.72,87.9763 1518.08,87.9763 1521.43,87.9763 \n",
       "  1524.78,87.9763 1528.13,87.9763 1531.49,87.9763 1534.84,87.9763 1538.19,87.9763 1541.54,87.9763 1544.9,87.9763 1548.25,87.9763 1551.6,87.9763 1554.95,87.9763 \n",
       "  1558.31,87.9763 1561.66,87.9763 1565.01,87.9763 1568.36,87.9763 1571.72,87.9763 1575.07,87.9763 1578.42,87.9763 1581.77,87.9763 1585.13,87.9763 1588.48,87.9763 \n",
       "  1591.83,87.9763 1595.18,87.9763 1598.54,87.9763 1601.89,87.9763 1605.24,87.9763 1608.59,87.9763 1611.95,87.9763 1615.3,87.9763 1618.65,87.9763 1622,87.9763 \n",
       "  1625.36,87.9763 1628.71,87.9763 1632.06,87.9763 1635.41,87.9763 1638.77,87.9763 1642.12,87.9763 1645.47,87.9763 1648.82,87.9763 1652.18,87.9763 1655.53,87.9763 \n",
       "  1658.88,87.9763 1662.23,87.9763 1665.59,87.9763 1668.94,87.9763 1672.29,87.9763 1675.64,87.9763 1679,87.9763 1682.35,87.9763 1685.7,87.9763 1689.05,87.9763 \n",
       "  1692.41,87.9763 1695.76,87.9763 1699.11,87.9763 1702.46,87.9763 1705.82,87.9763 1709.17,87.9763 1712.52,87.9763 1715.87,87.9763 1719.23,87.9763 1722.58,87.9763 \n",
       "  1725.93,87.9763 1729.29,87.9763 1732.64,87.9763 1735.99,87.9763 1739.34,87.9763 1742.7,87.9763 1746.05,87.9763 1749.4,87.9763 1752.75,87.9763 1756.11,87.9763 \n",
       "  1759.46,87.9763 1762.81,87.9763 1766.16,87.9763 1769.52,87.9763 1772.87,87.9763 1776.22,87.9763 1779.57,87.9763 1782.93,87.9763 1786.28,87.9763 1789.63,87.9763 \n",
       "  1792.98,87.9763 1796.34,87.9763 1799.69,87.9763 1803.04,87.9763 1806.39,87.9763 1809.75,87.9763 1813.1,87.9763 1816.45,87.9763 1819.8,87.9763 1823.16,87.9763 \n",
       "  1826.51,87.9763 1829.86,87.9763 1833.21,87.9763 1836.57,87.9763 1839.92,87.9763 1843.27,87.9763 1846.62,87.9763 1849.98,87.9763 1853.33,87.9763 1856.68,87.9763 \n",
       "  1860.03,87.9763 1863.39,87.9763 1866.74,87.9763 1870.09,87.9763 1873.44,87.9763 1876.8,87.9763 1880.15,87.9763 1883.5,87.9763 1886.85,87.9763 1890.21,87.9763 \n",
       "  1893.56,87.9763 1896.91,87.9763 1900.26,87.9763 1903.62,87.9763 1906.97,87.9763 1910.32,87.9763 1913.67,87.9763 1917.03,87.9763 1920.38,87.9763 1923.73,87.9763 \n",
       "  1927.08,87.9763 1930.44,87.9763 1933.79,87.9763 1937.14,87.9763 1940.49,87.9763 1943.85,87.9763 1947.2,87.9763 1950.55,87.9763 1953.9,87.9763 1957.26,87.9763 \n",
       "  1960.61,87.9763 1963.96,87.9763 1967.32,87.9763 1970.67,87.9763 1974.02,87.9763 1977.37,87.9763 1980.73,87.9763 1984.08,87.9763 1987.43,87.9763 1990.78,87.9763 \n",
       "  1994.14,87.9763 1997.49,87.9763 2000.84,87.9763 2004.19,87.9763 2007.55,87.9763 2010.9,87.9763 2014.25,87.9763 2017.6,87.9763 2020.96,87.9763 2024.31,87.9763 \n",
       "  2027.66,87.9763 2031.01,87.9763 2034.37,87.9763 2037.72,87.9763 2041.07,87.9763 2044.42,87.9763 2047.78,87.9763 2051.13,87.9763 2054.48,87.9763 2057.83,87.9763 \n",
       "  2061.19,87.9763 2064.54,87.9763 2067.89,87.9763 2071.24,87.9763 2074.6,87.9763 2077.95,87.9763 2081.3,87.9763 2084.65,87.9763 2088.01,87.9763 2091.36,87.9763 \n",
       "  2094.71,87.9763 2098.06,87.9763 2101.42,87.9763 2104.77,87.9763 2108.12,87.9763 2111.47,87.9763 2114.83,87.9763 2118.18,87.9763 2121.53,87.9763 2124.88,87.9763 \n",
       "  2128.24,87.9763 2131.59,87.9763 2134.94,87.9763 2138.29,87.9763 2141.65,87.9763 2145,87.9763 2148.35,87.9763 2151.7,87.9763 2155.06,87.9763 2158.41,87.9763 \n",
       "  2161.76,87.9763 2165.11,87.9763 2168.47,87.9763 2171.82,87.9763 2175.17,87.9763 2178.52,87.9763 2181.88,87.9763 2185.23,87.9763 2188.58,87.9763 2191.93,87.9763 \n",
       "  2195.29,87.9763 2198.64,87.9763 2201.99,87.9763 2205.34,87.9763 2208.7,87.9763 2212.05,87.9763 2215.4,87.9763 2218.76,87.9763 2222.11,87.9763 2225.46,87.9763 \n",
       "  2228.81,87.9763 2232.17,87.9763 2235.52,87.9763 2238.87,87.9763 2242.22,87.9763 2245.58,87.9763 2248.93,87.9763 2252.28,87.9763 2255.63,87.9763 2258.99,87.9763 \n",
       "  2262.34,87.9763 2265.69,87.9763 2269.04,87.9763 2272.4,87.9763 2275.75,87.9763 2279.1,87.9763 2282.45,87.9763 2285.81,87.9763 2289.16,87.9763 2292.51,87.9763 \n",
       "  \n",
       "  \"/>\n",
       "<polyline clip-path=\"url(#clip042)\" style=\"stroke:#e26f46; stroke-linecap:butt; stroke-linejoin:round; stroke-width:4; stroke-opacity:1; fill:none\" points=\"\n",
       "  284.343,1045.88 287.695,1045.89 291.048,1045.93 294.401,1046.04 297.753,1046.24 301.106,1046.56 304.458,1047.11 307.811,1048.06 311.163,1049.73 314.516,1052.55 \n",
       "  317.868,1057.13 321.221,1064.13 324.573,1074.3 327.926,1088.38 331.278,1107.01 334.631,1130.66 337.983,1159.54 341.336,1193.46 344.689,1231.76 348.041,1273.16 \n",
       "  351.394,1315.71 354.746,1356.81 358.099,1393.36 361.451,1422.14 364.804,1440.25 368.156,1445.72 371.509,1437.9 374.861,1417.63 378.214,1387.03 381.566,1349.07 \n",
       "  384.919,1307.01 388.271,1263.91 391.624,1222.29 394.977,1184.06 398.329,1150.41 401.682,1121.98 405.034,1098.89 408.387,1080.93 411.739,1067.59 415.092,1058.21 \n",
       "  418.444,1052.05 421.797,1048.34 425.149,1046.36 428.502,1045.5 431.854,1045.29 435.207,1045.38 438.559,1045.56 441.912,1045.72 445.265,1045.83 448.617,1045.87 \n",
       "  451.97,1045.88 455.322,1045.88 458.675,1045.88 462.027,1045.88 465.38,1045.88 468.732,1045.88 472.085,1045.88 475.437,1045.88 478.79,1045.88 482.142,1045.88 \n",
       "  485.495,1045.88 488.847,1045.88 492.2,1045.88 495.553,1045.88 498.905,1045.88 502.258,1045.88 505.61,1045.88 508.963,1045.88 512.315,1045.88 515.668,1045.88 \n",
       "  519.02,1045.88 522.373,1045.88 525.725,1045.88 529.078,1045.88 532.43,1045.88 535.783,1045.88 539.136,1045.88 542.488,1045.88 545.841,1045.88 549.193,1045.88 \n",
       "  552.546,1045.88 555.898,1045.88 559.251,1045.88 562.603,1045.88 565.956,1045.88 569.308,1045.88 572.661,1045.88 576.013,1045.88 579.366,1045.88 582.718,1045.88 \n",
       "  586.071,1045.88 589.424,1045.88 592.776,1045.88 596.129,1045.88 599.481,1045.88 602.834,1045.88 606.186,1045.88 609.539,1045.88 612.891,1045.88 616.244,1045.88 \n",
       "  619.596,1045.88 622.949,1045.88 626.301,1045.88 629.654,1045.88 633.006,1045.88 636.359,1045.88 639.712,1045.88 643.064,1045.88 646.417,1045.88 649.769,1045.88 \n",
       "  653.122,1045.88 656.474,1045.88 659.827,1045.88 663.179,1045.88 666.532,1045.88 669.884,1045.88 673.237,1045.88 676.589,1045.88 679.942,1045.88 683.294,1045.88 \n",
       "  686.647,1045.88 690,1045.88 693.352,1045.88 696.705,1045.88 700.057,1045.88 703.41,1045.88 706.762,1045.88 710.115,1045.88 713.467,1045.88 716.82,1045.88 \n",
       "  720.172,1045.88 723.525,1045.88 726.877,1045.88 730.23,1045.88 733.582,1045.88 736.935,1045.88 740.288,1045.88 743.64,1045.88 746.993,1045.88 750.345,1045.88 \n",
       "  753.698,1045.88 757.05,1045.88 760.403,1045.88 763.755,1045.88 767.108,1045.88 770.46,1045.88 773.813,1045.88 777.165,1045.88 780.518,1045.88 783.87,1045.88 \n",
       "  787.223,1045.88 790.576,1045.88 793.928,1045.88 797.281,1045.88 800.633,1045.88 803.986,1045.88 807.338,1045.88 810.691,1045.88 814.043,1045.88 817.396,1045.88 \n",
       "  820.748,1045.88 824.101,1045.88 827.453,1045.88 830.806,1045.88 834.159,1045.88 837.511,1045.88 840.864,1045.88 844.216,1045.88 847.569,1045.88 850.921,1045.88 \n",
       "  854.274,1045.88 857.626,1045.88 860.979,1045.88 864.331,1045.88 867.684,1045.88 871.036,1045.88 874.389,1045.88 877.741,1045.88 881.094,1045.88 884.447,1045.88 \n",
       "  887.799,1045.88 891.152,1045.88 894.504,1045.88 897.857,1045.88 901.209,1045.88 904.562,1045.88 907.914,1045.88 911.267,1045.88 914.619,1045.88 917.972,1045.88 \n",
       "  921.324,1045.88 924.677,1045.88 928.029,1045.88 931.382,1045.88 934.735,1045.88 938.087,1045.88 941.44,1045.88 944.792,1045.88 948.145,1045.88 951.497,1045.88 \n",
       "  954.85,1045.88 958.202,1045.88 961.555,1045.88 964.907,1045.88 968.26,1045.88 971.612,1045.88 974.965,1045.88 978.317,1045.88 981.67,1045.88 985.023,1045.88 \n",
       "  988.375,1045.88 991.728,1045.88 995.08,1045.88 998.433,1045.88 1001.79,1045.88 1005.14,1045.88 1008.49,1045.88 1011.84,1045.88 1015.2,1045.88 1018.55,1045.88 \n",
       "  1021.9,1045.88 1025.25,1045.88 1028.61,1045.88 1031.96,1045.88 1035.31,1045.88 1038.66,1045.88 1042.02,1045.88 1045.37,1045.88 1048.72,1045.88 1052.07,1045.88 \n",
       "  1055.43,1045.88 1058.78,1045.88 1062.13,1045.88 1065.48,1045.88 1068.84,1045.88 1072.19,1045.88 1075.54,1045.88 1078.89,1045.88 1082.25,1045.88 1085.6,1045.88 \n",
       "  1088.95,1045.88 1092.3,1045.88 1095.66,1045.88 1099.01,1045.88 1102.36,1045.88 1105.71,1045.88 1109.07,1045.88 1112.42,1045.88 1115.77,1045.88 1119.12,1045.88 \n",
       "  1122.48,1045.88 1125.83,1045.88 1129.18,1045.88 1132.53,1045.88 1135.89,1045.88 1139.24,1045.88 1142.59,1045.88 1145.94,1045.88 1149.3,1045.88 1152.65,1045.88 \n",
       "  1156,1045.88 1159.35,1045.88 1162.71,1045.88 1166.06,1045.88 1169.41,1045.88 1172.76,1045.88 1176.12,1045.88 1179.47,1045.88 1182.82,1045.88 1186.17,1045.88 \n",
       "  1189.53,1045.88 1192.88,1045.88 1196.23,1045.88 1199.58,1045.88 1202.94,1045.88 1206.29,1045.88 1209.64,1045.88 1212.99,1045.88 1216.35,1045.88 1219.7,1045.88 \n",
       "  1223.05,1045.88 1226.41,1045.88 1229.76,1045.88 1233.11,1045.88 1236.46,1045.88 1239.82,1045.88 1243.17,1045.88 1246.52,1045.88 1249.87,1045.88 1253.23,1045.88 \n",
       "  1256.58,1045.88 1259.93,1045.88 1263.28,1045.88 1266.64,1045.88 1269.99,1045.88 1273.34,1045.88 1276.69,1045.88 1280.05,1045.88 1283.4,1045.88 1286.75,1045.88 \n",
       "  1290.1,1045.88 1293.46,1045.88 1296.81,1045.88 1300.16,1045.88 1303.51,1045.88 1306.87,1045.88 1310.22,1045.88 1313.57,1045.88 1316.92,1045.88 1320.28,1045.88 \n",
       "  1323.63,1045.88 1326.98,1045.88 1330.33,1045.88 1333.69,1045.88 1337.04,1045.88 1340.39,1045.88 1343.74,1045.88 1347.1,1045.88 1350.45,1045.88 1353.8,1045.88 \n",
       "  1357.15,1045.88 1360.51,1045.88 1363.86,1045.88 1367.21,1045.88 1370.56,1045.88 1373.92,1045.88 1377.27,1045.88 1380.62,1045.88 1383.97,1045.88 1387.33,1045.88 \n",
       "  1390.68,1045.88 1394.03,1045.88 1397.38,1045.88 1400.74,1045.88 1404.09,1045.88 1407.44,1045.88 1410.79,1045.88 1414.15,1045.88 1417.5,1045.88 1420.85,1045.88 \n",
       "  1424.2,1045.88 1427.56,1045.88 1430.91,1045.88 1434.26,1045.88 1437.61,1045.88 1440.97,1045.88 1444.32,1045.88 1447.67,1045.88 1451.02,1045.88 1454.38,1045.88 \n",
       "  1457.73,1045.88 1461.08,1045.88 1464.43,1045.88 1467.79,1045.88 1471.14,1045.88 1474.49,1045.88 1477.85,1045.88 1481.2,1045.88 1484.55,1045.88 1487.9,1045.88 \n",
       "  1491.26,1045.88 1494.61,1045.88 1497.96,1045.88 1501.31,1045.88 1504.67,1045.88 1508.02,1045.88 1511.37,1045.88 1514.72,1045.88 1518.08,1045.88 1521.43,1045.88 \n",
       "  1524.78,1045.88 1528.13,1045.88 1531.49,1045.88 1534.84,1045.88 1538.19,1045.88 1541.54,1045.88 1544.9,1045.88 1548.25,1045.88 1551.6,1045.88 1554.95,1045.88 \n",
       "  1558.31,1045.88 1561.66,1045.88 1565.01,1045.88 1568.36,1045.88 1571.72,1045.88 1575.07,1045.88 1578.42,1045.88 1581.77,1045.88 1585.13,1045.88 1588.48,1045.88 \n",
       "  1591.83,1045.88 1595.18,1045.88 1598.54,1045.88 1601.89,1045.88 1605.24,1045.88 1608.59,1045.88 1611.95,1045.88 1615.3,1045.88 1618.65,1045.88 1622,1045.88 \n",
       "  1625.36,1045.88 1628.71,1045.88 1632.06,1045.88 1635.41,1045.88 1638.77,1045.88 1642.12,1045.88 1645.47,1045.88 1648.82,1045.88 1652.18,1045.88 1655.53,1045.88 \n",
       "  1658.88,1045.88 1662.23,1045.88 1665.59,1045.88 1668.94,1045.88 1672.29,1045.88 1675.64,1045.88 1679,1045.88 1682.35,1045.88 1685.7,1045.88 1689.05,1045.88 \n",
       "  1692.41,1045.88 1695.76,1045.88 1699.11,1045.88 1702.46,1045.88 1705.82,1045.88 1709.17,1045.88 1712.52,1045.88 1715.87,1045.88 1719.23,1045.88 1722.58,1045.88 \n",
       "  1725.93,1045.88 1729.29,1045.88 1732.64,1045.88 1735.99,1045.88 1739.34,1045.88 1742.7,1045.88 1746.05,1045.88 1749.4,1045.88 1752.75,1045.88 1756.11,1045.88 \n",
       "  1759.46,1045.88 1762.81,1045.88 1766.16,1045.88 1769.52,1045.88 1772.87,1045.88 1776.22,1045.88 1779.57,1045.88 1782.93,1045.88 1786.28,1045.88 1789.63,1045.88 \n",
       "  1792.98,1045.88 1796.34,1045.88 1799.69,1045.88 1803.04,1045.88 1806.39,1045.88 1809.75,1045.88 1813.1,1045.88 1816.45,1045.88 1819.8,1045.88 1823.16,1045.88 \n",
       "  1826.51,1045.88 1829.86,1045.88 1833.21,1045.88 1836.57,1045.88 1839.92,1045.88 1843.27,1045.88 1846.62,1045.88 1849.98,1045.88 1853.33,1045.88 1856.68,1045.88 \n",
       "  1860.03,1045.88 1863.39,1045.88 1866.74,1045.88 1870.09,1045.88 1873.44,1045.88 1876.8,1045.88 1880.15,1045.88 1883.5,1045.88 1886.85,1045.88 1890.21,1045.88 \n",
       "  1893.56,1045.88 1896.91,1045.88 1900.26,1045.88 1903.62,1045.88 1906.97,1045.88 1910.32,1045.88 1913.67,1045.88 1917.03,1045.88 1920.38,1045.88 1923.73,1045.88 \n",
       "  1927.08,1045.88 1930.44,1045.88 1933.79,1045.88 1937.14,1045.88 1940.49,1045.88 1943.85,1045.88 1947.2,1045.88 1950.55,1045.88 1953.9,1045.88 1957.26,1045.88 \n",
       "  1960.61,1045.88 1963.96,1045.88 1967.32,1045.88 1970.67,1045.88 1974.02,1045.88 1977.37,1045.88 1980.73,1045.88 1984.08,1045.88 1987.43,1045.88 1990.78,1045.88 \n",
       "  1994.14,1045.88 1997.49,1045.88 2000.84,1045.88 2004.19,1045.88 2007.55,1045.88 2010.9,1045.88 2014.25,1045.88 2017.6,1045.88 2020.96,1045.88 2024.31,1045.88 \n",
       "  2027.66,1045.88 2031.01,1045.88 2034.37,1045.88 2037.72,1045.88 2041.07,1045.88 2044.42,1045.88 2047.78,1045.88 2051.13,1045.88 2054.48,1045.88 2057.83,1045.88 \n",
       "  2061.19,1045.88 2064.54,1045.88 2067.89,1045.88 2071.24,1045.88 2074.6,1045.88 2077.95,1045.88 2081.3,1045.88 2084.65,1045.88 2088.01,1045.88 2091.36,1045.88 \n",
       "  2094.71,1045.88 2098.06,1045.88 2101.42,1045.88 2104.77,1045.88 2108.12,1045.88 2111.47,1045.88 2114.83,1045.88 2118.18,1045.88 2121.53,1045.88 2124.88,1045.88 \n",
       "  2128.24,1045.88 2131.59,1045.88 2134.94,1045.88 2138.29,1045.88 2141.65,1045.88 2145,1045.88 2148.35,1045.88 2151.7,1045.88 2155.06,1045.88 2158.41,1045.88 \n",
       "  2161.76,1045.88 2165.11,1045.88 2168.47,1045.88 2171.82,1045.88 2175.17,1045.88 2178.52,1045.88 2181.88,1045.88 2185.23,1045.88 2188.58,1045.88 2191.93,1045.88 \n",
       "  2195.29,1045.88 2198.64,1045.88 2201.99,1045.88 2205.34,1045.88 2208.7,1045.88 2212.05,1045.88 2215.4,1045.88 2218.76,1045.88 2222.11,1045.88 2225.46,1045.88 \n",
       "  2228.81,1045.88 2232.17,1045.88 2235.52,1045.88 2238.87,1045.88 2242.22,1045.88 2245.58,1045.88 2248.93,1045.88 2252.28,1045.88 2255.63,1045.88 2258.99,1045.88 \n",
       "  2262.34,1045.88 2265.69,1045.88 2269.04,1045.88 2272.4,1045.88 2275.75,1045.88 2279.1,1045.88 2282.45,1045.88 2285.81,1045.88 2289.16,1045.88 2292.51,1045.88 \n",
       "  \n",
       "  \"/>\n",
       "<path clip-path=\"url(#clip040)\" d=\"\n",
       "M1992.85 276.658 L2281.8 276.658 L2281.8 95.2176 L1992.85 95.2176  Z\n",
       "  \" fill=\"#ffffff\" fill-rule=\"evenodd\" fill-opacity=\"1\"/>\n",
       "<polyline clip-path=\"url(#clip040)\" style=\"stroke:#000000; stroke-linecap:butt; stroke-linejoin:round; stroke-width:4; stroke-opacity:1; fill:none\" points=\"\n",
       "  1992.85,276.658 2281.8,276.658 2281.8,95.2176 1992.85,95.2176 1992.85,276.658 \n",
       "  \"/>\n",
       "<polyline clip-path=\"url(#clip040)\" style=\"stroke:#009af9; stroke-linecap:butt; stroke-linejoin:round; stroke-width:4; stroke-opacity:1; fill:none\" points=\"\n",
       "  2016.5,155.698 2158.42,155.698 \n",
       "  \"/>\n",
       "<path clip-path=\"url(#clip040)\" d=\"M2195.91 175.385 Q2194.1 180.015 2192.39 181.427 Q2190.68 182.839 2187.81 182.839 L2184.4 182.839 L2184.4 179.274 L2186.9 179.274 Q2188.66 179.274 2189.64 178.44 Q2190.61 177.607 2191.79 174.505 L2192.55 172.561 L2182.07 147.052 L2186.58 147.052 L2194.68 167.329 L2202.78 147.052 L2207.3 147.052 L2195.91 175.385 Z\" fill=\"#000000\" fill-rule=\"evenodd\" fill-opacity=\"1\" /><path clip-path=\"url(#clip040)\" d=\"M2214.59 169.042 L2222.23 169.042 L2222.23 142.677 L2213.92 144.343 L2213.92 140.084 L2222.18 138.418 L2226.86 138.418 L2226.86 169.042 L2234.5 169.042 L2234.5 172.978 L2214.59 172.978 L2214.59 169.042 Z\" fill=\"#000000\" fill-rule=\"evenodd\" fill-opacity=\"1\" /><polyline clip-path=\"url(#clip040)\" style=\"stroke:#e26f46; stroke-linecap:butt; stroke-linejoin:round; stroke-width:4; stroke-opacity:1; fill:none\" points=\"\n",
       "  2016.5,216.178 2158.42,216.178 \n",
       "  \"/>\n",
       "<path clip-path=\"url(#clip040)\" d=\"M2195.91 235.865 Q2194.1 240.495 2192.39 241.907 Q2190.68 243.319 2187.81 243.319 L2184.4 243.319 L2184.4 239.754 L2186.9 239.754 Q2188.66 239.754 2189.64 238.92 Q2190.61 238.087 2191.79 234.985 L2192.55 233.041 L2182.07 207.532 L2186.58 207.532 L2194.68 227.809 L2202.78 207.532 L2207.3 207.532 L2195.91 235.865 Z\" fill=\"#000000\" fill-rule=\"evenodd\" fill-opacity=\"1\" /><path clip-path=\"url(#clip040)\" d=\"M2217.81 229.522 L2234.13 229.522 L2234.13 233.458 L2212.18 233.458 L2212.18 229.522 Q2214.84 226.768 2219.43 222.138 Q2224.03 217.485 2225.21 216.143 Q2227.46 213.62 2228.34 211.884 Q2229.24 210.124 2229.24 208.435 Q2229.24 205.68 2227.3 203.944 Q2225.38 202.208 2222.27 202.208 Q2220.08 202.208 2217.62 202.972 Q2215.19 203.735 2212.41 205.286 L2212.41 200.564 Q2215.24 199.43 2217.69 198.851 Q2220.15 198.273 2222.18 198.273 Q2227.55 198.273 2230.75 200.958 Q2233.94 203.643 2233.94 208.134 Q2233.94 210.263 2233.13 212.185 Q2232.34 214.083 2230.24 216.675 Q2229.66 217.347 2226.56 220.564 Q2223.46 223.759 2217.81 229.522 Z\" fill=\"#000000\" fill-rule=\"evenodd\" fill-opacity=\"1\" /></svg>\n"
      ]
     },
     "execution_count": 60,
     "metadata": {},
     "output_type": "execute_result"
    }
   ],
   "source": [
    "x = [(i-1)*dx for i in 1:M]\n",
    "#plot(x,flu_0[:,1]) \n",
    "plot(x,flu_0[:,1] .+ 6.)\n",
    "plot!(x,con_0[:,1])# .- 0.17)"
   ]
  },
  {
   "cell_type": "code",
   "execution_count": 61,
   "metadata": {
    "tags": []
   },
   "outputs": [
    {
     "data": {
      "image/svg+xml": [
       "<?xml version=\"1.0\" encoding=\"utf-8\"?>\n",
       "<svg xmlns=\"http://www.w3.org/2000/svg\" xmlns:xlink=\"http://www.w3.org/1999/xlink\" width=\"600\" height=\"400\" viewBox=\"0 0 2400 1600\">\n",
       "<defs>\n",
       "  <clipPath id=\"clip080\">\n",
       "    <rect x=\"0\" y=\"0\" width=\"2400\" height=\"1600\"/>\n",
       "  </clipPath>\n",
       "</defs>\n",
       "<path clip-path=\"url(#clip080)\" d=\"\n",
       "M0 1600 L2400 1600 L2400 0 L0 0  Z\n",
       "  \" fill=\"#ffffff\" fill-rule=\"evenodd\" fill-opacity=\"1\"/>\n",
       "<defs>\n",
       "  <clipPath id=\"clip081\">\n",
       "    <rect x=\"480\" y=\"0\" width=\"1681\" height=\"1600\"/>\n",
       "  </clipPath>\n",
       "</defs>\n",
       "<path clip-path=\"url(#clip080)\" d=\"\n",
       "M224.098 1486.45 L2352.76 1486.45 L2352.76 47.2441 L224.098 47.2441  Z\n",
       "  \" fill=\"#ffffff\" fill-rule=\"evenodd\" fill-opacity=\"1\"/>\n",
       "<defs>\n",
       "  <clipPath id=\"clip082\">\n",
       "    <rect x=\"224\" y=\"47\" width=\"2130\" height=\"1440\"/>\n",
       "  </clipPath>\n",
       "</defs>\n",
       "<polyline clip-path=\"url(#clip082)\" style=\"stroke:#000000; stroke-linecap:butt; stroke-linejoin:round; stroke-width:2; stroke-opacity:0.1; fill:none\" points=\"\n",
       "  284.343,1486.45 284.343,47.2441 \n",
       "  \"/>\n",
       "<polyline clip-path=\"url(#clip082)\" style=\"stroke:#000000; stroke-linecap:butt; stroke-linejoin:round; stroke-width:2; stroke-opacity:0.1; fill:none\" points=\"\n",
       "  703.41,1486.45 703.41,47.2441 \n",
       "  \"/>\n",
       "<polyline clip-path=\"url(#clip082)\" style=\"stroke:#000000; stroke-linecap:butt; stroke-linejoin:round; stroke-width:2; stroke-opacity:0.1; fill:none\" points=\"\n",
       "  1122.48,1486.45 1122.48,47.2441 \n",
       "  \"/>\n",
       "<polyline clip-path=\"url(#clip082)\" style=\"stroke:#000000; stroke-linecap:butt; stroke-linejoin:round; stroke-width:2; stroke-opacity:0.1; fill:none\" points=\"\n",
       "  1541.54,1486.45 1541.54,47.2441 \n",
       "  \"/>\n",
       "<polyline clip-path=\"url(#clip082)\" style=\"stroke:#000000; stroke-linecap:butt; stroke-linejoin:round; stroke-width:2; stroke-opacity:0.1; fill:none\" points=\"\n",
       "  1960.61,1486.45 1960.61,47.2441 \n",
       "  \"/>\n",
       "<polyline clip-path=\"url(#clip080)\" style=\"stroke:#000000; stroke-linecap:butt; stroke-linejoin:round; stroke-width:4; stroke-opacity:1; fill:none\" points=\"\n",
       "  224.098,1486.45 2352.76,1486.45 \n",
       "  \"/>\n",
       "<polyline clip-path=\"url(#clip080)\" style=\"stroke:#000000; stroke-linecap:butt; stroke-linejoin:round; stroke-width:4; stroke-opacity:1; fill:none\" points=\"\n",
       "  284.343,1486.45 284.343,1469.18 \n",
       "  \"/>\n",
       "<polyline clip-path=\"url(#clip080)\" style=\"stroke:#000000; stroke-linecap:butt; stroke-linejoin:round; stroke-width:4; stroke-opacity:1; fill:none\" points=\"\n",
       "  703.41,1486.45 703.41,1469.18 \n",
       "  \"/>\n",
       "<polyline clip-path=\"url(#clip080)\" style=\"stroke:#000000; stroke-linecap:butt; stroke-linejoin:round; stroke-width:4; stroke-opacity:1; fill:none\" points=\"\n",
       "  1122.48,1486.45 1122.48,1469.18 \n",
       "  \"/>\n",
       "<polyline clip-path=\"url(#clip080)\" style=\"stroke:#000000; stroke-linecap:butt; stroke-linejoin:round; stroke-width:4; stroke-opacity:1; fill:none\" points=\"\n",
       "  1541.54,1486.45 1541.54,1469.18 \n",
       "  \"/>\n",
       "<polyline clip-path=\"url(#clip080)\" style=\"stroke:#000000; stroke-linecap:butt; stroke-linejoin:round; stroke-width:4; stroke-opacity:1; fill:none\" points=\"\n",
       "  1960.61,1486.45 1960.61,1469.18 \n",
       "  \"/>\n",
       "<path clip-path=\"url(#clip080)\" d=\"M261.727 1515.64 Q258.116 1515.64 256.288 1519.2 Q254.482 1522.75 254.482 1529.87 Q254.482 1536.98 256.288 1540.55 Q258.116 1544.09 261.727 1544.09 Q265.362 1544.09 267.167 1540.55 Q268.996 1536.98 268.996 1529.87 Q268.996 1522.75 267.167 1519.2 Q265.362 1515.64 261.727 1515.64 M261.727 1511.93 Q267.537 1511.93 270.593 1516.54 Q273.672 1521.12 273.672 1529.87 Q273.672 1538.6 270.593 1543.21 Q267.537 1547.79 261.727 1547.79 Q255.917 1547.79 252.838 1543.21 Q249.783 1538.6 249.783 1529.87 Q249.783 1521.12 252.838 1516.54 Q255.917 1511.93 261.727 1511.93 Z\" fill=\"#000000\" fill-rule=\"evenodd\" fill-opacity=\"1\" /><path clip-path=\"url(#clip080)\" d=\"M281.889 1541.24 L286.773 1541.24 L286.773 1547.12 L281.889 1547.12 L281.889 1541.24 Z\" fill=\"#000000\" fill-rule=\"evenodd\" fill-opacity=\"1\" /><path clip-path=\"url(#clip080)\" d=\"M306.959 1515.64 Q303.347 1515.64 301.519 1519.2 Q299.713 1522.75 299.713 1529.87 Q299.713 1536.98 301.519 1540.55 Q303.347 1544.09 306.959 1544.09 Q310.593 1544.09 312.398 1540.55 Q314.227 1536.98 314.227 1529.87 Q314.227 1522.75 312.398 1519.2 Q310.593 1515.64 306.959 1515.64 M306.959 1511.93 Q312.769 1511.93 315.824 1516.54 Q318.903 1521.12 318.903 1529.87 Q318.903 1538.6 315.824 1543.21 Q312.769 1547.79 306.959 1547.79 Q301.148 1547.79 298.07 1543.21 Q295.014 1538.6 295.014 1529.87 Q295.014 1521.12 298.07 1516.54 Q301.148 1511.93 306.959 1511.93 Z\" fill=\"#000000\" fill-rule=\"evenodd\" fill-opacity=\"1\" /><path clip-path=\"url(#clip080)\" d=\"M681.292 1515.64 Q677.681 1515.64 675.852 1519.2 Q674.046 1522.75 674.046 1529.87 Q674.046 1536.98 675.852 1540.55 Q677.681 1544.09 681.292 1544.09 Q684.926 1544.09 686.732 1540.55 Q688.56 1536.98 688.56 1529.87 Q688.56 1522.75 686.732 1519.2 Q684.926 1515.64 681.292 1515.64 M681.292 1511.93 Q687.102 1511.93 690.157 1516.54 Q693.236 1521.12 693.236 1529.87 Q693.236 1538.6 690.157 1543.21 Q687.102 1547.79 681.292 1547.79 Q675.482 1547.79 672.403 1543.21 Q669.347 1538.6 669.347 1529.87 Q669.347 1521.12 672.403 1516.54 Q675.482 1511.93 681.292 1511.93 Z\" fill=\"#000000\" fill-rule=\"evenodd\" fill-opacity=\"1\" /><path clip-path=\"url(#clip080)\" d=\"M701.454 1541.24 L706.338 1541.24 L706.338 1547.12 L701.454 1547.12 L701.454 1541.24 Z\" fill=\"#000000\" fill-rule=\"evenodd\" fill-opacity=\"1\" /><path clip-path=\"url(#clip080)\" d=\"M716.569 1512.56 L734.926 1512.56 L734.926 1516.5 L720.852 1516.5 L720.852 1524.97 Q721.87 1524.62 722.889 1524.46 Q723.907 1524.27 724.926 1524.27 Q730.713 1524.27 734.092 1527.44 Q737.472 1530.62 737.472 1536.03 Q737.472 1541.61 734 1544.71 Q730.528 1547.79 724.208 1547.79 Q722.032 1547.79 719.764 1547.42 Q717.518 1547.05 715.111 1546.31 L715.111 1541.61 Q717.194 1542.74 719.417 1543.3 Q721.639 1543.86 724.116 1543.86 Q728.12 1543.86 730.458 1541.75 Q732.796 1539.64 732.796 1536.03 Q732.796 1532.42 730.458 1530.31 Q728.12 1528.21 724.116 1528.21 Q722.241 1528.21 720.366 1528.62 Q718.514 1529.04 716.569 1529.92 L716.569 1512.56 Z\" fill=\"#000000\" fill-rule=\"evenodd\" fill-opacity=\"1\" /><path clip-path=\"url(#clip080)\" d=\"M1089.63 1543.18 L1097.27 1543.18 L1097.27 1516.82 L1088.96 1518.49 L1088.96 1514.23 L1097.22 1512.56 L1101.9 1512.56 L1101.9 1543.18 L1109.54 1543.18 L1109.54 1547.12 L1089.63 1547.12 L1089.63 1543.18 Z\" fill=\"#000000\" fill-rule=\"evenodd\" fill-opacity=\"1\" /><path clip-path=\"url(#clip080)\" d=\"M1118.98 1541.24 L1123.87 1541.24 L1123.87 1547.12 L1118.98 1547.12 L1118.98 1541.24 Z\" fill=\"#000000\" fill-rule=\"evenodd\" fill-opacity=\"1\" /><path clip-path=\"url(#clip080)\" d=\"M1144.05 1515.64 Q1140.44 1515.64 1138.61 1519.2 Q1136.81 1522.75 1136.81 1529.87 Q1136.81 1536.98 1138.61 1540.55 Q1140.44 1544.09 1144.05 1544.09 Q1147.68 1544.09 1149.49 1540.55 Q1151.32 1536.98 1151.32 1529.87 Q1151.32 1522.75 1149.49 1519.2 Q1147.68 1515.64 1144.05 1515.64 M1144.05 1511.93 Q1149.86 1511.93 1152.92 1516.54 Q1155.99 1521.12 1155.99 1529.87 Q1155.99 1538.6 1152.92 1543.21 Q1149.86 1547.79 1144.05 1547.79 Q1138.24 1547.79 1135.16 1543.21 Q1132.11 1538.6 1132.11 1529.87 Q1132.11 1521.12 1135.16 1516.54 Q1138.24 1511.93 1144.05 1511.93 Z\" fill=\"#000000\" fill-rule=\"evenodd\" fill-opacity=\"1\" /><path clip-path=\"url(#clip080)\" d=\"M1509.19 1543.18 L1516.83 1543.18 L1516.83 1516.82 L1508.52 1518.49 L1508.52 1514.23 L1516.79 1512.56 L1521.46 1512.56 L1521.46 1543.18 L1529.1 1543.18 L1529.1 1547.12 L1509.19 1547.12 L1509.19 1543.18 Z\" fill=\"#000000\" fill-rule=\"evenodd\" fill-opacity=\"1\" /><path clip-path=\"url(#clip080)\" d=\"M1538.55 1541.24 L1543.43 1541.24 L1543.43 1547.12 L1538.55 1547.12 L1538.55 1541.24 Z\" fill=\"#000000\" fill-rule=\"evenodd\" fill-opacity=\"1\" /><path clip-path=\"url(#clip080)\" d=\"M1553.66 1512.56 L1572.02 1512.56 L1572.02 1516.5 L1557.94 1516.5 L1557.94 1524.97 Q1558.96 1524.62 1559.98 1524.46 Q1561 1524.27 1562.02 1524.27 Q1567.8 1524.27 1571.18 1527.44 Q1574.56 1530.62 1574.56 1536.03 Q1574.56 1541.61 1571.09 1544.71 Q1567.62 1547.79 1561.3 1547.79 Q1559.12 1547.79 1556.86 1547.42 Q1554.61 1547.05 1552.2 1546.31 L1552.2 1541.61 Q1554.29 1542.74 1556.51 1543.3 Q1558.73 1543.86 1561.21 1543.86 Q1565.21 1543.86 1567.55 1541.75 Q1569.89 1539.64 1569.89 1536.03 Q1569.89 1532.42 1567.55 1530.31 Q1565.21 1528.21 1561.21 1528.21 Q1559.33 1528.21 1557.46 1528.62 Q1555.61 1529.04 1553.66 1529.92 L1553.66 1512.56 Z\" fill=\"#000000\" fill-rule=\"evenodd\" fill-opacity=\"1\" /><path clip-path=\"url(#clip080)\" d=\"M1931.85 1543.18 L1948.17 1543.18 L1948.17 1547.12 L1926.22 1547.12 L1926.22 1543.18 Q1928.89 1540.43 1933.47 1535.8 Q1938.08 1531.15 1939.26 1529.81 Q1941.5 1527.28 1942.38 1525.55 Q1943.28 1523.79 1943.28 1522.1 Q1943.28 1519.34 1941.34 1517.61 Q1939.42 1515.87 1936.32 1515.87 Q1934.12 1515.87 1931.66 1516.63 Q1929.23 1517.4 1926.46 1518.95 L1926.46 1514.23 Q1929.28 1513.09 1931.73 1512.51 Q1934.19 1511.93 1936.22 1511.93 Q1941.59 1511.93 1944.79 1514.62 Q1947.98 1517.31 1947.98 1521.8 Q1947.98 1523.93 1947.17 1525.85 Q1946.39 1527.74 1944.28 1530.34 Q1943.7 1531.01 1940.6 1534.23 Q1937.5 1537.42 1931.85 1543.18 Z\" fill=\"#000000\" fill-rule=\"evenodd\" fill-opacity=\"1\" /><path clip-path=\"url(#clip080)\" d=\"M1957.98 1541.24 L1962.87 1541.24 L1962.87 1547.12 L1957.98 1547.12 L1957.98 1541.24 Z\" fill=\"#000000\" fill-rule=\"evenodd\" fill-opacity=\"1\" /><path clip-path=\"url(#clip080)\" d=\"M1983.05 1515.64 Q1979.44 1515.64 1977.61 1519.2 Q1975.81 1522.75 1975.81 1529.87 Q1975.81 1536.98 1977.61 1540.55 Q1979.44 1544.09 1983.05 1544.09 Q1986.69 1544.09 1988.49 1540.55 Q1990.32 1536.98 1990.32 1529.87 Q1990.32 1522.75 1988.49 1519.2 Q1986.69 1515.64 1983.05 1515.64 M1983.05 1511.93 Q1988.86 1511.93 1991.92 1516.54 Q1995 1521.12 1995 1529.87 Q1995 1538.6 1991.92 1543.21 Q1988.86 1547.79 1983.05 1547.79 Q1977.24 1547.79 1974.16 1543.21 Q1971.11 1538.6 1971.11 1529.87 Q1971.11 1521.12 1974.16 1516.54 Q1977.24 1511.93 1983.05 1511.93 Z\" fill=\"#000000\" fill-rule=\"evenodd\" fill-opacity=\"1\" /><polyline clip-path=\"url(#clip082)\" style=\"stroke:#000000; stroke-linecap:butt; stroke-linejoin:round; stroke-width:2; stroke-opacity:0.1; fill:none\" points=\"\n",
       "  224.098,1363.42 2352.76,1363.42 \n",
       "  \"/>\n",
       "<polyline clip-path=\"url(#clip082)\" style=\"stroke:#000000; stroke-linecap:butt; stroke-linejoin:round; stroke-width:2; stroke-opacity:0.1; fill:none\" points=\"\n",
       "  224.098,1164.56 2352.76,1164.56 \n",
       "  \"/>\n",
       "<polyline clip-path=\"url(#clip082)\" style=\"stroke:#000000; stroke-linecap:butt; stroke-linejoin:round; stroke-width:2; stroke-opacity:0.1; fill:none\" points=\"\n",
       "  224.098,965.705 2352.76,965.705 \n",
       "  \"/>\n",
       "<polyline clip-path=\"url(#clip082)\" style=\"stroke:#000000; stroke-linecap:butt; stroke-linejoin:round; stroke-width:2; stroke-opacity:0.1; fill:none\" points=\"\n",
       "  224.098,766.846 2352.76,766.846 \n",
       "  \"/>\n",
       "<polyline clip-path=\"url(#clip082)\" style=\"stroke:#000000; stroke-linecap:butt; stroke-linejoin:round; stroke-width:2; stroke-opacity:0.1; fill:none\" points=\"\n",
       "  224.098,567.987 2352.76,567.987 \n",
       "  \"/>\n",
       "<polyline clip-path=\"url(#clip082)\" style=\"stroke:#000000; stroke-linecap:butt; stroke-linejoin:round; stroke-width:2; stroke-opacity:0.1; fill:none\" points=\"\n",
       "  224.098,369.128 2352.76,369.128 \n",
       "  \"/>\n",
       "<polyline clip-path=\"url(#clip082)\" style=\"stroke:#000000; stroke-linecap:butt; stroke-linejoin:round; stroke-width:2; stroke-opacity:0.1; fill:none\" points=\"\n",
       "  224.098,170.269 2352.76,170.269 \n",
       "  \"/>\n",
       "<polyline clip-path=\"url(#clip080)\" style=\"stroke:#000000; stroke-linecap:butt; stroke-linejoin:round; stroke-width:4; stroke-opacity:1; fill:none\" points=\"\n",
       "  224.098,1486.45 224.098,47.2441 \n",
       "  \"/>\n",
       "<polyline clip-path=\"url(#clip080)\" style=\"stroke:#000000; stroke-linecap:butt; stroke-linejoin:round; stroke-width:4; stroke-opacity:1; fill:none\" points=\"\n",
       "  224.098,1363.42 249.642,1363.42 \n",
       "  \"/>\n",
       "<polyline clip-path=\"url(#clip080)\" style=\"stroke:#000000; stroke-linecap:butt; stroke-linejoin:round; stroke-width:4; stroke-opacity:1; fill:none\" points=\"\n",
       "  224.098,1164.56 249.642,1164.56 \n",
       "  \"/>\n",
       "<polyline clip-path=\"url(#clip080)\" style=\"stroke:#000000; stroke-linecap:butt; stroke-linejoin:round; stroke-width:4; stroke-opacity:1; fill:none\" points=\"\n",
       "  224.098,965.705 249.642,965.705 \n",
       "  \"/>\n",
       "<polyline clip-path=\"url(#clip080)\" style=\"stroke:#000000; stroke-linecap:butt; stroke-linejoin:round; stroke-width:4; stroke-opacity:1; fill:none\" points=\"\n",
       "  224.098,766.846 249.642,766.846 \n",
       "  \"/>\n",
       "<polyline clip-path=\"url(#clip080)\" style=\"stroke:#000000; stroke-linecap:butt; stroke-linejoin:round; stroke-width:4; stroke-opacity:1; fill:none\" points=\"\n",
       "  224.098,567.987 249.642,567.987 \n",
       "  \"/>\n",
       "<polyline clip-path=\"url(#clip080)\" style=\"stroke:#000000; stroke-linecap:butt; stroke-linejoin:round; stroke-width:4; stroke-opacity:1; fill:none\" points=\"\n",
       "  224.098,369.128 249.642,369.128 \n",
       "  \"/>\n",
       "<polyline clip-path=\"url(#clip080)\" style=\"stroke:#000000; stroke-linecap:butt; stroke-linejoin:round; stroke-width:4; stroke-opacity:1; fill:none\" points=\"\n",
       "  224.098,170.269 249.642,170.269 \n",
       "  \"/>\n",
       "<path clip-path=\"url(#clip080)\" d=\"M51.9875 1363.87 L81.6633 1363.87 L81.6633 1367.81 L51.9875 1367.81 L51.9875 1363.87 Z\" fill=\"#000000\" fill-rule=\"evenodd\" fill-opacity=\"1\" /><path clip-path=\"url(#clip080)\" d=\"M101.756 1349.22 Q98.1447 1349.22 96.316 1352.79 Q94.5104 1356.33 94.5104 1363.46 Q94.5104 1370.56 96.316 1374.13 Q98.1447 1377.67 101.756 1377.67 Q105.39 1377.67 107.196 1374.13 Q109.024 1370.56 109.024 1363.46 Q109.024 1356.33 107.196 1352.79 Q105.39 1349.22 101.756 1349.22 M101.756 1345.52 Q107.566 1345.52 110.621 1350.12 Q113.7 1354.71 113.7 1363.46 Q113.7 1372.18 110.621 1376.79 Q107.566 1381.37 101.756 1381.37 Q95.9456 1381.37 92.8669 1376.79 Q89.8114 1372.18 89.8114 1363.46 Q89.8114 1354.71 92.8669 1350.12 Q95.9456 1345.52 101.756 1345.52 Z\" fill=\"#000000\" fill-rule=\"evenodd\" fill-opacity=\"1\" /><path clip-path=\"url(#clip080)\" d=\"M121.918 1374.82 L126.802 1374.82 L126.802 1380.7 L121.918 1380.7 L121.918 1374.82 Z\" fill=\"#000000\" fill-rule=\"evenodd\" fill-opacity=\"1\" /><path clip-path=\"url(#clip080)\" d=\"M137.797 1376.77 L145.436 1376.77 L145.436 1350.4 L137.126 1352.07 L137.126 1347.81 L145.39 1346.14 L150.066 1346.14 L150.066 1376.77 L157.705 1376.77 L157.705 1380.7 L137.797 1380.7 L137.797 1376.77 Z\" fill=\"#000000\" fill-rule=\"evenodd\" fill-opacity=\"1\" /><path clip-path=\"url(#clip080)\" d=\"M167.195 1346.14 L185.552 1346.14 L185.552 1350.08 L171.478 1350.08 L171.478 1358.55 Q172.496 1358.2 173.515 1358.04 Q174.533 1357.86 175.552 1357.86 Q181.339 1357.86 184.718 1361.03 Q188.098 1364.2 188.098 1369.62 Q188.098 1375.19 184.626 1378.3 Q181.153 1381.37 174.834 1381.37 Q172.658 1381.37 170.39 1381 Q168.144 1380.63 165.737 1379.89 L165.737 1375.19 Q167.82 1376.33 170.042 1376.88 Q172.265 1377.44 174.741 1377.44 Q178.746 1377.44 181.084 1375.33 Q183.422 1373.23 183.422 1369.62 Q183.422 1366 181.084 1363.9 Q178.746 1361.79 174.741 1361.79 Q172.866 1361.79 170.991 1362.21 Q169.14 1362.62 167.195 1363.5 L167.195 1346.14 Z\" fill=\"#000000\" fill-rule=\"evenodd\" fill-opacity=\"1\" /><path clip-path=\"url(#clip080)\" d=\"M50.9921 1165.02 L80.6679 1165.02 L80.6679 1168.95 L50.9921 1168.95 L50.9921 1165.02 Z\" fill=\"#000000\" fill-rule=\"evenodd\" fill-opacity=\"1\" /><path clip-path=\"url(#clip080)\" d=\"M100.76 1150.36 Q97.1493 1150.36 95.3206 1153.93 Q93.515 1157.47 93.515 1164.6 Q93.515 1171.71 95.3206 1175.27 Q97.1493 1178.81 100.76 1178.81 Q104.395 1178.81 106.2 1175.27 Q108.029 1171.71 108.029 1164.6 Q108.029 1157.47 106.2 1153.93 Q104.395 1150.36 100.76 1150.36 M100.76 1146.66 Q106.571 1146.66 109.626 1151.27 Q112.705 1155.85 112.705 1164.6 Q112.705 1173.33 109.626 1177.93 Q106.571 1182.52 100.76 1182.52 Q94.9502 1182.52 91.8715 1177.93 Q88.816 1173.33 88.816 1164.6 Q88.816 1155.85 91.8715 1151.27 Q94.9502 1146.66 100.76 1146.66 Z\" fill=\"#000000\" fill-rule=\"evenodd\" fill-opacity=\"1\" /><path clip-path=\"url(#clip080)\" d=\"M120.922 1175.96 L125.807 1175.96 L125.807 1181.84 L120.922 1181.84 L120.922 1175.96 Z\" fill=\"#000000\" fill-rule=\"evenodd\" fill-opacity=\"1\" /><path clip-path=\"url(#clip080)\" d=\"M136.802 1177.91 L144.441 1177.91 L144.441 1151.54 L136.131 1153.21 L136.131 1148.95 L144.394 1147.28 L149.07 1147.28 L149.07 1177.91 L156.709 1177.91 L156.709 1181.84 L136.802 1181.84 L136.802 1177.91 Z\" fill=\"#000000\" fill-rule=\"evenodd\" fill-opacity=\"1\" /><path clip-path=\"url(#clip080)\" d=\"M176.153 1150.36 Q172.542 1150.36 170.714 1153.93 Q168.908 1157.47 168.908 1164.6 Q168.908 1171.71 170.714 1175.27 Q172.542 1178.81 176.153 1178.81 Q179.788 1178.81 181.593 1175.27 Q183.422 1171.71 183.422 1164.6 Q183.422 1157.47 181.593 1153.93 Q179.788 1150.36 176.153 1150.36 M176.153 1146.66 Q181.964 1146.66 185.019 1151.27 Q188.098 1155.85 188.098 1164.6 Q188.098 1173.33 185.019 1177.93 Q181.964 1182.52 176.153 1182.52 Q170.343 1182.52 167.265 1177.93 Q164.209 1173.33 164.209 1164.6 Q164.209 1155.85 167.265 1151.27 Q170.343 1146.66 176.153 1146.66 Z\" fill=\"#000000\" fill-rule=\"evenodd\" fill-opacity=\"1\" /><path clip-path=\"url(#clip080)\" d=\"M51.9875 966.156 L81.6633 966.156 L81.6633 970.092 L51.9875 970.092 L51.9875 966.156 Z\" fill=\"#000000\" fill-rule=\"evenodd\" fill-opacity=\"1\" /><path clip-path=\"url(#clip080)\" d=\"M101.756 951.504 Q98.1447 951.504 96.316 955.069 Q94.5104 958.61 94.5104 965.74 Q94.5104 972.846 96.316 976.411 Q98.1447 979.953 101.756 979.953 Q105.39 979.953 107.196 976.411 Q109.024 972.846 109.024 965.74 Q109.024 958.61 107.196 955.069 Q105.39 951.504 101.756 951.504 M101.756 947.8 Q107.566 947.8 110.621 952.406 Q113.7 956.99 113.7 965.74 Q113.7 974.467 110.621 979.073 Q107.566 983.656 101.756 983.656 Q95.9456 983.656 92.8669 979.073 Q89.8114 974.467 89.8114 965.74 Q89.8114 956.99 92.8669 952.406 Q95.9456 947.8 101.756 947.8 Z\" fill=\"#000000\" fill-rule=\"evenodd\" fill-opacity=\"1\" /><path clip-path=\"url(#clip080)\" d=\"M121.918 977.105 L126.802 977.105 L126.802 982.985 L121.918 982.985 L121.918 977.105 Z\" fill=\"#000000\" fill-rule=\"evenodd\" fill-opacity=\"1\" /><path clip-path=\"url(#clip080)\" d=\"M146.987 951.504 Q143.376 951.504 141.547 955.069 Q139.742 958.61 139.742 965.74 Q139.742 972.846 141.547 976.411 Q143.376 979.953 146.987 979.953 Q150.621 979.953 152.427 976.411 Q154.255 972.846 154.255 965.74 Q154.255 958.61 152.427 955.069 Q150.621 951.504 146.987 951.504 M146.987 947.8 Q152.797 947.8 155.853 952.406 Q158.931 956.99 158.931 965.74 Q158.931 974.467 155.853 979.073 Q152.797 983.656 146.987 983.656 Q141.177 983.656 138.098 979.073 Q135.043 974.467 135.043 965.74 Q135.043 956.99 138.098 952.406 Q141.177 947.8 146.987 947.8 Z\" fill=\"#000000\" fill-rule=\"evenodd\" fill-opacity=\"1\" /><path clip-path=\"url(#clip080)\" d=\"M167.195 948.425 L185.552 948.425 L185.552 952.36 L171.478 952.36 L171.478 960.832 Q172.496 960.485 173.515 960.323 Q174.533 960.138 175.552 960.138 Q181.339 960.138 184.718 963.309 Q188.098 966.48 188.098 971.897 Q188.098 977.476 184.626 980.578 Q181.153 983.656 174.834 983.656 Q172.658 983.656 170.39 983.286 Q168.144 982.916 165.737 982.175 L165.737 977.476 Q167.82 978.61 170.042 979.166 Q172.265 979.721 174.741 979.721 Q178.746 979.721 181.084 977.615 Q183.422 975.508 183.422 971.897 Q183.422 968.286 181.084 966.18 Q178.746 964.073 174.741 964.073 Q172.866 964.073 170.991 964.49 Q169.14 964.906 167.195 965.786 L167.195 948.425 Z\" fill=\"#000000\" fill-rule=\"evenodd\" fill-opacity=\"1\" /><path clip-path=\"url(#clip080)\" d=\"M100.76 752.645 Q97.1493 752.645 95.3206 756.209 Q93.515 759.751 93.515 766.881 Q93.515 773.987 95.3206 777.552 Q97.1493 781.094 100.76 781.094 Q104.395 781.094 106.2 777.552 Q108.029 773.987 108.029 766.881 Q108.029 759.751 106.2 756.209 Q104.395 752.645 100.76 752.645 M100.76 748.941 Q106.571 748.941 109.626 753.547 Q112.705 758.131 112.705 766.881 Q112.705 775.608 109.626 780.214 Q106.571 784.797 100.76 784.797 Q94.9502 784.797 91.8715 780.214 Q88.816 775.608 88.816 766.881 Q88.816 758.131 91.8715 753.547 Q94.9502 748.941 100.76 748.941 Z\" fill=\"#000000\" fill-rule=\"evenodd\" fill-opacity=\"1\" /><path clip-path=\"url(#clip080)\" d=\"M120.922 778.246 L125.807 778.246 L125.807 784.126 L120.922 784.126 L120.922 778.246 Z\" fill=\"#000000\" fill-rule=\"evenodd\" fill-opacity=\"1\" /><path clip-path=\"url(#clip080)\" d=\"M145.992 752.645 Q142.381 752.645 140.552 756.209 Q138.746 759.751 138.746 766.881 Q138.746 773.987 140.552 777.552 Q142.381 781.094 145.992 781.094 Q149.626 781.094 151.431 777.552 Q153.26 773.987 153.26 766.881 Q153.26 759.751 151.431 756.209 Q149.626 752.645 145.992 752.645 M145.992 748.941 Q151.802 748.941 154.857 753.547 Q157.936 758.131 157.936 766.881 Q157.936 775.608 154.857 780.214 Q151.802 784.797 145.992 784.797 Q140.181 784.797 137.103 780.214 Q134.047 775.608 134.047 766.881 Q134.047 758.131 137.103 753.547 Q140.181 748.941 145.992 748.941 Z\" fill=\"#000000\" fill-rule=\"evenodd\" fill-opacity=\"1\" /><path clip-path=\"url(#clip080)\" d=\"M176.153 752.645 Q172.542 752.645 170.714 756.209 Q168.908 759.751 168.908 766.881 Q168.908 773.987 170.714 777.552 Q172.542 781.094 176.153 781.094 Q179.788 781.094 181.593 777.552 Q183.422 773.987 183.422 766.881 Q183.422 759.751 181.593 756.209 Q179.788 752.645 176.153 752.645 M176.153 748.941 Q181.964 748.941 185.019 753.547 Q188.098 758.131 188.098 766.881 Q188.098 775.608 185.019 780.214 Q181.964 784.797 176.153 784.797 Q170.343 784.797 167.265 780.214 Q164.209 775.608 164.209 766.881 Q164.209 758.131 167.265 753.547 Q170.343 748.941 176.153 748.941 Z\" fill=\"#000000\" fill-rule=\"evenodd\" fill-opacity=\"1\" /><path clip-path=\"url(#clip080)\" d=\"M101.756 553.786 Q98.1447 553.786 96.316 557.35 Q94.5104 560.892 94.5104 568.022 Q94.5104 575.128 96.316 578.693 Q98.1447 582.235 101.756 582.235 Q105.39 582.235 107.196 578.693 Q109.024 575.128 109.024 568.022 Q109.024 560.892 107.196 557.35 Q105.39 553.786 101.756 553.786 M101.756 550.082 Q107.566 550.082 110.621 554.688 Q113.7 559.272 113.7 568.022 Q113.7 576.748 110.621 581.355 Q107.566 585.938 101.756 585.938 Q95.9456 585.938 92.8669 581.355 Q89.8114 576.748 89.8114 568.022 Q89.8114 559.272 92.8669 554.688 Q95.9456 550.082 101.756 550.082 Z\" fill=\"#000000\" fill-rule=\"evenodd\" fill-opacity=\"1\" /><path clip-path=\"url(#clip080)\" d=\"M121.918 579.387 L126.802 579.387 L126.802 585.267 L121.918 585.267 L121.918 579.387 Z\" fill=\"#000000\" fill-rule=\"evenodd\" fill-opacity=\"1\" /><path clip-path=\"url(#clip080)\" d=\"M146.987 553.786 Q143.376 553.786 141.547 557.35 Q139.742 560.892 139.742 568.022 Q139.742 575.128 141.547 578.693 Q143.376 582.235 146.987 582.235 Q150.621 582.235 152.427 578.693 Q154.255 575.128 154.255 568.022 Q154.255 560.892 152.427 557.35 Q150.621 553.786 146.987 553.786 M146.987 550.082 Q152.797 550.082 155.853 554.688 Q158.931 559.272 158.931 568.022 Q158.931 576.748 155.853 581.355 Q152.797 585.938 146.987 585.938 Q141.177 585.938 138.098 581.355 Q135.043 576.748 135.043 568.022 Q135.043 559.272 138.098 554.688 Q141.177 550.082 146.987 550.082 Z\" fill=\"#000000\" fill-rule=\"evenodd\" fill-opacity=\"1\" /><path clip-path=\"url(#clip080)\" d=\"M167.195 550.707 L185.552 550.707 L185.552 554.642 L171.478 554.642 L171.478 563.114 Q172.496 562.767 173.515 562.605 Q174.533 562.42 175.552 562.42 Q181.339 562.42 184.718 565.591 Q188.098 568.762 188.098 574.179 Q188.098 579.758 184.626 582.86 Q181.153 585.938 174.834 585.938 Q172.658 585.938 170.39 585.568 Q168.144 585.198 165.737 584.457 L165.737 579.758 Q167.82 580.892 170.042 581.448 Q172.265 582.003 174.741 582.003 Q178.746 582.003 181.084 579.897 Q183.422 577.79 183.422 574.179 Q183.422 570.568 181.084 568.461 Q178.746 566.355 174.741 566.355 Q172.866 566.355 170.991 566.772 Q169.14 567.188 167.195 568.068 L167.195 550.707 Z\" fill=\"#000000\" fill-rule=\"evenodd\" fill-opacity=\"1\" /><path clip-path=\"url(#clip080)\" d=\"M100.76 354.927 Q97.1493 354.927 95.3206 358.491 Q93.515 362.033 93.515 369.163 Q93.515 376.269 95.3206 379.834 Q97.1493 383.376 100.76 383.376 Q104.395 383.376 106.2 379.834 Q108.029 376.269 108.029 369.163 Q108.029 362.033 106.2 358.491 Q104.395 354.927 100.76 354.927 M100.76 351.223 Q106.571 351.223 109.626 355.829 Q112.705 360.413 112.705 369.163 Q112.705 377.889 109.626 382.496 Q106.571 387.079 100.76 387.079 Q94.9502 387.079 91.8715 382.496 Q88.816 377.889 88.816 369.163 Q88.816 360.413 91.8715 355.829 Q94.9502 351.223 100.76 351.223 Z\" fill=\"#000000\" fill-rule=\"evenodd\" fill-opacity=\"1\" /><path clip-path=\"url(#clip080)\" d=\"M120.922 380.528 L125.807 380.528 L125.807 386.408 L120.922 386.408 L120.922 380.528 Z\" fill=\"#000000\" fill-rule=\"evenodd\" fill-opacity=\"1\" /><path clip-path=\"url(#clip080)\" d=\"M136.802 382.473 L144.441 382.473 L144.441 356.107 L136.131 357.774 L136.131 353.515 L144.394 351.848 L149.07 351.848 L149.07 382.473 L156.709 382.473 L156.709 386.408 L136.802 386.408 L136.802 382.473 Z\" fill=\"#000000\" fill-rule=\"evenodd\" fill-opacity=\"1\" /><path clip-path=\"url(#clip080)\" d=\"M176.153 354.927 Q172.542 354.927 170.714 358.491 Q168.908 362.033 168.908 369.163 Q168.908 376.269 170.714 379.834 Q172.542 383.376 176.153 383.376 Q179.788 383.376 181.593 379.834 Q183.422 376.269 183.422 369.163 Q183.422 362.033 181.593 358.491 Q179.788 354.927 176.153 354.927 M176.153 351.223 Q181.964 351.223 185.019 355.829 Q188.098 360.413 188.098 369.163 Q188.098 377.889 185.019 382.496 Q181.964 387.079 176.153 387.079 Q170.343 387.079 167.265 382.496 Q164.209 377.889 164.209 369.163 Q164.209 360.413 167.265 355.829 Q170.343 351.223 176.153 351.223 Z\" fill=\"#000000\" fill-rule=\"evenodd\" fill-opacity=\"1\" /><path clip-path=\"url(#clip080)\" d=\"M101.756 156.068 Q98.1447 156.068 96.316 159.632 Q94.5104 163.174 94.5104 170.304 Q94.5104 177.41 96.316 180.975 Q98.1447 184.516 101.756 184.516 Q105.39 184.516 107.196 180.975 Q109.024 177.41 109.024 170.304 Q109.024 163.174 107.196 159.632 Q105.39 156.068 101.756 156.068 M101.756 152.364 Q107.566 152.364 110.621 156.97 Q113.7 161.554 113.7 170.304 Q113.7 179.03 110.621 183.637 Q107.566 188.22 101.756 188.22 Q95.9456 188.22 92.8669 183.637 Q89.8114 179.03 89.8114 170.304 Q89.8114 161.554 92.8669 156.97 Q95.9456 152.364 101.756 152.364 Z\" fill=\"#000000\" fill-rule=\"evenodd\" fill-opacity=\"1\" /><path clip-path=\"url(#clip080)\" d=\"M121.918 181.669 L126.802 181.669 L126.802 187.549 L121.918 187.549 L121.918 181.669 Z\" fill=\"#000000\" fill-rule=\"evenodd\" fill-opacity=\"1\" /><path clip-path=\"url(#clip080)\" d=\"M137.797 183.614 L145.436 183.614 L145.436 157.248 L137.126 158.915 L137.126 154.656 L145.39 152.989 L150.066 152.989 L150.066 183.614 L157.705 183.614 L157.705 187.549 L137.797 187.549 L137.797 183.614 Z\" fill=\"#000000\" fill-rule=\"evenodd\" fill-opacity=\"1\" /><path clip-path=\"url(#clip080)\" d=\"M167.195 152.989 L185.552 152.989 L185.552 156.924 L171.478 156.924 L171.478 165.396 Q172.496 165.049 173.515 164.887 Q174.533 164.702 175.552 164.702 Q181.339 164.702 184.718 167.873 Q188.098 171.044 188.098 176.461 Q188.098 182.04 184.626 185.141 Q181.153 188.22 174.834 188.22 Q172.658 188.22 170.39 187.85 Q168.144 187.479 165.737 186.739 L165.737 182.04 Q167.82 183.174 170.042 183.729 Q172.265 184.285 174.741 184.285 Q178.746 184.285 181.084 182.179 Q183.422 180.072 183.422 176.461 Q183.422 172.85 181.084 170.743 Q178.746 168.637 174.741 168.637 Q172.866 168.637 170.991 169.054 Q169.14 169.47 167.195 170.35 L167.195 152.989 Z\" fill=\"#000000\" fill-rule=\"evenodd\" fill-opacity=\"1\" /><polyline clip-path=\"url(#clip082)\" style=\"stroke:#009af9; stroke-linecap:butt; stroke-linejoin:round; stroke-width:4; stroke-opacity:1; fill:none\" points=\"\n",
       "  284.343,766.846 287.695,767.944 291.048,774.76 294.401,790.83 297.753,817.724 301.106,855.456 304.458,902.872 307.811,958.015 311.163,1018.47 314.516,1081.7 \n",
       "  317.868,1145.26 321.221,1207.01 324.573,1265.13 327.926,1318.07 331.278,1364.4 334.631,1402.52 337.983,1430.49 341.336,1445.72 344.689,1444.92 348.041,1424.2 \n",
       "  351.394,1379.48 354.746,1307.37 358.099,1206.37 361.451,1078.17 364.804,928.473 368.156,766.846 371.509,605.219 374.861,455.524 378.214,327.319 381.566,226.319 \n",
       "  384.919,154.211 388.271,109.493 391.624,88.7721 394.977,87.9763 398.329,103.205 401.682,131.17 405.034,169.296 408.387,215.621 411.739,268.566 415.092,326.686 \n",
       "  418.444,388.433 421.797,451.993 425.149,515.218 428.502,575.677 431.854,630.82 435.207,678.236 438.559,715.968 441.912,742.862 445.265,758.932 448.617,765.748 \n",
       "  451.97,766.846 455.322,766.846 458.675,766.846 462.027,766.846 465.38,766.846 468.732,766.846 472.085,766.846 475.437,766.846 478.79,766.846 482.142,766.846 \n",
       "  485.495,766.846 488.847,766.846 492.2,766.846 495.553,766.846 498.905,766.846 502.258,766.846 505.61,766.846 508.963,766.846 512.315,766.846 515.668,766.846 \n",
       "  519.02,766.846 522.373,766.846 525.725,766.846 529.078,766.846 532.43,766.846 535.783,766.846 539.136,766.846 542.488,766.846 545.841,766.846 549.193,766.846 \n",
       "  552.546,766.846 555.898,766.846 559.251,766.846 562.603,766.846 565.956,766.846 569.308,766.846 572.661,766.846 576.013,766.846 579.366,766.846 582.718,766.846 \n",
       "  586.071,766.846 589.424,766.846 592.776,766.846 596.129,766.846 599.481,766.846 602.834,766.846 606.186,766.846 609.539,766.846 612.891,766.846 616.244,766.846 \n",
       "  619.596,766.846 622.949,766.846 626.301,766.846 629.654,766.846 633.006,766.846 636.359,766.846 639.712,766.846 643.064,766.846 646.417,766.846 649.769,766.846 \n",
       "  653.122,766.846 656.474,766.846 659.827,766.846 663.179,766.846 666.532,766.846 669.884,766.846 673.237,766.846 676.589,766.846 679.942,766.846 683.294,766.846 \n",
       "  686.647,766.846 690,766.846 693.352,766.846 696.705,766.846 700.057,766.846 703.41,766.846 706.762,766.846 710.115,766.846 713.467,766.846 716.82,766.846 \n",
       "  720.172,766.846 723.525,766.846 726.877,766.846 730.23,766.846 733.582,766.846 736.935,766.846 740.288,766.846 743.64,766.846 746.993,766.846 750.345,766.846 \n",
       "  753.698,766.846 757.05,766.846 760.403,766.846 763.755,766.846 767.108,766.846 770.46,766.846 773.813,766.846 777.165,766.846 780.518,766.846 783.87,766.846 \n",
       "  787.223,766.846 790.576,766.846 793.928,766.846 797.281,766.846 800.633,766.846 803.986,766.846 807.338,766.846 810.691,766.846 814.043,766.846 817.396,766.846 \n",
       "  820.748,766.846 824.101,766.846 827.453,766.846 830.806,766.846 834.159,766.846 837.511,766.846 840.864,766.846 844.216,766.846 847.569,766.846 850.921,766.846 \n",
       "  854.274,766.846 857.626,766.846 860.979,766.846 864.331,766.846 867.684,766.846 871.036,766.846 874.389,766.846 877.741,766.846 881.094,766.846 884.447,766.846 \n",
       "  887.799,766.846 891.152,766.846 894.504,766.846 897.857,766.846 901.209,766.846 904.562,766.846 907.914,766.846 911.267,766.846 914.619,766.846 917.972,766.846 \n",
       "  921.324,766.846 924.677,766.846 928.029,766.846 931.382,766.846 934.735,766.846 938.087,766.846 941.44,766.846 944.792,766.846 948.145,766.846 951.497,766.846 \n",
       "  954.85,766.846 958.202,766.846 961.555,766.846 964.907,766.846 968.26,766.846 971.612,766.846 974.965,766.846 978.317,766.846 981.67,766.846 985.023,766.846 \n",
       "  988.375,766.846 991.728,766.846 995.08,766.846 998.433,766.846 1001.79,766.846 1005.14,766.846 1008.49,766.846 1011.84,766.846 1015.2,766.846 1018.55,766.846 \n",
       "  1021.9,766.846 1025.25,766.846 1028.61,766.846 1031.96,766.846 1035.31,766.846 1038.66,766.846 1042.02,766.846 1045.37,766.846 1048.72,766.846 1052.07,766.846 \n",
       "  1055.43,766.846 1058.78,766.846 1062.13,766.846 1065.48,766.846 1068.84,766.846 1072.19,766.846 1075.54,766.846 1078.89,766.846 1082.25,766.846 1085.6,766.846 \n",
       "  1088.95,766.846 1092.3,766.846 1095.66,766.846 1099.01,766.846 1102.36,766.846 1105.71,766.846 1109.07,766.846 1112.42,766.846 1115.77,766.846 1119.12,766.846 \n",
       "  1122.48,766.846 1125.83,766.846 1129.18,766.846 1132.53,766.846 1135.89,766.846 1139.24,766.846 1142.59,766.846 1145.94,766.846 1149.3,766.846 1152.65,766.846 \n",
       "  1156,766.846 1159.35,766.846 1162.71,766.846 1166.06,766.846 1169.41,766.846 1172.76,766.846 1176.12,766.846 1179.47,766.846 1182.82,766.846 1186.17,766.846 \n",
       "  1189.53,766.846 1192.88,766.846 1196.23,766.846 1199.58,766.846 1202.94,766.846 1206.29,766.846 1209.64,766.846 1212.99,766.846 1216.35,766.846 1219.7,766.846 \n",
       "  1223.05,766.846 1226.41,766.846 1229.76,766.846 1233.11,766.846 1236.46,766.846 1239.82,766.846 1243.17,766.846 1246.52,766.846 1249.87,766.846 1253.23,766.846 \n",
       "  1256.58,766.846 1259.93,766.846 1263.28,766.846 1266.64,766.846 1269.99,766.846 1273.34,766.846 1276.69,766.846 1280.05,766.846 1283.4,766.846 1286.75,766.846 \n",
       "  1290.1,766.846 1293.46,766.846 1296.81,766.846 1300.16,766.846 1303.51,766.846 1306.87,766.846 1310.22,766.846 1313.57,766.846 1316.92,766.846 1320.28,766.846 \n",
       "  1323.63,766.846 1326.98,766.846 1330.33,766.846 1333.69,766.846 1337.04,766.846 1340.39,766.846 1343.74,766.846 1347.1,766.846 1350.45,766.846 1353.8,766.846 \n",
       "  1357.15,766.846 1360.51,766.846 1363.86,766.846 1367.21,766.846 1370.56,766.846 1373.92,766.846 1377.27,766.846 1380.62,766.846 1383.97,766.846 1387.33,766.846 \n",
       "  1390.68,766.846 1394.03,766.846 1397.38,766.846 1400.74,766.846 1404.09,766.846 1407.44,766.846 1410.79,766.846 1414.15,766.846 1417.5,766.846 1420.85,766.846 \n",
       "  1424.2,766.846 1427.56,766.846 1430.91,766.846 1434.26,766.846 1437.61,766.846 1440.97,766.846 1444.32,766.846 1447.67,766.846 1451.02,766.846 1454.38,766.846 \n",
       "  1457.73,766.846 1461.08,766.846 1464.43,766.846 1467.79,766.846 1471.14,766.846 1474.49,766.846 1477.85,766.846 1481.2,766.846 1484.55,766.846 1487.9,766.846 \n",
       "  1491.26,766.846 1494.61,766.846 1497.96,766.846 1501.31,766.846 1504.67,766.846 1508.02,766.846 1511.37,766.846 1514.72,766.846 1518.08,766.846 1521.43,766.846 \n",
       "  1524.78,766.846 1528.13,766.846 1531.49,766.846 1534.84,766.846 1538.19,766.846 1541.54,766.846 1544.9,766.846 1548.25,766.846 1551.6,766.846 1554.95,766.846 \n",
       "  1558.31,766.846 1561.66,766.846 1565.01,766.846 1568.36,766.846 1571.72,766.846 1575.07,766.846 1578.42,766.846 1581.77,766.846 1585.13,766.846 1588.48,766.846 \n",
       "  1591.83,766.846 1595.18,766.846 1598.54,766.846 1601.89,766.846 1605.24,766.846 1608.59,766.846 1611.95,766.846 1615.3,766.846 1618.65,766.846 1622,766.846 \n",
       "  1625.36,766.846 1628.71,766.846 1632.06,766.846 1635.41,766.846 1638.77,766.846 1642.12,766.846 1645.47,766.846 1648.82,766.846 1652.18,766.846 1655.53,766.846 \n",
       "  1658.88,766.846 1662.23,766.846 1665.59,766.846 1668.94,766.846 1672.29,766.846 1675.64,766.846 1679,766.846 1682.35,766.846 1685.7,766.846 1689.05,766.846 \n",
       "  1692.41,766.846 1695.76,766.846 1699.11,766.846 1702.46,766.846 1705.82,766.846 1709.17,766.846 1712.52,766.846 1715.87,766.846 1719.23,766.846 1722.58,766.846 \n",
       "  1725.93,766.846 1729.29,766.846 1732.64,766.846 1735.99,766.846 1739.34,766.846 1742.7,766.846 1746.05,766.846 1749.4,766.846 1752.75,766.846 1756.11,766.846 \n",
       "  1759.46,766.846 1762.81,766.846 1766.16,766.846 1769.52,766.846 1772.87,766.846 1776.22,766.846 1779.57,766.846 1782.93,766.846 1786.28,766.846 1789.63,766.846 \n",
       "  1792.98,766.846 1796.34,766.846 1799.69,766.846 1803.04,766.846 1806.39,766.846 1809.75,766.846 1813.1,766.846 1816.45,766.846 1819.8,766.846 1823.16,766.846 \n",
       "  1826.51,766.846 1829.86,766.846 1833.21,766.846 1836.57,766.846 1839.92,766.846 1843.27,766.846 1846.62,766.846 1849.98,766.846 1853.33,766.846 1856.68,766.846 \n",
       "  1860.03,766.846 1863.39,766.846 1866.74,766.846 1870.09,766.846 1873.44,766.846 1876.8,766.846 1880.15,766.846 1883.5,766.846 1886.85,766.846 1890.21,766.846 \n",
       "  1893.56,766.846 1896.91,766.846 1900.26,766.846 1903.62,766.846 1906.97,766.846 1910.32,766.846 1913.67,766.846 1917.03,766.846 1920.38,766.846 1923.73,766.846 \n",
       "  1927.08,766.846 1930.44,766.846 1933.79,766.846 1937.14,766.846 1940.49,766.846 1943.85,766.846 1947.2,766.846 1950.55,766.846 1953.9,766.846 1957.26,766.846 \n",
       "  1960.61,766.846 1963.96,766.846 1967.32,766.846 1970.67,766.846 1974.02,766.846 1977.37,766.846 1980.73,766.846 1984.08,766.846 1987.43,766.846 1990.78,766.846 \n",
       "  1994.14,766.846 1997.49,766.846 2000.84,766.846 2004.19,766.846 2007.55,766.846 2010.9,766.846 2014.25,766.846 2017.6,766.846 2020.96,766.846 2024.31,766.846 \n",
       "  2027.66,766.846 2031.01,766.846 2034.37,766.846 2037.72,766.846 2041.07,766.846 2044.42,766.846 2047.78,766.846 2051.13,766.846 2054.48,766.846 2057.83,766.846 \n",
       "  2061.19,766.846 2064.54,766.846 2067.89,766.846 2071.24,766.846 2074.6,766.846 2077.95,766.846 2081.3,766.846 2084.65,766.846 2088.01,766.846 2091.36,766.846 \n",
       "  2094.71,766.846 2098.06,766.846 2101.42,766.846 2104.77,766.846 2108.12,766.846 2111.47,766.846 2114.83,766.846 2118.18,766.846 2121.53,766.846 2124.88,766.846 \n",
       "  2128.24,766.846 2131.59,766.846 2134.94,766.846 2138.29,766.846 2141.65,766.846 2145,766.846 2148.35,766.846 2151.7,766.846 2155.06,766.846 2158.41,766.846 \n",
       "  2161.76,766.846 2165.11,766.846 2168.47,766.846 2171.82,766.846 2175.17,766.846 2178.52,766.846 2181.88,766.846 2185.23,766.846 2188.58,766.846 2191.93,766.846 \n",
       "  2195.29,766.846 2198.64,766.846 2201.99,766.846 2205.34,766.846 2208.7,766.846 2212.05,766.846 2215.4,766.846 2218.76,766.846 2222.11,766.846 2225.46,766.846 \n",
       "  2228.81,766.846 2232.17,766.846 2235.52,766.846 2238.87,766.846 2242.22,766.846 2245.58,766.846 2248.93,766.846 2252.28,766.846 2255.63,766.846 2258.99,766.846 \n",
       "  2262.34,766.846 2265.69,766.846 2269.04,766.846 2272.4,766.846 2275.75,766.846 2279.1,766.846 2282.45,766.846 2285.81,766.846 2289.16,766.846 2292.51,766.846 \n",
       "  \n",
       "  \"/>\n",
       "<polyline clip-path=\"url(#clip082)\" style=\"stroke:#e26f46; stroke-linecap:butt; stroke-linejoin:round; stroke-width:4; stroke-opacity:1; fill:none\" points=\"\n",
       "  284.343,771.356 287.695,771.356 291.048,771.357 294.401,771.36 297.753,771.364 301.106,771.372 304.458,771.384 307.811,771.406 311.163,771.444 314.516,771.51 \n",
       "  317.868,771.617 321.221,771.783 324.573,772.026 327.926,772.367 331.278,772.825 334.631,773.415 337.983,774.147 341.336,775.023 344.689,776.03 348.041,777.136 \n",
       "  351.394,778.289 354.746,779.412 358.099,780.41 361.451,781.182 364.804,781.638 368.156,781.722 371.509,781.424 374.861,780.785 378.214,779.881 381.566,778.811 \n",
       "  384.919,777.671 388.271,776.544 391.624,775.492 394.977,774.553 398.329,773.747 401.682,773.081 405.034,772.549 408.387,772.141 411.739,771.84 415.092,771.631 \n",
       "  418.444,771.493 421.797,771.41 425.149,771.366 428.502,771.347 431.854,771.343 435.207,771.345 438.559,771.349 441.912,771.353 445.265,771.355 448.617,771.356 \n",
       "  451.97,771.356 455.322,771.356 458.675,771.356 462.027,771.356 465.38,771.356 468.732,771.356 472.085,771.356 475.437,771.356 478.79,771.356 482.142,771.356 \n",
       "  485.495,771.356 488.847,771.356 492.2,771.356 495.553,771.356 498.905,771.356 502.258,771.356 505.61,771.356 508.963,771.356 512.315,771.356 515.668,771.356 \n",
       "  519.02,771.356 522.373,771.356 525.725,771.356 529.078,771.356 532.43,771.356 535.783,771.356 539.136,771.356 542.488,771.356 545.841,771.356 549.193,771.356 \n",
       "  552.546,771.356 555.898,771.356 559.251,771.356 562.603,771.356 565.956,771.356 569.308,771.356 572.661,771.356 576.013,771.356 579.366,771.356 582.718,771.356 \n",
       "  586.071,771.356 589.424,771.356 592.776,771.356 596.129,771.356 599.481,771.356 602.834,771.356 606.186,771.356 609.539,771.356 612.891,771.356 616.244,771.356 \n",
       "  619.596,771.356 622.949,771.356 626.301,771.356 629.654,771.356 633.006,771.356 636.359,771.356 639.712,771.356 643.064,771.356 646.417,771.356 649.769,771.356 \n",
       "  653.122,771.356 656.474,771.356 659.827,771.356 663.179,771.356 666.532,771.356 669.884,771.356 673.237,771.356 676.589,771.356 679.942,771.356 683.294,771.356 \n",
       "  686.647,771.356 690,771.356 693.352,771.356 696.705,771.356 700.057,771.356 703.41,771.356 706.762,771.356 710.115,771.356 713.467,771.356 716.82,771.356 \n",
       "  720.172,771.356 723.525,771.356 726.877,771.356 730.23,771.356 733.582,771.356 736.935,771.356 740.288,771.356 743.64,771.356 746.993,771.356 750.345,771.356 \n",
       "  753.698,771.356 757.05,771.356 760.403,771.356 763.755,771.356 767.108,771.356 770.46,771.356 773.813,771.356 777.165,771.356 780.518,771.356 783.87,771.356 \n",
       "  787.223,771.356 790.576,771.356 793.928,771.356 797.281,771.356 800.633,771.356 803.986,771.356 807.338,771.356 810.691,771.356 814.043,771.356 817.396,771.356 \n",
       "  820.748,771.356 824.101,771.356 827.453,771.356 830.806,771.356 834.159,771.356 837.511,771.356 840.864,771.356 844.216,771.356 847.569,771.356 850.921,771.356 \n",
       "  854.274,771.356 857.626,771.356 860.979,771.356 864.331,771.356 867.684,771.356 871.036,771.356 874.389,771.356 877.741,771.356 881.094,771.356 884.447,771.356 \n",
       "  887.799,771.356 891.152,771.356 894.504,771.356 897.857,771.356 901.209,771.356 904.562,771.356 907.914,771.356 911.267,771.356 914.619,771.356 917.972,771.356 \n",
       "  921.324,771.356 924.677,771.356 928.029,771.356 931.382,771.356 934.735,771.356 938.087,771.356 941.44,771.356 944.792,771.356 948.145,771.356 951.497,771.356 \n",
       "  954.85,771.356 958.202,771.356 961.555,771.356 964.907,771.356 968.26,771.356 971.612,771.356 974.965,771.356 978.317,771.356 981.67,771.356 985.023,771.356 \n",
       "  988.375,771.356 991.728,771.356 995.08,771.356 998.433,771.356 1001.79,771.356 1005.14,771.356 1008.49,771.356 1011.84,771.356 1015.2,771.356 1018.55,771.356 \n",
       "  1021.9,771.356 1025.25,771.356 1028.61,771.356 1031.96,771.356 1035.31,771.356 1038.66,771.356 1042.02,771.356 1045.37,771.356 1048.72,771.356 1052.07,771.356 \n",
       "  1055.43,771.356 1058.78,771.356 1062.13,771.356 1065.48,771.356 1068.84,771.356 1072.19,771.356 1075.54,771.356 1078.89,771.356 1082.25,771.356 1085.6,771.356 \n",
       "  1088.95,771.356 1092.3,771.356 1095.66,771.356 1099.01,771.356 1102.36,771.356 1105.71,771.356 1109.07,771.356 1112.42,771.356 1115.77,771.356 1119.12,771.356 \n",
       "  1122.48,771.356 1125.83,771.356 1129.18,771.356 1132.53,771.356 1135.89,771.356 1139.24,771.356 1142.59,771.356 1145.94,771.356 1149.3,771.356 1152.65,771.356 \n",
       "  1156,771.356 1159.35,771.356 1162.71,771.356 1166.06,771.356 1169.41,771.356 1172.76,771.356 1176.12,771.356 1179.47,771.356 1182.82,771.356 1186.17,771.356 \n",
       "  1189.53,771.356 1192.88,771.356 1196.23,771.356 1199.58,771.356 1202.94,771.356 1206.29,771.356 1209.64,771.356 1212.99,771.356 1216.35,771.356 1219.7,771.356 \n",
       "  1223.05,771.356 1226.41,771.356 1229.76,771.356 1233.11,771.356 1236.46,771.356 1239.82,771.356 1243.17,771.356 1246.52,771.356 1249.87,771.356 1253.23,771.356 \n",
       "  1256.58,771.356 1259.93,771.356 1263.28,771.356 1266.64,771.356 1269.99,771.356 1273.34,771.356 1276.69,771.356 1280.05,771.356 1283.4,771.356 1286.75,771.356 \n",
       "  1290.1,771.356 1293.46,771.356 1296.81,771.356 1300.16,771.356 1303.51,771.356 1306.87,771.356 1310.22,771.356 1313.57,771.356 1316.92,771.356 1320.28,771.356 \n",
       "  1323.63,771.356 1326.98,771.356 1330.33,771.356 1333.69,771.356 1337.04,771.356 1340.39,771.356 1343.74,771.356 1347.1,771.356 1350.45,771.356 1353.8,771.356 \n",
       "  1357.15,771.356 1360.51,771.356 1363.86,771.356 1367.21,771.356 1370.56,771.356 1373.92,771.356 1377.27,771.356 1380.62,771.356 1383.97,771.356 1387.33,771.356 \n",
       "  1390.68,771.356 1394.03,771.356 1397.38,771.356 1400.74,771.356 1404.09,771.356 1407.44,771.356 1410.79,771.356 1414.15,771.356 1417.5,771.356 1420.85,771.356 \n",
       "  1424.2,771.356 1427.56,771.356 1430.91,771.356 1434.26,771.356 1437.61,771.356 1440.97,771.356 1444.32,771.356 1447.67,771.356 1451.02,771.356 1454.38,771.356 \n",
       "  1457.73,771.356 1461.08,771.356 1464.43,771.356 1467.79,771.356 1471.14,771.356 1474.49,771.356 1477.85,771.356 1481.2,771.356 1484.55,771.356 1487.9,771.356 \n",
       "  1491.26,771.356 1494.61,771.356 1497.96,771.356 1501.31,771.356 1504.67,771.356 1508.02,771.356 1511.37,771.356 1514.72,771.356 1518.08,771.356 1521.43,771.356 \n",
       "  1524.78,771.356 1528.13,771.356 1531.49,771.356 1534.84,771.356 1538.19,771.356 1541.54,771.356 1544.9,771.356 1548.25,771.356 1551.6,771.356 1554.95,771.356 \n",
       "  1558.31,771.356 1561.66,771.356 1565.01,771.356 1568.36,771.356 1571.72,771.356 1575.07,771.356 1578.42,771.356 1581.77,771.356 1585.13,771.356 1588.48,771.356 \n",
       "  1591.83,771.356 1595.18,771.356 1598.54,771.356 1601.89,771.356 1605.24,771.356 1608.59,771.356 1611.95,771.356 1615.3,771.356 1618.65,771.356 1622,771.356 \n",
       "  1625.36,771.356 1628.71,771.356 1632.06,771.356 1635.41,771.356 1638.77,771.356 1642.12,771.356 1645.47,771.356 1648.82,771.356 1652.18,771.356 1655.53,771.356 \n",
       "  1658.88,771.356 1662.23,771.356 1665.59,771.356 1668.94,771.356 1672.29,771.356 1675.64,771.356 1679,771.356 1682.35,771.356 1685.7,771.356 1689.05,771.356 \n",
       "  1692.41,771.356 1695.76,771.356 1699.11,771.356 1702.46,771.356 1705.82,771.356 1709.17,771.356 1712.52,771.356 1715.87,771.356 1719.23,771.356 1722.58,771.356 \n",
       "  1725.93,771.356 1729.29,771.356 1732.64,771.356 1735.99,771.356 1739.34,771.356 1742.7,771.356 1746.05,771.356 1749.4,771.356 1752.75,771.356 1756.11,771.356 \n",
       "  1759.46,771.356 1762.81,771.356 1766.16,771.356 1769.52,771.356 1772.87,771.356 1776.22,771.356 1779.57,771.356 1782.93,771.356 1786.28,771.356 1789.63,771.356 \n",
       "  1792.98,771.356 1796.34,771.356 1799.69,771.356 1803.04,771.356 1806.39,771.356 1809.75,771.356 1813.1,771.356 1816.45,771.356 1819.8,771.356 1823.16,771.356 \n",
       "  1826.51,771.356 1829.86,771.356 1833.21,771.356 1836.57,771.356 1839.92,771.356 1843.27,771.356 1846.62,771.356 1849.98,771.356 1853.33,771.356 1856.68,771.356 \n",
       "  1860.03,771.356 1863.39,771.356 1866.74,771.356 1870.09,771.356 1873.44,771.356 1876.8,771.356 1880.15,771.356 1883.5,771.356 1886.85,771.356 1890.21,771.356 \n",
       "  1893.56,771.356 1896.91,771.356 1900.26,771.356 1903.62,771.356 1906.97,771.356 1910.32,771.356 1913.67,771.356 1917.03,771.356 1920.38,771.356 1923.73,771.356 \n",
       "  1927.08,771.356 1930.44,771.356 1933.79,771.356 1937.14,771.356 1940.49,771.356 1943.85,771.356 1947.2,771.356 1950.55,771.356 1953.9,771.356 1957.26,771.356 \n",
       "  1960.61,771.356 1963.96,771.356 1967.32,771.356 1970.67,771.356 1974.02,771.356 1977.37,771.356 1980.73,771.356 1984.08,771.356 1987.43,771.356 1990.78,771.356 \n",
       "  1994.14,771.356 1997.49,771.356 2000.84,771.356 2004.19,771.356 2007.55,771.356 2010.9,771.356 2014.25,771.356 2017.6,771.356 2020.96,771.356 2024.31,771.356 \n",
       "  2027.66,771.356 2031.01,771.356 2034.37,771.356 2037.72,771.356 2041.07,771.356 2044.42,771.356 2047.78,771.356 2051.13,771.356 2054.48,771.356 2057.83,771.356 \n",
       "  2061.19,771.356 2064.54,771.356 2067.89,771.356 2071.24,771.356 2074.6,771.356 2077.95,771.356 2081.3,771.356 2084.65,771.356 2088.01,771.356 2091.36,771.356 \n",
       "  2094.71,771.356 2098.06,771.356 2101.42,771.356 2104.77,771.356 2108.12,771.356 2111.47,771.356 2114.83,771.356 2118.18,771.356 2121.53,771.356 2124.88,771.356 \n",
       "  2128.24,771.356 2131.59,771.356 2134.94,771.356 2138.29,771.356 2141.65,771.356 2145,771.356 2148.35,771.356 2151.7,771.356 2155.06,771.356 2158.41,771.356 \n",
       "  2161.76,771.356 2165.11,771.356 2168.47,771.356 2171.82,771.356 2175.17,771.356 2178.52,771.356 2181.88,771.356 2185.23,771.356 2188.58,771.356 2191.93,771.356 \n",
       "  2195.29,771.356 2198.64,771.356 2201.99,771.356 2205.34,771.356 2208.7,771.356 2212.05,771.356 2215.4,771.356 2218.76,771.356 2222.11,771.356 2225.46,771.356 \n",
       "  2228.81,771.356 2232.17,771.356 2235.52,771.356 2238.87,771.356 2242.22,771.356 2245.58,771.356 2248.93,771.356 2252.28,771.356 2255.63,771.356 2258.99,771.356 \n",
       "  2262.34,771.356 2265.69,771.356 2269.04,771.356 2272.4,771.356 2275.75,771.356 2279.1,771.356 2282.45,771.356 2285.81,771.356 2289.16,771.356 2292.51,771.356 \n",
       "  \n",
       "  \"/>\n",
       "<path clip-path=\"url(#clip080)\" d=\"\n",
       "M1940.4 276.658 L2281.8 276.658 L2281.8 95.2176 L1940.4 95.2176  Z\n",
       "  \" fill=\"#ffffff\" fill-rule=\"evenodd\" fill-opacity=\"1\"/>\n",
       "<polyline clip-path=\"url(#clip080)\" style=\"stroke:#000000; stroke-linecap:butt; stroke-linejoin:round; stroke-width:4; stroke-opacity:1; fill:none\" points=\"\n",
       "  1940.4,276.658 2281.8,276.658 2281.8,95.2176 1940.4,95.2176 1940.4,276.658 \n",
       "  \"/>\n",
       "<polyline clip-path=\"url(#clip080)\" style=\"stroke:#009af9; stroke-linecap:butt; stroke-linejoin:round; stroke-width:4; stroke-opacity:1; fill:none\" points=\"\n",
       "  1964.05,155.698 2105.96,155.698 \n",
       "  \"/>\n",
       "<path clip-path=\"url(#clip080)\" d=\"M2146.12 136.959 L2146.12 140.501 L2142.04 140.501 Q2139.75 140.501 2138.85 141.427 Q2137.97 142.353 2137.97 144.76 L2137.97 147.052 L2144.98 147.052 L2144.98 150.362 L2137.97 150.362 L2137.97 172.978 L2133.69 172.978 L2133.69 150.362 L2129.61 150.362 L2129.61 147.052 L2133.69 147.052 L2133.69 145.246 Q2133.69 140.918 2135.7 138.95 Q2137.72 136.959 2142.09 136.959 L2146.12 136.959 Z\" fill=\"#000000\" fill-rule=\"evenodd\" fill-opacity=\"1\" /><path clip-path=\"url(#clip080)\" d=\"M2149.68 136.959 L2153.94 136.959 L2153.94 172.978 L2149.68 172.978 L2149.68 136.959 Z\" fill=\"#000000\" fill-rule=\"evenodd\" fill-opacity=\"1\" /><path clip-path=\"url(#clip080)\" d=\"M2162.41 162.746 L2162.41 147.052 L2166.67 147.052 L2166.67 162.584 Q2166.67 166.265 2168.11 168.116 Q2169.54 169.945 2172.41 169.945 Q2175.86 169.945 2177.85 167.746 Q2179.87 165.547 2179.87 161.751 L2179.87 147.052 L2184.13 147.052 L2184.13 172.978 L2179.87 172.978 L2179.87 168.996 Q2178.32 171.357 2176.26 172.515 Q2174.22 173.649 2171.51 173.649 Q2167.04 173.649 2164.73 170.871 Q2162.41 168.093 2162.41 162.746 M2173.13 146.427 L2173.13 146.427 Z\" fill=\"#000000\" fill-rule=\"evenodd\" fill-opacity=\"1\" /><path clip-path=\"url(#clip080)\" d=\"M2192.9 147.052 L2197.16 147.052 L2197.16 172.978 L2192.9 172.978 L2192.9 147.052 M2192.9 136.959 L2197.16 136.959 L2197.16 142.353 L2192.9 142.353 L2192.9 136.959 Z\" fill=\"#000000\" fill-rule=\"evenodd\" fill-opacity=\"1\" /><path clip-path=\"url(#clip080)\" d=\"M2223.13 150.987 L2223.13 136.959 L2227.39 136.959 L2227.39 172.978 L2223.13 172.978 L2223.13 169.089 Q2221.79 171.403 2219.73 172.538 Q2217.69 173.649 2214.82 173.649 Q2210.12 173.649 2207.16 169.899 Q2204.22 166.149 2204.22 160.038 Q2204.22 153.927 2207.16 150.177 Q2210.12 146.427 2214.82 146.427 Q2217.69 146.427 2219.73 147.561 Q2221.79 148.672 2223.13 150.987 M2208.62 160.038 Q2208.62 164.737 2210.54 167.422 Q2212.48 170.084 2215.86 170.084 Q2219.24 170.084 2221.19 167.422 Q2223.13 164.737 2223.13 160.038 Q2223.13 155.339 2221.19 152.677 Q2219.24 149.992 2215.86 149.992 Q2212.48 149.992 2210.54 152.677 Q2208.62 155.339 2208.62 160.038 Z\" fill=\"#000000\" fill-rule=\"evenodd\" fill-opacity=\"1\" /><polyline clip-path=\"url(#clip080)\" style=\"stroke:#e26f46; stroke-linecap:butt; stroke-linejoin:round; stroke-width:4; stroke-opacity:1; fill:none\" points=\"\n",
       "  1964.05,216.178 2105.96,216.178 \n",
       "  \"/>\n",
       "<path clip-path=\"url(#clip080)\" d=\"M2150.12 208.527 L2150.12 212.509 Q2148.32 211.513 2146.49 211.027 Q2144.68 210.518 2142.83 210.518 Q2138.69 210.518 2136.4 213.157 Q2134.1 215.772 2134.1 220.518 Q2134.1 225.263 2136.4 227.902 Q2138.69 230.518 2142.83 230.518 Q2144.68 230.518 2146.49 230.032 Q2148.32 229.522 2150.12 228.527 L2150.12 232.462 Q2148.34 233.296 2146.42 233.712 Q2144.52 234.129 2142.37 234.129 Q2136.51 234.129 2133.06 230.448 Q2129.61 226.768 2129.61 220.518 Q2129.61 214.175 2133.09 210.541 Q2136.58 206.907 2142.65 206.907 Q2144.61 206.907 2146.49 207.323 Q2148.36 207.717 2150.12 208.527 Z\" fill=\"#000000\" fill-rule=\"evenodd\" fill-opacity=\"1\" /><path clip-path=\"url(#clip080)\" d=\"M2167.58 210.518 Q2164.15 210.518 2162.16 213.203 Q2160.17 215.865 2160.17 220.518 Q2160.17 225.171 2162.14 227.856 Q2164.13 230.518 2167.58 230.518 Q2170.98 230.518 2172.97 227.833 Q2174.96 225.147 2174.96 220.518 Q2174.96 215.911 2172.97 213.226 Q2170.98 210.518 2167.58 210.518 M2167.58 206.907 Q2173.13 206.907 2176.3 210.518 Q2179.47 214.129 2179.47 220.518 Q2179.47 226.884 2176.3 230.518 Q2173.13 234.129 2167.58 234.129 Q2162 234.129 2158.83 230.518 Q2155.68 226.884 2155.68 220.518 Q2155.68 214.129 2158.83 210.518 Q2162 206.907 2167.58 206.907 Z\" fill=\"#000000\" fill-rule=\"evenodd\" fill-opacity=\"1\" /><path clip-path=\"url(#clip080)\" d=\"M2208.09 217.809 L2208.09 233.458 L2203.83 233.458 L2203.83 217.948 Q2203.83 214.268 2202.39 212.439 Q2200.96 210.61 2198.09 210.61 Q2194.64 210.61 2192.65 212.81 Q2190.65 215.009 2190.65 218.805 L2190.65 233.458 L2186.37 233.458 L2186.37 207.532 L2190.65 207.532 L2190.65 211.56 Q2192.18 209.222 2194.24 208.064 Q2196.33 206.907 2199.03 206.907 Q2203.5 206.907 2205.79 209.685 Q2208.09 212.439 2208.09 217.809 Z\" fill=\"#000000\" fill-rule=\"evenodd\" fill-opacity=\"1\" /><path clip-path=\"url(#clip080)\" d=\"M2233.11 208.296 L2233.11 212.323 Q2231.3 211.397 2229.36 210.935 Q2227.41 210.472 2225.33 210.472 Q2222.16 210.472 2220.56 211.444 Q2218.99 212.416 2218.99 214.36 Q2218.99 215.842 2220.12 216.698 Q2221.26 217.532 2224.68 218.296 L2226.14 218.62 Q2230.68 219.592 2232.58 221.374 Q2234.5 223.134 2234.5 226.305 Q2234.5 229.916 2231.63 232.022 Q2228.78 234.129 2223.78 234.129 Q2221.7 234.129 2219.43 233.712 Q2217.18 233.319 2214.68 232.508 L2214.68 228.11 Q2217.04 229.337 2219.34 229.962 Q2221.63 230.564 2223.87 230.564 Q2226.88 230.564 2228.5 229.546 Q2230.12 228.504 2230.12 226.629 Q2230.12 224.893 2228.94 223.967 Q2227.78 223.041 2223.83 222.184 L2222.34 221.837 Q2218.39 221.004 2216.63 219.291 Q2214.87 217.555 2214.87 214.546 Q2214.87 210.888 2217.46 208.898 Q2220.05 206.907 2224.82 206.907 Q2227.18 206.907 2229.27 207.254 Q2231.35 207.601 2233.11 208.296 Z\" fill=\"#000000\" fill-rule=\"evenodd\" fill-opacity=\"1\" /></svg>\n"
      ]
     },
     "execution_count": 61,
     "metadata": {},
     "output_type": "execute_result"
    }
   ],
   "source": [
    "plot(x,flu_0[:,5], label=\"fluid\")\n",
    "plot!(x,con_0[:,5], label=\"cons\")"
   ]
  },
  {
   "cell_type": "markdown",
   "metadata": {},
   "source": [
    "## Evolution\n",
    "\n",
    "First some memory allocations to make the functions fast:"
   ]
  },
  {
   "cell_type": "code",
   "execution_count": 62,
   "metadata": {
    "tags": []
   },
   "outputs": [],
   "source": [
    "#we initialize empty arrays\n",
    "    F_P = Array{Float64}(undef, U);\n",
    "\n",
    "    F_P = copy(F_P);\n",
    "    F_M = copy(F_P);\n",
    "    F_Pm3 = copy(F_P);\n",
    "    F_Pm2 = copy(F_P);\n",
    "    F_Pm1 = copy(F_P);\n",
    "    F_Pp1 = copy(F_P);\n",
    "    F_Pp2 = copy(F_P);\n",
    "    F_Pp3 = copy(F_P);\n",
    "    F_Mm3 = copy(F_P);\n",
    "    F_Mm2 = copy(F_P);\n",
    "    F_Mm1 = copy(F_P);\n",
    "    F_Mp1 = copy(F_P);\n",
    "    F_Mp2 = copy(F_P);\n",
    "    F_Mp3 = copy(F_P);\n",
    "\n",
    "    F_LP = copy(F_P);\n",
    "    F_LM = copy(F_P);\n",
    "    F_RM = copy(F_P);\n",
    "    F_RP = copy(F_P);\n",
    "    H_m = copy(F_P);\n",
    "    H_p = copy(F_P);\n",
    "    sourcevec = copy(F_P);\n",
    "    \n",
    "    par_mem = (F_Mm3, F_Mm2, F_Mm1, F_M, F_Mp1, F_Mp2, F_Mp3, F_Pm3, F_Pm2, \n",
    "    F_Pm1, F_P, F_Pp1, F_Pp2, F_Pp3, F_LP, F_LM, F_RP, F_RM, H_m, H_p, sourcevec); "
   ]
  },
  {
   "cell_type": "markdown",
   "metadata": {},
   "source": [
    "Final set of parameters to pass to the ODE integrator"
   ]
  },
  {
   "cell_type": "code",
   "execution_count": 63,
   "metadata": {},
   "outputs": [],
   "source": [
    "par = (par_eq, par_inv, 1.0/dx, U, M, Flux_imp!, Speed_max, Is!, c_to_f!, par_mem);\n",
    "        #par = (par_eq, par_inv, 1. /dx, U, M, Flux_imp!, Speed_max, Is_dummy!, c_to_f!, par_mem);\n",
    "    #if Euler\n",
    "    #    par = (par_eq, par_inv, 1. /dx, U, M, Flux_imp!, Speed_max, Is_dummy!, c_to_f!, par_mem);\n",
    "    #end"
   ]
  },
  {
   "cell_type": "code",
   "execution_count": 64,
   "metadata": {},
   "outputs": [
    {
     "data": {
      "text/plain": [
       "evolution_fast (generic function with 1 method)"
      ]
     },
     "execution_count": 64,
     "metadata": {},
     "output_type": "execute_result"
    }
   ],
   "source": [
    "function evolution_fast(du,u,par,t)\n",
    "    # this is the function that is taken by the time-integrator\n",
    "    par_eq, par_inv, h, U, M, Flux, Speed_max, Source, c_to_f, par_mem = par\n",
    "    \n",
    "    χ, ξ = par_eq\n",
    "    \n",
    "    if Euler\n",
    "    c_to_f_direct!(u,(U, M))\n",
    "    else\n",
    "    c_to_f!(u,par_inv)\n",
    "    end\n",
    "    \n",
    "    par_mp5 = (h, U, M, χ, par_eq, Flux, Speed_max, Source, par_mem)\n",
    "    \n",
    "    mp5!(du,u,par_mp5,t)\n",
    "    return du[:]\n",
    "end"
   ]
  },
  {
   "cell_type": "code",
   "execution_count": 65,
   "metadata": {
    "tags": []
   },
   "outputs": [
    {
     "ename": "LoadError",
     "evalue": "DomainError with -0.14831581705431857:\nExponentiation yielding a complex result requires a complex argument.\nReplace x^y with (x+0im)^y, Complex(x)^y, or similar.",
     "output_type": "error",
     "traceback": [
      "DomainError with -0.14831581705431857:\nExponentiation yielding a complex result requires a complex argument.\nReplace x^y with (x+0im)^y, Complex(x)^y, or similar.",
      "",
      "Stacktrace:",
      "  [1] throw_exp_domainerror(x::Float64)",
      "    @ Base.Math ./math.jl:37",
      "  [2] ^",
      "    @ ./math.jl:901 [inlined]",
      "  [3] ^",
      "    @ ./rational.jl:457 [inlined]",
      "  [4] (::var\"#9#10\")(arg#257::Vector{Float64}, arg#258::Vector{Float64}, arg#259::Vector{Float64}, arg#260::Vector{Float64})",
      "    @ Main ~/.julia/packages/SymbolicUtils/JmtMa/src/code.jl:375",
      "  [5] NR_step!",
      "    @ ~/Julia/Fluidos_Conformes/inversion_ext.jl:9 [inlined]",
      "  [6] c_to_f!(u::Vector{Float64}, p::Tuple{Vector{Float64}, Float64, Int64, Int64, Int64, typeof(f2c!), var\"#9#10\"})",
      "    @ Main ~/Julia/Fluidos_Conformes/inversion_ext.jl:58",
      "  [7] evolution_fast",
      "    @ ./In[64]:10 [inlined]",
      "  [8] ODEFunction",
      "    @ ~/.julia/packages/SciMLBase/grNUR/src/scimlfunctions.jl:334 [inlined]",
      "  [9] perform_step!(integrator::OrdinaryDiffEq.ODEIntegrator{SSPRK33{typeof(OrdinaryDiffEq.trivial_limiter!), typeof(OrdinaryDiffEq.trivial_limiter!)}, true, Vector{Float64}, Nothing, Float64, Tuple{Tuple{Vector{Float64}, Vector{Float64}}, Tuple{Vector{Float64}, Float64, Int64, Int64, Int64, typeof(f2c!), var\"#9#10\"}, Float64, Int64, Int64, typeof(Flux_imp!), typeof(Speed_max), typeof(Is!), typeof(c_to_f!), NTuple{21, Vector{Float64}}}, Float64, Float64, Float64, Vector{Vector{Float64}}, ODESolution{Float64, 2, Vector{Vector{Float64}}, Nothing, Nothing, Vector{Float64}, Vector{Vector{Vector{Float64}}}, ODEProblem{Vector{Float64}, Tuple{Float64, Float64}, true, Tuple{Tuple{Vector{Float64}, Vector{Float64}}, Tuple{Vector{Float64}, Float64, Int64, Int64, Int64, typeof(f2c!), var\"#9#10\"}, Float64, Int64, Int64, typeof(Flux_imp!), typeof(Speed_max), typeof(Is!), typeof(c_to_f!), NTuple{21, Vector{Float64}}}, ODEFunction{true, typeof(evolution_fast), LinearAlgebra.UniformScaling{Bool}, Nothing, Nothing, Nothing, Nothing, Nothing, Nothing, Nothing, Nothing, Nothing, Nothing, Nothing, Nothing, typeof(SciMLBase.DEFAULT_OBSERVED), Nothing}, Base.Iterators.Pairs{Union{}, Union{}, Tuple{}, NamedTuple{(), Tuple{}}}, SciMLBase.StandardODEProblem}, SSPRK33{typeof(OrdinaryDiffEq.trivial_limiter!), typeof(OrdinaryDiffEq.trivial_limiter!)}, OrdinaryDiffEq.InterpolationData{ODEFunction{true, typeof(evolution_fast), LinearAlgebra.UniformScaling{Bool}, Nothing, Nothing, Nothing, Nothing, Nothing, Nothing, Nothing, Nothing, Nothing, Nothing, Nothing, Nothing, typeof(SciMLBase.DEFAULT_OBSERVED), Nothing}, Vector{Vector{Float64}}, Vector{Float64}, Vector{Vector{Vector{Float64}}}, OrdinaryDiffEq.SSPRK33Cache{Vector{Float64}, Vector{Float64}, typeof(OrdinaryDiffEq.trivial_limiter!), typeof(OrdinaryDiffEq.trivial_limiter!)}}, DiffEqBase.DEStats}, ODEFunction{true, typeof(evolution_fast), LinearAlgebra.UniformScaling{Bool}, Nothing, Nothing, Nothing, Nothing, Nothing, Nothing, Nothing, Nothing, Nothing, Nothing, Nothing, Nothing, typeof(SciMLBase.DEFAULT_OBSERVED), Nothing}, OrdinaryDiffEq.SSPRK33Cache{Vector{Float64}, Vector{Float64}, typeof(OrdinaryDiffEq.trivial_limiter!), typeof(OrdinaryDiffEq.trivial_limiter!)}, OrdinaryDiffEq.DEOptions{Float64, Float64, Float64, Float64, PIController{Float64}, typeof(DiffEqBase.ODE_DEFAULT_NORM), typeof(LinearAlgebra.opnorm), Nothing, CallbackSet{Tuple{}, Tuple{}}, typeof(DiffEqBase.ODE_DEFAULT_ISOUTOFDOMAIN), typeof(DiffEqBase.ODE_DEFAULT_PROG_MESSAGE), typeof(DiffEqBase.ODE_DEFAULT_UNSTABLE_CHECK), DataStructures.BinaryMinHeap{Float64}, DataStructures.BinaryMinHeap{Float64}, Nothing, Nothing, Int64, Tuple{}, Float64, Tuple{}}, Vector{Float64}, Float64, Nothing, OrdinaryDiffEq.DefaultInit}, cache::OrdinaryDiffEq.SSPRK33Cache{Vector{Float64}, Vector{Float64}, typeof(OrdinaryDiffEq.trivial_limiter!), typeof(OrdinaryDiffEq.trivial_limiter!)}, repeat_step::Bool)",
      "    @ OrdinaryDiffEq ~/.julia/packages/OrdinaryDiffEq/zbCbk/src/perform_step/ssprk_perform_step.jl:374",
      " [10] perform_step!",
      "    @ ~/.julia/packages/OrdinaryDiffEq/zbCbk/src/perform_step/ssprk_perform_step.jl:367 [inlined]",
      " [11] solve!(integrator::OrdinaryDiffEq.ODEIntegrator{SSPRK33{typeof(OrdinaryDiffEq.trivial_limiter!), typeof(OrdinaryDiffEq.trivial_limiter!)}, true, Vector{Float64}, Nothing, Float64, Tuple{Tuple{Vector{Float64}, Vector{Float64}}, Tuple{Vector{Float64}, Float64, Int64, Int64, Int64, typeof(f2c!), var\"#9#10\"}, Float64, Int64, Int64, typeof(Flux_imp!), typeof(Speed_max), typeof(Is!), typeof(c_to_f!), NTuple{21, Vector{Float64}}}, Float64, Float64, Float64, Vector{Vector{Float64}}, ODESolution{Float64, 2, Vector{Vector{Float64}}, Nothing, Nothing, Vector{Float64}, Vector{Vector{Vector{Float64}}}, ODEProblem{Vector{Float64}, Tuple{Float64, Float64}, true, Tuple{Tuple{Vector{Float64}, Vector{Float64}}, Tuple{Vector{Float64}, Float64, Int64, Int64, Int64, typeof(f2c!), var\"#9#10\"}, Float64, Int64, Int64, typeof(Flux_imp!), typeof(Speed_max), typeof(Is!), typeof(c_to_f!), NTuple{21, Vector{Float64}}}, ODEFunction{true, typeof(evolution_fast), LinearAlgebra.UniformScaling{Bool}, Nothing, Nothing, Nothing, Nothing, Nothing, Nothing, Nothing, Nothing, Nothing, Nothing, Nothing, Nothing, typeof(SciMLBase.DEFAULT_OBSERVED), Nothing}, Base.Iterators.Pairs{Union{}, Union{}, Tuple{}, NamedTuple{(), Tuple{}}}, SciMLBase.StandardODEProblem}, SSPRK33{typeof(OrdinaryDiffEq.trivial_limiter!), typeof(OrdinaryDiffEq.trivial_limiter!)}, OrdinaryDiffEq.InterpolationData{ODEFunction{true, typeof(evolution_fast), LinearAlgebra.UniformScaling{Bool}, Nothing, Nothing, Nothing, Nothing, Nothing, Nothing, Nothing, Nothing, Nothing, Nothing, Nothing, Nothing, typeof(SciMLBase.DEFAULT_OBSERVED), Nothing}, Vector{Vector{Float64}}, Vector{Float64}, Vector{Vector{Vector{Float64}}}, OrdinaryDiffEq.SSPRK33Cache{Vector{Float64}, Vector{Float64}, typeof(OrdinaryDiffEq.trivial_limiter!), typeof(OrdinaryDiffEq.trivial_limiter!)}}, DiffEqBase.DEStats}, ODEFunction{true, typeof(evolution_fast), LinearAlgebra.UniformScaling{Bool}, Nothing, Nothing, Nothing, Nothing, Nothing, Nothing, Nothing, Nothing, Nothing, Nothing, Nothing, Nothing, typeof(SciMLBase.DEFAULT_OBSERVED), Nothing}, OrdinaryDiffEq.SSPRK33Cache{Vector{Float64}, Vector{Float64}, typeof(OrdinaryDiffEq.trivial_limiter!), typeof(OrdinaryDiffEq.trivial_limiter!)}, OrdinaryDiffEq.DEOptions{Float64, Float64, Float64, Float64, PIController{Float64}, typeof(DiffEqBase.ODE_DEFAULT_NORM), typeof(LinearAlgebra.opnorm), Nothing, CallbackSet{Tuple{}, Tuple{}}, typeof(DiffEqBase.ODE_DEFAULT_ISOUTOFDOMAIN), typeof(DiffEqBase.ODE_DEFAULT_PROG_MESSAGE), typeof(DiffEqBase.ODE_DEFAULT_UNSTABLE_CHECK), DataStructures.BinaryMinHeap{Float64}, DataStructures.BinaryMinHeap{Float64}, Nothing, Nothing, Int64, Tuple{}, Float64, Tuple{}}, Vector{Float64}, Float64, Nothing, OrdinaryDiffEq.DefaultInit})",
      "    @ OrdinaryDiffEq ~/.julia/packages/OrdinaryDiffEq/zbCbk/src/solve.jl:477",
      " [12] #__solve#466",
      "    @ ~/.julia/packages/OrdinaryDiffEq/zbCbk/src/solve.jl:5 [inlined]",
      " [13] #solve_call#58",
      "    @ ~/.julia/packages/DiffEqBase/lULzQ/src/solve.jl:61 [inlined]",
      " [14] solve_up(prob::ODEProblem{Vector{Float64}, Tuple{Float64, Float64}, true, Tuple{Tuple{Vector{Float64}, Vector{Float64}}, Tuple{Vector{Float64}, Float64, Int64, Int64, Int64, typeof(f2c!), var\"#9#10\"}, Float64, Int64, Int64, typeof(Flux_imp!), typeof(Speed_max), typeof(Is!), typeof(c_to_f!), NTuple{21, Vector{Float64}}}, ODEFunction{true, typeof(evolution_fast), LinearAlgebra.UniformScaling{Bool}, Nothing, Nothing, Nothing, Nothing, Nothing, Nothing, Nothing, Nothing, Nothing, Nothing, Nothing, Nothing, typeof(SciMLBase.DEFAULT_OBSERVED), Nothing}, Base.Iterators.Pairs{Union{}, Union{}, Tuple{}, NamedTuple{(), Tuple{}}}, SciMLBase.StandardODEProblem}, sensealg::Nothing, u0::Vector{Float64}, p::Tuple{Tuple{Vector{Float64}, Vector{Float64}}, Tuple{Vector{Float64}, Float64, Int64, Int64, Int64, typeof(f2c!), var\"#9#10\"}, Float64, Int64, Int64, typeof(Flux_imp!), typeof(Speed_max), typeof(Is!), typeof(c_to_f!), NTuple{21, Vector{Float64}}}, args::SSPRK33{typeof(OrdinaryDiffEq.trivial_limiter!), typeof(OrdinaryDiffEq.trivial_limiter!)}; kwargs::Base.Iterators.Pairs{Symbol, Float64, Tuple{Symbol, Symbol}, NamedTuple{(:dt, :saveat), Tuple{Float64, Float64}}})",
      "    @ DiffEqBase ~/.julia/packages/DiffEqBase/lULzQ/src/solve.jl:82",
      " [15] #solve#59",
      "    @ ~/.julia/packages/DiffEqBase/lULzQ/src/solve.jl:70 [inlined]",
      " [16] top-level scope",
      "    @ In[65]:2",
      " [17] eval",
      "    @ ./boot.jl:360 [inlined]",
      " [18] include_string(mapexpr::typeof(REPL.softscope), mod::Module, code::String, filename::String)",
      "    @ Base ./loading.jl:1094"
     ]
    }
   ],
   "source": [
    "prob = ODEProblem(evolution_fast,u_i,(0.0,tf),par);\n",
    "sol = solve(prob,SSPRK33(),dt=dt,saveat=0.01*tf);\n",
    "    #sol = solve(prob,SSPRK33(),saveat=0.01*t);\n",
    "#sol = solve(prob,SSPRK33(),dt=dt,save_everystep=false) # to get just the end values\n",
    "#sol = solve(prob,RK4(),dt=dt);\n",
    "@bell sleep(3)"
   ]
  },
  {
   "cell_type": "markdown",
   "metadata": {},
   "source": [
    "### Save the solution (be carefull not to overwrite old ones!) This is changed when choosing the initial data."
   ]
  },
  {
   "cell_type": "code",
   "execution_count": 17,
   "metadata": {
    "tags": []
   },
   "outputs": [
    {
     "ename": "LoadError",
     "evalue": "UndefVarError: sol not defined",
     "output_type": "error",
     "traceback": [
      "UndefVarError: sol not defined",
      "",
      "Stacktrace:",
      " [1] top-level scope",
      "   @ In[17]:1",
      " [2] eval",
      "   @ ./boot.jl:360 [inlined]",
      " [3] include_string(mapexpr::typeof(REPL.softscope), mod::Module, code::String, filename::String)",
      "   @ Base ./loading.jl:1094"
     ]
    }
   ],
   "source": [
    "save(\"Resultados/Soluciones/$out_name.jld2\", Dict(\"$out_name\" => sol))\n",
    "#sol = load(\"Resultados/Soluciones/$name.jld2\",\"$name\");"
   ]
  },
  {
   "cell_type": "markdown",
   "metadata": {},
   "source": [
    "### Results analysis"
   ]
  },
  {
   "cell_type": "code",
   "execution_count": 18,
   "metadata": {},
   "outputs": [
    {
     "ename": "LoadError",
     "evalue": "UndefVarError: sol not defined",
     "output_type": "error",
     "traceback": [
      "UndefVarError: sol not defined",
      "",
      "Stacktrace:",
      " [1] top-level scope",
      "   @ In[18]:4",
      " [2] eval",
      "   @ ./boot.jl:360 [inlined]",
      " [3] include_string(mapexpr::typeof(REPL.softscope), mod::Module, code::String, filename::String)",
      "   @ Base ./loading.jl:1094"
     ]
    }
   ],
   "source": [
    "#sol(t) = sol_nr_p5(t) - sol_nr_n0(t)\n",
    "#sol(t) = sol_n0_0(t)\n",
    "field = 10\n",
    "plot(x,reshape(sol(0.),(M,U))[:,field], label=\"ti\", ls=:dot, legend=false)\n",
    "for i in 1:100:1000\n",
    "plot!(x,reshape(sol(i*dt),(M,U))[:,field])\n",
    "end\n",
    "#plot!(x,reshape(sol(2*dt),(M,U))[:,field])\n",
    "#plot!(x,reshape(sol(3*dt),(M,U))[:,field])\n",
    "#plot!(x,reshape(sol(tf),(M,U))[:,field], label=\"tf\", ls=:dash)\n",
    "current()"
   ]
  },
  {
   "cell_type": "code",
   "execution_count": 19,
   "metadata": {},
   "outputs": [
    {
     "ename": "LoadError",
     "evalue": "UndefVarError: sol not defined",
     "output_type": "error",
     "traceback": [
      "UndefVarError: sol not defined",
      "",
      "Stacktrace:",
      " [1] macro expansion",
      "   @ ./In[19]:7 [inlined]",
      " [2] top-level scope",
      "   @ ~/.julia/packages/Plots/XuV6v/src/animation.jl:183",
      " [3] eval",
      "   @ ./boot.jl:360 [inlined]",
      " [4] include_string(mapexpr::typeof(REPL.softscope), mod::Module, code::String, filename::String)",
      "   @ Base ./loading.jl:1094"
     ]
    }
   ],
   "source": [
    "##### ssol(t) = sol_dir_n0(t)\n",
    "#ssol(t) = sol(t)\n",
    "t=tf\n",
    "shift = 0# U÷2 # 0 is conserv otherwise is fluid\n",
    "anim = @animate for i ∈ 1:100\n",
    "    t = tf*(0.01*i)\n",
    "    plot((reshape(sol(t),(M,U))[:,shift+1] .+ 0.17),label=\"e\"\n",
    "        , yaxis = (\"conserv\", (-0.07,0.05))\n",
    "    )\n",
    "    plot!((reshape(sol(t),(M,U))[:,shift+2] .- 0.),label=\"s\")\n",
    "    plot!(0.20 *reshape(sol(t),(M,U))[:,shift+3] .- 0.,label=\"c1\")\n",
    "    plot!(0.20 *reshape(sol(t),(M,U))[:,shift+4],label=\"c2\")\n",
    "    plot!(0.20 *reshape(sol(t),(M,U))[:,shift+5] .- 0.,label=\"c3\")\n",
    "end\n",
    "\n",
    "gif(anim, \"Resultados/Movies/con_$out_name.gif\", fps = 10)"
   ]
  },
  {
   "cell_type": "code",
   "execution_count": 20,
   "metadata": {},
   "outputs": [
    {
     "ename": "LoadError",
     "evalue": "UndefVarError: sol not defined",
     "output_type": "error",
     "traceback": [
      "UndefVarError: sol not defined",
      "",
      "Stacktrace:",
      " [1] ssol(t::Float64)",
      "   @ Main ./In[20]:2",
      " [2] macro expansion",
      "   @ ./In[20]:9 [inlined]",
      " [3] top-level scope",
      "   @ ~/.julia/packages/Plots/XuV6v/src/animation.jl:183",
      " [4] eval",
      "   @ ./boot.jl:360 [inlined]",
      " [5] include_string(mapexpr::typeof(REPL.softscope), mod::Module, code::String, filename::String)",
      "   @ Base ./loading.jl:1094"
     ]
    }
   ],
   "source": [
    "#ssol(t) = sol_dir_n0(t)\n",
    "ssol(t) = sol(t)\n",
    "shift = U÷2 # 0 is conserv otherwise is fluid\n",
    "t = tf \n",
    "A1 = χ[2]       #1\n",
    "A2 = -χ[3]*16/5 #-16A2 # A2 = 1.1474099846235424\n",
    "A3 = χ[3]*4     #20A1 #-1.43426248077943\n",
    "anim = @animate for i ∈ 1:100\n",
    "    plot((reshape(ssol(t*0.01*i),(M,U))[:,shift+1] .+ 6),label=\"μ\"\n",
    "        ,yaxis = (\"fluid\", (-2,4))\n",
    "    )\n",
    "    plot!((reshape(ssol(t*0.01*i),(M,U))[:,shift+2]) ,label=\"v\", ls=:dot)\n",
    "    plot!(reshape(ssol(t*0.01*i),(M,U))[:,shift+3].*10 ,label=\"x1\", ls=:dot)\n",
    "    plot!(reshape(ssol(t*0.01*i),(M,U))[:,shift+4].*100 ,label=\"x2\", ls=:dash)\n",
    "    plot!(reshape(ssol(t*0.01*i),(M,U))[:,shift+5].*10 ,label=\"x3\")\n",
    "    #plot!(1.0 .*(A1 .* reshape(ssol(t*0.01*i),(M,U))[:,shift+ 1] .+ A2 .* reshape(ssol(t*0.01*i),(M,U))[:,shift+3]  .+ A3 .* reshape(ssol(t*0.01*i),(M,U))[:,shift+5] .- 1.),label=\"modo cero\")\n",
    "end\n",
    "\n",
    "gif(anim, \"Resultados/Movies/flu_$out_name.gif\", fps = 10)"
   ]
  },
  {
   "cell_type": "code",
   "execution_count": 21,
   "metadata": {},
   "outputs": [
    {
     "ename": "LoadError",
     "evalue": "UndefVarError: sol not defined",
     "output_type": "error",
     "traceback": [
      "UndefVarError: sol not defined",
      "",
      "Stacktrace:",
      " [1] ssol(t::Float64)",
      "   @ Main ./In[21]:2",
      " [2] top-level scope",
      "   @ In[21]:5",
      " [3] eval",
      "   @ ./boot.jl:360 [inlined]",
      " [4] include_string(mapexpr::typeof(REPL.softscope), mod::Module, code::String, filename::String)",
      "   @ Base ./loading.jl:1094"
     ]
    }
   ],
   "source": [
    "##### ssol(t) = sol_dir_n0(t)\n",
    "ssol(t) = sol(t)\n",
    "t = 0.1\n",
    "shift = 0# U÷2 # 0 is conserv otherwise is fluid\n",
    "    plot(reshape(ssol(t),(M,U))[:,shift+1] .+ 0.170,label=\"e\" \n",
    "    #,xlim = (0,60)\n",
    "    , yaxis = (\"conserv\"\n",
    "    #, (-0.25,0.2)\n",
    "    )\n",
    "    )\n",
    "    plot!(reshape(ssol(t),(M,U))[:,shift+2] .- 0.,label=\"s\")\n",
    "    plot!(reshape(ssol(t),(M,U))[:,shift+3] .- 0.,label=\"c1\")\n",
    "    plot!(reshape(ssol(t),(M,U))[:,shift+4],label=\"c2\")\n",
    "    plot!(reshape(ssol(t),(M,U))[:,shift+5] .- 0.,label=\"c3\")"
   ]
  },
  {
   "cell_type": "markdown",
   "metadata": {},
   "source": [
    "### Zero mode: \n",
    "\n",
    "This part is outdated, new values have to be computed now. Not done yet."
   ]
  },
  {
   "cell_type": "code",
   "execution_count": 22,
   "metadata": {},
   "outputs": [
    {
     "ename": "LoadError",
     "evalue": "UndefVarError: sol not defined",
     "output_type": "error",
     "traceback": [
      "UndefVarError: sol not defined",
      "",
      "Stacktrace:",
      " [1] ssol(t::Float64)",
      "   @ Main ./In[21]:2",
      " [2] macro expansion",
      "   @ ./In[22]:13 [inlined]",
      " [3] top-level scope",
      "   @ ~/.julia/packages/Plots/XuV6v/src/animation.jl:183",
      " [4] eval",
      "   @ ./boot.jl:360 [inlined]",
      " [5] include_string(mapexpr::typeof(REPL.softscope), mod::Module, code::String, filename::String)",
      "   @ Base ./loading.jl:1094"
     ]
    }
   ],
   "source": [
    "# This part is outdated, new values have to be computed now. Not done yet.\n",
    "\n",
    "\n",
    "t = tf\n",
    "A1 = 1\n",
    "A2 = -16\n",
    "A3 = 20\n",
    "B1 = χ[2]\n",
    "B2 = -χ[3]*16/5\n",
    "B3 = χ[3]*4\n",
    "shift = 5\n",
    "anim = @animate for i ∈ 1:100\n",
    "    plot(A1 .* reshape(ssol(t*0.01*i),(M,U))[:,shift+ 1] .+ A2 .* reshape(ssol(t*0.01*i),(M,U))[:,shift+3]  .+ A3 .* reshape(ssol(t*0.01*i),(M,U))[:,shift+5] .+ 1\n",
    "    ,label=\"extraño modo cero\"\n",
    "    , yaxis = (\"fluid\", (-0.1 , 0.10))\n",
    "    )\n",
    "    #plot!(1.1/1.4*(B1 .* reshape(ssol(t*0.01*i),(M,U))[:,shift+ 1] .+ B2 .* reshape(ssol(t*0.01*i),(M,U))[:,shift+3]  .+ B3 .* reshape(ssol(t*0.01*i),(M,U))[:,shift+5])\n",
    "    #    ,label=\"modo cero\")\n",
    "    plot!((B1 .* reshape(ssol(t*0.01*i),(M,U))[:,shift+ 1] .+ B2 .* reshape(ssol(t*0.01*i),(M,U))[:,shift+3]  .+ B3 .* reshape(ssol(t*0.01*i),(M,U))[:,shift+5] .- 1.)\n",
    "        ,label=\"modo cero\")\n",
    "end\n",
    "\n",
    "gif(anim, \"Resultados/Movies/zero_source$out_name.gif\", fps = 10)"
   ]
  },
  {
   "cell_type": "markdown",
   "metadata": {},
   "source": [
    "### Conservation Check"
   ]
  },
  {
   "cell_type": "code",
   "execution_count": 23,
   "metadata": {},
   "outputs": [
    {
     "ename": "LoadError",
     "evalue": "UndefVarError: sol not defined",
     "output_type": "error",
     "traceback": [
      "UndefVarError: sol not defined",
      "",
      "Stacktrace:",
      " [1] top-level scope",
      "   @ In[23]:1",
      " [2] eval",
      "   @ ./boot.jl:360 [inlined]",
      " [3] include_string(mapexpr::typeof(REPL.softscope), mod::Module, code::String, filename::String)",
      "   @ Base ./loading.jl:1094"
     ]
    }
   ],
   "source": [
    "T00_0 = sum(reshape(sol(0),(M,U))[:,1])/M\n",
    "T01_0 = sum(reshape(sol(0),(M,U))[:,2])/M\n",
    "T00 = [sum(reshape(sol(tf*0.01*i) .- T00_0,(M,U))[:,1]) for i in 1:100]/M\n",
    "T01 = [sum(reshape(sol(tf*0.01*i) .- T01_0,(M,U))[:,2]) for i in 1:100]/M\n",
    "\n",
    "plot(T00, label=\"T00\")\n",
    "plot!(T01*1000, label=\"T01\")\n",
    "savefig(\"Resultados/Movies/flu_$out_name\"*\"T0\")\n",
    "current()"
   ]
  },
  {
   "cell_type": "code",
   "execution_count": 24,
   "metadata": {},
   "outputs": [
    {
     "ename": "LoadError",
     "evalue": "UndefVarError: sol not defined",
     "output_type": "error",
     "traceback": [
      "UndefVarError: sol not defined",
      "",
      "Stacktrace:",
      " [1] (::var\"#21#22\")(i::Int64)",
      "   @ Main ./none:0",
      " [2] iterate",
      "   @ ./generator.jl:47 [inlined]",
      " [3] collect(itr::Base.Generator{UnitRange{Int64}, var\"#21#22\"})",
      "   @ Base ./array.jl:678",
      " [4] top-level scope",
      "   @ In[24]:1",
      " [5] eval",
      "   @ ./boot.jl:360 [inlined]",
      " [6] include_string(mapexpr::typeof(REPL.softscope), mod::Module, code::String, filename::String)",
      "   @ Base ./loading.jl:1094"
     ]
    }
   ],
   "source": [
    "a000 = [sum(reshape(sol(tf*0.01*i),(M,U))[:,3]) for i in 1:100]/M\n",
    "a001 = [sum(reshape(sol(tf*0.01*i),(M,U))[:,4]) for i in 1:100]/M\n",
    "a011 = [sum(reshape(sol(tf*0.01*i),(M,U))[:,5]) for i in 1:100]/M\n",
    "\n",
    "\n",
    "plot(a000 .- a000[1], ls=:dash, label=\"<A000>\")\n",
    "plot!(1*(a001.- a001[1]), ls=:dot, lw=4, label=\"<A001>\")\n",
    "plot!(a011.- a011[1], label=\"<A011>\")\n",
    "savefig(\"Resultados/Movies/flu_$out_name\"*\"A0\")\n",
    "current()"
   ]
  },
  {
   "cell_type": "markdown",
   "metadata": {},
   "source": [
    "They should be going down, at least after an initial time, don't seem to stabilize. Though the grows is only linear..."
   ]
  },
  {
   "cell_type": "code",
   "execution_count": 25,
   "metadata": {},
   "outputs": [
    {
     "ename": "LoadError",
     "evalue": "UndefVarError: sol not defined",
     "output_type": "error",
     "traceback": [
      "UndefVarError: sol not defined",
      "",
      "Stacktrace:",
      " [1] (::var\"#23#24\")(i::Int64)",
      "   @ Main ./none:0",
      " [2] iterate",
      "   @ ./generator.jl:47 [inlined]",
      " [3] collect(itr::Base.Generator{UnitRange{Int64}, var\"#23#24\"})",
      "   @ Base ./array.jl:678",
      " [4] top-level scope",
      "   @ In[25]:1",
      " [5] eval",
      "   @ ./boot.jl:360 [inlined]",
      " [6] include_string(mapexpr::typeof(REPL.softscope), mod::Module, code::String, filename::String)",
      "   @ Base ./loading.jl:1094"
     ]
    }
   ],
   "source": [
    "x1 = [sum(abs.(reshape(sol(tf*0.01*i),(M,U))[:,8])) for i in 1:100]/M\n",
    "x2 = [sum(abs.(reshape(sol(tf*0.01*i),(M,U))[:,9])) for i in 1:100]/M\n",
    "x3 = [sum(abs.(reshape(sol(tf*0.01*i),(M,U))[:,10])) for i in 1:100]/M\n",
    "plot(x1*1, ls=:dash, label=\"<ν>\")\n",
    "plot!(x2*1, ls=:dot, lw=4, label=\"<r1>\")\n",
    "plot!(x3*1, label=\"<τ11>\")\n",
    "savefig(\"Resultados/Movies/flu_$out_name\"*\"X\")\n",
    "current()"
   ]
  },
  {
   "cell_type": "markdown",
   "metadata": {},
   "source": [
    "The fluid fields out of equilibrium go to zero, also quite slow, lot of structure."
   ]
  },
  {
   "cell_type": "code",
   "execution_count": 26,
   "metadata": {},
   "outputs": [
    {
     "data": {
      "text/plain": [
       "1.0"
      ]
     },
     "execution_count": 26,
     "metadata": {},
     "output_type": "execute_result"
    }
   ],
   "source": [
    "tf"
   ]
  },
  {
   "cell_type": "code",
   "execution_count": null,
   "metadata": {},
   "outputs": [],
   "source": []
  }
 ],
 "metadata": {
  "author": "\\rho",
  "kernelspec": {
   "display_name": "Julia 1.6.1",
   "language": "julia",
   "name": "julia-1.6"
  },
  "language_info": {
   "file_extension": ".jl",
   "mimetype": "application/julia",
   "name": "julia",
   "version": "1.6.1"
  },
  "latex_envs": {
   "LaTeX_envs_menu_present": true,
   "autoclose": false,
   "autocomplete": true,
   "bibliofile": "biblio.bib",
   "cite_by": "apalike",
   "current_citInitial": 1,
   "eqLabelWithNumbers": true,
   "eqNumInitial": 1,
   "hotkeys": {
    "equation": "Ctrl-E",
    "itemize": "Ctrl-I"
   },
   "labels_anchors": false,
   "latex_user_defs": false,
   "report_style_numbering": false,
   "user_envs_cfg": false
  }
 },
 "nbformat": 4,
 "nbformat_minor": 4
}
