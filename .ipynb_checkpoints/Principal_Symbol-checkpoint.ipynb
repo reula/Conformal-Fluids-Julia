{
 "cells": [
  {
   "cell_type": "markdown",
   "metadata": {},
   "source": [
    "## Fluídos Conformes\n",
    "\n",
    "Código para testear la estabilidad alrededor de una solución de equilibrio.\n",
    "\n",
    "Las ecuaciones son:\n",
    "\n",
    "$(\\zeta^a, \\zeta^{ab})$ -> $f^j = (\\mu, v, x_i)$ -> $(-1,0,0,0,0)$\n",
    "\n",
    "$$\n",
    "\\partial_t c^j = \\partial_i F^{ij}(f) + I^j(f) = \\frac{\\partial F^{ij}}{\\partial f^k}\\partial_i f^k\n",
    "$$\n",
    "\n",
    "$$\n",
    "c^j = C^j(f) = (e, S, c_i)\n",
    "$$\n",
    "\n",
    "Lo que hacemos es tomar el jacobiano del flujo,\n",
    "\n",
    "$\\frac{\\partial F^i}{\\partial f^j}$ donde $f^j$ son las variables no conservativas para las cuales tenemos las expresiones del Flujo. \n",
    "A estas las multiplicamos por $[\\frac{\\partial c^k}{\\partial f^j}]^{-1}$.\n",
    "Tenemos así \n",
    "\n",
    "$$\n",
    "P^{il}{}_j := \\frac{\\partial F^{il}}{\\partial c^j} = \\frac{\\partial F^{il}}{\\partial f^k}\\frac{\\partial f^k}{\\partial c^j}.\n",
    "$$\n",
    "\n",
    "Evaluamos todo en el vector $(-1,0,0,0,0)$ o sea estamos en el frame con velocidad cero y todas las variables fuera de equilibrio también cero.\n",
    "\n",
    "Lo mismo hacemos con la fuente. \n",
    "\n",
    "$$\n",
    "II^i{}_j = \\frac{\\partial I^i}{\\partial f^k} \\frac{\\partial f^k}{\\partial c^j}\n",
    "$$\n",
    "\n",
    "Tenemos así el sistema linearizado en el punto de equilibrio en las variables conservativas. Multiplicamos $P^i{}_j$ por un número complejo cualquiera y para todos ellos los autovalores debieran tener parte real negativa o nula. Pero no es así...\n",
    "\n",
    "\n",
    "Alternativamente podemos diferenciar $c^i$ con respecto a los $f^j$ para obtener,\n",
    "\n",
    "$$\n",
    "\\partial_t c^j = \\frac{\\partial c^j}{\\partial f^i} \\partial_t f^i\n",
    "$$\n",
    "\n",
    "y por lo tanto,\n",
    "\n",
    "$$\n",
    "\\partial_t f^i = \\frac{\\partial c^j}{\\partial f^i}^{-1} \\frac{\\partial F^{lj}}{\\partial f^k}\\partial_l f^k := \\tilde{P}^i{}_k\\partial_l f^k\n",
    "$$\n",
    "\n",
    "A las que simplemente sumamos el término $\\frac{\\partial c^j}{\\partial f^i}^{-1}\\frac{\\partial I^j}{\\partial f^k}$ para tener el sistema linearizado con respecto a las $f^i$."
   ]
  },
  {
   "cell_type": "code",
   "execution_count": 196,
   "metadata": {},
   "outputs": [],
   "source": [
    "using Symbolics\n",
    "using LinearAlgebra\n",
    "using Latexify"
   ]
  },
  {
   "cell_type": "code",
   "execution_count": 4,
   "metadata": {},
   "outputs": [
    {
     "data": {
      "text/plain": [
       "Flux (generic function with 1 method)"
      ]
     },
     "execution_count": 4,
     "metadata": {},
     "output_type": "execute_result"
    }
   ],
   "source": [
    "function Flux(flu,par)\n",
    "    χ = par\n",
    "    #flux = zeros(5)\n",
    "    μ = flu[1]  \n",
    "    T = (abs(μ))^(-1//2) \n",
    "    v = flu[2]\n",
    "    x1 = flu[3]\n",
    "    x2 = flu[4]\n",
    "    x3 = flu[5]\n",
    "    χ₀ = χ[1]\n",
    "    χ₁ = χ[2]\n",
    "    χ₂ = χ[3]\n",
    "    γ = (1 - v^2)^(-1//2)\n",
    "    τ = 2χ₁ * x3 * T / (γ*μ^3) + 24χ₂*(1//2*(1-v^2)x3^2 + 14//3 * x2^2 + 7/5*(1-v^2)x1*x3)/μ^5\n",
    "    ρ = -6χ₀ / μ^2 - 6χ₁*x1/(γ * μ^4 * T) + 42χ₂*(6//5 *x1^2 + 10γ^2*x2^2 + 3//2*(v^2-1)^2*x3^2)/(μ^5 * γ^2)\n",
    "#    Q = 10χ₀ * x2 * T / μ^3 + 168χ₂ * x2 * (x1 - (v^2 - 1)x3)/(γ * μ^5)\n",
    "    Q = 10χ₁ * x2 * T / μ^3 + 168χ₂ * x2 * (x1 - (v^2 - 1)x3)/(γ * μ^5)\n",
    "    #flux[1] = 4//3 * ρ*γ^2*v + γ*Q*(1+v^2)+ τ*v\n",
    "    #flux[2] = 4//3 * ρ*(γ^2*v^2 + 1//4) + 2v*γ*Q + τ\n",
    "    #flux[3] = χ₁*γ*v*(6*γ^2 - 1)/μ^3/T - 12χ₂*(v*(6γ^2 - 1)*x1 + (6γ^2*(2v^2 + 1)-1)*x2 + v*(v^2+2)*x3)/μ^4\n",
    "    #flux[4] = χ₁*γ*(6γ^2*v^2+1)/μ^3/T - 12χ₂*((6γ^2*v+1)*x1 + v*(6γ^2*(1+v^2)+1)*x2 + (2v^2+1)*x3)/μ^4\n",
    "    #flux[5] = 3χ₁*γ*v*(2γ^2*v^2+1)/μ^3/T - 12χ₂*(v*(6γ^2*v^2+3)*x1 +3*(1+6γ^2*v^2)*x2 + 3v*x3)/μ^4\n",
    "    #return -flux[:]\n",
    "    return [4//3 * ρ*γ^2*v + γ*Q*(1+v^2)+ τ*v; \n",
    "            4//3 * ρ*(γ^2*v^2 + 1//4) + 2v*γ*Q + τ;\n",
    "            χ₁*γ*v*(6*γ^2 - 1)/μ^3/T   - 12χ₂*(v*(6γ^2 - 1)*x1   + (6γ^2*(2v^2 + 1)-1)*x2 + v*(v^2+2)*x3)/μ^4;\n",
    "            χ₁*γ*(6γ^2*v^2+1)/μ^3/T    - 12χ₂*((6γ^2*v+1)*x1     + v*(6γ^2*(1+v^2)+1)*x2  + (2v^2+1)*x3)/μ^4;\n",
    "            3χ₁*γ*v*(2γ^2*v^2+1)/μ^3/T - 12χ₂*(v*(6γ^2*v^2+3)*x1 + 3*(1+6γ^2*v^2)*x2      + 3v*x3)/μ^4]\n",
    "end"
   ]
  },
  {
   "cell_type": "markdown",
   "metadata": {},
   "source": [
    "Chequeamos con los valores de Marcelo. "
   ]
  },
  {
   "cell_type": "code",
   "execution_count": 5,
   "metadata": {},
   "outputs": [],
   "source": [
    "χ = [- 1.; - 2.; - 10.]\n",
    "flu = [- 5.; 0.5; 2.1; 0.5; 5.1]\n",
    "Flu = [5.921317694643806; 6.02302807825841; 3.713391378258412;  4.136735467078638; 3.444079555898864]\n",
    "\n",
    "Flux(flu,χ) - Flu;"
   ]
  },
  {
   "cell_type": "markdown",
   "metadata": {},
   "source": [
    "Calculamos el Jacobiano"
   ]
  },
  {
   "cell_type": "code",
   "execution_count": 6,
   "metadata": {},
   "outputs": [],
   "source": [
    "@variables f[1:5], c[1:5], p[1:3]#, fl[1:5]\n",
    "\n",
    "JFS = Symbolics.jacobian(Flux(f,p),f);\n",
    "JF_exp = Symbolics.build_function(JFS, f, p);\n",
    "JFac = eval(JF_exp[1]);"
   ]
  },
  {
   "cell_type": "markdown",
   "metadata": {},
   "source": [
    "Definimos algunos valores para testear"
   ]
  },
  {
   "cell_type": "code",
   "execution_count": 7,
   "metadata": {
    "tags": []
   },
   "outputs": [
    {
     "data": {
      "text/plain": [
       "3-element Vector{Float64}:\n",
       " -1.0\n",
       " -0.5\n",
       " -5.0"
      ]
     },
     "execution_count": 7,
     "metadata": {},
     "output_type": "execute_result"
    }
   ],
   "source": [
    "@variables x1, x2, x3\n",
    "\n",
    "flu=[-1.;0;0;0;0];\n",
    "con=ones(5)\n",
    "χ=[-1.,-0.5,-5.]"
   ]
  },
  {
   "cell_type": "markdown",
   "metadata": {},
   "source": [
    "El Jacobiano en equilibrio."
   ]
  },
  {
   "cell_type": "code",
   "execution_count": 8,
   "metadata": {
    "tags": []
   },
   "outputs": [
    {
     "data": {
      "text/latex": [
       "\\begin{equation}\n",
       "\\left[\n",
       "\\begin{array}{ccccc}\n",
       "0.0 &  - 8 p{_1} & 0.0 &  - 10.0 p{_2} & 0.0 \\\\\n",
       " - 4.0 p{_1} & 0.0 &  - 2.0 p{_2} & 0.0 &  - 2.0 p{_2} \\\\\n",
       "0.0 &  - 5.0 p{_2} & -0.0 &  - 60.0 p{_3} & -0.0 \\\\\n",
       " - 2.5 p{_2} & 0.0 &  - 12 p{_3} & -0.0 &  - 12 p{_3} \\\\\n",
       "0.0 &  - 3.0 p{_2} & -0.0 &  - 36.0 p{_3} & -0.0 \\\\\n",
       "\\end{array}\n",
       "\\right]\n",
       "\\end{equation}\n"
      ],
      "text/plain": [
       "5×5 Matrix{Num}:\n",
       "  0.0    (-8//1)*p₁          0.0    -10.0p₂      0.0\n",
       " -4.0p₁           0.0       -2.0p₂    0.0       -2.0p₂\n",
       "  0.0            -5.0p₂     -0.0    -60.0p₃     -0.0\n",
       " -2.5p₂           0.0    -12p₃       -0.0    -12p₃\n",
       "  0.0            -3.0p₂     -0.0    -36.0p₃     -0.0"
      ]
     },
     "execution_count": 8,
     "metadata": {},
     "output_type": "execute_result"
    }
   ],
   "source": [
    "JFac(flu,p)"
   ]
  },
  {
   "cell_type": "markdown",
   "metadata": {},
   "source": [
    "Ahora traemos el Jacobiano de la transformación entre las variables fluido/conservativas."
   ]
  },
  {
   "cell_type": "code",
   "execution_count": 9,
   "metadata": {},
   "outputs": [],
   "source": [
    "include(\"inversion_ext.jl\");"
   ]
  },
  {
   "cell_type": "markdown",
   "metadata": {},
   "source": [
    "Para posterior uso calculamos las variables conservativas correspondientes al estado de equilibrio. Esto no me lo esperaba, pensaba que me darían c1=c2=c3=0!"
   ]
  },
  {
   "cell_type": "code",
   "execution_count": 11,
   "metadata": {
    "tags": []
   },
   "outputs": [],
   "source": [
    "con = F(flu,zeros(5), p);\n",
    "\n",
    "Jac(flu,con,p)"
   ]
  },
  {
   "cell_type": "code",
   "execution_count": 12,
   "metadata": {},
   "outputs": [
    {
     "data": {
      "text/plain": [
       "P (generic function with 1 method)"
      ]
     },
     "execution_count": 12,
     "metadata": {},
     "output_type": "execute_result"
    }
   ],
   "source": [
    "P(flu,c,p) = Jac(flu,c,p) \\ JFac(flu,p)"
   ]
  },
  {
   "cell_type": "code",
   "execution_count": 13,
   "metadata": {},
   "outputs": [
    {
     "data": {
      "text/latex": [
       "\\begin{equation}\n",
       "\\left[\n",
       "\\begin{array}{ccccc}\n",
       "0.8219178082191768 & 0.9132420091323997 & -2.324810502389659e-15 & 2.308107162753638e-14 & -1.6297042185422354e-18 \\\\\n",
       "0.02472602739726053 & 0.8219178082191823 & -0.27168717347986465 & 2.6973515066823333 & -0.00019045411756735923 \\\\\n",
       "-0.0 & -0.0 & -5.298738665992881 & 63.85352761782765 & 0.0019462221387768792 \\\\\n",
       "-0.0 & -0.0 & 2.6243920962990277 & -26.0553631752587 & 0.0018397124694899392 \\\\\n",
       "-0.0 & -0.0 & -15.524556764785588 & 167.93551476170484 & 0.9553442587774591 \\\\\n",
       "\\end{array}\n",
       "\\right]\n",
       "\\end{equation}\n"
      ],
      "text/plain": [
       "5×5 Matrix{Num}:\n",
       "  0.821918   0.913242   -2.32481e-15    2.30811e-14  -1.6297e-18\n",
       "  0.024726   0.821918   -0.271687       2.69735      -0.000190454\n",
       " -0.0       -0.0        -5.29874       63.8535        0.00194622\n",
       " -0.0       -0.0         2.62439      -26.0554        0.00183971\n",
       " -0.0       -0.0       -15.5246       167.936         0.955344"
      ]
     },
     "execution_count": 13,
     "metadata": {},
     "output_type": "execute_result"
    }
   ],
   "source": [
    "flu = [-1;0.9;0;0;0]\n",
    "M0=simplify.(substitute.(P(flu,c,p), (Dict(p[2] => 0),)))"
   ]
  },
  {
   "cell_type": "code",
   "execution_count": 68,
   "metadata": {
    "tags": []
   },
   "outputs": [
    {
     "ename": "LoadError",
     "evalue": "syntax: incomplete: premature end of input",
     "output_type": "error",
     "traceback": [
      "syntax: incomplete: premature end of input",
      "",
      "Stacktrace:",
      " [1] top-level scope",
      "   @ In[68]:1",
      " [2] eval",
      "   @ ./boot.jl:360 [inlined]",
      " [3] include_string(mapexpr::typeof(REPL.softscope), mod::Module, code::String, filename::String)",
      "   @ Base ./loading.jl:1094"
     ]
    }
   ],
   "source": [
    "P(flu,c,p);"
   ]
  },
  {
   "cell_type": "code",
   "execution_count": 15,
   "metadata": {},
   "outputs": [
    {
     "data": {
      "text/plain": [
       "180.0"
      ]
     },
     "execution_count": 15,
     "metadata": {},
     "output_type": "execute_result"
    }
   ],
   "source": [
    "18.75/3.75*36"
   ]
  },
  {
   "cell_type": "code",
   "execution_count": 16,
   "metadata": {},
   "outputs": [],
   "source": [
    "P(flu,c,p)[4,3];"
   ]
  },
  {
   "cell_type": "code",
   "execution_count": 17,
   "metadata": {},
   "outputs": [],
   "source": [
    "P(flu,c,p)';"
   ]
  },
  {
   "cell_type": "code",
   "execution_count": 67,
   "metadata": {},
   "outputs": [],
   "source": [
    "Ratio = P(flu,c,p)'[4,1]/P(flu,c,p)'[4,3];"
   ]
  },
  {
   "cell_type": "code",
   "execution_count": 19,
   "metadata": {},
   "outputs": [],
   "source": [
    "#par_f = [-1,-0.5,-10]\n",
    "#substitute(P(flu,c,p)'[4,1]/P(flu,c,p)'[4,3], (Dict(p => par_f),))\n"
   ]
  },
  {
   "cell_type": "code",
   "execution_count": 20,
   "metadata": {},
   "outputs": [
    {
     "data": {
      "text/latex": [
       "\\begin{equation}\n",
       "\\frac{\\left( 120 p{_1} \\left(  - 36 p{_3} - \\frac{3.75 p{_2}^{2}}{p{_1}} \\right) + 72 p{_2} \\left( 6.25 p{_2} - 60 p{_3} \\right) \\right)}{\\left( 6.25 p{_2} - 60 p{_3} \\right) p{_1}}\n",
       "\\end{equation}\n"
      ],
      "text/plain": [
       "(p₁^-1)*((6.25p₂ - (60p₃))^-1)*(120p₁*(-36p₃ - (3.75(p₁^-1)*(p₂^2))) + 72p₂*(6.25p₂ - (60p₃)))"
      ]
     },
     "execution_count": 20,
     "metadata": {},
     "output_type": "execute_result"
    }
   ],
   "source": [
    "simplify(12*(10p[1]*(-36p[3] - 3.75p[2]^2/p[1]) + 6p[2]*(6.25p[2] - 60p[3])) / (6.25p[2] - 60p[3]) / p[1])"
   ]
  },
  {
   "cell_type": "code",
   "execution_count": 21,
   "metadata": {},
   "outputs": [
    {
     "data": {
      "text/plain": [
       "-0.09313371727529571"
      ]
     },
     "execution_count": 21,
     "metadata": {},
     "output_type": "execute_result"
    }
   ],
   "source": [
    "par_f = [-1,-0.5,-10]\n",
    "P(flu,c,par_f)'[4,1]/P(flu,c,par_f)'[4,3]"
   ]
  },
  {
   "cell_type": "markdown",
   "metadata": {},
   "source": [
    "Miramos primero el caso donde las variables están desacopladas, es decir con $\\chi_1=0$."
   ]
  },
  {
   "cell_type": "code",
   "execution_count": 22,
   "metadata": {},
   "outputs": [
    {
     "data": {
      "text/plain": [
       "5×5 Matrix{Float64}:\n",
       " 0.821918  0.913242   -2.3032e-15    1.9843e-14  -1.73017e-18\n",
       " 0.024726  0.821918   -0.271687      2.69735     -0.000190454\n",
       " 0.0       0.0        -5.29874      63.8535       0.00194622\n",
       " 0.0       0.0         2.62439     -26.0554       0.00183971\n",
       " 0.0       0.0       -15.5246      167.936        0.955344"
      ]
     },
     "execution_count": 22,
     "metadata": {},
     "output_type": "execute_result"
    }
   ],
   "source": [
    "P(flu,c,[-1,-0,-2])"
   ]
  },
  {
   "cell_type": "markdown",
   "metadata": {},
   "source": [
    "Vemos que se corresponde con la siguiente matriz racional."
   ]
  },
  {
   "cell_type": "code",
   "execution_count": 23,
   "metadata": {},
   "outputs": [],
   "source": [
    "M = [0 2//3 0 0 0;\n",
    "    1//2 0 -1//4 0 -1//4;\n",
    "    0 0 0 5//3 0;\n",
    "    0 0 1//5 0 1//5;\n",
    "    0 0 0 4//3 0];"
   ]
  },
  {
   "cell_type": "code",
   "execution_count": 24,
   "metadata": {},
   "outputs": [
    {
     "data": {
      "text/plain": [
       "5×5 Matrix{Float64}:\n",
       "  0.821918  0.246575   -2.3032e-15    1.9843e-14  -1.73017e-18\n",
       " -0.475274  0.821918   -0.0216872     2.69735      0.24981\n",
       "  0.0       0.0        -5.29874      62.1869       0.00194622\n",
       "  0.0       0.0         2.42439     -26.0554      -0.19816\n",
       "  0.0       0.0       -15.5246      166.602        0.955344"
      ]
     },
     "execution_count": 24,
     "metadata": {},
     "output_type": "execute_result"
    }
   ],
   "source": [
    "P(flu,c,[-1,0,-1]) - M"
   ]
  },
  {
   "cell_type": "code",
   "execution_count": 25,
   "metadata": {},
   "outputs": [
    {
     "data": {
      "text/plain": [
       "5-element Vector{Float64}:\n",
       " -0.7745966692414842\n",
       " -0.5773502691896256\n",
       "  3.0357660829594124e-18\n",
       "  0.5773502691896258\n",
       "  0.7745966692414837"
      ]
     },
     "execution_count": 25,
     "metadata": {},
     "output_type": "execute_result"
    }
   ],
   "source": [
    "eigvals(M)"
   ]
  },
  {
   "cell_type": "code",
   "execution_count": 26,
   "metadata": {},
   "outputs": [
    {
     "data": {
      "text/plain": [
       "-1.5543122344752192e-15"
      ]
     },
     "execution_count": 26,
     "metadata": {},
     "output_type": "execute_result"
    }
   ],
   "source": [
    "1/0.7745966692414837^2 - 5/3"
   ]
  },
  {
   "cell_type": "code",
   "execution_count": 27,
   "metadata": {},
   "outputs": [
    {
     "data": {
      "text/plain": [
       "-8.881784197001252e-16"
      ]
     },
     "execution_count": 27,
     "metadata": {},
     "output_type": "execute_result"
    }
   ],
   "source": [
    "1/0.5773502691896258^2 - 3"
   ]
  },
  {
   "cell_type": "code",
   "execution_count": 28,
   "metadata": {},
   "outputs": [
    {
     "data": {
      "text/plain": [
       "5-element Vector{ComplexF64}:\n",
       " 0.6920261648426755 + 0.0im\n",
       "  0.816210922703936 - 0.25976511065367136im\n",
       "  0.816210922703936 + 0.25976511065367136im\n",
       "  1.028445706997088 + 0.0im\n",
       " 38.838556655867706 + 0.0im"
      ]
     },
     "execution_count": 28,
     "metadata": {},
     "output_type": "execute_result"
    }
   ],
   "source": [
    "eigvals(P(flu,c,[-1,-0.5,-1]))"
   ]
  },
  {
   "cell_type": "markdown",
   "metadata": {},
   "source": [
    "Hacemos lo mismo para la fuente."
   ]
  },
  {
   "cell_type": "code",
   "execution_count": 29,
   "metadata": {},
   "outputs": [
    {
     "data": {
      "text/plain": [
       "Is (generic function with 1 method)"
      ]
     },
     "execution_count": 29,
     "metadata": {},
     "output_type": "execute_result"
    }
   ],
   "source": [
    "function Is(flu, χ, ξ)\n",
    "    #(χ, ξ) = par \n",
    "    μ = flu[1] \n",
    "    χ₀= χ[1]\n",
    "    χ₁= -χ[2] # lo hacemos positivo\n",
    "    κ = χ₀*ξ[1]/χ₁^2 # OK \n",
    "    λ = χ₀*ξ[2]/χ₁^2  # OK\n",
    "    η = χ₀*ξ[3]/χ₁^2\n",
    "    T = (abs(μ))^(-1//2) # use μ positive, so I changed μ -> -μ\n",
    "    v = flu[2]\n",
    "    x1 = flu[3]\n",
    "    x2 = flu[4]\n",
    "    x3 = flu[5]\n",
    "    γ = (1. - v^2)^(-1//2)\n",
    "    #Is[1] = 0.\n",
    "    #Is[2] = 0.\n",
    "    #Is[3] = -2//5*a*(γ^2-1//4)*T*x1/(γ*λ) - 2γ*v*x2/T/κ - v^2*T*x3/(γ*λ)\n",
    "    #Is[4] = -2//5*a*γ*v*T*x1/λ - γ*(v^2+1)*x2/T/κ - v*T*x3/(γ*λ)\n",
    "    #Is[5] = -2//5*a*(γ^2*v^2+1//4)*T*x1/λ/γ - 2γ*v*x2/T/κ - T*x3/(γ*λ)\n",
    "    #return Is[:]      #(1 - ℯ^(-5. *t))\n",
    "    return [0.;\n",
    "            0.;\n",
    "            -(3//10*(γ^2-1//4)*x1/(γ*λ)   + 2γ*v*x2/κ      - v^2*x3/(γ*η))/μ^4/T;\n",
    "            -(3//10*γ*v*x1/λ              + γ*(v^2+1)*x2/κ - v*x3/(γ*η))/μ^4/T;\n",
    "            -(3//10*(γ^2*v^2+1//4)*x1/λ/γ + 2γ*v*x2/κ      - x3/(γ*η))/μ^4/T;\n",
    "            #-2//5*(γ^2-1//4)*T*x1/(γ*λ) - 2γ*v*x2/T/κ - v^2*T*x3/(γ*η);\n",
    "            #-2//5*γ*v*T*x1/λ - γ*(v^2+1)*x2/T/κ - v*T*x3/(γ*η);\n",
    "            #-2//5*(γ^2*v^2+1//4)*T*x1/η/γ - 2γ*v*x2/T/κ + T*x3/(γ*η)\n",
    "            #-2//5*(γ^2-1//4)*T*x1/(γ*λ) - 2γ*v*x2/T/κ - v^2*T*x3/(γ*λ);\n",
    "            #-2//5*γ*v*T*x1/λ - γ*(v^2+1)*x2/T/κ - v*T*x3/(γ*λ);\n",
    "            #-2//5*(γ^2*v^2+1//4)*T*x1/λ/γ - 2γ*v*x2/T/κ - T*x3/(γ*λ)\n",
    "            ]\n",
    "end"
   ]
  },
  {
   "cell_type": "markdown",
   "metadata": {},
   "source": [
    "La chequeamos con valores de Marcelo."
   ]
  },
  {
   "cell_type": "code",
   "execution_count": 30,
   "metadata": {},
   "outputs": [],
   "source": [
    "t=0\n",
    "flu = [- 5.; 0.0; 2.1; 0.5; 5.1]\n",
    "par = [-1., -2., -10.]\n",
    "par_s = [1/15π, 1/1π, 1/1π]\n",
    "I_c = [0.; 0.; - 0.09488575328013785; - 0.12155655385334033; - 0.12140081195218293]\n",
    "Is(flu,par,par_s) - I_c;"
   ]
  },
  {
   "cell_type": "code",
   "execution_count": 31,
   "metadata": {},
   "outputs": [],
   "source": [
    "@variables q[1:3]  \n",
    "Is(f,p,q);"
   ]
  },
  {
   "cell_type": "code",
   "execution_count": 32,
   "metadata": {},
   "outputs": [],
   "source": [
    "JSS = Symbolics.jacobian(Is(f,p,q),f);"
   ]
  },
  {
   "cell_type": "code",
   "execution_count": 33,
   "metadata": {},
   "outputs": [],
   "source": [
    "JS_exp = Symbolics.build_function(JSS, f, p,q);"
   ]
  },
  {
   "cell_type": "code",
   "execution_count": 34,
   "metadata": {},
   "outputs": [],
   "source": [
    "JSac = eval(JS_exp[1]);"
   ]
  },
  {
   "cell_type": "code",
   "execution_count": 35,
   "metadata": {
    "tags": []
   },
   "outputs": [
    {
     "data": {
      "text/plain": [
       "5-element Vector{Float64}:\n",
       " -92.02982767323965\n",
       "  -1.0274021719908326\n",
       "  -0.9721870563644237\n",
       "  -0.723651380445861\n",
       "  -0.6716485600739354"
      ]
     },
     "execution_count": 35,
     "metadata": {},
     "output_type": "execute_result"
    }
   ],
   "source": [
    "flu=[1.;-0.9;0;0;0];\n",
    "con=ones(5)\n",
    "#par_f = [-1,-2,-10]\n",
    "par_f = [-1,-0.0,1]\n",
    "#JSac(flu,par_f,par_s)\n",
    "#eigvals(JSac(flu,par_f,par_s)) #esta no es la matríz correcta para sacarle los autovalores\n",
    "eigvals(P(flu,c,par_f))"
   ]
  },
  {
   "cell_type": "markdown",
   "metadata": {},
   "source": [
    "Si $\\chi_1=0$ los autovalores (velocidades) no dependen de los otros $\\chi$ y hay uno que crece muchísimo cuando $v \\to 1$. Eso trae problemas para evolucionar las ecuaciones por el CFL."
   ]
  },
  {
   "cell_type": "code",
   "execution_count": 36,
   "metadata": {},
   "outputs": [
    {
     "data": {
      "text/plain": [
       "II (generic function with 1 method)"
      ]
     },
     "execution_count": 36,
     "metadata": {},
     "output_type": "execute_result"
    }
   ],
   "source": [
    "II(flu,c,p,q) = Jac(flu,c,p) \\ JSac(flu,p,q)"
   ]
  },
  {
   "cell_type": "code",
   "execution_count": 37,
   "metadata": {},
   "outputs": [],
   "source": [
    "II(flu,c,p,q);"
   ]
  },
  {
   "cell_type": "code",
   "execution_count": 38,
   "metadata": {
    "tags": []
   },
   "outputs": [
    {
     "data": {
      "text/plain": [
       "5-element Vector{ComplexF64}:\n",
       "     -0.3227243212134478 - 0.515560156372672im\n",
       " -1.4210854715202004e-14 + 34.57306291086245im\n",
       " -1.8051398841728837e-15 - 0.6874567395422221im\n",
       "   6.249469941448383e-17 - 1.0387990014166986im\n",
       "      0.3227243212134496 - 0.5155601563726537im"
      ]
     },
     "execution_count": 38,
     "metadata": {},
     "output_type": "execute_result"
    }
   ],
   "source": [
    "par_f = [-1,-0.5,-1]\n",
    "par_s = [-1/15π, -1/1π, -0.1/1π]\n",
    "eigvals(1*im .* P(flu,c,par_f) - 0.0 .*II(flu,c,par_f,par_s))"
   ]
  },
  {
   "cell_type": "code",
   "execution_count": 39,
   "metadata": {
    "tags": []
   },
   "outputs": [
    {
     "data": {
      "text/plain": [
       "5-element Vector{Float64}:\n",
       " -0.22275430636752863\n",
       " -0.0011447429759480713\n",
       " -0.0\n",
       "  0.0\n",
       "  0.011345525787119164"
      ]
     },
     "execution_count": 39,
     "metadata": {},
     "output_type": "execute_result"
    }
   ],
   "source": [
    "eigvals(-II(flu,c,par_f,par_s)) #notemos que esta tiene dos autovalor positivos!"
   ]
  },
  {
   "cell_type": "markdown",
   "metadata": {},
   "source": [
    "Vemos que un par de autovalores tiene parte real positiva. "
   ]
  },
  {
   "cell_type": "code",
   "execution_count": 40,
   "metadata": {
    "tags": []
   },
   "outputs": [
    {
     "data": {
      "text/plain": [
       "5×5 Matrix{Float64}:\n",
       "  0.104016   1.0  0.0   0.107241     0.00723379\n",
       " -0.0124128  0.0  1.0   0.00259509  -0.00110536\n",
       "  0.931304   0.0  0.0   0.990192    -0.00388408\n",
       " -0.112165   0.0  0.0   0.0230413    0.0127446\n",
       "  0.330331   0.0  0.0  -0.0864993    0.999884"
      ]
     },
     "execution_count": 40,
     "metadata": {},
     "output_type": "execute_result"
    }
   ],
   "source": [
    "eigvecs(II(flu,c,par_f,par_s))"
   ]
  },
  {
   "cell_type": "code",
   "execution_count": 41,
   "metadata": {
    "tags": []
   },
   "outputs": [],
   "source": [
    "par_f = [-1,-1,-10]\n",
    "E = eigvecs(10*im .* P(flu,c,par_f) - 0. * II(flu,c,par_f,par_s));"
   ]
  },
  {
   "cell_type": "code",
   "execution_count": 42,
   "metadata": {
    "tags": []
   },
   "outputs": [
    {
     "data": {
      "text/plain": [
       "10-element Vector{ComplexF64}:\n",
       "    0.03392902361428295 - 0.18565151104423314im\n",
       "   -0.00393414662988325 + 0.03066398308213427im\n",
       "   0.021551135746863882 - 0.00028413646656198083im\n",
       "   0.040290450405110305 - 0.000425190158447504im\n",
       "     0.9804787336140335 + 0.0im\n",
       "   0.033929023614427796 + 0.18565151104368102im\n",
       " -0.0039341466299043625 - 0.030663983082049272im\n",
       "   0.021551135746865062 + 0.0002841364665643071im\n",
       "    0.04029045040511333 + 0.0004251901584501547im\n",
       "     0.9804787336141354 + 0.0im"
      ]
     },
     "execution_count": 42,
     "metadata": {},
     "output_type": "execute_result"
    }
   ],
   "source": [
    "[E[:,1]; E[:,5]]"
   ]
  },
  {
   "cell_type": "code",
   "execution_count": 43,
   "metadata": {
    "tags": []
   },
   "outputs": [
    {
     "data": {
      "text/plain": [
       "10-element Vector{ComplexF64}:\n",
       "   -0.05255000756713335 + 4.2358477836401676e-14im\n",
       "  0.0014752804718655042 + 8.193641078124703e-15im\n",
       "    0.03879691380912619 - 6.570959054652548e-14im\n",
       "    0.06947039060971613 - 1.1669484822895981e-13im\n",
       "     0.9954421050767563 + 0.0im\n",
       "   0.003806727693345729 - 3.159495234883458e-14im\n",
       " 0.00036593454473584405 - 1.736078728692414e-15im\n",
       "  -0.013924794939869825 + 3.536233805778721e-14im\n",
       "   -0.02533848314073266 + 6.315260814293566e-14im\n",
       "     0.9995746276662825 + 0.0im"
      ]
     },
     "execution_count": 43,
     "metadata": {},
     "output_type": "execute_result"
    }
   ],
   "source": [
    "[E[:,2]; E[:,4]]"
   ]
  },
  {
   "cell_type": "code",
   "execution_count": 44,
   "metadata": {
    "tags": []
   },
   "outputs": [
    {
     "data": {
      "text/plain": [
       "5-element Vector{ComplexF64}:\n",
       " -0.11979728242697228 - 5.3308865568396646e-17im\n",
       " -0.02345891319720768 + 3.5845587294854736e-17im\n",
       "  -0.6035448754220478 - 5.366800753803247e-17im\n",
       " -0.19072302482856826 - 2.4062511965600164e-17im\n",
       "      0.7644976139052 + 0.0im"
      ]
     },
     "execution_count": 44,
     "metadata": {},
     "output_type": "execute_result"
    }
   ],
   "source": [
    "E[:,3]"
   ]
  },
  {
   "cell_type": "code",
   "execution_count": null,
   "metadata": {},
   "outputs": [],
   "source": []
  },
  {
   "cell_type": "code",
   "execution_count": 45,
   "metadata": {
    "tags": []
   },
   "outputs": [
    {
     "data": {
      "text/plain": [
       "5×5 Matrix{ComplexF64}:\n",
       "    12.8109-2.0938im       …    0.0944203-0.00473467im\n",
       "   -17.7013-3.35003e-11im        0.137714-3.78955e-13im\n",
       " -0.0527449-1.71738e-16im     -5.35308e-5+1.4299e-17im\n",
       "   -7.46387+1.02343e-11im        0.678088+2.44954e-13im\n",
       "    12.8109+2.0938im            0.0944203+0.00473467im"
      ]
     },
     "execution_count": 45,
     "metadata": {},
     "output_type": "execute_result"
    }
   ],
   "source": [
    "Ei = inv(E)"
   ]
  },
  {
   "cell_type": "code",
   "execution_count": 46,
   "metadata": {
    "tags": []
   },
   "outputs": [
    {
     "data": {
      "text/plain": [
       "5-element Vector{ComplexF64}:\n",
       "  -0.05274485756154907 - 1.717376241217039e-16im\n",
       "  -0.32278677681983486 - 2.3869795029440866e-15im\n",
       "   -1.9716907670023622 + 1.457167719820518e-16im\n",
       "    1.0688476231969106 + 3.8163916471489756e-16im\n",
       " -5.353076327775631e-5 + 1.429903030955879e-17im"
      ]
     },
     "execution_count": 46,
     "metadata": {},
     "output_type": "execute_result"
    }
   ],
   "source": [
    "Ei[3,:]"
   ]
  },
  {
   "cell_type": "code",
   "execution_count": 47,
   "metadata": {},
   "outputs": [
    {
     "data": {
      "text/plain": [
       "1.5595857938421887e-12 - 1.5918863449648768e-13im"
      ]
     },
     "execution_count": 47,
     "metadata": {},
     "output_type": "execute_result"
    }
   ],
   "source": [
    "Ei[5,:]'*E[:,5]"
   ]
  },
  {
   "cell_type": "code",
   "execution_count": 48,
   "metadata": {
    "tags": []
   },
   "outputs": [],
   "source": [
    "ET = eigvecs(10*im .* P(flu,c,par_f)');"
   ]
  },
  {
   "cell_type": "code",
   "execution_count": 49,
   "metadata": {
    "tags": []
   },
   "outputs": [],
   "source": [
    "[ET[:,1]; ET[:,5]];"
   ]
  },
  {
   "cell_type": "code",
   "execution_count": 50,
   "metadata": {
    "tags": []
   },
   "outputs": [],
   "source": [
    "[ET[:,2]; ET[:,3]];"
   ]
  },
  {
   "cell_type": "code",
   "execution_count": 51,
   "metadata": {
    "tags": []
   },
   "outputs": [],
   "source": [
    "ET[:,4] - ET[1,4]/Ei[4,1] .* Ei[4,:];"
   ]
  },
  {
   "cell_type": "code",
   "execution_count": 52,
   "metadata": {},
   "outputs": [
    {
     "data": {
      "text/plain": [
       "37.38166824512807 - 1.244776451324114e-13im"
      ]
     },
     "execution_count": 52,
     "metadata": {},
     "output_type": "execute_result"
    }
   ],
   "source": [
    "1/(Ei[3,1]/Ei[3,3])"
   ]
  },
  {
   "cell_type": "code",
   "execution_count": 53,
   "metadata": {},
   "outputs": [
    {
     "data": {
      "text/plain": [
       "0.0010149001391328084 - 2.744026151039468e-16im"
      ]
     },
     "execution_count": 53,
     "metadata": {},
     "output_type": "execute_result"
    }
   ],
   "source": [
    "1/(Ei[3,1]/Ei[3,5])"
   ]
  },
  {
   "cell_type": "markdown",
   "metadata": {},
   "source": [
    " [-1,-1,-1] -> 16/5, 4  $\\frac{4\\chi_2}{\\chi_1}(4/5,1)$\n",
    " [-1,-2,10] -> -16, 20\n",
    " [-1,-0.5,-1] -> -64, 80"
   ]
  },
  {
   "cell_type": "code",
   "execution_count": 54,
   "metadata": {},
   "outputs": [
    {
     "data": {
      "text/plain": [
       "2-element Vector{Float64}:\n",
       " 1.6\n",
       " 2.0"
      ]
     },
     "execution_count": 54,
     "metadata": {},
     "output_type": "execute_result"
    }
   ],
   "source": [
    "4χ[2]/χ[1]*[4/5;1]"
   ]
  },
  {
   "cell_type": "code",
   "execution_count": 55,
   "metadata": {},
   "outputs": [
    {
     "data": {
      "text/plain": [
       "coc (generic function with 1 method)"
      ]
     },
     "execution_count": 55,
     "metadata": {},
     "output_type": "execute_result"
    }
   ],
   "source": [
    "function coc(par_f)\n",
    "    return 4par_f[3]/par_f[2]*[-4/5 ; 1]\n",
    "end"
   ]
  },
  {
   "cell_type": "code",
   "execution_count": 56,
   "metadata": {},
   "outputs": [
    {
     "data": {
      "text/plain": [
       "2-element Vector{Float64}:\n",
       " -32.0\n",
       "  40.0"
      ]
     },
     "execution_count": 56,
     "metadata": {},
     "output_type": "execute_result"
    }
   ],
   "source": [
    "coc([-1,-1,-10])"
   ]
  },
  {
   "cell_type": "code",
   "execution_count": 57,
   "metadata": {},
   "outputs": [
    {
     "data": {
      "text/plain": [
       "2-element Vector{Float64}:\n",
       " -64.0\n",
       "  80.0"
      ]
     },
     "execution_count": 57,
     "metadata": {},
     "output_type": "execute_result"
    }
   ],
   "source": [
    "coc([-1,-0.5,-10])"
   ]
  },
  {
   "cell_type": "markdown",
   "metadata": {},
   "source": [
    "Alternativamente podemos quedarnos con las expresiones en derivadas del los campos del fluido.\n",
    "Es decir:\n",
    "\n",
    "$(\\zeta^a, \\zeta^{ab})$ -> $f^j = (\\mu, v, x_i)$ -> $(-1,0,0,0,0)$\n",
    "\n",
    "$$\n",
    "\\partial_t c^j = \\partial_i F^{ij}(f) + I^j(f) = \\frac{\\partial F^{ij}}{\\partial f^k}\\partial_i f^k + I^j(j)\n",
    "$$"
   ]
  },
  {
   "cell_type": "code",
   "execution_count": 247,
   "metadata": {},
   "outputs": [
    {
     "data": {
      "text/plain": [
       "5×5 Matrix{Float64}:\n",
       "  0.363636  -0.727273   0.0        0.0       0.0\n",
       " -0.306818   0.363636   0.787663  -1.21179   0.0817958\n",
       "  0.0        0.0       -1.08955    4.52239  -0.0727612\n",
       "  0.0        0.0        0.970149  -1.49254   0.100746\n",
       "  0.0        0.0       -1.65174    5.41294   0.574627"
      ]
     },
     "execution_count": 247,
     "metadata": {},
     "output_type": "execute_result"
    }
   ],
   "source": [
    "flu=[1.;0.5;0;0;0];\n",
    "#con=ones(5)\n",
    "par_f = [-1.,-0.,1.]\n",
    "#par_f = [-1,-0.5,-10]\n",
    "par_s = [-1/15π, -1/1π, -0.1/1π]\n",
    "con = F(flu,zeros(5), par_f);\n",
    "PP = inv(Jac(flu,con,par_f))*(JFac(flu,par_f) + 0.0.*JSac(flu,par_f,par_s))"
   ]
  },
  {
   "cell_type": "code",
   "execution_count": 251,
   "metadata": {},
   "outputs": [
    {
     "data": {
      "text/plain": [
       "5×5 Matrix{Float64}:\n",
       " -0.363636  -0.727273   0.0      0.0       0.0\n",
       " -0.306818  -0.363636  -1.92674  1.21179   0.0817958\n",
       "  0.0        0.0       -4.8806   4.52239   0.0727612\n",
       "  0.0        0.0       -2.37313  1.49254   0.100746\n",
       "  0.0        0.0       -5.35323  5.41294  -0.574627"
      ]
     },
     "execution_count": 251,
     "metadata": {},
     "output_type": "execute_result"
    }
   ],
   "source": [
    "flu=[1.;-0.5;0;0;0];\n",
    "#con=ones(5)\n",
    "par_f = [1.,-0.,-1.]\n",
    "#par_f = [-1,-0.5,-10]\n",
    "par_s = [-1/15π, -1/1π, -0.1/1π]\n",
    "con = F(flu,zeros(5), par_f);\n",
    "PP = inv(Jac(flu,con,par_f))*(JFac(flu,par_f) + 0.0.*JSac(flu,par_f,par_s))"
   ]
  },
  {
   "cell_type": "code",
   "execution_count": 225,
   "metadata": {},
   "outputs": [
    {
     "data": {
      "text/plain": [
       "5-element Vector{ComplexF64}:\n",
       "    -0.5075617914690567 - 1.61135948756819im\n",
       " -8.348972414653242e-17 - 0.7399675920277918im\n",
       "                    0.0 - 0.8360138566096933im\n",
       "  3.524671364951802e-17 + 0.10874112933696656im\n",
       "     0.5075617914690568 - 1.6113594875681951im"
      ]
     },
     "execution_count": 225,
     "metadata": {},
     "output_type": "execute_result"
    }
   ],
   "source": [
    "eigvals(PP)"
   ]
  },
  {
   "cell_type": "code",
   "execution_count": 226,
   "metadata": {},
   "outputs": [],
   "source": [
    "Et = eigvecs(PP);"
   ]
  },
  {
   "cell_type": "code",
   "execution_count": 227,
   "metadata": {},
   "outputs": [],
   "source": [
    "Ett = inv(Et);"
   ]
  },
  {
   "cell_type": "code",
   "execution_count": 228,
   "metadata": {},
   "outputs": [
    {
     "data": {
      "text/plain": [
       "5×5 Matrix{ComplexF64}:\n",
       "   0.710938+0.0im          …   1.05163+2.39746e-15im\n",
       " 1.7244e-16-8.74611e-17im      1.63708+3.62044e-15im\n",
       "   0.402992+6.28309e-16im       2.4638+1.84815e-14im\n",
       "   -3.07429+3.81222e-15im     -23.1611-3.8903e-14im\n",
       "    1.05163-2.39746e-15im      7.98949+0.0im"
      ]
     },
     "execution_count": 228,
     "metadata": {},
     "output_type": "execute_result"
    }
   ],
   "source": [
    "H = adjoint(Ett)*Ett\n",
    "#latexify(H)"
   ]
  },
  {
   "cell_type": "code",
   "execution_count": 230,
   "metadata": {},
   "outputs": [
    {
     "data": {
      "text/plain": [
       "5×5 Matrix{ComplexF64}:\n",
       "  5.36693e-17+0.0im          …  -1.82348e-16+1.11022e-16im\n",
       " -4.31408e-32+4.44089e-16im     -2.02858e-16+8.88178e-16im\n",
       "  7.17487e-16-7.21645e-15im       6.8121e-15-4.88727im\n",
       " -5.10703e-16+1.19904e-14im      6.16235e-15+5.86066im\n",
       " -1.82348e-16-1.11022e-16im     -4.55691e-15+0.0im"
      ]
     },
     "execution_count": 230,
     "metadata": {},
     "output_type": "execute_result"
    }
   ],
   "source": [
    "H*PP + adjoint(PP)*H"
   ]
  },
  {
   "cell_type": "code",
   "execution_count": 231,
   "metadata": {},
   "outputs": [
    {
     "data": {
      "text/plain": [
       "5-element Vector{Float64}:\n",
       "   0.44869088332762785\n",
       "   0.4997069250020913\n",
       "   1.3879128490688213\n",
       "  21.53495632225366\n",
       " 314.5948796342527"
      ]
     },
     "execution_count": 231,
     "metadata": {},
     "output_type": "execute_result"
    }
   ],
   "source": [
    "eigvals(H)"
   ]
  },
  {
   "cell_type": "code",
   "execution_count": 61,
   "metadata": {},
   "outputs": [
    {
     "data": {
      "text/plain": [
       "5-element Vector{ComplexF64}:\n",
       "  -18.77378089891949 - 16.060972860964633im\n",
       " -18.773780898919433 + 16.060972860964554im\n",
       "                 0.0 + 0.0im\n",
       "  18.773780898919416 - 16.06097286096449im\n",
       "   18.77378089891951 + 16.060972860964554im"
      ]
     },
     "execution_count": 61,
     "metadata": {},
     "output_type": "execute_result"
    }
   ],
   "source": [
    "eigvals(H*(1.0im.* JFac(flu,par_f) - 0.0.*JSac(flu,con,par_s)))"
   ]
  },
  {
   "cell_type": "code",
   "execution_count": 62,
   "metadata": {},
   "outputs": [
    {
     "data": {
      "text/latex": [
       "\\begin{equation}\n",
       "\\left[\n",
       "\\begin{array}{ccccc}\n",
       "0.0 & 0.0 & 0.0 & 0.0 & 0.0 \\\\\n",
       "0.0 & 0.0 & 0.0 & 0.0 & 0.0 \\\\\n",
       "0.0 & 0.0 &  - \\frac{0.13499999999999998}{p{_2}} & 0.0 & 0.0 \\\\\n",
       "0.0 & 0.0 & 0.0 & \\frac{3.0}{p{_1}} & 0.0 \\\\\n",
       "0.0 & 0.0 & \\frac{0.075}{p{_2}} & 0.0 &  - \\frac{1.0}{p{_3}} \\\\\n",
       "\\end{array}\n",
       "\\right]\n",
       "\\end{equation}\n"
      ],
      "text/plain": [
       "5×5 Matrix{Num}:\n",
       " 0.0  0.0   0.0           0.0                0.0\n",
       " 0.0  0.0   0.0           0.0                0.0\n",
       " 0.0  0.0  -0.135(p₂^-1)  0.0                0.0\n",
       " 0.0  0.0   0.0           3.0(p₁^-1)         0.0\n",
       " 0.0  0.0   0.075(p₂^-1)  0.0         -(p₃^-1)"
      ]
     },
     "execution_count": 62,
     "metadata": {},
     "output_type": "execute_result"
    }
   ],
   "source": [
    "H*JSac(flu,con,p)"
   ]
  },
  {
   "cell_type": "code",
   "execution_count": 89,
   "metadata": {},
   "outputs": [
    {
     "data": {
      "text/plain": [
       "0.7500001875000468"
      ]
     },
     "execution_count": 89,
     "metadata": {},
     "output_type": "execute_result"
    }
   ],
   "source": [
    "1/1.333333"
   ]
  },
  {
   "cell_type": "code",
   "execution_count": 64,
   "metadata": {},
   "outputs": [
    {
     "data": {
      "text/plain": [
       "7.407407407407407"
      ]
     },
     "execution_count": 64,
     "metadata": {},
     "output_type": "execute_result"
    }
   ],
   "source": [
    "200/27"
   ]
  },
  {
   "cell_type": "code",
   "execution_count": null,
   "metadata": {},
   "outputs": [],
   "source": []
  }
 ],
 "metadata": {
  "kernelspec": {
   "display_name": "Julia 1.6.1",
   "language": "julia",
   "name": "julia-1.6"
  },
  "language_info": {
   "file_extension": ".jl",
   "mimetype": "application/julia",
   "name": "julia",
   "version": "1.6.1"
  }
 },
 "nbformat": 4,
 "nbformat_minor": 4
}
