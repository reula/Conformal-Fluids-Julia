{
 "cells": [
  {
   "cell_type": "markdown",
   "metadata": {},
   "source": [
    "## Fluídos Conformes\n",
    "\n",
    "Código para testear la estabilidad alrededor de una solución de equilibrio.\n",
    "\n",
    "Las ecuaciones son:\n",
    "\n",
    "$(\\zeta^a, \\zeta^{ab})$ -> $f^j = (\\mu, v, x_i)$ -> $(-1,0,0,0,0)$\n",
    "\n",
    "$$\n",
    "\\partial_t c^j = \\partial_i F^{ij}(f) + I^j(f) = \\frac{\\partial F^{ij}}{\\partial f^k}\\partial_i f^k\n",
    "$$\n",
    "\n",
    "$$\n",
    "c^j = C^j(f) = (e, S, c_i)\n",
    "$$\n",
    "\n",
    "Lo que hacemos es tomar el jacobiano del flujo,\n",
    "\n",
    "$\\frac{\\partial F^i}{\\partial f^j}$ donde $f^j$ son las variables no conservativas para las cuales tenemos las expresiones del Flujo. \n",
    "A estas las multiplicamos por $[\\frac{\\partial c^k}{\\partial f^j}]^{-1}$.\n",
    "Tenemos así \n",
    "\n",
    "$$\n",
    "P^{il}{}_j := \\frac{\\partial F^{il}}{\\partial c^j} = \\frac{\\partial F^{il}}{\\partial f^k}\\frac{\\partial f^k}{\\partial c^j}.\n",
    "$$\n",
    "\n",
    "Evaluamos todo en el vector $(-1,0,0,0,0)$ o sea estamos en el frame con velocidad cero y todas las variables fuera de equilibrio también cero.\n",
    "\n",
    "Lo mismo hacemos con la fuente. \n",
    "Tenemos así el sistema linearizado en el punto de equilibrio en las variables conservativas. Multiplicamos $P^i{}_j$ por un número complejo cualquiera y para todos ellos los autovalores debieran tener parte real negativa o nula. Pero no es así..."
   ]
  },
  {
   "cell_type": "code",
   "execution_count": 1,
   "metadata": {},
   "outputs": [],
   "source": [
    "using Symbolics\n",
    "using LinearAlgebra"
   ]
  },
  {
   "cell_type": "code",
   "execution_count": 2,
   "metadata": {},
   "outputs": [
    {
     "data": {
      "text/plain": [
       "Flux (generic function with 1 method)"
      ]
     },
     "execution_count": 2,
     "metadata": {},
     "output_type": "execute_result"
    }
   ],
   "source": [
    "function Flux(flu,par)\n",
    "    χ = par\n",
    "    #flux = zeros(5)\n",
    "    μ = flu[1]  \n",
    "    T = (abs(μ))^(-1//2) \n",
    "    v = flu[2]\n",
    "    x1 = flu[3]\n",
    "    x2 = flu[4]\n",
    "    x3 = flu[5]\n",
    "    χ₀ = χ[1]\n",
    "    χ₁ = χ[2]\n",
    "    χ₂ = χ[3]\n",
    "    γ = (1 - v^2)^(-1//2)\n",
    "    τ = 2χ₁ * x3 * T / (γ*μ^3) + 24χ₂*(1//2*(1-v^2)x3^2 + 14//3 * x2^2 + 7/5*(1-v^2)x1*x3)/μ^5\n",
    "    ρ = -6χ₀ / μ^2 - 6χ₁*x1/(γ * μ^4 * T) + 42χ₂*(6//5 *x1^2 + 10γ^2*x2^2 + 3//2*(v^2-1)^2*x3^2)/(μ^5 * γ^2)\n",
    "    Q = 10χ₀ * x2 * T / μ^3 + 168χ₂ * x2 * (x1 - (v^2 - 1)x3)/(γ * μ^5)\n",
    "\n",
    "    #flux[1] = 4//3 * ρ*γ^2*v + γ*Q*(1+v^2)+ τ*v\n",
    "    #flux[2] = 4//3 * ρ*(γ^2*v^2 + 1//4) + 2v*γ*Q + τ\n",
    "    #flux[3] = χ₁*γ*v*(6*γ^2 - 1)/μ^3/T - 12χ₂*(v*(6γ^2 - 1)*x1 + (6γ^2*(2v^2 + 1)-1)*x2 + v*(v^2+2)*x3)/μ^4\n",
    "    #flux[4] = χ₁*γ*(6γ^2*v^2+1)/μ^3/T - 12χ₂*((6γ^2*v+1)*x1 + v*(6γ^2*(1+v^2)+1)*x2 + (2v^2+1)*x3)/μ^4\n",
    "    #flux[5] = 3χ₁*γ*v*(2γ^2*v^2+1)/μ^3/T - 12χ₂*(v*(6γ^2*v^2+3)*x1 +3*(1+6γ^2*v^2)*x2 + 3v*x3)/μ^4\n",
    "    #return -flux[:]\n",
    "    return [4//3 * ρ*γ^2*v + γ*Q*(1+v^2)+ τ*v; \n",
    "            4//3 * ρ*(γ^2*v^2 + 1//4) + 2v*γ*Q + τ;\n",
    "            χ₁*γ*v*(6*γ^2 - 1)/μ^3/T - 12χ₂*(v*(6γ^2 - 1)*x1 + (6γ^2*(2v^2 + 1)-1)*x2 + v*(v^2+2)*x3)/μ^4;\n",
    "            χ₁*γ*(6γ^2*v^2+1)/μ^3/T - 12χ₂*((6γ^2*v+1)*x1 + v*(6γ^2*(1+v^2)+1)*x2 + (2v^2+1)*x3)/μ^4;\n",
    "            3χ₁*γ*v*(2γ^2*v^2+1)/μ^3/T - 12χ₂*(v*(6γ^2*v^2+3)*x1 +3*(1+6γ^2*v^2)*x2 + 3v*x3)/μ^4]\n",
    "end"
   ]
  },
  {
   "cell_type": "markdown",
   "metadata": {},
   "source": [
    "Chequeamos con los valores de Marcelo. "
   ]
  },
  {
   "cell_type": "code",
   "execution_count": 3,
   "metadata": {},
   "outputs": [
    {
     "data": {
      "text/plain": [
       "5-element Vector{Float64}:\n",
       "  0.0\n",
       "  8.881784197001252e-16\n",
       " -8.881784197001252e-16\n",
       "  0.0\n",
       "  4.440892098500626e-16"
      ]
     },
     "execution_count": 3,
     "metadata": {},
     "output_type": "execute_result"
    }
   ],
   "source": [
    "χ = [- 1.; - 2.; - 10.]\n",
    "flu = [- 5.; 0.5; 2.1; 0.5; 5.1]\n",
    "Flu = [5.921317694643806; 6.02302807825841; 3.713391378258412;  4.136735467078638; 3.444079555898864]\n",
    "\n",
    "Flux(flu,χ) - Flu"
   ]
  },
  {
   "cell_type": "markdown",
   "metadata": {},
   "source": [
    "Calculamos el Jacobiano"
   ]
  },
  {
   "cell_type": "code",
   "execution_count": 4,
   "metadata": {},
   "outputs": [],
   "source": [
    "@variables f[1:5], c[1:5], p[1:3]#, fl[1:5]\n",
    "\n",
    "JFS = Symbolics.jacobian(Flux(f,p),f);\n",
    "JF_exp = Symbolics.build_function(JFS, f, p);\n",
    "JFac = eval(JF_exp[1]);"
   ]
  },
  {
   "cell_type": "markdown",
   "metadata": {},
   "source": [
    "Definimos algunos valores para testear"
   ]
  },
  {
   "cell_type": "code",
   "execution_count": 5,
   "metadata": {},
   "outputs": [
    {
     "data": {
      "text/plain": [
       "3-element Vector{Float64}:\n",
       " -1.0\n",
       " -0.5\n",
       " -5.0"
      ]
     },
     "execution_count": 5,
     "metadata": {},
     "output_type": "execute_result"
    }
   ],
   "source": [
    "@variables x1, x2, x3\n",
    "\n",
    "flu=[-1.;0;0;0;0];\n",
    "con=ones(5)\n",
    "χ=[-1.,-0.5,-5.]"
   ]
  },
  {
   "cell_type": "markdown",
   "metadata": {},
   "source": [
    "El Jacobiano en equilibrio."
   ]
  },
  {
   "cell_type": "code",
   "execution_count": 6,
   "metadata": {},
   "outputs": [
    {
     "data": {
      "text/latex": [
       "\\begin{equation}\n",
       "\\left[\n",
       "\\begin{array}{ccccc}\n",
       "0.0 &  - 8 p{_1} & 0.0 &  - 10.0 p{_1} & 0.0 \\\\\n",
       " - 4.0 p{_1} & 0.0 &  - 2.0 p{_2} & 0.0 &  - 2.0 p{_2} \\\\\n",
       "0.0 &  - 5.0 p{_2} & -0.0 &  - 60.0 p{_3} & -0.0 \\\\\n",
       " - 2.5 p{_2} & 0.0 &  - 12 p{_3} & -0.0 &  - 12 p{_3} \\\\\n",
       "0.0 &  - 3.0 p{_2} & -0.0 &  - 36.0 p{_3} & -0.0 \\\\\n",
       "\\end{array}\n",
       "\\right]\n",
       "\\end{equation}\n"
      ],
      "text/plain": [
       "5×5 Matrix{Num}:\n",
       "  0.0    (-8//1)*p₁          0.0    -10.0p₁      0.0\n",
       " -4.0p₁           0.0       -2.0p₂    0.0       -2.0p₂\n",
       "  0.0            -5.0p₂     -0.0    -60.0p₃     -0.0\n",
       " -2.5p₂           0.0    -12p₃       -0.0    -12p₃\n",
       "  0.0            -3.0p₂     -0.0    -36.0p₃     -0.0"
      ]
     },
     "execution_count": 6,
     "metadata": {},
     "output_type": "execute_result"
    }
   ],
   "source": [
    "JFac(flu,p)"
   ]
  },
  {
   "cell_type": "markdown",
   "metadata": {},
   "source": [
    "Ahora traemos el Jacobiano de la transformación entre las variables fluido/conservativas."
   ]
  },
  {
   "cell_type": "code",
   "execution_count": 7,
   "metadata": {},
   "outputs": [],
   "source": [
    "include(\"inversion_ext.jl\");"
   ]
  },
  {
   "cell_type": "markdown",
   "metadata": {},
   "source": [
    "Para posterior uso calculamos las variables conservativas correspondientes al estado de equilibrio. Esto no me lo esperaba, pensaba que me darían c1=c2=c3=0!"
   ]
  },
  {
   "cell_type": "code",
   "execution_count": 8,
   "metadata": {},
   "outputs": [
    {
     "data": {
      "text/latex": [
       "\\begin{equation}\n",
       "\\left[\n",
       "\\begin{array}{c}\n",
       " - 6.0 p{_1} \\\\\n",
       "0.0 \\\\\n",
       " - 3.0 p{_2} \\\\\n",
       "0.0 \\\\\n",
       " - 3.0 p{_2} \\\\\n",
       "\\end{array}\n",
       "\\right]\n",
       "\\end{equation}\n"
      ],
      "text/plain": [
       "5-element Vector{Num}:\n",
       " -6.0p₁\n",
       "  0.0\n",
       " -3.0p₂\n",
       "  0.0\n",
       " -3.0p₂"
      ]
     },
     "execution_count": 8,
     "metadata": {},
     "output_type": "execute_result"
    }
   ],
   "source": [
    "con = F(flu,zeros(5), p)"
   ]
  },
  {
   "cell_type": "code",
   "execution_count": 9,
   "metadata": {},
   "outputs": [
    {
     "data": {
      "text/latex": [
       "\\begin{equation}\n",
       "\\left[\n",
       "\\begin{array}{ccccc}\n",
       " - 12.0 p{_1} & 0.0 &  - 6.0 p{_2} & 0.0 & 0.0 \\\\\n",
       "0.0 &  - 8 p{_1} & 0.0 &  - 10.0 p{_1} & 0.0 \\\\\n",
       " - 7.5 p{_2} & -0.0 &  - 36.0 p{_3} & -0.0 & 0.0 \\\\\n",
       "0.0 &  - 15.0 p{_2} & -0.0 &  - 60.0 p{_3} & -0.0 \\\\\n",
       " - 7.5 p{_2} & 0.0 &  - 12 p{_3} & -0.0 &  - 12 p{_3} \\\\\n",
       "\\end{array}\n",
       "\\right]\n",
       "\\end{equation}\n"
      ],
      "text/plain": [
       "5×5 Matrix{Num}:\n",
       " -12.0p₁           0.0       -6.0p₂    0.0        0.0\n",
       "   0.0    (-8//1)*p₁          0.0    -10.0p₁      0.0\n",
       "  -7.5p₂          -0.0      -36.0p₃   -0.0        0.0\n",
       "   0.0           -15.0p₂     -0.0    -60.0p₃     -0.0\n",
       "  -7.5p₂           0.0    -12p₃       -0.0    -12p₃"
      ]
     },
     "execution_count": 9,
     "metadata": {},
     "output_type": "execute_result"
    }
   ],
   "source": [
    "Jac(flu,con,p)"
   ]
  },
  {
   "cell_type": "code",
   "execution_count": 10,
   "metadata": {},
   "outputs": [
    {
     "data": {
      "text/plain": [
       "P (generic function with 1 method)"
      ]
     },
     "execution_count": 10,
     "metadata": {},
     "output_type": "execute_result"
    }
   ],
   "source": [
    "P(flu,c,p) = Jac(flu,c,p) \\ JFac(flu,p)"
   ]
  },
  {
   "cell_type": "code",
   "execution_count": 11,
   "metadata": {},
   "outputs": [
    {
     "data": {
      "text/latex": [
       "\\begin{equation}\n",
       "\\left[\n",
       "\\begin{array}{ccccc}\n",
       "0.0 & 0.6666666666666666 & 0.0 &  - \\frac{0.08333333333333333 \\left(  - 10.0 p{_1} + \\frac{6.0 p{_2} \\left( 6.25 p{_2} - 60.0 p{_3} \\right)}{\\left(  - 36.0 p{_3} + \\frac{3.75 p{_2}^{2}}{p{_1}} \\right)} \\right)}{p{_1}} & 0.0 \\\\\n",
       " - \\frac{\\frac{1}{8} \\left(  - 4.0 p{_1} + \\frac{50.0 p{_1} p{_2}}{\\left( 18.75 p{_2} - 60.0 p{_3} \\right)} \\right)}{p{_1}} & 0.0 &  - \\frac{\\frac{1}{8} \\left(  - 2.0 p{_2} + \\frac{10.0 p{_1} \\left(  - 12 p{_3} + \\frac{3.75 p{_2}^{2}}{p{_1}} \\right)}{\\left( 18.75 p{_2} - 60.0 p{_3} \\right)} \\right)}{p{_1}} & 0.0 &  - \\frac{\\frac{1}{8} \\left(  - 2.0 p{_2} + \\frac{10.0 p{_1} \\left(  - 12 p{_3} + \\frac{3.75 p{_2}^{2}}{p{_1}} \\right)}{\\left( 18.75 p{_2} - 60.0 p{_3} \\right)} \\right)}{p{_1}} \\\\\n",
       "0.0 & 0 & -0.0 & \\frac{\\left( 6.25 p{_2} - 60.0 p{_3} \\right)}{\\left(  - 36.0 p{_3} + \\frac{3.75 p{_2}^{2}}{p{_1}} \\right)} & -0.0 \\\\\n",
       "\\frac{5.0 p{_2}}{\\left( 18.75 p{_2} - 60.0 p{_3} \\right)} & 0.0 & \\frac{\\left(  - 12 p{_3} + \\frac{3.75 p{_2}^{2}}{p{_1}} \\right)}{\\left( 18.75 p{_2} - 60.0 p{_3} \\right)} & -0.0 & \\frac{\\left(  - 12 p{_3} + \\frac{3.75 p{_2}^{2}}{p{_1}} \\right)}{\\left( 18.75 p{_2} - 60.0 p{_3} \\right)} \\\\\n",
       "0.0 &  - \\frac{0.16666666666666666 p{_2}}{p{_3}} & -0.0 &  - \\frac{\\frac{1}{12} \\left( 6.25 p{_2} - 36.0 p{_3} - \\frac{\\left( 6.25 p{_2} - 60.0 p{_3} \\right) \\left(  - 12 p{_3} + \\frac{3.75 p{_2}^{2}}{p{_1}} \\right)}{\\left(  - 36.0 p{_3} + \\frac{3.75 p{_2}^{2}}{p{_1}} \\right)} \\right)}{p{_3}} & -0.0 \\\\\n",
       "\\end{array}\n",
       "\\right]\n",
       "\\end{equation}\n"
      ],
      "text/plain": [
       "5×5 Matrix{Num}:\n",
       "                   0.0                                            …                    0.0\n",
       " (-1//8)*(p₁^-1)*(50.0p₁*p₂*((18.75p₂ - (60.0p₃))^-1) - (4.0p₁))     (-1//8)*(p₁^-1)*(10.0p₁*(3.75(p₁^-1)*(p₂^2) - (12p₃))*((18.75p₂ - (60.0p₃))^-1) - (2.0p₂))\n",
       "                   0.0                                                                -0.0\n",
       "                   5.0p₂*((18.75p₂ - (60.0p₃))^-1)                                    (3.75(p₁^-1)*(p₂^2) - (12p₃))*((18.75p₂ - (60.0p₃))^-1)\n",
       "                   0.0                                                                -0.0"
      ]
     },
     "execution_count": 11,
     "metadata": {},
     "output_type": "execute_result"
    }
   ],
   "source": [
    "P(flu,c,p)"
   ]
  },
  {
   "cell_type": "markdown",
   "metadata": {},
   "source": [
    "Miramos primero el caso donde las variables están desacopladas, es decir con $\\chi_1=0$."
   ]
  },
  {
   "cell_type": "code",
   "execution_count": 12,
   "metadata": {},
   "outputs": [
    {
     "data": {
      "text/plain": [
       "5×5 Matrix{Float64}:\n",
       " 0.0  0.666667   0.0   0.833333   0.0\n",
       " 0.5  0.0       -0.25  0.0       -0.25\n",
       " 0.0  0.0        0.0   1.66667    0.0\n",
       " 0.0  0.0        0.2   0.0        0.2\n",
       " 0.0  0.0        0.0   1.33333    0.0"
      ]
     },
     "execution_count": 12,
     "metadata": {},
     "output_type": "execute_result"
    }
   ],
   "source": [
    "P(flu,c,[-1,0,-1])"
   ]
  },
  {
   "cell_type": "markdown",
   "metadata": {},
   "source": [
    "Vemos que se corresponde con la siguiente matriz racional."
   ]
  },
  {
   "cell_type": "code",
   "execution_count": 13,
   "metadata": {},
   "outputs": [
    {
     "data": {
      "text/plain": [
       "5×5 Matrix{Rational{Int64}}:\n",
       " 0//1  2//3   0//1  5//6   0//1\n",
       " 1//2  0//1  -1//4  0//1  -1//4\n",
       " 0//1  0//1   0//1  5//3   0//1\n",
       " 0//1  0//1   1//5  0//1   1//5\n",
       " 0//1  0//1   0//1  4//3   0//1"
      ]
     },
     "execution_count": 13,
     "metadata": {},
     "output_type": "execute_result"
    }
   ],
   "source": [
    "M = [0 2//3 0 5//6 0;\n",
    "    1//2 0 -1//4 0 -1//4;\n",
    "    0 0 0 5//3 0;\n",
    "    0 0 1//5 0 1//5;\n",
    "    0 0 0 4//3 0]"
   ]
  },
  {
   "cell_type": "code",
   "execution_count": 14,
   "metadata": {},
   "outputs": [
    {
     "data": {
      "text/plain": [
       "5×5 Matrix{Float64}:\n",
       " 0.0  0.0  0.0  -1.11022e-16  0.0\n",
       " 0.0  0.0  0.0   0.0          0.0\n",
       " 0.0  0.0  0.0  -2.22045e-16  0.0\n",
       " 0.0  0.0  0.0   0.0          0.0\n",
       " 0.0  0.0  0.0   0.0          0.0"
      ]
     },
     "execution_count": 14,
     "metadata": {},
     "output_type": "execute_result"
    }
   ],
   "source": [
    "P(flu,c,[-1,0,-1]) - M"
   ]
  },
  {
   "cell_type": "code",
   "execution_count": 15,
   "metadata": {},
   "outputs": [
    {
     "data": {
      "text/plain": [
       "5-element Vector{Float64}:\n",
       " -0.7745966692414842\n",
       " -0.5773502691896256\n",
       "  3.0357660829594124e-18\n",
       "  0.5773502691896258\n",
       "  0.7745966692414837"
      ]
     },
     "execution_count": 15,
     "metadata": {},
     "output_type": "execute_result"
    }
   ],
   "source": [
    "eigvals(M)"
   ]
  },
  {
   "cell_type": "code",
   "execution_count": 16,
   "metadata": {},
   "outputs": [
    {
     "data": {
      "text/plain": [
       "-1.5543122344752192e-15"
      ]
     },
     "execution_count": 16,
     "metadata": {},
     "output_type": "execute_result"
    }
   ],
   "source": [
    "1/0.7745966692414837^2 - 5/3"
   ]
  },
  {
   "cell_type": "code",
   "execution_count": 17,
   "metadata": {},
   "outputs": [
    {
     "data": {
      "text/plain": [
       "-8.881784197001252e-16"
      ]
     },
     "execution_count": 17,
     "metadata": {},
     "output_type": "execute_result"
    }
   ],
   "source": [
    "1/0.5773502691896258^2 - 3"
   ]
  },
  {
   "cell_type": "code",
   "execution_count": 18,
   "metadata": {},
   "outputs": [
    {
     "data": {
      "text/plain": [
       "5-element Vector{Float64}:\n",
       " -0.8013317157511906\n",
       " -0.5915355536961237\n",
       " -9.375535133588242e-18\n",
       "  0.5915355536961235\n",
       "  0.8013317157511908"
      ]
     },
     "execution_count": 18,
     "metadata": {},
     "output_type": "execute_result"
    }
   ],
   "source": [
    "eigvals(P(flu,c,[-1,-0.5,-1]))"
   ]
  },
  {
   "cell_type": "markdown",
   "metadata": {},
   "source": [
    "Hacemos lo mismo para la fuente."
   ]
  },
  {
   "cell_type": "code",
   "execution_count": 154,
   "metadata": {},
   "outputs": [
    {
     "data": {
      "text/plain": [
       "Is (generic function with 2 methods)"
      ]
     },
     "execution_count": 154,
     "metadata": {},
     "output_type": "execute_result"
    }
   ],
   "source": [
    "function Is(flu, χ, ξ)\n",
    "    #(χ, ξ) = par \n",
    "    μ = flu[1] \n",
    "    χ₀= χ[1]\n",
    "    χ₁= -χ[2] # lo hacemos positivo\n",
    "    κ = χ₀*μ^5*ξ[1]/χ₁^2 # OK \n",
    "    λ = -χ₀*μ^4*ξ[2]/χ₁^2  # OK\n",
    "    η = χ₀*μ^3*ξ[3]/χ₁^2\n",
    "    T = (abs(μ))^(-1//2) # use μ positive, so I changed μ -> -μ\n",
    "    v = flu[2]\n",
    "    x1 = flu[3]\n",
    "    x2 = flu[4]\n",
    "    x3 = flu[5]\n",
    "    γ = (1. - v^2)^(-1//2)\n",
    "    #Is[1] = 0.\n",
    "    #Is[2] = 0.\n",
    "    #Is[3] = -2//5*a*(γ^2-1//4)*T*x1/(γ*λ) - 2γ*v*x2/T/κ - v^2*T*x3/(γ*λ)\n",
    "    #Is[4] = -2//5*a*γ*v*T*x1/λ - γ*(v^2+1)*x2/T/κ - v*T*x3/(γ*λ)\n",
    "    #Is[5] = -2//5*a*(γ^2*v^2+1//4)*T*x1/λ/γ - 2γ*v*x2/T/κ - T*x3/(γ*λ)\n",
    "    #return Is[:]      #(1 - ℯ^(-5. *t))\n",
    "    return [0.;\n",
    "            0.;\n",
    "            -2//5*(γ^2-1//4)*T*x1/(γ*λ) - 2γ*v*x2/T/κ - v^2*T*x3/(γ*λ);\n",
    "            -2//5*γ*v*T*x1/λ - γ*(v^2+1)*x2/T/κ - v*T*x3/(γ*λ);\n",
    "            -2//5*(γ^2*v^2+1//4)*T*x1/λ/γ - 2γ*v*x2/T/κ + T*x3/(γ*η)\n",
    "            #-2//5*(γ^2*v^2+1//4)*T*x1/λ/γ - 2γ*v*x2/T/κ - T*x3/(γ*λ)\n",
    "            ]\n",
    "end"
   ]
  },
  {
   "cell_type": "markdown",
   "metadata": {},
   "source": [
    "La chequeamos con valores de Marcelo."
   ]
  },
  {
   "cell_type": "code",
   "execution_count": 155,
   "metadata": {},
   "outputs": [
    {
     "data": {
      "text/plain": [
       "5-element Vector{Float64}:\n",
       " 0.0\n",
       " 0.0\n",
       " 1.3877787807814457e-17\n",
       " 1.3877787807814457e-17\n",
       " 0.23828510877080164"
      ]
     },
     "execution_count": 155,
     "metadata": {},
     "output_type": "execute_result"
    }
   ],
   "source": [
    "t=0\n",
    "flu = [- 5.; 0.5; 2.1; 0.5; 5.1]\n",
    "par = [-1., -2., -10.]\n",
    "par_s = [1/15π, 1/1π, 1/1π]\n",
    "I_c = [0.; 0.; - 0.09488575328013785; - 0.12155655385334033; - 0.12140081195218293]\n",
    "Is(flu,par,par_s) - I_c"
   ]
  },
  {
   "cell_type": "code",
   "execution_count": 156,
   "metadata": {},
   "outputs": [
    {
     "data": {
      "text/latex": [
       "\\begin{equation}\n",
       "\\left[\n",
       "\\begin{array}{c}\n",
       "0.0 \\\\\n",
       "0.0 \\\\\n",
       "\\frac{\\left( 1.0 - f{_2}^{2} \\right)^{\\frac{1}{2}} p{_2}^{2} f{_2}^{2} f{_5}}{\\left( \\left\\|f{_1}\\right\\| \\right)^{\\frac{1}{2}} q{_2} p{_1} f{_1}^{4}} - \\frac{2 \\left( \\left\\|f{_1}\\right\\| \\right)^{\\frac{1}{2}} p{_2}^{2} f{_2} f{_4}}{\\left( 1.0 - f{_2}^{2} \\right)^{\\frac{1}{2}} q{_1} p{_1} f{_1}^{5}} - \\frac{\\left( 1.0 - f{_2}^{2} \\right)^{\\frac{1}{2}} p{_2}^{2} f{_3} \\left( \\frac{1}{10} - \\frac{\\frac{2}{5}}{\\left( 1.0 - f{_2}^{2} \\right)} \\right)}{\\left( \\left\\|f{_1}\\right\\| \\right)^{\\frac{1}{2}} q{_2} p{_1} f{_1}^{4}} \\\\\n",
       "\\frac{\\left( 1.0 - f{_2}^{2} \\right)^{\\frac{1}{2}} p{_2}^{2} f{_2} f{_5}}{\\left( \\left\\|f{_1}\\right\\| \\right)^{\\frac{1}{2}} q{_2} p{_1} f{_1}^{4}} + \\frac{\\frac{2}{5} p{_2}^{2} f{_2} f{_3}}{\\left( 1.0 - f{_2}^{2} \\right)^{\\frac{1}{2}} \\left( \\left\\|f{_1}\\right\\| \\right)^{\\frac{1}{2}} q{_2} p{_1} f{_1}^{4}} - \\frac{\\left( \\left\\|f{_1}\\right\\| \\right)^{\\frac{1}{2}} p{_2}^{2} f{_4} \\left( 1 + f{_2}^{2} \\right)}{\\left( 1.0 - f{_2}^{2} \\right)^{\\frac{1}{2}} q{_1} p{_1} f{_1}^{5}} \\\\\n",
       "\\frac{\\left( 1.0 - f{_2}^{2} \\right)^{\\frac{1}{2}} p{_2}^{2} f{_5}}{\\left( \\left\\|f{_1}\\right\\| \\right)^{\\frac{1}{2}} q{_3} p{_1} f{_1}^{3}} - \\frac{2 \\left( \\left\\|f{_1}\\right\\| \\right)^{\\frac{1}{2}} p{_2}^{2} f{_2} f{_4}}{\\left( 1.0 - f{_2}^{2} \\right)^{\\frac{1}{2}} q{_1} p{_1} f{_1}^{5}} - \\frac{\\left( 1.0 - f{_2}^{2} \\right)^{\\frac{1}{2}} p{_2}^{2} f{_3} \\left( \\frac{-1}{10} - \\frac{\\frac{2}{5} f{_2}^{2}}{\\left( 1.0 - f{_2}^{2} \\right)} \\right)}{\\left( \\left\\|f{_1}\\right\\| \\right)^{\\frac{1}{2}} q{_2} p{_1} f{_1}^{4}} \\\\\n",
       "\\end{array}\n",
       "\\right]\n",
       "\\end{equation}\n"
      ],
      "text/plain": [
       "5-element Vector{Num}:\n",
       " 0.0\n",
       " 0.0\n",
       "  f₅*(f₁^-4)*(f₂^2)*(p₁^-1)*(p₂^2)*(q₂^-1)*(abs(f₁)^(-1//2))*((1.0 - (f₂^2))^(1//2)) - ((2//1)*f₂*f₄*(f₁^-5)*(p₁^-1)*(p₂^2)*(q₁^-1)*(abs(f₁)^(1//2))*((1.0 - (f₂^2))^(-1//2))) - (f₃*(f₁^-4)*(p₁^-1)*(p₂^2)*(q₂^-1)*(abs(f₁)^(-1//2))*((1.0 - (f₂^2))^(1//2))*((1//10) - ((2//5)*((1.0 - (f₂^2))^(-1//1)))))\n",
       "  f₂*f₅*(f₁^-4)*(p₁^-1)*(p₂^2)*(q₂^-1)*(abs(f₁)^(-1//2))*((1.0 - (f₂^2))^(1//2)) + (2//5)*f₂*f₃*(f₁^-4)*(p₁^-1)*(p₂^2)*(q₂^-1)*(abs(f₁)^(-1//2))*((1.0 - (f₂^2))^(-1//2)) - (f₄*(f₁^-5)*(p₁^-1)*(p₂^2)*(q₁^-1)*(abs(f₁)^(1//2))*(1 + f₂^2)*((1.0 - (f₂^2))^(-1//2)))\n",
       "  f₅*(f₁^-3)*(p₁^-1)*(p₂^2)*(q₃^-1)*(abs(f₁)^(-1//2))*((1.0 - (f₂^2))^(1//2)) - ((2//1)*f₂*f₄*(f₁^-5)*(p₁^-1)*(p₂^2)*(q₁^-1)*(abs(f₁)^(1//2))*((1.0 - (f₂^2))^(-1//2))) - (f₃*(f₁^-4)*(p₁^-1)*(p₂^2)*(q₂^-1)*((-1//10) - ((2//5)*(f₂^2)*((1.0 - (f₂^2))^(-1//1))))*(abs(f₁)^(-1//2))*((1.0 - (f₂^2))^(1//2)))"
      ]
     },
     "execution_count": 156,
     "metadata": {},
     "output_type": "execute_result"
    }
   ],
   "source": [
    "@variables q[1:3]  \n",
    "Is(f,p,q)"
   ]
  },
  {
   "cell_type": "code",
   "execution_count": 157,
   "metadata": {},
   "outputs": [],
   "source": [
    "JSS = Symbolics.jacobian(Is(f,p,q),f);"
   ]
  },
  {
   "cell_type": "code",
   "execution_count": 158,
   "metadata": {},
   "outputs": [],
   "source": [
    "JS_exp = Symbolics.build_function(JSS, f, p,q);"
   ]
  },
  {
   "cell_type": "code",
   "execution_count": 159,
   "metadata": {},
   "outputs": [],
   "source": [
    "JSac = eval(JS_exp[1]);"
   ]
  },
  {
   "cell_type": "code",
   "execution_count": 160,
   "metadata": {},
   "outputs": [
    {
     "data": {
      "text/plain": [
       "5×5 Matrix{Float64}:\n",
       " 0.0  0.0   0.0        0.0      0.0\n",
       " 0.0  0.0   0.0        0.0      0.0\n",
       " 0.0  0.0  -3.76991    0.0     -0.0\n",
       " 0.0  0.0  -0.0      188.496   -0.0\n",
       " 0.0  0.0  -1.25664    0.0    -12.5664"
      ]
     },
     "execution_count": 160,
     "metadata": {},
     "output_type": "execute_result"
    }
   ],
   "source": [
    "flu=[1.;0;0;0;0];\n",
    "con=ones(5)\n",
    "\n",
    "JSac(flu,par,par_s)"
   ]
  },
  {
   "cell_type": "code",
   "execution_count": 161,
   "metadata": {},
   "outputs": [
    {
     "data": {
      "text/plain": [
       "II (generic function with 2 methods)"
      ]
     },
     "execution_count": 161,
     "metadata": {},
     "output_type": "execute_result"
    }
   ],
   "source": [
    "II(flu,c,p,q) = Jac(flu,c,p) \\ JSac(flu,p,q)"
   ]
  },
  {
   "cell_type": "code",
   "execution_count": 162,
   "metadata": {},
   "outputs": [
    {
     "data": {
      "text/latex": [
       "\\begin{equation}\n",
       "\\left[\n",
       "\\begin{array}{ccccc}\n",
       "0 & 0 & \\frac{0.15000000000000002 p{_2}^{3}}{\\left(  - 36.0 p{_3} - \\frac{3.75 p{_2}^{2}}{p{_1}} \\right) q{_2} p{_1}^{2}} & 0 & 0 \\\\\n",
       "0 & 0 & 0 &  - \\frac{1.25 p{_2}^{2}}{\\left( 18.75 p{_2} - 60.0 p{_3} \\right) q{_1} p{_1}} & 0 \\\\\n",
       "0.0 & 0.0 & \\frac{0.30000000000000004 p{_2}^{2}}{\\left(  - 36.0 p{_3} - \\frac{3.75 p{_2}^{2}}{p{_1}} \\right) q{_2} p{_1}} & -0.0 & 0.0 \\\\\n",
       "0.0 & 0.0 & 0.0 &  - \\frac{p{_2}^{2}}{\\left( 18.75 p{_2} - 60.0 p{_3} \\right) q{_1} p{_1}} & 0.0 \\\\\n",
       "0.0 & 0.0 &  - \\frac{\\frac{1}{12} \\left( \\frac{0.1 p{_2}^{2}}{q{_2} p{_1}} - \\frac{0.30000000000000004 p{_2}^{2} \\left(  - 12 p{_3} - \\frac{3.75 p{_2}^{2}}{p{_1}} \\right)}{\\left(  - 36.0 p{_3} - \\frac{3.75 p{_2}^{2}}{p{_1}} \\right) q{_2} p{_1}} \\right)}{p{_3}} & -0.0 &  - \\frac{\\frac{1}{12} p{_2}^{2}}{q{_3} p{_3} p{_1}} \\\\\n",
       "\\end{array}\n",
       "\\right]\n",
       "\\end{equation}\n"
      ],
      "text/plain": [
       "5×5 Matrix{Num}:\n",
       " 0    0    …                                        0\n",
       " 0    0                                             0\n",
       " 0.0  0.0                                           0.0\n",
       " 0.0  0.0                                           0.0\n",
       " 0.0  0.0     (-1//12)*(p₁^-1)*(p₂^2)*(p₃^-1)*(q₃^-1)"
      ]
     },
     "execution_count": 162,
     "metadata": {},
     "output_type": "execute_result"
    }
   ],
   "source": [
    "II(flu,c,p,q)"
   ]
  },
  {
   "cell_type": "code",
   "execution_count": 165,
   "metadata": {},
   "outputs": [
    {
     "data": {
      "text/plain": [
       "5-element Vector{ComplexF64}:\n",
       "    -4.5069590572914695 - 7.655667572582121e-16im\n",
       "    -1.1362564766975205 - 7.123277544679334im\n",
       "    -1.1362564766975174 + 7.123277544679318im\n",
       " -0.0023010597784845024 - 5.904823399023377im\n",
       " -0.0023010597784822173 + 5.904823399023381im"
      ]
     },
     "execution_count": 165,
     "metadata": {},
     "output_type": "execute_result"
    }
   ],
   "source": [
    "par_f = [-1,-0.5,-1]\n",
    "par_s = [1/15π, -1/1π, -0.01/1π]\n",
    "eigvals(10*im .* P(flu,c,par_f) - II(flu,c,par_f,par_s))"
   ]
  },
  {
   "cell_type": "code",
   "execution_count": 164,
   "metadata": {},
   "outputs": [
    {
     "data": {
      "text/plain": [
       "5-element Vector{Float64}:\n",
       " -0.23271056693257725\n",
       " -0.006378868332162017\n",
       " -0.0\n",
       "  0.0\n",
       "  6.5449846949787345"
      ]
     },
     "execution_count": 164,
     "metadata": {},
     "output_type": "execute_result"
    }
   ],
   "source": [
    "eigvals(- II(flu,c,par_f,par_s))"
   ]
  },
  {
   "cell_type": "markdown",
   "metadata": {},
   "source": [
    "Vemos que un par de autovalores tiene parte real positiva. "
   ]
  },
  {
   "cell_type": "code",
   "execution_count": 100,
   "metadata": {},
   "outputs": [
    {
     "data": {
      "text/plain": [
       "5×5 Matrix{Float64}:\n",
       "  0.242519   1.0  0.0  0.0  0.0\n",
       "  0.0        0.0  1.0  0.0  0.780869\n",
       "  0.970074   0.0  0.0  0.0  0.0\n",
       "  0.0        0.0  0.0  0.0  0.624695\n",
       " -0.0118436  0.0  0.0  1.0  0.0"
      ]
     },
     "execution_count": 100,
     "metadata": {},
     "output_type": "execute_result"
    }
   ],
   "source": [
    "eigvecs(II(flu,c,par_f,par_s))"
   ]
  },
  {
   "cell_type": "code",
   "execution_count": 53,
   "metadata": {},
   "outputs": [
    {
     "data": {
      "text/plain": [
       "5×5 Matrix{ComplexF64}:\n",
       "  0.829725+0.0im        0.829725+0.0im        …      0.816248+0.0im\n",
       "   0.28866+0.03163im    -0.28866+0.03163im       -8.30499e-17+0.00187766im\n",
       "  0.366886-0.0224012im  0.366886+0.0224012im         0.391071+9.36751e-17im\n",
       " -0.167697+0.0137421im  0.167697+0.0137421im     -1.34306e-17-0.000912069im\n",
       "  0.252111-0.0158919im  0.252111+0.0158919im        -0.425203-2.63678e-16im"
      ]
     },
     "execution_count": 53,
     "metadata": {},
     "output_type": "execute_result"
    }
   ],
   "source": [
    "E = eigvecs(10*im .* P(flu,c,par) - II(flu,c,par_f,par_s))"
   ]
  },
  {
   "cell_type": "code",
   "execution_count": 54,
   "metadata": {},
   "outputs": [
    {
     "data": {
      "text/plain": [
       "5-element Vector{ComplexF64}:\n",
       " 0.8297253709033151 + 0.0im\n",
       " 0.8297253709033148 + 0.0im\n",
       " 0.8196443138602574 + 0.0im\n",
       " 0.8196443138602573 + 0.0im\n",
       " 0.8162483372537112 + 0.0im"
      ]
     },
     "execution_count": 54,
     "metadata": {},
     "output_type": "execute_result"
    }
   ],
   "source": [
    "E[1,:]"
   ]
  },
  {
   "cell_type": "code",
   "execution_count": 56,
   "metadata": {},
   "outputs": [
    {
     "data": {
      "text/plain": [
       "5×5 Matrix{ComplexF64}:\n",
       "  0.0+0.0im        0.0-6.66667im     0.00159472+0.0im  …        0.0+0.0im\n",
       " -0.0-5.22222im   -0.0-0.0im                0.0+8.0im          -0.0-2.66667im\n",
       "  0.0+0.0im        0.0+0.0im         0.00637887+0.0im           0.0+0.0im\n",
       " -0.0-0.177778im   0.0+0.0im                0.0+2.4im           0.0+1.86667im\n",
       "  0.0+0.0im        0.0+0.333333im  -0.000332233+0.0im     0.0654498+0.0im"
      ]
     },
     "execution_count": 56,
     "metadata": {},
     "output_type": "execute_result"
    }
   ],
   "source": [
    "10*im .* P(flu,c,par) - II(flu,c,par_f,par_s)"
   ]
  },
  {
   "cell_type": "code",
   "execution_count": null,
   "metadata": {},
   "outputs": [],
   "source": []
  }
 ],
 "metadata": {
  "kernelspec": {
   "display_name": "Julia 1.6.1",
   "language": "julia",
   "name": "julia-1.6"
  },
  "language_info": {
   "file_extension": ".jl",
   "mimetype": "application/julia",
   "name": "julia",
   "version": "1.6.1"
  }
 },
 "nbformat": 4,
 "nbformat_minor": 4
}
