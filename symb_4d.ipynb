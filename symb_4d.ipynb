{
 "cells": [
  {
   "cell_type": "markdown",
   "metadata": {},
   "source": [
    "## 2D equations using symbolics. "
   ]
  },
  {
   "cell_type": "code",
   "execution_count": 1,
   "metadata": {},
   "outputs": [],
   "source": [
    "using Symbolics\n",
    "using LinearAlgebra\n",
    "using Latexify\n",
    "using Plots"
   ]
  },
  {
   "cell_type": "code",
   "execution_count": 2,
   "metadata": {},
   "outputs": [
    {
     "data": {
      "text/plain": [
       "χaAB (generic function with 1 method)"
      ]
     },
     "metadata": {},
     "output_type": "display_data"
    }
   ],
   "source": [
    "include(\"symbolics_ext.jl\")\n"
   ]
  },
  {
   "cell_type": "code",
   "execution_count": 3,
   "metadata": {},
   "outputs": [
    {
     "name": "stdout",
     "output_type": "stream",
     "text": [
      "D = 4, L = 14\n"
     ]
    },
    {
     "data": {
      "text/plain": [
       "3-element Vector{Float64}:\n",
       " 1.0\n",
       " 1.0\n",
       " 1.0"
      ]
     },
     "metadata": {},
     "output_type": "display_data"
    }
   ],
   "source": [
    "D = Int64(4) #dimensions\n",
    "L = (D+(D*(D+1)÷2))\n",
    "println(\"D = $D, L = $L\")\n",
    "g = make_g(D)\n",
    "ζ = rand(L)\n",
    "p = ([1.0;1.0;1.0])"
   ]
  },
  {
   "cell_type": "code",
   "execution_count": 4,
   "metadata": {},
   "outputs": [
    {
     "data": {
      "text/plain": [
       "176.84363378894793"
      ]
     },
     "metadata": {},
     "output_type": "display_data"
    }
   ],
   "source": [
    "Φ_new(ζ,p)"
   ]
  },
  {
   "cell_type": "code",
   "execution_count": 5,
   "metadata": {},
   "outputs": [],
   "source": [
    "@variables vs[1:L] ps[1:3]\n",
    "vst = [vs[i] for i ∈ 1:L]\n",
    "vs_a = [vs[i] for i ∈ 1:D]\n",
    "ΦaA = χaA(Φ_new(vs,ps),vs_a,vst);\n",
    "ΦaA_exp = Symbolics.build_function(ΦaA,vs,ps);\n",
    "ΦaA_f = eval(ΦaA_exp[1])"
   ]
  },
  {
   "cell_type": "code",
   "execution_count": 6,
   "metadata": {},
   "outputs": [],
   "source": [
    "ΦaAB = χaAB(Φ_new(vs,ps),vst);\n",
    "ΦaAB_exp = Symbolics.build_function(ΦaAB,vs,ps);\n",
    "ΦaAB_f = eval(ΦaAB_exp[1])\n",
    "ΦaAB_f(ζ,p)"
   ]
  },
  {
   "cell_type": "code",
   "execution_count": null,
   "metadata": {},
   "outputs": [],
   "source": [
    "ζ_t = zeros(L)\n",
    "ζ_t[1] = 1.0  \n",
    "ζ_t[2] = 0.10\n",
    "ζ_t[D + l_ind(1,1,D)] = 1.0 #00\n",
    "ζ_t[D + l_ind(1,2,D)] = 0.25 #01\n",
    "ζ_t[D + l_ind(2,2,D)] = 0.5 #11\n",
    "ζ_t[D + l_ind(3,3,D)] = 0.25\n",
    "ζ_t[D + l_ind(4,4,D)] = 0.25\n",
    "\n",
    "#tr(g*vector_unpack(ζ_t)[2])\n",
    "#vector_unpack(ζ_t)[2]\n",
    "println(ζ_t)\n",
    "println(make_vector_TF!(ζ_t))\n",
    "tr(g*vector_unpack(ζ_t)[2])"
   ]
  },
  {
   "cell_type": "code",
   "execution_count": null,
   "metadata": {},
   "outputs": [],
   "source": [
    "N = 1000\n",
    "T = 1\n",
    "ζ = [-1.0;0.0;0.001;0.001;0.01];\n",
    "make_vector_TF!(ζ)\n",
    "par_f = [-1.0,1.0,-1.0]\n",
    "#par_f = [-1,-0.5,-20]\n",
    "E = fill(0.0+0.0im,(L-1,N))\n",
    "v = zeros(N)\n",
    "for i in 1:N\n",
    "    v[i] = (i-1)/(N-1)/1.01\n",
    "    γ = 1.0 / sqrt(1.0 - v[i]^2)\n",
    "    ζ[1] = γ / T\n",
    "    ζ[2] = v[i] * γ / T\n",
    "    #E[:,i]=eigvals(ΦaAB_f(ζ,par_f)[1:D,1:D,2], ΦaAB_f(ζ,par_f)[1:D,1:D,1])\n",
    "    E[:,i]=eigvals(ΦaAB_f(ζ,par_f)[1:(L-1),1:(L-1),2], ΦaAB_f(ζ,par_f)[1:(L-1),1:(L-1),1])\n",
    "    #E[:,i]=eigvals(inv(ΦaAB_f(ζ,par_f)[1:(L-1),1:(L-1),1])*ΦaAB_f(ζ,par_f)[1:(L-1),1:(L-1),2])\n",
    "    #E[:,i]=eigvals(ΦaAB_f(ζ,par_f)[1:D,1:D,1])\n",
    "    #E[:,i]=eigvals(ΦaAB_f(ζ,par_f)[1:(L-1),1:(L-1),1])\n",
    "end"
   ]
  },
  {
   "cell_type": "code",
   "execution_count": null,
   "metadata": {},
   "outputs": [],
   "source": [
    "one(x)=1\n",
    "plot(one,xlim=(0,1),legend=:topright, lw=2)\n",
    "plot!(v,real(E[1,:]))\n",
    "plot!(v,real(E[2,:])\n",
    ",legend=:bottomright\n",
    "#, ylim = (-1,2)\n",
    ")\n",
    "plot!(v,real(E[3,:]))\n",
    "plot!(v,real(E[4,:]))\n",
    "#plot!(v,real(E[5,:]))"
   ]
  },
  {
   "cell_type": "code",
   "execution_count": null,
   "metadata": {},
   "outputs": [],
   "source": []
  }
 ],
 "metadata": {
  "kernelspec": {
   "display_name": "Julia 1.7.0",
   "language": "julia",
   "name": "julia-1.7"
  },
  "language_info": {
   "file_extension": ".jl",
   "mimetype": "application/julia",
   "name": "julia",
   "version": "1.7.0"
  },
  "orig_nbformat": 4
 },
 "nbformat": 4,
 "nbformat_minor": 2
}
