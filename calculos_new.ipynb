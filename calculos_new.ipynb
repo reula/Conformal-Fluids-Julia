{
 "cells": [
  {
   "cell_type": "code",
   "execution_count": 1,
   "id": "7877a11e-8add-4333-910a-dc1175474d48",
   "metadata": {},
   "outputs": [],
   "source": [
    "using Symbolics\n",
    "using Latexify"
   ]
  },
  {
   "cell_type": "code",
   "execution_count": 2,
   "id": "dad7563a-781d-4159-906f-044d5f25c834",
   "metadata": {},
   "outputs": [],
   "source": [
    "@variables g00, g11, g01, ν, r0, r1, t00, t01, t11, u0, u1, μ, T, γ, v, χ₁, χ₂, χ₀ ;"
   ]
  },
  {
   "cell_type": "markdown",
   "id": "01422a43-56b1-489f-8f71-1afcda2e219f",
   "metadata": {},
   "source": [
    "## De aqui es la cuenta correcta (lo anterior no se si está bien)"
   ]
  },
  {
   "cell_type": "code",
   "execution_count": 3,
   "id": "5125144b-5002-48ff-a432-4c348671a2b4",
   "metadata": {},
   "outputs": [
    {
     "data": {
      "text/plain": [
       "Dict{Num, Num} with 9 entries:\n",
       "  μ   => -(T^-2)\n",
       "  g01 => 0\n",
       "  u1  => v*γ\n",
       "  g00 => -1\n",
       "  g11 => 1\n",
       "  r0  => r1*v\n",
       "  t01 => t11*v\n",
       "  u0  => γ\n",
       "  t00 => t11*(v^2)"
      ]
     },
     "execution_count": 3,
     "metadata": {},
     "output_type": "execute_result"
    }
   ],
   "source": [
    "DIC = Dict([g00 => -1, g11 => 1, g01 => 0, μ => -T^(-2), r0 => r1*v, u0 => γ, u1 => γ*v, t00 => v^2*t11, t01 => v*t11])"
   ]
  },
  {
   "cell_type": "markdown",
   "id": "54734871-ce4a-4ed8-a2e5-469f0ebad70f",
   "metadata": {},
   "source": [
    "### El segundo orden es:"
   ]
  },
  {
   "cell_type": "markdown",
   "id": "31f29288-da51-4bda-81e8-2dbed49b4dcf",
   "metadata": {
    "tags": []
   },
   "source": [
    "\\begin{eqnarray*}\n",
    "    A_2^{abc} &=& -\\frac{12\\chi_2}{\\mu^4}[\\frac{10}{3}\\frac{\\nu}{\\sqrt{-\\mu}}u^a g^{bc}\n",
    "    + \\frac{20\\nu}{\\sqrt{-\\mu}} u^a u^b u^c  + \\frac{20}{3}\\frac{\\nu}{\\sqrt{-\\mu}}g^{a(b}u^{c)} \\\\\n",
    "    &+& 12 u^a u^{(b}r^{c)} + 2g^{a(b}r^{c)} + 6r^a u^b u^c \n",
    "    + r^a g^{bc} \\\\\n",
    "    &+& 2\\sqrt{-\\mu}\\tilde{\\tau}^{a(b}u^{c)} + \\sqrt{-\\mu}u^a\\tilde{\\tau}^{bc}]\n",
    "\\end{eqnarray*}"
   ]
  },
  {
   "cell_type": "code",
   "execution_count": 4,
   "id": "34d9873d-f9a2-4655-bceb-e031b8da292f",
   "metadata": {},
   "outputs": [
    {
     "data": {
      "text/latex": [
       "\\begin{equation}\n",
       " - 12 \\chi{_2} \\left( T \\nu \\left( 20 u1^{3} + 10 g11 u1 \\right) + 3 g11 r1 + 18 u1^{2} r1 + \\frac{3 t11 u1}{T} \\right)\n",
       "\\end{equation}\n"
      ],
      "text/plain": [
       "-12χ₂*(T*ν*((20//1)*(u1^3) + (10//1)*g11*u1) + 3g11*r1 + 18r1*(u1^2) + 3t11*u1*(T^-1))"
      ]
     },
     "execution_count": 4,
     "metadata": {},
     "output_type": "execute_result"
    }
   ],
   "source": [
    "A111_2 = -12χ₂*(ν*T*(10*u1*g11 + 10*g11*u1 + 10*g11*u1 + 60u1*u1*u1)//3 \n",
    "    + (6r1*u1*u1 + 6r1*u1*u1 + g11*r1 + g11*r1 + 6r1*u1*u1 \n",
    "        + r1*g11) + (t11*u1 + t11*u1 + u1*t11)/T)"
   ]
  },
  {
   "cell_type": "code",
   "execution_count": 5,
   "id": "a582ce7b-8a9a-48d0-8120-e33b982be772",
   "metadata": {},
   "outputs": [
    {
     "data": {
      "text/latex": [
       "\\begin{equation}\n",
       " - 12 \\chi{_2} \\left( g11 r0 + \\frac{\\left( t11 u0 + 2 t01 u1 \\right)}{T} + T \\nu \\left( \\frac{20}{3} g01 u1 + \\frac{10}{3} g11 u0 + 20 u1^{2} u0 \\right) + 2 g01 r1 + 6 u1^{2} r0 + 12 r1 u0 u1 \\right)\n",
       "\\end{equation}\n"
      ],
      "text/plain": [
       "-12χ₂*(g11*r0 + (T^-1)*(t11*u0 + 2t01*u1) + T*ν*((20//3)*g01*u1 + (10//3)*g11*u0 + (20//1)*u0*(u1^2)) + 2g01*r1 + 6r0*(u1^2) + 12r1*u0*u1)"
      ]
     },
     "execution_count": 5,
     "metadata": {},
     "output_type": "execute_result"
    }
   ],
   "source": [
    "A011_2 = -12χ₂*(ν*T*(10*u0*g11 + 10*g01*u1 + 10*g01*u1 + 60u0*u1*u1)//3 \n",
    "    + (6r1*u1*u0 + 6r1*u0*u1 + g01*r1 + g01*r1 + 6r0*u1*u1 \n",
    "        + r0*g11) + (t01*u1 + t01*u1 + u0*t11)/T)"
   ]
  },
  {
   "cell_type": "code",
   "execution_count": 6,
   "id": "ecdc7ba9-5e99-43e9-83e5-51e8f4e24c20",
   "metadata": {},
   "outputs": [
    {
     "data": {
      "text/latex": [
       "\\begin{equation}\n",
       " - 12 \\chi{_2} \\left( g00 r1 + \\frac{\\left( t00 u1 + 2 t01 u0 \\right)}{T} + T \\nu \\left( \\frac{10}{3} g00 u1 + \\frac{20}{3} g01 u0 + 20 u0^{2} u1 \\right) + 2 g01 r0 + 6 u0^{2} r1 + 12 r0 u0 u1 \\right)\n",
       "\\end{equation}\n"
      ],
      "text/plain": [
       "-12χ₂*(g00*r1 + (T^-1)*(t00*u1 + 2t01*u0) + T*ν*((10//3)*g00*u1 + (20//3)*g01*u0 + (20//1)*u1*(u0^2)) + 2g01*r0 + 6r1*(u0^2) + 12r0*u0*u1)"
      ]
     },
     "execution_count": 6,
     "metadata": {},
     "output_type": "execute_result"
    }
   ],
   "source": [
    "A001_2 = -12χ₂*(ν*T*(10*u0*g01 + 10*g00*u1 + 10*g01*u0  + 60u0*u0*u1)//3 \n",
    "    + (6r1*u0*u0 + 6r0*u0*u1 + g00*r1 + g01*r0 + 6r0*u0*u1 \n",
    "        + r0*g01) + (t00*u1 + t01*u0 + u0*t01)/T)"
   ]
  },
  {
   "cell_type": "code",
   "execution_count": 7,
   "id": "4c701ed4-e202-4c74-8640-e8a93b1b3b49",
   "metadata": {},
   "outputs": [
    {
     "data": {
      "text/latex": [
       "\\begin{equation}\n",
       " - 12 \\chi{_2} \\left( T \\nu \\left( 20 u0^{3} + 10 g00 u0 \\right) + 3 g00 r0 + 18 u0^{2} r0 + \\frac{3 t00 u0}{T} \\right)\n",
       "\\end{equation}\n"
      ],
      "text/plain": [
       "-12χ₂*(T*ν*((20//1)*(u0^3) + (10//1)*g00*u0) + 3g00*r0 + 18r0*(u0^2) + 3t00*u0*(T^-1))"
      ]
     },
     "execution_count": 7,
     "metadata": {},
     "output_type": "execute_result"
    }
   ],
   "source": [
    "A000_2 = -12χ₂*(ν*T*(10*u0*g00 + 20*g00*u0 + 60u0*u0*u0)//3 \n",
    "    + (6r0*u0*u0 + 6r0*u0*u0 + g00*r0 + g00*r0 + 6r0*u0*u0 \n",
    "        + r0*g00) + (t00*u0 + t00*u0 + u0*t00)/T)"
   ]
  },
  {
   "cell_type": "code",
   "execution_count": 8,
   "id": "a7d58275-ef40-4fdf-8d73-5cf80e63a6bb",
   "metadata": {},
   "outputs": [
    {
     "data": {
      "text/latex": [
       "\\begin{equation}\n",
       " - 12 \\chi{_2} \\left( T \\nu \\left(  - 10 \\gamma + 20 \\gamma^{3} \\right) - 3 r1 v + 18 \\gamma^{2} r1 v + \\frac{3 v^{2} t11 \\gamma}{T} \\right)\n",
       "\\end{equation}\n"
      ],
      "text/plain": [
       "-12χ₂*(T*ν*((20//1)*(γ^3) - ((10//1)*γ)) + 18r1*v*(γ^2) + 3t11*γ*(T^-1)*(v^2) - (3r1*v))"
      ]
     },
     "execution_count": 8,
     "metadata": {},
     "output_type": "execute_result"
    }
   ],
   "source": [
    "simplify(substitute(A000_2, Dict(DIC)))"
   ]
  },
  {
   "cell_type": "code",
   "execution_count": 9,
   "id": "aabb1171-f408-4b99-a01e-942b847ca2e6",
   "metadata": {},
   "outputs": [
    {
     "data": {
      "text/latex": [
       "\\begin{equation}\n",
       " - 12 \\chi{_2} \\left(  - r1 + \\frac{\\left( v^{3} t11 \\gamma + 2 t11 v \\gamma \\right)}{T} + T \\nu \\left(  - \\frac{10}{3} v \\gamma + 20 \\gamma^{3} v \\right) + 6 \\gamma^{2} r1 + 12 \\gamma^{2} v^{2} r1 \\right)\n",
       "\\end{equation}\n"
      ],
      "text/plain": [
       "-12χ₂*((T^-1)*(t11*γ*(v^3) + 2t11*v*γ) + T*ν*((20//1)*v*(γ^3) - ((10//3)*v*γ)) + 6r1*(γ^2) + 12r1*(v^2)*(γ^2) - r1)"
      ]
     },
     "execution_count": 9,
     "metadata": {},
     "output_type": "execute_result"
    }
   ],
   "source": [
    "simplify(substitute(A001_2, Dict(DIC)))"
   ]
  },
  {
   "cell_type": "code",
   "execution_count": 10,
   "id": "bb3d26f2-2d0b-40bb-8d29-b811eb259a67",
   "metadata": {},
   "outputs": [
    {
     "data": {
      "text/latex": [
       "\\begin{equation}\n",
       " - 12 \\chi{_2} \\left( r1 v + \\frac{\\left( t11 \\gamma + 2 v^{2} t11 \\gamma \\right)}{T} + T \\nu \\left( \\frac{10}{3} \\gamma + 20 \\gamma^{3} v^{2} \\right) + 12 \\gamma^{2} r1 v + 6 \\gamma^{2} v^{3} r1 \\right)\n",
       "\\end{equation}\n"
      ],
      "text/plain": [
       "-12χ₂*(r1*v + (T^-1)*(t11*γ + 2t11*γ*(v^2)) + T*ν*((10//3)*γ + (20//1)*(v^2)*(γ^3)) + 12r1*v*(γ^2) + 6r1*(v^3)*(γ^2))"
      ]
     },
     "execution_count": 10,
     "metadata": {},
     "output_type": "execute_result"
    }
   ],
   "source": [
    "simplify(substitute(A011_2, Dict(DIC)))"
   ]
  },
  {
   "cell_type": "code",
   "execution_count": 11,
   "id": "a98146d8-d534-4d7b-8bb3-e6b073bec140",
   "metadata": {},
   "outputs": [
    {
     "data": {
      "text/latex": [
       "\\begin{equation}\n",
       " - 12 \\chi{_2} \\left( 3 r1 + T \\nu \\left( 10 v \\gamma + 20 \\gamma^{3} v^{3} \\right) + 18 \\gamma^{2} v^{2} r1 + \\frac{3 t11 v \\gamma}{T} \\right)\n",
       "\\end{equation}\n"
      ],
      "text/plain": [
       "-12χ₂*(3r1 + T*ν*((10//1)*v*γ + (20//1)*(v^3)*(γ^3)) + 18r1*(v^2)*(γ^2) + 3t11*v*γ*(T^-1))"
      ]
     },
     "execution_count": 11,
     "metadata": {},
     "output_type": "execute_result"
    }
   ],
   "source": [
    "simplify(substitute(A111_2, Dict(DIC)))"
   ]
  },
  {
   "cell_type": "markdown",
   "id": "275d5dd5-7763-4656-b527-8ad117be41fc",
   "metadata": {},
   "source": [
    "### El primer orden es:"
   ]
  },
  {
   "cell_type": "markdown",
   "id": "761b7656-10e7-426b-8424-e13f3c5c1f4c",
   "metadata": {},
   "source": [
    "$$\n",
    "    A_1{}^{abc}=\\frac{\\chi_1\\sqrt{-\\mu}}{\\mu^3}\\left[2h^{a(b}u^{c)} + u^ah^{bc} + 3u^a u^b u^c\\right] = \\frac{\\chi_1\\sqrt{-\\mu}}{\\mu^3}\\left[g^{ab}u^c + g^{ac}u^b + g^{bc}u^a + 6u^a u^b u^c\\right]\n",
    "$$"
   ]
  },
  {
   "cell_type": "code",
   "execution_count": 22,
   "id": "c7a43f71-50d5-46be-b643-61f87ea02698",
   "metadata": {},
   "outputs": [
    {
     "data": {
      "text/latex": [
       "\\begin{equation}\n",
       "\\frac{\\chi{_1} \\left( 6 u1^{3} + 3 g11 u1 \\right)}{\\mu^{3} T}\n",
       "\\end{equation}\n"
      ],
      "text/plain": [
       "χ₁*(T^-1)*(μ^-3)*(6(u1^3) + 3g11*u1)"
      ]
     },
     "execution_count": 22,
     "metadata": {},
     "output_type": "execute_result"
    }
   ],
   "source": [
    "A111_1 = χ₁/T/μ^3*(g11*u1 + g11*u1 + g11*u1 + 6u1*u1*u1)"
   ]
  },
  {
   "cell_type": "code",
   "execution_count": 23,
   "id": "91fe0996-439c-4f7d-b9f0-012b03011364",
   "metadata": {},
   "outputs": [
    {
     "data": {
      "text/latex": [
       "\\begin{equation}\n",
       " - T^{5} \\chi{_1} \\left( 3 v \\gamma + 6 \\gamma^{3} v^{3} \\right)\n",
       "\\end{equation}\n"
      ],
      "text/plain": [
       "-χ₁*(T^5)*(3v*γ + 6(v^3)*(γ^3))"
      ]
     },
     "execution_count": 23,
     "metadata": {},
     "output_type": "execute_result"
    }
   ],
   "source": [
    "simplify(substitute(A111_1, Dict(DIC)))"
   ]
  },
  {
   "cell_type": "code",
   "execution_count": 25,
   "id": "8b24a4e3-3f51-4418-9bee-a2e6c918d0b7",
   "metadata": {},
   "outputs": [
    {
     "data": {
      "text/latex": [
       "\\begin{equation}\n",
       "\\frac{\\chi{_1} \\left( g11 u0 + 2 g01 u1 + 6 u1^{2} u0 \\right)}{\\mu^{3} T}\n",
       "\\end{equation}\n"
      ],
      "text/plain": [
       "χ₁*(g11*u0 + 2g01*u1 + 6u0*(u1^2))*(T^-1)*(μ^-3)"
      ]
     },
     "execution_count": 25,
     "metadata": {},
     "output_type": "execute_result"
    }
   ],
   "source": [
    "A011_1 = χ₁/T/μ^3*(g01*u1 + g01*u1 + g11*u0 + 6u1*u1*u0)"
   ]
  },
  {
   "cell_type": "code",
   "execution_count": 26,
   "id": "3ff1982c-1bd7-4d4e-9d15-b0015da934bd",
   "metadata": {},
   "outputs": [
    {
     "data": {
      "text/latex": [
       "\\begin{equation}\n",
       " - T^{5} \\chi{_1} \\left( \\gamma + 6 \\gamma^{3} v^{2} \\right)\n",
       "\\end{equation}\n"
      ],
      "text/plain": [
       "-χ₁*(T^5)*(γ + 6(v^2)*(γ^3))"
      ]
     },
     "execution_count": 26,
     "metadata": {},
     "output_type": "execute_result"
    }
   ],
   "source": [
    "simplify(substitute(A011_1, Dict(DIC)))"
   ]
  },
  {
   "cell_type": "code",
   "execution_count": 27,
   "id": "46bcd37d-2d46-4527-8358-e26f3450813a",
   "metadata": {},
   "outputs": [
    {
     "data": {
      "text/latex": [
       "\\begin{equation}\n",
       "\\frac{\\chi{_1} \\left( g00 u1 + 2 g01 u0 + 6 u0^{2} u1 \\right)}{\\mu^{3} T}\n",
       "\\end{equation}\n"
      ],
      "text/plain": [
       "χ₁*(g00*u1 + 2g01*u0 + 6u1*(u0^2))*(T^-1)*(μ^-3)"
      ]
     },
     "execution_count": 27,
     "metadata": {},
     "output_type": "execute_result"
    }
   ],
   "source": [
    "A001_1 = χ₁/T/μ^3*(g00*u1 + g01*u0 + g01*u0 + 6u1*u0*u0)"
   ]
  },
  {
   "cell_type": "code",
   "execution_count": 28,
   "id": "3cb187c6-7e70-4c8b-822f-aacf99f19be8",
   "metadata": {},
   "outputs": [
    {
     "data": {
      "text/latex": [
       "\\begin{equation}\n",
       " - T^{5} \\chi{_1} \\left(  - v \\gamma + 6 \\gamma^{3} v \\right)\n",
       "\\end{equation}\n"
      ],
      "text/plain": [
       "-χ₁*(T^5)*(6v*(γ^3) - (v*γ))"
      ]
     },
     "execution_count": 28,
     "metadata": {},
     "output_type": "execute_result"
    }
   ],
   "source": [
    "simplify(substitute(A001_1, Dict(DIC)))"
   ]
  },
  {
   "cell_type": "code",
   "execution_count": 29,
   "id": "8fa7c1a3-87dc-4ad4-9854-49e5de51497b",
   "metadata": {},
   "outputs": [
    {
     "data": {
      "text/latex": [
       "\\begin{equation}\n",
       "\\frac{\\chi{_1} \\left( 6 u0^{3} + 3 g00 u0 \\right)}{\\mu^{3} T}\n",
       "\\end{equation}\n"
      ],
      "text/plain": [
       "χ₁*(T^-1)*(μ^-3)*(6(u0^3) + 3g00*u0)"
      ]
     },
     "execution_count": 29,
     "metadata": {},
     "output_type": "execute_result"
    }
   ],
   "source": [
    "A000_1 = χ₁/T/μ^3*(g00*u0 + g00*u0 + g00*u0 + 6u0*u0*u0)"
   ]
  },
  {
   "cell_type": "code",
   "execution_count": 30,
   "id": "99a04a1e-d1b1-4143-a664-104811d3df85",
   "metadata": {},
   "outputs": [
    {
     "data": {
      "text/latex": [
       "\\begin{equation}\n",
       " - T^{5} \\chi{_1} \\left(  - 3 \\gamma + 6 \\gamma^{3} \\right)\n",
       "\\end{equation}\n"
      ],
      "text/plain": [
       "-χ₁*(T^5)*(6(γ^3) - (3γ))"
      ]
     },
     "execution_count": 30,
     "metadata": {},
     "output_type": "execute_result"
    }
   ],
   "source": [
    "simplify(substitute(A000_1, Dict(DIC)))"
   ]
  },
  {
   "cell_type": "code",
   "execution_count": null,
   "id": "95f66c2e-af92-4551-9765-9e8eb92d3995",
   "metadata": {},
   "outputs": [],
   "source": []
  }
 ],
 "metadata": {
  "kernelspec": {
   "display_name": "Julia 1.6.1",
   "language": "julia",
   "name": "julia-1.6"
  },
  "language_info": {
   "file_extension": ".jl",
   "mimetype": "application/julia",
   "name": "julia",
   "version": "1.6.1"
  }
 },
 "nbformat": 4,
 "nbformat_minor": 5
}
