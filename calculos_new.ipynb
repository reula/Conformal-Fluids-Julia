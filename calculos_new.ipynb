{
 "cells": [
  {
   "cell_type": "code",
   "execution_count": 1,
   "id": "333ef126",
   "metadata": {
    "scrolled": true
   },
   "outputs": [],
   "source": [
    "using Symbolics\n",
    "using Latexify"
   ]
  },
  {
   "cell_type": "code",
   "execution_count": 2,
   "id": "dad7563a-781d-4159-906f-044d5f25c834",
   "metadata": {},
   "outputs": [],
   "source": [
    "@variables g00, g11, g01, ν, r0, r1, t00, t01, t11, t22, t33, u0, u1, μ, T, γ, v, χ₁, χ₂, χ₀ ;"
   ]
  },
  {
   "cell_type": "markdown",
   "id": "01422a43-56b1-489f-8f71-1afcda2e219f",
   "metadata": {},
   "source": [
    "## De aqui es la cuenta correcta (lo anterior no se si está bien)"
   ]
  },
  {
   "cell_type": "code",
   "execution_count": 3,
   "id": "5125144b-5002-48ff-a432-4c348671a2b4",
   "metadata": {
    "scrolled": true
   },
   "outputs": [
    {
     "data": {
      "text/plain": [
       "Dict{Num,Num} with 11 entries:\n",
       "  u1  => v*γ\n",
       "  t00 => t11*(v^2)\n",
       "  u0  => γ\n",
       "  μ   => -(T^-2)\n",
       "  t01 => t11*v\n",
       "  t33 => t11*(0.5(v^2) - 0.5)\n",
       "  g00 => -1\n",
       "  g11 => 1\n",
       "  r0  => r1*v\n",
       "  g01 => 0\n",
       "  t22 => t11*(0.5(v^2) - 0.5)"
      ]
     },
     "execution_count": 3,
     "metadata": {},
     "output_type": "execute_result"
    }
   ],
   "source": [
    "DIC = Dict([g00 => -1, g11 => 1, g01 => 0, μ => -T^(-2), r0 => r1*v, u0 => γ, u1 => γ*v, t00 => v^2*t11, t01 => v*t11, t22 => 0.5*(v^2-1)*t11, t33 => 0.5*(v^2-1)*t11])"
   ]
  },
  {
   "cell_type": "markdown",
   "id": "e8200292",
   "metadata": {},
   "source": [
    "## Constitutive tensor A^{abc}"
   ]
  },
  {
   "cell_type": "markdown",
   "id": "54734871-ce4a-4ed8-a2e5-469f0ebad70f",
   "metadata": {},
   "source": [
    "### El segundo orden es:"
   ]
  },
  {
   "cell_type": "markdown",
   "id": "31f29288-da51-4bda-81e8-2dbed49b4dcf",
   "metadata": {
    "tags": []
   },
   "source": [
    "\\begin{eqnarray*}\n",
    "    A_2^{abc} &=& -\\frac{12\\chi_2}{\\mu^4}[\\frac{10}{3}\\frac{\\nu}{\\sqrt{-\\mu}}u^a g^{bc}\n",
    "    + \\frac{20\\nu}{\\sqrt{-\\mu}} u^a u^b u^c  + \\frac{20}{3}\\frac{\\nu}{\\sqrt{-\\mu}}g^{a(b}u^{c)} \\\\\n",
    "    &+& 12 u^a u^{(b}r^{c)} + 2g^{a(b}r^{c)} + 6r^a u^b u^c \n",
    "    + r^a g^{bc} \\\\\n",
    "    &+& 2\\sqrt{-\\mu}\\tilde{\\tau}^{a(b}u^{c)} + \\sqrt{-\\mu}u^a\\tilde{\\tau}^{bc}]\n",
    "\\end{eqnarray*}"
   ]
  },
  {
   "cell_type": "code",
   "execution_count": 4,
   "id": "34d9873d-f9a2-4655-bceb-e031b8da292f",
   "metadata": {},
   "outputs": [
    {
     "ename": "LoadError",
     "evalue": "\u001b[91mMethodError: no method matching //(::Num, ::Int64)\u001b[39m\n\u001b[91m\u001b[0mClosest candidates are:\u001b[39m\n\u001b[91m\u001b[0m  //(\u001b[91m::Integer\u001b[39m, ::Integer) at rational.jl:61\u001b[39m\n\u001b[91m\u001b[0m  //(\u001b[91m::Rational\u001b[39m, ::Integer) at rational.jl:63\u001b[39m\n\u001b[91m\u001b[0m  //(\u001b[91m::Complex\u001b[39m, ::Real) at rational.jl:77\u001b[39m\n\u001b[91m\u001b[0m  ...\u001b[39m",
     "output_type": "error",
     "traceback": [
      "\u001b[91mMethodError: no method matching //(::Num, ::Int64)\u001b[39m\n\u001b[91m\u001b[0mClosest candidates are:\u001b[39m\n\u001b[91m\u001b[0m  //(\u001b[91m::Integer\u001b[39m, ::Integer) at rational.jl:61\u001b[39m\n\u001b[91m\u001b[0m  //(\u001b[91m::Rational\u001b[39m, ::Integer) at rational.jl:63\u001b[39m\n\u001b[91m\u001b[0m  //(\u001b[91m::Complex\u001b[39m, ::Real) at rational.jl:77\u001b[39m\n\u001b[91m\u001b[0m  ...\u001b[39m",
      "",
      "Stacktrace:",
      " [1] top-level scope at In[4]:1",
      " [2] include_string(::Function, ::Module, ::String, ::String) at ./loading.jl:1091"
     ]
    }
   ],
   "source": [
    "A111_2 = -12χ₂*(ν*T*(10*u1*g11 + 10*g11*u1 + 10*g11*u1 + 60u1*u1*u1)//3 \n",
    "         + (6r1*u1*u1 + 6r1*u1*u1 + g11*r1 + g11*r1 + 6r1*u1*u1 \n",
    "         + r1*g11) + (t11*u1 + t11*u1 + u1*t11)/T)"
   ]
  },
  {
   "cell_type": "code",
   "execution_count": 5,
   "id": "a582ce7b-8a9a-48d0-8120-e33b982be772",
   "metadata": {},
   "outputs": [
    {
     "ename": "LoadError",
     "evalue": "\u001b[91mMethodError: no method matching //(::Num, ::Int64)\u001b[39m\n\u001b[91m\u001b[0mClosest candidates are:\u001b[39m\n\u001b[91m\u001b[0m  //(\u001b[91m::Integer\u001b[39m, ::Integer) at rational.jl:61\u001b[39m\n\u001b[91m\u001b[0m  //(\u001b[91m::Rational\u001b[39m, ::Integer) at rational.jl:63\u001b[39m\n\u001b[91m\u001b[0m  //(\u001b[91m::Complex\u001b[39m, ::Real) at rational.jl:77\u001b[39m\n\u001b[91m\u001b[0m  ...\u001b[39m",
     "output_type": "error",
     "traceback": [
      "\u001b[91mMethodError: no method matching //(::Num, ::Int64)\u001b[39m\n\u001b[91m\u001b[0mClosest candidates are:\u001b[39m\n\u001b[91m\u001b[0m  //(\u001b[91m::Integer\u001b[39m, ::Integer) at rational.jl:61\u001b[39m\n\u001b[91m\u001b[0m  //(\u001b[91m::Rational\u001b[39m, ::Integer) at rational.jl:63\u001b[39m\n\u001b[91m\u001b[0m  //(\u001b[91m::Complex\u001b[39m, ::Real) at rational.jl:77\u001b[39m\n\u001b[91m\u001b[0m  ...\u001b[39m",
      "",
      "Stacktrace:",
      " [1] top-level scope at In[5]:1",
      " [2] include_string(::Function, ::Module, ::String, ::String) at ./loading.jl:1091"
     ]
    }
   ],
   "source": [
    "A011_2 = -12χ₂*(ν*T*(10*u0*g11 + 10*g01*u1 + 10*g01*u1 + 60u0*u1*u1)//3 \n",
    "    + (6r1*u1*u0 + 6r1*u0*u1 + g01*r1 + g01*r1 + 6r0*u1*u1 \n",
    "        + r0*g11) + (t01*u1 + t01*u1 + u0*t11)/T)"
   ]
  },
  {
   "cell_type": "code",
   "execution_count": 6,
   "id": "ecdc7ba9-5e99-43e9-83e5-51e8f4e24c20",
   "metadata": {},
   "outputs": [
    {
     "data": {
      "text/latex": [
       "\\begin{equation}\n",
       " - 12 \\chi{_2} \\left( g00 r1 + \\frac{\\left( t00 u1 + 2 t01 u0 \\right)}{T} + T \\nu \\left( \\frac{10}{3} g00 u1 + \\frac{20}{3} g01 u0 + 20 u0^{2} u1 \\right) + 2 g01 r0 + 6 u0^{2} r1 + 12 r0 u0 u1 \\right)\n",
       "\\end{equation}\n"
      ],
      "text/plain": [
       "-12χ₂*(g00*r1 + (T^-1)*(t00*u1 + 2t01*u0) + T*ν*((10//3)*g00*u1 + (20//3)*g01*u0 + (20//1)*u1*(u0^2)) + 2g01*r0 + 6r1*(u0^2) + 12r0*u0*u1)"
      ]
     },
     "execution_count": 6,
     "metadata": {},
     "output_type": "execute_result"
    }
   ],
   "source": [
    "A001_2 = -12χ₂*(ν*T*(10*u0*g01 + 10*g00*u1 + 10*g01*u0  + 60u0*u0*u1)//3 \n",
    "    + (6r1*u0*u0 + 6r0*u0*u1 + g00*r1 + g01*r0 + 6r0*u0*u1 \n",
    "        + r0*g01) + (t00*u1 + t01*u0 + u0*t01)/T)"
   ]
  },
  {
   "cell_type": "code",
   "execution_count": 7,
   "id": "4c701ed4-e202-4c74-8640-e8a93b1b3b49",
   "metadata": {},
   "outputs": [
    {
     "data": {
      "text/latex": [
       "\\begin{equation}\n",
       " - 12 \\chi{_2} \\left( T \\nu \\left( 20 u0^{3} + 10 g00 u0 \\right) + 3 g00 r0 + 18 u0^{2} r0 + \\frac{3 t00 u0}{T} \\right)\n",
       "\\end{equation}\n"
      ],
      "text/plain": [
       "-12χ₂*(T*ν*((20//1)*(u0^3) + (10//1)*g00*u0) + 3g00*r0 + 18r0*(u0^2) + 3t00*u0*(T^-1))"
      ]
     },
     "execution_count": 7,
     "metadata": {},
     "output_type": "execute_result"
    }
   ],
   "source": [
    "A000_2 = -12χ₂*(ν*T*(10*u0*g00 + 20*g00*u0 + 60u0*u0*u0)//3 \n",
    "    + (6r0*u0*u0 + 6r0*u0*u0 + g00*r0 + g00*r0 + 6r0*u0*u0 \n",
    "        + r0*g00) + (t00*u0 + t00*u0 + u0*t00)/T)"
   ]
  },
  {
   "cell_type": "code",
   "execution_count": 8,
   "id": "a7d58275-ef40-4fdf-8d73-5cf80e63a6bb",
   "metadata": {},
   "outputs": [
    {
     "data": {
      "text/latex": [
       "\\begin{equation}\n",
       " - 12 \\chi{_2} \\left( T \\nu \\left(  - 10 \\gamma + 20 \\gamma^{3} \\right) - 3 r1 v + 18 \\gamma^{2} r1 v + \\frac{3 v^{2} t11 \\gamma}{T} \\right)\n",
       "\\end{equation}\n"
      ],
      "text/plain": [
       "-12χ₂*(T*ν*((20//1)*(γ^3) - ((10//1)*γ)) + 18r1*v*(γ^2) + 3t11*γ*(T^-1)*(v^2) - (3r1*v))"
      ]
     },
     "execution_count": 8,
     "metadata": {},
     "output_type": "execute_result"
    }
   ],
   "source": [
    "simplify(substitute(A000_2, Dict(DIC)))"
   ]
  },
  {
   "cell_type": "code",
   "execution_count": 9,
   "id": "aabb1171-f408-4b99-a01e-942b847ca2e6",
   "metadata": {},
   "outputs": [
    {
     "data": {
      "text/latex": [
       "\\begin{equation}\n",
       " - 12 \\chi{_2} \\left(  - r1 + \\frac{\\left( v^{3} t11 \\gamma + 2 t11 v \\gamma \\right)}{T} + T \\nu \\left(  - \\frac{10}{3} v \\gamma + 20 \\gamma^{3} v \\right) + 6 \\gamma^{2} r1 + 12 \\gamma^{2} v^{2} r1 \\right)\n",
       "\\end{equation}\n"
      ],
      "text/plain": [
       "-12χ₂*((T^-1)*(t11*γ*(v^3) + 2t11*v*γ) + T*ν*((20//1)*v*(γ^3) - ((10//3)*v*γ)) + 6r1*(γ^2) + 12r1*(v^2)*(γ^2) - r1)"
      ]
     },
     "execution_count": 9,
     "metadata": {},
     "output_type": "execute_result"
    }
   ],
   "source": [
    "simplify(substitute(A001_2, Dict(DIC)))"
   ]
  },
  {
   "cell_type": "code",
   "execution_count": 10,
   "id": "bb3d26f2-2d0b-40bb-8d29-b811eb259a67",
   "metadata": {},
   "outputs": [
    {
     "data": {
      "text/latex": [
       "\\begin{equation}\n",
       " - 12 \\chi{_2} \\left( r1 v + \\frac{\\left( t11 \\gamma + 2 v^{2} t11 \\gamma \\right)}{T} + T \\nu \\left( \\frac{10}{3} \\gamma + 20 \\gamma^{3} v^{2} \\right) + 12 \\gamma^{2} r1 v + 6 \\gamma^{2} v^{3} r1 \\right)\n",
       "\\end{equation}\n"
      ],
      "text/plain": [
       "-12χ₂*(r1*v + (T^-1)*(t11*γ + 2t11*γ*(v^2)) + T*ν*((10//3)*γ + (20//1)*(v^2)*(γ^3)) + 12r1*v*(γ^2) + 6r1*(v^3)*(γ^2))"
      ]
     },
     "execution_count": 10,
     "metadata": {},
     "output_type": "execute_result"
    }
   ],
   "source": [
    "simplify(substitute(A011_2, Dict(DIC)))"
   ]
  },
  {
   "cell_type": "code",
   "execution_count": 11,
   "id": "a98146d8-d534-4d7b-8bb3-e6b073bec140",
   "metadata": {},
   "outputs": [
    {
     "data": {
      "text/latex": [
       "\\begin{equation}\n",
       " - 12 \\chi{_2} \\left( 3 r1 + T \\nu \\left( 10 v \\gamma + 20 \\gamma^{3} v^{3} \\right) + 18 \\gamma^{2} v^{2} r1 + \\frac{3 t11 v \\gamma}{T} \\right)\n",
       "\\end{equation}\n"
      ],
      "text/plain": [
       "-12χ₂*(3r1 + T*ν*((10//1)*v*γ + (20//1)*(v^3)*(γ^3)) + 18r1*(v^2)*(γ^2) + 3t11*v*γ*(T^-1))"
      ]
     },
     "execution_count": 11,
     "metadata": {},
     "output_type": "execute_result"
    }
   ],
   "source": [
    "simplify(substitute(A111_2, Dict(DIC)))"
   ]
  },
  {
   "cell_type": "markdown",
   "id": "275d5dd5-7763-4656-b527-8ad117be41fc",
   "metadata": {},
   "source": [
    "### El primer orden es:"
   ]
  },
  {
   "cell_type": "markdown",
   "id": "761b7656-10e7-426b-8424-e13f3c5c1f4c",
   "metadata": {},
   "source": [
    "$$\n",
    "    A_1{}^{abc}=\\frac{\\chi_1\\sqrt{-\\mu}}{\\mu^3}\\left[2h^{a(b}u^{c)} + u^ah^{bc} + 3u^a u^b u^c\\right] = \\frac{\\chi_1\\sqrt{-\\mu}}{\\mu^3}\\left[g^{ab}u^c + g^{ac}u^b + g^{bc}u^a + 6u^a u^b u^c\\right]\n",
    "$$"
   ]
  },
  {
   "cell_type": "code",
   "execution_count": 22,
   "id": "c7a43f71-50d5-46be-b643-61f87ea02698",
   "metadata": {},
   "outputs": [
    {
     "data": {
      "text/latex": [
       "\\begin{equation}\n",
       "\\frac{\\chi{_1} \\left( 6 u1^{3} + 3 g11 u1 \\right)}{\\mu^{3} T}\n",
       "\\end{equation}\n"
      ],
      "text/plain": [
       "χ₁*(T^-1)*(μ^-3)*(6(u1^3) + 3g11*u1)"
      ]
     },
     "execution_count": 22,
     "metadata": {},
     "output_type": "execute_result"
    }
   ],
   "source": [
    "A111_1 = χ₁/T/μ^3*(g11*u1 + g11*u1 + g11*u1 + 6u1*u1*u1)"
   ]
  },
  {
   "cell_type": "code",
   "execution_count": 23,
   "id": "91fe0996-439c-4f7d-b9f0-012b03011364",
   "metadata": {},
   "outputs": [
    {
     "data": {
      "text/latex": [
       "\\begin{equation}\n",
       " - T^{5} \\chi{_1} \\left( 3 v \\gamma + 6 \\gamma^{3} v^{3} \\right)\n",
       "\\end{equation}\n"
      ],
      "text/plain": [
       "-χ₁*(T^5)*(3v*γ + 6(v^3)*(γ^3))"
      ]
     },
     "execution_count": 23,
     "metadata": {},
     "output_type": "execute_result"
    }
   ],
   "source": [
    "simplify(substitute(A111_1, Dict(DIC)))"
   ]
  },
  {
   "cell_type": "code",
   "execution_count": 25,
   "id": "8b24a4e3-3f51-4418-9bee-a2e6c918d0b7",
   "metadata": {},
   "outputs": [
    {
     "data": {
      "text/latex": [
       "\\begin{equation}\n",
       "\\frac{\\chi{_1} \\left( g11 u0 + 2 g01 u1 + 6 u1^{2} u0 \\right)}{\\mu^{3} T}\n",
       "\\end{equation}\n"
      ],
      "text/plain": [
       "χ₁*(g11*u0 + 2g01*u1 + 6u0*(u1^2))*(T^-1)*(μ^-3)"
      ]
     },
     "execution_count": 25,
     "metadata": {},
     "output_type": "execute_result"
    }
   ],
   "source": [
    "A011_1 = χ₁/T/μ^3*(g01*u1 + g01*u1 + g11*u0 + 6u1*u1*u0)"
   ]
  },
  {
   "cell_type": "code",
   "execution_count": 26,
   "id": "3ff1982c-1bd7-4d4e-9d15-b0015da934bd",
   "metadata": {},
   "outputs": [
    {
     "data": {
      "text/latex": [
       "\\begin{equation}\n",
       " - T^{5} \\chi{_1} \\left( \\gamma + 6 \\gamma^{3} v^{2} \\right)\n",
       "\\end{equation}\n"
      ],
      "text/plain": [
       "-χ₁*(T^5)*(γ + 6(v^2)*(γ^3))"
      ]
     },
     "execution_count": 26,
     "metadata": {},
     "output_type": "execute_result"
    }
   ],
   "source": [
    "simplify(substitute(A011_1, Dict(DIC)))"
   ]
  },
  {
   "cell_type": "code",
   "execution_count": 27,
   "id": "46bcd37d-2d46-4527-8358-e26f3450813a",
   "metadata": {},
   "outputs": [
    {
     "data": {
      "text/latex": [
       "\\begin{equation}\n",
       "\\frac{\\chi{_1} \\left( g00 u1 + 2 g01 u0 + 6 u0^{2} u1 \\right)}{\\mu^{3} T}\n",
       "\\end{equation}\n"
      ],
      "text/plain": [
       "χ₁*(g00*u1 + 2g01*u0 + 6u1*(u0^2))*(T^-1)*(μ^-3)"
      ]
     },
     "execution_count": 27,
     "metadata": {},
     "output_type": "execute_result"
    }
   ],
   "source": [
    "A001_1 = χ₁/T/μ^3*(g00*u1 + g01*u0 + g01*u0 + 6u1*u0*u0)"
   ]
  },
  {
   "cell_type": "code",
   "execution_count": 28,
   "id": "3cb187c6-7e70-4c8b-822f-aacf99f19be8",
   "metadata": {},
   "outputs": [
    {
     "data": {
      "text/latex": [
       "\\begin{equation}\n",
       " - T^{5} \\chi{_1} \\left(  - v \\gamma + 6 \\gamma^{3} v \\right)\n",
       "\\end{equation}\n"
      ],
      "text/plain": [
       "-χ₁*(T^5)*(6v*(γ^3) - (v*γ))"
      ]
     },
     "execution_count": 28,
     "metadata": {},
     "output_type": "execute_result"
    }
   ],
   "source": [
    "simplify(substitute(A001_1, Dict(DIC)))"
   ]
  },
  {
   "cell_type": "code",
   "execution_count": 29,
   "id": "8fa7c1a3-87dc-4ad4-9854-49e5de51497b",
   "metadata": {},
   "outputs": [
    {
     "data": {
      "text/latex": [
       "\\begin{equation}\n",
       "\\frac{\\chi{_1} \\left( 6 u0^{3} + 3 g00 u0 \\right)}{\\mu^{3} T}\n",
       "\\end{equation}\n"
      ],
      "text/plain": [
       "χ₁*(T^-1)*(μ^-3)*(6(u0^3) + 3g00*u0)"
      ]
     },
     "execution_count": 29,
     "metadata": {},
     "output_type": "execute_result"
    }
   ],
   "source": [
    "A000_1 = χ₁/T/μ^3*(g00*u0 + g00*u0 + g00*u0 + 6u0*u0*u0)"
   ]
  },
  {
   "cell_type": "code",
   "execution_count": 30,
   "id": "99a04a1e-d1b1-4143-a664-104811d3df85",
   "metadata": {},
   "outputs": [
    {
     "data": {
      "text/latex": [
       "\\begin{equation}\n",
       " - T^{5} \\chi{_1} \\left(  - 3 \\gamma + 6 \\gamma^{3} \\right)\n",
       "\\end{equation}\n"
      ],
      "text/plain": [
       "-χ₁*(T^5)*(6(γ^3) - (3γ))"
      ]
     },
     "execution_count": 30,
     "metadata": {},
     "output_type": "execute_result"
    }
   ],
   "source": [
    "simplify(substitute(A000_1, Dict(DIC)))"
   ]
  },
  {
   "cell_type": "code",
   "execution_count": null,
   "id": "95f66c2e-af92-4551-9765-9e8eb92d3995",
   "metadata": {},
   "outputs": [],
   "source": []
  },
  {
   "cell_type": "code",
   "execution_count": null,
   "id": "6f11b3ca",
   "metadata": {},
   "outputs": [],
   "source": []
  },
  {
   "cell_type": "markdown",
   "id": "ec0dc89c",
   "metadata": {},
   "source": [
    "## Energy-momentum tensor"
   ]
  },
  {
   "cell_type": "markdown",
   "id": "ce60882d",
   "metadata": {},
   "source": [
    "### 0th order"
   ]
  },
  {
   "cell_type": "markdown",
   "id": "dfbede7a",
   "metadata": {},
   "source": [
    "$$\n",
    "    T_0^{ab} = \\frac{-8\\chi_0}{\\mu^2}\\left(u^a u^b + \\frac{1}{4}g^{ab}\\right),\n",
    "$$"
   ]
  },
  {
   "cell_type": "code",
   "execution_count": 4,
   "id": "64f5af44",
   "metadata": {},
   "outputs": [
    {
     "data": {
      "text/latex": [
       "\\begin{equation}\n",
       " - \\frac{8 \\chi{_0} \\left( \\frac{1}{4} g00 + u0^{2} \\right)}{\\mu^{2}}\n",
       "\\end{equation}\n"
      ],
      "text/plain": [
       "-8χ₀*(μ^-2)*((1//4)*g00 + u0^2)"
      ]
     },
     "execution_count": 4,
     "metadata": {},
     "output_type": "execute_result"
    }
   ],
   "source": [
    "T0_00 = -8*χ₀/μ^2 * (u0*u0 + 1//4 * g00)"
   ]
  },
  {
   "cell_type": "code",
   "execution_count": 5,
   "id": "5e11cd5b",
   "metadata": {},
   "outputs": [
    {
     "data": {
      "text/latex": [
       "\\begin{equation}\n",
       " - 8 T^{4} \\chi{_0} \\left( \\frac{-1}{4} + \\gamma^{2} \\right)\n",
       "\\end{equation}\n"
      ],
      "text/plain": [
       "-8χ₀*(T^4)*(γ^2 - (1//4))"
      ]
     },
     "execution_count": 5,
     "metadata": {},
     "output_type": "execute_result"
    }
   ],
   "source": [
    "simplify(substitute(T0_00, Dict(DIC)))"
   ]
  },
  {
   "cell_type": "code",
   "execution_count": 6,
   "id": "a5f19475",
   "metadata": {},
   "outputs": [
    {
     "data": {
      "text/latex": [
       "\\begin{equation}\n",
       " - \\frac{8 u0 u1 \\chi{_0}}{\\mu^{2}}\n",
       "\\end{equation}\n"
      ],
      "text/plain": [
       "-8u0*u1*χ₀*(μ^-2)"
      ]
     },
     "execution_count": 6,
     "metadata": {},
     "output_type": "execute_result"
    }
   ],
   "source": [
    "T0_01 = -8*χ₀/μ^2 * (u0*u1)"
   ]
  },
  {
   "cell_type": "code",
   "execution_count": 7,
   "id": "3fd33764",
   "metadata": {},
   "outputs": [
    {
     "data": {
      "text/latex": [
       "\\begin{equation}\n",
       " - 8 \\gamma^{2} T^{4} v \\chi{_0}\n",
       "\\end{equation}\n"
      ],
      "text/plain": [
       "-8v*χ₀*(T^4)*(γ^2)"
      ]
     },
     "execution_count": 7,
     "metadata": {},
     "output_type": "execute_result"
    }
   ],
   "source": [
    "simplify(substitute(T0_01, Dict(DIC)))"
   ]
  },
  {
   "cell_type": "code",
   "execution_count": 8,
   "id": "0e1845dd",
   "metadata": {},
   "outputs": [
    {
     "data": {
      "text/latex": [
       "\\begin{equation}\n",
       " - \\frac{8 \\chi{_0} \\left( \\frac{1}{4} g11 + u1^{2} \\right)}{\\mu^{2}}\n",
       "\\end{equation}\n"
      ],
      "text/plain": [
       "-8χ₀*(μ^-2)*((1//4)*g11 + u1^2)"
      ]
     },
     "execution_count": 8,
     "metadata": {},
     "output_type": "execute_result"
    }
   ],
   "source": [
    "T0_11 = -8*χ₀/μ^2 * (u1*u1 + 1//4 * g11)"
   ]
  },
  {
   "cell_type": "code",
   "execution_count": 9,
   "id": "fed49d5c",
   "metadata": {},
   "outputs": [
    {
     "data": {
      "text/latex": [
       "\\begin{equation}\n",
       " - 8 T^{4} \\chi{_0} \\left( \\frac{1}{4} + \\gamma^{2} v^{2} \\right)\n",
       "\\end{equation}\n"
      ],
      "text/plain": [
       "-8χ₀*(T^4)*((1//4) + (v^2)*(γ^2))"
      ]
     },
     "execution_count": 9,
     "metadata": {},
     "output_type": "execute_result"
    }
   ],
   "source": [
    "simplify(substitute(T0_11, Dict(DIC)))"
   ]
  },
  {
   "cell_type": "markdown",
   "id": "b926959c",
   "metadata": {},
   "source": [
    "### 1st order"
   ]
  },
  {
   "cell_type": "markdown",
   "id": "9769b46e",
   "metadata": {},
   "source": [
    "$$\n",
    "    T_1^{ab} = \\frac{-80\\chi_1\\nu}{3\\mu^4}\\left(u^a u^b + \\frac{1}{4}g^{ab}\\right) - \\frac{20\\chi_1}{\\mu^4 T} u^{(a}r^{b)} + \\frac{2\\chi_1}{\\mu^3}\\tilde{\\tau}^{ab}\n",
    "$$"
   ]
  },
  {
   "cell_type": "code",
   "execution_count": 10,
   "id": "4df2de49",
   "metadata": {},
   "outputs": [
    {
     "data": {
      "text/latex": [
       "\\begin{equation}\n",
       "\\frac{2 t00 \\chi{_1}}{\\mu^{3}} - \\frac{\\frac{80}{3} \\nu \\chi{_1} \\left( \\frac{1}{4} g00 + u0^{2} \\right)}{\\mu^{4}} - \\frac{20 r0 u0 \\chi{_1}}{\\mu^{4} T}\n",
       "\\end{equation}\n"
      ],
      "text/plain": [
       "2t00*χ₁*(μ^-3) - ((80//3)*ν*χ₁*(μ^-4)*((1//4)*g00 + u0^2)) - ((20//1)*r0*u0*χ₁*(T^-1)*(μ^-4))"
      ]
     },
     "execution_count": 10,
     "metadata": {},
     "output_type": "execute_result"
    }
   ],
   "source": [
    "T1_00 = -80*χ₁*ν/(3*μ^4) * (u0*u0 + 1//4 * g00) - 20*χ₁/(T*μ^4)*u0*r0 + 2*χ₁/μ^3*t00"
   ]
  },
  {
   "cell_type": "code",
   "execution_count": 11,
   "id": "8c62e6dd",
   "metadata": {},
   "outputs": [
    {
     "data": {
      "text/latex": [
       "\\begin{equation}\n",
       " - 2.0 v^{2} T^{6} t11 \\chi{_1} - \\frac{80}{3} T^{8} \\nu \\chi{_1} \\left( \\frac{-1}{4} + \\gamma^{2} \\right) - 20 T^{7} r1 v \\gamma \\chi{_1}\n",
       "\\end{equation}\n"
      ],
      "text/plain": [
       "-2.0t11*χ₁*(T^6)*(v^2) - ((80//3)*ν*χ₁*(T^8)*(γ^2 - (1//4))) - ((20//1)*r1*v*γ*χ₁*(T^7))"
      ]
     },
     "execution_count": 11,
     "metadata": {},
     "output_type": "execute_result"
    }
   ],
   "source": [
    "simplify(substitute(T1_00, Dict(DIC)))"
   ]
  },
  {
   "cell_type": "code",
   "execution_count": 12,
   "id": "e9fba4c2",
   "metadata": {},
   "outputs": [
    {
     "data": {
      "text/latex": [
       "\\begin{equation}\n",
       "\\frac{2 t01 \\chi{_1}}{\\mu^{3}} - \\frac{10 \\chi{_1} \\left( r0 u1 + r1 u0 \\right)}{\\mu^{4} T} - \\frac{\\frac{80}{3} u0 u1 \\nu \\chi{_1}}{\\mu^{4}}\n",
       "\\end{equation}\n"
      ],
      "text/plain": [
       "2t01*χ₁*(μ^-3) - ((10//1)*χ₁*(T^-1)*(μ^-4)*(r0*u1 + r1*u0)) - ((80//3)*u0*u1*ν*χ₁*(μ^-4))"
      ]
     },
     "execution_count": 12,
     "metadata": {},
     "output_type": "execute_result"
    }
   ],
   "source": [
    "T1_01 = -80*χ₁*ν/(3*μ^4) * (u0*u1) - 10*χ₁/(T*μ^4)*(u0*r1+u1*r0) + 2*χ₁/μ^3*t01"
   ]
  },
  {
   "cell_type": "code",
   "execution_count": 13,
   "id": "339bd8bd",
   "metadata": {},
   "outputs": [
    {
     "data": {
      "text/latex": [
       "\\begin{equation}\n",
       " - 10 T^{7} \\chi{_1} \\left( r1 \\gamma + v^{2} r1 \\gamma \\right) - 2.0 T^{6} t11 v \\chi{_1} - \\frac{80}{3} \\gamma^{2} T^{8} v \\nu \\chi{_1}\n",
       "\\end{equation}\n"
      ],
      "text/plain": [
       "(-10//1)*χ₁*(T^7)*(r1*γ + r1*γ*(v^2)) - (2.0t11*v*χ₁*(T^6)) - ((80//3)*v*ν*χ₁*(T^8)*(γ^2))"
      ]
     },
     "execution_count": 13,
     "metadata": {},
     "output_type": "execute_result"
    }
   ],
   "source": [
    "simplify(substitute(T1_01, Dict(DIC)))"
   ]
  },
  {
   "cell_type": "code",
   "execution_count": 14,
   "id": "9fd53b18",
   "metadata": {},
   "outputs": [
    {
     "data": {
      "text/latex": [
       "\\begin{equation}\n",
       "\\frac{2 t11 \\chi{_1}}{\\mu^{3}} - \\frac{\\frac{80}{3} \\nu \\chi{_1} \\left( \\frac{1}{4} g11 + u1^{2} \\right)}{\\mu^{4}} - \\frac{20 r1 u1 \\chi{_1}}{\\mu^{4} T}\n",
       "\\end{equation}\n"
      ],
      "text/plain": [
       "2t11*χ₁*(μ^-3) - ((80//3)*ν*χ₁*(μ^-4)*((1//4)*g11 + u1^2)) - ((20//1)*r1*u1*χ₁*(T^-1)*(μ^-4))"
      ]
     },
     "execution_count": 14,
     "metadata": {},
     "output_type": "execute_result"
    }
   ],
   "source": [
    "T1_11 = -80*χ₁*ν/(3*μ^4) * (u1*u1 + 1//4 * g11) - 20*χ₁/(T*μ^4)*u1*r1 + 2*χ₁/μ^3*t11"
   ]
  },
  {
   "cell_type": "code",
   "execution_count": 15,
   "id": "8f18fcfa",
   "metadata": {},
   "outputs": [
    {
     "data": {
      "text/latex": [
       "\\begin{equation}\n",
       " - 2.0 T^{6} t11 \\chi{_1} - \\frac{80}{3} T^{8} \\nu \\chi{_1} \\left( \\frac{1}{4} + \\gamma^{2} v^{2} \\right) - 20 T^{7} r1 v \\gamma \\chi{_1}\n",
       "\\end{equation}\n"
      ],
      "text/plain": [
       "-2.0t11*χ₁*(T^6) - ((80//3)*ν*χ₁*(T^8)*((1//4) + (v^2)*(γ^2))) - ((20//1)*r1*v*γ*χ₁*(T^7))"
      ]
     },
     "execution_count": 15,
     "metadata": {},
     "output_type": "execute_result"
    }
   ],
   "source": [
    "simplify(substitute(T1_11, Dict(DIC)))"
   ]
  },
  {
   "cell_type": "markdown",
   "id": "225b69e7",
   "metadata": {},
   "source": [
    "### 2nd order"
   ]
  },
  {
   "cell_type": "markdown",
   "id": "dbbf51b0",
   "metadata": {},
   "source": [
    "$$\n",
    "    T_2^{ab} = \\frac{-42\\chi_2 X}{\\mu^4}\\left(u^a u^b + \\frac{1}{4}g^{ab}\\right) - \\frac{14\\chi_2}{\\mu^4 T} u^{(a}X^{b)} + \\frac{\\chi_2}{\\mu^3}\\tilde{Y}^{ab}\n",
    "$$"
   ]
  },
  {
   "cell_type": "markdown",
   "id": "f3254980",
   "metadata": {},
   "source": [
    "Scalar field $X$\n",
    "\n",
    "$$\n",
    "    X = \\frac{40}{3}\\frac{\\nu^2}{\\mu^2} - \\frac{10}{\\mu}r^a r_a + \\tilde{\\tau}^{ab}\\tilde{\\tau}_{ab}\n",
    "$$"
   ]
  },
  {
   "cell_type": "code",
   "execution_count": 16,
   "id": "3510e389",
   "metadata": {},
   "outputs": [
    {
     "data": {
      "text/latex": [
       "\\begin{equation}\n",
       "t00^{2} + t11^{2} + t22^{2} + t33^{2} - 2 t01^{2} - \\frac{10 \\left( r1^{2} - r0^{2} \\right)}{\\mu} + \\frac{\\frac{40}{3} \\nu^{2}}{\\mu^{2}}\n",
       "\\end{equation}\n"
      ],
      "text/plain": [
       "t00^2 + t11^2 + t22^2 + t33^2 + (40//3)*(μ^-2)*(ν^2) - (2(t01^2)) - (10(μ^-1)*(r1^2 - (r0^2)))"
      ]
     },
     "execution_count": 16,
     "metadata": {},
     "output_type": "execute_result"
    }
   ],
   "source": [
    "X = 40//3 * (ν/μ)^2 - 10/μ * (r1*r1-r0*r0) + (t00^2 + t11^2 + t22^2 + t33^2 - 2*t01^2)"
   ]
  },
  {
   "cell_type": "code",
   "execution_count": 17,
   "id": "a22cf204",
   "metadata": {},
   "outputs": [
    {
     "data": {
      "text/latex": [
       "\\begin{equation}\n",
       "t11^{2} + v^{4} t11^{2} + 10.0 T^{2} \\left( r1^{2} - v^{2} r1^{2} \\right) + \\frac{40}{3} \\nu^{2} T^{4} - 2 v^{2} t11^{2} + 2 \\left( -0.5 + 0.5 v^{2} \\right)^{2} t11^{2}\n",
       "\\end{equation}\n"
      ],
      "text/plain": [
       "t11^2 + (t11^2)*(v^4) + 10.0(T^2)*(r1^2 - ((r1^2)*(v^2))) + (40//3)*(T^4)*(ν^2) + 2(t11^2)*((0.5(v^2) - 0.5)^2) - (2(t11^2)*(v^2))"
      ]
     },
     "execution_count": 17,
     "metadata": {},
     "output_type": "execute_result"
    }
   ],
   "source": [
    "simplify(substitute(X, Dict(DIC)))"
   ]
  },
  {
   "cell_type": "markdown",
   "id": "fb42a637",
   "metadata": {},
   "source": [
    "Vector field $X^a$\n",
    "\n",
    "$$\n",
    "    X^a = \\frac{24}{\\mu^2}\\left(\\frac{10}{3}\\nu r^a - \\mu \\tilde{\\tau}^{ab}r_b\\right)\n",
    "$$"
   ]
  },
  {
   "cell_type": "code",
   "execution_count": 18,
   "id": "aef24691",
   "metadata": {},
   "outputs": [
    {
     "data": {
      "text/latex": [
       "\\begin{equation}\n",
       "\\frac{24 \\left( \\frac{10}{3} r0 \\nu - \\mu \\left( r1 t01 - r0 t00 \\right) \\right)}{\\mu^{2}}\n",
       "\\end{equation}\n"
      ],
      "text/plain": [
       "24(μ^-2)*((10//3)*r0*ν - (μ*(r1*t01 - (r0*t00))))"
      ]
     },
     "execution_count": 18,
     "metadata": {},
     "output_type": "execute_result"
    }
   ],
   "source": [
    "X0 = 24/μ^2 * (10//3 * ν * r0 - μ * (-t00*r0 + t01*r1))"
   ]
  },
  {
   "cell_type": "code",
   "execution_count": 19,
   "id": "ac497aa4",
   "metadata": {},
   "outputs": [
    {
     "data": {
      "text/latex": [
       "\\begin{equation}\n",
       "24 T^{4} \\left( \\frac{\\left( r1 t11 v - v^{3} r1 t11 \\right)}{T^{2}} + \\frac{10}{3} r1 v \\nu \\right)\n",
       "\\end{equation}\n"
      ],
      "text/plain": [
       "24(T^4)*((T^-2)*(r1*t11*v - (r1*t11*(v^3))) + (10//3)*r1*v*ν)"
      ]
     },
     "execution_count": 19,
     "metadata": {},
     "output_type": "execute_result"
    }
   ],
   "source": [
    "simplify(substitute(X0, Dict(DIC)))"
   ]
  },
  {
   "cell_type": "code",
   "execution_count": 20,
   "id": "4e2ab84a",
   "metadata": {},
   "outputs": [
    {
     "data": {
      "text/latex": [
       "\\begin{equation}\n",
       "\\frac{24 \\left( \\frac{10}{3} r1 \\nu - \\mu \\left( r1 t11 - r0 t01 \\right) \\right)}{\\mu^{2}}\n",
       "\\end{equation}\n"
      ],
      "text/plain": [
       "24(μ^-2)*((10//3)*r1*ν - (μ*(r1*t11 - (r0*t01))))"
      ]
     },
     "execution_count": 20,
     "metadata": {},
     "output_type": "execute_result"
    }
   ],
   "source": [
    "X1 = 24/μ^2 * (10//3 * ν * r1 - μ * (-t01*r0 + t11*r1))"
   ]
  },
  {
   "cell_type": "code",
   "execution_count": 21,
   "id": "bfbea321",
   "metadata": {},
   "outputs": [
    {
     "data": {
      "text/latex": [
       "\\begin{equation}\n",
       "24 T^{4} \\left( \\frac{\\left( r1 t11 - v^{2} r1 t11 \\right)}{T^{2}} + \\frac{10}{3} r1 \\nu \\right)\n",
       "\\end{equation}\n"
      ],
      "text/plain": [
       "24(T^4)*((T^-2)*(r1*t11 - (r1*t11*(v^2))) + (10//3)*r1*ν)"
      ]
     },
     "execution_count": 21,
     "metadata": {},
     "output_type": "execute_result"
    }
   ],
   "source": [
    "simplify(substitute(X1, Dict(DIC)))"
   ]
  },
  {
   "cell_type": "markdown",
   "id": "807f715c",
   "metadata": {},
   "source": [
    "Tensor field $\\tilde{Y}^{ab}$\n",
    "\n",
    "$$\n",
    "    \\tilde{Y}^{ab} = \\frac{24}{\\mu^3}\\left[\\left(\\frac{\\mu^2}{3}\\tilde{\\tau}^{ab}\\tilde{\\tau}_{ab}-\\frac{7\\mu}{3}r^a r_a\\right)\\left(u^a u^b + g^{ab}\\right) + \\frac{14}{3}\\mu\\nu\\tilde{\\tau}^{ab} + 7\\mu r^a r^b - \\mu^2 \\tilde{\\tau}^{ac}\\tilde{\\tau}^{b}{}_{c}\\right]\n",
    "$$"
   ]
  },
  {
   "cell_type": "code",
   "execution_count": 22,
   "id": "40c7ef38",
   "metadata": {},
   "outputs": [
    {
     "data": {
      "text/latex": [
       "\\begin{equation}\n",
       "t00^{2} + t11^{2} + t22^{2} + t33^{2} - 2 t01^{2}\n",
       "\\end{equation}\n"
      ],
      "text/plain": [
       "t00^2 + t11^2 + t22^2 + t33^2 - (2(t01^2))"
      ]
     },
     "execution_count": 22,
     "metadata": {},
     "output_type": "execute_result"
    }
   ],
   "source": [
    "tau_tau = t00^2 + t11^2 + t22^2 + t33^2 - 2*t01^2  # esto es tau^{ab}_tau_{ab}"
   ]
  },
  {
   "cell_type": "code",
   "execution_count": 23,
   "id": "12508705",
   "metadata": {},
   "outputs": [
    {
     "data": {
      "text/latex": [
       "\\begin{equation}\n",
       "t11^{2} + v^{4} t11^{2} - 2 v^{2} t11^{2} + 2 \\left( -0.5 + 0.5 v^{2} \\right)^{2} t11^{2}\n",
       "\\end{equation}\n"
      ],
      "text/plain": [
       "t11^2 + (t11^2)*(v^4) + 2(t11^2)*((0.5(v^2) - 0.5)^2) - (2(t11^2)*(v^2))"
      ]
     },
     "execution_count": 23,
     "metadata": {},
     "output_type": "execute_result"
    }
   ],
   "source": [
    "simplify(substitute(tau_tau, Dict(DIC)))"
   ]
  },
  {
   "cell_type": "code",
   "execution_count": 24,
   "id": "f9059f5d",
   "metadata": {},
   "outputs": [
    {
     "data": {
      "text/latex": [
       "\\begin{equation}\n",
       "\\frac{24 \\left( \\left( g00 + u0^{2} \\right) \\left(  - \\frac{7}{3} \\mu \\left( r1^{2} - r0^{2} \\right) + \\frac{1}{3} \\mu^{2} \\left( t00^{2} + t11^{2} + t22^{2} + t33^{2} - 2 t01^{2} \\right) \\right) + 7 r0^{2} \\mu - \\mu^{2} \\left( t01^{2} - t00^{2} \\right) + \\frac{14}{3} t00 \\mu \\nu \\right)}{\\mu^{3}}\n",
       "\\end{equation}\n"
      ],
      "text/plain": [
       "24((g00 + u0^2)*((1//3)*(t00^2 + t11^2 + t22^2 + t33^2 - (2(t01^2)))*(μ^2) - ((7//3)*μ*(r1^2 - (r0^2)))) + 7μ*(r0^2) + (14//3)*t00*μ*ν - ((μ^2)*(t01^2 - (t00^2))))*(μ^-3)"
      ]
     },
     "execution_count": 24,
     "metadata": {},
     "output_type": "execute_result"
    }
   ],
   "source": [
    "Y00 = 24/μ^3 * ((1//3*μ^2 * tau_tau - 7//3*μ* (-r0*r0 + r1*r1)) * (u0*u0 + g00) + 14//3 * μ * ν * t00 + 7*μ*r0*r0 - μ^2*(-t00^2+t01^2))"
   ]
  },
  {
   "cell_type": "code",
   "execution_count": 25,
   "id": "d9962129",
   "metadata": {},
   "outputs": [
    {
     "data": {
      "text/latex": [
       "\\begin{equation}\n",
       " - 24.0 T^{6} \\left( \\left( -1 + \\gamma^{2} \\right) \\left( \\frac{\\frac{1}{3} \\left( t11^{2} + v^{4} t11^{2} - 2 v^{2} t11^{2} + 2 \\left( -0.5 + 0.5 v^{2} \\right)^{2} t11^{2} \\right)}{T^{4}} + \\frac{\\frac{7}{3} \\left( r1^{2} - v^{2} r1^{2} \\right)}{T^{2}} \\right) - \\frac{\\left( v^{2} t11^{2} - v^{4} t11^{2} \\right)}{T^{4}} - \\frac{7 v^{2} r1^{2}}{T^{2}} - \\frac{\\frac{14}{3} v^{2} t11 \\nu}{T^{2}} \\right)\n",
       "\\end{equation}\n"
      ],
      "text/plain": [
       "-24.0((γ^2 - 1)*((1//3)*(t11^2 + (t11^2)*(v^4) + 2(t11^2)*((0.5(v^2) - 0.5)^2) - (2(t11^2)*(v^2)))*(T^-4) + (7//3)*(T^-2)*(r1^2 - ((r1^2)*(v^2)))) - ((T^-4)*((t11^2)*(v^2) - ((t11^2)*(v^4)))) - (7(T^-2)*(r1^2)*(v^2)) - ((14//3)*t11*ν*(T^-2)*(v^2)))*(T^6)"
      ]
     },
     "execution_count": 25,
     "metadata": {},
     "output_type": "execute_result"
    }
   ],
   "source": [
    "simplify(substitute(Y00, Dict(DIC)))"
   ]
  },
  {
   "cell_type": "code",
   "execution_count": 26,
   "id": "dace04ad",
   "metadata": {},
   "outputs": [
    {
     "data": {
      "text/latex": [
       "\\begin{equation}\n",
       "\\frac{24 \\left( u0 u1 \\left(  - \\frac{7}{3} \\mu \\left( r1^{2} - r0^{2} \\right) + \\frac{1}{3} \\mu^{2} \\left( t00^{2} + t11^{2} + t22^{2} + t33^{2} - 2 t01^{2} \\right) \\right) - \\mu^{2} \\left( t01 t11 - t00 t01 \\right) + 7 r0 r1 \\mu + \\frac{14}{3} t01 \\mu \\nu \\right)}{\\mu^{3}}\n",
       "\\end{equation}\n"
      ],
      "text/plain": [
       "24(u0*u1*((1//3)*(t00^2 + t11^2 + t22^2 + t33^2 - (2(t01^2)))*(μ^2) - ((7//3)*μ*(r1^2 - (r0^2)))) + 7r0*r1*μ + (14//3)*t01*μ*ν - ((μ^2)*(t01*t11 - (t00*t01))))*(μ^-3)"
      ]
     },
     "execution_count": 26,
     "metadata": {},
     "output_type": "execute_result"
    }
   ],
   "source": [
    "Y01 = 24/μ^3 * ((1//3*μ^2 * tau_tau - 7//3*μ* (-r0*r0 + r1*r1)) * (u0*u1) + 14//3 * μ * ν * t01 + 7*μ*r0*r1 - μ^2*(-t00*t01+t01*t11))"
   ]
  },
  {
   "cell_type": "code",
   "execution_count": 27,
   "id": "4400d121",
   "metadata": {},
   "outputs": [
    {
     "data": {
      "text/latex": [
       "\\begin{equation}\n",
       " - 24.0 T^{6} \\left( \\gamma^{2} v \\left( \\frac{\\frac{1}{3} \\left( t11^{2} + v^{4} t11^{2} - 2 v^{2} t11^{2} + 2 \\left( -0.5 + 0.5 v^{2} \\right)^{2} t11^{2} \\right)}{T^{4}} + \\frac{\\frac{7}{3} \\left( r1^{2} - v^{2} r1^{2} \\right)}{T^{2}} \\right) - \\frac{\\left( t11^{2} v - v^{3} t11^{2} \\right)}{T^{4}} - \\frac{7 r1^{2} v}{T^{2}} - \\frac{\\frac{14}{3} t11 v \\nu}{T^{2}} \\right)\n",
       "\\end{equation}\n"
      ],
      "text/plain": [
       "-24.0(v*(γ^2)*((1//3)*(t11^2 + (t11^2)*(v^4) + 2(t11^2)*((0.5(v^2) - 0.5)^2) - (2(t11^2)*(v^2)))*(T^-4) + (7//3)*(T^-2)*(r1^2 - ((r1^2)*(v^2)))) - ((T^-4)*(v*(t11^2) - ((t11^2)*(v^3)))) - (7v*(T^-2)*(r1^2)) - ((14//3)*t11*v*ν*(T^-2)))*(T^6)"
      ]
     },
     "execution_count": 27,
     "metadata": {},
     "output_type": "execute_result"
    }
   ],
   "source": [
    "simplify(substitute(Y01, Dict(DIC)))"
   ]
  },
  {
   "cell_type": "code",
   "execution_count": 28,
   "id": "4254bcc9",
   "metadata": {},
   "outputs": [
    {
     "data": {
      "text/latex": [
       "\\begin{equation}\n",
       "\\frac{24 \\left( \\left( g11 + u1^{2} \\right) \\left(  - \\frac{7}{3} \\mu \\left( r1^{2} - r0^{2} \\right) + \\frac{1}{3} \\mu^{2} \\left( t00^{2} + t11^{2} + t22^{2} + t33^{2} - 2 t01^{2} \\right) \\right) + 7 r1^{2} \\mu - \\mu^{2} \\left( t11^{2} - t01^{2} \\right) + \\frac{14}{3} t11 \\mu \\nu \\right)}{\\mu^{3}}\n",
       "\\end{equation}\n"
      ],
      "text/plain": [
       "24((g11 + u1^2)*((1//3)*(t00^2 + t11^2 + t22^2 + t33^2 - (2(t01^2)))*(μ^2) - ((7//3)*μ*(r1^2 - (r0^2)))) + 7μ*(r1^2) + (14//3)*t11*μ*ν - ((μ^2)*(t11^2 - (t01^2))))*(μ^-3)"
      ]
     },
     "execution_count": 28,
     "metadata": {},
     "output_type": "execute_result"
    }
   ],
   "source": [
    "Y11 = 24/μ^3 * ((1//3*μ^2 * tau_tau - 7//3*μ* (-r0*r0 + r1*r1)) * (u1*u1+g11) + 14//3 * μ * ν * t11 + 7*μ*r1*r1 - μ^2*(-t01*t01+t11*t11))"
   ]
  },
  {
   "cell_type": "code",
   "execution_count": 29,
   "id": "50c00522",
   "metadata": {},
   "outputs": [
    {
     "data": {
      "text/latex": [
       "\\begin{equation}\n",
       " - 24.0 T^{6} \\left( \\left( 1 + \\gamma^{2} v^{2} \\right) \\left( \\frac{\\frac{1}{3} \\left( t11^{2} + v^{4} t11^{2} - 2 v^{2} t11^{2} + 2 \\left( -0.5 + 0.5 v^{2} \\right)^{2} t11^{2} \\right)}{T^{4}} + \\frac{\\frac{7}{3} \\left( r1^{2} - v^{2} r1^{2} \\right)}{T^{2}} \\right) - \\frac{7 r1^{2}}{T^{2}} - \\frac{\\left( t11^{2} - v^{2} t11^{2} \\right)}{T^{4}} - \\frac{\\frac{14}{3} t11 \\nu}{T^{2}} \\right)\n",
       "\\end{equation}\n"
      ],
      "text/plain": [
       "-24.0((1 + (v^2)*(γ^2))*((1//3)*(t11^2 + (t11^2)*(v^4) + 2(t11^2)*((0.5(v^2) - 0.5)^2) - (2(t11^2)*(v^2)))*(T^-4) + (7//3)*(T^-2)*(r1^2 - ((r1^2)*(v^2)))) - (7(T^-2)*(r1^2)) - ((T^-4)*(t11^2 - ((t11^2)*(v^2)))) - ((14//3)*t11*ν*(T^-2)))*(T^6)"
      ]
     },
     "execution_count": 29,
     "metadata": {},
     "output_type": "execute_result"
    }
   ],
   "source": [
    "simplify(substitute(Y11, Dict(DIC)))"
   ]
  },
  {
   "cell_type": "markdown",
   "id": "05d96091",
   "metadata": {},
   "source": [
    "#### Ahora sí vamos con el 2do orden..."
   ]
  },
  {
   "cell_type": "markdown",
   "id": "be9667c0",
   "metadata": {},
   "source": [
    "$$\n",
    "    T_2^{ab} = \\frac{-42\\chi_2 X}{\\mu^4}\\left(u^a u^b + \\frac{1}{4}g^{ab}\\right) - \\frac{14\\chi_2}{\\mu^4 T} u^{(a}X^{b)} + \\frac{\\chi_2}{\\mu^3}\\tilde{Y}^{ab}\n",
    "$$"
   ]
  },
  {
   "cell_type": "code",
   "execution_count": 30,
   "id": "df5c259e",
   "metadata": {},
   "outputs": [
    {
     "data": {
      "text/latex": [
       "\\begin{equation}\n",
       "\\frac{24 \\chi{_2} \\left( \\left( g00 + u0^{2} \\right) \\left(  - \\frac{7}{3} \\mu \\left( r1^{2} - r0^{2} \\right) + \\frac{1}{3} \\mu^{2} \\left( t00^{2} + t11^{2} + t22^{2} + t33^{2} - 2 t01^{2} \\right) \\right) + 7 r0^{2} \\mu - \\mu^{2} \\left( t01^{2} - t00^{2} \\right) + \\frac{14}{3} t00 \\mu \\nu \\right)}{\\mu^{6}} - \\frac{42 \\chi{_2} \\left( t00^{2} + t11^{2} + t22^{2} + t33^{2} - 2 t01^{2} - \\frac{10 \\left( r1^{2} - r0^{2} \\right)}{\\mu} + \\frac{\\frac{40}{3} \\nu^{2}}{\\mu^{2}} \\right) \\left( \\frac{1}{4} g00 + u0^{2} \\right)}{\\mu^{4}} - \\frac{336 u0 \\chi{_2} \\left( \\frac{10}{3} r0 \\nu - \\mu \\left( r1 t01 - r0 t00 \\right) \\right)}{\\mu^{6} T}\n",
       "\\end{equation}\n"
      ],
      "text/plain": [
       "24χ₂*((g00 + u0^2)*((1//3)*(t00^2 + t11^2 + t22^2 + t33^2 - (2(t01^2)))*(μ^2) - ((7//3)*μ*(r1^2 - (r0^2)))) + 7μ*(r0^2) + (14//3)*t00*μ*ν - ((μ^2)*(t01^2 - (t00^2))))*(μ^-6) - (42χ₂*(t00^2 + t11^2 + t22^2 + t33^2 + (40//3)*(μ^-2)*(ν^2) - (2(t01^2)) - (10(μ^-1)*(r1^2 - (r0^2))))*(μ^-4)*((1//4)*g00 + u0^2)) - ((336//1)*u0*χ₂*(T^-1)*(μ^-6)*((10//3)*r0*ν - (μ*(r1*t01 - (r0*t00)))))"
      ]
     },
     "execution_count": 30,
     "metadata": {},
     "output_type": "execute_result"
    }
   ],
   "source": [
    "T2_00 = -42*χ₂*X/μ^4 * (u0*u0 + 1//4*g00) - 14*χ₂/(μ^4*T)*u0*X0 + χ₂/μ^3 * Y00"
   ]
  },
  {
   "cell_type": "code",
   "execution_count": 31,
   "id": "02cad577",
   "metadata": {},
   "outputs": [
    {
     "data": {
      "text/latex": [
       "\\begin{equation}\n",
       "24 T^{12} \\chi{_2} \\left( \\left( -1 + \\gamma^{2} \\right) \\left( \\frac{\\frac{1}{3} \\left( t11^{2} + v^{4} t11^{2} - 2 v^{2} t11^{2} + 2 \\left( -0.5 + 0.5 v^{2} \\right)^{2} t11^{2} \\right)}{T^{4}} + \\frac{\\frac{7}{3} \\left( r1^{2} - v^{2} r1^{2} \\right)}{T^{2}} \\right) - \\frac{\\left( v^{2} t11^{2} - v^{4} t11^{2} \\right)}{T^{4}} - \\frac{7 v^{2} r1^{2}}{T^{2}} - \\frac{\\frac{14}{3} v^{2} t11 \\nu}{T^{2}} \\right) - 336 T^{11} \\gamma \\chi{_2} \\left( \\frac{\\left( r1 t11 v - v^{3} r1 t11 \\right)}{T^{2}} + \\frac{10}{3} r1 v \\nu \\right) - 42 T^{8} \\chi{_2} \\left( \\frac{-1}{4} + \\gamma^{2} \\right) \\left( t11^{2} + v^{4} t11^{2} + 10.0 T^{2} \\left( r1^{2} - v^{2} r1^{2} \\right) + \\frac{40}{3} \\nu^{2} T^{4} - 2 v^{2} t11^{2} + 2 \\left( -0.5 + 0.5 v^{2} \\right)^{2} t11^{2} \\right)\n",
       "\\end{equation}\n"
      ],
      "text/plain": [
       "24χ₂*((γ^2 - 1)*((1//3)*(t11^2 + (t11^2)*(v^4) + 2(t11^2)*((0.5(v^2) - 0.5)^2) - (2(t11^2)*(v^2)))*(T^-4) + (7//3)*(T^-2)*(r1^2 - ((r1^2)*(v^2)))) - ((T^-4)*((t11^2)*(v^2) - ((t11^2)*(v^4)))) - (7(T^-2)*(r1^2)*(v^2)) - ((14//3)*t11*ν*(T^-2)*(v^2)))*(T^12) - ((336//1)*γ*χ₂*(T^11)*((T^-2)*(r1*t11*v - (r1*t11*(v^3))) + (10//3)*r1*v*ν)) - (42χ₂*(T^8)*(γ^2 - (1//4))*(t11^2 + (t11^2)*(v^4) + 10.0(T^2)*(r1^2 - ((r1^2)*(v^2))) + (40//3)*(T^4)*(ν^2) + 2(t11^2)*((0.5(v^2) - 0.5)^2) - (2(t11^2)*(v^2))))"
      ]
     },
     "execution_count": 31,
     "metadata": {},
     "output_type": "execute_result"
    }
   ],
   "source": [
    "simplify(substitute(T2_00, Dict(DIC)))"
   ]
  },
  {
   "cell_type": "code",
   "execution_count": 32,
   "id": "7249d068",
   "metadata": {},
   "outputs": [
    {
     "data": {
      "text/latex": [
       "\\begin{equation}\n",
       "\\frac{24 \\chi{_2} \\left( u0 u1 \\left(  - \\frac{7}{3} \\mu \\left( r1^{2} - r0^{2} \\right) + \\frac{1}{3} \\mu^{2} \\left( t00^{2} + t11^{2} + t22^{2} + t33^{2} - 2 t01^{2} \\right) \\right) - \\mu^{2} \\left( t01 t11 - t00 t01 \\right) + 7 r0 r1 \\mu + \\frac{14}{3} t01 \\mu \\nu \\right)}{\\mu^{6}} - \\frac{7 \\chi{_2} \\left( \\frac{24 u0 \\left( \\frac{10}{3} r1 \\nu - \\mu \\left( r1 t11 - r0 t01 \\right) \\right)}{\\mu^{2}} + \\frac{24 u1 \\left( \\frac{10}{3} r0 \\nu - \\mu \\left( r1 t01 - r0 t00 \\right) \\right)}{\\mu^{2}} \\right)}{\\mu^{4} T} - \\frac{42 u0 u1 \\chi{_2} \\left( t00^{2} + t11^{2} + t22^{2} + t33^{2} - 2 t01^{2} - \\frac{10 \\left( r1^{2} - r0^{2} \\right)}{\\mu} + \\frac{\\frac{40}{3} \\nu^{2}}{\\mu^{2}} \\right)}{\\mu^{4}}\n",
       "\\end{equation}\n"
      ],
      "text/plain": [
       "24χ₂*(u0*u1*((1//3)*(t00^2 + t11^2 + t22^2 + t33^2 - (2(t01^2)))*(μ^2) - ((7//3)*μ*(r1^2 - (r0^2)))) + 7r0*r1*μ + (14//3)*t01*μ*ν - ((μ^2)*(t01*t11 - (t00*t01))))*(μ^-6) - ((7//1)*χ₂*(T^-1)*(μ^-4)*(24u0*(μ^-2)*((10//3)*r1*ν - (μ*(r1*t11 - (r0*t01)))) + 24u1*(μ^-2)*((10//3)*r0*ν - (μ*(r1*t01 - (r0*t00)))))) - (42u0*u1*χ₂*(t00^2 + t11^2 + t22^2 + t33^2 + (40//3)*(μ^-2)*(ν^2) - (2(t01^2)) - (10(μ^-1)*(r1^2 - (r0^2))))*(μ^-4))"
      ]
     },
     "execution_count": 32,
     "metadata": {},
     "output_type": "execute_result"
    }
   ],
   "source": [
    "T2_01 = -42*χ₂*X/μ^4 * (u0*u1) - 7*χ₂/(μ^4*T)*(u0*X1 + u1*X0) + χ₂/μ^3 * Y01"
   ]
  },
  {
   "cell_type": "code",
   "execution_count": 33,
   "id": "5466bd1e",
   "metadata": {},
   "outputs": [
    {
     "data": {
      "text/latex": [
       "\\begin{equation}\n",
       "24 T^{12} \\chi{_2} \\left( \\gamma^{2} v \\left( \\frac{\\frac{1}{3} \\left( t11^{2} + v^{4} t11^{2} - 2 v^{2} t11^{2} + 2 \\left( -0.5 + 0.5 v^{2} \\right)^{2} t11^{2} \\right)}{T^{4}} + \\frac{\\frac{7}{3} \\left( r1^{2} - v^{2} r1^{2} \\right)}{T^{2}} \\right) - \\frac{\\left( t11^{2} v - v^{3} t11^{2} \\right)}{T^{4}} - \\frac{7 r1^{2} v}{T^{2}} - \\frac{\\frac{14}{3} t11 v \\nu}{T^{2}} \\right) - 7 T^{7} \\chi{_2} \\left( 24 T^{4} \\gamma \\left( \\frac{\\left( r1 t11 - v^{2} r1 t11 \\right)}{T^{2}} + \\frac{10}{3} r1 \\nu \\right) + 24 T^{4} v \\gamma \\left( \\frac{\\left( r1 t11 v - v^{3} r1 t11 \\right)}{T^{2}} + \\frac{10}{3} r1 v \\nu \\right) \\right) - 42 \\gamma^{2} T^{8} v \\chi{_2} \\left( t11^{2} + v^{4} t11^{2} + 10.0 T^{2} \\left( r1^{2} - v^{2} r1^{2} \\right) + \\frac{40}{3} \\nu^{2} T^{4} - 2 v^{2} t11^{2} + 2 \\left( -0.5 + 0.5 v^{2} \\right)^{2} t11^{2} \\right)\n",
       "\\end{equation}\n"
      ],
      "text/plain": [
       "24χ₂*(v*(γ^2)*((1//3)*(t11^2 + (t11^2)*(v^4) + 2(t11^2)*((0.5(v^2) - 0.5)^2) - (2(t11^2)*(v^2)))*(T^-4) + (7//3)*(T^-2)*(r1^2 - ((r1^2)*(v^2)))) - ((T^-4)*(v*(t11^2) - ((t11^2)*(v^3)))) - (7v*(T^-2)*(r1^2)) - ((14//3)*t11*v*ν*(T^-2)))*(T^12) - ((7//1)*χ₂*(T^7)*(24γ*(T^4)*((T^-2)*(r1*t11 - (r1*t11*(v^2))) + (10//3)*r1*ν) + 24v*γ*(T^4)*((T^-2)*(r1*t11*v - (r1*t11*(v^3))) + (10//3)*r1*v*ν))) - (42v*χ₂*(t11^2 + (t11^2)*(v^4) + 10.0(T^2)*(r1^2 - ((r1^2)*(v^2))) + (40//3)*(T^4)*(ν^2) + 2(t11^2)*((0.5(v^2) - 0.5)^2) - (2(t11^2)*(v^2)))*(T^8)*(γ^2))"
      ]
     },
     "execution_count": 33,
     "metadata": {},
     "output_type": "execute_result"
    }
   ],
   "source": [
    "simplify(substitute(T2_01, Dict(DIC)))"
   ]
  },
  {
   "cell_type": "code",
   "execution_count": 34,
   "id": "ce5b8609",
   "metadata": {},
   "outputs": [
    {
     "data": {
      "text/latex": [
       "\\begin{equation}\n",
       "\\frac{24 \\chi{_2} \\left( \\left( g11 + u1^{2} \\right) \\left(  - \\frac{7}{3} \\mu \\left( r1^{2} - r0^{2} \\right) + \\frac{1}{3} \\mu^{2} \\left( t00^{2} + t11^{2} + t22^{2} + t33^{2} - 2 t01^{2} \\right) \\right) + 7 r1^{2} \\mu - \\mu^{2} \\left( t11^{2} - t01^{2} \\right) + \\frac{14}{3} t11 \\mu \\nu \\right)}{\\mu^{6}} - \\frac{42 \\chi{_2} \\left( t00^{2} + t11^{2} + t22^{2} + t33^{2} - 2 t01^{2} - \\frac{10 \\left( r1^{2} - r0^{2} \\right)}{\\mu} + \\frac{\\frac{40}{3} \\nu^{2}}{\\mu^{2}} \\right) \\left( \\frac{1}{4} g11 + u1^{2} \\right)}{\\mu^{4}} - \\frac{336 u1 \\chi{_2} \\left( \\frac{10}{3} r1 \\nu - \\mu \\left( r1 t11 - r0 t01 \\right) \\right)}{\\mu^{6} T}\n",
       "\\end{equation}\n"
      ],
      "text/plain": [
       "24χ₂*((g11 + u1^2)*((1//3)*(t00^2 + t11^2 + t22^2 + t33^2 - (2(t01^2)))*(μ^2) - ((7//3)*μ*(r1^2 - (r0^2)))) + 7μ*(r1^2) + (14//3)*t11*μ*ν - ((μ^2)*(t11^2 - (t01^2))))*(μ^-6) - (42χ₂*(t00^2 + t11^2 + t22^2 + t33^2 + (40//3)*(μ^-2)*(ν^2) - (2(t01^2)) - (10(μ^-1)*(r1^2 - (r0^2))))*(μ^-4)*((1//4)*g11 + u1^2)) - ((336//1)*u1*χ₂*(T^-1)*(μ^-6)*((10//3)*r1*ν - (μ*(r1*t11 - (r0*t01)))))"
      ]
     },
     "execution_count": 34,
     "metadata": {},
     "output_type": "execute_result"
    }
   ],
   "source": [
    "T2_11 = -42*χ₂*X/μ^4 * (u1*u1 + 1//4*g11) - 14*χ₂/(μ^4*T)*u1*X1 + χ₂/μ^3 * Y11"
   ]
  },
  {
   "cell_type": "code",
   "execution_count": 35,
   "id": "f86df997",
   "metadata": {},
   "outputs": [
    {
     "data": {
      "text/latex": [
       "\\begin{equation}\n",
       "24 T^{12} \\chi{_2} \\left( \\left( 1 + \\gamma^{2} v^{2} \\right) \\left( \\frac{\\frac{1}{3} \\left( t11^{2} + v^{4} t11^{2} - 2 v^{2} t11^{2} + 2 \\left( -0.5 + 0.5 v^{2} \\right)^{2} t11^{2} \\right)}{T^{4}} + \\frac{\\frac{7}{3} \\left( r1^{2} - v^{2} r1^{2} \\right)}{T^{2}} \\right) - \\frac{7 r1^{2}}{T^{2}} - \\frac{\\left( t11^{2} - v^{2} t11^{2} \\right)}{T^{4}} - \\frac{\\frac{14}{3} t11 \\nu}{T^{2}} \\right) - 42 T^{8} \\chi{_2} \\left( \\frac{1}{4} + \\gamma^{2} v^{2} \\right) \\left( t11^{2} + v^{4} t11^{2} + 10.0 T^{2} \\left( r1^{2} - v^{2} r1^{2} \\right) + \\frac{40}{3} \\nu^{2} T^{4} - 2 v^{2} t11^{2} + 2 \\left( -0.5 + 0.5 v^{2} \\right)^{2} t11^{2} \\right) - 336 T^{11} v \\gamma \\chi{_2} \\left( \\frac{\\left( r1 t11 - v^{2} r1 t11 \\right)}{T^{2}} + \\frac{10}{3} r1 \\nu \\right)\n",
       "\\end{equation}\n"
      ],
      "text/plain": [
       "24χ₂*((1 + (v^2)*(γ^2))*((1//3)*(t11^2 + (t11^2)*(v^4) + 2(t11^2)*((0.5(v^2) - 0.5)^2) - (2(t11^2)*(v^2)))*(T^-4) + (7//3)*(T^-2)*(r1^2 - ((r1^2)*(v^2)))) - (7(T^-2)*(r1^2)) - ((T^-4)*(t11^2 - ((t11^2)*(v^2)))) - ((14//3)*t11*ν*(T^-2)))*(T^12) - (42χ₂*(T^8)*((1//4) + (v^2)*(γ^2))*(t11^2 + (t11^2)*(v^4) + 10.0(T^2)*(r1^2 - ((r1^2)*(v^2))) + (40//3)*(T^4)*(ν^2) + 2(t11^2)*((0.5(v^2) - 0.5)^2) - (2(t11^2)*(v^2)))) - ((336//1)*v*γ*χ₂*(T^11)*((T^-2)*(r1*t11 - (r1*t11*(v^2))) + (10//3)*r1*ν))"
      ]
     },
     "execution_count": 35,
     "metadata": {},
     "output_type": "execute_result"
    }
   ],
   "source": [
    "simplify(substitute(T2_11, Dict(DIC)))"
   ]
  },
  {
   "cell_type": "code",
   "execution_count": null,
   "id": "87140c05",
   "metadata": {},
   "outputs": [],
   "source": []
  },
  {
   "cell_type": "code",
   "execution_count": null,
   "id": "3c6f3ea8",
   "metadata": {},
   "outputs": [],
   "source": []
  },
  {
   "cell_type": "code",
   "execution_count": null,
   "id": "390e8618",
   "metadata": {},
   "outputs": [],
   "source": []
  },
  {
   "cell_type": "code",
   "execution_count": null,
   "id": "343c3223",
   "metadata": {},
   "outputs": [],
   "source": []
  },
  {
   "cell_type": "code",
   "execution_count": null,
   "id": "565a7ae3",
   "metadata": {},
   "outputs": [],
   "source": []
  }
 ],
 "metadata": {
  "kernelspec": {
   "display_name": "Julia 1.5.2",
   "language": "julia",
   "name": "julia-1.5"
  },
  "language_info": {
   "file_extension": ".jl",
   "mimetype": "application/julia",
   "name": "julia",
   "version": "1.5.2"
  }
 },
 "nbformat": 4,
 "nbformat_minor": 5
}
