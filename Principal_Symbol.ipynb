{
 "cells": [
  {
   "cell_type": "markdown",
   "metadata": {},
   "source": [
    "## Fluídos Conformes\n",
    "\n",
    "Código para testear la estabilidad alrededor de una solución de equilibrio.\n",
    "\n",
    "Las ecuaciones son:\n",
    "\n",
    "$(\\zeta^a, \\zeta^{ab})$ -> $f^j = (\\mu, v, x_i)$ -> $(-1,0,0,0,0)$\n",
    "\n",
    "$$\n",
    "\\partial_t c^j = \\partial_i F^{ij}(f) + I^j(f) = \\frac{\\partial F^{ij}}{\\partial f^k}\\partial_i f^k\n",
    "$$\n",
    "\n",
    "$$\n",
    "c^j = C^j(f) = (e, S, c_i)\n",
    "$$\n",
    "\n",
    "Lo que hacemos es tomar el jacobiano del flujo,\n",
    "\n",
    "$\\frac{\\partial F^i}{\\partial f^j}$ donde $f^j$ son las variables no conservativas para las cuales tenemos las expresiones del Flujo. \n",
    "A estas las multiplicamos por $[\\frac{\\partial c^k}{\\partial f^j}]^{-1}$.\n",
    "Tenemos así \n",
    "\n",
    "$$\n",
    "P^{il}{}_j := \\frac{\\partial F^{il}}{\\partial c^j} = \\frac{\\partial F^{il}}{\\partial f^k}\\frac{\\partial f^k}{\\partial c^j}.\n",
    "$$\n",
    "\n",
    "Evaluamos todo en el vector $(-1,0,0,0,0)$ o sea estamos en el frame con velocidad cero y todas las variables fuera de equilibrio también cero.\n",
    "\n",
    "Lo mismo hacemos con la fuente. \n",
    "Tenemos así el sistema linearizado en el punto de equilibrio en las variables conservativas. Multiplicamos $P^i{}_j$ por un número complejo cualquiera y para todos ellos los autovalores debieran tener parte real negativa o nula. Pero no es así..."
   ]
  },
  {
   "cell_type": "code",
   "execution_count": 1,
   "metadata": {},
   "outputs": [],
   "source": [
    "using Symbolics\n",
    "using LinearAlgebra"
   ]
  },
  {
   "cell_type": "code",
   "execution_count": 2,
   "metadata": {},
   "outputs": [
    {
     "data": {
      "text/plain": [
       "Flux (generic function with 1 method)"
      ]
     },
     "execution_count": 2,
     "metadata": {},
     "output_type": "execute_result"
    }
   ],
   "source": [
    "function Flux(flu,par)\n",
    "    χ = par\n",
    "    #flux = zeros(5)\n",
    "    μ = flu[1]  \n",
    "    T = (abs(μ))^(-1//2) \n",
    "    v = flu[2]\n",
    "    x1 = flu[3]\n",
    "    x2 = flu[4]\n",
    "    x3 = flu[5]\n",
    "    χ₀ = χ[1]\n",
    "    χ₁ = χ[2]\n",
    "    χ₂ = χ[3]\n",
    "    γ = (1 - v^2)^(-1//2)\n",
    "    τ = 2χ₁ * x3 * T / (γ*μ^3) + 24χ₂*(1//2*(1-v^2)x3^2 + 14//3 * x2^2 + 7/5*(1-v^2)x1*x3)/μ^5\n",
    "    ρ = -6χ₀ / μ^2 - 6χ₁*x1/(γ * μ^4 * T) + 42χ₂*(6//5 *x1^2 + 10γ^2*x2^2 + 3//2*(v^2-1)^2*x3^2)/(μ^5 * γ^2)\n",
    "    Q = 10χ₀ * x2 * T / μ^3 + 168χ₂ * x2 * (x1 - (v^2 - 1)x3)/(γ * μ^5)\n",
    "\n",
    "    #flux[1] = 4//3 * ρ*γ^2*v + γ*Q*(1+v^2)+ τ*v\n",
    "    #flux[2] = 4//3 * ρ*(γ^2*v^2 + 1//4) + 2v*γ*Q + τ\n",
    "    #flux[3] = χ₁*γ*v*(6*γ^2 - 1)/μ^3/T - 12χ₂*(v*(6γ^2 - 1)*x1 + (6γ^2*(2v^2 + 1)-1)*x2 + v*(v^2+2)*x3)/μ^4\n",
    "    #flux[4] = χ₁*γ*(6γ^2*v^2+1)/μ^3/T - 12χ₂*((6γ^2*v+1)*x1 + v*(6γ^2*(1+v^2)+1)*x2 + (2v^2+1)*x3)/μ^4\n",
    "    #flux[5] = 3χ₁*γ*v*(2γ^2*v^2+1)/μ^3/T - 12χ₂*(v*(6γ^2*v^2+3)*x1 +3*(1+6γ^2*v^2)*x2 + 3v*x3)/μ^4\n",
    "    #return -flux[:]\n",
    "    return [4//3 * ρ*γ^2*v + γ*Q*(1+v^2)+ τ*v; \n",
    "            4//3 * ρ*(γ^2*v^2 + 1//4) + 2v*γ*Q + τ;\n",
    "            χ₁*γ*v*(6*γ^2 - 1)/μ^3/T   - 12χ₂*(v*(6γ^2 - 1)*x1   + (6γ^2*(2v^2 + 1)-1)*x2 + v*(v^2+2)*x3)/μ^4;\n",
    "            χ₁*γ*(6γ^2*v^2+1)/μ^3/T    - 12χ₂*((6γ^2*v+1)*x1     + v*(6γ^2*(1+v^2)+1)*x2  + (2v^2+1)*x3)/μ^4;\n",
    "            3χ₁*γ*v*(2γ^2*v^2+1)/μ^3/T - 12χ₂*(v*(6γ^2*v^2+3)*x1 + 3*(1+6γ^2*v^2)*x2      + 3v*x3)/μ^4]\n",
    "end"
   ]
  },
  {
   "cell_type": "markdown",
   "metadata": {},
   "source": [
    "Chequeamos con los valores de Marcelo. "
   ]
  },
  {
   "cell_type": "code",
   "execution_count": 3,
   "metadata": {},
   "outputs": [
    {
     "data": {
      "text/plain": [
       "5-element Vector{Float64}:\n",
       "  0.0\n",
       "  8.881784197001252e-16\n",
       " -8.881784197001252e-16\n",
       "  0.0\n",
       "  4.440892098500626e-16"
      ]
     },
     "execution_count": 3,
     "metadata": {},
     "output_type": "execute_result"
    }
   ],
   "source": [
    "χ = [- 1.; - 2.; - 10.]\n",
    "flu = [- 5.; 0.5; 2.1; 0.5; 5.1]\n",
    "Flu = [5.921317694643806; 6.02302807825841; 3.713391378258412;  4.136735467078638; 3.444079555898864]\n",
    "\n",
    "Flux(flu,χ) - Flu"
   ]
  },
  {
   "cell_type": "markdown",
   "metadata": {},
   "source": [
    "Calculamos el Jacobiano"
   ]
  },
  {
   "cell_type": "code",
   "execution_count": 4,
   "metadata": {},
   "outputs": [],
   "source": [
    "@variables f[1:5], c[1:5], p[1:3]#, fl[1:5]\n",
    "\n",
    "JFS = Symbolics.jacobian(Flux(f,p),f);\n",
    "JF_exp = Symbolics.build_function(JFS, f, p);\n",
    "JFac = eval(JF_exp[1]);"
   ]
  },
  {
   "cell_type": "markdown",
   "metadata": {},
   "source": [
    "Definimos algunos valores para testear"
   ]
  },
  {
   "cell_type": "code",
   "execution_count": 5,
   "metadata": {},
   "outputs": [
    {
     "data": {
      "text/plain": [
       "3-element Vector{Float64}:\n",
       " -1.0\n",
       " -0.5\n",
       " -5.0"
      ]
     },
     "execution_count": 5,
     "metadata": {},
     "output_type": "execute_result"
    }
   ],
   "source": [
    "@variables x1, x2, x3\n",
    "\n",
    "flu=[-1.;0;0;0;0];\n",
    "con=ones(5)\n",
    "χ=[-1.,-0.5,-5.]"
   ]
  },
  {
   "cell_type": "markdown",
   "metadata": {},
   "source": [
    "El Jacobiano en equilibrio."
   ]
  },
  {
   "cell_type": "code",
   "execution_count": 6,
   "metadata": {},
   "outputs": [
    {
     "data": {
      "text/latex": [
       "\\begin{equation}\n",
       "\\left[\n",
       "\\begin{array}{ccccc}\n",
       "0.0 &  - 8 p{_1} & 0.0 &  - 10.0 p{_1} & 0.0 \\\\\n",
       " - 4.0 p{_1} & 0.0 &  - 2.0 p{_2} & 0.0 &  - 2.0 p{_2} \\\\\n",
       "0.0 &  - 5.0 p{_2} & -0.0 &  - 60.0 p{_3} & -0.0 \\\\\n",
       " - 2.5 p{_2} & 0.0 &  - 12 p{_3} & -0.0 &  - 12 p{_3} \\\\\n",
       "0.0 &  - 3.0 p{_2} & -0.0 &  - 36.0 p{_3} & -0.0 \\\\\n",
       "\\end{array}\n",
       "\\right]\n",
       "\\end{equation}\n"
      ],
      "text/plain": [
       "5×5 Matrix{Num}:\n",
       "  0.0    (-8//1)*p₁          0.0    -10.0p₁      0.0\n",
       " -4.0p₁           0.0       -2.0p₂    0.0       -2.0p₂\n",
       "  0.0            -5.0p₂     -0.0    -60.0p₃     -0.0\n",
       " -2.5p₂           0.0    -12p₃       -0.0    -12p₃\n",
       "  0.0            -3.0p₂     -0.0    -36.0p₃     -0.0"
      ]
     },
     "execution_count": 6,
     "metadata": {},
     "output_type": "execute_result"
    }
   ],
   "source": [
    "JFac(flu,p)"
   ]
  },
  {
   "cell_type": "markdown",
   "metadata": {},
   "source": [
    "Ahora traemos el Jacobiano de la transformación entre las variables fluido/conservativas."
   ]
  },
  {
   "cell_type": "code",
   "execution_count": 7,
   "metadata": {},
   "outputs": [],
   "source": [
    "include(\"inversion_ext.jl\");"
   ]
  },
  {
   "cell_type": "markdown",
   "metadata": {},
   "source": [
    "Para posterior uso calculamos las variables conservativas correspondientes al estado de equilibrio. Esto no me lo esperaba, pensaba que me darían c1=c2=c3=0!"
   ]
  },
  {
   "cell_type": "code",
   "execution_count": 8,
   "metadata": {},
   "outputs": [
    {
     "data": {
      "text/latex": [
       "\\begin{equation}\n",
       "\\left[\n",
       "\\begin{array}{c}\n",
       " - 6.0 p{_1} \\\\\n",
       "0.0 \\\\\n",
       " - 3.0 p{_2} \\\\\n",
       "0.0 \\\\\n",
       " - 3.0 p{_2} \\\\\n",
       "\\end{array}\n",
       "\\right]\n",
       "\\end{equation}\n"
      ],
      "text/plain": [
       "5-element Vector{Num}:\n",
       " -6.0p₁\n",
       "  0.0\n",
       " -3.0p₂\n",
       "  0.0\n",
       " -3.0p₂"
      ]
     },
     "execution_count": 8,
     "metadata": {},
     "output_type": "execute_result"
    }
   ],
   "source": [
    "con = F(flu,zeros(5), p)"
   ]
  },
  {
   "cell_type": "code",
   "execution_count": 9,
   "metadata": {},
   "outputs": [
    {
     "data": {
      "text/latex": [
       "\\begin{equation}\n",
       "\\left[\n",
       "\\begin{array}{ccccc}\n",
       " - 12.0 p{_1} & 0.0 &  - 6.0 p{_2} & 0.0 & 0.0 \\\\\n",
       "0.0 &  - 8 p{_1} & 0.0 &  - 10.0 p{_1} & 0.0 \\\\\n",
       " - 7.5 p{_2} & -0.0 &  - 36.0 p{_3} & -0.0 & 0.0 \\\\\n",
       "0.0 &  - 15.0 p{_2} & -0.0 &  - 60.0 p{_3} & -0.0 \\\\\n",
       " - 7.5 p{_2} & 0.0 &  - 12 p{_3} & -0.0 &  - 12 p{_3} \\\\\n",
       "\\end{array}\n",
       "\\right]\n",
       "\\end{equation}\n"
      ],
      "text/plain": [
       "5×5 Matrix{Num}:\n",
       " -12.0p₁           0.0       -6.0p₂    0.0        0.0\n",
       "   0.0    (-8//1)*p₁          0.0    -10.0p₁      0.0\n",
       "  -7.5p₂          -0.0      -36.0p₃   -0.0        0.0\n",
       "   0.0           -15.0p₂     -0.0    -60.0p₃     -0.0\n",
       "  -7.5p₂           0.0    -12p₃       -0.0    -12p₃"
      ]
     },
     "execution_count": 9,
     "metadata": {},
     "output_type": "execute_result"
    }
   ],
   "source": [
    "Jac(flu,con,p)"
   ]
  },
  {
   "cell_type": "code",
   "execution_count": 10,
   "metadata": {},
   "outputs": [
    {
     "data": {
      "text/plain": [
       "P (generic function with 1 method)"
      ]
     },
     "execution_count": 10,
     "metadata": {},
     "output_type": "execute_result"
    }
   ],
   "source": [
    "P(flu,c,p) = Jac(flu,c,p) \\ JFac(flu,p)"
   ]
  },
  {
   "cell_type": "code",
   "execution_count": 11,
   "metadata": {
    "tags": []
   },
   "outputs": [
    {
     "data": {
      "text/latex": [
       "\\begin{equation}\n",
       "\\left[\n",
       "\\begin{array}{ccccc}\n",
       "0.0 & 0.6666666666666666 & 0.0 &  - \\frac{0.08333333333333333 \\left(  - 10.0 p{_1} + \\frac{6.0 p{_2} \\left( 6.25 p{_2} - 60.0 p{_3} \\right)}{\\left(  - 36.0 p{_3} + \\frac{3.75 p{_2}^{2}}{p{_1}} \\right)} \\right)}{p{_1}} & 0.0 \\\\\n",
       " - \\frac{\\frac{1}{8} \\left(  - 4.0 p{_1} + \\frac{50.0 p{_1} p{_2}}{\\left( 18.75 p{_2} - 60.0 p{_3} \\right)} \\right)}{p{_1}} & 0.0 &  - \\frac{\\frac{1}{8} \\left(  - 2.0 p{_2} + \\frac{10.0 p{_1} \\left(  - 12 p{_3} + \\frac{3.75 p{_2}^{2}}{p{_1}} \\right)}{\\left( 18.75 p{_2} - 60.0 p{_3} \\right)} \\right)}{p{_1}} & 0.0 &  - \\frac{\\frac{1}{8} \\left(  - 2.0 p{_2} + \\frac{10.0 p{_1} \\left(  - 12 p{_3} + \\frac{3.75 p{_2}^{2}}{p{_1}} \\right)}{\\left( 18.75 p{_2} - 60.0 p{_3} \\right)} \\right)}{p{_1}} \\\\\n",
       "0.0 & 0 & -0.0 & \\frac{\\left( 6.25 p{_2} - 60.0 p{_3} \\right)}{\\left(  - 36.0 p{_3} + \\frac{3.75 p{_2}^{2}}{p{_1}} \\right)} & -0.0 \\\\\n",
       "\\frac{5.0 p{_2}}{\\left( 18.75 p{_2} - 60.0 p{_3} \\right)} & 0.0 & \\frac{\\left(  - 12 p{_3} + \\frac{3.75 p{_2}^{2}}{p{_1}} \\right)}{\\left( 18.75 p{_2} - 60.0 p{_3} \\right)} & -0.0 & \\frac{\\left(  - 12 p{_3} + \\frac{3.75 p{_2}^{2}}{p{_1}} \\right)}{\\left( 18.75 p{_2} - 60.0 p{_3} \\right)} \\\\\n",
       "0.0 &  - \\frac{0.16666666666666666 p{_2}}{p{_3}} & -0.0 &  - \\frac{\\frac{1}{12} \\left( 6.25 p{_2} - 36.0 p{_3} - \\frac{\\left( 6.25 p{_2} - 60.0 p{_3} \\right) \\left(  - 12 p{_3} + \\frac{3.75 p{_2}^{2}}{p{_1}} \\right)}{\\left(  - 36.0 p{_3} + \\frac{3.75 p{_2}^{2}}{p{_1}} \\right)} \\right)}{p{_3}} & -0.0 \\\\\n",
       "\\end{array}\n",
       "\\right]\n",
       "\\end{equation}\n"
      ],
      "text/plain": [
       "5×5 Matrix{Num}:\n",
       "                   0.0                                            …                    0.0\n",
       " (-1//8)*(p₁^-1)*(50.0p₁*p₂*((18.75p₂ - (60.0p₃))^-1) - (4.0p₁))     (-1//8)*(p₁^-1)*(10.0p₁*(3.75(p₁^-1)*(p₂^2) - (12p₃))*((18.75p₂ - (60.0p₃))^-1) - (2.0p₂))\n",
       "                   0.0                                                                -0.0\n",
       "                   5.0p₂*((18.75p₂ - (60.0p₃))^-1)                                    (3.75(p₁^-1)*(p₂^2) - (12p₃))*((18.75p₂ - (60.0p₃))^-1)\n",
       "                   0.0                                                                -0.0"
      ]
     },
     "execution_count": 11,
     "metadata": {},
     "output_type": "execute_result"
    }
   ],
   "source": [
    "P(flu,c,p)"
   ]
  },
  {
   "cell_type": "code",
   "execution_count": 12,
   "metadata": {},
   "outputs": [
    {
     "data": {
      "text/latex": [
       "\\begin{equation}\n",
       "\\left[\n",
       "\\begin{array}{ccccc}\n",
       "0.0 &  - \\frac{\\frac{1}{8} \\left(  - 4.0 p{_1} + \\frac{50.0 p{_1} p{_2}}{\\left( 18.75 p{_2} - 60.0 p{_3} \\right)} \\right)}{p{_1}} & 0.0 & \\frac{5.0 p{_2}}{\\left( 18.75 p{_2} - 60.0 p{_3} \\right)} & 0.0 \\\\\n",
       "0.6666666666666666 & 0.0 & 0 & 0.0 &  - \\frac{0.16666666666666666 p{_2}}{p{_3}} \\\\\n",
       "0.0 &  - \\frac{\\frac{1}{8} \\left(  - 2.0 p{_2} + \\frac{10.0 p{_1} \\left(  - 12 p{_3} + \\frac{3.75 p{_2}^{2}}{p{_1}} \\right)}{\\left( 18.75 p{_2} - 60.0 p{_3} \\right)} \\right)}{p{_1}} & -0.0 & \\frac{\\left(  - 12 p{_3} + \\frac{3.75 p{_2}^{2}}{p{_1}} \\right)}{\\left( 18.75 p{_2} - 60.0 p{_3} \\right)} & -0.0 \\\\\n",
       " - \\frac{0.08333333333333333 \\left(  - 10.0 p{_1} + \\frac{6.0 p{_2} \\left( 6.25 p{_2} - 60.0 p{_3} \\right)}{\\left(  - 36.0 p{_3} + \\frac{3.75 p{_2}^{2}}{p{_1}} \\right)} \\right)}{p{_1}} & 0.0 & \\frac{\\left( 6.25 p{_2} - 60.0 p{_3} \\right)}{\\left(  - 36.0 p{_3} + \\frac{3.75 p{_2}^{2}}{p{_1}} \\right)} & -0.0 &  - \\frac{\\frac{1}{12} \\left( 6.25 p{_2} - 36.0 p{_3} - \\frac{\\left( 6.25 p{_2} - 60.0 p{_3} \\right) \\left(  - 12 p{_3} + \\frac{3.75 p{_2}^{2}}{p{_1}} \\right)}{\\left(  - 36.0 p{_3} + \\frac{3.75 p{_2}^{2}}{p{_1}} \\right)} \\right)}{p{_3}} \\\\\n",
       "0.0 &  - \\frac{\\frac{1}{8} \\left(  - 2.0 p{_2} + \\frac{10.0 p{_1} \\left(  - 12 p{_3} + \\frac{3.75 p{_2}^{2}}{p{_1}} \\right)}{\\left( 18.75 p{_2} - 60.0 p{_3} \\right)} \\right)}{p{_1}} & -0.0 & \\frac{\\left(  - 12 p{_3} + \\frac{3.75 p{_2}^{2}}{p{_1}} \\right)}{\\left( 18.75 p{_2} - 60.0 p{_3} \\right)} & -0.0 \\\\\n",
       "\\end{array}\n",
       "\\right]\n",
       "\\end{equation}\n"
      ],
      "text/plain": [
       "5×5 adjoint(::Matrix{Num}) with eltype Num:\n",
       "  0.0                                                                                           …            0.0\n",
       "  0.666667                                                                                                  -0.166667p₂*(p₃^-1)\n",
       "  0.0                                                                                                       -0.0\n",
       " -0.0833333(p₁^-1)*(6.0p₂*(6.25p₂ - (60.0p₃))*((3.75(p₁^-1)*(p₂^2) - (36.0p₃))^-1) - (10.0p₁))     (-1//12)*(6.25p₂ - (36.0p₃) - ((6.25p₂ - (60.0p₃))*(3.75(p₁^-1)*(p₂^2) - (12p₃))*((3.75(p₁^-1)*(p₂^2) - (36.0p₃))^-1)))*(p₃^-1)\n",
       "  0.0                                                                                                       -0.0"
      ]
     },
     "execution_count": 12,
     "metadata": {},
     "output_type": "execute_result"
    }
   ],
   "source": [
    "P(flu,c,p)'"
   ]
  },
  {
   "cell_type": "code",
   "execution_count": 13,
   "metadata": {},
   "outputs": [
    {
     "data": {
      "text/latex": [
       "\\begin{equation}\n",
       " - \\frac{0.08333333333333333 \\left(  - 10.0 p{_1} + \\frac{6.0 p{_2} \\left( 6.25 p{_2} - 60.0 p{_3} \\right)}{\\left(  - 36.0 p{_3} + \\frac{3.75 p{_2}^{2}}{p{_1}} \\right)} \\right) \\left(  - 36.0 p{_3} + \\frac{3.75 p{_2}^{2}}{p{_1}} \\right)}{\\left( 6.25 p{_2} - 60.0 p{_3} \\right) p{_1}}\n",
       "\\end{equation}\n"
      ],
      "text/plain": [
       "-0.08333333333333333(p₁^-1)*(6.0p₂*(6.25p₂ - (60.0p₃))*((3.75(p₁^-1)*(p₂^2) - (36.0p₃))^-1) - (10.0p₁))*(3.75(p₁^-1)*(p₂^2) - (36.0p₃))*((6.25p₂ - (60.0p₃))^-1)"
      ]
     },
     "execution_count": 13,
     "metadata": {},
     "output_type": "execute_result"
    }
   ],
   "source": [
    "Ratio = P(flu,c,p)'[4,1]/P(flu,c,p)'[4,3]"
   ]
  },
  {
   "cell_type": "code",
   "execution_count": 14,
   "metadata": {},
   "outputs": [],
   "source": [
    "#par_f = [-1,-0.5,-10]\n",
    "#substitute(P(flu,c,p)'[4,1]/P(flu,c,p)'[4,3], (Dict(p => par_f),))\n"
   ]
  },
  {
   "cell_type": "code",
   "execution_count": 15,
   "metadata": {},
   "outputs": [
    {
     "data": {
      "text/latex": [
       "\\begin{equation}\n",
       "\\frac{\\left( 120 p{_1} \\left(  - 36 p{_3} - \\frac{3.75 p{_2}^{2}}{p{_1}} \\right) + 72 p{_2} \\left( 6.25 p{_2} - 60 p{_3} \\right) \\right)}{\\left( 6.25 p{_2} - 60 p{_3} \\right) p{_1}}\n",
       "\\end{equation}\n"
      ],
      "text/plain": [
       "(p₁^-1)*((6.25p₂ - (60p₃))^-1)*(120p₁*(-36p₃ - (3.75(p₁^-1)*(p₂^2))) + 72p₂*(6.25p₂ - (60p₃)))"
      ]
     },
     "execution_count": 15,
     "metadata": {},
     "output_type": "execute_result"
    }
   ],
   "source": [
    "simplify(12*(10p[1]*(-36p[3] - 3.75p[2]^2/p[1]) + 6p[2]*(6.25p[2] - 60p[3])) / (6.25p[2] - 60p[3]) / p[1])"
   ]
  },
  {
   "cell_type": "code",
   "execution_count": 16,
   "metadata": {},
   "outputs": [
    {
     "data": {
      "text/plain": [
       "0.2513089005235602"
      ]
     },
     "execution_count": 16,
     "metadata": {},
     "output_type": "execute_result"
    }
   ],
   "source": [
    "par_f = [-1,-0.5,-10]\n",
    "P(flu,c,par_f)'[4,1]/P(flu,c,par_f)'[4,3]"
   ]
  },
  {
   "cell_type": "markdown",
   "metadata": {},
   "source": [
    "Miramos primero el caso donde las variables están desacopladas, es decir con $\\chi_1=0$."
   ]
  },
  {
   "cell_type": "code",
   "execution_count": 17,
   "metadata": {},
   "outputs": [
    {
     "data": {
      "text/plain": [
       "5×5 Matrix{Float64}:\n",
       " 0.0  0.666667   0.0   0.833333   0.0\n",
       " 0.5  0.0       -0.25  0.0       -0.25\n",
       " 0.0  0.0        0.0   1.66667    0.0\n",
       " 0.0  0.0        0.2   0.0        0.2\n",
       " 0.0  0.0        0.0   1.33333    0.0"
      ]
     },
     "execution_count": 17,
     "metadata": {},
     "output_type": "execute_result"
    }
   ],
   "source": [
    "P(flu,c,[-1,0,-1])"
   ]
  },
  {
   "cell_type": "markdown",
   "metadata": {},
   "source": [
    "Vemos que se corresponde con la siguiente matriz racional."
   ]
  },
  {
   "cell_type": "code",
   "execution_count": 18,
   "metadata": {},
   "outputs": [
    {
     "data": {
      "text/plain": [
       "5×5 Matrix{Rational{Int64}}:\n",
       " 0//1  2//3   0//1  5//6   0//1\n",
       " 1//2  0//1  -1//4  0//1  -1//4\n",
       " 0//1  0//1   0//1  5//3   0//1\n",
       " 0//1  0//1   1//5  0//1   1//5\n",
       " 0//1  0//1   0//1  4//3   0//1"
      ]
     },
     "execution_count": 18,
     "metadata": {},
     "output_type": "execute_result"
    }
   ],
   "source": [
    "M = [0 2//3 0 5//6 0;\n",
    "    1//2 0 -1//4 0 -1//4;\n",
    "    0 0 0 5//3 0;\n",
    "    0 0 1//5 0 1//5;\n",
    "    0 0 0 4//3 0]"
   ]
  },
  {
   "cell_type": "code",
   "execution_count": 19,
   "metadata": {},
   "outputs": [
    {
     "data": {
      "text/plain": [
       "5×5 Matrix{Float64}:\n",
       " 0.0  0.0  0.0  -1.11022e-16  0.0\n",
       " 0.0  0.0  0.0   0.0          0.0\n",
       " 0.0  0.0  0.0  -2.22045e-16  0.0\n",
       " 0.0  0.0  0.0   0.0          0.0\n",
       " 0.0  0.0  0.0   0.0          0.0"
      ]
     },
     "execution_count": 19,
     "metadata": {},
     "output_type": "execute_result"
    }
   ],
   "source": [
    "P(flu,c,[-1,0,-1]) - M"
   ]
  },
  {
   "cell_type": "code",
   "execution_count": 20,
   "metadata": {},
   "outputs": [
    {
     "data": {
      "text/plain": [
       "5-element Vector{Float64}:\n",
       " -0.7745966692414842\n",
       " -0.5773502691896256\n",
       "  3.0357660829594124e-18\n",
       "  0.5773502691896258\n",
       "  0.7745966692414837"
      ]
     },
     "execution_count": 20,
     "metadata": {},
     "output_type": "execute_result"
    }
   ],
   "source": [
    "eigvals(M)"
   ]
  },
  {
   "cell_type": "code",
   "execution_count": 21,
   "metadata": {},
   "outputs": [
    {
     "data": {
      "text/plain": [
       "-1.5543122344752192e-15"
      ]
     },
     "execution_count": 21,
     "metadata": {},
     "output_type": "execute_result"
    }
   ],
   "source": [
    "1/0.7745966692414837^2 - 5/3"
   ]
  },
  {
   "cell_type": "code",
   "execution_count": 22,
   "metadata": {},
   "outputs": [
    {
     "data": {
      "text/plain": [
       "-8.881784197001252e-16"
      ]
     },
     "execution_count": 22,
     "metadata": {},
     "output_type": "execute_result"
    }
   ],
   "source": [
    "1/0.5773502691896258^2 - 3"
   ]
  },
  {
   "cell_type": "code",
   "execution_count": 23,
   "metadata": {},
   "outputs": [
    {
     "data": {
      "text/plain": [
       "5-element Vector{Float64}:\n",
       " -0.8013317157511906\n",
       " -0.5915355536961237\n",
       " -9.375535133588242e-18\n",
       "  0.5915355536961235\n",
       "  0.8013317157511908"
      ]
     },
     "execution_count": 23,
     "metadata": {},
     "output_type": "execute_result"
    }
   ],
   "source": [
    "eigvals(P(flu,c,[-1,-0.5,-1]))"
   ]
  },
  {
   "cell_type": "markdown",
   "metadata": {},
   "source": [
    "Hacemos lo mismo para la fuente."
   ]
  },
  {
   "cell_type": "code",
   "execution_count": 24,
   "metadata": {},
   "outputs": [
    {
     "data": {
      "text/plain": [
       "Is (generic function with 1 method)"
      ]
     },
     "execution_count": 24,
     "metadata": {},
     "output_type": "execute_result"
    }
   ],
   "source": [
    "function Is(flu, χ, ξ)\n",
    "    #(χ, ξ) = par \n",
    "    μ = flu[1] \n",
    "    χ₀= χ[1]\n",
    "    χ₁= -χ[2] # lo hacemos positivo\n",
    "    κ = χ₀*ξ[1]/χ₁^2 # OK \n",
    "    λ = χ₀*ξ[2]/χ₁^2  # OK\n",
    "    η = χ₀*ξ[3]/χ₁^2\n",
    "    T = (abs(μ))^(-1//2) # use μ positive, so I changed μ -> -μ\n",
    "    v = flu[2]\n",
    "    x1 = flu[3]\n",
    "    x2 = flu[4]\n",
    "    x3 = flu[5]\n",
    "    γ = (1. - v^2)^(-1//2)\n",
    "    #Is[1] = 0.\n",
    "    #Is[2] = 0.\n",
    "    #Is[3] = -2//5*a*(γ^2-1//4)*T*x1/(γ*λ) - 2γ*v*x2/T/κ - v^2*T*x3/(γ*λ)\n",
    "    #Is[4] = -2//5*a*γ*v*T*x1/λ - γ*(v^2+1)*x2/T/κ - v*T*x3/(γ*λ)\n",
    "    #Is[5] = -2//5*a*(γ^2*v^2+1//4)*T*x1/λ/γ - 2γ*v*x2/T/κ - T*x3/(γ*λ)\n",
    "    #return Is[:]      #(1 - ℯ^(-5. *t))\n",
    "    return [0.;\n",
    "            0.;\n",
    "            -(3//10*(γ^2-1//4)*x1/(γ*λ)   + 2γ*v*x2/κ      - v^2*x3/(γ*η))/μ^4/T;\n",
    "            -(3//10*γ*v*x1/λ              + γ*(v^2+1)*x2/κ - v*x3/(γ*η))/μ^4/T;\n",
    "            -(3//10*(γ^2*v^2+1//4)*x1/λ/γ + 2γ*v*x2/κ      - x3/(γ*η))/μ^4/T;\n",
    "            #-2//5*(γ^2-1//4)*T*x1/(γ*λ) - 2γ*v*x2/T/κ - v^2*T*x3/(γ*η);\n",
    "            #-2//5*γ*v*T*x1/λ - γ*(v^2+1)*x2/T/κ - v*T*x3/(γ*η);\n",
    "            #-2//5*(γ^2*v^2+1//4)*T*x1/η/γ - 2γ*v*x2/T/κ + T*x3/(γ*η)\n",
    "            #-2//5*(γ^2-1//4)*T*x1/(γ*λ) - 2γ*v*x2/T/κ - v^2*T*x3/(γ*λ);\n",
    "            #-2//5*γ*v*T*x1/λ - γ*(v^2+1)*x2/T/κ - v*T*x3/(γ*λ);\n",
    "            #-2//5*(γ^2*v^2+1//4)*T*x1/λ/γ - 2γ*v*x2/T/κ - T*x3/(γ*λ)\n",
    "            ]\n",
    "end"
   ]
  },
  {
   "cell_type": "markdown",
   "metadata": {},
   "source": [
    "La chequeamos con valores de Marcelo."
   ]
  },
  {
   "cell_type": "code",
   "execution_count": 25,
   "metadata": {},
   "outputs": [
    {
     "data": {
      "text/plain": [
       "5-element Vector{Float64}:\n",
       " 0.0\n",
       " 0.0\n",
       " 0.4611712370646667\n",
       " 0.5253174326038652\n",
       " 0.32649342803881654"
      ]
     },
     "execution_count": 25,
     "metadata": {},
     "output_type": "execute_result"
    }
   ],
   "source": [
    "t=0\n",
    "flu = [- 5.; 0.5; 2.1; 0.5; 5.1]\n",
    "par = [-1., -2., -10.]\n",
    "par_s = [1/15π, 1/1π, 1/1π]\n",
    "I_c = [0.; 0.; - 0.09488575328013785; - 0.12155655385334033; - 0.12140081195218293]\n",
    "Is(flu,par,par_s) - I_c"
   ]
  },
  {
   "cell_type": "code",
   "execution_count": 26,
   "metadata": {},
   "outputs": [],
   "source": [
    "@variables q[1:3]  \n",
    "Is(f,p,q);"
   ]
  },
  {
   "cell_type": "code",
   "execution_count": 27,
   "metadata": {},
   "outputs": [],
   "source": [
    "JSS = Symbolics.jacobian(Is(f,p,q),f);"
   ]
  },
  {
   "cell_type": "code",
   "execution_count": 28,
   "metadata": {},
   "outputs": [],
   "source": [
    "JS_exp = Symbolics.build_function(JSS, f, p,q);"
   ]
  },
  {
   "cell_type": "code",
   "execution_count": 29,
   "metadata": {},
   "outputs": [],
   "source": [
    "JSac = eval(JS_exp[1]);"
   ]
  },
  {
   "cell_type": "code",
   "execution_count": 50,
   "metadata": {},
   "outputs": [
    {
     "data": {
      "text/plain": [
       "5-element Vector{Float64}:\n",
       " -188.49555921538757\n",
       "   -2.8274333882308134\n",
       "    0.0\n",
       "    0.0\n",
       "  125.66370614359172"
      ]
     },
     "execution_count": 50,
     "metadata": {},
     "output_type": "execute_result"
    }
   ],
   "source": [
    "flu=[1.;0;0;0;0];\n",
    "con=ones(5)\n",
    "par_f = [-1,-2,-10]\n",
    "#par_f = [-1,-0.5,-10]\n",
    "par_s = [-1/15π, -1/1π, -0.1/1π]\n",
    "JSac(flu,par_f,par_s)\n",
    "eigvals(JSac(flu,par_f,par_s)) #esta no es la matríz correcta para sacarle los autovalores"
   ]
  },
  {
   "cell_type": "code",
   "execution_count": 51,
   "metadata": {},
   "outputs": [
    {
     "data": {
      "text/plain": [
       "II (generic function with 1 method)"
      ]
     },
     "execution_count": 51,
     "metadata": {},
     "output_type": "execute_result"
    }
   ],
   "source": [
    "II(flu,c,p,q) = Jac(flu,c,p) \\ JSac(flu,p,q)"
   ]
  },
  {
   "cell_type": "code",
   "execution_count": 52,
   "metadata": {},
   "outputs": [],
   "source": [
    "II(flu,c,p,q);"
   ]
  },
  {
   "cell_type": "code",
   "execution_count": 254,
   "metadata": {},
   "outputs": [
    {
     "data": {
      "text/plain": [
       "5-element Vector{ComplexF64}:\n",
       "   -0.6399139975304516 + 4.4128832455907966e-17im\n",
       "  -0.05807870563768683 - 6.087825173306374im\n",
       " -0.058078705637686245 + 6.087825173306366im\n",
       "   0.02575844818036852 - 7.138451807429896im\n",
       "  0.025758448180373428 + 7.138451807429888im"
      ]
     },
     "execution_count": 254,
     "metadata": {},
     "output_type": "execute_result"
    }
   ],
   "source": [
    "par_f = [-1,-2,-10]\n",
    "par_s = [-1/15π, -1/1π, -0.1/1π]\n",
    "eigvals(10*im .* P(flu,c,par_f) - II(flu,c,par_f,par_s))"
   ]
  },
  {
   "cell_type": "code",
   "execution_count": 159,
   "metadata": {},
   "outputs": [
    {
     "data": {
      "text/plain": [
       "5-element Vector{Float64}:\n",
       " -0.06544984694978735\n",
       " -0.0\n",
       "  0.0\n",
       "  0.0004895988551049027\n",
       "  0.019946620022792336"
      ]
     },
     "execution_count": 159,
     "metadata": {},
     "output_type": "execute_result"
    }
   ],
   "source": [
    "eigvals(-II(flu,c,par_f,par_s)) #notemos que esta tiene dos autovalor positivos!"
   ]
  },
  {
   "cell_type": "markdown",
   "metadata": {},
   "source": [
    "Vemos que un par de autovalores tiene parte real positiva. "
   ]
  },
  {
   "cell_type": "code",
   "execution_count": 160,
   "metadata": {
    "tags": []
   },
   "outputs": [
    {
     "data": {
      "text/plain": [
       "5×5 Matrix{Float64}:\n",
       " 0.0        0.242536    1.0  0.0  0.0\n",
       " 0.780869   0.0         0.0  1.0  0.0\n",
       " 0.0        0.970142    0.0  0.0  0.0\n",
       " 0.624695   0.0         0.0  0.0  0.0\n",
       " 0.0       -3.75171e-5  0.0  0.0  1.0"
      ]
     },
     "execution_count": 160,
     "metadata": {},
     "output_type": "execute_result"
    }
   ],
   "source": [
    "eigvecs(II(flu,c,par_f,par_s))"
   ]
  },
  {
   "cell_type": "code",
   "execution_count": 255,
   "metadata": {
    "tags": []
   },
   "outputs": [],
   "source": [
    "par_f = [-1,-2,-10]\n",
    "E = eigvecs(10*im .* P(flu,c,par_f) - 0. * II(flu,c,par_f,par_s));"
   ]
  },
  {
   "cell_type": "code",
   "execution_count": 259,
   "metadata": {},
   "outputs": [
    {
     "data": {
      "text/plain": [
       "10-element Vector{ComplexF64}:\n",
       "  0.8309409356975992 + 0.0im\n",
       "  0.2903712377612261 - 5.551115123125783e-17im\n",
       "  0.3660852962116476 - 3.885780586188048e-16im\n",
       " -0.1674542353149654 + 3.469446951953614e-16im\n",
       "  0.2513211901844378 - 3.0531133177191805e-16im\n",
       "  0.8309409356975987 + 0.0im\n",
       " -0.2903712377612263 - 1.502270530195915e-15im\n",
       "  0.3660852962116481 - 1.2104033053628172e-15im\n",
       " 0.16745423531496556 - 3.3154902434606726e-16im\n",
       "  0.2513211901844382 - 9.1550031444676e-16im"
      ]
     },
     "execution_count": 259,
     "metadata": {},
     "output_type": "execute_result"
    }
   ],
   "source": [
    "[E[:,1]; E[:,5]]"
   ]
  },
  {
   "cell_type": "code",
   "execution_count": 260,
   "metadata": {},
   "outputs": [
    {
     "data": {
      "text/plain": [
       "10-element Vector{ComplexF64}:\n",
       "    0.820107298240737 + 0.0im\n",
       "  -0.5453066630323485 - 2.0816681711721685e-16im\n",
       "  0.14552970286296454 - 1.0408340855860843e-16im\n",
       "  0.05654939032654947 + 9.8879238130678e-17im\n",
       "  0.07541839737833465 - 4.336808689942018e-17im\n",
       "   0.8201072982407375 + 0.0im\n",
       "   0.5453066630323478 - 4.996003610813204e-16im\n",
       "  0.14552970286296457 + 9.71445146547012e-17im\n",
       " -0.05654939032654949 + 3.122502256758253e-17im\n",
       "   0.0754183973783347 + 9.71445146547012e-17im"
      ]
     },
     "execution_count": 260,
     "metadata": {},
     "output_type": "execute_result"
    }
   ],
   "source": [
    "[E[:,2]; E[:,3]]"
   ]
  },
  {
   "cell_type": "code",
   "execution_count": 261,
   "metadata": {},
   "outputs": [
    {
     "data": {
      "text/plain": [
       "5-element Vector{ComplexF64}:\n",
       "      0.8162604286217229 + 0.0im\n",
       " -1.2010352899603648e-15 - 1.680734210188587e-16im\n",
       "      0.3911247887145757 - 9.71445146547012e-17im\n",
       "  2.0086611333161097e-17 + 4.7881377173606514e-17im\n",
       "    -0.42513563990714764 + 0.0im"
      ]
     },
     "execution_count": 261,
     "metadata": {},
     "output_type": "execute_result"
    }
   ],
   "source": [
    "E[:,4]"
   ]
  },
  {
   "cell_type": "code",
   "execution_count": 224,
   "metadata": {},
   "outputs": [],
   "source": [
    "#10*im .* P(flu,c,par) - II(flu,c,par_f,par_s)"
   ]
  },
  {
   "cell_type": "code",
   "execution_count": 262,
   "metadata": {},
   "outputs": [
    {
     "data": {
      "text/plain": [
       "5×5 Matrix{ComplexF64}:\n",
       "  -0.365431-9.66899e-16im  …   0.807807+2.0802e-15im\n",
       "    1.01562+1.44212e-15im     -0.104711-3.86573e-15im\n",
       "    1.01562+1.27239e-15im     -0.104711-1.48594e-15im\n",
       " -0.0717131+4.78323e-17im      -1.43426-1.01148e-16im\n",
       "  -0.365431-1.75921e-15im      0.807807+3.30106e-15im"
      ]
     },
     "execution_count": 262,
     "metadata": {},
     "output_type": "execute_result"
    }
   ],
   "source": [
    "Ei = inv(E)"
   ]
  },
  {
   "cell_type": "code",
   "execution_count": 250,
   "metadata": {},
   "outputs": [
    {
     "data": {
      "text/plain": [
       "5-element Vector{ComplexF64}:\n",
       "    0.010449958927948023 - 6.388466182724331e-17im\n",
       "   3.122054069425127e-17 - 4.905726905257574e-17im\n",
       "     -0.6687973713886729 - 1.0947507703891367e-16im\n",
       " -2.8809331823643997e-16 - 5.925594911350034e-17im\n",
       "      0.8359967142358417 - 4.1154317704132383e-16im"
      ]
     },
     "execution_count": 250,
     "metadata": {},
     "output_type": "execute_result"
    }
   ],
   "source": [
    "Ei[5,:]"
   ]
  },
  {
   "cell_type": "code",
   "execution_count": 251,
   "metadata": {},
   "outputs": [
    {
     "data": {
      "text/plain": [
       "1.0 + 3.619756922556872e-16im"
      ]
     },
     "execution_count": 251,
     "metadata": {},
     "output_type": "execute_result"
    }
   ],
   "source": [
    "Ei[5,:]'*E[:,5]"
   ]
  },
  {
   "cell_type": "code",
   "execution_count": 197,
   "metadata": {
    "tags": []
   },
   "outputs": [],
   "source": [
    "ET = eigvecs(10*im .* P(flu,c,par_f)');"
   ]
  },
  {
   "cell_type": "code",
   "execution_count": 198,
   "metadata": {
    "tags": []
   },
   "outputs": [],
   "source": [
    "[ET[:,1]; ET[:,5]];"
   ]
  },
  {
   "cell_type": "code",
   "execution_count": 199,
   "metadata": {
    "tags": []
   },
   "outputs": [],
   "source": [
    "[ET[:,2]; ET[:,3]];"
   ]
  },
  {
   "cell_type": "code",
   "execution_count": 200,
   "metadata": {
    "tags": []
   },
   "outputs": [],
   "source": [
    "ET[:,4] - ET[1,4]/Ei[4,1] .* Ei[4,:];"
   ]
  },
  {
   "cell_type": "code",
   "execution_count": 264,
   "metadata": {},
   "outputs": [
    {
     "data": {
      "text/plain": [
       "-16.000000000000018 - 1.1720783662911867e-14im"
      ]
     },
     "execution_count": 264,
     "metadata": {},
     "output_type": "execute_result"
    }
   ],
   "source": [
    "1/(Ei[4,1]/Ei[4,3])"
   ]
  },
  {
   "cell_type": "code",
   "execution_count": 263,
   "metadata": {},
   "outputs": [
    {
     "data": {
      "text/plain": [
       "20.00000000000005 + 1.475033643873416e-14im"
      ]
     },
     "execution_count": 263,
     "metadata": {},
     "output_type": "execute_result"
    }
   ],
   "source": [
    "1/(Ei[4,1]/Ei[4,5])"
   ]
  },
  {
   "cell_type": "markdown",
   "metadata": {},
   "source": [
    " [-1,-1,-1] -> 16/5, 4  $\\frac{4\\chi_2}{\\chi_1}(4/5,1)$\n",
    " [-1,-2,10] -> -16, 20\n",
    " [-1,-0.5,-1] -> -64, 80"
   ]
  },
  {
   "cell_type": "code",
   "execution_count": 230,
   "metadata": {},
   "outputs": [
    {
     "data": {
      "text/plain": [
       "2-element Vector{Float64}:\n",
       " 1.6\n",
       " 2.0"
      ]
     },
     "execution_count": 230,
     "metadata": {},
     "output_type": "execute_result"
    }
   ],
   "source": [
    "4χ[2]/χ[1]*[4/5;1]"
   ]
  },
  {
   "cell_type": "code",
   "execution_count": 235,
   "metadata": {},
   "outputs": [
    {
     "data": {
      "text/plain": [
       "coc (generic function with 1 method)"
      ]
     },
     "execution_count": 235,
     "metadata": {},
     "output_type": "execute_result"
    }
   ],
   "source": [
    "function coc(par_f)\n",
    "    return 4par_f[3]/par_f[2]*[4/5 ; 1]\n",
    "end"
   ]
  },
  {
   "cell_type": "code",
   "execution_count": 236,
   "metadata": {},
   "outputs": [
    {
     "data": {
      "text/plain": [
       "2-element Vector{Float64}:\n",
       " 16.0\n",
       " 20.0"
      ]
     },
     "execution_count": 236,
     "metadata": {},
     "output_type": "execute_result"
    }
   ],
   "source": [
    "coc([-1,-2,-10])"
   ]
  },
  {
   "cell_type": "code",
   "execution_count": 237,
   "metadata": {},
   "outputs": [
    {
     "data": {
      "text/plain": [
       "2-element Vector{Float64}:\n",
       " 64.0\n",
       " 80.0"
      ]
     },
     "execution_count": 237,
     "metadata": {},
     "output_type": "execute_result"
    }
   ],
   "source": [
    "coc([-1,-0.5,-10])"
   ]
  },
  {
   "cell_type": "code",
   "execution_count": null,
   "metadata": {},
   "outputs": [],
   "source": []
  }
 ],
 "metadata": {
  "kernelspec": {
   "display_name": "Julia 1.6.1",
   "language": "julia",
   "name": "julia-1.6"
  },
  "language_info": {
   "file_extension": ".jl",
   "mimetype": "application/julia",
   "name": "julia",
   "version": "1.6.1"
  }
 },
 "nbformat": 4,
 "nbformat_minor": 4
}
