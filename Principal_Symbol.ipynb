{
 "cells": [
  {
   "cell_type": "markdown",
   "metadata": {},
   "source": [
    "## Fluídos Conformes\n",
    "\n",
    "Código para testear la estabilidad alrededor de una solución de equilibrio.\n",
    "\n",
    "Las ecuaciones son:\n",
    "\n",
    "$(\\zeta^a, \\zeta^{ab})$ -> $f^j = (\\mu, v, x_i)$ -> $(-1,0,0,0,0)$\n",
    "\n",
    "$$\n",
    "\\partial_t c^j = \\partial_i F^{ij}(f) + I^j(f) = \\frac{\\partial F^{ij}}{\\partial f^k}\\partial_i f^k\n",
    "$$\n",
    "\n",
    "$$\n",
    "c^j = C^j(f) = (e, S, c_i)\n",
    "$$\n",
    "\n",
    "Lo que hacemos es tomar el jacobiano del flujo,\n",
    "\n",
    "$\\frac{\\partial F^i}{\\partial f^j}$ donde $f^j$ son las variables no conservativas para las cuales tenemos las expresiones del Flujo. \n",
    "A estas las multiplicamos por $[\\frac{\\partial c^k}{\\partial f^j}]^{-1}$.\n",
    "Tenemos así \n",
    "\n",
    "$$\n",
    "P^{il}{}_j := \\frac{\\partial F^{il}}{\\partial c^j} = \\frac{\\partial F^{il}}{\\partial f^k}\\frac{\\partial f^k}{\\partial c^j}.\n",
    "$$\n",
    "\n",
    "Evaluamos todo en el vector $(-1,0,0,0,0)$ o sea estamos en el frame con velocidad cero y todas las variables fuera de equilibrio también cero.\n",
    "\n",
    "Lo mismo hacemos con la fuente. \n",
    "\n",
    "$$\n",
    "II^i{}_j = \\frac{\\partial I^i}{\\partial f^k} \\frac{\\partial f^k}{\\partial c^j}\n",
    "$$\n",
    "\n",
    "Tenemos así el sistema linearizado en el punto de equilibrio en las variables conservativas. Multiplicamos $P^i{}_j$ por un número complejo cualquiera y para todos ellos los autovalores debieran tener parte real negativa o nula. Pero no es así...\n",
    "\n",
    "\n",
    "Alternativamente podemos diferenciar $c^i$ con respecto a los $f^j$ para obtener,\n",
    "\n",
    "$$\n",
    "\\partial_t c^j = \\frac{\\partial c^j}{\\partial f^i} \\partial_t f^i\n",
    "$$\n",
    "\n",
    "y por lo tanto,\n",
    "\n",
    "$$\n",
    "\\partial_t f^i = \\frac{\\partial c^j}{\\partial f^i}^{-1} \\frac{\\partial F^{lj}}{\\partial f^k}\\partial_l f^k := \\tilde{P}^i{}_k\\partial_l f^k\n",
    "$$\n",
    "\n",
    "A las que simplemente sumamos el término $\\frac{\\partial c^j}{\\partial f^i}^{-1}\\frac{\\partial I^j}{\\partial f^k}$ para tener el sistema linearizado con respecto a las $f^i$."
   ]
  },
  {
   "cell_type": "code",
   "execution_count": 196,
   "metadata": {},
   "outputs": [],
   "source": [
    "using Symbolics\n",
    "using LinearAlgebra\n",
    "using Latexify"
   ]
  },
  {
   "cell_type": "code",
   "execution_count": 256,
   "metadata": {},
   "outputs": [
    {
     "data": {
      "text/plain": [
       "Flux (generic function with 1 method)"
      ]
     },
     "execution_count": 256,
     "metadata": {},
     "output_type": "execute_result"
    }
   ],
   "source": [
    "function Flux(flu,par)\n",
    "    χ = par\n",
    "    #flux = zeros(5)\n",
    "    μ = flu[1]  \n",
    "    T = (abs(μ))^(-1//2) \n",
    "    v = flu[2]\n",
    "    x1 = flu[3]\n",
    "    x2 = flu[4]\n",
    "    x3 = flu[5]\n",
    "    χ₀ = χ[1]\n",
    "    χ₁ = χ[2]\n",
    "    χ₂ = χ[3]\n",
    "    γ = (1 - v^2)^(-1//2)\n",
    "    τ = 2χ₁ * x3 * T / (γ*μ^3) + 24χ₂*(1//2*(1-v^2)x3^2 + 14//3 * x2^2 + 7/5*(1-v^2)x1*x3)/μ^5\n",
    "    ρ = -6χ₀ / μ^2 - 6χ₁*x1/(γ * μ^4 * T) + 42χ₂*(6//5 *x1^2 + 10γ^2*x2^2 + 3//2*(v^2-1)^2*x3^2)/(μ^5 * γ^2)\n",
    "#    Q = 10χ₀ * x2 * T / μ^3 + 168χ₂ * x2 * (x1 - (v^2 - 1)x3)/(γ * μ^5)\n",
    "    Q = 10χ₁ * x2 * T / μ^3 + 168χ₂ * x2 * (x1 - (v^2 - 1)x3)/(γ * μ^5)\n",
    "    #flux[1] = 4//3 * ρ*γ^2*v + γ*Q*(1+v^2)+ τ*v\n",
    "    #flux[2] = 4//3 * ρ*(γ^2*v^2 + 1//4) + 2v*γ*Q + τ\n",
    "    #flux[3] = χ₁*γ*v*(6*γ^2 - 1)/μ^3/T - 12χ₂*(v*(6γ^2 - 1)*x1 + (6γ^2*(2v^2 + 1)-1)*x2 + v*(v^2+2)*x3)/μ^4\n",
    "    #flux[4] = χ₁*γ*(6γ^2*v^2+1)/μ^3/T - 12χ₂*((6γ^2*v+1)*x1 + v*(6γ^2*(1+v^2)+1)*x2 + (2v^2+1)*x3)/μ^4\n",
    "    #flux[5] = 3χ₁*γ*v*(2γ^2*v^2+1)/μ^3/T - 12χ₂*(v*(6γ^2*v^2+3)*x1 +3*(1+6γ^2*v^2)*x2 + 3v*x3)/μ^4\n",
    "    #return -flux[:]\n",
    "    return [4//3 * ρ*γ^2*v + γ*Q*(1+v^2)+ τ*v; \n",
    "            4//3 * ρ*(γ^2*v^2 + 1//4) + 2v*γ*Q + τ;\n",
    "            χ₁*γ*v*(6*γ^2 - 1)/μ^3/T   - 12χ₂*(v*(6γ^2 - 1)*x1   + (6γ^2*(2v^2 + 1)-1)*x2 + v*(v^2+2)*x3)/μ^4;\n",
    "            #χ₁*γ*(6γ^2*v^2+1)/μ^3/T    - 12χ₂*((6γ^2*v+1)*x1     + v*(6γ^2*(1+v^2)+1)*x2  + (2v^2+1)*x3)/μ^4;\n",
    "            χ₁*γ*(6γ^2*v^2+1)/μ^3/T    - 12χ₂*((6γ^2*v^2+1)*x1     + v*(6γ^2*(1+v^2)+1)*x2  + (2v^2+1)*x3)/μ^4;\n",
    "            3χ₁*γ*v*(2γ^2*v^2+1)/μ^3/T - 12χ₂*(v*(6γ^2*v^2+3)*x1 + 3*(1+6γ^2*v^2)*x2      + 3v*x3)/μ^4]\n",
    "end"
   ]
  },
  {
   "cell_type": "markdown",
   "metadata": {},
   "source": [
    "Chequeamos con los valores de Marcelo. "
   ]
  },
  {
   "cell_type": "code",
   "execution_count": 257,
   "metadata": {},
   "outputs": [],
   "source": [
    "χ = [- 1.; - 2.; - 10.]\n",
    "flu = [- 5.; 0.5; 2.1; 0.5; 5.1]\n",
    "Flu = [5.921317694643806; 6.02302807825841; 3.713391378258412;  4.136735467078638; 3.444079555898864]\n",
    "\n",
    "Flux(flu,χ) - Flu;"
   ]
  },
  {
   "cell_type": "markdown",
   "metadata": {},
   "source": [
    "Calculamos el Jacobiano"
   ]
  },
  {
   "cell_type": "code",
   "execution_count": 258,
   "metadata": {},
   "outputs": [],
   "source": [
    "@variables f[1:5], c[1:5], p[1:3]#, fl[1:5]\n",
    "\n",
    "JFS = Symbolics.jacobian(Flux(f,p),f);\n",
    "JF_exp = Symbolics.build_function(JFS, f, p);\n",
    "JFac = eval(JF_exp[1]);"
   ]
  },
  {
   "cell_type": "markdown",
   "metadata": {},
   "source": [
    "Definimos algunos valores para testear"
   ]
  },
  {
   "cell_type": "code",
   "execution_count": 259,
   "metadata": {
    "tags": []
   },
   "outputs": [
    {
     "data": {
      "text/plain": [
       "3-element Vector{Float64}:\n",
       " -1.0\n",
       " -0.5\n",
       " -5.0"
      ]
     },
     "execution_count": 259,
     "metadata": {},
     "output_type": "execute_result"
    }
   ],
   "source": [
    "@variables x1, x2, x3\n",
    "\n",
    "flu=[-1.;0;0;0;0];\n",
    "con=ones(5)\n",
    "χ=[-1.,-0.5,-5.]"
   ]
  },
  {
   "cell_type": "markdown",
   "metadata": {},
   "source": [
    "El Jacobiano en equilibrio."
   ]
  },
  {
   "cell_type": "code",
   "execution_count": 260,
   "metadata": {
    "tags": []
   },
   "outputs": [
    {
     "data": {
      "text/latex": [
       "\\begin{equation}\n",
       "\\left[\n",
       "\\begin{array}{ccccc}\n",
       "0.0 &  - 8 p{_1} & 0.0 &  - 10.0 p{_2} & 0.0 \\\\\n",
       " - 4.0 p{_1} & 0.0 &  - 2.0 p{_2} & 0.0 &  - 2.0 p{_2} \\\\\n",
       "0.0 &  - 5.0 p{_2} & -0.0 &  - 60.0 p{_3} & -0.0 \\\\\n",
       " - 2.5 p{_2} & 0.0 &  - 12 p{_3} & -0.0 &  - 12 p{_3} \\\\\n",
       "0.0 &  - 3.0 p{_2} & -0.0 &  - 36.0 p{_3} & -0.0 \\\\\n",
       "\\end{array}\n",
       "\\right]\n",
       "\\end{equation}\n"
      ],
      "text/plain": [
       "5×5 Matrix{Num}:\n",
       "  0.0    (-8//1)*p₁          0.0    -10.0p₂      0.0\n",
       " -4.0p₁           0.0       -2.0p₂    0.0       -2.0p₂\n",
       "  0.0            -5.0p₂     -0.0    -60.0p₃     -0.0\n",
       " -2.5p₂           0.0    -12p₃       -0.0    -12p₃\n",
       "  0.0            -3.0p₂     -0.0    -36.0p₃     -0.0"
      ]
     },
     "execution_count": 260,
     "metadata": {},
     "output_type": "execute_result"
    }
   ],
   "source": [
    "JFac(flu,p)"
   ]
  },
  {
   "cell_type": "markdown",
   "metadata": {},
   "source": [
    "Ahora traemos el Jacobiano de la transformación entre las variables fluido/conservativas."
   ]
  },
  {
   "cell_type": "code",
   "execution_count": 261,
   "metadata": {},
   "outputs": [],
   "source": [
    "include(\"inversion_ext.jl\");"
   ]
  },
  {
   "cell_type": "code",
   "execution_count": 262,
   "metadata": {},
   "outputs": [
    {
     "data": {
      "text/latex": [
       "\\begin{equation}\n",
       " - \\frac{36 v \\chi{_2} \\left( -1 + 6 \\gamma^{2} \\right)}{\\mu^{4}}\n",
       "\\end{equation}\n"
      ],
      "text/plain": [
       "-36v*χ₂*(μ^-4)*(6(γ^2) - 1)"
      ]
     },
     "execution_count": 262,
     "metadata": {},
     "output_type": "execute_result"
    }
   ],
   "source": [
    "@variables χ₂ μ γ v\n",
    "\n",
    "A = (-12 * χ₂/μ^4)*[3(2γ^2 - 1)  3v*(6γ^2 - 1)    3v^2 ;\n",
    "                v*(6γ^2 - 1)  (6γ^2*(1 + 2v^2) - 1)  v*(v^2 + 2) ;\n",
    "                (6γ^2 * v^2 + 1)  v*(6γ^2*(2 + v^2) - 1)  (2v^2 + 1)]\n",
    "\n",
    "A[1,2]\n"
   ]
  },
  {
   "cell_type": "markdown",
   "metadata": {},
   "source": [
    "Para posterior uso calculamos las variables conservativas correspondientes al estado de equilibrio. Esto no me lo esperaba, pensaba que me darían c1=c2=c3=0!"
   ]
  },
  {
   "cell_type": "code",
   "execution_count": 263,
   "metadata": {
    "tags": []
   },
   "outputs": [
    {
     "data": {
      "text/latex": [
       "\\begin{equation}\n",
       "\\left[\n",
       "\\begin{array}{ccccc}\n",
       " - 12.0 p{_1} & 0.0 &  - 6.0 p{_2} & 0.0 & 0.0 \\\\\n",
       "0.0 &  - 8 p{_1} & 0.0 &  - 10.0 p{_1} & 0.0 \\\\\n",
       " - 7.5 p{_2} & -0.0 &  - 36.0 p{_3} & -0.0 & 0.0 \\\\\n",
       "0.0 &  - 15.0 p{_2} & -0.0 &  - 60.0 p{_3} & -0.0 \\\\\n",
       " - 7.5 p{_2} & 0.0 &  - 12 p{_3} & -0.0 &  - 12 p{_3} \\\\\n",
       "\\end{array}\n",
       "\\right]\n",
       "\\end{equation}\n"
      ],
      "text/plain": [
       "5×5 Matrix{Num}:\n",
       " -12.0p₁           0.0       -6.0p₂    0.0        0.0\n",
       "   0.0    (-8//1)*p₁          0.0    -10.0p₁      0.0\n",
       "  -7.5p₂          -0.0      -36.0p₃   -0.0        0.0\n",
       "   0.0           -15.0p₂     -0.0    -60.0p₃     -0.0\n",
       "  -7.5p₂           0.0    -12p₃       -0.0    -12p₃"
      ]
     },
     "execution_count": 263,
     "metadata": {},
     "output_type": "execute_result"
    }
   ],
   "source": [
    "con = F(flu,zeros(5), p);\n",
    "\n",
    "Jac(flu,con,p)"
   ]
  },
  {
   "cell_type": "code",
   "execution_count": 264,
   "metadata": {},
   "outputs": [
    {
     "data": {
      "text/plain": [
       "P (generic function with 1 method)"
      ]
     },
     "execution_count": 264,
     "metadata": {},
     "output_type": "execute_result"
    }
   ],
   "source": [
    "P(flu,c,p) = Jac(flu,c,p) \\ JFac(flu,p)"
   ]
  },
  {
   "cell_type": "code",
   "execution_count": 265,
   "metadata": {},
   "outputs": [
    {
     "data": {
      "text/latex": [
       "\\begin{equation}\n",
       "\\left[\n",
       "\\begin{array}{ccccc}\n",
       "0.8219178082191768 & 0.9132420091323997 & -8.577390623899299e-18 & 2.308107162753638e-14 & -1.6297042185422354e-18 \\\\\n",
       "0.02472602739726053 & 0.8219178082191823 & -0.0010023900924589434 & 2.6973515066823333 & -0.00019045411756735923 \\\\\n",
       "-0.0 & -0.0 & 0.9102432744146358 & 63.85352761782765 & 0.0019462221387768792 \\\\\n",
       "-0.0 & -0.0 & 0.009682697207833654 & -26.0553631752587 & 0.0018397124694899392 \\\\\n",
       "-0.0 & -0.0 & 0.2912855725129778 & 167.93551476170484 & 0.9553442587774591 \\\\\n",
       "\\end{array}\n",
       "\\right]\n",
       "\\end{equation}\n"
      ],
      "text/plain": [
       "5×5 Matrix{Num}:\n",
       "  0.821918   0.913242  -8.57739e-18    2.30811e-14  -1.6297e-18\n",
       "  0.024726   0.821918  -0.00100239     2.69735      -0.000190454\n",
       " -0.0       -0.0        0.910243      63.8535        0.00194622\n",
       " -0.0       -0.0        0.0096827    -26.0554        0.00183971\n",
       " -0.0       -0.0        0.291286     167.936         0.955344"
      ]
     },
     "execution_count": 265,
     "metadata": {},
     "output_type": "execute_result"
    }
   ],
   "source": [
    "flu = [-1;0.9;0;0;0]\n",
    "M0=simplify.(substitute.(P(flu,c,p), (Dict(p[2] => 0),)))"
   ]
  },
  {
   "cell_type": "code",
   "execution_count": 266,
   "metadata": {
    "tags": []
   },
   "outputs": [],
   "source": [
    "P(flu,c,p);"
   ]
  },
  {
   "cell_type": "code",
   "execution_count": 267,
   "metadata": {},
   "outputs": [
    {
     "data": {
      "text/plain": [
       "180.0"
      ]
     },
     "execution_count": 267,
     "metadata": {},
     "output_type": "execute_result"
    }
   ],
   "source": [
    "18.75/3.75*36"
   ]
  },
  {
   "cell_type": "code",
   "execution_count": 268,
   "metadata": {},
   "outputs": [],
   "source": [
    "P(flu,c,p)[4,3];"
   ]
  },
  {
   "cell_type": "code",
   "execution_count": 269,
   "metadata": {},
   "outputs": [],
   "source": [
    "P(flu,c,p)';"
   ]
  },
  {
   "cell_type": "code",
   "execution_count": 270,
   "metadata": {},
   "outputs": [],
   "source": [
    "Ratio = P(flu,c,p)'[4,1]/P(flu,c,p)'[4,3];"
   ]
  },
  {
   "cell_type": "code",
   "execution_count": 271,
   "metadata": {},
   "outputs": [],
   "source": [
    "#par_f = [-1,-0.5,-10]\n",
    "#substitute(P(flu,c,p)'[4,1]/P(flu,c,p)'[4,3], (Dict(p => par_f),))\n"
   ]
  },
  {
   "cell_type": "code",
   "execution_count": 272,
   "metadata": {},
   "outputs": [
    {
     "data": {
      "text/latex": [
       "\\begin{equation}\n",
       "\\frac{\\left( 120 p{_1} \\left(  - 36 p{_3} - \\frac{3.75 p{_2}^{2}}{p{_1}} \\right) + 72 p{_2} \\left( 6.25 p{_2} - 60 p{_3} \\right) \\right)}{\\left( 6.25 p{_2} - 60 p{_3} \\right) p{_1}}\n",
       "\\end{equation}\n"
      ],
      "text/plain": [
       "(p₁^-1)*((6.25p₂ - (60p₃))^-1)*(120p₁*(-36p₃ - (3.75(p₁^-1)*(p₂^2))) + 72p₂*(6.25p₂ - (60p₃)))"
      ]
     },
     "execution_count": 272,
     "metadata": {},
     "output_type": "execute_result"
    }
   ],
   "source": [
    "simplify(12*(10p[1]*(-36p[3] - 3.75p[2]^2/p[1]) + 6p[2]*(6.25p[2] - 60p[3])) / (6.25p[2] - 60p[3]) / p[1])"
   ]
  },
  {
   "cell_type": "code",
   "execution_count": 273,
   "metadata": {},
   "outputs": [
    {
     "data": {
      "text/plain": [
       "-0.09313371727529571"
      ]
     },
     "execution_count": 273,
     "metadata": {},
     "output_type": "execute_result"
    }
   ],
   "source": [
    "par_f = [-1,-0.5,-10]\n",
    "P(flu,c,par_f)'[4,1]/P(flu,c,par_f)'[4,3]"
   ]
  },
  {
   "cell_type": "markdown",
   "metadata": {},
   "source": [
    "Miramos primero el caso donde las variables están desacopladas, es decir con $\\chi_1=0$."
   ]
  },
  {
   "cell_type": "code",
   "execution_count": 274,
   "metadata": {},
   "outputs": [
    {
     "data": {
      "text/plain": [
       "5×5 Matrix{Float64}:\n",
       " 0.821918  0.913242  -9.68895e-18    1.9843e-14  -1.73017e-18\n",
       " 0.024726  0.821918  -0.00100239     2.69735     -0.000190454\n",
       " 0.0       0.0        0.910243      63.8535       0.00194622\n",
       " 0.0       0.0        0.0096827    -26.0554       0.00183971\n",
       " 0.0       0.0        0.291286     167.936        0.955344"
      ]
     },
     "execution_count": 274,
     "metadata": {},
     "output_type": "execute_result"
    }
   ],
   "source": [
    "P(flu,c,[-1,-0,-2])"
   ]
  },
  {
   "cell_type": "markdown",
   "metadata": {},
   "source": [
    "Vemos que se corresponde con la siguiente matriz racional."
   ]
  },
  {
   "cell_type": "code",
   "execution_count": 275,
   "metadata": {},
   "outputs": [],
   "source": [
    "M = [0 2//3 0 0 0;\n",
    "    1//2 0 -1//4 0 -1//4;\n",
    "    0 0 0 5//3 0;\n",
    "    0 0 1//5 0 1//5;\n",
    "    0 0 0 4//3 0];"
   ]
  },
  {
   "cell_type": "code",
   "execution_count": 276,
   "metadata": {},
   "outputs": [
    {
     "data": {
      "text/plain": [
       "5×5 Matrix{Float64}:\n",
       "  0.821918  0.246575  -9.68895e-18    1.9843e-14  -1.73017e-18\n",
       " -0.475274  0.821918   0.248998       2.69735      0.24981\n",
       "  0.0       0.0        0.910243      62.1869       0.00194622\n",
       "  0.0       0.0       -0.190317     -26.0554      -0.19816\n",
       "  0.0       0.0        0.291286     166.602        0.955344"
      ]
     },
     "execution_count": 276,
     "metadata": {},
     "output_type": "execute_result"
    }
   ],
   "source": [
    "P(flu,c,[-1,0,-1]) - M"
   ]
  },
  {
   "cell_type": "code",
   "execution_count": 277,
   "metadata": {},
   "outputs": [
    {
     "data": {
      "text/plain": [
       "5-element Vector{Float64}:\n",
       " -0.7745966692414842\n",
       " -0.5773502691896256\n",
       "  3.0357660829594124e-18\n",
       "  0.5773502691896258\n",
       "  0.7745966692414837"
      ]
     },
     "execution_count": 277,
     "metadata": {},
     "output_type": "execute_result"
    }
   ],
   "source": [
    "eigvals(M)"
   ]
  },
  {
   "cell_type": "code",
   "execution_count": 278,
   "metadata": {},
   "outputs": [
    {
     "data": {
      "text/plain": [
       "-1.5543122344752192e-15"
      ]
     },
     "execution_count": 278,
     "metadata": {},
     "output_type": "execute_result"
    }
   ],
   "source": [
    "1/0.7745966692414837^2 - 5/3"
   ]
  },
  {
   "cell_type": "code",
   "execution_count": 279,
   "metadata": {},
   "outputs": [
    {
     "data": {
      "text/plain": [
       "-8.881784197001252e-16"
      ]
     },
     "execution_count": 279,
     "metadata": {},
     "output_type": "execute_result"
    }
   ],
   "source": [
    "1/0.5773502691896258^2 - 3"
   ]
  },
  {
   "cell_type": "code",
   "execution_count": 280,
   "metadata": {},
   "outputs": [
    {
     "data": {
      "text/plain": [
       "5-element Vector{ComplexF64}:\n",
       " 0.6995181579170078 + 0.0im\n",
       " 0.9000000000000455 + 0.0im\n",
       "  0.966976201839825 - 0.08080914590484302im\n",
       "  0.966976201839825 + 0.08080914590484302im\n",
       "  28.35853816389217 + 0.0im"
      ]
     },
     "execution_count": 280,
     "metadata": {},
     "output_type": "execute_result"
    }
   ],
   "source": [
    "eigvals(P(flu,c,[-1,-0.5,-1]))"
   ]
  },
  {
   "cell_type": "markdown",
   "metadata": {},
   "source": [
    "Hacemos lo mismo para la fuente."
   ]
  },
  {
   "cell_type": "code",
   "execution_count": 281,
   "metadata": {},
   "outputs": [
    {
     "data": {
      "text/plain": [
       "Is (generic function with 1 method)"
      ]
     },
     "execution_count": 281,
     "metadata": {},
     "output_type": "execute_result"
    }
   ],
   "source": [
    "function Is(flu, χ, ξ)\n",
    "    #(χ, ξ) = par \n",
    "    μ = flu[1] \n",
    "    χ₀= χ[1]\n",
    "    χ₁= -χ[2] # lo hacemos positivo\n",
    "    κ = χ₀*ξ[1]/χ₁^2 # OK \n",
    "    λ = χ₀*ξ[2]/χ₁^2  # OK\n",
    "    η = χ₀*ξ[3]/χ₁^2\n",
    "    T = (abs(μ))^(-1//2) # use μ positive, so I changed μ -> -μ\n",
    "    v = flu[2]\n",
    "    x1 = flu[3]\n",
    "    x2 = flu[4]\n",
    "    x3 = flu[5]\n",
    "    γ = (1. - v^2)^(-1//2)\n",
    "    #Is[1] = 0.\n",
    "    #Is[2] = 0.\n",
    "    #Is[3] = -2//5*a*(γ^2-1//4)*T*x1/(γ*λ) - 2γ*v*x2/T/κ - v^2*T*x3/(γ*λ)\n",
    "    #Is[4] = -2//5*a*γ*v*T*x1/λ - γ*(v^2+1)*x2/T/κ - v*T*x3/(γ*λ)\n",
    "    #Is[5] = -2//5*a*(γ^2*v^2+1//4)*T*x1/λ/γ - 2γ*v*x2/T/κ - T*x3/(γ*λ)\n",
    "    #return Is[:]      #(1 - ℯ^(-5. *t))\n",
    "    return [0.;\n",
    "            0.;\n",
    "            -(3//10*(γ^2-1//4)*x1/(γ*λ)   + 2γ*v*x2/κ      - v^2*x3/(γ*η))/μ^4/T;\n",
    "            -(3//10*γ*v*x1/λ              + γ*(v^2+1)*x2/κ - v*x3/(γ*η))/μ^4/T;\n",
    "            -(3//10*(γ^2*v^2+1//4)*x1/λ/γ + 2γ*v*x2/κ      - x3/(γ*η))/μ^4/T;\n",
    "            #-2//5*(γ^2-1//4)*T*x1/(γ*λ) - 2γ*v*x2/T/κ - v^2*T*x3/(γ*η);\n",
    "            #-2//5*γ*v*T*x1/λ - γ*(v^2+1)*x2/T/κ - v*T*x3/(γ*η);\n",
    "            #-2//5*(γ^2*v^2+1//4)*T*x1/η/γ - 2γ*v*x2/T/κ + T*x3/(γ*η)\n",
    "            #-2//5*(γ^2-1//4)*T*x1/(γ*λ) - 2γ*v*x2/T/κ - v^2*T*x3/(γ*λ);\n",
    "            #-2//5*γ*v*T*x1/λ - γ*(v^2+1)*x2/T/κ - v*T*x3/(γ*λ);\n",
    "            #-2//5*(γ^2*v^2+1//4)*T*x1/λ/γ - 2γ*v*x2/T/κ - T*x3/(γ*λ)\n",
    "            ]\n",
    "end"
   ]
  },
  {
   "cell_type": "markdown",
   "metadata": {},
   "source": [
    "La chequeamos con valores de Marcelo."
   ]
  },
  {
   "cell_type": "code",
   "execution_count": 282,
   "metadata": {},
   "outputs": [],
   "source": [
    "t=0\n",
    "flu = [- 5.; 0.0; 2.1; 0.5; 5.1]\n",
    "par = [-1., -2., -10.]\n",
    "par_s = [1/15π, 1/1π, 1/1π]\n",
    "I_c = [0.; 0.; - 0.09488575328013785; - 0.12155655385334033; - 0.12140081195218293]\n",
    "Is(flu,par,par_s) - I_c;"
   ]
  },
  {
   "cell_type": "code",
   "execution_count": 283,
   "metadata": {},
   "outputs": [],
   "source": [
    "@variables q[1:3]  \n",
    "Is(f,p,q);"
   ]
  },
  {
   "cell_type": "code",
   "execution_count": 284,
   "metadata": {},
   "outputs": [],
   "source": [
    "JSS = Symbolics.jacobian(Is(f,p,q),f);"
   ]
  },
  {
   "cell_type": "code",
   "execution_count": 285,
   "metadata": {},
   "outputs": [],
   "source": [
    "JS_exp = Symbolics.build_function(JSS, f, p,q);"
   ]
  },
  {
   "cell_type": "code",
   "execution_count": 286,
   "metadata": {},
   "outputs": [],
   "source": [
    "JSac = eval(JS_exp[1]);"
   ]
  },
  {
   "cell_type": "code",
   "execution_count": 287,
   "metadata": {
    "tags": []
   },
   "outputs": [
    {
     "data": {
      "text/plain": [
       "5-element Vector{Float64}:\n",
       " -0.9998591951085865\n",
       " -0.9721870563644237\n",
       " -0.9000000000000027\n",
       " -0.6716485600739354\n",
       " 26.089634837175293"
      ]
     },
     "execution_count": 287,
     "metadata": {},
     "output_type": "execute_result"
    }
   ],
   "source": [
    "flu=[1.;-0.9;0;0;0];\n",
    "con=ones(5)\n",
    "#par_f = [-1,-2,-10]\n",
    "par_f = [-1,-0.0,1]\n",
    "#JSac(flu,par_f,par_s)\n",
    "#eigvals(JSac(flu,par_f,par_s)) #esta no es la matríz correcta para sacarle los autovalores\n",
    "eigvals(P(flu,c,par_f))"
   ]
  },
  {
   "cell_type": "markdown",
   "metadata": {},
   "source": [
    "Si $\\chi_1=0$ los autovalores (velocidades) no dependen de los otros $\\chi$ y hay uno que crece muchísimo cuando $v \\to 1$. Eso trae problemas para evolucionar las ecuaciones por el CFL."
   ]
  },
  {
   "cell_type": "code",
   "execution_count": 288,
   "metadata": {},
   "outputs": [
    {
     "data": {
      "text/plain": [
       "II (generic function with 1 method)"
      ]
     },
     "execution_count": 288,
     "metadata": {},
     "output_type": "execute_result"
    }
   ],
   "source": [
    "II(flu,c,p,q) = Jac(flu,c,p) \\ JSac(flu,p,q)"
   ]
  },
  {
   "cell_type": "code",
   "execution_count": 289,
   "metadata": {},
   "outputs": [],
   "source": [
    "II(flu,c,p,q);"
   ]
  },
  {
   "cell_type": "code",
   "execution_count": 494,
   "metadata": {
    "tags": []
   },
   "outputs": [
    {
     "data": {
      "text/plain": [
       "5-element Vector{ComplexF64}:\n",
       "   -1.5305241965462313 - 8.782912303847589e-17im\n",
       "   -0.5871196517497985 - 7.531146728810917im\n",
       "   -0.5871196517497976 + 7.531146728810912im\n",
       " 0.0018765050321101536 + 5.834652395235965im\n",
       "  0.001876505032112119 - 5.834652395235972im"
      ]
     },
     "execution_count": 494,
     "metadata": {},
     "output_type": "execute_result"
    }
   ],
   "source": [
    "flu=[1.;0.0;0;0;0];\n",
    "#con=ones(5)\n",
    "par_f = [-1.,-1.,-10.]\n",
    "#par_f = [-1,-0.5,-10]\n",
    "par_s = [-1/15π, -1/1π, 0.01/1π]\n",
    "con = F(flu,zeros(5), par_f);\n",
    "eigvals(10*im .* P(flu,c,par_f) + 1.0 .*II(flu,c,par_f,par_s))"
   ]
  },
  {
   "cell_type": "markdown",
   "metadata": {},
   "source": [
    "Vemos que un par de autovalores tiene parte real positiva. "
   ]
  },
  {
   "cell_type": "code",
   "execution_count": 292,
   "metadata": {
    "tags": []
   },
   "outputs": [
    {
     "data": {
      "text/plain": [
       "5×5 Matrix{Float64}:\n",
       "  0.104016   1.0  0.0   0.107241     0.00723379\n",
       " -0.0124128  0.0  1.0   0.00259509  -0.00110536\n",
       "  0.931304   0.0  0.0   0.990192    -0.00388408\n",
       " -0.112165   0.0  0.0   0.0230413    0.0127446\n",
       "  0.330331   0.0  0.0  -0.0864993    0.999884"
      ]
     },
     "execution_count": 292,
     "metadata": {},
     "output_type": "execute_result"
    }
   ],
   "source": [
    "eigvecs(II(flu,c,par_f,par_s))"
   ]
  },
  {
   "cell_type": "code",
   "execution_count": 293,
   "metadata": {
    "tags": []
   },
   "outputs": [],
   "source": [
    "par_f = [-1,-1,-10]\n",
    "E = eigvecs(10*im .* P(flu,c,par_f) - 0. * II(flu,c,par_f,par_s));"
   ]
  },
  {
   "cell_type": "code",
   "execution_count": 294,
   "metadata": {
    "tags": []
   },
   "outputs": [
    {
     "data": {
      "text/plain": [
       "10-element Vector{ComplexF64}:\n",
       "  -0.015344969888471274 + 0.003445323142514261im\n",
       " -0.0007980235887311218 + 0.0018075801829751932im\n",
       "   -0.06032668146796063 + 0.026905134456165127im\n",
       " -0.0009403840054966175 + 0.000796080530109239im\n",
       "     0.9976893527729312 + 0.0im\n",
       "  -0.015344969888471139 - 0.0034453231425145875im\n",
       " -0.0007980235887311539 - 0.0018075801829751602im\n",
       "   -0.06032668146796097 - 0.026905134456164416im\n",
       " -0.0009403840054966171 - 0.0007960805301092484im\n",
       "     0.9976893527729311 + 0.0im"
      ]
     },
     "execution_count": 294,
     "metadata": {},
     "output_type": "execute_result"
    }
   ],
   "source": [
    "[E[:,1]; E[:,5]]"
   ]
  },
  {
   "cell_type": "code",
   "execution_count": 295,
   "metadata": {
    "tags": []
   },
   "outputs": [
    {
     "data": {
      "text/plain": [
       "10-element Vector{ComplexF64}:\n",
       "  -0.11090389922227999 - 7.849623728795052e-17im\n",
       "  -0.02205647919831648 + 4.130810277169772e-17im\n",
       "   -0.5641482184214212 + 9.107298248878237e-17im\n",
       "  -0.17599469206449075 - 2.862293735361732e-17im\n",
       "    0.7987343068128037 + 0.0im\n",
       "   0.11550044927507332 - 2.2967738821932926e-15im\n",
       " -0.011046546883667002 + 2.454633718507182e-16im\n",
       "    0.8880023656553209 + 0.0im\n",
       "  0.001699236800171895 - 2.6129272356900657e-17im\n",
       "   0.44495677453439636 + 1.7261192475359621e-13im"
      ]
     },
     "execution_count": 295,
     "metadata": {},
     "output_type": "execute_result"
    }
   ],
   "source": [
    "[E[:,2]; E[:,4]]"
   ]
  },
  {
   "cell_type": "code",
   "execution_count": 296,
   "metadata": {
    "tags": []
   },
   "outputs": [
    {
     "data": {
      "text/plain": [
       "5-element Vector{ComplexF64}:\n",
       "   0.9019719596318727 + 0.0im\n",
       " -0.14525761704623055 + 8.951173136040325e-16im\n",
       "  0.04817527013142562 - 3.731043252130917e-14im\n",
       " 0.000458579687273411 + 3.0327845269850773e-16im\n",
       " -0.40376446324599236 + 2.7622348852673895e-13im"
      ]
     },
     "execution_count": 296,
     "metadata": {},
     "output_type": "execute_result"
    }
   ],
   "source": [
    "E[:,3]"
   ]
  },
  {
   "cell_type": "code",
   "execution_count": null,
   "metadata": {},
   "outputs": [],
   "source": []
  },
  {
   "cell_type": "code",
   "execution_count": 297,
   "metadata": {
    "tags": []
   },
   "outputs": [
    {
     "data": {
      "text/plain": [
       "5×5 Matrix{ComplexF64}:\n",
       " 0.598753-41.506im        2.24604-254.961im      …     0.496231-0.648916im\n",
       " 0.350127+2.22045e-16im   2.14983+5.34989e-15im     0.000861669+3.91959e-18im\n",
       "  1.14615-1.96964e-14im  0.158511-6.61931e-14im        0.008423+7.12934e-17im\n",
       " -2.27353+8.49194e-14im  -13.7875+1.71599e-13im       0.0281913-1.61378e-16im\n",
       " 0.598753+41.506im        2.24604+254.961im            0.496231+0.648916im"
      ]
     },
     "execution_count": 297,
     "metadata": {},
     "output_type": "execute_result"
    }
   ],
   "source": [
    "Ei = inv(E)"
   ]
  },
  {
   "cell_type": "code",
   "execution_count": 298,
   "metadata": {
    "tags": []
   },
   "outputs": [
    {
     "data": {
      "text/plain": [
       "5-element Vector{ComplexF64}:\n",
       "   1.1461517267733188 - 1.9696375606892413e-14im\n",
       "   0.1585112758557304 - 6.619314471545401e-14im\n",
       " -0.15090476395923247 + 2.9575408962145833e-15im\n",
       " -0.22016861243535946 + 1.1038045477640424e-14im\n",
       " 0.008422995374060258 + 7.129340990304362e-17im"
      ]
     },
     "execution_count": 298,
     "metadata": {},
     "output_type": "execute_result"
    }
   ],
   "source": [
    "Ei[3,:]"
   ]
  },
  {
   "cell_type": "code",
   "execution_count": 299,
   "metadata": {},
   "outputs": [
    {
     "data": {
      "text/plain": [
       "-6.439293542825908e-15 + 1.4307131868118717e-15im"
      ]
     },
     "execution_count": 299,
     "metadata": {},
     "output_type": "execute_result"
    }
   ],
   "source": [
    "Ei[5,:]'*E[:,5]"
   ]
  },
  {
   "cell_type": "code",
   "execution_count": 300,
   "metadata": {
    "tags": []
   },
   "outputs": [],
   "source": [
    "ET = eigvecs(10*im .* P(flu,c,par_f)');"
   ]
  },
  {
   "cell_type": "code",
   "execution_count": 301,
   "metadata": {
    "tags": []
   },
   "outputs": [],
   "source": [
    "[ET[:,1]; ET[:,5]];"
   ]
  },
  {
   "cell_type": "code",
   "execution_count": 302,
   "metadata": {
    "tags": []
   },
   "outputs": [],
   "source": [
    "[ET[:,2]; ET[:,3]];"
   ]
  },
  {
   "cell_type": "code",
   "execution_count": 303,
   "metadata": {
    "tags": []
   },
   "outputs": [],
   "source": [
    "ET[:,4] - ET[1,4]/Ei[4,1] .* Ei[4,:];"
   ]
  },
  {
   "cell_type": "code",
   "execution_count": 304,
   "metadata": {},
   "outputs": [
    {
     "data": {
      "text/plain": [
       "-0.1316621180548793 + 3.178238598760267e-16im"
      ]
     },
     "execution_count": 304,
     "metadata": {},
     "output_type": "execute_result"
    }
   ],
   "source": [
    "1/(Ei[3,1]/Ei[3,3])"
   ]
  },
  {
   "cell_type": "code",
   "execution_count": 305,
   "metadata": {},
   "outputs": [
    {
     "data": {
      "text/plain": [
       "0.007348935727534898 + 1.8849232894469112e-16im"
      ]
     },
     "execution_count": 305,
     "metadata": {},
     "output_type": "execute_result"
    }
   ],
   "source": [
    "1/(Ei[3,1]/Ei[3,5])"
   ]
  },
  {
   "cell_type": "markdown",
   "metadata": {},
   "source": [
    " [-1,-1,-1] -> 16/5, 4  $\\frac{4\\chi_2}{\\chi_1}(4/5,1)$\n",
    " [-1,-2,10] -> -16, 20\n",
    " [-1,-0.5,-1] -> -64, 80"
   ]
  },
  {
   "cell_type": "code",
   "execution_count": 306,
   "metadata": {},
   "outputs": [
    {
     "data": {
      "text/plain": [
       "2-element Vector{Float64}:\n",
       " 1.6\n",
       " 2.0"
      ]
     },
     "execution_count": 306,
     "metadata": {},
     "output_type": "execute_result"
    }
   ],
   "source": [
    "4χ[2]/χ[1]*[4/5;1]"
   ]
  },
  {
   "cell_type": "code",
   "execution_count": 307,
   "metadata": {},
   "outputs": [
    {
     "data": {
      "text/plain": [
       "coc (generic function with 1 method)"
      ]
     },
     "execution_count": 307,
     "metadata": {},
     "output_type": "execute_result"
    }
   ],
   "source": [
    "function coc(par_f)\n",
    "    return 4par_f[3]/par_f[2]*[-4/5 ; 1]\n",
    "end"
   ]
  },
  {
   "cell_type": "code",
   "execution_count": 308,
   "metadata": {},
   "outputs": [
    {
     "data": {
      "text/plain": [
       "2-element Vector{Float64}:\n",
       " -32.0\n",
       "  40.0"
      ]
     },
     "execution_count": 308,
     "metadata": {},
     "output_type": "execute_result"
    }
   ],
   "source": [
    "coc([-1,-1,-10])"
   ]
  },
  {
   "cell_type": "code",
   "execution_count": 309,
   "metadata": {},
   "outputs": [
    {
     "data": {
      "text/plain": [
       "2-element Vector{Float64}:\n",
       " -64.0\n",
       "  80.0"
      ]
     },
     "execution_count": 309,
     "metadata": {},
     "output_type": "execute_result"
    }
   ],
   "source": [
    "coc([-1,-0.5,-10])"
   ]
  },
  {
   "cell_type": "markdown",
   "metadata": {},
   "source": [
    "Alternativamente podemos quedarnos con las expresiones en derivadas del los campos del fluido.\n",
    "Es decir:\n",
    "\n",
    "$(\\zeta^a, \\zeta^{ab})$ -> $f^j = (\\mu, v, x_i)$ -> $(-1,0,0,0,0)$\n",
    "\n",
    "$$\n",
    "\\partial_t c^j = \\partial_i F^{ij}(f) + I^j(f) = \\frac{\\partial F^{ij}}{\\partial f^k}\\partial_i f^k + I^j(j)\n",
    "$$"
   ]
  },
  {
   "cell_type": "code",
   "execution_count": 453,
   "metadata": {
    "tags": []
   },
   "outputs": [],
   "source": [
    "flu=[1.;0.0;0;0;0];\n",
    "#con=ones(5)\n",
    "par_f = [-1.,1.,-10.]\n",
    "#par_f = [-1,-0.5,-10]\n",
    "par_s = [-1/15π, 1/1π, -0.1/1π]\n",
    "con = F(flu,zeros(5), par_f);\n",
    "PP = inv(Jac(flu,con,par_f))*(1.0im*JFac(flu,par_f) + 1.0.*JSac(flu,par_f,par_s));"
   ]
  },
  {
   "cell_type": "code",
   "execution_count": 454,
   "metadata": {},
   "outputs": [
    {
     "data": {
      "text/plain": [
       "5-element Vector{ComplexF64}:\n",
       " -0.01935884507765262 - 0.6366154008404264im\n",
       " -0.01935884507764971 + 0.6366154008404309im\n",
       " 0.034862515028231934 + 0.6638069562731905im\n",
       " 0.034862515028235154 - 0.6638069562731943im\n",
       "  0.15657547918056527 + 6.586061503065444e-17im"
      ]
     },
     "execution_count": 454,
     "metadata": {},
     "output_type": "execute_result"
    }
   ],
   "source": [
    "eigvals(PP)"
   ]
  },
  {
   "cell_type": "code",
   "execution_count": 318,
   "metadata": {},
   "outputs": [],
   "source": [
    "Et = eigvecs(PP);"
   ]
  },
  {
   "cell_type": "code",
   "execution_count": 319,
   "metadata": {},
   "outputs": [],
   "source": [
    "Ett = inv(Et);"
   ]
  },
  {
   "cell_type": "code",
   "execution_count": 320,
   "metadata": {},
   "outputs": [
    {
     "data": {
      "text/plain": [
       "5×5 Matrix{Float64}:\n",
       "  0.513538     -3.61978e-14    0.00191108   -0.00501518   0.000363106\n",
       " -3.61978e-14  18.9672         0.0130682    -1.9499       0.00248296\n",
       "  0.00191108    0.0130682     25.2733      -66.9076       1.15838\n",
       " -0.00501518   -1.9499       -66.9076      241.672       -6.22351\n",
       "  0.000363106   0.00248296     1.15838      -6.22351      0.563921"
      ]
     },
     "execution_count": 320,
     "metadata": {},
     "output_type": "execute_result"
    }
   ],
   "source": [
    "H = adjoint(Ett)*Ett\n",
    "#latexify(H)"
   ]
  },
  {
   "cell_type": "code",
   "execution_count": 322,
   "metadata": {},
   "outputs": [
    {
     "data": {
      "text/plain": [
       "5×5 Matrix{Float64}:\n",
       "  0.0          5.55112e-17  -2.1684e-19   -5.20417e-16  -2.1684e-19\n",
       " -5.55112e-17  0.0          -6.59195e-17  -5.55112e-15  -2.64545e-17\n",
       "  2.1684e-19   6.59195e-17   0.0           9.52127e-13  -3.9968e-15\n",
       "  5.20417e-16  5.55112e-15  -9.52127e-13   0.0           1.33227e-13\n",
       "  2.1684e-19   2.64545e-17   3.9968e-15   -1.33227e-13   0.0"
      ]
     },
     "execution_count": 322,
     "metadata": {},
     "output_type": "execute_result"
    }
   ],
   "source": [
    "H*PP - adjoint(PP)*H"
   ]
  },
  {
   "cell_type": "code",
   "execution_count": 323,
   "metadata": {},
   "outputs": [
    {
     "data": {
      "text/plain": [
       "5-element Vector{Float64}:\n",
       "   0.35244445125213175\n",
       "   0.5135378382406123\n",
       "   6.294856102952448\n",
       "  18.9739429431992\n",
       " 260.8553589833234"
      ]
     },
     "execution_count": 323,
     "metadata": {},
     "output_type": "execute_result"
    }
   ],
   "source": [
    "eigvals(H)"
   ]
  },
  {
   "cell_type": "code",
   "execution_count": 326,
   "metadata": {},
   "outputs": [
    {
     "data": {
      "text/plain": [
       "5-element Vector{ComplexF64}:\n",
       "   -33.223638974522565 - 19.202303415731336im\n",
       " -4.596503152414722e-7 - 1.640027859765601im\n",
       "    0.4330322848704424 + 7523.657188524685im\n",
       "     91.47161178094568 - 28.33531128586182im\n",
       "   2.205890516412259e6 - 253617.05026002906im"
      ]
     },
     "execution_count": 326,
     "metadata": {},
     "output_type": "execute_result"
    }
   ],
   "source": [
    "eigvals(H*(1.0im.* JFac(flu,par_f) - 1.0.*JSac(flu,con,par_s)))"
   ]
  },
  {
   "cell_type": "code",
   "execution_count": 325,
   "metadata": {},
   "outputs": [
    {
     "data": {
      "text/latex": [
       "\\begin{equation}\n",
       "\\left[\n",
       "\\begin{array}{ccccc}\n",
       "0.0 & 0.0 & \\frac{0.1637636041537348}{p{_2}} &  - \\frac{1.0819289169897057}{p{_1}} &  - \\frac{0.10027414305336224}{p{_3}} \\\\\n",
       "0.0 & 0.0 & \\frac{43.60627440988196}{p{_2}} &  - \\frac{292.2148597471895}{p{_1}} &  - \\frac{27.59376479050636}{p{_3}} \\\\\n",
       "0.0 & 0.0 & \\frac{2101.663275810197}{p{_2}} &  - \\frac{13856.150973458665}{p{_1}} &  - \\frac{1277.420279811278}{p{_3}} \\\\\n",
       "0.0 & 0.0 &  - \\frac{7062.091726628083}{p{_2}} & \\frac{46745.495533906}{p{_1}} & \\frac{4337.692481868185}{p{_3}} \\\\\n",
       "0.0 & 0.0 & \\frac{177.13887964408283}{p{_2}} &  - \\frac{1179.9843350596666}{p{_1}} &  - \\frac{110.86583274046275}{p{_3}} \\\\\n",
       "\\end{array}\n",
       "\\right]\n",
       "\\end{equation}\n"
      ],
      "text/plain": [
       "5×5 Matrix{Num}:\n",
       " 0.0  0.0      0.163764(p₂^-1)      -1.08193(p₁^-1)     -0.100274(p₃^-1)\n",
       " 0.0  0.0     43.6063(p₂^-1)      -292.215(p₁^-1)      -27.5938(p₃^-1)\n",
       " 0.0  0.0   2101.66(p₂^-1)      -13856.2(p₁^-1)      -1277.42(p₃^-1)\n",
       " 0.0  0.0  -7062.09(p₂^-1)       46745.5(p₁^-1)       4337.69(p₃^-1)\n",
       " 0.0  0.0    177.139(p₂^-1)      -1179.98(p₁^-1)      -110.866(p₃^-1)"
      ]
     },
     "execution_count": 325,
     "metadata": {},
     "output_type": "execute_result"
    }
   ],
   "source": [
    "H*JSac(flu,con,p)"
   ]
  },
  {
   "cell_type": "code",
   "execution_count": 89,
   "metadata": {},
   "outputs": [
    {
     "data": {
      "text/plain": [
       "0.7500001875000468"
      ]
     },
     "execution_count": 89,
     "metadata": {},
     "output_type": "execute_result"
    }
   ],
   "source": [
    "1/1.333333"
   ]
  },
  {
   "cell_type": "code",
   "execution_count": 64,
   "metadata": {},
   "outputs": [
    {
     "data": {
      "text/plain": [
       "7.407407407407407"
      ]
     },
     "execution_count": 64,
     "metadata": {},
     "output_type": "execute_result"
    }
   ],
   "source": [
    "200/27"
   ]
  },
  {
   "cell_type": "code",
   "execution_count": null,
   "metadata": {},
   "outputs": [],
   "source": []
  }
 ],
 "metadata": {
  "kernelspec": {
   "display_name": "Julia 1.6.1",
   "language": "julia",
   "name": "julia-1.6"
  },
  "language_info": {
   "file_extension": ".jl",
   "mimetype": "application/julia",
   "name": "julia",
   "version": "1.6.1"
  }
 },
 "nbformat": 4,
 "nbformat_minor": 4
}
