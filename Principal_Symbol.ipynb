{
 "cells": [
  {
   "cell_type": "code",
   "execution_count": 166,
   "metadata": {},
   "outputs": [],
   "source": [
    "using Symbolics\n",
    "using LinearAlgebra"
   ]
  },
  {
   "cell_type": "code",
   "execution_count": 54,
   "metadata": {},
   "outputs": [
    {
     "data": {
      "text/plain": [
       "Flux (generic function with 2 methods)"
      ]
     },
     "execution_count": 54,
     "metadata": {},
     "output_type": "execute_result"
    }
   ],
   "source": [
    "function Flux(flu,par)\n",
    "    χ = par\n",
    "    #flux = zeros(5)\n",
    "    μ = -flu[1]  \n",
    "    T = (abs(μ))^(-1//2) \n",
    "    v = flu[2]\n",
    "    x1 = flu[3]\n",
    "    x2 = flu[4]\n",
    "    x3 = flu[5]\n",
    "    χ₀ = χ[1]\n",
    "    χ₁ = χ[2]\n",
    "    χ₂ = χ[3]\n",
    "    γ = (1 - v^2)^(-1//2)\n",
    "    τ = -2χ₁ * x3 * T / (γ*μ^3) - 24χ₂*(1//2*(1-v^2)x3^2 + 14//3 * x2^2 + 7/5*(1-v^2)x1*x3)/μ^5\n",
    "    ρ = -6χ₀ / μ^2 - 6χ₁*x1/(γ * μ^4 * T) - 42χ₂*(6//5 *x1^2 + 10γ^2*x2^2 + 3//2*(v^2-1)^2*x3^2)/(μ^5 * γ^2)\n",
    "    Q = -10χ₀ * x2 * T / μ^3 - 168χ₂ * x2 * (x1 - (v^2 - 1)x3)/(γ * μ^5)\n",
    "\n",
    "    #flux[1] = 4//3 * ρ*γ^2*v + γ*Q*(1+v^2)+ τ*v\n",
    "    #flux[2] = 4//3 * ρ*(γ^2*v^2 + 1//4) + 2v*γ*Q + τ\n",
    "    #flux[3] = χ₁*γ*v*(6*γ^2 - 1)/μ^3/T - 12χ₂*(v*(6γ^2 - 1)*x1 + (6γ^2*(2v^2 + 1)-1)*x2 + v*(v^2+2)*x3)/μ^4\n",
    "    #flux[4] = χ₁*γ*(6γ^2*v^2+1)/μ^3/T - 12χ₂*((6γ^2*v+1)*x1 + v*(6γ^2*(1+v^2)+1)*x2 + (2v^2+1)*x3)/μ^4\n",
    "    #flux[5] = 3χ₁*γ*v*(2γ^2*v^2+1)/μ^3/T - 12χ₂*(v*(6γ^2*v^2+3)*x1 +3*(1+6γ^2*v^2)*x2 + 3v*x3)/μ^4\n",
    "    #return -flux[:]\n",
    "    return [4//3 * ρ*γ^2*v + γ*Q*(1+v^2)+ τ*v; \n",
    "            4//3 * ρ*(γ^2*v^2 + 1//4) + 2v*γ*Q + τ;\n",
    "            -χ₁*γ*v*(6*γ^2 - 1)/μ^3/T - 12χ₂*(v*(6γ^2 - 1)*x1 + (6γ^2*(2v^2 + 1)-1)*x2 + v*(v^2+2)*x3)/μ^4;\n",
    "            -χ₁*γ*(6γ^2*v^2+1)/μ^3/T - 12χ₂*((6γ^2*v+1)*x1 + v*(6γ^2*(1+v^2)+1)*x2 + (2v^2+1)*x3)/μ^4;\n",
    "            -3χ₁*γ*v*(2γ^2*v^2+1)/μ^3/T - 12χ₂*(v*(6γ^2*v^2+3)*x1 +3*(1+6γ^2*v^2)*x2 + 3v*x3)/μ^4]\n",
    "end"
   ]
  },
  {
   "cell_type": "code",
   "execution_count": 55,
   "metadata": {},
   "outputs": [],
   "source": [
    "@variables f[1:5], c[1:5], p[1:3]#, fl[1:5]\n",
    "\n",
    "JFS = Symbolics.jacobian(Flux(f,p),f);\n",
    "JF_exp = Symbolics.build_function(JFS, f, p);\n",
    "JFac = eval(JF_exp[1]);"
   ]
  },
  {
   "cell_type": "code",
   "execution_count": 95,
   "metadata": {},
   "outputs": [
    {
     "data": {
      "text/plain": [
       "3-element Vector{Float64}:\n",
       " -1.0\n",
       " -0.5\n",
       " -5.0"
      ]
     },
     "execution_count": 95,
     "metadata": {},
     "output_type": "execute_result"
    }
   ],
   "source": [
    "@variables x1, x2, x3\n",
    "\n",
    "flu=[-1.;0;0;0;0];\n",
    "con=ones(5)\n",
    "χ=[-1.,-0.5,-5.]"
   ]
  },
  {
   "cell_type": "code",
   "execution_count": 57,
   "metadata": {},
   "outputs": [
    {
     "data": {
      "text/latex": [
       "\\begin{equation}\n",
       "\\left[\n",
       "\\begin{array}{ccccc}\n",
       "0.0 &  - 8 p{_1} & 0.0 &  - 10.0 p{_1} & 0.0 \\\\\n",
       " - 4.0 p{_1} & 0.0 &  - 2.0 p{_2} & 0.0 &  - 2.0 p{_2} \\\\\n",
       "0.0 &  - 5.0 p{_2} & 0.0 &  - 60.0 p{_3} & 0.0 \\\\\n",
       " - 2.5 p{_2} & 0.0 &  - 12 p{_3} & 0.0 &  - 12 p{_3} \\\\\n",
       "0.0 &  - 3.0 p{_2} & 0.0 &  - 36.0 p{_3} & 0.0 \\\\\n",
       "\\end{array}\n",
       "\\right]\n",
       "\\end{equation}\n"
      ],
      "text/plain": [
       "5×5 Matrix{Num}:\n",
       "  0.0    (-8//1)*p₁          0.0    -10.0p₁      0.0\n",
       " -4.0p₁           0.0       -2.0p₂    0.0       -2.0p₂\n",
       "  0.0            -5.0p₂      0.0    -60.0p₃      0.0\n",
       " -2.5p₂           0.0    -12p₃        0.0    -12p₃\n",
       "  0.0            -3.0p₂      0.0    -36.0p₃      0.0"
      ]
     },
     "execution_count": 57,
     "metadata": {},
     "output_type": "execute_result"
    }
   ],
   "source": [
    "JFac(flu,p)"
   ]
  },
  {
   "cell_type": "code",
   "execution_count": 58,
   "metadata": {},
   "outputs": [
    {
     "data": {
      "text/plain": [
       "split_u!"
      ]
     },
     "execution_count": 58,
     "metadata": {},
     "output_type": "execute_result"
    }
   ],
   "source": [
    "include(\"inversion_ext.jl\")"
   ]
  },
  {
   "cell_type": "code",
   "execution_count": 96,
   "metadata": {},
   "outputs": [],
   "source": [
    "flu[1] = -flu[1]\n",
    "con = F(flu,con, p)\n",
    "#flu[1] = -flu[1];"
   ]
  },
  {
   "cell_type": "code",
   "execution_count": 105,
   "metadata": {},
   "outputs": [
    {
     "data": {
      "text/latex": [
       "\\begin{equation}\n",
       "\\left[\n",
       "\\begin{array}{ccccc}\n",
       "12.0 p{_1} & 0.0 &  - 6.0 p{_2} & 0.0 & 0.0 \\\\\n",
       "0.0 &  - 8 p{_1} & 0.0 &  - 10 p{_1} & 0.0 \\\\\n",
       "\\frac{15}{2} p{_2} & -0.0 &  - 36.0 p{_3} & -0.0 & 0.0 \\\\\n",
       "0.0 &  - 15.0 p{_2} & -0.0 &  - 60.0 p{_3} & -0.0 \\\\\n",
       "\\frac{15}{2} p{_2} & 0.0 &  - 12 p{_3} & -0.0 &  - 12 p{_3} \\\\\n",
       "\\end{array}\n",
       "\\right]\n",
       "\\end{equation}\n"
      ],
      "text/plain": [
       "5×5 Matrix{Num}:\n",
       "         12.0p₁           0.0       -6.0p₂      0.0        0.0\n",
       "          0.0    (-8//1)*p₁          0.0    -10p₁          0.0\n",
       " (15//2)*p₂              -0.0      -36.0p₃     -0.0        0.0\n",
       "          0.0           -15.0p₂     -0.0      -60.0p₃     -0.0\n",
       " (15//2)*p₂               0.0    -12p₃         -0.0    -12p₃"
      ]
     },
     "execution_count": 105,
     "metadata": {},
     "output_type": "execute_result"
    }
   ],
   "source": [
    "Jac(flu,con,p)"
   ]
  },
  {
   "cell_type": "code",
   "execution_count": 106,
   "metadata": {},
   "outputs": [
    {
     "data": {
      "text/plain": [
       "P (generic function with 1 method)"
      ]
     },
     "execution_count": 106,
     "metadata": {},
     "output_type": "execute_result"
    }
   ],
   "source": [
    "P(flu,c,p) = Jac(flu,c,p) \\ JFac(flu,p)"
   ]
  },
  {
   "cell_type": "code",
   "execution_count": 164,
   "metadata": {},
   "outputs": [
    {
     "data": {
      "text/latex": [
       "\\begin{equation}\n",
       "\\left[\n",
       "\\begin{array}{ccccc}\n",
       "0.0 & \\frac{0.08333333333333333 \\left(  - 8 p{_1} + \\frac{60.0 p{_2}^{2}}{\\left(  - 36.0 p{_3} + \\frac{3.75 p{_2}^{2}}{p{_1}} \\right)} \\right)}{p{_1}} & 0.0 & \\frac{0.08333333333333333 \\left( 10 p{_1} + \\frac{6.0 p{_2} \\left(  - 6.25 p{_2} - 60.0 p{_3} \\right)}{\\left(  - 36.0 p{_3} + \\frac{3.75 p{_2}^{2}}{p{_1}} \\right)} \\right)}{p{_1}} & 0.0 \\\\\n",
       " - \\frac{\\frac{1}{8} \\left( 4.0 p{_1} - \\frac{100.0 p{_1} p{_2}}{\\left( 18.75 p{_2} - 60.0 p{_3} \\right)} \\right)}{p{_1}} & 0.0 &  - \\frac{\\frac{1}{8} \\left(  - 2.0 p{_2} + \\frac{10 p{_1} \\left(  - 12 p{_3} + \\frac{3.75 p{_2}^{2}}{p{_1}} \\right)}{\\left( 18.75 p{_2} - 60.0 p{_3} \\right)} \\right)}{p{_1}} & 0.0 &  - \\frac{\\frac{1}{8} \\left( 2 p{_2} + \\frac{10 p{_1} \\left(  - 12 p{_3} - \\frac{3.75 p{_2}^{2}}{p{_1}} \\right)}{\\left( 18.75 p{_2} - 60.0 p{_3} \\right)} \\right)}{p{_1}} \\\\\n",
       "0.0 & \\frac{10.0 p{_2}}{\\left(  - 36.0 p{_3} + \\frac{3.75 p{_2}^{2}}{p{_1}} \\right)} & -0.0 & \\frac{\\left(  - 6.25 p{_2} - 60.0 p{_3} \\right)}{\\left(  - 36.0 p{_3} + \\frac{3.75 p{_2}^{2}}{p{_1}} \\right)} & -0.0 \\\\\n",
       " - \\frac{10.0 p{_2}}{\\left( 18.75 p{_2} - 60.0 p{_3} \\right)} & 0.0 & \\frac{\\left(  - 12 p{_3} + \\frac{3.75 p{_2}^{2}}{p{_1}} \\right)}{\\left( 18.75 p{_2} - 60.0 p{_3} \\right)} & -0.0 & \\frac{\\left(  - 12 p{_3} - \\frac{3.75 p{_2}^{2}}{p{_1}} \\right)}{\\left( 18.75 p{_2} - 60.0 p{_3} \\right)} \\\\\n",
       "0.0 &  - \\frac{\\frac{1}{12} \\left( 8.0 p{_2} - \\frac{10.0 p{_2} \\left(  - 12 p{_3} + \\frac{3.75 p{_2}^{2}}{p{_1}} \\right)}{\\left(  - 36.0 p{_3} + \\frac{3.75 p{_2}^{2}}{p{_1}} \\right)} \\right)}{p{_3}} & -0.0 &  - \\frac{\\frac{1}{12} \\left(  - 6.25 p{_2} - 36.0 p{_3} - \\frac{\\left(  - 6.25 p{_2} - 60.0 p{_3} \\right) \\left(  - 12 p{_3} + \\frac{3.75 p{_2}^{2}}{p{_1}} \\right)}{\\left(  - 36.0 p{_3} + \\frac{3.75 p{_2}^{2}}{p{_1}} \\right)} \\right)}{p{_3}} & -0.0 \\\\\n",
       "\\end{array}\n",
       "\\right]\n",
       "\\end{equation}\n"
      ],
      "text/plain": [
       "5×5 Matrix{Num}:\n",
       "                  0.0                                              …                                              0.0\n",
       " (-1//8)*(p₁^-1)*(4.0p₁ - (100.0p₁*p₂*((18.75p₂ - (60.0p₃))^-1)))     (-1//8)*(p₁^-1)*((2//1)*p₂ + 10p₁*(-12p₃ - (3.75(p₁^-1)*(p₂^2)))*((18.75p₂ - (60.0p₃))^-1))\n",
       "                  0.0                                                                                            -0.0\n",
       "                -10.0p₂*((18.75p₂ - (60.0p₃))^-1)                                                       (-12p₃ - (3.75(p₁^-1)*(p₂^2)))*((18.75p₂ - (60.0p₃))^-1)\n",
       "                  0.0                                                                                            -0.0"
      ]
     },
     "execution_count": 164,
     "metadata": {},
     "output_type": "execute_result"
    }
   ],
   "source": [
    "P(flu,c,p)"
   ]
  },
  {
   "cell_type": "code",
   "execution_count": 107,
   "metadata": {},
   "outputs": [
    {
     "data": {
      "text/plain": [
       "5×5 Matrix{Float64}:\n",
       " -0.0  -0.666667  -0.0    0.833333  -0.0\n",
       " -0.5   0.0       -0.25  -0.0       -0.25\n",
       "  0.0   0.0        0.0    1.66667    0.0\n",
       "  0.0   0.0        0.2    0.0        0.2\n",
       "  0.0   0.0        0.0    1.33333    0.0"
      ]
     },
     "execution_count": 107,
     "metadata": {},
     "output_type": "execute_result"
    }
   ],
   "source": [
    "P(flu,c,[-1,0,-1])"
   ]
  },
  {
   "cell_type": "code",
   "execution_count": 108,
   "metadata": {},
   "outputs": [
    {
     "data": {
      "text/plain": [
       "5×5 Matrix{Rational{Int64}}:\n",
       "  0//1  -2//3   0//1  5//6   0//1\n",
       " -1//2   0//1  -1//4  0//1  -1//4\n",
       "  0//1   0//1   0//1  5//3   0//1\n",
       "  0//1   0//1   1//5  0//1   1//5\n",
       "  0//1   0//1   0//1  4//3   0//1"
      ]
     },
     "execution_count": 108,
     "metadata": {},
     "output_type": "execute_result"
    }
   ],
   "source": [
    "M = [0 -2//3 0 5//6 0;\n",
    "    -1//2 0 -1//4 0 -1//4;\n",
    "    0 0 0 5//3 0;\n",
    "    0 0 1//5 0 1//5;\n",
    "    0 0 0 4//3 0]"
   ]
  },
  {
   "cell_type": "code",
   "execution_count": 109,
   "metadata": {},
   "outputs": [
    {
     "data": {
      "text/plain": [
       "5×5 Matrix{Float64}:\n",
       " -0.0  0.0  -0.0  -1.11022e-16  -0.0\n",
       "  0.0  0.0   0.0  -0.0           0.0\n",
       "  0.0  0.0   0.0  -2.22045e-16   0.0\n",
       "  0.0  0.0   0.0   0.0           0.0\n",
       "  0.0  0.0   0.0   0.0           0.0"
      ]
     },
     "execution_count": 109,
     "metadata": {},
     "output_type": "execute_result"
    }
   ],
   "source": [
    "P(flu,c,[-1,0,-1]) - M"
   ]
  },
  {
   "cell_type": "code",
   "execution_count": 110,
   "metadata": {},
   "outputs": [
    {
     "data": {
      "text/plain": [
       "5-element Vector{Float64}:\n",
       " -0.7745966692414842\n",
       " -0.5773502691896256\n",
       "  3.0357660829594124e-18\n",
       "  0.5773502691896258\n",
       "  0.7745966692414837"
      ]
     },
     "execution_count": 110,
     "metadata": {},
     "output_type": "execute_result"
    }
   ],
   "source": [
    "\n",
    "eigvals(M)"
   ]
  },
  {
   "cell_type": "code",
   "execution_count": 177,
   "metadata": {},
   "outputs": [
    {
     "data": {
      "text/plain": [
       "5-element Vector{Float64}:\n",
       " -1.1370084548097363\n",
       " -0.4303061738771479\n",
       "  1.7551571048406045e-18\n",
       "  0.4303061738771482\n",
       "  1.1370084548097377"
      ]
     },
     "execution_count": 177,
     "metadata": {},
     "output_type": "execute_result"
    }
   ],
   "source": [
    "eigvals(P(flu,c,[-1,-0.5,-1]))"
   ]
  },
  {
   "cell_type": "code",
   "execution_count": 178,
   "metadata": {},
   "outputs": [
    {
     "data": {
      "text/plain": [
       "Is (generic function with 1 method)"
      ]
     },
     "execution_count": 178,
     "metadata": {},
     "output_type": "execute_result"
    }
   ],
   "source": [
    "function Is(flu,par)\n",
    "    χ = par #only used to test otherwise are defined below. a is and amplitude to change I from outside\n",
    "    μ = flu[1] \n",
    "    χ₀= χ[1]\n",
    "    χ₁= -χ[2] # lo hacemos positivo\n",
    "    κ = χ₀*μ^5/(15π*χ₁^2) # OK \n",
    "    λ = -χ₀*μ^4/(1π*χ₁^2)   # OK\n",
    "    T = (μ)^(-1//2) # use μ positive, so I changed μ -> -μ\n",
    "    v = flu[2]\n",
    "    x1 = flu[3]\n",
    "    x2 = flu[4]\n",
    "    x3 = flu[5]\n",
    "    γ = (1. - v^2)^(-1//2)\n",
    "    #Is[1] = 0.\n",
    "    #Is[2] = 0.\n",
    "    #Is[3] = -2//5*a*(γ^2-1//4)*T*x1/(γ*λ) - 2γ*v*x2/T/κ - v^2*T*x3/(γ*λ)\n",
    "    #Is[4] = -2//5*a*γ*v*T*x1/λ - γ*(v^2+1)*x2/T/κ - v*T*x3/(γ*λ)\n",
    "    #Is[5] = -2//5*a*(γ^2*v^2+1//4)*T*x1/λ/γ - 2γ*v*x2/T/κ - T*x3/(γ*λ)\n",
    "    #return Is[:]      #(1 - ℯ^(-5. *t))\n",
    "    return [0.;\n",
    "            0.;\n",
    "            -2//5*(γ^2-1//4)*T*x1/(γ*λ) - 2γ*v*x2/T/κ - v^2*T*x3/(γ*λ);\n",
    "            -2//5*γ*v*T*x1/λ - γ*(v^2+1)*x2/T/κ - v*T*x3/(γ*λ);\n",
    "            -2//5*(γ^2*v^2+1//4)*T*x1/λ/γ - 2γ*v*x2/T/κ - T*x3/(γ*λ)\n",
    "            ]\n",
    "end"
   ]
  },
  {
   "cell_type": "code",
   "execution_count": 179,
   "metadata": {},
   "outputs": [
    {
     "data": {
      "text/latex": [
       "\\begin{equation}\n",
       "\\left[\n",
       "\\begin{array}{c}\n",
       "0.0 \\\\\n",
       "0.0 \\\\\n",
       " - \\frac{94.24777960769379 p{_2}^{2} f{_2} f{_4}}{\\left( 1.0 - f{_2}^{2} \\right)^{\\frac{1}{2}} p{_1} f{_1}^{\\frac{9}{2}}} - \\frac{3.141592653589793 \\left( 1.0 - f{_2}^{2} \\right)^{\\frac{1}{2}} p{_2}^{2} f{_3} \\left( \\frac{1}{10} - \\frac{\\frac{2}{5}}{\\left( 1.0 - f{_2}^{2} \\right)} \\right)}{p{_1} f{_1}^{\\frac{9}{2}}} + \\frac{3.141592653589793 \\left( 1.0 - f{_2}^{2} \\right)^{\\frac{1}{2}} p{_2}^{2} f{_2}^{2} f{_5}}{p{_1} f{_1}^{\\frac{9}{2}}} \\\\\n",
       "\\frac{1.2566370614359172 p{_2}^{2} f{_2} f{_3}}{\\left( 1.0 - f{_2}^{2} \\right)^{\\frac{1}{2}} p{_1} f{_1}^{\\frac{9}{2}}} + \\frac{3.141592653589793 \\left( 1.0 - f{_2}^{2} \\right)^{\\frac{1}{2}} p{_2}^{2} f{_2} f{_5}}{p{_1} f{_1}^{\\frac{9}{2}}} - \\frac{47.12388980384689 p{_2}^{2} f{_4} \\left( 1 + f{_2}^{2} \\right)}{\\left( 1.0 - f{_2}^{2} \\right)^{\\frac{1}{2}} p{_1} f{_1}^{\\frac{9}{2}}} \\\\\n",
       "\\frac{3.141592653589793 \\left( 1.0 - f{_2}^{2} \\right)^{\\frac{1}{2}} p{_2}^{2} f{_5}}{p{_1} f{_1}^{\\frac{9}{2}}} - \\frac{94.24777960769379 p{_2}^{2} f{_2} f{_4}}{\\left( 1.0 - f{_2}^{2} \\right)^{\\frac{1}{2}} p{_1} f{_1}^{\\frac{9}{2}}} - \\frac{3.141592653589793 \\left( 1.0 - f{_2}^{2} \\right)^{\\frac{1}{2}} p{_2}^{2} f{_3} \\left( \\frac{-1}{10} - \\frac{\\frac{2}{5} f{_2}^{2}}{\\left( 1.0 - f{_2}^{2} \\right)} \\right)}{p{_1} f{_1}^{\\frac{9}{2}}} \\\\\n",
       "\\end{array}\n",
       "\\right]\n",
       "\\end{equation}\n"
      ],
      "text/plain": [
       "5-element Vector{Num}:\n",
       " 0.0\n",
       " 0.0\n",
       " 3.141592653589793f₅*(f₁^(-9//2))*(f₂^2)*(p₁^-1)*(p₂^2)*((1.0 - (f₂^2))^(1//2)) - (94.24777960769379f₂*f₄*(f₁^(-9//2))*(p₁^-1)*(p₂^2)*((1.0 - (f₂^2))^(-1//2))) - (3.141592653589793f₃*(f₁^(-9//2))*(p₁^-1)*(p₂^2)*((1.0 - (f₂^2))^(1//2))*((1//10) - ((2//5)*((1.0 - (f₂^2))^(-1//1)))))\n",
       " 1.2566370614359172f₂*f₃*(f₁^(-9//2))*(p₁^-1)*(p₂^2)*((1.0 - (f₂^2))^(-1//2)) + 3.141592653589793f₂*f₅*(f₁^(-9//2))*(p₁^-1)*(p₂^2)*((1.0 - (f₂^2))^(1//2)) - (47.12388980384689f₄*(f₁^(-9//2))*(p₁^-1)*(p₂^2)*(1 + f₂^2)*((1.0 - (f₂^2))^(-1//2)))\n",
       " 3.141592653589793f₅*(f₁^(-9//2))*(p₁^-1)*(p₂^2)*((1.0 - (f₂^2))^(1//2)) - (94.24777960769379f₂*f₄*(f₁^(-9//2))*(p₁^-1)*(p₂^2)*((1.0 - (f₂^2))^(-1//2))) - (3.141592653589793f₃*(f₁^(-9//2))*(p₁^-1)*(p₂^2)*((1.0 - (f₂^2))^(1//2))*((-1//10) - ((2//5)*(f₂^2)*((1.0 - (f₂^2))^(-1//1)))))"
      ]
     },
     "execution_count": 179,
     "metadata": {},
     "output_type": "execute_result"
    }
   ],
   "source": [
    "Is(f,p)"
   ]
  },
  {
   "cell_type": "code",
   "execution_count": 180,
   "metadata": {},
   "outputs": [],
   "source": [
    "JSS = Symbolics.jacobian(Is(f,p),f);\n",
    "JS_exp = Symbolics.build_function(JSS, f, p);\n",
    "JSac = eval(JS_exp[1]);"
   ]
  },
  {
   "cell_type": "code",
   "execution_count": 181,
   "metadata": {},
   "outputs": [
    {
     "data": {
      "text/latex": [
       "\\begin{equation}\n",
       "\\left[\n",
       "\\begin{array}{ccccc}\n",
       "0 & 0 & 0 & 0 & 0 \\\\\n",
       "0 & 0 & 0 & 0 & 0 \\\\\n",
       "0.0 & 0.0 & \\frac{0.942477796076938 p{_2}^{2}}{p{_1}} & -0.0 & 0.0 \\\\\n",
       "0.0 & 0.0 & 0.0 &  - \\frac{47.12388980384689 p{_2}^{2}}{p{_1}} & 0.0 \\\\\n",
       "0.0 & 0.0 & \\frac{0.3141592653589793 p{_2}^{2}}{p{_1}} & -0.0 & \\frac{3.141592653589793 p{_2}^{2}}{p{_1}} \\\\\n",
       "\\end{array}\n",
       "\\right]\n",
       "\\end{equation}\n"
      ],
      "text/plain": [
       "5×5 Matrix{Num}:\n",
       " 0    0    0                       …  0\n",
       " 0    0    0                          0\n",
       " 0.0  0.0  0.942478(p₁^-1)*(p₂^2)     0.0\n",
       " 0.0  0.0  0.0                        0.0\n",
       " 0.0  0.0  0.314159(p₁^-1)*(p₂^2)     3.14159(p₁^-1)*(p₂^2)"
      ]
     },
     "execution_count": 181,
     "metadata": {},
     "output_type": "execute_result"
    }
   ],
   "source": [
    "flu=[1.;0;0;0;0];\n",
    "con=ones(5)\n",
    "JSac(flu,p)"
   ]
  },
  {
   "cell_type": "code",
   "execution_count": 182,
   "metadata": {},
   "outputs": [
    {
     "data": {
      "text/plain": [
       "II (generic function with 1 method)"
      ]
     },
     "execution_count": 182,
     "metadata": {},
     "output_type": "execute_result"
    }
   ],
   "source": [
    "II(flu,c,p) = Jac(flu,c,p) \\ JSac(flu,p)"
   ]
  },
  {
   "cell_type": "code",
   "execution_count": 183,
   "metadata": {},
   "outputs": [
    {
     "data": {
      "text/latex": [
       "\\begin{equation}\n",
       "\\left[\n",
       "\\begin{array}{ccccc}\n",
       "0 & 0 & \\frac{0.471238898038469 p{_2}^{3}}{\\left(  - 36.0 p{_3} + \\frac{3.75 p{_2}^{2}}{p{_1}} \\right) p{_1}^{2}} & 0 & 0 \\\\\n",
       "0 & 0 & 0 & \\frac{58.90486225480862 p{_2}^{2}}{\\left( 18.75 p{_2} - 60.0 p{_3} \\right) p{_1}} & 0 \\\\\n",
       "0.0 & 0.0 & \\frac{0.942477796076938 p{_2}^{2}}{\\left(  - 36.0 p{_3} + \\frac{3.75 p{_2}^{2}}{p{_1}} \\right) p{_1}} & -0.0 & 0.0 \\\\\n",
       "0.0 & 0.0 & 0.0 &  - \\frac{47.12388980384689 p{_2}^{2}}{\\left( 18.75 p{_2} - 60.0 p{_3} \\right) p{_1}} & 0.0 \\\\\n",
       "0.0 & 0.0 &  - \\frac{\\frac{1}{12} \\left( \\frac{0.3141592653589793 p{_2}^{2}}{p{_1}} - \\frac{0.942477796076938 p{_2}^{2} \\left(  - 12 p{_3} + \\frac{3.75 p{_2}^{2}}{p{_1}} \\right)}{\\left(  - 36.0 p{_3} + \\frac{3.75 p{_2}^{2}}{p{_1}} \\right) p{_1}} \\right)}{p{_3}} & -0.0 &  - \\frac{0.2617993877991494 p{_2}^{2}}{p{_3} p{_1}} \\\\\n",
       "\\end{array}\n",
       "\\right]\n",
       "\\end{equation}\n"
      ],
      "text/plain": [
       "5×5 Matrix{Num}:\n",
       " 0    0    …   0\n",
       " 0    0        0\n",
       " 0.0  0.0      0.0\n",
       " 0.0  0.0      0.0\n",
       " 0.0  0.0     -0.261799(p₁^-1)*(p₂^2)*(p₃^-1)"
      ]
     },
     "execution_count": 183,
     "metadata": {},
     "output_type": "execute_result"
    }
   ],
   "source": [
    "II(flu,c,p)"
   ]
  },
  {
   "cell_type": "code",
   "execution_count": 202,
   "metadata": {},
   "outputs": [
    {
     "data": {
      "text/plain": [
       "5-element Vector{ComplexF64}:\n",
       "  -0.04053667940115862 + 0.0im\n",
       "                   0.0 - 0.0im\n",
       "                   0.0 + 0.0im\n",
       " 0.0013158503261109084 + 0.0im\n",
       "   0.01308996938995747 + 0.0im"
      ]
     },
     "execution_count": 202,
     "metadata": {},
     "output_type": "execute_result"
    }
   ],
   "source": [
    "par = [-1,-0.50,-5]\n",
    "eigvals(0.0*im .* P(flu,c,par) - II(flu,c,par))"
   ]
  },
  {
   "cell_type": "code",
   "execution_count": null,
   "metadata": {},
   "outputs": [],
   "source": []
  }
 ],
 "metadata": {
  "kernelspec": {
   "display_name": "Julia 1.6.0",
   "language": "julia",
   "name": "julia-1.6"
  },
  "language_info": {
   "file_extension": ".jl",
   "mimetype": "application/julia",
   "name": "julia",
   "version": "1.6.1"
  }
 },
 "nbformat": 4,
 "nbformat_minor": 4
}
