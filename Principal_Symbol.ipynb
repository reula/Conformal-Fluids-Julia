{
 "cells": [
  {
   "cell_type": "markdown",
   "metadata": {},
   "source": [
    "## Fluídos Conformes\n",
    "\n",
    "Código para testear la estabilidad alrededor de una solución de equilibrio.\n",
    "\n",
    "Las ecuaciones son:\n",
    "\n",
    "$(\\zeta^a, \\zeta^{ab})$ -> $f^j = (\\mu, v, x_i)$ -> $(-1,0,0,0,0)$\n",
    "\n",
    "$$\n",
    "\\partial_t c^j = \\partial_i F^{ij}(f) + I^j(f) = \\frac{\\partial F^{ij}}{\\partial f^k}\\partial_i f^k\n",
    "$$\n",
    "\n",
    "$$\n",
    "c^j = C^j(f) = (e, S, c_i)\n",
    "$$\n",
    "\n",
    "Lo que hacemos es tomar el jacobiano del flujo,\n",
    "\n",
    "$\\frac{\\partial F^i}{\\partial f^j}$ donde $f^j$ son las variables no conservativas para las cuales tenemos las expresiones del Flujo. \n",
    "A estas las multiplicamos por $[\\frac{\\partial c^k}{\\partial f^j}]^{-1}$.\n",
    "Tenemos así \n",
    "\n",
    "$$\n",
    "P^{il}{}_j := \\frac{\\partial F^{il}}{\\partial c^j} = \\frac{\\partial F^{il}}{\\partial f^k}\\frac{\\partial f^k}{\\partial c^j}.\n",
    "$$\n",
    "\n",
    "Evaluamos todo en el vector $(-1,0,0,0,0)$ o sea estamos en el frame con velocidad cero y todas las variables fuera de equilibrio también cero.\n",
    "\n",
    "Lo mismo hacemos con la fuente. \n",
    "Tenemos así el sistema linearizado en el punto de equilibrio en las variables conservativas. Multiplicamos $P^i{}_j$ por un número complejo cualquiera y para todos ellos los autovalores debieran tener parte real negativa o nula. Pero no es así..."
   ]
  },
  {
   "cell_type": "code",
   "execution_count": 4,
   "metadata": {},
   "outputs": [
    {
     "name": "stderr",
     "output_type": "stream",
     "text": [
      "┌ Info: Precompiling Symbolics [0c5d862f-8b57-4792-8d23-62f2024744c7]\n",
      "└ @ Base loading.jl:1317\n"
     ]
    }
   ],
   "source": [
    "using Symbolics\n",
    "using LinearAlgebra"
   ]
  },
  {
   "cell_type": "code",
   "execution_count": 97,
   "metadata": {},
   "outputs": [
    {
     "data": {
      "text/plain": [
       "Flux (generic function with 1 method)"
      ]
     },
     "execution_count": 97,
     "metadata": {},
     "output_type": "execute_result"
    }
   ],
   "source": [
    "function Flux(flu,par)\n",
    "    χ = par\n",
    "    #flux = zeros(5)\n",
    "    μ = flu[1]  \n",
    "    T = (abs(μ))^(-1//2) \n",
    "    v = flu[2]\n",
    "    x1 = flu[3]\n",
    "    x2 = flu[4]\n",
    "    x3 = flu[5]\n",
    "    χ₀ = χ[1]\n",
    "    χ₁ = χ[2]\n",
    "    χ₂ = χ[3]\n",
    "    γ = (1 - v^2)^(-1//2)\n",
    "    τ = 2χ₁ * x3 * T / (γ*μ^3) + 24χ₂*(1//2*(1-v^2)x3^2 + 14//3 * x2^2 + 7/5*(1-v^2)x1*x3)/μ^5\n",
    "    ρ = -6χ₀ / μ^2 - 6χ₁*x1/(γ * μ^4 * T) + 42χ₂*(6//5 *x1^2 + 10γ^2*x2^2 + 3//2*(v^2-1)^2*x3^2)/(μ^5 * γ^2)\n",
    "#    Q = 10χ₀ * x2 * T / μ^3 + 168χ₂ * x2 * (x1 - (v^2 - 1)x3)/(γ * μ^5)\n",
    "    Q = 10χ₁ * x2 * T / μ^3 + 168χ₂ * x2 * (x1 - (v^2 - 1)x3)/(γ * μ^5)\n",
    "    #flux[1] = 4//3 * ρ*γ^2*v + γ*Q*(1+v^2)+ τ*v\n",
    "    #flux[2] = 4//3 * ρ*(γ^2*v^2 + 1//4) + 2v*γ*Q + τ\n",
    "    #flux[3] = χ₁*γ*v*(6*γ^2 - 1)/μ^3/T - 12χ₂*(v*(6γ^2 - 1)*x1 + (6γ^2*(2v^2 + 1)-1)*x2 + v*(v^2+2)*x3)/μ^4\n",
    "    #flux[4] = χ₁*γ*(6γ^2*v^2+1)/μ^3/T - 12χ₂*((6γ^2*v+1)*x1 + v*(6γ^2*(1+v^2)+1)*x2 + (2v^2+1)*x3)/μ^4\n",
    "    #flux[5] = 3χ₁*γ*v*(2γ^2*v^2+1)/μ^3/T - 12χ₂*(v*(6γ^2*v^2+3)*x1 +3*(1+6γ^2*v^2)*x2 + 3v*x3)/μ^4\n",
    "    #return -flux[:]\n",
    "    return [4//3 * ρ*γ^2*v + γ*Q*(1+v^2)+ τ*v; \n",
    "            4//3 * ρ*(γ^2*v^2 + 1//4) + 2v*γ*Q + τ;\n",
    "            χ₁*γ*v*(6*γ^2 - 1)/μ^3/T   - 12χ₂*(v*(6γ^2 - 1)*x1   + (6γ^2*(2v^2 + 1)-1)*x2 + v*(v^2+2)*x3)/μ^4;\n",
    "            χ₁*γ*(6γ^2*v^2+1)/μ^3/T    - 12χ₂*((6γ^2*v+1)*x1     + v*(6γ^2*(1+v^2)+1)*x2  + (2v^2+1)*x3)/μ^4;\n",
    "            3χ₁*γ*v*(2γ^2*v^2+1)/μ^3/T - 12χ₂*(v*(6γ^2*v^2+3)*x1 + 3*(1+6γ^2*v^2)*x2      + 3v*x3)/μ^4]\n",
    "end"
   ]
  },
  {
   "cell_type": "markdown",
   "metadata": {},
   "source": [
    "Chequeamos con los valores de Marcelo. "
   ]
  },
  {
   "cell_type": "code",
   "execution_count": 98,
   "metadata": {},
   "outputs": [],
   "source": [
    "χ = [- 1.; - 2.; - 10.]\n",
    "flu = [- 5.; 0.5; 2.1; 0.5; 5.1]\n",
    "Flu = [5.921317694643806; 6.02302807825841; 3.713391378258412;  4.136735467078638; 3.444079555898864]\n",
    "\n",
    "Flux(flu,χ) - Flu;"
   ]
  },
  {
   "cell_type": "markdown",
   "metadata": {},
   "source": [
    "Calculamos el Jacobiano"
   ]
  },
  {
   "cell_type": "code",
   "execution_count": 99,
   "metadata": {},
   "outputs": [],
   "source": [
    "@variables f[1:5], c[1:5], p[1:3]#, fl[1:5]\n",
    "\n",
    "JFS = Symbolics.jacobian(Flux(f,p),f);\n",
    "JF_exp = Symbolics.build_function(JFS, f, p);\n",
    "JFac = eval(JF_exp[1]);"
   ]
  },
  {
   "cell_type": "markdown",
   "metadata": {},
   "source": [
    "Definimos algunos valores para testear"
   ]
  },
  {
   "cell_type": "code",
   "execution_count": 100,
   "metadata": {
    "tags": []
   },
   "outputs": [
    {
     "data": {
      "text/plain": [
       "3-element Vector{Float64}:\n",
       " -1.0\n",
       " -0.5\n",
       " -5.0"
      ]
     },
     "execution_count": 100,
     "metadata": {},
     "output_type": "execute_result"
    }
   ],
   "source": [
    "@variables x1, x2, x3\n",
    "\n",
    "flu=[-1.;0;0;0;0];\n",
    "con=ones(5)\n",
    "χ=[-1.,-0.5,-5.]"
   ]
  },
  {
   "cell_type": "markdown",
   "metadata": {},
   "source": [
    "El Jacobiano en equilibrio."
   ]
  },
  {
   "cell_type": "code",
   "execution_count": 101,
   "metadata": {
    "tags": []
   },
   "outputs": [
    {
     "data": {
      "text/latex": [
       "\\begin{equation}\n",
       "\\left[\n",
       "\\begin{array}{ccccc}\n",
       "0.0 &  - 8 p{_1} & 0.0 &  - 10.0 p{_2} & 0.0 \\\\\n",
       " - 4.0 p{_1} & 0.0 &  - 2.0 p{_2} & 0.0 &  - 2.0 p{_2} \\\\\n",
       "0.0 &  - 5.0 p{_2} & -0.0 &  - 60.0 p{_3} & -0.0 \\\\\n",
       " - 2.5 p{_2} & 0.0 &  - 12 p{_3} & -0.0 &  - 12 p{_3} \\\\\n",
       "0.0 &  - 3.0 p{_2} & -0.0 &  - 36.0 p{_3} & -0.0 \\\\\n",
       "\\end{array}\n",
       "\\right]\n",
       "\\end{equation}\n"
      ],
      "text/plain": [
       "5×5 Matrix{Num}:\n",
       "  0.0    (-8//1)*p₁          0.0    -10.0p₂      0.0\n",
       " -4.0p₁           0.0       -2.0p₂    0.0       -2.0p₂\n",
       "  0.0            -5.0p₂     -0.0    -60.0p₃     -0.0\n",
       " -2.5p₂           0.0    -12p₃       -0.0    -12p₃\n",
       "  0.0            -3.0p₂     -0.0    -36.0p₃     -0.0"
      ]
     },
     "execution_count": 101,
     "metadata": {},
     "output_type": "execute_result"
    }
   ],
   "source": [
    "JFac(flu,p)"
   ]
  },
  {
   "cell_type": "markdown",
   "metadata": {},
   "source": [
    "Ahora traemos el Jacobiano de la transformación entre las variables fluido/conservativas."
   ]
  },
  {
   "cell_type": "code",
   "execution_count": 102,
   "metadata": {},
   "outputs": [],
   "source": [
    "include(\"inversion_ext.jl\");"
   ]
  },
  {
   "cell_type": "markdown",
   "metadata": {},
   "source": [
    "Para posterior uso calculamos las variables conservativas correspondientes al estado de equilibrio. Esto no me lo esperaba, pensaba que me darían c1=c2=c3=0!"
   ]
  },
  {
   "cell_type": "code",
   "execution_count": 175,
   "metadata": {
    "tags": []
   },
   "outputs": [],
   "source": [
    "con = F(flu,zeros(5), p);"
   ]
  },
  {
   "cell_type": "code",
   "execution_count": 176,
   "metadata": {
    "tags": []
   },
   "outputs": [
    {
     "data": {
      "text/latex": [
       "\\begin{equation}\n",
       "\\left[\n",
       "\\begin{array}{ccccc}\n",
       "12.0 p{_1} & 0.0 &  - 6.0 p{_2} & 0.0 & 0.0 \\\\\n",
       "0.0 &  - 8 p{_1} & 0.0 & 10 p{_1} & 0.0 \\\\\n",
       " - 7.5 p{_2} & 0.0 &  - 36.0 p{_3} & -0.0 & 0.0 \\\\\n",
       "0.0 & 15.0 p{_2} & -0.0 &  - 60.0 p{_3} & -0.0 \\\\\n",
       " - 7.5 p{_2} & 0.0 &  - 12 p{_3} & -0.0 &  - 12 p{_3} \\\\\n",
       "\\end{array}\n",
       "\\right]\n",
       "\\end{equation}\n"
      ],
      "text/plain": [
       "5×5 Matrix{Num}:\n",
       " 12.0p₁           0.0       -6.0p₂     0.0        0.0\n",
       "  0.0    (-8//1)*p₁          0.0    10p₁          0.0\n",
       " -7.5p₂           0.0      -36.0p₃    -0.0        0.0\n",
       "  0.0            15.0p₂     -0.0     -60.0p₃     -0.0\n",
       " -7.5p₂           0.0    -12p₃        -0.0    -12p₃"
      ]
     },
     "execution_count": 176,
     "metadata": {},
     "output_type": "execute_result"
    }
   ],
   "source": [
    "Jac(flu,con,p)"
   ]
  },
  {
   "cell_type": "code",
   "execution_count": 177,
   "metadata": {},
   "outputs": [
    {
     "data": {
      "text/plain": [
       "P (generic function with 1 method)"
      ]
     },
     "execution_count": 177,
     "metadata": {},
     "output_type": "execute_result"
    }
   ],
   "source": [
    "P(flu,c,p) = Jac(flu,c,p) \\ JFac(flu,p)"
   ]
  },
  {
   "cell_type": "code",
   "execution_count": 179,
   "metadata": {
    "tags": []
   },
   "outputs": [],
   "source": [
    "P(flu,c,p);"
   ]
  },
  {
   "cell_type": "code",
   "execution_count": 180,
   "metadata": {},
   "outputs": [
    {
     "data": {
      "text/latex": [
       "\\begin{equation}\n",
       "\\left[\n",
       "\\begin{array}{ccccc}\n",
       "0.0 &  - \\frac{\\frac{1}{8} \\left( 4.0 p{_1} - \\frac{50.0 p{_1} p{_2}}{\\left( 18.75 p{_2} - 60.0 p{_3} \\right)} \\right)}{p{_1}} & 0.0 & \\frac{5.0 p{_2}}{\\left( 18.75 p{_2} - 60.0 p{_3} \\right)} & 0.0 \\\\\n",
       "-0.6666666666666666 & 0.0 & 0 & 0.0 & \\frac{0.16666666666666666 p{_2}}{p{_3}} \\\\\n",
       "0.0 &  - \\frac{\\frac{1}{8} \\left(  - 2.0 p{_2} - \\frac{10 p{_1} \\left(  - 12 p{_3} - \\frac{3.75 p{_2}^{2}}{p{_1}} \\right)}{\\left( 18.75 p{_2} - 60.0 p{_3} \\right)} \\right)}{p{_1}} & -0.0 & \\frac{\\left(  - 12 p{_3} - \\frac{3.75 p{_2}^{2}}{p{_1}} \\right)}{\\left( 18.75 p{_2} - 60.0 p{_3} \\right)} & -0.0 \\\\\n",
       "\\frac{0.08333333333333333 \\left( 10 p{_2} + \\frac{6.0 p{_2} \\left(  - 60.0 p{_3} + \\frac{6.25 p{_2}^{2}}{p{_1}} \\right)}{\\left(  - 36.0 p{_3} - \\frac{3.75 p{_2}^{2}}{p{_1}} \\right)} \\right)}{p{_1}} & 0.0 & \\frac{\\left(  - 60.0 p{_3} + \\frac{6.25 p{_2}^{2}}{p{_1}} \\right)}{\\left(  - 36.0 p{_3} - \\frac{3.75 p{_2}^{2}}{p{_1}} \\right)} & -0.0 &  - \\frac{\\frac{1}{12} \\left(  - 36.0 p{_3} + \\frac{6.25 p{_2}^{2}}{p{_1}} - \\frac{\\left(  - 12 p{_3} - \\frac{3.75 p{_2}^{2}}{p{_1}} \\right) \\left(  - 60.0 p{_3} + \\frac{6.25 p{_2}^{2}}{p{_1}} \\right)}{\\left(  - 36.0 p{_3} - \\frac{3.75 p{_2}^{2}}{p{_1}} \\right)} \\right)}{p{_3}} \\\\\n",
       "0.0 &  - \\frac{\\frac{1}{8} \\left( 2 p{_2} - \\frac{10 p{_1} \\left(  - 12 p{_3} + \\frac{3.75 p{_2}^{2}}{p{_1}} \\right)}{\\left( 18.75 p{_2} - 60.0 p{_3} \\right)} \\right)}{p{_1}} & -0.0 & \\frac{\\left(  - 12 p{_3} + \\frac{3.75 p{_2}^{2}}{p{_1}} \\right)}{\\left( 18.75 p{_2} - 60.0 p{_3} \\right)} & -0.0 \\\\\n",
       "\\end{array}\n",
       "\\right]\n",
       "\\end{equation}\n"
      ],
      "text/plain": [
       "5×5 adjoint(::Matrix{Num}) with eltype Num:\n",
       "  0.0                                                                                                    …            0.0\n",
       " -0.666667                                                                                                            0.166667p₂*(p₃^-1)\n",
       "  0.0                                                                                                                -0.0\n",
       "  0.0833333(p₁^-1)*(10p₂ + 6.0p₂*(6.25(p₁^-1)*(p₂^2) - (60.0p₃))*((-36.0p₃ - (3.75(p₁^-1)*(p₂^2)))^-1))     (-1//12)*(6.25(p₁^-1)*(p₂^2) - (36.0p₃) - ((-12p₃ - (3.75(p₁^-1)*(p₂^2)))*(6.25(p₁^-1)*(p₂^2) - (60.0p₃))*((-36.0p₃ - (3.75(p₁^-1)*(p₂^2)))^-1)))*(p₃^-1)\n",
       "  0.0                                                                                                                -0.0"
      ]
     },
     "execution_count": 180,
     "metadata": {},
     "output_type": "execute_result"
    }
   ],
   "source": [
    "P(flu,c,p)'"
   ]
  },
  {
   "cell_type": "code",
   "execution_count": 108,
   "metadata": {},
   "outputs": [
    {
     "data": {
      "text/latex": [
       "\\begin{equation}\n",
       " - \\frac{0.08333333333333333 \\left(  - 10.0 p{_2} + \\frac{6.0 p{_2} \\left(  - 60.0 p{_3} + \\frac{6.25 p{_2}^{2}}{p{_1}} \\right)}{\\left(  - 36.0 p{_3} + \\frac{3.75 p{_2}^{2}}{p{_1}} \\right)} \\right) \\left(  - 36.0 p{_3} + \\frac{3.75 p{_2}^{2}}{p{_1}} \\right)}{\\left(  - 60.0 p{_3} + \\frac{6.25 p{_2}^{2}}{p{_1}} \\right) p{_1}}\n",
       "\\end{equation}\n"
      ],
      "text/plain": [
       "-0.08333333333333333(p₁^-1)*(6.0p₂*(6.25(p₁^-1)*(p₂^2) - (60.0p₃))*((3.75(p₁^-1)*(p₂^2) - (36.0p₃))^-1) - (10.0p₂))*(3.75(p₁^-1)*(p₂^2) - (36.0p₃))*((6.25(p₁^-1)*(p₂^2) - (60.0p₃))^-1)"
      ]
     },
     "execution_count": 108,
     "metadata": {},
     "output_type": "execute_result"
    }
   ],
   "source": [
    "Ratio = P(flu,c,p)'[4,1]/P(flu,c,p)'[4,3]"
   ]
  },
  {
   "cell_type": "code",
   "execution_count": 109,
   "metadata": {},
   "outputs": [],
   "source": [
    "#par_f = [-1,-0.5,-10]\n",
    "#substitute(P(flu,c,p)'[4,1]/P(flu,c,p)'[4,3], (Dict(p => par_f),))\n"
   ]
  },
  {
   "cell_type": "code",
   "execution_count": 110,
   "metadata": {},
   "outputs": [
    {
     "data": {
      "text/latex": [
       "\\begin{equation}\n",
       "\\frac{\\left( 120 p{_1} \\left(  - 36 p{_3} - \\frac{3.75 p{_2}^{2}}{p{_1}} \\right) + 72 p{_2} \\left( 6.25 p{_2} - 60 p{_3} \\right) \\right)}{\\left( 6.25 p{_2} - 60 p{_3} \\right) p{_1}}\n",
       "\\end{equation}\n"
      ],
      "text/plain": [
       "(p₁^-1)*((6.25p₂ - (60p₃))^-1)*(120p₁*(-36p₃ - (3.75(p₁^-1)*(p₂^2))) + 72p₂*(6.25p₂ - (60p₃)))"
      ]
     },
     "execution_count": 110,
     "metadata": {},
     "output_type": "execute_result"
    }
   ],
   "source": [
    "simplify(12*(10p[1]*(-36p[3] - 3.75p[2]^2/p[1]) + 6p[2]*(6.25p[2] - 60p[3])) / (6.25p[2] - 60p[3]) / p[1])"
   ]
  },
  {
   "cell_type": "code",
   "execution_count": 111,
   "metadata": {},
   "outputs": [
    {
     "data": {
      "text/plain": [
       "0.0"
      ]
     },
     "execution_count": 111,
     "metadata": {},
     "output_type": "execute_result"
    }
   ],
   "source": [
    "par_f = [-1,-0.5,-10]\n",
    "P(flu,c,par_f)'[4,1]/P(flu,c,par_f)'[4,3]"
   ]
  },
  {
   "cell_type": "markdown",
   "metadata": {},
   "source": [
    "Miramos primero el caso donde las variables están desacopladas, es decir con $\\chi_1=0$."
   ]
  },
  {
   "cell_type": "code",
   "execution_count": 181,
   "metadata": {},
   "outputs": [
    {
     "data": {
      "text/plain": [
       "5×5 Matrix{Float64}:\n",
       " -0.0  -0.666667  -0.0   -0.0      -0.0\n",
       " -0.5   0.0        0.25   0.0       0.25\n",
       "  0.0   0.0        0.0    1.66667   0.0\n",
       "  0.0   0.0        0.2    0.0       0.2\n",
       "  0.0   0.0        0.0    1.33333   0.0"
      ]
     },
     "execution_count": 181,
     "metadata": {},
     "output_type": "execute_result"
    }
   ],
   "source": [
    "P(flu,c,[-1,0,-1])"
   ]
  },
  {
   "cell_type": "markdown",
   "metadata": {},
   "source": [
    "Vemos que se corresponde con la siguiente matriz racional."
   ]
  },
  {
   "cell_type": "code",
   "execution_count": 188,
   "metadata": {},
   "outputs": [
    {
     "data": {
      "text/plain": [
       "5×5 Matrix{Rational{Int64}}:\n",
       "  0//1  -2//3  0//1  0//1  0//1\n",
       " -1//2   0//1  1//4  0//1  1//4\n",
       "  0//1   0//1  0//1  5//3  0//1\n",
       "  0//1   0//1  1//5  0//1  1//5\n",
       "  0//1   0//1  0//1  4//3  0//1"
      ]
     },
     "execution_count": 188,
     "metadata": {},
     "output_type": "execute_result"
    }
   ],
   "source": [
    "M = [0 -2//3 0 0 0;\n",
    "    -1//2 0 1//4 0 1//4;\n",
    "    0 0 0 5//3 0;\n",
    "    0 0 1//5 0 1//5;\n",
    "    0 0 0 4//3 0]"
   ]
  },
  {
   "cell_type": "code",
   "execution_count": 189,
   "metadata": {},
   "outputs": [
    {
     "data": {
      "text/plain": [
       "5×5 Matrix{Float64}:\n",
       " -0.0  0.0  -0.0  -0.0          -0.0\n",
       "  0.0  0.0   0.0   0.0           0.0\n",
       "  0.0  0.0   0.0  -2.22045e-16   0.0\n",
       "  0.0  0.0   0.0   0.0           0.0\n",
       "  0.0  0.0   0.0   0.0           0.0"
      ]
     },
     "execution_count": 189,
     "metadata": {},
     "output_type": "execute_result"
    }
   ],
   "source": [
    "P(flu,c,[-1,0,-1]) - M"
   ]
  },
  {
   "cell_type": "code",
   "execution_count": 190,
   "metadata": {},
   "outputs": [
    {
     "data": {
      "text/plain": [
       "5-element Vector{Float64}:\n",
       " -0.7745966692414842\n",
       " -0.5773502691896256\n",
       "  3.0357660829594124e-18\n",
       "  0.5773502691896258\n",
       "  0.7745966692414837"
      ]
     },
     "execution_count": 190,
     "metadata": {},
     "output_type": "execute_result"
    }
   ],
   "source": [
    "eigvals(M)"
   ]
  },
  {
   "cell_type": "code",
   "execution_count": 191,
   "metadata": {},
   "outputs": [
    {
     "data": {
      "text/plain": [
       "-1.5543122344752192e-15"
      ]
     },
     "execution_count": 191,
     "metadata": {},
     "output_type": "execute_result"
    }
   ],
   "source": [
    "1/0.7745966692414837^2 - 5/3"
   ]
  },
  {
   "cell_type": "code",
   "execution_count": 192,
   "metadata": {},
   "outputs": [
    {
     "data": {
      "text/plain": [
       "-8.881784197001252e-16"
      ]
     },
     "execution_count": 192,
     "metadata": {},
     "output_type": "execute_result"
    }
   ],
   "source": [
    "1/0.5773502691896258^2 - 3"
   ]
  },
  {
   "cell_type": "code",
   "execution_count": 193,
   "metadata": {},
   "outputs": [
    {
     "data": {
      "text/plain": [
       "5-element Vector{Float64}:\n",
       " -0.8303267893222077\n",
       " -0.5621119867018832\n",
       "  5.900956464450273e-18\n",
       "  0.5621119867018834\n",
       "  0.8303267893222093"
      ]
     },
     "execution_count": 193,
     "metadata": {},
     "output_type": "execute_result"
    }
   ],
   "source": [
    "eigvals(P(flu,c,[-1,-0.5,-1]))"
   ]
  },
  {
   "cell_type": "markdown",
   "metadata": {},
   "source": [
    "Hacemos lo mismo para la fuente."
   ]
  },
  {
   "cell_type": "code",
   "execution_count": 194,
   "metadata": {},
   "outputs": [
    {
     "data": {
      "text/plain": [
       "Is (generic function with 1 method)"
      ]
     },
     "execution_count": 194,
     "metadata": {},
     "output_type": "execute_result"
    }
   ],
   "source": [
    "function Is(flu, χ, ξ)\n",
    "    #(χ, ξ) = par \n",
    "    μ = flu[1] \n",
    "    χ₀= χ[1]\n",
    "    χ₁= -χ[2] # lo hacemos positivo\n",
    "    κ = χ₀*ξ[1]/χ₁^2 # OK \n",
    "    λ = χ₀*ξ[2]/χ₁^2  # OK\n",
    "    η = χ₀*ξ[3]/χ₁^2\n",
    "    T = (abs(μ))^(-1//2) # use μ positive, so I changed μ -> -μ\n",
    "    v = flu[2]\n",
    "    x1 = flu[3]\n",
    "    x2 = flu[4]\n",
    "    x3 = flu[5]\n",
    "    γ = (1. - v^2)^(-1//2)\n",
    "    #Is[1] = 0.\n",
    "    #Is[2] = 0.\n",
    "    #Is[3] = -2//5*a*(γ^2-1//4)*T*x1/(γ*λ) - 2γ*v*x2/T/κ - v^2*T*x3/(γ*λ)\n",
    "    #Is[4] = -2//5*a*γ*v*T*x1/λ - γ*(v^2+1)*x2/T/κ - v*T*x3/(γ*λ)\n",
    "    #Is[5] = -2//5*a*(γ^2*v^2+1//4)*T*x1/λ/γ - 2γ*v*x2/T/κ - T*x3/(γ*λ)\n",
    "    #return Is[:]      #(1 - ℯ^(-5. *t))\n",
    "    return [0.;\n",
    "            0.;\n",
    "            -(3//10*(γ^2-1//4)*x1/(γ*λ)   + 2γ*v*x2/κ      - v^2*x3/(γ*η))/μ^4/T;\n",
    "            -(3//10*γ*v*x1/λ              + γ*(v^2+1)*x2/κ - v*x3/(γ*η))/μ^4/T;\n",
    "            -(3//10*(γ^2*v^2+1//4)*x1/λ/γ + 2γ*v*x2/κ      - x3/(γ*η))/μ^4/T;\n",
    "            #-2//5*(γ^2-1//4)*T*x1/(γ*λ) - 2γ*v*x2/T/κ - v^2*T*x3/(γ*η);\n",
    "            #-2//5*γ*v*T*x1/λ - γ*(v^2+1)*x2/T/κ - v*T*x3/(γ*η);\n",
    "            #-2//5*(γ^2*v^2+1//4)*T*x1/η/γ - 2γ*v*x2/T/κ + T*x3/(γ*η)\n",
    "            #-2//5*(γ^2-1//4)*T*x1/(γ*λ) - 2γ*v*x2/T/κ - v^2*T*x3/(γ*λ);\n",
    "            #-2//5*γ*v*T*x1/λ - γ*(v^2+1)*x2/T/κ - v*T*x3/(γ*λ);\n",
    "            #-2//5*(γ^2*v^2+1//4)*T*x1/λ/γ - 2γ*v*x2/T/κ - T*x3/(γ*λ)\n",
    "            ]\n",
    "end"
   ]
  },
  {
   "cell_type": "markdown",
   "metadata": {},
   "source": [
    "La chequeamos con valores de Marcelo."
   ]
  },
  {
   "cell_type": "code",
   "execution_count": 195,
   "metadata": {},
   "outputs": [],
   "source": [
    "t=0\n",
    "flu = [- 5.; 0.5; 2.1; 0.5; 5.1]\n",
    "par = [-1., -2., -10.]\n",
    "par_s = [1/15π, 1/1π, 1/1π]\n",
    "I_c = [0.; 0.; - 0.09488575328013785; - 0.12155655385334033; - 0.12140081195218293]\n",
    "Is(flu,par,par_s) - I_c;"
   ]
  },
  {
   "cell_type": "code",
   "execution_count": 196,
   "metadata": {},
   "outputs": [],
   "source": [
    "@variables q[1:3]  \n",
    "Is(f,p,q);"
   ]
  },
  {
   "cell_type": "code",
   "execution_count": 197,
   "metadata": {},
   "outputs": [],
   "source": [
    "JSS = Symbolics.jacobian(Is(f,p,q),f);"
   ]
  },
  {
   "cell_type": "code",
   "execution_count": 198,
   "metadata": {},
   "outputs": [],
   "source": [
    "JS_exp = Symbolics.build_function(JSS, f, p,q);"
   ]
  },
  {
   "cell_type": "code",
   "execution_count": 199,
   "metadata": {},
   "outputs": [],
   "source": [
    "JSac = eval(JS_exp[1]);"
   ]
  },
  {
   "cell_type": "code",
   "execution_count": 200,
   "metadata": {
    "tags": []
   },
   "outputs": [
    {
     "data": {
      "text/plain": [
       "5-element Vector{Float64}:\n",
       " -188.49555921538757\n",
       "   -2.8274333882308134\n",
       "    0.0\n",
       "    0.0\n",
       "  125.66370614359172"
      ]
     },
     "execution_count": 200,
     "metadata": {},
     "output_type": "execute_result"
    }
   ],
   "source": [
    "flu=[1.;0;0;0;0];\n",
    "con=ones(5)\n",
    "par_f = [-1,-2,-10]\n",
    "#par_f = [-1,-0.5,-10]\n",
    "par_s = [-1/15π, -1/1π, -0.1/1π]\n",
    "JSac(flu,par_f,par_s)\n",
    "eigvals(JSac(flu,par_f,par_s)) #esta no es la matríz correcta para sacarle los autovalores"
   ]
  },
  {
   "cell_type": "code",
   "execution_count": 201,
   "metadata": {},
   "outputs": [
    {
     "data": {
      "text/plain": [
       "II (generic function with 1 method)"
      ]
     },
     "execution_count": 201,
     "metadata": {},
     "output_type": "execute_result"
    }
   ],
   "source": [
    "II(flu,c,p,q) = Jac(flu,c,p) \\ JSac(flu,p,q)"
   ]
  },
  {
   "cell_type": "code",
   "execution_count": 202,
   "metadata": {},
   "outputs": [],
   "source": [
    "II(flu,c,p,q);"
   ]
  },
  {
   "cell_type": "code",
   "execution_count": 203,
   "metadata": {
    "tags": []
   },
   "outputs": [
    {
     "data": {
      "text/plain": [
       "5-element Vector{ComplexF64}:\n",
       "   -0.036354831936990496 + 6.94483159742221e-17im\n",
       "   -0.004149839024724664 - 7.794725217674606im\n",
       "   -0.004149839024720325 + 7.794725217674601im\n",
       " -0.00017955904272781709 + 5.758437692400371im\n",
       "   -0.000179559042724983 - 5.758437692400375im"
      ]
     },
     "execution_count": 203,
     "metadata": {},
     "output_type": "execute_result"
    }
   ],
   "source": [
    "par_f = [-1,-0.5,-10]\n",
    "par_s = [-1/15π, -1/1π, -0.1/1π]\n",
    "eigvals(10*im .* P(flu,c,par_f) - 1.0 .*II(flu,c,par_f,par_s))"
   ]
  },
  {
   "cell_type": "code",
   "execution_count": 204,
   "metadata": {
    "tags": []
   },
   "outputs": [
    {
     "data": {
      "text/plain": [
       "5-element Vector{Float64}:\n",
       " -0.06544984694978735\n",
       " -0.0\n",
       "  0.0\n",
       "  0.0004895988551049027\n",
       "  0.019946620022792336"
      ]
     },
     "execution_count": 204,
     "metadata": {},
     "output_type": "execute_result"
    }
   ],
   "source": [
    "eigvals(-II(flu,c,par_f,par_s)) #notemos que esta tiene dos autovalor positivos!"
   ]
  },
  {
   "cell_type": "markdown",
   "metadata": {},
   "source": [
    "Vemos que un par de autovalores tiene parte real positiva. "
   ]
  },
  {
   "cell_type": "code",
   "execution_count": 205,
   "metadata": {
    "tags": []
   },
   "outputs": [
    {
     "data": {
      "text/plain": [
       "5×5 Matrix{Float64}:\n",
       " 0.0        0.242536    1.0  0.0  0.0\n",
       " 0.780869   0.0         0.0  1.0  0.0\n",
       " 0.0        0.970142    0.0  0.0  0.0\n",
       " 0.624695   0.0         0.0  0.0  0.0\n",
       " 0.0       -3.75171e-5  0.0  0.0  1.0"
      ]
     },
     "execution_count": 205,
     "metadata": {},
     "output_type": "execute_result"
    }
   ],
   "source": [
    "eigvecs(II(flu,c,par_f,par_s))"
   ]
  },
  {
   "cell_type": "code",
   "execution_count": 206,
   "metadata": {
    "tags": []
   },
   "outputs": [],
   "source": [
    "par_f = [-1,-2,-10]\n",
    "E = eigvecs(10*im .* P(flu,c,par_f) - 0. * II(flu,c,par_f,par_s));"
   ]
  },
  {
   "cell_type": "code",
   "execution_count": 207,
   "metadata": {
    "tags": []
   },
   "outputs": [
    {
     "data": {
      "text/plain": [
       "10-element Vector{ComplexF64}:\n",
       "  0.8347534056877877 + 0.0im\n",
       " -0.4884783787108429 + 0.1107591222771439im\n",
       " 0.16820651508815548 + 0.07480332624201028im\n",
       " 0.06892618846789017 + 0.03834262219161344im\n",
       "   0.092827541786135 + 0.05984266099360827im\n",
       "  0.8347534056877881 + 0.0im\n",
       " -0.4884783787108414 - 0.11075912227714245im\n",
       " 0.16820651508815684 - 0.07480332624200983im\n",
       " 0.06892618846789086 - 0.038342622191613385im\n",
       " 0.09282754178613609 - 0.059842660993607785im"
      ]
     },
     "execution_count": 207,
     "metadata": {},
     "output_type": "execute_result"
    }
   ],
   "source": [
    "[E[:,1]; E[:,5]]"
   ]
  },
  {
   "cell_type": "code",
   "execution_count": 208,
   "metadata": {
    "tags": []
   },
   "outputs": [
    {
     "data": {
      "text/plain": [
       "10-element Vector{ComplexF64}:\n",
       "     0.8347534056877879 + 0.0im\n",
       "     0.4884783787108423 + 0.11075912227714238im\n",
       "    0.16820651508815604 - 0.07480332624200943im\n",
       "   -0.06892618846789045 + 0.03834262219161309im\n",
       "    0.09282754178613542 - 0.05984266099360755im\n",
       "     0.8162604286217225 + 0.0im\n",
       " -2.244927941254197e-16 + 5.014786892247826e-16im\n",
       "     0.3911247887145761 + 2.7755575615628914e-17im\n",
       " -1.698266897373134e-17 + 1.4051203440729406e-17im\n",
       "   -0.42513563990714787 + 2.7755575615628914e-17im"
      ]
     },
     "execution_count": 208,
     "metadata": {},
     "output_type": "execute_result"
    }
   ],
   "source": [
    "[E[:,2]; E[:,3]]"
   ]
  },
  {
   "cell_type": "code",
   "execution_count": 209,
   "metadata": {
    "tags": []
   },
   "outputs": [
    {
     "data": {
      "text/plain": [
       "5-element Vector{ComplexF64}:\n",
       "  0.8347534056877881 + 0.0im\n",
       "  0.4884783787108423 - 0.110759122277142im\n",
       " 0.16820651508815593 + 0.07480332624200926im\n",
       " -0.0689261884678904 - 0.038342622191613024im\n",
       " 0.09282754178613536 + 0.05984266099360734im"
      ]
     },
     "execution_count": 209,
     "metadata": {},
     "output_type": "execute_result"
    }
   ],
   "source": [
    "E[:,4]"
   ]
  },
  {
   "cell_type": "code",
   "execution_count": 210,
   "metadata": {},
   "outputs": [],
   "source": [
    "#10*im .* P(flu,c,par) - II(flu,c,par_f,par_s)"
   ]
  },
  {
   "cell_type": "code",
   "execution_count": 211,
   "metadata": {
    "tags": []
   },
   "outputs": [
    {
     "data": {
      "text/plain": [
       "5×5 Matrix{ComplexF64}:\n",
       "   0.317021+0.619127im     …  0.350622-1.08641im\n",
       "   0.317021-0.619127im        0.350622+1.08641im\n",
       " -0.0717131+8.04153e-17im     -1.43426-1.81146e-17im\n",
       "   0.317021+0.619127im        0.350622-1.08641im\n",
       "   0.317021-0.619127im        0.350622+1.08641im"
      ]
     },
     "execution_count": 211,
     "metadata": {},
     "output_type": "execute_result"
    }
   ],
   "source": [
    "Ei = inv(E)"
   ]
  },
  {
   "cell_type": "code",
   "execution_count": 212,
   "metadata": {
    "tags": []
   },
   "outputs": [
    {
     "data": {
      "text/plain": [
       "5-element Vector{ComplexF64}:\n",
       "  0.31702074473528674 - 0.6191270079459985im\n",
       "   -0.363592318253284 + 0.6536076882838987im\n",
       " -0.28049761746161805 + 2.4729703084866848im\n",
       "   1.0502976514020446 + 4.632103282986477im\n",
       "   0.3506220218270598 + 1.0864088285514342im"
      ]
     },
     "execution_count": 212,
     "metadata": {},
     "output_type": "execute_result"
    }
   ],
   "source": [
    "Ei[5,:]"
   ]
  },
  {
   "cell_type": "code",
   "execution_count": 213,
   "metadata": {},
   "outputs": [
    {
     "data": {
      "text/plain": [
       "3.2751579226442118e-15 - 8.913009219568835e-15im"
      ]
     },
     "execution_count": 213,
     "metadata": {},
     "output_type": "execute_result"
    }
   ],
   "source": [
    "Ei[5,:]'*E[:,5]"
   ]
  },
  {
   "cell_type": "code",
   "execution_count": 214,
   "metadata": {
    "tags": []
   },
   "outputs": [],
   "source": [
    "ET = eigvecs(10*im .* P(flu,c,par_f)');"
   ]
  },
  {
   "cell_type": "code",
   "execution_count": 215,
   "metadata": {
    "tags": []
   },
   "outputs": [],
   "source": [
    "[ET[:,1]; ET[:,5]];"
   ]
  },
  {
   "cell_type": "code",
   "execution_count": 216,
   "metadata": {
    "tags": []
   },
   "outputs": [],
   "source": [
    "[ET[:,2]; ET[:,3]];"
   ]
  },
  {
   "cell_type": "code",
   "execution_count": 217,
   "metadata": {
    "tags": []
   },
   "outputs": [],
   "source": [
    "ET[:,4] - ET[1,4]/Ei[4,1] .* Ei[4,:];"
   ]
  },
  {
   "cell_type": "code",
   "execution_count": 218,
   "metadata": {},
   "outputs": [
    {
     "data": {
      "text/plain": [
       "-3.34836285560923 - 1.2614582446639144im"
      ]
     },
     "execution_count": 218,
     "metadata": {},
     "output_type": "execute_result"
    }
   ],
   "source": [
    "1/(Ei[4,1]/Ei[4,3])"
   ]
  },
  {
   "cell_type": "code",
   "execution_count": 219,
   "metadata": {},
   "outputs": [
    {
     "data": {
      "text/plain": [
       "-1.1604938271604954 - 1.1605415850907999im"
      ]
     },
     "execution_count": 219,
     "metadata": {},
     "output_type": "execute_result"
    }
   ],
   "source": [
    "1/(Ei[4,1]/Ei[4,5])"
   ]
  },
  {
   "cell_type": "markdown",
   "metadata": {},
   "source": [
    " [-1,-1,-1] -> 16/5, 4  $\\frac{4\\chi_2}{\\chi_1}(4/5,1)$\n",
    " [-1,-2,10] -> -16, 20\n",
    " [-1,-0.5,-1] -> -64, 80"
   ]
  },
  {
   "cell_type": "code",
   "execution_count": 220,
   "metadata": {},
   "outputs": [
    {
     "data": {
      "text/plain": [
       "2-element Vector{Float64}:\n",
       " 1.6\n",
       " 2.0"
      ]
     },
     "execution_count": 220,
     "metadata": {},
     "output_type": "execute_result"
    }
   ],
   "source": [
    "4χ[2]/χ[1]*[4/5;1]"
   ]
  },
  {
   "cell_type": "code",
   "execution_count": 221,
   "metadata": {},
   "outputs": [
    {
     "data": {
      "text/plain": [
       "coc (generic function with 1 method)"
      ]
     },
     "execution_count": 221,
     "metadata": {},
     "output_type": "execute_result"
    }
   ],
   "source": [
    "function coc(par_f)\n",
    "    return 4par_f[3]/par_f[2]*[4/5 ; 1]\n",
    "end"
   ]
  },
  {
   "cell_type": "code",
   "execution_count": 222,
   "metadata": {},
   "outputs": [
    {
     "data": {
      "text/plain": [
       "2-element Vector{Float64}:\n",
       " 16.0\n",
       " 20.0"
      ]
     },
     "execution_count": 222,
     "metadata": {},
     "output_type": "execute_result"
    }
   ],
   "source": [
    "coc([-1,-2,-10])"
   ]
  },
  {
   "cell_type": "code",
   "execution_count": 223,
   "metadata": {},
   "outputs": [
    {
     "data": {
      "text/plain": [
       "2-element Vector{Float64}:\n",
       " 64.0\n",
       " 80.0"
      ]
     },
     "execution_count": 223,
     "metadata": {},
     "output_type": "execute_result"
    }
   ],
   "source": [
    "coc([-1,-0.5,-10])"
   ]
  },
  {
   "cell_type": "markdown",
   "metadata": {},
   "source": [
    "Alternativamente podemos quedarnos con las expresiones en derivadas del los campos del fluido.\n",
    "Es decir:\n",
    "\n",
    "$(\\zeta^a, \\zeta^{ab})$ -> $f^j = (\\mu, v, x_i)$ -> $(-1,0,0,0,0)$\n",
    "\n",
    "$$\n",
    "\\partial_t c^j = \\partial_i F^{ij}(f) + I^j(f) = \\frac{\\partial F^{ij}}{\\partial f^k}\\partial_i f^k + I^j(j)\n",
    "$$"
   ]
  },
  {
   "cell_type": "code",
   "execution_count": 224,
   "metadata": {},
   "outputs": [
    {
     "data": {
      "text/plain": [
       "5×5 Matrix{ComplexF64}:\n",
       " 0.0+0.0im  0.0+8.0im        0.0+0.0im        0.0-20.0im        0.0-0.0im\n",
       " 0.0-4.0im  0.0+0.0im        0.0+4.0im        0.0-0.0im         0.0-4.0im\n",
       " 0.0+0.0im  0.0-10.0im  0.706858+0.0im        0.0+600.0im       0.0+0.0im\n",
       " 0.0+5.0im  0.0+0.0im        0.0+120.0im  47.1239+0.0im         0.0+120.0im\n",
       " 0.0+0.0im  0.0-6.0im   0.235619+0.0im        0.0+360.0im  -31.4159+0.0im"
      ]
     },
     "execution_count": 224,
     "metadata": {},
     "output_type": "execute_result"
    }
   ],
   "source": [
    "flu=[1.;0;0;0;0];\n",
    "con=ones(5)\n",
    "par_f = [-1.,-2.,-10.]\n",
    "#par_f = [-1,-0.5,-10]\n",
    "par_s = [-1/15π, -1/1π, -0.1/1π]\n",
    "PP = 1.0im.* JFac(flu,par_f) + 1.0.*JSac(flu,con,par_s)"
   ]
  },
  {
   "cell_type": "code",
   "execution_count": 243,
   "metadata": {},
   "outputs": [
    {
     "data": {
      "text/plain": [
       "5×5 Matrix{Float64}:\n",
       " -0.75   0.0  0.0   0.0  0.0\n",
       "  0.0   -1.5  0.0   0.0  0.0\n",
       "  0.0    0.0  0.6   0.0  0.0\n",
       "  0.0    0.0  0.0  -3.0  0.0\n",
       "  0.0    0.0  0.0   0.0  1.0"
      ]
     },
     "execution_count": 243,
     "metadata": {},
     "output_type": "execute_result"
    }
   ],
   "source": [
    "H=[-3/4 0 0 0 0;\n",
    "   0 -3/2 0 0 0;\n",
    "   0 0 6/10 0 0;\n",
    "   0 0 0 -3 0;\n",
    "   0 0 0 0 1]"
   ]
  },
  {
   "cell_type": "code",
   "execution_count": 244,
   "metadata": {},
   "outputs": [
    {
     "data": {
      "text/latex": [
       "\\begin{equation}\n",
       "\\left[\n",
       "\\begin{array}{ccccc}\n",
       "0.0 & 6.0 p{_1} & 0.0 &  - 7.5 p{_2} & 0.0 \\\\\n",
       " - 6.0 p{_1} & 0.0 & 3.0 p{_2} & 0.0 &  - 3.0 p{_2} \\\\\n",
       "0.0 & 3.0 p{_2} & 0.0 &  - 36.0 p{_3} & 0.0 \\\\\n",
       "7.5 p{_2} & 0.0 & 36.0 p{_3} & 0.0 & 36.0 p{_3} \\\\\n",
       "0.0 & 3 p{_2} & 0.0 &  - 36.0 p{_3} & 0.0 \\\\\n",
       "\\end{array}\n",
       "\\right]\n",
       "\\end{equation}\n"
      ],
      "text/plain": [
       "5×5 Matrix{Num}:\n",
       "  0.0      6.0p₁   0.0     -7.5p₂   0.0\n",
       " -6.0p₁    0.0     3.0p₂    0.0    -3.0p₂\n",
       "  0.0      3.0p₂   0.0    -36.0p₃   0.0\n",
       "  7.5p₂    0.0    36.0p₃    0.0    36.0p₃\n",
       "  0.0    3p₂       0.0    -36.0p₃   0.0"
      ]
     },
     "execution_count": 244,
     "metadata": {},
     "output_type": "execute_result"
    }
   ],
   "source": [
    "H*JFac(flu,p)"
   ]
  },
  {
   "cell_type": "code",
   "execution_count": 171,
   "metadata": {},
   "outputs": [
    {
     "data": {
      "text/plain": [
       "5-element Vector{ComplexF64}:\n",
       "      -5.876237734640878 + 2.079099117315793e-14im\n",
       " -2.2737367544323206e-13 + 508.89441947216665im\n",
       "                     0.0 + 0.0im\n",
       "   4.973799150320701e-14 - 508.894419472167im\n",
       "      5.8762377346408785 + 1.8305797049248772e-14im"
      ]
     },
     "execution_count": 171,
     "metadata": {},
     "output_type": "execute_result"
    }
   ],
   "source": [
    "eigvals(H*(1.0im.* JFac(flu,par_f) - 0.0.*JSac(flu,con,par_s)))"
   ]
  },
  {
   "cell_type": "code",
   "execution_count": 227,
   "metadata": {},
   "outputs": [
    {
     "data": {
      "text/latex": [
       "\\begin{equation}\n",
       "\\left[\n",
       "\\begin{array}{ccccc}\n",
       "0.0 & 0.0 & 0.0 & 0.0 & 0.0 \\\\\n",
       "0.0 & 0.0 & 0.0 & 0.0 & 0.0 \\\\\n",
       "0.0 & 0.0 &  - \\frac{0.13499999999999998}{p{_2}} & 0.0 & 0.0 \\\\\n",
       "0.0 & 0.0 & 0.0 &  - \\frac{3.0}{p{_1}} & 0.0 \\\\\n",
       "0.0 & 0.0 &  - \\frac{0.075}{p{_2}} & 0.0 & p{_3}^{-1} \\\\\n",
       "\\end{array}\n",
       "\\right]\n",
       "\\end{equation}\n"
      ],
      "text/plain": [
       "5×5 Matrix{Num}:\n",
       " 0.0  0.0   0.0            0.0             0.0\n",
       " 0.0  0.0   0.0            0.0             0.0\n",
       " 0.0  0.0  -0.135(p₂^-1)   0.0             0.0\n",
       " 0.0  0.0   0.0           -3.0(p₁^-1)      0.0\n",
       " 0.0  0.0  -0.075(p₂^-1)   0.0         p₃^-1"
      ]
     },
     "execution_count": 227,
     "metadata": {},
     "output_type": "execute_result"
    }
   ],
   "source": [
    "H*JSac(flu,con,p)"
   ]
  },
  {
   "cell_type": "code",
   "execution_count": 228,
   "metadata": {},
   "outputs": [
    {
     "data": {
      "text/plain": [
       "7.4074074074074066"
      ]
     },
     "execution_count": 228,
     "metadata": {},
     "output_type": "execute_result"
    }
   ],
   "source": [
    "1/0.135"
   ]
  },
  {
   "cell_type": "code",
   "execution_count": 230,
   "metadata": {},
   "outputs": [
    {
     "data": {
      "text/plain": [
       "7.407407407407407"
      ]
     },
     "execution_count": 230,
     "metadata": {},
     "output_type": "execute_result"
    }
   ],
   "source": [
    "200/27"
   ]
  },
  {
   "cell_type": "code",
   "execution_count": null,
   "metadata": {},
   "outputs": [],
   "source": []
  }
 ],
 "metadata": {
  "kernelspec": {
   "display_name": "Julia 1.6.1",
   "language": "julia",
   "name": "julia-1.6"
  },
  "language_info": {
   "file_extension": ".jl",
   "mimetype": "application/julia",
   "name": "julia",
   "version": "1.6.1"
  }
 },
 "nbformat": 4,
 "nbformat_minor": 4
}
