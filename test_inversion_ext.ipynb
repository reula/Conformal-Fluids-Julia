{
 "cells": [
  {
   "cell_type": "code",
   "execution_count": 174,
   "metadata": {},
   "outputs": [
    {
     "name": "stderr",
     "output_type": "stream",
     "text": [
      "\u001b[32m\u001b[1m Activating\u001b[22m\u001b[39m environment at `~/Julia/Fluidos_Conformes/Conf_Fluids/Project.toml`\n",
      "\u001b[32m\u001b[1m  Resolving\u001b[22m\u001b[39m package versions...\n",
      "\u001b[32m\u001b[1mNo Changes\u001b[22m\u001b[39m to `~/Julia/Fluidos_Conformes/Conf_Fluids/Project.toml`\n",
      "\u001b[32m\u001b[1mNo Changes\u001b[22m\u001b[39m to `~/Julia/Fluidos_Conformes/Conf_Fluids/Manifest.toml`\n"
     ]
    },
    {
     "data": {
      "text/plain": [
       "f_to_c!"
      ]
     },
     "execution_count": 174,
     "metadata": {},
     "output_type": "execute_result"
    }
   ],
   "source": [
    "include(\"inversion_ext.jl\")"
   ]
  },
  {
   "cell_type": "code",
   "execution_count": 175,
   "metadata": {},
   "outputs": [
    {
     "name": "stdout",
     "output_type": "stream",
     "text": [
      "[0.0, 0.0, 0.0, 0.0, 0.0, -10.0, 0.2, 1.1, 1.5, 1.2]\n",
      "[0.1366314976448222, 0.07009306769467444, 0.06115332989597844, 0.07178418128379448, 0.04927907295689818, -10.0, 0.2, 1.1, 1.5, 1.2]\n",
      "[0.0, -1.3877787807814457e-17, 0.0, 0.0, 0.0, 0.0, 0.0, 0.0, 0.0, 0.0]\n",
      "[0.1366314976448222, 0.07009306769467442, 0.06115332989597844, 0.07178418128379448, 0.04927907295689818, -10.0, 0.2, 1.1, 1.5, 1.2]\n"
     ]
    }
   ],
   "source": [
    "N=10\n",
    "M=1\n",
    "χ = [-1.0; -1.0; -5.0]\n",
    "p = (χ, N, M)\n",
    "u = zeros(N*M)\n",
    "u0 = zeros(N*M)\n",
    "\n",
    "con = view(reshape(u,(M,N)),:,1:5)\n",
    "flu = view(reshape(u,(M,N)),:,6:10)\n",
    "\n",
    "flu[1,:] = [-10.0, 0.2, 1.1, 1.5, 1.2]\n",
    "con[1,:] = [0.1366314976448222, 0.07009306769467444, 0.06115332989597844, 0.07178418128379448, 0.04927907295689818]\n",
    "\n",
    "con0 = view(reshape(u0,(M,N)),:,1:5)\n",
    "flu0 = view(reshape(u0,(M,N)),:,6:10)\n",
    "\n",
    "flu0[1,:] = [-10.0, 0.2, 1.1, 1.5, 1.2]\n",
    "#con0[1,:] = [0.1366314976448222, 0.07009306769467444, 0.06115332989597844, 0.07178418128379448, 0.04927907295689818]\n",
    "\n",
    "println(u0)\n",
    "println(u)\n",
    "println(f_to_c!(u0,p) - u)\n",
    "println(u0)"
   ]
  },
  {
   "cell_type": "code",
   "execution_count": 176,
   "metadata": {},
   "outputs": [
    {
     "data": {
      "text/plain": [
       "5-element Array{Float64,1}:\n",
       " 0.1366314976448222\n",
       " 0.07009306769467444\n",
       " 0.06115332989597844\n",
       " 0.07178418128379448\n",
       " 0.04927907295689818"
      ]
     },
     "execution_count": 176,
     "metadata": {},
     "output_type": "execute_result"
    }
   ],
   "source": [
    "tol = 10^(-16)\n",
    "iter_max = 40\n",
    "χ = [-1.0; -1.0; -5.0]\n",
    "M=1\n",
    "N=10\n",
    "p = (χ, tol, iter_max, N, M)\n",
    "\n",
    "u = zeros(N*M)\n",
    "u0 = zeros(N*M)\n",
    "\n",
    "con = view(reshape(u,(M,N)),:,1:5)\n",
    "flu = view(reshape(u,(M,N)),:,6:10)\n",
    "\n",
    "flu[1,:] = [-10.0, 0.2, 1.1, 1.5, 1.2]\n",
    "con[1,:] = [0.1366314976448222, 0.07009306769467444, 0.06115332989597844, 0.07178418128379448, 0.04927907295689818]\n",
    "\n",
    "con0 = view(reshape(u0,(M,N)),:,1:5)\n",
    "flu0 = view(reshape(u0,(M,N)),:,6:10)\n",
    "\n",
    "flu0[1,:] = [-10.0, 0.2, 1.1, 1.5, 1.2] + 0.01 .*rand(N÷2)\n",
    "con0[1,:] = [0.1366314976448222, 0.07009306769467444, 0.06115332989597844, 0.07178418128379448, 0.04927907295689818]"
   ]
  },
  {
   "cell_type": "code",
   "execution_count": 178,
   "metadata": {},
   "outputs": [
    {
     "name": "stdout",
     "output_type": "stream",
     "text": [
      "  0.000073 seconds (34 allocations: 2.156 KiB)\n"
     ]
    },
    {
     "data": {
      "text/plain": [
       "10-element Array{Float64,1}:\n",
       "  0.0\n",
       "  0.0\n",
       "  0.0\n",
       "  0.0\n",
       "  0.0\n",
       "  4.806112841038157e-9\n",
       "  2.941994980965035e-10\n",
       " -2.7242426092755068e-9\n",
       " -2.2971502477986405e-9\n",
       " -1.4237011569662172e-10"
      ]
     },
     "execution_count": 178,
     "metadata": {},
     "output_type": "execute_result"
    }
   ],
   "source": [
    "@time c_to_f!(u0, p) - u"
   ]
  },
  {
   "cell_type": "code",
   "execution_count": null,
   "metadata": {},
   "outputs": [],
   "source": []
  }
 ],
 "metadata": {
  "kernelspec": {
   "display_name": "Julia 1.5.3",
   "language": "julia",
   "name": "julia-1.5"
  },
  "language_info": {
   "file_extension": ".jl",
   "mimetype": "application/julia",
   "name": "julia",
   "version": "1.5.3"
  },
  "latex_envs": {
   "LaTeX_envs_menu_present": true,
   "autoclose": false,
   "autocomplete": true,
   "bibliofile": "biblio.bib",
   "cite_by": "apalike",
   "current_citInitial": 1,
   "eqLabelWithNumbers": true,
   "eqNumInitial": 1,
   "hotkeys": {
    "equation": "Ctrl-E",
    "itemize": "Ctrl-I"
   },
   "labels_anchors": false,
   "latex_user_defs": false,
   "report_style_numbering": false,
   "user_envs_cfg": false
  }
 },
 "nbformat": 4,
 "nbformat_minor": 4
}
