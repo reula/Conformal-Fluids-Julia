{
 "cells": [
  {
   "cell_type": "code",
   "execution_count": 37,
   "metadata": {},
   "outputs": [
    {
     "name": "stderr",
     "output_type": "stream",
     "text": [
      "\u001b[32m\u001b[1m Activating\u001b[22m\u001b[39m environment at `~/Julia/Fluidos_Conformes/Conf_Fluids/Project.toml`\n",
      "\u001b[32m\u001b[1m  Resolving\u001b[22m\u001b[39m package versions...\n",
      "\u001b[32m\u001b[1mNo Changes\u001b[22m\u001b[39m to `~/Julia/Fluidos_Conformes/Conf_Fluids/Project.toml`\n",
      "\u001b[32m\u001b[1mNo Changes\u001b[22m\u001b[39m to `~/Julia/Fluidos_Conformes/Conf_Fluids/Manifest.toml`\n"
     ]
    },
    {
     "data": {
      "text/plain": [
       "c_to_f_direct! (generic function with 1 method)"
      ]
     },
     "execution_count": 37,
     "metadata": {},
     "output_type": "execute_result"
    }
   ],
   "source": [
    "include(\"inversion_ext.jl\")"
   ]
  },
  {
   "cell_type": "markdown",
   "metadata": {},
   "source": [
    "## Checking f_to_c"
   ]
  },
  {
   "cell_type": "code",
   "execution_count": 38,
   "metadata": {},
   "outputs": [
    {
     "name": "stdout",
     "output_type": "stream",
     "text": [
      "[0.0, 0.0, 0.0, 0.0, 0.0, -10.0, 0.2, 1.1, 1.5, 1.2]\n",
      "[0.1366314976448222, 0.07009306769467444, 0.06115332989597844, 0.07178418128379448, 0.04927907295689818, -10.0, 0.2, 1.1, 1.5, 1.2]\n",
      "[0.0, -1.3877787807814457e-17, 0.0, 0.0, 0.0, 0.0, 0.0, 0.0, 0.0, 0.0]\n",
      "[0.1366314976448222, 0.07009306769467442, 0.06115332989597844, 0.07178418128379448, 0.04927907295689818, -10.0, 0.2, 1.1, 1.5, 1.2]\n"
     ]
    }
   ],
   "source": [
    "N=10\n",
    "M=1\n",
    "χ = [-1.0; -1.0; -5.0]\n",
    "p = (χ, N, M)\n",
    "u = zeros(N*M)\n",
    "u0 = zeros(N*M)\n",
    "\n",
    "con = view(reshape(u,(M,N)),:,1:5)\n",
    "flu = view(reshape(u,(M,N)),:,6:10)\n",
    "\n",
    "flu[1,:] = [-10.0, 0.2, 1.1, 1.5, 1.2]\n",
    "con[1,:] = [0.1366314976448222, 0.07009306769467444, 0.06115332989597844, 0.07178418128379448, 0.04927907295689818]\n",
    "\n",
    "con0 = view(reshape(u0,(M,N)),:,1:5)\n",
    "flu0 = view(reshape(u0,(M,N)),:,6:10)\n",
    "\n",
    "flu0[1,:] = [-10.0, 0.2, 1.1, 1.5, 1.2]\n",
    "#con0[1,:] = [0.1366314976448222, 0.07009306769467444, 0.06115332989597844, 0.07178418128379448, 0.04927907295689818]\n",
    "\n",
    "println(u0)\n",
    "println(u)\n",
    "println(f_to_c!(u0,p) - u)\n",
    "println(u0)"
   ]
  },
  {
   "cell_type": "code",
   "execution_count": 39,
   "metadata": {},
   "outputs": [
    {
     "data": {
      "text/plain": [
       "5-element Array{Float64,1}:\n",
       " 0.1366314976448222\n",
       " 0.07009306769467444\n",
       " 0.06115332989597844\n",
       " 0.07178418128379448\n",
       " 0.04927907295689818"
      ]
     },
     "execution_count": 39,
     "metadata": {},
     "output_type": "execute_result"
    }
   ],
   "source": [
    "tol = 10^(-16)\n",
    "iter_max = 40\n",
    "χ = [-1.0; -1.0; -5.0]\n",
    "M=1\n",
    "N=10\n",
    "p = (χ, tol, iter_max, N, M)\n",
    "\n",
    "u = zeros(N*M)\n",
    "u0 = zeros(N*M)\n",
    "\n",
    "con = view(reshape(u,(M,N)),:,1:5)\n",
    "flu = view(reshape(u,(M,N)),:,6:10)\n",
    "\n",
    "flu[1,:] = [-10.0, 0.2, 1.1, 1.5, 1.2]\n",
    "con[1,:] = [0.1366314976448222, 0.07009306769467444, 0.06115332989597844, 0.07178418128379448, 0.04927907295689818]\n",
    "\n",
    "con0 = view(reshape(u0,(M,N)),:,1:5)\n",
    "flu0 = view(reshape(u0,(M,N)),:,6:10)\n",
    "\n",
    "flu0[1,:] = [-10.0, 0.2, 1.1, 1.5, 1.2] + 0.01 .*rand(N÷2)\n",
    "con0[1,:] = [0.1366314976448222, 0.07009306769467444, 0.06115332989597844, 0.07178418128379448, 0.04927907295689818]"
   ]
  },
  {
   "cell_type": "code",
   "execution_count": 40,
   "metadata": {},
   "outputs": [
    {
     "name": "stdout",
     "output_type": "stream",
     "text": [
      "  0.292044 seconds (1.08 M allocations: 45.334 MiB, 8.01% gc time)\n"
     ]
    },
    {
     "data": {
      "text/plain": [
       "10-element Array{Float64,1}:\n",
       "  0.0\n",
       "  0.0\n",
       "  0.0\n",
       "  0.0\n",
       "  0.0\n",
       "  3.3650164255050186e-7\n",
       "  5.300992977907981e-11\n",
       " -1.3363915640773882e-7\n",
       " -2.0150819324271652e-7\n",
       "  6.993196866034168e-8"
      ]
     },
     "execution_count": 40,
     "metadata": {},
     "output_type": "execute_result"
    }
   ],
   "source": [
    "@time c_to_f!(u0, p) - u"
   ]
  },
  {
   "cell_type": "markdown",
   "metadata": {},
   "source": [
    "## Testing with Euler"
   ]
  },
  {
   "cell_type": "code",
   "execution_count": 41,
   "metadata": {},
   "outputs": [
    {
     "name": "stdout",
     "output_type": "stream",
     "text": [
      "[0.06333333333333332, 0.016666666666666666, 0.0, 0.0, 0.0, -10.0, 0.2, 0.0, 0.0, 0.0]\n"
     ]
    }
   ],
   "source": [
    "N=10\n",
    "M=1\n",
    "χ = [-1.0; 0.0; -1.0] #put the interaction term to zero\n",
    "p = (χ, N, M)\n",
    "u = zeros(N*M)\n",
    "u0 = zeros(N*M)\n",
    "\n",
    "con0 = view(reshape(u0,(M,N)),:,1:5)\n",
    "flu0 = view(reshape(u0,(M,N)),:,6:10)\n",
    "con = view(reshape(u,(M,N)),:,1:5)\n",
    "flu = view(reshape(u,(M,N)),:,6:10)\n",
    "\n",
    "flu0[1,:] = [-10.0, 0.2, 0., 0., 0.]\n",
    "flu[1,:] = [-10.0, 0.2, 0., 0., 0.]\n",
    "#flu0[1,:] = [-10.0, 0.2, 1.1, 1.5, 1.2]\n",
    "\n",
    "println(f_to_c!(u0,p))"
   ]
  },
  {
   "cell_type": "code",
   "execution_count": 42,
   "metadata": {},
   "outputs": [
    {
     "data": {
      "text/plain": [
       "10-element Array{Float64,1}:\n",
       "   0.06333333333333332\n",
       "   0.016666666666666666\n",
       "   0.0\n",
       "   0.0\n",
       "   0.0\n",
       " -10.0\n",
       "   0.2\n",
       "   0.0\n",
       "   0.0\n",
       "   0.0"
      ]
     },
     "execution_count": 42,
     "metadata": {},
     "output_type": "execute_result"
    }
   ],
   "source": [
    "flu[1,1] = -flu[1,1]\n",
    "con[1,:] = F(flu,con,χ)\n",
    "flu[1,1] = -flu[1,1];\n",
    "u"
   ]
  },
  {
   "cell_type": "code",
   "execution_count": 45,
   "metadata": {},
   "outputs": [
    {
     "name": "stdout",
     "output_type": "stream",
     "text": [
      "[0.06333333333333332, 0.016666666666666666, 0.0, 0.0, 0.0, -10.0, 0.2, 0.0, 0.0, 0.0]\n",
      "[0.1366314976448222, 0.07009306769467444, 0.06115332989597844, 0.07178418128379448, 0.04927907295689818, -10.0, 0.2, 0.0, 0.0, 0.0]\n",
      "[0.0, 0.0, 0.0, 0.0, 0.0, 0.0, 0.0, 0.0, 0.0, 0.0]\n",
      "[0.06333333333333332, 0.016666666666666666, 0.0, 0.0, 0.0, -10.0, 0.2, 0.0, 0.0, 0.0]\n"
     ]
    }
   ],
   "source": [
    "con0 = view(reshape(u0,(M,N)),:,1:5)\n",
    "flu0 = view(reshape(u0,(M,N)),:,6:10)\n",
    "\n",
    "flu0[1,:] = [-10.0, 0.2, 0,0,0]\n",
    "\n",
    "println(u0)\n",
    "println(u)\n",
    "println(f_to_c!(u,p) - u)\n",
    "println(u0)"
   ]
  },
  {
   "cell_type": "code",
   "execution_count": 46,
   "metadata": {},
   "outputs": [
    {
     "name": "stdout",
     "output_type": "stream",
     "text": [
      "  0.000026 seconds (6 allocations: 512 bytes)\n"
     ]
    },
    {
     "data": {
      "text/plain": [
       "10-element Array{Float64,1}:\n",
       "  0.0\n",
       "  0.0\n",
       "  0.0\n",
       "  0.0\n",
       "  0.0\n",
       " -1.7763568394002505e-15\n",
       "  0.0\n",
       "  0.0\n",
       "  0.0\n",
       "  0.0"
      ]
     },
     "execution_count": 46,
     "metadata": {},
     "output_type": "execute_result"
    }
   ],
   "source": [
    "@time c_to_f_direct!(u0,p) - u"
   ]
  },
  {
   "cell_type": "code",
   "execution_count": null,
   "metadata": {},
   "outputs": [],
   "source": []
  }
 ],
 "metadata": {
  "kernelspec": {
   "display_name": "Julia 1.5.3",
   "language": "julia",
   "name": "julia-1.5"
  },
  "language_info": {
   "file_extension": ".jl",
   "mimetype": "application/julia",
   "name": "julia",
   "version": "1.5.3"
  },
  "latex_envs": {
   "LaTeX_envs_menu_present": true,
   "autoclose": false,
   "autocomplete": true,
   "bibliofile": "biblio.bib",
   "cite_by": "apalike",
   "current_citInitial": 1,
   "eqLabelWithNumbers": true,
   "eqNumInitial": 1,
   "hotkeys": {
    "equation": "Ctrl-E",
    "itemize": "Ctrl-I"
   },
   "labels_anchors": false,
   "latex_user_defs": false,
   "report_style_numbering": false,
   "user_envs_cfg": false
  }
 },
 "nbformat": 4,
 "nbformat_minor": 4
}
