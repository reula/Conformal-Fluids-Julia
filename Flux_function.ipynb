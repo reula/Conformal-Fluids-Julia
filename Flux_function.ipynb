{
 "cells": [
  {
   "cell_type": "markdown",
   "metadata": {},
   "source": [
    "## Fluxes\n",
    "\n",
    "\\begin{eqnarray*}\n",
    "    S &=& \\frac{4}{3}\\rho\\gamma^2 v + \\gamma\\left(v^2 + 1\\right)Q + \\tau v \\nonumber \\\\\n",
    "    f_T &=& \\frac{4}{3}\\rho\\left(\\gamma^2v^2 + \\frac{1}{4}\\right) + 2v\\gamma Q + \\tau \\nonumber \\\\\n",
    "    f_A^o &=& \\frac{\\chi_1\\sqrt{-\\mu}\\gamma v}{\\mu^3} \\left(6 \\gamma^2 - 1\\right) - \\frac{12\\chi_2}{\\mu^4}\n",
    "    \\left[v \\left(6\\gamma^2 - 1\\right) X_1 + \\left(6\\gamma^2 \\left(2v^2 + 1\\right) - 1\\right) X_2 + v \\left(v^2 + 2\\right) X_3\\right]\\nonumber \\\\\n",
    "    f_A^1 &=& \\frac{\\chi_1\\sqrt{-\\mu}\\gamma}{\\mu^3} \\left(6\\gamma^2 v^2 + 1\\right) - \\frac{12\\chi_2}{\\mu^4} \\left[\\left(6\\gamma^2 v + 1\\right) X_1 + v \\left(6\\gamma^2 \\left(1 + v^2\\right) + 1\\right) X_2 + \\left(2v^2 + 1\\right) X_3\\right]\\nonumber \\\\\n",
    "    f_A^2 &=& \\frac{3\\chi_1\\sqrt{-\\mu}\\gamma v}{\\mu^3} \\left(2 \\gamma^2 v^2 + 1\\right) - \\frac{12\\chi_2}{\\mu^4} \\left[v\\left(6 \\gamma^2 v^2 + 3\\right) X_1 + 3 \\left(1 + 6\\gamma^2 v^2\\right) X_2 + 3 v X_3\\right]\n",
    "\\end{eqnarray*}"
   ]
  },
  {
   "cell_type": "code",
   "execution_count": 17,
   "metadata": {},
   "outputs": [
    {
     "data": {
      "text/plain": [
       "Flux (generic function with 1 method)"
      ]
     },
     "execution_count": 17,
     "metadata": {},
     "output_type": "execute_result"
    }
   ],
   "source": [
    "function Flux(flu,χ)\n",
    "    μ = -flu[1]  # esto es -μ\n",
    "    #μ = view(flu,1)\n",
    "    T = (μ)^(-1//2) # use μ positive, so I changed μ -> -μ\n",
    "    v = flu[2]\n",
    "    x1 = flu[3]\n",
    "    x2 = flu[4]\n",
    "    x3 = flu[5]\n",
    "    χ₀ = χ[1]\n",
    "    χ₁ = χ[2]\n",
    "    χ₂ = χ[3]\n",
    "    γ = (1 - v^2)^(-1//2)\n",
    "    τ = -2χ₁ * x3 * T / (γ*μ^3) - 24χ₂*(1//2*(1-v^2)x3^2 + 14//3 * x2^2 + 7/5*(1-v^2)x1*x3)/μ^5\n",
    "    ρ = -6χ₀ / μ^2 - 6χ₁*x1/(γ * μ^4 * T) - 42χ₂*(6//5 *x1^2 + 10γ^2*x2^2 + 3//2*(v^2-1)^2*x3^2)/(μ^5 * γ^2)\n",
    "    Q = -10χ₀ * x2 * T / μ^3 - 168χ₂ * x2 * (x1 - (v^2 - 1)x3)/(γ * μ^5)\n",
    "\n",
    "    f₁ = 4//3 * ρ*γ^2*v + γ*Q*(1+v^2)+ τ*v\n",
    "    f₂ = 4//3 * ρ*(γ^2*v^2 + 1//4) + 2v*γ*Q + τ\n",
    "    f₃ = -χ₁*γ*v*(6*γ^2 - 1)/μ^3/T - 12χ₂*(v*(6γ^2 - 1)*x1 + (6γ^2*(2v^2 + 1)-1)*x2 + v*(v^2+2)*x3)/μ^4\n",
    "    f₄ = -χ₁*γ*(6γ^2*v^2+1)/μ^3/T - 12χ₂*((6γ^2*v+1)*x1 + v*(6γ^2*(1+v^2)+1)*x2 + (2v^2+1)*x3)/μ^4\n",
    "    f₅ = -3χ₁*γ*v*(2γ^2*v^2+1)/μ^3 - 12χ₂*(v*(6γ^2*v^2+3)*x1 +3*(1+6γ^2*v^2)*x2 + 3v*x3)/μ^4\n",
    "    \n",
    "    return [f₁;f₂;f₃;f₄;f₅]\n",
    "end"
   ]
  },
  {
   "cell_type": "code",
   "execution_count": 20,
   "metadata": {},
   "outputs": [
    {
     "data": {
      "text/plain": [
       "5-element Array{Float64,1}:\n",
       "  0.0\n",
       "  8.881784197001252e-16\n",
       "  0.0\n",
       "  0.0\n",
       " -0.05709153436369396"
      ]
     },
     "execution_count": 20,
     "metadata": {},
     "output_type": "execute_result"
    }
   ],
   "source": [
    "χ = [- 1.; - 2.; - 10.]\n",
    "flu = [- 5.; 0.5; 2.1; 0.5; 5.1]\n",
    "Flu = [5.921317694643806; 6.02302807825841; 3.713391378258412;  4.136735467078638; 3.444079555898864]\n",
    "\n",
    "Flux(flu,χ) - Flu"
   ]
  },
  {
   "cell_type": "code",
   "execution_count": 16,
   "metadata": {},
   "outputs": [
    {
     "data": {
      "text/plain": [
       "1.0"
      ]
     },
     "execution_count": 16,
     "metadata": {},
     "output_type": "execute_result"
    }
   ],
   "source": []
  },
  {
   "cell_type": "code",
   "execution_count": null,
   "metadata": {},
   "outputs": [],
   "source": []
  }
 ],
 "metadata": {
  "kernelspec": {
   "display_name": "Julia 1.5.3",
   "language": "julia",
   "name": "julia-1.5"
  },
  "language_info": {
   "file_extension": ".jl",
   "mimetype": "application/julia",
   "name": "julia",
   "version": "1.5.3"
  },
  "latex_envs": {
   "LaTeX_envs_menu_present": true,
   "autoclose": false,
   "autocomplete": true,
   "bibliofile": "biblio.bib",
   "cite_by": "apalike",
   "current_citInitial": 1,
   "eqLabelWithNumbers": true,
   "eqNumInitial": 1,
   "hotkeys": {
    "equation": "Ctrl-E",
    "itemize": "Ctrl-I"
   },
   "labels_anchors": false,
   "latex_user_defs": false,
   "report_style_numbering": false,
   "user_envs_cfg": false
  }
 },
 "nbformat": 4,
 "nbformat_minor": 4
}
