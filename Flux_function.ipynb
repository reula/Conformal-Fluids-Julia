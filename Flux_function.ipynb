{
 "cells": [
  {
   "cell_type": "markdown",
   "metadata": {},
   "source": [
    "## Fluxes\n",
    "\n",
    "\\begin{eqnarray*}\n",
    "    S &=& \\frac{4}{3}\\rho\\gamma^2 v + \\gamma\\left(v^2 + 1\\right)Q + \\tau v \\nonumber \\\\\n",
    "    f_T &=& \\frac{4}{3}\\rho\\left(\\gamma^2v^2 + \\frac{1}{4}\\right) + 2v\\gamma Q + \\tau \\nonumber \\\\\n",
    "    f_A^o &=& \\frac{\\chi_1\\sqrt{-\\mu}\\gamma v}{\\mu^3} \\left(6 \\gamma^2 - 1\\right) - \\frac{12\\chi_2}{\\mu^4}\n",
    "    \\left[v \\left(6\\gamma^2 - 1\\right) X_1 + \\left(6\\gamma^2 \\left(2v^2 + 1\\right) - 1\\right) X_2 + v \\left(v^2 + 2\\right) X_3\\right]\\nonumber \\\\\n",
    "    f_A^1 &=& \\frac{\\chi_1\\sqrt{-\\mu}\\gamma}{\\mu^3} \\left(6\\gamma^2 v^2 + 1\\right) - \\frac{12\\chi_2}{\\mu^4} \\left[\\left(6\\gamma^2 v + 1\\right) X_1 + v \\left(6\\gamma^2 \\left(1 + v^2\\right) + 1\\right) X_2 + \\left(2v^2 + 1\\right) X_3\\right]\\nonumber \\\\\n",
    "    f_A^2 &=& \\frac{3\\chi_1\\sqrt{-\\mu}\\gamma v}{\\mu^3} \\left(2 \\gamma^2 v^2 + 1\\right) - \\frac{12\\chi_2}{\\mu^4} \\left[v\\left(6 \\gamma^2 v^2 + 3\\right) X_1 + 3 \\left(1 + 6\\gamma^2 v^2\\right) X_2 + 3 v X_3\\right]\n",
    "\\end{eqnarray*}"
   ]
  },
  {
   "cell_type": "code",
   "execution_count": 2,
   "metadata": {},
   "outputs": [
    {
     "data": {
      "text/plain": [
       "Flux (generic function with 1 method)"
      ]
     },
     "execution_count": 2,
     "metadata": {},
     "output_type": "execute_result"
    }
   ],
   "source": [
    "function Flux(flu,χ)\n",
    "    μ = -flu[1]  # esto es -μ\n",
    "    #μ = view(flu,1)\n",
    "    T = (μ)^(-1//2) # use μ positive, so I changed μ -> -μ\n",
    "    v = flu[2]\n",
    "    x1 = flu[3]\n",
    "    x2 = flu[4]\n",
    "    x3 = flu[5]\n",
    "    χ₀ = χ[1]\n",
    "    χ₁ = χ[2]\n",
    "    χ₂ = χ[3]\n",
    "    γ = (1 - v^2)^(-1//2)\n",
    "    τ = -2χ₁ * x3 * T / (γ*μ^3) - 24χ₂*(1//2*(1-v^2)x3^2 + 14//3 * x2^2 + 7/5*(1-v^2)x1*x3)/μ^5\n",
    "    ρ = -6χ₀ / μ^2 - 6χ₁*x1/(γ * μ^4 * T) - 42χ₂*(6//5 *x1^2 + 10γ^2*x2^2 + 3//2*(v^2-1)^2*x3^2)/(μ^5 * γ^2)\n",
    "    Q = -10χ₀ * x2 * T / μ^3 - 168χ₂ * x2 * (x1 - (v^2 - 1)x3)/(γ * μ^5)\n",
    "\n",
    "    f₁ = 4//3 * ρ*γ^2*v + γ*Q*(1+v^2)+ τ*v\n",
    "    f₂ = 4//3 * ρ*(γ^2*v^2 + 1//4) + 2v*γ*Q + τ\n",
    "    f₃ = -χ₁*γ*v*(6*γ^2 - 1)/μ^3/T - 12χ₂*(v*(6γ^2 - 1)*x1 + (6γ^2*(2v^2 + 1)-1)*x2 + v*(v^2+2)*x3)/μ^4\n",
    "    f₄ = -χ₁*γ*(6γ^2*v^2+1)/μ^3/T - 12χ₂*((6γ^2*v+1)*x1 + v*(6γ^2*(1+v^2)+1)*x2 + (2v^2+1)*x3)/μ^4\n",
    "    f₅ = -3χ₁*γ*v*(2γ^2*v^2+1)/μ^3/T - 12χ₂*(v*(6γ^2*v^2+3)*x1 +3*(1+6γ^2*v^2)*x2 + 3v*x3)/μ^4\n",
    "    return [f₁;f₂;f₃;f₄;f₅]\n",
    "end"
   ]
  },
  {
   "cell_type": "code",
   "execution_count": 3,
   "metadata": {},
   "outputs": [
    {
     "data": {
      "text/plain": [
       "5-element Array{Float64,1}:\n",
       " 0.0\n",
       " 8.881784197001252e-16\n",
       " 0.0\n",
       " 0.0\n",
       " 4.440892098500626e-16"
      ]
     },
     "execution_count": 3,
     "metadata": {},
     "output_type": "execute_result"
    }
   ],
   "source": [
    "χ = [- 1.; - 2.; - 10.]\n",
    "flu = [- 5.; 0.5; 2.1; 0.5; 5.1]\n",
    "Flu = [5.921317694643806; 6.02302807825841; 3.713391378258412;  4.136735467078638; 3.444079555898864]\n",
    "\n",
    "Flux(flu,χ) - Flu"
   ]
  },
  {
   "cell_type": "markdown",
   "metadata": {},
   "source": [
    "\\begin{eqnarray*}\n",
    "    I^o &=& - \\frac{2\\left(\\gamma^2 - 1/4\\right)}{5 \\gamma \\lambda \\sqrt{-\\mu}} X_1 - \\frac{2\\gamma v \\sqrt{-\\mu}}{\\kappa} X_2 - \\frac{v^2}{\\gamma\\lambda \\sqrt{-\\mu}} X_3 \\nonumber \\\\\n",
    "    I^1 &=& - \\frac{2\\gamma v}{5 \\lambda \\sqrt{-\\mu}} X_1 - \\frac{\\gamma (v^2 + 1) \\sqrt{-\\mu}}{\\kappa} X_2 - \\frac{v}{\\gamma\\lambda \\sqrt{-\\mu}} X_3 \\nonumber \\\\\n",
    "    I^2 &=& - \\frac{2\\left(\\gamma^2 v^2 + 1/4\\right)}{5 \\gamma \\lambda \\sqrt{-\\mu}} X_1 - \\frac{2\\gamma v \\sqrt{-\\mu}}{\\kappa} X_2 - \\frac{X_3}{\\gamma\\lambda \\sqrt{-\\mu}}\n",
    "\\end{eqnarray*}\n"
   ]
  },
  {
   "cell_type": "code",
   "execution_count": 4,
   "metadata": {},
   "outputs": [
    {
     "data": {
      "text/plain": [
       "Is! (generic function with 1 method)"
      ]
     },
     "execution_count": 4,
     "metadata": {},
     "output_type": "execute_result"
    }
   ],
   "source": [
    "function Is!(flu,Is,par)\n",
    "    λ, κ = par\n",
    "    μ = -flu[1]  # esto es -μ\n",
    "    #μ = view(flu,1)\n",
    "    T = (μ)^(-1//2) # use μ positive, so I changed μ -> -μ\n",
    "    v = flu[2]\n",
    "    x1 = flu[3]\n",
    "    x2 = flu[4]\n",
    "    x3 = flu[5]\n",
    "    γ = (1 - v^2)^(-1//2)\n",
    "    Is[1] = 0.\n",
    "    Is[2] = 0.\n",
    "    Is[3] = -2//5*(γ^2-1//4)*T*x1/(γ*λ) - 2γ*v*x2/T/κ - v^2*T*x3/(γ*λ)\n",
    "    Is[4] = -2//5*γ*v*T*x1/λ - γ*(v^2+1)*x2/T/κ - v*T*x3/(γ*λ)\n",
    "    Is[5] = -2//5*(γ^2*v^2+1//4)*T*x1/λ/γ - 2γ*v*x2/T/κ - T*x3/(γ*λ)\n",
    "    return Is\n",
    "end"
   ]
  },
  {
   "cell_type": "markdown",
   "metadata": {},
   "source": [
    "obtuve los siguientes valores para los coef's de transporte,\n",
    "lambda = 49.735919716217296\n",
    "kappa = 16.578639905405765\n",
    "y los siguientes para la fuente:\n",
    "I_0 = - 0.09488575328013785\n",
    "I_1 = - 0.12155655385334033\n",
    "I_2 = - 0.12140081195218293"
   ]
  },
  {
   "cell_type": "code",
   "execution_count": 6,
   "metadata": {},
   "outputs": [
    {
     "data": {
      "text/plain": [
       "5-element Array{Float64,1}:\n",
       " 0.0\n",
       " 0.0\n",
       " 0.0\n",
       " 0.0\n",
       " 0.0"
      ]
     },
     "execution_count": 6,
     "metadata": {},
     "output_type": "execute_result"
    }
   ],
   "source": [
    "Is = zeros(5)\n",
    "par = (49.735919716217296,16.578639905405765)\n",
    "I_c = [0.; 0.; - 0.09488575328013785; - 0.12155655385334033; - 0.12140081195218293]\n",
    "Is!(flu,Is,par) - I_c"
   ]
  },
  {
   "cell_type": "code",
   "execution_count": null,
   "metadata": {},
   "outputs": [],
   "source": []
  },
  {
   "cell_type": "code",
   "execution_count": null,
   "metadata": {},
   "outputs": [],
   "source": []
  }
 ],
 "metadata": {
  "kernelspec": {
   "display_name": "Julia 1.6.1",
   "language": "julia",
   "name": "julia-1.6"
  },
  "language_info": {
   "file_extension": ".jl",
   "mimetype": "application/julia",
   "name": "julia",
   "version": "1.6.1"
  },
  "latex_envs": {
   "LaTeX_envs_menu_present": true,
   "autoclose": false,
   "autocomplete": true,
   "bibliofile": "biblio.bib",
   "cite_by": "apalike",
   "current_citInitial": 1,
   "eqLabelWithNumbers": true,
   "eqNumInitial": 1,
   "hotkeys": {
    "equation": "Ctrl-E",
    "itemize": "Ctrl-I"
   },
   "labels_anchors": false,
   "latex_user_defs": false,
   "report_style_numbering": false,
   "user_envs_cfg": false
  }
 },
 "nbformat": 4,
 "nbformat_minor": 4
}
