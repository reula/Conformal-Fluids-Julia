{
 "cells": [
  {
   "cell_type": "code",
   "execution_count": 1,
   "metadata": {},
   "outputs": [
    {
     "name": "stderr",
     "output_type": "stream",
     "text": [
      "\u001b[32m\u001b[1m Activating\u001b[22m\u001b[39m environment at `~/Julia/Fluidos_Conformes/Conf_Fluids/Project.toml`\n",
      "\u001b[32m\u001b[1m   Updating\u001b[22m\u001b[39m registry at `~/.julia/registries/General`\n",
      "######################################################################### 100.0%\n",
      "\u001b[32m\u001b[1m  Resolving\u001b[22m\u001b[39m package versions...\n",
      "\u001b[32m\u001b[1mNo Changes\u001b[22m\u001b[39m to `~/Julia/Fluidos_Conformes/Conf_Fluids/Project.toml`\n",
      "\u001b[32m\u001b[1mNo Changes\u001b[22m\u001b[39m to `~/Julia/Fluidos_Conformes/Conf_Fluids/Manifest.toml`\n",
      "\u001b[32m\u001b[1m  Resolving\u001b[22m\u001b[39m package versions...\n",
      "\u001b[32m\u001b[1mNo Changes\u001b[22m\u001b[39m to `~/Julia/Fluidos_Conformes/Conf_Fluids/Project.toml`\n",
      "\u001b[32m\u001b[1mNo Changes\u001b[22m\u001b[39m to `~/Julia/Fluidos_Conformes/Conf_Fluids/Manifest.toml`\n",
      "\u001b[32m\u001b[1m  Resolving\u001b[22m\u001b[39m package versions...\n",
      "\u001b[32m\u001b[1mNo Changes\u001b[22m\u001b[39m to `~/Julia/Fluidos_Conformes/Conf_Fluids/Project.toml`\n",
      "\u001b[32m\u001b[1mNo Changes\u001b[22m\u001b[39m to `~/Julia/Fluidos_Conformes/Conf_Fluids/Manifest.toml`\n"
     ]
    }
   ],
   "source": [
    "import Pkg; \n",
    "#Pkg.generate(\"Conf_Fluids\")\n",
    "Pkg.activate(\"Conf_Fluids\")\n",
    "Pkg.add(\"Symbolics\")\n",
    "Pkg.add(\"StaticArrays\")\n",
    "Pkg.add(\"SymbolicUtils\")\n",
    "using Symbolics\n",
    "using StaticArrays\n",
    "#using SymbolicUtils"
   ]
  },
  {
   "cell_type": "code",
   "execution_count": 88,
   "metadata": {},
   "outputs": [
    {
     "data": {
      "text/latex": [
       "$-10flu₄*χ₁*(flu₁^-0.5)*((flu₁^3)^-1) - ((168//1)*flu₄*χ₃*(flu₁^-5)*(flu₃ - (flu₅*(flu₂^2 - 1)))*((1 - (flu₂^2))^0.5))$"
      ],
      "text/plain": [
       "-10flu₄*χ₁*(flu₁^-0.5)*((flu₁^3)^-1) - ((168//1)*flu₄*χ₃*(flu₁^-5)*(flu₃ - (flu₅*(flu₂^2 - 1)))*((1 - (flu₂^2))^0.5))"
      ]
     },
     "execution_count": 88,
     "metadata": {},
     "output_type": "execute_result"
    }
   ],
   "source": [
    "N=5\n",
    "\n",
    "f = Dict(:μ => 1, :v => 2, :x1 => 3, :x2 => 4,:x3 => 5) #para acordarse de que campo asignamos a cada componente del vector\n",
    "c = Dict(:e => 1, :s => 2, :c1 => 3, :c2 => 4,:c3 => 5)\n",
    "@variables flu[1:N], con[1:N], χ[1:3] #variables para manipulación algebraica\n",
    "#@variables χ₀, χ₁, χ₂\n",
    "#@variables \n",
    "\n",
    "μ = flu[f[:μ]]  # esto es -μ\n",
    "T = (μ)^(-1//2) # use μ positive, so I changed μ -> -μ\n",
    "v = flu[f[:v]]\n",
    "χ₀ = χ[1]\n",
    "χ₁ = χ[2]\n",
    "χ₂ = χ[3]\n",
    "x1 = flu[f[:x1]]\n",
    "x2 = flu[f[:x2]]\n",
    "x3 = flu[f[:x3]]\n",
    "γ = (1 - v^2)^(-1//2)\n",
    "τ = -2χ₁ * x3 * T / (γ*μ^3) - 24χ₂*(1//2*(1-v^2)x3^2 + 14//3 * x2^2 + 7//5*(1-v^2)x1*x3)/μ^5\n",
    "ρ = -6χ₀ / μ^2 - 6χ₁*x1/(γ * μ^4 * T) - 42χ₂*(6//5 *x1^2 + 10γ^2*x2^2 + 3//2*(v^2-1)^2*x3^2)/(μ^5 * γ^2)\n",
    "Q = -10χ₀ * x2 * T / μ^3 - 168χ₂ * x2 * (x1 - (v^2 - 1)x3)/(γ * μ^5)"
   ]
  },
  {
   "cell_type": "code",
   "execution_count": 93,
   "metadata": {},
   "outputs": [],
   "source": [
    "A = (-12//1 * χ₂/μ^4)*[3(2γ^2 - 1)  3v*(6γ^2 - 1)    3v^2 ;\n",
    "                v*(6γ^2 - 1)  (6γ^2*(1 + 2v^2) - 1)  v*(v^2 + 2) ;\n",
    "                (6γ^2 * v^2 + 1)  v*(6γ^2*(2 + v^2) - 1)  (2v^2 + 1)]\n",
    "Φ₂ = -μ/12/χ₂\n",
    "#Φ₂ = -u[f[:μ]]/12/χ₂\n",
    "#γ = 1/sqrt(1 - u[f[:v]]^2)\n",
    "e = 4//3*ρ*(γ^2 - 1/4) + 2v*γ*Q + v^2*τ\n",
    "s = 4//3*ρ*γ^2*v + (v^2+1)γ*Q + v*τ;"
   ]
  },
  {
   "cell_type": "code",
   "execution_count": 94,
   "metadata": {},
   "outputs": [
    {
     "data": {
      "text/latex": [
       "$-3χ₂*((flu₁^-0.5)^-1)*((flu₁^3)^-1)*((1 - (flu₂^2))^-0.5)*(1 + 6(flu₂^2)*(((1 - (flu₂^2))^-0.5)^2))$"
      ],
      "text/plain": [
       "-3χ₂*((flu₁^-0.5)^-1)*((flu₁^3)^-1)*((1 - (flu₂^2))^-0.5)*(1 + 6(flu₂^2)*(((1 - (flu₂^2))^-0.5)^2))"
      ]
     },
     "execution_count": 94,
     "metadata": {},
     "output_type": "execute_result"
    }
   ],
   "source": [
    "Y1 = -3χ₁*γ/T/μ^3 *(2γ^2 - 1)\n",
    "Y2 = -3χ₁*γ/T/μ^3 *v*(6γ^2 - 1)\n",
    "Y3 = -3χ₁*γ/T/μ^3 *(6γ^2*v^2 + 1)"
   ]
  },
  {
   "cell_type": "code",
   "execution_count": 91,
   "metadata": {},
   "outputs": [
    {
     "data": {
      "text/plain": [
       "F (generic function with 1 method)"
      ]
     },
     "execution_count": 91,
     "metadata": {},
     "output_type": "execute_result"
    }
   ],
   "source": [
    "function F(flu,con,χ)\n",
    "    \n",
    "    return  [- con[c[:e]] + 4//3* ρ*(γ^2 - 1//4) + 2//1* Q*γ*v + τ*v^2;\n",
    "             - con[c[:s]] + 4//3* ρ*γ^2*v + Q*γ*(v^2 + 1//1) + τ*v;\n",
    "             - con[c[:c1]] + A[1,1]*x1 + A[1,2]*x2 + A[1,3]*x3 + Y1;\n",
    "             - con[c[:c2]] + A[2,1]*x1 + A[2,2]*x2 + A[2,3]*x3 + Y2;\n",
    "             - con[c[:c3]] + A[3,1]*x1 + A[3,2]*x2 + A[3,3]*x3 + Y3]\n",
    "end"
   ]
  },
  {
   "cell_type": "code",
   "execution_count": 92,
   "metadata": {},
   "outputs": [
    {
     "data": {
      "text/latex": [
       "\\begin{equation}\n",
       "\\left[\n",
       "\\begin{array}{c}\n",
       "(flu₂^2)*(-24χ₃*((14//3)*(flu₄^2) + (1//2)*(flu₅^2)*(1 - (flu₂^2)) + (7//5)*flu₃*flu₅*(1 - (flu₂^2)))*((flu₁^5)^-1) - ((2//1)*flu₅*χ₂*(flu₁^-3.5)*((1 - (flu₂^2))^0.5))) + (4//3)*(((1 - (flu₂^2))^-0.5)^2 - (1//4))*(-6χ₁*((flu₁^2)^-1) - ((6//1)*flu₃*χ₂*(flu₁^-3.5)*((1 - (flu₂^2))^0.5)) - ((42//1)*χ₃*((6//5)*(flu₃^2) + 10(flu₄^2)*(((1 - (flu₂^2))^-0.5)^2) + (3//2)*(flu₅^2)*((flu₂^2 - 1)^2))*(flu₁^-5)*(((1 - (flu₂^2))^-0.5)^-2))) + (2//1)*flu₂*((1 - (flu₂^2))^-0.5)*(-10flu₄*χ₁*(flu₁^-0.5)*((flu₁^3)^-1) - ((168//1)*flu₄*χ₃*(flu₁^-5)*(flu₃ - (flu₅*(flu₂^2 - 1)))*((1 - (flu₂^2))^0.5))) - 1 \\\\\n",
       "flu₂*(-24χ₃*((14//3)*(flu₄^2) + (1//2)*(flu₅^2)*(1 - (flu₂^2)) + (7//5)*flu₃*flu₅*(1 - (flu₂^2)))*((flu₁^5)^-1) - ((2//1)*flu₅*χ₂*(flu₁^-3.5)*((1 - (flu₂^2))^0.5))) + ((1//1) + flu₂^2)*((1 - (flu₂^2))^-0.5)*(-10flu₄*χ₁*(flu₁^-0.5)*((flu₁^3)^-1) - ((168//1)*flu₄*χ₃*(flu₁^-5)*(flu₃ - (flu₅*(flu₂^2 - 1)))*((1 - (flu₂^2))^0.5))) + (4//3)*flu₂*(-6χ₁*((flu₁^2)^-1) - ((6//1)*flu₃*χ₂*(flu₁^-3.5)*((1 - (flu₂^2))^0.5)) - ((42//1)*χ₃*((6//5)*(flu₃^2) + 10(flu₄^2)*(((1 - (flu₂^2))^-0.5)^2) + (3//2)*(flu₅^2)*((flu₂^2 - 1)^2))*(flu₁^-5)*(((1 - (flu₂^2))^-0.5)^-2)))*(((1 - (flu₂^2))^-0.5)^2) - 2 \\\\\n",
       "3χ₂*((flu₁^-0.5)^-1)*((flu₁^3)^-1)*((1 - (flu₂^2))^-0.5)*(2(((1 - (flu₂^2))^-0.5)^2) - 1) - 2 - ((36//1)*flu₃*χ₃*((flu₁^4)^-1)*(2(((1 - (flu₂^2))^-0.5)^2) - 1)) - ((36//1)*flu₅*χ₃*(flu₂^2)*((flu₁^4)^-1)) - ((36//1)*flu₂*flu₄*χ₃*((flu₁^4)^-1)*(6(((1 - (flu₂^2))^-0.5)^2) - 1)) \\\\\n",
       "3flu₂*χ₂*((flu₁^-0.5)^-1)*((flu₁^3)^-1)*((1 - (flu₂^2))^-0.5)*(6(((1 - (flu₂^2))^-0.5)^2) - 1) - 2 - ((12//1)*flu₄*χ₃*((flu₁^4)^-1)*(6(1 + 2(flu₂^2))*(((1 - (flu₂^2))^-0.5)^2) - 1)) - ((12//1)*flu₂*flu₃*χ₃*((flu₁^4)^-1)*(6(((1 - (flu₂^2))^-0.5)^2) - 1)) - ((12//1)*flu₂*flu₅*χ₃*((flu₁^4)^-1)*(2 + flu₂^2)) \\\\\n",
       "3χ₂*((flu₁^-0.5)^-1)*((flu₁^3)^-1)*((1 - (flu₂^2))^-0.5)*(1 + 6(flu₂^2)*(((1 - (flu₂^2))^-0.5)^2)) - 2 - ((12//1)*flu₃*χ₃*((flu₁^4)^-1)*(1 + 6(flu₂^2)*(((1 - (flu₂^2))^-0.5)^2))) - ((12//1)*flu₅*χ₃*((flu₁^4)^-1)*(1 + 2(flu₂^2))) - ((12//1)*flu₂*flu₄*χ₃*((flu₁^4)^-1)*(6(2 + flu₂^2)*(((1 - (flu₂^2))^-0.5)^2) - 1)) \\\\\n",
       "\\end{array}\n",
       "\\right]\n",
       "\\end{equation}\n"
      ],
      "text/plain": [
       "5-element Array{Num,1}:\n",
       "      (flu₂^2)*(-24χ₃*((14//3)*(flu₄^2) + (1//2)*(flu₅^2)*(1 - (flu₂^2)) + (7//5)*flu₃*flu₅*(1 - (flu₂^2)))*((flu₁^5)^-1) - ((2//1)*flu₅*χ₂*(flu₁^-3.5)*((1 - (flu₂^2))^0.5))) + (4//3)*(((1 - (flu₂^2))^-0.5)^2 - (1//4))*(-6χ₁*((flu₁^2)^-1) - ((6//1)*flu₃*χ₂*(flu₁^-3.5)*((1 - (flu₂^2))^0.5)) - ((42//1)*χ₃*((6//5)*(flu₃^2) + 10(flu₄^2)*(((1 - (flu₂^2))^-0.5)^2) + (3//2)*(flu₅^2)*((flu₂^2 - 1)^2))*(flu₁^-5)*(((1 - (flu₂^2))^-0.5)^-2))) + (2//1)*flu₂*((1 - (flu₂^2))^-0.5)*(-10flu₄*χ₁*(flu₁^-0.5)*((flu₁^3)^-1) - ((168//1)*flu₄*χ₃*(flu₁^-5)*(flu₃ - (flu₅*(flu₂^2 - 1)))*((1 - (flu₂^2))^0.5))) - 1\n",
       "       flu₂*(-24χ₃*((14//3)*(flu₄^2) + (1//2)*(flu₅^2)*(1 - (flu₂^2)) + (7//5)*flu₃*flu₅*(1 - (flu₂^2)))*((flu₁^5)^-1) - ((2//1)*flu₅*χ₂*(flu₁^-3.5)*((1 - (flu₂^2))^0.5))) + ((1//1) + flu₂^2)*((1 - (flu₂^2))^-0.5)*(-10flu₄*χ₁*(flu₁^-0.5)*((flu₁^3)^-1) - ((168//1)*flu₄*χ₃*(flu₁^-5)*(flu₃ - (flu₅*(flu₂^2 - 1)))*((1 - (flu₂^2))^0.5))) + (4//3)*flu₂*(-6χ₁*((flu₁^2)^-1) - ((6//1)*flu₃*χ₂*(flu₁^-3.5)*((1 - (flu₂^2))^0.5)) - ((42//1)*χ₃*((6//5)*(flu₃^2) + 10(flu₄^2)*(((1 - (flu₂^2))^-0.5)^2) + (3//2)*(flu₅^2)*((flu₂^2 - 1)^2))*(flu₁^-5)*(((1 - (flu₂^2))^-0.5)^-2)))*(((1 - (flu₂^2))^-0.5)^2) - 2\n",
       " 3χ₂*((flu₁^-0.5)^-1)*((flu₁^3)^-1)*((1 - (flu₂^2))^-0.5)*(2(((1 - (flu₂^2))^-0.5)^2) - 1) - 2 - ((36//1)*flu₃*χ₃*((flu₁^4)^-1)*(2(((1 - (flu₂^2))^-0.5)^2) - 1)) - ((36//1)*flu₅*χ₃*(flu₂^2)*((flu₁^4)^-1)) - ((36//1)*flu₂*flu₄*χ₃*((flu₁^4)^-1)*(6(((1 - (flu₂^2))^-0.5)^2) - 1))\n",
       "      3flu₂*χ₂*((flu₁^-0.5)^-1)*((flu₁^3)^-1)*((1 - (flu₂^2))^-0.5)*(6(((1 - (flu₂^2))^-0.5)^2) - 1) - 2 - ((12//1)*flu₄*χ₃*((flu₁^4)^-1)*(6(1 + 2(flu₂^2))*(((1 - (flu₂^2))^-0.5)^2) - 1)) - ((12//1)*flu₂*flu₃*χ₃*((flu₁^4)^-1)*(6(((1 - (flu₂^2))^-0.5)^2) - 1)) - ((12//1)*flu₂*flu₅*χ₃*((flu₁^4)^-1)*(2 + flu₂^2))\n",
       " 3χ₂*((flu₁^-0.5)^-1)*((flu₁^3)^-1)*((1 - (flu₂^2))^-0.5)*(1 + 6(flu₂^2)*(((1 - (flu₂^2))^-0.5)^2)) - 2 - ((12//1)*flu₃*χ₃*((flu₁^4)^-1)*(1 + 6(flu₂^2)*(((1 - (flu₂^2))^-0.5)^2))) - ((12//1)*flu₅*χ₃*((flu₁^4)^-1)*(1 + 2(flu₂^2))) - ((12//1)*flu₂*flu₄*χ₃*((flu₁^4)^-1)*(6(2 + flu₂^2)*(((1 - (flu₂^2))^-0.5)^2) - 1))"
      ]
     },
     "execution_count": 92,
     "metadata": {},
     "output_type": "execute_result"
    }
   ],
   "source": [
    "F(flu,con,χ);\n",
    "eval(F([1;0.2;1;1;1],[1;2;2;2;2],[1;1;1]))"
   ]
  },
  {
   "cell_type": "code",
   "execution_count": 53,
   "metadata": {},
   "outputs": [],
   "source": [
    "JS = Symbolics.jacobian(F(flu,con,χ),flu);"
   ]
  },
  {
   "cell_type": "code",
   "execution_count": 54,
   "metadata": {},
   "outputs": [],
   "source": [
    "#JSinv_p = inv(JS);"
   ]
  },
  {
   "cell_type": "code",
   "execution_count": 55,
   "metadata": {},
   "outputs": [],
   "source": [
    "#JSinv = simplify(JSinv_p);"
   ]
  },
  {
   "cell_type": "code",
   "execution_count": 56,
   "metadata": {},
   "outputs": [],
   "source": [
    "#simplify(JS[1,1])"
   ]
  },
  {
   "cell_type": "code",
   "execution_count": 57,
   "metadata": {},
   "outputs": [],
   "source": [
    "#simplify.(substitute.(JS, (Dict(flu[2]^2 => (1-1/γₐ^2)),)))"
   ]
  },
  {
   "cell_type": "code",
   "execution_count": 58,
   "metadata": {},
   "outputs": [],
   "source": [
    "J_exp = Symbolics.build_function(JS, flu, con, χ);"
   ]
  },
  {
   "cell_type": "code",
   "execution_count": 59,
   "metadata": {},
   "outputs": [],
   "source": [
    "Jac = eval(J_exp[1]);"
   ]
  },
  {
   "cell_type": "code",
   "execution_count": 60,
   "metadata": {},
   "outputs": [],
   "source": [
    "Jac(rand(5),rand(5),rand(3));"
   ]
  },
  {
   "cell_type": "code",
   "execution_count": 61,
   "metadata": {},
   "outputs": [
    {
     "data": {
      "text/plain": [
       ":(function (var\"##arg#468\", var\"##arg#469\", var\"##arg#470\")\n",
       "      #= /Users/reula/.julia/packages/SymbolicUtils/aNxjZ/src/code.jl:279 =#\n",
       "      #= /Users/reula/.julia/packages/SymbolicUtils/aNxjZ/src/code.jl:280 =#\n",
       "      let flu₁ = var\"##arg#468\"[1], flu₂ = var\"##arg#468\"[2], flu₃ = var\"##arg#468\"[3], flu₄ = var\"##arg#468\"[4], flu₅ = var\"##arg#468\"[5], con₁ = var\"##arg#469\"[1], con₂ = var\"##arg#469\"[2], con₃ = var\"##arg#469\"[3], con₄ = var\"##arg#469\"[4], con₅ = var\"##arg#469\"[5], χ₁ = var\"##arg#470\"[1], χ₂ = var\"##arg#470\"[2], χ₃ = var\"##arg#470\"[3]\n",
       "          F\n",
       "      end\n",
       "  end)"
      ]
     },
     "execution_count": 61,
     "metadata": {},
     "output_type": "execute_result"
    }
   ],
   "source": [
    "F_exp  = Symbolics.build_function(F, flu, con, χ)"
   ]
  },
  {
   "cell_type": "code",
   "execution_count": 75,
   "metadata": {},
   "outputs": [
    {
     "ename": "LoadError",
     "evalue": "\u001b[91mMethodError: no method matching getindex(::Expr, ::Int64)\u001b[39m",
     "output_type": "error",
     "traceback": [
      "\u001b[91mMethodError: no method matching getindex(::Expr, ::Int64)\u001b[39m",
      "",
      "Stacktrace:",
      " [1] top-level scope at In[75]:1",
      " [2] include_string(::Function, ::Module, ::String, ::String) at ./loading.jl:1091"
     ]
    }
   ],
   "source": [
    "Fac = eval(F_exp[1]);"
   ]
  },
  {
   "cell_type": "code",
   "execution_count": 63,
   "metadata": {},
   "outputs": [
    {
     "data": {
      "text/plain": [
       "NR_step! (generic function with 1 method)"
      ]
     },
     "execution_count": 63,
     "metadata": {},
     "output_type": "execute_result"
    }
   ],
   "source": [
    "function NR_step!(F, Jac, u0, y, p)\n",
    "    u = u0 - Jac(u0,y, p) \\ F(u0,y,p)\n",
    "end"
   ]
  },
  {
   "cell_type": "code",
   "execution_count": 64,
   "metadata": {},
   "outputs": [
    {
     "data": {
      "text/plain": [
       "5×5 SArray{Tuple{5,5},Float64,2,25} with indices SOneTo(5)×SOneTo(5):\n",
       " 60207.6   -14113.5    -631.086   -4550.25    -919.769\n",
       " 45518.7   -15891.2    -861.5     -2956.59    -926.916\n",
       "  1366.89   -1199.79    -43.1209    -60.4088    -3.24\n",
       "  1600.18    -904.322   -20.1363    -81.3626    -7.524\n",
       "  1159.78    -962.266   -19.1209    -46.0088   -14.16"
      ]
     },
     "execution_count": 64,
     "metadata": {},
     "output_type": "execute_result"
    }
   ],
   "source": [
    "p = [1,1,1]\n",
    "u0 = @SVector[1.0, 0.30, 2.0, 4.0, 5.0]\n",
    "y = F(u0,[0,0,0,0,0],p)\n",
    "\n",
    "F(u0,y .+0.005.*rand(5),p);\n",
    "\n",
    "Jac(u0,y .+0.005.*rand(5),p)"
   ]
  },
  {
   "cell_type": "code",
   "execution_count": 65,
   "metadata": {},
   "outputs": [
    {
     "data": {
      "text/latex": [
       "\\begin{equation}\n",
       "\\left[\n",
       "\\begin{array}{c}\n",
       "1.0 \\\\\n",
       "0.3 \\\\\n",
       "2.0 \\\\\n",
       "4.0 \\\\\n",
       "5.0 \\\\\n",
       "\\end{array}\n",
       "\\right]\n",
       "\\end{equation}\n"
      ],
      "text/plain": [
       "5-element SArray{Tuple{5},Num,1,5} with indices SOneTo(5):\n",
       " 1.0\n",
       " 0.3\n",
       " 2.0\n",
       " 4.0\n",
       " 5.0"
      ]
     },
     "execution_count": 65,
     "metadata": {},
     "output_type": "execute_result"
    }
   ],
   "source": [
    "ui = @SVector[1.0, 0.30, 3.0, 4.0, 3.0]\n",
    "NR_step!(F, Jac, u0, y, p)"
   ]
  },
  {
   "cell_type": "code",
   "execution_count": 67,
   "metadata": {},
   "outputs": [
    {
     "name": "stdout",
     "output_type": "stream",
     "text": [
      "Num[1.0, 0.3, 3.0, 4.0, 3.0]\n",
      "Num[0, 0, 0, 0, 0]\n"
     ]
    }
   ],
   "source": [
    "#u0 = @SVector[1.0, 0.30, 3.0, 4.0, 3.0]\n",
    "u0 = [1.0; 0.30; 3.0; 4.0; 3.0]\n",
    "for i ∈ 1:25\n",
    "    u0 = NR_step!(F, Jac, u0, y, p)\n",
    "end\n",
    "println(u0)\n",
    "println(F(u0,y,p))"
   ]
  },
  {
   "cell_type": "code",
   "execution_count": 69,
   "metadata": {},
   "outputs": [
    {
     "ename": "LoadError",
     "evalue": "\u001b[91mMethodError: no method matching Float64(::Num)\u001b[39m\n\u001b[91m\u001b[0mClosest candidates are:\u001b[39m\n\u001b[91m\u001b[0m  Float64(::Real, \u001b[91m::RoundingMode\u001b[39m) where T<:AbstractFloat at rounding.jl:200\u001b[39m\n\u001b[91m\u001b[0m  Float64(::T) where T<:Number at boot.jl:716\u001b[39m\n\u001b[91m\u001b[0m  Float64(\u001b[91m::Float32\u001b[39m) at float.jl:255\u001b[39m\n\u001b[91m\u001b[0m  ...\u001b[39m",
     "output_type": "error",
     "traceback": [
      "\u001b[91mMethodError: no method matching Float64(::Num)\u001b[39m\n\u001b[91m\u001b[0mClosest candidates are:\u001b[39m\n\u001b[91m\u001b[0m  Float64(::Real, \u001b[91m::RoundingMode\u001b[39m) where T<:AbstractFloat at rounding.jl:200\u001b[39m\n\u001b[91m\u001b[0m  Float64(::T) where T<:Number at boot.jl:716\u001b[39m\n\u001b[91m\u001b[0m  Float64(\u001b[91m::Float32\u001b[39m) at float.jl:255\u001b[39m\n\u001b[91m\u001b[0m  ...\u001b[39m",
      "",
      "Stacktrace:",
      " [1] convert(::Type{Float64}, ::Num) at ./number.jl:7",
      " [2] setindex! at ./array.jl:849 [inlined]",
      " [3] macro expansion at ./multidimensional.jl:802 [inlined]",
      " [4] macro expansion at ./cartesian.jl:64 [inlined]",
      " [5] macro expansion at ./multidimensional.jl:797 [inlined]",
      " [6] _unsafe_setindex! at ./multidimensional.jl:789 [inlined]",
      " [7] _setindex! at ./multidimensional.jl:785 [inlined]",
      " [8] setindex!(::Array{Float64,2}, ::Array{Num,1}, ::Function, ::Int64) at ./abstractarray.jl:1153",
      " [9] top-level scope at ./In[69]:5",
      " [10] include_string(::Function, ::Module, ::String, ::String) at ./loading.jl:1091"
     ]
    }
   ],
   "source": [
    "M = 10^3\n",
    "u0 = [(i+j)/(N+M) for i ∈ 1:N, j ∈ 1:M]\n",
    "yy = zeros(N,M)\n",
    "for j ∈ 1:M\n",
    "    yy[:,j] = F(u0[:,j],[0,0,0,0,0],p)\n",
    "#    yy[:,j] = convert(Array{Float64,1},F(u0[:,j],yy[:,j],p))\n",
    "end"
   ]
  },
  {
   "cell_type": "code",
   "execution_count": 21,
   "metadata": {},
   "outputs": [
    {
     "ename": "LoadError",
     "evalue": "\u001b[91mMethodError: no method matching F(::Array{Float64,1}, ::Array{Num,1})\u001b[39m\n\u001b[91m\u001b[0mClosest candidates are:\u001b[39m\n\u001b[91m\u001b[0m  F(::Any, ::Any, \u001b[91m::Any\u001b[39m) at In[5]:1\u001b[39m",
     "output_type": "error",
     "traceback": [
      "\u001b[91mMethodError: no method matching F(::Array{Float64,1}, ::Array{Num,1})\u001b[39m\n\u001b[91m\u001b[0mClosest candidates are:\u001b[39m\n\u001b[91m\u001b[0m  F(::Any, ::Any, \u001b[91m::Any\u001b[39m) at In[5]:1\u001b[39m",
      "",
      "Stacktrace:",
      " [1] macro expansion at ./In[21]:7 [inlined]",
      " [2] top-level scope at ./timing.jl:174 [inlined]",
      " [3] top-level scope at ./In[21]:0",
      " [4] include_string(::Function, ::Module, ::String, ::String) at ./loading.jl:1091"
     ]
    }
   ],
   "source": [
    "tol = 10^(-8)\n",
    "iter_max = 10\n",
    "\n",
    "@time begin\n",
    "for j ∈ 1:M\n",
    "    iter = 1\n",
    "    while F(u0[:,j],y[:,j])'*F(u0[:,j],y[:,j]) > tol && iter < iter_max\n",
    "        u0[:,j] = NR_step!(F, Jac_inv, u0[:,j], y[:,j])\n",
    "        iter = iter + 1\n",
    "    end\n",
    "    #println(iter)\n",
    "end\n",
    "end"
   ]
  },
  {
   "cell_type": "code",
   "execution_count": 95,
   "metadata": {},
   "outputs": [
    {
     "data": {
      "text/plain": [
       "3×4 Array{Float64,2}:\n",
       " 0.983844  0.405417  0.795934  0.112736\n",
       " 0.751482  0.826912  0.488306  0.871854\n",
       " 0.757396  0.121172  0.449882  0.241706"
      ]
     },
     "execution_count": 95,
     "metadata": {},
     "output_type": "execute_result"
    }
   ],
   "source": [
    "rand(3,4)"
   ]
  },
  {
   "cell_type": "code",
   "execution_count": null,
   "metadata": {},
   "outputs": [],
   "source": []
  }
 ],
 "metadata": {
  "kernelspec": {
   "display_name": "Julia 1.5.3",
   "language": "julia",
   "name": "julia-1.5"
  },
  "language_info": {
   "file_extension": ".jl",
   "mimetype": "application/julia",
   "name": "julia",
   "version": "1.5.3"
  },
  "latex_envs": {
   "LaTeX_envs_menu_present": true,
   "autoclose": false,
   "autocomplete": true,
   "bibliofile": "biblio.bib",
   "cite_by": "apalike",
   "current_citInitial": 1,
   "eqLabelWithNumbers": true,
   "eqNumInitial": 1,
   "hotkeys": {
    "equation": "Ctrl-E",
    "itemize": "Ctrl-I"
   },
   "labels_anchors": false,
   "latex_user_defs": false,
   "report_style_numbering": false,
   "user_envs_cfg": false
  }
 },
 "nbformat": 4,
 "nbformat_minor": 4
}
