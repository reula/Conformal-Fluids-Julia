{
 "cells": [
  {
   "cell_type": "code",
   "execution_count": 1,
   "metadata": {},
   "outputs": [],
   "source": [
    "using Symbolics"
   ]
  },
  {
   "cell_type": "code",
   "execution_count": 23,
   "metadata": {},
   "outputs": [
    {
     "data": {
      "text/plain": [
       "Flux (generic function with 2 methods)"
      ]
     },
     "execution_count": 23,
     "metadata": {},
     "output_type": "execute_result"
    }
   ],
   "source": [
    "function Flux(flu,par)\n",
    "    χ = par\n",
    "    flux = zeros(5)\n",
    "    μ = flu[1]  \n",
    "    T = (abs(μ))^(-1//2) \n",
    "    v = flu[2]\n",
    "    x1 = flu[3]\n",
    "    x2 = flu[4]\n",
    "    x3 = flu[5]\n",
    "    χ₀ = χ[1]\n",
    "    χ₁ = χ[2]\n",
    "    χ₂ = χ[3]\n",
    "    γ = (1 - v^2)^(-1//2)\n",
    "    τ = 2χ₁ * x3 * T / (γ*μ^3) + 24χ₂*(1//2*(1-v^2)x3^2 + 14//3 * x2^2 + 7/5*(1-v^2)x1*x3)/μ^5\n",
    "    ρ = -6χ₀ / μ^2 - 6χ₁*x1/(γ * μ^4 * T) + 42χ₂*(6//5 *x1^2 + 10γ^2*x2^2 + 3//2*(v^2-1)^2*x3^2)/(μ^5 * γ^2)\n",
    "    Q = 10χ₀ * x2 * T / μ^3 + 168χ₂ * x2 * (x1 - (v^2 - 1)x3)/(γ * μ^5)\n",
    "\n",
    "    flux[1] = 4//3 * ρ*γ^2*v + γ*Q*(1+v^2)+ τ*v\n",
    "    flux[2] = 4//3 * ρ*(γ^2*v^2 + 1//4) + 2v*γ*Q + τ\n",
    "    flux[3] = χ₁*γ*v*(6*γ^2 - 1)/μ^3/T - 12χ₂*(v*(6γ^2 - 1)*x1 + (6γ^2*(2v^2 + 1)-1)*x2 + v*(v^2+2)*x3)/μ^4\n",
    "    flux[4] = χ₁*γ*(6γ^2*v^2+1)/μ^3/T - 12χ₂*((6γ^2*v+1)*x1 + v*(6γ^2*(1+v^2)+1)*x2 + (2v^2+1)*x3)/μ^4\n",
    "    flux[5] = 3χ₁*γ*v*(2γ^2*v^2+1)/μ^3/T - 12χ₂*(v*(6γ^2*v^2+3)*x1 +3*(1+6γ^2*v^2)*x2 + 3v*x3)/μ^4\n",
    "    return -flux[:]\n",
    "end"
   ]
  },
  {
   "cell_type": "code",
   "execution_count": 24,
   "metadata": {},
   "outputs": [
    {
     "ename": "LoadError",
     "evalue": "MethodError: no method matching Float64(::Num)\n\u001b[0mClosest candidates are:\n\u001b[0m  (::Type{T})(::Real, \u001b[91m::RoundingMode\u001b[39m) where T<:AbstractFloat at rounding.jl:200\n\u001b[0m  (::Type{T})(::T) where T<:Number at boot.jl:760\n\u001b[0m  (::Type{T})(\u001b[91m::AbstractChar\u001b[39m) where T<:Union{AbstractChar, Number} at char.jl:50\n\u001b[0m  ...",
     "output_type": "error",
     "traceback": [
      "MethodError: no method matching Float64(::Num)\n\u001b[0mClosest candidates are:\n\u001b[0m  (::Type{T})(::Real, \u001b[91m::RoundingMode\u001b[39m) where T<:AbstractFloat at rounding.jl:200\n\u001b[0m  (::Type{T})(::T) where T<:Number at boot.jl:760\n\u001b[0m  (::Type{T})(\u001b[91m::AbstractChar\u001b[39m) where T<:Union{AbstractChar, Number} at char.jl:50\n\u001b[0m  ...",
      "",
      "Stacktrace:",
      " [1] convert(#unused#::Type{Float64}, x::Num)",
      "   @ Base ./number.jl:7",
      " [2] setindex!(A::Vector{Float64}, x::Num, i1::Int64)",
      "   @ Base ./array.jl:839",
      " [3] Flux(flu::Vector{Num}, par::Vector{Num})",
      "   @ Main ./In[23]:18",
      " [4] top-level scope",
      "   @ In[24]:3",
      " [5] eval",
      "   @ ./boot.jl:360 [inlined]",
      " [6] include_string(mapexpr::typeof(REPL.softscope), mod::Module, code::String, filename::String)",
      "   @ Base ./loading.jl:1094"
     ]
    }
   ],
   "source": [
    "@variables f[1:5], c[1:5], p[1:3]#, fl[1:5]\n",
    "\n",
    "JFS = Symbolics.jacobian(Flux(f,p),f);\n",
    "#JF_exp = Symbolics.build_function(JFS, f, p);\n",
    "#JFac = eval(JF_exp[1]);"
   ]
  },
  {
   "cell_type": "code",
   "execution_count": null,
   "metadata": {},
   "outputs": [],
   "source": []
  }
 ],
 "metadata": {
  "kernelspec": {
   "display_name": "Julia 1.6.0",
   "language": "julia",
   "name": "julia-1.6"
  },
  "language_info": {
   "file_extension": ".jl",
   "mimetype": "application/julia",
   "name": "julia",
   "version": "1.6.1"
  }
 },
 "nbformat": 4,
 "nbformat_minor": 4
}
