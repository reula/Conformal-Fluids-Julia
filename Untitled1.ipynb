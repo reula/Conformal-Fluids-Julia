{
 "cells": [
  {
   "cell_type": "code",
   "execution_count": 1,
   "id": "56c3e245-7b2b-4dce-b2e9-6aa49abc7ef1",
   "metadata": {},
   "outputs": [
    {
     "data": {
      "text/plain": [
       "125"
      ]
     },
     "execution_count": 1,
     "metadata": {},
     "output_type": "execute_result"
    }
   ],
   "source": [
    "a = 5^3"
   ]
  },
  {
   "cell_type": "code",
   "execution_count": 2,
   "id": "e2719a44-8bc9-433d-ad33-2254fca1a421",
   "metadata": {},
   "outputs": [
    {
     "name": "stdout",
     "output_type": "stream",
     "text": [
      "Int64 125\n"
     ]
    }
   ],
   "source": [
    "dump(a)"
   ]
  },
  {
   "cell_type": "code",
   "execution_count": 3,
   "id": "ee87fadf-d83c-4e58-bb28-cbcfde82cc02",
   "metadata": {},
   "outputs": [
    {
     "name": "stdout",
     "output_type": "stream",
     "text": [
      "Int64 125\n"
     ]
    }
   ],
   "source": [
    "a |> dump"
   ]
  },
  {
   "cell_type": "code",
   "execution_count": null,
   "id": "aadf6ab7-620c-4e44-8c20-94197670b96b",
   "metadata": {},
   "outputs": [],
   "source": []
  }
 ],
 "metadata": {
  "kernelspec": {
   "display_name": "Julia 1.6.1",
   "language": "julia",
   "name": "julia-1.6"
  },
  "language_info": {
   "file_extension": ".jl",
   "mimetype": "application/julia",
   "name": "julia",
   "version": "1.6.1"
  }
 },
 "nbformat": 4,
 "nbformat_minor": 5
}
