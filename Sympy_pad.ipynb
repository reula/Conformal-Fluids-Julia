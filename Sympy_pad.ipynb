{
 "cells": [
  {
   "cell_type": "code",
   "execution_count": 1,
   "id": "94e4d1e7-f91e-4f9c-b9bf-c1593473b998",
   "metadata": {},
   "outputs": [
    {
     "name": "stderr",
     "output_type": "stream",
     "text": [
      "┌ Info: Precompiling SymPy [24249f21-da20-56a4-8eb1-6a02cf4ae2e6]\n",
      "└ @ Base loading.jl:1317\n"
     ]
    }
   ],
   "source": [
    "using SymPy"
   ]
  },
  {
   "cell_type": "code",
   "execution_count": 4,
   "id": "7e27bf7b-279f-4577-99e1-be47a3b95216",
   "metadata": {},
   "outputs": [
    {
     "data": {
      "text/plain": [
       "(Sym[p₁, p₂, p₃],)"
      ]
     },
     "execution_count": 4,
     "metadata": {},
     "output_type": "execute_result"
    }
   ],
   "source": [
    "@syms p[1:3]"
   ]
  },
  {
   "cell_type": "code",
   "execution_count": 9,
   "id": "bdb90cd7-6054-48a4-8b56-d4dba9c86048",
   "metadata": {},
   "outputs": [
    {
     "data": {
      "text/latex": [
       "$\\begin{equation*}\\frac{\\frac{6.25 p₁ p₂}{18.75 p₂ - 60.0 p₃} - 0.5 p₁}{p₁}\\end{equation*}$\n"
      ],
      "text/plain": [
       "    6.25⋅p₁⋅p₂             \n",
       "────────────────── - 0.5⋅p₁\n",
       "18.75⋅p₂ - 60.0⋅p₃         \n",
       "───────────────────────────\n",
       "             p₁            "
      ]
     },
     "execution_count": 9,
     "metadata": {},
     "output_type": "execute_result"
    }
   ],
   "source": [
    "P21 = - 1/8*(4.0p[1] - 50.0p[1]*p[2]/(18.75p[2] - 60.0p[3]))/p[1]"
   ]
  },
  {
   "cell_type": "code",
   "execution_count": 10,
   "id": "bc5bba0c-5e0b-4107-b5e7-4adf18a0cc3b",
   "metadata": {},
   "outputs": [
    {
     "data": {
      "text/latex": [
       "$\\begin{equation*}\\frac{5.0 p₂}{18.75 p₂ - 60.0 p₃}\\end{equation*}$\n"
      ],
      "text/plain": [
       "      5.0⋅p₂      \n",
       "──────────────────\n",
       "18.75⋅p₂ - 60.0⋅p₃"
      ]
     },
     "execution_count": 10,
     "metadata": {},
     "output_type": "execute_result"
    }
   ],
   "source": [
    "P41 = 5.0p[2]/(18.75p[2] - 60.0p[3])"
   ]
  },
  {
   "cell_type": "code",
   "execution_count": 13,
   "id": "8783d6d8-c480-479d-9a32-873960ab5b79",
   "metadata": {},
   "outputs": [
    {
     "data": {
      "text/latex": [
       "$\\begin{equation*}-0.625 + \\frac{6.0 p₃}{p₂}\\end{equation*}$\n"
      ],
      "text/plain": [
       "         6.0⋅p₃\n",
       "-0.625 + ──────\n",
       "           p₂  "
      ]
     },
     "execution_count": 13,
     "metadata": {},
     "output_type": "execute_result"
    }
   ],
   "source": [
    "simplify(P21/P41)"
   ]
  },
  {
   "cell_type": "code",
   "execution_count": 27,
   "id": "6fbe1f77-3633-48f3-a224-fb0d4557b44a",
   "metadata": {},
   "outputs": [
    {
     "data": {
      "text/latex": [
       "$\\begin{equation*}\\frac{\\frac{1.25 p₁ \\left(- 12 p₃ - \\frac{3.75 p₂^{2}}{p₁}\\right)}{18.75 p₂ - 60.0 p₃} + 0.25 p₂}{p₁}\\end{equation*}$\n"
      ],
      "text/plain": [
       "        ⎛                2⎞          \n",
       "        ⎜         3.75⋅p₂ ⎟          \n",
       "1.25⋅p₁⋅⎜-12⋅p₃ - ────────⎟          \n",
       "        ⎝            p₁   ⎠          \n",
       "─────────────────────────── + 0.25⋅p₂\n",
       "     18.75⋅p₂ - 60.0⋅p₃              \n",
       "─────────────────────────────────────\n",
       "                  p₁                 "
      ]
     },
     "execution_count": 27,
     "metadata": {},
     "output_type": "execute_result"
    }
   ],
   "source": [
    "P23 = -1/8 * (-2.0p[2] -10p[1]*(-12p[3]-3.75p[2]^2/p[1])/(18.75p[2] - 60.0p[3]))/p[1]"
   ]
  },
  {
   "cell_type": "code",
   "execution_count": 28,
   "id": "dba19838-98f8-4792-ab62-6e075d57e2c8",
   "metadata": {},
   "outputs": [
    {
     "data": {
      "text/latex": [
       "$\\begin{equation*}\\frac{- 12 p₃ - \\frac{3.75 p₂^{2}}{p₁}}{18.75 p₂ - 60.0 p₃}\\end{equation*}$\n"
      ],
      "text/plain": [
       "                2 \n",
       "         3.75⋅p₂  \n",
       "-12⋅p₃ - ──────── \n",
       "            p₁    \n",
       "──────────────────\n",
       "18.75⋅p₂ - 60.0⋅p₃"
      ]
     },
     "execution_count": 28,
     "metadata": {},
     "output_type": "execute_result"
    }
   ],
   "source": [
    "P43 = (-12p[3] - 3.75p[2]^2/p[1])/(18.75p[2] - 60.0p[3])"
   ]
  },
  {
   "cell_type": "code",
   "execution_count": 29,
   "id": "9c16d5b1-c1b0-4c37-a815-8760f18ab0c7",
   "metadata": {},
   "outputs": [
    {
     "data": {
      "text/latex": [
       "$\\begin{equation*}\\frac{15.0 p₃ \\left(p₁ + p₂\\right)}{12.0 p₁ p₃ + 3.75 p₂^{2}}\\end{equation*}$\n"
      ],
      "text/plain": [
       "  15.0⋅p₃⋅(p₁ + p₂)  \n",
       "─────────────────────\n",
       "                    2\n",
       "12.0⋅p₁⋅p₃ + 3.75⋅p₂ "
      ]
     },
     "execution_count": 29,
     "metadata": {},
     "output_type": "execute_result"
    }
   ],
   "source": [
    "simplify(P23/P43)"
   ]
  },
  {
   "cell_type": "code",
   "execution_count": 30,
   "id": "b46266fb-7c94-4100-9ac2-30a4225a2a3e",
   "metadata": {},
   "outputs": [
    {
     "data": {
      "text/latex": [
       "$\\begin{equation*}\\frac{\\frac{1.25 p₁ \\left(- 12 p₃ + \\frac{3.75 p₂^{2}}{p₁}\\right)}{18.75 p₂ - 60.0 p₃} - 0.25 p₂}{p₁}\\end{equation*}$\n"
      ],
      "text/plain": [
       "        ⎛                2⎞          \n",
       "        ⎜         3.75⋅p₂ ⎟          \n",
       "1.25⋅p₁⋅⎜-12⋅p₃ + ────────⎟          \n",
       "        ⎝            p₁   ⎠          \n",
       "─────────────────────────── - 0.25⋅p₂\n",
       "     18.75⋅p₂ - 60.0⋅p₃              \n",
       "─────────────────────────────────────\n",
       "                  p₁                 "
      ]
     },
     "execution_count": 30,
     "metadata": {},
     "output_type": "execute_result"
    }
   ],
   "source": [
    "P25 = -1/8 * (2.0p[2] -10p[1]*(-12p[3]+3.75p[2]^2/p[1])/(18.75p[2] - 60.0p[3]))/p[1]"
   ]
  },
  {
   "cell_type": "code",
   "execution_count": 31,
   "id": "8abbe8f3-93af-4a52-80fa-07d2da8dcde5",
   "metadata": {},
   "outputs": [
    {
     "data": {
      "text/latex": [
       "$\\begin{equation*}\\frac{- 12 p₃ + \\frac{3.75 p₂^{2}}{p₁}}{18.75 p₂ - 60.0 p₃}\\end{equation*}$\n"
      ],
      "text/plain": [
       "                2 \n",
       "         3.75⋅p₂  \n",
       "-12⋅p₃ + ──────── \n",
       "            p₁    \n",
       "──────────────────\n",
       "18.75⋅p₂ - 60.0⋅p₃"
      ]
     },
     "execution_count": 31,
     "metadata": {},
     "output_type": "execute_result"
    }
   ],
   "source": [
    "P45 = (-12p[3] + 3.75p[2]^2/p[1])/(18.75p[2] - 60.0p[3])"
   ]
  },
  {
   "cell_type": "code",
   "execution_count": 32,
   "id": "d5139b47-b9db-4b45-a204-94e3bffa7a9e",
   "metadata": {},
   "outputs": [
    {
     "data": {
      "text/latex": [
       "$\\begin{equation*}\\frac{15.0 p₃ \\left(p₁ - p₂\\right)}{12.0 p₁ p₃ - 3.75 p₂^{2}}\\end{equation*}$\n"
      ],
      "text/plain": [
       "  15.0⋅p₃⋅(p₁ - p₂)  \n",
       "─────────────────────\n",
       "                    2\n",
       "12.0⋅p₁⋅p₃ - 3.75⋅p₂ "
      ]
     },
     "execution_count": 32,
     "metadata": {},
     "output_type": "execute_result"
    }
   ],
   "source": [
    "simplify(P25/P45)"
   ]
  },
  {
   "cell_type": "code",
   "execution_count": null,
   "id": "8ab54111-4ad9-481b-8fa2-3f5541215f9b",
   "metadata": {},
   "outputs": [],
   "source": []
  }
 ],
 "metadata": {
  "kernelspec": {
   "display_name": "Julia 1.6.1",
   "language": "julia",
   "name": "julia-1.6"
  },
  "language_info": {
   "file_extension": ".jl",
   "mimetype": "application/julia",
   "name": "julia",
   "version": "1.6.1"
  }
 },
 "nbformat": 4,
 "nbformat_minor": 5
}
